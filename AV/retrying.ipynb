{
 "cells": [
  {
   "cell_type": "markdown",
   "metadata": {
    "heading_collapsed": true
   },
   "source": [
    "## boring stuff"
   ]
  },
  {
   "cell_type": "code",
   "execution_count": 1,
   "metadata": {
    "ExecuteTime": {
     "end_time": "2018-09-01T08:13:18.792096Z",
     "start_time": "2018-09-01T08:13:18.306531Z"
    },
    "hidden": true
   },
   "outputs": [],
   "source": [
    "%load_ext autoreload\n",
    "%autoreload 2\n",
    "\n",
    "%matplotlib inline"
   ]
  },
  {
   "cell_type": "code",
   "execution_count": 2,
   "metadata": {
    "ExecuteTime": {
     "end_time": "2018-09-01T08:13:20.643702Z",
     "start_time": "2018-09-01T08:13:19.256022Z"
    },
    "hidden": true
   },
   "outputs": [],
   "source": [
    "import time\n",
    "import xgboost as xgb\n",
    "import lightgbm as lgb\n",
    "# import category_encoders as cat_ed\n",
    "import gc, mlcrate, glob\n",
    "\n",
    "# from gplearn.genetic import SymbolicTransformer, SymbolicRegressor\n",
    "from fastai.imports import *\n",
    "from fastai.structured import *\n",
    "from pandas_summary import DataFrameSummary\n",
    "from sklearn.ensemble import RandomForestRegressor, ExtraTreesRegressor\n",
    "from IPython.display import display\n",
    "\n",
    "from catboost import CatBoostRegressor\n",
    "from scipy.cluster import hierarchy as hc\n",
    "from collections import Counter\n",
    "\n",
    "from sklearn import metrics\n",
    "from sklearn.linear_model import LogisticRegression\n",
    "from sklearn.model_selection import train_test_split\n",
    "from sklearn.metrics import mean_squared_error\n",
    "from sklearn.metrics import  roc_auc_score, log_loss\n",
    "from sklearn.model_selection import KFold, StratifiedKFold\n",
    "from sklearn.model_selection import GridSearchCV\n",
    "from sklearn.decomposition import PCA, TruncatedSVD, FastICA, FactorAnalysis\n",
    "from sklearn.random_projection import GaussianRandomProjection, SparseRandomProjection\n",
    "from sklearn.cluster import KMeans\n",
    "\n",
    "from sklearn.metrics import accuracy_score, log_loss\n",
    "from sklearn.neighbors import KNeighborsRegressor\n",
    "from sklearn.tree import DecisionTreeRegressor\n",
    "from sklearn.ensemble import AdaBoostRegressor, GradientBoostingRegressor\n",
    "from sklearn.naive_bayes import GaussianNB\n",
    "from sklearn.discriminant_analysis import QuadraticDiscriminantAnalysis\n",
    "from sklearn.neural_network import MLPRegressor\n",
    "from sklearn.gaussian_process import GaussianProcessRegressor\n",
    "from sklearn.gaussian_process.kernels import RBF\n",
    "\n",
    "# will ignore all warning from sklearn, seaborn etc..\n",
    "def ignore_warn(*args, **kwargs):\n",
    "    pass\n",
    "warnings.warn = ignore_warn\n",
    "\n",
    "pd.option_context(\"display.max_rows\", 1000);\n",
    "pd.option_context(\"display.max_columns\", 1000);"
   ]
  },
  {
   "cell_type": "code",
   "execution_count": 3,
   "metadata": {
    "ExecuteTime": {
     "end_time": "2018-09-01T08:13:20.788402Z",
     "start_time": "2018-09-01T08:13:20.643702Z"
    },
    "hidden": true
   },
   "outputs": [
    {
     "data": {
      "text/plain": [
       "'D:\\\\Github\\\\fastai\\\\courses\\\\ml1\\\\AV_Enigma_ML'"
      ]
     },
     "execution_count": 3,
     "metadata": {},
     "output_type": "execute_result"
    }
   ],
   "source": [
    "PATH = os.getcwd()\n",
    "PATH"
   ]
  },
  {
   "cell_type": "code",
   "execution_count": 5,
   "metadata": {
    "ExecuteTime": {
     "end_time": "2018-09-01T08:13:22.746800Z",
     "start_time": "2018-09-01T08:13:22.033837Z"
    },
    "hidden": true
   },
   "outputs": [],
   "source": [
    "df_raw = pd.read_csv(f'{PATH}\\\\train.csv', low_memory=False)\n",
    "df_test = pd.read_csv(f'{PATH}\\\\test.csv', low_memory=False)\n",
    "target = np.load(f'{PATH}\\\\target.npy')"
   ]
  },
  {
   "cell_type": "code",
   "execution_count": 6,
   "metadata": {
    "ExecuteTime": {
     "end_time": "2018-09-01T08:13:32.260095Z",
     "start_time": "2018-09-01T08:13:32.001994Z"
    },
    "hidden": true
   },
   "outputs": [
    {
     "data": {
      "text/plain": [
       "((330045, 7), (141448, 6), 330045)"
      ]
     },
     "execution_count": 6,
     "metadata": {},
     "output_type": "execute_result"
    }
   ],
   "source": [
    "df_raw.shape, df_test.shape, len(target)"
   ]
  },
  {
   "cell_type": "code",
   "execution_count": 7,
   "metadata": {
    "ExecuteTime": {
     "end_time": "2018-09-01T08:13:32.778492Z",
     "start_time": "2018-09-01T08:13:32.474619Z"
    },
    "hidden": true
   },
   "outputs": [
    {
     "name": "stdout",
     "output_type": "stream",
     "text": [
      "Train: 141802\n",
      "Test: 79351\n",
      "$96388$ Users are featured in train but not in test\n",
      "$33937$ Users are featured in test but not in train\n"
     ]
    }
   ],
   "source": [
    "man_train_list = df_raw.Username.unique()\n",
    "man_test_list = df_test.Username.unique()\n",
    "print(\"Train: {0}\".format(len(man_train_list)))\n",
    "print(\"Test: {0}\".format(len(man_test_list)))\n",
    "\n",
    "man_not_in_test = set(man_train_list) - set(man_test_list)\n",
    "man_not_in_train = set(man_test_list) - set(man_train_list)\n",
    "\n",
    "print(\"${}$ Users are featured in train but not in test\".format(len(man_not_in_test)))\n",
    "print(\"${}$ Users are featured in test but not in train\".format(len(man_not_in_train)))"
   ]
  },
  {
   "cell_type": "code",
   "execution_count": 8,
   "metadata": {
    "ExecuteTime": {
     "end_time": "2018-09-01T08:13:33.598160Z",
     "start_time": "2018-09-01T08:13:33.237045Z"
    },
    "hidden": true
   },
   "outputs": [
    {
     "data": {
      "text/plain": [
       "((330045, 7), None, (233657, 7))"
      ]
     },
     "execution_count": 8,
     "metadata": {},
     "output_type": "execute_result"
    }
   ],
   "source": [
    "df_raw.shape, df_raw.drop(index = df_raw.loc[list(man_not_in_test)].index, inplace=True), df_raw.shape"
   ]
  },
  {
   "cell_type": "code",
   "execution_count": 9,
   "metadata": {
    "ExecuteTime": {
     "end_time": "2018-09-01T08:13:34.615388Z",
     "start_time": "2018-09-01T08:13:34.120258Z"
    },
    "hidden": true
   },
   "outputs": [
    {
     "name": "stdout",
     "output_type": "stream",
     "text": [
      "Initial  (233657, 7) (141448, 6)\n",
      "Final  (223134, 7) (141448, 6)\n"
     ]
    }
   ],
   "source": [
    "print('Initial ', df_raw.shape, df_test.shape)\n",
    "\n",
    "bin_cols = ['Answers', 'Views', 'Reputation']\n",
    "\n",
    "for col in bin_cols:\n",
    "    \n",
    "    ulimit = np.percentile(df_raw[col],99)\n",
    "    llimit = np.percentile(df_raw[col],1)\n",
    "    df_raw.drop(index=df_raw[col].ix[df_raw[col]>ulimit].index, inplace=True)\n",
    "    df_raw.drop(index=df_raw[col].ix[df_raw[col]<llimit].index, inplace=True)\n",
    "    \n",
    "print('Final ', df_raw.shape, df_test.shape)"
   ]
  },
  {
   "cell_type": "code",
   "execution_count": 10,
   "metadata": {
    "ExecuteTime": {
     "end_time": "2018-09-01T08:13:34.811387Z",
     "start_time": "2018-09-01T08:13:34.617382Z"
    },
    "hidden": true
   },
   "outputs": [],
   "source": [
    "df_raw.drop(index= df_raw[(df_raw['Reputation'] == 0) & (df_raw['Answers'] !=0)].index, inplace=True)"
   ]
  },
  {
   "cell_type": "code",
   "execution_count": 11,
   "metadata": {
    "ExecuteTime": {
     "end_time": "2018-09-01T08:13:35.224511Z",
     "start_time": "2018-09-01T08:13:35.059953Z"
    },
    "hidden": true
   },
   "outputs": [
    {
     "data": {
      "text/plain": [
       "((218673, 7), (141448, 6))"
      ]
     },
     "execution_count": 11,
     "metadata": {},
     "output_type": "execute_result"
    }
   ],
   "source": [
    "df_raw.shape, df_test.shape"
   ]
  },
  {
   "cell_type": "code",
   "execution_count": 12,
   "metadata": {
    "ExecuteTime": {
     "end_time": "2018-09-01T08:13:35.598548Z",
     "start_time": "2018-09-01T08:13:35.237487Z"
    },
    "hidden": true
   },
   "outputs": [
    {
     "data": {
      "text/plain": [
       "<matplotlib.axes._subplots.AxesSubplot at 0x14c24ea8828>"
      ]
     },
     "execution_count": 12,
     "metadata": {},
     "output_type": "execute_result"
    },
    {
     "data": {
      "image/png": "[encoded data removed]",
      "text/plain": [
       "<Figure size 432x288 with 1 Axes>"
      ]
     },
     "metadata": {},
     "output_type": "display_data"
    }
   ],
   "source": [
    "sns.distplot(df_raw['Answers'], kde=False)"
   ]
  },
  {
   "cell_type": "code",
   "execution_count": 13,
   "metadata": {
    "ExecuteTime": {
     "end_time": "2018-09-01T08:13:35.813968Z",
     "start_time": "2018-09-01T08:13:35.660208Z"
    },
    "hidden": true
   },
   "outputs": [],
   "source": [
    "target = df_raw.Upvotes.values"
   ]
  },
  {
   "cell_type": "code",
   "execution_count": 14,
   "metadata": {
    "ExecuteTime": {
     "end_time": "2018-09-01T08:13:37.567150Z",
     "start_time": "2018-09-01T08:13:37.419399Z"
    },
    "hidden": true
   },
   "outputs": [
    {
     "data": {
      "text/plain": [
       "178.53712163824522"
      ]
     },
     "execution_count": 14,
     "metadata": {},
     "output_type": "execute_result"
    }
   ],
   "source": [
    "np.mean(target)"
   ]
  },
  {
   "cell_type": "code",
   "execution_count": 15,
   "metadata": {
    "ExecuteTime": {
     "end_time": "2018-09-01T08:13:38.136916Z",
     "start_time": "2018-09-01T08:13:37.944487Z"
    },
    "hidden": true
   },
   "outputs": [
    {
     "data": {
      "text/plain": [
       "(141448, 6)"
      ]
     },
     "execution_count": 15,
     "metadata": {},
     "output_type": "execute_result"
    }
   ],
   "source": [
    "df_test.shape"
   ]
  },
  {
   "cell_type": "code",
   "execution_count": 16,
   "metadata": {
    "ExecuteTime": {
     "end_time": "2018-09-01T08:13:38.804270Z",
     "start_time": "2018-09-01T08:13:38.569225Z"
    },
    "hidden": true
   },
   "outputs": [],
   "source": [
    "mean_preds = np.full_like(df_test['Username'], 178)"
   ]
  },
  {
   "cell_type": "code",
   "execution_count": 17,
   "metadata": {
    "ExecuteTime": {
     "end_time": "2018-09-01T08:13:39.550386Z",
     "start_time": "2018-09-01T08:13:39.205919Z"
    },
    "hidden": true
   },
   "outputs": [
    {
     "data": {
      "text/plain": [
       "<matplotlib.axes._subplots.AxesSubplot at 0x14c25f30438>"
      ]
     },
     "execution_count": 17,
     "metadata": {},
     "output_type": "execute_result"
    },
    {
     "data": {
      "image/png": "[encoded data removed]",
      "text/plain": [
       "<Figure size 432x288 with 1 Axes>"
      ]
     },
     "metadata": {},
     "output_type": "display_data"
    }
   ],
   "source": [
    "# ulimit = np.percentile(target,99)\n",
    "# llimit = np.percentile(target,1)\n",
    "# df_raw['Upvotes'].ix[df_raw['Upvotes']>ulimit] = ulimit\n",
    "# df_raw['Upvotes'].ix[df_raw['Upvotes']<llimit] = llimit\n",
    "sns.distplot(np.log(df_raw['Upvotes'] + 2), bins = 50, kde=False)"
   ]
  },
  {
   "cell_type": "code",
   "execution_count": 18,
   "metadata": {
    "ExecuteTime": {
     "end_time": "2018-09-01T08:13:40.201376Z",
     "start_time": "2018-09-01T08:13:39.986178Z"
    },
    "hidden": true
   },
   "outputs": [],
   "source": [
    "def display_all(df):\n",
    "    with pd.option_context(\"display.max_rows\", 100): \n",
    "        with pd.option_context(\"display.max_columns\", 100): \n",
    "            display(df)\n",
    "\n",
    "def make_submission(probs):\n",
    "    sample = pd.read_csv(f'{PATH}\\\\sample_submission.csv')\n",
    "    submit = sample.copy()\n",
    "    submit['Upvotes'] = probs\n",
    "    return submit"
   ]
  },
  {
   "cell_type": "markdown",
   "metadata": {
    "heading_collapsed": true
   },
   "source": [
    "## fe's"
   ]
  },
  {
   "cell_type": "code",
   "execution_count": 19,
   "metadata": {
    "ExecuteTime": {
     "end_time": "2018-09-01T08:13:45.915444Z",
     "start_time": "2018-09-01T08:13:44.309288Z"
    },
    "hidden": true
   },
   "outputs": [],
   "source": [
    "xyz = pd.concat([df_raw.groupby('Username').mean(),df_raw.groupby('Username').count()], axis = 1).iloc[:,:-5]\n",
    "xyz.columns = ['ID', 'Reputation', 'Answers', 'Views', 'Upvotes', 'count']\n",
    "############################################################################################# Mean Aggs\n",
    "\n",
    "df_raw_feats = pd.DataFrame()\n",
    "df_raw_feats['Username'] = df_raw['Username'].copy()\n",
    "df_raw_feats['Tag']      = df_raw['Tag'].copy()\n",
    "df_raw_feats['Reputation'] = df_raw['Reputation'].copy()\n",
    "df_raw_feats['Answers']    = df_raw['Answers'].copy()\n",
    "\n",
    "unames   = xyz.sort_values(by = 'count', ascending = False).reset_index()['Username'].values\n",
    "count    = xyz.sort_values(by = 'count', ascending = False).reset_index()['count'].values\n",
    "answers  = xyz.sort_values(by = 'count', ascending = False).reset_index()['Answers'].values\n",
    "views    = xyz.sort_values(by = 'count', ascending = False).reset_index()['Views'].values\n",
    "repo     = xyz.sort_values(by = 'count', ascending = False).reset_index()['Reputation'].values \n",
    "\n",
    "d = {}\n",
    "for idx,k in enumerate(unames):\n",
    "    d[k] = count[idx]\n",
    "df_raw_feats['agg_count'] = df_raw['Username'].map(d)\n",
    "\n",
    "d = {}\n",
    "for idx,k in enumerate(unames):\n",
    "    d[k] = answers[idx]\n",
    "df_raw_feats['agg_answers'] = df_raw['Username'].map(d)\n",
    "\n",
    "d = {}\n",
    "for idx,k in enumerate(unames):\n",
    "    d[k] = views[idx]\n",
    "df_raw_feats['agg_views'] = df_raw['Username'].map(d)\n",
    "\n",
    "d = {}\n",
    "for idx,k in enumerate(unames):\n",
    "    d[k] = repo[idx]\n",
    "df_raw_feats['agg_repo'] = df_raw['Username'].map(d)"
   ]
  },
  {
   "cell_type": "code",
   "execution_count": 20,
   "metadata": {
    "ExecuteTime": {
     "end_time": "2018-09-01T08:13:47.102484Z",
     "start_time": "2018-09-01T08:13:45.915444Z"
    },
    "hidden": true
   },
   "outputs": [],
   "source": [
    "xyz = pd.concat([df_test.groupby('Username').mean(),df_test.groupby('Username').count()], axis = 1).iloc[:,:-4]\n",
    "xyz.columns = ['ID', 'Reputation', 'Answers', 'Views', 'count']\n",
    "\n",
    "########################################################################################## Mean Aggregates\n",
    "\n",
    "df_test_feats = pd.DataFrame()\n",
    "df_test_feats['Username'] = df_test['Username'].copy()\n",
    "df_test_feats['Tag']      = df_test['Tag'].copy()\n",
    "df_test_feats['Reputation'] = df_test['Reputation'].copy()\n",
    "df_test_feats['Answers']    = df_test['Answers']\n",
    "\n",
    "unames   = xyz.sort_values(by = 'count', ascending = False).reset_index()['Username'].values\n",
    "count    = xyz.sort_values(by = 'count', ascending = False).reset_index()['count'].values\n",
    "answers  = xyz.sort_values(by = 'count', ascending = False).reset_index()['Answers'].values\n",
    "views    = xyz.sort_values(by = 'count', ascending = False).reset_index()['Views'].values\n",
    "repo     = xyz.sort_values(by = 'count', ascending = False).reset_index()['Reputation'].values \n",
    "\n",
    "d = {}\n",
    "for idx,k in enumerate(unames):\n",
    "    d[k] = count[idx]\n",
    "df_test_feats['agg_count'] = df_test['Username'].map(d)\n",
    "\n",
    "d = {}\n",
    "for idx,k in enumerate(unames):\n",
    "    d[k] = answers[idx]\n",
    "df_test_feats['agg_answers'] = df_test['Username'].map(d)\n",
    "\n",
    "d = {}\n",
    "for idx,k in enumerate(unames):\n",
    "    d[k] = views[idx]\n",
    "df_test_feats['agg_views'] = df_test['Username'].map(d)\n",
    "\n",
    "d = {}\n",
    "for idx,k in enumerate(unames):\n",
    "    d[k] = repo[idx]\n",
    "df_test_feats['agg_repo'] = df_test['Username'].map(d)"
   ]
  },
  {
   "cell_type": "code",
   "execution_count": 21,
   "metadata": {
    "ExecuteTime": {
     "end_time": "2018-09-01T08:13:47.262182Z",
     "start_time": "2018-09-01T08:13:47.102484Z"
    },
    "hidden": true
   },
   "outputs": [
    {
     "data": {
      "text/html": [
       "<div>\n",
       "<style scoped>\n",
       "    .dataframe tbody tr th:only-of-type {\n",
       "        vertical-align: middle;\n",
       "    }\n",
       "\n",
       "    .dataframe tbody tr th {\n",
       "        vertical-align: top;\n",
       "    }\n",
       "\n",
       "    .dataframe thead th {\n",
       "        text-align: right;\n",
       "    }\n",
       "</style>\n",
       "<table border=\"1\" class=\"dataframe\">\n",
       "  <thead>\n",
       "    <tr style=\"text-align: right;\">\n",
       "      <th></th>\n",
       "      <th>Username</th>\n",
       "      <th>Tag</th>\n",
       "      <th>Reputation</th>\n",
       "      <th>Answers</th>\n",
       "      <th>agg_count</th>\n",
       "      <th>agg_answers</th>\n",
       "      <th>agg_views</th>\n",
       "      <th>agg_repo</th>\n",
       "    </tr>\n",
       "  </thead>\n",
       "  <tbody>\n",
       "    <tr>\n",
       "      <th>4</th>\n",
       "      <td>112223</td>\n",
       "      <td>c</td>\n",
       "      <td>4271.0</td>\n",
       "      <td>4.0</td>\n",
       "      <td>3</td>\n",
       "      <td>2.00</td>\n",
       "      <td>20598.666667</td>\n",
       "      <td>4271.0</td>\n",
       "    </tr>\n",
       "    <tr>\n",
       "      <th>7</th>\n",
       "      <td>54623</td>\n",
       "      <td>j</td>\n",
       "      <td>2269.0</td>\n",
       "      <td>2.0</td>\n",
       "      <td>4</td>\n",
       "      <td>2.00</td>\n",
       "      <td>6063.750000</td>\n",
       "      <td>2269.0</td>\n",
       "    </tr>\n",
       "    <tr>\n",
       "      <th>8</th>\n",
       "      <td>172926</td>\n",
       "      <td>j</td>\n",
       "      <td>111.0</td>\n",
       "      <td>2.0</td>\n",
       "      <td>1</td>\n",
       "      <td>2.00</td>\n",
       "      <td>53738.000000</td>\n",
       "      <td>111.0</td>\n",
       "    </tr>\n",
       "    <tr>\n",
       "      <th>15</th>\n",
       "      <td>62155</td>\n",
       "      <td>c</td>\n",
       "      <td>7952.0</td>\n",
       "      <td>2.0</td>\n",
       "      <td>4</td>\n",
       "      <td>3.75</td>\n",
       "      <td>28314.750000</td>\n",
       "      <td>7952.0</td>\n",
       "    </tr>\n",
       "    <tr>\n",
       "      <th>16</th>\n",
       "      <td>43559</td>\n",
       "      <td>i</td>\n",
       "      <td>731.0</td>\n",
       "      <td>4.0</td>\n",
       "      <td>2</td>\n",
       "      <td>2.50</td>\n",
       "      <td>6730.500000</td>\n",
       "      <td>731.0</td>\n",
       "    </tr>\n",
       "  </tbody>\n",
       "</table>\n",
       "</div>"
      ],
      "text/plain": [
       "    Username Tag  Reputation  Answers  agg_count  agg_answers     agg_views  \\\n",
       "4     112223   c      4271.0      4.0          3         2.00  20598.666667   \n",
       "7      54623   j      2269.0      2.0          4         2.00   6063.750000   \n",
       "8     172926   j       111.0      2.0          1         2.00  53738.000000   \n",
       "15     62155   c      7952.0      2.0          4         3.75  28314.750000   \n",
       "16     43559   i       731.0      4.0          2         2.50   6730.500000   \n",
       "\n",
       "    agg_repo  \n",
       "4     4271.0  \n",
       "7     2269.0  \n",
       "8      111.0  \n",
       "15    7952.0  \n",
       "16     731.0  "
      ]
     },
     "execution_count": 21,
     "metadata": {},
     "output_type": "execute_result"
    }
   ],
   "source": [
    "df_raw_feats.head()"
   ]
  },
  {
   "cell_type": "code",
   "execution_count": 22,
   "metadata": {
    "ExecuteTime": {
     "end_time": "2018-09-01T08:13:48.012214Z",
     "start_time": "2018-09-01T08:13:47.728153Z"
    },
    "hidden": true
   },
   "outputs": [
    {
     "data": {
      "text/plain": [
       "(3, 4)"
      ]
     },
     "execution_count": 22,
     "metadata": {},
     "output_type": "execute_result"
    }
   ],
   "source": [
    "df_raw['Username'].min(), df_test['Username'].min()"
   ]
  },
  {
   "cell_type": "code",
   "execution_count": 23,
   "metadata": {
    "ExecuteTime": {
     "end_time": "2018-09-01T08:13:48.243088Z",
     "start_time": "2018-09-01T08:13:48.014208Z"
    },
    "hidden": true
   },
   "outputs": [
    {
     "data": {
      "text/plain": [
       "((218673, 7), (141448, 6), (218673, 18), (141448, 18))"
      ]
     },
     "execution_count": 23,
     "metadata": {},
     "output_type": "execute_result"
    }
   ],
   "source": [
    "add_trans = ['Reputation', 'Answers', 'Views']\n",
    "\n",
    "for col in add_trans:\n",
    "    \n",
    "    df_raw_feats[f'log_trans_{col}'.format(col)]  = np.log(df_raw[col] + 1) #avoid log 0's if any\n",
    "    df_test_feats[f'log_trans_{col}'.format(col)] = np.log(df_test[col] + 1) #avoid log 0's if any\n",
    "    df_raw_feats[f'sqrt_trans_{col}'.format(col)]  = np.sqrt(df_raw[col])\n",
    "    df_test_feats[f'sqrt_trans_{col}'.format(col)] = np.sqrt(df_test[col])\n",
    "    \n",
    "df_raw_feats['repo_per_Answers'] = df_raw['Reputation'] / (df_raw['Answers']+1)\n",
    "df_raw_feats['repo_per_Views']   = df_raw['Reputation'] / df_raw['Views']\n",
    "df_raw_feats['log_trans_repo_per_Answers'] = np.log(df_raw_feats['repo_per_Answers'] + 1)\n",
    "df_raw_feats['log_trans_repo_per_Views']   = np.log(df_raw_feats['repo_per_Views'] + 1)\n",
    "\n",
    "df_test_feats['repo_per_Answers'] = df_test['Reputation'] / (df_test['Answers'] +1)\n",
    "df_test_feats['repo_per_Views']   = df_test['Reputation'] / df_test['Views']\n",
    "df_test_feats['log_trans_repo_per_Answers'] = np.log(df_test_feats['repo_per_Answers'] + 1)\n",
    "df_test_feats['log_trans_repo_per_Views']   = np.log(df_test_feats['repo_per_Views'] + 1)\n",
    "\n",
    "df_raw.shape, df_test.shape, df_raw_feats.shape, df_test_feats.shape"
   ]
  },
  {
   "cell_type": "code",
   "execution_count": 24,
   "metadata": {
    "ExecuteTime": {
     "end_time": "2018-09-01T08:13:48.951808Z",
     "start_time": "2018-09-01T08:13:48.245082Z"
    },
    "hidden": true
   },
   "outputs": [],
   "source": [
    "unames_trn  = df_raw[['Username','Tag']].groupby('Username')['Tag'].nunique().reset_index()['Username'].values\n",
    "unames_test = df_test[['Username','Tag']].groupby('Username')['Tag'].nunique().reset_index()['Username'].values\n",
    "\n",
    "tag_trn     = df_raw[['Username','Tag']].groupby('Username')['Tag'].nunique().reset_index()['Tag'].values\n",
    "tag_test    = df_test[['Username','Tag']].groupby('Username')['Tag'].nunique().reset_index()['Tag'].values"
   ]
  },
  {
   "cell_type": "code",
   "execution_count": 25,
   "metadata": {
    "ExecuteTime": {
     "end_time": "2018-09-01T08:13:49.559777Z",
     "start_time": "2018-09-01T08:13:48.953770Z"
    },
    "hidden": true
   },
   "outputs": [],
   "source": [
    "d = {}\n",
    "for idx,k in enumerate(unames_trn):\n",
    "    d[k] = tag_trn[idx]\n",
    "df_raw_feats['unique_tag'] = df_raw['Username'].map(d)"
   ]
  },
  {
   "cell_type": "code",
   "execution_count": 26,
   "metadata": {
    "ExecuteTime": {
     "end_time": "2018-09-01T08:13:50.087606Z",
     "start_time": "2018-09-01T08:13:49.559777Z"
    },
    "hidden": true
   },
   "outputs": [],
   "source": [
    "d = {}\n",
    "for idx,k in enumerate(unames_test):\n",
    "    d[k] = tag_test[idx]\n",
    "df_test_feats['unique_tag'] = df_test['Username'].map(d)"
   ]
  },
  {
   "cell_type": "code",
   "execution_count": 27,
   "metadata": {
    "ExecuteTime": {
     "end_time": "2018-09-01T08:13:50.242599Z",
     "start_time": "2018-09-01T08:13:50.087606Z"
    },
    "hidden": true
   },
   "outputs": [],
   "source": [
    "def get_score(l = []):\n",
    "    score = 1\n",
    "    for i in l:\n",
    "        if i == 'c': score += 10\n",
    "        if i == 'j': score += 9\n",
    "        if i == 'p': score += 8\n",
    "        if i == 'i': score += 7\n",
    "        if i == 'a': score += 6\n",
    "        if i == 's': score += 5\n",
    "        if i == 'h': score += 4\n",
    "        if i == 'o': score += 3\n",
    "        if i == 'r': score += 2\n",
    "    return(score)"
   ]
  },
  {
   "cell_type": "code",
   "execution_count": 28,
   "metadata": {
    "ExecuteTime": {
     "end_time": "2018-09-01T08:15:15.807881Z",
     "start_time": "2018-09-01T08:13:50.244597Z"
    },
    "hidden": true
   },
   "outputs": [
    {
     "name": "stdout",
     "output_type": "stream",
     "text": [
      "Wall time: 1min 25s\n"
     ]
    }
   ],
   "source": [
    "%%time\n",
    "import gc\n",
    "\n",
    "d = {}\n",
    "\n",
    "for i in unames_trn[::-1]:\n",
    "    d[i] = set(df_raw_feats[df_raw_feats['Username'] == i]['Tag'].values)\n",
    "\n",
    "for k,v in d.items():\n",
    "    l = []\n",
    "    for i in v:\n",
    "        l.append(i)\n",
    "    d[k] = get_score(l)\n",
    "    \n",
    "df_raw_feats['skill_score'] = df_raw_feats['Username'].map(d)\n",
    "del d\n",
    "gc.collect()"
   ]
  },
  {
   "cell_type": "code",
   "execution_count": 29,
   "metadata": {
    "ExecuteTime": {
     "end_time": "2018-09-01T08:16:13.195933Z",
     "start_time": "2018-09-01T08:15:15.808810Z"
    },
    "hidden": true
   },
   "outputs": [
    {
     "name": "stdout",
     "output_type": "stream",
     "text": [
      "Wall time: 57.2 s\n"
     ]
    }
   ],
   "source": [
    "%%time\n",
    "\n",
    "d = {}\n",
    "\n",
    "for i in unames_test[::-1]:\n",
    "    d[i] = set(df_test_feats[df_test_feats['Username'] == i]['Tag'].values)\n",
    "\n",
    "for k,v in d.items():\n",
    "    l = []\n",
    "    for i in v:\n",
    "        l.append(i)\n",
    "    d[k] = get_score(l)\n",
    "    \n",
    "df_test_feats['skill_score'] = df_test_feats['Username'].map(d)\n",
    "del d\n",
    "gc.collect()"
   ]
  },
  {
   "cell_type": "code",
   "execution_count": 30,
   "metadata": {
    "ExecuteTime": {
     "end_time": "2018-09-01T08:16:13.363133Z",
     "start_time": "2018-09-01T08:16:13.198649Z"
    },
    "hidden": true
   },
   "outputs": [],
   "source": [
    "df_raw_feats['rep_per_skill'] = df_raw['Reputation']/ df_raw_feats['skill_score']\n",
    "df_raw_feats['skill_per_tag'] = df_raw_feats['skill_score']/ df_raw_feats['unique_tag']\n",
    "df_raw_feats['views_per_ans'] = df_raw['Views'] / (df_raw['Answers']+ 1)\n",
    "\n",
    "df_test_feats['rep_per_skill'] = df_test['Reputation']/ df_test_feats['skill_score']\n",
    "df_test_feats['skill_per_tag'] = df_test_feats['skill_score']/ df_test_feats['unique_tag']\n",
    "df_test_feats['views_per_ans'] = df_test['Views'] / (df_test['Answers']+ 1)"
   ]
  },
  {
   "cell_type": "code",
   "execution_count": 31,
   "metadata": {
    "ExecuteTime": {
     "end_time": "2018-09-01T08:16:15.044628Z",
     "start_time": "2018-09-01T08:16:13.363133Z"
    },
    "hidden": true
   },
   "outputs": [
    {
     "data": {
      "text/plain": [
       "<matplotlib.collections.PathCollection at 0x14c28d18e48>"
      ]
     },
     "execution_count": 31,
     "metadata": {},
     "output_type": "execute_result"
    },
    {
     "data": {
      "image/png": "[encoded data removed]",
      "text/plain": [
       "<Figure size 432x288 with 1 Axes>"
      ]
     },
     "metadata": {},
     "output_type": "display_data"
    }
   ],
   "source": [
    "plt.scatter(range(df_raw.shape[0]), np.sort(np.log(target+2)))"
   ]
  },
  {
   "cell_type": "code",
   "execution_count": 31,
   "metadata": {
    "ExecuteTime": {
     "end_time": "2018-09-01T02:57:37.420200Z",
     "start_time": "2018-09-01T02:57:07.209973Z"
    },
    "hidden": true
   },
   "outputs": [],
   "source": [
    "df_raw_feats.to_csv(f'{PATH}\\\\new_feats_train.csv', index=None)\n",
    "df_test_feats.to_csv(f'{PATH}\\\\new_feats_test.csv', index=None)"
   ]
  },
  {
   "cell_type": "code",
   "execution_count": 56,
   "metadata": {
    "ExecuteTime": {
     "end_time": "2018-09-01T08:36:24.051916Z",
     "start_time": "2018-09-01T08:36:23.834893Z"
    },
    "hidden": true,
    "scrolled": true
   },
   "outputs": [],
   "source": [
    "bins = [0, 1, 5, 10, 25, 50, 75, 100]\n",
    "labels = [i+1 for i in range(len(bins) - 1)]\n",
    "bin_cols = ['Answers', 'Views', 'Reputation']\n",
    "\n",
    "for col in bin_cols:\n",
    "    \n",
    "    df_raw_feats[f'bin_{col}'.format(col)]  = pd.cut(np.log(df_raw[col]+2) ,bins,labels = labels)\n",
    "    df_test_feats[f'bin_{col}'.format(col)] = pd.cut(np.log(df_test[col]+2),bins,labels = labels)"
   ]
  },
  {
   "cell_type": "code",
   "execution_count": 32,
   "metadata": {
    "ExecuteTime": {
     "end_time": "2018-09-01T08:16:15.211463Z",
     "start_time": "2018-09-01T08:16:15.047620Z"
    },
    "hidden": true
   },
   "outputs": [],
   "source": [
    "df_raw_feats['Tag'] = df_raw_feats['Tag'].astype('category')\n",
    "df_test_feats['Tag'] = df_test_feats['Tag'].astype('category')\n",
    "#couldhave ued hstack as well..."
   ]
  },
  {
   "cell_type": "code",
   "execution_count": 57,
   "metadata": {
    "ExecuteTime": {
     "end_time": "2018-09-01T08:36:32.601512Z",
     "start_time": "2018-09-01T08:36:32.366945Z"
    },
    "hidden": true
   },
   "outputs": [
    {
     "data": {
      "text/plain": [
       "(category:dense     4\n",
       " float64:dense     18\n",
       " int64:dense        4\n",
       " dtype: int64, category:dense     4\n",
       " float64:dense     18\n",
       " int64:dense        4\n",
       " dtype: int64)"
      ]
     },
     "execution_count": 57,
     "metadata": {},
     "output_type": "execute_result"
    }
   ],
   "source": [
    "df_raw_feats.get_ftype_counts(), df_test_feats.get_ftype_counts()"
   ]
  },
  {
   "cell_type": "markdown",
   "metadata": {
    "heading_collapsed": true
   },
   "source": [
    "## cat"
   ]
  },
  {
   "cell_type": "code",
   "execution_count": 35,
   "metadata": {
    "ExecuteTime": {
     "end_time": "2018-09-01T02:59:46.647343Z",
     "start_time": "2018-09-01T02:59:46.434041Z"
    },
    "hidden": true
   },
   "outputs": [
    {
     "data": {
      "text/plain": [
       "array([ 83.,   3.,  79., ...,  15.,   3.,  37.])"
      ]
     },
     "execution_count": 35,
     "metadata": {},
     "output_type": "execute_result"
    }
   ],
   "source": [
    "target"
   ]
  },
  {
   "cell_type": "code",
   "execution_count": 43,
   "metadata": {
    "ExecuteTime": {
     "end_time": "2018-09-01T03:02:23.021636Z",
     "start_time": "2018-09-01T03:02:22.849996Z"
    },
    "hidden": true
   },
   "outputs": [],
   "source": [
    "model=CatBoostRegressor(iterations=300, learning_rate= 0.06, depth = 6, loss_function='RMSE', )"
   ]
  },
  {
   "cell_type": "code",
   "execution_count": 42,
   "metadata": {
    "ExecuteTime": {
     "end_time": "2018-09-01T07:25:44.638926Z",
     "start_time": "2018-09-01T07:25:44.362987Z"
    },
    "hidden": true
   },
   "outputs": [
    {
     "data": {
      "text/plain": [
       "((218673, 23), (141448, 23), 218673)"
      ]
     },
     "execution_count": 42,
     "metadata": {},
     "output_type": "execute_result"
    }
   ],
   "source": [
    "df_raw_feats.shape, df_test_feats.shape, len(target)"
   ]
  },
  {
   "cell_type": "code",
   "execution_count": 45,
   "metadata": {
    "ExecuteTime": {
     "end_time": "2018-09-01T03:04:11.853092Z",
     "start_time": "2018-09-01T03:02:25.081129Z"
    },
    "hidden": true,
    "scrolled": true
   },
   "outputs": [
    {
     "name": "stdout",
     "output_type": "stream",
     "text": [
      "0:\tlearn: 703.8471019\ttest: 682.6249252\tbest: 682.6249252 (0)\ttotal: 548ms\tremaining: 2m 43s\n",
      "1:\tlearn: 672.5308812\ttest: 651.1666595\tbest: 651.1666595 (1)\ttotal: 882ms\tremaining: 2m 11s\n",
      "2:\tlearn: 643.4066737\ttest: 622.4667526\tbest: 622.4667526 (2)\ttotal: 1.19s\tremaining: 1m 58s\n",
      "3:\tlearn: 615.8537990\ttest: 594.8685878\tbest: 594.8685878 (3)\ttotal: 1.5s\tremaining: 1m 50s\n",
      "4:\tlearn: 589.7438175\ttest: 568.9457332\tbest: 568.9457332 (4)\ttotal: 1.79s\tremaining: 1m 45s\n",
      "5:\tlearn: 566.2221813\ttest: 545.9714116\tbest: 545.9714116 (5)\ttotal: 2.1s\tremaining: 1m 42s\n",
      "6:\tlearn: 543.4251945\ttest: 523.0799118\tbest: 523.0799118 (6)\ttotal: 2.38s\tremaining: 1m 39s\n",
      "7:\tlearn: 522.4063688\ttest: 502.0610424\tbest: 502.0610424 (7)\ttotal: 2.68s\tremaining: 1m 37s\n",
      "8:\tlearn: 502.8170426\ttest: 482.7275196\tbest: 482.7275196 (8)\ttotal: 2.97s\tremaining: 1m 35s\n",
      "9:\tlearn: 484.6759434\ttest: 464.8838477\tbest: 464.8838477 (9)\ttotal: 3.25s\tremaining: 1m 34s\n",
      "10:\tlearn: 467.9196239\ttest: 447.9175123\tbest: 447.9175123 (10)\ttotal: 3.54s\tremaining: 1m 32s\n",
      "11:\tlearn: 451.6202252\ttest: 431.7828066\tbest: 431.7828066 (11)\ttotal: 3.83s\tremaining: 1m 32s\n",
      "12:\tlearn: 436.6468941\ttest: 416.4070255\tbest: 416.4070255 (12)\ttotal: 4.13s\tremaining: 1m 31s\n",
      "13:\tlearn: 422.7921670\ttest: 402.7322363\tbest: 402.7322363 (13)\ttotal: 4.42s\tremaining: 1m 30s\n",
      "14:\tlearn: 409.8274459\ttest: 389.2005791\tbest: 389.2005791 (14)\ttotal: 4.71s\tremaining: 1m 29s\n",
      "15:\tlearn: 397.5553920\ttest: 376.6195552\tbest: 376.6195552 (15)\ttotal: 5s\tremaining: 1m 28s\n",
      "16:\tlearn: 386.2920690\ttest: 365.0577461\tbest: 365.0577461 (16)\ttotal: 5.3s\tremaining: 1m 28s\n",
      "17:\tlearn: 375.8715625\ttest: 354.4330990\tbest: 354.4330990 (17)\ttotal: 5.59s\tremaining: 1m 27s\n",
      "18:\tlearn: 366.4357505\ttest: 344.6347044\tbest: 344.6347044 (18)\ttotal: 5.89s\tremaining: 1m 27s\n",
      "19:\tlearn: 357.7850547\ttest: 335.4832598\tbest: 335.4832598 (19)\ttotal: 6.18s\tremaining: 1m 26s\n",
      "20:\tlearn: 349.6216755\ttest: 326.9766868\tbest: 326.9766868 (20)\ttotal: 6.47s\tremaining: 1m 25s\n",
      "21:\tlearn: 341.7758555\ttest: 319.2201812\tbest: 319.2201812 (21)\ttotal: 6.76s\tremaining: 1m 25s\n",
      "22:\tlearn: 335.1713057\ttest: 312.7776536\tbest: 312.7776536 (22)\ttotal: 7.07s\tremaining: 1m 25s\n",
      "23:\tlearn: 328.3994593\ttest: 305.9706836\tbest: 305.9706836 (23)\ttotal: 7.37s\tremaining: 1m 24s\n",
      "24:\tlearn: 322.2031600\ttest: 299.8482232\tbest: 299.8482232 (24)\ttotal: 7.65s\tremaining: 1m 24s\n",
      "25:\tlearn: 316.8495938\ttest: 294.4661965\tbest: 294.4661965 (25)\ttotal: 7.94s\tremaining: 1m 23s\n",
      "26:\tlearn: 311.8454886\ttest: 289.7550396\tbest: 289.7550396 (26)\ttotal: 8.23s\tremaining: 1m 23s\n",
      "27:\tlearn: 307.1949142\ttest: 284.9907536\tbest: 284.9907536 (27)\ttotal: 8.54s\tremaining: 1m 22s\n",
      "28:\tlearn: 302.5872905\ttest: 280.9799389\tbest: 280.9799389 (28)\ttotal: 8.83s\tremaining: 1m 22s\n",
      "29:\tlearn: 298.6995121\ttest: 277.2399369\tbest: 277.2399369 (29)\ttotal: 9.13s\tremaining: 1m 22s\n",
      "30:\tlearn: 294.9957594\ttest: 273.6352009\tbest: 273.6352009 (30)\ttotal: 9.48s\tremaining: 1m 22s\n",
      "31:\tlearn: 291.5389840\ttest: 270.3598567\tbest: 270.3598567 (31)\ttotal: 9.84s\tremaining: 1m 22s\n",
      "32:\tlearn: 288.3219739\ttest: 267.3894957\tbest: 267.3894957 (32)\ttotal: 10.1s\tremaining: 1m 21s\n",
      "33:\tlearn: 285.8639937\ttest: 264.9612052\tbest: 264.9612052 (33)\ttotal: 10.4s\tremaining: 1m 21s\n",
      "34:\tlearn: 283.3286590\ttest: 262.4598924\tbest: 262.4598924 (34)\ttotal: 10.7s\tremaining: 1m 21s\n",
      "35:\tlearn: 281.2298807\ttest: 260.6667180\tbest: 260.6667180 (35)\ttotal: 11s\tremaining: 1m 20s\n",
      "36:\tlearn: 279.2231731\ttest: 258.7292480\tbest: 258.7292480 (36)\ttotal: 11.3s\tremaining: 1m 20s\n",
      "37:\tlearn: 277.2709526\ttest: 256.9849949\tbest: 256.9849949 (37)\ttotal: 11.6s\tremaining: 1m 20s\n",
      "38:\tlearn: 275.4774323\ttest: 255.2390737\tbest: 255.2390737 (38)\ttotal: 11.9s\tremaining: 1m 19s\n",
      "39:\tlearn: 273.7042286\ttest: 253.7102585\tbest: 253.7102585 (39)\ttotal: 12.2s\tremaining: 1m 19s\n",
      "40:\tlearn: 271.9834129\ttest: 252.2668490\tbest: 252.2668490 (40)\ttotal: 12.5s\tremaining: 1m 19s\n",
      "41:\tlearn: 270.5260900\ttest: 250.8875058\tbest: 250.8875058 (41)\ttotal: 12.8s\tremaining: 1m 18s\n",
      "42:\tlearn: 269.0913131\ttest: 249.6102006\tbest: 249.6102006 (42)\ttotal: 13.2s\tremaining: 1m 18s\n",
      "43:\tlearn: 267.7019978\ttest: 248.0665635\tbest: 248.0665635 (43)\ttotal: 13.5s\tremaining: 1m 18s\n",
      "44:\tlearn: 266.6121444\ttest: 247.0866281\tbest: 247.0866281 (44)\ttotal: 13.8s\tremaining: 1m 18s\n",
      "45:\tlearn: 265.6105273\ttest: 246.0755090\tbest: 246.0755090 (45)\ttotal: 14.1s\tremaining: 1m 18s\n",
      "46:\tlearn: 264.6513733\ttest: 245.3296744\tbest: 245.3296744 (46)\ttotal: 14.4s\tremaining: 1m 17s\n",
      "47:\tlearn: 263.3330717\ttest: 244.5193115\tbest: 244.5193115 (47)\ttotal: 14.7s\tremaining: 1m 17s\n",
      "48:\tlearn: 262.5089565\ttest: 243.7791843\tbest: 243.7791843 (48)\ttotal: 15s\tremaining: 1m 16s\n",
      "49:\tlearn: 261.5692535\ttest: 243.0014791\tbest: 243.0014791 (49)\ttotal: 15.4s\tremaining: 1m 17s\n",
      "50:\tlearn: 260.7512273\ttest: 242.2995121\tbest: 242.2995121 (50)\ttotal: 15.8s\tremaining: 1m 16s\n",
      "51:\tlearn: 259.8665228\ttest: 241.3211791\tbest: 241.3211791 (51)\ttotal: 16s\tremaining: 1m 16s\n",
      "52:\tlearn: 259.0364447\ttest: 240.7210805\tbest: 240.7210805 (52)\ttotal: 16.3s\tremaining: 1m 16s\n",
      "53:\tlearn: 258.2788264\ttest: 240.0306728\tbest: 240.0306728 (53)\ttotal: 16.6s\tremaining: 1m 15s\n",
      "54:\tlearn: 257.4450303\ttest: 239.0925313\tbest: 239.0925313 (54)\ttotal: 16.9s\tremaining: 1m 15s\n",
      "55:\tlearn: 256.8514326\ttest: 238.6209090\tbest: 238.6209090 (55)\ttotal: 17.2s\tremaining: 1m 15s\n",
      "56:\tlearn: 256.2663939\ttest: 238.1669394\tbest: 238.1669394 (56)\ttotal: 17.5s\tremaining: 1m 14s\n",
      "57:\tlearn: 255.7870497\ttest: 237.8262414\tbest: 237.8262414 (57)\ttotal: 17.8s\tremaining: 1m 14s\n",
      "58:\tlearn: 255.3910270\ttest: 237.3348601\tbest: 237.3348601 (58)\ttotal: 18.1s\tremaining: 1m 13s\n",
      "59:\tlearn: 255.0694102\ttest: 237.1323446\tbest: 237.1323446 (59)\ttotal: 18.4s\tremaining: 1m 13s\n",
      "60:\tlearn: 254.4687202\ttest: 236.6638874\tbest: 236.6638874 (60)\ttotal: 18.7s\tremaining: 1m 13s\n",
      "61:\tlearn: 254.0662849\ttest: 236.4536733\tbest: 236.4536733 (61)\ttotal: 19s\tremaining: 1m 12s\n",
      "62:\tlearn: 253.5836911\ttest: 236.2527734\tbest: 236.2527734 (62)\ttotal: 19.2s\tremaining: 1m 12s\n",
      "63:\tlearn: 252.9579254\ttest: 235.6271021\tbest: 235.6271021 (63)\ttotal: 19.5s\tremaining: 1m 12s\n",
      "64:\tlearn: 252.5117993\ttest: 235.5051998\tbest: 235.5051998 (64)\ttotal: 19.8s\tremaining: 1m 11s\n",
      "65:\tlearn: 252.1748349\ttest: 235.3174195\tbest: 235.3174195 (65)\ttotal: 20.1s\tremaining: 1m 11s\n",
      "66:\tlearn: 251.8723595\ttest: 235.1762613\tbest: 235.1762613 (66)\ttotal: 20.4s\tremaining: 1m 10s\n",
      "67:\tlearn: 251.3293063\ttest: 234.5764635\tbest: 234.5764635 (67)\ttotal: 20.7s\tremaining: 1m 10s\n",
      "68:\tlearn: 250.8973912\ttest: 234.2378587\tbest: 234.2378587 (68)\ttotal: 21s\tremaining: 1m 10s\n",
      "69:\tlearn: 250.4261316\ttest: 234.0277159\tbest: 234.0277159 (69)\ttotal: 21.3s\tremaining: 1m 9s\n",
      "70:\tlearn: 250.0023289\ttest: 233.7795740\tbest: 233.7795740 (70)\ttotal: 21.6s\tremaining: 1m 9s\n",
      "71:\tlearn: 249.6824815\ttest: 233.4796304\tbest: 233.4796304 (71)\ttotal: 21.9s\tremaining: 1m 9s\n",
      "72:\tlearn: 249.3094575\ttest: 233.3999244\tbest: 233.3999244 (72)\ttotal: 22.2s\tremaining: 1m 8s\n",
      "73:\tlearn: 249.1129376\ttest: 233.2747880\tbest: 233.2747880 (73)\ttotal: 22.4s\tremaining: 1m 8s\n",
      "74:\tlearn: 248.5871737\ttest: 232.8349748\tbest: 232.8349748 (74)\ttotal: 22.7s\tremaining: 1m 8s\n",
      "75:\tlearn: 247.9672025\ttest: 232.2815894\tbest: 232.2815894 (75)\ttotal: 23s\tremaining: 1m 7s\n",
      "76:\tlearn: 247.6205485\ttest: 231.9342102\tbest: 231.9342102 (76)\ttotal: 23.3s\tremaining: 1m 7s\n",
      "77:\tlearn: 247.3728011\ttest: 231.9253085\tbest: 231.9253085 (77)\ttotal: 23.6s\tremaining: 1m 7s\n",
      "78:\tlearn: 247.1774098\ttest: 231.8063570\tbest: 231.8063570 (78)\ttotal: 24s\tremaining: 1m 7s\n",
      "79:\tlearn: 246.7776656\ttest: 231.6641836\tbest: 231.6641836 (79)\ttotal: 24.2s\tremaining: 1m 6s\n",
      "80:\tlearn: 246.5493229\ttest: 231.5180942\tbest: 231.5180942 (80)\ttotal: 24.6s\tremaining: 1m 6s\n",
      "81:\tlearn: 246.4640922\ttest: 231.4604765\tbest: 231.4604765 (81)\ttotal: 25s\tremaining: 1m 6s\n",
      "82:\tlearn: 246.0422458\ttest: 231.0422212\tbest: 231.0422212 (82)\ttotal: 25.2s\tremaining: 1m 5s\n",
      "83:\tlearn: 245.7224122\ttest: 230.8703330\tbest: 230.8703330 (83)\ttotal: 25.6s\tremaining: 1m 5s\n",
      "84:\tlearn: 245.4270186\ttest: 230.4469809\tbest: 230.4469809 (84)\ttotal: 25.9s\tremaining: 1m 5s\n",
      "85:\tlearn: 244.9873535\ttest: 229.9865105\tbest: 229.9865105 (85)\ttotal: 26.2s\tremaining: 1m 5s\n",
      "86:\tlearn: 244.7919613\ttest: 230.0154339\tbest: 229.9865105 (85)\ttotal: 26.4s\tremaining: 1m 4s\n"
     ]
    },
    {
     "name": "stdout",
     "output_type": "stream",
     "text": [
      "87:\tlearn: 244.6063352\ttest: 229.8471490\tbest: 229.8471490 (87)\ttotal: 26.7s\tremaining: 1m 4s\n",
      "88:\tlearn: 244.4177743\ttest: 229.7869610\tbest: 229.7869610 (88)\ttotal: 27s\tremaining: 1m 4s\n",
      "89:\tlearn: 244.1910617\ttest: 229.6759892\tbest: 229.6759892 (89)\ttotal: 27.3s\tremaining: 1m 3s\n",
      "90:\tlearn: 243.9311714\ttest: 229.3977660\tbest: 229.3977660 (90)\ttotal: 27.6s\tremaining: 1m 3s\n",
      "91:\tlearn: 243.7761203\ttest: 229.2309928\tbest: 229.2309928 (91)\ttotal: 27.9s\tremaining: 1m 3s\n",
      "92:\tlearn: 243.6497151\ttest: 229.0841055\tbest: 229.0841055 (92)\ttotal: 28.2s\tremaining: 1m 2s\n",
      "93:\tlearn: 243.4405010\ttest: 228.8590694\tbest: 228.8590694 (93)\ttotal: 28.6s\tremaining: 1m 2s\n",
      "94:\tlearn: 243.3689393\ttest: 228.7707776\tbest: 228.7707776 (94)\ttotal: 28.9s\tremaining: 1m 2s\n",
      "95:\tlearn: 243.1082827\ttest: 228.4895154\tbest: 228.4895154 (95)\ttotal: 29.3s\tremaining: 1m 2s\n",
      "96:\tlearn: 242.8310790\ttest: 228.2321103\tbest: 228.2321103 (96)\ttotal: 29.7s\tremaining: 1m 2s\n",
      "97:\tlearn: 242.4174373\ttest: 228.0814205\tbest: 228.0814205 (97)\ttotal: 30.1s\tremaining: 1m 2s\n",
      "98:\tlearn: 242.2490774\ttest: 227.9730532\tbest: 227.9730532 (98)\ttotal: 30.5s\tremaining: 1m 1s\n",
      "99:\tlearn: 242.0864270\ttest: 227.8653257\tbest: 227.8653257 (99)\ttotal: 30.9s\tremaining: 1m 1s\n",
      "100:\tlearn: 241.8875354\ttest: 227.5714857\tbest: 227.5714857 (100)\ttotal: 31.3s\tremaining: 1m 1s\n",
      "101:\tlearn: 241.6744457\ttest: 227.3975150\tbest: 227.3975150 (101)\ttotal: 31.7s\tremaining: 1m 1s\n",
      "102:\tlearn: 241.5988962\ttest: 227.3082960\tbest: 227.3082960 (102)\ttotal: 32s\tremaining: 1m 1s\n",
      "103:\tlearn: 241.4382449\ttest: 227.1052284\tbest: 227.1052284 (103)\ttotal: 32.3s\tremaining: 1m\n",
      "104:\tlearn: 241.3438486\ttest: 227.0212154\tbest: 227.0212154 (104)\ttotal: 32.6s\tremaining: 1m\n",
      "105:\tlearn: 241.0402186\ttest: 226.7059083\tbest: 226.7059083 (105)\ttotal: 33s\tremaining: 1m\n",
      "106:\tlearn: 240.7273205\ttest: 226.3025183\tbest: 226.3025183 (106)\ttotal: 33.3s\tremaining: 1m\n",
      "107:\tlearn: 240.6814612\ttest: 226.2467286\tbest: 226.2467286 (107)\ttotal: 33.6s\tremaining: 59.8s\n",
      "108:\tlearn: 240.5503280\ttest: 226.0694830\tbest: 226.0694830 (108)\ttotal: 33.9s\tremaining: 59.4s\n",
      "109:\tlearn: 240.4012491\ttest: 225.9082914\tbest: 225.9082914 (109)\ttotal: 34.2s\tremaining: 59.1s\n",
      "110:\tlearn: 240.3109284\ttest: 225.9134106\tbest: 225.9082914 (109)\ttotal: 34.5s\tremaining: 58.7s\n",
      "111:\tlearn: 240.1024312\ttest: 225.7920295\tbest: 225.7920295 (111)\ttotal: 34.8s\tremaining: 58.5s\n",
      "112:\tlearn: 239.9868015\ttest: 225.7855397\tbest: 225.7855397 (112)\ttotal: 35.2s\tremaining: 58.2s\n",
      "113:\tlearn: 239.8734207\ttest: 225.6686523\tbest: 225.6686523 (113)\ttotal: 35.6s\tremaining: 58s\n",
      "114:\tlearn: 239.7631731\ttest: 225.6093916\tbest: 225.6093916 (114)\ttotal: 35.9s\tremaining: 57.8s\n",
      "115:\tlearn: 239.4557004\ttest: 225.4453785\tbest: 225.4453785 (115)\ttotal: 36.3s\tremaining: 57.6s\n",
      "116:\tlearn: 239.3256254\ttest: 225.4228518\tbest: 225.4228518 (116)\ttotal: 36.7s\tremaining: 57.4s\n",
      "117:\tlearn: 239.0880768\ttest: 225.2261543\tbest: 225.2261543 (117)\ttotal: 37.1s\tremaining: 57.2s\n",
      "118:\tlearn: 238.9070428\ttest: 225.1456807\tbest: 225.1456807 (118)\ttotal: 37.5s\tremaining: 57s\n",
      "119:\tlearn: 238.9067268\ttest: 225.1476064\tbest: 225.1456807 (118)\ttotal: 37.7s\tremaining: 56.5s\n",
      "120:\tlearn: 238.8712011\ttest: 225.1411384\tbest: 225.1411384 (120)\ttotal: 38s\tremaining: 56.3s\n",
      "121:\tlearn: 238.8024103\ttest: 225.1746126\tbest: 225.1411384 (120)\ttotal: 38.4s\tremaining: 56s\n",
      "122:\tlearn: 238.5513774\ttest: 225.0352649\tbest: 225.0352649 (122)\ttotal: 38.7s\tremaining: 55.7s\n",
      "123:\tlearn: 238.4877100\ttest: 225.0104644\tbest: 225.0104644 (123)\ttotal: 39s\tremaining: 55.4s\n",
      "124:\tlearn: 238.3097745\ttest: 224.8480750\tbest: 224.8480750 (124)\ttotal: 39.3s\tremaining: 55s\n",
      "125:\tlearn: 238.1054105\ttest: 224.7644165\tbest: 224.7644165 (125)\ttotal: 39.6s\tremaining: 54.7s\n",
      "126:\tlearn: 237.8770244\ttest: 224.6459451\tbest: 224.6459451 (126)\ttotal: 39.9s\tremaining: 54.3s\n",
      "127:\tlearn: 237.5498938\ttest: 224.1682791\tbest: 224.1682791 (127)\ttotal: 40.2s\tremaining: 54s\n",
      "128:\tlearn: 237.3817821\ttest: 224.0863778\tbest: 224.0863778 (128)\ttotal: 40.4s\tremaining: 53.6s\n",
      "129:\tlearn: 237.2811188\ttest: 223.9593680\tbest: 223.9593680 (129)\ttotal: 40.8s\tremaining: 53.3s\n",
      "130:\tlearn: 237.2375158\ttest: 223.9172603\tbest: 223.9172603 (130)\ttotal: 41s\tremaining: 52.9s\n",
      "131:\tlearn: 237.0274218\ttest: 223.7676684\tbest: 223.7676684 (131)\ttotal: 41.3s\tremaining: 52.6s\n",
      "132:\tlearn: 236.9873024\ttest: 223.7318861\tbest: 223.7318861 (132)\ttotal: 41.5s\tremaining: 52.1s\n",
      "133:\tlearn: 236.8133318\ttest: 223.6482433\tbest: 223.6482433 (133)\ttotal: 41.8s\tremaining: 51.8s\n",
      "134:\tlearn: 236.8106796\ttest: 223.6481723\tbest: 223.6481723 (134)\ttotal: 42.1s\tremaining: 51.5s\n",
      "135:\tlearn: 236.6941069\ttest: 223.6056499\tbest: 223.6056499 (135)\ttotal: 42.5s\tremaining: 51.2s\n",
      "136:\tlearn: 236.6940282\ttest: 223.6056903\tbest: 223.6056499 (135)\ttotal: 42.7s\tremaining: 50.7s\n",
      "137:\tlearn: 236.6725102\ttest: 223.5992608\tbest: 223.5992608 (137)\ttotal: 43.1s\tremaining: 50.6s\n",
      "138:\tlearn: 236.5363606\ttest: 223.5235794\tbest: 223.5235794 (138)\ttotal: 43.4s\tremaining: 50.3s\n",
      "139:\tlearn: 236.4840122\ttest: 223.4949814\tbest: 223.4949814 (139)\ttotal: 43.8s\tremaining: 50.1s\n",
      "140:\tlearn: 236.3511274\ttest: 223.4277947\tbest: 223.4277947 (140)\ttotal: 44.2s\tremaining: 49.8s\n",
      "141:\tlearn: 236.2311467\ttest: 223.4470244\tbest: 223.4277947 (140)\ttotal: 44.6s\tremaining: 49.6s\n",
      "142:\tlearn: 236.0331535\ttest: 223.3058831\tbest: 223.3058831 (142)\ttotal: 45s\tremaining: 49.4s\n",
      "143:\tlearn: 235.9254798\ttest: 223.2275286\tbest: 223.2275286 (143)\ttotal: 45.3s\tremaining: 49.1s\n",
      "144:\tlearn: 235.8056288\ttest: 223.2329192\tbest: 223.2275286 (143)\ttotal: 45.6s\tremaining: 48.7s\n",
      "145:\tlearn: 235.7994195\ttest: 223.2336480\tbest: 223.2275286 (143)\ttotal: 45.9s\tremaining: 48.4s\n",
      "146:\tlearn: 235.5885125\ttest: 223.0921636\tbest: 223.0921636 (146)\ttotal: 46.2s\tremaining: 48s\n",
      "147:\tlearn: 235.5001135\ttest: 223.0004410\tbest: 223.0004410 (147)\ttotal: 46.4s\tremaining: 47.7s\n",
      "148:\tlearn: 235.4320851\ttest: 223.0019520\tbest: 223.0004410 (147)\ttotal: 46.8s\tremaining: 47.4s\n",
      "149:\tlearn: 235.3692193\ttest: 222.9725502\tbest: 222.9725502 (149)\ttotal: 47s\tremaining: 47s\n",
      "150:\tlearn: 235.2258361\ttest: 222.8635741\tbest: 222.8635741 (150)\ttotal: 47.3s\tremaining: 46.7s\n",
      "151:\tlearn: 235.1648350\ttest: 222.7799395\tbest: 222.7799395 (151)\ttotal: 47.7s\tremaining: 46.4s\n",
      "152:\tlearn: 234.9503151\ttest: 222.5130203\tbest: 222.5130203 (152)\ttotal: 48s\tremaining: 46.1s\n",
      "153:\tlearn: 234.9486579\ttest: 222.5082950\tbest: 222.5082950 (153)\ttotal: 48.2s\tremaining: 45.7s\n",
      "154:\tlearn: 234.6709189\ttest: 222.3305961\tbest: 222.3305961 (154)\ttotal: 48.5s\tremaining: 45.4s\n",
      "155:\tlearn: 234.6701899\ttest: 222.3298634\tbest: 222.3298634 (155)\ttotal: 48.7s\tremaining: 44.9s\n",
      "156:\tlearn: 234.6001757\ttest: 222.2967329\tbest: 222.2967329 (156)\ttotal: 49s\tremaining: 44.6s\n",
      "157:\tlearn: 234.4638091\ttest: 222.0958168\tbest: 222.0958168 (157)\ttotal: 49.5s\tremaining: 44.4s\n",
      "158:\tlearn: 234.3335854\ttest: 222.1508686\tbest: 222.0958168 (157)\ttotal: 49.8s\tremaining: 44.2s\n",
      "159:\tlearn: 234.2712889\ttest: 222.1024721\tbest: 222.0958168 (157)\ttotal: 50.2s\tremaining: 43.9s\n",
      "160:\tlearn: 234.1665605\ttest: 221.9096289\tbest: 221.9096289 (160)\ttotal: 50.6s\tremaining: 43.7s\n",
      "161:\tlearn: 234.0340656\ttest: 221.8899683\tbest: 221.8899683 (161)\ttotal: 51s\tremaining: 43.5s\n",
      "162:\tlearn: 233.9778703\ttest: 221.9298698\tbest: 221.8899683 (161)\ttotal: 51.3s\tremaining: 43.1s\n",
      "163:\tlearn: 233.9534093\ttest: 221.9077649\tbest: 221.8899683 (161)\ttotal: 51.6s\tremaining: 42.8s\n",
      "164:\tlearn: 233.7937592\ttest: 221.6291861\tbest: 221.6291861 (164)\ttotal: 52s\tremaining: 42.5s\n",
      "165:\tlearn: 233.7366007\ttest: 221.5924193\tbest: 221.5924193 (165)\ttotal: 52.4s\tremaining: 42.3s\n",
      "166:\tlearn: 233.5578135\ttest: 221.3448060\tbest: 221.3448060 (166)\ttotal: 52.8s\tremaining: 42s\n",
      "167:\tlearn: 233.5568485\ttest: 221.3449653\tbest: 221.3448060 (166)\ttotal: 52.9s\tremaining: 41.6s\n",
      "168:\tlearn: 233.3612068\ttest: 221.1747146\tbest: 221.1747146 (168)\ttotal: 53.3s\tremaining: 41.3s\n",
      "169:\tlearn: 233.3159710\ttest: 221.1867851\tbest: 221.1747146 (168)\ttotal: 53.7s\tremaining: 41.1s\n",
      "170:\tlearn: 233.1865018\ttest: 221.1693984\tbest: 221.1693984 (170)\ttotal: 54.1s\tremaining: 40.8s\n",
      "171:\tlearn: 233.0626488\ttest: 221.1002304\tbest: 221.1002304 (171)\ttotal: 54.4s\tremaining: 40.5s\n",
      "172:\tlearn: 233.0582267\ttest: 221.1038412\tbest: 221.1002304 (171)\ttotal: 54.8s\tremaining: 40.2s\n",
      "173:\tlearn: 232.9863948\ttest: 221.0601793\tbest: 221.0601793 (173)\ttotal: 55.2s\tremaining: 40s\n"
     ]
    },
    {
     "name": "stdout",
     "output_type": "stream",
     "text": [
      "174:\tlearn: 232.8525584\ttest: 220.9548305\tbest: 220.9548305 (174)\ttotal: 55.5s\tremaining: 39.7s\n",
      "175:\tlearn: 232.7659506\ttest: 220.9323946\tbest: 220.9323946 (175)\ttotal: 55.9s\tremaining: 39.4s\n",
      "176:\tlearn: 232.7018645\ttest: 220.8800656\tbest: 220.8800656 (176)\ttotal: 56.2s\tremaining: 39.1s\n",
      "177:\tlearn: 232.6389600\ttest: 220.8466965\tbest: 220.8466965 (177)\ttotal: 56.6s\tremaining: 38.8s\n",
      "178:\tlearn: 232.5514346\ttest: 220.7513208\tbest: 220.7513208 (178)\ttotal: 57s\tremaining: 38.5s\n",
      "179:\tlearn: 232.5514030\ttest: 220.7508874\tbest: 220.7508874 (179)\ttotal: 57.2s\tremaining: 38.1s\n",
      "180:\tlearn: 232.3801144\ttest: 220.5063198\tbest: 220.5063198 (180)\ttotal: 57.5s\tremaining: 37.8s\n",
      "181:\tlearn: 232.3791318\ttest: 220.5068594\tbest: 220.5063198 (180)\ttotal: 57.7s\tremaining: 37.4s\n",
      "182:\tlearn: 232.1946698\ttest: 220.3536719\tbest: 220.3536719 (182)\ttotal: 58s\tremaining: 37.1s\n",
      "183:\tlearn: 232.1075335\ttest: 220.3413159\tbest: 220.3413159 (183)\ttotal: 58.4s\tremaining: 36.8s\n",
      "184:\tlearn: 232.0683413\ttest: 220.2732370\tbest: 220.2732370 (184)\ttotal: 58.7s\tremaining: 36.5s\n",
      "185:\tlearn: 232.0675658\ttest: 220.2764242\tbest: 220.2732370 (184)\ttotal: 59s\tremaining: 36.2s\n",
      "186:\tlearn: 231.9063977\ttest: 220.1314347\tbest: 220.1314347 (186)\ttotal: 59.4s\tremaining: 35.9s\n",
      "187:\tlearn: 231.8104155\ttest: 220.1147516\tbest: 220.1147516 (187)\ttotal: 59.7s\tremaining: 35.6s\n",
      "188:\tlearn: 231.6832089\ttest: 219.9615597\tbest: 219.9615597 (188)\ttotal: 1m\tremaining: 35.3s\n",
      "189:\tlearn: 231.5670600\ttest: 219.8385348\tbest: 219.8385348 (189)\ttotal: 1m\tremaining: 35s\n",
      "190:\tlearn: 231.4938789\ttest: 219.8035822\tbest: 219.8035822 (190)\ttotal: 1m\tremaining: 34.8s\n",
      "191:\tlearn: 231.4395377\ttest: 219.7857225\tbest: 219.7857225 (191)\ttotal: 1m 1s\tremaining: 34.5s\n",
      "192:\tlearn: 231.3555994\ttest: 219.7550221\tbest: 219.7550221 (192)\ttotal: 1m 1s\tremaining: 34.2s\n",
      "193:\tlearn: 231.2413412\ttest: 219.6786755\tbest: 219.6786755 (193)\ttotal: 1m 2s\tremaining: 33.9s\n",
      "194:\tlearn: 231.2412781\ttest: 219.6782472\tbest: 219.6782472 (194)\ttotal: 1m 2s\tremaining: 33.5s\n",
      "195:\tlearn: 231.1704863\ttest: 219.6386186\tbest: 219.6386186 (195)\ttotal: 1m 2s\tremaining: 33.2s\n",
      "196:\tlearn: 231.0618753\ttest: 219.5039179\tbest: 219.5039179 (196)\ttotal: 1m 2s\tremaining: 32.9s\n",
      "197:\tlearn: 230.9149786\ttest: 219.3646304\tbest: 219.3646304 (197)\ttotal: 1m 3s\tremaining: 32.6s\n",
      "198:\tlearn: 230.6417549\ttest: 219.1886366\tbest: 219.1886366 (198)\ttotal: 1m 3s\tremaining: 32.3s\n",
      "199:\tlearn: 230.6414174\ttest: 219.1896011\tbest: 219.1886366 (198)\ttotal: 1m 3s\tremaining: 31.8s\n",
      "200:\tlearn: 230.5722461\ttest: 219.1446877\tbest: 219.1446877 (200)\ttotal: 1m 3s\tremaining: 31.5s\n",
      "201:\tlearn: 230.4632006\ttest: 219.0279574\tbest: 219.0279574 (201)\ttotal: 1m 4s\tremaining: 31.2s\n",
      "202:\tlearn: 230.3649637\ttest: 218.9790495\tbest: 218.9790495 (202)\ttotal: 1m 4s\tremaining: 30.8s\n",
      "203:\tlearn: 230.2865169\ttest: 218.8885092\tbest: 218.8885092 (203)\ttotal: 1m 4s\tremaining: 30.5s\n",
      "204:\tlearn: 230.1962512\ttest: 218.8274316\tbest: 218.8274316 (204)\ttotal: 1m 5s\tremaining: 30.2s\n",
      "205:\tlearn: 230.1941043\ttest: 218.8231559\tbest: 218.8231559 (205)\ttotal: 1m 5s\tremaining: 29.8s\n",
      "206:\tlearn: 230.1785955\ttest: 218.8161479\tbest: 218.8161479 (206)\ttotal: 1m 5s\tremaining: 29.5s\n",
      "207:\tlearn: 230.1273540\ttest: 218.7850071\tbest: 218.7850071 (207)\ttotal: 1m 5s\tremaining: 29.1s\n",
      "208:\tlearn: 230.0173615\ttest: 218.6332669\tbest: 218.6332669 (208)\ttotal: 1m 6s\tremaining: 28.8s\n",
      "209:\tlearn: 229.8647752\ttest: 218.4955579\tbest: 218.4955579 (209)\ttotal: 1m 6s\tremaining: 28.5s\n",
      "210:\tlearn: 229.8297691\ttest: 218.4642592\tbest: 218.4642592 (210)\ttotal: 1m 6s\tremaining: 28.2s\n",
      "211:\tlearn: 229.6601532\ttest: 218.4134520\tbest: 218.4134520 (211)\ttotal: 1m 7s\tremaining: 28s\n",
      "212:\tlearn: 229.6133875\ttest: 218.3866486\tbest: 218.3866486 (212)\ttotal: 1m 7s\tremaining: 27.7s\n",
      "213:\tlearn: 229.6023781\ttest: 218.3770265\tbest: 218.3770265 (213)\ttotal: 1m 8s\tremaining: 27.3s\n",
      "214:\tlearn: 229.6020294\ttest: 218.3779273\tbest: 218.3770265 (213)\ttotal: 1m 8s\tremaining: 27s\n",
      "215:\tlearn: 229.5875665\ttest: 218.3663912\tbest: 218.3663912 (215)\ttotal: 1m 8s\tremaining: 26.7s\n",
      "216:\tlearn: 229.4553015\ttest: 218.2286827\tbest: 218.2286827 (216)\ttotal: 1m 8s\tremaining: 26.4s\n",
      "217:\tlearn: 229.3992231\ttest: 218.2765024\tbest: 218.2286827 (216)\ttotal: 1m 9s\tremaining: 26.1s\n",
      "218:\tlearn: 229.3284810\ttest: 218.1870324\tbest: 218.1870324 (218)\ttotal: 1m 9s\tremaining: 25.8s\n",
      "219:\tlearn: 229.3282793\ttest: 218.1882986\tbest: 218.1870324 (218)\ttotal: 1m 9s\tremaining: 25.4s\n",
      "220:\tlearn: 229.2427454\ttest: 218.1049269\tbest: 218.1049269 (220)\ttotal: 1m 10s\tremaining: 25.1s\n",
      "221:\tlearn: 229.1224750\ttest: 218.0096362\tbest: 218.0096362 (221)\ttotal: 1m 10s\tremaining: 24.8s\n",
      "222:\tlearn: 229.0028144\ttest: 217.9459494\tbest: 217.9459494 (222)\ttotal: 1m 11s\tremaining: 24.5s\n",
      "223:\tlearn: 228.9621767\ttest: 217.8752548\tbest: 217.8752548 (223)\ttotal: 1m 11s\tremaining: 24.2s\n",
      "224:\tlearn: 228.8445440\ttest: 217.7067913\tbest: 217.7067913 (224)\ttotal: 1m 11s\tremaining: 23.9s\n",
      "225:\tlearn: 228.7301308\ttest: 217.5940397\tbest: 217.5940397 (225)\ttotal: 1m 12s\tremaining: 23.6s\n",
      "226:\tlearn: 228.7298199\ttest: 217.5967084\tbest: 217.5940397 (225)\ttotal: 1m 12s\tremaining: 23.3s\n",
      "227:\tlearn: 228.7037919\ttest: 217.5989699\tbest: 217.5940397 (225)\ttotal: 1m 12s\tremaining: 23s\n",
      "228:\tlearn: 228.5698984\ttest: 217.6235154\tbest: 217.5940397 (225)\ttotal: 1m 13s\tremaining: 22.7s\n",
      "229:\tlearn: 228.4788689\ttest: 217.5971639\tbest: 217.5940397 (225)\ttotal: 1m 13s\tremaining: 22.4s\n",
      "230:\tlearn: 228.2904687\ttest: 217.4871029\tbest: 217.4871029 (230)\ttotal: 1m 14s\tremaining: 22.1s\n",
      "231:\tlearn: 228.2266992\ttest: 217.4348441\tbest: 217.4348441 (231)\ttotal: 1m 14s\tremaining: 21.8s\n",
      "232:\tlearn: 228.1323189\ttest: 217.3711695\tbest: 217.3711695 (232)\ttotal: 1m 14s\tremaining: 21.5s\n",
      "233:\tlearn: 228.1319679\ttest: 217.3698009\tbest: 217.3698009 (233)\ttotal: 1m 14s\tremaining: 21.1s\n",
      "234:\tlearn: 228.0288196\ttest: 217.2709953\tbest: 217.2709953 (234)\ttotal: 1m 15s\tremaining: 20.8s\n",
      "235:\tlearn: 228.0276172\ttest: 217.2682574\tbest: 217.2682574 (235)\ttotal: 1m 15s\tremaining: 20.5s\n",
      "236:\tlearn: 228.0274019\ttest: 217.2687003\tbest: 217.2682574 (235)\ttotal: 1m 15s\tremaining: 20.1s\n",
      "237:\tlearn: 227.9386056\ttest: 217.1433945\tbest: 217.1433945 (237)\ttotal: 1m 16s\tremaining: 19.8s\n",
      "238:\tlearn: 227.8642232\ttest: 217.0624088\tbest: 217.0624088 (238)\ttotal: 1m 16s\tremaining: 19.5s\n",
      "239:\tlearn: 227.7869391\ttest: 216.9755842\tbest: 216.9755842 (239)\ttotal: 1m 16s\tremaining: 19.2s\n",
      "240:\tlearn: 227.7524869\ttest: 216.9692670\tbest: 216.9692670 (240)\ttotal: 1m 17s\tremaining: 18.9s\n",
      "241:\tlearn: 227.7053952\ttest: 216.9082751\tbest: 216.9082751 (241)\ttotal: 1m 17s\tremaining: 18.6s\n",
      "242:\tlearn: 227.7051392\ttest: 216.9095204\tbest: 216.9082751 (241)\ttotal: 1m 17s\tremaining: 18.2s\n",
      "243:\tlearn: 227.6650513\ttest: 216.8463625\tbest: 216.8463625 (243)\ttotal: 1m 18s\tremaining: 17.9s\n",
      "244:\tlearn: 227.6164936\ttest: 216.7794739\tbest: 216.7794739 (244)\ttotal: 1m 18s\tremaining: 17.6s\n",
      "245:\tlearn: 227.5480549\ttest: 216.6860958\tbest: 216.6860958 (245)\ttotal: 1m 18s\tremaining: 17.3s\n",
      "246:\tlearn: 227.5476468\ttest: 216.6873448\tbest: 216.6860958 (245)\ttotal: 1m 18s\tremaining: 16.9s\n",
      "247:\tlearn: 227.5090479\ttest: 216.6663282\tbest: 216.6663282 (247)\ttotal: 1m 19s\tremaining: 16.6s\n",
      "248:\tlearn: 227.5090069\ttest: 216.6669238\tbest: 216.6663282 (247)\ttotal: 1m 19s\tremaining: 16.3s\n",
      "249:\tlearn: 227.3770907\ttest: 216.4470526\tbest: 216.4470526 (249)\ttotal: 1m 19s\tremaining: 16s\n",
      "250:\tlearn: 227.2818610\ttest: 216.3400229\tbest: 216.3400229 (250)\ttotal: 1m 20s\tremaining: 15.7s\n",
      "251:\tlearn: 227.2817545\ttest: 216.3407015\tbest: 216.3400229 (250)\ttotal: 1m 20s\tremaining: 15.3s\n",
      "252:\tlearn: 227.2214059\ttest: 216.2740116\tbest: 216.2740116 (252)\ttotal: 1m 20s\tremaining: 15s\n",
      "253:\tlearn: 227.1255347\ttest: 216.2094152\tbest: 216.2094152 (253)\ttotal: 1m 21s\tremaining: 14.7s\n",
      "254:\tlearn: 227.0080014\ttest: 216.1377092\tbest: 216.1377092 (254)\ttotal: 1m 21s\tremaining: 14.4s\n",
      "255:\tlearn: 226.8978431\ttest: 216.0948376\tbest: 216.0948376 (255)\ttotal: 1m 22s\tremaining: 14.1s\n",
      "256:\tlearn: 226.8687011\ttest: 216.0514417\tbest: 216.0514417 (256)\ttotal: 1m 22s\tremaining: 13.8s\n",
      "257:\tlearn: 226.8410861\ttest: 216.0223227\tbest: 216.0223227 (257)\ttotal: 1m 22s\tremaining: 13.5s\n",
      "258:\tlearn: 226.7939305\ttest: 215.9532469\tbest: 215.9532469 (258)\ttotal: 1m 23s\tremaining: 13.2s\n",
      "259:\tlearn: 226.6537082\ttest: 215.7406661\tbest: 215.7406661 (259)\ttotal: 1m 23s\tremaining: 12.9s\n"
     ]
    },
    {
     "name": "stdout",
     "output_type": "stream",
     "text": [
      "260:\tlearn: 226.6111276\ttest: 215.6717626\tbest: 215.6717626 (260)\ttotal: 1m 24s\tremaining: 12.6s\n",
      "261:\tlearn: 226.6044048\ttest: 215.6641945\tbest: 215.6641945 (261)\ttotal: 1m 24s\tremaining: 12.2s\n",
      "262:\tlearn: 226.6026261\ttest: 215.6650369\tbest: 215.6641945 (261)\ttotal: 1m 24s\tremaining: 11.9s\n",
      "263:\tlearn: 226.5392439\ttest: 215.6278132\tbest: 215.6278132 (263)\ttotal: 1m 25s\tremaining: 11.6s\n",
      "264:\tlearn: 226.5250454\ttest: 215.6099406\tbest: 215.6099406 (264)\ttotal: 1m 25s\tremaining: 11.3s\n",
      "265:\tlearn: 226.4558992\ttest: 215.5568794\tbest: 215.5568794 (265)\ttotal: 1m 25s\tremaining: 11s\n",
      "266:\tlearn: 226.4314091\ttest: 215.5288649\tbest: 215.5288649 (266)\ttotal: 1m 26s\tremaining: 10.6s\n",
      "267:\tlearn: 226.3725262\ttest: 215.4500588\tbest: 215.4500588 (267)\ttotal: 1m 26s\tremaining: 10.3s\n",
      "268:\tlearn: 226.2675661\ttest: 215.2921497\tbest: 215.2921497 (268)\ttotal: 1m 26s\tremaining: 10s\n",
      "269:\tlearn: 226.1717894\ttest: 215.1551096\tbest: 215.1551096 (269)\ttotal: 1m 27s\tremaining: 9.7s\n",
      "270:\tlearn: 226.0944918\ttest: 215.0912428\tbest: 215.0912428 (270)\ttotal: 1m 27s\tremaining: 9.38s\n",
      "271:\tlearn: 226.0776472\ttest: 215.0794482\tbest: 215.0794482 (271)\ttotal: 1m 28s\tremaining: 9.06s\n",
      "272:\tlearn: 226.0181067\ttest: 215.0371718\tbest: 215.0371718 (272)\ttotal: 1m 28s\tremaining: 8.75s\n",
      "273:\tlearn: 225.9409790\ttest: 214.9998126\tbest: 214.9998126 (273)\ttotal: 1m 28s\tremaining: 8.43s\n",
      "274:\tlearn: 225.8855009\ttest: 214.9560600\tbest: 214.9560600 (274)\ttotal: 1m 29s\tremaining: 8.11s\n",
      "275:\tlearn: 225.8422906\ttest: 214.9800314\tbest: 214.9560600 (274)\ttotal: 1m 29s\tremaining: 7.79s\n",
      "276:\tlearn: 225.7681907\ttest: 214.8786818\tbest: 214.8786818 (276)\ttotal: 1m 29s\tremaining: 7.47s\n",
      "277:\tlearn: 225.7555964\ttest: 214.8530577\tbest: 214.8530577 (277)\ttotal: 1m 30s\tremaining: 7.15s\n",
      "278:\tlearn: 225.6530592\ttest: 214.7858331\tbest: 214.7858331 (278)\ttotal: 1m 30s\tremaining: 6.82s\n",
      "279:\tlearn: 225.6444265\ttest: 214.7948919\tbest: 214.7858331 (278)\ttotal: 1m 31s\tremaining: 6.5s\n",
      "280:\tlearn: 225.6152412\ttest: 214.7540883\tbest: 214.7540883 (280)\ttotal: 1m 31s\tremaining: 6.18s\n",
      "281:\tlearn: 225.6101002\ttest: 214.7446936\tbest: 214.7446936 (281)\ttotal: 1m 31s\tremaining: 5.86s\n",
      "282:\tlearn: 225.5955445\ttest: 214.7585711\tbest: 214.7446936 (281)\ttotal: 1m 32s\tremaining: 5.54s\n",
      "283:\tlearn: 225.5369002\ttest: 214.6909156\tbest: 214.6909156 (283)\ttotal: 1m 32s\tremaining: 5.21s\n",
      "284:\tlearn: 225.4629091\ttest: 214.5419835\tbest: 214.5419835 (284)\ttotal: 1m 32s\tremaining: 4.89s\n",
      "285:\tlearn: 225.4078687\ttest: 214.5454487\tbest: 214.5419835 (284)\ttotal: 1m 33s\tremaining: 4.56s\n",
      "286:\tlearn: 225.3040008\ttest: 214.4477014\tbest: 214.4477014 (286)\ttotal: 1m 33s\tremaining: 4.24s\n",
      "287:\tlearn: 225.2422280\ttest: 214.3621396\tbest: 214.3621396 (287)\ttotal: 1m 33s\tremaining: 3.92s\n",
      "288:\tlearn: 225.1081510\ttest: 214.2299897\tbest: 214.2299897 (288)\ttotal: 1m 34s\tremaining: 3.59s\n",
      "289:\tlearn: 225.0437324\ttest: 214.1544434\tbest: 214.1544434 (289)\ttotal: 1m 34s\tremaining: 3.27s\n",
      "290:\tlearn: 225.0301287\ttest: 214.1599675\tbest: 214.1544434 (289)\ttotal: 1m 35s\tremaining: 2.94s\n",
      "291:\tlearn: 224.9250248\ttest: 214.1618795\tbest: 214.1544434 (289)\ttotal: 1m 35s\tremaining: 2.62s\n",
      "292:\tlearn: 224.8848057\ttest: 214.1211832\tbest: 214.1211832 (292)\ttotal: 1m 35s\tremaining: 2.29s\n",
      "293:\tlearn: 224.7624132\ttest: 214.0945247\tbest: 214.0945247 (293)\ttotal: 1m 36s\tremaining: 1.97s\n",
      "294:\tlearn: 224.7045225\ttest: 214.1110154\tbest: 214.0945247 (293)\ttotal: 1m 36s\tremaining: 1.64s\n",
      "295:\tlearn: 224.6395878\ttest: 214.0712524\tbest: 214.0712524 (295)\ttotal: 1m 37s\tremaining: 1.31s\n",
      "296:\tlearn: 224.6256637\ttest: 214.0720763\tbest: 214.0712524 (295)\ttotal: 1m 37s\tremaining: 984ms\n",
      "297:\tlearn: 224.5911349\ttest: 213.9935604\tbest: 213.9935604 (297)\ttotal: 1m 37s\tremaining: 656ms\n",
      "298:\tlearn: 224.5579383\ttest: 213.9607460\tbest: 213.9607460 (298)\ttotal: 1m 38s\tremaining: 328ms\n",
      "299:\tlearn: 224.5408211\ttest: 213.9201608\tbest: 213.9201608 (299)\ttotal: 1m 38s\tremaining: 0us\n",
      "\n",
      "bestTest = 213.9201608\n",
      "bestIteration = 299\n",
      "\n"
     ]
    },
    {
     "data": {
      "text/plain": [
       "<catboost.core.CatBoostRegressor at 0x2598a706438>"
      ]
     },
     "execution_count": 45,
     "metadata": {},
     "output_type": "execute_result"
    }
   ],
   "source": [
    "model.fit(df_raw_feats, target,cat_features=[1,23,24,25], eval_set=(X_valid,y_valid))"
   ]
  },
  {
   "cell_type": "code",
   "execution_count": 265,
   "metadata": {
    "ExecuteTime": {
     "end_time": "2018-08-31T19:00:46.427512Z",
     "start_time": "2018-08-31T19:00:45.570739Z"
    },
    "hidden": true
   },
   "outputs": [],
   "source": [
    "model.save_model(f'{PATH}\\\\catboost_new_feats_model', export_parameters=dict())"
   ]
  },
  {
   "cell_type": "code",
   "execution_count": 46,
   "metadata": {
    "ExecuteTime": {
     "end_time": "2018-09-01T03:04:23.515659Z",
     "start_time": "2018-09-01T03:04:22.188638Z"
    },
    "hidden": true
   },
   "outputs": [
    {
     "data": {
      "text/plain": [
       "array([ 185.86597,  104.54369,   28.44292,   20.38781,  303.19668,   17.94036,   16.89321,   88.93819,\n",
       "         52.39601,   16.89539])"
      ]
     },
     "execution_count": 46,
     "metadata": {},
     "output_type": "execute_result"
    }
   ],
   "source": [
    "preds = model.predict(df_test_feats);\n",
    "preds[:10]"
   ]
  },
  {
   "cell_type": "code",
   "execution_count": 59,
   "metadata": {
    "ExecuteTime": {
     "end_time": "2018-09-01T03:22:34.524410Z",
     "start_time": "2018-09-01T03:22:34.260873Z"
    },
    "hidden": true
   },
   "outputs": [
    {
     "data": {
      "text/plain": [
       "(178.53712163824522, 715.88228024998364, 36374.0)"
      ]
     },
     "execution_count": 59,
     "metadata": {},
     "output_type": "execute_result"
    }
   ],
   "source": [
    "np.mean(target), np.std(target), np.max(target)"
   ]
  },
  {
   "cell_type": "code",
   "execution_count": 60,
   "metadata": {
    "ExecuteTime": {
     "end_time": "2018-09-01T03:23:04.530818Z",
     "start_time": "2018-09-01T03:23:04.292499Z"
    },
    "hidden": true
   },
   "outputs": [
    {
     "data": {
      "text/plain": [
       "(237.93752569435802, 1041.744052814126, 27649.059268086836)"
      ]
     },
     "execution_count": 60,
     "metadata": {},
     "output_type": "execute_result"
    }
   ],
   "source": [
    "np.mean(preds), np.std(preds), np.max(preds)"
   ]
  },
  {
   "cell_type": "code",
   "execution_count": 64,
   "metadata": {
    "ExecuteTime": {
     "end_time": "2018-09-01T03:27:48.264741Z",
     "start_time": "2018-09-01T03:27:48.054602Z"
    },
    "hidden": true
   },
   "outputs": [],
   "source": [
    "clipped_preds = np.where(preds>15000,15000,preds )"
   ]
  },
  {
   "cell_type": "code",
   "execution_count": 65,
   "metadata": {
    "ExecuteTime": {
     "end_time": "2018-09-01T03:27:48.484440Z",
     "start_time": "2018-09-01T03:27:48.264741Z"
    },
    "hidden": true
   },
   "outputs": [],
   "source": [
    "submit = make_submission(clipped_preds)"
   ]
  },
  {
   "cell_type": "code",
   "execution_count": 66,
   "metadata": {
    "ExecuteTime": {
     "end_time": "2018-09-01T03:27:49.088820Z",
     "start_time": "2018-09-01T03:27:48.484440Z"
    },
    "hidden": true
   },
   "outputs": [],
   "source": [
    "submit.to_csv(f'{PATH}\\\\Adi_catboost_with_new_feats_10092018.csv', index=None)"
   ]
  },
  {
   "cell_type": "markdown",
   "metadata": {
    "heading_collapsed": true
   },
   "source": [
    "## xgb"
   ]
  },
  {
   "cell_type": "code",
   "execution_count": 34,
   "metadata": {
    "ExecuteTime": {
     "end_time": "2018-09-01T08:16:15.726644Z",
     "start_time": "2018-09-01T08:16:15.436170Z"
    },
    "hidden": true
   },
   "outputs": [],
   "source": [
    "from sklearn.model_selection import train_test_split\n",
    "X_train, X_valid, y_train, y_valid = train_test_split(pd.get_dummies(df_raw_feats,prefix='dummy'), target, test_size=0.25, random_state=42)"
   ]
  },
  {
   "cell_type": "code",
   "execution_count": 46,
   "metadata": {
    "ExecuteTime": {
     "end_time": "2018-09-01T08:24:55.407712Z",
     "start_time": "2018-09-01T08:24:55.124081Z"
    },
    "hidden": true
   },
   "outputs": [],
   "source": [
    "from sklearn.metrics import mean_squared_error as mse\n",
    "def runXGB(train_X, train_y, test_X, test_y=None):\n",
    "    \n",
    "        params = {}\n",
    "        params['booster'] = 'gblinear'\n",
    "        params[\"objective\"] = \"gpu:reg:linear\"\n",
    "        params[\"eta\"] = 0.02\n",
    "        params[\"min_child_weight\"] = 2\n",
    "        params[\"subsample\"] = 0.9\n",
    "        params[\"colsample_bytree\"] = 0.8\n",
    "        params[\"silent\"] = 0\n",
    "        params[\"max_depth\"] = 8\n",
    "        params[\"seed\"] = 1\n",
    "        params['alpha'] = .05\n",
    "        #params['tree_method'] = 'gpu_hist'\n",
    "        params['gamma'] = 3\n",
    "        \n",
    "        plst = list(params.items())\n",
    "        num_rounds = 900\n",
    "\n",
    "        xgtrain = xgb.DMatrix(train_X, label=train_y)\n",
    "        xgtest = xgb.DMatrix(test_X)\n",
    "        model = xgb.train(plst, xgtrain, num_rounds)\n",
    "        pred_test_y = model.predict(xgtest)\n",
    "        return model, pred_test_y\n",
    "\n",
    "def rmse(act_y, pred_y):\n",
    "    return np.sqrt(mse(act_y, pred_y))"
   ]
  },
  {
   "cell_type": "code",
   "execution_count": 47,
   "metadata": {
    "ExecuteTime": {
     "end_time": "2018-09-01T08:26:34.984927Z",
     "start_time": "2018-09-01T08:24:55.710820Z"
    },
    "hidden": true
   },
   "outputs": [],
   "source": [
    "model_xgb, preds = runXGB(pd.get_dummies(df_raw_feats,prefix='dummy'), target, pd.get_dummies(df_test_feats,prefix='dummy'))"
   ]
  },
  {
   "cell_type": "code",
   "execution_count": 48,
   "metadata": {
    "ExecuteTime": {
     "end_time": "2018-09-01T08:26:49.695342Z",
     "start_time": "2018-09-01T08:26:49.449186Z"
    },
    "hidden": true
   },
   "outputs": [
    {
     "data": {
      "text/plain": [
       "array([ 372.51456,  614.90576,  214.76334, ...,  177.34044,    5.16377,   58.18262], dtype=float32)"
      ]
     },
     "execution_count": 48,
     "metadata": {},
     "output_type": "execute_result"
    }
   ],
   "source": [
    "preds"
   ]
  },
  {
   "cell_type": "code",
   "execution_count": 49,
   "metadata": {
    "ExecuteTime": {
     "end_time": "2018-09-01T08:27:50.522729Z",
     "start_time": "2018-09-01T08:27:49.848357Z"
    },
    "hidden": true
   },
   "outputs": [],
   "source": [
    "submit = make_submission(preds)\n",
    "submit.to_csv(f'{PATH}\\\\xgb_gblinear_preds.csv', index=None)"
   ]
  },
  {
   "cell_type": "code",
   "execution_count": 290,
   "metadata": {
    "ExecuteTime": {
     "end_time": "2018-08-31T19:16:00.942580Z",
     "start_time": "2018-08-31T19:16:00.609451Z"
    },
    "hidden": true
   },
   "outputs": [],
   "source": [
    "import joblib"
   ]
  },
  {
   "cell_type": "code",
   "execution_count": 291,
   "metadata": {
    "ExecuteTime": {
     "end_time": "2018-08-31T19:16:35.186909Z",
     "start_time": "2018-08-31T19:16:34.906354Z"
    },
    "hidden": true
   },
   "outputs": [
    {
     "data": {
      "text/plain": [
       "['D:\\\\Github\\\\fastai\\\\courses\\\\ml1\\\\AV_Enigma_ML\\\\xgb_model']"
      ]
     },
     "execution_count": 291,
     "metadata": {},
     "output_type": "execute_result"
    }
   ],
   "source": [
    "joblib.dump(my_xgb, f'{PATH}\\\\xgb_model')"
   ]
  },
  {
   "cell_type": "code",
   "execution_count": 292,
   "metadata": {
    "ExecuteTime": {
     "end_time": "2018-08-31T19:16:56.050896Z",
     "start_time": "2018-08-31T19:16:55.759225Z"
    },
    "hidden": true
   },
   "outputs": [],
   "source": [
    "xgb_model_load = joblib.load(f'{PATH}\\\\xgb_model')"
   ]
  },
  {
   "cell_type": "code",
   "execution_count": 293,
   "metadata": {
    "ExecuteTime": {
     "end_time": "2018-08-31T19:17:08.279053Z",
     "start_time": "2018-08-31T19:17:07.850721Z"
    },
    "hidden": true
   },
   "outputs": [
    {
     "data": {
      "text/plain": [
       "array([ 0.02511,  0.01012,  0.01531,  0.01939,  0.039  ,  0.34472,  0.02941,  0.0075 ,  0.00027,  0.00417,\n",
       "        0.00018,  0.37205,  0.02329,  0.0134 ,  0.02684,  0.00262,  0.00364,  0.00155,  0.00421,  0.01442,\n",
       "        0.00705,  0.01721,  0.00342,  0.00013,  0.00266,  0.00031,  0.00164,  0.00031,  0.00262,  0.00324,\n",
       "        0.00164,  0.00075,  0.00067,  0.00115], dtype=float32)"
      ]
     },
     "execution_count": 293,
     "metadata": {},
     "output_type": "execute_result"
    }
   ],
   "source": [
    "xgb_model_load.feature_importances_"
   ]
  },
  {
   "cell_type": "markdown",
   "metadata": {
    "heading_collapsed": true
   },
   "source": [
    "## NN"
   ]
  },
  {
   "cell_type": "code",
   "execution_count": 135,
   "metadata": {
    "ExecuteTime": {
     "end_time": "2018-09-01T04:15:12.707359Z",
     "start_time": "2018-09-01T04:15:12.314466Z"
    },
    "hidden": true
   },
   "outputs": [],
   "source": [
    "from keras.models import Sequential\n",
    "from keras.layers import Dense, Dropout\n",
    "from keras import metrics"
   ]
  },
  {
   "cell_type": "code",
   "execution_count": 127,
   "metadata": {
    "ExecuteTime": {
     "end_time": "2018-09-01T04:11:14.005468Z",
     "start_time": "2018-09-01T04:11:13.511623Z"
    },
    "hidden": true
   },
   "outputs": [],
   "source": [
    "df_raw_feats_dummy = pd.get_dummies(df_raw_feats.drop(['bin_Reputation','bin_Views','bin_Answers'],axis=1),prefix='dummy')\n",
    "df_test_feats_dummy = pd.get_dummies(df_test_feats.drop(['bin_Reputation','bin_Views','bin_Answers'],axis=1),prefix='dummy')"
   ]
  },
  {
   "cell_type": "code",
   "execution_count": 142,
   "metadata": {
    "ExecuteTime": {
     "end_time": "2018-09-01T04:19:48.343081Z",
     "start_time": "2018-09-01T04:19:48.013237Z"
    },
    "hidden": true
   },
   "outputs": [
    {
     "data": {
      "text/plain": [
       "((218673, 32), (141448, 32))"
      ]
     },
     "execution_count": 142,
     "metadata": {},
     "output_type": "execute_result"
    }
   ],
   "source": [
    "df_raw_feats_dummy.shape, df_test_feats_dummy.shape"
   ]
  },
  {
   "cell_type": "code",
   "execution_count": 155,
   "metadata": {
    "ExecuteTime": {
     "end_time": "2018-09-01T04:22:36.910323Z",
     "start_time": "2018-09-01T04:22:36.400182Z"
    },
    "hidden": true
   },
   "outputs": [
    {
     "data": {
      "text/plain": [
       "StandardScaler(copy=True, with_mean=True, with_std=True)"
      ]
     },
     "execution_count": 155,
     "metadata": {},
     "output_type": "execute_result"
    }
   ],
   "source": [
    "scaler = StandardScaler()\n",
    "scaler.fit(df_raw_feats_dummy)"
   ]
  },
  {
   "cell_type": "code",
   "execution_count": 161,
   "metadata": {
    "ExecuteTime": {
     "end_time": "2018-09-01T04:23:35.183777Z",
     "start_time": "2018-09-01T04:23:34.547051Z"
    },
    "hidden": true
   },
   "outputs": [],
   "source": [
    "X_train = scaler.fit_transform(df_raw_feats_dummy)\n",
    "X_test = scaler.transform(df_test_feats_dummy)"
   ]
  },
  {
   "cell_type": "code",
   "execution_count": 168,
   "metadata": {
    "ExecuteTime": {
     "end_time": "2018-09-01T04:25:34.151133Z",
     "start_time": "2018-09-01T04:25:33.732352Z"
    },
    "hidden": true
   },
   "outputs": [],
   "source": [
    "model = Sequential()\n",
    "model.add(Dense(100, input_dim=df_raw_feats_dummy.shape[1], activation='relu'))\n",
    "model.add(Dense(50, activation='relu'))\n",
    "model.add(Dropout(0.2))\n",
    "model.add(Dense(16, activation='relu'))\n",
    "model.add(Dense(1))"
   ]
  },
  {
   "cell_type": "code",
   "execution_count": 169,
   "metadata": {
    "ExecuteTime": {
     "end_time": "2018-09-01T04:25:34.491815Z",
     "start_time": "2018-09-01T04:25:34.151133Z"
    },
    "hidden": true
   },
   "outputs": [
    {
     "name": "stdout",
     "output_type": "stream",
     "text": [
      "_________________________________________________________________\n",
      "Layer (type)                 Output Shape              Param #   \n",
      "=================================================================\n",
      "dense_13 (Dense)             (None, 100)               3300      \n",
      "_________________________________________________________________\n",
      "dense_14 (Dense)             (None, 50)                5050      \n",
      "_________________________________________________________________\n",
      "dropout_4 (Dropout)          (None, 50)                0         \n",
      "_________________________________________________________________\n",
      "dense_15 (Dense)             (None, 16)                816       \n",
      "_________________________________________________________________\n",
      "dense_16 (Dense)             (None, 1)                 17        \n",
      "=================================================================\n",
      "Total params: 9,183\n",
      "Trainable params: 9,183\n",
      "Non-trainable params: 0\n",
      "_________________________________________________________________\n"
     ]
    }
   ],
   "source": [
    "model.summary()"
   ]
  },
  {
   "cell_type": "code",
   "execution_count": 170,
   "metadata": {
    "ExecuteTime": {
     "end_time": "2018-09-01T04:25:34.851708Z",
     "start_time": "2018-09-01T04:25:34.491815Z"
    },
    "hidden": true
   },
   "outputs": [],
   "source": [
    "model.compile(loss='mean_squared_error', optimizer='sgd',metrics=['mae'])"
   ]
  },
  {
   "cell_type": "code",
   "execution_count": 171,
   "metadata": {
    "ExecuteTime": {
     "end_time": "2018-09-01T04:31:49.749259Z",
     "start_time": "2018-09-01T04:25:34.851708Z"
    },
    "hidden": true,
    "scrolled": true
   },
   "outputs": [
    {
     "name": "stdout",
     "output_type": "stream",
     "text": [
      "Train on 174938 samples, validate on 43735 samples\n",
      "Epoch 1/10\n"
     ]
    },
    {
     "name": "stdout",
     "output_type": "stream",
     "text": [
      " 42304/174938 [======>.......................] - ETA: 1077s - loss: 16.7450 - mean_absolute_error: 3.631 - ETA: 170s - loss: 9.5557 - mean_absolute_error: 2.6167  - ETA: 96s - loss: 6.3488 - mean_absolute_error: 1.918 - ETA: 73s - loss: 4.8702 - mean_absolute_error: 1.64 - ETA: 62s - loss: 3.9035 - mean_absolute_error: 1.43 - ETA: 55s - loss: 3.3155 - mean_absolute_error: 1.30 - ETA: 50s - loss: 2.8769 - mean_absolute_error: 1.20 - ETA: 48s - loss: 2.6435 - mean_absolute_error: 1.14 - ETA: 44s - loss: 2.4108 - mean_absolute_error: 1.09 - ETA: 41s - loss: 2.1664 - mean_absolute_error: 1.02 - ETA: 40s - loss: 2.0341 - mean_absolute_error: 0.99 - ETA: 40s - loss: 1.9350 - mean_absolute_error: 0.97 - ETA: 39s - loss: 1.8478 - mean_absolute_error: 0.94 - ETA: 38s - loss: 1.7663 - mean_absolute_error: 0.92 - ETA: 37s - loss: 1.7033 - mean_absolute_error: 0.91 - ETA: 37s - loss: 1.6338 - mean_absolute_error: 0.89 - ETA: 36s - loss: 1.5816 - mean_absolute_error: 0.88 - ETA: 36s - loss: 1.5368 - mean_absolute_error: 0.87 - ETA: 35s - loss: 1.4973 - mean_absolute_error: 0.86 - ETA: 35s - loss: 1.4539 - mean_absolute_error: 0.85 - ETA: 34s - loss: 1.4061 - mean_absolute_error: 0.83 - ETA: 34s - loss: 1.3727 - mean_absolute_error: 0.82 - ETA: 34s - loss: 1.3466 - mean_absolute_error: 0.82 - ETA: 33s - loss: 1.3186 - mean_absolute_error: 0.81 - ETA: 33s - loss: 1.2910 - mean_absolute_error: 0.80 - ETA: 33s - loss: 1.2673 - mean_absolute_error: 0.79 - ETA: 33s - loss: 1.2458 - mean_absolute_error: 0.79 - ETA: 32s - loss: 1.2191 - mean_absolute_error: 0.78 - ETA: 32s - loss: 1.1929 - mean_absolute_error: 0.77 - ETA: 32s - loss: 1.1708 - mean_absolute_error: 0.77 - ETA: 31s - loss: 1.1501 - mean_absolute_error: 0.76 - ETA: 31s - loss: 1.1336 - mean_absolute_error: 0.75 - ETA: 31s - loss: 1.1193 - mean_absolute_error: 0.75 - ETA: 31s - loss: 1.1055 - mean_absolute_error: 0.75 - ETA: 31s - loss: 1.0952 - mean_absolute_error: 0.74 - ETA: 31s - loss: 1.0846 - mean_absolute_error: 0.74 - ETA: 31s - loss: 1.0733 - mean_absolute_error: 0.74 - ETA: 31s - loss: 1.0604 - mean_absolute_error: 0.73 - ETA: 31s - loss: 1.0470 - mean_absolute_error: 0.73 - ETA: 31s - loss: 1.0369 - mean_absolute_error: 0.72 - ETA: 31s - loss: 1.0252 - mean_absolute_error: 0.72 - ETA: 30s - loss: 1.0168 - mean_absolute_error: 0.72 - ETA: 30s - loss: 1.0103 - mean_absolute_error: 0.72 - ETA: 30s - loss: 1.0001 - mean_absolute_error: 0.71 - ETA: 30s - loss: 0.9913 - mean_absolute_error: 0.71 - ETA: 30s - loss: 0.9841 - mean_absolute_error: 0.71 - ETA: 30s - loss: 0.9762 - mean_absolute_error: 0.71 - ETA: 30s - loss: 0.9683 - mean_absolute_error: 0.70 - ETA: 30s - loss: 0.9593 - mean_absolute_error: 0.70 - ETA: 30s - loss: 0.9522 - mean_absolute_error: 0.70 - ETA: 30s - loss: 0.9461 - mean_absolute_error: 0.70 - ETA: 30s - loss: 0.9388 - mean_absolute_error: 0.69 - ETA: 30s - loss: 0.9292 - mean_absolute_error: 0.69 - ETA: 30s - loss: 0.9235 - mean_absolute_error: 0.69 - ETA: 30s - loss: 0.9191 - mean_absolute_error: 0.69 - ETA: 30s - loss: 0.9136 - mean_absolute_error: 0.68 - ETA: 30s - loss: 0.9060 - mean_absolute_error: 0.68 - ETA: 30s - loss: 0.9005 - mean_absolute_error: 0.68 - ETA: 30s - loss: 0.8934 - mean_absolute_error: 0.68 - ETA: 29s - loss: 0.8855 - mean_absolute_error: 0.67 - ETA: 29s - loss: 0.8806 - mean_absolute_error: 0.67 - ETA: 29s - loss: 0.8777 - mean_absolute_error: 0.67 - ETA: 29s - loss: 0.8741 - mean_absolute_error: 0.67 - ETA: 29s - loss: 0.8687 - mean_absolute_error: 0.67 - ETA: 29s - loss: 0.8644 - mean_absolute_error: 0.67 - ETA: 29s - loss: 0.8609 - mean_absolute_error: 0.67 - ETA: 29s - loss: 0.8576 - mean_absolute_error: 0.67 - ETA: 29s - loss: 0.8531 - mean_absolute_error: 0.66 - ETA: 29s - loss: 0.8467 - mean_absolute_error: 0.66 - ETA: 29s - loss: 0.8423 - mean_absolute_error: 0.66 - ETA: 29s - loss: 0.8386 - mean_absolute_error: 0.66 - ETA: 28s - loss: 0.8333 - mean_absolute_error: 0.66 - ETA: 28s - loss: 0.8298 - mean_absolute_error: 0.66 - ETA: 28s - loss: 0.8249 - mean_absolute_error: 0.65 - ETA: 28s - loss: 0.8216 - mean_absolute_error: 0.65 - ETA: 28s - loss: 0.8175 - mean_absolute_error: 0.65 - ETA: 28s - loss: 0.8127 - mean_absolute_error: 0.65 - ETA: 28s - loss: 0.8078 - mean_absolute_error: 0.65 - ETA: 28s - loss: 0.8037 - mean_absolute_error: 0.65 - ETA: 28s - loss: 0.8010 - mean_absolute_error: 0.65 - ETA: 27s - loss: 0.7980 - mean_absolute_error: 0.64 - ETA: 27s - loss: 0.7949 - mean_absolute_error: 0.64 - ETA: 27s - loss: 0.7919 - mean_absolute_error: 0.64 - ETA: 27s - loss: 0.7894 - mean_absolute_error: 0.64 - ETA: 27s - loss: 0.7877 - mean_absolute_error: 0.64 - ETA: 27s - loss: 0.7860 - mean_absolute_error: 0.64 - ETA: 27s - loss: 0.7838 - mean_absolute_error: 0.64 - ETA: 27s - loss: 0.7819 - mean_absolute_error: 0.64 - ETA: 27s - loss: 0.7790 - mean_absolute_error: 0.64 - ETA: 27s - loss: 0.7757 - mean_absolute_error: 0.64 - ETA: 27s - loss: 0.7732 - mean_absolute_error: 0.64 - ETA: 27s - loss: 0.7709 - mean_absolute_error: 0.64 - ETA: 27s - loss: 0.7688 - mean_absolute_error: 0.63 - ETA: 27s - loss: 0.7663 - mean_absolute_error: 0.63 - ETA: 27s - loss: 0.7657 - mean_absolute_error: 0.63 - ETA: 27s - loss: 0.7628 - mean_absolute_error: 0.63 - ETA: 27s - loss: 0.7609 - mean_absolute_error: 0.63 - ETA: 27s - loss: 0.7585 - mean_absolute_error: 0.63 - ETA: 27s - loss: 0.7568 - mean_absolute_error: 0.63 - ETA: 27s - loss: 0.7552 - mean_absolute_error: 0.63 - ETA: 27s - loss: 0.7544 - mean_absolute_error: 0.63 - ETA: 27s - loss: 0.7526 - mean_absolute_error: 0.63 - ETA: 27s - loss: 0.7510 - mean_absolute_error: 0.63 - ETA: 27s - loss: 0.7494 - mean_absolute_error: 0.63 - ETA: 27s - loss: 0.7471 - mean_absolute_error: 0.63 - ETA: 27s - loss: 0.7460 - mean_absolute_error: 0.63 - ETA: 27s - loss: 0.7444 - mean_absolute_error: 0.63 - ETA: 27s - loss: 0.7429 - mean_absolute_error: 0.62 - ETA: 27s - loss: 0.7408 - mean_absolute_error: 0.62 - ETA: 27s - loss: 0.7396 - mean_absolute_error: 0.62 - ETA: 27s - loss: 0.7376 - mean_absolute_error: 0.62 - ETA: 26s - loss: 0.7360 - mean_absolute_error: 0.62 - ETA: 26s - loss: 0.7347 - mean_absolute_error: 0.62 - ETA: 26s - loss: 0.7332 - mean_absolute_error: 0.62 - ETA: 26s - loss: 0.7313 - mean_absolute_error: 0.62 - ETA: 26s - loss: 0.7298 - mean_absolute_error: 0.62 - ETA: 26s - loss: 0.7276 - mean_absolute_error: 0.62 - ETA: 26s - loss: 0.7257 - mean_absolute_error: 0.62 - ETA: 26s - loss: 0.7257 - mean_absolute_error: 0.62 - ETA: 26s - loss: 0.7238 - mean_absolute_error: 0.62 - ETA: 26s - loss: 0.7222 - mean_absolute_error: 0.62 - ETA: 26s - loss: 0.7194 - mean_absolute_error: 0.62 - ETA: 26s - loss: 0.7174 - mean_absolute_error: 0.62 - ETA: 26s - loss: 0.7159 - mean_absolute_error: 0.61 - ETA: 26s - loss: 0.7146 - mean_absolute_error: 0.61 - ETA: 26s - loss: 0.7137 - mean_absolute_error: 0.61 - ETA: 26s - loss: 0.7119 - mean_absolute_error: 0.61 - ETA: 26s - loss: 0.7109 - mean_absolute_error: 0.61 - ETA: 26s - loss: 0.7095 - mean_absolute_error: 0.61 - ETA: 26s - loss: 0.7088 - mean_absolute_error: 0.61 - ETA: 26s - loss: 0.7070 - mean_absolute_error: 0.61 - ETA: 26s - loss: 0.7068 - mean_absolute_error: 0.61 - ETA: 26s - loss: 0.7053 - mean_absolute_error: 0.61 - ETA: 26s - loss: 0.7036 - mean_absolute_error: 0.61 - ETA: 26s - loss: 0.7030 - mean_absolute_error: 0.61 - ETA: 25s - loss: 0.7005 - mean_absolute_error: 0.61 - ETA: 25s - loss: 0.6994 - mean_absolute_error: 0.61 - ETA: 25s - loss: 0.6976 - mean_absolute_error: 0.61 - ETA: 25s - loss: 0.6964 - mean_absolute_error: 0.61 - ETA: 25s - loss: 0.6947 - mean_absolute_error: 0.61 - ETA: 25s - loss: 0.6935 - mean_absolute_error: 0.61 - ETA: 25s - loss: 0.6917 - mean_absolute_error: 0.61 - ETA: 25s - loss: 0.6903 - mean_absolute_error: 0.60 - ETA: 25s - loss: 0.6895 - mean_absolute_error: 0.60 - ETA: 25s - loss: 0.6877 - mean_absolute_error: 0.60 - ETA: 25s - loss: 0.6865 - mean_absolute_error: 0.60 - ETA: 25s - loss: 0.6864 - mean_absolute_error: 0.60 - ETA: 25s - loss: 0.6853 - mean_absolute_error: 0.60 - ETA: 25s - loss: 0.6842 - mean_absolute_error: 0.60 - ETA: 25s - loss: 0.6828 - mean_absolute_error: 0.60 84096/174938 [=============>................] - ETA: 25s - loss: 0.6815 - mean_absolute_error: 0.60 - ETA: 25s - loss: 0.6817 - mean_absolute_error: 0.60 - ETA: 25s - loss: 0.6805 - mean_absolute_error: 0.60 - ETA: 25s - loss: 0.6801 - mean_absolute_error: 0.60 - ETA: 25s - loss: 0.6793 - mean_absolute_error: 0.60 - ETA: 25s - loss: 0.6779 - mean_absolute_error: 0.60 - ETA: 24s - loss: 0.6769 - mean_absolute_error: 0.60 - ETA: 24s - loss: 0.6758 - mean_absolute_error: 0.60 - ETA: 24s - loss: 0.6750 - mean_absolute_error: 0.60 - ETA: 24s - loss: 0.6736 - mean_absolute_error: 0.60 - ETA: 24s - loss: 0.6730 - mean_absolute_error: 0.60 - ETA: 24s - loss: 0.6717 - mean_absolute_error: 0.60 - ETA: 24s - loss: 0.6705 - mean_absolute_error: 0.60 - ETA: 24s - loss: 0.6699 - mean_absolute_error: 0.60 - ETA: 24s - loss: 0.6690 - mean_absolute_error: 0.60 - ETA: 24s - loss: 0.6687 - mean_absolute_error: 0.60 - ETA: 24s - loss: 0.6678 - mean_absolute_error: 0.60 - ETA: 24s - loss: 0.6669 - mean_absolute_error: 0.60 - ETA: 24s - loss: 0.6668 - mean_absolute_error: 0.60 - ETA: 24s - loss: 0.6663 - mean_absolute_error: 0.60 - ETA: 24s - loss: 0.6655 - mean_absolute_error: 0.59 - ETA: 24s - loss: 0.6642 - mean_absolute_error: 0.59 - ETA: 24s - loss: 0.6633 - mean_absolute_error: 0.59 - ETA: 24s - loss: 0.6630 - mean_absolute_error: 0.59 - ETA: 24s - loss: 0.6624 - mean_absolute_error: 0.59 - ETA: 24s - loss: 0.6615 - mean_absolute_error: 0.59 - ETA: 24s - loss: 0.6612 - mean_absolute_error: 0.59 - ETA: 24s - loss: 0.6604 - mean_absolute_error: 0.59 - ETA: 24s - loss: 0.6588 - mean_absolute_error: 0.59 - ETA: 24s - loss: 0.6583 - mean_absolute_error: 0.59 - ETA: 23s - loss: 0.6574 - mean_absolute_error: 0.59 - ETA: 23s - loss: 0.6567 - mean_absolute_error: 0.59 - ETA: 23s - loss: 0.6553 - mean_absolute_error: 0.59 - ETA: 23s - loss: 0.6551 - mean_absolute_error: 0.59 - ETA: 23s - loss: 0.6540 - mean_absolute_error: 0.59 - ETA: 23s - loss: 0.6527 - mean_absolute_error: 0.59 - ETA: 23s - loss: 0.6523 - mean_absolute_error: 0.59 - ETA: 23s - loss: 0.6515 - mean_absolute_error: 0.59 - ETA: 23s - loss: 0.6502 - mean_absolute_error: 0.59 - ETA: 23s - loss: 0.6489 - mean_absolute_error: 0.59 - ETA: 23s - loss: 0.6473 - mean_absolute_error: 0.59 - ETA: 23s - loss: 0.6473 - mean_absolute_error: 0.59 - ETA: 23s - loss: 0.6469 - mean_absolute_error: 0.59 - ETA: 23s - loss: 0.6467 - mean_absolute_error: 0.59 - ETA: 23s - loss: 0.6458 - mean_absolute_error: 0.59 - ETA: 23s - loss: 0.6457 - mean_absolute_error: 0.59 - ETA: 23s - loss: 0.6445 - mean_absolute_error: 0.59 - ETA: 23s - loss: 0.6439 - mean_absolute_error: 0.59 - ETA: 22s - loss: 0.6430 - mean_absolute_error: 0.59 - ETA: 22s - loss: 0.6420 - mean_absolute_error: 0.58 - ETA: 22s - loss: 0.6408 - mean_absolute_error: 0.58 - ETA: 22s - loss: 0.6400 - mean_absolute_error: 0.58 - ETA: 22s - loss: 0.6390 - mean_absolute_error: 0.58 - ETA: 22s - loss: 0.6380 - mean_absolute_error: 0.58 - ETA: 22s - loss: 0.6375 - mean_absolute_error: 0.58 - ETA: 22s - loss: 0.6370 - mean_absolute_error: 0.58 - ETA: 22s - loss: 0.6361 - mean_absolute_error: 0.58 - ETA: 22s - loss: 0.6352 - mean_absolute_error: 0.58 - ETA: 22s - loss: 0.6342 - mean_absolute_error: 0.58 - ETA: 22s - loss: 0.6340 - mean_absolute_error: 0.58 - ETA: 22s - loss: 0.6334 - mean_absolute_error: 0.58 - ETA: 22s - loss: 0.6327 - mean_absolute_error: 0.58 - ETA: 22s - loss: 0.6322 - mean_absolute_error: 0.58 - ETA: 22s - loss: 0.6313 - mean_absolute_error: 0.58 - ETA: 21s - loss: 0.6305 - mean_absolute_error: 0.58 - ETA: 21s - loss: 0.6301 - mean_absolute_error: 0.58 - ETA: 21s - loss: 0.6296 - mean_absolute_error: 0.58 - ETA: 21s - loss: 0.6291 - mean_absolute_error: 0.58 - ETA: 21s - loss: 0.6280 - mean_absolute_error: 0.58 - ETA: 21s - loss: 0.6277 - mean_absolute_error: 0.58 - ETA: 21s - loss: 0.6272 - mean_absolute_error: 0.58 - ETA: 21s - loss: 0.6264 - mean_absolute_error: 0.58 - ETA: 21s - loss: 0.6254 - mean_absolute_error: 0.58 - ETA: 21s - loss: 0.6252 - mean_absolute_error: 0.58 - ETA: 21s - loss: 0.6247 - mean_absolute_error: 0.58 - ETA: 21s - loss: 0.6240 - mean_absolute_error: 0.58 - ETA: 21s - loss: 0.6228 - mean_absolute_error: 0.58 - ETA: 21s - loss: 0.6225 - mean_absolute_error: 0.58 - ETA: 21s - loss: 0.6218 - mean_absolute_error: 0.58 - ETA: 20s - loss: 0.6212 - mean_absolute_error: 0.58 - ETA: 20s - loss: 0.6203 - mean_absolute_error: 0.58 - ETA: 20s - loss: 0.6200 - mean_absolute_error: 0.58 - ETA: 20s - loss: 0.6195 - mean_absolute_error: 0.58 - ETA: 20s - loss: 0.6186 - mean_absolute_error: 0.58 - ETA: 20s - loss: 0.6179 - mean_absolute_error: 0.58 - ETA: 20s - loss: 0.6173 - mean_absolute_error: 0.57 - ETA: 20s - loss: 0.6163 - mean_absolute_error: 0.57 - ETA: 20s - loss: 0.6162 - mean_absolute_error: 0.57 - ETA: 20s - loss: 0.6157 - mean_absolute_error: 0.57 - ETA: 20s - loss: 0.6153 - mean_absolute_error: 0.57 - ETA: 20s - loss: 0.6147 - mean_absolute_error: 0.57 - ETA: 20s - loss: 0.6143 - mean_absolute_error: 0.57 - ETA: 20s - loss: 0.6138 - mean_absolute_error: 0.57 - ETA: 19s - loss: 0.6130 - mean_absolute_error: 0.57 - ETA: 19s - loss: 0.6124 - mean_absolute_error: 0.57 - ETA: 19s - loss: 0.6115 - mean_absolute_error: 0.57 - ETA: 19s - loss: 0.6107 - mean_absolute_error: 0.57 - ETA: 19s - loss: 0.6109 - mean_absolute_error: 0.57 - ETA: 19s - loss: 0.6102 - mean_absolute_error: 0.57 - ETA: 19s - loss: 0.6098 - mean_absolute_error: 0.57 - ETA: 19s - loss: 0.6097 - mean_absolute_error: 0.57 - ETA: 19s - loss: 0.6094 - mean_absolute_error: 0.57 - ETA: 19s - loss: 0.6091 - mean_absolute_error: 0.57 - ETA: 19s - loss: 0.6085 - mean_absolute_error: 0.57 - ETA: 19s - loss: 0.6081 - mean_absolute_error: 0.57 - ETA: 19s - loss: 0.6077 - mean_absolute_error: 0.57 - ETA: 19s - loss: 0.6072 - mean_absolute_error: 0.57 - ETA: 19s - loss: 0.6066 - mean_absolute_error: 0.57 - ETA: 19s - loss: 0.6065 - mean_absolute_error: 0.57 - ETA: 19s - loss: 0.6061 - mean_absolute_error: 0.57 - ETA: 19s - loss: 0.6054 - mean_absolute_error: 0.57 - ETA: 19s - loss: 0.6054 - mean_absolute_error: 0.57 - ETA: 19s - loss: 0.6049 - mean_absolute_error: 0.57 - ETA: 19s - loss: 0.6044 - mean_absolute_error: 0.57 - ETA: 19s - loss: 0.6035 - mean_absolute_error: 0.57 - ETA: 19s - loss: 0.6034 - mean_absolute_error: 0.57 - ETA: 18s - loss: 0.6031 - mean_absolute_error: 0.57 - ETA: 18s - loss: 0.6028 - mean_absolute_error: 0.57 - ETA: 18s - loss: 0.6024 - mean_absolute_error: 0.57 - ETA: 18s - loss: 0.6028 - mean_absolute_error: 0.57 - ETA: 18s - loss: 0.6024 - mean_absolute_error: 0.57 - ETA: 18s - loss: 0.6023 - mean_absolute_error: 0.57 - ETA: 18s - loss: 0.6023 - mean_absolute_error: 0.57 - ETA: 18s - loss: 0.6022 - mean_absolute_error: 0.57 - ETA: 18s - loss: 0.6018 - mean_absolute_error: 0.57 - ETA: 18s - loss: 0.6015 - mean_absolute_error: 0.57 - ETA: 18s - loss: 0.6011 - mean_absolute_error: 0.57 - ETA: 18s - loss: 0.6004 - mean_absolute_error: 0.57 - ETA: 18s - loss: 0.6003 - mean_absolute_error: 0.57 - ETA: 18s - loss: 0.6001 - mean_absolute_error: 0.57 - ETA: 18s - loss: 0.5999 - mean_absolute_error: 0.57 - ETA: 18s - loss: 0.5992 - mean_absolute_error: 0.57 - ETA: 18s - loss: 0.5985 - mean_absolute_error: 0.57 - ETA: 18s - loss: 0.5981 - mean_absolute_error: 0.57 - ETA: 18s - loss: 0.5975 - mean_absolute_error: 0.57 - ETA: 18s - loss: 0.5972 - mean_absolute_error: 0.57 - ETA: 18s - loss: 0.5970 - mean_absolute_error: 0.57 - ETA: 17s - loss: 0.5969 - mean_absolute_error: 0.57 - ETA: 17s - loss: 0.5968 - mean_absolute_error: 0.57 - ETA: 17s - loss: 0.5962 - mean_absolute_error: 0.57 - ETA: 17s - loss: 0.5963 - mean_absolute_error: 0.57 - ETA: 17s - loss: 0.5961 - mean_absolute_error: 0.57 - ETA: 17s - loss: 0.5957 - mean_absolute_error: 0.57 - ETA: 17s - loss: 0.5952 - mean_absolute_error: 0.57 - ETA: 17s - loss: 0.5953 - mean_absolute_error: 0.57 - ETA: 17s - loss: 0.5949 - mean_absolute_error: 0.57 - ETA: 17s - loss: 0.5943 - mean_absolute_error: 0.57 - ETA: 17s - loss: 0.5937 - mean_absolute_error: 0.56 - ETA: 17s - loss: 0.5932 - mean_absolute_error: 0.56 - ETA: 17s - loss: 0.5928 - mean_absolute_error: 0.56 - ETA: 17s - loss: 0.5925 - mean_absolute_error: 0.5691125856/174938 [====================>.........] - ETA: 17s - loss: 0.5916 - mean_absolute_error: 0.56 - ETA: 17s - loss: 0.5914 - mean_absolute_error: 0.56 - ETA: 17s - loss: 0.5914 - mean_absolute_error: 0.56 - ETA: 17s - loss: 0.5911 - mean_absolute_error: 0.56 - ETA: 17s - loss: 0.5913 - mean_absolute_error: 0.56 - ETA: 17s - loss: 0.5909 - mean_absolute_error: 0.56 - ETA: 16s - loss: 0.5903 - mean_absolute_error: 0.56 - ETA: 16s - loss: 0.5903 - mean_absolute_error: 0.56 - ETA: 16s - loss: 0.5902 - mean_absolute_error: 0.56 - ETA: 16s - loss: 0.5899 - mean_absolute_error: 0.56 - ETA: 16s - loss: 0.5897 - mean_absolute_error: 0.56 - ETA: 16s - loss: 0.5897 - mean_absolute_error: 0.56 - ETA: 16s - loss: 0.5895 - mean_absolute_error: 0.56 - ETA: 16s - loss: 0.5892 - mean_absolute_error: 0.56 - ETA: 16s - loss: 0.5887 - mean_absolute_error: 0.56 - ETA: 16s - loss: 0.5884 - mean_absolute_error: 0.56 - ETA: 16s - loss: 0.5880 - mean_absolute_error: 0.56 - ETA: 16s - loss: 0.5881 - mean_absolute_error: 0.56 - ETA: 16s - loss: 0.5878 - mean_absolute_error: 0.56 - ETA: 16s - loss: 0.5873 - mean_absolute_error: 0.56 - ETA: 16s - loss: 0.5868 - mean_absolute_error: 0.56 - ETA: 16s - loss: 0.5865 - mean_absolute_error: 0.56 - ETA: 16s - loss: 0.5864 - mean_absolute_error: 0.56 - ETA: 15s - loss: 0.5862 - mean_absolute_error: 0.56 - ETA: 15s - loss: 0.5856 - mean_absolute_error: 0.56 - ETA: 15s - loss: 0.5856 - mean_absolute_error: 0.56 - ETA: 15s - loss: 0.5856 - mean_absolute_error: 0.56 - ETA: 15s - loss: 0.5850 - mean_absolute_error: 0.56 - ETA: 15s - loss: 0.5850 - mean_absolute_error: 0.56 - ETA: 15s - loss: 0.5847 - mean_absolute_error: 0.56 - ETA: 15s - loss: 0.5842 - mean_absolute_error: 0.56 - ETA: 15s - loss: 0.5839 - mean_absolute_error: 0.56 - ETA: 15s - loss: 0.5839 - mean_absolute_error: 0.56 - ETA: 15s - loss: 0.5840 - mean_absolute_error: 0.56 - ETA: 15s - loss: 0.5837 - mean_absolute_error: 0.56 - ETA: 15s - loss: 0.5835 - mean_absolute_error: 0.56 - ETA: 15s - loss: 0.5833 - mean_absolute_error: 0.56 - ETA: 15s - loss: 0.5829 - mean_absolute_error: 0.56 - ETA: 15s - loss: 0.5828 - mean_absolute_error: 0.56 - ETA: 15s - loss: 0.5827 - mean_absolute_error: 0.56 - ETA: 15s - loss: 0.5822 - mean_absolute_error: 0.56 - ETA: 14s - loss: 0.5820 - mean_absolute_error: 0.56 - ETA: 14s - loss: 0.5817 - mean_absolute_error: 0.56 - ETA: 14s - loss: 0.5812 - mean_absolute_error: 0.56 - ETA: 14s - loss: 0.5808 - mean_absolute_error: 0.56 - ETA: 14s - loss: 0.5806 - mean_absolute_error: 0.56 - ETA: 14s - loss: 0.5805 - mean_absolute_error: 0.56 - ETA: 14s - loss: 0.5802 - mean_absolute_error: 0.56 - ETA: 14s - loss: 0.5799 - mean_absolute_error: 0.56 - ETA: 14s - loss: 0.5794 - mean_absolute_error: 0.56 - ETA: 14s - loss: 0.5788 - mean_absolute_error: 0.56 - ETA: 14s - loss: 0.5782 - mean_absolute_error: 0.56 - ETA: 14s - loss: 0.5778 - mean_absolute_error: 0.56 - ETA: 14s - loss: 0.5773 - mean_absolute_error: 0.56 - ETA: 14s - loss: 0.5766 - mean_absolute_error: 0.56 - ETA: 14s - loss: 0.5761 - mean_absolute_error: 0.56 - ETA: 14s - loss: 0.5758 - mean_absolute_error: 0.56 - ETA: 14s - loss: 0.5757 - mean_absolute_error: 0.56 - ETA: 14s - loss: 0.5755 - mean_absolute_error: 0.56 - ETA: 14s - loss: 0.5753 - mean_absolute_error: 0.56 - ETA: 14s - loss: 0.5749 - mean_absolute_error: 0.56 - ETA: 13s - loss: 0.5747 - mean_absolute_error: 0.56 - ETA: 13s - loss: 0.5744 - mean_absolute_error: 0.56 - ETA: 13s - loss: 0.5741 - mean_absolute_error: 0.56 - ETA: 13s - loss: 0.5737 - mean_absolute_error: 0.55 - ETA: 13s - loss: 0.5735 - mean_absolute_error: 0.55 - ETA: 13s - loss: 0.5733 - mean_absolute_error: 0.55 - ETA: 13s - loss: 0.5731 - mean_absolute_error: 0.55 - ETA: 13s - loss: 0.5728 - mean_absolute_error: 0.55 - ETA: 13s - loss: 0.5726 - mean_absolute_error: 0.55 - ETA: 13s - loss: 0.5723 - mean_absolute_error: 0.55 - ETA: 13s - loss: 0.5719 - mean_absolute_error: 0.55 - ETA: 13s - loss: 0.5719 - mean_absolute_error: 0.55 - ETA: 13s - loss: 0.5715 - mean_absolute_error: 0.55 - ETA: 13s - loss: 0.5710 - mean_absolute_error: 0.55 - ETA: 13s - loss: 0.5709 - mean_absolute_error: 0.55 - ETA: 13s - loss: 0.5708 - mean_absolute_error: 0.55 - ETA: 13s - loss: 0.5704 - mean_absolute_error: 0.55 - ETA: 13s - loss: 0.5701 - mean_absolute_error: 0.55 - ETA: 13s - loss: 0.5700 - mean_absolute_error: 0.55 - ETA: 13s - loss: 0.5696 - mean_absolute_error: 0.55 - ETA: 13s - loss: 0.5695 - mean_absolute_error: 0.55 - ETA: 12s - loss: 0.5692 - mean_absolute_error: 0.55 - ETA: 12s - loss: 0.5692 - mean_absolute_error: 0.55 - ETA: 12s - loss: 0.5689 - mean_absolute_error: 0.55 - ETA: 12s - loss: 0.5689 - mean_absolute_error: 0.55 - ETA: 12s - loss: 0.5687 - mean_absolute_error: 0.55 - ETA: 12s - loss: 0.5684 - mean_absolute_error: 0.55 - ETA: 12s - loss: 0.5683 - mean_absolute_error: 0.55 - ETA: 12s - loss: 0.5683 - mean_absolute_error: 0.55 - ETA: 12s - loss: 0.5679 - mean_absolute_error: 0.55 - ETA: 12s - loss: 0.5676 - mean_absolute_error: 0.55 - ETA: 12s - loss: 0.5672 - mean_absolute_error: 0.55 - ETA: 12s - loss: 0.5670 - mean_absolute_error: 0.55 - ETA: 12s - loss: 0.5670 - mean_absolute_error: 0.55 - ETA: 12s - loss: 0.5666 - mean_absolute_error: 0.55 - ETA: 12s - loss: 0.5662 - mean_absolute_error: 0.55 - ETA: 12s - loss: 0.5661 - mean_absolute_error: 0.55 - ETA: 12s - loss: 0.5659 - mean_absolute_error: 0.55 - ETA: 12s - loss: 0.5656 - mean_absolute_error: 0.55 - ETA: 11s - loss: 0.5655 - mean_absolute_error: 0.55 - ETA: 11s - loss: 0.5653 - mean_absolute_error: 0.55 - ETA: 11s - loss: 0.5648 - mean_absolute_error: 0.55 - ETA: 11s - loss: 0.5645 - mean_absolute_error: 0.55 - ETA: 11s - loss: 0.5644 - mean_absolute_error: 0.55 - ETA: 11s - loss: 0.5642 - mean_absolute_error: 0.55 - ETA: 11s - loss: 0.5637 - mean_absolute_error: 0.55 - ETA: 11s - loss: 0.5635 - mean_absolute_error: 0.55 - ETA: 11s - loss: 0.5630 - mean_absolute_error: 0.55 - ETA: 11s - loss: 0.5631 - mean_absolute_error: 0.55 - ETA: 11s - loss: 0.5630 - mean_absolute_error: 0.55 - ETA: 11s - loss: 0.5626 - mean_absolute_error: 0.55 - ETA: 11s - loss: 0.5625 - mean_absolute_error: 0.55 - ETA: 11s - loss: 0.5623 - mean_absolute_error: 0.55 - ETA: 11s - loss: 0.5621 - mean_absolute_error: 0.55 - ETA: 11s - loss: 0.5620 - mean_absolute_error: 0.55 - ETA: 11s - loss: 0.5618 - mean_absolute_error: 0.55 - ETA: 11s - loss: 0.5614 - mean_absolute_error: 0.55 - ETA: 10s - loss: 0.5609 - mean_absolute_error: 0.55 - ETA: 10s - loss: 0.5608 - mean_absolute_error: 0.55 - ETA: 10s - loss: 0.5607 - mean_absolute_error: 0.55 - ETA: 10s - loss: 0.5603 - mean_absolute_error: 0.55 - ETA: 10s - loss: 0.5599 - mean_absolute_error: 0.55 - ETA: 10s - loss: 0.5595 - mean_absolute_error: 0.55 - ETA: 10s - loss: 0.5593 - mean_absolute_error: 0.55 - ETA: 10s - loss: 0.5591 - mean_absolute_error: 0.55 - ETA: 10s - loss: 0.5588 - mean_absolute_error: 0.55 - ETA: 10s - loss: 0.5585 - mean_absolute_error: 0.55 - ETA: 10s - loss: 0.5583 - mean_absolute_error: 0.55 - ETA: 10s - loss: 0.5583 - mean_absolute_error: 0.55 - ETA: 10s - loss: 0.5581 - mean_absolute_error: 0.55 - ETA: 10s - loss: 0.5579 - mean_absolute_error: 0.55 - ETA: 10s - loss: 0.5577 - mean_absolute_error: 0.55 - ETA: 10s - loss: 0.5575 - mean_absolute_error: 0.55 - ETA: 10s - loss: 0.5573 - mean_absolute_error: 0.55 - ETA: 10s - loss: 0.5569 - mean_absolute_error: 0.55 - ETA: 10s - loss: 0.5566 - mean_absolute_error: 0.55 - ETA: 10s - loss: 0.5561 - mean_absolute_error: 0.55 - ETA: 9s - loss: 0.5560 - mean_absolute_error: 0.5509 - ETA: 9s - loss: 0.5557 - mean_absolute_error: 0.550 - ETA: 9s - loss: 0.5556 - mean_absolute_error: 0.550 - ETA: 9s - loss: 0.5555 - mean_absolute_error: 0.550 - ETA: 9s - loss: 0.5552 - mean_absolute_error: 0.550 - ETA: 9s - loss: 0.5551 - mean_absolute_error: 0.550 - ETA: 9s - loss: 0.5547 - mean_absolute_error: 0.550 - ETA: 9s - loss: 0.5545 - mean_absolute_error: 0.550 - ETA: 9s - loss: 0.5542 - mean_absolute_error: 0.550 - ETA: 9s - loss: 0.5539 - mean_absolute_error: 0.550 - ETA: 9s - loss: 0.5536 - mean_absolute_error: 0.549 - ETA: 9s - loss: 0.5535 - mean_absolute_error: 0.549 - ETA: 9s - loss: 0.5534 - mean_absolute_error: 0.5498"
     ]
    },
    {
     "name": "stdout",
     "output_type": "stream",
     "text": [
      "165472/174938 [===========================>..] - ETA: 9s - loss: 0.5531 - mean_absolute_error: 0.549 - ETA: 9s - loss: 0.5527 - mean_absolute_error: 0.549 - ETA: 9s - loss: 0.5527 - mean_absolute_error: 0.549 - ETA: 9s - loss: 0.5525 - mean_absolute_error: 0.549 - ETA: 9s - loss: 0.5522 - mean_absolute_error: 0.549 - ETA: 9s - loss: 0.5521 - mean_absolute_error: 0.549 - ETA: 9s - loss: 0.5519 - mean_absolute_error: 0.549 - ETA: 9s - loss: 0.5518 - mean_absolute_error: 0.549 - ETA: 8s - loss: 0.5515 - mean_absolute_error: 0.548 - ETA: 8s - loss: 0.5511 - mean_absolute_error: 0.548 - ETA: 8s - loss: 0.5507 - mean_absolute_error: 0.548 - ETA: 8s - loss: 0.5508 - mean_absolute_error: 0.548 - ETA: 8s - loss: 0.5506 - mean_absolute_error: 0.548 - ETA: 8s - loss: 0.5504 - mean_absolute_error: 0.548 - ETA: 8s - loss: 0.5501 - mean_absolute_error: 0.548 - ETA: 8s - loss: 0.5498 - mean_absolute_error: 0.548 - ETA: 8s - loss: 0.5496 - mean_absolute_error: 0.547 - ETA: 8s - loss: 0.5493 - mean_absolute_error: 0.547 - ETA: 8s - loss: 0.5494 - mean_absolute_error: 0.547 - ETA: 8s - loss: 0.5493 - mean_absolute_error: 0.547 - ETA: 8s - loss: 0.5490 - mean_absolute_error: 0.547 - ETA: 8s - loss: 0.5489 - mean_absolute_error: 0.547 - ETA: 8s - loss: 0.5487 - mean_absolute_error: 0.547 - ETA: 8s - loss: 0.5485 - mean_absolute_error: 0.547 - ETA: 8s - loss: 0.5482 - mean_absolute_error: 0.547 - ETA: 8s - loss: 0.5481 - mean_absolute_error: 0.547 - ETA: 8s - loss: 0.5480 - mean_absolute_error: 0.547 - ETA: 8s - loss: 0.5478 - mean_absolute_error: 0.546 - ETA: 7s - loss: 0.5475 - mean_absolute_error: 0.546 - ETA: 7s - loss: 0.5474 - mean_absolute_error: 0.546 - ETA: 7s - loss: 0.5473 - mean_absolute_error: 0.546 - ETA: 7s - loss: 0.5469 - mean_absolute_error: 0.546 - ETA: 7s - loss: 0.5467 - mean_absolute_error: 0.546 - ETA: 7s - loss: 0.5464 - mean_absolute_error: 0.546 - ETA: 7s - loss: 0.5462 - mean_absolute_error: 0.546 - ETA: 7s - loss: 0.5461 - mean_absolute_error: 0.546 - ETA: 7s - loss: 0.5459 - mean_absolute_error: 0.546 - ETA: 7s - loss: 0.5459 - mean_absolute_error: 0.545 - ETA: 7s - loss: 0.5457 - mean_absolute_error: 0.545 - ETA: 7s - loss: 0.5457 - mean_absolute_error: 0.545 - ETA: 7s - loss: 0.5456 - mean_absolute_error: 0.545 - ETA: 7s - loss: 0.5454 - mean_absolute_error: 0.545 - ETA: 7s - loss: 0.5451 - mean_absolute_error: 0.545 - ETA: 7s - loss: 0.5448 - mean_absolute_error: 0.545 - ETA: 7s - loss: 0.5449 - mean_absolute_error: 0.545 - ETA: 7s - loss: 0.5449 - mean_absolute_error: 0.545 - ETA: 7s - loss: 0.5447 - mean_absolute_error: 0.545 - ETA: 7s - loss: 0.5446 - mean_absolute_error: 0.545 - ETA: 6s - loss: 0.5446 - mean_absolute_error: 0.545 - ETA: 6s - loss: 0.5446 - mean_absolute_error: 0.545 - ETA: 6s - loss: 0.5444 - mean_absolute_error: 0.545 - ETA: 6s - loss: 0.5442 - mean_absolute_error: 0.545 - ETA: 6s - loss: 0.5440 - mean_absolute_error: 0.545 - ETA: 6s - loss: 0.5438 - mean_absolute_error: 0.545 - ETA: 6s - loss: 0.5438 - mean_absolute_error: 0.544 - ETA: 6s - loss: 0.5435 - mean_absolute_error: 0.544 - ETA: 6s - loss: 0.5434 - mean_absolute_error: 0.544 - ETA: 6s - loss: 0.5434 - mean_absolute_error: 0.544 - ETA: 6s - loss: 0.5432 - mean_absolute_error: 0.544 - ETA: 6s - loss: 0.5432 - mean_absolute_error: 0.544 - ETA: 6s - loss: 0.5433 - mean_absolute_error: 0.544 - ETA: 6s - loss: 0.5430 - mean_absolute_error: 0.544 - ETA: 6s - loss: 0.5428 - mean_absolute_error: 0.544 - ETA: 6s - loss: 0.5429 - mean_absolute_error: 0.544 - ETA: 6s - loss: 0.5428 - mean_absolute_error: 0.544 - ETA: 6s - loss: 0.5428 - mean_absolute_error: 0.544 - ETA: 6s - loss: 0.5426 - mean_absolute_error: 0.544 - ETA: 6s - loss: 0.5424 - mean_absolute_error: 0.544 - ETA: 6s - loss: 0.5420 - mean_absolute_error: 0.544 - ETA: 5s - loss: 0.5419 - mean_absolute_error: 0.544 - ETA: 5s - loss: 0.5420 - mean_absolute_error: 0.544 - ETA: 5s - loss: 0.5417 - mean_absolute_error: 0.543 - ETA: 5s - loss: 0.5414 - mean_absolute_error: 0.543 - ETA: 5s - loss: 0.5412 - mean_absolute_error: 0.543 - ETA: 5s - loss: 0.5410 - mean_absolute_error: 0.543 - ETA: 5s - loss: 0.5407 - mean_absolute_error: 0.543 - ETA: 5s - loss: 0.5405 - mean_absolute_error: 0.543 - ETA: 5s - loss: 0.5406 - mean_absolute_error: 0.543 - ETA: 5s - loss: 0.5403 - mean_absolute_error: 0.543 - ETA: 5s - loss: 0.5403 - mean_absolute_error: 0.543 - ETA: 5s - loss: 0.5402 - mean_absolute_error: 0.543 - ETA: 5s - loss: 0.5400 - mean_absolute_error: 0.543 - ETA: 5s - loss: 0.5399 - mean_absolute_error: 0.543 - ETA: 5s - loss: 0.5398 - mean_absolute_error: 0.542 - ETA: 5s - loss: 0.5396 - mean_absolute_error: 0.542 - ETA: 5s - loss: 0.5394 - mean_absolute_error: 0.542 - ETA: 5s - loss: 0.5394 - mean_absolute_error: 0.542 - ETA: 5s - loss: 0.5391 - mean_absolute_error: 0.542 - ETA: 5s - loss: 0.5389 - mean_absolute_error: 0.542 - ETA: 4s - loss: 0.5387 - mean_absolute_error: 0.542 - ETA: 4s - loss: 0.5387 - mean_absolute_error: 0.542 - ETA: 4s - loss: 0.5385 - mean_absolute_error: 0.542 - ETA: 4s - loss: 0.5384 - mean_absolute_error: 0.542 - ETA: 4s - loss: 0.5384 - mean_absolute_error: 0.542 - ETA: 4s - loss: 0.5382 - mean_absolute_error: 0.542 - ETA: 4s - loss: 0.5383 - mean_absolute_error: 0.542 - ETA: 4s - loss: 0.5382 - mean_absolute_error: 0.542 - ETA: 4s - loss: 0.5380 - mean_absolute_error: 0.542 - ETA: 4s - loss: 0.5379 - mean_absolute_error: 0.542 - ETA: 4s - loss: 0.5379 - mean_absolute_error: 0.542 - ETA: 4s - loss: 0.5378 - mean_absolute_error: 0.542 - ETA: 4s - loss: 0.5379 - mean_absolute_error: 0.542 - ETA: 4s - loss: 0.5378 - mean_absolute_error: 0.542 - ETA: 4s - loss: 0.5377 - mean_absolute_error: 0.542 - ETA: 4s - loss: 0.5377 - mean_absolute_error: 0.542 - ETA: 4s - loss: 0.5374 - mean_absolute_error: 0.541 - ETA: 4s - loss: 0.5373 - mean_absolute_error: 0.541 - ETA: 4s - loss: 0.5373 - mean_absolute_error: 0.541 - ETA: 4s - loss: 0.5373 - mean_absolute_error: 0.541 - ETA: 3s - loss: 0.5371 - mean_absolute_error: 0.541 - ETA: 3s - loss: 0.5369 - mean_absolute_error: 0.541 - ETA: 3s - loss: 0.5368 - mean_absolute_error: 0.541 - ETA: 3s - loss: 0.5366 - mean_absolute_error: 0.541 - ETA: 3s - loss: 0.5364 - mean_absolute_error: 0.541 - ETA: 3s - loss: 0.5363 - mean_absolute_error: 0.541 - ETA: 3s - loss: 0.5363 - mean_absolute_error: 0.541 - ETA: 3s - loss: 0.5362 - mean_absolute_error: 0.541 - ETA: 3s - loss: 0.5359 - mean_absolute_error: 0.541 - ETA: 3s - loss: 0.5358 - mean_absolute_error: 0.541 - ETA: 3s - loss: 0.5355 - mean_absolute_error: 0.540 - ETA: 3s - loss: 0.5353 - mean_absolute_error: 0.540 - ETA: 3s - loss: 0.5351 - mean_absolute_error: 0.540 - ETA: 3s - loss: 0.5350 - mean_absolute_error: 0.540 - ETA: 3s - loss: 0.5350 - mean_absolute_error: 0.540 - ETA: 3s - loss: 0.5348 - mean_absolute_error: 0.540 - ETA: 3s - loss: 0.5347 - mean_absolute_error: 0.540 - ETA: 3s - loss: 0.5347 - mean_absolute_error: 0.540 - ETA: 3s - loss: 0.5347 - mean_absolute_error: 0.540 - ETA: 2s - loss: 0.5346 - mean_absolute_error: 0.540 - ETA: 2s - loss: 0.5343 - mean_absolute_error: 0.540 - ETA: 2s - loss: 0.5344 - mean_absolute_error: 0.540 - ETA: 2s - loss: 0.5343 - mean_absolute_error: 0.540 - ETA: 2s - loss: 0.5340 - mean_absolute_error: 0.540 - ETA: 2s - loss: 0.5338 - mean_absolute_error: 0.540 - ETA: 2s - loss: 0.5337 - mean_absolute_error: 0.540 - ETA: 2s - loss: 0.5334 - mean_absolute_error: 0.539 - ETA: 2s - loss: 0.5331 - mean_absolute_error: 0.539 - ETA: 2s - loss: 0.5331 - mean_absolute_error: 0.539 - ETA: 2s - loss: 0.5328 - mean_absolute_error: 0.539 - ETA: 2s - loss: 0.5327 - mean_absolute_error: 0.539 - ETA: 2s - loss: 0.5325 - mean_absolute_error: 0.539 - ETA: 2s - loss: 0.5325 - mean_absolute_error: 0.539 - ETA: 2s - loss: 0.5324 - mean_absolute_error: 0.539 - ETA: 2s - loss: 0.5323 - mean_absolute_error: 0.539 - ETA: 2s - loss: 0.5321 - mean_absolute_error: 0.539 - ETA: 2s - loss: 0.5319 - mean_absolute_error: 0.539 - ETA: 2s - loss: 0.5317 - mean_absolute_error: 0.538 - ETA: 1s - loss: 0.5316 - mean_absolute_error: 0.538 - ETA: 1s - loss: 0.5313 - mean_absolute_error: 0.538 - ETA: 1s - loss: 0.5311 - mean_absolute_error: 0.538 - ETA: 1s - loss: 0.5312 - mean_absolute_error: 0.5386"
     ]
    },
    {
     "name": "stdout",
     "output_type": "stream",
     "text": [
      "174938/174938 [==============================] - ETA: 1s - loss: 0.5311 - mean_absolute_error: 0.538 - ETA: 1s - loss: 0.5310 - mean_absolute_error: 0.538 - ETA: 1s - loss: 0.5308 - mean_absolute_error: 0.538 - ETA: 1s - loss: 0.5305 - mean_absolute_error: 0.538 - ETA: 1s - loss: 0.5304 - mean_absolute_error: 0.538 - ETA: 1s - loss: 0.5305 - mean_absolute_error: 0.538 - ETA: 1s - loss: 0.5305 - mean_absolute_error: 0.538 - ETA: 1s - loss: 0.5305 - mean_absolute_error: 0.538 - ETA: 1s - loss: 0.5303 - mean_absolute_error: 0.538 - ETA: 1s - loss: 0.5302 - mean_absolute_error: 0.538 - ETA: 1s - loss: 0.5301 - mean_absolute_error: 0.538 - ETA: 1s - loss: 0.5301 - mean_absolute_error: 0.538 - ETA: 1s - loss: 0.5298 - mean_absolute_error: 0.537 - ETA: 1s - loss: 0.5297 - mean_absolute_error: 0.537 - ETA: 1s - loss: 0.5294 - mean_absolute_error: 0.537 - ETA: 0s - loss: 0.5292 - mean_absolute_error: 0.537 - ETA: 0s - loss: 0.5291 - mean_absolute_error: 0.537 - ETA: 0s - loss: 0.5289 - mean_absolute_error: 0.537 - ETA: 0s - loss: 0.5288 - mean_absolute_error: 0.537 - ETA: 0s - loss: 0.5286 - mean_absolute_error: 0.537 - ETA: 0s - loss: 0.5285 - mean_absolute_error: 0.537 - ETA: 0s - loss: 0.5284 - mean_absolute_error: 0.537 - ETA: 0s - loss: 0.5285 - mean_absolute_error: 0.537 - ETA: 0s - loss: 0.5282 - mean_absolute_error: 0.537 - ETA: 0s - loss: 0.5281 - mean_absolute_error: 0.537 - ETA: 0s - loss: 0.5280 - mean_absolute_error: 0.537 - ETA: 0s - loss: 0.5279 - mean_absolute_error: 0.537 - ETA: 0s - loss: 0.5277 - mean_absolute_error: 0.536 - ETA: 0s - loss: 0.5275 - mean_absolute_error: 0.536 - ETA: 0s - loss: 0.5273 - mean_absolute_error: 0.536 - ETA: 0s - loss: 0.5273 - mean_absolute_error: 0.536 - ETA: 0s - loss: 0.5271 - mean_absolute_error: 0.536 - ETA: 0s - loss: 0.5270 - mean_absolute_error: 0.536 - ETA: 0s - loss: 0.5269 - mean_absolute_error: 0.536 - ETA: 0s - loss: 0.5266 - mean_absolute_error: 0.536 - 37s - loss: 0.5266 - mean_absolute_error: 0.5364 - val_loss: 0.4755 - val_mean_absolute_error: 0.5143\n",
      "Epoch 2/10\n"
     ]
    },
    {
     "name": "stdout",
     "output_type": "stream",
     "text": [
      " 41728/174938 [======>.......................] - ETA: 109s - loss: 0.2824 - mean_absolute_error: 0.398 - ETA: 51s - loss: 0.3855 - mean_absolute_error: 0.473 - ETA: 43s - loss: 0.4357 - mean_absolute_error: 0.48 - ETA: 41s - loss: 0.4413 - mean_absolute_error: 0.49 - ETA: 38s - loss: 0.4798 - mean_absolute_error: 0.50 - ETA: 36s - loss: 0.4941 - mean_absolute_error: 0.51 - ETA: 34s - loss: 0.4873 - mean_absolute_error: 0.50 - ETA: 36s - loss: 0.4752 - mean_absolute_error: 0.50 - ETA: 34s - loss: 0.4710 - mean_absolute_error: 0.50 - ETA: 33s - loss: 0.4661 - mean_absolute_error: 0.50 - ETA: 33s - loss: 0.4661 - mean_absolute_error: 0.50 - ETA: 32s - loss: 0.4785 - mean_absolute_error: 0.50 - ETA: 32s - loss: 0.4836 - mean_absolute_error: 0.51 - ETA: 32s - loss: 0.4888 - mean_absolute_error: 0.51 - ETA: 32s - loss: 0.4826 - mean_absolute_error: 0.51 - ETA: 31s - loss: 0.4876 - mean_absolute_error: 0.51 - ETA: 31s - loss: 0.4828 - mean_absolute_error: 0.51 - ETA: 30s - loss: 0.4824 - mean_absolute_error: 0.51 - ETA: 30s - loss: 0.4797 - mean_absolute_error: 0.51 - ETA: 30s - loss: 0.4775 - mean_absolute_error: 0.51 - ETA: 29s - loss: 0.4737 - mean_absolute_error: 0.51 - ETA: 29s - loss: 0.4737 - mean_absolute_error: 0.51 - ETA: 30s - loss: 0.4720 - mean_absolute_error: 0.51 - ETA: 30s - loss: 0.4706 - mean_absolute_error: 0.51 - ETA: 30s - loss: 0.4735 - mean_absolute_error: 0.51 - ETA: 30s - loss: 0.4752 - mean_absolute_error: 0.51 - ETA: 30s - loss: 0.4724 - mean_absolute_error: 0.51 - ETA: 30s - loss: 0.4764 - mean_absolute_error: 0.51 - ETA: 29s - loss: 0.4746 - mean_absolute_error: 0.51 - ETA: 29s - loss: 0.4721 - mean_absolute_error: 0.51 - ETA: 29s - loss: 0.4720 - mean_absolute_error: 0.51 - ETA: 29s - loss: 0.4695 - mean_absolute_error: 0.51 - ETA: 29s - loss: 0.4688 - mean_absolute_error: 0.51 - ETA: 29s - loss: 0.4716 - mean_absolute_error: 0.51 - ETA: 28s - loss: 0.4784 - mean_absolute_error: 0.51 - ETA: 28s - loss: 0.4818 - mean_absolute_error: 0.51 - ETA: 28s - loss: 0.4799 - mean_absolute_error: 0.51 - ETA: 28s - loss: 0.4833 - mean_absolute_error: 0.51 - ETA: 28s - loss: 0.4812 - mean_absolute_error: 0.51 - ETA: 28s - loss: 0.4796 - mean_absolute_error: 0.51 - ETA: 27s - loss: 0.4793 - mean_absolute_error: 0.51 - ETA: 27s - loss: 0.4795 - mean_absolute_error: 0.51 - ETA: 27s - loss: 0.4787 - mean_absolute_error: 0.51 - ETA: 27s - loss: 0.4784 - mean_absolute_error: 0.51 - ETA: 27s - loss: 0.4788 - mean_absolute_error: 0.51 - ETA: 27s - loss: 0.4786 - mean_absolute_error: 0.51 - ETA: 27s - loss: 0.4766 - mean_absolute_error: 0.51 - ETA: 27s - loss: 0.4762 - mean_absolute_error: 0.51 - ETA: 27s - loss: 0.4788 - mean_absolute_error: 0.51 - ETA: 27s - loss: 0.4765 - mean_absolute_error: 0.51 - ETA: 27s - loss: 0.4756 - mean_absolute_error: 0.51 - ETA: 27s - loss: 0.4761 - mean_absolute_error: 0.51 - ETA: 27s - loss: 0.4749 - mean_absolute_error: 0.51 - ETA: 27s - loss: 0.4752 - mean_absolute_error: 0.51 - ETA: 26s - loss: 0.4757 - mean_absolute_error: 0.51 - ETA: 27s - loss: 0.4756 - mean_absolute_error: 0.51 - ETA: 27s - loss: 0.4758 - mean_absolute_error: 0.51 - ETA: 27s - loss: 0.4746 - mean_absolute_error: 0.51 - ETA: 27s - loss: 0.4736 - mean_absolute_error: 0.51 - ETA: 27s - loss: 0.4742 - mean_absolute_error: 0.51 - ETA: 27s - loss: 0.4741 - mean_absolute_error: 0.51 - ETA: 27s - loss: 0.4738 - mean_absolute_error: 0.51 - ETA: 27s - loss: 0.4753 - mean_absolute_error: 0.51 - ETA: 27s - loss: 0.4756 - mean_absolute_error: 0.51 - ETA: 27s - loss: 0.4741 - mean_absolute_error: 0.51 - ETA: 27s - loss: 0.4732 - mean_absolute_error: 0.51 - ETA: 27s - loss: 0.4719 - mean_absolute_error: 0.51 - ETA: 27s - loss: 0.4725 - mean_absolute_error: 0.51 - ETA: 27s - loss: 0.4711 - mean_absolute_error: 0.51 - ETA: 27s - loss: 0.4709 - mean_absolute_error: 0.51 - ETA: 27s - loss: 0.4711 - mean_absolute_error: 0.51 - ETA: 27s - loss: 0.4703 - mean_absolute_error: 0.51 - ETA: 27s - loss: 0.4696 - mean_absolute_error: 0.50 - ETA: 27s - loss: 0.4687 - mean_absolute_error: 0.50 - ETA: 27s - loss: 0.4696 - mean_absolute_error: 0.50 - ETA: 27s - loss: 0.4709 - mean_absolute_error: 0.51 - ETA: 27s - loss: 0.4707 - mean_absolute_error: 0.50 - ETA: 27s - loss: 0.4709 - mean_absolute_error: 0.51 - ETA: 27s - loss: 0.4717 - mean_absolute_error: 0.51 - ETA: 27s - loss: 0.4719 - mean_absolute_error: 0.51 - ETA: 27s - loss: 0.4727 - mean_absolute_error: 0.51 - ETA: 27s - loss: 0.4718 - mean_absolute_error: 0.51 - ETA: 27s - loss: 0.4717 - mean_absolute_error: 0.51 - ETA: 27s - loss: 0.4720 - mean_absolute_error: 0.51 - ETA: 27s - loss: 0.4706 - mean_absolute_error: 0.51 - ETA: 27s - loss: 0.4712 - mean_absolute_error: 0.51 - ETA: 27s - loss: 0.4707 - mean_absolute_error: 0.50 - ETA: 27s - loss: 0.4704 - mean_absolute_error: 0.50 - ETA: 27s - loss: 0.4700 - mean_absolute_error: 0.50 - ETA: 27s - loss: 0.4699 - mean_absolute_error: 0.50 - ETA: 27s - loss: 0.4717 - mean_absolute_error: 0.51 - ETA: 27s - loss: 0.4719 - mean_absolute_error: 0.51 - ETA: 27s - loss: 0.4719 - mean_absolute_error: 0.51 - ETA: 27s - loss: 0.4713 - mean_absolute_error: 0.50 - ETA: 27s - loss: 0.4704 - mean_absolute_error: 0.50 - ETA: 27s - loss: 0.4696 - mean_absolute_error: 0.50 - ETA: 27s - loss: 0.4692 - mean_absolute_error: 0.50 - ETA: 27s - loss: 0.4689 - mean_absolute_error: 0.50 - ETA: 27s - loss: 0.4694 - mean_absolute_error: 0.50 - ETA: 27s - loss: 0.4690 - mean_absolute_error: 0.50 - ETA: 27s - loss: 0.4686 - mean_absolute_error: 0.50 - ETA: 27s - loss: 0.4689 - mean_absolute_error: 0.50 - ETA: 27s - loss: 0.4704 - mean_absolute_error: 0.50 - ETA: 27s - loss: 0.4701 - mean_absolute_error: 0.50 - ETA: 27s - loss: 0.4705 - mean_absolute_error: 0.50 - ETA: 27s - loss: 0.4699 - mean_absolute_error: 0.50 - ETA: 27s - loss: 0.4696 - mean_absolute_error: 0.50 - ETA: 27s - loss: 0.4710 - mean_absolute_error: 0.50 - ETA: 27s - loss: 0.4720 - mean_absolute_error: 0.50 - ETA: 27s - loss: 0.4721 - mean_absolute_error: 0.50 - ETA: 27s - loss: 0.4718 - mean_absolute_error: 0.50 - ETA: 26s - loss: 0.4712 - mean_absolute_error: 0.50 - ETA: 26s - loss: 0.4715 - mean_absolute_error: 0.50 - ETA: 26s - loss: 0.4716 - mean_absolute_error: 0.50 - ETA: 26s - loss: 0.4709 - mean_absolute_error: 0.50 - ETA: 26s - loss: 0.4704 - mean_absolute_error: 0.50 - ETA: 26s - loss: 0.4707 - mean_absolute_error: 0.50 - ETA: 26s - loss: 0.4703 - mean_absolute_error: 0.50 - ETA: 26s - loss: 0.4708 - mean_absolute_error: 0.50 - ETA: 26s - loss: 0.4708 - mean_absolute_error: 0.50 - ETA: 26s - loss: 0.4703 - mean_absolute_error: 0.50 - ETA: 26s - loss: 0.4699 - mean_absolute_error: 0.50 - ETA: 26s - loss: 0.4698 - mean_absolute_error: 0.50 - ETA: 26s - loss: 0.4698 - mean_absolute_error: 0.50 - ETA: 26s - loss: 0.4689 - mean_absolute_error: 0.50 - ETA: 26s - loss: 0.4693 - mean_absolute_error: 0.50 - ETA: 26s - loss: 0.4703 - mean_absolute_error: 0.50 - ETA: 26s - loss: 0.4711 - mean_absolute_error: 0.50 - ETA: 26s - loss: 0.4710 - mean_absolute_error: 0.50 - ETA: 26s - loss: 0.4711 - mean_absolute_error: 0.50 - ETA: 26s - loss: 0.4703 - mean_absolute_error: 0.50 - ETA: 26s - loss: 0.4706 - mean_absolute_error: 0.50 - ETA: 26s - loss: 0.4702 - mean_absolute_error: 0.50 - ETA: 26s - loss: 0.4699 - mean_absolute_error: 0.50 - ETA: 26s - loss: 0.4702 - mean_absolute_error: 0.50 - ETA: 26s - loss: 0.4699 - mean_absolute_error: 0.50 - ETA: 26s - loss: 0.4706 - mean_absolute_error: 0.50 - ETA: 25s - loss: 0.4702 - mean_absolute_error: 0.50 - ETA: 25s - loss: 0.4703 - mean_absolute_error: 0.50 - ETA: 25s - loss: 0.4697 - mean_absolute_error: 0.50 - ETA: 25s - loss: 0.4706 - mean_absolute_error: 0.50 - ETA: 25s - loss: 0.4707 - mean_absolute_error: 0.50 - ETA: 25s - loss: 0.4705 - mean_absolute_error: 0.50 - ETA: 25s - loss: 0.4701 - mean_absolute_error: 0.50 - ETA: 25s - loss: 0.4709 - mean_absolute_error: 0.50 - ETA: 25s - loss: 0.4705 - mean_absolute_error: 0.50 - ETA: 25s - loss: 0.4700 - mean_absolute_error: 0.50 - ETA: 25s - loss: 0.4693 - mean_absolute_error: 0.50 - ETA: 25s - loss: 0.4691 - mean_absolute_error: 0.50 - ETA: 25s - loss: 0.4690 - mean_absolute_error: 0.50 - ETA: 25s - loss: 0.4697 - mean_absolute_error: 0.5073 80704/174938 [============>.................] - ETA: 25s - loss: 0.4699 - mean_absolute_error: 0.50 - ETA: 25s - loss: 0.4700 - mean_absolute_error: 0.50 - ETA: 25s - loss: 0.4696 - mean_absolute_error: 0.50 - ETA: 25s - loss: 0.4694 - mean_absolute_error: 0.50 - ETA: 25s - loss: 0.4691 - mean_absolute_error: 0.50 - ETA: 25s - loss: 0.4687 - mean_absolute_error: 0.50 - ETA: 25s - loss: 0.4684 - mean_absolute_error: 0.50 - ETA: 25s - loss: 0.4678 - mean_absolute_error: 0.50 - ETA: 25s - loss: 0.4672 - mean_absolute_error: 0.50 - ETA: 25s - loss: 0.4671 - mean_absolute_error: 0.50 - ETA: 25s - loss: 0.4668 - mean_absolute_error: 0.50 - ETA: 25s - loss: 0.4664 - mean_absolute_error: 0.50 - ETA: 24s - loss: 0.4658 - mean_absolute_error: 0.50 - ETA: 24s - loss: 0.4657 - mean_absolute_error: 0.50 - ETA: 24s - loss: 0.4659 - mean_absolute_error: 0.50 - ETA: 24s - loss: 0.4662 - mean_absolute_error: 0.50 - ETA: 24s - loss: 0.4664 - mean_absolute_error: 0.50 - ETA: 24s - loss: 0.4656 - mean_absolute_error: 0.50 - ETA: 24s - loss: 0.4654 - mean_absolute_error: 0.50 - ETA: 24s - loss: 0.4657 - mean_absolute_error: 0.50 - ETA: 24s - loss: 0.4658 - mean_absolute_error: 0.50 - ETA: 24s - loss: 0.4657 - mean_absolute_error: 0.50 - ETA: 24s - loss: 0.4654 - mean_absolute_error: 0.50 - ETA: 24s - loss: 0.4652 - mean_absolute_error: 0.50 - ETA: 24s - loss: 0.4652 - mean_absolute_error: 0.50 - ETA: 24s - loss: 0.4647 - mean_absolute_error: 0.50 - ETA: 24s - loss: 0.4650 - mean_absolute_error: 0.50 - ETA: 24s - loss: 0.4654 - mean_absolute_error: 0.50 - ETA: 24s - loss: 0.4650 - mean_absolute_error: 0.50 - ETA: 24s - loss: 0.4647 - mean_absolute_error: 0.50 - ETA: 24s - loss: 0.4648 - mean_absolute_error: 0.50 - ETA: 24s - loss: 0.4646 - mean_absolute_error: 0.50 - ETA: 24s - loss: 0.4644 - mean_absolute_error: 0.50 - ETA: 24s - loss: 0.4643 - mean_absolute_error: 0.50 - ETA: 24s - loss: 0.4640 - mean_absolute_error: 0.50 - ETA: 24s - loss: 0.4638 - mean_absolute_error: 0.50 - ETA: 24s - loss: 0.4638 - mean_absolute_error: 0.50 - ETA: 24s - loss: 0.4648 - mean_absolute_error: 0.50 - ETA: 24s - loss: 0.4648 - mean_absolute_error: 0.50 - ETA: 23s - loss: 0.4644 - mean_absolute_error: 0.50 - ETA: 23s - loss: 0.4642 - mean_absolute_error: 0.50 - ETA: 23s - loss: 0.4642 - mean_absolute_error: 0.50 - ETA: 23s - loss: 0.4639 - mean_absolute_error: 0.50 - ETA: 23s - loss: 0.4637 - mean_absolute_error: 0.50 - ETA: 23s - loss: 0.4635 - mean_absolute_error: 0.50 - ETA: 23s - loss: 0.4637 - mean_absolute_error: 0.50 - ETA: 23s - loss: 0.4638 - mean_absolute_error: 0.50 - ETA: 23s - loss: 0.4636 - mean_absolute_error: 0.50 - ETA: 23s - loss: 0.4631 - mean_absolute_error: 0.50 - ETA: 23s - loss: 0.4625 - mean_absolute_error: 0.50 - ETA: 23s - loss: 0.4624 - mean_absolute_error: 0.50 - ETA: 23s - loss: 0.4626 - mean_absolute_error: 0.50 - ETA: 23s - loss: 0.4627 - mean_absolute_error: 0.50 - ETA: 23s - loss: 0.4630 - mean_absolute_error: 0.50 - ETA: 23s - loss: 0.4629 - mean_absolute_error: 0.50 - ETA: 23s - loss: 0.4628 - mean_absolute_error: 0.50 - ETA: 23s - loss: 0.4625 - mean_absolute_error: 0.50 - ETA: 23s - loss: 0.4628 - mean_absolute_error: 0.50 - ETA: 23s - loss: 0.4627 - mean_absolute_error: 0.50 - ETA: 23s - loss: 0.4629 - mean_absolute_error: 0.50 - ETA: 23s - loss: 0.4631 - mean_absolute_error: 0.50 - ETA: 23s - loss: 0.4632 - mean_absolute_error: 0.50 - ETA: 23s - loss: 0.4632 - mean_absolute_error: 0.50 - ETA: 22s - loss: 0.4632 - mean_absolute_error: 0.50 - ETA: 23s - loss: 0.4631 - mean_absolute_error: 0.50 - ETA: 22s - loss: 0.4631 - mean_absolute_error: 0.50 - ETA: 22s - loss: 0.4627 - mean_absolute_error: 0.50 - ETA: 22s - loss: 0.4632 - mean_absolute_error: 0.50 - ETA: 22s - loss: 0.4633 - mean_absolute_error: 0.50 - ETA: 22s - loss: 0.4630 - mean_absolute_error: 0.50 - ETA: 22s - loss: 0.4632 - mean_absolute_error: 0.50 - ETA: 22s - loss: 0.4637 - mean_absolute_error: 0.50 - ETA: 22s - loss: 0.4638 - mean_absolute_error: 0.50 - ETA: 22s - loss: 0.4636 - mean_absolute_error: 0.50 - ETA: 22s - loss: 0.4638 - mean_absolute_error: 0.50 - ETA: 22s - loss: 0.4638 - mean_absolute_error: 0.50 - ETA: 22s - loss: 0.4639 - mean_absolute_error: 0.50 - ETA: 22s - loss: 0.4634 - mean_absolute_error: 0.50 - ETA: 22s - loss: 0.4630 - mean_absolute_error: 0.50 - ETA: 22s - loss: 0.4630 - mean_absolute_error: 0.50 - ETA: 22s - loss: 0.4635 - mean_absolute_error: 0.50 - ETA: 22s - loss: 0.4632 - mean_absolute_error: 0.50 - ETA: 22s - loss: 0.4642 - mean_absolute_error: 0.50 - ETA: 22s - loss: 0.4641 - mean_absolute_error: 0.50 - ETA: 21s - loss: 0.4638 - mean_absolute_error: 0.50 - ETA: 21s - loss: 0.4640 - mean_absolute_error: 0.50 - ETA: 21s - loss: 0.4639 - mean_absolute_error: 0.50 - ETA: 21s - loss: 0.4638 - mean_absolute_error: 0.50 - ETA: 21s - loss: 0.4641 - mean_absolute_error: 0.50 - ETA: 21s - loss: 0.4641 - mean_absolute_error: 0.50 - ETA: 21s - loss: 0.4643 - mean_absolute_error: 0.50 - ETA: 21s - loss: 0.4642 - mean_absolute_error: 0.50 - ETA: 21s - loss: 0.4646 - mean_absolute_error: 0.50 - ETA: 21s - loss: 0.4646 - mean_absolute_error: 0.50 - ETA: 21s - loss: 0.4644 - mean_absolute_error: 0.50 - ETA: 21s - loss: 0.4643 - mean_absolute_error: 0.50 - ETA: 21s - loss: 0.4638 - mean_absolute_error: 0.50 - ETA: 21s - loss: 0.4637 - mean_absolute_error: 0.50 - ETA: 21s - loss: 0.4636 - mean_absolute_error: 0.50 - ETA: 21s - loss: 0.4638 - mean_absolute_error: 0.50 - ETA: 21s - loss: 0.4634 - mean_absolute_error: 0.50 - ETA: 21s - loss: 0.4632 - mean_absolute_error: 0.50 - ETA: 21s - loss: 0.4635 - mean_absolute_error: 0.50 - ETA: 21s - loss: 0.4632 - mean_absolute_error: 0.50 - ETA: 20s - loss: 0.4627 - mean_absolute_error: 0.50 - ETA: 20s - loss: 0.4631 - mean_absolute_error: 0.50 - ETA: 20s - loss: 0.4630 - mean_absolute_error: 0.50 - ETA: 20s - loss: 0.4633 - mean_absolute_error: 0.50 - ETA: 20s - loss: 0.4631 - mean_absolute_error: 0.50 - ETA: 20s - loss: 0.4628 - mean_absolute_error: 0.50 - ETA: 20s - loss: 0.4625 - mean_absolute_error: 0.50 - ETA: 20s - loss: 0.4630 - mean_absolute_error: 0.50 - ETA: 20s - loss: 0.4632 - mean_absolute_error: 0.50 - ETA: 20s - loss: 0.4635 - mean_absolute_error: 0.50 - ETA: 20s - loss: 0.4639 - mean_absolute_error: 0.50 - ETA: 20s - loss: 0.4642 - mean_absolute_error: 0.50 - ETA: 20s - loss: 0.4640 - mean_absolute_error: 0.50 - ETA: 20s - loss: 0.4637 - mean_absolute_error: 0.50 - ETA: 20s - loss: 0.4638 - mean_absolute_error: 0.50 - ETA: 20s - loss: 0.4640 - mean_absolute_error: 0.50 - ETA: 20s - loss: 0.4638 - mean_absolute_error: 0.50 - ETA: 20s - loss: 0.4638 - mean_absolute_error: 0.50 - ETA: 20s - loss: 0.4636 - mean_absolute_error: 0.50 - ETA: 20s - loss: 0.4635 - mean_absolute_error: 0.50 - ETA: 20s - loss: 0.4637 - mean_absolute_error: 0.50 - ETA: 19s - loss: 0.4636 - mean_absolute_error: 0.50 - ETA: 19s - loss: 0.4632 - mean_absolute_error: 0.50 - ETA: 19s - loss: 0.4631 - mean_absolute_error: 0.50 - ETA: 19s - loss: 0.4634 - mean_absolute_error: 0.50 - ETA: 19s - loss: 0.4635 - mean_absolute_error: 0.50 - ETA: 19s - loss: 0.4636 - mean_absolute_error: 0.50 - ETA: 19s - loss: 0.4635 - mean_absolute_error: 0.50 - ETA: 19s - loss: 0.4636 - mean_absolute_error: 0.50 - ETA: 19s - loss: 0.4635 - mean_absolute_error: 0.50 - ETA: 19s - loss: 0.4633 - mean_absolute_error: 0.50 - ETA: 19s - loss: 0.4635 - mean_absolute_error: 0.50 - ETA: 19s - loss: 0.4634 - mean_absolute_error: 0.50 - ETA: 19s - loss: 0.4634 - mean_absolute_error: 0.50 - ETA: 19s - loss: 0.4633 - mean_absolute_error: 0.50 - ETA: 19s - loss: 0.4633 - mean_absolute_error: 0.50 - ETA: 19s - loss: 0.4632 - mean_absolute_error: 0.50 - ETA: 19s - loss: 0.4631 - mean_absolute_error: 0.50 - ETA: 19s - loss: 0.4628 - mean_absolute_error: 0.50 - ETA: 19s - loss: 0.4628 - mean_absolute_error: 0.50 - ETA: 18s - loss: 0.4625 - mean_absolute_error: 0.50 - ETA: 18s - loss: 0.4627 - mean_absolute_error: 0.50 - ETA: 18s - loss: 0.4631 - mean_absolute_error: 0.50 - ETA: 18s - loss: 0.4629 - mean_absolute_error: 0.50 - ETA: 18s - loss: 0.4626 - mean_absolute_error: 0.50 - ETA: 18s - loss: 0.4623 - mean_absolute_error: 0.50 - ETA: 18s - loss: 0.4621 - mean_absolute_error: 0.5019123552/174938 [====================>.........] - ETA: 18s - loss: 0.4619 - mean_absolute_error: 0.50 - ETA: 18s - loss: 0.4615 - mean_absolute_error: 0.50 - ETA: 18s - loss: 0.4616 - mean_absolute_error: 0.50 - ETA: 18s - loss: 0.4616 - mean_absolute_error: 0.50 - ETA: 18s - loss: 0.4618 - mean_absolute_error: 0.50 - ETA: 18s - loss: 0.4618 - mean_absolute_error: 0.50 - ETA: 18s - loss: 0.4617 - mean_absolute_error: 0.50 - ETA: 18s - loss: 0.4617 - mean_absolute_error: 0.50 - ETA: 18s - loss: 0.4615 - mean_absolute_error: 0.50 - ETA: 18s - loss: 0.4612 - mean_absolute_error: 0.50 - ETA: 17s - loss: 0.4610 - mean_absolute_error: 0.50 - ETA: 17s - loss: 0.4611 - mean_absolute_error: 0.50 - ETA: 17s - loss: 0.4608 - mean_absolute_error: 0.50 - ETA: 17s - loss: 0.4613 - mean_absolute_error: 0.50 - ETA: 17s - loss: 0.4613 - mean_absolute_error: 0.50 - ETA: 17s - loss: 0.4614 - mean_absolute_error: 0.50 - ETA: 17s - loss: 0.4613 - mean_absolute_error: 0.50 - ETA: 17s - loss: 0.4616 - mean_absolute_error: 0.50 - ETA: 17s - loss: 0.4614 - mean_absolute_error: 0.50 - ETA: 17s - loss: 0.4611 - mean_absolute_error: 0.50 - ETA: 17s - loss: 0.4615 - mean_absolute_error: 0.50 - ETA: 17s - loss: 0.4614 - mean_absolute_error: 0.50 - ETA: 17s - loss: 0.4614 - mean_absolute_error: 0.50 - ETA: 17s - loss: 0.4615 - mean_absolute_error: 0.50 - ETA: 17s - loss: 0.4616 - mean_absolute_error: 0.50 - ETA: 17s - loss: 0.4615 - mean_absolute_error: 0.50 - ETA: 17s - loss: 0.4615 - mean_absolute_error: 0.50 - ETA: 17s - loss: 0.4611 - mean_absolute_error: 0.50 - ETA: 16s - loss: 0.4612 - mean_absolute_error: 0.50 - ETA: 16s - loss: 0.4612 - mean_absolute_error: 0.50 - ETA: 16s - loss: 0.4612 - mean_absolute_error: 0.50 - ETA: 16s - loss: 0.4612 - mean_absolute_error: 0.50 - ETA: 16s - loss: 0.4610 - mean_absolute_error: 0.50 - ETA: 16s - loss: 0.4608 - mean_absolute_error: 0.50 - ETA: 16s - loss: 0.4612 - mean_absolute_error: 0.50 - ETA: 16s - loss: 0.4611 - mean_absolute_error: 0.50 - ETA: 16s - loss: 0.4612 - mean_absolute_error: 0.50 - ETA: 16s - loss: 0.4610 - mean_absolute_error: 0.50 - ETA: 16s - loss: 0.4613 - mean_absolute_error: 0.50 - ETA: 16s - loss: 0.4614 - mean_absolute_error: 0.50 - ETA: 16s - loss: 0.4614 - mean_absolute_error: 0.50 - ETA: 16s - loss: 0.4614 - mean_absolute_error: 0.50 - ETA: 16s - loss: 0.4614 - mean_absolute_error: 0.50 - ETA: 16s - loss: 0.4617 - mean_absolute_error: 0.50 - ETA: 15s - loss: 0.4617 - mean_absolute_error: 0.50 - ETA: 15s - loss: 0.4617 - mean_absolute_error: 0.50 - ETA: 15s - loss: 0.4616 - mean_absolute_error: 0.50 - ETA: 15s - loss: 0.4618 - mean_absolute_error: 0.50 - ETA: 15s - loss: 0.4618 - mean_absolute_error: 0.50 - ETA: 15s - loss: 0.4620 - mean_absolute_error: 0.50 - ETA: 15s - loss: 0.4618 - mean_absolute_error: 0.50 - ETA: 15s - loss: 0.4618 - mean_absolute_error: 0.50 - ETA: 15s - loss: 0.4619 - mean_absolute_error: 0.50 - ETA: 15s - loss: 0.4619 - mean_absolute_error: 0.50 - ETA: 15s - loss: 0.4618 - mean_absolute_error: 0.50 - ETA: 15s - loss: 0.4623 - mean_absolute_error: 0.50 - ETA: 15s - loss: 0.4622 - mean_absolute_error: 0.50 - ETA: 15s - loss: 0.4623 - mean_absolute_error: 0.50 - ETA: 15s - loss: 0.4626 - mean_absolute_error: 0.50 - ETA: 15s - loss: 0.4625 - mean_absolute_error: 0.50 - ETA: 15s - loss: 0.4624 - mean_absolute_error: 0.50 - ETA: 15s - loss: 0.4625 - mean_absolute_error: 0.50 - ETA: 15s - loss: 0.4624 - mean_absolute_error: 0.50 - ETA: 14s - loss: 0.4624 - mean_absolute_error: 0.50 - ETA: 14s - loss: 0.4624 - mean_absolute_error: 0.50 - ETA: 14s - loss: 0.4621 - mean_absolute_error: 0.50 - ETA: 14s - loss: 0.4620 - mean_absolute_error: 0.50 - ETA: 14s - loss: 0.4620 - mean_absolute_error: 0.50 - ETA: 14s - loss: 0.4617 - mean_absolute_error: 0.50 - ETA: 14s - loss: 0.4616 - mean_absolute_error: 0.50 - ETA: 14s - loss: 0.4615 - mean_absolute_error: 0.50 - ETA: 14s - loss: 0.4618 - mean_absolute_error: 0.50 - ETA: 14s - loss: 0.4616 - mean_absolute_error: 0.50 - ETA: 14s - loss: 0.4616 - mean_absolute_error: 0.50 - ETA: 14s - loss: 0.4615 - mean_absolute_error: 0.50 - ETA: 14s - loss: 0.4613 - mean_absolute_error: 0.50 - ETA: 14s - loss: 0.4612 - mean_absolute_error: 0.50 - ETA: 14s - loss: 0.4613 - mean_absolute_error: 0.50 - ETA: 14s - loss: 0.4612 - mean_absolute_error: 0.50 - ETA: 14s - loss: 0.4611 - mean_absolute_error: 0.50 - ETA: 13s - loss: 0.4609 - mean_absolute_error: 0.50 - ETA: 13s - loss: 0.4610 - mean_absolute_error: 0.50 - ETA: 13s - loss: 0.4609 - mean_absolute_error: 0.50 - ETA: 13s - loss: 0.4607 - mean_absolute_error: 0.50 - ETA: 13s - loss: 0.4604 - mean_absolute_error: 0.50 - ETA: 13s - loss: 0.4603 - mean_absolute_error: 0.50 - ETA: 13s - loss: 0.4603 - mean_absolute_error: 0.50 - ETA: 13s - loss: 0.4604 - mean_absolute_error: 0.50 - ETA: 13s - loss: 0.4604 - mean_absolute_error: 0.50 - ETA: 13s - loss: 0.4607 - mean_absolute_error: 0.50 - ETA: 13s - loss: 0.4606 - mean_absolute_error: 0.50 - ETA: 13s - loss: 0.4603 - mean_absolute_error: 0.50 - ETA: 13s - loss: 0.4601 - mean_absolute_error: 0.50 - ETA: 13s - loss: 0.4602 - mean_absolute_error: 0.50 - ETA: 13s - loss: 0.4599 - mean_absolute_error: 0.50 - ETA: 13s - loss: 0.4602 - mean_absolute_error: 0.50 - ETA: 13s - loss: 0.4601 - mean_absolute_error: 0.50 - ETA: 12s - loss: 0.4603 - mean_absolute_error: 0.50 - ETA: 12s - loss: 0.4605 - mean_absolute_error: 0.50 - ETA: 12s - loss: 0.4607 - mean_absolute_error: 0.50 - ETA: 12s - loss: 0.4605 - mean_absolute_error: 0.50 - ETA: 12s - loss: 0.4605 - mean_absolute_error: 0.50 - ETA: 12s - loss: 0.4607 - mean_absolute_error: 0.50 - ETA: 12s - loss: 0.4611 - mean_absolute_error: 0.50 - ETA: 12s - loss: 0.4612 - mean_absolute_error: 0.50 - ETA: 12s - loss: 0.4612 - mean_absolute_error: 0.50 - ETA: 12s - loss: 0.4611 - mean_absolute_error: 0.50 - ETA: 12s - loss: 0.4611 - mean_absolute_error: 0.50 - ETA: 12s - loss: 0.4609 - mean_absolute_error: 0.50 - ETA: 12s - loss: 0.4610 - mean_absolute_error: 0.50 - ETA: 12s - loss: 0.4610 - mean_absolute_error: 0.50 - ETA: 12s - loss: 0.4609 - mean_absolute_error: 0.50 - ETA: 12s - loss: 0.4609 - mean_absolute_error: 0.50 - ETA: 12s - loss: 0.4609 - mean_absolute_error: 0.50 - ETA: 12s - loss: 0.4610 - mean_absolute_error: 0.50 - ETA: 11s - loss: 0.4609 - mean_absolute_error: 0.50 - ETA: 11s - loss: 0.4607 - mean_absolute_error: 0.50 - ETA: 11s - loss: 0.4608 - mean_absolute_error: 0.50 - ETA: 11s - loss: 0.4608 - mean_absolute_error: 0.50 - ETA: 11s - loss: 0.4608 - mean_absolute_error: 0.50 - ETA: 11s - loss: 0.4606 - mean_absolute_error: 0.50 - ETA: 11s - loss: 0.4607 - mean_absolute_error: 0.50 - ETA: 11s - loss: 0.4606 - mean_absolute_error: 0.50 - ETA: 11s - loss: 0.4608 - mean_absolute_error: 0.50 - ETA: 11s - loss: 0.4608 - mean_absolute_error: 0.50 - ETA: 11s - loss: 0.4606 - mean_absolute_error: 0.50 - ETA: 11s - loss: 0.4606 - mean_absolute_error: 0.50 - ETA: 11s - loss: 0.4604 - mean_absolute_error: 0.50 - ETA: 11s - loss: 0.4604 - mean_absolute_error: 0.50 - ETA: 11s - loss: 0.4604 - mean_absolute_error: 0.50 - ETA: 11s - loss: 0.4602 - mean_absolute_error: 0.50 - ETA: 11s - loss: 0.4602 - mean_absolute_error: 0.50 - ETA: 10s - loss: 0.4601 - mean_absolute_error: 0.50 - ETA: 10s - loss: 0.4600 - mean_absolute_error: 0.50 - ETA: 10s - loss: 0.4598 - mean_absolute_error: 0.50 - ETA: 10s - loss: 0.4597 - mean_absolute_error: 0.50 - ETA: 10s - loss: 0.4596 - mean_absolute_error: 0.50 - ETA: 10s - loss: 0.4594 - mean_absolute_error: 0.50 - ETA: 10s - loss: 0.4594 - mean_absolute_error: 0.50 - ETA: 10s - loss: 0.4596 - mean_absolute_error: 0.50 - ETA: 10s - loss: 0.4596 - mean_absolute_error: 0.50 - ETA: 10s - loss: 0.4594 - mean_absolute_error: 0.50 - ETA: 10s - loss: 0.4593 - mean_absolute_error: 0.50 - ETA: 10s - loss: 0.4592 - mean_absolute_error: 0.50 - ETA: 10s - loss: 0.4590 - mean_absolute_error: 0.49 - ETA: 10s - loss: 0.4591 - mean_absolute_error: 0.50 - ETA: 10s - loss: 0.4590 - mean_absolute_error: 0.49 - ETA: 10s - loss: 0.4591 - mean_absolute_error: 0.50 - ETA: 10s - loss: 0.4592 - mean_absolute_error: 0.50 - ETA: 10s - loss: 0.4590 - mean_absolute_error: 0.49 - ETA: 9s - loss: 0.4588 - mean_absolute_error: 0.4998 "
     ]
    },
    {
     "name": "stdout",
     "output_type": "stream",
     "text": [
      "166784/174938 [===========================>..] - ETA: 9s - loss: 0.4590 - mean_absolute_error: 0.499 - ETA: 9s - loss: 0.4590 - mean_absolute_error: 0.500 - ETA: 9s - loss: 0.4591 - mean_absolute_error: 0.500 - ETA: 9s - loss: 0.4589 - mean_absolute_error: 0.499 - ETA: 9s - loss: 0.4588 - mean_absolute_error: 0.499 - ETA: 9s - loss: 0.4586 - mean_absolute_error: 0.499 - ETA: 9s - loss: 0.4585 - mean_absolute_error: 0.499 - ETA: 9s - loss: 0.4584 - mean_absolute_error: 0.499 - ETA: 9s - loss: 0.4583 - mean_absolute_error: 0.499 - ETA: 9s - loss: 0.4582 - mean_absolute_error: 0.499 - ETA: 9s - loss: 0.4581 - mean_absolute_error: 0.499 - ETA: 9s - loss: 0.4582 - mean_absolute_error: 0.499 - ETA: 9s - loss: 0.4582 - mean_absolute_error: 0.499 - ETA: 9s - loss: 0.4582 - mean_absolute_error: 0.499 - ETA: 9s - loss: 0.4581 - mean_absolute_error: 0.499 - ETA: 9s - loss: 0.4581 - mean_absolute_error: 0.499 - ETA: 8s - loss: 0.4584 - mean_absolute_error: 0.499 - ETA: 8s - loss: 0.4582 - mean_absolute_error: 0.499 - ETA: 8s - loss: 0.4583 - mean_absolute_error: 0.499 - ETA: 8s - loss: 0.4583 - mean_absolute_error: 0.499 - ETA: 8s - loss: 0.4586 - mean_absolute_error: 0.499 - ETA: 8s - loss: 0.4584 - mean_absolute_error: 0.499 - ETA: 8s - loss: 0.4585 - mean_absolute_error: 0.499 - ETA: 8s - loss: 0.4585 - mean_absolute_error: 0.499 - ETA: 8s - loss: 0.4584 - mean_absolute_error: 0.499 - ETA: 8s - loss: 0.4584 - mean_absolute_error: 0.499 - ETA: 8s - loss: 0.4583 - mean_absolute_error: 0.499 - ETA: 8s - loss: 0.4582 - mean_absolute_error: 0.499 - ETA: 8s - loss: 0.4581 - mean_absolute_error: 0.499 - ETA: 8s - loss: 0.4581 - mean_absolute_error: 0.499 - ETA: 8s - loss: 0.4582 - mean_absolute_error: 0.499 - ETA: 8s - loss: 0.4580 - mean_absolute_error: 0.499 - ETA: 8s - loss: 0.4580 - mean_absolute_error: 0.499 - ETA: 8s - loss: 0.4582 - mean_absolute_error: 0.499 - ETA: 7s - loss: 0.4583 - mean_absolute_error: 0.499 - ETA: 7s - loss: 0.4582 - mean_absolute_error: 0.499 - ETA: 7s - loss: 0.4582 - mean_absolute_error: 0.499 - ETA: 7s - loss: 0.4584 - mean_absolute_error: 0.499 - ETA: 7s - loss: 0.4583 - mean_absolute_error: 0.499 - ETA: 7s - loss: 0.4582 - mean_absolute_error: 0.499 - ETA: 7s - loss: 0.4584 - mean_absolute_error: 0.499 - ETA: 7s - loss: 0.4585 - mean_absolute_error: 0.499 - ETA: 7s - loss: 0.4585 - mean_absolute_error: 0.499 - ETA: 7s - loss: 0.4583 - mean_absolute_error: 0.499 - ETA: 7s - loss: 0.4581 - mean_absolute_error: 0.499 - ETA: 7s - loss: 0.4580 - mean_absolute_error: 0.499 - ETA: 7s - loss: 0.4581 - mean_absolute_error: 0.499 - ETA: 7s - loss: 0.4581 - mean_absolute_error: 0.499 - ETA: 7s - loss: 0.4580 - mean_absolute_error: 0.499 - ETA: 7s - loss: 0.4580 - mean_absolute_error: 0.499 - ETA: 7s - loss: 0.4580 - mean_absolute_error: 0.499 - ETA: 6s - loss: 0.4579 - mean_absolute_error: 0.499 - ETA: 6s - loss: 0.4578 - mean_absolute_error: 0.499 - ETA: 6s - loss: 0.4577 - mean_absolute_error: 0.499 - ETA: 6s - loss: 0.4577 - mean_absolute_error: 0.499 - ETA: 6s - loss: 0.4580 - mean_absolute_error: 0.499 - ETA: 6s - loss: 0.4578 - mean_absolute_error: 0.498 - ETA: 6s - loss: 0.4580 - mean_absolute_error: 0.498 - ETA: 6s - loss: 0.4578 - mean_absolute_error: 0.498 - ETA: 6s - loss: 0.4578 - mean_absolute_error: 0.498 - ETA: 6s - loss: 0.4579 - mean_absolute_error: 0.498 - ETA: 6s - loss: 0.4579 - mean_absolute_error: 0.498 - ETA: 6s - loss: 0.4578 - mean_absolute_error: 0.498 - ETA: 6s - loss: 0.4575 - mean_absolute_error: 0.498 - ETA: 6s - loss: 0.4575 - mean_absolute_error: 0.498 - ETA: 6s - loss: 0.4575 - mean_absolute_error: 0.498 - ETA: 6s - loss: 0.4576 - mean_absolute_error: 0.498 - ETA: 6s - loss: 0.4577 - mean_absolute_error: 0.498 - ETA: 6s - loss: 0.4577 - mean_absolute_error: 0.498 - ETA: 6s - loss: 0.4577 - mean_absolute_error: 0.498 - ETA: 5s - loss: 0.4576 - mean_absolute_error: 0.498 - ETA: 5s - loss: 0.4576 - mean_absolute_error: 0.498 - ETA: 5s - loss: 0.4576 - mean_absolute_error: 0.498 - ETA: 5s - loss: 0.4577 - mean_absolute_error: 0.498 - ETA: 5s - loss: 0.4575 - mean_absolute_error: 0.498 - ETA: 5s - loss: 0.4574 - mean_absolute_error: 0.498 - ETA: 5s - loss: 0.4574 - mean_absolute_error: 0.498 - ETA: 5s - loss: 0.4573 - mean_absolute_error: 0.498 - ETA: 5s - loss: 0.4573 - mean_absolute_error: 0.498 - ETA: 5s - loss: 0.4570 - mean_absolute_error: 0.498 - ETA: 5s - loss: 0.4568 - mean_absolute_error: 0.498 - ETA: 5s - loss: 0.4567 - mean_absolute_error: 0.498 - ETA: 5s - loss: 0.4567 - mean_absolute_error: 0.498 - ETA: 5s - loss: 0.4568 - mean_absolute_error: 0.498 - ETA: 5s - loss: 0.4566 - mean_absolute_error: 0.498 - ETA: 5s - loss: 0.4563 - mean_absolute_error: 0.498 - ETA: 5s - loss: 0.4562 - mean_absolute_error: 0.498 - ETA: 4s - loss: 0.4561 - mean_absolute_error: 0.497 - ETA: 4s - loss: 0.4561 - mean_absolute_error: 0.497 - ETA: 4s - loss: 0.4563 - mean_absolute_error: 0.497 - ETA: 4s - loss: 0.4566 - mean_absolute_error: 0.497 - ETA: 4s - loss: 0.4567 - mean_absolute_error: 0.498 - ETA: 4s - loss: 0.4567 - mean_absolute_error: 0.498 - ETA: 4s - loss: 0.4569 - mean_absolute_error: 0.498 - ETA: 4s - loss: 0.4568 - mean_absolute_error: 0.498 - ETA: 4s - loss: 0.4567 - mean_absolute_error: 0.498 - ETA: 4s - loss: 0.4568 - mean_absolute_error: 0.498 - ETA: 4s - loss: 0.4571 - mean_absolute_error: 0.498 - ETA: 4s - loss: 0.4570 - mean_absolute_error: 0.498 - ETA: 4s - loss: 0.4572 - mean_absolute_error: 0.498 - ETA: 4s - loss: 0.4574 - mean_absolute_error: 0.498 - ETA: 4s - loss: 0.4574 - mean_absolute_error: 0.498 - ETA: 4s - loss: 0.4572 - mean_absolute_error: 0.498 - ETA: 4s - loss: 0.4572 - mean_absolute_error: 0.498 - ETA: 4s - loss: 0.4574 - mean_absolute_error: 0.498 - ETA: 4s - loss: 0.4573 - mean_absolute_error: 0.498 - ETA: 3s - loss: 0.4573 - mean_absolute_error: 0.498 - ETA: 3s - loss: 0.4572 - mean_absolute_error: 0.498 - ETA: 3s - loss: 0.4570 - mean_absolute_error: 0.498 - ETA: 3s - loss: 0.4571 - mean_absolute_error: 0.498 - ETA: 3s - loss: 0.4571 - mean_absolute_error: 0.497 - ETA: 3s - loss: 0.4571 - mean_absolute_error: 0.497 - ETA: 3s - loss: 0.4569 - mean_absolute_error: 0.497 - ETA: 3s - loss: 0.4568 - mean_absolute_error: 0.497 - ETA: 3s - loss: 0.4570 - mean_absolute_error: 0.497 - ETA: 3s - loss: 0.4568 - mean_absolute_error: 0.497 - ETA: 3s - loss: 0.4567 - mean_absolute_error: 0.497 - ETA: 3s - loss: 0.4566 - mean_absolute_error: 0.497 - ETA: 3s - loss: 0.4566 - mean_absolute_error: 0.497 - ETA: 3s - loss: 0.4566 - mean_absolute_error: 0.497 - ETA: 3s - loss: 0.4566 - mean_absolute_error: 0.497 - ETA: 3s - loss: 0.4565 - mean_absolute_error: 0.497 - ETA: 3s - loss: 0.4566 - mean_absolute_error: 0.497 - ETA: 3s - loss: 0.4565 - mean_absolute_error: 0.497 - ETA: 2s - loss: 0.4565 - mean_absolute_error: 0.497 - ETA: 2s - loss: 0.4565 - mean_absolute_error: 0.497 - ETA: 2s - loss: 0.4564 - mean_absolute_error: 0.497 - ETA: 2s - loss: 0.4564 - mean_absolute_error: 0.497 - ETA: 2s - loss: 0.4564 - mean_absolute_error: 0.497 - ETA: 2s - loss: 0.4563 - mean_absolute_error: 0.497 - ETA: 2s - loss: 0.4562 - mean_absolute_error: 0.497 - ETA: 2s - loss: 0.4561 - mean_absolute_error: 0.497 - ETA: 2s - loss: 0.4561 - mean_absolute_error: 0.497 - ETA: 2s - loss: 0.4561 - mean_absolute_error: 0.497 - ETA: 2s - loss: 0.4559 - mean_absolute_error: 0.497 - ETA: 2s - loss: 0.4558 - mean_absolute_error: 0.497 - ETA: 2s - loss: 0.4557 - mean_absolute_error: 0.497 - ETA: 2s - loss: 0.4557 - mean_absolute_error: 0.497 - ETA: 2s - loss: 0.4555 - mean_absolute_error: 0.497 - ETA: 2s - loss: 0.4554 - mean_absolute_error: 0.497 - ETA: 2s - loss: 0.4554 - mean_absolute_error: 0.497 - ETA: 2s - loss: 0.4554 - mean_absolute_error: 0.497 - ETA: 1s - loss: 0.4552 - mean_absolute_error: 0.497 - ETA: 1s - loss: 0.4553 - mean_absolute_error: 0.497 - ETA: 1s - loss: 0.4552 - mean_absolute_error: 0.497 - ETA: 1s - loss: 0.4552 - mean_absolute_error: 0.497 - ETA: 1s - loss: 0.4553 - mean_absolute_error: 0.497 - ETA: 1s - loss: 0.4555 - mean_absolute_error: 0.497 - ETA: 1s - loss: 0.4554 - mean_absolute_error: 0.497 - ETA: 1s - loss: 0.4554 - mean_absolute_error: 0.497 - ETA: 1s - loss: 0.4554 - mean_absolute_error: 0.4972"
     ]
    },
    {
     "name": "stdout",
     "output_type": "stream",
     "text": [
      "174938/174938 [==============================] - ETA: 1s - loss: 0.4556 - mean_absolute_error: 0.497 - ETA: 1s - loss: 0.4555 - mean_absolute_error: 0.497 - ETA: 1s - loss: 0.4555 - mean_absolute_error: 0.497 - ETA: 1s - loss: 0.4557 - mean_absolute_error: 0.497 - ETA: 1s - loss: 0.4557 - mean_absolute_error: 0.497 - ETA: 1s - loss: 0.4555 - mean_absolute_error: 0.497 - ETA: 1s - loss: 0.4553 - mean_absolute_error: 0.497 - ETA: 1s - loss: 0.4554 - mean_absolute_error: 0.497 - ETA: 1s - loss: 0.4552 - mean_absolute_error: 0.497 - ETA: 1s - loss: 0.4553 - mean_absolute_error: 0.497 - ETA: 0s - loss: 0.4553 - mean_absolute_error: 0.497 - ETA: 0s - loss: 0.4554 - mean_absolute_error: 0.497 - ETA: 0s - loss: 0.4555 - mean_absolute_error: 0.497 - ETA: 0s - loss: 0.4558 - mean_absolute_error: 0.497 - ETA: 0s - loss: 0.4558 - mean_absolute_error: 0.497 - ETA: 0s - loss: 0.4559 - mean_absolute_error: 0.497 - ETA: 0s - loss: 0.4559 - mean_absolute_error: 0.497 - ETA: 0s - loss: 0.4559 - mean_absolute_error: 0.497 - ETA: 0s - loss: 0.4559 - mean_absolute_error: 0.497 - ETA: 0s - loss: 0.4559 - mean_absolute_error: 0.497 - ETA: 0s - loss: 0.4559 - mean_absolute_error: 0.497 - ETA: 0s - loss: 0.4559 - mean_absolute_error: 0.497 - ETA: 0s - loss: 0.4559 - mean_absolute_error: 0.497 - ETA: 0s - loss: 0.4560 - mean_absolute_error: 0.497 - ETA: 0s - loss: 0.4559 - mean_absolute_error: 0.497 - ETA: 0s - loss: 0.4558 - mean_absolute_error: 0.497 - ETA: 0s - loss: 0.4559 - mean_absolute_error: 0.497 - ETA: 0s - loss: 0.4561 - mean_absolute_error: 0.497 - 37s - loss: 0.4559 - mean_absolute_error: 0.4974 - val_loss: 0.5933 - val_mean_absolute_error: 0.5961\n",
      "Epoch 3/10\n"
     ]
    },
    {
     "name": "stdout",
     "output_type": "stream",
     "text": [
      " 43904/174938 [======>.......................] - ETA: 152s - loss: 0.5236 - mean_absolute_error: 0.600 - ETA: 48s - loss: 0.5297 - mean_absolute_error: 0.548 - ETA: 37s - loss: 0.4858 - mean_absolute_error: 0.52 - ETA: 34s - loss: 0.4614 - mean_absolute_error: 0.51 - ETA: 33s - loss: 0.4746 - mean_absolute_error: 0.51 - ETA: 31s - loss: 0.4709 - mean_absolute_error: 0.50 - ETA: 30s - loss: 0.4554 - mean_absolute_error: 0.49 - ETA: 31s - loss: 0.4533 - mean_absolute_error: 0.49 - ETA: 33s - loss: 0.4572 - mean_absolute_error: 0.49 - ETA: 32s - loss: 0.4593 - mean_absolute_error: 0.49 - ETA: 32s - loss: 0.4559 - mean_absolute_error: 0.49 - ETA: 32s - loss: 0.4525 - mean_absolute_error: 0.49 - ETA: 31s - loss: 0.4464 - mean_absolute_error: 0.49 - ETA: 30s - loss: 0.4526 - mean_absolute_error: 0.49 - ETA: 30s - loss: 0.4490 - mean_absolute_error: 0.49 - ETA: 30s - loss: 0.4516 - mean_absolute_error: 0.49 - ETA: 30s - loss: 0.4577 - mean_absolute_error: 0.49 - ETA: 31s - loss: 0.4592 - mean_absolute_error: 0.49 - ETA: 31s - loss: 0.4656 - mean_absolute_error: 0.49 - ETA: 31s - loss: 0.4654 - mean_absolute_error: 0.49 - ETA: 31s - loss: 0.4613 - mean_absolute_error: 0.49 - ETA: 30s - loss: 0.4610 - mean_absolute_error: 0.49 - ETA: 30s - loss: 0.4541 - mean_absolute_error: 0.49 - ETA: 30s - loss: 0.4512 - mean_absolute_error: 0.49 - ETA: 29s - loss: 0.4512 - mean_absolute_error: 0.49 - ETA: 29s - loss: 0.4496 - mean_absolute_error: 0.49 - ETA: 29s - loss: 0.4532 - mean_absolute_error: 0.49 - ETA: 29s - loss: 0.4570 - mean_absolute_error: 0.49 - ETA: 29s - loss: 0.4606 - mean_absolute_error: 0.49 - ETA: 29s - loss: 0.4589 - mean_absolute_error: 0.49 - ETA: 29s - loss: 0.4584 - mean_absolute_error: 0.49 - ETA: 29s - loss: 0.4613 - mean_absolute_error: 0.49 - ETA: 29s - loss: 0.4582 - mean_absolute_error: 0.49 - ETA: 29s - loss: 0.4586 - mean_absolute_error: 0.49 - ETA: 29s - loss: 0.4577 - mean_absolute_error: 0.49 - ETA: 29s - loss: 0.4587 - mean_absolute_error: 0.49 - ETA: 28s - loss: 0.4580 - mean_absolute_error: 0.49 - ETA: 28s - loss: 0.4609 - mean_absolute_error: 0.49 - ETA: 28s - loss: 0.4605 - mean_absolute_error: 0.49 - ETA: 28s - loss: 0.4590 - mean_absolute_error: 0.49 - ETA: 28s - loss: 0.4577 - mean_absolute_error: 0.49 - ETA: 28s - loss: 0.4579 - mean_absolute_error: 0.49 - ETA: 28s - loss: 0.4587 - mean_absolute_error: 0.49 - ETA: 28s - loss: 0.4567 - mean_absolute_error: 0.49 - ETA: 28s - loss: 0.4553 - mean_absolute_error: 0.49 - ETA: 28s - loss: 0.4547 - mean_absolute_error: 0.49 - ETA: 28s - loss: 0.4550 - mean_absolute_error: 0.49 - ETA: 28s - loss: 0.4566 - mean_absolute_error: 0.49 - ETA: 28s - loss: 0.4572 - mean_absolute_error: 0.49 - ETA: 28s - loss: 0.4592 - mean_absolute_error: 0.49 - ETA: 28s - loss: 0.4625 - mean_absolute_error: 0.49 - ETA: 28s - loss: 0.4640 - mean_absolute_error: 0.49 - ETA: 28s - loss: 0.4649 - mean_absolute_error: 0.49 - ETA: 28s - loss: 0.4660 - mean_absolute_error: 0.49 - ETA: 28s - loss: 0.4658 - mean_absolute_error: 0.49 - ETA: 28s - loss: 0.4651 - mean_absolute_error: 0.49 - ETA: 28s - loss: 0.4662 - mean_absolute_error: 0.49 - ETA: 27s - loss: 0.4677 - mean_absolute_error: 0.49 - ETA: 27s - loss: 0.4661 - mean_absolute_error: 0.49 - ETA: 27s - loss: 0.4667 - mean_absolute_error: 0.49 - ETA: 27s - loss: 0.4664 - mean_absolute_error: 0.49 - ETA: 27s - loss: 0.4662 - mean_absolute_error: 0.49 - ETA: 27s - loss: 0.4650 - mean_absolute_error: 0.49 - ETA: 27s - loss: 0.4641 - mean_absolute_error: 0.49 - ETA: 27s - loss: 0.4637 - mean_absolute_error: 0.49 - ETA: 27s - loss: 0.4627 - mean_absolute_error: 0.49 - ETA: 27s - loss: 0.4631 - mean_absolute_error: 0.49 - ETA: 27s - loss: 0.4623 - mean_absolute_error: 0.49 - ETA: 27s - loss: 0.4613 - mean_absolute_error: 0.49 - ETA: 27s - loss: 0.4604 - mean_absolute_error: 0.49 - ETA: 27s - loss: 0.4595 - mean_absolute_error: 0.49 - ETA: 27s - loss: 0.4587 - mean_absolute_error: 0.49 - ETA: 27s - loss: 0.4589 - mean_absolute_error: 0.49 - ETA: 27s - loss: 0.4583 - mean_absolute_error: 0.49 - ETA: 27s - loss: 0.4583 - mean_absolute_error: 0.49 - ETA: 27s - loss: 0.4577 - mean_absolute_error: 0.49 - ETA: 27s - loss: 0.4579 - mean_absolute_error: 0.49 - ETA: 27s - loss: 0.4591 - mean_absolute_error: 0.49 - ETA: 26s - loss: 0.4591 - mean_absolute_error: 0.49 - ETA: 26s - loss: 0.4591 - mean_absolute_error: 0.49 - ETA: 26s - loss: 0.4591 - mean_absolute_error: 0.49 - ETA: 26s - loss: 0.4594 - mean_absolute_error: 0.49 - ETA: 26s - loss: 0.4583 - mean_absolute_error: 0.49 - ETA: 26s - loss: 0.4581 - mean_absolute_error: 0.49 - ETA: 26s - loss: 0.4579 - mean_absolute_error: 0.49 - ETA: 26s - loss: 0.4589 - mean_absolute_error: 0.49 - ETA: 26s - loss: 0.4593 - mean_absolute_error: 0.49 - ETA: 26s - loss: 0.4590 - mean_absolute_error: 0.49 - ETA: 26s - loss: 0.4590 - mean_absolute_error: 0.49 - ETA: 26s - loss: 0.4582 - mean_absolute_error: 0.49 - ETA: 26s - loss: 0.4594 - mean_absolute_error: 0.49 - ETA: 26s - loss: 0.4589 - mean_absolute_error: 0.49 - ETA: 26s - loss: 0.4592 - mean_absolute_error: 0.49 - ETA: 26s - loss: 0.4587 - mean_absolute_error: 0.49 - ETA: 26s - loss: 0.4585 - mean_absolute_error: 0.49 - ETA: 26s - loss: 0.4581 - mean_absolute_error: 0.49 - ETA: 26s - loss: 0.4577 - mean_absolute_error: 0.49 - ETA: 26s - loss: 0.4566 - mean_absolute_error: 0.49 - ETA: 26s - loss: 0.4562 - mean_absolute_error: 0.49 - ETA: 26s - loss: 0.4573 - mean_absolute_error: 0.49 - ETA: 26s - loss: 0.4574 - mean_absolute_error: 0.49 - ETA: 26s - loss: 0.4571 - mean_absolute_error: 0.49 - ETA: 26s - loss: 0.4578 - mean_absolute_error: 0.49 - ETA: 25s - loss: 0.4574 - mean_absolute_error: 0.49 - ETA: 25s - loss: 0.4565 - mean_absolute_error: 0.49 - ETA: 25s - loss: 0.4572 - mean_absolute_error: 0.49 - ETA: 25s - loss: 0.4567 - mean_absolute_error: 0.49 - ETA: 25s - loss: 0.4566 - mean_absolute_error: 0.49 - ETA: 25s - loss: 0.4558 - mean_absolute_error: 0.49 - ETA: 25s - loss: 0.4561 - mean_absolute_error: 0.49 - ETA: 25s - loss: 0.4564 - mean_absolute_error: 0.49 - ETA: 25s - loss: 0.4557 - mean_absolute_error: 0.49 - ETA: 25s - loss: 0.4550 - mean_absolute_error: 0.49 - ETA: 25s - loss: 0.4541 - mean_absolute_error: 0.49 - ETA: 25s - loss: 0.4541 - mean_absolute_error: 0.49 - ETA: 25s - loss: 0.4541 - mean_absolute_error: 0.49 - ETA: 25s - loss: 0.4538 - mean_absolute_error: 0.49 - ETA: 25s - loss: 0.4531 - mean_absolute_error: 0.49 - ETA: 25s - loss: 0.4530 - mean_absolute_error: 0.49 - ETA: 25s - loss: 0.4535 - mean_absolute_error: 0.49 - ETA: 25s - loss: 0.4532 - mean_absolute_error: 0.49 - ETA: 25s - loss: 0.4535 - mean_absolute_error: 0.49 - ETA: 25s - loss: 0.4527 - mean_absolute_error: 0.49 - ETA: 25s - loss: 0.4523 - mean_absolute_error: 0.49 - ETA: 25s - loss: 0.4519 - mean_absolute_error: 0.49 - ETA: 25s - loss: 0.4517 - mean_absolute_error: 0.49 - ETA: 24s - loss: 0.4512 - mean_absolute_error: 0.49 - ETA: 24s - loss: 0.4512 - mean_absolute_error: 0.49 - ETA: 24s - loss: 0.4510 - mean_absolute_error: 0.49 - ETA: 24s - loss: 0.4508 - mean_absolute_error: 0.49 - ETA: 24s - loss: 0.4508 - mean_absolute_error: 0.49 - ETA: 24s - loss: 0.4503 - mean_absolute_error: 0.49 - ETA: 24s - loss: 0.4505 - mean_absolute_error: 0.49 - ETA: 24s - loss: 0.4505 - mean_absolute_error: 0.49 - ETA: 24s - loss: 0.4508 - mean_absolute_error: 0.49 - ETA: 24s - loss: 0.4515 - mean_absolute_error: 0.49 - ETA: 24s - loss: 0.4516 - mean_absolute_error: 0.49 - ETA: 24s - loss: 0.4512 - mean_absolute_error: 0.49 - ETA: 24s - loss: 0.4515 - mean_absolute_error: 0.49 - ETA: 24s - loss: 0.4512 - mean_absolute_error: 0.49 - ETA: 24s - loss: 0.4509 - mean_absolute_error: 0.49 - ETA: 24s - loss: 0.4519 - mean_absolute_error: 0.49 - ETA: 24s - loss: 0.4519 - mean_absolute_error: 0.49 - ETA: 24s - loss: 0.4516 - mean_absolute_error: 0.49 - ETA: 24s - loss: 0.4513 - mean_absolute_error: 0.49 - ETA: 24s - loss: 0.4509 - mean_absolute_error: 0.49 - ETA: 23s - loss: 0.4508 - mean_absolute_error: 0.49 - ETA: 23s - loss: 0.4506 - mean_absolute_error: 0.49 - ETA: 23s - loss: 0.4513 - mean_absolute_error: 0.49 - ETA: 23s - loss: 0.4509 - mean_absolute_error: 0.49 - ETA: 23s - loss: 0.4503 - mean_absolute_error: 0.4917 85888/174938 [=============>................] - ETA: 23s - loss: 0.4502 - mean_absolute_error: 0.49 - ETA: 23s - loss: 0.4505 - mean_absolute_error: 0.49 - ETA: 23s - loss: 0.4505 - mean_absolute_error: 0.49 - ETA: 23s - loss: 0.4502 - mean_absolute_error: 0.49 - ETA: 23s - loss: 0.4504 - mean_absolute_error: 0.49 - ETA: 23s - loss: 0.4506 - mean_absolute_error: 0.49 - ETA: 23s - loss: 0.4514 - mean_absolute_error: 0.49 - ETA: 23s - loss: 0.4512 - mean_absolute_error: 0.49 - ETA: 23s - loss: 0.4515 - mean_absolute_error: 0.49 - ETA: 23s - loss: 0.4512 - mean_absolute_error: 0.49 - ETA: 23s - loss: 0.4511 - mean_absolute_error: 0.49 - ETA: 23s - loss: 0.4511 - mean_absolute_error: 0.49 - ETA: 23s - loss: 0.4510 - mean_absolute_error: 0.49 - ETA: 23s - loss: 0.4510 - mean_absolute_error: 0.49 - ETA: 23s - loss: 0.4513 - mean_absolute_error: 0.49 - ETA: 23s - loss: 0.4514 - mean_absolute_error: 0.49 - ETA: 23s - loss: 0.4515 - mean_absolute_error: 0.49 - ETA: 23s - loss: 0.4513 - mean_absolute_error: 0.49 - ETA: 23s - loss: 0.4519 - mean_absolute_error: 0.49 - ETA: 23s - loss: 0.4526 - mean_absolute_error: 0.49 - ETA: 23s - loss: 0.4527 - mean_absolute_error: 0.49 - ETA: 23s - loss: 0.4530 - mean_absolute_error: 0.49 - ETA: 23s - loss: 0.4532 - mean_absolute_error: 0.49 - ETA: 23s - loss: 0.4533 - mean_absolute_error: 0.49 - ETA: 22s - loss: 0.4528 - mean_absolute_error: 0.49 - ETA: 22s - loss: 0.4528 - mean_absolute_error: 0.49 - ETA: 22s - loss: 0.4525 - mean_absolute_error: 0.49 - ETA: 22s - loss: 0.4522 - mean_absolute_error: 0.49 - ETA: 22s - loss: 0.4520 - mean_absolute_error: 0.49 - ETA: 22s - loss: 0.4520 - mean_absolute_error: 0.49 - ETA: 22s - loss: 0.4512 - mean_absolute_error: 0.49 - ETA: 22s - loss: 0.4513 - mean_absolute_error: 0.49 - ETA: 22s - loss: 0.4515 - mean_absolute_error: 0.49 - ETA: 22s - loss: 0.4516 - mean_absolute_error: 0.49 - ETA: 22s - loss: 0.4512 - mean_absolute_error: 0.49 - ETA: 22s - loss: 0.4523 - mean_absolute_error: 0.49 - ETA: 22s - loss: 0.4528 - mean_absolute_error: 0.49 - ETA: 22s - loss: 0.4528 - mean_absolute_error: 0.49 - ETA: 22s - loss: 0.4526 - mean_absolute_error: 0.49 - ETA: 22s - loss: 0.4528 - mean_absolute_error: 0.49 - ETA: 22s - loss: 0.4526 - mean_absolute_error: 0.49 - ETA: 22s - loss: 0.4523 - mean_absolute_error: 0.49 - ETA: 22s - loss: 0.4531 - mean_absolute_error: 0.49 - ETA: 22s - loss: 0.4532 - mean_absolute_error: 0.49 - ETA: 22s - loss: 0.4536 - mean_absolute_error: 0.49 - ETA: 22s - loss: 0.4539 - mean_absolute_error: 0.49 - ETA: 22s - loss: 0.4538 - mean_absolute_error: 0.49 - ETA: 22s - loss: 0.4534 - mean_absolute_error: 0.49 - ETA: 21s - loss: 0.4531 - mean_absolute_error: 0.49 - ETA: 21s - loss: 0.4530 - mean_absolute_error: 0.49 - ETA: 21s - loss: 0.4532 - mean_absolute_error: 0.49 - ETA: 21s - loss: 0.4533 - mean_absolute_error: 0.49 - ETA: 21s - loss: 0.4532 - mean_absolute_error: 0.49 - ETA: 21s - loss: 0.4528 - mean_absolute_error: 0.49 - ETA: 21s - loss: 0.4526 - mean_absolute_error: 0.49 - ETA: 21s - loss: 0.4526 - mean_absolute_error: 0.49 - ETA: 21s - loss: 0.4524 - mean_absolute_error: 0.49 - ETA: 21s - loss: 0.4522 - mean_absolute_error: 0.49 - ETA: 21s - loss: 0.4517 - mean_absolute_error: 0.49 - ETA: 21s - loss: 0.4513 - mean_absolute_error: 0.49 - ETA: 21s - loss: 0.4516 - mean_absolute_error: 0.49 - ETA: 21s - loss: 0.4517 - mean_absolute_error: 0.49 - ETA: 21s - loss: 0.4519 - mean_absolute_error: 0.49 - ETA: 21s - loss: 0.4516 - mean_absolute_error: 0.49 - ETA: 21s - loss: 0.4513 - mean_absolute_error: 0.49 - ETA: 21s - loss: 0.4511 - mean_absolute_error: 0.49 - ETA: 20s - loss: 0.4509 - mean_absolute_error: 0.49 - ETA: 20s - loss: 0.4513 - mean_absolute_error: 0.49 - ETA: 20s - loss: 0.4513 - mean_absolute_error: 0.49 - ETA: 20s - loss: 0.4512 - mean_absolute_error: 0.49 - ETA: 20s - loss: 0.4513 - mean_absolute_error: 0.49 - ETA: 20s - loss: 0.4512 - mean_absolute_error: 0.49 - ETA: 20s - loss: 0.4511 - mean_absolute_error: 0.49 - ETA: 20s - loss: 0.4506 - mean_absolute_error: 0.49 - ETA: 20s - loss: 0.4510 - mean_absolute_error: 0.49 - ETA: 20s - loss: 0.4508 - mean_absolute_error: 0.49 - ETA: 20s - loss: 0.4508 - mean_absolute_error: 0.49 - ETA: 20s - loss: 0.4503 - mean_absolute_error: 0.49 - ETA: 20s - loss: 0.4505 - mean_absolute_error: 0.49 - ETA: 20s - loss: 0.4508 - mean_absolute_error: 0.49 - ETA: 20s - loss: 0.4506 - mean_absolute_error: 0.49 - ETA: 20s - loss: 0.4504 - mean_absolute_error: 0.49 - ETA: 20s - loss: 0.4499 - mean_absolute_error: 0.49 - ETA: 20s - loss: 0.4498 - mean_absolute_error: 0.49 - ETA: 20s - loss: 0.4495 - mean_absolute_error: 0.49 - ETA: 19s - loss: 0.4497 - mean_absolute_error: 0.49 - ETA: 19s - loss: 0.4501 - mean_absolute_error: 0.49 - ETA: 19s - loss: 0.4502 - mean_absolute_error: 0.49 - ETA: 19s - loss: 0.4505 - mean_absolute_error: 0.49 - ETA: 19s - loss: 0.4505 - mean_absolute_error: 0.49 - ETA: 19s - loss: 0.4504 - mean_absolute_error: 0.49 - ETA: 19s - loss: 0.4501 - mean_absolute_error: 0.49 - ETA: 19s - loss: 0.4506 - mean_absolute_error: 0.49 - ETA: 19s - loss: 0.4504 - mean_absolute_error: 0.49 - ETA: 19s - loss: 0.4506 - mean_absolute_error: 0.49 - ETA: 19s - loss: 0.4507 - mean_absolute_error: 0.49 - ETA: 19s - loss: 0.4510 - mean_absolute_error: 0.49 - ETA: 19s - loss: 0.4507 - mean_absolute_error: 0.49 - ETA: 19s - loss: 0.4506 - mean_absolute_error: 0.49 - ETA: 19s - loss: 0.4506 - mean_absolute_error: 0.49 - ETA: 19s - loss: 0.4507 - mean_absolute_error: 0.49 - ETA: 19s - loss: 0.4509 - mean_absolute_error: 0.49 - ETA: 19s - loss: 0.4509 - mean_absolute_error: 0.49 - ETA: 19s - loss: 0.4516 - mean_absolute_error: 0.49 - ETA: 18s - loss: 0.4517 - mean_absolute_error: 0.49 - ETA: 18s - loss: 0.4515 - mean_absolute_error: 0.49 - ETA: 18s - loss: 0.4514 - mean_absolute_error: 0.49 - ETA: 18s - loss: 0.4516 - mean_absolute_error: 0.49 - ETA: 18s - loss: 0.4518 - mean_absolute_error: 0.49 - ETA: 18s - loss: 0.4515 - mean_absolute_error: 0.49 - ETA: 18s - loss: 0.4514 - mean_absolute_error: 0.49 - ETA: 18s - loss: 0.4510 - mean_absolute_error: 0.49 - ETA: 18s - loss: 0.4510 - mean_absolute_error: 0.49 - ETA: 18s - loss: 0.4512 - mean_absolute_error: 0.49 - ETA: 18s - loss: 0.4512 - mean_absolute_error: 0.49 - ETA: 18s - loss: 0.4510 - mean_absolute_error: 0.49 - ETA: 18s - loss: 0.4508 - mean_absolute_error: 0.49 - ETA: 18s - loss: 0.4503 - mean_absolute_error: 0.49 - ETA: 18s - loss: 0.4499 - mean_absolute_error: 0.49 - ETA: 18s - loss: 0.4501 - mean_absolute_error: 0.49 - ETA: 18s - loss: 0.4503 - mean_absolute_error: 0.49 - ETA: 18s - loss: 0.4504 - mean_absolute_error: 0.49 - ETA: 17s - loss: 0.4502 - mean_absolute_error: 0.49 - ETA: 17s - loss: 0.4503 - mean_absolute_error: 0.49 - ETA: 17s - loss: 0.4501 - mean_absolute_error: 0.49 - ETA: 17s - loss: 0.4504 - mean_absolute_error: 0.49 - ETA: 17s - loss: 0.4505 - mean_absolute_error: 0.49 - ETA: 17s - loss: 0.4501 - mean_absolute_error: 0.49 - ETA: 17s - loss: 0.4501 - mean_absolute_error: 0.49 - ETA: 17s - loss: 0.4500 - mean_absolute_error: 0.49 - ETA: 17s - loss: 0.4500 - mean_absolute_error: 0.49 - ETA: 17s - loss: 0.4502 - mean_absolute_error: 0.49 - ETA: 17s - loss: 0.4503 - mean_absolute_error: 0.49 - ETA: 17s - loss: 0.4505 - mean_absolute_error: 0.49 - ETA: 17s - loss: 0.4507 - mean_absolute_error: 0.49 - ETA: 17s - loss: 0.4505 - mean_absolute_error: 0.49 - ETA: 17s - loss: 0.4505 - mean_absolute_error: 0.49 - ETA: 17s - loss: 0.4508 - mean_absolute_error: 0.49 - ETA: 17s - loss: 0.4506 - mean_absolute_error: 0.49 - ETA: 17s - loss: 0.4509 - mean_absolute_error: 0.49 - ETA: 17s - loss: 0.4508 - mean_absolute_error: 0.49 - ETA: 17s - loss: 0.4506 - mean_absolute_error: 0.49 - ETA: 16s - loss: 0.4505 - mean_absolute_error: 0.49 - ETA: 16s - loss: 0.4503 - mean_absolute_error: 0.49 - ETA: 16s - loss: 0.4503 - mean_absolute_error: 0.49 - ETA: 16s - loss: 0.4503 - mean_absolute_error: 0.49 - ETA: 16s - loss: 0.4500 - mean_absolute_error: 0.49 - ETA: 16s - loss: 0.4498 - mean_absolute_error: 0.49 - ETA: 16s - loss: 0.4495 - mean_absolute_error: 0.49 - ETA: 16s - loss: 0.4497 - mean_absolute_error: 0.49 - ETA: 16s - loss: 0.4496 - mean_absolute_error: 0.4914127680/174938 [====================>.........] - ETA: 16s - loss: 0.4492 - mean_absolute_error: 0.49 - ETA: 16s - loss: 0.4492 - mean_absolute_error: 0.49 - ETA: 16s - loss: 0.4493 - mean_absolute_error: 0.49 - ETA: 16s - loss: 0.4498 - mean_absolute_error: 0.49 - ETA: 16s - loss: 0.4498 - mean_absolute_error: 0.49 - ETA: 16s - loss: 0.4494 - mean_absolute_error: 0.49 - ETA: 16s - loss: 0.4494 - mean_absolute_error: 0.49 - ETA: 16s - loss: 0.4490 - mean_absolute_error: 0.49 - ETA: 16s - loss: 0.4493 - mean_absolute_error: 0.49 - ETA: 16s - loss: 0.4493 - mean_absolute_error: 0.49 - ETA: 16s - loss: 0.4491 - mean_absolute_error: 0.49 - ETA: 15s - loss: 0.4490 - mean_absolute_error: 0.49 - ETA: 15s - loss: 0.4491 - mean_absolute_error: 0.49 - ETA: 15s - loss: 0.4492 - mean_absolute_error: 0.49 - ETA: 15s - loss: 0.4491 - mean_absolute_error: 0.49 - ETA: 15s - loss: 0.4491 - mean_absolute_error: 0.49 - ETA: 15s - loss: 0.4492 - mean_absolute_error: 0.49 - ETA: 15s - loss: 0.4490 - mean_absolute_error: 0.49 - ETA: 15s - loss: 0.4487 - mean_absolute_error: 0.49 - ETA: 15s - loss: 0.4487 - mean_absolute_error: 0.49 - ETA: 15s - loss: 0.4485 - mean_absolute_error: 0.49 - ETA: 15s - loss: 0.4487 - mean_absolute_error: 0.49 - ETA: 15s - loss: 0.4486 - mean_absolute_error: 0.49 - ETA: 15s - loss: 0.4484 - mean_absolute_error: 0.49 - ETA: 15s - loss: 0.4485 - mean_absolute_error: 0.49 - ETA: 15s - loss: 0.4484 - mean_absolute_error: 0.49 - ETA: 15s - loss: 0.4486 - mean_absolute_error: 0.49 - ETA: 15s - loss: 0.4486 - mean_absolute_error: 0.49 - ETA: 15s - loss: 0.4483 - mean_absolute_error: 0.49 - ETA: 15s - loss: 0.4483 - mean_absolute_error: 0.49 - ETA: 15s - loss: 0.4482 - mean_absolute_error: 0.49 - ETA: 15s - loss: 0.4486 - mean_absolute_error: 0.49 - ETA: 15s - loss: 0.4487 - mean_absolute_error: 0.49 - ETA: 15s - loss: 0.4486 - mean_absolute_error: 0.49 - ETA: 14s - loss: 0.4484 - mean_absolute_error: 0.49 - ETA: 14s - loss: 0.4482 - mean_absolute_error: 0.49 - ETA: 14s - loss: 0.4481 - mean_absolute_error: 0.49 - ETA: 14s - loss: 0.4479 - mean_absolute_error: 0.49 - ETA: 14s - loss: 0.4478 - mean_absolute_error: 0.49 - ETA: 14s - loss: 0.4476 - mean_absolute_error: 0.49 - ETA: 14s - loss: 0.4477 - mean_absolute_error: 0.49 - ETA: 14s - loss: 0.4476 - mean_absolute_error: 0.49 - ETA: 14s - loss: 0.4475 - mean_absolute_error: 0.49 - ETA: 14s - loss: 0.4475 - mean_absolute_error: 0.49 - ETA: 14s - loss: 0.4475 - mean_absolute_error: 0.49 - ETA: 14s - loss: 0.4477 - mean_absolute_error: 0.49 - ETA: 14s - loss: 0.4483 - mean_absolute_error: 0.49 - ETA: 14s - loss: 0.4481 - mean_absolute_error: 0.49 - ETA: 14s - loss: 0.4482 - mean_absolute_error: 0.49 - ETA: 14s - loss: 0.4482 - mean_absolute_error: 0.49 - ETA: 14s - loss: 0.4481 - mean_absolute_error: 0.49 - ETA: 14s - loss: 0.4479 - mean_absolute_error: 0.49 - ETA: 13s - loss: 0.4480 - mean_absolute_error: 0.49 - ETA: 13s - loss: 0.4481 - mean_absolute_error: 0.49 - ETA: 13s - loss: 0.4481 - mean_absolute_error: 0.49 - ETA: 13s - loss: 0.4480 - mean_absolute_error: 0.49 - ETA: 13s - loss: 0.4479 - mean_absolute_error: 0.49 - ETA: 13s - loss: 0.4479 - mean_absolute_error: 0.49 - ETA: 13s - loss: 0.4477 - mean_absolute_error: 0.49 - ETA: 13s - loss: 0.4478 - mean_absolute_error: 0.49 - ETA: 13s - loss: 0.4480 - mean_absolute_error: 0.49 - ETA: 13s - loss: 0.4483 - mean_absolute_error: 0.49 - ETA: 13s - loss: 0.4483 - mean_absolute_error: 0.49 - ETA: 13s - loss: 0.4484 - mean_absolute_error: 0.49 - ETA: 13s - loss: 0.4487 - mean_absolute_error: 0.49 - ETA: 13s - loss: 0.4486 - mean_absolute_error: 0.49 - ETA: 13s - loss: 0.4490 - mean_absolute_error: 0.49 - ETA: 13s - loss: 0.4487 - mean_absolute_error: 0.49 - ETA: 13s - loss: 0.4486 - mean_absolute_error: 0.49 - ETA: 13s - loss: 0.4485 - mean_absolute_error: 0.49 - ETA: 12s - loss: 0.4486 - mean_absolute_error: 0.49 - ETA: 12s - loss: 0.4484 - mean_absolute_error: 0.49 - ETA: 12s - loss: 0.4483 - mean_absolute_error: 0.49 - ETA: 12s - loss: 0.4484 - mean_absolute_error: 0.49 - ETA: 12s - loss: 0.4482 - mean_absolute_error: 0.49 - ETA: 12s - loss: 0.4482 - mean_absolute_error: 0.49 - ETA: 12s - loss: 0.4483 - mean_absolute_error: 0.49 - ETA: 12s - loss: 0.4481 - mean_absolute_error: 0.49 - ETA: 12s - loss: 0.4482 - mean_absolute_error: 0.49 - ETA: 12s - loss: 0.4480 - mean_absolute_error: 0.49 - ETA: 12s - loss: 0.4479 - mean_absolute_error: 0.49 - ETA: 12s - loss: 0.4477 - mean_absolute_error: 0.49 - ETA: 12s - loss: 0.4474 - mean_absolute_error: 0.49 - ETA: 12s - loss: 0.4476 - mean_absolute_error: 0.49 - ETA: 12s - loss: 0.4476 - mean_absolute_error: 0.49 - ETA: 12s - loss: 0.4476 - mean_absolute_error: 0.49 - ETA: 12s - loss: 0.4475 - mean_absolute_error: 0.49 - ETA: 12s - loss: 0.4473 - mean_absolute_error: 0.49 - ETA: 12s - loss: 0.4473 - mean_absolute_error: 0.49 - ETA: 11s - loss: 0.4471 - mean_absolute_error: 0.49 - ETA: 11s - loss: 0.4473 - mean_absolute_error: 0.49 - ETA: 11s - loss: 0.4474 - mean_absolute_error: 0.49 - ETA: 11s - loss: 0.4473 - mean_absolute_error: 0.49 - ETA: 11s - loss: 0.4474 - mean_absolute_error: 0.49 - ETA: 11s - loss: 0.4472 - mean_absolute_error: 0.49 - ETA: 11s - loss: 0.4471 - mean_absolute_error: 0.49 - ETA: 11s - loss: 0.4470 - mean_absolute_error: 0.48 - ETA: 11s - loss: 0.4473 - mean_absolute_error: 0.49 - ETA: 11s - loss: 0.4473 - mean_absolute_error: 0.48 - ETA: 11s - loss: 0.4473 - mean_absolute_error: 0.48 - ETA: 11s - loss: 0.4473 - mean_absolute_error: 0.48 - ETA: 11s - loss: 0.4474 - mean_absolute_error: 0.48 - ETA: 11s - loss: 0.4474 - mean_absolute_error: 0.48 - ETA: 11s - loss: 0.4472 - mean_absolute_error: 0.48 - ETA: 11s - loss: 0.4472 - mean_absolute_error: 0.48 - ETA: 11s - loss: 0.4472 - mean_absolute_error: 0.48 - ETA: 11s - loss: 0.4474 - mean_absolute_error: 0.48 - ETA: 11s - loss: 0.4473 - mean_absolute_error: 0.48 - ETA: 11s - loss: 0.4472 - mean_absolute_error: 0.48 - ETA: 10s - loss: 0.4471 - mean_absolute_error: 0.48 - ETA: 10s - loss: 0.4473 - mean_absolute_error: 0.49 - ETA: 10s - loss: 0.4473 - mean_absolute_error: 0.49 - ETA: 10s - loss: 0.4473 - mean_absolute_error: 0.49 - ETA: 10s - loss: 0.4477 - mean_absolute_error: 0.49 - ETA: 10s - loss: 0.4479 - mean_absolute_error: 0.49 - ETA: 10s - loss: 0.4479 - mean_absolute_error: 0.49 - ETA: 10s - loss: 0.4477 - mean_absolute_error: 0.49 - ETA: 10s - loss: 0.4480 - mean_absolute_error: 0.49 - ETA: 10s - loss: 0.4480 - mean_absolute_error: 0.49 - ETA: 10s - loss: 0.4478 - mean_absolute_error: 0.49 - ETA: 10s - loss: 0.4478 - mean_absolute_error: 0.49 - ETA: 10s - loss: 0.4480 - mean_absolute_error: 0.49 - ETA: 10s - loss: 0.4480 - mean_absolute_error: 0.49 - ETA: 10s - loss: 0.4480 - mean_absolute_error: 0.49 - ETA: 10s - loss: 0.4479 - mean_absolute_error: 0.49 - ETA: 10s - loss: 0.4476 - mean_absolute_error: 0.49 - ETA: 10s - loss: 0.4475 - mean_absolute_error: 0.49 - ETA: 10s - loss: 0.4475 - mean_absolute_error: 0.49 - ETA: 10s - loss: 0.4474 - mean_absolute_error: 0.49 - ETA: 9s - loss: 0.4476 - mean_absolute_error: 0.4902 - ETA: 9s - loss: 0.4474 - mean_absolute_error: 0.490 - ETA: 9s - loss: 0.4473 - mean_absolute_error: 0.490 - ETA: 9s - loss: 0.4473 - mean_absolute_error: 0.490 - ETA: 9s - loss: 0.4473 - mean_absolute_error: 0.490 - ETA: 9s - loss: 0.4475 - mean_absolute_error: 0.490 - ETA: 9s - loss: 0.4475 - mean_absolute_error: 0.490 - ETA: 9s - loss: 0.4473 - mean_absolute_error: 0.490 - ETA: 9s - loss: 0.4474 - mean_absolute_error: 0.490 - ETA: 9s - loss: 0.4476 - mean_absolute_error: 0.490 - ETA: 9s - loss: 0.4474 - mean_absolute_error: 0.490 - ETA: 9s - loss: 0.4474 - mean_absolute_error: 0.490 - ETA: 9s - loss: 0.4474 - mean_absolute_error: 0.490 - ETA: 9s - loss: 0.4474 - mean_absolute_error: 0.490 - ETA: 9s - loss: 0.4474 - mean_absolute_error: 0.490 - ETA: 9s - loss: 0.4472 - mean_absolute_error: 0.490 - ETA: 9s - loss: 0.4472 - mean_absolute_error: 0.490 - ETA: 9s - loss: 0.4472 - mean_absolute_error: 0.490 - ETA: 8s - loss: 0.4473 - mean_absolute_error: 0.490 - ETA: 8s - loss: 0.4470 - mean_absolute_error: 0.490 - ETA: 8s - loss: 0.4472 - mean_absolute_error: 0.490 - ETA: 8s - loss: 0.4471 - mean_absolute_error: 0.4900"
     ]
    },
    {
     "name": "stdout",
     "output_type": "stream",
     "text": [
      "170624/174938 [============================>.] - ETA: 8s - loss: 0.4471 - mean_absolute_error: 0.490 - ETA: 8s - loss: 0.4472 - mean_absolute_error: 0.490 - ETA: 8s - loss: 0.4471 - mean_absolute_error: 0.490 - ETA: 8s - loss: 0.4472 - mean_absolute_error: 0.490 - ETA: 8s - loss: 0.4473 - mean_absolute_error: 0.490 - ETA: 8s - loss: 0.4474 - mean_absolute_error: 0.490 - ETA: 8s - loss: 0.4475 - mean_absolute_error: 0.490 - ETA: 8s - loss: 0.4478 - mean_absolute_error: 0.490 - ETA: 8s - loss: 0.4480 - mean_absolute_error: 0.490 - ETA: 8s - loss: 0.4480 - mean_absolute_error: 0.490 - ETA: 8s - loss: 0.4478 - mean_absolute_error: 0.490 - ETA: 8s - loss: 0.4477 - mean_absolute_error: 0.490 - ETA: 8s - loss: 0.4478 - mean_absolute_error: 0.490 - ETA: 8s - loss: 0.4479 - mean_absolute_error: 0.490 - ETA: 8s - loss: 0.4477 - mean_absolute_error: 0.490 - ETA: 8s - loss: 0.4475 - mean_absolute_error: 0.490 - ETA: 7s - loss: 0.4475 - mean_absolute_error: 0.490 - ETA: 7s - loss: 0.4474 - mean_absolute_error: 0.490 - ETA: 7s - loss: 0.4476 - mean_absolute_error: 0.490 - ETA: 7s - loss: 0.4474 - mean_absolute_error: 0.490 - ETA: 7s - loss: 0.4473 - mean_absolute_error: 0.490 - ETA: 7s - loss: 0.4473 - mean_absolute_error: 0.490 - ETA: 7s - loss: 0.4472 - mean_absolute_error: 0.489 - ETA: 7s - loss: 0.4471 - mean_absolute_error: 0.489 - ETA: 7s - loss: 0.4469 - mean_absolute_error: 0.489 - ETA: 7s - loss: 0.4470 - mean_absolute_error: 0.489 - ETA: 7s - loss: 0.4471 - mean_absolute_error: 0.489 - ETA: 7s - loss: 0.4470 - mean_absolute_error: 0.489 - ETA: 7s - loss: 0.4471 - mean_absolute_error: 0.489 - ETA: 7s - loss: 0.4470 - mean_absolute_error: 0.489 - ETA: 7s - loss: 0.4469 - mean_absolute_error: 0.489 - ETA: 7s - loss: 0.4469 - mean_absolute_error: 0.489 - ETA: 7s - loss: 0.4471 - mean_absolute_error: 0.489 - ETA: 7s - loss: 0.4473 - mean_absolute_error: 0.490 - ETA: 7s - loss: 0.4474 - mean_absolute_error: 0.490 - ETA: 6s - loss: 0.4475 - mean_absolute_error: 0.490 - ETA: 6s - loss: 0.4475 - mean_absolute_error: 0.490 - ETA: 6s - loss: 0.4476 - mean_absolute_error: 0.490 - ETA: 6s - loss: 0.4473 - mean_absolute_error: 0.490 - ETA: 6s - loss: 0.4478 - mean_absolute_error: 0.490 - ETA: 6s - loss: 0.4477 - mean_absolute_error: 0.490 - ETA: 6s - loss: 0.4477 - mean_absolute_error: 0.490 - ETA: 6s - loss: 0.4476 - mean_absolute_error: 0.490 - ETA: 6s - loss: 0.4475 - mean_absolute_error: 0.490 - ETA: 6s - loss: 0.4474 - mean_absolute_error: 0.490 - ETA: 6s - loss: 0.4475 - mean_absolute_error: 0.490 - ETA: 6s - loss: 0.4474 - mean_absolute_error: 0.489 - ETA: 6s - loss: 0.4474 - mean_absolute_error: 0.489 - ETA: 6s - loss: 0.4475 - mean_absolute_error: 0.489 - ETA: 6s - loss: 0.4475 - mean_absolute_error: 0.489 - ETA: 6s - loss: 0.4474 - mean_absolute_error: 0.489 - ETA: 6s - loss: 0.4473 - mean_absolute_error: 0.489 - ETA: 6s - loss: 0.4476 - mean_absolute_error: 0.490 - ETA: 5s - loss: 0.4475 - mean_absolute_error: 0.490 - ETA: 5s - loss: 0.4474 - mean_absolute_error: 0.489 - ETA: 5s - loss: 0.4473 - mean_absolute_error: 0.489 - ETA: 5s - loss: 0.4472 - mean_absolute_error: 0.489 - ETA: 5s - loss: 0.4470 - mean_absolute_error: 0.489 - ETA: 5s - loss: 0.4471 - mean_absolute_error: 0.489 - ETA: 5s - loss: 0.4471 - mean_absolute_error: 0.489 - ETA: 5s - loss: 0.4470 - mean_absolute_error: 0.489 - ETA: 5s - loss: 0.4472 - mean_absolute_error: 0.489 - ETA: 5s - loss: 0.4473 - mean_absolute_error: 0.489 - ETA: 5s - loss: 0.4473 - mean_absolute_error: 0.489 - ETA: 5s - loss: 0.4475 - mean_absolute_error: 0.490 - ETA: 5s - loss: 0.4473 - mean_absolute_error: 0.489 - ETA: 5s - loss: 0.4473 - mean_absolute_error: 0.489 - ETA: 5s - loss: 0.4472 - mean_absolute_error: 0.489 - ETA: 5s - loss: 0.4470 - mean_absolute_error: 0.489 - ETA: 5s - loss: 0.4472 - mean_absolute_error: 0.489 - ETA: 5s - loss: 0.4471 - mean_absolute_error: 0.489 - ETA: 5s - loss: 0.4470 - mean_absolute_error: 0.489 - ETA: 4s - loss: 0.4468 - mean_absolute_error: 0.489 - ETA: 4s - loss: 0.4468 - mean_absolute_error: 0.489 - ETA: 4s - loss: 0.4467 - mean_absolute_error: 0.489 - ETA: 4s - loss: 0.4466 - mean_absolute_error: 0.489 - ETA: 4s - loss: 0.4465 - mean_absolute_error: 0.489 - ETA: 4s - loss: 0.4465 - mean_absolute_error: 0.489 - ETA: 4s - loss: 0.4464 - mean_absolute_error: 0.489 - ETA: 4s - loss: 0.4464 - mean_absolute_error: 0.489 - ETA: 4s - loss: 0.4464 - mean_absolute_error: 0.489 - ETA: 4s - loss: 0.4463 - mean_absolute_error: 0.489 - ETA: 4s - loss: 0.4463 - mean_absolute_error: 0.489 - ETA: 4s - loss: 0.4465 - mean_absolute_error: 0.489 - ETA: 4s - loss: 0.4465 - mean_absolute_error: 0.489 - ETA: 4s - loss: 0.4465 - mean_absolute_error: 0.489 - ETA: 4s - loss: 0.4463 - mean_absolute_error: 0.489 - ETA: 4s - loss: 0.4464 - mean_absolute_error: 0.489 - ETA: 4s - loss: 0.4463 - mean_absolute_error: 0.489 - ETA: 4s - loss: 0.4461 - mean_absolute_error: 0.489 - ETA: 4s - loss: 0.4461 - mean_absolute_error: 0.489 - ETA: 3s - loss: 0.4461 - mean_absolute_error: 0.489 - ETA: 3s - loss: 0.4460 - mean_absolute_error: 0.489 - ETA: 3s - loss: 0.4459 - mean_absolute_error: 0.489 - ETA: 3s - loss: 0.4459 - mean_absolute_error: 0.489 - ETA: 3s - loss: 0.4460 - mean_absolute_error: 0.489 - ETA: 3s - loss: 0.4460 - mean_absolute_error: 0.489 - ETA: 3s - loss: 0.4462 - mean_absolute_error: 0.489 - ETA: 3s - loss: 0.4460 - mean_absolute_error: 0.489 - ETA: 3s - loss: 0.4462 - mean_absolute_error: 0.489 - ETA: 3s - loss: 0.4462 - mean_absolute_error: 0.489 - ETA: 3s - loss: 0.4463 - mean_absolute_error: 0.489 - ETA: 3s - loss: 0.4462 - mean_absolute_error: 0.489 - ETA: 3s - loss: 0.4463 - mean_absolute_error: 0.489 - ETA: 3s - loss: 0.4464 - mean_absolute_error: 0.489 - ETA: 3s - loss: 0.4464 - mean_absolute_error: 0.489 - ETA: 3s - loss: 0.4464 - mean_absolute_error: 0.489 - ETA: 3s - loss: 0.4465 - mean_absolute_error: 0.489 - ETA: 3s - loss: 0.4466 - mean_absolute_error: 0.489 - ETA: 3s - loss: 0.4466 - mean_absolute_error: 0.489 - ETA: 2s - loss: 0.4467 - mean_absolute_error: 0.489 - ETA: 2s - loss: 0.4466 - mean_absolute_error: 0.489 - ETA: 2s - loss: 0.4465 - mean_absolute_error: 0.489 - ETA: 2s - loss: 0.4464 - mean_absolute_error: 0.489 - ETA: 2s - loss: 0.4463 - mean_absolute_error: 0.489 - ETA: 2s - loss: 0.4462 - mean_absolute_error: 0.489 - ETA: 2s - loss: 0.4463 - mean_absolute_error: 0.489 - ETA: 2s - loss: 0.4465 - mean_absolute_error: 0.489 - ETA: 2s - loss: 0.4464 - mean_absolute_error: 0.489 - ETA: 2s - loss: 0.4463 - mean_absolute_error: 0.489 - ETA: 2s - loss: 0.4465 - mean_absolute_error: 0.489 - ETA: 2s - loss: 0.4464 - mean_absolute_error: 0.489 - ETA: 2s - loss: 0.4462 - mean_absolute_error: 0.489 - ETA: 2s - loss: 0.4461 - mean_absolute_error: 0.489 - ETA: 2s - loss: 0.4463 - mean_absolute_error: 0.489 - ETA: 2s - loss: 0.4463 - mean_absolute_error: 0.489 - ETA: 2s - loss: 0.4462 - mean_absolute_error: 0.489 - ETA: 2s - loss: 0.4460 - mean_absolute_error: 0.489 - ETA: 2s - loss: 0.4460 - mean_absolute_error: 0.489 - ETA: 1s - loss: 0.4459 - mean_absolute_error: 0.489 - ETA: 1s - loss: 0.4458 - mean_absolute_error: 0.489 - ETA: 1s - loss: 0.4459 - mean_absolute_error: 0.489 - ETA: 1s - loss: 0.4459 - mean_absolute_error: 0.489 - ETA: 1s - loss: 0.4459 - mean_absolute_error: 0.489 - ETA: 1s - loss: 0.4459 - mean_absolute_error: 0.489 - ETA: 1s - loss: 0.4459 - mean_absolute_error: 0.489 - ETA: 1s - loss: 0.4460 - mean_absolute_error: 0.489 - ETA: 1s - loss: 0.4460 - mean_absolute_error: 0.489 - ETA: 1s - loss: 0.4460 - mean_absolute_error: 0.489 - ETA: 1s - loss: 0.4461 - mean_absolute_error: 0.489 - ETA: 1s - loss: 0.4462 - mean_absolute_error: 0.489 - ETA: 1s - loss: 0.4462 - mean_absolute_error: 0.489 - ETA: 1s - loss: 0.4463 - mean_absolute_error: 0.489 - ETA: 1s - loss: 0.4463 - mean_absolute_error: 0.489 - ETA: 1s - loss: 0.4462 - mean_absolute_error: 0.489 - ETA: 1s - loss: 0.4460 - mean_absolute_error: 0.489 - ETA: 1s - loss: 0.4459 - mean_absolute_error: 0.489 - ETA: 0s - loss: 0.4460 - mean_absolute_error: 0.489 - ETA: 0s - loss: 0.4459 - mean_absolute_error: 0.489 - ETA: 0s - loss: 0.4458 - mean_absolute_error: 0.489 - ETA: 0s - loss: 0.4458 - mean_absolute_error: 0.4891"
     ]
    },
    {
     "name": "stdout",
     "output_type": "stream",
     "text": [
      "174938/174938 [==============================] - ETA: 0s - loss: 0.4458 - mean_absolute_error: 0.489 - ETA: 0s - loss: 0.4459 - mean_absolute_error: 0.489 - ETA: 0s - loss: 0.4459 - mean_absolute_error: 0.489 - ETA: 0s - loss: 0.4459 - mean_absolute_error: 0.489 - ETA: 0s - loss: 0.4459 - mean_absolute_error: 0.489 - ETA: 0s - loss: 0.4458 - mean_absolute_error: 0.489 - ETA: 0s - loss: 0.4459 - mean_absolute_error: 0.489 - ETA: 0s - loss: 0.4460 - mean_absolute_error: 0.489 - ETA: 0s - loss: 0.4459 - mean_absolute_error: 0.489 - ETA: 0s - loss: 0.4459 - mean_absolute_error: 0.489 - ETA: 0s - loss: 0.4458 - mean_absolute_error: 0.489 - ETA: 0s - loss: 0.4456 - mean_absolute_error: 0.489 - ETA: 0s - loss: 0.4457 - mean_absolute_error: 0.489 - ETA: 0s - loss: 0.4458 - mean_absolute_error: 0.489 - ETA: 0s - loss: 0.4457 - mean_absolute_error: 0.489 - ETA: 0s - loss: 0.4456 - mean_absolute_error: 0.488 - 37s - loss: 0.4457 - mean_absolute_error: 0.4889 - val_loss: 0.4900 - val_mean_absolute_error: 0.5315\n",
      "Epoch 4/10\n"
     ]
    },
    {
     "name": "stdout",
     "output_type": "stream",
     "text": [
      " 43488/174938 [======>.......................] - ETA: 152s - loss: 0.8365 - mean_absolute_error: 0.704 - ETA: 62s - loss: 0.6801 - mean_absolute_error: 0.597 - ETA: 44s - loss: 0.5889 - mean_absolute_error: 0.54 - ETA: 37s - loss: 0.5112 - mean_absolute_error: 0.50 - ETA: 34s - loss: 0.5261 - mean_absolute_error: 0.51 - ETA: 31s - loss: 0.5151 - mean_absolute_error: 0.50 - ETA: 31s - loss: 0.5058 - mean_absolute_error: 0.50 - ETA: 30s - loss: 0.4949 - mean_absolute_error: 0.50 - ETA: 29s - loss: 0.4979 - mean_absolute_error: 0.50 - ETA: 30s - loss: 0.4900 - mean_absolute_error: 0.50 - ETA: 29s - loss: 0.4835 - mean_absolute_error: 0.49 - ETA: 29s - loss: 0.4758 - mean_absolute_error: 0.49 - ETA: 29s - loss: 0.4698 - mean_absolute_error: 0.49 - ETA: 29s - loss: 0.4701 - mean_absolute_error: 0.49 - ETA: 29s - loss: 0.4642 - mean_absolute_error: 0.49 - ETA: 30s - loss: 0.4672 - mean_absolute_error: 0.49 - ETA: 30s - loss: 0.4656 - mean_absolute_error: 0.49 - ETA: 30s - loss: 0.4700 - mean_absolute_error: 0.49 - ETA: 30s - loss: 0.4638 - mean_absolute_error: 0.49 - ETA: 29s - loss: 0.4645 - mean_absolute_error: 0.49 - ETA: 29s - loss: 0.4660 - mean_absolute_error: 0.49 - ETA: 29s - loss: 0.4633 - mean_absolute_error: 0.49 - ETA: 29s - loss: 0.4605 - mean_absolute_error: 0.49 - ETA: 29s - loss: 0.4566 - mean_absolute_error: 0.49 - ETA: 29s - loss: 0.4580 - mean_absolute_error: 0.49 - ETA: 29s - loss: 0.4575 - mean_absolute_error: 0.49 - ETA: 28s - loss: 0.4612 - mean_absolute_error: 0.49 - ETA: 28s - loss: 0.4599 - mean_absolute_error: 0.49 - ETA: 28s - loss: 0.4634 - mean_absolute_error: 0.49 - ETA: 28s - loss: 0.4629 - mean_absolute_error: 0.49 - ETA: 28s - loss: 0.4593 - mean_absolute_error: 0.49 - ETA: 28s - loss: 0.4548 - mean_absolute_error: 0.49 - ETA: 28s - loss: 0.4566 - mean_absolute_error: 0.49 - ETA: 28s - loss: 0.4572 - mean_absolute_error: 0.49 - ETA: 28s - loss: 0.4537 - mean_absolute_error: 0.49 - ETA: 28s - loss: 0.4537 - mean_absolute_error: 0.49 - ETA: 28s - loss: 0.4527 - mean_absolute_error: 0.49 - ETA: 28s - loss: 0.4530 - mean_absolute_error: 0.49 - ETA: 28s - loss: 0.4509 - mean_absolute_error: 0.49 - ETA: 28s - loss: 0.4511 - mean_absolute_error: 0.49 - ETA: 28s - loss: 0.4504 - mean_absolute_error: 0.49 - ETA: 28s - loss: 0.4505 - mean_absolute_error: 0.49 - ETA: 28s - loss: 0.4480 - mean_absolute_error: 0.48 - ETA: 28s - loss: 0.4487 - mean_absolute_error: 0.48 - ETA: 28s - loss: 0.4477 - mean_absolute_error: 0.48 - ETA: 28s - loss: 0.4496 - mean_absolute_error: 0.49 - ETA: 28s - loss: 0.4487 - mean_absolute_error: 0.49 - ETA: 28s - loss: 0.4491 - mean_absolute_error: 0.49 - ETA: 28s - loss: 0.4474 - mean_absolute_error: 0.48 - ETA: 28s - loss: 0.4475 - mean_absolute_error: 0.48 - ETA: 28s - loss: 0.4477 - mean_absolute_error: 0.48 - ETA: 28s - loss: 0.4474 - mean_absolute_error: 0.48 - ETA: 28s - loss: 0.4487 - mean_absolute_error: 0.49 - ETA: 28s - loss: 0.4498 - mean_absolute_error: 0.49 - ETA: 28s - loss: 0.4505 - mean_absolute_error: 0.49 - ETA: 28s - loss: 0.4508 - mean_absolute_error: 0.49 - ETA: 28s - loss: 0.4497 - mean_absolute_error: 0.49 - ETA: 28s - loss: 0.4492 - mean_absolute_error: 0.49 - ETA: 28s - loss: 0.4486 - mean_absolute_error: 0.49 - ETA: 28s - loss: 0.4489 - mean_absolute_error: 0.49 - ETA: 28s - loss: 0.4495 - mean_absolute_error: 0.49 - ETA: 28s - loss: 0.4511 - mean_absolute_error: 0.49 - ETA: 28s - loss: 0.4515 - mean_absolute_error: 0.49 - ETA: 28s - loss: 0.4513 - mean_absolute_error: 0.49 - ETA: 27s - loss: 0.4524 - mean_absolute_error: 0.49 - ETA: 27s - loss: 0.4518 - mean_absolute_error: 0.49 - ETA: 27s - loss: 0.4519 - mean_absolute_error: 0.49 - ETA: 27s - loss: 0.4507 - mean_absolute_error: 0.49 - ETA: 27s - loss: 0.4507 - mean_absolute_error: 0.49 - ETA: 27s - loss: 0.4492 - mean_absolute_error: 0.49 - ETA: 27s - loss: 0.4490 - mean_absolute_error: 0.49 - ETA: 27s - loss: 0.4483 - mean_absolute_error: 0.49 - ETA: 27s - loss: 0.4478 - mean_absolute_error: 0.48 - ETA: 27s - loss: 0.4477 - mean_absolute_error: 0.48 - ETA: 27s - loss: 0.4475 - mean_absolute_error: 0.48 - ETA: 27s - loss: 0.4475 - mean_absolute_error: 0.48 - ETA: 27s - loss: 0.4466 - mean_absolute_error: 0.48 - ETA: 27s - loss: 0.4462 - mean_absolute_error: 0.48 - ETA: 27s - loss: 0.4464 - mean_absolute_error: 0.48 - ETA: 27s - loss: 0.4460 - mean_absolute_error: 0.48 - ETA: 27s - loss: 0.4461 - mean_absolute_error: 0.48 - ETA: 27s - loss: 0.4454 - mean_absolute_error: 0.48 - ETA: 27s - loss: 0.4458 - mean_absolute_error: 0.48 - ETA: 27s - loss: 0.4453 - mean_absolute_error: 0.48 - ETA: 27s - loss: 0.4454 - mean_absolute_error: 0.48 - ETA: 27s - loss: 0.4451 - mean_absolute_error: 0.48 - ETA: 27s - loss: 0.4439 - mean_absolute_error: 0.48 - ETA: 27s - loss: 0.4432 - mean_absolute_error: 0.48 - ETA: 26s - loss: 0.4435 - mean_absolute_error: 0.48 - ETA: 26s - loss: 0.4445 - mean_absolute_error: 0.48 - ETA: 26s - loss: 0.4454 - mean_absolute_error: 0.48 - ETA: 26s - loss: 0.4451 - mean_absolute_error: 0.48 - ETA: 26s - loss: 0.4448 - mean_absolute_error: 0.48 - ETA: 26s - loss: 0.4440 - mean_absolute_error: 0.48 - ETA: 26s - loss: 0.4442 - mean_absolute_error: 0.48 - ETA: 26s - loss: 0.4430 - mean_absolute_error: 0.48 - ETA: 26s - loss: 0.4435 - mean_absolute_error: 0.48 - ETA: 26s - loss: 0.4441 - mean_absolute_error: 0.48 - ETA: 26s - loss: 0.4449 - mean_absolute_error: 0.48 - ETA: 26s - loss: 0.4456 - mean_absolute_error: 0.48 - ETA: 26s - loss: 0.4461 - mean_absolute_error: 0.48 - ETA: 26s - loss: 0.4467 - mean_absolute_error: 0.48 - ETA: 26s - loss: 0.4464 - mean_absolute_error: 0.48 - ETA: 26s - loss: 0.4461 - mean_absolute_error: 0.48 - ETA: 26s - loss: 0.4451 - mean_absolute_error: 0.48 - ETA: 26s - loss: 0.4448 - mean_absolute_error: 0.48 - ETA: 26s - loss: 0.4451 - mean_absolute_error: 0.48 - ETA: 26s - loss: 0.4450 - mean_absolute_error: 0.48 - ETA: 25s - loss: 0.4451 - mean_absolute_error: 0.48 - ETA: 25s - loss: 0.4450 - mean_absolute_error: 0.48 - ETA: 25s - loss: 0.4443 - mean_absolute_error: 0.48 - ETA: 25s - loss: 0.4440 - mean_absolute_error: 0.48 - ETA: 25s - loss: 0.4435 - mean_absolute_error: 0.48 - ETA: 25s - loss: 0.4443 - mean_absolute_error: 0.48 - ETA: 25s - loss: 0.4450 - mean_absolute_error: 0.48 - ETA: 25s - loss: 0.4448 - mean_absolute_error: 0.48 - ETA: 25s - loss: 0.4447 - mean_absolute_error: 0.48 - ETA: 25s - loss: 0.4446 - mean_absolute_error: 0.48 - ETA: 25s - loss: 0.4443 - mean_absolute_error: 0.48 - ETA: 25s - loss: 0.4441 - mean_absolute_error: 0.48 - ETA: 25s - loss: 0.4447 - mean_absolute_error: 0.48 - ETA: 25s - loss: 0.4453 - mean_absolute_error: 0.48 - ETA: 25s - loss: 0.4454 - mean_absolute_error: 0.48 - ETA: 25s - loss: 0.4452 - mean_absolute_error: 0.48 - ETA: 25s - loss: 0.4451 - mean_absolute_error: 0.48 - ETA: 25s - loss: 0.4452 - mean_absolute_error: 0.48 - ETA: 25s - loss: 0.4448 - mean_absolute_error: 0.48 - ETA: 25s - loss: 0.4450 - mean_absolute_error: 0.48 - ETA: 25s - loss: 0.4450 - mean_absolute_error: 0.48 - ETA: 24s - loss: 0.4450 - mean_absolute_error: 0.48 - ETA: 24s - loss: 0.4443 - mean_absolute_error: 0.48 - ETA: 24s - loss: 0.4439 - mean_absolute_error: 0.48 - ETA: 24s - loss: 0.4435 - mean_absolute_error: 0.48 - ETA: 24s - loss: 0.4448 - mean_absolute_error: 0.48 - ETA: 24s - loss: 0.4444 - mean_absolute_error: 0.48 - ETA: 24s - loss: 0.4446 - mean_absolute_error: 0.48 - ETA: 24s - loss: 0.4449 - mean_absolute_error: 0.48 - ETA: 24s - loss: 0.4448 - mean_absolute_error: 0.48 - ETA: 24s - loss: 0.4446 - mean_absolute_error: 0.48 - ETA: 24s - loss: 0.4449 - mean_absolute_error: 0.48 - ETA: 24s - loss: 0.4448 - mean_absolute_error: 0.48 - ETA: 24s - loss: 0.4446 - mean_absolute_error: 0.48 - ETA: 24s - loss: 0.4443 - mean_absolute_error: 0.48 - ETA: 24s - loss: 0.4444 - mean_absolute_error: 0.48 - ETA: 24s - loss: 0.4445 - mean_absolute_error: 0.48 - ETA: 24s - loss: 0.4447 - mean_absolute_error: 0.48 - ETA: 24s - loss: 0.4447 - mean_absolute_error: 0.48 - ETA: 24s - loss: 0.4444 - mean_absolute_error: 0.48 - ETA: 24s - loss: 0.4449 - mean_absolute_error: 0.48 - ETA: 24s - loss: 0.4452 - mean_absolute_error: 0.48 - ETA: 24s - loss: 0.4452 - mean_absolute_error: 0.4879 83968/174938 [=============>................] - ETA: 24s - loss: 0.4454 - mean_absolute_error: 0.48 - ETA: 23s - loss: 0.4452 - mean_absolute_error: 0.48 - ETA: 23s - loss: 0.4453 - mean_absolute_error: 0.48 - ETA: 23s - loss: 0.4461 - mean_absolute_error: 0.48 - ETA: 23s - loss: 0.4458 - mean_absolute_error: 0.48 - ETA: 23s - loss: 0.4456 - mean_absolute_error: 0.48 - ETA: 23s - loss: 0.4454 - mean_absolute_error: 0.48 - ETA: 23s - loss: 0.4449 - mean_absolute_error: 0.48 - ETA: 23s - loss: 0.4454 - mean_absolute_error: 0.48 - ETA: 23s - loss: 0.4450 - mean_absolute_error: 0.48 - ETA: 23s - loss: 0.4447 - mean_absolute_error: 0.48 - ETA: 23s - loss: 0.4449 - mean_absolute_error: 0.48 - ETA: 23s - loss: 0.4451 - mean_absolute_error: 0.48 - ETA: 23s - loss: 0.4452 - mean_absolute_error: 0.48 - ETA: 23s - loss: 0.4454 - mean_absolute_error: 0.48 - ETA: 23s - loss: 0.4455 - mean_absolute_error: 0.48 - ETA: 23s - loss: 0.4454 - mean_absolute_error: 0.48 - ETA: 23s - loss: 0.4454 - mean_absolute_error: 0.48 - ETA: 23s - loss: 0.4453 - mean_absolute_error: 0.48 - ETA: 23s - loss: 0.4455 - mean_absolute_error: 0.48 - ETA: 23s - loss: 0.4456 - mean_absolute_error: 0.48 - ETA: 23s - loss: 0.4456 - mean_absolute_error: 0.48 - ETA: 23s - loss: 0.4451 - mean_absolute_error: 0.48 - ETA: 23s - loss: 0.4445 - mean_absolute_error: 0.48 - ETA: 23s - loss: 0.4446 - mean_absolute_error: 0.48 - ETA: 23s - loss: 0.4444 - mean_absolute_error: 0.48 - ETA: 23s - loss: 0.4445 - mean_absolute_error: 0.48 - ETA: 23s - loss: 0.4445 - mean_absolute_error: 0.48 - ETA: 23s - loss: 0.4443 - mean_absolute_error: 0.48 - ETA: 23s - loss: 0.4438 - mean_absolute_error: 0.48 - ETA: 22s - loss: 0.4435 - mean_absolute_error: 0.48 - ETA: 22s - loss: 0.4430 - mean_absolute_error: 0.48 - ETA: 22s - loss: 0.4428 - mean_absolute_error: 0.48 - ETA: 22s - loss: 0.4425 - mean_absolute_error: 0.48 - ETA: 22s - loss: 0.4424 - mean_absolute_error: 0.48 - ETA: 22s - loss: 0.4422 - mean_absolute_error: 0.48 - ETA: 22s - loss: 0.4415 - mean_absolute_error: 0.48 - ETA: 22s - loss: 0.4413 - mean_absolute_error: 0.48 - ETA: 22s - loss: 0.4409 - mean_absolute_error: 0.48 - ETA: 22s - loss: 0.4413 - mean_absolute_error: 0.48 - ETA: 22s - loss: 0.4411 - mean_absolute_error: 0.48 - ETA: 22s - loss: 0.4414 - mean_absolute_error: 0.48 - ETA: 22s - loss: 0.4413 - mean_absolute_error: 0.48 - ETA: 22s - loss: 0.4411 - mean_absolute_error: 0.48 - ETA: 22s - loss: 0.4411 - mean_absolute_error: 0.48 - ETA: 22s - loss: 0.4408 - mean_absolute_error: 0.48 - ETA: 22s - loss: 0.4406 - mean_absolute_error: 0.48 - ETA: 22s - loss: 0.4412 - mean_absolute_error: 0.48 - ETA: 22s - loss: 0.4406 - mean_absolute_error: 0.48 - ETA: 22s - loss: 0.4408 - mean_absolute_error: 0.48 - ETA: 22s - loss: 0.4408 - mean_absolute_error: 0.48 - ETA: 22s - loss: 0.4408 - mean_absolute_error: 0.48 - ETA: 22s - loss: 0.4407 - mean_absolute_error: 0.48 - ETA: 21s - loss: 0.4408 - mean_absolute_error: 0.48 - ETA: 21s - loss: 0.4409 - mean_absolute_error: 0.48 - ETA: 21s - loss: 0.4406 - mean_absolute_error: 0.48 - ETA: 21s - loss: 0.4403 - mean_absolute_error: 0.48 - ETA: 21s - loss: 0.4403 - mean_absolute_error: 0.48 - ETA: 21s - loss: 0.4403 - mean_absolute_error: 0.48 - ETA: 21s - loss: 0.4405 - mean_absolute_error: 0.48 - ETA: 21s - loss: 0.4406 - mean_absolute_error: 0.48 - ETA: 21s - loss: 0.4408 - mean_absolute_error: 0.48 - ETA: 21s - loss: 0.4407 - mean_absolute_error: 0.48 - ETA: 21s - loss: 0.4404 - mean_absolute_error: 0.48 - ETA: 21s - loss: 0.4403 - mean_absolute_error: 0.48 - ETA: 21s - loss: 0.4404 - mean_absolute_error: 0.48 - ETA: 21s - loss: 0.4406 - mean_absolute_error: 0.48 - ETA: 21s - loss: 0.4404 - mean_absolute_error: 0.48 - ETA: 21s - loss: 0.4405 - mean_absolute_error: 0.48 - ETA: 21s - loss: 0.4404 - mean_absolute_error: 0.48 - ETA: 21s - loss: 0.4403 - mean_absolute_error: 0.48 - ETA: 21s - loss: 0.4403 - mean_absolute_error: 0.48 - ETA: 21s - loss: 0.4400 - mean_absolute_error: 0.48 - ETA: 21s - loss: 0.4401 - mean_absolute_error: 0.48 - ETA: 21s - loss: 0.4404 - mean_absolute_error: 0.48 - ETA: 21s - loss: 0.4403 - mean_absolute_error: 0.48 - ETA: 20s - loss: 0.4407 - mean_absolute_error: 0.48 - ETA: 20s - loss: 0.4408 - mean_absolute_error: 0.48 - ETA: 20s - loss: 0.4410 - mean_absolute_error: 0.48 - ETA: 20s - loss: 0.4411 - mean_absolute_error: 0.48 - ETA: 20s - loss: 0.4417 - mean_absolute_error: 0.48 - ETA: 20s - loss: 0.4412 - mean_absolute_error: 0.48 - ETA: 20s - loss: 0.4409 - mean_absolute_error: 0.48 - ETA: 20s - loss: 0.4411 - mean_absolute_error: 0.48 - ETA: 20s - loss: 0.4409 - mean_absolute_error: 0.48 - ETA: 20s - loss: 0.4412 - mean_absolute_error: 0.48 - ETA: 20s - loss: 0.4415 - mean_absolute_error: 0.48 - ETA: 20s - loss: 0.4414 - mean_absolute_error: 0.48 - ETA: 20s - loss: 0.4416 - mean_absolute_error: 0.48 - ETA: 20s - loss: 0.4414 - mean_absolute_error: 0.48 - ETA: 20s - loss: 0.4412 - mean_absolute_error: 0.48 - ETA: 20s - loss: 0.4414 - mean_absolute_error: 0.48 - ETA: 20s - loss: 0.4414 - mean_absolute_error: 0.48 - ETA: 20s - loss: 0.4418 - mean_absolute_error: 0.48 - ETA: 20s - loss: 0.4415 - mean_absolute_error: 0.48 - ETA: 19s - loss: 0.4416 - mean_absolute_error: 0.48 - ETA: 19s - loss: 0.4416 - mean_absolute_error: 0.48 - ETA: 19s - loss: 0.4418 - mean_absolute_error: 0.48 - ETA: 19s - loss: 0.4415 - mean_absolute_error: 0.48 - ETA: 19s - loss: 0.4419 - mean_absolute_error: 0.48 - ETA: 19s - loss: 0.4417 - mean_absolute_error: 0.48 - ETA: 19s - loss: 0.4417 - mean_absolute_error: 0.48 - ETA: 19s - loss: 0.4421 - mean_absolute_error: 0.48 - ETA: 19s - loss: 0.4419 - mean_absolute_error: 0.48 - ETA: 19s - loss: 0.4419 - mean_absolute_error: 0.48 - ETA: 19s - loss: 0.4416 - mean_absolute_error: 0.48 - ETA: 19s - loss: 0.4414 - mean_absolute_error: 0.48 - ETA: 19s - loss: 0.4415 - mean_absolute_error: 0.48 - ETA: 19s - loss: 0.4413 - mean_absolute_error: 0.48 - ETA: 19s - loss: 0.4418 - mean_absolute_error: 0.48 - ETA: 19s - loss: 0.4420 - mean_absolute_error: 0.48 - ETA: 19s - loss: 0.4421 - mean_absolute_error: 0.48 - ETA: 19s - loss: 0.4419 - mean_absolute_error: 0.48 - ETA: 19s - loss: 0.4421 - mean_absolute_error: 0.48 - ETA: 19s - loss: 0.4422 - mean_absolute_error: 0.48 - ETA: 19s - loss: 0.4420 - mean_absolute_error: 0.48 - ETA: 18s - loss: 0.4423 - mean_absolute_error: 0.48 - ETA: 18s - loss: 0.4422 - mean_absolute_error: 0.48 - ETA: 18s - loss: 0.4422 - mean_absolute_error: 0.48 - ETA: 18s - loss: 0.4423 - mean_absolute_error: 0.48 - ETA: 18s - loss: 0.4425 - mean_absolute_error: 0.48 - ETA: 18s - loss: 0.4430 - mean_absolute_error: 0.48 - ETA: 18s - loss: 0.4429 - mean_absolute_error: 0.48 - ETA: 18s - loss: 0.4428 - mean_absolute_error: 0.48 - ETA: 18s - loss: 0.4428 - mean_absolute_error: 0.48 - ETA: 18s - loss: 0.4426 - mean_absolute_error: 0.48 - ETA: 18s - loss: 0.4425 - mean_absolute_error: 0.48 - ETA: 18s - loss: 0.4423 - mean_absolute_error: 0.48 - ETA: 18s - loss: 0.4425 - mean_absolute_error: 0.48 - ETA: 18s - loss: 0.4425 - mean_absolute_error: 0.48 - ETA: 18s - loss: 0.4425 - mean_absolute_error: 0.48 - ETA: 18s - loss: 0.4425 - mean_absolute_error: 0.48 - ETA: 18s - loss: 0.4424 - mean_absolute_error: 0.48 - ETA: 18s - loss: 0.4423 - mean_absolute_error: 0.48 - ETA: 18s - loss: 0.4421 - mean_absolute_error: 0.48 - ETA: 18s - loss: 0.4422 - mean_absolute_error: 0.48 - ETA: 18s - loss: 0.4423 - mean_absolute_error: 0.48 - ETA: 18s - loss: 0.4425 - mean_absolute_error: 0.48 - ETA: 17s - loss: 0.4421 - mean_absolute_error: 0.48 - ETA: 17s - loss: 0.4420 - mean_absolute_error: 0.48 - ETA: 17s - loss: 0.4422 - mean_absolute_error: 0.48 - ETA: 17s - loss: 0.4420 - mean_absolute_error: 0.48 - ETA: 17s - loss: 0.4420 - mean_absolute_error: 0.48 - ETA: 17s - loss: 0.4419 - mean_absolute_error: 0.48 - ETA: 17s - loss: 0.4418 - mean_absolute_error: 0.48 - ETA: 17s - loss: 0.4415 - mean_absolute_error: 0.48 - ETA: 17s - loss: 0.4420 - mean_absolute_error: 0.48 - ETA: 17s - loss: 0.4420 - mean_absolute_error: 0.48 - ETA: 17s - loss: 0.4424 - mean_absolute_error: 0.48 - ETA: 17s - loss: 0.4420 - mean_absolute_error: 0.48 - ETA: 17s - loss: 0.4420 - mean_absolute_error: 0.4866125984/174938 [====================>.........] - ETA: 17s - loss: 0.4420 - mean_absolute_error: 0.48 - ETA: 17s - loss: 0.4418 - mean_absolute_error: 0.48 - ETA: 17s - loss: 0.4417 - mean_absolute_error: 0.48 - ETA: 17s - loss: 0.4418 - mean_absolute_error: 0.48 - ETA: 17s - loss: 0.4417 - mean_absolute_error: 0.48 - ETA: 16s - loss: 0.4417 - mean_absolute_error: 0.48 - ETA: 16s - loss: 0.4416 - mean_absolute_error: 0.48 - ETA: 16s - loss: 0.4416 - mean_absolute_error: 0.48 - ETA: 16s - loss: 0.4425 - mean_absolute_error: 0.48 - ETA: 16s - loss: 0.4427 - mean_absolute_error: 0.48 - ETA: 16s - loss: 0.4428 - mean_absolute_error: 0.48 - ETA: 16s - loss: 0.4428 - mean_absolute_error: 0.48 - ETA: 16s - loss: 0.4429 - mean_absolute_error: 0.48 - ETA: 16s - loss: 0.4430 - mean_absolute_error: 0.48 - ETA: 16s - loss: 0.4430 - mean_absolute_error: 0.48 - ETA: 16s - loss: 0.4431 - mean_absolute_error: 0.48 - ETA: 16s - loss: 0.4429 - mean_absolute_error: 0.48 - ETA: 16s - loss: 0.4428 - mean_absolute_error: 0.48 - ETA: 16s - loss: 0.4430 - mean_absolute_error: 0.48 - ETA: 16s - loss: 0.4431 - mean_absolute_error: 0.48 - ETA: 16s - loss: 0.4431 - mean_absolute_error: 0.48 - ETA: 16s - loss: 0.4430 - mean_absolute_error: 0.48 - ETA: 15s - loss: 0.4429 - mean_absolute_error: 0.48 - ETA: 15s - loss: 0.4430 - mean_absolute_error: 0.48 - ETA: 15s - loss: 0.4431 - mean_absolute_error: 0.48 - ETA: 15s - loss: 0.4429 - mean_absolute_error: 0.48 - ETA: 15s - loss: 0.4430 - mean_absolute_error: 0.48 - ETA: 15s - loss: 0.4428 - mean_absolute_error: 0.48 - ETA: 15s - loss: 0.4426 - mean_absolute_error: 0.48 - ETA: 15s - loss: 0.4429 - mean_absolute_error: 0.48 - ETA: 15s - loss: 0.4431 - mean_absolute_error: 0.48 - ETA: 15s - loss: 0.4427 - mean_absolute_error: 0.48 - ETA: 15s - loss: 0.4426 - mean_absolute_error: 0.48 - ETA: 15s - loss: 0.4427 - mean_absolute_error: 0.48 - ETA: 15s - loss: 0.4428 - mean_absolute_error: 0.48 - ETA: 15s - loss: 0.4427 - mean_absolute_error: 0.48 - ETA: 15s - loss: 0.4426 - mean_absolute_error: 0.48 - ETA: 15s - loss: 0.4425 - mean_absolute_error: 0.48 - ETA: 15s - loss: 0.4425 - mean_absolute_error: 0.48 - ETA: 15s - loss: 0.4423 - mean_absolute_error: 0.48 - ETA: 15s - loss: 0.4422 - mean_absolute_error: 0.48 - ETA: 15s - loss: 0.4419 - mean_absolute_error: 0.48 - ETA: 14s - loss: 0.4420 - mean_absolute_error: 0.48 - ETA: 14s - loss: 0.4421 - mean_absolute_error: 0.48 - ETA: 14s - loss: 0.4420 - mean_absolute_error: 0.48 - ETA: 14s - loss: 0.4418 - mean_absolute_error: 0.48 - ETA: 14s - loss: 0.4418 - mean_absolute_error: 0.48 - ETA: 14s - loss: 0.4416 - mean_absolute_error: 0.48 - ETA: 14s - loss: 0.4417 - mean_absolute_error: 0.48 - ETA: 14s - loss: 0.4416 - mean_absolute_error: 0.48 - ETA: 14s - loss: 0.4418 - mean_absolute_error: 0.48 - ETA: 14s - loss: 0.4415 - mean_absolute_error: 0.48 - ETA: 14s - loss: 0.4417 - mean_absolute_error: 0.48 - ETA: 14s - loss: 0.4417 - mean_absolute_error: 0.48 - ETA: 14s - loss: 0.4416 - mean_absolute_error: 0.48 - ETA: 14s - loss: 0.4419 - mean_absolute_error: 0.48 - ETA: 14s - loss: 0.4421 - mean_absolute_error: 0.48 - ETA: 14s - loss: 0.4420 - mean_absolute_error: 0.48 - ETA: 14s - loss: 0.4426 - mean_absolute_error: 0.48 - ETA: 14s - loss: 0.4424 - mean_absolute_error: 0.48 - ETA: 14s - loss: 0.4423 - mean_absolute_error: 0.48 - ETA: 13s - loss: 0.4426 - mean_absolute_error: 0.48 - ETA: 13s - loss: 0.4427 - mean_absolute_error: 0.48 - ETA: 13s - loss: 0.4427 - mean_absolute_error: 0.48 - ETA: 13s - loss: 0.4426 - mean_absolute_error: 0.48 - ETA: 13s - loss: 0.4424 - mean_absolute_error: 0.48 - ETA: 13s - loss: 0.4422 - mean_absolute_error: 0.48 - ETA: 13s - loss: 0.4420 - mean_absolute_error: 0.48 - ETA: 13s - loss: 0.4421 - mean_absolute_error: 0.48 - ETA: 13s - loss: 0.4420 - mean_absolute_error: 0.48 - ETA: 13s - loss: 0.4421 - mean_absolute_error: 0.48 - ETA: 13s - loss: 0.4421 - mean_absolute_error: 0.48 - ETA: 13s - loss: 0.4419 - mean_absolute_error: 0.48 - ETA: 13s - loss: 0.4417 - mean_absolute_error: 0.48 - ETA: 13s - loss: 0.4419 - mean_absolute_error: 0.48 - ETA: 13s - loss: 0.4420 - mean_absolute_error: 0.48 - ETA: 13s - loss: 0.4420 - mean_absolute_error: 0.48 - ETA: 13s - loss: 0.4418 - mean_absolute_error: 0.48 - ETA: 13s - loss: 0.4416 - mean_absolute_error: 0.48 - ETA: 13s - loss: 0.4419 - mean_absolute_error: 0.48 - ETA: 12s - loss: 0.4419 - mean_absolute_error: 0.48 - ETA: 12s - loss: 0.4418 - mean_absolute_error: 0.48 - ETA: 12s - loss: 0.4416 - mean_absolute_error: 0.48 - ETA: 12s - loss: 0.4416 - mean_absolute_error: 0.48 - ETA: 12s - loss: 0.4416 - mean_absolute_error: 0.48 - ETA: 12s - loss: 0.4417 - mean_absolute_error: 0.48 - ETA: 12s - loss: 0.4416 - mean_absolute_error: 0.48 - ETA: 12s - loss: 0.4415 - mean_absolute_error: 0.48 - ETA: 12s - loss: 0.4416 - mean_absolute_error: 0.48 - ETA: 12s - loss: 0.4417 - mean_absolute_error: 0.48 - ETA: 12s - loss: 0.4414 - mean_absolute_error: 0.48 - ETA: 12s - loss: 0.4412 - mean_absolute_error: 0.48 - ETA: 12s - loss: 0.4416 - mean_absolute_error: 0.48 - ETA: 12s - loss: 0.4415 - mean_absolute_error: 0.48 - ETA: 12s - loss: 0.4414 - mean_absolute_error: 0.48 - ETA: 12s - loss: 0.4412 - mean_absolute_error: 0.48 - ETA: 12s - loss: 0.4411 - mean_absolute_error: 0.48 - ETA: 12s - loss: 0.4413 - mean_absolute_error: 0.48 - ETA: 11s - loss: 0.4414 - mean_absolute_error: 0.48 - ETA: 11s - loss: 0.4416 - mean_absolute_error: 0.48 - ETA: 11s - loss: 0.4419 - mean_absolute_error: 0.48 - ETA: 11s - loss: 0.4419 - mean_absolute_error: 0.48 - ETA: 11s - loss: 0.4419 - mean_absolute_error: 0.48 - ETA: 11s - loss: 0.4418 - mean_absolute_error: 0.48 - ETA: 11s - loss: 0.4419 - mean_absolute_error: 0.48 - ETA: 11s - loss: 0.4418 - mean_absolute_error: 0.48 - ETA: 11s - loss: 0.4416 - mean_absolute_error: 0.48 - ETA: 11s - loss: 0.4420 - mean_absolute_error: 0.48 - ETA: 11s - loss: 0.4420 - mean_absolute_error: 0.48 - ETA: 11s - loss: 0.4420 - mean_absolute_error: 0.48 - ETA: 11s - loss: 0.4420 - mean_absolute_error: 0.48 - ETA: 11s - loss: 0.4421 - mean_absolute_error: 0.48 - ETA: 11s - loss: 0.4419 - mean_absolute_error: 0.48 - ETA: 11s - loss: 0.4418 - mean_absolute_error: 0.48 - ETA: 11s - loss: 0.4420 - mean_absolute_error: 0.48 - ETA: 11s - loss: 0.4419 - mean_absolute_error: 0.48 - ETA: 11s - loss: 0.4420 - mean_absolute_error: 0.48 - ETA: 10s - loss: 0.4420 - mean_absolute_error: 0.48 - ETA: 10s - loss: 0.4420 - mean_absolute_error: 0.48 - ETA: 10s - loss: 0.4418 - mean_absolute_error: 0.48 - ETA: 10s - loss: 0.4421 - mean_absolute_error: 0.48 - ETA: 10s - loss: 0.4421 - mean_absolute_error: 0.48 - ETA: 10s - loss: 0.4423 - mean_absolute_error: 0.48 - ETA: 10s - loss: 0.4422 - mean_absolute_error: 0.48 - ETA: 10s - loss: 0.4422 - mean_absolute_error: 0.48 - ETA: 10s - loss: 0.4425 - mean_absolute_error: 0.48 - ETA: 10s - loss: 0.4426 - mean_absolute_error: 0.48 - ETA: 10s - loss: 0.4426 - mean_absolute_error: 0.48 - ETA: 10s - loss: 0.4427 - mean_absolute_error: 0.48 - ETA: 10s - loss: 0.4426 - mean_absolute_error: 0.48 - ETA: 10s - loss: 0.4425 - mean_absolute_error: 0.48 - ETA: 10s - loss: 0.4424 - mean_absolute_error: 0.48 - ETA: 10s - loss: 0.4424 - mean_absolute_error: 0.48 - ETA: 10s - loss: 0.4425 - mean_absolute_error: 0.48 - ETA: 10s - loss: 0.4426 - mean_absolute_error: 0.48 - ETA: 10s - loss: 0.4424 - mean_absolute_error: 0.48 - ETA: 9s - loss: 0.4422 - mean_absolute_error: 0.4863 - ETA: 9s - loss: 0.4424 - mean_absolute_error: 0.486 - ETA: 9s - loss: 0.4422 - mean_absolute_error: 0.486 - ETA: 9s - loss: 0.4422 - mean_absolute_error: 0.486 - ETA: 9s - loss: 0.4421 - mean_absolute_error: 0.486 - ETA: 9s - loss: 0.4421 - mean_absolute_error: 0.486 - ETA: 9s - loss: 0.4423 - mean_absolute_error: 0.486 - ETA: 9s - loss: 0.4422 - mean_absolute_error: 0.486 - ETA: 9s - loss: 0.4422 - mean_absolute_error: 0.486 - ETA: 9s - loss: 0.4424 - mean_absolute_error: 0.486 - ETA: 9s - loss: 0.4424 - mean_absolute_error: 0.486 - ETA: 9s - loss: 0.4423 - mean_absolute_error: 0.486 - ETA: 9s - loss: 0.4423 - mean_absolute_error: 0.486 - ETA: 9s - loss: 0.4421 - mean_absolute_error: 0.486 - ETA: 9s - loss: 0.4426 - mean_absolute_error: 0.4863"
     ]
    },
    {
     "name": "stdout",
     "output_type": "stream",
     "text": [
      "164672/174938 [===========================>..] - ETA: 9s - loss: 0.4426 - mean_absolute_error: 0.486 - ETA: 9s - loss: 0.4426 - mean_absolute_error: 0.486 - ETA: 9s - loss: 0.4424 - mean_absolute_error: 0.486 - ETA: 9s - loss: 0.4423 - mean_absolute_error: 0.486 - ETA: 9s - loss: 0.4424 - mean_absolute_error: 0.486 - ETA: 9s - loss: 0.4424 - mean_absolute_error: 0.486 - ETA: 9s - loss: 0.4423 - mean_absolute_error: 0.486 - ETA: 8s - loss: 0.4424 - mean_absolute_error: 0.486 - ETA: 8s - loss: 0.4422 - mean_absolute_error: 0.486 - ETA: 8s - loss: 0.4421 - mean_absolute_error: 0.486 - ETA: 8s - loss: 0.4425 - mean_absolute_error: 0.486 - ETA: 8s - loss: 0.4425 - mean_absolute_error: 0.486 - ETA: 8s - loss: 0.4423 - mean_absolute_error: 0.486 - ETA: 8s - loss: 0.4425 - mean_absolute_error: 0.486 - ETA: 8s - loss: 0.4426 - mean_absolute_error: 0.486 - ETA: 8s - loss: 0.4425 - mean_absolute_error: 0.486 - ETA: 8s - loss: 0.4426 - mean_absolute_error: 0.486 - ETA: 8s - loss: 0.4425 - mean_absolute_error: 0.486 - ETA: 8s - loss: 0.4425 - mean_absolute_error: 0.486 - ETA: 8s - loss: 0.4426 - mean_absolute_error: 0.486 - ETA: 8s - loss: 0.4426 - mean_absolute_error: 0.486 - ETA: 8s - loss: 0.4426 - mean_absolute_error: 0.486 - ETA: 8s - loss: 0.4425 - mean_absolute_error: 0.486 - ETA: 8s - loss: 0.4424 - mean_absolute_error: 0.486 - ETA: 8s - loss: 0.4424 - mean_absolute_error: 0.486 - ETA: 8s - loss: 0.4424 - mean_absolute_error: 0.486 - ETA: 8s - loss: 0.4422 - mean_absolute_error: 0.486 - ETA: 8s - loss: 0.4422 - mean_absolute_error: 0.486 - ETA: 8s - loss: 0.4422 - mean_absolute_error: 0.485 - ETA: 7s - loss: 0.4423 - mean_absolute_error: 0.486 - ETA: 7s - loss: 0.4424 - mean_absolute_error: 0.486 - ETA: 7s - loss: 0.4425 - mean_absolute_error: 0.486 - ETA: 7s - loss: 0.4426 - mean_absolute_error: 0.486 - ETA: 7s - loss: 0.4426 - mean_absolute_error: 0.486 - ETA: 7s - loss: 0.4427 - mean_absolute_error: 0.486 - ETA: 7s - loss: 0.4425 - mean_absolute_error: 0.486 - ETA: 7s - loss: 0.4425 - mean_absolute_error: 0.486 - ETA: 7s - loss: 0.4423 - mean_absolute_error: 0.486 - ETA: 7s - loss: 0.4426 - mean_absolute_error: 0.486 - ETA: 7s - loss: 0.4428 - mean_absolute_error: 0.486 - ETA: 7s - loss: 0.4428 - mean_absolute_error: 0.486 - ETA: 7s - loss: 0.4430 - mean_absolute_error: 0.486 - ETA: 7s - loss: 0.4431 - mean_absolute_error: 0.486 - ETA: 7s - loss: 0.4433 - mean_absolute_error: 0.486 - ETA: 7s - loss: 0.4432 - mean_absolute_error: 0.486 - ETA: 7s - loss: 0.4432 - mean_absolute_error: 0.486 - ETA: 7s - loss: 0.4431 - mean_absolute_error: 0.486 - ETA: 7s - loss: 0.4432 - mean_absolute_error: 0.486 - ETA: 7s - loss: 0.4432 - mean_absolute_error: 0.486 - ETA: 6s - loss: 0.4431 - mean_absolute_error: 0.486 - ETA: 6s - loss: 0.4431 - mean_absolute_error: 0.486 - ETA: 6s - loss: 0.4431 - mean_absolute_error: 0.486 - ETA: 6s - loss: 0.4431 - mean_absolute_error: 0.486 - ETA: 6s - loss: 0.4430 - mean_absolute_error: 0.486 - ETA: 6s - loss: 0.4432 - mean_absolute_error: 0.486 - ETA: 6s - loss: 0.4432 - mean_absolute_error: 0.486 - ETA: 6s - loss: 0.4434 - mean_absolute_error: 0.486 - ETA: 6s - loss: 0.4433 - mean_absolute_error: 0.486 - ETA: 6s - loss: 0.4432 - mean_absolute_error: 0.486 - ETA: 6s - loss: 0.4433 - mean_absolute_error: 0.486 - ETA: 6s - loss: 0.4435 - mean_absolute_error: 0.486 - ETA: 6s - loss: 0.4434 - mean_absolute_error: 0.486 - ETA: 6s - loss: 0.4434 - mean_absolute_error: 0.486 - ETA: 6s - loss: 0.4434 - mean_absolute_error: 0.486 - ETA: 6s - loss: 0.4435 - mean_absolute_error: 0.486 - ETA: 6s - loss: 0.4434 - mean_absolute_error: 0.486 - ETA: 6s - loss: 0.4435 - mean_absolute_error: 0.486 - ETA: 6s - loss: 0.4436 - mean_absolute_error: 0.486 - ETA: 6s - loss: 0.4439 - mean_absolute_error: 0.486 - ETA: 6s - loss: 0.4440 - mean_absolute_error: 0.486 - ETA: 5s - loss: 0.4441 - mean_absolute_error: 0.486 - ETA: 5s - loss: 0.4441 - mean_absolute_error: 0.486 - ETA: 5s - loss: 0.4440 - mean_absolute_error: 0.486 - ETA: 5s - loss: 0.4440 - mean_absolute_error: 0.486 - ETA: 5s - loss: 0.4442 - mean_absolute_error: 0.486 - ETA: 5s - loss: 0.4441 - mean_absolute_error: 0.486 - ETA: 5s - loss: 0.4440 - mean_absolute_error: 0.486 - ETA: 5s - loss: 0.4441 - mean_absolute_error: 0.486 - ETA: 5s - loss: 0.4440 - mean_absolute_error: 0.486 - ETA: 5s - loss: 0.4439 - mean_absolute_error: 0.486 - ETA: 5s - loss: 0.4439 - mean_absolute_error: 0.486 - ETA: 5s - loss: 0.4440 - mean_absolute_error: 0.486 - ETA: 5s - loss: 0.4439 - mean_absolute_error: 0.486 - ETA: 5s - loss: 0.4440 - mean_absolute_error: 0.486 - ETA: 5s - loss: 0.4441 - mean_absolute_error: 0.486 - ETA: 5s - loss: 0.4442 - mean_absolute_error: 0.486 - ETA: 5s - loss: 0.4441 - mean_absolute_error: 0.486 - ETA: 5s - loss: 0.4441 - mean_absolute_error: 0.486 - ETA: 5s - loss: 0.4439 - mean_absolute_error: 0.486 - ETA: 5s - loss: 0.4438 - mean_absolute_error: 0.486 - ETA: 5s - loss: 0.4439 - mean_absolute_error: 0.486 - ETA: 4s - loss: 0.4440 - mean_absolute_error: 0.486 - ETA: 4s - loss: 0.4439 - mean_absolute_error: 0.486 - ETA: 4s - loss: 0.4438 - mean_absolute_error: 0.486 - ETA: 4s - loss: 0.4439 - mean_absolute_error: 0.486 - ETA: 4s - loss: 0.4439 - mean_absolute_error: 0.486 - ETA: 4s - loss: 0.4438 - mean_absolute_error: 0.486 - ETA: 4s - loss: 0.4438 - mean_absolute_error: 0.486 - ETA: 4s - loss: 0.4437 - mean_absolute_error: 0.486 - ETA: 4s - loss: 0.4437 - mean_absolute_error: 0.486 - ETA: 4s - loss: 0.4438 - mean_absolute_error: 0.486 - ETA: 4s - loss: 0.4438 - mean_absolute_error: 0.486 - ETA: 4s - loss: 0.4438 - mean_absolute_error: 0.486 - ETA: 4s - loss: 0.4437 - mean_absolute_error: 0.486 - ETA: 4s - loss: 0.4436 - mean_absolute_error: 0.486 - ETA: 4s - loss: 0.4436 - mean_absolute_error: 0.486 - ETA: 4s - loss: 0.4434 - mean_absolute_error: 0.486 - ETA: 4s - loss: 0.4434 - mean_absolute_error: 0.486 - ETA: 4s - loss: 0.4435 - mean_absolute_error: 0.486 - ETA: 4s - loss: 0.4434 - mean_absolute_error: 0.486 - ETA: 4s - loss: 0.4433 - mean_absolute_error: 0.486 - ETA: 3s - loss: 0.4432 - mean_absolute_error: 0.486 - ETA: 3s - loss: 0.4431 - mean_absolute_error: 0.486 - ETA: 3s - loss: 0.4430 - mean_absolute_error: 0.486 - ETA: 3s - loss: 0.4430 - mean_absolute_error: 0.486 - ETA: 3s - loss: 0.4431 - mean_absolute_error: 0.486 - ETA: 3s - loss: 0.4431 - mean_absolute_error: 0.486 - ETA: 3s - loss: 0.4431 - mean_absolute_error: 0.486 - ETA: 3s - loss: 0.4433 - mean_absolute_error: 0.486 - ETA: 3s - loss: 0.4432 - mean_absolute_error: 0.486 - ETA: 3s - loss: 0.4431 - mean_absolute_error: 0.486 - ETA: 3s - loss: 0.4431 - mean_absolute_error: 0.486 - ETA: 3s - loss: 0.4429 - mean_absolute_error: 0.486 - ETA: 3s - loss: 0.4429 - mean_absolute_error: 0.486 - ETA: 3s - loss: 0.4429 - mean_absolute_error: 0.486 - ETA: 3s - loss: 0.4429 - mean_absolute_error: 0.486 - ETA: 3s - loss: 0.4429 - mean_absolute_error: 0.486 - ETA: 3s - loss: 0.4429 - mean_absolute_error: 0.486 - ETA: 3s - loss: 0.4428 - mean_absolute_error: 0.486 - ETA: 3s - loss: 0.4428 - mean_absolute_error: 0.486 - ETA: 2s - loss: 0.4427 - mean_absolute_error: 0.486 - ETA: 2s - loss: 0.4427 - mean_absolute_error: 0.486 - ETA: 2s - loss: 0.4426 - mean_absolute_error: 0.486 - ETA: 2s - loss: 0.4426 - mean_absolute_error: 0.486 - ETA: 2s - loss: 0.4427 - mean_absolute_error: 0.486 - ETA: 2s - loss: 0.4427 - mean_absolute_error: 0.486 - ETA: 2s - loss: 0.4428 - mean_absolute_error: 0.486 - ETA: 2s - loss: 0.4427 - mean_absolute_error: 0.486 - ETA: 2s - loss: 0.4427 - mean_absolute_error: 0.486 - ETA: 2s - loss: 0.4427 - mean_absolute_error: 0.485 - ETA: 2s - loss: 0.4428 - mean_absolute_error: 0.486 - ETA: 2s - loss: 0.4427 - mean_absolute_error: 0.485 - ETA: 2s - loss: 0.4427 - mean_absolute_error: 0.485 - ETA: 2s - loss: 0.4426 - mean_absolute_error: 0.485 - ETA: 2s - loss: 0.4424 - mean_absolute_error: 0.485 - ETA: 2s - loss: 0.4424 - mean_absolute_error: 0.485 - ETA: 2s - loss: 0.4423 - mean_absolute_error: 0.485 - ETA: 2s - loss: 0.4423 - mean_absolute_error: 0.485 - ETA: 2s - loss: 0.4422 - mean_absolute_error: 0.485 - ETA: 2s - loss: 0.4423 - mean_absolute_error: 0.485 - ETA: 1s - loss: 0.4423 - mean_absolute_error: 0.4858"
     ]
    },
    {
     "name": "stdout",
     "output_type": "stream",
     "text": [
      "174938/174938 [==============================] - ETA: 1s - loss: 0.4422 - mean_absolute_error: 0.485 - ETA: 1s - loss: 0.4424 - mean_absolute_error: 0.485 - ETA: 1s - loss: 0.4424 - mean_absolute_error: 0.486 - ETA: 1s - loss: 0.4424 - mean_absolute_error: 0.486 - ETA: 1s - loss: 0.4426 - mean_absolute_error: 0.486 - ETA: 1s - loss: 0.4427 - mean_absolute_error: 0.486 - ETA: 1s - loss: 0.4426 - mean_absolute_error: 0.486 - ETA: 1s - loss: 0.4424 - mean_absolute_error: 0.485 - ETA: 1s - loss: 0.4423 - mean_absolute_error: 0.485 - ETA: 1s - loss: 0.4422 - mean_absolute_error: 0.485 - ETA: 1s - loss: 0.4421 - mean_absolute_error: 0.485 - ETA: 1s - loss: 0.4420 - mean_absolute_error: 0.485 - ETA: 1s - loss: 0.4422 - mean_absolute_error: 0.485 - ETA: 1s - loss: 0.4422 - mean_absolute_error: 0.485 - ETA: 1s - loss: 0.4422 - mean_absolute_error: 0.485 - ETA: 1s - loss: 0.4423 - mean_absolute_error: 0.485 - ETA: 1s - loss: 0.4423 - mean_absolute_error: 0.485 - ETA: 1s - loss: 0.4421 - mean_absolute_error: 0.485 - ETA: 1s - loss: 0.4421 - mean_absolute_error: 0.485 - ETA: 1s - loss: 0.4422 - mean_absolute_error: 0.485 - ETA: 0s - loss: 0.4423 - mean_absolute_error: 0.485 - ETA: 0s - loss: 0.4422 - mean_absolute_error: 0.485 - ETA: 0s - loss: 0.4424 - mean_absolute_error: 0.485 - ETA: 0s - loss: 0.4423 - mean_absolute_error: 0.485 - ETA: 0s - loss: 0.4424 - mean_absolute_error: 0.485 - ETA: 0s - loss: 0.4424 - mean_absolute_error: 0.485 - ETA: 0s - loss: 0.4424 - mean_absolute_error: 0.486 - ETA: 0s - loss: 0.4423 - mean_absolute_error: 0.485 - ETA: 0s - loss: 0.4425 - mean_absolute_error: 0.486 - ETA: 0s - loss: 0.4425 - mean_absolute_error: 0.486 - ETA: 0s - loss: 0.4426 - mean_absolute_error: 0.486 - ETA: 0s - loss: 0.4425 - mean_absolute_error: 0.486 - ETA: 0s - loss: 0.4426 - mean_absolute_error: 0.486 - ETA: 0s - loss: 0.4425 - mean_absolute_error: 0.486 - ETA: 0s - loss: 0.4427 - mean_absolute_error: 0.486 - ETA: 0s - loss: 0.4426 - mean_absolute_error: 0.486 - ETA: 0s - loss: 0.4426 - mean_absolute_error: 0.486 - ETA: 0s - loss: 0.4426 - mean_absolute_error: 0.486 - ETA: 0s - loss: 0.4426 - mean_absolute_error: 0.486 - ETA: 0s - loss: 0.4428 - mean_absolute_error: 0.486 - 37s - loss: 0.4428 - mean_absolute_error: 0.4862 - val_loss: 0.5735 - val_mean_absolute_error: 0.5868\n",
      "Epoch 5/10\n"
     ]
    },
    {
     "name": "stdout",
     "output_type": "stream",
     "text": [
      " 39648/174938 [=====>........................] - ETA: 87s - loss: 0.5102 - mean_absolute_error: 0.49 - ETA: 41s - loss: 0.4546 - mean_absolute_error: 0.46 - ETA: 38s - loss: 0.4403 - mean_absolute_error: 0.47 - ETA: 37s - loss: 0.4326 - mean_absolute_error: 0.47 - ETA: 37s - loss: 0.4188 - mean_absolute_error: 0.46 - ETA: 37s - loss: 0.4198 - mean_absolute_error: 0.47 - ETA: 36s - loss: 0.4133 - mean_absolute_error: 0.47 - ETA: 36s - loss: 0.4068 - mean_absolute_error: 0.46 - ETA: 36s - loss: 0.4061 - mean_absolute_error: 0.47 - ETA: 36s - loss: 0.4014 - mean_absolute_error: 0.47 - ETA: 36s - loss: 0.3968 - mean_absolute_error: 0.46 - ETA: 36s - loss: 0.3971 - mean_absolute_error: 0.46 - ETA: 36s - loss: 0.4016 - mean_absolute_error: 0.46 - ETA: 36s - loss: 0.3994 - mean_absolute_error: 0.46 - ETA: 36s - loss: 0.4003 - mean_absolute_error: 0.46 - ETA: 36s - loss: 0.4003 - mean_absolute_error: 0.46 - ETA: 37s - loss: 0.3999 - mean_absolute_error: 0.46 - ETA: 37s - loss: 0.4047 - mean_absolute_error: 0.46 - ETA: 36s - loss: 0.4014 - mean_absolute_error: 0.46 - ETA: 36s - loss: 0.4065 - mean_absolute_error: 0.46 - ETA: 36s - loss: 0.4066 - mean_absolute_error: 0.46 - ETA: 36s - loss: 0.4073 - mean_absolute_error: 0.46 - ETA: 36s - loss: 0.4103 - mean_absolute_error: 0.46 - ETA: 36s - loss: 0.4093 - mean_absolute_error: 0.46 - ETA: 36s - loss: 0.4063 - mean_absolute_error: 0.46 - ETA: 36s - loss: 0.4073 - mean_absolute_error: 0.46 - ETA: 36s - loss: 0.4075 - mean_absolute_error: 0.46 - ETA: 35s - loss: 0.4047 - mean_absolute_error: 0.46 - ETA: 35s - loss: 0.4071 - mean_absolute_error: 0.46 - ETA: 35s - loss: 0.4074 - mean_absolute_error: 0.46 - ETA: 35s - loss: 0.4103 - mean_absolute_error: 0.47 - ETA: 35s - loss: 0.4105 - mean_absolute_error: 0.46 - ETA: 35s - loss: 0.4079 - mean_absolute_error: 0.46 - ETA: 35s - loss: 0.4078 - mean_absolute_error: 0.46 - ETA: 35s - loss: 0.4091 - mean_absolute_error: 0.46 - ETA: 35s - loss: 0.4113 - mean_absolute_error: 0.46 - ETA: 35s - loss: 0.4124 - mean_absolute_error: 0.47 - ETA: 35s - loss: 0.4117 - mean_absolute_error: 0.47 - ETA: 35s - loss: 0.4098 - mean_absolute_error: 0.46 - ETA: 34s - loss: 0.4131 - mean_absolute_error: 0.47 - ETA: 34s - loss: 0.4152 - mean_absolute_error: 0.47 - ETA: 34s - loss: 0.4165 - mean_absolute_error: 0.47 - ETA: 34s - loss: 0.4166 - mean_absolute_error: 0.47 - ETA: 34s - loss: 0.4182 - mean_absolute_error: 0.47 - ETA: 34s - loss: 0.4171 - mean_absolute_error: 0.47 - ETA: 34s - loss: 0.4163 - mean_absolute_error: 0.47 - ETA: 34s - loss: 0.4161 - mean_absolute_error: 0.47 - ETA: 34s - loss: 0.4180 - mean_absolute_error: 0.47 - ETA: 33s - loss: 0.4173 - mean_absolute_error: 0.47 - ETA: 33s - loss: 0.4179 - mean_absolute_error: 0.47 - ETA: 33s - loss: 0.4189 - mean_absolute_error: 0.47 - ETA: 33s - loss: 0.4192 - mean_absolute_error: 0.47 - ETA: 33s - loss: 0.4220 - mean_absolute_error: 0.47 - ETA: 33s - loss: 0.4228 - mean_absolute_error: 0.47 - ETA: 33s - loss: 0.4234 - mean_absolute_error: 0.47 - ETA: 33s - loss: 0.4232 - mean_absolute_error: 0.47 - ETA: 33s - loss: 0.4245 - mean_absolute_error: 0.47 - ETA: 33s - loss: 0.4243 - mean_absolute_error: 0.47 - ETA: 32s - loss: 0.4246 - mean_absolute_error: 0.47 - ETA: 32s - loss: 0.4247 - mean_absolute_error: 0.47 - ETA: 32s - loss: 0.4247 - mean_absolute_error: 0.47 - ETA: 32s - loss: 0.4244 - mean_absolute_error: 0.47 - ETA: 32s - loss: 0.4241 - mean_absolute_error: 0.47 - ETA: 32s - loss: 0.4237 - mean_absolute_error: 0.47 - ETA: 32s - loss: 0.4247 - mean_absolute_error: 0.47 - ETA: 32s - loss: 0.4255 - mean_absolute_error: 0.47 - ETA: 32s - loss: 0.4253 - mean_absolute_error: 0.47 - ETA: 32s - loss: 0.4272 - mean_absolute_error: 0.47 - ETA: 32s - loss: 0.4271 - mean_absolute_error: 0.47 - ETA: 32s - loss: 0.4268 - mean_absolute_error: 0.47 - ETA: 31s - loss: 0.4274 - mean_absolute_error: 0.47 - ETA: 31s - loss: 0.4271 - mean_absolute_error: 0.47 - ETA: 31s - loss: 0.4286 - mean_absolute_error: 0.47 - ETA: 31s - loss: 0.4277 - mean_absolute_error: 0.47 - ETA: 31s - loss: 0.4285 - mean_absolute_error: 0.47 - ETA: 31s - loss: 0.4277 - mean_absolute_error: 0.47 - ETA: 31s - loss: 0.4270 - mean_absolute_error: 0.47 - ETA: 31s - loss: 0.4276 - mean_absolute_error: 0.47 - ETA: 31s - loss: 0.4272 - mean_absolute_error: 0.47 - ETA: 31s - loss: 0.4266 - mean_absolute_error: 0.47 - ETA: 31s - loss: 0.4273 - mean_absolute_error: 0.47 - ETA: 30s - loss: 0.4287 - mean_absolute_error: 0.47 - ETA: 30s - loss: 0.4278 - mean_absolute_error: 0.47 - ETA: 30s - loss: 0.4287 - mean_absolute_error: 0.47 - ETA: 30s - loss: 0.4297 - mean_absolute_error: 0.47 - ETA: 30s - loss: 0.4316 - mean_absolute_error: 0.47 - ETA: 30s - loss: 0.4320 - mean_absolute_error: 0.47 - ETA: 30s - loss: 0.4327 - mean_absolute_error: 0.48 - ETA: 30s - loss: 0.4318 - mean_absolute_error: 0.47 - ETA: 30s - loss: 0.4320 - mean_absolute_error: 0.47 - ETA: 30s - loss: 0.4319 - mean_absolute_error: 0.47 - ETA: 30s - loss: 0.4331 - mean_absolute_error: 0.48 - ETA: 30s - loss: 0.4327 - mean_absolute_error: 0.48 - ETA: 30s - loss: 0.4324 - mean_absolute_error: 0.47 - ETA: 30s - loss: 0.4320 - mean_absolute_error: 0.47 - ETA: 30s - loss: 0.4320 - mean_absolute_error: 0.47 - ETA: 30s - loss: 0.4333 - mean_absolute_error: 0.48 - ETA: 30s - loss: 0.4333 - mean_absolute_error: 0.48 - ETA: 29s - loss: 0.4326 - mean_absolute_error: 0.47 - ETA: 29s - loss: 0.4323 - mean_absolute_error: 0.47 - ETA: 29s - loss: 0.4319 - mean_absolute_error: 0.47 - ETA: 29s - loss: 0.4315 - mean_absolute_error: 0.47 - ETA: 29s - loss: 0.4323 - mean_absolute_error: 0.47 - ETA: 29s - loss: 0.4319 - mean_absolute_error: 0.47 - ETA: 29s - loss: 0.4322 - mean_absolute_error: 0.48 - ETA: 29s - loss: 0.4327 - mean_absolute_error: 0.48 - ETA: 29s - loss: 0.4337 - mean_absolute_error: 0.48 - ETA: 29s - loss: 0.4347 - mean_absolute_error: 0.48 - ETA: 29s - loss: 0.4349 - mean_absolute_error: 0.48 - ETA: 29s - loss: 0.4349 - mean_absolute_error: 0.48 - ETA: 29s - loss: 0.4351 - mean_absolute_error: 0.48 - ETA: 29s - loss: 0.4342 - mean_absolute_error: 0.48 - ETA: 29s - loss: 0.4345 - mean_absolute_error: 0.48 - ETA: 29s - loss: 0.4350 - mean_absolute_error: 0.48 - ETA: 28s - loss: 0.4347 - mean_absolute_error: 0.48 - ETA: 28s - loss: 0.4343 - mean_absolute_error: 0.48 - ETA: 28s - loss: 0.4339 - mean_absolute_error: 0.48 - ETA: 28s - loss: 0.4338 - mean_absolute_error: 0.48 - ETA: 28s - loss: 0.4340 - mean_absolute_error: 0.48 - ETA: 28s - loss: 0.4336 - mean_absolute_error: 0.48 - ETA: 28s - loss: 0.4337 - mean_absolute_error: 0.48 - ETA: 28s - loss: 0.4345 - mean_absolute_error: 0.48 - ETA: 28s - loss: 0.4357 - mean_absolute_error: 0.48 - ETA: 28s - loss: 0.4356 - mean_absolute_error: 0.48 - ETA: 28s - loss: 0.4363 - mean_absolute_error: 0.48 - ETA: 28s - loss: 0.4368 - mean_absolute_error: 0.48 - ETA: 28s - loss: 0.4366 - mean_absolute_error: 0.48 - ETA: 28s - loss: 0.4362 - mean_absolute_error: 0.48 - ETA: 28s - loss: 0.4365 - mean_absolute_error: 0.48 - ETA: 28s - loss: 0.4372 - mean_absolute_error: 0.48 - ETA: 28s - loss: 0.4370 - mean_absolute_error: 0.48 - ETA: 28s - loss: 0.4369 - mean_absolute_error: 0.48 - ETA: 28s - loss: 0.4366 - mean_absolute_error: 0.48 - ETA: 28s - loss: 0.4372 - mean_absolute_error: 0.48 - ETA: 28s - loss: 0.4366 - mean_absolute_error: 0.48 - ETA: 28s - loss: 0.4365 - mean_absolute_error: 0.48 - ETA: 27s - loss: 0.4368 - mean_absolute_error: 0.48 - ETA: 27s - loss: 0.4364 - mean_absolute_error: 0.48 - ETA: 27s - loss: 0.4360 - mean_absolute_error: 0.48 - ETA: 27s - loss: 0.4365 - mean_absolute_error: 0.48 - ETA: 27s - loss: 0.4366 - mean_absolute_error: 0.48 - ETA: 27s - loss: 0.4364 - mean_absolute_error: 0.48 - ETA: 27s - loss: 0.4361 - mean_absolute_error: 0.48 - ETA: 27s - loss: 0.4359 - mean_absolute_error: 0.48 - ETA: 27s - loss: 0.4361 - mean_absolute_error: 0.48 - ETA: 27s - loss: 0.4369 - mean_absolute_error: 0.48 - ETA: 27s - loss: 0.4371 - mean_absolute_error: 0.48 - ETA: 27s - loss: 0.4369 - mean_absolute_error: 0.48 - ETA: 27s - loss: 0.4373 - mean_absolute_error: 0.48 - ETA: 27s - loss: 0.4377 - mean_absolute_error: 0.48 - ETA: 27s - loss: 0.4382 - mean_absolute_error: 0.4831 79424/174938 [============>.................] - ETA: 27s - loss: 0.4379 - mean_absolute_error: 0.48 - ETA: 27s - loss: 0.4379 - mean_absolute_error: 0.48 - ETA: 27s - loss: 0.4377 - mean_absolute_error: 0.48 - ETA: 27s - loss: 0.4371 - mean_absolute_error: 0.48 - ETA: 26s - loss: 0.4369 - mean_absolute_error: 0.48 - ETA: 26s - loss: 0.4372 - mean_absolute_error: 0.48 - ETA: 26s - loss: 0.4371 - mean_absolute_error: 0.48 - ETA: 26s - loss: 0.4367 - mean_absolute_error: 0.48 - ETA: 26s - loss: 0.4368 - mean_absolute_error: 0.48 - ETA: 26s - loss: 0.4363 - mean_absolute_error: 0.48 - ETA: 26s - loss: 0.4365 - mean_absolute_error: 0.48 - ETA: 26s - loss: 0.4362 - mean_absolute_error: 0.48 - ETA: 26s - loss: 0.4365 - mean_absolute_error: 0.48 - ETA: 26s - loss: 0.4368 - mean_absolute_error: 0.48 - ETA: 26s - loss: 0.4364 - mean_absolute_error: 0.48 - ETA: 26s - loss: 0.4370 - mean_absolute_error: 0.48 - ETA: 26s - loss: 0.4373 - mean_absolute_error: 0.48 - ETA: 26s - loss: 0.4370 - mean_absolute_error: 0.48 - ETA: 26s - loss: 0.4370 - mean_absolute_error: 0.48 - ETA: 26s - loss: 0.4373 - mean_absolute_error: 0.48 - ETA: 25s - loss: 0.4378 - mean_absolute_error: 0.48 - ETA: 25s - loss: 0.4377 - mean_absolute_error: 0.48 - ETA: 25s - loss: 0.4374 - mean_absolute_error: 0.48 - ETA: 25s - loss: 0.4373 - mean_absolute_error: 0.48 - ETA: 25s - loss: 0.4370 - mean_absolute_error: 0.48 - ETA: 25s - loss: 0.4368 - mean_absolute_error: 0.48 - ETA: 25s - loss: 0.4366 - mean_absolute_error: 0.48 - ETA: 25s - loss: 0.4372 - mean_absolute_error: 0.48 - ETA: 25s - loss: 0.4366 - mean_absolute_error: 0.48 - ETA: 25s - loss: 0.4367 - mean_absolute_error: 0.48 - ETA: 25s - loss: 0.4367 - mean_absolute_error: 0.48 - ETA: 25s - loss: 0.4376 - mean_absolute_error: 0.48 - ETA: 25s - loss: 0.4373 - mean_absolute_error: 0.48 - ETA: 25s - loss: 0.4369 - mean_absolute_error: 0.48 - ETA: 25s - loss: 0.4368 - mean_absolute_error: 0.48 - ETA: 25s - loss: 0.4368 - mean_absolute_error: 0.48 - ETA: 25s - loss: 0.4366 - mean_absolute_error: 0.48 - ETA: 24s - loss: 0.4372 - mean_absolute_error: 0.48 - ETA: 24s - loss: 0.4376 - mean_absolute_error: 0.48 - ETA: 24s - loss: 0.4373 - mean_absolute_error: 0.48 - ETA: 24s - loss: 0.4371 - mean_absolute_error: 0.48 - ETA: 24s - loss: 0.4367 - mean_absolute_error: 0.48 - ETA: 24s - loss: 0.4364 - mean_absolute_error: 0.48 - ETA: 24s - loss: 0.4367 - mean_absolute_error: 0.48 - ETA: 24s - loss: 0.4372 - mean_absolute_error: 0.48 - ETA: 24s - loss: 0.4369 - mean_absolute_error: 0.48 - ETA: 24s - loss: 0.4369 - mean_absolute_error: 0.48 - ETA: 24s - loss: 0.4370 - mean_absolute_error: 0.48 - ETA: 24s - loss: 0.4369 - mean_absolute_error: 0.48 - ETA: 24s - loss: 0.4366 - mean_absolute_error: 0.48 - ETA: 24s - loss: 0.4368 - mean_absolute_error: 0.48 - ETA: 24s - loss: 0.4364 - mean_absolute_error: 0.48 - ETA: 24s - loss: 0.4367 - mean_absolute_error: 0.48 - ETA: 24s - loss: 0.4365 - mean_absolute_error: 0.48 - ETA: 24s - loss: 0.4366 - mean_absolute_error: 0.48 - ETA: 23s - loss: 0.4371 - mean_absolute_error: 0.48 - ETA: 23s - loss: 0.4368 - mean_absolute_error: 0.48 - ETA: 23s - loss: 0.4366 - mean_absolute_error: 0.48 - ETA: 23s - loss: 0.4367 - mean_absolute_error: 0.48 - ETA: 23s - loss: 0.4368 - mean_absolute_error: 0.48 - ETA: 23s - loss: 0.4367 - mean_absolute_error: 0.48 - ETA: 23s - loss: 0.4374 - mean_absolute_error: 0.48 - ETA: 23s - loss: 0.4373 - mean_absolute_error: 0.48 - ETA: 23s - loss: 0.4369 - mean_absolute_error: 0.48 - ETA: 23s - loss: 0.4367 - mean_absolute_error: 0.48 - ETA: 23s - loss: 0.4368 - mean_absolute_error: 0.48 - ETA: 23s - loss: 0.4372 - mean_absolute_error: 0.48 - ETA: 23s - loss: 0.4372 - mean_absolute_error: 0.48 - ETA: 23s - loss: 0.4373 - mean_absolute_error: 0.48 - ETA: 23s - loss: 0.4372 - mean_absolute_error: 0.48 - ETA: 23s - loss: 0.4372 - mean_absolute_error: 0.48 - ETA: 23s - loss: 0.4370 - mean_absolute_error: 0.48 - ETA: 23s - loss: 0.4372 - mean_absolute_error: 0.48 - ETA: 23s - loss: 0.4376 - mean_absolute_error: 0.48 - ETA: 23s - loss: 0.4378 - mean_absolute_error: 0.48 - ETA: 23s - loss: 0.4378 - mean_absolute_error: 0.48 - ETA: 23s - loss: 0.4376 - mean_absolute_error: 0.48 - ETA: 23s - loss: 0.4376 - mean_absolute_error: 0.48 - ETA: 23s - loss: 0.4374 - mean_absolute_error: 0.48 - ETA: 23s - loss: 0.4373 - mean_absolute_error: 0.48 - ETA: 22s - loss: 0.4372 - mean_absolute_error: 0.48 - ETA: 22s - loss: 0.4373 - mean_absolute_error: 0.48 - ETA: 22s - loss: 0.4370 - mean_absolute_error: 0.48 - ETA: 22s - loss: 0.4374 - mean_absolute_error: 0.48 - ETA: 22s - loss: 0.4373 - mean_absolute_error: 0.48 - ETA: 22s - loss: 0.4379 - mean_absolute_error: 0.48 - ETA: 22s - loss: 0.4376 - mean_absolute_error: 0.48 - ETA: 22s - loss: 0.4381 - mean_absolute_error: 0.48 - ETA: 22s - loss: 0.4384 - mean_absolute_error: 0.48 - ETA: 22s - loss: 0.4383 - mean_absolute_error: 0.48 - ETA: 22s - loss: 0.4382 - mean_absolute_error: 0.48 - ETA: 22s - loss: 0.4378 - mean_absolute_error: 0.48 - ETA: 22s - loss: 0.4380 - mean_absolute_error: 0.48 - ETA: 22s - loss: 0.4381 - mean_absolute_error: 0.48 - ETA: 22s - loss: 0.4384 - mean_absolute_error: 0.48 - ETA: 22s - loss: 0.4389 - mean_absolute_error: 0.48 - ETA: 22s - loss: 0.4391 - mean_absolute_error: 0.48 - ETA: 22s - loss: 0.4390 - mean_absolute_error: 0.48 - ETA: 21s - loss: 0.4391 - mean_absolute_error: 0.48 - ETA: 21s - loss: 0.4390 - mean_absolute_error: 0.48 - ETA: 21s - loss: 0.4392 - mean_absolute_error: 0.48 - ETA: 21s - loss: 0.4397 - mean_absolute_error: 0.48 - ETA: 21s - loss: 0.4400 - mean_absolute_error: 0.48 - ETA: 21s - loss: 0.4404 - mean_absolute_error: 0.48 - ETA: 21s - loss: 0.4407 - mean_absolute_error: 0.48 - ETA: 21s - loss: 0.4410 - mean_absolute_error: 0.48 - ETA: 21s - loss: 0.4409 - mean_absolute_error: 0.48 - ETA: 21s - loss: 0.4404 - mean_absolute_error: 0.48 - ETA: 21s - loss: 0.4406 - mean_absolute_error: 0.48 - ETA: 21s - loss: 0.4401 - mean_absolute_error: 0.48 - ETA: 21s - loss: 0.4401 - mean_absolute_error: 0.48 - ETA: 21s - loss: 0.4401 - mean_absolute_error: 0.48 - ETA: 21s - loss: 0.4402 - mean_absolute_error: 0.48 - ETA: 21s - loss: 0.4400 - mean_absolute_error: 0.48 - ETA: 21s - loss: 0.4402 - mean_absolute_error: 0.48 - ETA: 21s - loss: 0.4403 - mean_absolute_error: 0.48 - ETA: 21s - loss: 0.4403 - mean_absolute_error: 0.48 - ETA: 21s - loss: 0.4408 - mean_absolute_error: 0.48 - ETA: 20s - loss: 0.4407 - mean_absolute_error: 0.48 - ETA: 20s - loss: 0.4405 - mean_absolute_error: 0.48 - ETA: 20s - loss: 0.4404 - mean_absolute_error: 0.48 - ETA: 20s - loss: 0.4407 - mean_absolute_error: 0.48 - ETA: 20s - loss: 0.4409 - mean_absolute_error: 0.48 - ETA: 20s - loss: 0.4407 - mean_absolute_error: 0.48 - ETA: 20s - loss: 0.4406 - mean_absolute_error: 0.48 - ETA: 20s - loss: 0.4403 - mean_absolute_error: 0.48 - ETA: 20s - loss: 0.4414 - mean_absolute_error: 0.48 - ETA: 20s - loss: 0.4415 - mean_absolute_error: 0.48 - ETA: 20s - loss: 0.4415 - mean_absolute_error: 0.48 - ETA: 20s - loss: 0.4413 - mean_absolute_error: 0.48 - ETA: 20s - loss: 0.4409 - mean_absolute_error: 0.48 - ETA: 20s - loss: 0.4405 - mean_absolute_error: 0.48 - ETA: 20s - loss: 0.4405 - mean_absolute_error: 0.48 - ETA: 20s - loss: 0.4405 - mean_absolute_error: 0.48 - ETA: 20s - loss: 0.4404 - mean_absolute_error: 0.48 - ETA: 20s - loss: 0.4402 - mean_absolute_error: 0.48 - ETA: 19s - loss: 0.4401 - mean_absolute_error: 0.48 - ETA: 19s - loss: 0.4401 - mean_absolute_error: 0.48 - ETA: 19s - loss: 0.4401 - mean_absolute_error: 0.48 - ETA: 19s - loss: 0.4401 - mean_absolute_error: 0.48 - ETA: 19s - loss: 0.4404 - mean_absolute_error: 0.48 - ETA: 19s - loss: 0.4402 - mean_absolute_error: 0.48 - ETA: 19s - loss: 0.4401 - mean_absolute_error: 0.48 - ETA: 19s - loss: 0.4398 - mean_absolute_error: 0.48 - ETA: 19s - loss: 0.4398 - mean_absolute_error: 0.48 - ETA: 19s - loss: 0.4397 - mean_absolute_error: 0.48 - ETA: 19s - loss: 0.4396 - mean_absolute_error: 0.48 - ETA: 19s - loss: 0.4398 - mean_absolute_error: 0.48 - ETA: 19s - loss: 0.4402 - mean_absolute_error: 0.48 - ETA: 19s - loss: 0.4406 - mean_absolute_error: 0.48 - ETA: 19s - loss: 0.4404 - mean_absolute_error: 0.4843122048/174938 [===================>..........] - ETA: 19s - loss: 0.4402 - mean_absolute_error: 0.48 - ETA: 19s - loss: 0.4400 - mean_absolute_error: 0.48 - ETA: 19s - loss: 0.4398 - mean_absolute_error: 0.48 - ETA: 18s - loss: 0.4398 - mean_absolute_error: 0.48 - ETA: 18s - loss: 0.4396 - mean_absolute_error: 0.48 - ETA: 18s - loss: 0.4395 - mean_absolute_error: 0.48 - ETA: 18s - loss: 0.4397 - mean_absolute_error: 0.48 - ETA: 18s - loss: 0.4397 - mean_absolute_error: 0.48 - ETA: 18s - loss: 0.4397 - mean_absolute_error: 0.48 - ETA: 18s - loss: 0.4398 - mean_absolute_error: 0.48 - ETA: 18s - loss: 0.4401 - mean_absolute_error: 0.48 - ETA: 18s - loss: 0.4397 - mean_absolute_error: 0.48 - ETA: 18s - loss: 0.4397 - mean_absolute_error: 0.48 - ETA: 18s - loss: 0.4397 - mean_absolute_error: 0.48 - ETA: 18s - loss: 0.4394 - mean_absolute_error: 0.48 - ETA: 18s - loss: 0.4395 - mean_absolute_error: 0.48 - ETA: 18s - loss: 0.4394 - mean_absolute_error: 0.48 - ETA: 18s - loss: 0.4393 - mean_absolute_error: 0.48 - ETA: 18s - loss: 0.4392 - mean_absolute_error: 0.48 - ETA: 17s - loss: 0.4391 - mean_absolute_error: 0.48 - ETA: 17s - loss: 0.4390 - mean_absolute_error: 0.48 - ETA: 17s - loss: 0.4390 - mean_absolute_error: 0.48 - ETA: 17s - loss: 0.4391 - mean_absolute_error: 0.48 - ETA: 17s - loss: 0.4396 - mean_absolute_error: 0.48 - ETA: 17s - loss: 0.4396 - mean_absolute_error: 0.48 - ETA: 17s - loss: 0.4395 - mean_absolute_error: 0.48 - ETA: 17s - loss: 0.4394 - mean_absolute_error: 0.48 - ETA: 17s - loss: 0.4397 - mean_absolute_error: 0.48 - ETA: 17s - loss: 0.4397 - mean_absolute_error: 0.48 - ETA: 17s - loss: 0.4394 - mean_absolute_error: 0.48 - ETA: 17s - loss: 0.4395 - mean_absolute_error: 0.48 - ETA: 17s - loss: 0.4394 - mean_absolute_error: 0.48 - ETA: 17s - loss: 0.4397 - mean_absolute_error: 0.48 - ETA: 17s - loss: 0.4396 - mean_absolute_error: 0.48 - ETA: 17s - loss: 0.4398 - mean_absolute_error: 0.48 - ETA: 17s - loss: 0.4397 - mean_absolute_error: 0.48 - ETA: 16s - loss: 0.4396 - mean_absolute_error: 0.48 - ETA: 16s - loss: 0.4394 - mean_absolute_error: 0.48 - ETA: 16s - loss: 0.4398 - mean_absolute_error: 0.48 - ETA: 16s - loss: 0.4398 - mean_absolute_error: 0.48 - ETA: 16s - loss: 0.4398 - mean_absolute_error: 0.48 - ETA: 16s - loss: 0.4395 - mean_absolute_error: 0.48 - ETA: 16s - loss: 0.4392 - mean_absolute_error: 0.48 - ETA: 16s - loss: 0.4392 - mean_absolute_error: 0.48 - ETA: 16s - loss: 0.4394 - mean_absolute_error: 0.48 - ETA: 16s - loss: 0.4393 - mean_absolute_error: 0.48 - ETA: 16s - loss: 0.4391 - mean_absolute_error: 0.48 - ETA: 16s - loss: 0.4393 - mean_absolute_error: 0.48 - ETA: 16s - loss: 0.4388 - mean_absolute_error: 0.48 - ETA: 16s - loss: 0.4386 - mean_absolute_error: 0.48 - ETA: 16s - loss: 0.4387 - mean_absolute_error: 0.48 - ETA: 16s - loss: 0.4387 - mean_absolute_error: 0.48 - ETA: 16s - loss: 0.4389 - mean_absolute_error: 0.48 - ETA: 15s - loss: 0.4389 - mean_absolute_error: 0.48 - ETA: 15s - loss: 0.4394 - mean_absolute_error: 0.48 - ETA: 15s - loss: 0.4393 - mean_absolute_error: 0.48 - ETA: 15s - loss: 0.4391 - mean_absolute_error: 0.48 - ETA: 15s - loss: 0.4392 - mean_absolute_error: 0.48 - ETA: 15s - loss: 0.4392 - mean_absolute_error: 0.48 - ETA: 15s - loss: 0.4392 - mean_absolute_error: 0.48 - ETA: 15s - loss: 0.4395 - mean_absolute_error: 0.48 - ETA: 15s - loss: 0.4397 - mean_absolute_error: 0.48 - ETA: 15s - loss: 0.4399 - mean_absolute_error: 0.48 - ETA: 15s - loss: 0.4398 - mean_absolute_error: 0.48 - ETA: 15s - loss: 0.4396 - mean_absolute_error: 0.48 - ETA: 15s - loss: 0.4396 - mean_absolute_error: 0.48 - ETA: 15s - loss: 0.4393 - mean_absolute_error: 0.48 - ETA: 15s - loss: 0.4395 - mean_absolute_error: 0.48 - ETA: 15s - loss: 0.4399 - mean_absolute_error: 0.48 - ETA: 14s - loss: 0.4399 - mean_absolute_error: 0.48 - ETA: 14s - loss: 0.4400 - mean_absolute_error: 0.48 - ETA: 14s - loss: 0.4401 - mean_absolute_error: 0.48 - ETA: 14s - loss: 0.4403 - mean_absolute_error: 0.48 - ETA: 14s - loss: 0.4402 - mean_absolute_error: 0.48 - ETA: 14s - loss: 0.4400 - mean_absolute_error: 0.48 - ETA: 14s - loss: 0.4400 - mean_absolute_error: 0.48 - ETA: 14s - loss: 0.4397 - mean_absolute_error: 0.48 - ETA: 14s - loss: 0.4396 - mean_absolute_error: 0.48 - ETA: 14s - loss: 0.4398 - mean_absolute_error: 0.48 - ETA: 14s - loss: 0.4399 - mean_absolute_error: 0.48 - ETA: 14s - loss: 0.4397 - mean_absolute_error: 0.48 - ETA: 14s - loss: 0.4398 - mean_absolute_error: 0.48 - ETA: 14s - loss: 0.4396 - mean_absolute_error: 0.48 - ETA: 14s - loss: 0.4395 - mean_absolute_error: 0.48 - ETA: 14s - loss: 0.4393 - mean_absolute_error: 0.48 - ETA: 14s - loss: 0.4391 - mean_absolute_error: 0.48 - ETA: 14s - loss: 0.4391 - mean_absolute_error: 0.48 - ETA: 13s - loss: 0.4391 - mean_absolute_error: 0.48 - ETA: 13s - loss: 0.4394 - mean_absolute_error: 0.48 - ETA: 13s - loss: 0.4394 - mean_absolute_error: 0.48 - ETA: 13s - loss: 0.4397 - mean_absolute_error: 0.48 - ETA: 13s - loss: 0.4399 - mean_absolute_error: 0.48 - ETA: 13s - loss: 0.4402 - mean_absolute_error: 0.48 - ETA: 13s - loss: 0.4403 - mean_absolute_error: 0.48 - ETA: 13s - loss: 0.4401 - mean_absolute_error: 0.48 - ETA: 13s - loss: 0.4403 - mean_absolute_error: 0.48 - ETA: 13s - loss: 0.4405 - mean_absolute_error: 0.48 - ETA: 13s - loss: 0.4407 - mean_absolute_error: 0.48 - ETA: 13s - loss: 0.4406 - mean_absolute_error: 0.48 - ETA: 13s - loss: 0.4407 - mean_absolute_error: 0.48 - ETA: 13s - loss: 0.4405 - mean_absolute_error: 0.48 - ETA: 13s - loss: 0.4406 - mean_absolute_error: 0.48 - ETA: 13s - loss: 0.4406 - mean_absolute_error: 0.48 - ETA: 13s - loss: 0.4409 - mean_absolute_error: 0.48 - ETA: 12s - loss: 0.4411 - mean_absolute_error: 0.48 - ETA: 12s - loss: 0.4412 - mean_absolute_error: 0.48 - ETA: 12s - loss: 0.4409 - mean_absolute_error: 0.48 - ETA: 12s - loss: 0.4410 - mean_absolute_error: 0.48 - ETA: 12s - loss: 0.4408 - mean_absolute_error: 0.48 - ETA: 12s - loss: 0.4407 - mean_absolute_error: 0.48 - ETA: 12s - loss: 0.4409 - mean_absolute_error: 0.48 - ETA: 12s - loss: 0.4412 - mean_absolute_error: 0.48 - ETA: 12s - loss: 0.4412 - mean_absolute_error: 0.48 - ETA: 12s - loss: 0.4413 - mean_absolute_error: 0.48 - ETA: 12s - loss: 0.4414 - mean_absolute_error: 0.48 - ETA: 12s - loss: 0.4415 - mean_absolute_error: 0.48 - ETA: 12s - loss: 0.4418 - mean_absolute_error: 0.48 - ETA: 12s - loss: 0.4417 - mean_absolute_error: 0.48 - ETA: 12s - loss: 0.4417 - mean_absolute_error: 0.48 - ETA: 12s - loss: 0.4416 - mean_absolute_error: 0.48 - ETA: 12s - loss: 0.4417 - mean_absolute_error: 0.48 - ETA: 11s - loss: 0.4415 - mean_absolute_error: 0.48 - ETA: 11s - loss: 0.4414 - mean_absolute_error: 0.48 - ETA: 11s - loss: 0.4413 - mean_absolute_error: 0.48 - ETA: 11s - loss: 0.4413 - mean_absolute_error: 0.48 - ETA: 11s - loss: 0.4416 - mean_absolute_error: 0.48 - ETA: 11s - loss: 0.4416 - mean_absolute_error: 0.48 - ETA: 11s - loss: 0.4416 - mean_absolute_error: 0.48 - ETA: 11s - loss: 0.4414 - mean_absolute_error: 0.48 - ETA: 11s - loss: 0.4413 - mean_absolute_error: 0.48 - ETA: 11s - loss: 0.4414 - mean_absolute_error: 0.48 - ETA: 11s - loss: 0.4414 - mean_absolute_error: 0.48 - ETA: 11s - loss: 0.4415 - mean_absolute_error: 0.48 - ETA: 11s - loss: 0.4416 - mean_absolute_error: 0.48 - ETA: 11s - loss: 0.4417 - mean_absolute_error: 0.48 - ETA: 11s - loss: 0.4418 - mean_absolute_error: 0.48 - ETA: 11s - loss: 0.4418 - mean_absolute_error: 0.48 - ETA: 11s - loss: 0.4417 - mean_absolute_error: 0.48 - ETA: 11s - loss: 0.4416 - mean_absolute_error: 0.48 - ETA: 10s - loss: 0.4415 - mean_absolute_error: 0.48 - ETA: 10s - loss: 0.4417 - mean_absolute_error: 0.48 - ETA: 10s - loss: 0.4415 - mean_absolute_error: 0.48 - ETA: 10s - loss: 0.4414 - mean_absolute_error: 0.48 - ETA: 10s - loss: 0.4413 - mean_absolute_error: 0.48 - ETA: 10s - loss: 0.4415 - mean_absolute_error: 0.48 - ETA: 10s - loss: 0.4414 - mean_absolute_error: 0.48 - ETA: 10s - loss: 0.4413 - mean_absolute_error: 0.48 - ETA: 10s - loss: 0.4412 - mean_absolute_error: 0.48 - ETA: 10s - loss: 0.4410 - mean_absolute_error: 0.48 - ETA: 10s - loss: 0.4410 - mean_absolute_error: 0.48 - ETA: 10s - loss: 0.4410 - mean_absolute_error: 0.4851"
     ]
    },
    {
     "name": "stdout",
     "output_type": "stream",
     "text": [
      "160416/174938 [==========================>...] - ETA: 10s - loss: 0.4412 - mean_absolute_error: 0.48 - ETA: 10s - loss: 0.4413 - mean_absolute_error: 0.48 - ETA: 10s - loss: 0.4415 - mean_absolute_error: 0.48 - ETA: 10s - loss: 0.4414 - mean_absolute_error: 0.48 - ETA: 10s - loss: 0.4412 - mean_absolute_error: 0.48 - ETA: 10s - loss: 0.4411 - mean_absolute_error: 0.48 - ETA: 10s - loss: 0.4412 - mean_absolute_error: 0.48 - ETA: 10s - loss: 0.4411 - mean_absolute_error: 0.48 - ETA: 10s - loss: 0.4414 - mean_absolute_error: 0.48 - ETA: 9s - loss: 0.4413 - mean_absolute_error: 0.4851 - ETA: 9s - loss: 0.4414 - mean_absolute_error: 0.485 - ETA: 9s - loss: 0.4414 - mean_absolute_error: 0.485 - ETA: 9s - loss: 0.4413 - mean_absolute_error: 0.485 - ETA: 9s - loss: 0.4414 - mean_absolute_error: 0.485 - ETA: 9s - loss: 0.4411 - mean_absolute_error: 0.485 - ETA: 9s - loss: 0.4411 - mean_absolute_error: 0.485 - ETA: 9s - loss: 0.4409 - mean_absolute_error: 0.485 - ETA: 9s - loss: 0.4410 - mean_absolute_error: 0.485 - ETA: 9s - loss: 0.4412 - mean_absolute_error: 0.485 - ETA: 9s - loss: 0.4412 - mean_absolute_error: 0.485 - ETA: 9s - loss: 0.4411 - mean_absolute_error: 0.485 - ETA: 9s - loss: 0.4412 - mean_absolute_error: 0.485 - ETA: 9s - loss: 0.4411 - mean_absolute_error: 0.485 - ETA: 9s - loss: 0.4410 - mean_absolute_error: 0.485 - ETA: 9s - loss: 0.4408 - mean_absolute_error: 0.485 - ETA: 9s - loss: 0.4407 - mean_absolute_error: 0.485 - ETA: 9s - loss: 0.4408 - mean_absolute_error: 0.485 - ETA: 8s - loss: 0.4404 - mean_absolute_error: 0.484 - ETA: 8s - loss: 0.4404 - mean_absolute_error: 0.484 - ETA: 8s - loss: 0.4403 - mean_absolute_error: 0.484 - ETA: 8s - loss: 0.4403 - mean_absolute_error: 0.484 - ETA: 8s - loss: 0.4405 - mean_absolute_error: 0.484 - ETA: 8s - loss: 0.4405 - mean_absolute_error: 0.484 - ETA: 8s - loss: 0.4406 - mean_absolute_error: 0.485 - ETA: 8s - loss: 0.4406 - mean_absolute_error: 0.485 - ETA: 8s - loss: 0.4406 - mean_absolute_error: 0.485 - ETA: 8s - loss: 0.4407 - mean_absolute_error: 0.485 - ETA: 8s - loss: 0.4408 - mean_absolute_error: 0.485 - ETA: 8s - loss: 0.4408 - mean_absolute_error: 0.485 - ETA: 8s - loss: 0.4408 - mean_absolute_error: 0.485 - ETA: 8s - loss: 0.4408 - mean_absolute_error: 0.485 - ETA: 8s - loss: 0.4408 - mean_absolute_error: 0.485 - ETA: 8s - loss: 0.4408 - mean_absolute_error: 0.485 - ETA: 8s - loss: 0.4407 - mean_absolute_error: 0.485 - ETA: 8s - loss: 0.4407 - mean_absolute_error: 0.485 - ETA: 8s - loss: 0.4407 - mean_absolute_error: 0.485 - ETA: 8s - loss: 0.4407 - mean_absolute_error: 0.485 - ETA: 7s - loss: 0.4406 - mean_absolute_error: 0.485 - ETA: 7s - loss: 0.4406 - mean_absolute_error: 0.485 - ETA: 7s - loss: 0.4406 - mean_absolute_error: 0.485 - ETA: 7s - loss: 0.4408 - mean_absolute_error: 0.485 - ETA: 7s - loss: 0.4409 - mean_absolute_error: 0.485 - ETA: 7s - loss: 0.4410 - mean_absolute_error: 0.485 - ETA: 7s - loss: 0.4409 - mean_absolute_error: 0.485 - ETA: 7s - loss: 0.4410 - mean_absolute_error: 0.485 - ETA: 7s - loss: 0.4410 - mean_absolute_error: 0.485 - ETA: 7s - loss: 0.4410 - mean_absolute_error: 0.485 - ETA: 7s - loss: 0.4410 - mean_absolute_error: 0.485 - ETA: 7s - loss: 0.4408 - mean_absolute_error: 0.485 - ETA: 7s - loss: 0.4410 - mean_absolute_error: 0.485 - ETA: 7s - loss: 0.4407 - mean_absolute_error: 0.485 - ETA: 7s - loss: 0.4406 - mean_absolute_error: 0.485 - ETA: 7s - loss: 0.4405 - mean_absolute_error: 0.485 - ETA: 7s - loss: 0.4403 - mean_absolute_error: 0.484 - ETA: 7s - loss: 0.4404 - mean_absolute_error: 0.485 - ETA: 7s - loss: 0.4404 - mean_absolute_error: 0.485 - ETA: 7s - loss: 0.4405 - mean_absolute_error: 0.485 - ETA: 7s - loss: 0.4407 - mean_absolute_error: 0.485 - ETA: 6s - loss: 0.4406 - mean_absolute_error: 0.485 - ETA: 6s - loss: 0.4406 - mean_absolute_error: 0.485 - ETA: 6s - loss: 0.4407 - mean_absolute_error: 0.485 - ETA: 6s - loss: 0.4406 - mean_absolute_error: 0.485 - ETA: 6s - loss: 0.4406 - mean_absolute_error: 0.485 - ETA: 6s - loss: 0.4404 - mean_absolute_error: 0.485 - ETA: 6s - loss: 0.4403 - mean_absolute_error: 0.484 - ETA: 6s - loss: 0.4404 - mean_absolute_error: 0.485 - ETA: 6s - loss: 0.4406 - mean_absolute_error: 0.485 - ETA: 6s - loss: 0.4406 - mean_absolute_error: 0.485 - ETA: 6s - loss: 0.4404 - mean_absolute_error: 0.484 - ETA: 6s - loss: 0.4405 - mean_absolute_error: 0.484 - ETA: 6s - loss: 0.4404 - mean_absolute_error: 0.484 - ETA: 6s - loss: 0.4402 - mean_absolute_error: 0.484 - ETA: 6s - loss: 0.4403 - mean_absolute_error: 0.484 - ETA: 6s - loss: 0.4402 - mean_absolute_error: 0.484 - ETA: 6s - loss: 0.4402 - mean_absolute_error: 0.484 - ETA: 6s - loss: 0.4403 - mean_absolute_error: 0.484 - ETA: 6s - loss: 0.4403 - mean_absolute_error: 0.485 - ETA: 6s - loss: 0.4403 - mean_absolute_error: 0.484 - ETA: 5s - loss: 0.4403 - mean_absolute_error: 0.485 - ETA: 5s - loss: 0.4405 - mean_absolute_error: 0.485 - ETA: 5s - loss: 0.4406 - mean_absolute_error: 0.485 - ETA: 5s - loss: 0.4404 - mean_absolute_error: 0.485 - ETA: 5s - loss: 0.4402 - mean_absolute_error: 0.484 - ETA: 5s - loss: 0.4402 - mean_absolute_error: 0.484 - ETA: 5s - loss: 0.4400 - mean_absolute_error: 0.484 - ETA: 5s - loss: 0.4399 - mean_absolute_error: 0.484 - ETA: 5s - loss: 0.4399 - mean_absolute_error: 0.484 - ETA: 5s - loss: 0.4400 - mean_absolute_error: 0.484 - ETA: 5s - loss: 0.4402 - mean_absolute_error: 0.485 - ETA: 5s - loss: 0.4401 - mean_absolute_error: 0.485 - ETA: 5s - loss: 0.4400 - mean_absolute_error: 0.484 - ETA: 5s - loss: 0.4401 - mean_absolute_error: 0.485 - ETA: 5s - loss: 0.4402 - mean_absolute_error: 0.485 - ETA: 5s - loss: 0.4403 - mean_absolute_error: 0.485 - ETA: 5s - loss: 0.4403 - mean_absolute_error: 0.485 - ETA: 5s - loss: 0.4402 - mean_absolute_error: 0.485 - ETA: 5s - loss: 0.4402 - mean_absolute_error: 0.485 - ETA: 4s - loss: 0.4403 - mean_absolute_error: 0.485 - ETA: 4s - loss: 0.4405 - mean_absolute_error: 0.485 - ETA: 4s - loss: 0.4406 - mean_absolute_error: 0.485 - ETA: 4s - loss: 0.4404 - mean_absolute_error: 0.485 - ETA: 4s - loss: 0.4404 - mean_absolute_error: 0.485 - ETA: 4s - loss: 0.4404 - mean_absolute_error: 0.485 - ETA: 4s - loss: 0.4403 - mean_absolute_error: 0.485 - ETA: 4s - loss: 0.4402 - mean_absolute_error: 0.484 - ETA: 4s - loss: 0.4402 - mean_absolute_error: 0.484 - ETA: 4s - loss: 0.4400 - mean_absolute_error: 0.484 - ETA: 4s - loss: 0.4401 - mean_absolute_error: 0.484 - ETA: 4s - loss: 0.4399 - mean_absolute_error: 0.484 - ETA: 4s - loss: 0.4400 - mean_absolute_error: 0.484 - ETA: 4s - loss: 0.4399 - mean_absolute_error: 0.484 - ETA: 4s - loss: 0.4401 - mean_absolute_error: 0.484 - ETA: 4s - loss: 0.4403 - mean_absolute_error: 0.484 - ETA: 4s - loss: 0.4402 - mean_absolute_error: 0.484 - ETA: 4s - loss: 0.4401 - mean_absolute_error: 0.484 - ETA: 4s - loss: 0.4403 - mean_absolute_error: 0.485 - ETA: 4s - loss: 0.4403 - mean_absolute_error: 0.484 - ETA: 3s - loss: 0.4402 - mean_absolute_error: 0.484 - ETA: 3s - loss: 0.4402 - mean_absolute_error: 0.484 - ETA: 3s - loss: 0.4402 - mean_absolute_error: 0.484 - ETA: 3s - loss: 0.4402 - mean_absolute_error: 0.484 - ETA: 3s - loss: 0.4402 - mean_absolute_error: 0.484 - ETA: 3s - loss: 0.4402 - mean_absolute_error: 0.484 - ETA: 3s - loss: 0.4404 - mean_absolute_error: 0.484 - ETA: 3s - loss: 0.4406 - mean_absolute_error: 0.485 - ETA: 3s - loss: 0.4408 - mean_absolute_error: 0.485 - ETA: 3s - loss: 0.4408 - mean_absolute_error: 0.485 - ETA: 3s - loss: 0.4409 - mean_absolute_error: 0.485 - ETA: 3s - loss: 0.4410 - mean_absolute_error: 0.485 - ETA: 3s - loss: 0.4409 - mean_absolute_error: 0.485 - ETA: 3s - loss: 0.4408 - mean_absolute_error: 0.485 - ETA: 3s - loss: 0.4408 - mean_absolute_error: 0.485 - ETA: 3s - loss: 0.4408 - mean_absolute_error: 0.485 - ETA: 3s - loss: 0.4408 - mean_absolute_error: 0.485 - ETA: 3s - loss: 0.4409 - mean_absolute_error: 0.485 - ETA: 3s - loss: 0.4407 - mean_absolute_error: 0.485 - ETA: 3s - loss: 0.4407 - mean_absolute_error: 0.485 - ETA: 3s - loss: 0.4406 - mean_absolute_error: 0.485 - ETA: 3s - loss: 0.4405 - mean_absolute_error: 0.484 - ETA: 2s - loss: 0.4405 - mean_absolute_error: 0.484 - ETA: 2s - loss: 0.4405 - mean_absolute_error: 0.4849"
     ]
    },
    {
     "name": "stdout",
     "output_type": "stream",
     "text": [
      "174938/174938 [==============================] - ETA: 2s - loss: 0.4403 - mean_absolute_error: 0.484 - ETA: 2s - loss: 0.4403 - mean_absolute_error: 0.484 - ETA: 2s - loss: 0.4404 - mean_absolute_error: 0.484 - ETA: 2s - loss: 0.4402 - mean_absolute_error: 0.484 - ETA: 2s - loss: 0.4402 - mean_absolute_error: 0.484 - ETA: 2s - loss: 0.4401 - mean_absolute_error: 0.484 - ETA: 2s - loss: 0.4401 - mean_absolute_error: 0.484 - ETA: 2s - loss: 0.4399 - mean_absolute_error: 0.484 - ETA: 2s - loss: 0.4400 - mean_absolute_error: 0.484 - ETA: 2s - loss: 0.4400 - mean_absolute_error: 0.484 - ETA: 2s - loss: 0.4400 - mean_absolute_error: 0.484 - ETA: 2s - loss: 0.4400 - mean_absolute_error: 0.484 - ETA: 2s - loss: 0.4400 - mean_absolute_error: 0.484 - ETA: 2s - loss: 0.4400 - mean_absolute_error: 0.484 - ETA: 2s - loss: 0.4399 - mean_absolute_error: 0.484 - ETA: 2s - loss: 0.4397 - mean_absolute_error: 0.484 - ETA: 2s - loss: 0.4396 - mean_absolute_error: 0.484 - ETA: 2s - loss: 0.4398 - mean_absolute_error: 0.484 - ETA: 2s - loss: 0.4396 - mean_absolute_error: 0.484 - ETA: 1s - loss: 0.4396 - mean_absolute_error: 0.484 - ETA: 1s - loss: 0.4396 - mean_absolute_error: 0.484 - ETA: 1s - loss: 0.4396 - mean_absolute_error: 0.484 - ETA: 1s - loss: 0.4397 - mean_absolute_error: 0.484 - ETA: 1s - loss: 0.4396 - mean_absolute_error: 0.484 - ETA: 1s - loss: 0.4398 - mean_absolute_error: 0.484 - ETA: 1s - loss: 0.4398 - mean_absolute_error: 0.484 - ETA: 1s - loss: 0.4396 - mean_absolute_error: 0.484 - ETA: 1s - loss: 0.4396 - mean_absolute_error: 0.484 - ETA: 1s - loss: 0.4397 - mean_absolute_error: 0.484 - ETA: 1s - loss: 0.4397 - mean_absolute_error: 0.484 - ETA: 1s - loss: 0.4396 - mean_absolute_error: 0.484 - ETA: 1s - loss: 0.4398 - mean_absolute_error: 0.484 - ETA: 1s - loss: 0.4399 - mean_absolute_error: 0.484 - ETA: 1s - loss: 0.4396 - mean_absolute_error: 0.484 - ETA: 1s - loss: 0.4395 - mean_absolute_error: 0.484 - ETA: 1s - loss: 0.4395 - mean_absolute_error: 0.484 - ETA: 1s - loss: 0.4397 - mean_absolute_error: 0.484 - ETA: 0s - loss: 0.4396 - mean_absolute_error: 0.484 - ETA: 0s - loss: 0.4396 - mean_absolute_error: 0.484 - ETA: 0s - loss: 0.4396 - mean_absolute_error: 0.484 - ETA: 0s - loss: 0.4398 - mean_absolute_error: 0.484 - ETA: 0s - loss: 0.4400 - mean_absolute_error: 0.484 - ETA: 0s - loss: 0.4399 - mean_absolute_error: 0.484 - ETA: 0s - loss: 0.4398 - mean_absolute_error: 0.484 - ETA: 0s - loss: 0.4397 - mean_absolute_error: 0.484 - ETA: 0s - loss: 0.4398 - mean_absolute_error: 0.484 - ETA: 0s - loss: 0.4397 - mean_absolute_error: 0.484 - ETA: 0s - loss: 0.4398 - mean_absolute_error: 0.484 - ETA: 0s - loss: 0.4397 - mean_absolute_error: 0.484 - ETA: 0s - loss: 0.4396 - mean_absolute_error: 0.484 - ETA: 0s - loss: 0.4397 - mean_absolute_error: 0.484 - ETA: 0s - loss: 0.4398 - mean_absolute_error: 0.484 - ETA: 0s - loss: 0.4397 - mean_absolute_error: 0.484 - ETA: 0s - loss: 0.4396 - mean_absolute_error: 0.484 - ETA: 0s - loss: 0.4396 - mean_absolute_error: 0.484 - ETA: 0s - loss: 0.4397 - mean_absolute_error: 0.484 - ETA: 0s - loss: 0.4398 - mean_absolute_error: 0.484 - 38s - loss: 0.4400 - mean_absolute_error: 0.4846 - val_loss: 0.5467 - val_mean_absolute_error: 0.5733\n",
      "Epoch 6/10\n"
     ]
    },
    {
     "name": "stdout",
     "output_type": "stream",
     "text": [
      " 40896/174938 [======>.......................] - ETA: 109s - loss: 0.3577 - mean_absolute_error: 0.478 - ETA: 39s - loss: 0.3437 - mean_absolute_error: 0.441 - ETA: 42s - loss: 0.3593 - mean_absolute_error: 0.45 - ETA: 39s - loss: 0.3591 - mean_absolute_error: 0.45 - ETA: 37s - loss: 0.3861 - mean_absolute_error: 0.47 - ETA: 37s - loss: 0.3933 - mean_absolute_error: 0.47 - ETA: 36s - loss: 0.4112 - mean_absolute_error: 0.48 - ETA: 36s - loss: 0.4120 - mean_absolute_error: 0.48 - ETA: 35s - loss: 0.4182 - mean_absolute_error: 0.48 - ETA: 35s - loss: 0.4219 - mean_absolute_error: 0.48 - ETA: 35s - loss: 0.4134 - mean_absolute_error: 0.48 - ETA: 35s - loss: 0.4088 - mean_absolute_error: 0.47 - ETA: 35s - loss: 0.4022 - mean_absolute_error: 0.47 - ETA: 34s - loss: 0.4094 - mean_absolute_error: 0.47 - ETA: 34s - loss: 0.4124 - mean_absolute_error: 0.47 - ETA: 34s - loss: 0.4099 - mean_absolute_error: 0.47 - ETA: 34s - loss: 0.4125 - mean_absolute_error: 0.47 - ETA: 34s - loss: 0.4149 - mean_absolute_error: 0.47 - ETA: 34s - loss: 0.4202 - mean_absolute_error: 0.47 - ETA: 34s - loss: 0.4158 - mean_absolute_error: 0.47 - ETA: 34s - loss: 0.4213 - mean_absolute_error: 0.47 - ETA: 34s - loss: 0.4208 - mean_absolute_error: 0.47 - ETA: 34s - loss: 0.4208 - mean_absolute_error: 0.47 - ETA: 33s - loss: 0.4210 - mean_absolute_error: 0.47 - ETA: 33s - loss: 0.4256 - mean_absolute_error: 0.48 - ETA: 33s - loss: 0.4231 - mean_absolute_error: 0.47 - ETA: 33s - loss: 0.4219 - mean_absolute_error: 0.47 - ETA: 33s - loss: 0.4199 - mean_absolute_error: 0.47 - ETA: 33s - loss: 0.4257 - mean_absolute_error: 0.48 - ETA: 33s - loss: 0.4274 - mean_absolute_error: 0.48 - ETA: 33s - loss: 0.4280 - mean_absolute_error: 0.48 - ETA: 33s - loss: 0.4266 - mean_absolute_error: 0.48 - ETA: 33s - loss: 0.4270 - mean_absolute_error: 0.48 - ETA: 32s - loss: 0.4296 - mean_absolute_error: 0.48 - ETA: 32s - loss: 0.4329 - mean_absolute_error: 0.48 - ETA: 32s - loss: 0.4313 - mean_absolute_error: 0.48 - ETA: 32s - loss: 0.4308 - mean_absolute_error: 0.48 - ETA: 32s - loss: 0.4337 - mean_absolute_error: 0.48 - ETA: 32s - loss: 0.4345 - mean_absolute_error: 0.48 - ETA: 32s - loss: 0.4329 - mean_absolute_error: 0.48 - ETA: 32s - loss: 0.4321 - mean_absolute_error: 0.48 - ETA: 32s - loss: 0.4318 - mean_absolute_error: 0.48 - ETA: 32s - loss: 0.4314 - mean_absolute_error: 0.48 - ETA: 32s - loss: 0.4303 - mean_absolute_error: 0.48 - ETA: 32s - loss: 0.4306 - mean_absolute_error: 0.48 - ETA: 32s - loss: 0.4315 - mean_absolute_error: 0.48 - ETA: 32s - loss: 0.4312 - mean_absolute_error: 0.48 - ETA: 32s - loss: 0.4311 - mean_absolute_error: 0.48 - ETA: 32s - loss: 0.4345 - mean_absolute_error: 0.48 - ETA: 31s - loss: 0.4348 - mean_absolute_error: 0.48 - ETA: 31s - loss: 0.4346 - mean_absolute_error: 0.48 - ETA: 31s - loss: 0.4330 - mean_absolute_error: 0.48 - ETA: 31s - loss: 0.4310 - mean_absolute_error: 0.48 - ETA: 31s - loss: 0.4308 - mean_absolute_error: 0.48 - ETA: 31s - loss: 0.4293 - mean_absolute_error: 0.48 - ETA: 31s - loss: 0.4271 - mean_absolute_error: 0.48 - ETA: 31s - loss: 0.4274 - mean_absolute_error: 0.48 - ETA: 31s - loss: 0.4265 - mean_absolute_error: 0.47 - ETA: 31s - loss: 0.4296 - mean_absolute_error: 0.48 - ETA: 31s - loss: 0.4294 - mean_absolute_error: 0.48 - ETA: 31s - loss: 0.4309 - mean_absolute_error: 0.48 - ETA: 31s - loss: 0.4310 - mean_absolute_error: 0.48 - ETA: 30s - loss: 0.4295 - mean_absolute_error: 0.48 - ETA: 30s - loss: 0.4280 - mean_absolute_error: 0.47 - ETA: 30s - loss: 0.4286 - mean_absolute_error: 0.47 - ETA: 30s - loss: 0.4291 - mean_absolute_error: 0.47 - ETA: 30s - loss: 0.4292 - mean_absolute_error: 0.47 - ETA: 30s - loss: 0.4290 - mean_absolute_error: 0.48 - ETA: 30s - loss: 0.4304 - mean_absolute_error: 0.48 - ETA: 30s - loss: 0.4310 - mean_absolute_error: 0.48 - ETA: 30s - loss: 0.4305 - mean_absolute_error: 0.48 - ETA: 30s - loss: 0.4294 - mean_absolute_error: 0.48 - ETA: 30s - loss: 0.4294 - mean_absolute_error: 0.48 - ETA: 30s - loss: 0.4291 - mean_absolute_error: 0.48 - ETA: 30s - loss: 0.4283 - mean_absolute_error: 0.47 - ETA: 30s - loss: 0.4302 - mean_absolute_error: 0.48 - ETA: 30s - loss: 0.4306 - mean_absolute_error: 0.47 - ETA: 30s - loss: 0.4307 - mean_absolute_error: 0.48 - ETA: 29s - loss: 0.4299 - mean_absolute_error: 0.47 - ETA: 29s - loss: 0.4303 - mean_absolute_error: 0.48 - ETA: 29s - loss: 0.4309 - mean_absolute_error: 0.48 - ETA: 29s - loss: 0.4318 - mean_absolute_error: 0.48 - ETA: 29s - loss: 0.4317 - mean_absolute_error: 0.48 - ETA: 29s - loss: 0.4315 - mean_absolute_error: 0.48 - ETA: 29s - loss: 0.4316 - mean_absolute_error: 0.48 - ETA: 29s - loss: 0.4310 - mean_absolute_error: 0.48 - ETA: 29s - loss: 0.4306 - mean_absolute_error: 0.48 - ETA: 29s - loss: 0.4302 - mean_absolute_error: 0.48 - ETA: 29s - loss: 0.4306 - mean_absolute_error: 0.48 - ETA: 29s - loss: 0.4304 - mean_absolute_error: 0.47 - ETA: 29s - loss: 0.4305 - mean_absolute_error: 0.48 - ETA: 29s - loss: 0.4299 - mean_absolute_error: 0.47 - ETA: 29s - loss: 0.4295 - mean_absolute_error: 0.47 - ETA: 29s - loss: 0.4284 - mean_absolute_error: 0.47 - ETA: 29s - loss: 0.4290 - mean_absolute_error: 0.47 - ETA: 29s - loss: 0.4287 - mean_absolute_error: 0.47 - ETA: 29s - loss: 0.4282 - mean_absolute_error: 0.47 - ETA: 29s - loss: 0.4279 - mean_absolute_error: 0.47 - ETA: 29s - loss: 0.4286 - mean_absolute_error: 0.47 - ETA: 28s - loss: 0.4280 - mean_absolute_error: 0.47 - ETA: 28s - loss: 0.4283 - mean_absolute_error: 0.47 - ETA: 28s - loss: 0.4274 - mean_absolute_error: 0.47 - ETA: 28s - loss: 0.4285 - mean_absolute_error: 0.47 - ETA: 28s - loss: 0.4291 - mean_absolute_error: 0.47 - ETA: 28s - loss: 0.4287 - mean_absolute_error: 0.47 - ETA: 28s - loss: 0.4282 - mean_absolute_error: 0.47 - ETA: 28s - loss: 0.4278 - mean_absolute_error: 0.47 - ETA: 28s - loss: 0.4292 - mean_absolute_error: 0.47 - ETA: 28s - loss: 0.4295 - mean_absolute_error: 0.47 - ETA: 28s - loss: 0.4306 - mean_absolute_error: 0.47 - ETA: 28s - loss: 0.4299 - mean_absolute_error: 0.47 - ETA: 28s - loss: 0.4303 - mean_absolute_error: 0.47 - ETA: 28s - loss: 0.4294 - mean_absolute_error: 0.47 - ETA: 28s - loss: 0.4296 - mean_absolute_error: 0.47 - ETA: 28s - loss: 0.4306 - mean_absolute_error: 0.47 - ETA: 28s - loss: 0.4312 - mean_absolute_error: 0.47 - ETA: 27s - loss: 0.4310 - mean_absolute_error: 0.47 - ETA: 27s - loss: 0.4317 - mean_absolute_error: 0.47 - ETA: 27s - loss: 0.4318 - mean_absolute_error: 0.47 - ETA: 27s - loss: 0.4320 - mean_absolute_error: 0.48 - ETA: 27s - loss: 0.4316 - mean_absolute_error: 0.47 - ETA: 27s - loss: 0.4322 - mean_absolute_error: 0.48 - ETA: 27s - loss: 0.4329 - mean_absolute_error: 0.48 - ETA: 27s - loss: 0.4324 - mean_absolute_error: 0.48 - ETA: 27s - loss: 0.4319 - mean_absolute_error: 0.47 - ETA: 27s - loss: 0.4320 - mean_absolute_error: 0.48 - ETA: 27s - loss: 0.4318 - mean_absolute_error: 0.48 - ETA: 27s - loss: 0.4316 - mean_absolute_error: 0.48 - ETA: 27s - loss: 0.4325 - mean_absolute_error: 0.48 - ETA: 27s - loss: 0.4329 - mean_absolute_error: 0.48 - ETA: 27s - loss: 0.4328 - mean_absolute_error: 0.48 - ETA: 27s - loss: 0.4328 - mean_absolute_error: 0.48 - ETA: 27s - loss: 0.4326 - mean_absolute_error: 0.48 - ETA: 26s - loss: 0.4324 - mean_absolute_error: 0.48 - ETA: 26s - loss: 0.4326 - mean_absolute_error: 0.48 - ETA: 26s - loss: 0.4325 - mean_absolute_error: 0.48 - ETA: 26s - loss: 0.4324 - mean_absolute_error: 0.48 - ETA: 26s - loss: 0.4323 - mean_absolute_error: 0.48 - ETA: 26s - loss: 0.4319 - mean_absolute_error: 0.48 - ETA: 26s - loss: 0.4326 - mean_absolute_error: 0.48 - ETA: 26s - loss: 0.4338 - mean_absolute_error: 0.48 - ETA: 26s - loss: 0.4343 - mean_absolute_error: 0.48 - ETA: 26s - loss: 0.4351 - mean_absolute_error: 0.48 - ETA: 26s - loss: 0.4352 - mean_absolute_error: 0.48 - ETA: 26s - loss: 0.4355 - mean_absolute_error: 0.48 - ETA: 26s - loss: 0.4367 - mean_absolute_error: 0.48 - ETA: 26s - loss: 0.4369 - mean_absolute_error: 0.48 - ETA: 26s - loss: 0.4366 - mean_absolute_error: 0.48 - ETA: 26s - loss: 0.4373 - mean_absolute_error: 0.48 - ETA: 26s - loss: 0.4376 - mean_absolute_error: 0.48 - ETA: 26s - loss: 0.4378 - mean_absolute_error: 0.4834 82208/174938 [=============>................] - ETA: 26s - loss: 0.4381 - mean_absolute_error: 0.48 - ETA: 25s - loss: 0.4378 - mean_absolute_error: 0.48 - ETA: 25s - loss: 0.4378 - mean_absolute_error: 0.48 - ETA: 25s - loss: 0.4382 - mean_absolute_error: 0.48 - ETA: 25s - loss: 0.4379 - mean_absolute_error: 0.48 - ETA: 25s - loss: 0.4378 - mean_absolute_error: 0.48 - ETA: 25s - loss: 0.4379 - mean_absolute_error: 0.48 - ETA: 25s - loss: 0.4379 - mean_absolute_error: 0.48 - ETA: 25s - loss: 0.4374 - mean_absolute_error: 0.48 - ETA: 25s - loss: 0.4374 - mean_absolute_error: 0.48 - ETA: 25s - loss: 0.4374 - mean_absolute_error: 0.48 - ETA: 25s - loss: 0.4375 - mean_absolute_error: 0.48 - ETA: 25s - loss: 0.4374 - mean_absolute_error: 0.48 - ETA: 25s - loss: 0.4385 - mean_absolute_error: 0.48 - ETA: 25s - loss: 0.4379 - mean_absolute_error: 0.48 - ETA: 25s - loss: 0.4379 - mean_absolute_error: 0.48 - ETA: 25s - loss: 0.4389 - mean_absolute_error: 0.48 - ETA: 25s - loss: 0.4388 - mean_absolute_error: 0.48 - ETA: 24s - loss: 0.4388 - mean_absolute_error: 0.48 - ETA: 24s - loss: 0.4389 - mean_absolute_error: 0.48 - ETA: 24s - loss: 0.4395 - mean_absolute_error: 0.48 - ETA: 24s - loss: 0.4392 - mean_absolute_error: 0.48 - ETA: 24s - loss: 0.4394 - mean_absolute_error: 0.48 - ETA: 24s - loss: 0.4396 - mean_absolute_error: 0.48 - ETA: 24s - loss: 0.4392 - mean_absolute_error: 0.48 - ETA: 24s - loss: 0.4386 - mean_absolute_error: 0.48 - ETA: 24s - loss: 0.4382 - mean_absolute_error: 0.48 - ETA: 24s - loss: 0.4375 - mean_absolute_error: 0.48 - ETA: 24s - loss: 0.4373 - mean_absolute_error: 0.48 - ETA: 24s - loss: 0.4374 - mean_absolute_error: 0.48 - ETA: 24s - loss: 0.4367 - mean_absolute_error: 0.48 - ETA: 24s - loss: 0.4373 - mean_absolute_error: 0.48 - ETA: 24s - loss: 0.4369 - mean_absolute_error: 0.48 - ETA: 24s - loss: 0.4365 - mean_absolute_error: 0.48 - ETA: 23s - loss: 0.4364 - mean_absolute_error: 0.48 - ETA: 23s - loss: 0.4362 - mean_absolute_error: 0.48 - ETA: 23s - loss: 0.4367 - mean_absolute_error: 0.48 - ETA: 23s - loss: 0.4370 - mean_absolute_error: 0.48 - ETA: 23s - loss: 0.4371 - mean_absolute_error: 0.48 - ETA: 23s - loss: 0.4377 - mean_absolute_error: 0.48 - ETA: 23s - loss: 0.4379 - mean_absolute_error: 0.48 - ETA: 23s - loss: 0.4376 - mean_absolute_error: 0.48 - ETA: 23s - loss: 0.4376 - mean_absolute_error: 0.48 - ETA: 23s - loss: 0.4371 - mean_absolute_error: 0.48 - ETA: 23s - loss: 0.4372 - mean_absolute_error: 0.48 - ETA: 23s - loss: 0.4380 - mean_absolute_error: 0.48 - ETA: 23s - loss: 0.4380 - mean_absolute_error: 0.48 - ETA: 23s - loss: 0.4381 - mean_absolute_error: 0.48 - ETA: 23s - loss: 0.4380 - mean_absolute_error: 0.48 - ETA: 23s - loss: 0.4373 - mean_absolute_error: 0.48 - ETA: 23s - loss: 0.4373 - mean_absolute_error: 0.48 - ETA: 22s - loss: 0.4376 - mean_absolute_error: 0.48 - ETA: 22s - loss: 0.4375 - mean_absolute_error: 0.48 - ETA: 22s - loss: 0.4381 - mean_absolute_error: 0.48 - ETA: 22s - loss: 0.4377 - mean_absolute_error: 0.48 - ETA: 22s - loss: 0.4379 - mean_absolute_error: 0.48 - ETA: 22s - loss: 0.4375 - mean_absolute_error: 0.48 - ETA: 22s - loss: 0.4372 - mean_absolute_error: 0.48 - ETA: 22s - loss: 0.4378 - mean_absolute_error: 0.48 - ETA: 22s - loss: 0.4376 - mean_absolute_error: 0.48 - ETA: 22s - loss: 0.4369 - mean_absolute_error: 0.48 - ETA: 22s - loss: 0.4365 - mean_absolute_error: 0.48 - ETA: 22s - loss: 0.4366 - mean_absolute_error: 0.48 - ETA: 22s - loss: 0.4366 - mean_absolute_error: 0.48 - ETA: 22s - loss: 0.4369 - mean_absolute_error: 0.48 - ETA: 22s - loss: 0.4370 - mean_absolute_error: 0.48 - ETA: 22s - loss: 0.4368 - mean_absolute_error: 0.48 - ETA: 22s - loss: 0.4367 - mean_absolute_error: 0.48 - ETA: 22s - loss: 0.4370 - mean_absolute_error: 0.48 - ETA: 22s - loss: 0.4367 - mean_absolute_error: 0.48 - ETA: 21s - loss: 0.4367 - mean_absolute_error: 0.48 - ETA: 21s - loss: 0.4370 - mean_absolute_error: 0.48 - ETA: 21s - loss: 0.4371 - mean_absolute_error: 0.48 - ETA: 21s - loss: 0.4370 - mean_absolute_error: 0.48 - ETA: 21s - loss: 0.4367 - mean_absolute_error: 0.48 - ETA: 21s - loss: 0.4374 - mean_absolute_error: 0.48 - ETA: 21s - loss: 0.4372 - mean_absolute_error: 0.48 - ETA: 21s - loss: 0.4372 - mean_absolute_error: 0.48 - ETA: 21s - loss: 0.4369 - mean_absolute_error: 0.48 - ETA: 21s - loss: 0.4366 - mean_absolute_error: 0.48 - ETA: 21s - loss: 0.4368 - mean_absolute_error: 0.48 - ETA: 21s - loss: 0.4372 - mean_absolute_error: 0.48 - ETA: 21s - loss: 0.4371 - mean_absolute_error: 0.48 - ETA: 21s - loss: 0.4374 - mean_absolute_error: 0.48 - ETA: 21s - loss: 0.4379 - mean_absolute_error: 0.48 - ETA: 21s - loss: 0.4377 - mean_absolute_error: 0.48 - ETA: 21s - loss: 0.4379 - mean_absolute_error: 0.48 - ETA: 21s - loss: 0.4376 - mean_absolute_error: 0.48 - ETA: 21s - loss: 0.4374 - mean_absolute_error: 0.48 - ETA: 21s - loss: 0.4377 - mean_absolute_error: 0.48 - ETA: 21s - loss: 0.4379 - mean_absolute_error: 0.48 - ETA: 21s - loss: 0.4379 - mean_absolute_error: 0.48 - ETA: 21s - loss: 0.4378 - mean_absolute_error: 0.48 - ETA: 21s - loss: 0.4383 - mean_absolute_error: 0.48 - ETA: 20s - loss: 0.4380 - mean_absolute_error: 0.48 - ETA: 20s - loss: 0.4377 - mean_absolute_error: 0.48 - ETA: 20s - loss: 0.4377 - mean_absolute_error: 0.48 - ETA: 20s - loss: 0.4377 - mean_absolute_error: 0.48 - ETA: 20s - loss: 0.4378 - mean_absolute_error: 0.48 - ETA: 20s - loss: 0.4380 - mean_absolute_error: 0.48 - ETA: 20s - loss: 0.4376 - mean_absolute_error: 0.48 - ETA: 20s - loss: 0.4376 - mean_absolute_error: 0.48 - ETA: 20s - loss: 0.4372 - mean_absolute_error: 0.48 - ETA: 20s - loss: 0.4371 - mean_absolute_error: 0.48 - ETA: 20s - loss: 0.4374 - mean_absolute_error: 0.48 - ETA: 20s - loss: 0.4374 - mean_absolute_error: 0.48 - ETA: 20s - loss: 0.4373 - mean_absolute_error: 0.48 - ETA: 20s - loss: 0.4373 - mean_absolute_error: 0.48 - ETA: 20s - loss: 0.4374 - mean_absolute_error: 0.48 - ETA: 20s - loss: 0.4374 - mean_absolute_error: 0.48 - ETA: 20s - loss: 0.4371 - mean_absolute_error: 0.48 - ETA: 20s - loss: 0.4368 - mean_absolute_error: 0.48 - ETA: 20s - loss: 0.4368 - mean_absolute_error: 0.48 - ETA: 20s - loss: 0.4366 - mean_absolute_error: 0.48 - ETA: 19s - loss: 0.4371 - mean_absolute_error: 0.48 - ETA: 19s - loss: 0.4370 - mean_absolute_error: 0.48 - ETA: 19s - loss: 0.4368 - mean_absolute_error: 0.48 - ETA: 19s - loss: 0.4371 - mean_absolute_error: 0.48 - ETA: 19s - loss: 0.4369 - mean_absolute_error: 0.48 - ETA: 19s - loss: 0.4373 - mean_absolute_error: 0.48 - ETA: 19s - loss: 0.4371 - mean_absolute_error: 0.48 - ETA: 19s - loss: 0.4372 - mean_absolute_error: 0.48 - ETA: 19s - loss: 0.4372 - mean_absolute_error: 0.48 - ETA: 19s - loss: 0.4375 - mean_absolute_error: 0.48 - ETA: 19s - loss: 0.4374 - mean_absolute_error: 0.48 - ETA: 19s - loss: 0.4373 - mean_absolute_error: 0.48 - ETA: 19s - loss: 0.4375 - mean_absolute_error: 0.48 - ETA: 19s - loss: 0.4377 - mean_absolute_error: 0.48 - ETA: 19s - loss: 0.4375 - mean_absolute_error: 0.48 - ETA: 19s - loss: 0.4373 - mean_absolute_error: 0.48 - ETA: 19s - loss: 0.4380 - mean_absolute_error: 0.48 - ETA: 19s - loss: 0.4375 - mean_absolute_error: 0.48 - ETA: 18s - loss: 0.4377 - mean_absolute_error: 0.48 - ETA: 18s - loss: 0.4374 - mean_absolute_error: 0.48 - ETA: 18s - loss: 0.4370 - mean_absolute_error: 0.48 - ETA: 18s - loss: 0.4371 - mean_absolute_error: 0.48 - ETA: 18s - loss: 0.4369 - mean_absolute_error: 0.48 - ETA: 18s - loss: 0.4371 - mean_absolute_error: 0.48 - ETA: 18s - loss: 0.4368 - mean_absolute_error: 0.48 - ETA: 18s - loss: 0.4373 - mean_absolute_error: 0.48 - ETA: 18s - loss: 0.4375 - mean_absolute_error: 0.48 - ETA: 18s - loss: 0.4372 - mean_absolute_error: 0.48 - ETA: 18s - loss: 0.4374 - mean_absolute_error: 0.48 - ETA: 18s - loss: 0.4382 - mean_absolute_error: 0.48 - ETA: 18s - loss: 0.4385 - mean_absolute_error: 0.48 - ETA: 18s - loss: 0.4385 - mean_absolute_error: 0.48 - ETA: 18s - loss: 0.4385 - mean_absolute_error: 0.48 - ETA: 18s - loss: 0.4384 - mean_absolute_error: 0.48 - ETA: 18s - loss: 0.4383 - mean_absolute_error: 0.48 - ETA: 18s - loss: 0.4384 - mean_absolute_error: 0.48 - ETA: 17s - loss: 0.4384 - mean_absolute_error: 0.4836121728/174938 [===================>..........] - ETA: 17s - loss: 0.4381 - mean_absolute_error: 0.48 - ETA: 17s - loss: 0.4380 - mean_absolute_error: 0.48 - ETA: 17s - loss: 0.4381 - mean_absolute_error: 0.48 - ETA: 17s - loss: 0.4379 - mean_absolute_error: 0.48 - ETA: 17s - loss: 0.4378 - mean_absolute_error: 0.48 - ETA: 17s - loss: 0.4379 - mean_absolute_error: 0.48 - ETA: 17s - loss: 0.4377 - mean_absolute_error: 0.48 - ETA: 17s - loss: 0.4380 - mean_absolute_error: 0.48 - ETA: 17s - loss: 0.4377 - mean_absolute_error: 0.48 - ETA: 17s - loss: 0.4376 - mean_absolute_error: 0.48 - ETA: 17s - loss: 0.4375 - mean_absolute_error: 0.48 - ETA: 17s - loss: 0.4374 - mean_absolute_error: 0.48 - ETA: 17s - loss: 0.4376 - mean_absolute_error: 0.48 - ETA: 17s - loss: 0.4378 - mean_absolute_error: 0.48 - ETA: 17s - loss: 0.4379 - mean_absolute_error: 0.48 - ETA: 17s - loss: 0.4379 - mean_absolute_error: 0.48 - ETA: 17s - loss: 0.4380 - mean_absolute_error: 0.48 - ETA: 17s - loss: 0.4379 - mean_absolute_error: 0.48 - ETA: 16s - loss: 0.4376 - mean_absolute_error: 0.48 - ETA: 16s - loss: 0.4376 - mean_absolute_error: 0.48 - ETA: 16s - loss: 0.4373 - mean_absolute_error: 0.48 - ETA: 16s - loss: 0.4374 - mean_absolute_error: 0.48 - ETA: 16s - loss: 0.4374 - mean_absolute_error: 0.48 - ETA: 16s - loss: 0.4375 - mean_absolute_error: 0.48 - ETA: 16s - loss: 0.4373 - mean_absolute_error: 0.48 - ETA: 16s - loss: 0.4374 - mean_absolute_error: 0.48 - ETA: 16s - loss: 0.4376 - mean_absolute_error: 0.48 - ETA: 16s - loss: 0.4375 - mean_absolute_error: 0.48 - ETA: 16s - loss: 0.4375 - mean_absolute_error: 0.48 - ETA: 16s - loss: 0.4374 - mean_absolute_error: 0.48 - ETA: 16s - loss: 0.4375 - mean_absolute_error: 0.48 - ETA: 16s - loss: 0.4374 - mean_absolute_error: 0.48 - ETA: 16s - loss: 0.4373 - mean_absolute_error: 0.48 - ETA: 16s - loss: 0.4374 - mean_absolute_error: 0.48 - ETA: 16s - loss: 0.4373 - mean_absolute_error: 0.48 - ETA: 16s - loss: 0.4374 - mean_absolute_error: 0.48 - ETA: 16s - loss: 0.4373 - mean_absolute_error: 0.48 - ETA: 16s - loss: 0.4378 - mean_absolute_error: 0.48 - ETA: 16s - loss: 0.4378 - mean_absolute_error: 0.48 - ETA: 16s - loss: 0.4380 - mean_absolute_error: 0.48 - ETA: 16s - loss: 0.4377 - mean_absolute_error: 0.48 - ETA: 15s - loss: 0.4378 - mean_absolute_error: 0.48 - ETA: 15s - loss: 0.4375 - mean_absolute_error: 0.48 - ETA: 15s - loss: 0.4372 - mean_absolute_error: 0.48 - ETA: 15s - loss: 0.4374 - mean_absolute_error: 0.48 - ETA: 15s - loss: 0.4375 - mean_absolute_error: 0.48 - ETA: 15s - loss: 0.4376 - mean_absolute_error: 0.48 - ETA: 15s - loss: 0.4376 - mean_absolute_error: 0.48 - ETA: 15s - loss: 0.4375 - mean_absolute_error: 0.48 - ETA: 15s - loss: 0.4375 - mean_absolute_error: 0.48 - ETA: 15s - loss: 0.4378 - mean_absolute_error: 0.48 - ETA: 15s - loss: 0.4377 - mean_absolute_error: 0.48 - ETA: 15s - loss: 0.4384 - mean_absolute_error: 0.48 - ETA: 15s - loss: 0.4384 - mean_absolute_error: 0.48 - ETA: 15s - loss: 0.4384 - mean_absolute_error: 0.48 - ETA: 15s - loss: 0.4383 - mean_absolute_error: 0.48 - ETA: 15s - loss: 0.4381 - mean_absolute_error: 0.48 - ETA: 15s - loss: 0.4379 - mean_absolute_error: 0.48 - ETA: 15s - loss: 0.4380 - mean_absolute_error: 0.48 - ETA: 15s - loss: 0.4379 - mean_absolute_error: 0.48 - ETA: 14s - loss: 0.4379 - mean_absolute_error: 0.48 - ETA: 14s - loss: 0.4377 - mean_absolute_error: 0.48 - ETA: 14s - loss: 0.4375 - mean_absolute_error: 0.48 - ETA: 14s - loss: 0.4375 - mean_absolute_error: 0.48 - ETA: 14s - loss: 0.4373 - mean_absolute_error: 0.48 - ETA: 14s - loss: 0.4372 - mean_absolute_error: 0.48 - ETA: 14s - loss: 0.4371 - mean_absolute_error: 0.48 - ETA: 14s - loss: 0.4370 - mean_absolute_error: 0.48 - ETA: 14s - loss: 0.4370 - mean_absolute_error: 0.48 - ETA: 14s - loss: 0.4372 - mean_absolute_error: 0.48 - ETA: 14s - loss: 0.4372 - mean_absolute_error: 0.48 - ETA: 14s - loss: 0.4371 - mean_absolute_error: 0.48 - ETA: 14s - loss: 0.4373 - mean_absolute_error: 0.48 - ETA: 14s - loss: 0.4373 - mean_absolute_error: 0.48 - ETA: 14s - loss: 0.4369 - mean_absolute_error: 0.48 - ETA: 14s - loss: 0.4369 - mean_absolute_error: 0.48 - ETA: 14s - loss: 0.4368 - mean_absolute_error: 0.48 - ETA: 14s - loss: 0.4367 - mean_absolute_error: 0.48 - ETA: 14s - loss: 0.4370 - mean_absolute_error: 0.48 - ETA: 14s - loss: 0.4372 - mean_absolute_error: 0.48 - ETA: 14s - loss: 0.4375 - mean_absolute_error: 0.48 - ETA: 13s - loss: 0.4374 - mean_absolute_error: 0.48 - ETA: 13s - loss: 0.4379 - mean_absolute_error: 0.48 - ETA: 13s - loss: 0.4383 - mean_absolute_error: 0.48 - ETA: 13s - loss: 0.4382 - mean_absolute_error: 0.48 - ETA: 13s - loss: 0.4382 - mean_absolute_error: 0.48 - ETA: 13s - loss: 0.4383 - mean_absolute_error: 0.48 - ETA: 13s - loss: 0.4385 - mean_absolute_error: 0.48 - ETA: 13s - loss: 0.4384 - mean_absolute_error: 0.48 - ETA: 13s - loss: 0.4381 - mean_absolute_error: 0.48 - ETA: 13s - loss: 0.4380 - mean_absolute_error: 0.48 - ETA: 13s - loss: 0.4383 - mean_absolute_error: 0.48 - ETA: 13s - loss: 0.4384 - mean_absolute_error: 0.48 - ETA: 13s - loss: 0.4383 - mean_absolute_error: 0.48 - ETA: 13s - loss: 0.4385 - mean_absolute_error: 0.48 - ETA: 13s - loss: 0.4387 - mean_absolute_error: 0.48 - ETA: 13s - loss: 0.4385 - mean_absolute_error: 0.48 - ETA: 13s - loss: 0.4387 - mean_absolute_error: 0.48 - ETA: 13s - loss: 0.4388 - mean_absolute_error: 0.48 - ETA: 13s - loss: 0.4388 - mean_absolute_error: 0.48 - ETA: 13s - loss: 0.4388 - mean_absolute_error: 0.48 - ETA: 12s - loss: 0.4390 - mean_absolute_error: 0.48 - ETA: 12s - loss: 0.4390 - mean_absolute_error: 0.48 - ETA: 12s - loss: 0.4388 - mean_absolute_error: 0.48 - ETA: 12s - loss: 0.4389 - mean_absolute_error: 0.48 - ETA: 12s - loss: 0.4391 - mean_absolute_error: 0.48 - ETA: 12s - loss: 0.4390 - mean_absolute_error: 0.48 - ETA: 12s - loss: 0.4391 - mean_absolute_error: 0.48 - ETA: 12s - loss: 0.4391 - mean_absolute_error: 0.48 - ETA: 12s - loss: 0.4391 - mean_absolute_error: 0.48 - ETA: 12s - loss: 0.4395 - mean_absolute_error: 0.48 - ETA: 12s - loss: 0.4395 - mean_absolute_error: 0.48 - ETA: 12s - loss: 0.4393 - mean_absolute_error: 0.48 - ETA: 12s - loss: 0.4396 - mean_absolute_error: 0.48 - ETA: 12s - loss: 0.4396 - mean_absolute_error: 0.48 - ETA: 12s - loss: 0.4397 - mean_absolute_error: 0.48 - ETA: 12s - loss: 0.4395 - mean_absolute_error: 0.48 - ETA: 12s - loss: 0.4396 - mean_absolute_error: 0.48 - ETA: 12s - loss: 0.4399 - mean_absolute_error: 0.48 - ETA: 12s - loss: 0.4400 - mean_absolute_error: 0.48 - ETA: 12s - loss: 0.4400 - mean_absolute_error: 0.48 - ETA: 11s - loss: 0.4399 - mean_absolute_error: 0.48 - ETA: 11s - loss: 0.4399 - mean_absolute_error: 0.48 - ETA: 11s - loss: 0.4401 - mean_absolute_error: 0.48 - ETA: 11s - loss: 0.4401 - mean_absolute_error: 0.48 - ETA: 11s - loss: 0.4401 - mean_absolute_error: 0.48 - ETA: 11s - loss: 0.4399 - mean_absolute_error: 0.48 - ETA: 11s - loss: 0.4399 - mean_absolute_error: 0.48 - ETA: 11s - loss: 0.4396 - mean_absolute_error: 0.48 - ETA: 11s - loss: 0.4396 - mean_absolute_error: 0.48 - ETA: 11s - loss: 0.4397 - mean_absolute_error: 0.48 - ETA: 11s - loss: 0.4397 - mean_absolute_error: 0.48 - ETA: 11s - loss: 0.4398 - mean_absolute_error: 0.48 - ETA: 11s - loss: 0.4398 - mean_absolute_error: 0.48 - ETA: 11s - loss: 0.4398 - mean_absolute_error: 0.48 - ETA: 11s - loss: 0.4400 - mean_absolute_error: 0.48 - ETA: 11s - loss: 0.4399 - mean_absolute_error: 0.48 - ETA: 11s - loss: 0.4397 - mean_absolute_error: 0.48 - ETA: 11s - loss: 0.4398 - mean_absolute_error: 0.48 - ETA: 11s - loss: 0.4397 - mean_absolute_error: 0.48 - ETA: 10s - loss: 0.4397 - mean_absolute_error: 0.48 - ETA: 10s - loss: 0.4396 - mean_absolute_error: 0.48 - ETA: 10s - loss: 0.4398 - mean_absolute_error: 0.48 - ETA: 10s - loss: 0.4398 - mean_absolute_error: 0.48 - ETA: 10s - loss: 0.4398 - mean_absolute_error: 0.48 - ETA: 10s - loss: 0.4397 - mean_absolute_error: 0.48 - ETA: 10s - loss: 0.4397 - mean_absolute_error: 0.48 - ETA: 10s - loss: 0.4396 - mean_absolute_error: 0.48 - ETA: 10s - loss: 0.4396 - mean_absolute_error: 0.48 - ETA: 10s - loss: 0.4395 - mean_absolute_error: 0.48 - ETA: 10s - loss: 0.4397 - mean_absolute_error: 0.4834"
     ]
    },
    {
     "name": "stdout",
     "output_type": "stream",
     "text": [
      "162848/174938 [==========================>...] - ETA: 10s - loss: 0.4396 - mean_absolute_error: 0.48 - ETA: 10s - loss: 0.4398 - mean_absolute_error: 0.48 - ETA: 10s - loss: 0.4398 - mean_absolute_error: 0.48 - ETA: 10s - loss: 0.4398 - mean_absolute_error: 0.48 - ETA: 10s - loss: 0.4397 - mean_absolute_error: 0.48 - ETA: 10s - loss: 0.4396 - mean_absolute_error: 0.48 - ETA: 10s - loss: 0.4395 - mean_absolute_error: 0.48 - ETA: 10s - loss: 0.4395 - mean_absolute_error: 0.48 - ETA: 9s - loss: 0.4396 - mean_absolute_error: 0.4834 - ETA: 9s - loss: 0.4395 - mean_absolute_error: 0.483 - ETA: 9s - loss: 0.4395 - mean_absolute_error: 0.483 - ETA: 9s - loss: 0.4394 - mean_absolute_error: 0.483 - ETA: 9s - loss: 0.4393 - mean_absolute_error: 0.483 - ETA: 9s - loss: 0.4393 - mean_absolute_error: 0.483 - ETA: 9s - loss: 0.4392 - mean_absolute_error: 0.483 - ETA: 9s - loss: 0.4393 - mean_absolute_error: 0.483 - ETA: 9s - loss: 0.4392 - mean_absolute_error: 0.483 - ETA: 9s - loss: 0.4391 - mean_absolute_error: 0.483 - ETA: 9s - loss: 0.4392 - mean_absolute_error: 0.483 - ETA: 9s - loss: 0.4390 - mean_absolute_error: 0.483 - ETA: 9s - loss: 0.4390 - mean_absolute_error: 0.483 - ETA: 9s - loss: 0.4391 - mean_absolute_error: 0.483 - ETA: 9s - loss: 0.4390 - mean_absolute_error: 0.483 - ETA: 9s - loss: 0.4390 - mean_absolute_error: 0.483 - ETA: 9s - loss: 0.4391 - mean_absolute_error: 0.483 - ETA: 9s - loss: 0.4391 - mean_absolute_error: 0.483 - ETA: 8s - loss: 0.4390 - mean_absolute_error: 0.483 - ETA: 8s - loss: 0.4389 - mean_absolute_error: 0.483 - ETA: 8s - loss: 0.4389 - mean_absolute_error: 0.483 - ETA: 8s - loss: 0.4389 - mean_absolute_error: 0.483 - ETA: 8s - loss: 0.4389 - mean_absolute_error: 0.483 - ETA: 8s - loss: 0.4388 - mean_absolute_error: 0.483 - ETA: 8s - loss: 0.4388 - mean_absolute_error: 0.483 - ETA: 8s - loss: 0.4387 - mean_absolute_error: 0.483 - ETA: 8s - loss: 0.4386 - mean_absolute_error: 0.483 - ETA: 8s - loss: 0.4385 - mean_absolute_error: 0.483 - ETA: 8s - loss: 0.4386 - mean_absolute_error: 0.483 - ETA: 8s - loss: 0.4389 - mean_absolute_error: 0.483 - ETA: 8s - loss: 0.4392 - mean_absolute_error: 0.483 - ETA: 8s - loss: 0.4391 - mean_absolute_error: 0.483 - ETA: 8s - loss: 0.4390 - mean_absolute_error: 0.483 - ETA: 8s - loss: 0.4390 - mean_absolute_error: 0.483 - ETA: 8s - loss: 0.4392 - mean_absolute_error: 0.483 - ETA: 8s - loss: 0.4393 - mean_absolute_error: 0.483 - ETA: 7s - loss: 0.4392 - mean_absolute_error: 0.483 - ETA: 7s - loss: 0.4391 - mean_absolute_error: 0.483 - ETA: 7s - loss: 0.4389 - mean_absolute_error: 0.483 - ETA: 7s - loss: 0.4387 - mean_absolute_error: 0.483 - ETA: 7s - loss: 0.4386 - mean_absolute_error: 0.483 - ETA: 7s - loss: 0.4387 - mean_absolute_error: 0.483 - ETA: 7s - loss: 0.4386 - mean_absolute_error: 0.483 - ETA: 7s - loss: 0.4385 - mean_absolute_error: 0.483 - ETA: 7s - loss: 0.4384 - mean_absolute_error: 0.483 - ETA: 7s - loss: 0.4388 - mean_absolute_error: 0.483 - ETA: 7s - loss: 0.4389 - mean_absolute_error: 0.483 - ETA: 7s - loss: 0.4390 - mean_absolute_error: 0.483 - ETA: 7s - loss: 0.4391 - mean_absolute_error: 0.483 - ETA: 7s - loss: 0.4390 - mean_absolute_error: 0.483 - ETA: 7s - loss: 0.4389 - mean_absolute_error: 0.483 - ETA: 7s - loss: 0.4386 - mean_absolute_error: 0.483 - ETA: 7s - loss: 0.4387 - mean_absolute_error: 0.483 - ETA: 7s - loss: 0.4386 - mean_absolute_error: 0.483 - ETA: 7s - loss: 0.4388 - mean_absolute_error: 0.483 - ETA: 6s - loss: 0.4387 - mean_absolute_error: 0.483 - ETA: 6s - loss: 0.4387 - mean_absolute_error: 0.483 - ETA: 6s - loss: 0.4389 - mean_absolute_error: 0.483 - ETA: 6s - loss: 0.4389 - mean_absolute_error: 0.483 - ETA: 6s - loss: 0.4390 - mean_absolute_error: 0.483 - ETA: 6s - loss: 0.4391 - mean_absolute_error: 0.483 - ETA: 6s - loss: 0.4390 - mean_absolute_error: 0.483 - ETA: 6s - loss: 0.4389 - mean_absolute_error: 0.483 - ETA: 6s - loss: 0.4390 - mean_absolute_error: 0.483 - ETA: 6s - loss: 0.4390 - mean_absolute_error: 0.483 - ETA: 6s - loss: 0.4389 - mean_absolute_error: 0.483 - ETA: 6s - loss: 0.4391 - mean_absolute_error: 0.483 - ETA: 6s - loss: 0.4391 - mean_absolute_error: 0.483 - ETA: 6s - loss: 0.4389 - mean_absolute_error: 0.483 - ETA: 6s - loss: 0.4388 - mean_absolute_error: 0.483 - ETA: 6s - loss: 0.4388 - mean_absolute_error: 0.483 - ETA: 6s - loss: 0.4387 - mean_absolute_error: 0.483 - ETA: 6s - loss: 0.4386 - mean_absolute_error: 0.483 - ETA: 5s - loss: 0.4386 - mean_absolute_error: 0.482 - ETA: 5s - loss: 0.4385 - mean_absolute_error: 0.482 - ETA: 5s - loss: 0.4384 - mean_absolute_error: 0.482 - ETA: 5s - loss: 0.4385 - mean_absolute_error: 0.482 - ETA: 5s - loss: 0.4386 - mean_absolute_error: 0.482 - ETA: 5s - loss: 0.4385 - mean_absolute_error: 0.482 - ETA: 5s - loss: 0.4386 - mean_absolute_error: 0.482 - ETA: 5s - loss: 0.4388 - mean_absolute_error: 0.483 - ETA: 5s - loss: 0.4389 - mean_absolute_error: 0.483 - ETA: 5s - loss: 0.4389 - mean_absolute_error: 0.483 - ETA: 5s - loss: 0.4386 - mean_absolute_error: 0.482 - ETA: 5s - loss: 0.4386 - mean_absolute_error: 0.483 - ETA: 5s - loss: 0.4386 - mean_absolute_error: 0.483 - ETA: 5s - loss: 0.4387 - mean_absolute_error: 0.483 - ETA: 5s - loss: 0.4387 - mean_absolute_error: 0.483 - ETA: 5s - loss: 0.4387 - mean_absolute_error: 0.483 - ETA: 5s - loss: 0.4387 - mean_absolute_error: 0.483 - ETA: 5s - loss: 0.4387 - mean_absolute_error: 0.483 - ETA: 5s - loss: 0.4389 - mean_absolute_error: 0.483 - ETA: 4s - loss: 0.4391 - mean_absolute_error: 0.483 - ETA: 4s - loss: 0.4390 - mean_absolute_error: 0.483 - ETA: 4s - loss: 0.4389 - mean_absolute_error: 0.483 - ETA: 4s - loss: 0.4389 - mean_absolute_error: 0.483 - ETA: 4s - loss: 0.4388 - mean_absolute_error: 0.483 - ETA: 4s - loss: 0.4388 - mean_absolute_error: 0.483 - ETA: 4s - loss: 0.4389 - mean_absolute_error: 0.483 - ETA: 4s - loss: 0.4387 - mean_absolute_error: 0.483 - ETA: 4s - loss: 0.4387 - mean_absolute_error: 0.483 - ETA: 4s - loss: 0.4386 - mean_absolute_error: 0.483 - ETA: 4s - loss: 0.4386 - mean_absolute_error: 0.483 - ETA: 4s - loss: 0.4386 - mean_absolute_error: 0.483 - ETA: 4s - loss: 0.4387 - mean_absolute_error: 0.483 - ETA: 4s - loss: 0.4385 - mean_absolute_error: 0.483 - ETA: 4s - loss: 0.4385 - mean_absolute_error: 0.483 - ETA: 4s - loss: 0.4385 - mean_absolute_error: 0.483 - ETA: 4s - loss: 0.4387 - mean_absolute_error: 0.483 - ETA: 4s - loss: 0.4386 - mean_absolute_error: 0.483 - ETA: 4s - loss: 0.4386 - mean_absolute_error: 0.483 - ETA: 3s - loss: 0.4385 - mean_absolute_error: 0.483 - ETA: 3s - loss: 0.4383 - mean_absolute_error: 0.483 - ETA: 3s - loss: 0.4382 - mean_absolute_error: 0.483 - ETA: 3s - loss: 0.4383 - mean_absolute_error: 0.483 - ETA: 3s - loss: 0.4385 - mean_absolute_error: 0.483 - ETA: 3s - loss: 0.4383 - mean_absolute_error: 0.483 - ETA: 3s - loss: 0.4383 - mean_absolute_error: 0.483 - ETA: 3s - loss: 0.4383 - mean_absolute_error: 0.483 - ETA: 3s - loss: 0.4382 - mean_absolute_error: 0.483 - ETA: 3s - loss: 0.4384 - mean_absolute_error: 0.483 - ETA: 3s - loss: 0.4384 - mean_absolute_error: 0.483 - ETA: 3s - loss: 0.4384 - mean_absolute_error: 0.483 - ETA: 3s - loss: 0.4386 - mean_absolute_error: 0.483 - ETA: 3s - loss: 0.4385 - mean_absolute_error: 0.483 - ETA: 3s - loss: 0.4385 - mean_absolute_error: 0.483 - ETA: 3s - loss: 0.4385 - mean_absolute_error: 0.483 - ETA: 3s - loss: 0.4385 - mean_absolute_error: 0.483 - ETA: 3s - loss: 0.4385 - mean_absolute_error: 0.483 - ETA: 3s - loss: 0.4386 - mean_absolute_error: 0.483 - ETA: 3s - loss: 0.4387 - mean_absolute_error: 0.483 - ETA: 2s - loss: 0.4386 - mean_absolute_error: 0.483 - ETA: 2s - loss: 0.4385 - mean_absolute_error: 0.483 - ETA: 2s - loss: 0.4385 - mean_absolute_error: 0.483 - ETA: 2s - loss: 0.4384 - mean_absolute_error: 0.483 - ETA: 2s - loss: 0.4384 - mean_absolute_error: 0.483 - ETA: 2s - loss: 0.4382 - mean_absolute_error: 0.483 - ETA: 2s - loss: 0.4382 - mean_absolute_error: 0.483 - ETA: 2s - loss: 0.4384 - mean_absolute_error: 0.483 - ETA: 2s - loss: 0.4384 - mean_absolute_error: 0.483 - ETA: 2s - loss: 0.4383 - mean_absolute_error: 0.483 - ETA: 2s - loss: 0.4383 - mean_absolute_error: 0.483 - ETA: 2s - loss: 0.4383 - mean_absolute_error: 0.4831"
     ]
    },
    {
     "name": "stdout",
     "output_type": "stream",
     "text": [
      "174938/174938 [==============================] - ETA: 2s - loss: 0.4383 - mean_absolute_error: 0.483 - ETA: 2s - loss: 0.4385 - mean_absolute_error: 0.483 - ETA: 2s - loss: 0.4384 - mean_absolute_error: 0.483 - ETA: 2s - loss: 0.4384 - mean_absolute_error: 0.483 - ETA: 2s - loss: 0.4386 - mean_absolute_error: 0.483 - ETA: 2s - loss: 0.4386 - mean_absolute_error: 0.483 - ETA: 1s - loss: 0.4387 - mean_absolute_error: 0.483 - ETA: 1s - loss: 0.4387 - mean_absolute_error: 0.483 - ETA: 1s - loss: 0.4385 - mean_absolute_error: 0.483 - ETA: 1s - loss: 0.4386 - mean_absolute_error: 0.483 - ETA: 1s - loss: 0.4387 - mean_absolute_error: 0.483 - ETA: 1s - loss: 0.4387 - mean_absolute_error: 0.483 - ETA: 1s - loss: 0.4387 - mean_absolute_error: 0.483 - ETA: 1s - loss: 0.4387 - mean_absolute_error: 0.483 - ETA: 1s - loss: 0.4386 - mean_absolute_error: 0.483 - ETA: 1s - loss: 0.4387 - mean_absolute_error: 0.483 - ETA: 1s - loss: 0.4386 - mean_absolute_error: 0.483 - ETA: 1s - loss: 0.4385 - mean_absolute_error: 0.483 - ETA: 1s - loss: 0.4385 - mean_absolute_error: 0.483 - ETA: 1s - loss: 0.4385 - mean_absolute_error: 0.483 - ETA: 1s - loss: 0.4384 - mean_absolute_error: 0.483 - ETA: 1s - loss: 0.4385 - mean_absolute_error: 0.483 - ETA: 1s - loss: 0.4386 - mean_absolute_error: 0.483 - ETA: 1s - loss: 0.4387 - mean_absolute_error: 0.483 - ETA: 0s - loss: 0.4388 - mean_absolute_error: 0.483 - ETA: 0s - loss: 0.4388 - mean_absolute_error: 0.483 - ETA: 0s - loss: 0.4388 - mean_absolute_error: 0.483 - ETA: 0s - loss: 0.4388 - mean_absolute_error: 0.483 - ETA: 0s - loss: 0.4386 - mean_absolute_error: 0.483 - ETA: 0s - loss: 0.4386 - mean_absolute_error: 0.483 - ETA: 0s - loss: 0.4387 - mean_absolute_error: 0.483 - ETA: 0s - loss: 0.4387 - mean_absolute_error: 0.483 - ETA: 0s - loss: 0.4387 - mean_absolute_error: 0.483 - ETA: 0s - loss: 0.4388 - mean_absolute_error: 0.483 - ETA: 0s - loss: 0.4388 - mean_absolute_error: 0.483 - ETA: 0s - loss: 0.4386 - mean_absolute_error: 0.483 - ETA: 0s - loss: 0.4384 - mean_absolute_error: 0.483 - ETA: 0s - loss: 0.4383 - mean_absolute_error: 0.483 - ETA: 0s - loss: 0.4384 - mean_absolute_error: 0.483 - ETA: 0s - loss: 0.4385 - mean_absolute_error: 0.483 - ETA: 0s - loss: 0.4383 - mean_absolute_error: 0.483 - ETA: 0s - loss: 0.4385 - mean_absolute_error: 0.483 - ETA: 0s - loss: 0.4384 - mean_absolute_error: 0.483 - 38s - loss: 0.4383 - mean_absolute_error: 0.4831 - val_loss: 0.5780 - val_mean_absolute_error: 0.5896\n",
      "Epoch 7/10\n"
     ]
    },
    {
     "name": "stdout",
     "output_type": "stream",
     "text": [
      " 42400/174938 [======>.......................] - ETA: 152s - loss: 0.4166 - mean_absolute_error: 0.408 - ETA: 43s - loss: 0.4666 - mean_absolute_error: 0.496 - ETA: 39s - loss: 0.4667 - mean_absolute_error: 0.50 - ETA: 38s - loss: 0.4538 - mean_absolute_error: 0.49 - ETA: 37s - loss: 0.4331 - mean_absolute_error: 0.48 - ETA: 35s - loss: 0.4343 - mean_absolute_error: 0.48 - ETA: 35s - loss: 0.4168 - mean_absolute_error: 0.47 - ETA: 34s - loss: 0.4092 - mean_absolute_error: 0.46 - ETA: 34s - loss: 0.4039 - mean_absolute_error: 0.46 - ETA: 33s - loss: 0.3990 - mean_absolute_error: 0.46 - ETA: 33s - loss: 0.4086 - mean_absolute_error: 0.47 - ETA: 33s - loss: 0.4064 - mean_absolute_error: 0.47 - ETA: 33s - loss: 0.4170 - mean_absolute_error: 0.47 - ETA: 32s - loss: 0.4195 - mean_absolute_error: 0.47 - ETA: 32s - loss: 0.4221 - mean_absolute_error: 0.47 - ETA: 32s - loss: 0.4236 - mean_absolute_error: 0.47 - ETA: 32s - loss: 0.4186 - mean_absolute_error: 0.47 - ETA: 32s - loss: 0.4179 - mean_absolute_error: 0.47 - ETA: 32s - loss: 0.4179 - mean_absolute_error: 0.47 - ETA: 32s - loss: 0.4210 - mean_absolute_error: 0.47 - ETA: 32s - loss: 0.4209 - mean_absolute_error: 0.47 - ETA: 32s - loss: 0.4240 - mean_absolute_error: 0.48 - ETA: 31s - loss: 0.4233 - mean_absolute_error: 0.48 - ETA: 31s - loss: 0.4212 - mean_absolute_error: 0.47 - ETA: 31s - loss: 0.4232 - mean_absolute_error: 0.47 - ETA: 31s - loss: 0.4295 - mean_absolute_error: 0.48 - ETA: 31s - loss: 0.4307 - mean_absolute_error: 0.48 - ETA: 31s - loss: 0.4312 - mean_absolute_error: 0.48 - ETA: 31s - loss: 0.4354 - mean_absolute_error: 0.48 - ETA: 31s - loss: 0.4350 - mean_absolute_error: 0.48 - ETA: 31s - loss: 0.4320 - mean_absolute_error: 0.48 - ETA: 31s - loss: 0.4309 - mean_absolute_error: 0.48 - ETA: 31s - loss: 0.4304 - mean_absolute_error: 0.48 - ETA: 31s - loss: 0.4266 - mean_absolute_error: 0.47 - ETA: 31s - loss: 0.4249 - mean_absolute_error: 0.47 - ETA: 31s - loss: 0.4258 - mean_absolute_error: 0.47 - ETA: 31s - loss: 0.4243 - mean_absolute_error: 0.47 - ETA: 30s - loss: 0.4244 - mean_absolute_error: 0.47 - ETA: 30s - loss: 0.4227 - mean_absolute_error: 0.47 - ETA: 31s - loss: 0.4252 - mean_absolute_error: 0.47 - ETA: 31s - loss: 0.4277 - mean_absolute_error: 0.47 - ETA: 30s - loss: 0.4292 - mean_absolute_error: 0.48 - ETA: 30s - loss: 0.4288 - mean_absolute_error: 0.48 - ETA: 30s - loss: 0.4299 - mean_absolute_error: 0.48 - ETA: 30s - loss: 0.4295 - mean_absolute_error: 0.47 - ETA: 30s - loss: 0.4302 - mean_absolute_error: 0.48 - ETA: 30s - loss: 0.4294 - mean_absolute_error: 0.48 - ETA: 30s - loss: 0.4284 - mean_absolute_error: 0.47 - ETA: 30s - loss: 0.4294 - mean_absolute_error: 0.48 - ETA: 30s - loss: 0.4265 - mean_absolute_error: 0.47 - ETA: 30s - loss: 0.4252 - mean_absolute_error: 0.47 - ETA: 30s - loss: 0.4245 - mean_absolute_error: 0.47 - ETA: 30s - loss: 0.4247 - mean_absolute_error: 0.47 - ETA: 29s - loss: 0.4273 - mean_absolute_error: 0.47 - ETA: 29s - loss: 0.4252 - mean_absolute_error: 0.47 - ETA: 29s - loss: 0.4248 - mean_absolute_error: 0.47 - ETA: 29s - loss: 0.4257 - mean_absolute_error: 0.47 - ETA: 29s - loss: 0.4281 - mean_absolute_error: 0.47 - ETA: 29s - loss: 0.4275 - mean_absolute_error: 0.47 - ETA: 29s - loss: 0.4271 - mean_absolute_error: 0.47 - ETA: 29s - loss: 0.4290 - mean_absolute_error: 0.47 - ETA: 29s - loss: 0.4293 - mean_absolute_error: 0.47 - ETA: 29s - loss: 0.4292 - mean_absolute_error: 0.47 - ETA: 29s - loss: 0.4292 - mean_absolute_error: 0.48 - ETA: 29s - loss: 0.4313 - mean_absolute_error: 0.48 - ETA: 29s - loss: 0.4301 - mean_absolute_error: 0.48 - ETA: 29s - loss: 0.4302 - mean_absolute_error: 0.48 - ETA: 29s - loss: 0.4306 - mean_absolute_error: 0.48 - ETA: 29s - loss: 0.4302 - mean_absolute_error: 0.48 - ETA: 29s - loss: 0.4303 - mean_absolute_error: 0.48 - ETA: 29s - loss: 0.4310 - mean_absolute_error: 0.48 - ETA: 29s - loss: 0.4299 - mean_absolute_error: 0.48 - ETA: 29s - loss: 0.4310 - mean_absolute_error: 0.48 - ETA: 28s - loss: 0.4307 - mean_absolute_error: 0.48 - ETA: 28s - loss: 0.4303 - mean_absolute_error: 0.48 - ETA: 28s - loss: 0.4294 - mean_absolute_error: 0.48 - ETA: 28s - loss: 0.4297 - mean_absolute_error: 0.48 - ETA: 28s - loss: 0.4299 - mean_absolute_error: 0.48 - ETA: 28s - loss: 0.4294 - mean_absolute_error: 0.48 - ETA: 28s - loss: 0.4289 - mean_absolute_error: 0.48 - ETA: 28s - loss: 0.4286 - mean_absolute_error: 0.48 - ETA: 28s - loss: 0.4288 - mean_absolute_error: 0.48 - ETA: 28s - loss: 0.4294 - mean_absolute_error: 0.48 - ETA: 28s - loss: 0.4286 - mean_absolute_error: 0.48 - ETA: 28s - loss: 0.4281 - mean_absolute_error: 0.48 - ETA: 28s - loss: 0.4282 - mean_absolute_error: 0.48 - ETA: 28s - loss: 0.4293 - mean_absolute_error: 0.48 - ETA: 28s - loss: 0.4297 - mean_absolute_error: 0.48 - ETA: 27s - loss: 0.4292 - mean_absolute_error: 0.48 - ETA: 27s - loss: 0.4291 - mean_absolute_error: 0.48 - ETA: 27s - loss: 0.4288 - mean_absolute_error: 0.48 - ETA: 27s - loss: 0.4280 - mean_absolute_error: 0.47 - ETA: 27s - loss: 0.4282 - mean_absolute_error: 0.47 - ETA: 27s - loss: 0.4285 - mean_absolute_error: 0.48 - ETA: 27s - loss: 0.4288 - mean_absolute_error: 0.48 - ETA: 27s - loss: 0.4290 - mean_absolute_error: 0.48 - ETA: 27s - loss: 0.4294 - mean_absolute_error: 0.48 - ETA: 27s - loss: 0.4286 - mean_absolute_error: 0.48 - ETA: 27s - loss: 0.4282 - mean_absolute_error: 0.48 - ETA: 27s - loss: 0.4279 - mean_absolute_error: 0.48 - ETA: 27s - loss: 0.4278 - mean_absolute_error: 0.48 - ETA: 27s - loss: 0.4282 - mean_absolute_error: 0.48 - ETA: 27s - loss: 0.4280 - mean_absolute_error: 0.48 - ETA: 27s - loss: 0.4277 - mean_absolute_error: 0.48 - ETA: 27s - loss: 0.4272 - mean_absolute_error: 0.48 - ETA: 27s - loss: 0.4274 - mean_absolute_error: 0.48 - ETA: 27s - loss: 0.4275 - mean_absolute_error: 0.47 - ETA: 27s - loss: 0.4279 - mean_absolute_error: 0.47 - ETA: 26s - loss: 0.4278 - mean_absolute_error: 0.48 - ETA: 26s - loss: 0.4285 - mean_absolute_error: 0.48 - ETA: 26s - loss: 0.4282 - mean_absolute_error: 0.48 - ETA: 26s - loss: 0.4277 - mean_absolute_error: 0.48 - ETA: 26s - loss: 0.4274 - mean_absolute_error: 0.48 - ETA: 26s - loss: 0.4281 - mean_absolute_error: 0.48 - ETA: 26s - loss: 0.4294 - mean_absolute_error: 0.48 - ETA: 26s - loss: 0.4295 - mean_absolute_error: 0.48 - ETA: 26s - loss: 0.4294 - mean_absolute_error: 0.48 - ETA: 26s - loss: 0.4288 - mean_absolute_error: 0.48 - ETA: 26s - loss: 0.4300 - mean_absolute_error: 0.48 - ETA: 26s - loss: 0.4309 - mean_absolute_error: 0.48 - ETA: 26s - loss: 0.4316 - mean_absolute_error: 0.48 - ETA: 26s - loss: 0.4313 - mean_absolute_error: 0.48 - ETA: 26s - loss: 0.4314 - mean_absolute_error: 0.48 - ETA: 26s - loss: 0.4318 - mean_absolute_error: 0.48 - ETA: 26s - loss: 0.4313 - mean_absolute_error: 0.48 - ETA: 26s - loss: 0.4311 - mean_absolute_error: 0.48 - ETA: 26s - loss: 0.4305 - mean_absolute_error: 0.48 - ETA: 26s - loss: 0.4307 - mean_absolute_error: 0.48 - ETA: 25s - loss: 0.4300 - mean_absolute_error: 0.47 - ETA: 25s - loss: 0.4292 - mean_absolute_error: 0.47 - ETA: 25s - loss: 0.4294 - mean_absolute_error: 0.47 - ETA: 25s - loss: 0.4294 - mean_absolute_error: 0.47 - ETA: 25s - loss: 0.4293 - mean_absolute_error: 0.47 - ETA: 25s - loss: 0.4298 - mean_absolute_error: 0.47 - ETA: 25s - loss: 0.4291 - mean_absolute_error: 0.47 - ETA: 25s - loss: 0.4291 - mean_absolute_error: 0.47 - ETA: 25s - loss: 0.4291 - mean_absolute_error: 0.47 - ETA: 25s - loss: 0.4287 - mean_absolute_error: 0.47 - ETA: 25s - loss: 0.4286 - mean_absolute_error: 0.47 - ETA: 25s - loss: 0.4281 - mean_absolute_error: 0.47 - ETA: 25s - loss: 0.4280 - mean_absolute_error: 0.47 - ETA: 25s - loss: 0.4274 - mean_absolute_error: 0.47 - ETA: 25s - loss: 0.4272 - mean_absolute_error: 0.47 - ETA: 25s - loss: 0.4275 - mean_absolute_error: 0.47 - ETA: 25s - loss: 0.4274 - mean_absolute_error: 0.47 - ETA: 25s - loss: 0.4276 - mean_absolute_error: 0.47 - ETA: 25s - loss: 0.4275 - mean_absolute_error: 0.47 - ETA: 25s - loss: 0.4276 - mean_absolute_error: 0.47 - ETA: 24s - loss: 0.4273 - mean_absolute_error: 0.47 - ETA: 24s - loss: 0.4270 - mean_absolute_error: 0.47 - ETA: 24s - loss: 0.4270 - mean_absolute_error: 0.4783 85088/174938 [=============>................] - ETA: 24s - loss: 0.4270 - mean_absolute_error: 0.47 - ETA: 24s - loss: 0.4274 - mean_absolute_error: 0.47 - ETA: 24s - loss: 0.4273 - mean_absolute_error: 0.47 - ETA: 24s - loss: 0.4267 - mean_absolute_error: 0.47 - ETA: 24s - loss: 0.4267 - mean_absolute_error: 0.47 - ETA: 24s - loss: 0.4280 - mean_absolute_error: 0.47 - ETA: 24s - loss: 0.4281 - mean_absolute_error: 0.47 - ETA: 24s - loss: 0.4279 - mean_absolute_error: 0.47 - ETA: 24s - loss: 0.4279 - mean_absolute_error: 0.47 - ETA: 24s - loss: 0.4279 - mean_absolute_error: 0.47 - ETA: 24s - loss: 0.4286 - mean_absolute_error: 0.47 - ETA: 24s - loss: 0.4286 - mean_absolute_error: 0.47 - ETA: 24s - loss: 0.4286 - mean_absolute_error: 0.47 - ETA: 24s - loss: 0.4288 - mean_absolute_error: 0.47 - ETA: 23s - loss: 0.4287 - mean_absolute_error: 0.47 - ETA: 23s - loss: 0.4280 - mean_absolute_error: 0.47 - ETA: 23s - loss: 0.4280 - mean_absolute_error: 0.47 - ETA: 23s - loss: 0.4281 - mean_absolute_error: 0.47 - ETA: 23s - loss: 0.4289 - mean_absolute_error: 0.47 - ETA: 23s - loss: 0.4290 - mean_absolute_error: 0.47 - ETA: 23s - loss: 0.4288 - mean_absolute_error: 0.47 - ETA: 23s - loss: 0.4287 - mean_absolute_error: 0.47 - ETA: 23s - loss: 0.4285 - mean_absolute_error: 0.47 - ETA: 23s - loss: 0.4288 - mean_absolute_error: 0.47 - ETA: 23s - loss: 0.4291 - mean_absolute_error: 0.47 - ETA: 23s - loss: 0.4295 - mean_absolute_error: 0.47 - ETA: 23s - loss: 0.4294 - mean_absolute_error: 0.47 - ETA: 23s - loss: 0.4298 - mean_absolute_error: 0.48 - ETA: 23s - loss: 0.4301 - mean_absolute_error: 0.48 - ETA: 23s - loss: 0.4306 - mean_absolute_error: 0.48 - ETA: 23s - loss: 0.4305 - mean_absolute_error: 0.48 - ETA: 22s - loss: 0.4303 - mean_absolute_error: 0.48 - ETA: 22s - loss: 0.4301 - mean_absolute_error: 0.48 - ETA: 22s - loss: 0.4308 - mean_absolute_error: 0.48 - ETA: 22s - loss: 0.4305 - mean_absolute_error: 0.48 - ETA: 22s - loss: 0.4309 - mean_absolute_error: 0.48 - ETA: 22s - loss: 0.4310 - mean_absolute_error: 0.48 - ETA: 22s - loss: 0.4312 - mean_absolute_error: 0.48 - ETA: 22s - loss: 0.4317 - mean_absolute_error: 0.48 - ETA: 22s - loss: 0.4316 - mean_absolute_error: 0.48 - ETA: 22s - loss: 0.4316 - mean_absolute_error: 0.48 - ETA: 22s - loss: 0.4317 - mean_absolute_error: 0.48 - ETA: 22s - loss: 0.4321 - mean_absolute_error: 0.48 - ETA: 22s - loss: 0.4323 - mean_absolute_error: 0.48 - ETA: 22s - loss: 0.4321 - mean_absolute_error: 0.48 - ETA: 22s - loss: 0.4321 - mean_absolute_error: 0.48 - ETA: 22s - loss: 0.4319 - mean_absolute_error: 0.48 - ETA: 22s - loss: 0.4323 - mean_absolute_error: 0.48 - ETA: 22s - loss: 0.4321 - mean_absolute_error: 0.48 - ETA: 22s - loss: 0.4318 - mean_absolute_error: 0.48 - ETA: 22s - loss: 0.4319 - mean_absolute_error: 0.48 - ETA: 21s - loss: 0.4322 - mean_absolute_error: 0.48 - ETA: 21s - loss: 0.4327 - mean_absolute_error: 0.48 - ETA: 21s - loss: 0.4329 - mean_absolute_error: 0.48 - ETA: 21s - loss: 0.4331 - mean_absolute_error: 0.48 - ETA: 21s - loss: 0.4327 - mean_absolute_error: 0.48 - ETA: 21s - loss: 0.4330 - mean_absolute_error: 0.48 - ETA: 21s - loss: 0.4335 - mean_absolute_error: 0.48 - ETA: 21s - loss: 0.4336 - mean_absolute_error: 0.48 - ETA: 21s - loss: 0.4334 - mean_absolute_error: 0.48 - ETA: 21s - loss: 0.4335 - mean_absolute_error: 0.48 - ETA: 21s - loss: 0.4340 - mean_absolute_error: 0.48 - ETA: 21s - loss: 0.4340 - mean_absolute_error: 0.48 - ETA: 21s - loss: 0.4338 - mean_absolute_error: 0.48 - ETA: 21s - loss: 0.4338 - mean_absolute_error: 0.48 - ETA: 21s - loss: 0.4339 - mean_absolute_error: 0.48 - ETA: 21s - loss: 0.4342 - mean_absolute_error: 0.48 - ETA: 21s - loss: 0.4345 - mean_absolute_error: 0.48 - ETA: 21s - loss: 0.4342 - mean_absolute_error: 0.48 - ETA: 21s - loss: 0.4343 - mean_absolute_error: 0.48 - ETA: 21s - loss: 0.4341 - mean_absolute_error: 0.48 - ETA: 20s - loss: 0.4343 - mean_absolute_error: 0.48 - ETA: 20s - loss: 0.4345 - mean_absolute_error: 0.48 - ETA: 20s - loss: 0.4345 - mean_absolute_error: 0.48 - ETA: 20s - loss: 0.4349 - mean_absolute_error: 0.48 - ETA: 20s - loss: 0.4351 - mean_absolute_error: 0.48 - ETA: 20s - loss: 0.4350 - mean_absolute_error: 0.48 - ETA: 20s - loss: 0.4349 - mean_absolute_error: 0.48 - ETA: 20s - loss: 0.4350 - mean_absolute_error: 0.48 - ETA: 20s - loss: 0.4346 - mean_absolute_error: 0.48 - ETA: 20s - loss: 0.4346 - mean_absolute_error: 0.48 - ETA: 20s - loss: 0.4345 - mean_absolute_error: 0.48 - ETA: 20s - loss: 0.4348 - mean_absolute_error: 0.48 - ETA: 20s - loss: 0.4354 - mean_absolute_error: 0.48 - ETA: 20s - loss: 0.4354 - mean_absolute_error: 0.48 - ETA: 20s - loss: 0.4358 - mean_absolute_error: 0.48 - ETA: 20s - loss: 0.4353 - mean_absolute_error: 0.48 - ETA: 20s - loss: 0.4355 - mean_absolute_error: 0.48 - ETA: 20s - loss: 0.4355 - mean_absolute_error: 0.48 - ETA: 20s - loss: 0.4357 - mean_absolute_error: 0.48 - ETA: 19s - loss: 0.4357 - mean_absolute_error: 0.48 - ETA: 19s - loss: 0.4356 - mean_absolute_error: 0.48 - ETA: 19s - loss: 0.4356 - mean_absolute_error: 0.48 - ETA: 19s - loss: 0.4357 - mean_absolute_error: 0.48 - ETA: 19s - loss: 0.4358 - mean_absolute_error: 0.48 - ETA: 19s - loss: 0.4357 - mean_absolute_error: 0.48 - ETA: 19s - loss: 0.4355 - mean_absolute_error: 0.48 - ETA: 19s - loss: 0.4355 - mean_absolute_error: 0.48 - ETA: 19s - loss: 0.4354 - mean_absolute_error: 0.48 - ETA: 19s - loss: 0.4350 - mean_absolute_error: 0.48 - ETA: 19s - loss: 0.4349 - mean_absolute_error: 0.48 - ETA: 19s - loss: 0.4348 - mean_absolute_error: 0.48 - ETA: 19s - loss: 0.4345 - mean_absolute_error: 0.48 - ETA: 19s - loss: 0.4346 - mean_absolute_error: 0.48 - ETA: 19s - loss: 0.4344 - mean_absolute_error: 0.48 - ETA: 19s - loss: 0.4342 - mean_absolute_error: 0.48 - ETA: 19s - loss: 0.4342 - mean_absolute_error: 0.48 - ETA: 19s - loss: 0.4342 - mean_absolute_error: 0.48 - ETA: 19s - loss: 0.4341 - mean_absolute_error: 0.48 - ETA: 18s - loss: 0.4340 - mean_absolute_error: 0.48 - ETA: 18s - loss: 0.4344 - mean_absolute_error: 0.48 - ETA: 18s - loss: 0.4343 - mean_absolute_error: 0.48 - ETA: 18s - loss: 0.4345 - mean_absolute_error: 0.48 - ETA: 18s - loss: 0.4343 - mean_absolute_error: 0.48 - ETA: 18s - loss: 0.4345 - mean_absolute_error: 0.48 - ETA: 18s - loss: 0.4344 - mean_absolute_error: 0.48 - ETA: 18s - loss: 0.4344 - mean_absolute_error: 0.48 - ETA: 18s - loss: 0.4342 - mean_absolute_error: 0.48 - ETA: 18s - loss: 0.4342 - mean_absolute_error: 0.48 - ETA: 18s - loss: 0.4341 - mean_absolute_error: 0.48 - ETA: 18s - loss: 0.4338 - mean_absolute_error: 0.48 - ETA: 18s - loss: 0.4339 - mean_absolute_error: 0.48 - ETA: 18s - loss: 0.4337 - mean_absolute_error: 0.48 - ETA: 18s - loss: 0.4336 - mean_absolute_error: 0.48 - ETA: 18s - loss: 0.4330 - mean_absolute_error: 0.48 - ETA: 18s - loss: 0.4333 - mean_absolute_error: 0.48 - ETA: 18s - loss: 0.4335 - mean_absolute_error: 0.48 - ETA: 18s - loss: 0.4334 - mean_absolute_error: 0.48 - ETA: 17s - loss: 0.4332 - mean_absolute_error: 0.48 - ETA: 17s - loss: 0.4336 - mean_absolute_error: 0.48 - ETA: 17s - loss: 0.4340 - mean_absolute_error: 0.48 - ETA: 17s - loss: 0.4340 - mean_absolute_error: 0.48 - ETA: 17s - loss: 0.4341 - mean_absolute_error: 0.48 - ETA: 17s - loss: 0.4339 - mean_absolute_error: 0.48 - ETA: 17s - loss: 0.4340 - mean_absolute_error: 0.48 - ETA: 17s - loss: 0.4341 - mean_absolute_error: 0.48 - ETA: 17s - loss: 0.4338 - mean_absolute_error: 0.48 - ETA: 17s - loss: 0.4337 - mean_absolute_error: 0.48 - ETA: 17s - loss: 0.4337 - mean_absolute_error: 0.48 - ETA: 17s - loss: 0.4334 - mean_absolute_error: 0.48 - ETA: 17s - loss: 0.4334 - mean_absolute_error: 0.48 - ETA: 17s - loss: 0.4333 - mean_absolute_error: 0.48 - ETA: 17s - loss: 0.4334 - mean_absolute_error: 0.48 - ETA: 17s - loss: 0.4336 - mean_absolute_error: 0.48 - ETA: 17s - loss: 0.4335 - mean_absolute_error: 0.48 - ETA: 17s - loss: 0.4338 - mean_absolute_error: 0.48 - ETA: 17s - loss: 0.4343 - mean_absolute_error: 0.48 - ETA: 16s - loss: 0.4346 - mean_absolute_error: 0.48 - ETA: 16s - loss: 0.4347 - mean_absolute_error: 0.48 - ETA: 16s - loss: 0.4345 - mean_absolute_error: 0.48 - ETA: 16s - loss: 0.4345 - mean_absolute_error: 0.4819125632/174938 [====================>.........] - ETA: 16s - loss: 0.4344 - mean_absolute_error: 0.48 - ETA: 16s - loss: 0.4343 - mean_absolute_error: 0.48 - ETA: 16s - loss: 0.4344 - mean_absolute_error: 0.48 - ETA: 16s - loss: 0.4344 - mean_absolute_error: 0.48 - ETA: 16s - loss: 0.4345 - mean_absolute_error: 0.48 - ETA: 16s - loss: 0.4344 - mean_absolute_error: 0.48 - ETA: 16s - loss: 0.4343 - mean_absolute_error: 0.48 - ETA: 16s - loss: 0.4344 - mean_absolute_error: 0.48 - ETA: 16s - loss: 0.4347 - mean_absolute_error: 0.48 - ETA: 16s - loss: 0.4348 - mean_absolute_error: 0.48 - ETA: 16s - loss: 0.4346 - mean_absolute_error: 0.48 - ETA: 16s - loss: 0.4348 - mean_absolute_error: 0.48 - ETA: 16s - loss: 0.4349 - mean_absolute_error: 0.48 - ETA: 16s - loss: 0.4347 - mean_absolute_error: 0.48 - ETA: 16s - loss: 0.4346 - mean_absolute_error: 0.48 - ETA: 15s - loss: 0.4348 - mean_absolute_error: 0.48 - ETA: 15s - loss: 0.4349 - mean_absolute_error: 0.48 - ETA: 15s - loss: 0.4347 - mean_absolute_error: 0.48 - ETA: 15s - loss: 0.4352 - mean_absolute_error: 0.48 - ETA: 15s - loss: 0.4353 - mean_absolute_error: 0.48 - ETA: 15s - loss: 0.4352 - mean_absolute_error: 0.48 - ETA: 15s - loss: 0.4351 - mean_absolute_error: 0.48 - ETA: 15s - loss: 0.4351 - mean_absolute_error: 0.48 - ETA: 15s - loss: 0.4351 - mean_absolute_error: 0.48 - ETA: 15s - loss: 0.4351 - mean_absolute_error: 0.48 - ETA: 15s - loss: 0.4352 - mean_absolute_error: 0.48 - ETA: 15s - loss: 0.4351 - mean_absolute_error: 0.48 - ETA: 15s - loss: 0.4350 - mean_absolute_error: 0.48 - ETA: 15s - loss: 0.4351 - mean_absolute_error: 0.48 - ETA: 15s - loss: 0.4353 - mean_absolute_error: 0.48 - ETA: 15s - loss: 0.4353 - mean_absolute_error: 0.48 - ETA: 15s - loss: 0.4355 - mean_absolute_error: 0.48 - ETA: 15s - loss: 0.4358 - mean_absolute_error: 0.48 - ETA: 15s - loss: 0.4357 - mean_absolute_error: 0.48 - ETA: 15s - loss: 0.4358 - mean_absolute_error: 0.48 - ETA: 15s - loss: 0.4362 - mean_absolute_error: 0.48 - ETA: 15s - loss: 0.4363 - mean_absolute_error: 0.48 - ETA: 15s - loss: 0.4363 - mean_absolute_error: 0.48 - ETA: 14s - loss: 0.4364 - mean_absolute_error: 0.48 - ETA: 14s - loss: 0.4367 - mean_absolute_error: 0.48 - ETA: 14s - loss: 0.4367 - mean_absolute_error: 0.48 - ETA: 14s - loss: 0.4368 - mean_absolute_error: 0.48 - ETA: 14s - loss: 0.4368 - mean_absolute_error: 0.48 - ETA: 14s - loss: 0.4371 - mean_absolute_error: 0.48 - ETA: 14s - loss: 0.4372 - mean_absolute_error: 0.48 - ETA: 14s - loss: 0.4375 - mean_absolute_error: 0.48 - ETA: 14s - loss: 0.4374 - mean_absolute_error: 0.48 - ETA: 14s - loss: 0.4372 - mean_absolute_error: 0.48 - ETA: 14s - loss: 0.4372 - mean_absolute_error: 0.48 - ETA: 14s - loss: 0.4374 - mean_absolute_error: 0.48 - ETA: 14s - loss: 0.4376 - mean_absolute_error: 0.48 - ETA: 14s - loss: 0.4377 - mean_absolute_error: 0.48 - ETA: 14s - loss: 0.4376 - mean_absolute_error: 0.48 - ETA: 14s - loss: 0.4374 - mean_absolute_error: 0.48 - ETA: 14s - loss: 0.4374 - mean_absolute_error: 0.48 - ETA: 14s - loss: 0.4370 - mean_absolute_error: 0.48 - ETA: 14s - loss: 0.4369 - mean_absolute_error: 0.48 - ETA: 13s - loss: 0.4372 - mean_absolute_error: 0.48 - ETA: 13s - loss: 0.4370 - mean_absolute_error: 0.48 - ETA: 13s - loss: 0.4370 - mean_absolute_error: 0.48 - ETA: 13s - loss: 0.4369 - mean_absolute_error: 0.48 - ETA: 13s - loss: 0.4369 - mean_absolute_error: 0.48 - ETA: 13s - loss: 0.4372 - mean_absolute_error: 0.48 - ETA: 13s - loss: 0.4373 - mean_absolute_error: 0.48 - ETA: 13s - loss: 0.4377 - mean_absolute_error: 0.48 - ETA: 13s - loss: 0.4375 - mean_absolute_error: 0.48 - ETA: 13s - loss: 0.4373 - mean_absolute_error: 0.48 - ETA: 13s - loss: 0.4375 - mean_absolute_error: 0.48 - ETA: 13s - loss: 0.4377 - mean_absolute_error: 0.48 - ETA: 13s - loss: 0.4377 - mean_absolute_error: 0.48 - ETA: 13s - loss: 0.4375 - mean_absolute_error: 0.48 - ETA: 13s - loss: 0.4378 - mean_absolute_error: 0.48 - ETA: 13s - loss: 0.4377 - mean_absolute_error: 0.48 - ETA: 13s - loss: 0.4379 - mean_absolute_error: 0.48 - ETA: 13s - loss: 0.4379 - mean_absolute_error: 0.48 - ETA: 13s - loss: 0.4381 - mean_absolute_error: 0.48 - ETA: 13s - loss: 0.4381 - mean_absolute_error: 0.48 - ETA: 12s - loss: 0.4380 - mean_absolute_error: 0.48 - ETA: 12s - loss: 0.4383 - mean_absolute_error: 0.48 - ETA: 12s - loss: 0.4383 - mean_absolute_error: 0.48 - ETA: 12s - loss: 0.4384 - mean_absolute_error: 0.48 - ETA: 12s - loss: 0.4382 - mean_absolute_error: 0.48 - ETA: 12s - loss: 0.4380 - mean_absolute_error: 0.48 - ETA: 12s - loss: 0.4381 - mean_absolute_error: 0.48 - ETA: 12s - loss: 0.4379 - mean_absolute_error: 0.48 - ETA: 12s - loss: 0.4380 - mean_absolute_error: 0.48 - ETA: 12s - loss: 0.4379 - mean_absolute_error: 0.48 - ETA: 12s - loss: 0.4379 - mean_absolute_error: 0.48 - ETA: 12s - loss: 0.4378 - mean_absolute_error: 0.48 - ETA: 12s - loss: 0.4377 - mean_absolute_error: 0.48 - ETA: 12s - loss: 0.4374 - mean_absolute_error: 0.48 - ETA: 12s - loss: 0.4373 - mean_absolute_error: 0.48 - ETA: 12s - loss: 0.4371 - mean_absolute_error: 0.48 - ETA: 12s - loss: 0.4368 - mean_absolute_error: 0.48 - ETA: 12s - loss: 0.4371 - mean_absolute_error: 0.48 - ETA: 12s - loss: 0.4372 - mean_absolute_error: 0.48 - ETA: 12s - loss: 0.4373 - mean_absolute_error: 0.48 - ETA: 12s - loss: 0.4371 - mean_absolute_error: 0.48 - ETA: 12s - loss: 0.4370 - mean_absolute_error: 0.48 - ETA: 11s - loss: 0.4372 - mean_absolute_error: 0.48 - ETA: 11s - loss: 0.4372 - mean_absolute_error: 0.48 - ETA: 11s - loss: 0.4374 - mean_absolute_error: 0.48 - ETA: 11s - loss: 0.4372 - mean_absolute_error: 0.48 - ETA: 11s - loss: 0.4374 - mean_absolute_error: 0.48 - ETA: 11s - loss: 0.4377 - mean_absolute_error: 0.48 - ETA: 11s - loss: 0.4381 - mean_absolute_error: 0.48 - ETA: 11s - loss: 0.4381 - mean_absolute_error: 0.48 - ETA: 11s - loss: 0.4381 - mean_absolute_error: 0.48 - ETA: 11s - loss: 0.4380 - mean_absolute_error: 0.48 - ETA: 11s - loss: 0.4385 - mean_absolute_error: 0.48 - ETA: 11s - loss: 0.4386 - mean_absolute_error: 0.48 - ETA: 11s - loss: 0.4386 - mean_absolute_error: 0.48 - ETA: 11s - loss: 0.4387 - mean_absolute_error: 0.48 - ETA: 11s - loss: 0.4387 - mean_absolute_error: 0.48 - ETA: 11s - loss: 0.4388 - mean_absolute_error: 0.48 - ETA: 11s - loss: 0.4388 - mean_absolute_error: 0.48 - ETA: 11s - loss: 0.4389 - mean_absolute_error: 0.48 - ETA: 11s - loss: 0.4387 - mean_absolute_error: 0.48 - ETA: 11s - loss: 0.4389 - mean_absolute_error: 0.48 - ETA: 10s - loss: 0.4389 - mean_absolute_error: 0.48 - ETA: 10s - loss: 0.4389 - mean_absolute_error: 0.48 - ETA: 10s - loss: 0.4388 - mean_absolute_error: 0.48 - ETA: 10s - loss: 0.4388 - mean_absolute_error: 0.48 - ETA: 10s - loss: 0.4388 - mean_absolute_error: 0.48 - ETA: 10s - loss: 0.4388 - mean_absolute_error: 0.48 - ETA: 10s - loss: 0.4387 - mean_absolute_error: 0.48 - ETA: 10s - loss: 0.4392 - mean_absolute_error: 0.48 - ETA: 10s - loss: 0.4392 - mean_absolute_error: 0.48 - ETA: 10s - loss: 0.4391 - mean_absolute_error: 0.48 - ETA: 10s - loss: 0.4391 - mean_absolute_error: 0.48 - ETA: 10s - loss: 0.4390 - mean_absolute_error: 0.48 - ETA: 10s - loss: 0.4388 - mean_absolute_error: 0.48 - ETA: 10s - loss: 0.4392 - mean_absolute_error: 0.48 - ETA: 10s - loss: 0.4391 - mean_absolute_error: 0.48 - ETA: 10s - loss: 0.4391 - mean_absolute_error: 0.48 - ETA: 10s - loss: 0.4390 - mean_absolute_error: 0.48 - ETA: 10s - loss: 0.4391 - mean_absolute_error: 0.48 - ETA: 10s - loss: 0.4394 - mean_absolute_error: 0.48 - ETA: 10s - loss: 0.4393 - mean_absolute_error: 0.48 - ETA: 9s - loss: 0.4391 - mean_absolute_error: 0.4835 - ETA: 9s - loss: 0.4392 - mean_absolute_error: 0.483 - ETA: 9s - loss: 0.4390 - mean_absolute_error: 0.483 - ETA: 9s - loss: 0.4387 - mean_absolute_error: 0.483 - ETA: 9s - loss: 0.4387 - mean_absolute_error: 0.483 - ETA: 9s - loss: 0.4387 - mean_absolute_error: 0.483 - ETA: 9s - loss: 0.4387 - mean_absolute_error: 0.483 - ETA: 9s - loss: 0.4388 - mean_absolute_error: 0.483 - ETA: 9s - loss: 0.4388 - mean_absolute_error: 0.483 - ETA: 9s - loss: 0.4386 - mean_absolute_error: 0.483 - ETA: 9s - loss: 0.4386 - mean_absolute_error: 0.483 - ETA: 9s - loss: 0.4386 - mean_absolute_error: 0.4832"
     ]
    },
    {
     "name": "stdout",
     "output_type": "stream",
     "text": [
      "164352/174938 [===========================>..] - ETA: 9s - loss: 0.4384 - mean_absolute_error: 0.483 - ETA: 9s - loss: 0.4385 - mean_absolute_error: 0.483 - ETA: 9s - loss: 0.4385 - mean_absolute_error: 0.483 - ETA: 9s - loss: 0.4383 - mean_absolute_error: 0.483 - ETA: 9s - loss: 0.4383 - mean_absolute_error: 0.483 - ETA: 9s - loss: 0.4383 - mean_absolute_error: 0.483 - ETA: 9s - loss: 0.4382 - mean_absolute_error: 0.483 - ETA: 9s - loss: 0.4381 - mean_absolute_error: 0.482 - ETA: 8s - loss: 0.4382 - mean_absolute_error: 0.482 - ETA: 8s - loss: 0.4385 - mean_absolute_error: 0.483 - ETA: 8s - loss: 0.4386 - mean_absolute_error: 0.483 - ETA: 8s - loss: 0.4387 - mean_absolute_error: 0.483 - ETA: 8s - loss: 0.4390 - mean_absolute_error: 0.483 - ETA: 8s - loss: 0.4389 - mean_absolute_error: 0.483 - ETA: 8s - loss: 0.4394 - mean_absolute_error: 0.483 - ETA: 8s - loss: 0.4394 - mean_absolute_error: 0.483 - ETA: 8s - loss: 0.4394 - mean_absolute_error: 0.483 - ETA: 8s - loss: 0.4394 - mean_absolute_error: 0.483 - ETA: 8s - loss: 0.4397 - mean_absolute_error: 0.483 - ETA: 8s - loss: 0.4399 - mean_absolute_error: 0.483 - ETA: 8s - loss: 0.4403 - mean_absolute_error: 0.483 - ETA: 8s - loss: 0.4400 - mean_absolute_error: 0.483 - ETA: 8s - loss: 0.4399 - mean_absolute_error: 0.483 - ETA: 8s - loss: 0.4399 - mean_absolute_error: 0.483 - ETA: 8s - loss: 0.4399 - mean_absolute_error: 0.483 - ETA: 8s - loss: 0.4398 - mean_absolute_error: 0.483 - ETA: 8s - loss: 0.4400 - mean_absolute_error: 0.483 - ETA: 8s - loss: 0.4400 - mean_absolute_error: 0.483 - ETA: 8s - loss: 0.4398 - mean_absolute_error: 0.483 - ETA: 7s - loss: 0.4397 - mean_absolute_error: 0.483 - ETA: 7s - loss: 0.4395 - mean_absolute_error: 0.483 - ETA: 7s - loss: 0.4394 - mean_absolute_error: 0.483 - ETA: 7s - loss: 0.4393 - mean_absolute_error: 0.483 - ETA: 7s - loss: 0.4391 - mean_absolute_error: 0.483 - ETA: 7s - loss: 0.4392 - mean_absolute_error: 0.483 - ETA: 7s - loss: 0.4393 - mean_absolute_error: 0.483 - ETA: 7s - loss: 0.4392 - mean_absolute_error: 0.483 - ETA: 7s - loss: 0.4393 - mean_absolute_error: 0.483 - ETA: 7s - loss: 0.4393 - mean_absolute_error: 0.483 - ETA: 7s - loss: 0.4393 - mean_absolute_error: 0.483 - ETA: 7s - loss: 0.4395 - mean_absolute_error: 0.483 - ETA: 7s - loss: 0.4397 - mean_absolute_error: 0.483 - ETA: 7s - loss: 0.4397 - mean_absolute_error: 0.483 - ETA: 7s - loss: 0.4396 - mean_absolute_error: 0.483 - ETA: 7s - loss: 0.4395 - mean_absolute_error: 0.483 - ETA: 7s - loss: 0.4393 - mean_absolute_error: 0.483 - ETA: 7s - loss: 0.4392 - mean_absolute_error: 0.483 - ETA: 7s - loss: 0.4391 - mean_absolute_error: 0.483 - ETA: 7s - loss: 0.4390 - mean_absolute_error: 0.483 - ETA: 7s - loss: 0.4391 - mean_absolute_error: 0.483 - ETA: 7s - loss: 0.4390 - mean_absolute_error: 0.483 - ETA: 6s - loss: 0.4390 - mean_absolute_error: 0.483 - ETA: 6s - loss: 0.4388 - mean_absolute_error: 0.483 - ETA: 6s - loss: 0.4388 - mean_absolute_error: 0.483 - ETA: 6s - loss: 0.4388 - mean_absolute_error: 0.483 - ETA: 6s - loss: 0.4388 - mean_absolute_error: 0.483 - ETA: 6s - loss: 0.4389 - mean_absolute_error: 0.483 - ETA: 6s - loss: 0.4390 - mean_absolute_error: 0.483 - ETA: 6s - loss: 0.4391 - mean_absolute_error: 0.483 - ETA: 6s - loss: 0.4392 - mean_absolute_error: 0.483 - ETA: 6s - loss: 0.4391 - mean_absolute_error: 0.483 - ETA: 6s - loss: 0.4390 - mean_absolute_error: 0.483 - ETA: 6s - loss: 0.4389 - mean_absolute_error: 0.483 - ETA: 6s - loss: 0.4390 - mean_absolute_error: 0.483 - ETA: 6s - loss: 0.4391 - mean_absolute_error: 0.483 - ETA: 6s - loss: 0.4393 - mean_absolute_error: 0.483 - ETA: 6s - loss: 0.4394 - mean_absolute_error: 0.483 - ETA: 6s - loss: 0.4394 - mean_absolute_error: 0.483 - ETA: 6s - loss: 0.4395 - mean_absolute_error: 0.483 - ETA: 6s - loss: 0.4394 - mean_absolute_error: 0.483 - ETA: 6s - loss: 0.4396 - mean_absolute_error: 0.483 - ETA: 5s - loss: 0.4397 - mean_absolute_error: 0.483 - ETA: 5s - loss: 0.4397 - mean_absolute_error: 0.483 - ETA: 5s - loss: 0.4398 - mean_absolute_error: 0.483 - ETA: 5s - loss: 0.4399 - mean_absolute_error: 0.483 - ETA: 5s - loss: 0.4400 - mean_absolute_error: 0.483 - ETA: 5s - loss: 0.4401 - mean_absolute_error: 0.483 - ETA: 5s - loss: 0.4400 - mean_absolute_error: 0.483 - ETA: 5s - loss: 0.4399 - mean_absolute_error: 0.483 - ETA: 5s - loss: 0.4399 - mean_absolute_error: 0.483 - ETA: 5s - loss: 0.4399 - mean_absolute_error: 0.483 - ETA: 5s - loss: 0.4399 - mean_absolute_error: 0.483 - ETA: 5s - loss: 0.4399 - mean_absolute_error: 0.483 - ETA: 5s - loss: 0.4398 - mean_absolute_error: 0.483 - ETA: 5s - loss: 0.4397 - mean_absolute_error: 0.483 - ETA: 5s - loss: 0.4397 - mean_absolute_error: 0.483 - ETA: 5s - loss: 0.4397 - mean_absolute_error: 0.483 - ETA: 5s - loss: 0.4395 - mean_absolute_error: 0.483 - ETA: 5s - loss: 0.4395 - mean_absolute_error: 0.483 - ETA: 5s - loss: 0.4393 - mean_absolute_error: 0.483 - ETA: 5s - loss: 0.4393 - mean_absolute_error: 0.483 - ETA: 5s - loss: 0.4393 - mean_absolute_error: 0.483 - ETA: 4s - loss: 0.4391 - mean_absolute_error: 0.483 - ETA: 4s - loss: 0.4393 - mean_absolute_error: 0.483 - ETA: 4s - loss: 0.4393 - mean_absolute_error: 0.483 - ETA: 4s - loss: 0.4394 - mean_absolute_error: 0.483 - ETA: 4s - loss: 0.4393 - mean_absolute_error: 0.483 - ETA: 4s - loss: 0.4391 - mean_absolute_error: 0.483 - ETA: 4s - loss: 0.4391 - mean_absolute_error: 0.483 - ETA: 4s - loss: 0.4391 - mean_absolute_error: 0.483 - ETA: 4s - loss: 0.4390 - mean_absolute_error: 0.483 - ETA: 4s - loss: 0.4389 - mean_absolute_error: 0.483 - ETA: 4s - loss: 0.4390 - mean_absolute_error: 0.483 - ETA: 4s - loss: 0.4390 - mean_absolute_error: 0.483 - ETA: 4s - loss: 0.4390 - mean_absolute_error: 0.483 - ETA: 4s - loss: 0.4390 - mean_absolute_error: 0.483 - ETA: 4s - loss: 0.4392 - mean_absolute_error: 0.483 - ETA: 4s - loss: 0.4392 - mean_absolute_error: 0.483 - ETA: 4s - loss: 0.4390 - mean_absolute_error: 0.483 - ETA: 4s - loss: 0.4388 - mean_absolute_error: 0.483 - ETA: 4s - loss: 0.4388 - mean_absolute_error: 0.483 - ETA: 4s - loss: 0.4388 - mean_absolute_error: 0.483 - ETA: 4s - loss: 0.4386 - mean_absolute_error: 0.483 - ETA: 3s - loss: 0.4387 - mean_absolute_error: 0.483 - ETA: 3s - loss: 0.4387 - mean_absolute_error: 0.483 - ETA: 3s - loss: 0.4388 - mean_absolute_error: 0.483 - ETA: 3s - loss: 0.4388 - mean_absolute_error: 0.483 - ETA: 3s - loss: 0.4388 - mean_absolute_error: 0.483 - ETA: 3s - loss: 0.4388 - mean_absolute_error: 0.483 - ETA: 3s - loss: 0.4387 - mean_absolute_error: 0.483 - ETA: 3s - loss: 0.4386 - mean_absolute_error: 0.483 - ETA: 3s - loss: 0.4385 - mean_absolute_error: 0.483 - ETA: 3s - loss: 0.4385 - mean_absolute_error: 0.483 - ETA: 3s - loss: 0.4383 - mean_absolute_error: 0.483 - ETA: 3s - loss: 0.4384 - mean_absolute_error: 0.483 - ETA: 3s - loss: 0.4384 - mean_absolute_error: 0.483 - ETA: 3s - loss: 0.4384 - mean_absolute_error: 0.483 - ETA: 3s - loss: 0.4384 - mean_absolute_error: 0.483 - ETA: 3s - loss: 0.4384 - mean_absolute_error: 0.483 - ETA: 3s - loss: 0.4383 - mean_absolute_error: 0.483 - ETA: 3s - loss: 0.4383 - mean_absolute_error: 0.483 - ETA: 3s - loss: 0.4384 - mean_absolute_error: 0.483 - ETA: 2s - loss: 0.4384 - mean_absolute_error: 0.483 - ETA: 2s - loss: 0.4385 - mean_absolute_error: 0.483 - ETA: 2s - loss: 0.4383 - mean_absolute_error: 0.483 - ETA: 2s - loss: 0.4382 - mean_absolute_error: 0.483 - ETA: 2s - loss: 0.4383 - mean_absolute_error: 0.483 - ETA: 2s - loss: 0.4383 - mean_absolute_error: 0.483 - ETA: 2s - loss: 0.4382 - mean_absolute_error: 0.483 - ETA: 2s - loss: 0.4383 - mean_absolute_error: 0.483 - ETA: 2s - loss: 0.4382 - mean_absolute_error: 0.483 - ETA: 2s - loss: 0.4381 - mean_absolute_error: 0.483 - ETA: 2s - loss: 0.4382 - mean_absolute_error: 0.483 - ETA: 2s - loss: 0.4381 - mean_absolute_error: 0.483 - ETA: 2s - loss: 0.4380 - mean_absolute_error: 0.482 - ETA: 2s - loss: 0.4380 - mean_absolute_error: 0.483 - ETA: 2s - loss: 0.4380 - mean_absolute_error: 0.483 - ETA: 2s - loss: 0.4379 - mean_absolute_error: 0.482 - ETA: 2s - loss: 0.4378 - mean_absolute_error: 0.482 - ETA: 2s - loss: 0.4379 - mean_absolute_error: 0.482 - ETA: 2s - loss: 0.4379 - mean_absolute_error: 0.4829"
     ]
    },
    {
     "name": "stdout",
     "output_type": "stream",
     "text": [
      "174938/174938 [==============================] - ETA: 2s - loss: 0.4379 - mean_absolute_error: 0.482 - ETA: 1s - loss: 0.4380 - mean_absolute_error: 0.482 - ETA: 1s - loss: 0.4380 - mean_absolute_error: 0.482 - ETA: 1s - loss: 0.4382 - mean_absolute_error: 0.482 - ETA: 1s - loss: 0.4382 - mean_absolute_error: 0.482 - ETA: 1s - loss: 0.4381 - mean_absolute_error: 0.482 - ETA: 1s - loss: 0.4381 - mean_absolute_error: 0.482 - ETA: 1s - loss: 0.4382 - mean_absolute_error: 0.482 - ETA: 1s - loss: 0.4381 - mean_absolute_error: 0.482 - ETA: 1s - loss: 0.4382 - mean_absolute_error: 0.482 - ETA: 1s - loss: 0.4384 - mean_absolute_error: 0.483 - ETA: 1s - loss: 0.4385 - mean_absolute_error: 0.483 - ETA: 1s - loss: 0.4386 - mean_absolute_error: 0.483 - ETA: 1s - loss: 0.4385 - mean_absolute_error: 0.483 - ETA: 1s - loss: 0.4386 - mean_absolute_error: 0.483 - ETA: 1s - loss: 0.4388 - mean_absolute_error: 0.483 - ETA: 1s - loss: 0.4387 - mean_absolute_error: 0.483 - ETA: 1s - loss: 0.4387 - mean_absolute_error: 0.483 - ETA: 1s - loss: 0.4388 - mean_absolute_error: 0.483 - ETA: 1s - loss: 0.4387 - mean_absolute_error: 0.483 - ETA: 1s - loss: 0.4387 - mean_absolute_error: 0.483 - ETA: 1s - loss: 0.4387 - mean_absolute_error: 0.483 - ETA: 0s - loss: 0.4388 - mean_absolute_error: 0.483 - ETA: 0s - loss: 0.4387 - mean_absolute_error: 0.483 - ETA: 0s - loss: 0.4387 - mean_absolute_error: 0.483 - ETA: 0s - loss: 0.4387 - mean_absolute_error: 0.483 - ETA: 0s - loss: 0.4387 - mean_absolute_error: 0.483 - ETA: 0s - loss: 0.4387 - mean_absolute_error: 0.483 - ETA: 0s - loss: 0.4387 - mean_absolute_error: 0.483 - ETA: 0s - loss: 0.4388 - mean_absolute_error: 0.483 - ETA: 0s - loss: 0.4386 - mean_absolute_error: 0.483 - ETA: 0s - loss: 0.4385 - mean_absolute_error: 0.483 - ETA: 0s - loss: 0.4385 - mean_absolute_error: 0.483 - ETA: 0s - loss: 0.4384 - mean_absolute_error: 0.482 - ETA: 0s - loss: 0.4383 - mean_absolute_error: 0.482 - ETA: 0s - loss: 0.4382 - mean_absolute_error: 0.482 - ETA: 0s - loss: 0.4383 - mean_absolute_error: 0.482 - ETA: 0s - loss: 0.4382 - mean_absolute_error: 0.482 - ETA: 0s - loss: 0.4381 - mean_absolute_error: 0.482 - ETA: 0s - loss: 0.4380 - mean_absolute_error: 0.482 - ETA: 0s - loss: 0.4380 - mean_absolute_error: 0.482 - ETA: 0s - loss: 0.4379 - mean_absolute_error: 0.482 - ETA: 0s - loss: 0.4379 - mean_absolute_error: 0.482 - 37s - loss: 0.4378 - mean_absolute_error: 0.4826 - val_loss: 0.5444 - val_mean_absolute_error: 0.5697\n",
      "Epoch 8/10\n"
     ]
    },
    {
     "name": "stdout",
     "output_type": "stream",
     "text": [
      " 40544/174938 [=====>........................] - ETA: 87s - loss: 0.3997 - mean_absolute_error: 0.48 - ETA: 41s - loss: 0.4482 - mean_absolute_error: 0.47 - ETA: 37s - loss: 0.4766 - mean_absolute_error: 0.48 - ETA: 36s - loss: 0.4814 - mean_absolute_error: 0.49 - ETA: 36s - loss: 0.4496 - mean_absolute_error: 0.48 - ETA: 38s - loss: 0.4442 - mean_absolute_error: 0.49 - ETA: 37s - loss: 0.4616 - mean_absolute_error: 0.49 - ETA: 36s - loss: 0.4494 - mean_absolute_error: 0.49 - ETA: 35s - loss: 0.4389 - mean_absolute_error: 0.48 - ETA: 35s - loss: 0.4477 - mean_absolute_error: 0.48 - ETA: 36s - loss: 0.4617 - mean_absolute_error: 0.49 - ETA: 35s - loss: 0.4682 - mean_absolute_error: 0.49 - ETA: 35s - loss: 0.4730 - mean_absolute_error: 0.49 - ETA: 35s - loss: 0.4633 - mean_absolute_error: 0.48 - ETA: 35s - loss: 0.4567 - mean_absolute_error: 0.48 - ETA: 35s - loss: 0.4511 - mean_absolute_error: 0.48 - ETA: 34s - loss: 0.4520 - mean_absolute_error: 0.48 - ETA: 34s - loss: 0.4458 - mean_absolute_error: 0.48 - ETA: 34s - loss: 0.4416 - mean_absolute_error: 0.48 - ETA: 34s - loss: 0.4413 - mean_absolute_error: 0.48 - ETA: 34s - loss: 0.4443 - mean_absolute_error: 0.48 - ETA: 34s - loss: 0.4398 - mean_absolute_error: 0.47 - ETA: 34s - loss: 0.4431 - mean_absolute_error: 0.48 - ETA: 34s - loss: 0.4499 - mean_absolute_error: 0.48 - ETA: 34s - loss: 0.4490 - mean_absolute_error: 0.48 - ETA: 33s - loss: 0.4477 - mean_absolute_error: 0.48 - ETA: 33s - loss: 0.4466 - mean_absolute_error: 0.48 - ETA: 33s - loss: 0.4449 - mean_absolute_error: 0.48 - ETA: 33s - loss: 0.4461 - mean_absolute_error: 0.48 - ETA: 33s - loss: 0.4464 - mean_absolute_error: 0.48 - ETA: 33s - loss: 0.4450 - mean_absolute_error: 0.48 - ETA: 33s - loss: 0.4435 - mean_absolute_error: 0.48 - ETA: 33s - loss: 0.4411 - mean_absolute_error: 0.48 - ETA: 33s - loss: 0.4421 - mean_absolute_error: 0.48 - ETA: 33s - loss: 0.4419 - mean_absolute_error: 0.48 - ETA: 33s - loss: 0.4406 - mean_absolute_error: 0.48 - ETA: 33s - loss: 0.4404 - mean_absolute_error: 0.48 - ETA: 33s - loss: 0.4415 - mean_absolute_error: 0.48 - ETA: 33s - loss: 0.4395 - mean_absolute_error: 0.47 - ETA: 33s - loss: 0.4402 - mean_absolute_error: 0.48 - ETA: 33s - loss: 0.4435 - mean_absolute_error: 0.48 - ETA: 33s - loss: 0.4416 - mean_absolute_error: 0.48 - ETA: 33s - loss: 0.4403 - mean_absolute_error: 0.48 - ETA: 32s - loss: 0.4400 - mean_absolute_error: 0.48 - ETA: 32s - loss: 0.4383 - mean_absolute_error: 0.47 - ETA: 32s - loss: 0.4373 - mean_absolute_error: 0.47 - ETA: 32s - loss: 0.4374 - mean_absolute_error: 0.47 - ETA: 32s - loss: 0.4363 - mean_absolute_error: 0.47 - ETA: 32s - loss: 0.4372 - mean_absolute_error: 0.47 - ETA: 32s - loss: 0.4373 - mean_absolute_error: 0.48 - ETA: 32s - loss: 0.4371 - mean_absolute_error: 0.48 - ETA: 32s - loss: 0.4364 - mean_absolute_error: 0.47 - ETA: 32s - loss: 0.4363 - mean_absolute_error: 0.48 - ETA: 32s - loss: 0.4367 - mean_absolute_error: 0.48 - ETA: 32s - loss: 0.4373 - mean_absolute_error: 0.48 - ETA: 32s - loss: 0.4373 - mean_absolute_error: 0.48 - ETA: 31s - loss: 0.4367 - mean_absolute_error: 0.48 - ETA: 31s - loss: 0.4368 - mean_absolute_error: 0.48 - ETA: 31s - loss: 0.4374 - mean_absolute_error: 0.48 - ETA: 31s - loss: 0.4362 - mean_absolute_error: 0.48 - ETA: 31s - loss: 0.4348 - mean_absolute_error: 0.48 - ETA: 31s - loss: 0.4368 - mean_absolute_error: 0.48 - ETA: 31s - loss: 0.4367 - mean_absolute_error: 0.48 - ETA: 31s - loss: 0.4362 - mean_absolute_error: 0.48 - ETA: 31s - loss: 0.4357 - mean_absolute_error: 0.48 - ETA: 31s - loss: 0.4353 - mean_absolute_error: 0.48 - ETA: 31s - loss: 0.4360 - mean_absolute_error: 0.48 - ETA: 31s - loss: 0.4362 - mean_absolute_error: 0.48 - ETA: 31s - loss: 0.4363 - mean_absolute_error: 0.48 - ETA: 31s - loss: 0.4365 - mean_absolute_error: 0.48 - ETA: 31s - loss: 0.4377 - mean_absolute_error: 0.48 - ETA: 31s - loss: 0.4383 - mean_absolute_error: 0.48 - ETA: 30s - loss: 0.4373 - mean_absolute_error: 0.48 - ETA: 30s - loss: 0.4379 - mean_absolute_error: 0.48 - ETA: 30s - loss: 0.4370 - mean_absolute_error: 0.48 - ETA: 30s - loss: 0.4377 - mean_absolute_error: 0.48 - ETA: 30s - loss: 0.4381 - mean_absolute_error: 0.48 - ETA: 30s - loss: 0.4391 - mean_absolute_error: 0.48 - ETA: 30s - loss: 0.4396 - mean_absolute_error: 0.48 - ETA: 30s - loss: 0.4392 - mean_absolute_error: 0.48 - ETA: 30s - loss: 0.4402 - mean_absolute_error: 0.48 - ETA: 30s - loss: 0.4410 - mean_absolute_error: 0.48 - ETA: 30s - loss: 0.4437 - mean_absolute_error: 0.48 - ETA: 30s - loss: 0.4435 - mean_absolute_error: 0.48 - ETA: 30s - loss: 0.4431 - mean_absolute_error: 0.48 - ETA: 30s - loss: 0.4443 - mean_absolute_error: 0.48 - ETA: 30s - loss: 0.4454 - mean_absolute_error: 0.48 - ETA: 29s - loss: 0.4463 - mean_absolute_error: 0.48 - ETA: 29s - loss: 0.4457 - mean_absolute_error: 0.48 - ETA: 29s - loss: 0.4455 - mean_absolute_error: 0.48 - ETA: 29s - loss: 0.4450 - mean_absolute_error: 0.48 - ETA: 29s - loss: 0.4443 - mean_absolute_error: 0.48 - ETA: 29s - loss: 0.4429 - mean_absolute_error: 0.48 - ETA: 29s - loss: 0.4430 - mean_absolute_error: 0.48 - ETA: 29s - loss: 0.4425 - mean_absolute_error: 0.48 - ETA: 29s - loss: 0.4423 - mean_absolute_error: 0.48 - ETA: 29s - loss: 0.4423 - mean_absolute_error: 0.48 - ETA: 29s - loss: 0.4439 - mean_absolute_error: 0.48 - ETA: 29s - loss: 0.4453 - mean_absolute_error: 0.48 - ETA: 29s - loss: 0.4450 - mean_absolute_error: 0.48 - ETA: 29s - loss: 0.4445 - mean_absolute_error: 0.48 - ETA: 28s - loss: 0.4451 - mean_absolute_error: 0.48 - ETA: 28s - loss: 0.4448 - mean_absolute_error: 0.48 - ETA: 28s - loss: 0.4440 - mean_absolute_error: 0.48 - ETA: 28s - loss: 0.4424 - mean_absolute_error: 0.48 - ETA: 28s - loss: 0.4416 - mean_absolute_error: 0.48 - ETA: 28s - loss: 0.4411 - mean_absolute_error: 0.48 - ETA: 28s - loss: 0.4411 - mean_absolute_error: 0.48 - ETA: 28s - loss: 0.4407 - mean_absolute_error: 0.48 - ETA: 28s - loss: 0.4398 - mean_absolute_error: 0.48 - ETA: 28s - loss: 0.4400 - mean_absolute_error: 0.48 - ETA: 28s - loss: 0.4402 - mean_absolute_error: 0.48 - ETA: 28s - loss: 0.4402 - mean_absolute_error: 0.48 - ETA: 28s - loss: 0.4398 - mean_absolute_error: 0.48 - ETA: 28s - loss: 0.4401 - mean_absolute_error: 0.48 - ETA: 28s - loss: 0.4401 - mean_absolute_error: 0.48 - ETA: 28s - loss: 0.4403 - mean_absolute_error: 0.48 - ETA: 28s - loss: 0.4405 - mean_absolute_error: 0.48 - ETA: 28s - loss: 0.4410 - mean_absolute_error: 0.48 - ETA: 28s - loss: 0.4415 - mean_absolute_error: 0.48 - ETA: 27s - loss: 0.4415 - mean_absolute_error: 0.48 - ETA: 27s - loss: 0.4409 - mean_absolute_error: 0.48 - ETA: 27s - loss: 0.4409 - mean_absolute_error: 0.48 - ETA: 27s - loss: 0.4407 - mean_absolute_error: 0.48 - ETA: 27s - loss: 0.4405 - mean_absolute_error: 0.48 - ETA: 27s - loss: 0.4400 - mean_absolute_error: 0.48 - ETA: 27s - loss: 0.4403 - mean_absolute_error: 0.48 - ETA: 27s - loss: 0.4406 - mean_absolute_error: 0.48 - ETA: 27s - loss: 0.4410 - mean_absolute_error: 0.48 - ETA: 27s - loss: 0.4403 - mean_absolute_error: 0.48 - ETA: 27s - loss: 0.4400 - mean_absolute_error: 0.48 - ETA: 27s - loss: 0.4402 - mean_absolute_error: 0.48 - ETA: 27s - loss: 0.4402 - mean_absolute_error: 0.48 - ETA: 27s - loss: 0.4401 - mean_absolute_error: 0.48 - ETA: 27s - loss: 0.4394 - mean_absolute_error: 0.48 - ETA: 27s - loss: 0.4390 - mean_absolute_error: 0.48 - ETA: 27s - loss: 0.4397 - mean_absolute_error: 0.48 - ETA: 27s - loss: 0.4396 - mean_absolute_error: 0.48 - ETA: 27s - loss: 0.4398 - mean_absolute_error: 0.48 - ETA: 26s - loss: 0.4404 - mean_absolute_error: 0.48 - ETA: 26s - loss: 0.4407 - mean_absolute_error: 0.48 - ETA: 26s - loss: 0.4414 - mean_absolute_error: 0.48 - ETA: 26s - loss: 0.4415 - mean_absolute_error: 0.48 - ETA: 26s - loss: 0.4411 - mean_absolute_error: 0.48 - ETA: 26s - loss: 0.4409 - mean_absolute_error: 0.48 - ETA: 26s - loss: 0.4410 - mean_absolute_error: 0.48 - ETA: 26s - loss: 0.4414 - mean_absolute_error: 0.48 - ETA: 26s - loss: 0.4412 - mean_absolute_error: 0.48 - ETA: 26s - loss: 0.4412 - mean_absolute_error: 0.48 - ETA: 26s - loss: 0.4418 - mean_absolute_error: 0.48 - ETA: 26s - loss: 0.4413 - mean_absolute_error: 0.4845 83456/174938 [=============>................] - ETA: 26s - loss: 0.4413 - mean_absolute_error: 0.48 - ETA: 26s - loss: 0.4405 - mean_absolute_error: 0.48 - ETA: 26s - loss: 0.4419 - mean_absolute_error: 0.48 - ETA: 26s - loss: 0.4415 - mean_absolute_error: 0.48 - ETA: 26s - loss: 0.4410 - mean_absolute_error: 0.48 - ETA: 25s - loss: 0.4413 - mean_absolute_error: 0.48 - ETA: 25s - loss: 0.4412 - mean_absolute_error: 0.48 - ETA: 25s - loss: 0.4405 - mean_absolute_error: 0.48 - ETA: 25s - loss: 0.4408 - mean_absolute_error: 0.48 - ETA: 25s - loss: 0.4411 - mean_absolute_error: 0.48 - ETA: 25s - loss: 0.4411 - mean_absolute_error: 0.48 - ETA: 25s - loss: 0.4406 - mean_absolute_error: 0.48 - ETA: 25s - loss: 0.4407 - mean_absolute_error: 0.48 - ETA: 25s - loss: 0.4405 - mean_absolute_error: 0.48 - ETA: 25s - loss: 0.4415 - mean_absolute_error: 0.48 - ETA: 25s - loss: 0.4415 - mean_absolute_error: 0.48 - ETA: 25s - loss: 0.4417 - mean_absolute_error: 0.48 - ETA: 25s - loss: 0.4417 - mean_absolute_error: 0.48 - ETA: 25s - loss: 0.4416 - mean_absolute_error: 0.48 - ETA: 25s - loss: 0.4412 - mean_absolute_error: 0.48 - ETA: 25s - loss: 0.4413 - mean_absolute_error: 0.48 - ETA: 24s - loss: 0.4413 - mean_absolute_error: 0.48 - ETA: 24s - loss: 0.4415 - mean_absolute_error: 0.48 - ETA: 24s - loss: 0.4412 - mean_absolute_error: 0.48 - ETA: 24s - loss: 0.4413 - mean_absolute_error: 0.48 - ETA: 24s - loss: 0.4413 - mean_absolute_error: 0.48 - ETA: 24s - loss: 0.4414 - mean_absolute_error: 0.48 - ETA: 24s - loss: 0.4412 - mean_absolute_error: 0.48 - ETA: 24s - loss: 0.4411 - mean_absolute_error: 0.48 - ETA: 24s - loss: 0.4411 - mean_absolute_error: 0.48 - ETA: 24s - loss: 0.4411 - mean_absolute_error: 0.48 - ETA: 24s - loss: 0.4407 - mean_absolute_error: 0.48 - ETA: 24s - loss: 0.4404 - mean_absolute_error: 0.48 - ETA: 24s - loss: 0.4400 - mean_absolute_error: 0.48 - ETA: 24s - loss: 0.4400 - mean_absolute_error: 0.48 - ETA: 24s - loss: 0.4396 - mean_absolute_error: 0.48 - ETA: 24s - loss: 0.4390 - mean_absolute_error: 0.48 - ETA: 23s - loss: 0.4392 - mean_absolute_error: 0.48 - ETA: 23s - loss: 0.4393 - mean_absolute_error: 0.48 - ETA: 23s - loss: 0.4390 - mean_absolute_error: 0.48 - ETA: 23s - loss: 0.4387 - mean_absolute_error: 0.48 - ETA: 23s - loss: 0.4388 - mean_absolute_error: 0.48 - ETA: 23s - loss: 0.4386 - mean_absolute_error: 0.48 - ETA: 23s - loss: 0.4389 - mean_absolute_error: 0.48 - ETA: 23s - loss: 0.4393 - mean_absolute_error: 0.48 - ETA: 23s - loss: 0.4398 - mean_absolute_error: 0.48 - ETA: 23s - loss: 0.4398 - mean_absolute_error: 0.48 - ETA: 23s - loss: 0.4394 - mean_absolute_error: 0.48 - ETA: 23s - loss: 0.4397 - mean_absolute_error: 0.48 - ETA: 23s - loss: 0.4401 - mean_absolute_error: 0.48 - ETA: 23s - loss: 0.4400 - mean_absolute_error: 0.48 - ETA: 23s - loss: 0.4395 - mean_absolute_error: 0.48 - ETA: 23s - loss: 0.4394 - mean_absolute_error: 0.48 - ETA: 23s - loss: 0.4392 - mean_absolute_error: 0.48 - ETA: 23s - loss: 0.4384 - mean_absolute_error: 0.48 - ETA: 22s - loss: 0.4384 - mean_absolute_error: 0.48 - ETA: 22s - loss: 0.4382 - mean_absolute_error: 0.48 - ETA: 22s - loss: 0.4384 - mean_absolute_error: 0.48 - ETA: 22s - loss: 0.4379 - mean_absolute_error: 0.48 - ETA: 22s - loss: 0.4379 - mean_absolute_error: 0.48 - ETA: 22s - loss: 0.4382 - mean_absolute_error: 0.48 - ETA: 22s - loss: 0.4383 - mean_absolute_error: 0.48 - ETA: 22s - loss: 0.4381 - mean_absolute_error: 0.48 - ETA: 22s - loss: 0.4376 - mean_absolute_error: 0.48 - ETA: 22s - loss: 0.4383 - mean_absolute_error: 0.48 - ETA: 22s - loss: 0.4386 - mean_absolute_error: 0.48 - ETA: 22s - loss: 0.4383 - mean_absolute_error: 0.48 - ETA: 22s - loss: 0.4381 - mean_absolute_error: 0.48 - ETA: 22s - loss: 0.4379 - mean_absolute_error: 0.48 - ETA: 22s - loss: 0.4382 - mean_absolute_error: 0.48 - ETA: 22s - loss: 0.4380 - mean_absolute_error: 0.48 - ETA: 22s - loss: 0.4381 - mean_absolute_error: 0.48 - ETA: 22s - loss: 0.4383 - mean_absolute_error: 0.48 - ETA: 21s - loss: 0.4384 - mean_absolute_error: 0.48 - ETA: 21s - loss: 0.4388 - mean_absolute_error: 0.48 - ETA: 21s - loss: 0.4385 - mean_absolute_error: 0.48 - ETA: 21s - loss: 0.4384 - mean_absolute_error: 0.48 - ETA: 21s - loss: 0.4383 - mean_absolute_error: 0.48 - ETA: 21s - loss: 0.4381 - mean_absolute_error: 0.48 - ETA: 21s - loss: 0.4379 - mean_absolute_error: 0.48 - ETA: 21s - loss: 0.4376 - mean_absolute_error: 0.48 - ETA: 21s - loss: 0.4377 - mean_absolute_error: 0.48 - ETA: 21s - loss: 0.4377 - mean_absolute_error: 0.48 - ETA: 21s - loss: 0.4372 - mean_absolute_error: 0.48 - ETA: 21s - loss: 0.4375 - mean_absolute_error: 0.48 - ETA: 21s - loss: 0.4377 - mean_absolute_error: 0.48 - ETA: 21s - loss: 0.4378 - mean_absolute_error: 0.48 - ETA: 21s - loss: 0.4378 - mean_absolute_error: 0.48 - ETA: 21s - loss: 0.4378 - mean_absolute_error: 0.48 - ETA: 21s - loss: 0.4382 - mean_absolute_error: 0.48 - ETA: 20s - loss: 0.4378 - mean_absolute_error: 0.48 - ETA: 20s - loss: 0.4379 - mean_absolute_error: 0.48 - ETA: 20s - loss: 0.4380 - mean_absolute_error: 0.48 - ETA: 20s - loss: 0.4381 - mean_absolute_error: 0.48 - ETA: 20s - loss: 0.4380 - mean_absolute_error: 0.48 - ETA: 20s - loss: 0.4381 - mean_absolute_error: 0.48 - ETA: 20s - loss: 0.4380 - mean_absolute_error: 0.48 - ETA: 20s - loss: 0.4381 - mean_absolute_error: 0.48 - ETA: 20s - loss: 0.4379 - mean_absolute_error: 0.48 - ETA: 20s - loss: 0.4379 - mean_absolute_error: 0.48 - ETA: 20s - loss: 0.4377 - mean_absolute_error: 0.48 - ETA: 20s - loss: 0.4377 - mean_absolute_error: 0.48 - ETA: 20s - loss: 0.4375 - mean_absolute_error: 0.48 - ETA: 20s - loss: 0.4375 - mean_absolute_error: 0.48 - ETA: 20s - loss: 0.4375 - mean_absolute_error: 0.48 - ETA: 20s - loss: 0.4372 - mean_absolute_error: 0.48 - ETA: 20s - loss: 0.4372 - mean_absolute_error: 0.48 - ETA: 19s - loss: 0.4366 - mean_absolute_error: 0.48 - ETA: 19s - loss: 0.4368 - mean_absolute_error: 0.48 - ETA: 19s - loss: 0.4367 - mean_absolute_error: 0.48 - ETA: 19s - loss: 0.4370 - mean_absolute_error: 0.48 - ETA: 19s - loss: 0.4370 - mean_absolute_error: 0.48 - ETA: 19s - loss: 0.4370 - mean_absolute_error: 0.48 - ETA: 19s - loss: 0.4372 - mean_absolute_error: 0.48 - ETA: 19s - loss: 0.4371 - mean_absolute_error: 0.48 - ETA: 19s - loss: 0.4374 - mean_absolute_error: 0.48 - ETA: 19s - loss: 0.4371 - mean_absolute_error: 0.48 - ETA: 19s - loss: 0.4368 - mean_absolute_error: 0.48 - ETA: 19s - loss: 0.4370 - mean_absolute_error: 0.48 - ETA: 19s - loss: 0.4368 - mean_absolute_error: 0.48 - ETA: 19s - loss: 0.4364 - mean_absolute_error: 0.48 - ETA: 19s - loss: 0.4365 - mean_absolute_error: 0.48 - ETA: 19s - loss: 0.4372 - mean_absolute_error: 0.48 - ETA: 18s - loss: 0.4374 - mean_absolute_error: 0.48 - ETA: 18s - loss: 0.4373 - mean_absolute_error: 0.48 - ETA: 18s - loss: 0.4371 - mean_absolute_error: 0.48 - ETA: 18s - loss: 0.4371 - mean_absolute_error: 0.48 - ETA: 18s - loss: 0.4368 - mean_absolute_error: 0.48 - ETA: 18s - loss: 0.4372 - mean_absolute_error: 0.48 - ETA: 18s - loss: 0.4373 - mean_absolute_error: 0.48 - ETA: 18s - loss: 0.4370 - mean_absolute_error: 0.48 - ETA: 18s - loss: 0.4371 - mean_absolute_error: 0.48 - ETA: 18s - loss: 0.4370 - mean_absolute_error: 0.48 - ETA: 18s - loss: 0.4372 - mean_absolute_error: 0.48 - ETA: 18s - loss: 0.4372 - mean_absolute_error: 0.48 - ETA: 18s - loss: 0.4376 - mean_absolute_error: 0.48 - ETA: 18s - loss: 0.4375 - mean_absolute_error: 0.48 - ETA: 18s - loss: 0.4372 - mean_absolute_error: 0.48 - ETA: 18s - loss: 0.4372 - mean_absolute_error: 0.48 - ETA: 18s - loss: 0.4372 - mean_absolute_error: 0.48 - ETA: 17s - loss: 0.4372 - mean_absolute_error: 0.48 - ETA: 17s - loss: 0.4368 - mean_absolute_error: 0.48 - ETA: 17s - loss: 0.4367 - mean_absolute_error: 0.48 - ETA: 17s - loss: 0.4373 - mean_absolute_error: 0.48 - ETA: 17s - loss: 0.4377 - mean_absolute_error: 0.48 - ETA: 17s - loss: 0.4383 - mean_absolute_error: 0.48 - ETA: 17s - loss: 0.4381 - mean_absolute_error: 0.48 - ETA: 17s - loss: 0.4382 - mean_absolute_error: 0.48 - ETA: 17s - loss: 0.4382 - mean_absolute_error: 0.48 - ETA: 17s - loss: 0.4379 - mean_absolute_error: 0.48 - ETA: 17s - loss: 0.4379 - mean_absolute_error: 0.4825125824/174938 [====================>.........] - ETA: 17s - loss: 0.4381 - mean_absolute_error: 0.48 - ETA: 17s - loss: 0.4382 - mean_absolute_error: 0.48 - ETA: 17s - loss: 0.4380 - mean_absolute_error: 0.48 - ETA: 17s - loss: 0.4379 - mean_absolute_error: 0.48 - ETA: 17s - loss: 0.4380 - mean_absolute_error: 0.48 - ETA: 17s - loss: 0.4379 - mean_absolute_error: 0.48 - ETA: 17s - loss: 0.4375 - mean_absolute_error: 0.48 - ETA: 17s - loss: 0.4375 - mean_absolute_error: 0.48 - ETA: 17s - loss: 0.4372 - mean_absolute_error: 0.48 - ETA: 16s - loss: 0.4373 - mean_absolute_error: 0.48 - ETA: 16s - loss: 0.4377 - mean_absolute_error: 0.48 - ETA: 16s - loss: 0.4375 - mean_absolute_error: 0.48 - ETA: 16s - loss: 0.4373 - mean_absolute_error: 0.48 - ETA: 16s - loss: 0.4373 - mean_absolute_error: 0.48 - ETA: 16s - loss: 0.4372 - mean_absolute_error: 0.48 - ETA: 16s - loss: 0.4372 - mean_absolute_error: 0.48 - ETA: 16s - loss: 0.4370 - mean_absolute_error: 0.48 - ETA: 16s - loss: 0.4375 - mean_absolute_error: 0.48 - ETA: 16s - loss: 0.4375 - mean_absolute_error: 0.48 - ETA: 16s - loss: 0.4378 - mean_absolute_error: 0.48 - ETA: 16s - loss: 0.4379 - mean_absolute_error: 0.48 - ETA: 16s - loss: 0.4379 - mean_absolute_error: 0.48 - ETA: 16s - loss: 0.4381 - mean_absolute_error: 0.48 - ETA: 16s - loss: 0.4381 - mean_absolute_error: 0.48 - ETA: 16s - loss: 0.4383 - mean_absolute_error: 0.48 - ETA: 16s - loss: 0.4387 - mean_absolute_error: 0.48 - ETA: 16s - loss: 0.4386 - mean_absolute_error: 0.48 - ETA: 16s - loss: 0.4386 - mean_absolute_error: 0.48 - ETA: 16s - loss: 0.4384 - mean_absolute_error: 0.48 - ETA: 16s - loss: 0.4384 - mean_absolute_error: 0.48 - ETA: 15s - loss: 0.4383 - mean_absolute_error: 0.48 - ETA: 15s - loss: 0.4384 - mean_absolute_error: 0.48 - ETA: 15s - loss: 0.4385 - mean_absolute_error: 0.48 - ETA: 15s - loss: 0.4386 - mean_absolute_error: 0.48 - ETA: 15s - loss: 0.4388 - mean_absolute_error: 0.48 - ETA: 15s - loss: 0.4388 - mean_absolute_error: 0.48 - ETA: 15s - loss: 0.4389 - mean_absolute_error: 0.48 - ETA: 15s - loss: 0.4387 - mean_absolute_error: 0.48 - ETA: 15s - loss: 0.4384 - mean_absolute_error: 0.48 - ETA: 15s - loss: 0.4384 - mean_absolute_error: 0.48 - ETA: 15s - loss: 0.4384 - mean_absolute_error: 0.48 - ETA: 15s - loss: 0.4383 - mean_absolute_error: 0.48 - ETA: 15s - loss: 0.4384 - mean_absolute_error: 0.48 - ETA: 15s - loss: 0.4386 - mean_absolute_error: 0.48 - ETA: 15s - loss: 0.4389 - mean_absolute_error: 0.48 - ETA: 15s - loss: 0.4389 - mean_absolute_error: 0.48 - ETA: 15s - loss: 0.4387 - mean_absolute_error: 0.48 - ETA: 15s - loss: 0.4388 - mean_absolute_error: 0.48 - ETA: 14s - loss: 0.4388 - mean_absolute_error: 0.48 - ETA: 14s - loss: 0.4389 - mean_absolute_error: 0.48 - ETA: 14s - loss: 0.4387 - mean_absolute_error: 0.48 - ETA: 14s - loss: 0.4390 - mean_absolute_error: 0.48 - ETA: 14s - loss: 0.4389 - mean_absolute_error: 0.48 - ETA: 14s - loss: 0.4390 - mean_absolute_error: 0.48 - ETA: 14s - loss: 0.4391 - mean_absolute_error: 0.48 - ETA: 14s - loss: 0.4390 - mean_absolute_error: 0.48 - ETA: 14s - loss: 0.4389 - mean_absolute_error: 0.48 - ETA: 14s - loss: 0.4386 - mean_absolute_error: 0.48 - ETA: 14s - loss: 0.4389 - mean_absolute_error: 0.48 - ETA: 14s - loss: 0.4389 - mean_absolute_error: 0.48 - ETA: 14s - loss: 0.4387 - mean_absolute_error: 0.48 - ETA: 14s - loss: 0.4387 - mean_absolute_error: 0.48 - ETA: 14s - loss: 0.4386 - mean_absolute_error: 0.48 - ETA: 14s - loss: 0.4384 - mean_absolute_error: 0.48 - ETA: 14s - loss: 0.4382 - mean_absolute_error: 0.48 - ETA: 14s - loss: 0.4383 - mean_absolute_error: 0.48 - ETA: 13s - loss: 0.4382 - mean_absolute_error: 0.48 - ETA: 13s - loss: 0.4381 - mean_absolute_error: 0.48 - ETA: 13s - loss: 0.4381 - mean_absolute_error: 0.48 - ETA: 13s - loss: 0.4379 - mean_absolute_error: 0.48 - ETA: 13s - loss: 0.4377 - mean_absolute_error: 0.48 - ETA: 13s - loss: 0.4376 - mean_absolute_error: 0.48 - ETA: 13s - loss: 0.4382 - mean_absolute_error: 0.48 - ETA: 13s - loss: 0.4379 - mean_absolute_error: 0.48 - ETA: 13s - loss: 0.4376 - mean_absolute_error: 0.48 - ETA: 13s - loss: 0.4380 - mean_absolute_error: 0.48 - ETA: 13s - loss: 0.4379 - mean_absolute_error: 0.48 - ETA: 13s - loss: 0.4377 - mean_absolute_error: 0.48 - ETA: 13s - loss: 0.4379 - mean_absolute_error: 0.48 - ETA: 13s - loss: 0.4379 - mean_absolute_error: 0.48 - ETA: 13s - loss: 0.4379 - mean_absolute_error: 0.48 - ETA: 13s - loss: 0.4378 - mean_absolute_error: 0.48 - ETA: 13s - loss: 0.4380 - mean_absolute_error: 0.48 - ETA: 13s - loss: 0.4379 - mean_absolute_error: 0.48 - ETA: 13s - loss: 0.4378 - mean_absolute_error: 0.48 - ETA: 12s - loss: 0.4379 - mean_absolute_error: 0.48 - ETA: 12s - loss: 0.4381 - mean_absolute_error: 0.48 - ETA: 12s - loss: 0.4381 - mean_absolute_error: 0.48 - ETA: 12s - loss: 0.4380 - mean_absolute_error: 0.48 - ETA: 12s - loss: 0.4379 - mean_absolute_error: 0.48 - ETA: 12s - loss: 0.4377 - mean_absolute_error: 0.48 - ETA: 12s - loss: 0.4377 - mean_absolute_error: 0.48 - ETA: 12s - loss: 0.4375 - mean_absolute_error: 0.48 - ETA: 12s - loss: 0.4376 - mean_absolute_error: 0.48 - ETA: 12s - loss: 0.4378 - mean_absolute_error: 0.48 - ETA: 12s - loss: 0.4378 - mean_absolute_error: 0.48 - ETA: 12s - loss: 0.4381 - mean_absolute_error: 0.48 - ETA: 12s - loss: 0.4381 - mean_absolute_error: 0.48 - ETA: 12s - loss: 0.4382 - mean_absolute_error: 0.48 - ETA: 12s - loss: 0.4380 - mean_absolute_error: 0.48 - ETA: 12s - loss: 0.4380 - mean_absolute_error: 0.48 - ETA: 12s - loss: 0.4377 - mean_absolute_error: 0.48 - ETA: 12s - loss: 0.4377 - mean_absolute_error: 0.48 - ETA: 11s - loss: 0.4375 - mean_absolute_error: 0.48 - ETA: 11s - loss: 0.4379 - mean_absolute_error: 0.48 - ETA: 11s - loss: 0.4380 - mean_absolute_error: 0.48 - ETA: 11s - loss: 0.4379 - mean_absolute_error: 0.48 - ETA: 11s - loss: 0.4382 - mean_absolute_error: 0.48 - ETA: 11s - loss: 0.4382 - mean_absolute_error: 0.48 - ETA: 11s - loss: 0.4383 - mean_absolute_error: 0.48 - ETA: 11s - loss: 0.4385 - mean_absolute_error: 0.48 - ETA: 11s - loss: 0.4386 - mean_absolute_error: 0.48 - ETA: 11s - loss: 0.4389 - mean_absolute_error: 0.48 - ETA: 11s - loss: 0.4388 - mean_absolute_error: 0.48 - ETA: 11s - loss: 0.4387 - mean_absolute_error: 0.48 - ETA: 11s - loss: 0.4383 - mean_absolute_error: 0.48 - ETA: 11s - loss: 0.4381 - mean_absolute_error: 0.48 - ETA: 11s - loss: 0.4382 - mean_absolute_error: 0.48 - ETA: 11s - loss: 0.4382 - mean_absolute_error: 0.48 - ETA: 11s - loss: 0.4380 - mean_absolute_error: 0.48 - ETA: 11s - loss: 0.4383 - mean_absolute_error: 0.48 - ETA: 10s - loss: 0.4385 - mean_absolute_error: 0.48 - ETA: 10s - loss: 0.4384 - mean_absolute_error: 0.48 - ETA: 10s - loss: 0.4382 - mean_absolute_error: 0.48 - ETA: 10s - loss: 0.4383 - mean_absolute_error: 0.48 - ETA: 10s - loss: 0.4382 - mean_absolute_error: 0.48 - ETA: 10s - loss: 0.4383 - mean_absolute_error: 0.48 - ETA: 10s - loss: 0.4383 - mean_absolute_error: 0.48 - ETA: 10s - loss: 0.4382 - mean_absolute_error: 0.48 - ETA: 10s - loss: 0.4381 - mean_absolute_error: 0.48 - ETA: 10s - loss: 0.4382 - mean_absolute_error: 0.48 - ETA: 10s - loss: 0.4382 - mean_absolute_error: 0.48 - ETA: 10s - loss: 0.4380 - mean_absolute_error: 0.48 - ETA: 10s - loss: 0.4379 - mean_absolute_error: 0.48 - ETA: 10s - loss: 0.4378 - mean_absolute_error: 0.48 - ETA: 10s - loss: 0.4380 - mean_absolute_error: 0.48 - ETA: 10s - loss: 0.4380 - mean_absolute_error: 0.48 - ETA: 10s - loss: 0.4381 - mean_absolute_error: 0.48 - ETA: 9s - loss: 0.4380 - mean_absolute_error: 0.4828 - ETA: 9s - loss: 0.4378 - mean_absolute_error: 0.482 - ETA: 9s - loss: 0.4375 - mean_absolute_error: 0.482 - ETA: 9s - loss: 0.4376 - mean_absolute_error: 0.482 - ETA: 9s - loss: 0.4377 - mean_absolute_error: 0.482 - ETA: 9s - loss: 0.4376 - mean_absolute_error: 0.482 - ETA: 9s - loss: 0.4377 - mean_absolute_error: 0.482 - ETA: 9s - loss: 0.4375 - mean_absolute_error: 0.482 - ETA: 9s - loss: 0.4375 - mean_absolute_error: 0.482 - ETA: 9s - loss: 0.4375 - mean_absolute_error: 0.482 - ETA: 9s - loss: 0.4377 - mean_absolute_error: 0.482 - ETA: 9s - loss: 0.4376 - mean_absolute_error: 0.482 - ETA: 9s - loss: 0.4374 - mean_absolute_error: 0.4825"
     ]
    },
    {
     "name": "stdout",
     "output_type": "stream",
     "text": [
      "169216/174938 [============================>.] - ETA: 9s - loss: 0.4373 - mean_absolute_error: 0.482 - ETA: 9s - loss: 0.4372 - mean_absolute_error: 0.482 - ETA: 9s - loss: 0.4372 - mean_absolute_error: 0.482 - ETA: 9s - loss: 0.4371 - mean_absolute_error: 0.482 - ETA: 9s - loss: 0.4372 - mean_absolute_error: 0.482 - ETA: 8s - loss: 0.4372 - mean_absolute_error: 0.482 - ETA: 8s - loss: 0.4371 - mean_absolute_error: 0.482 - ETA: 8s - loss: 0.4372 - mean_absolute_error: 0.482 - ETA: 8s - loss: 0.4371 - mean_absolute_error: 0.482 - ETA: 8s - loss: 0.4373 - mean_absolute_error: 0.482 - ETA: 8s - loss: 0.4373 - mean_absolute_error: 0.482 - ETA: 8s - loss: 0.4372 - mean_absolute_error: 0.482 - ETA: 8s - loss: 0.4371 - mean_absolute_error: 0.482 - ETA: 8s - loss: 0.4370 - mean_absolute_error: 0.482 - ETA: 8s - loss: 0.4371 - mean_absolute_error: 0.482 - ETA: 8s - loss: 0.4373 - mean_absolute_error: 0.482 - ETA: 8s - loss: 0.4374 - mean_absolute_error: 0.482 - ETA: 8s - loss: 0.4374 - mean_absolute_error: 0.482 - ETA: 8s - loss: 0.4374 - mean_absolute_error: 0.482 - ETA: 8s - loss: 0.4373 - mean_absolute_error: 0.482 - ETA: 8s - loss: 0.4371 - mean_absolute_error: 0.482 - ETA: 8s - loss: 0.4370 - mean_absolute_error: 0.482 - ETA: 8s - loss: 0.4372 - mean_absolute_error: 0.482 - ETA: 8s - loss: 0.4372 - mean_absolute_error: 0.482 - ETA: 7s - loss: 0.4372 - mean_absolute_error: 0.482 - ETA: 7s - loss: 0.4374 - mean_absolute_error: 0.482 - ETA: 7s - loss: 0.4379 - mean_absolute_error: 0.482 - ETA: 7s - loss: 0.4380 - mean_absolute_error: 0.482 - ETA: 7s - loss: 0.4379 - mean_absolute_error: 0.482 - ETA: 7s - loss: 0.4379 - mean_absolute_error: 0.482 - ETA: 7s - loss: 0.4379 - mean_absolute_error: 0.482 - ETA: 7s - loss: 0.4379 - mean_absolute_error: 0.482 - ETA: 7s - loss: 0.4379 - mean_absolute_error: 0.482 - ETA: 7s - loss: 0.4379 - mean_absolute_error: 0.482 - ETA: 7s - loss: 0.4380 - mean_absolute_error: 0.482 - ETA: 7s - loss: 0.4379 - mean_absolute_error: 0.482 - ETA: 7s - loss: 0.4378 - mean_absolute_error: 0.482 - ETA: 7s - loss: 0.4380 - mean_absolute_error: 0.482 - ETA: 7s - loss: 0.4378 - mean_absolute_error: 0.482 - ETA: 7s - loss: 0.4378 - mean_absolute_error: 0.482 - ETA: 7s - loss: 0.4378 - mean_absolute_error: 0.482 - ETA: 6s - loss: 0.4378 - mean_absolute_error: 0.482 - ETA: 6s - loss: 0.4379 - mean_absolute_error: 0.482 - ETA: 6s - loss: 0.4379 - mean_absolute_error: 0.482 - ETA: 6s - loss: 0.4379 - mean_absolute_error: 0.482 - ETA: 6s - loss: 0.4379 - mean_absolute_error: 0.482 - ETA: 6s - loss: 0.4379 - mean_absolute_error: 0.482 - ETA: 6s - loss: 0.4378 - mean_absolute_error: 0.482 - ETA: 6s - loss: 0.4376 - mean_absolute_error: 0.482 - ETA: 6s - loss: 0.4375 - mean_absolute_error: 0.482 - ETA: 6s - loss: 0.4376 - mean_absolute_error: 0.482 - ETA: 6s - loss: 0.4375 - mean_absolute_error: 0.482 - ETA: 6s - loss: 0.4374 - mean_absolute_error: 0.482 - ETA: 6s - loss: 0.4372 - mean_absolute_error: 0.482 - ETA: 6s - loss: 0.4372 - mean_absolute_error: 0.482 - ETA: 6s - loss: 0.4371 - mean_absolute_error: 0.482 - ETA: 6s - loss: 0.4371 - mean_absolute_error: 0.482 - ETA: 6s - loss: 0.4372 - mean_absolute_error: 0.482 - ETA: 6s - loss: 0.4372 - mean_absolute_error: 0.482 - ETA: 6s - loss: 0.4371 - mean_absolute_error: 0.482 - ETA: 5s - loss: 0.4372 - mean_absolute_error: 0.482 - ETA: 5s - loss: 0.4372 - mean_absolute_error: 0.482 - ETA: 5s - loss: 0.4375 - mean_absolute_error: 0.482 - ETA: 5s - loss: 0.4374 - mean_absolute_error: 0.482 - ETA: 5s - loss: 0.4372 - mean_absolute_error: 0.482 - ETA: 5s - loss: 0.4374 - mean_absolute_error: 0.482 - ETA: 5s - loss: 0.4375 - mean_absolute_error: 0.482 - ETA: 5s - loss: 0.4375 - mean_absolute_error: 0.482 - ETA: 5s - loss: 0.4375 - mean_absolute_error: 0.482 - ETA: 5s - loss: 0.4375 - mean_absolute_error: 0.482 - ETA: 5s - loss: 0.4373 - mean_absolute_error: 0.482 - ETA: 5s - loss: 0.4373 - mean_absolute_error: 0.482 - ETA: 5s - loss: 0.4372 - mean_absolute_error: 0.482 - ETA: 5s - loss: 0.4372 - mean_absolute_error: 0.482 - ETA: 5s - loss: 0.4372 - mean_absolute_error: 0.482 - ETA: 5s - loss: 0.4371 - mean_absolute_error: 0.482 - ETA: 5s - loss: 0.4369 - mean_absolute_error: 0.482 - ETA: 5s - loss: 0.4371 - mean_absolute_error: 0.482 - ETA: 4s - loss: 0.4371 - mean_absolute_error: 0.482 - ETA: 4s - loss: 0.4371 - mean_absolute_error: 0.482 - ETA: 4s - loss: 0.4371 - mean_absolute_error: 0.482 - ETA: 4s - loss: 0.4370 - mean_absolute_error: 0.482 - ETA: 4s - loss: 0.4370 - mean_absolute_error: 0.482 - ETA: 4s - loss: 0.4371 - mean_absolute_error: 0.482 - ETA: 4s - loss: 0.4372 - mean_absolute_error: 0.482 - ETA: 4s - loss: 0.4371 - mean_absolute_error: 0.482 - ETA: 4s - loss: 0.4371 - mean_absolute_error: 0.482 - ETA: 4s - loss: 0.4370 - mean_absolute_error: 0.482 - ETA: 4s - loss: 0.4370 - mean_absolute_error: 0.482 - ETA: 4s - loss: 0.4371 - mean_absolute_error: 0.482 - ETA: 4s - loss: 0.4373 - mean_absolute_error: 0.482 - ETA: 4s - loss: 0.4371 - mean_absolute_error: 0.482 - ETA: 4s - loss: 0.4370 - mean_absolute_error: 0.482 - ETA: 4s - loss: 0.4369 - mean_absolute_error: 0.482 - ETA: 4s - loss: 0.4369 - mean_absolute_error: 0.482 - ETA: 4s - loss: 0.4369 - mean_absolute_error: 0.482 - ETA: 3s - loss: 0.4368 - mean_absolute_error: 0.482 - ETA: 3s - loss: 0.4367 - mean_absolute_error: 0.482 - ETA: 3s - loss: 0.4369 - mean_absolute_error: 0.482 - ETA: 3s - loss: 0.4368 - mean_absolute_error: 0.482 - ETA: 3s - loss: 0.4370 - mean_absolute_error: 0.482 - ETA: 3s - loss: 0.4370 - mean_absolute_error: 0.482 - ETA: 3s - loss: 0.4371 - mean_absolute_error: 0.482 - ETA: 3s - loss: 0.4371 - mean_absolute_error: 0.482 - ETA: 3s - loss: 0.4373 - mean_absolute_error: 0.482 - ETA: 3s - loss: 0.4373 - mean_absolute_error: 0.482 - ETA: 3s - loss: 0.4373 - mean_absolute_error: 0.482 - ETA: 3s - loss: 0.4372 - mean_absolute_error: 0.482 - ETA: 3s - loss: 0.4370 - mean_absolute_error: 0.482 - ETA: 3s - loss: 0.4369 - mean_absolute_error: 0.482 - ETA: 3s - loss: 0.4372 - mean_absolute_error: 0.482 - ETA: 3s - loss: 0.4372 - mean_absolute_error: 0.482 - ETA: 3s - loss: 0.4371 - mean_absolute_error: 0.482 - ETA: 3s - loss: 0.4372 - mean_absolute_error: 0.482 - ETA: 3s - loss: 0.4371 - mean_absolute_error: 0.482 - ETA: 2s - loss: 0.4370 - mean_absolute_error: 0.482 - ETA: 2s - loss: 0.4370 - mean_absolute_error: 0.482 - ETA: 2s - loss: 0.4370 - mean_absolute_error: 0.482 - ETA: 2s - loss: 0.4369 - mean_absolute_error: 0.482 - ETA: 2s - loss: 0.4367 - mean_absolute_error: 0.482 - ETA: 2s - loss: 0.4369 - mean_absolute_error: 0.482 - ETA: 2s - loss: 0.4368 - mean_absolute_error: 0.482 - ETA: 2s - loss: 0.4367 - mean_absolute_error: 0.482 - ETA: 2s - loss: 0.4367 - mean_absolute_error: 0.482 - ETA: 2s - loss: 0.4367 - mean_absolute_error: 0.482 - ETA: 2s - loss: 0.4369 - mean_absolute_error: 0.482 - ETA: 2s - loss: 0.4371 - mean_absolute_error: 0.482 - ETA: 2s - loss: 0.4370 - mean_absolute_error: 0.482 - ETA: 2s - loss: 0.4370 - mean_absolute_error: 0.482 - ETA: 2s - loss: 0.4368 - mean_absolute_error: 0.482 - ETA: 2s - loss: 0.4367 - mean_absolute_error: 0.482 - ETA: 2s - loss: 0.4367 - mean_absolute_error: 0.482 - ETA: 2s - loss: 0.4368 - mean_absolute_error: 0.482 - ETA: 1s - loss: 0.4368 - mean_absolute_error: 0.482 - ETA: 1s - loss: 0.4370 - mean_absolute_error: 0.482 - ETA: 1s - loss: 0.4370 - mean_absolute_error: 0.482 - ETA: 1s - loss: 0.4370 - mean_absolute_error: 0.482 - ETA: 1s - loss: 0.4369 - mean_absolute_error: 0.482 - ETA: 1s - loss: 0.4370 - mean_absolute_error: 0.482 - ETA: 1s - loss: 0.4368 - mean_absolute_error: 0.482 - ETA: 1s - loss: 0.4368 - mean_absolute_error: 0.482 - ETA: 1s - loss: 0.4367 - mean_absolute_error: 0.482 - ETA: 1s - loss: 0.4369 - mean_absolute_error: 0.482 - ETA: 1s - loss: 0.4369 - mean_absolute_error: 0.482 - ETA: 1s - loss: 0.4368 - mean_absolute_error: 0.482 - ETA: 1s - loss: 0.4370 - mean_absolute_error: 0.482 - ETA: 1s - loss: 0.4369 - mean_absolute_error: 0.482 - ETA: 1s - loss: 0.4369 - mean_absolute_error: 0.482 - ETA: 1s - loss: 0.4368 - mean_absolute_error: 0.482 - ETA: 1s - loss: 0.4367 - mean_absolute_error: 0.482 - ETA: 1s - loss: 0.4366 - mean_absolute_error: 0.4820"
     ]
    },
    {
     "name": "stdout",
     "output_type": "stream",
     "text": [
      "174938/174938 [==============================] - ETA: 1s - loss: 0.4365 - mean_absolute_error: 0.482 - ETA: 0s - loss: 0.4366 - mean_absolute_error: 0.482 - ETA: 0s - loss: 0.4366 - mean_absolute_error: 0.482 - ETA: 0s - loss: 0.4367 - mean_absolute_error: 0.482 - ETA: 0s - loss: 0.4366 - mean_absolute_error: 0.481 - ETA: 0s - loss: 0.4365 - mean_absolute_error: 0.481 - ETA: 0s - loss: 0.4363 - mean_absolute_error: 0.481 - ETA: 0s - loss: 0.4365 - mean_absolute_error: 0.481 - ETA: 0s - loss: 0.4364 - mean_absolute_error: 0.481 - ETA: 0s - loss: 0.4365 - mean_absolute_error: 0.481 - ETA: 0s - loss: 0.4365 - mean_absolute_error: 0.481 - ETA: 0s - loss: 0.4365 - mean_absolute_error: 0.481 - ETA: 0s - loss: 0.4364 - mean_absolute_error: 0.481 - ETA: 0s - loss: 0.4364 - mean_absolute_error: 0.481 - ETA: 0s - loss: 0.4366 - mean_absolute_error: 0.481 - ETA: 0s - loss: 0.4367 - mean_absolute_error: 0.482 - ETA: 0s - loss: 0.4368 - mean_absolute_error: 0.482 - ETA: 0s - loss: 0.4368 - mean_absolute_error: 0.482 - ETA: 0s - loss: 0.4366 - mean_absolute_error: 0.481 - ETA: 0s - loss: 0.4367 - mean_absolute_error: 0.482 - 35s - loss: 0.4368 - mean_absolute_error: 0.4820 - val_loss: 0.5211 - val_mean_absolute_error: 0.5543\n",
      "Epoch 9/10\n"
     ]
    },
    {
     "name": "stdout",
     "output_type": "stream",
     "text": [
      " 41824/174938 [======>.......................] - ETA: 87s - loss: 0.6266 - mean_absolute_error: 0.57 - ETA: 37s - loss: 0.3808 - mean_absolute_error: 0.46 - ETA: 34s - loss: 0.4078 - mean_absolute_error: 0.47 - ETA: 34s - loss: 0.3987 - mean_absolute_error: 0.46 - ETA: 33s - loss: 0.4015 - mean_absolute_error: 0.46 - ETA: 33s - loss: 0.4124 - mean_absolute_error: 0.46 - ETA: 33s - loss: 0.4061 - mean_absolute_error: 0.46 - ETA: 33s - loss: 0.4017 - mean_absolute_error: 0.46 - ETA: 32s - loss: 0.4055 - mean_absolute_error: 0.46 - ETA: 32s - loss: 0.4017 - mean_absolute_error: 0.46 - ETA: 32s - loss: 0.4010 - mean_absolute_error: 0.46 - ETA: 32s - loss: 0.3988 - mean_absolute_error: 0.46 - ETA: 31s - loss: 0.4034 - mean_absolute_error: 0.46 - ETA: 31s - loss: 0.4135 - mean_absolute_error: 0.47 - ETA: 31s - loss: 0.4162 - mean_absolute_error: 0.47 - ETA: 31s - loss: 0.4190 - mean_absolute_error: 0.47 - ETA: 31s - loss: 0.4223 - mean_absolute_error: 0.47 - ETA: 31s - loss: 0.4198 - mean_absolute_error: 0.47 - ETA: 31s - loss: 0.4179 - mean_absolute_error: 0.47 - ETA: 32s - loss: 0.4192 - mean_absolute_error: 0.47 - ETA: 32s - loss: 0.4176 - mean_absolute_error: 0.47 - ETA: 32s - loss: 0.4171 - mean_absolute_error: 0.47 - ETA: 32s - loss: 0.4122 - mean_absolute_error: 0.47 - ETA: 32s - loss: 0.4121 - mean_absolute_error: 0.47 - ETA: 32s - loss: 0.4139 - mean_absolute_error: 0.47 - ETA: 32s - loss: 0.4138 - mean_absolute_error: 0.47 - ETA: 31s - loss: 0.4101 - mean_absolute_error: 0.47 - ETA: 31s - loss: 0.4101 - mean_absolute_error: 0.47 - ETA: 31s - loss: 0.4123 - mean_absolute_error: 0.47 - ETA: 31s - loss: 0.4130 - mean_absolute_error: 0.47 - ETA: 31s - loss: 0.4127 - mean_absolute_error: 0.47 - ETA: 31s - loss: 0.4097 - mean_absolute_error: 0.47 - ETA: 31s - loss: 0.4136 - mean_absolute_error: 0.47 - ETA: 31s - loss: 0.4119 - mean_absolute_error: 0.47 - ETA: 31s - loss: 0.4090 - mean_absolute_error: 0.46 - ETA: 31s - loss: 0.4098 - mean_absolute_error: 0.47 - ETA: 31s - loss: 0.4100 - mean_absolute_error: 0.47 - ETA: 31s - loss: 0.4112 - mean_absolute_error: 0.47 - ETA: 31s - loss: 0.4120 - mean_absolute_error: 0.47 - ETA: 31s - loss: 0.4091 - mean_absolute_error: 0.46 - ETA: 30s - loss: 0.4097 - mean_absolute_error: 0.47 - ETA: 30s - loss: 0.4095 - mean_absolute_error: 0.46 - ETA: 30s - loss: 0.4092 - mean_absolute_error: 0.47 - ETA: 30s - loss: 0.4125 - mean_absolute_error: 0.47 - ETA: 30s - loss: 0.4154 - mean_absolute_error: 0.47 - ETA: 30s - loss: 0.4152 - mean_absolute_error: 0.47 - ETA: 30s - loss: 0.4175 - mean_absolute_error: 0.47 - ETA: 30s - loss: 0.4160 - mean_absolute_error: 0.47 - ETA: 30s - loss: 0.4183 - mean_absolute_error: 0.47 - ETA: 30s - loss: 0.4184 - mean_absolute_error: 0.47 - ETA: 30s - loss: 0.4199 - mean_absolute_error: 0.47 - ETA: 30s - loss: 0.4198 - mean_absolute_error: 0.47 - ETA: 30s - loss: 0.4203 - mean_absolute_error: 0.47 - ETA: 30s - loss: 0.4215 - mean_absolute_error: 0.47 - ETA: 30s - loss: 0.4199 - mean_absolute_error: 0.47 - ETA: 29s - loss: 0.4202 - mean_absolute_error: 0.47 - ETA: 29s - loss: 0.4187 - mean_absolute_error: 0.47 - ETA: 29s - loss: 0.4194 - mean_absolute_error: 0.47 - ETA: 29s - loss: 0.4188 - mean_absolute_error: 0.47 - ETA: 29s - loss: 0.4180 - mean_absolute_error: 0.47 - ETA: 29s - loss: 0.4172 - mean_absolute_error: 0.47 - ETA: 29s - loss: 0.4172 - mean_absolute_error: 0.47 - ETA: 29s - loss: 0.4181 - mean_absolute_error: 0.47 - ETA: 29s - loss: 0.4182 - mean_absolute_error: 0.47 - ETA: 29s - loss: 0.4176 - mean_absolute_error: 0.47 - ETA: 29s - loss: 0.4178 - mean_absolute_error: 0.47 - ETA: 29s - loss: 0.4173 - mean_absolute_error: 0.47 - ETA: 28s - loss: 0.4175 - mean_absolute_error: 0.47 - ETA: 29s - loss: 0.4166 - mean_absolute_error: 0.47 - ETA: 28s - loss: 0.4187 - mean_absolute_error: 0.47 - ETA: 28s - loss: 0.4195 - mean_absolute_error: 0.47 - ETA: 28s - loss: 0.4185 - mean_absolute_error: 0.47 - ETA: 28s - loss: 0.4187 - mean_absolute_error: 0.47 - ETA: 28s - loss: 0.4191 - mean_absolute_error: 0.47 - ETA: 28s - loss: 0.4179 - mean_absolute_error: 0.47 - ETA: 28s - loss: 0.4182 - mean_absolute_error: 0.47 - ETA: 28s - loss: 0.4181 - mean_absolute_error: 0.47 - ETA: 28s - loss: 0.4194 - mean_absolute_error: 0.47 - ETA: 28s - loss: 0.4201 - mean_absolute_error: 0.47 - ETA: 28s - loss: 0.4194 - mean_absolute_error: 0.47 - ETA: 28s - loss: 0.4193 - mean_absolute_error: 0.47 - ETA: 28s - loss: 0.4207 - mean_absolute_error: 0.47 - ETA: 28s - loss: 0.4199 - mean_absolute_error: 0.47 - ETA: 28s - loss: 0.4204 - mean_absolute_error: 0.47 - ETA: 28s - loss: 0.4198 - mean_absolute_error: 0.47 - ETA: 28s - loss: 0.4205 - mean_absolute_error: 0.47 - ETA: 28s - loss: 0.4210 - mean_absolute_error: 0.47 - ETA: 28s - loss: 0.4225 - mean_absolute_error: 0.47 - ETA: 28s - loss: 0.4227 - mean_absolute_error: 0.47 - ETA: 28s - loss: 0.4233 - mean_absolute_error: 0.47 - ETA: 28s - loss: 0.4234 - mean_absolute_error: 0.47 - ETA: 28s - loss: 0.4228 - mean_absolute_error: 0.47 - ETA: 28s - loss: 0.4226 - mean_absolute_error: 0.47 - ETA: 27s - loss: 0.4230 - mean_absolute_error: 0.47 - ETA: 27s - loss: 0.4239 - mean_absolute_error: 0.47 - ETA: 27s - loss: 0.4241 - mean_absolute_error: 0.47 - ETA: 27s - loss: 0.4234 - mean_absolute_error: 0.47 - ETA: 27s - loss: 0.4232 - mean_absolute_error: 0.47 - ETA: 27s - loss: 0.4231 - mean_absolute_error: 0.47 - ETA: 27s - loss: 0.4230 - mean_absolute_error: 0.47 - ETA: 27s - loss: 0.4242 - mean_absolute_error: 0.47 - ETA: 27s - loss: 0.4251 - mean_absolute_error: 0.47 - ETA: 27s - loss: 0.4240 - mean_absolute_error: 0.47 - ETA: 27s - loss: 0.4245 - mean_absolute_error: 0.47 - ETA: 27s - loss: 0.4243 - mean_absolute_error: 0.47 - ETA: 27s - loss: 0.4243 - mean_absolute_error: 0.47 - ETA: 27s - loss: 0.4236 - mean_absolute_error: 0.47 - ETA: 27s - loss: 0.4238 - mean_absolute_error: 0.47 - ETA: 27s - loss: 0.4240 - mean_absolute_error: 0.47 - ETA: 27s - loss: 0.4236 - mean_absolute_error: 0.47 - ETA: 27s - loss: 0.4238 - mean_absolute_error: 0.47 - ETA: 27s - loss: 0.4244 - mean_absolute_error: 0.47 - ETA: 27s - loss: 0.4247 - mean_absolute_error: 0.47 - ETA: 27s - loss: 0.4252 - mean_absolute_error: 0.47 - ETA: 26s - loss: 0.4258 - mean_absolute_error: 0.47 - ETA: 26s - loss: 0.4257 - mean_absolute_error: 0.47 - ETA: 26s - loss: 0.4250 - mean_absolute_error: 0.47 - ETA: 26s - loss: 0.4264 - mean_absolute_error: 0.47 - ETA: 26s - loss: 0.4280 - mean_absolute_error: 0.47 - ETA: 26s - loss: 0.4283 - mean_absolute_error: 0.47 - ETA: 26s - loss: 0.4282 - mean_absolute_error: 0.47 - ETA: 26s - loss: 0.4284 - mean_absolute_error: 0.47 - ETA: 26s - loss: 0.4291 - mean_absolute_error: 0.47 - ETA: 26s - loss: 0.4286 - mean_absolute_error: 0.47 - ETA: 26s - loss: 0.4287 - mean_absolute_error: 0.47 - ETA: 26s - loss: 0.4290 - mean_absolute_error: 0.47 - ETA: 26s - loss: 0.4287 - mean_absolute_error: 0.47 - ETA: 26s - loss: 0.4288 - mean_absolute_error: 0.47 - ETA: 26s - loss: 0.4283 - mean_absolute_error: 0.47 - ETA: 26s - loss: 0.4280 - mean_absolute_error: 0.47 - ETA: 26s - loss: 0.4278 - mean_absolute_error: 0.47 - ETA: 26s - loss: 0.4286 - mean_absolute_error: 0.47 - ETA: 26s - loss: 0.4287 - mean_absolute_error: 0.47 - ETA: 26s - loss: 0.4295 - mean_absolute_error: 0.47 - ETA: 26s - loss: 0.4295 - mean_absolute_error: 0.47 - ETA: 25s - loss: 0.4290 - mean_absolute_error: 0.47 - ETA: 25s - loss: 0.4285 - mean_absolute_error: 0.47 - ETA: 25s - loss: 0.4286 - mean_absolute_error: 0.47 - ETA: 25s - loss: 0.4281 - mean_absolute_error: 0.47 - ETA: 25s - loss: 0.4284 - mean_absolute_error: 0.47 - ETA: 25s - loss: 0.4281 - mean_absolute_error: 0.47 - ETA: 25s - loss: 0.4279 - mean_absolute_error: 0.47 - ETA: 25s - loss: 0.4277 - mean_absolute_error: 0.47 - ETA: 25s - loss: 0.4276 - mean_absolute_error: 0.47 - ETA: 25s - loss: 0.4273 - mean_absolute_error: 0.47 - ETA: 25s - loss: 0.4275 - mean_absolute_error: 0.47 - ETA: 25s - loss: 0.4278 - mean_absolute_error: 0.47 - ETA: 25s - loss: 0.4278 - mean_absolute_error: 0.47 - ETA: 25s - loss: 0.4272 - mean_absolute_error: 0.47 - ETA: 25s - loss: 0.4270 - mean_absolute_error: 0.47 - ETA: 25s - loss: 0.4278 - mean_absolute_error: 0.4773 82400/174938 [=============>................] - ETA: 25s - loss: 0.4276 - mean_absolute_error: 0.47 - ETA: 25s - loss: 0.4285 - mean_absolute_error: 0.47 - ETA: 25s - loss: 0.4286 - mean_absolute_error: 0.47 - ETA: 25s - loss: 0.4287 - mean_absolute_error: 0.47 - ETA: 25s - loss: 0.4283 - mean_absolute_error: 0.47 - ETA: 25s - loss: 0.4288 - mean_absolute_error: 0.47 - ETA: 24s - loss: 0.4289 - mean_absolute_error: 0.47 - ETA: 24s - loss: 0.4289 - mean_absolute_error: 0.47 - ETA: 24s - loss: 0.4292 - mean_absolute_error: 0.47 - ETA: 24s - loss: 0.4295 - mean_absolute_error: 0.47 - ETA: 24s - loss: 0.4305 - mean_absolute_error: 0.47 - ETA: 24s - loss: 0.4309 - mean_absolute_error: 0.47 - ETA: 24s - loss: 0.4317 - mean_absolute_error: 0.47 - ETA: 24s - loss: 0.4323 - mean_absolute_error: 0.47 - ETA: 24s - loss: 0.4331 - mean_absolute_error: 0.47 - ETA: 24s - loss: 0.4328 - mean_absolute_error: 0.47 - ETA: 24s - loss: 0.4323 - mean_absolute_error: 0.47 - ETA: 24s - loss: 0.4328 - mean_absolute_error: 0.47 - ETA: 24s - loss: 0.4331 - mean_absolute_error: 0.47 - ETA: 24s - loss: 0.4330 - mean_absolute_error: 0.47 - ETA: 24s - loss: 0.4331 - mean_absolute_error: 0.47 - ETA: 24s - loss: 0.4328 - mean_absolute_error: 0.47 - ETA: 24s - loss: 0.4326 - mean_absolute_error: 0.47 - ETA: 24s - loss: 0.4327 - mean_absolute_error: 0.47 - ETA: 24s - loss: 0.4327 - mean_absolute_error: 0.47 - ETA: 24s - loss: 0.4325 - mean_absolute_error: 0.47 - ETA: 23s - loss: 0.4325 - mean_absolute_error: 0.47 - ETA: 23s - loss: 0.4326 - mean_absolute_error: 0.47 - ETA: 23s - loss: 0.4326 - mean_absolute_error: 0.47 - ETA: 23s - loss: 0.4324 - mean_absolute_error: 0.47 - ETA: 23s - loss: 0.4319 - mean_absolute_error: 0.47 - ETA: 23s - loss: 0.4323 - mean_absolute_error: 0.47 - ETA: 23s - loss: 0.4325 - mean_absolute_error: 0.47 - ETA: 23s - loss: 0.4320 - mean_absolute_error: 0.47 - ETA: 23s - loss: 0.4319 - mean_absolute_error: 0.47 - ETA: 23s - loss: 0.4322 - mean_absolute_error: 0.47 - ETA: 23s - loss: 0.4330 - mean_absolute_error: 0.47 - ETA: 23s - loss: 0.4329 - mean_absolute_error: 0.47 - ETA: 23s - loss: 0.4330 - mean_absolute_error: 0.47 - ETA: 23s - loss: 0.4332 - mean_absolute_error: 0.47 - ETA: 23s - loss: 0.4334 - mean_absolute_error: 0.48 - ETA: 23s - loss: 0.4341 - mean_absolute_error: 0.48 - ETA: 23s - loss: 0.4335 - mean_absolute_error: 0.48 - ETA: 23s - loss: 0.4340 - mean_absolute_error: 0.48 - ETA: 23s - loss: 0.4339 - mean_absolute_error: 0.48 - ETA: 23s - loss: 0.4342 - mean_absolute_error: 0.48 - ETA: 22s - loss: 0.4339 - mean_absolute_error: 0.48 - ETA: 22s - loss: 0.4341 - mean_absolute_error: 0.48 - ETA: 22s - loss: 0.4339 - mean_absolute_error: 0.48 - ETA: 22s - loss: 0.4342 - mean_absolute_error: 0.48 - ETA: 22s - loss: 0.4337 - mean_absolute_error: 0.48 - ETA: 22s - loss: 0.4334 - mean_absolute_error: 0.48 - ETA: 22s - loss: 0.4336 - mean_absolute_error: 0.48 - ETA: 22s - loss: 0.4340 - mean_absolute_error: 0.48 - ETA: 22s - loss: 0.4341 - mean_absolute_error: 0.48 - ETA: 22s - loss: 0.4338 - mean_absolute_error: 0.48 - ETA: 22s - loss: 0.4332 - mean_absolute_error: 0.48 - ETA: 22s - loss: 0.4330 - mean_absolute_error: 0.47 - ETA: 22s - loss: 0.4325 - mean_absolute_error: 0.47 - ETA: 22s - loss: 0.4322 - mean_absolute_error: 0.47 - ETA: 22s - loss: 0.4320 - mean_absolute_error: 0.47 - ETA: 22s - loss: 0.4322 - mean_absolute_error: 0.47 - ETA: 22s - loss: 0.4320 - mean_absolute_error: 0.47 - ETA: 22s - loss: 0.4316 - mean_absolute_error: 0.47 - ETA: 22s - loss: 0.4315 - mean_absolute_error: 0.47 - ETA: 22s - loss: 0.4317 - mean_absolute_error: 0.47 - ETA: 22s - loss: 0.4314 - mean_absolute_error: 0.47 - ETA: 22s - loss: 0.4313 - mean_absolute_error: 0.47 - ETA: 22s - loss: 0.4310 - mean_absolute_error: 0.47 - ETA: 22s - loss: 0.4307 - mean_absolute_error: 0.47 - ETA: 22s - loss: 0.4305 - mean_absolute_error: 0.47 - ETA: 21s - loss: 0.4303 - mean_absolute_error: 0.47 - ETA: 21s - loss: 0.4299 - mean_absolute_error: 0.47 - ETA: 21s - loss: 0.4305 - mean_absolute_error: 0.47 - ETA: 21s - loss: 0.4306 - mean_absolute_error: 0.47 - ETA: 21s - loss: 0.4306 - mean_absolute_error: 0.47 - ETA: 21s - loss: 0.4311 - mean_absolute_error: 0.47 - ETA: 21s - loss: 0.4310 - mean_absolute_error: 0.47 - ETA: 21s - loss: 0.4308 - mean_absolute_error: 0.47 - ETA: 21s - loss: 0.4306 - mean_absolute_error: 0.47 - ETA: 21s - loss: 0.4304 - mean_absolute_error: 0.47 - ETA: 21s - loss: 0.4302 - mean_absolute_error: 0.47 - ETA: 21s - loss: 0.4300 - mean_absolute_error: 0.47 - ETA: 21s - loss: 0.4301 - mean_absolute_error: 0.47 - ETA: 21s - loss: 0.4308 - mean_absolute_error: 0.47 - ETA: 21s - loss: 0.4309 - mean_absolute_error: 0.47 - ETA: 21s - loss: 0.4315 - mean_absolute_error: 0.47 - ETA: 21s - loss: 0.4316 - mean_absolute_error: 0.47 - ETA: 21s - loss: 0.4319 - mean_absolute_error: 0.47 - ETA: 21s - loss: 0.4318 - mean_absolute_error: 0.47 - ETA: 20s - loss: 0.4314 - mean_absolute_error: 0.47 - ETA: 20s - loss: 0.4318 - mean_absolute_error: 0.47 - ETA: 20s - loss: 0.4316 - mean_absolute_error: 0.47 - ETA: 20s - loss: 0.4315 - mean_absolute_error: 0.47 - ETA: 20s - loss: 0.4316 - mean_absolute_error: 0.47 - ETA: 20s - loss: 0.4316 - mean_absolute_error: 0.47 - ETA: 20s - loss: 0.4314 - mean_absolute_error: 0.47 - ETA: 20s - loss: 0.4312 - mean_absolute_error: 0.47 - ETA: 20s - loss: 0.4313 - mean_absolute_error: 0.47 - ETA: 20s - loss: 0.4309 - mean_absolute_error: 0.47 - ETA: 20s - loss: 0.4310 - mean_absolute_error: 0.47 - ETA: 20s - loss: 0.4313 - mean_absolute_error: 0.47 - ETA: 20s - loss: 0.4319 - mean_absolute_error: 0.47 - ETA: 20s - loss: 0.4316 - mean_absolute_error: 0.47 - ETA: 20s - loss: 0.4315 - mean_absolute_error: 0.47 - ETA: 20s - loss: 0.4317 - mean_absolute_error: 0.47 - ETA: 20s - loss: 0.4325 - mean_absolute_error: 0.47 - ETA: 20s - loss: 0.4326 - mean_absolute_error: 0.47 - ETA: 20s - loss: 0.4328 - mean_absolute_error: 0.47 - ETA: 20s - loss: 0.4333 - mean_absolute_error: 0.47 - ETA: 19s - loss: 0.4332 - mean_absolute_error: 0.47 - ETA: 19s - loss: 0.4335 - mean_absolute_error: 0.47 - ETA: 19s - loss: 0.4330 - mean_absolute_error: 0.47 - ETA: 19s - loss: 0.4336 - mean_absolute_error: 0.47 - ETA: 19s - loss: 0.4332 - mean_absolute_error: 0.47 - ETA: 19s - loss: 0.4333 - mean_absolute_error: 0.47 - ETA: 19s - loss: 0.4330 - mean_absolute_error: 0.47 - ETA: 19s - loss: 0.4330 - mean_absolute_error: 0.47 - ETA: 19s - loss: 0.4331 - mean_absolute_error: 0.47 - ETA: 19s - loss: 0.4331 - mean_absolute_error: 0.47 - ETA: 19s - loss: 0.4334 - mean_absolute_error: 0.48 - ETA: 19s - loss: 0.4336 - mean_absolute_error: 0.48 - ETA: 19s - loss: 0.4337 - mean_absolute_error: 0.48 - ETA: 19s - loss: 0.4335 - mean_absolute_error: 0.48 - ETA: 19s - loss: 0.4333 - mean_absolute_error: 0.48 - ETA: 19s - loss: 0.4330 - mean_absolute_error: 0.47 - ETA: 19s - loss: 0.4328 - mean_absolute_error: 0.47 - ETA: 19s - loss: 0.4328 - mean_absolute_error: 0.47 - ETA: 19s - loss: 0.4328 - mean_absolute_error: 0.47 - ETA: 19s - loss: 0.4328 - mean_absolute_error: 0.47 - ETA: 18s - loss: 0.4328 - mean_absolute_error: 0.47 - ETA: 18s - loss: 0.4329 - mean_absolute_error: 0.48 - ETA: 18s - loss: 0.4329 - mean_absolute_error: 0.47 - ETA: 18s - loss: 0.4329 - mean_absolute_error: 0.48 - ETA: 18s - loss: 0.4329 - mean_absolute_error: 0.48 - ETA: 18s - loss: 0.4329 - mean_absolute_error: 0.48 - ETA: 18s - loss: 0.4327 - mean_absolute_error: 0.48 - ETA: 18s - loss: 0.4329 - mean_absolute_error: 0.48 - ETA: 18s - loss: 0.4331 - mean_absolute_error: 0.48 - ETA: 18s - loss: 0.4330 - mean_absolute_error: 0.48 - ETA: 18s - loss: 0.4333 - mean_absolute_error: 0.48 - ETA: 18s - loss: 0.4328 - mean_absolute_error: 0.48 - ETA: 18s - loss: 0.4330 - mean_absolute_error: 0.48 - ETA: 18s - loss: 0.4332 - mean_absolute_error: 0.48 - ETA: 18s - loss: 0.4332 - mean_absolute_error: 0.48 - ETA: 18s - loss: 0.4329 - mean_absolute_error: 0.48 - ETA: 18s - loss: 0.4327 - mean_absolute_error: 0.48 - ETA: 18s - loss: 0.4330 - mean_absolute_error: 0.48 - ETA: 18s - loss: 0.4330 - mean_absolute_error: 0.48 - ETA: 17s - loss: 0.4331 - mean_absolute_error: 0.48 - ETA: 17s - loss: 0.4329 - mean_absolute_error: 0.4802124736/174938 [====================>.........] - ETA: 17s - loss: 0.4331 - mean_absolute_error: 0.48 - ETA: 17s - loss: 0.4332 - mean_absolute_error: 0.48 - ETA: 17s - loss: 0.4331 - mean_absolute_error: 0.48 - ETA: 17s - loss: 0.4331 - mean_absolute_error: 0.48 - ETA: 17s - loss: 0.4327 - mean_absolute_error: 0.48 - ETA: 17s - loss: 0.4326 - mean_absolute_error: 0.48 - ETA: 17s - loss: 0.4329 - mean_absolute_error: 0.48 - ETA: 17s - loss: 0.4328 - mean_absolute_error: 0.48 - ETA: 17s - loss: 0.4328 - mean_absolute_error: 0.48 - ETA: 17s - loss: 0.4329 - mean_absolute_error: 0.48 - ETA: 17s - loss: 0.4330 - mean_absolute_error: 0.48 - ETA: 17s - loss: 0.4328 - mean_absolute_error: 0.48 - ETA: 17s - loss: 0.4325 - mean_absolute_error: 0.48 - ETA: 17s - loss: 0.4323 - mean_absolute_error: 0.47 - ETA: 17s - loss: 0.4324 - mean_absolute_error: 0.47 - ETA: 17s - loss: 0.4324 - mean_absolute_error: 0.47 - ETA: 17s - loss: 0.4326 - mean_absolute_error: 0.48 - ETA: 16s - loss: 0.4324 - mean_absolute_error: 0.47 - ETA: 16s - loss: 0.4325 - mean_absolute_error: 0.47 - ETA: 16s - loss: 0.4326 - mean_absolute_error: 0.48 - ETA: 16s - loss: 0.4328 - mean_absolute_error: 0.48 - ETA: 16s - loss: 0.4326 - mean_absolute_error: 0.48 - ETA: 16s - loss: 0.4325 - mean_absolute_error: 0.48 - ETA: 16s - loss: 0.4325 - mean_absolute_error: 0.48 - ETA: 16s - loss: 0.4327 - mean_absolute_error: 0.48 - ETA: 16s - loss: 0.4325 - mean_absolute_error: 0.48 - ETA: 16s - loss: 0.4329 - mean_absolute_error: 0.48 - ETA: 16s - loss: 0.4328 - mean_absolute_error: 0.48 - ETA: 16s - loss: 0.4332 - mean_absolute_error: 0.48 - ETA: 16s - loss: 0.4332 - mean_absolute_error: 0.48 - ETA: 16s - loss: 0.4330 - mean_absolute_error: 0.48 - ETA: 16s - loss: 0.4334 - mean_absolute_error: 0.48 - ETA: 16s - loss: 0.4336 - mean_absolute_error: 0.48 - ETA: 16s - loss: 0.4336 - mean_absolute_error: 0.48 - ETA: 15s - loss: 0.4337 - mean_absolute_error: 0.48 - ETA: 15s - loss: 0.4335 - mean_absolute_error: 0.48 - ETA: 15s - loss: 0.4333 - mean_absolute_error: 0.48 - ETA: 15s - loss: 0.4335 - mean_absolute_error: 0.48 - ETA: 15s - loss: 0.4335 - mean_absolute_error: 0.48 - ETA: 15s - loss: 0.4334 - mean_absolute_error: 0.48 - ETA: 15s - loss: 0.4333 - mean_absolute_error: 0.48 - ETA: 15s - loss: 0.4332 - mean_absolute_error: 0.48 - ETA: 15s - loss: 0.4335 - mean_absolute_error: 0.48 - ETA: 15s - loss: 0.4335 - mean_absolute_error: 0.48 - ETA: 15s - loss: 0.4334 - mean_absolute_error: 0.48 - ETA: 15s - loss: 0.4332 - mean_absolute_error: 0.48 - ETA: 15s - loss: 0.4336 - mean_absolute_error: 0.48 - ETA: 15s - loss: 0.4335 - mean_absolute_error: 0.48 - ETA: 15s - loss: 0.4335 - mean_absolute_error: 0.48 - ETA: 15s - loss: 0.4333 - mean_absolute_error: 0.48 - ETA: 15s - loss: 0.4336 - mean_absolute_error: 0.48 - ETA: 15s - loss: 0.4337 - mean_absolute_error: 0.48 - ETA: 15s - loss: 0.4337 - mean_absolute_error: 0.48 - ETA: 14s - loss: 0.4341 - mean_absolute_error: 0.48 - ETA: 14s - loss: 0.4342 - mean_absolute_error: 0.48 - ETA: 14s - loss: 0.4343 - mean_absolute_error: 0.48 - ETA: 14s - loss: 0.4342 - mean_absolute_error: 0.48 - ETA: 14s - loss: 0.4341 - mean_absolute_error: 0.48 - ETA: 14s - loss: 0.4340 - mean_absolute_error: 0.48 - ETA: 14s - loss: 0.4341 - mean_absolute_error: 0.48 - ETA: 14s - loss: 0.4340 - mean_absolute_error: 0.48 - ETA: 14s - loss: 0.4339 - mean_absolute_error: 0.48 - ETA: 14s - loss: 0.4339 - mean_absolute_error: 0.48 - ETA: 14s - loss: 0.4340 - mean_absolute_error: 0.48 - ETA: 14s - loss: 0.4342 - mean_absolute_error: 0.48 - ETA: 14s - loss: 0.4341 - mean_absolute_error: 0.48 - ETA: 14s - loss: 0.4341 - mean_absolute_error: 0.48 - ETA: 14s - loss: 0.4341 - mean_absolute_error: 0.48 - ETA: 14s - loss: 0.4341 - mean_absolute_error: 0.48 - ETA: 14s - loss: 0.4340 - mean_absolute_error: 0.48 - ETA: 14s - loss: 0.4341 - mean_absolute_error: 0.48 - ETA: 14s - loss: 0.4342 - mean_absolute_error: 0.48 - ETA: 13s - loss: 0.4343 - mean_absolute_error: 0.48 - ETA: 13s - loss: 0.4342 - mean_absolute_error: 0.48 - ETA: 13s - loss: 0.4343 - mean_absolute_error: 0.48 - ETA: 13s - loss: 0.4343 - mean_absolute_error: 0.48 - ETA: 13s - loss: 0.4342 - mean_absolute_error: 0.48 - ETA: 13s - loss: 0.4346 - mean_absolute_error: 0.48 - ETA: 13s - loss: 0.4344 - mean_absolute_error: 0.48 - ETA: 13s - loss: 0.4345 - mean_absolute_error: 0.48 - ETA: 13s - loss: 0.4346 - mean_absolute_error: 0.48 - ETA: 13s - loss: 0.4348 - mean_absolute_error: 0.48 - ETA: 13s - loss: 0.4349 - mean_absolute_error: 0.48 - ETA: 13s - loss: 0.4349 - mean_absolute_error: 0.48 - ETA: 13s - loss: 0.4350 - mean_absolute_error: 0.48 - ETA: 13s - loss: 0.4349 - mean_absolute_error: 0.48 - ETA: 13s - loss: 0.4348 - mean_absolute_error: 0.48 - ETA: 13s - loss: 0.4346 - mean_absolute_error: 0.48 - ETA: 13s - loss: 0.4344 - mean_absolute_error: 0.48 - ETA: 13s - loss: 0.4343 - mean_absolute_error: 0.48 - ETA: 12s - loss: 0.4345 - mean_absolute_error: 0.48 - ETA: 12s - loss: 0.4346 - mean_absolute_error: 0.48 - ETA: 12s - loss: 0.4347 - mean_absolute_error: 0.48 - ETA: 12s - loss: 0.4346 - mean_absolute_error: 0.48 - ETA: 12s - loss: 0.4346 - mean_absolute_error: 0.48 - ETA: 12s - loss: 0.4345 - mean_absolute_error: 0.48 - ETA: 12s - loss: 0.4350 - mean_absolute_error: 0.48 - ETA: 12s - loss: 0.4351 - mean_absolute_error: 0.48 - ETA: 12s - loss: 0.4355 - mean_absolute_error: 0.48 - ETA: 12s - loss: 0.4354 - mean_absolute_error: 0.48 - ETA: 12s - loss: 0.4352 - mean_absolute_error: 0.48 - ETA: 12s - loss: 0.4352 - mean_absolute_error: 0.48 - ETA: 12s - loss: 0.4352 - mean_absolute_error: 0.48 - ETA: 12s - loss: 0.4350 - mean_absolute_error: 0.48 - ETA: 12s - loss: 0.4349 - mean_absolute_error: 0.48 - ETA: 12s - loss: 0.4350 - mean_absolute_error: 0.48 - ETA: 12s - loss: 0.4349 - mean_absolute_error: 0.48 - ETA: 12s - loss: 0.4348 - mean_absolute_error: 0.48 - ETA: 11s - loss: 0.4347 - mean_absolute_error: 0.48 - ETA: 11s - loss: 0.4349 - mean_absolute_error: 0.48 - ETA: 11s - loss: 0.4347 - mean_absolute_error: 0.48 - ETA: 11s - loss: 0.4348 - mean_absolute_error: 0.48 - ETA: 11s - loss: 0.4347 - mean_absolute_error: 0.48 - ETA: 11s - loss: 0.4347 - mean_absolute_error: 0.48 - ETA: 11s - loss: 0.4347 - mean_absolute_error: 0.48 - ETA: 11s - loss: 0.4347 - mean_absolute_error: 0.48 - ETA: 11s - loss: 0.4348 - mean_absolute_error: 0.48 - ETA: 11s - loss: 0.4347 - mean_absolute_error: 0.48 - ETA: 11s - loss: 0.4348 - mean_absolute_error: 0.48 - ETA: 11s - loss: 0.4349 - mean_absolute_error: 0.48 - ETA: 11s - loss: 0.4351 - mean_absolute_error: 0.48 - ETA: 11s - loss: 0.4352 - mean_absolute_error: 0.48 - ETA: 11s - loss: 0.4353 - mean_absolute_error: 0.48 - ETA: 11s - loss: 0.4353 - mean_absolute_error: 0.48 - ETA: 11s - loss: 0.4358 - mean_absolute_error: 0.48 - ETA: 11s - loss: 0.4363 - mean_absolute_error: 0.48 - ETA: 10s - loss: 0.4363 - mean_absolute_error: 0.48 - ETA: 10s - loss: 0.4364 - mean_absolute_error: 0.48 - ETA: 10s - loss: 0.4362 - mean_absolute_error: 0.48 - ETA: 10s - loss: 0.4363 - mean_absolute_error: 0.48 - ETA: 10s - loss: 0.4362 - mean_absolute_error: 0.48 - ETA: 10s - loss: 0.4361 - mean_absolute_error: 0.48 - ETA: 10s - loss: 0.4360 - mean_absolute_error: 0.48 - ETA: 10s - loss: 0.4361 - mean_absolute_error: 0.48 - ETA: 10s - loss: 0.4363 - mean_absolute_error: 0.48 - ETA: 10s - loss: 0.4363 - mean_absolute_error: 0.48 - ETA: 10s - loss: 0.4362 - mean_absolute_error: 0.48 - ETA: 10s - loss: 0.4362 - mean_absolute_error: 0.48 - ETA: 10s - loss: 0.4363 - mean_absolute_error: 0.48 - ETA: 10s - loss: 0.4365 - mean_absolute_error: 0.48 - ETA: 10s - loss: 0.4364 - mean_absolute_error: 0.48 - ETA: 10s - loss: 0.4365 - mean_absolute_error: 0.48 - ETA: 10s - loss: 0.4362 - mean_absolute_error: 0.48 - ETA: 10s - loss: 0.4363 - mean_absolute_error: 0.48 - ETA: 9s - loss: 0.4363 - mean_absolute_error: 0.4816 - ETA: 9s - loss: 0.4364 - mean_absolute_error: 0.481 - ETA: 9s - loss: 0.4364 - mean_absolute_error: 0.481 - ETA: 9s - loss: 0.4365 - mean_absolute_error: 0.481 - ETA: 9s - loss: 0.4366 - mean_absolute_error: 0.481 - ETA: 9s - loss: 0.4368 - mean_absolute_error: 0.481 - ETA: 9s - loss: 0.4368 - mean_absolute_error: 0.4818"
     ]
    },
    {
     "name": "stdout",
     "output_type": "stream",
     "text": [
      "165120/174938 [===========================>..] - ETA: 9s - loss: 0.4368 - mean_absolute_error: 0.481 - ETA: 9s - loss: 0.4370 - mean_absolute_error: 0.481 - ETA: 9s - loss: 0.4370 - mean_absolute_error: 0.481 - ETA: 9s - loss: 0.4374 - mean_absolute_error: 0.481 - ETA: 9s - loss: 0.4373 - mean_absolute_error: 0.481 - ETA: 9s - loss: 0.4371 - mean_absolute_error: 0.481 - ETA: 9s - loss: 0.4371 - mean_absolute_error: 0.481 - ETA: 9s - loss: 0.4367 - mean_absolute_error: 0.481 - ETA: 9s - loss: 0.4367 - mean_absolute_error: 0.481 - ETA: 9s - loss: 0.4365 - mean_absolute_error: 0.481 - ETA: 9s - loss: 0.4366 - mean_absolute_error: 0.481 - ETA: 9s - loss: 0.4364 - mean_absolute_error: 0.481 - ETA: 8s - loss: 0.4362 - mean_absolute_error: 0.481 - ETA: 8s - loss: 0.4363 - mean_absolute_error: 0.481 - ETA: 8s - loss: 0.4360 - mean_absolute_error: 0.481 - ETA: 8s - loss: 0.4360 - mean_absolute_error: 0.481 - ETA: 8s - loss: 0.4360 - mean_absolute_error: 0.481 - ETA: 8s - loss: 0.4360 - mean_absolute_error: 0.481 - ETA: 8s - loss: 0.4359 - mean_absolute_error: 0.481 - ETA: 8s - loss: 0.4359 - mean_absolute_error: 0.481 - ETA: 8s - loss: 0.4357 - mean_absolute_error: 0.481 - ETA: 8s - loss: 0.4357 - mean_absolute_error: 0.481 - ETA: 8s - loss: 0.4354 - mean_absolute_error: 0.481 - ETA: 8s - loss: 0.4353 - mean_absolute_error: 0.481 - ETA: 8s - loss: 0.4353 - mean_absolute_error: 0.481 - ETA: 8s - loss: 0.4350 - mean_absolute_error: 0.481 - ETA: 8s - loss: 0.4350 - mean_absolute_error: 0.481 - ETA: 8s - loss: 0.4352 - mean_absolute_error: 0.481 - ETA: 8s - loss: 0.4350 - mean_absolute_error: 0.481 - ETA: 8s - loss: 0.4351 - mean_absolute_error: 0.481 - ETA: 8s - loss: 0.4353 - mean_absolute_error: 0.481 - ETA: 7s - loss: 0.4352 - mean_absolute_error: 0.481 - ETA: 7s - loss: 0.4352 - mean_absolute_error: 0.481 - ETA: 7s - loss: 0.4352 - mean_absolute_error: 0.481 - ETA: 7s - loss: 0.4353 - mean_absolute_error: 0.481 - ETA: 7s - loss: 0.4353 - mean_absolute_error: 0.481 - ETA: 7s - loss: 0.4353 - mean_absolute_error: 0.481 - ETA: 7s - loss: 0.4352 - mean_absolute_error: 0.481 - ETA: 7s - loss: 0.4353 - mean_absolute_error: 0.481 - ETA: 7s - loss: 0.4351 - mean_absolute_error: 0.481 - ETA: 7s - loss: 0.4352 - mean_absolute_error: 0.481 - ETA: 7s - loss: 0.4355 - mean_absolute_error: 0.481 - ETA: 7s - loss: 0.4353 - mean_absolute_error: 0.481 - ETA: 7s - loss: 0.4353 - mean_absolute_error: 0.481 - ETA: 7s - loss: 0.4354 - mean_absolute_error: 0.481 - ETA: 7s - loss: 0.4354 - mean_absolute_error: 0.481 - ETA: 7s - loss: 0.4355 - mean_absolute_error: 0.481 - ETA: 7s - loss: 0.4354 - mean_absolute_error: 0.481 - ETA: 7s - loss: 0.4357 - mean_absolute_error: 0.481 - ETA: 7s - loss: 0.4357 - mean_absolute_error: 0.481 - ETA: 6s - loss: 0.4357 - mean_absolute_error: 0.481 - ETA: 6s - loss: 0.4357 - mean_absolute_error: 0.481 - ETA: 6s - loss: 0.4357 - mean_absolute_error: 0.481 - ETA: 6s - loss: 0.4358 - mean_absolute_error: 0.481 - ETA: 6s - loss: 0.4356 - mean_absolute_error: 0.481 - ETA: 6s - loss: 0.4356 - mean_absolute_error: 0.481 - ETA: 6s - loss: 0.4357 - mean_absolute_error: 0.481 - ETA: 6s - loss: 0.4357 - mean_absolute_error: 0.481 - ETA: 6s - loss: 0.4359 - mean_absolute_error: 0.481 - ETA: 6s - loss: 0.4360 - mean_absolute_error: 0.481 - ETA: 6s - loss: 0.4361 - mean_absolute_error: 0.481 - ETA: 6s - loss: 0.4363 - mean_absolute_error: 0.481 - ETA: 6s - loss: 0.4363 - mean_absolute_error: 0.481 - ETA: 6s - loss: 0.4362 - mean_absolute_error: 0.481 - ETA: 6s - loss: 0.4363 - mean_absolute_error: 0.481 - ETA: 6s - loss: 0.4366 - mean_absolute_error: 0.481 - ETA: 6s - loss: 0.4366 - mean_absolute_error: 0.481 - ETA: 6s - loss: 0.4367 - mean_absolute_error: 0.481 - ETA: 6s - loss: 0.4367 - mean_absolute_error: 0.481 - ETA: 6s - loss: 0.4366 - mean_absolute_error: 0.481 - ETA: 5s - loss: 0.4365 - mean_absolute_error: 0.481 - ETA: 5s - loss: 0.4365 - mean_absolute_error: 0.481 - ETA: 5s - loss: 0.4369 - mean_absolute_error: 0.481 - ETA: 5s - loss: 0.4370 - mean_absolute_error: 0.481 - ETA: 5s - loss: 0.4371 - mean_absolute_error: 0.481 - ETA: 5s - loss: 0.4371 - mean_absolute_error: 0.482 - ETA: 5s - loss: 0.4372 - mean_absolute_error: 0.482 - ETA: 5s - loss: 0.4372 - mean_absolute_error: 0.482 - ETA: 5s - loss: 0.4371 - mean_absolute_error: 0.482 - ETA: 5s - loss: 0.4372 - mean_absolute_error: 0.482 - ETA: 5s - loss: 0.4371 - mean_absolute_error: 0.482 - ETA: 5s - loss: 0.4369 - mean_absolute_error: 0.481 - ETA: 5s - loss: 0.4370 - mean_absolute_error: 0.482 - ETA: 5s - loss: 0.4371 - mean_absolute_error: 0.482 - ETA: 5s - loss: 0.4371 - mean_absolute_error: 0.482 - ETA: 5s - loss: 0.4371 - mean_absolute_error: 0.482 - ETA: 5s - loss: 0.4372 - mean_absolute_error: 0.482 - ETA: 5s - loss: 0.4372 - mean_absolute_error: 0.482 - ETA: 5s - loss: 0.4373 - mean_absolute_error: 0.482 - ETA: 5s - loss: 0.4373 - mean_absolute_error: 0.482 - ETA: 4s - loss: 0.4372 - mean_absolute_error: 0.482 - ETA: 4s - loss: 0.4372 - mean_absolute_error: 0.482 - ETA: 4s - loss: 0.4369 - mean_absolute_error: 0.481 - ETA: 4s - loss: 0.4369 - mean_absolute_error: 0.481 - ETA: 4s - loss: 0.4369 - mean_absolute_error: 0.481 - ETA: 4s - loss: 0.4368 - mean_absolute_error: 0.481 - ETA: 4s - loss: 0.4368 - mean_absolute_error: 0.481 - ETA: 4s - loss: 0.4367 - mean_absolute_error: 0.481 - ETA: 4s - loss: 0.4368 - mean_absolute_error: 0.481 - ETA: 4s - loss: 0.4368 - mean_absolute_error: 0.481 - ETA: 4s - loss: 0.4367 - mean_absolute_error: 0.481 - ETA: 4s - loss: 0.4365 - mean_absolute_error: 0.481 - ETA: 4s - loss: 0.4365 - mean_absolute_error: 0.481 - ETA: 4s - loss: 0.4366 - mean_absolute_error: 0.481 - ETA: 4s - loss: 0.4365 - mean_absolute_error: 0.481 - ETA: 4s - loss: 0.4365 - mean_absolute_error: 0.481 - ETA: 4s - loss: 0.4366 - mean_absolute_error: 0.481 - ETA: 4s - loss: 0.4365 - mean_absolute_error: 0.481 - ETA: 4s - loss: 0.4365 - mean_absolute_error: 0.481 - ETA: 3s - loss: 0.4366 - mean_absolute_error: 0.481 - ETA: 3s - loss: 0.4365 - mean_absolute_error: 0.481 - ETA: 3s - loss: 0.4365 - mean_absolute_error: 0.481 - ETA: 3s - loss: 0.4366 - mean_absolute_error: 0.481 - ETA: 3s - loss: 0.4370 - mean_absolute_error: 0.482 - ETA: 3s - loss: 0.4368 - mean_absolute_error: 0.482 - ETA: 3s - loss: 0.4368 - mean_absolute_error: 0.482 - ETA: 3s - loss: 0.4371 - mean_absolute_error: 0.482 - ETA: 3s - loss: 0.4372 - mean_absolute_error: 0.482 - ETA: 3s - loss: 0.4371 - mean_absolute_error: 0.482 - ETA: 3s - loss: 0.4373 - mean_absolute_error: 0.482 - ETA: 3s - loss: 0.4372 - mean_absolute_error: 0.482 - ETA: 3s - loss: 0.4371 - mean_absolute_error: 0.482 - ETA: 3s - loss: 0.4374 - mean_absolute_error: 0.482 - ETA: 3s - loss: 0.4375 - mean_absolute_error: 0.482 - ETA: 3s - loss: 0.4374 - mean_absolute_error: 0.482 - ETA: 3s - loss: 0.4373 - mean_absolute_error: 0.482 - ETA: 3s - loss: 0.4375 - mean_absolute_error: 0.482 - ETA: 3s - loss: 0.4375 - mean_absolute_error: 0.482 - ETA: 3s - loss: 0.4374 - mean_absolute_error: 0.482 - ETA: 2s - loss: 0.4373 - mean_absolute_error: 0.482 - ETA: 2s - loss: 0.4372 - mean_absolute_error: 0.482 - ETA: 2s - loss: 0.4373 - mean_absolute_error: 0.482 - ETA: 2s - loss: 0.4371 - mean_absolute_error: 0.482 - ETA: 2s - loss: 0.4373 - mean_absolute_error: 0.482 - ETA: 2s - loss: 0.4372 - mean_absolute_error: 0.482 - ETA: 2s - loss: 0.4370 - mean_absolute_error: 0.482 - ETA: 2s - loss: 0.4370 - mean_absolute_error: 0.482 - ETA: 2s - loss: 0.4372 - mean_absolute_error: 0.482 - ETA: 2s - loss: 0.4372 - mean_absolute_error: 0.482 - ETA: 2s - loss: 0.4374 - mean_absolute_error: 0.482 - ETA: 2s - loss: 0.4375 - mean_absolute_error: 0.482 - ETA: 2s - loss: 0.4374 - mean_absolute_error: 0.482 - ETA: 2s - loss: 0.4373 - mean_absolute_error: 0.482 - ETA: 2s - loss: 0.4371 - mean_absolute_error: 0.482 - ETA: 2s - loss: 0.4370 - mean_absolute_error: 0.481 - ETA: 2s - loss: 0.4371 - mean_absolute_error: 0.481 - ETA: 2s - loss: 0.4372 - mean_absolute_error: 0.482 - ETA: 2s - loss: 0.4372 - mean_absolute_error: 0.481 - ETA: 2s - loss: 0.4371 - mean_absolute_error: 0.481 - ETA: 1s - loss: 0.4371 - mean_absolute_error: 0.481 - ETA: 1s - loss: 0.4370 - mean_absolute_error: 0.4819"
     ]
    },
    {
     "name": "stdout",
     "output_type": "stream",
     "text": [
      "174938/174938 [==============================] - ETA: 1s - loss: 0.4371 - mean_absolute_error: 0.481 - ETA: 1s - loss: 0.4369 - mean_absolute_error: 0.481 - ETA: 1s - loss: 0.4369 - mean_absolute_error: 0.481 - ETA: 1s - loss: 0.4369 - mean_absolute_error: 0.481 - ETA: 1s - loss: 0.4368 - mean_absolute_error: 0.481 - ETA: 1s - loss: 0.4367 - mean_absolute_error: 0.481 - ETA: 1s - loss: 0.4366 - mean_absolute_error: 0.481 - ETA: 1s - loss: 0.4365 - mean_absolute_error: 0.481 - ETA: 1s - loss: 0.4367 - mean_absolute_error: 0.481 - ETA: 1s - loss: 0.4368 - mean_absolute_error: 0.481 - ETA: 1s - loss: 0.4368 - mean_absolute_error: 0.481 - ETA: 1s - loss: 0.4367 - mean_absolute_error: 0.481 - ETA: 1s - loss: 0.4367 - mean_absolute_error: 0.481 - ETA: 1s - loss: 0.4368 - mean_absolute_error: 0.481 - ETA: 1s - loss: 0.4368 - mean_absolute_error: 0.481 - ETA: 1s - loss: 0.4370 - mean_absolute_error: 0.481 - ETA: 0s - loss: 0.4370 - mean_absolute_error: 0.481 - ETA: 0s - loss: 0.4371 - mean_absolute_error: 0.481 - ETA: 0s - loss: 0.4372 - mean_absolute_error: 0.481 - ETA: 0s - loss: 0.4372 - mean_absolute_error: 0.481 - ETA: 0s - loss: 0.4371 - mean_absolute_error: 0.481 - ETA: 0s - loss: 0.4370 - mean_absolute_error: 0.481 - ETA: 0s - loss: 0.4369 - mean_absolute_error: 0.481 - ETA: 0s - loss: 0.4367 - mean_absolute_error: 0.481 - ETA: 0s - loss: 0.4366 - mean_absolute_error: 0.481 - ETA: 0s - loss: 0.4367 - mean_absolute_error: 0.481 - ETA: 0s - loss: 0.4366 - mean_absolute_error: 0.481 - ETA: 0s - loss: 0.4364 - mean_absolute_error: 0.481 - ETA: 0s - loss: 0.4363 - mean_absolute_error: 0.481 - ETA: 0s - loss: 0.4363 - mean_absolute_error: 0.481 - ETA: 0s - loss: 0.4365 - mean_absolute_error: 0.481 - ETA: 0s - loss: 0.4364 - mean_absolute_error: 0.481 - ETA: 0s - loss: 0.4364 - mean_absolute_error: 0.481 - ETA: 0s - loss: 0.4365 - mean_absolute_error: 0.481 - ETA: 0s - loss: 0.4364 - mean_absolute_error: 0.481 - ETA: 0s - loss: 0.4364 - mean_absolute_error: 0.481 - 37s - loss: 0.4363 - mean_absolute_error: 0.4815 - val_loss: 0.5402 - val_mean_absolute_error: 0.5650\n",
      "Epoch 10/10\n"
     ]
    },
    {
     "name": "stdout",
     "output_type": "stream",
     "text": [
      " 40640/174938 [=====>........................] - ETA: 131s - loss: 0.3189 - mean_absolute_error: 0.440 - ETA: 46s - loss: 0.3655 - mean_absolute_error: 0.441 - ETA: 39s - loss: 0.4340 - mean_absolute_error: 0.44 - ETA: 38s - loss: 0.4294 - mean_absolute_error: 0.45 - ETA: 38s - loss: 0.4566 - mean_absolute_error: 0.47 - ETA: 37s - loss: 0.4567 - mean_absolute_error: 0.47 - ETA: 38s - loss: 0.4650 - mean_absolute_error: 0.47 - ETA: 38s - loss: 0.4684 - mean_absolute_error: 0.48 - ETA: 37s - loss: 0.4724 - mean_absolute_error: 0.48 - ETA: 36s - loss: 0.4676 - mean_absolute_error: 0.48 - ETA: 37s - loss: 0.4659 - mean_absolute_error: 0.48 - ETA: 36s - loss: 0.4743 - mean_absolute_error: 0.48 - ETA: 36s - loss: 0.4724 - mean_absolute_error: 0.49 - ETA: 35s - loss: 0.4623 - mean_absolute_error: 0.48 - ETA: 36s - loss: 0.4607 - mean_absolute_error: 0.48 - ETA: 35s - loss: 0.4587 - mean_absolute_error: 0.48 - ETA: 35s - loss: 0.4600 - mean_absolute_error: 0.48 - ETA: 35s - loss: 0.4618 - mean_absolute_error: 0.48 - ETA: 35s - loss: 0.4610 - mean_absolute_error: 0.48 - ETA: 35s - loss: 0.4603 - mean_absolute_error: 0.48 - ETA: 34s - loss: 0.4560 - mean_absolute_error: 0.48 - ETA: 34s - loss: 0.4518 - mean_absolute_error: 0.48 - ETA: 34s - loss: 0.4506 - mean_absolute_error: 0.48 - ETA: 34s - loss: 0.4503 - mean_absolute_error: 0.48 - ETA: 34s - loss: 0.4491 - mean_absolute_error: 0.48 - ETA: 34s - loss: 0.4515 - mean_absolute_error: 0.48 - ETA: 34s - loss: 0.4494 - mean_absolute_error: 0.48 - ETA: 34s - loss: 0.4490 - mean_absolute_error: 0.48 - ETA: 34s - loss: 0.4446 - mean_absolute_error: 0.48 - ETA: 34s - loss: 0.4423 - mean_absolute_error: 0.48 - ETA: 33s - loss: 0.4406 - mean_absolute_error: 0.48 - ETA: 33s - loss: 0.4413 - mean_absolute_error: 0.48 - ETA: 33s - loss: 0.4429 - mean_absolute_error: 0.48 - ETA: 33s - loss: 0.4420 - mean_absolute_error: 0.48 - ETA: 33s - loss: 0.4423 - mean_absolute_error: 0.48 - ETA: 33s - loss: 0.4417 - mean_absolute_error: 0.48 - ETA: 33s - loss: 0.4394 - mean_absolute_error: 0.48 - ETA: 33s - loss: 0.4411 - mean_absolute_error: 0.48 - ETA: 33s - loss: 0.4446 - mean_absolute_error: 0.48 - ETA: 33s - loss: 0.4430 - mean_absolute_error: 0.48 - ETA: 33s - loss: 0.4402 - mean_absolute_error: 0.48 - ETA: 33s - loss: 0.4390 - mean_absolute_error: 0.48 - ETA: 33s - loss: 0.4434 - mean_absolute_error: 0.48 - ETA: 33s - loss: 0.4424 - mean_absolute_error: 0.48 - ETA: 32s - loss: 0.4416 - mean_absolute_error: 0.48 - ETA: 32s - loss: 0.4410 - mean_absolute_error: 0.48 - ETA: 32s - loss: 0.4392 - mean_absolute_error: 0.48 - ETA: 32s - loss: 0.4390 - mean_absolute_error: 0.48 - ETA: 32s - loss: 0.4374 - mean_absolute_error: 0.48 - ETA: 32s - loss: 0.4384 - mean_absolute_error: 0.48 - ETA: 32s - loss: 0.4387 - mean_absolute_error: 0.48 - ETA: 32s - loss: 0.4404 - mean_absolute_error: 0.48 - ETA: 32s - loss: 0.4429 - mean_absolute_error: 0.48 - ETA: 32s - loss: 0.4412 - mean_absolute_error: 0.48 - ETA: 32s - loss: 0.4421 - mean_absolute_error: 0.48 - ETA: 32s - loss: 0.4421 - mean_absolute_error: 0.48 - ETA: 31s - loss: 0.4415 - mean_absolute_error: 0.48 - ETA: 31s - loss: 0.4426 - mean_absolute_error: 0.48 - ETA: 31s - loss: 0.4414 - mean_absolute_error: 0.48 - ETA: 31s - loss: 0.4401 - mean_absolute_error: 0.48 - ETA: 31s - loss: 0.4407 - mean_absolute_error: 0.48 - ETA: 31s - loss: 0.4414 - mean_absolute_error: 0.48 - ETA: 31s - loss: 0.4414 - mean_absolute_error: 0.48 - ETA: 31s - loss: 0.4420 - mean_absolute_error: 0.48 - ETA: 31s - loss: 0.4419 - mean_absolute_error: 0.48 - ETA: 31s - loss: 0.4411 - mean_absolute_error: 0.48 - ETA: 31s - loss: 0.4428 - mean_absolute_error: 0.48 - ETA: 31s - loss: 0.4440 - mean_absolute_error: 0.48 - ETA: 31s - loss: 0.4426 - mean_absolute_error: 0.48 - ETA: 31s - loss: 0.4436 - mean_absolute_error: 0.48 - ETA: 31s - loss: 0.4438 - mean_absolute_error: 0.48 - ETA: 30s - loss: 0.4434 - mean_absolute_error: 0.48 - ETA: 30s - loss: 0.4424 - mean_absolute_error: 0.48 - ETA: 30s - loss: 0.4411 - mean_absolute_error: 0.48 - ETA: 30s - loss: 0.4412 - mean_absolute_error: 0.48 - ETA: 30s - loss: 0.4399 - mean_absolute_error: 0.48 - ETA: 30s - loss: 0.4400 - mean_absolute_error: 0.48 - ETA: 30s - loss: 0.4408 - mean_absolute_error: 0.48 - ETA: 30s - loss: 0.4417 - mean_absolute_error: 0.48 - ETA: 30s - loss: 0.4424 - mean_absolute_error: 0.48 - ETA: 30s - loss: 0.4414 - mean_absolute_error: 0.48 - ETA: 30s - loss: 0.4424 - mean_absolute_error: 0.48 - ETA: 30s - loss: 0.4430 - mean_absolute_error: 0.48 - ETA: 30s - loss: 0.4432 - mean_absolute_error: 0.48 - ETA: 30s - loss: 0.4426 - mean_absolute_error: 0.48 - ETA: 30s - loss: 0.4430 - mean_absolute_error: 0.48 - ETA: 30s - loss: 0.4447 - mean_absolute_error: 0.48 - ETA: 29s - loss: 0.4445 - mean_absolute_error: 0.48 - ETA: 29s - loss: 0.4446 - mean_absolute_error: 0.48 - ETA: 29s - loss: 0.4448 - mean_absolute_error: 0.48 - ETA: 29s - loss: 0.4448 - mean_absolute_error: 0.48 - ETA: 29s - loss: 0.4445 - mean_absolute_error: 0.48 - ETA: 29s - loss: 0.4447 - mean_absolute_error: 0.48 - ETA: 29s - loss: 0.4437 - mean_absolute_error: 0.48 - ETA: 29s - loss: 0.4442 - mean_absolute_error: 0.48 - ETA: 29s - loss: 0.4440 - mean_absolute_error: 0.48 - ETA: 29s - loss: 0.4434 - mean_absolute_error: 0.48 - ETA: 29s - loss: 0.4433 - mean_absolute_error: 0.48 - ETA: 29s - loss: 0.4437 - mean_absolute_error: 0.48 - ETA: 29s - loss: 0.4438 - mean_absolute_error: 0.48 - ETA: 29s - loss: 0.4435 - mean_absolute_error: 0.48 - ETA: 29s - loss: 0.4441 - mean_absolute_error: 0.48 - ETA: 29s - loss: 0.4432 - mean_absolute_error: 0.48 - ETA: 29s - loss: 0.4435 - mean_absolute_error: 0.48 - ETA: 29s - loss: 0.4437 - mean_absolute_error: 0.48 - ETA: 29s - loss: 0.4439 - mean_absolute_error: 0.48 - ETA: 29s - loss: 0.4433 - mean_absolute_error: 0.48 - ETA: 28s - loss: 0.4457 - mean_absolute_error: 0.48 - ETA: 28s - loss: 0.4452 - mean_absolute_error: 0.48 - ETA: 28s - loss: 0.4450 - mean_absolute_error: 0.48 - ETA: 28s - loss: 0.4447 - mean_absolute_error: 0.48 - ETA: 28s - loss: 0.4455 - mean_absolute_error: 0.48 - ETA: 28s - loss: 0.4450 - mean_absolute_error: 0.48 - ETA: 28s - loss: 0.4449 - mean_absolute_error: 0.48 - ETA: 28s - loss: 0.4449 - mean_absolute_error: 0.48 - ETA: 28s - loss: 0.4446 - mean_absolute_error: 0.48 - ETA: 28s - loss: 0.4461 - mean_absolute_error: 0.48 - ETA: 28s - loss: 0.4465 - mean_absolute_error: 0.48 - ETA: 28s - loss: 0.4469 - mean_absolute_error: 0.48 - ETA: 28s - loss: 0.4465 - mean_absolute_error: 0.48 - ETA: 28s - loss: 0.4460 - mean_absolute_error: 0.48 - ETA: 28s - loss: 0.4453 - mean_absolute_error: 0.48 - ETA: 28s - loss: 0.4452 - mean_absolute_error: 0.48 - ETA: 28s - loss: 0.4450 - mean_absolute_error: 0.48 - ETA: 27s - loss: 0.4444 - mean_absolute_error: 0.48 - ETA: 27s - loss: 0.4438 - mean_absolute_error: 0.48 - ETA: 27s - loss: 0.4441 - mean_absolute_error: 0.48 - ETA: 27s - loss: 0.4440 - mean_absolute_error: 0.48 - ETA: 27s - loss: 0.4432 - mean_absolute_error: 0.48 - ETA: 27s - loss: 0.4427 - mean_absolute_error: 0.48 - ETA: 27s - loss: 0.4435 - mean_absolute_error: 0.48 - ETA: 27s - loss: 0.4431 - mean_absolute_error: 0.48 - ETA: 27s - loss: 0.4433 - mean_absolute_error: 0.48 - ETA: 27s - loss: 0.4432 - mean_absolute_error: 0.48 - ETA: 27s - loss: 0.4434 - mean_absolute_error: 0.48 - ETA: 27s - loss: 0.4440 - mean_absolute_error: 0.48 - ETA: 27s - loss: 0.4446 - mean_absolute_error: 0.48 - ETA: 27s - loss: 0.4445 - mean_absolute_error: 0.48 - ETA: 27s - loss: 0.4446 - mean_absolute_error: 0.48 - ETA: 27s - loss: 0.4454 - mean_absolute_error: 0.48 - ETA: 27s - loss: 0.4449 - mean_absolute_error: 0.48 - ETA: 26s - loss: 0.4449 - mean_absolute_error: 0.48 - ETA: 26s - loss: 0.4447 - mean_absolute_error: 0.48 - ETA: 26s - loss: 0.4443 - mean_absolute_error: 0.48 - ETA: 26s - loss: 0.4441 - mean_absolute_error: 0.48 - ETA: 26s - loss: 0.4439 - mean_absolute_error: 0.48 - ETA: 26s - loss: 0.4437 - mean_absolute_error: 0.48 - ETA: 26s - loss: 0.4444 - mean_absolute_error: 0.48 - ETA: 26s - loss: 0.4436 - mean_absolute_error: 0.48 - ETA: 26s - loss: 0.4435 - mean_absolute_error: 0.48 - ETA: 26s - loss: 0.4432 - mean_absolute_error: 0.4846 83104/174938 [=============>................] - ETA: 26s - loss: 0.4426 - mean_absolute_error: 0.48 - ETA: 26s - loss: 0.4435 - mean_absolute_error: 0.48 - ETA: 26s - loss: 0.4434 - mean_absolute_error: 0.48 - ETA: 26s - loss: 0.4440 - mean_absolute_error: 0.48 - ETA: 26s - loss: 0.4436 - mean_absolute_error: 0.48 - ETA: 26s - loss: 0.4439 - mean_absolute_error: 0.48 - ETA: 25s - loss: 0.4437 - mean_absolute_error: 0.48 - ETA: 25s - loss: 0.4435 - mean_absolute_error: 0.48 - ETA: 25s - loss: 0.4428 - mean_absolute_error: 0.48 - ETA: 25s - loss: 0.4422 - mean_absolute_error: 0.48 - ETA: 25s - loss: 0.4428 - mean_absolute_error: 0.48 - ETA: 25s - loss: 0.4427 - mean_absolute_error: 0.48 - ETA: 25s - loss: 0.4428 - mean_absolute_error: 0.48 - ETA: 25s - loss: 0.4430 - mean_absolute_error: 0.48 - ETA: 25s - loss: 0.4425 - mean_absolute_error: 0.48 - ETA: 25s - loss: 0.4420 - mean_absolute_error: 0.48 - ETA: 25s - loss: 0.4413 - mean_absolute_error: 0.48 - ETA: 25s - loss: 0.4417 - mean_absolute_error: 0.48 - ETA: 25s - loss: 0.4415 - mean_absolute_error: 0.48 - ETA: 25s - loss: 0.4410 - mean_absolute_error: 0.48 - ETA: 25s - loss: 0.4403 - mean_absolute_error: 0.48 - ETA: 24s - loss: 0.4401 - mean_absolute_error: 0.48 - ETA: 24s - loss: 0.4403 - mean_absolute_error: 0.48 - ETA: 24s - loss: 0.4405 - mean_absolute_error: 0.48 - ETA: 24s - loss: 0.4402 - mean_absolute_error: 0.48 - ETA: 24s - loss: 0.4398 - mean_absolute_error: 0.48 - ETA: 24s - loss: 0.4399 - mean_absolute_error: 0.48 - ETA: 24s - loss: 0.4400 - mean_absolute_error: 0.48 - ETA: 24s - loss: 0.4397 - mean_absolute_error: 0.48 - ETA: 24s - loss: 0.4400 - mean_absolute_error: 0.48 - ETA: 24s - loss: 0.4399 - mean_absolute_error: 0.48 - ETA: 24s - loss: 0.4398 - mean_absolute_error: 0.48 - ETA: 24s - loss: 0.4398 - mean_absolute_error: 0.48 - ETA: 24s - loss: 0.4400 - mean_absolute_error: 0.48 - ETA: 24s - loss: 0.4400 - mean_absolute_error: 0.48 - ETA: 24s - loss: 0.4399 - mean_absolute_error: 0.48 - ETA: 24s - loss: 0.4400 - mean_absolute_error: 0.48 - ETA: 24s - loss: 0.4397 - mean_absolute_error: 0.48 - ETA: 24s - loss: 0.4399 - mean_absolute_error: 0.48 - ETA: 23s - loss: 0.4402 - mean_absolute_error: 0.48 - ETA: 23s - loss: 0.4400 - mean_absolute_error: 0.48 - ETA: 23s - loss: 0.4402 - mean_absolute_error: 0.48 - ETA: 23s - loss: 0.4407 - mean_absolute_error: 0.48 - ETA: 23s - loss: 0.4401 - mean_absolute_error: 0.48 - ETA: 23s - loss: 0.4403 - mean_absolute_error: 0.48 - ETA: 23s - loss: 0.4406 - mean_absolute_error: 0.48 - ETA: 23s - loss: 0.4407 - mean_absolute_error: 0.48 - ETA: 23s - loss: 0.4404 - mean_absolute_error: 0.48 - ETA: 23s - loss: 0.4405 - mean_absolute_error: 0.48 - ETA: 23s - loss: 0.4406 - mean_absolute_error: 0.48 - ETA: 23s - loss: 0.4405 - mean_absolute_error: 0.48 - ETA: 23s - loss: 0.4404 - mean_absolute_error: 0.48 - ETA: 23s - loss: 0.4403 - mean_absolute_error: 0.48 - ETA: 23s - loss: 0.4404 - mean_absolute_error: 0.48 - ETA: 23s - loss: 0.4405 - mean_absolute_error: 0.48 - ETA: 23s - loss: 0.4399 - mean_absolute_error: 0.48 - ETA: 23s - loss: 0.4401 - mean_absolute_error: 0.48 - ETA: 22s - loss: 0.4404 - mean_absolute_error: 0.48 - ETA: 22s - loss: 0.4404 - mean_absolute_error: 0.48 - ETA: 22s - loss: 0.4402 - mean_absolute_error: 0.48 - ETA: 22s - loss: 0.4400 - mean_absolute_error: 0.48 - ETA: 22s - loss: 0.4396 - mean_absolute_error: 0.48 - ETA: 22s - loss: 0.4394 - mean_absolute_error: 0.48 - ETA: 22s - loss: 0.4391 - mean_absolute_error: 0.48 - ETA: 22s - loss: 0.4395 - mean_absolute_error: 0.48 - ETA: 22s - loss: 0.4389 - mean_absolute_error: 0.48 - ETA: 22s - loss: 0.4390 - mean_absolute_error: 0.48 - ETA: 22s - loss: 0.4391 - mean_absolute_error: 0.48 - ETA: 22s - loss: 0.4386 - mean_absolute_error: 0.48 - ETA: 22s - loss: 0.4382 - mean_absolute_error: 0.48 - ETA: 22s - loss: 0.4379 - mean_absolute_error: 0.48 - ETA: 22s - loss: 0.4384 - mean_absolute_error: 0.48 - ETA: 22s - loss: 0.4386 - mean_absolute_error: 0.48 - ETA: 22s - loss: 0.4388 - mean_absolute_error: 0.48 - ETA: 21s - loss: 0.4389 - mean_absolute_error: 0.48 - ETA: 21s - loss: 0.4385 - mean_absolute_error: 0.48 - ETA: 21s - loss: 0.4387 - mean_absolute_error: 0.48 - ETA: 21s - loss: 0.4384 - mean_absolute_error: 0.48 - ETA: 21s - loss: 0.4377 - mean_absolute_error: 0.48 - ETA: 21s - loss: 0.4381 - mean_absolute_error: 0.48 - ETA: 21s - loss: 0.4382 - mean_absolute_error: 0.48 - ETA: 21s - loss: 0.4380 - mean_absolute_error: 0.48 - ETA: 21s - loss: 0.4380 - mean_absolute_error: 0.48 - ETA: 21s - loss: 0.4381 - mean_absolute_error: 0.48 - ETA: 21s - loss: 0.4384 - mean_absolute_error: 0.48 - ETA: 21s - loss: 0.4380 - mean_absolute_error: 0.48 - ETA: 21s - loss: 0.4375 - mean_absolute_error: 0.48 - ETA: 21s - loss: 0.4379 - mean_absolute_error: 0.48 - ETA: 21s - loss: 0.4375 - mean_absolute_error: 0.48 - ETA: 21s - loss: 0.4374 - mean_absolute_error: 0.48 - ETA: 20s - loss: 0.4368 - mean_absolute_error: 0.48 - ETA: 20s - loss: 0.4368 - mean_absolute_error: 0.48 - ETA: 20s - loss: 0.4369 - mean_absolute_error: 0.48 - ETA: 20s - loss: 0.4370 - mean_absolute_error: 0.48 - ETA: 20s - loss: 0.4378 - mean_absolute_error: 0.48 - ETA: 20s - loss: 0.4378 - mean_absolute_error: 0.48 - ETA: 20s - loss: 0.4386 - mean_absolute_error: 0.48 - ETA: 20s - loss: 0.4385 - mean_absolute_error: 0.48 - ETA: 20s - loss: 0.4390 - mean_absolute_error: 0.48 - ETA: 20s - loss: 0.4390 - mean_absolute_error: 0.48 - ETA: 20s - loss: 0.4388 - mean_absolute_error: 0.48 - ETA: 20s - loss: 0.4390 - mean_absolute_error: 0.48 - ETA: 20s - loss: 0.4387 - mean_absolute_error: 0.48 - ETA: 20s - loss: 0.4389 - mean_absolute_error: 0.48 - ETA: 20s - loss: 0.4391 - mean_absolute_error: 0.48 - ETA: 20s - loss: 0.4392 - mean_absolute_error: 0.48 - ETA: 20s - loss: 0.4392 - mean_absolute_error: 0.48 - ETA: 20s - loss: 0.4391 - mean_absolute_error: 0.48 - ETA: 19s - loss: 0.4390 - mean_absolute_error: 0.48 - ETA: 19s - loss: 0.4392 - mean_absolute_error: 0.48 - ETA: 19s - loss: 0.4387 - mean_absolute_error: 0.48 - ETA: 19s - loss: 0.4388 - mean_absolute_error: 0.48 - ETA: 19s - loss: 0.4386 - mean_absolute_error: 0.48 - ETA: 19s - loss: 0.4385 - mean_absolute_error: 0.48 - ETA: 19s - loss: 0.4385 - mean_absolute_error: 0.48 - ETA: 19s - loss: 0.4389 - mean_absolute_error: 0.48 - ETA: 19s - loss: 0.4391 - mean_absolute_error: 0.48 - ETA: 19s - loss: 0.4392 - mean_absolute_error: 0.48 - ETA: 19s - loss: 0.4393 - mean_absolute_error: 0.48 - ETA: 19s - loss: 0.4392 - mean_absolute_error: 0.48 - ETA: 19s - loss: 0.4391 - mean_absolute_error: 0.48 - ETA: 19s - loss: 0.4392 - mean_absolute_error: 0.48 - ETA: 19s - loss: 0.4392 - mean_absolute_error: 0.48 - ETA: 19s - loss: 0.4389 - mean_absolute_error: 0.48 - ETA: 19s - loss: 0.4386 - mean_absolute_error: 0.48 - ETA: 19s - loss: 0.4383 - mean_absolute_error: 0.48 - ETA: 18s - loss: 0.4383 - mean_absolute_error: 0.48 - ETA: 18s - loss: 0.4383 - mean_absolute_error: 0.48 - ETA: 18s - loss: 0.4382 - mean_absolute_error: 0.48 - ETA: 18s - loss: 0.4382 - mean_absolute_error: 0.48 - ETA: 18s - loss: 0.4381 - mean_absolute_error: 0.48 - ETA: 18s - loss: 0.4379 - mean_absolute_error: 0.48 - ETA: 18s - loss: 0.4379 - mean_absolute_error: 0.48 - ETA: 18s - loss: 0.4379 - mean_absolute_error: 0.48 - ETA: 18s - loss: 0.4379 - mean_absolute_error: 0.48 - ETA: 18s - loss: 0.4378 - mean_absolute_error: 0.48 - ETA: 18s - loss: 0.4380 - mean_absolute_error: 0.48 - ETA: 18s - loss: 0.4383 - mean_absolute_error: 0.48 - ETA: 18s - loss: 0.4386 - mean_absolute_error: 0.48 - ETA: 18s - loss: 0.4385 - mean_absolute_error: 0.48 - ETA: 18s - loss: 0.4388 - mean_absolute_error: 0.48 - ETA: 18s - loss: 0.4388 - mean_absolute_error: 0.48 - ETA: 18s - loss: 0.4388 - mean_absolute_error: 0.48 - ETA: 18s - loss: 0.4388 - mean_absolute_error: 0.48 - ETA: 17s - loss: 0.4388 - mean_absolute_error: 0.48 - ETA: 17s - loss: 0.4388 - mean_absolute_error: 0.48 - ETA: 17s - loss: 0.4389 - mean_absolute_error: 0.48 - ETA: 17s - loss: 0.4389 - mean_absolute_error: 0.48 - ETA: 17s - loss: 0.4389 - mean_absolute_error: 0.48 - ETA: 17s - loss: 0.4389 - mean_absolute_error: 0.48 - ETA: 17s - loss: 0.4390 - mean_absolute_error: 0.4830125056/174938 [====================>.........] - ETA: 17s - loss: 0.4397 - mean_absolute_error: 0.48 - ETA: 17s - loss: 0.4397 - mean_absolute_error: 0.48 - ETA: 17s - loss: 0.4395 - mean_absolute_error: 0.48 - ETA: 17s - loss: 0.4394 - mean_absolute_error: 0.48 - ETA: 17s - loss: 0.4392 - mean_absolute_error: 0.48 - ETA: 17s - loss: 0.4390 - mean_absolute_error: 0.48 - ETA: 17s - loss: 0.4392 - mean_absolute_error: 0.48 - ETA: 17s - loss: 0.4388 - mean_absolute_error: 0.48 - ETA: 17s - loss: 0.4388 - mean_absolute_error: 0.48 - ETA: 17s - loss: 0.4385 - mean_absolute_error: 0.48 - ETA: 17s - loss: 0.4386 - mean_absolute_error: 0.48 - ETA: 16s - loss: 0.4386 - mean_absolute_error: 0.48 - ETA: 16s - loss: 0.4384 - mean_absolute_error: 0.48 - ETA: 16s - loss: 0.4388 - mean_absolute_error: 0.48 - ETA: 16s - loss: 0.4391 - mean_absolute_error: 0.48 - ETA: 16s - loss: 0.4392 - mean_absolute_error: 0.48 - ETA: 16s - loss: 0.4390 - mean_absolute_error: 0.48 - ETA: 16s - loss: 0.4393 - mean_absolute_error: 0.48 - ETA: 16s - loss: 0.4395 - mean_absolute_error: 0.48 - ETA: 16s - loss: 0.4396 - mean_absolute_error: 0.48 - ETA: 16s - loss: 0.4395 - mean_absolute_error: 0.48 - ETA: 16s - loss: 0.4394 - mean_absolute_error: 0.48 - ETA: 16s - loss: 0.4397 - mean_absolute_error: 0.48 - ETA: 16s - loss: 0.4398 - mean_absolute_error: 0.48 - ETA: 16s - loss: 0.4395 - mean_absolute_error: 0.48 - ETA: 16s - loss: 0.4395 - mean_absolute_error: 0.48 - ETA: 16s - loss: 0.4397 - mean_absolute_error: 0.48 - ETA: 16s - loss: 0.4396 - mean_absolute_error: 0.48 - ETA: 16s - loss: 0.4395 - mean_absolute_error: 0.48 - ETA: 16s - loss: 0.4394 - mean_absolute_error: 0.48 - ETA: 15s - loss: 0.4394 - mean_absolute_error: 0.48 - ETA: 15s - loss: 0.4393 - mean_absolute_error: 0.48 - ETA: 15s - loss: 0.4395 - mean_absolute_error: 0.48 - ETA: 15s - loss: 0.4393 - mean_absolute_error: 0.48 - ETA: 15s - loss: 0.4394 - mean_absolute_error: 0.48 - ETA: 15s - loss: 0.4395 - mean_absolute_error: 0.48 - ETA: 15s - loss: 0.4396 - mean_absolute_error: 0.48 - ETA: 15s - loss: 0.4395 - mean_absolute_error: 0.48 - ETA: 15s - loss: 0.4399 - mean_absolute_error: 0.48 - ETA: 15s - loss: 0.4397 - mean_absolute_error: 0.48 - ETA: 15s - loss: 0.4398 - mean_absolute_error: 0.48 - ETA: 15s - loss: 0.4398 - mean_absolute_error: 0.48 - ETA: 15s - loss: 0.4402 - mean_absolute_error: 0.48 - ETA: 15s - loss: 0.4401 - mean_absolute_error: 0.48 - ETA: 15s - loss: 0.4400 - mean_absolute_error: 0.48 - ETA: 15s - loss: 0.4399 - mean_absolute_error: 0.48 - ETA: 15s - loss: 0.4399 - mean_absolute_error: 0.48 - ETA: 14s - loss: 0.4399 - mean_absolute_error: 0.48 - ETA: 14s - loss: 0.4396 - mean_absolute_error: 0.48 - ETA: 14s - loss: 0.4394 - mean_absolute_error: 0.48 - ETA: 14s - loss: 0.4393 - mean_absolute_error: 0.48 - ETA: 14s - loss: 0.4392 - mean_absolute_error: 0.48 - ETA: 14s - loss: 0.4392 - mean_absolute_error: 0.48 - ETA: 14s - loss: 0.4390 - mean_absolute_error: 0.48 - ETA: 14s - loss: 0.4388 - mean_absolute_error: 0.48 - ETA: 14s - loss: 0.4389 - mean_absolute_error: 0.48 - ETA: 14s - loss: 0.4390 - mean_absolute_error: 0.48 - ETA: 14s - loss: 0.4392 - mean_absolute_error: 0.48 - ETA: 14s - loss: 0.4393 - mean_absolute_error: 0.48 - ETA: 14s - loss: 0.4394 - mean_absolute_error: 0.48 - ETA: 14s - loss: 0.4394 - mean_absolute_error: 0.48 - ETA: 14s - loss: 0.4396 - mean_absolute_error: 0.48 - ETA: 14s - loss: 0.4398 - mean_absolute_error: 0.48 - ETA: 14s - loss: 0.4396 - mean_absolute_error: 0.48 - ETA: 14s - loss: 0.4396 - mean_absolute_error: 0.48 - ETA: 14s - loss: 0.4395 - mean_absolute_error: 0.48 - ETA: 14s - loss: 0.4394 - mean_absolute_error: 0.48 - ETA: 13s - loss: 0.4393 - mean_absolute_error: 0.48 - ETA: 13s - loss: 0.4393 - mean_absolute_error: 0.48 - ETA: 13s - loss: 0.4391 - mean_absolute_error: 0.48 - ETA: 13s - loss: 0.4391 - mean_absolute_error: 0.48 - ETA: 13s - loss: 0.4392 - mean_absolute_error: 0.48 - ETA: 13s - loss: 0.4389 - mean_absolute_error: 0.48 - ETA: 13s - loss: 0.4388 - mean_absolute_error: 0.48 - ETA: 13s - loss: 0.4388 - mean_absolute_error: 0.48 - ETA: 13s - loss: 0.4388 - mean_absolute_error: 0.48 - ETA: 13s - loss: 0.4386 - mean_absolute_error: 0.48 - ETA: 13s - loss: 0.4386 - mean_absolute_error: 0.48 - ETA: 13s - loss: 0.4386 - mean_absolute_error: 0.48 - ETA: 13s - loss: 0.4388 - mean_absolute_error: 0.48 - ETA: 13s - loss: 0.4389 - mean_absolute_error: 0.48 - ETA: 13s - loss: 0.4393 - mean_absolute_error: 0.48 - ETA: 13s - loss: 0.4393 - mean_absolute_error: 0.48 - ETA: 13s - loss: 0.4395 - mean_absolute_error: 0.48 - ETA: 13s - loss: 0.4394 - mean_absolute_error: 0.48 - ETA: 13s - loss: 0.4395 - mean_absolute_error: 0.48 - ETA: 12s - loss: 0.4395 - mean_absolute_error: 0.48 - ETA: 12s - loss: 0.4399 - mean_absolute_error: 0.48 - ETA: 12s - loss: 0.4397 - mean_absolute_error: 0.48 - ETA: 12s - loss: 0.4397 - mean_absolute_error: 0.48 - ETA: 12s - loss: 0.4396 - mean_absolute_error: 0.48 - ETA: 12s - loss: 0.4395 - mean_absolute_error: 0.48 - ETA: 12s - loss: 0.4394 - mean_absolute_error: 0.48 - ETA: 12s - loss: 0.4393 - mean_absolute_error: 0.48 - ETA: 12s - loss: 0.4391 - mean_absolute_error: 0.48 - ETA: 12s - loss: 0.4392 - mean_absolute_error: 0.48 - ETA: 12s - loss: 0.4390 - mean_absolute_error: 0.48 - ETA: 12s - loss: 0.4388 - mean_absolute_error: 0.48 - ETA: 12s - loss: 0.4387 - mean_absolute_error: 0.48 - ETA: 12s - loss: 0.4385 - mean_absolute_error: 0.48 - ETA: 12s - loss: 0.4387 - mean_absolute_error: 0.48 - ETA: 12s - loss: 0.4388 - mean_absolute_error: 0.48 - ETA: 12s - loss: 0.4388 - mean_absolute_error: 0.48 - ETA: 12s - loss: 0.4387 - mean_absolute_error: 0.48 - ETA: 12s - loss: 0.4386 - mean_absolute_error: 0.48 - ETA: 12s - loss: 0.4387 - mean_absolute_error: 0.48 - ETA: 11s - loss: 0.4387 - mean_absolute_error: 0.48 - ETA: 11s - loss: 0.4386 - mean_absolute_error: 0.48 - ETA: 11s - loss: 0.4383 - mean_absolute_error: 0.48 - ETA: 11s - loss: 0.4382 - mean_absolute_error: 0.48 - ETA: 11s - loss: 0.4382 - mean_absolute_error: 0.48 - ETA: 11s - loss: 0.4385 - mean_absolute_error: 0.48 - ETA: 11s - loss: 0.4385 - mean_absolute_error: 0.48 - ETA: 11s - loss: 0.4388 - mean_absolute_error: 0.48 - ETA: 11s - loss: 0.4385 - mean_absolute_error: 0.48 - ETA: 11s - loss: 0.4385 - mean_absolute_error: 0.48 - ETA: 11s - loss: 0.4386 - mean_absolute_error: 0.48 - ETA: 11s - loss: 0.4385 - mean_absolute_error: 0.48 - ETA: 11s - loss: 0.4385 - mean_absolute_error: 0.48 - ETA: 11s - loss: 0.4385 - mean_absolute_error: 0.48 - ETA: 11s - loss: 0.4384 - mean_absolute_error: 0.48 - ETA: 11s - loss: 0.4381 - mean_absolute_error: 0.48 - ETA: 11s - loss: 0.4380 - mean_absolute_error: 0.48 - ETA: 10s - loss: 0.4380 - mean_absolute_error: 0.48 - ETA: 10s - loss: 0.4380 - mean_absolute_error: 0.48 - ETA: 10s - loss: 0.4379 - mean_absolute_error: 0.48 - ETA: 10s - loss: 0.4378 - mean_absolute_error: 0.48 - ETA: 10s - loss: 0.4380 - mean_absolute_error: 0.48 - ETA: 10s - loss: 0.4379 - mean_absolute_error: 0.48 - ETA: 10s - loss: 0.4378 - mean_absolute_error: 0.48 - ETA: 10s - loss: 0.4382 - mean_absolute_error: 0.48 - ETA: 10s - loss: 0.4381 - mean_absolute_error: 0.48 - ETA: 10s - loss: 0.4380 - mean_absolute_error: 0.48 - ETA: 10s - loss: 0.4379 - mean_absolute_error: 0.48 - ETA: 10s - loss: 0.4378 - mean_absolute_error: 0.48 - ETA: 10s - loss: 0.4376 - mean_absolute_error: 0.48 - ETA: 10s - loss: 0.4377 - mean_absolute_error: 0.48 - ETA: 10s - loss: 0.4378 - mean_absolute_error: 0.48 - ETA: 10s - loss: 0.4379 - mean_absolute_error: 0.48 - ETA: 10s - loss: 0.4377 - mean_absolute_error: 0.48 - ETA: 10s - loss: 0.4376 - mean_absolute_error: 0.48 - ETA: 10s - loss: 0.4377 - mean_absolute_error: 0.48 - ETA: 9s - loss: 0.4380 - mean_absolute_error: 0.4822 - ETA: 9s - loss: 0.4379 - mean_absolute_error: 0.482 - ETA: 9s - loss: 0.4381 - mean_absolute_error: 0.482 - ETA: 9s - loss: 0.4380 - mean_absolute_error: 0.482 - ETA: 9s - loss: 0.4378 - mean_absolute_error: 0.482 - ETA: 9s - loss: 0.4379 - mean_absolute_error: 0.482 - ETA: 9s - loss: 0.4380 - mean_absolute_error: 0.482 - ETA: 9s - loss: 0.4379 - mean_absolute_error: 0.482 - ETA: 9s - loss: 0.4378 - mean_absolute_error: 0.4820"
     ]
    },
    {
     "name": "stdout",
     "output_type": "stream",
     "text": [
      "166848/174938 [===========================>..] - ETA: 9s - loss: 0.4377 - mean_absolute_error: 0.482 - ETA: 9s - loss: 0.4375 - mean_absolute_error: 0.481 - ETA: 9s - loss: 0.4376 - mean_absolute_error: 0.481 - ETA: 9s - loss: 0.4374 - mean_absolute_error: 0.481 - ETA: 9s - loss: 0.4374 - mean_absolute_error: 0.481 - ETA: 9s - loss: 0.4375 - mean_absolute_error: 0.481 - ETA: 9s - loss: 0.4375 - mean_absolute_error: 0.481 - ETA: 9s - loss: 0.4375 - mean_absolute_error: 0.481 - ETA: 9s - loss: 0.4374 - mean_absolute_error: 0.481 - ETA: 9s - loss: 0.4375 - mean_absolute_error: 0.481 - ETA: 8s - loss: 0.4376 - mean_absolute_error: 0.481 - ETA: 8s - loss: 0.4374 - mean_absolute_error: 0.481 - ETA: 8s - loss: 0.4377 - mean_absolute_error: 0.481 - ETA: 8s - loss: 0.4380 - mean_absolute_error: 0.481 - ETA: 8s - loss: 0.4382 - mean_absolute_error: 0.482 - ETA: 8s - loss: 0.4383 - mean_absolute_error: 0.482 - ETA: 8s - loss: 0.4384 - mean_absolute_error: 0.482 - ETA: 8s - loss: 0.4384 - mean_absolute_error: 0.482 - ETA: 8s - loss: 0.4383 - mean_absolute_error: 0.482 - ETA: 8s - loss: 0.4383 - mean_absolute_error: 0.482 - ETA: 8s - loss: 0.4384 - mean_absolute_error: 0.482 - ETA: 8s - loss: 0.4382 - mean_absolute_error: 0.482 - ETA: 8s - loss: 0.4381 - mean_absolute_error: 0.482 - ETA: 8s - loss: 0.4381 - mean_absolute_error: 0.482 - ETA: 8s - loss: 0.4382 - mean_absolute_error: 0.482 - ETA: 8s - loss: 0.4381 - mean_absolute_error: 0.482 - ETA: 8s - loss: 0.4380 - mean_absolute_error: 0.482 - ETA: 8s - loss: 0.4378 - mean_absolute_error: 0.481 - ETA: 8s - loss: 0.4377 - mean_absolute_error: 0.481 - ETA: 8s - loss: 0.4376 - mean_absolute_error: 0.481 - ETA: 7s - loss: 0.4376 - mean_absolute_error: 0.481 - ETA: 7s - loss: 0.4375 - mean_absolute_error: 0.481 - ETA: 7s - loss: 0.4374 - mean_absolute_error: 0.481 - ETA: 7s - loss: 0.4375 - mean_absolute_error: 0.481 - ETA: 7s - loss: 0.4376 - mean_absolute_error: 0.481 - ETA: 7s - loss: 0.4377 - mean_absolute_error: 0.481 - ETA: 7s - loss: 0.4378 - mean_absolute_error: 0.481 - ETA: 7s - loss: 0.4378 - mean_absolute_error: 0.481 - ETA: 7s - loss: 0.4376 - mean_absolute_error: 0.481 - ETA: 7s - loss: 0.4378 - mean_absolute_error: 0.481 - ETA: 7s - loss: 0.4379 - mean_absolute_error: 0.481 - ETA: 7s - loss: 0.4377 - mean_absolute_error: 0.481 - ETA: 7s - loss: 0.4376 - mean_absolute_error: 0.481 - ETA: 7s - loss: 0.4375 - mean_absolute_error: 0.481 - ETA: 7s - loss: 0.4373 - mean_absolute_error: 0.481 - ETA: 7s - loss: 0.4371 - mean_absolute_error: 0.481 - ETA: 7s - loss: 0.4373 - mean_absolute_error: 0.481 - ETA: 7s - loss: 0.4373 - mean_absolute_error: 0.481 - ETA: 7s - loss: 0.4373 - mean_absolute_error: 0.481 - ETA: 6s - loss: 0.4372 - mean_absolute_error: 0.481 - ETA: 6s - loss: 0.4371 - mean_absolute_error: 0.481 - ETA: 6s - loss: 0.4371 - mean_absolute_error: 0.481 - ETA: 6s - loss: 0.4372 - mean_absolute_error: 0.481 - ETA: 6s - loss: 0.4372 - mean_absolute_error: 0.481 - ETA: 6s - loss: 0.4372 - mean_absolute_error: 0.481 - ETA: 6s - loss: 0.4372 - mean_absolute_error: 0.481 - ETA: 6s - loss: 0.4371 - mean_absolute_error: 0.481 - ETA: 6s - loss: 0.4372 - mean_absolute_error: 0.481 - ETA: 6s - loss: 0.4371 - mean_absolute_error: 0.481 - ETA: 6s - loss: 0.4371 - mean_absolute_error: 0.481 - ETA: 6s - loss: 0.4370 - mean_absolute_error: 0.481 - ETA: 6s - loss: 0.4368 - mean_absolute_error: 0.481 - ETA: 6s - loss: 0.4370 - mean_absolute_error: 0.481 - ETA: 6s - loss: 0.4370 - mean_absolute_error: 0.481 - ETA: 6s - loss: 0.4371 - mean_absolute_error: 0.481 - ETA: 6s - loss: 0.4369 - mean_absolute_error: 0.481 - ETA: 6s - loss: 0.4369 - mean_absolute_error: 0.481 - ETA: 5s - loss: 0.4367 - mean_absolute_error: 0.481 - ETA: 5s - loss: 0.4367 - mean_absolute_error: 0.481 - ETA: 5s - loss: 0.4367 - mean_absolute_error: 0.481 - ETA: 5s - loss: 0.4367 - mean_absolute_error: 0.481 - ETA: 5s - loss: 0.4366 - mean_absolute_error: 0.481 - ETA: 5s - loss: 0.4367 - mean_absolute_error: 0.481 - ETA: 5s - loss: 0.4366 - mean_absolute_error: 0.481 - ETA: 5s - loss: 0.4365 - mean_absolute_error: 0.481 - ETA: 5s - loss: 0.4365 - mean_absolute_error: 0.481 - ETA: 5s - loss: 0.4365 - mean_absolute_error: 0.481 - ETA: 5s - loss: 0.4367 - mean_absolute_error: 0.481 - ETA: 5s - loss: 0.4365 - mean_absolute_error: 0.481 - ETA: 5s - loss: 0.4366 - mean_absolute_error: 0.481 - ETA: 5s - loss: 0.4365 - mean_absolute_error: 0.481 - ETA: 5s - loss: 0.4366 - mean_absolute_error: 0.481 - ETA: 5s - loss: 0.4367 - mean_absolute_error: 0.481 - ETA: 5s - loss: 0.4366 - mean_absolute_error: 0.481 - ETA: 5s - loss: 0.4369 - mean_absolute_error: 0.481 - ETA: 5s - loss: 0.4368 - mean_absolute_error: 0.481 - ETA: 4s - loss: 0.4369 - mean_absolute_error: 0.481 - ETA: 4s - loss: 0.4368 - mean_absolute_error: 0.481 - ETA: 4s - loss: 0.4368 - mean_absolute_error: 0.481 - ETA: 4s - loss: 0.4368 - mean_absolute_error: 0.481 - ETA: 4s - loss: 0.4370 - mean_absolute_error: 0.481 - ETA: 4s - loss: 0.4370 - mean_absolute_error: 0.481 - ETA: 4s - loss: 0.4372 - mean_absolute_error: 0.481 - ETA: 4s - loss: 0.4371 - mean_absolute_error: 0.481 - ETA: 4s - loss: 0.4373 - mean_absolute_error: 0.481 - ETA: 4s - loss: 0.4372 - mean_absolute_error: 0.481 - ETA: 4s - loss: 0.4373 - mean_absolute_error: 0.481 - ETA: 4s - loss: 0.4373 - mean_absolute_error: 0.481 - ETA: 4s - loss: 0.4373 - mean_absolute_error: 0.481 - ETA: 4s - loss: 0.4375 - mean_absolute_error: 0.481 - ETA: 4s - loss: 0.4374 - mean_absolute_error: 0.481 - ETA: 4s - loss: 0.4374 - mean_absolute_error: 0.481 - ETA: 4s - loss: 0.4374 - mean_absolute_error: 0.481 - ETA: 3s - loss: 0.4373 - mean_absolute_error: 0.481 - ETA: 3s - loss: 0.4372 - mean_absolute_error: 0.481 - ETA: 3s - loss: 0.4371 - mean_absolute_error: 0.481 - ETA: 3s - loss: 0.4373 - mean_absolute_error: 0.481 - ETA: 3s - loss: 0.4372 - mean_absolute_error: 0.481 - ETA: 3s - loss: 0.4372 - mean_absolute_error: 0.481 - ETA: 3s - loss: 0.4371 - mean_absolute_error: 0.481 - ETA: 3s - loss: 0.4371 - mean_absolute_error: 0.481 - ETA: 3s - loss: 0.4371 - mean_absolute_error: 0.481 - ETA: 3s - loss: 0.4369 - mean_absolute_error: 0.481 - ETA: 3s - loss: 0.4370 - mean_absolute_error: 0.481 - ETA: 3s - loss: 0.4369 - mean_absolute_error: 0.481 - ETA: 3s - loss: 0.4368 - mean_absolute_error: 0.481 - ETA: 3s - loss: 0.4370 - mean_absolute_error: 0.481 - ETA: 3s - loss: 0.4369 - mean_absolute_error: 0.481 - ETA: 3s - loss: 0.4368 - mean_absolute_error: 0.481 - ETA: 3s - loss: 0.4368 - mean_absolute_error: 0.481 - ETA: 3s - loss: 0.4368 - mean_absolute_error: 0.481 - ETA: 3s - loss: 0.4368 - mean_absolute_error: 0.481 - ETA: 3s - loss: 0.4368 - mean_absolute_error: 0.481 - ETA: 2s - loss: 0.4368 - mean_absolute_error: 0.481 - ETA: 2s - loss: 0.4366 - mean_absolute_error: 0.481 - ETA: 2s - loss: 0.4367 - mean_absolute_error: 0.481 - ETA: 2s - loss: 0.4367 - mean_absolute_error: 0.481 - ETA: 2s - loss: 0.4366 - mean_absolute_error: 0.481 - ETA: 2s - loss: 0.4365 - mean_absolute_error: 0.481 - ETA: 2s - loss: 0.4364 - mean_absolute_error: 0.481 - ETA: 2s - loss: 0.4366 - mean_absolute_error: 0.481 - ETA: 2s - loss: 0.4366 - mean_absolute_error: 0.481 - ETA: 2s - loss: 0.4367 - mean_absolute_error: 0.481 - ETA: 2s - loss: 0.4365 - mean_absolute_error: 0.481 - ETA: 2s - loss: 0.4364 - mean_absolute_error: 0.481 - ETA: 2s - loss: 0.4363 - mean_absolute_error: 0.481 - ETA: 2s - loss: 0.4363 - mean_absolute_error: 0.481 - ETA: 2s - loss: 0.4363 - mean_absolute_error: 0.481 - ETA: 2s - loss: 0.4364 - mean_absolute_error: 0.481 - ETA: 2s - loss: 0.4364 - mean_absolute_error: 0.481 - ETA: 2s - loss: 0.4363 - mean_absolute_error: 0.481 - ETA: 2s - loss: 0.4363 - mean_absolute_error: 0.481 - ETA: 1s - loss: 0.4362 - mean_absolute_error: 0.481 - ETA: 1s - loss: 0.4363 - mean_absolute_error: 0.481 - ETA: 1s - loss: 0.4363 - mean_absolute_error: 0.481 - ETA: 1s - loss: 0.4362 - mean_absolute_error: 0.481 - ETA: 1s - loss: 0.4363 - mean_absolute_error: 0.481 - ETA: 1s - loss: 0.4363 - mean_absolute_error: 0.481 - ETA: 1s - loss: 0.4362 - mean_absolute_error: 0.481 - ETA: 1s - loss: 0.4363 - mean_absolute_error: 0.481 - ETA: 1s - loss: 0.4363 - mean_absolute_error: 0.4812"
     ]
    },
    {
     "name": "stdout",
     "output_type": "stream",
     "text": [
      "174938/174938 [==============================] - ETA: 1s - loss: 0.4361 - mean_absolute_error: 0.481 - ETA: 1s - loss: 0.4361 - mean_absolute_error: 0.481 - ETA: 1s - loss: 0.4362 - mean_absolute_error: 0.481 - ETA: 1s - loss: 0.4361 - mean_absolute_error: 0.481 - ETA: 1s - loss: 0.4360 - mean_absolute_error: 0.481 - ETA: 1s - loss: 0.4359 - mean_absolute_error: 0.481 - ETA: 1s - loss: 0.4358 - mean_absolute_error: 0.481 - ETA: 1s - loss: 0.4357 - mean_absolute_error: 0.481 - ETA: 1s - loss: 0.4357 - mean_absolute_error: 0.481 - ETA: 0s - loss: 0.4359 - mean_absolute_error: 0.481 - ETA: 0s - loss: 0.4358 - mean_absolute_error: 0.481 - ETA: 0s - loss: 0.4357 - mean_absolute_error: 0.481 - ETA: 0s - loss: 0.4356 - mean_absolute_error: 0.481 - ETA: 0s - loss: 0.4356 - mean_absolute_error: 0.481 - ETA: 0s - loss: 0.4355 - mean_absolute_error: 0.480 - ETA: 0s - loss: 0.4355 - mean_absolute_error: 0.480 - ETA: 0s - loss: 0.4356 - mean_absolute_error: 0.481 - ETA: 0s - loss: 0.4355 - mean_absolute_error: 0.481 - ETA: 0s - loss: 0.4356 - mean_absolute_error: 0.481 - ETA: 0s - loss: 0.4355 - mean_absolute_error: 0.480 - ETA: 0s - loss: 0.4356 - mean_absolute_error: 0.481 - ETA: 0s - loss: 0.4357 - mean_absolute_error: 0.481 - ETA: 0s - loss: 0.4355 - mean_absolute_error: 0.481 - ETA: 0s - loss: 0.4355 - mean_absolute_error: 0.481 - ETA: 0s - loss: 0.4355 - mean_absolute_error: 0.481 - ETA: 0s - loss: 0.4354 - mean_absolute_error: 0.480 - ETA: 0s - loss: 0.4356 - mean_absolute_error: 0.481 - ETA: 0s - loss: 0.4355 - mean_absolute_error: 0.481 - 36s - loss: 0.4356 - mean_absolute_error: 0.4810 - val_loss: 0.5303 - val_mean_absolute_error: 0.5604\n"
     ]
    },
    {
     "data": {
      "text/plain": [
       "<keras.callbacks.History at 0x2599ead5cc0>"
      ]
     },
     "execution_count": 171,
     "metadata": {},
     "output_type": "execute_result"
    }
   ],
   "source": [
    "model.fit(X_train, np.log(target+2), 64, validation_split=0.2)"
   ]
  },
  {
   "cell_type": "code",
   "execution_count": 177,
   "metadata": {
    "ExecuteTime": {
     "end_time": "2018-09-01T04:33:15.479213Z",
     "start_time": "2018-09-01T04:33:10.335681Z"
    },
    "hidden": true
   },
   "outputs": [],
   "source": [
    "preds = np.exp(model.predict(X_test).flatten()) -2"
   ]
  },
  {
   "cell_type": "code",
   "execution_count": 178,
   "metadata": {
    "ExecuteTime": {
     "end_time": "2018-09-01T04:33:15.829689Z",
     "start_time": "2018-09-01T04:33:15.479213Z"
    },
    "hidden": true
   },
   "outputs": [
    {
     "data": {
      "text/plain": [
       "array([ 130.00826,   59.6307 ,   28.58158, ...,   38.07769,   11.17347,   20.13352], dtype=float32)"
      ]
     },
     "execution_count": 178,
     "metadata": {},
     "output_type": "execute_result"
    }
   ],
   "source": [
    "preds"
   ]
  },
  {
   "cell_type": "code",
   "execution_count": 179,
   "metadata": {
    "ExecuteTime": {
     "end_time": "2018-09-01T04:33:27.110053Z",
     "start_time": "2018-09-01T04:33:26.697141Z"
    },
    "hidden": true
   },
   "outputs": [],
   "source": [
    "submit = make_submission(preds)"
   ]
  },
  {
   "cell_type": "code",
   "execution_count": 180,
   "metadata": {
    "ExecuteTime": {
     "end_time": "2018-09-01T04:33:33.782685Z",
     "start_time": "2018-09-01T04:33:33.398321Z"
    },
    "hidden": true
   },
   "outputs": [
    {
     "data": {
      "text/plain": [
       "365183.53"
      ]
     },
     "execution_count": 180,
     "metadata": {},
     "output_type": "execute_result"
    }
   ],
   "source": [
    "max(preds)"
   ]
  },
  {
   "cell_type": "code",
   "execution_count": 182,
   "metadata": {
    "ExecuteTime": {
     "end_time": "2018-09-01T04:34:04.095531Z",
     "start_time": "2018-09-01T04:34:03.338114Z"
    },
    "hidden": true
   },
   "outputs": [],
   "source": [
    "submit.to_csv(f'{PATH}\\\\nn1.csv', index=None)"
   ]
  },
  {
   "cell_type": "markdown",
   "metadata": {},
   "source": [
    "## ranodm exp"
   ]
  },
  {
   "cell_type": "code",
   "execution_count": 58,
   "metadata": {
    "ExecuteTime": {
     "end_time": "2018-09-01T08:36:43.505674Z",
     "start_time": "2018-09-01T08:36:43.212461Z"
    }
   },
   "outputs": [
    {
     "data": {
      "text/html": [
       "<div>\n",
       "<style scoped>\n",
       "    .dataframe tbody tr th:only-of-type {\n",
       "        vertical-align: middle;\n",
       "    }\n",
       "\n",
       "    .dataframe tbody tr th {\n",
       "        vertical-align: top;\n",
       "    }\n",
       "\n",
       "    .dataframe thead th {\n",
       "        text-align: right;\n",
       "    }\n",
       "</style>\n",
       "<table border=\"1\" class=\"dataframe\">\n",
       "  <thead>\n",
       "    <tr style=\"text-align: right;\">\n",
       "      <th></th>\n",
       "      <th>Username</th>\n",
       "      <th>Tag</th>\n",
       "      <th>Reputation</th>\n",
       "      <th>Answers</th>\n",
       "      <th>agg_count</th>\n",
       "      <th>agg_answers</th>\n",
       "      <th>agg_views</th>\n",
       "      <th>agg_repo</th>\n",
       "      <th>log_trans_Reputation</th>\n",
       "      <th>sqrt_trans_Reputation</th>\n",
       "      <th>...</th>\n",
       "      <th>log_trans_repo_per_Answers</th>\n",
       "      <th>log_trans_repo_per_Views</th>\n",
       "      <th>unique_tag</th>\n",
       "      <th>skill_score</th>\n",
       "      <th>rep_per_skill</th>\n",
       "      <th>skill_per_tag</th>\n",
       "      <th>views_per_ans</th>\n",
       "      <th>bin_Answers</th>\n",
       "      <th>bin_Views</th>\n",
       "      <th>bin_Reputation</th>\n",
       "    </tr>\n",
       "  </thead>\n",
       "  <tbody>\n",
       "    <tr>\n",
       "      <th>4</th>\n",
       "      <td>112223</td>\n",
       "      <td>c</td>\n",
       "      <td>4271.0</td>\n",
       "      <td>4.0</td>\n",
       "      <td>3</td>\n",
       "      <td>2.0</td>\n",
       "      <td>20598.666667</td>\n",
       "      <td>4271.0</td>\n",
       "      <td>8.359837</td>\n",
       "      <td>65.352888</td>\n",
       "      <td>...</td>\n",
       "      <td>6.751335</td>\n",
       "      <td>0.266492</td>\n",
       "      <td>1</td>\n",
       "      <td>11</td>\n",
       "      <td>388.272727</td>\n",
       "      <td>11.0</td>\n",
       "      <td>2797.200000</td>\n",
       "      <td>2</td>\n",
       "      <td>3</td>\n",
       "      <td>3</td>\n",
       "    </tr>\n",
       "    <tr>\n",
       "      <th>7</th>\n",
       "      <td>54623</td>\n",
       "      <td>j</td>\n",
       "      <td>2269.0</td>\n",
       "      <td>2.0</td>\n",
       "      <td>4</td>\n",
       "      <td>2.0</td>\n",
       "      <td>6063.750000</td>\n",
       "      <td>2269.0</td>\n",
       "      <td>7.727535</td>\n",
       "      <td>47.634021</td>\n",
       "      <td>...</td>\n",
       "      <td>6.629803</td>\n",
       "      <td>2.112929</td>\n",
       "      <td>2</td>\n",
       "      <td>20</td>\n",
       "      <td>113.450000</td>\n",
       "      <td>10.0</td>\n",
       "      <td>104.000000</td>\n",
       "      <td>2</td>\n",
       "      <td>3</td>\n",
       "      <td>3</td>\n",
       "    </tr>\n",
       "    <tr>\n",
       "      <th>8</th>\n",
       "      <td>172926</td>\n",
       "      <td>j</td>\n",
       "      <td>111.0</td>\n",
       "      <td>2.0</td>\n",
       "      <td>1</td>\n",
       "      <td>2.0</td>\n",
       "      <td>53738.000000</td>\n",
       "      <td>111.0</td>\n",
       "      <td>4.718499</td>\n",
       "      <td>10.535654</td>\n",
       "      <td>...</td>\n",
       "      <td>3.637586</td>\n",
       "      <td>0.002063</td>\n",
       "      <td>1</td>\n",
       "      <td>10</td>\n",
       "      <td>11.100000</td>\n",
       "      <td>10.0</td>\n",
       "      <td>17912.666667</td>\n",
       "      <td>2</td>\n",
       "      <td>4</td>\n",
       "      <td>2</td>\n",
       "    </tr>\n",
       "  </tbody>\n",
       "</table>\n",
       "<p>3 rows × 26 columns</p>\n",
       "</div>"
      ],
      "text/plain": [
       "   Username Tag  Reputation  Answers  agg_count  agg_answers     agg_views  \\\n",
       "4    112223   c      4271.0      4.0          3          2.0  20598.666667   \n",
       "7     54623   j      2269.0      2.0          4          2.0   6063.750000   \n",
       "8    172926   j       111.0      2.0          1          2.0  53738.000000   \n",
       "\n",
       "   agg_repo  log_trans_Reputation  sqrt_trans_Reputation       ...        \\\n",
       "4    4271.0              8.359837              65.352888       ...         \n",
       "7    2269.0              7.727535              47.634021       ...         \n",
       "8     111.0              4.718499              10.535654       ...         \n",
       "\n",
       "   log_trans_repo_per_Answers  log_trans_repo_per_Views  unique_tag  \\\n",
       "4                    6.751335                  0.266492           1   \n",
       "7                    6.629803                  2.112929           2   \n",
       "8                    3.637586                  0.002063           1   \n",
       "\n",
       "   skill_score  rep_per_skill  skill_per_tag  views_per_ans  bin_Answers  \\\n",
       "4           11     388.272727           11.0    2797.200000            2   \n",
       "7           20     113.450000           10.0     104.000000            2   \n",
       "8           10      11.100000           10.0   17912.666667            2   \n",
       "\n",
       "   bin_Views  bin_Reputation  \n",
       "4          3               3  \n",
       "7          3               3  \n",
       "8          4               2  \n",
       "\n",
       "[3 rows x 26 columns]"
      ]
     },
     "execution_count": 58,
     "metadata": {},
     "output_type": "execute_result"
    }
   ],
   "source": [
    "df_raw_feats.head(3)"
   ]
  },
  {
   "cell_type": "code",
   "execution_count": 59,
   "metadata": {
    "ExecuteTime": {
     "end_time": "2018-09-01T08:36:45.694961Z",
     "start_time": "2018-09-01T08:36:45.549347Z"
    }
   },
   "outputs": [],
   "source": [
    "from sklearn.feature_extraction.text import TfidfVectorizer, TfidfTransformer"
   ]
  },
  {
   "cell_type": "code",
   "execution_count": 60,
   "metadata": {
    "ExecuteTime": {
     "end_time": "2018-09-01T08:36:46.242275Z",
     "start_time": "2018-09-01T08:36:45.983738Z"
    }
   },
   "outputs": [],
   "source": [
    "idx_split = df_raw_feats.shape[0]"
   ]
  },
  {
   "cell_type": "code",
   "execution_count": 61,
   "metadata": {
    "ExecuteTime": {
     "end_time": "2018-09-01T08:36:47.319376Z",
     "start_time": "2018-09-01T08:36:46.911547Z"
    }
   },
   "outputs": [],
   "source": [
    "full_df = pd.concat([df_raw_feats, df_test_feats])"
   ]
  },
  {
   "cell_type": "code",
   "execution_count": 77,
   "metadata": {
    "ExecuteTime": {
     "end_time": "2018-09-01T08:50:34.431763Z",
     "start_time": "2018-09-01T08:50:34.172286Z"
    }
   },
   "outputs": [],
   "source": [
    "cats = ['Tag',  'bin_Answers', 'bin_Views', 'bin_Reputation', 'Username']"
   ]
  },
  {
   "cell_type": "code",
   "execution_count": 86,
   "metadata": {
    "ExecuteTime": {
     "end_time": "2018-09-01T09:08:11.144869Z",
     "start_time": "2018-09-01T09:08:04.416444Z"
    }
   },
   "outputs": [
    {
     "data": {
      "text/plain": [
       "((218673, 1000), (141448, 1000))"
      ]
     },
     "execution_count": 86,
     "metadata": {},
     "output_type": "execute_result"
    }
   ],
   "source": [
    "full_cats = full_df[cats].astype('str')\n",
    "lst = full_cats[cats].as_matrix().tolist()\n",
    "flat_list = [' '.join(sublist) for sublist in lst]\n",
    "vect = TfidfVectorizer(ngram_range=(1,3), max_features=1000,analyzer='word')\n",
    "tfidf_matrix = vect.fit_transform(flat_list)\n",
    "\n",
    "X_train_tf = tfidf_matrix[:idx_split]\n",
    "X_test_tf  = tfidf_matrix[idx_split:]\n",
    "\n",
    "X_train_tf.shape, X_test_tf.shape"
   ]
  },
  {
   "cell_type": "code",
   "execution_count": 87,
   "metadata": {
    "ExecuteTime": {
     "end_time": "2018-09-01T09:08:11.348326Z",
     "start_time": "2018-09-01T09:08:11.147864Z"
    }
   },
   "outputs": [],
   "source": [
    "from scipy.sparse import csr_matrix\n",
    "from scipy.sparse import hstack"
   ]
  },
  {
   "cell_type": "code",
   "execution_count": 88,
   "metadata": {
    "ExecuteTime": {
     "end_time": "2018-09-01T09:08:13.334865Z",
     "start_time": "2018-09-01T09:08:11.351317Z"
    }
   },
   "outputs": [
    {
     "data": {
      "text/plain": [
       "((218673, 1021), (141448, 1021))"
      ]
     },
     "execution_count": 88,
     "metadata": {},
     "output_type": "execute_result"
    }
   ],
   "source": [
    "x_train_full  =  csr_matrix(hstack([X_train_tf,df_raw_feats.drop(cats,axis=1).values])) \n",
    "x_test_full   =  csr_matrix(hstack([X_test_tf ,df_test_feats.drop(cats,axis=1).values])) \n",
    "x_train_full.shape,x_test_full.shape"
   ]
  },
  {
   "cell_type": "code",
   "execution_count": 89,
   "metadata": {
    "ExecuteTime": {
     "end_time": "2018-09-01T09:08:13.558456Z",
     "start_time": "2018-09-01T09:08:13.337856Z"
    }
   },
   "outputs": [],
   "source": [
    "from sklearn.metrics import mean_squared_error as mse\n",
    "def runXGB(train_X, train_y, test_X, test_y=None):\n",
    "    \n",
    "        params = {}\n",
    "        params['booster'] = 'gbtree'\n",
    "        params[\"objective\"] = \"gpu:reg:linear\"\n",
    "        params[\"eta\"] = 0.02\n",
    "        params[\"min_child_weight\"] = 2\n",
    "        params[\"subsample\"] = 0.9\n",
    "        params[\"colsample_bytree\"] = 0.8\n",
    "        params[\"silent\"] = 1\n",
    "        params[\"max_depth\"] = 8\n",
    "        params[\"seed\"] = 1\n",
    "        params['alpha'] = .05\n",
    "        params['tree_method'] = 'gpu_hist'\n",
    "        params['gamma'] = 3\n",
    "        \n",
    "        plst = list(params.items())\n",
    "        num_rounds = 900\n",
    "\n",
    "        xgtrain = xgb.DMatrix(train_X, label=train_y)\n",
    "        xgtest = xgb.DMatrix(test_X)\n",
    "        model = xgb.train(plst, xgtrain, num_rounds)\n",
    "        pred_test_y = model.predict(xgtest)\n",
    "        return model, pred_test_y\n",
    "\n",
    "def rmse(act_y, pred_y):\n",
    "    return np.sqrt(mse(act_y, pred_y))"
   ]
  },
  {
   "cell_type": "code",
   "execution_count": 90,
   "metadata": {
    "ExecuteTime": {
     "end_time": "2018-09-01T09:12:31.631560Z",
     "start_time": "2018-09-01T09:08:13.562256Z"
    }
   },
   "outputs": [],
   "source": [
    "model_xgb, preds = runXGB(x_train_full, target, x_test_full)"
   ]
  },
  {
   "cell_type": "code",
   "execution_count": 91,
   "metadata": {
    "ExecuteTime": {
     "end_time": "2018-09-01T09:12:31.829937Z",
     "start_time": "2018-09-01T09:12:31.631560Z"
    }
   },
   "outputs": [
    {
     "data": {
      "text/plain": [
       "array([ 231.71132,   84.4279 ,   54.15084, ...,   65.54631,   18.16169,   27.44318], dtype=float32)"
      ]
     },
     "execution_count": 91,
     "metadata": {},
     "output_type": "execute_result"
    }
   ],
   "source": [
    "preds"
   ]
  },
  {
   "cell_type": "code",
   "execution_count": 92,
   "metadata": {
    "ExecuteTime": {
     "end_time": "2018-09-01T09:12:32.747866Z",
     "start_time": "2018-09-01T09:12:31.832928Z"
    }
   },
   "outputs": [],
   "source": [
    "submit = make_submission(preds)\n",
    "submit.to_csv(f'{PATH}\\\\xgb_with_tfidf.csv', index=False)"
   ]
  },
  {
   "cell_type": "code",
   "execution_count": null,
   "metadata": {},
   "outputs": [],
   "source": []
  }
 ],
 "metadata": {
  "kernelspec": {
   "display_name": "Python 3",
   "language": "python",
   "name": "python3"
  },
  "language_info": {
   "codemirror_mode": {
    "name": "ipython",
    "version": 3
   },
   "file_extension": ".py",
   "mimetype": "text/x-python",
   "name": "python",
   "nbconvert_exporter": "python",
   "pygments_lexer": "ipython3",
   "version": "3.6.3"
  },
  "nbTranslate": {
   "displayLangs": [
    "*"
   ],
   "hotkey": "alt-t",
   "langInMainMenu": true,
   "sourceLang": "en",
   "targetLang": "fr",
   "useGoogleTranslate": true
  },
  "toc": {
   "base_numbering": 1,
   "nav_menu": {},
   "number_sections": true,
   "sideBar": true,
   "skip_h1_title": false,
   "title_cell": "Table of Contents",
   "title_sidebar": "Contents",
   "toc_cell": false,
   "toc_position": {},
   "toc_section_display": true,
   "toc_window_display": false
  }
 },
 "nbformat": 4,
 "nbformat_minor": 2
}
