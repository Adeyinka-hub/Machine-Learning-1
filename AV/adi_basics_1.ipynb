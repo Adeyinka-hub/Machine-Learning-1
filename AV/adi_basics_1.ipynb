{
 "cells": [
  {
   "cell_type": "markdown",
   "metadata": {},
   "source": [
    "## imports"
   ]
  },
  {
   "cell_type": "code",
   "execution_count": 1,
   "metadata": {
    "ExecuteTime": {
     "end_time": "2018-08-31T12:33:12.506906Z",
     "start_time": "2018-08-31T12:33:11.964121Z"
    }
   },
   "outputs": [],
   "source": [
    "%load_ext autoreload\n",
    "%autoreload 2\n",
    "\n",
    "%matplotlib inline"
   ]
  },
  {
   "cell_type": "code",
   "execution_count": null,
   "metadata": {
    "ExecuteTime": {
     "start_time": "2018-08-31T16:12:16.844Z"
    }
   },
   "outputs": [],
   "source": [
    "import time\n",
    "import xgboost as xgb\n",
    "import lightgbm as lgb\n",
    "# import category_encoders as cat_ed\n",
    "# import gc, mlcrate, glob\n",
    "\n",
    "# from gplearn.genetic import SymbolicTransformer, SymbolicRegressor\n",
    "from fastai.imports import *\n",
    "from fastai.structured import *\n",
    "from pandas_summary import DataFrameSummary\n",
    "# from sklearn.ensemble import RandomForestClassifier, ExtraTreesClassifier, RandomForestRegressor\n",
    "from IPython.display import display\n",
    "\n",
    "# from catboost import CatBoostClassifier\n",
    "# from scipy.cluster import hierarchy as hc\n",
    "# from collections import Counter\n",
    "\n",
    "# from sklearn import metrics\n",
    "# from sklearn.linear_model import LogisticRegression\n",
    "# from sklearn.model_selection import train_test_split\n",
    "# from sklearn.metrics import mean_squared_error\n",
    "# from sklearn.metrics import  roc_auc_score, log_loss\n",
    "# from sklearn.model_selection import KFold, StratifiedKFold\n",
    "# from sklearn.model_selection import GridSearchCV\n",
    "# from sklearn.decomposition import PCA, TruncatedSVD, FastICA, FactorAnalysis\n",
    "# from sklearn.random_projection import GaussianRandomProjection, SparseRandomProjection\n",
    "# from sklearn.cluster import KMeans\n",
    "\n",
    "# from sklearn.metrics import accuracy_score, log_loss\n",
    "# from sklearn.neighbors import KNeighborsClassifier\n",
    "# from sklearn.tree import DecisionTreeClassifier\n",
    "# from sklearn.ensemble import AdaBoostClassifier, GradientBoostingClassifier\n",
    "# from sklearn.naive_bayes import GaussianNB\n",
    "# from sklearn.discriminant_analysis import QuadraticDiscriminantAnalysis\n",
    "# from sklearn.neural_network import MLPClassifier\n",
    "# from sklearn.gaussian_process import GaussianProcessClassifier\n",
    "# from sklearn.gaussian_process.kernels import RBF\n",
    "\n",
    "# will ignore all warning from sklearn, seaborn etc..\n",
    "def ignore_warn(*args, **kwargs):\n",
    "    pass\n",
    "warnings.warn = ignore_warn\n",
    "\n",
    "pd.option_context(\"display.max_rows\", 1000);\n",
    "pd.option_context(\"display.max_columns\", 1000);"
   ]
  },
  {
   "cell_type": "code",
   "execution_count": 3,
   "metadata": {
    "ExecuteTime": {
     "end_time": "2018-08-31T12:33:14.462298Z",
     "start_time": "2018-08-31T12:33:14.306362Z"
    }
   },
   "outputs": [
    {
     "data": {
      "text/plain": [
       "'D:\\\\Github\\\\fastai\\\\courses\\\\ml1\\\\AV_Enigma_ML'"
      ]
     },
     "execution_count": 3,
     "metadata": {},
     "output_type": "execute_result"
    }
   ],
   "source": [
    "PATH = os.getcwd()\n",
    "PATH"
   ]
  },
  {
   "cell_type": "code",
   "execution_count": 4,
   "metadata": {
    "ExecuteTime": {
     "end_time": "2018-08-31T12:33:15.652546Z",
     "start_time": "2018-08-31T12:33:15.289027Z"
    }
   },
   "outputs": [
    {
     "name": "stdout",
     "output_type": "stream",
     "text": [
      " Volume in drive D is Local Disk\n",
      " Volume Serial Number is B408-A348\n",
      "\n",
      " Directory of D:\\Github\\fastai\\courses\\ml1\\AV_Enigma_ML\n",
      "\n",
      "31-Aug-18  06:00 PM    <DIR>          .\n",
      "31-Aug-18  06:00 PM    <DIR>          ..\n",
      "31-Aug-18  05:29 PM    <DIR>          .ipynb_checkpoints\n",
      "31-Aug-18  06:00 PM           200,571 adi_basics_1.ipynb\n",
      "31-Aug-18  03:54 PM         3,707,686 Adi_catboost_with rf_feats_310818.csv\n",
      "31-Aug-18  02:00 PM         3,693,882 Adi_rf_08_58_31-07-2018.csv\n",
      "31-Aug-18  05:21 PM            13,136 AV_Code_Fest17-master.zip\n",
      "31-Aug-18  08:14 AM    <SYMLINKD>     fastai [D:\\Github\\fastai\\fastai\\]\n",
      "31-Aug-18  11:20 AM           291,356 initial_eda.ipynb\n",
      "31-Aug-18  03:54 PM           400,163 ml_bazzokass.ipynb\n",
      "31-Aug-18  05:29 PM            72,621 Model 5 Factorization machine.ipynb\n",
      "31-Aug-18  08:02 AM         1,663,873 sample_submission.csv\n",
      "31-Aug-18  08:04 AM         4,673,330 test.csv\n",
      "31-Aug-18  02:06 PM        30,850,404 test_new_agg_feats.csv\n",
      "31-Aug-18  03:45 PM             7,994 time_left.tsv\n",
      "31-Aug-18  08:06 AM        12,564,851 train.csv\n",
      "31-Aug-18  02:06 PM        80,392,929 train_new_agg_feats.csv\n",
      "              13 File(s)    138,532,796 bytes\n",
      "               4 Dir(s)  176,679,645,184 bytes free\n"
     ]
    }
   ],
   "source": [
    "!dir {PATH}"
   ]
  },
  {
   "cell_type": "markdown",
   "metadata": {},
   "source": [
    "## importing datasets"
   ]
  },
  {
   "cell_type": "code",
   "execution_count": 5,
   "metadata": {
    "ExecuteTime": {
     "end_time": "2018-08-31T12:33:18.743105Z",
     "start_time": "2018-08-31T12:33:16.133070Z"
    }
   },
   "outputs": [],
   "source": [
    "df_raw = pd.read_csv(f'{PATH}\\\\train_new_agg_feats.csv', low_memory=False,dtype='float32')\n",
    "df_test = pd.read_csv(f'{PATH}\\\\test_new_agg_feats.csv', low_memory=False, dtype='float32')"
   ]
  },
  {
   "cell_type": "code",
   "execution_count": 6,
   "metadata": {
    "ExecuteTime": {
     "end_time": "2018-08-31T12:33:18.926556Z",
     "start_time": "2018-08-31T12:33:18.743105Z"
    }
   },
   "outputs": [],
   "source": [
    "def display_all(df):\n",
    "    with pd.option_context(\"display.max_rows\", 100): \n",
    "        with pd.option_context(\"display.max_columns\", 100): \n",
    "            display(df)\n",
    "\n",
    "def make_submission(probs):\n",
    "    sample = pd.read_csv(f'{PATH}\\\\sample_submission.csv')\n",
    "    submit = sample.copy()\n",
    "    submit['Upvotes'] = probs\n",
    "    return submit"
   ]
  },
  {
   "cell_type": "code",
   "execution_count": 7,
   "metadata": {
    "ExecuteTime": {
     "end_time": "2018-08-31T12:33:19.096204Z",
     "start_time": "2018-08-31T12:33:18.926556Z"
    }
   },
   "outputs": [
    {
     "data": {
      "text/plain": [
       "((330045, 20),)"
      ]
     },
     "execution_count": 7,
     "metadata": {},
     "output_type": "execute_result"
    }
   ],
   "source": [
    "df_raw.shape,"
   ]
  },
  {
   "cell_type": "code",
   "execution_count": 8,
   "metadata": {
    "ExecuteTime": {
     "end_time": "2018-08-31T12:33:19.271962Z",
     "start_time": "2018-08-31T12:33:19.096204Z"
    }
   },
   "outputs": [
    {
     "data": {
      "text/plain": [
       "float32:dense    20\n",
       "dtype: int64"
      ]
     },
     "execution_count": 8,
     "metadata": {},
     "output_type": "execute_result"
    }
   ],
   "source": [
    "df_raw.get_ftype_counts()"
   ]
  },
  {
   "cell_type": "markdown",
   "metadata": {},
   "source": [
    " pretty cleaned datasets ( Majority numbers, so dont forget to use gplearn (Genetic Programming Module) plus different feats on basis of +,-,*,/"
   ]
  },
  {
   "cell_type": "code",
   "execution_count": 9,
   "metadata": {
    "ExecuteTime": {
     "end_time": "2018-08-31T12:33:19.539483Z",
     "start_time": "2018-08-31T12:33:19.271962Z"
    }
   },
   "outputs": [
    {
     "data": {
      "text/plain": [
       "Answers                  0.0\n",
       "Reputation               0.0\n",
       "Tag                      0.0\n",
       "Username                 0.0\n",
       "Views                    0.0\n",
       "agg_answers              0.0\n",
       "agg_count                0.0\n",
       "agg_repo                 0.0\n",
       "agg_views                0.0\n",
       "log_trans_Answers        0.0\n",
       "log_trans_Reputation     0.0\n",
       "log_trans_Username       0.0\n",
       "log_trans_Views          0.0\n",
       "log_trans_agg_answers    0.0\n",
       "log_trans_agg_count      0.0\n",
       "log_trans_agg_repo       0.0\n",
       "log_trans_agg_views      0.0\n",
       "repo_per_Answers         0.0\n",
       "repo_per_Views           0.0\n",
       "target                   0.0\n",
       "dtype: float64"
      ]
     },
     "metadata": {},
     "output_type": "display_data"
    }
   ],
   "source": [
    "display_all(df_raw.isnull().sum().sort_index()/len(df_raw))"
   ]
  },
  {
   "cell_type": "code",
   "execution_count": 10,
   "metadata": {
    "ExecuteTime": {
     "end_time": "2018-08-31T12:33:19.723684Z",
     "start_time": "2018-08-31T12:33:19.539483Z"
    }
   },
   "outputs": [],
   "source": [
    "# df_raw['target'] = np.exp(target) - 1\n",
    "# df_raw.to_csv(f'{PATH}\\\\train_new_agg_feats.csv', index=False)\n",
    "# df_test.to_csv(f'{PATH}\\\\test_new_agg_feats.csv', index=False)"
   ]
  },
  {
   "cell_type": "markdown",
   "metadata": {},
   "source": [
    "## Initial Processing"
   ]
  },
  {
   "cell_type": "code",
   "execution_count": 11,
   "metadata": {
    "ExecuteTime": {
     "end_time": "2018-08-31T12:33:20.923943Z",
     "start_time": "2018-08-31T12:33:20.533796Z"
    }
   },
   "outputs": [],
   "source": [
    "man_train_list = df_raw.Username.unique()\n",
    "man_test_list = df_test.Username.unique()\n",
    "\n",
    "man_not_in_test = set(man_train_list) - set(man_test_list)\n",
    "man_not_in_train = set(man_test_list) - set(man_train_list)"
   ]
  },
  {
   "cell_type": "code",
   "execution_count": 12,
   "metadata": {
    "ExecuteTime": {
     "end_time": "2018-08-31T12:33:21.337181Z",
     "start_time": "2018-08-31T12:33:20.923943Z"
    }
   },
   "outputs": [],
   "source": [
    "df_raw.drop(index = df_raw.loc[list(man_not_in_test)].index, inplace=True)\n",
    "target = df_raw.target.values - 1\n",
    "df_raw.drop('target', axis=1, inplace=True)"
   ]
  },
  {
   "cell_type": "markdown",
   "metadata": {},
   "source": [
    "## gplearn"
   ]
  },
  {
   "cell_type": "code",
   "execution_count": 34,
   "metadata": {
    "ExecuteTime": {
     "end_time": "2018-08-31T13:05:34.850790Z",
     "start_time": "2018-08-31T13:05:34.572102Z"
    }
   },
   "outputs": [],
   "source": [
    "function_set = ['add','sub','mul','div','sqrt','log','abs','neg','inv','min','max']\n",
    "gp = SymbolicTransformer(generations=20,population_size=3000,n_jobs=-1,hall_of_fame=100,n_components=10,verbose=1,\\\n",
    "                        function_set=function_set,parsimony_coefficient=0.005,max_samples=0.9,random_state=123)"
   ]
  },
  {
   "cell_type": "code",
   "execution_count": 35,
   "metadata": {
    "ExecuteTime": {
     "end_time": "2018-08-31T13:15:18.367495Z",
     "start_time": "2018-08-31T13:05:36.393920Z"
    }
   },
   "outputs": [
    {
     "name": "stdout",
     "output_type": "stream",
     "text": [
      "    |    Population Average   |             Best Individual              |\n",
      "---- ------------------------- ------------------------------------------ ----------\n",
      " Gen   Length          Fitness   Length          Fitness      OOB Fitness  Time Left\n",
      "   0     9.46  0.0856001664017       11   0.546226535627   0.395898471233     11.99m\n",
      "   1     2.47   0.226701150616        5    0.53631944128   0.361121622482      8.97m\n",
      "   2     1.83   0.372419694023        3    0.54129065652   0.373727015486      7.14m\n",
      "   3     1.02   0.438522493891        1   0.485452481515   0.275690459055      5.81m\n",
      "   4     1.03    0.43859950183        1   0.489215109824   0.314471272194      4.88m\n",
      "   5     1.04   0.438649501971        1   0.483311391918   0.285511885105      3.93m\n",
      "   6     1.03   0.437855055597        1   0.485281762794   0.330179298756      2.92m\n",
      "   7     1.02    0.43821215498        1    0.49254926185   0.335685309932      1.96m\n",
      "   8     1.03   0.437549787264        1    0.48624125194   0.303723289018     58.46s\n",
      "   9     1.04   0.438187775609        1   0.487008471401   0.344055559092      0.00s\n"
     ]
    },
    {
     "data": {
      "text/plain": [
       "SymbolicTransformer(const_range=(-1.0, 1.0),\n",
       "          function_set=['add', 'sub', 'div', 'sqrt', 'log', 'inv'],\n",
       "          generations=10, hall_of_fame=100, init_depth=(2, 6),\n",
       "          init_method='half and half', max_samples=0.9, metric='pearson',\n",
       "          n_components=20, n_jobs=-1, p_crossover=0.9,\n",
       "          p_hoist_mutation=0.01, p_point_mutation=0.01,\n",
       "          p_point_replace=0.05, p_subtree_mutation=0.01,\n",
       "          parsimony_coefficient=0.1, population_size=3000,\n",
       "          random_state=123, stopping_criteria=1.0, tournament_size=20,\n",
       "          verbose=1, warm_start=False)"
      ]
     },
     "execution_count": 35,
     "metadata": {},
     "output_type": "execute_result"
    }
   ],
   "source": [
    "gp.fit(df_raw, target)"
   ]
  },
  {
   "cell_type": "code",
   "execution_count": 21,
   "metadata": {
    "ExecuteTime": {
     "end_time": "2018-08-31T12:57:21.543637Z",
     "start_time": "2018-08-31T12:57:21.205481Z"
    }
   },
   "outputs": [],
   "source": [
    "gp_feat_eng_train = gp.transform(df_raw)\n",
    "gp_feat_eng_test = gp.transform(df_test)\n",
    "ext_train = np.hstack((df_raw, gp_feat_eng_train))\n",
    "ext_test = np.hstack((df_test, gp_feat_eng_test))"
   ]
  },
  {
   "cell_type": "code",
   "execution_count": 28,
   "metadata": {
    "ExecuteTime": {
     "end_time": "2018-08-31T13:01:43.719839Z",
     "start_time": "2018-08-31T13:01:43.544959Z"
    }
   },
   "outputs": [],
   "source": [
    "my_xgb = xgb.XGBRegressor(8,0.01,n_jobs=-1,colsample_bytree=0.9,gamma=0.5,silent=False)"
   ]
  },
  {
   "cell_type": "code",
   "execution_count": 29,
   "metadata": {
    "ExecuteTime": {
     "end_time": "2018-08-31T13:04:00.368376Z",
     "start_time": "2018-08-31T13:01:44.121324Z"
    }
   },
   "outputs": [
    {
     "data": {
      "text/plain": [
       "XGBRegressor(base_score=0.5, booster='gbtree', colsample_bylevel=1,\n",
       "       colsample_bytree=0.9, gamma=0.5, learning_rate=0.01,\n",
       "       max_delta_step=0, max_depth=8, min_child_weight=1, missing=None,\n",
       "       n_estimators=100, n_jobs=-1, nthread=None, objective='reg:linear',\n",
       "       random_state=0, reg_alpha=0, reg_lambda=1, scale_pos_weight=1,\n",
       "       seed=None, silent=False, subsample=1)"
      ]
     },
     "execution_count": 29,
     "metadata": {},
     "output_type": "execute_result"
    }
   ],
   "source": [
    "my_xgb.fit(ext_train, target)"
   ]
  },
  {
   "cell_type": "code",
   "execution_count": 30,
   "metadata": {
    "ExecuteTime": {
     "end_time": "2018-08-31T13:04:01.280659Z",
     "start_time": "2018-08-31T13:04:00.368376Z"
    }
   },
   "outputs": [],
   "source": [
    "xgb_preds = my_xgb.predict(ext_test)"
   ]
  },
  {
   "cell_type": "code",
   "execution_count": 31,
   "metadata": {
    "ExecuteTime": {
     "end_time": "2018-08-31T13:04:14.898806Z",
     "start_time": "2018-08-31T13:04:14.615850Z"
    }
   },
   "outputs": [
    {
     "data": {
      "text/plain": [
       "array([ 142.54533,   57.61149,   29.44178, ...,   36.5743 ,   12.90634,   18.10994], dtype=float32)"
      ]
     },
     "execution_count": 31,
     "metadata": {},
     "output_type": "execute_result"
    }
   ],
   "source": [
    "xgb_preds"
   ]
  },
  {
   "cell_type": "code",
   "execution_count": 32,
   "metadata": {
    "ExecuteTime": {
     "end_time": "2018-08-31T13:04:45.428412Z",
     "start_time": "2018-08-31T13:04:44.674156Z"
    }
   },
   "outputs": [],
   "source": [
    "submit = make_submission(xgb_preds)"
   ]
  },
  {
   "cell_type": "code",
   "execution_count": 33,
   "metadata": {
    "ExecuteTime": {
     "end_time": "2018-08-31T13:05:08.176751Z",
     "start_time": "2018-08-31T13:05:07.259804Z"
    }
   },
   "outputs": [],
   "source": [
    "submit.to_csv(f'{PATH}\\\\xgb_v1.csv', index=None)"
   ]
  },
  {
   "cell_type": "code",
   "execution_count": 38,
   "metadata": {
    "ExecuteTime": {
     "end_time": "2018-08-31T13:16:34.043128Z",
     "start_time": "2018-08-31T13:16:33.773379Z"
    }
   },
   "outputs": [
    {
     "data": {
      "text/plain": [
       "(7.6774187, 188564.98)"
      ]
     },
     "execution_count": 38,
     "metadata": {},
     "output_type": "execute_result"
    }
   ],
   "source": [
    "min(xgb_preds), max(xgb_preds)"
   ]
  },
  {
   "cell_type": "code",
   "execution_count": 42,
   "metadata": {
    "ExecuteTime": {
     "end_time": "2018-08-31T13:17:23.743850Z",
     "start_time": "2018-08-31T13:17:23.300388Z"
    }
   },
   "outputs": [
    {
     "data": {
      "text/plain": [
       "<matplotlib.axes._subplots.AxesSubplot at 0x283b723fe48>"
      ]
     },
     "execution_count": 42,
     "metadata": {},
     "output_type": "execute_result"
    },
    {
     "data": {
      "image/png": "[encoded data removed]",
      "text/plain": [
       "<Figure size 432x288 with 1 Axes>"
      ]
     },
     "metadata": {},
     "output_type": "display_data"
    }
   ],
   "source": [
    "sns.distplot(np.log(target + 1))"
   ]
  },
  {
   "cell_type": "code",
   "execution_count": 43,
   "metadata": {
    "ExecuteTime": {
     "end_time": "2018-08-31T13:17:37.611760Z",
     "start_time": "2018-08-31T13:17:37.199590Z"
    }
   },
   "outputs": [
    {
     "data": {
      "text/plain": [
       "<matplotlib.axes._subplots.AxesSubplot at 0x283c2a6b3c8>"
      ]
     },
     "execution_count": 43,
     "metadata": {},
     "output_type": "execute_result"
    },
    {
     "data": {
      "image/png": "[encoded data removed]",
      "text/plain": [
       "<Figure size 432x288 with 1 Axes>"
      ]
     },
     "metadata": {},
     "output_type": "display_data"
    }
   ],
   "source": [
    "sns.distplot(np.log(xgb_preds + 1))"
   ]
  },
  {
   "cell_type": "code",
   "execution_count": 51,
   "metadata": {
    "ExecuteTime": {
     "end_time": "2018-08-31T13:23:31.734172Z",
     "start_time": "2018-08-31T13:23:31.472465Z"
    }
   },
   "outputs": [
    {
     "data": {
      "text/plain": [
       "(409.99996948242188, 5137.0815234375168)"
      ]
     },
     "execution_count": 51,
     "metadata": {},
     "output_type": "execute_result"
    }
   ],
   "source": [
    "min(np.percentile(target,[90,91,92,93,94,95,96,97,98,99])), max(np.percentile(target,[90,91,92,93,94,95,96,97,98,99]))"
   ]
  },
  {
   "cell_type": "code",
   "execution_count": 47,
   "metadata": {
    "ExecuteTime": {
     "end_time": "2018-08-31T13:22:07.039738Z",
     "start_time": "2018-08-31T13:22:06.782216Z"
    }
   },
   "outputs": [
    {
     "data": {
      "text/plain": [
       "array([  260.68729,   295.31461,   350.95674,   419.30652,   503.73669,   602.81378,   800.70929,  1054.57312,\n",
       "        1673.29602,  3313.65591])"
      ]
     },
     "execution_count": 47,
     "metadata": {},
     "output_type": "execute_result"
    }
   ],
   "source": [
    "np.percentile(xgb_preds,[90,91,92,93,94,95,96,97,98,99])"
   ]
  },
  {
   "cell_type": "code",
   "execution_count": 49,
   "metadata": {
    "ExecuteTime": {
     "end_time": "2018-08-31T13:23:02.694732Z",
     "start_time": "2018-08-31T13:23:02.429024Z"
    }
   },
   "outputs": [
    {
     "data": {
      "text/plain": [
       "array([ 142.54533,   57.61149,   29.44178, ...,   36.5743 ,   12.90634,   18.10994], dtype=float32)"
      ]
     },
     "execution_count": 49,
     "metadata": {},
     "output_type": "execute_result"
    }
   ],
   "source": [
    "np.where(xgb_preds>3313,3313,xgb_preds)"
   ]
  },
  {
   "cell_type": "code",
   "execution_count": 50,
   "metadata": {
    "ExecuteTime": {
     "end_time": "2018-08-31T13:23:14.803098Z",
     "start_time": "2018-08-31T13:23:14.474249Z"
    }
   },
   "outputs": [
    {
     "data": {
      "text/plain": [
       "(7.6774187, 3313.0)"
      ]
     },
     "execution_count": 50,
     "metadata": {},
     "output_type": "execute_result"
    }
   ],
   "source": [
    "min(np.where(xgb_preds>3313,3313,xgb_preds)), max(np.where(xgb_preds>3313,3313,xgb_preds))"
   ]
  },
  {
   "cell_type": "code",
   "execution_count": 52,
   "metadata": {
    "ExecuteTime": {
     "end_time": "2018-08-31T13:24:09.925550Z",
     "start_time": "2018-08-31T13:24:09.666677Z"
    }
   },
   "outputs": [],
   "source": [
    "xgb_preds_threshold = np.where(xgb_preds>3313,3313,xgb_preds)"
   ]
  },
  {
   "cell_type": "code",
   "execution_count": 53,
   "metadata": {
    "ExecuteTime": {
     "end_time": "2018-08-31T13:24:27.365909Z",
     "start_time": "2018-08-31T13:24:26.657688Z"
    }
   },
   "outputs": [],
   "source": [
    "submit = make_submission(xgb_preds_threshold)\n",
    "submit.to_csv(f'{PATH}\\\\xgb_v2_thresholding_at_3133.csv', index=None)"
   ]
  },
  {
   "cell_type": "code",
   "execution_count": 13,
   "metadata": {
    "ExecuteTime": {
     "end_time": "2018-08-31T08:07:14.866284Z",
     "start_time": "2018-08-31T08:07:14.584375Z"
    }
   },
   "outputs": [],
   "source": [
    "# temp1 = df_raw.groupby('Username').count().iloc[:,-1]\n",
    "# temp2 = df_test.groupby('Username').count().iloc[:,-1]\n",
    "# df_man = pd.concat([temp1,temp2], axis = 1, join = 'outer')\n",
    "# df_man.columns = ['train_count','test_count']\n",
    "# df_man.head(2)"
   ]
  },
  {
   "cell_type": "code",
   "execution_count": 14,
   "metadata": {
    "ExecuteTime": {
     "end_time": "2018-08-31T08:07:28.885877Z",
     "start_time": "2018-08-31T08:07:28.642683Z"
    }
   },
   "outputs": [],
   "source": [
    "# man_list = df_man['train_count'].sort_values(ascending = False).index\n",
    "# ixes = df_raw.Username.isin(man_list)\n",
    "# df10000 = df_raw[ixes][['Username','Tag']]\n",
    "# tags_dummies = pd.get_dummies(df10000.Tag)\n",
    "# df10000 = pd.concat([df10000,tags_dummies[['a', 'c', 'h', 'i', 'j', 'o', 'p', 'r', 's', 'x']]], axis = 1).drop('Tag', axis = 1)\n",
    "\n",
    "# # print(\"The contributors account for {} entries\\n\".format(len(df10000)))\n",
    "# # print(df10000.head(10))"
   ]
  },
  {
   "cell_type": "code",
   "execution_count": 15,
   "metadata": {
    "ExecuteTime": {
     "end_time": "2018-08-31T08:07:30.354370Z",
     "start_time": "2018-08-31T08:07:30.053039Z"
    }
   },
   "outputs": [],
   "source": [
    "# df10000.groupby('Username').count().sort_values(by = 'a', ascending = False).head()"
   ]
  },
  {
   "cell_type": "code",
   "execution_count": 21,
   "metadata": {
    "ExecuteTime": {
     "end_time": "2018-08-31T08:09:07.115597Z",
     "start_time": "2018-08-31T08:09:03.885924Z"
    },
    "scrolled": true
   },
   "outputs": [],
   "source": [
    "xyz = pd.concat([df_raw.groupby('Username').mean(),df_raw.groupby('Username').count()], axis = 1).iloc[:,:-5]\n",
    "xyz.columns = ['ID', 'Reputation', 'Answers', 'Views', 'Upvotes', 'count']\n",
    "############################################################################################# Mean Aggs\n",
    "\n",
    "unames   = xyz.sort_values(by = 'count', ascending = False).reset_index()['Username'].values.astype('int64')\n",
    "count    = xyz.sort_values(by = 'count', ascending = False).reset_index()['count'].values.astype('int64')\n",
    "answers  = xyz.sort_values(by = 'count', ascending = False).reset_index()['Answers'].values.astype('int64')\n",
    "views    = xyz.sort_values(by = 'count', ascending = False).reset_index()['Views'].values.astype('int64')\n",
    "repo     = xyz.sort_values(by = 'count', ascending = False).reset_index()['Reputation'].values.astype('int64') \n",
    "\n",
    "d = {}\n",
    "for idx,k in enumerate(unames):\n",
    "    d[k] = count[idx]\n",
    "df_raw['agg_count'] = df_raw['Username'].map(d)\n",
    "\n",
    "d = {}\n",
    "for idx,k in enumerate(unames):\n",
    "    d[k] = answers[idx]\n",
    "df_raw['agg_answers'] = df_raw['Username'].map(d)\n",
    "\n",
    "d = {}\n",
    "for idx,k in enumerate(unames):\n",
    "    d[k] = views[idx]\n",
    "df_raw['agg_views'] = df_raw['Username'].map(d)\n",
    "\n",
    "d = {}\n",
    "for idx,k in enumerate(unames):\n",
    "    d[k] = repo[idx]\n",
    "df_raw['agg_repo'] = df_raw['Username'].map(d)"
   ]
  },
  {
   "cell_type": "code",
   "execution_count": 22,
   "metadata": {
    "ExecuteTime": {
     "end_time": "2018-08-31T08:09:30.181687Z",
     "start_time": "2018-08-31T08:09:28.379462Z"
    },
    "scrolled": true
   },
   "outputs": [
    {
     "data": {
      "text/html": [
       "<div>\n",
       "<style scoped>\n",
       "    .dataframe tbody tr th:only-of-type {\n",
       "        vertical-align: middle;\n",
       "    }\n",
       "\n",
       "    .dataframe tbody tr th {\n",
       "        vertical-align: top;\n",
       "    }\n",
       "\n",
       "    .dataframe thead th {\n",
       "        text-align: right;\n",
       "    }\n",
       "</style>\n",
       "<table border=\"1\" class=\"dataframe\">\n",
       "  <thead>\n",
       "    <tr style=\"text-align: right;\">\n",
       "      <th></th>\n",
       "      <th>ID</th>\n",
       "      <th>Tag</th>\n",
       "      <th>Reputation</th>\n",
       "      <th>Answers</th>\n",
       "      <th>Username</th>\n",
       "      <th>Views</th>\n",
       "      <th>agg_count</th>\n",
       "      <th>agg_answers</th>\n",
       "      <th>agg_views</th>\n",
       "      <th>agg_repo</th>\n",
       "    </tr>\n",
       "  </thead>\n",
       "  <tbody>\n",
       "    <tr>\n",
       "      <th>0</th>\n",
       "      <td>366953</td>\n",
       "      <td>a</td>\n",
       "      <td>5645.0</td>\n",
       "      <td>3.0</td>\n",
       "      <td>50652</td>\n",
       "      <td>33200.0</td>\n",
       "      <td>1</td>\n",
       "      <td>3</td>\n",
       "      <td>33200</td>\n",
       "      <td>5645</td>\n",
       "    </tr>\n",
       "    <tr>\n",
       "      <th>1</th>\n",
       "      <td>71864</td>\n",
       "      <td>c</td>\n",
       "      <td>24511.0</td>\n",
       "      <td>6.0</td>\n",
       "      <td>37685</td>\n",
       "      <td>2730.0</td>\n",
       "      <td>9</td>\n",
       "      <td>3</td>\n",
       "      <td>4383</td>\n",
       "      <td>24511</td>\n",
       "    </tr>\n",
       "    <tr>\n",
       "      <th>2</th>\n",
       "      <td>141692</td>\n",
       "      <td>i</td>\n",
       "      <td>927.0</td>\n",
       "      <td>1.0</td>\n",
       "      <td>135293</td>\n",
       "      <td>21167.0</td>\n",
       "      <td>1</td>\n",
       "      <td>1</td>\n",
       "      <td>21167</td>\n",
       "      <td>927</td>\n",
       "    </tr>\n",
       "  </tbody>\n",
       "</table>\n",
       "</div>"
      ],
      "text/plain": [
       "       ID Tag  Reputation  Answers  Username    Views  agg_count  agg_answers  \\\n",
       "0  366953   a      5645.0      3.0     50652  33200.0          1            3   \n",
       "1   71864   c     24511.0      6.0     37685   2730.0          9            3   \n",
       "2  141692   i       927.0      1.0    135293  21167.0          1            1   \n",
       "\n",
       "   agg_views  agg_repo  \n",
       "0      33200      5645  \n",
       "1       4383     24511  \n",
       "2      21167       927  "
      ]
     },
     "execution_count": 22,
     "metadata": {},
     "output_type": "execute_result"
    }
   ],
   "source": [
    "xyz = pd.concat([df_test.groupby('Username').mean(),df_test.groupby('Username').count()], axis = 1).iloc[:,:-4]\n",
    "xyz.columns = ['ID', 'Reputation', 'Answers', 'Views', 'count']\n",
    "\n",
    "########################################################################################## Mean Aggregates\n",
    "unames   = xyz.sort_values(by = 'count', ascending = False).reset_index()['Username'].values.astype('int64')\n",
    "count    = xyz.sort_values(by = 'count', ascending = False).reset_index()['count'].values.astype('int64')\n",
    "answers  = xyz.sort_values(by = 'count', ascending = False).reset_index()['Answers'].values.astype('int64')\n",
    "views    = xyz.sort_values(by = 'count', ascending = False).reset_index()['Views'].values.astype('int64')\n",
    "repo     = xyz.sort_values(by = 'count', ascending = False).reset_index()['Reputation'].values.astype('int64') \n",
    "\n",
    "d = {}\n",
    "for idx,k in enumerate(unames):\n",
    "    d[k] = count[idx]\n",
    "df_test['agg_count'] = df_test['Username'].map(d)\n",
    "\n",
    "d = {}\n",
    "for idx,k in enumerate(unames):\n",
    "    d[k] = answers[idx]\n",
    "df_test['agg_answers'] = df_test['Username'].map(d)\n",
    "\n",
    "d = {}\n",
    "for idx,k in enumerate(unames):\n",
    "    d[k] = views[idx]\n",
    "df_test['agg_views'] = df_test['Username'].map(d)\n",
    "\n",
    "d = {}\n",
    "for idx,k in enumerate(unames):\n",
    "    d[k] = repo[idx]\n",
    "df_test['agg_repo'] = df_test['Username'].map(d)\n",
    "\n",
    "df_test.head(3)"
   ]
  },
  {
   "cell_type": "code",
   "execution_count": 49,
   "metadata": {
    "ExecuteTime": {
     "end_time": "2018-08-31T08:15:38.777760Z",
     "start_time": "2018-08-31T08:15:38.424233Z"
    }
   },
   "outputs": [
    {
     "data": {
      "text/plain": [
       "((330045, 19), (141448, 19))"
      ]
     },
     "execution_count": 49,
     "metadata": {},
     "output_type": "execute_result"
    }
   ],
   "source": [
    "add_trans = ['Reputation', 'Answers', 'Username', 'Views', 'agg_count', 'agg_answers', 'agg_views', 'agg_repo']\n",
    "\n",
    "for col in add_trans:\n",
    "    df_raw[f'log_trans_{col}'.format(col)] = np.log(df_raw[col] + 1) #avoid log 0's if any\n",
    "    df_test[f'log_trans_{col}'.format(col)] = np.log(df_test[col] + 1) #avoid log 0's if any\n",
    "    \n",
    "df_raw['repo_per_Answers'] = df_raw['Reputation'] / (df_raw['Answers']+1)\n",
    "df_raw['repo_per_Views']   = df_raw['Reputation'] / df_raw['Views']\n",
    "\n",
    "df_test['repo_per_Answers'] = df_test['Reputation'] / (df_test['Answers'] +1)\n",
    "df_test['repo_per_Views']   = df_test['Reputation'] / df_test['Views']\n",
    "\n",
    "df_raw.shape, df_test.shape"
   ]
  },
  {
   "cell_type": "code",
   "execution_count": 24,
   "metadata": {
    "ExecuteTime": {
     "end_time": "2018-08-31T08:10:01.406161Z",
     "start_time": "2018-08-31T08:10:01.184587Z"
    }
   },
   "outputs": [],
   "source": [
    "# gby = pd.concat([df10000.groupby('Username').mean(),df10000.groupby('Username').count()], axis = 1).iloc[:,:-9]\n",
    "# gby.columns = ['a', 'c', 'h', 'i', 'j', 'o', 'p', 'r', 's', 'x', 'count']\n",
    "# gby.sort_values(by = 'count', ascending = False).head(3)[['a', 'c', 'h', 'i', 'j', 'o', 'p', 'r', 's', 'x', 'count']]"
   ]
  },
  {
   "cell_type": "code",
   "execution_count": 25,
   "metadata": {
    "ExecuteTime": {
     "end_time": "2018-08-31T08:10:01.659024Z",
     "start_time": "2018-08-31T08:10:01.454572Z"
    }
   },
   "outputs": [],
   "source": [
    "# gby.sort_values(by = 'count', ascending = False).drop('count', axis = 1).plot(kind = 'bar', stacked = True, figsize = (15,6))\n",
    "# plt.figure()\n",
    "# gby.sort_values(by = 'count', ascending = False)['count'].plot(kind = 'bar', figsize = (15,6));"
   ]
  },
  {
   "cell_type": "code",
   "execution_count": 26,
   "metadata": {
    "ExecuteTime": {
     "end_time": "2018-08-31T08:10:01.920325Z",
     "start_time": "2018-08-31T08:10:01.722855Z"
    }
   },
   "outputs": [],
   "source": [
    "# pd.concat([df_raw['Tag'].value_counts().sort_values(ascending=False),df_test['Tag'].value_counts().sort_values(ascending=False)],sort=False, axis =1,\\\n",
    "#           keys=['Train_Stats', 'Test_Stats'])"
   ]
  },
  {
   "cell_type": "code",
   "execution_count": 27,
   "metadata": {
    "ExecuteTime": {
     "end_time": "2018-08-31T08:10:02.259479Z",
     "start_time": "2018-08-31T08:10:02.054966Z"
    }
   },
   "outputs": [],
   "source": [
    "# gby.shape"
   ]
  },
  {
   "cell_type": "code",
   "execution_count": 28,
   "metadata": {
    "ExecuteTime": {
     "end_time": "2018-08-31T08:10:02.664335Z",
     "start_time": "2018-08-31T08:10:02.446918Z"
    }
   },
   "outputs": [],
   "source": [
    "# gby['skill'] = gby['r']*1 + gby['o']*2 + gby['h']*3 + gby['s']*4 + gby['a']*5 + gby['i']*6 + gby['p']*7 + gby['j']*8 \\\n",
    "# + gby['c']*9  "
   ]
  },
  {
   "cell_type": "markdown",
   "metadata": {
    "heading_collapsed": true
   },
   "source": [
    "## Baseline RF"
   ]
  },
  {
   "cell_type": "code",
   "execution_count": 32,
   "metadata": {
    "ExecuteTime": {
     "end_time": "2018-08-31T08:11:26.927741Z",
     "start_time": "2018-08-31T08:11:26.636904Z"
    },
    "hidden": true
   },
   "outputs": [],
   "source": [
    "##logging Remeber doing np.exp again\n",
    "df_raw.Upvotes = np.log(df_raw.Upvotes + 2)\n",
    "target = df_raw.Upvotes.values"
   ]
  },
  {
   "cell_type": "code",
   "execution_count": 34,
   "metadata": {
    "ExecuteTime": {
     "end_time": "2018-08-31T08:11:38.427541Z",
     "start_time": "2018-08-31T08:11:38.048521Z"
    },
    "hidden": true
   },
   "outputs": [],
   "source": [
    "drop_cols = ['ID']\n",
    "df_raw.drop(drop_cols+['Upvotes'],inplace=True,axis=1)\n",
    "df_test.drop(drop_cols,inplace=True,axis=1)"
   ]
  },
  {
   "cell_type": "code",
   "execution_count": 35,
   "metadata": {
    "ExecuteTime": {
     "end_time": "2018-08-31T08:11:40.109366Z",
     "start_time": "2018-08-31T08:11:39.588728Z"
    },
    "hidden": true
   },
   "outputs": [
    {
     "data": {
      "text/plain": [
       "<matplotlib.axes._subplots.AxesSubplot at 0x23f3ab53b38>"
      ]
     },
     "execution_count": 35,
     "metadata": {},
     "output_type": "execute_result"
    },
    {
     "data": {
      "image/png": "[encoded data removed]",
      "text/plain": [
       "<Figure size 432x288 with 1 Axes>"
      ]
     },
     "metadata": {},
     "output_type": "display_data"
    }
   ],
   "source": [
    "sns.distplot(target)"
   ]
  },
  {
   "cell_type": "code",
   "execution_count": 37,
   "metadata": {
    "ExecuteTime": {
     "end_time": "2018-08-31T08:12:02.685594Z",
     "start_time": "2018-08-31T08:12:02.453723Z"
    },
    "hidden": true
   },
   "outputs": [],
   "source": [
    "df_raw.Tag = df_raw.Tag.astype('category')\n",
    "\n",
    "train_cats(df_raw);\n",
    "apply_cats(df_test, df_raw);\n",
    "\n",
    "df_raw.Tag = df_raw.Tag.cat.codes\n",
    "df_test.Tag = df_test.Tag.cat.codes"
   ]
  },
  {
   "cell_type": "code",
   "execution_count": 40,
   "metadata": {
    "ExecuteTime": {
     "end_time": "2018-08-31T08:13:11.456861Z",
     "start_time": "2018-08-31T08:13:11.169880Z"
    },
    "hidden": true
   },
   "outputs": [],
   "source": [
    "df_raw.fillna(0, inplace=True)\n",
    "df_test.fillna(0, inplace=True)"
   ]
  },
  {
   "cell_type": "code",
   "execution_count": 51,
   "metadata": {
    "ExecuteTime": {
     "end_time": "2018-08-31T08:16:26.355677Z",
     "start_time": "2018-08-31T08:15:57.179241Z"
    },
    "hidden": true,
    "scrolled": true
   },
   "outputs": [
    {
     "data": {
      "text/plain": [
       "RandomForestRegressor(bootstrap=True, criterion='mse', max_depth=None,\n",
       "           max_features='auto', max_leaf_nodes=None,\n",
       "           min_impurity_decrease=0.0, min_impurity_split=None,\n",
       "           min_samples_leaf=1, min_samples_split=2,\n",
       "           min_weight_fraction_leaf=0.0, n_estimators=10, n_jobs=-1,\n",
       "           oob_score=False, random_state=None, verbose=0, warm_start=False)"
      ]
     },
     "execution_count": 51,
     "metadata": {},
     "output_type": "execute_result"
    }
   ],
   "source": [
    "m = RandomForestRegressor(n_jobs=-1)\n",
    "m.fit(df_raw, target)"
   ]
  },
  {
   "cell_type": "code",
   "execution_count": 66,
   "metadata": {
    "ExecuteTime": {
     "end_time": "2018-08-31T07:40:56.634860Z",
     "start_time": "2018-08-31T07:40:56.340103Z"
    },
    "hidden": true
   },
   "outputs": [],
   "source": [
    "# print('Before -->>', df_raw.shape)\n",
    "# df_raw.drop(index = df_raw.loc[list(man_not_in_test)].index, inplace=True)\n",
    "# print('After -->>', df_raw.shape)"
   ]
  },
  {
   "cell_type": "code",
   "execution_count": 55,
   "metadata": {
    "ExecuteTime": {
     "end_time": "2018-08-31T08:17:41.866393Z",
     "start_time": "2018-08-31T08:17:14.089282Z"
    },
    "hidden": true
   },
   "outputs": [
    {
     "data": {
      "text/plain": [
       "0.97099962844474397"
      ]
     },
     "execution_count": 55,
     "metadata": {},
     "output_type": "execute_result"
    }
   ],
   "source": [
    "m = RandomForestRegressor(n_jobs=-1)\n",
    "m.fit(df_raw, target)\n",
    "m.score(df_raw,target)"
   ]
  },
  {
   "cell_type": "markdown",
   "metadata": {
    "hidden": true
   },
   "source": [
    "todo define r^2\n",
    "\n",
    "Wow, an r^2 of 0.9699 - that's great, right? Well, perhaps not...\n",
    "\n",
    "Possibly the most important idea in machine learning is that of having separate training & validation data sets"
   ]
  },
  {
   "cell_type": "code",
   "execution_count": 58,
   "metadata": {
    "ExecuteTime": {
     "end_time": "2018-08-31T08:19:20.878859Z",
     "start_time": "2018-08-31T08:19:20.547208Z"
    },
    "hidden": true
   },
   "outputs": [
    {
     "data": {
      "text/plain": [
       "((300045, 19), (300045,), (30000, 19))"
      ]
     },
     "execution_count": 58,
     "metadata": {},
     "output_type": "execute_result"
    }
   ],
   "source": [
    "from sklearn.model_selection import train_test_split\n",
    "X_train, X_valid, y_train, y_valid = train_test_split(df_raw, target, test_size=0.2, random_state=42)\n",
    "\n",
    "def split_vals(a,n): return a[:n].copy(), a[n:].copy()\n",
    "\n",
    "n_valid = 30000\n",
    "n_trn = len(df_raw)-n_valid\n",
    "raw_train, raw_valid = split_vals(df_raw, n_trn)\n",
    "X_train, X_valid = split_vals(df_raw, n_trn)\n",
    "y_train, y_valid = split_vals(target, n_trn)\n",
    "\n",
    "X_train.shape, y_train.shape, X_valid.shape"
   ]
  },
  {
   "cell_type": "code",
   "execution_count": 59,
   "metadata": {
    "ExecuteTime": {
     "end_time": "2018-08-31T08:19:26.955868Z",
     "start_time": "2018-08-31T08:19:26.661119Z"
    },
    "hidden": true
   },
   "outputs": [],
   "source": [
    "def rmse(x,y): return math.sqrt(((x-y)**2).mean())\n",
    "\n",
    "def print_score(m):\n",
    "    res = ['RMSLE X_train', rmse(m.predict(X_train), y_train), '\\n RMSLE X_valid', rmse(m.predict(X_valid), y_valid),\n",
    "                '\\n R**2 Train',m.score(X_train, y_train), '\\n R**2 Valid', m.score(X_valid, y_valid)]\n",
    "    if hasattr(m, 'oob_score_'): res.append(['\\n OOB_Score', m.oob_score_])\n",
    "    print(res)"
   ]
  },
  {
   "cell_type": "code",
   "execution_count": 60,
   "metadata": {
    "ExecuteTime": {
     "end_time": "2018-08-31T08:19:56.215095Z",
     "start_time": "2018-08-31T08:19:28.583989Z"
    },
    "hidden": true
   },
   "outputs": [
    {
     "name": "stdout",
     "output_type": "stream",
     "text": [
      "['RMSLE X_train', 0.2984545307558587, '\\n RMSLE X_valid', 0.7037925261625434, '\\n R**2 Train', 0.97087666383300619, '\\n R**2 Valid', 0.84038977376410606]\n"
     ]
    }
   ],
   "source": [
    "m = RandomForestRegressor(n_jobs=-1)\n",
    "m.fit(X_train, y_train)\n",
    "print_score(m)"
   ]
  },
  {
   "cell_type": "markdown",
   "metadata": {
    "hidden": true
   },
   "source": [
    "It's Pathetic as We are Clearly Overfitting...\n",
    "Have a look at the RM(L)SE Scores and the Accuracy...\n",
    "They aree way too off..."
   ]
  },
  {
   "cell_type": "code",
   "execution_count": 102,
   "metadata": {
    "ExecuteTime": {
     "end_time": "2018-08-31T03:43:06.118619Z",
     "start_time": "2018-08-31T03:42:56.747047Z"
    },
    "hidden": true
   },
   "outputs": [
    {
     "data": {
      "text/plain": [
       "RandomForestRegressor(bootstrap=True, criterion='mse', max_depth=None,\n",
       "           max_features='auto', max_leaf_nodes=None,\n",
       "           min_impurity_decrease=0.0, min_impurity_split=None,\n",
       "           min_samples_leaf=1, min_samples_split=2,\n",
       "           min_weight_fraction_leaf=0.0, n_estimators=10, n_jobs=-1,\n",
       "           oob_score=False, random_state=None, verbose=0, warm_start=False)"
      ]
     },
     "execution_count": 102,
     "metadata": {},
     "output_type": "execute_result"
    }
   ],
   "source": [
    "m.fit(df,y)"
   ]
  },
  {
   "cell_type": "code",
   "execution_count": 61,
   "metadata": {
    "ExecuteTime": {
     "end_time": "2018-08-31T08:20:15.639105Z",
     "start_time": "2018-08-31T08:20:14.933022Z"
    },
    "hidden": true
   },
   "outputs": [
    {
     "data": {
      "text/plain": [
       "array([178,  71,  31, ...,  54,  11,  36])"
      ]
     },
     "execution_count": 61,
     "metadata": {},
     "output_type": "execute_result"
    }
   ],
   "source": [
    "preds = np.exp(m.predict(df_test)).astype('int32') - 1;\n",
    "preds"
   ]
  },
  {
   "cell_type": "code",
   "execution_count": 62,
   "metadata": {
    "ExecuteTime": {
     "end_time": "2018-08-31T08:20:20.383660Z",
     "start_time": "2018-08-31T08:20:19.821163Z"
    },
    "hidden": true
   },
   "outputs": [
    {
     "data": {
      "text/html": [
       "<div>\n",
       "<style scoped>\n",
       "    .dataframe tbody tr th:only-of-type {\n",
       "        vertical-align: middle;\n",
       "    }\n",
       "\n",
       "    .dataframe tbody tr th {\n",
       "        vertical-align: top;\n",
       "    }\n",
       "\n",
       "    .dataframe thead th {\n",
       "        text-align: right;\n",
       "    }\n",
       "</style>\n",
       "<table border=\"1\" class=\"dataframe\">\n",
       "  <thead>\n",
       "    <tr style=\"text-align: right;\">\n",
       "      <th></th>\n",
       "      <th>ID</th>\n",
       "      <th>Upvotes</th>\n",
       "    </tr>\n",
       "  </thead>\n",
       "  <tbody>\n",
       "    <tr>\n",
       "      <th>0</th>\n",
       "      <td>7</td>\n",
       "      <td>178</td>\n",
       "    </tr>\n",
       "    <tr>\n",
       "      <th>1</th>\n",
       "      <td>9</td>\n",
       "      <td>71</td>\n",
       "    </tr>\n",
       "  </tbody>\n",
       "</table>\n",
       "</div>"
      ],
      "text/plain": [
       "   ID  Upvotes\n",
       "0   7      178\n",
       "1   9       71"
      ]
     },
     "execution_count": 62,
     "metadata": {},
     "output_type": "execute_result"
    }
   ],
   "source": [
    "submit = make_submission(preds)\n",
    "submit.to_csv(f'{PATH}\\\\Adi_rf_08_58_31-07-2018.csv', index=False)\n",
    "submit.head(2)"
   ]
  },
  {
   "cell_type": "markdown",
   "metadata": {
    "heading_collapsed": true
   },
   "source": [
    "## Single Tree"
   ]
  },
  {
   "cell_type": "code",
   "execution_count": 65,
   "metadata": {
    "ExecuteTime": {
     "end_time": "2018-08-31T08:22:45.918135Z",
     "start_time": "2018-08-31T08:22:44.216125Z"
    },
    "hidden": true
   },
   "outputs": [
    {
     "name": "stdout",
     "output_type": "stream",
     "text": [
      "['RMSLE X_train', 0.9655662548817948, '\\n RMSLE X_valid', 0.9709339462623273, '\\n R**2 Train', 0.69517616006398919, '\\n R**2 Valid', 0.69622587209592302]\n"
     ]
    }
   ],
   "source": [
    "m = RandomForestRegressor(n_estimators=1, max_depth=3, bootstrap=False, n_jobs=-1)\n",
    "m.fit(X_train, y_train)\n",
    "print_score(m)"
   ]
  },
  {
   "cell_type": "code",
   "execution_count": 66,
   "metadata": {
    "ExecuteTime": {
     "end_time": "2018-08-31T08:22:59.638502Z",
     "start_time": "2018-08-31T08:22:56.651581Z"
    },
    "hidden": true
   },
   "outputs": [
    {
     "data": {
      "image/svg+xml": [
       "<?xml version=\"1.0\" encoding=\"UTF-8\" standalone=\"no\"?>\r\n",
       "<!DOCTYPE svg PUBLIC \"-//W3C//DTD SVG 1.1//EN\"\r\n",
       " \"http://www.w3.org/Graphics/SVG/1.1/DTD/svg11.dtd\">\r\n",
       "<!-- Generated by graphviz version 2.38.0 (20140413.2041)\r\n",
       " -->\r\n",
       "<!-- Title: Tree Pages: 1 -->\r\n",
       "<svg width=\"720pt\" height=\"434pt\"\r\n",
       " viewBox=\"0.00 0.00 720.00 434.49\" xmlns=\"http://www.w3.org/2000/svg\" xmlns:xlink=\"http://www.w3.org/1999/xlink\">\r\n",
       "<g id=\"graph0\" class=\"graph\" transform=\"scale(0.778659 0.778659) rotate(0) translate(4 554)\">\r\n",
       "<title>Tree</title>\r\n",
       "<polygon fill=\"white\" stroke=\"none\" points=\"-4,4 -4,-554 920.667,-554 920.667,4 -4,4\"/>\r\n",
       "<!-- 0 -->\r\n",
       "<g id=\"node1\" class=\"node\"><title>0</title>\r\n",
       "<polygon fill=\"#e58139\" fill-opacity=\"0.298039\" stroke=\"black\" points=\"154.667,-308.5 24.6667,-308.5 24.6667,-240.5 154.667,-240.5 154.667,-308.5\"/>\r\n",
       "<text text-anchor=\"start\" x=\"32.6667\" y=\"-293.3\" font-family=\"Times New Roman,serif\" font-size=\"14.00\">Reputation ≤ 3047.5</text>\r\n",
       "<text text-anchor=\"start\" x=\"54.6667\" y=\"-278.3\" font-family=\"Times New Roman,serif\" font-size=\"14.00\">mse = 3.059</text>\r\n",
       "<text text-anchor=\"start\" x=\"38.6667\" y=\"-263.3\" font-family=\"Times New Roman,serif\" font-size=\"14.00\">samples = 300045</text>\r\n",
       "<text text-anchor=\"start\" x=\"51.6667\" y=\"-248.3\" font-family=\"Times New Roman,serif\" font-size=\"14.00\">value = 3.626</text>\r\n",
       "</g>\r\n",
       "<!-- 1 -->\r\n",
       "<g id=\"node2\" class=\"node\"><title>1</title>\r\n",
       "<polygon fill=\"#e58139\" fill-opacity=\"0.168627\" stroke=\"black\" points=\"416.667,-361.5 260.667,-361.5 260.667,-293.5 416.667,-293.5 416.667,-361.5\"/>\r\n",
       "<text text-anchor=\"start\" x=\"268.667\" y=\"-346.3\" font-family=\"Times New Roman,serif\" font-size=\"14.00\">log_trans_Views ≤ 9.567</text>\r\n",
       "<text text-anchor=\"start\" x=\"303.667\" y=\"-331.3\" font-family=\"Times New Roman,serif\" font-size=\"14.00\">mse = 1.615</text>\r\n",
       "<text text-anchor=\"start\" x=\"287.667\" y=\"-316.3\" font-family=\"Times New Roman,serif\" font-size=\"14.00\">samples = 199452</text>\r\n",
       "<text text-anchor=\"start\" x=\"300.667\" y=\"-301.3\" font-family=\"Times New Roman,serif\" font-size=\"14.00\">value = 2.916</text>\r\n",
       "</g>\r\n",
       "<!-- 0&#45;&gt;1 -->\r\n",
       "<g id=\"edge1\" class=\"edge\"><title>0&#45;&gt;1</title>\r\n",
       "<path fill=\"none\" stroke=\"black\" d=\"M154.918,-288.287C184.068,-294.542 218.989,-302.035 250.459,-308.787\"/>\r\n",
       "<polygon fill=\"black\" stroke=\"black\" points=\"250.032,-312.275 260.544,-310.951 251.5,-305.431 250.032,-312.275\"/>\r\n",
       "<text text-anchor=\"middle\" x=\"239.551\" y=\"-320.827\" font-family=\"Times New Roman,serif\" font-size=\"14.00\">True</text>\r\n",
       "</g>\r\n",
       "<!-- 8 -->\r\n",
       "<g id=\"node9\" class=\"node\"><title>8</title>\r\n",
       "<polygon fill=\"#e58139\" fill-opacity=\"0.552941\" stroke=\"black\" points=\"397.667,-255.5 279.667,-255.5 279.667,-187.5 397.667,-187.5 397.667,-255.5\"/>\r\n",
       "<text text-anchor=\"start\" x=\"291.667\" y=\"-240.3\" font-family=\"Times New Roman,serif\" font-size=\"14.00\">Views ≤ 15274.5</text>\r\n",
       "<text text-anchor=\"start\" x=\"303.667\" y=\"-225.3\" font-family=\"Times New Roman,serif\" font-size=\"14.00\">mse = 2.942</text>\r\n",
       "<text text-anchor=\"start\" x=\"287.667\" y=\"-210.3\" font-family=\"Times New Roman,serif\" font-size=\"14.00\">samples = 100593</text>\r\n",
       "<text text-anchor=\"start\" x=\"300.667\" y=\"-195.3\" font-family=\"Times New Roman,serif\" font-size=\"14.00\">value = 5.033</text>\r\n",
       "</g>\r\n",
       "<!-- 0&#45;&gt;8 -->\r\n",
       "<g id=\"edge8\" class=\"edge\"><title>0&#45;&gt;8</title>\r\n",
       "<path fill=\"none\" stroke=\"black\" d=\"M154.918,-260.713C190.195,-253.144 233.925,-243.76 269.761,-236.071\"/>\r\n",
       "<polygon fill=\"black\" stroke=\"black\" points=\"270.603,-239.47 279.646,-233.95 269.135,-232.626 270.603,-239.47\"/>\r\n",
       "<text text-anchor=\"middle\" x=\"258.653\" y=\"-216.674\" font-family=\"Times New Roman,serif\" font-size=\"14.00\">False</text>\r\n",
       "</g>\r\n",
       "<!-- 2 -->\r\n",
       "<g id=\"node3\" class=\"node\"><title>2</title>\r\n",
       "<polygon fill=\"#e58139\" fill-opacity=\"0.066667\" stroke=\"black\" points=\"682.667,-486.5 526.667,-486.5 526.667,-418.5 682.667,-418.5 682.667,-486.5\"/>\r\n",
       "<text text-anchor=\"start\" x=\"534.667\" y=\"-471.3\" font-family=\"Times New Roman,serif\" font-size=\"14.00\">log_trans_Views ≤ 8.122</text>\r\n",
       "<text text-anchor=\"start\" x=\"569.667\" y=\"-456.3\" font-family=\"Times New Roman,serif\" font-size=\"14.00\">mse = 0.916</text>\r\n",
       "<text text-anchor=\"start\" x=\"553.667\" y=\"-441.3\" font-family=\"Times New Roman,serif\" font-size=\"14.00\">samples = 127468</text>\r\n",
       "<text text-anchor=\"start\" x=\"566.667\" y=\"-426.3\" font-family=\"Times New Roman,serif\" font-size=\"14.00\">value = 2.367</text>\r\n",
       "</g>\r\n",
       "<!-- 1&#45;&gt;2 -->\r\n",
       "<g id=\"edge2\" class=\"edge\"><title>1&#45;&gt;2</title>\r\n",
       "<path fill=\"none\" stroke=\"black\" d=\"M411.806,-361.657C446.001,-377.848 486.996,-397.258 522.296,-413.972\"/>\r\n",
       "<polygon fill=\"black\" stroke=\"black\" points=\"521.079,-417.268 531.615,-418.384 524.074,-410.942 521.079,-417.268\"/>\r\n",
       "</g>\r\n",
       "<!-- 5 -->\r\n",
       "<g id=\"node6\" class=\"node\"><title>5</title>\r\n",
       "<polygon fill=\"#e58139\" fill-opacity=\"0.345098\" stroke=\"black\" points=\"666.167,-361.5 543.167,-361.5 543.167,-293.5 666.167,-293.5 666.167,-361.5\"/>\r\n",
       "<text text-anchor=\"start\" x=\"551.167\" y=\"-346.3\" font-family=\"Times New Roman,serif\" font-size=\"14.00\">Reputation ≤ 601.5</text>\r\n",
       "<text text-anchor=\"start\" x=\"573.167\" y=\"-331.3\" font-family=\"Times New Roman,serif\" font-size=\"14.00\">mse = 1.37</text>\r\n",
       "<text text-anchor=\"start\" x=\"557.167\" y=\"-316.3\" font-family=\"Times New Roman,serif\" font-size=\"14.00\">samples = 71984</text>\r\n",
       "<text text-anchor=\"start\" x=\"566.667\" y=\"-301.3\" font-family=\"Times New Roman,serif\" font-size=\"14.00\">value = 3.889</text>\r\n",
       "</g>\r\n",
       "<!-- 1&#45;&gt;5 -->\r\n",
       "<g id=\"edge5\" class=\"edge\"><title>1&#45;&gt;5</title>\r\n",
       "<path fill=\"none\" stroke=\"black\" d=\"M416.736,-327.5C453.305,-327.5 496.721,-327.5 532.502,-327.5\"/>\r\n",
       "<polygon fill=\"black\" stroke=\"black\" points=\"532.862,-331 542.862,-327.5 532.862,-324 532.862,-331\"/>\r\n",
       "</g>\r\n",
       "<!-- 3 -->\r\n",
       "<g id=\"node4\" class=\"node\"><title>3</title>\r\n",
       "<polygon fill=\"none\" stroke=\"black\" points=\"895.167,-550 784.167,-550 784.167,-497 895.167,-497 895.167,-550\"/>\r\n",
       "<text text-anchor=\"start\" x=\"804.667\" y=\"-534.8\" font-family=\"Times New Roman,serif\" font-size=\"14.00\">mse = 0.737</text>\r\n",
       "<text text-anchor=\"start\" x=\"792.167\" y=\"-519.8\" font-family=\"Times New Roman,serif\" font-size=\"14.00\">samples = 64405</text>\r\n",
       "<text text-anchor=\"start\" x=\"805.167\" y=\"-504.8\" font-family=\"Times New Roman,serif\" font-size=\"14.00\">value = 1.99</text>\r\n",
       "</g>\r\n",
       "<!-- 2&#45;&gt;3 -->\r\n",
       "<g id=\"edge3\" class=\"edge\"><title>2&#45;&gt;3</title>\r\n",
       "<path fill=\"none\" stroke=\"black\" d=\"M682.929,-476.043C712.553,-485.071 746.01,-495.266 774.3,-503.886\"/>\r\n",
       "<polygon fill=\"black\" stroke=\"black\" points=\"773.49,-507.298 784.076,-506.865 775.531,-500.602 773.49,-507.298\"/>\r\n",
       "</g>\r\n",
       "<!-- 4 -->\r\n",
       "<g id=\"node5\" class=\"node\"><title>4</title>\r\n",
       "<polygon fill=\"#e58139\" fill-opacity=\"0.137255\" stroke=\"black\" points=\"895.167,-479 784.167,-479 784.167,-426 895.167,-426 895.167,-479\"/>\r\n",
       "<text text-anchor=\"start\" x=\"804.667\" y=\"-463.8\" font-family=\"Times New Roman,serif\" font-size=\"14.00\">mse = 0.807</text>\r\n",
       "<text text-anchor=\"start\" x=\"792.167\" y=\"-448.8\" font-family=\"Times New Roman,serif\" font-size=\"14.00\">samples = 63063</text>\r\n",
       "<text text-anchor=\"start\" x=\"801.667\" y=\"-433.8\" font-family=\"Times New Roman,serif\" font-size=\"14.00\">value = 2.751</text>\r\n",
       "</g>\r\n",
       "<!-- 2&#45;&gt;4 -->\r\n",
       "<g id=\"edge4\" class=\"edge\"><title>2&#45;&gt;4</title>\r\n",
       "<path fill=\"none\" stroke=\"black\" d=\"M682.929,-452.5C712.424,-452.5 745.718,-452.5 773.929,-452.5\"/>\r\n",
       "<polygon fill=\"black\" stroke=\"black\" points=\"774.076,-456 784.076,-452.5 774.076,-449 774.076,-456\"/>\r\n",
       "</g>\r\n",
       "<!-- 6 -->\r\n",
       "<g id=\"node7\" class=\"node\"><title>6</title>\r\n",
       "<polygon fill=\"#e58139\" fill-opacity=\"0.227451\" stroke=\"black\" points=\"895.167,-408 784.167,-408 784.167,-355 895.167,-355 895.167,-408\"/>\r\n",
       "<text text-anchor=\"start\" x=\"804.667\" y=\"-392.8\" font-family=\"Times New Roman,serif\" font-size=\"14.00\">mse = 1.066</text>\r\n",
       "<text text-anchor=\"start\" x=\"792.167\" y=\"-377.8\" font-family=\"Times New Roman,serif\" font-size=\"14.00\">samples = 34540</text>\r\n",
       "<text text-anchor=\"start\" x=\"801.667\" y=\"-362.8\" font-family=\"Times New Roman,serif\" font-size=\"14.00\">value = 3.233</text>\r\n",
       "</g>\r\n",
       "<!-- 5&#45;&gt;6 -->\r\n",
       "<g id=\"edge6\" class=\"edge\"><title>5&#45;&gt;6</title>\r\n",
       "<path fill=\"none\" stroke=\"black\" d=\"M666.276,-341.547C699.412,-349.226 740.452,-358.738 774.177,-366.554\"/>\r\n",
       "<polygon fill=\"black\" stroke=\"black\" points=\"773.403,-369.967 783.935,-368.815 774.983,-363.148 773.403,-369.967\"/>\r\n",
       "</g>\r\n",
       "<!-- 7 -->\r\n",
       "<g id=\"node8\" class=\"node\"><title>7</title>\r\n",
       "<polygon fill=\"#e58139\" fill-opacity=\"0.454902\" stroke=\"black\" points=\"895.167,-337 784.167,-337 784.167,-284 895.167,-284 895.167,-337\"/>\r\n",
       "<text text-anchor=\"start\" x=\"804.667\" y=\"-321.8\" font-family=\"Times New Roman,serif\" font-size=\"14.00\">mse = 0.886</text>\r\n",
       "<text text-anchor=\"start\" x=\"792.167\" y=\"-306.8\" font-family=\"Times New Roman,serif\" font-size=\"14.00\">samples = 37444</text>\r\n",
       "<text text-anchor=\"start\" x=\"801.667\" y=\"-291.8\" font-family=\"Times New Roman,serif\" font-size=\"14.00\">value = 4.494</text>\r\n",
       "</g>\r\n",
       "<!-- 5&#45;&gt;7 -->\r\n",
       "<g id=\"edge7\" class=\"edge\"><title>5&#45;&gt;7</title>\r\n",
       "<path fill=\"none\" stroke=\"black\" d=\"M666.276,-323.078C699.269,-320.671 740.1,-317.692 773.742,-315.237\"/>\r\n",
       "<polygon fill=\"black\" stroke=\"black\" points=\"774.216,-318.712 783.935,-314.493 773.707,-311.73 774.216,-318.712\"/>\r\n",
       "</g>\r\n",
       "<!-- 9 -->\r\n",
       "<g id=\"node10\" class=\"node\"><title>9</title>\r\n",
       "<polygon fill=\"#e58139\" fill-opacity=\"0.372549\" stroke=\"black\" points=\"682.667,-255.5 526.667,-255.5 526.667,-187.5 682.667,-187.5 682.667,-255.5\"/>\r\n",
       "<text text-anchor=\"start\" x=\"534.667\" y=\"-240.3\" font-family=\"Times New Roman,serif\" font-size=\"14.00\">log_trans_Views ≤ 8.009</text>\r\n",
       "<text text-anchor=\"start\" x=\"569.667\" y=\"-225.3\" font-family=\"Times New Roman,serif\" font-size=\"14.00\">mse = 1.521</text>\r\n",
       "<text text-anchor=\"start\" x=\"557.167\" y=\"-210.3\" font-family=\"Times New Roman,serif\" font-size=\"14.00\">samples = 57202</text>\r\n",
       "<text text-anchor=\"start\" x=\"566.667\" y=\"-195.3\" font-family=\"Times New Roman,serif\" font-size=\"14.00\">value = 4.033</text>\r\n",
       "</g>\r\n",
       "<!-- 8&#45;&gt;9 -->\r\n",
       "<g id=\"edge9\" class=\"edge\"><title>8&#45;&gt;9</title>\r\n",
       "<path fill=\"none\" stroke=\"black\" d=\"M397.929,-221.5C432.638,-221.5 477.36,-221.5 516.238,-221.5\"/>\r\n",
       "<polygon fill=\"black\" stroke=\"black\" points=\"516.509,-225 526.509,-221.5 516.509,-218 516.509,-225\"/>\r\n",
       "</g>\r\n",
       "<!-- 12 -->\r\n",
       "<g id=\"node13\" class=\"node\"><title>12</title>\r\n",
       "<polygon fill=\"#e58139\" fill-opacity=\"0.796078\" stroke=\"black\" points=\"673.167,-131.5 536.167,-131.5 536.167,-63.5 673.167,-63.5 673.167,-131.5\"/>\r\n",
       "<text text-anchor=\"start\" x=\"544.167\" y=\"-116.3\" font-family=\"Times New Roman,serif\" font-size=\"14.00\">Reputation ≤ 15256.0</text>\r\n",
       "<text text-anchor=\"start\" x=\"569.667\" y=\"-101.3\" font-family=\"Times New Roman,serif\" font-size=\"14.00\">mse = 1.758</text>\r\n",
       "<text text-anchor=\"start\" x=\"557.167\" y=\"-86.3\" font-family=\"Times New Roman,serif\" font-size=\"14.00\">samples = 43391</text>\r\n",
       "<text text-anchor=\"start\" x=\"566.667\" y=\"-71.3\" font-family=\"Times New Roman,serif\" font-size=\"14.00\">value = 6.352</text>\r\n",
       "</g>\r\n",
       "<!-- 8&#45;&gt;12 -->\r\n",
       "<g id=\"edge12\" class=\"edge\"><title>8&#45;&gt;12</title>\r\n",
       "<path fill=\"none\" stroke=\"black\" d=\"M397.929,-194.134C435.763,-176.364 485.495,-153.005 526.586,-133.704\"/>\r\n",
       "<polygon fill=\"black\" stroke=\"black\" points=\"528.189,-136.818 535.752,-129.399 525.213,-130.483 528.189,-136.818\"/>\r\n",
       "</g>\r\n",
       "<!-- 10 -->\r\n",
       "<g id=\"node11\" class=\"node\"><title>10</title>\r\n",
       "<polygon fill=\"#e58139\" fill-opacity=\"0.215686\" stroke=\"black\" points=\"895.167,-266 784.167,-266 784.167,-213 895.167,-213 895.167,-266\"/>\r\n",
       "<text text-anchor=\"start\" x=\"808.167\" y=\"-250.8\" font-family=\"Times New Roman,serif\" font-size=\"14.00\">mse = 1.13</text>\r\n",
       "<text text-anchor=\"start\" x=\"792.167\" y=\"-235.8\" font-family=\"Times New Roman,serif\" font-size=\"14.00\">samples = 22043</text>\r\n",
       "<text text-anchor=\"start\" x=\"805.167\" y=\"-220.8\" font-family=\"Times New Roman,serif\" font-size=\"14.00\">value = 3.18</text>\r\n",
       "</g>\r\n",
       "<!-- 9&#45;&gt;10 -->\r\n",
       "<g id=\"edge10\" class=\"edge\"><title>9&#45;&gt;10</title>\r\n",
       "<path fill=\"none\" stroke=\"black\" d=\"M682.929,-227.469C712.424,-229.747 745.718,-232.319 773.929,-234.499\"/>\r\n",
       "<polygon fill=\"black\" stroke=\"black\" points=\"773.837,-238.002 784.076,-235.283 774.376,-231.023 773.837,-238.002\"/>\r\n",
       "</g>\r\n",
       "<!-- 11 -->\r\n",
       "<g id=\"node12\" class=\"node\"><title>11</title>\r\n",
       "<polygon fill=\"#e58139\" fill-opacity=\"0.470588\" stroke=\"black\" points=\"895.167,-195 784.167,-195 784.167,-142 895.167,-142 895.167,-195\"/>\r\n",
       "<text text-anchor=\"start\" x=\"804.667\" y=\"-179.8\" font-family=\"Times New Roman,serif\" font-size=\"14.00\">mse = 1.022</text>\r\n",
       "<text text-anchor=\"start\" x=\"792.167\" y=\"-164.8\" font-family=\"Times New Roman,serif\" font-size=\"14.00\">samples = 35159</text>\r\n",
       "<text text-anchor=\"start\" x=\"801.667\" y=\"-149.8\" font-family=\"Times New Roman,serif\" font-size=\"14.00\">value = 4.569</text>\r\n",
       "</g>\r\n",
       "<!-- 9&#45;&gt;11 -->\r\n",
       "<g id=\"edge11\" class=\"edge\"><title>9&#45;&gt;11</title>\r\n",
       "<path fill=\"none\" stroke=\"black\" d=\"M682.929,-203.925C712.553,-197.187 746.01,-189.576 774.3,-183.141\"/>\r\n",
       "<polygon fill=\"black\" stroke=\"black\" points=\"775.102,-186.548 784.076,-180.918 773.549,-179.723 775.102,-186.548\"/>\r\n",
       "</g>\r\n",
       "<!-- 13 -->\r\n",
       "<g id=\"node14\" class=\"node\"><title>13</title>\r\n",
       "<polygon fill=\"#e58139\" fill-opacity=\"0.698039\" stroke=\"black\" points=\"895.167,-124 784.167,-124 784.167,-71 895.167,-71 895.167,-124\"/>\r\n",
       "<text text-anchor=\"start\" x=\"804.667\" y=\"-108.8\" font-family=\"Times New Roman,serif\" font-size=\"14.00\">mse = 1.023</text>\r\n",
       "<text text-anchor=\"start\" x=\"792.167\" y=\"-93.8\" font-family=\"Times New Roman,serif\" font-size=\"14.00\">samples = 29577</text>\r\n",
       "<text text-anchor=\"start\" x=\"801.667\" y=\"-78.8\" font-family=\"Times New Roman,serif\" font-size=\"14.00\">value = 5.825</text>\r\n",
       "</g>\r\n",
       "<!-- 12&#45;&gt;13 -->\r\n",
       "<g id=\"edge13\" class=\"edge\"><title>12&#45;&gt;13</title>\r\n",
       "<path fill=\"none\" stroke=\"black\" d=\"M673.373,-97.5C705.001,-97.5 742.485,-97.5 773.755,-97.5\"/>\r\n",
       "<polygon fill=\"black\" stroke=\"black\" points=\"774.104,-101 784.104,-97.5 774.104,-94.0001 774.104,-101\"/>\r\n",
       "</g>\r\n",
       "<!-- 14 -->\r\n",
       "<g id=\"node15\" class=\"node\"><title>14</title>\r\n",
       "<polygon fill=\"#e58139\" stroke=\"black\" points=\"895.167,-53 784.167,-53 784.167,-0 895.167,-0 895.167,-53\"/>\r\n",
       "<text text-anchor=\"start\" x=\"804.667\" y=\"-37.8\" font-family=\"Times New Roman,serif\" font-size=\"14.00\">mse = 1.465</text>\r\n",
       "<text text-anchor=\"start\" x=\"792.167\" y=\"-22.8\" font-family=\"Times New Roman,serif\" font-size=\"14.00\">samples = 13814</text>\r\n",
       "<text text-anchor=\"start\" x=\"801.667\" y=\"-7.8\" font-family=\"Times New Roman,serif\" font-size=\"14.00\">value = 7.479</text>\r\n",
       "</g>\r\n",
       "<!-- 12&#45;&gt;14 -->\r\n",
       "<g id=\"edge14\" class=\"edge\"><title>12&#45;&gt;14</title>\r\n",
       "<path fill=\"none\" stroke=\"black\" d=\"M673.373,-76.8685C705.138,-67.1889 742.811,-55.7093 774.162,-46.1558\"/>\r\n",
       "<polygon fill=\"black\" stroke=\"black\" points=\"775.559,-49.3893 784.104,-43.1264 773.518,-42.6933 775.559,-49.3893\"/>\r\n",
       "</g>\r\n",
       "</g>\r\n",
       "</svg>\r\n"
      ],
      "text/plain": [
       "<graphviz.files.Source at 0x23f3ab5ecc0>"
      ]
     },
     "metadata": {},
     "output_type": "display_data"
    }
   ],
   "source": [
    "draw_tree(m.estimators_[0], df_raw, precision=3)"
   ]
  },
  {
   "cell_type": "code",
   "execution_count": 67,
   "metadata": {
    "ExecuteTime": {
     "end_time": "2018-08-31T08:23:21.144389Z",
     "start_time": "2018-08-31T08:23:11.775249Z"
    },
    "hidden": true
   },
   "outputs": [
    {
     "name": "stdout",
     "output_type": "stream",
     "text": [
      "['RMSLE X_train', 3.3744783804442027e-06, '\\n RMSLE X_valid', 0.9437620200303372, '\\n R**2 Train', 0.99999999999627698, '\\n R**2 Valid', 0.71299041286213283]\n"
     ]
    }
   ],
   "source": [
    "m = RandomForestRegressor(n_estimators=1, bootstrap=False, n_jobs=-1)\n",
    "m.fit(X_train, y_train)\n",
    "print_score(m)"
   ]
  },
  {
   "cell_type": "markdown",
   "metadata": {
    "heading_collapsed": true
   },
   "source": [
    "## Bagging"
   ]
  },
  {
   "cell_type": "code",
   "execution_count": 112,
   "metadata": {
    "ExecuteTime": {
     "end_time": "2018-08-31T03:48:26.079792Z",
     "start_time": "2018-08-31T03:48:24.365184Z"
    },
    "hidden": true
   },
   "outputs": [
    {
     "name": "stdout",
     "output_type": "stream",
     "text": [
      "['RMSLE X_train', 0.3342668840281541, '\\n RMSLE X_valid', 0.759811492525464, '\\n R**2 Train', 0.96739614972223364, '\\n R**2 Valid', 0.83081486560338891]\n"
     ]
    }
   ],
   "source": [
    "m = RandomForestRegressor(n_jobs=-1)\n",
    "m.fit(X_train, y_train)\n",
    "print_score(m)"
   ]
  },
  {
   "cell_type": "code",
   "execution_count": 113,
   "metadata": {
    "ExecuteTime": {
     "end_time": "2018-08-31T03:48:38.035939Z",
     "start_time": "2018-08-31T03:48:37.613147Z"
    },
    "hidden": true
   },
   "outputs": [
    {
     "data": {
      "text/plain": [
       "(array([ 4.07754,  2.63906,  4.64439,  2.19722,  3.09104,  4.04305,  3.98898,  1.79176,  3.3322 ,  1.60944]),\n",
       " 3.1414689909593068,\n",
       " 0.0)"
      ]
     },
     "execution_count": 113,
     "metadata": {},
     "output_type": "execute_result"
    }
   ],
   "source": [
    "preds = np.stack([t.predict(X_valid) for t in m.estimators_])\n",
    "preds[:,0], np.mean(preds[:,0]), y_valid[0]"
   ]
  },
  {
   "cell_type": "code",
   "execution_count": 114,
   "metadata": {
    "ExecuteTime": {
     "end_time": "2018-08-31T03:49:00.327282Z",
     "start_time": "2018-08-31T03:49:00.018638Z"
    },
    "hidden": true
   },
   "outputs": [
    {
     "data": {
      "text/plain": [
       "(10, 50000)"
      ]
     },
     "execution_count": 114,
     "metadata": {},
     "output_type": "execute_result"
    }
   ],
   "source": [
    "preds.shape"
   ]
  },
  {
   "cell_type": "code",
   "execution_count": 115,
   "metadata": {
    "ExecuteTime": {
     "end_time": "2018-08-31T03:49:08.447852Z",
     "start_time": "2018-08-31T03:49:08.042079Z"
    },
    "hidden": true
   },
   "outputs": [
    {
     "data": {
      "image/png": "[encoded data removed]",
      "text/plain": [
       "<Figure size 432x288 with 1 Axes>"
      ]
     },
     "metadata": {},
     "output_type": "display_data"
    }
   ],
   "source": [
    "plt.plot([metrics.r2_score(y_valid, np.mean(preds[:i+1], axis=0)) for i in range(10)]);"
   ]
  },
  {
   "cell_type": "markdown",
   "metadata": {
    "hidden": true
   },
   "source": [
    "The shape of this curve suggests that adding more trees isn't going to help us much"
   ]
  },
  {
   "cell_type": "code",
   "execution_count": 116,
   "metadata": {
    "ExecuteTime": {
     "end_time": "2018-08-31T03:49:41.042079Z",
     "start_time": "2018-08-31T03:49:38.714405Z"
    },
    "hidden": true
   },
   "outputs": [
    {
     "name": "stdout",
     "output_type": "stream",
     "text": [
      "['RMSLE X_train', 0.306842367237855, '\\n RMSLE X_valid', 0.7434485978658482, '\\n R**2 Train', 0.97252657317513436, '\\n R**2 Valid', 0.83802336300925362]\n"
     ]
    }
   ],
   "source": [
    "m = RandomForestRegressor(n_estimators=20, n_jobs=-1)\n",
    "m.fit(X_train, y_train)\n",
    "print_score(m)"
   ]
  },
  {
   "cell_type": "code",
   "execution_count": 117,
   "metadata": {
    "ExecuteTime": {
     "end_time": "2018-08-31T03:49:46.863658Z",
     "start_time": "2018-08-31T03:49:43.087938Z"
    },
    "hidden": true
   },
   "outputs": [
    {
     "name": "stdout",
     "output_type": "stream",
     "text": [
      "['RMSLE X_train', 0.2929252443065499, '\\n RMSLE X_valid', 0.7329716058914498, '\\n R**2 Train', 0.97496222191986837, '\\n R**2 Valid', 0.84255648154121054]\n"
     ]
    }
   ],
   "source": [
    "m = RandomForestRegressor(n_estimators=40, n_jobs=-1)\n",
    "m.fit(X_train, y_train)\n",
    "print_score(m)"
   ]
  },
  {
   "cell_type": "code",
   "execution_count": 119,
   "metadata": {
    "ExecuteTime": {
     "end_time": "2018-08-31T03:50:59.576404Z",
     "start_time": "2018-08-31T03:50:53.071339Z"
    },
    "hidden": true
   },
   "outputs": [
    {
     "name": "stdout",
     "output_type": "stream",
     "text": [
      "['RMSLE X_train', 0.2852309569425325, '\\n RMSLE X_valid', 0.7285910317128514, '\\n R**2 Train', 0.97626028493061956, '\\n R**2 Valid', 0.84443276718525839]\n"
     ]
    }
   ],
   "source": [
    "m = RandomForestRegressor(n_estimators=80, n_jobs=-1)\n",
    "m.fit(X_train, y_train)\n",
    "print_score(m)"
   ]
  },
  {
   "cell_type": "markdown",
   "metadata": {
    "heading_collapsed": true
   },
   "source": [
    "## OOF's"
   ]
  },
  {
   "cell_type": "code",
   "execution_count": 122,
   "metadata": {
    "ExecuteTime": {
     "end_time": "2018-08-31T03:51:57.961338Z",
     "start_time": "2018-08-31T03:51:54.363348Z"
    },
    "hidden": true
   },
   "outputs": [
    {
     "name": "stdout",
     "output_type": "stream",
     "text": [
      "['RMSLE X_train', 0.2924712186331809, '\\n RMSLE X_valid', 0.7334538469518493, '\\n R**2 Train', 0.97503977743546122, '\\n R**2 Valid', 0.84234924102755637, ['\\n OOB_Score', 0.82001540793601491]]\n"
     ]
    }
   ],
   "source": [
    "m = RandomForestRegressor(n_estimators=40, n_jobs=-1, oob_score=True)\n",
    "m.fit(X_train, y_train)\n",
    "print_score(m)"
   ]
  },
  {
   "cell_type": "code",
   "execution_count": 125,
   "metadata": {
    "ExecuteTime": {
     "end_time": "2018-08-31T03:52:22.656085Z",
     "start_time": "2018-08-31T03:52:22.372023Z"
    },
    "hidden": true
   },
   "outputs": [
    {
     "data": {
      "text/plain": [
       "((50000, 6), (30000, 6))"
      ]
     },
     "execution_count": 125,
     "metadata": {},
     "output_type": "execute_result"
    }
   ],
   "source": [
    "X_valid.shape, X_train.shape"
   ]
  },
  {
   "cell_type": "code",
   "execution_count": 128,
   "metadata": {
    "ExecuteTime": {
     "end_time": "2018-08-31T03:53:01.599530Z",
     "start_time": "2018-08-31T03:53:01.216600Z"
    },
    "hidden": true
   },
   "outputs": [],
   "source": [
    "df_trn, y_trn, nas = proc_df(df_raw, 'Upvotes', max_n_cat=20)\n",
    "X_train, X_valid = split_vals(df_trn, n_trn)\n",
    "y_train, y_valid = split_vals(y_trn, n_trn)"
   ]
  },
  {
   "cell_type": "code",
   "execution_count": 129,
   "metadata": {
    "ExecuteTime": {
     "end_time": "2018-08-31T03:53:21.292034Z",
     "start_time": "2018-08-31T03:53:21.008464Z"
    },
    "hidden": true
   },
   "outputs": [],
   "source": [
    "set_rf_samples(50000)"
   ]
  },
  {
   "cell_type": "code",
   "execution_count": 130,
   "metadata": {
    "ExecuteTime": {
     "end_time": "2018-08-31T03:53:33.793685Z",
     "start_time": "2018-08-31T03:53:28.782903Z"
    },
    "hidden": true
   },
   "outputs": [
    {
     "name": "stdout",
     "output_type": "stream",
     "text": [
      "Wall time: 2.93 s\n",
      "['RMSLE X_train', 0.6585916529938831, '\\n RMSLE X_valid', 0.7692169494974488, '\\n R**2 Train', 0.87221996680169545, '\\n R**2 Valid', 0.82660036666041081, ['\\n OOB_Score', 0.82023265348280416]]\n"
     ]
    }
   ],
   "source": [
    "m = RandomForestRegressor(n_jobs=-1, oob_score=True)\n",
    "%time m.fit(X_train, y_train)\n",
    "print_score(m)"
   ]
  },
  {
   "cell_type": "code",
   "execution_count": 131,
   "metadata": {
    "ExecuteTime": {
     "end_time": "2018-08-31T03:54:21.041307Z",
     "start_time": "2018-08-31T03:54:05.231830Z"
    },
    "hidden": true
   },
   "outputs": [
    {
     "name": "stdout",
     "output_type": "stream",
     "text": [
      "['RMSLE X_train', 0.6243659866102018, '\\n RMSLE X_valid', 0.7419510241683946, '\\n R**2 Train', 0.88515581117942965, '\\n R**2 Valid', 0.83867526453450369, ['\\n OOB_Score', 0.83647805582264023]]\n"
     ]
    }
   ],
   "source": [
    "m = RandomForestRegressor(n_estimators=40, n_jobs=-1, oob_score=True)\n",
    "m.fit(X_train, y_train)\n",
    "print_score(m)"
   ]
  },
  {
   "cell_type": "code",
   "execution_count": 132,
   "metadata": {
    "ExecuteTime": {
     "end_time": "2018-08-31T03:54:43.489774Z",
     "start_time": "2018-08-31T03:54:43.182608Z"
    },
    "hidden": true
   },
   "outputs": [],
   "source": [
    "reset_rf_samples()"
   ]
  },
  {
   "cell_type": "code",
   "execution_count": 133,
   "metadata": {
    "ExecuteTime": {
     "end_time": "2018-08-31T03:55:29.705612Z",
     "start_time": "2018-08-31T03:54:49.347098Z"
    },
    "hidden": true
   },
   "outputs": [
    {
     "name": "stdout",
     "output_type": "stream",
     "text": [
      "['RMSLE X_train', 0.2886437762748644, '\\n RMSLE X_valid', 0.7537761672788738, '\\n R**2 Train', 0.97545545714548143, '\\n R**2 Valid', 0.83349192953022089, ['\\n OOB_Score', 0.82502288253799794]]\n"
     ]
    }
   ],
   "source": [
    "m = RandomForestRegressor(n_estimators=40, n_jobs=-1, oob_score=True)\n",
    "m.fit(X_train, y_train)\n",
    "print_score(m)"
   ]
  },
  {
   "cell_type": "code",
   "execution_count": 134,
   "metadata": {
    "ExecuteTime": {
     "end_time": "2018-08-31T03:55:29.897313Z",
     "start_time": "2018-08-31T03:55:29.705612Z"
    },
    "hidden": true
   },
   "outputs": [
    {
     "data": {
      "text/plain": [
       "(280045, 6)"
      ]
     },
     "execution_count": 134,
     "metadata": {},
     "output_type": "execute_result"
    }
   ],
   "source": [
    "X_train.shape"
   ]
  },
  {
   "cell_type": "code",
   "execution_count": 138,
   "metadata": {
    "ExecuteTime": {
     "end_time": "2018-08-31T03:59:16.517747Z",
     "start_time": "2018-08-31T03:58:40.953654Z"
    },
    "hidden": true
   },
   "outputs": [
    {
     "name": "stdout",
     "output_type": "stream",
     "text": [
      "['RMSLE X_train', 0.43310311618640557, '\\n RMSLE X_valid', 0.7464085608473503, '\\n R**2 Train', 0.94473970877760383, '\\n R**2 Valid', 0.83673100929294175, ['\\n OOB_Score', 0.83060836747957101]]\n"
     ]
    }
   ],
   "source": [
    "m = RandomForestRegressor(n_estimators=40, min_samples_leaf=3, n_jobs=-1, oob_score=True)\n",
    "m.fit(X_train, y_train)\n",
    "print_score(m)"
   ]
  },
  {
   "cell_type": "markdown",
   "metadata": {
    "hidden": true
   },
   "source": [
    "RMSLE FOR VALID IS TOO HIGH, we need to change the randomness i guess"
   ]
  },
  {
   "cell_type": "code",
   "execution_count": 69,
   "metadata": {
    "ExecuteTime": {
     "end_time": "2018-08-31T08:23:49.269342Z",
     "start_time": "2018-08-31T08:23:48.902596Z"
    },
    "hidden": true
   },
   "outputs": [
    {
     "data": {
      "text/html": [
       "<div>\n",
       "<style scoped>\n",
       "    .dataframe tbody tr th:only-of-type {\n",
       "        vertical-align: middle;\n",
       "    }\n",
       "\n",
       "    .dataframe tbody tr th {\n",
       "        vertical-align: top;\n",
       "    }\n",
       "\n",
       "    .dataframe thead th {\n",
       "        text-align: right;\n",
       "    }\n",
       "</style>\n",
       "<table border=\"1\" class=\"dataframe\">\n",
       "  <thead>\n",
       "    <tr style=\"text-align: right;\">\n",
       "      <th></th>\n",
       "      <th>cols</th>\n",
       "      <th>imp</th>\n",
       "    </tr>\n",
       "  </thead>\n",
       "  <tbody>\n",
       "    <tr>\n",
       "      <th>1</th>\n",
       "      <td>Reputation</td>\n",
       "      <td>0.427378</td>\n",
       "    </tr>\n",
       "    <tr>\n",
       "      <th>4</th>\n",
       "      <td>Views</td>\n",
       "      <td>0.228690</td>\n",
       "    </tr>\n",
       "    <tr>\n",
       "      <th>12</th>\n",
       "      <td>log_trans_Views</td>\n",
       "      <td>0.184093</td>\n",
       "    </tr>\n",
       "    <tr>\n",
       "      <th>9</th>\n",
       "      <td>log_trans_Reputation</td>\n",
       "      <td>0.046276</td>\n",
       "    </tr>\n",
       "    <tr>\n",
       "      <th>18</th>\n",
       "      <td>repo_per_Views</td>\n",
       "      <td>0.016092</td>\n",
       "    </tr>\n",
       "    <tr>\n",
       "      <th>17</th>\n",
       "      <td>repo_per_Answers</td>\n",
       "      <td>0.014620</td>\n",
       "    </tr>\n",
       "    <tr>\n",
       "      <th>11</th>\n",
       "      <td>log_trans_Username</td>\n",
       "      <td>0.011729</td>\n",
       "    </tr>\n",
       "    <tr>\n",
       "      <th>3</th>\n",
       "      <td>Username</td>\n",
       "      <td>0.011557</td>\n",
       "    </tr>\n",
       "    <tr>\n",
       "      <th>0</th>\n",
       "      <td>Tag</td>\n",
       "      <td>0.011386</td>\n",
       "    </tr>\n",
       "    <tr>\n",
       "      <th>15</th>\n",
       "      <td>log_trans_agg_views</td>\n",
       "      <td>0.009237</td>\n",
       "    </tr>\n",
       "  </tbody>\n",
       "</table>\n",
       "</div>"
      ],
      "text/plain": [
       "                    cols       imp\n",
       "1             Reputation  0.427378\n",
       "4                  Views  0.228690\n",
       "12       log_trans_Views  0.184093\n",
       "9   log_trans_Reputation  0.046276\n",
       "18        repo_per_Views  0.016092\n",
       "17      repo_per_Answers  0.014620\n",
       "11    log_trans_Username  0.011729\n",
       "3               Username  0.011557\n",
       "0                    Tag  0.011386\n",
       "15   log_trans_agg_views  0.009237"
      ]
     },
     "execution_count": 69,
     "metadata": {},
     "output_type": "execute_result"
    }
   ],
   "source": [
    "fi = rf_feat_importance(m, df_trn); fi[:10]"
   ]
  },
  {
   "cell_type": "code",
   "execution_count": 70,
   "metadata": {
    "ExecuteTime": {
     "end_time": "2018-08-31T08:24:03.094177Z",
     "start_time": "2018-08-31T08:24:02.721904Z"
    },
    "hidden": true
   },
   "outputs": [
    {
     "data": {
      "image/png": "[encoded data removed]",
      "text/plain": [
       "<Figure size 720x432 with 1 Axes>"
      ]
     },
     "metadata": {},
     "output_type": "display_data"
    }
   ],
   "source": [
    "fi.plot('cols', 'imp', figsize=(10,6), legend=False);"
   ]
  },
  {
   "cell_type": "code",
   "execution_count": 71,
   "metadata": {
    "ExecuteTime": {
     "end_time": "2018-08-31T08:24:07.691636Z",
     "start_time": "2018-08-31T08:24:07.392358Z"
    },
    "hidden": true
   },
   "outputs": [],
   "source": [
    "def plot_fi(fi): return fi.plot('cols', 'imp', 'barh', figsize=(12,7), legend=False)"
   ]
  },
  {
   "cell_type": "code",
   "execution_count": 73,
   "metadata": {
    "ExecuteTime": {
     "end_time": "2018-08-31T08:24:12.544356Z",
     "start_time": "2018-08-31T08:24:12.129114Z"
    },
    "hidden": true
   },
   "outputs": [
    {
     "data": {
      "image/png": "[encoded data removed]",
      "text/plain": [
       "<Figure size 864x504 with 1 Axes>"
      ]
     },
     "metadata": {},
     "output_type": "display_data"
    }
   ],
   "source": [
    "plot_fi(fi[:]);"
   ]
  },
  {
   "cell_type": "code",
   "execution_count": 74,
   "metadata": {
    "ExecuteTime": {
     "end_time": "2018-08-31T08:24:22.033537Z",
     "start_time": "2018-08-31T08:24:21.754715Z"
    },
    "hidden": true
   },
   "outputs": [
    {
     "data": {
      "text/plain": [
       "13"
      ]
     },
     "execution_count": 74,
     "metadata": {},
     "output_type": "execute_result"
    }
   ],
   "source": [
    "to_keep = fi[fi.imp>0.005].cols; len(to_keep)"
   ]
  },
  {
   "cell_type": "code",
   "execution_count": 76,
   "metadata": {
    "ExecuteTime": {
     "end_time": "2018-08-31T08:24:31.381916Z",
     "start_time": "2018-08-31T08:24:31.095354Z"
    },
    "hidden": true
   },
   "outputs": [],
   "source": [
    "df_keep = df_raw[to_keep].copy()\n",
    "X_train, X_valid = split_vals(df_keep, n_trn)"
   ]
  },
  {
   "cell_type": "code",
   "execution_count": 77,
   "metadata": {
    "ExecuteTime": {
     "end_time": "2018-08-31T08:24:32.900149Z",
     "start_time": "2018-08-31T08:24:32.609993Z"
    },
    "hidden": true
   },
   "outputs": [],
   "source": [
    "from scipy.cluster import hierarchy as hc"
   ]
  },
  {
   "cell_type": "code",
   "execution_count": 78,
   "metadata": {
    "ExecuteTime": {
     "end_time": "2018-08-31T08:24:34.434406Z",
     "start_time": "2018-08-31T08:24:33.321653Z"
    },
    "hidden": true
   },
   "outputs": [
    {
     "data": {
      "image/png": "[encoded data removed]",
      "text/plain": [
       "<Figure size 1152x720 with 1 Axes>"
      ]
     },
     "metadata": {},
     "output_type": "display_data"
    }
   ],
   "source": [
    "corr = np.round(scipy.stats.spearmanr(df_keep).correlation, 4)\n",
    "corr_condensed = hc.distance.squareform(1-corr)\n",
    "z = hc.linkage(corr_condensed, method='average')\n",
    "fig = plt.figure(figsize=(16,10))\n",
    "dendrogram = hc.dendrogram(z, labels=df_keep.columns, orientation='left', leaf_font_size=16)"
   ]
  },
  {
   "cell_type": "code",
   "execution_count": 79,
   "metadata": {
    "ExecuteTime": {
     "end_time": "2018-08-31T08:26:28.769159Z",
     "start_time": "2018-08-31T08:24:45.999662Z"
    },
    "hidden": true
   },
   "outputs": [
    {
     "name": "stdout",
     "output_type": "stream",
     "text": [
      "['RMSLE X_train', 0.4017516915982445, '\\n RMSLE X_valid', 0.6685437905376493, '\\n R**2 Train', 0.94722840764220806, '\\n R**2 Valid', 0.8559772395002534, ['\\n OOB_Score', 0.85034985887008385]]\n"
     ]
    }
   ],
   "source": [
    "m = RandomForestRegressor(n_estimators=100, min_samples_leaf=3, max_features=0.5,\n",
    "                          n_jobs=-1, oob_score=True)\n",
    "m.fit(X_train, y_train)\n",
    "print_score(m)"
   ]
  },
  {
   "cell_type": "code",
   "execution_count": 80,
   "metadata": {
    "ExecuteTime": {
     "end_time": "2018-08-31T08:26:29.374010Z",
     "start_time": "2018-08-31T08:26:28.773149Z"
    },
    "hidden": true
   },
   "outputs": [
    {
     "data": {
      "image/png": "[encoded data removed]",
      "text/plain": [
       "<Figure size 864x504 with 1 Axes>"
      ]
     },
     "metadata": {},
     "output_type": "display_data"
    }
   ],
   "source": [
    "fi = rf_feat_importance(m, df_keep)\n",
    "plot_fi(fi);"
   ]
  },
  {
   "cell_type": "code",
   "execution_count": 81,
   "metadata": {
    "ExecuteTime": {
     "end_time": "2018-08-31T08:26:29.558912Z",
     "start_time": "2018-08-31T08:26:29.374888Z"
    },
    "hidden": true
   },
   "outputs": [],
   "source": [
    "def get_oob(df):\n",
    "    m = RandomForestRegressor(n_estimators=100, min_samples_leaf=5, max_features=0.6, n_jobs=-1, oob_score=True)\n",
    "    x, _ = split_vals(df, n_trn)\n",
    "    m.fit(x, y_train)\n",
    "    return m.oob_score_"
   ]
  },
  {
   "cell_type": "code",
   "execution_count": 82,
   "metadata": {
    "ExecuteTime": {
     "end_time": "2018-08-31T08:28:14.650941Z",
     "start_time": "2018-08-31T08:26:29.558912Z"
    },
    "hidden": true
   },
   "outputs": [
    {
     "data": {
      "text/plain": [
       "0.85198405820911227"
      ]
     },
     "execution_count": 82,
     "metadata": {},
     "output_type": "execute_result"
    }
   ],
   "source": [
    "get_oob(df_keep)"
   ]
  },
  {
   "cell_type": "code",
   "execution_count": 83,
   "metadata": {
    "ExecuteTime": {
     "end_time": "2018-08-31T08:28:40.207947Z",
     "start_time": "2018-08-31T08:28:39.940315Z"
    },
    "hidden": true
   },
   "outputs": [
    {
     "data": {
      "text/plain": [
       "RandomForestRegressor(bootstrap=True, criterion='mse', max_depth=None,\n",
       "           max_features=0.5, max_leaf_nodes=None,\n",
       "           min_impurity_decrease=0.0, min_impurity_split=None,\n",
       "           min_samples_leaf=3, min_samples_split=2,\n",
       "           min_weight_fraction_leaf=0.0, n_estimators=100, n_jobs=-1,\n",
       "           oob_score=True, random_state=None, verbose=0, warm_start=False)"
      ]
     },
     "execution_count": 83,
     "metadata": {},
     "output_type": "execute_result"
    }
   ],
   "source": [
    "m"
   ]
  },
  {
   "cell_type": "code",
   "execution_count": 85,
   "metadata": {
    "ExecuteTime": {
     "end_time": "2018-08-31T08:29:28.045504Z",
     "start_time": "2018-08-31T08:29:24.659957Z"
    },
    "hidden": true
   },
   "outputs": [
    {
     "data": {
      "text/plain": [
       "array([ 223.08395,   72.16947,   28.37327, ...,   50.06611,   14.87964,   26.97834])"
      ]
     },
     "execution_count": 85,
     "metadata": {},
     "output_type": "execute_result"
    }
   ],
   "source": [
    "preds = np.exp(m.predict(df_test[to_keep])) - 1;\n",
    "preds"
   ]
  },
  {
   "cell_type": "code",
   "execution_count": 86,
   "metadata": {
    "ExecuteTime": {
     "end_time": "2018-08-31T08:30:05.295929Z",
     "start_time": "2018-08-31T08:30:04.581400Z"
    },
    "hidden": true
   },
   "outputs": [
    {
     "data": {
      "text/html": [
       "<div>\n",
       "<style scoped>\n",
       "    .dataframe tbody tr th:only-of-type {\n",
       "        vertical-align: middle;\n",
       "    }\n",
       "\n",
       "    .dataframe tbody tr th {\n",
       "        vertical-align: top;\n",
       "    }\n",
       "\n",
       "    .dataframe thead th {\n",
       "        text-align: right;\n",
       "    }\n",
       "</style>\n",
       "<table border=\"1\" class=\"dataframe\">\n",
       "  <thead>\n",
       "    <tr style=\"text-align: right;\">\n",
       "      <th></th>\n",
       "      <th>ID</th>\n",
       "      <th>Upvotes</th>\n",
       "    </tr>\n",
       "  </thead>\n",
       "  <tbody>\n",
       "    <tr>\n",
       "      <th>0</th>\n",
       "      <td>7</td>\n",
       "      <td>223.083948</td>\n",
       "    </tr>\n",
       "    <tr>\n",
       "      <th>1</th>\n",
       "      <td>9</td>\n",
       "      <td>72.169465</td>\n",
       "    </tr>\n",
       "  </tbody>\n",
       "</table>\n",
       "</div>"
      ],
      "text/plain": [
       "   ID     Upvotes\n",
       "0   7  223.083948\n",
       "1   9   72.169465"
      ]
     },
     "execution_count": 86,
     "metadata": {},
     "output_type": "execute_result"
    }
   ],
   "source": [
    "submit = make_submission(preds)\n",
    "submit.to_csv(f'{PATH}\\\\Adi_rf_08_58_31-07-2018.csv', index=False)\n",
    "submit.head(2)"
   ]
  }
 ],
 "metadata": {
  "kernelspec": {
   "display_name": "Python 3",
   "language": "python",
   "name": "python3"
  },
  "language_info": {
   "codemirror_mode": {
    "name": "ipython",
    "version": 3
   },
   "file_extension": ".py",
   "mimetype": "text/x-python",
   "name": "python",
   "nbconvert_exporter": "python",
   "pygments_lexer": "ipython3",
   "version": "3.6.3"
  },
  "nbTranslate": {
   "displayLangs": [
    "*"
   ],
   "hotkey": "alt-t",
   "langInMainMenu": true,
   "sourceLang": "en",
   "targetLang": "fr",
   "useGoogleTranslate": true
  },
  "toc": {
   "base_numbering": 1,
   "nav_menu": {},
   "number_sections": true,
   "sideBar": true,
   "skip_h1_title": false,
   "title_cell": "Table of Contents",
   "title_sidebar": "Contents",
   "toc_cell": false,
   "toc_position": {},
   "toc_section_display": true,
   "toc_window_display": false
  }
 },
 "nbformat": 4,
 "nbformat_minor": 2
}
