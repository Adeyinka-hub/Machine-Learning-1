{
 "cells": [
  {
   "cell_type": "code",
   "execution_count": 1,
   "metadata": {
    "ExecuteTime": {
     "end_time": "2018-09-15T05:14:11.888407Z",
     "start_time": "2018-09-15T05:14:03.352340Z"
    }
   },
   "outputs": [],
   "source": [
    "%load_ext autoreload\n",
    "%autoreload 2\n",
    "\n",
    "%matplotlib inline"
   ]
  },
  {
   "cell_type": "code",
   "execution_count": 2,
   "metadata": {
    "ExecuteTime": {
     "end_time": "2018-09-15T05:15:18.346811Z",
     "start_time": "2018-09-15T05:14:47.184544Z"
    }
   },
   "outputs": [],
   "source": [
    "import time\n",
    "import xgboost as xgb\n",
    "import lightgbm as lgb\n",
    "# import category_encoders as cat_ed\n",
    "import gc, mlcrate, glob\n",
    "\n",
    "# from gplearn.genetic import SymbolicTransformer, SymbolicClassifier\n",
    "from fastai.imports import *\n",
    "from fastai.structured import *\n",
    "from pandas_summary import DataFrameSummary\n",
    "from sklearn.ensemble import RandomForestClassifier, ExtraTreesClassifier, ExtraTreesRegressor\n",
    "from IPython.display import display\n",
    "\n",
    "from catboost import CatBoostClassifier\n",
    "from scipy.cluster import hierarchy as hc\n",
    "from collections import Counter\n",
    "\n",
    "from sklearn import metrics\n",
    "from sklearn.linear_model import LogisticRegression, Ridge\n",
    "from sklearn.model_selection import train_test_split\n",
    "from sklearn.metrics import mean_squared_error\n",
    "from sklearn.metrics import  roc_auc_score, log_loss\n",
    "from sklearn.model_selection import KFold, StratifiedKFold\n",
    "from sklearn.model_selection import GridSearchCV\n",
    "from sklearn.decomposition import PCA, TruncatedSVD, FastICA, FactorAnalysis\n",
    "from sklearn.random_projection import GaussianRandomProjection, SparseRandomProjection\n",
    "from sklearn.cluster import KMeans\n",
    "\n",
    "from sklearn.metrics import accuracy_score, log_loss\n",
    "from sklearn.neighbors import KNeighborsClassifier\n",
    "from sklearn.tree import DecisionTreeClassifier\n",
    "from sklearn.ensemble import AdaBoostClassifier, GradientBoostingClassifier\n",
    "from sklearn.naive_bayes import GaussianNB\n",
    "from sklearn.discriminant_analysis import QuadraticDiscriminantAnalysis\n",
    "from sklearn.neural_network import MLPClassifier\n",
    "from sklearn.gaussian_process import GaussianProcessClassifier\n",
    "from sklearn.gaussian_process.kernels import RBF\n",
    "\n",
    "# will ignore all warning from sklearn, seaborn etc..\n",
    "def ignore_warn(*args, **kwargs):\n",
    "    pass\n",
    "warnings.warn = ignore_warn\n",
    "\n",
    "pd.option_context(\"display.max_rows\", 1000);\n",
    "pd.option_context(\"display.max_columns\", 1000);"
   ]
  },
  {
   "cell_type": "code",
   "execution_count": 3,
   "metadata": {
    "ExecuteTime": {
     "end_time": "2018-09-15T05:15:18.550812Z",
     "start_time": "2018-09-15T05:15:18.346811Z"
    }
   },
   "outputs": [
    {
     "data": {
      "text/plain": [
       "'D:\\\\Github\\\\fastai\\\\courses\\\\ml1\\\\AV_WNS'"
      ]
     },
     "execution_count": 3,
     "metadata": {},
     "output_type": "execute_result"
    }
   ],
   "source": [
    "PATH = os.getcwd()\n",
    "PATH"
   ]
  },
  {
   "cell_type": "code",
   "execution_count": 45,
   "metadata": {
    "ExecuteTime": {
     "end_time": "2018-09-15T05:37:54.691845Z",
     "start_time": "2018-09-15T05:37:54.360145Z"
    }
   },
   "outputs": [],
   "source": [
    "df_raw = pd.read_csv(f'{PATH}\\\\train.csv', low_memory=False)\n",
    "df_test = pd.read_csv(f'{PATH}\\\\test.csv', low_memory=False)"
   ]
  },
  {
   "cell_type": "code",
   "execution_count": 46,
   "metadata": {
    "ExecuteTime": {
     "end_time": "2018-09-15T05:37:54.889347Z",
     "start_time": "2018-09-15T05:37:54.699849Z"
    }
   },
   "outputs": [
    {
     "data": {
      "text/plain": [
       "((54808, 14), (23490, 13))"
      ]
     },
     "execution_count": 46,
     "metadata": {},
     "output_type": "execute_result"
    }
   ],
   "source": [
    "df_raw.shape, df_test.shape"
   ]
  },
  {
   "cell_type": "code",
   "execution_count": 47,
   "metadata": {
    "ExecuteTime": {
     "end_time": "2018-09-15T05:37:55.333919Z",
     "start_time": "2018-09-15T05:37:55.065314Z"
    }
   },
   "outputs": [],
   "source": [
    "new_cols = ['employee_id', 'department', 'region', 'education', 'gender',\n",
    "       'recruitment_channel', 'no_of_trainings', 'age', 'previous_year_rating',\n",
    "       'length_of_service', 'KPIs_met_more_than_80_percent', 'awards_won_bool',\n",
    "       'avg_training_score', 'is_promoted']\n",
    "#re-naming them\n",
    "df_raw.columns = new_cols\n",
    "df_test.columns = new_cols[:-1]\n",
    "\n",
    "cat_cols = list(df_raw.select_dtypes(include=['object']).columns)\n",
    "num_cols = list(df_raw.select_dtypes(exclude=['object']).columns)"
   ]
  },
  {
   "cell_type": "code",
   "execution_count": 48,
   "metadata": {
    "ExecuteTime": {
     "end_time": "2018-09-15T05:38:06.869323Z",
     "start_time": "2018-09-15T05:38:06.667453Z"
    }
   },
   "outputs": [],
   "source": [
    "# NaN in education could be replaced with mode\n",
    "mode_education = df_raw.education.value_counts().index.values[0]\n",
    "df_raw.education = df_raw.education.fillna(mode_education)\n",
    "\n",
    "# NaN in education could be replaced with mode\n",
    "mode_education = df_test.education.value_counts().index.values[0]\n",
    "df_test.education = df_test.education.fillna(mode_education)"
   ]
  },
  {
   "cell_type": "code",
   "execution_count": 49,
   "metadata": {
    "ExecuteTime": {
     "end_time": "2018-09-15T05:38:07.868236Z",
     "start_time": "2018-09-15T05:38:07.567311Z"
    }
   },
   "outputs": [],
   "source": [
    "# converting it to ordinal numbers since education is \"ordinal\" feature; higher the level, higher is the weight\n",
    "repl = {\"Below Secondary\":1, \"Bachelor's\":2, \"Master's & above\":3}\n",
    "df_raw.education = df_raw.education.replace(repl)\n",
    "df_test.education = df_test.education.replace(repl)"
   ]
  },
  {
   "cell_type": "code",
   "execution_count": 50,
   "metadata": {
    "ExecuteTime": {
     "end_time": "2018-09-15T05:38:08.214931Z",
     "start_time": "2018-09-15T05:38:07.968120Z"
    }
   },
   "outputs": [],
   "source": [
    "df_raw.previous_year_rating = df_raw.previous_year_rating.fillna(0)\n",
    "df_test.previous_year_rating = df_test.previous_year_rating.fillna(0)"
   ]
  },
  {
   "cell_type": "code",
   "execution_count": 51,
   "metadata": {
    "ExecuteTime": {
     "end_time": "2018-09-15T05:38:38.925049Z",
     "start_time": "2018-09-15T05:38:37.448705Z"
    }
   },
   "outputs": [
    {
     "data": {
      "text/plain": [
       "4368"
      ]
     },
     "execution_count": 51,
     "metadata": {},
     "output_type": "execute_result"
    }
   ],
   "source": [
    "###########################kind of binning age at trivial level #####################################\n",
    "\n",
    "df_raw['is_age_30'] = np.zeros(df_raw.shape[0])\n",
    "my_query = df_raw.query('age<=30.').index\n",
    "df_raw.iloc[my_query, -1] = 1\n",
    "df_raw['is_age_30_39'] = np.zeros(df_raw.shape[0])\n",
    "my_query = df_raw.query('age>=30 and age<=39.').index\n",
    "df_raw.iloc[my_query, -1] = 1\n",
    "df_raw['is_age_39_45'] = np.zeros(df_raw.shape[0])\n",
    "my_query = df_raw.query('age>=39. & age<=45.').index\n",
    "df_raw.iloc[my_query, -1] = 1\n",
    "df_raw['is_age_45'] = np.zeros(df_raw.shape[0])\n",
    "my_query = df_raw.query('age>=45.').index\n",
    "df_raw.iloc[my_query, -1] = 1\n",
    "\n",
    "#######################################################################################################\n",
    "###################young age (13–30), middle age (31–50) and senior age (51–70)########################\n",
    "#######################################################################################################\n",
    "\n",
    "df_raw['age_group'] = np.zeros(df_raw.shape[0])\n",
    "my_query = df_raw.query('age>=20. & age<=30.').index\n",
    "df_raw.iloc[my_query, -1] = 'young'\n",
    "my_query = df_raw.query('age>=31. & age<=50.').index\n",
    "df_raw.iloc[my_query, -1] = 'middle_aged'\n",
    "my_query = df_raw.query('age>=51. & age<=60.').index\n",
    "df_raw.iloc[my_query, -1] = 'senior_aged'\n",
    "###################################################################################################################\n",
    "###################################################################################################################\n",
    "###################################################################################################################\n",
    "\n",
    "###########################kind of binning age at trivial level #####################################\n",
    "\n",
    "df_test['is_age_30'] = np.zeros(df_test.shape[0])\n",
    "my_query = df_test.query('age<=30.').index\n",
    "df_test.iloc[my_query, -1] = 1\n",
    "df_test['is_age_30_39'] = np.zeros(df_test.shape[0])\n",
    "my_query = df_test.query('age>=30 and age<=39.').index\n",
    "df_test.iloc[my_query, -1] = 1\n",
    "df_test['is_age_39_45'] = np.zeros(df_test.shape[0])\n",
    "my_query = df_test.query('age>=39. & age<=45.').index\n",
    "df_test.iloc[my_query, -1] = 1\n",
    "df_test['is_age_45'] = np.zeros(df_test.shape[0])\n",
    "my_query = df_test.query('age>=45.').index\n",
    "df_test.iloc[my_query, -1] = 1\n",
    "\n",
    "#######################################################################################################\n",
    "###################young age (13–30), middle age (31–50) and senior age (51–70)########################\n",
    "#######################################################################################################\n",
    "\n",
    "df_test['age_group'] = np.zeros(df_test.shape[0])\n",
    "my_query = df_test.query('age>=20. & age<=30.').index\n",
    "df_test.iloc[my_query, -1] = 'young'\n",
    "my_query = df_test.query('age>=31. & age<=50.').index\n",
    "df_test.iloc[my_query, -1] = 'middle_aged'\n",
    "my_query = df_test.query('age>=51. & age<=60.').index\n",
    "df_test.iloc[my_query, -1] = 'senior_aged';\n",
    "###############################################################################\n",
    "\n",
    "feats_added = []\n",
    "\n",
    "df_raw['joining_age'] = df_raw['age'] - df_raw['length_of_service']\n",
    "df_test['joining_age'] = df_test['age'] - df_test['length_of_service']\n",
    "feats_added.append('joining_age')\n",
    "\n",
    "df_raw['region'].replace('region_', '', True, None, True)\n",
    "df_test['region'].replace('region_', '', True, None, True)\n",
    "################################################################################3\n",
    "bins = [20., 25., 30., 35., 40., 45., 50., 55., 60., 70]\n",
    "labels = [i+1 for i in range(len(bins) - 1)]\n",
    "bin_cols = ['age']\n",
    "for col in bin_cols:    \n",
    "    df_raw[f'bin_{col}'.format(col)]  = pd.cut(df_raw[col] ,bins,labels = labels)\n",
    "    df_test[f'bin_{col}'.format(col)] = pd.cut(df_test[col],bins,labels = labels)\n",
    "feats_added.append('bin_age')\n",
    "\n",
    "bins = [39., 44., 54., 66., 75., 80., 85., 90., 95.]\n",
    "labels = [i+1 for i in range(len(bins) - 1)]\n",
    "bin_cols = ['avg_training_score']\n",
    "for col in bin_cols:    \n",
    "    df_raw[f'bin_{col}'.format(col)]  = pd.cut(df_raw[col] ,bins,labels = labels)\n",
    "    df_test[f'bin_{col}'.format(col)] = pd.cut(df_test[col],bins,labels = labels)\n",
    "\n",
    "feats_added.append('bin_avg_training_score')\n",
    "feats_added.append(['age_group', 'is_age_39', 'is_age_39_45', 'is_age_45', 'promotion_chance',\\\n",
    "                   'reg_count','mean_age_per_region','mean_joining_age_per_region','mean_previous_year_rating_per_region',\\\n",
    "                    'mean_avg_training_score_per_region','mean_length_of_service_per_region'])\n",
    "################################################################################################\n",
    "df_raw['promotion_chance'] = 'low'\n",
    "my_query = df_raw.query('avg_training_score>=90').index\n",
    "df_raw.iloc[my_query, -1] = 'very_high'\n",
    "my_query = df_raw.query('avg_training_score>=75 and avg_training_score<90').index\n",
    "df_raw.iloc[my_query, -1] = 'high'\n",
    "my_query = df_raw.query('avg_training_score>=65 and avg_training_score<75').index\n",
    "df_raw.iloc[my_query, -1] = 'medium'\n",
    "my_query = df_raw.query('avg_training_score>=53 and avg_training_score<65').index\n",
    "df_raw.iloc[my_query, -1] = 'low_medium'\n",
    "\n",
    "df_test['promotion_chance'] = 'low'\n",
    "my_query = df_test.query('avg_training_score>=90').index\n",
    "df_test.iloc[my_query, -1] = 'very_high'\n",
    "my_query = df_test.query('avg_training_score>=75 and avg_training_score<90').index\n",
    "df_test.iloc[my_query, -1] = 'high'\n",
    "my_query = df_test.query('avg_training_score>=65 and avg_training_score<75').index\n",
    "df_test.iloc[my_query, -1] = 'medium'\n",
    "my_query = df_test.query('avg_training_score>=53 and avg_training_score<65').index\n",
    "df_test.iloc[my_query, -1] = 'low_medium'\n",
    "###############################################################################################\n",
    "def map_(regs, age):\n",
    "    d = {}\n",
    "    for i,j in zip(regs, age):\n",
    "        d[i] = j\n",
    "    return d\n",
    "\n",
    "xyz = df_raw.groupby('region').mean().sort_values(by='region')[['age', 'joining_age', 'previous_year_rating', 'length_of_service', 'avg_training_score']]\n",
    "count = Counter(df_raw['region'])\n",
    "\n",
    "regs                   = xyz.reset_index()['region'].values\n",
    "age                    = xyz.reset_index()['age'].values\n",
    "joining_age            = xyz.reset_index()['joining_age'].values\n",
    "previous_year_rating   = xyz.reset_index()['previous_year_rating'].values\n",
    "length_of_service      = xyz.reset_index()['length_of_service'].values \n",
    "avg_training_score     = xyz.reset_index()['avg_training_score'].values\n",
    "\n",
    "df_raw['reg_count'] = df_raw['region'].map(count)\n",
    "d = map_(regs, age)\n",
    "df_raw['mean_age_per_region']   = df_raw['region'].map(d)\n",
    "d = map_(regs, joining_age)\n",
    "df_raw['mean_joining_age_per_region']   = df_raw['region'].map(d)\n",
    "d = map_(regs, previous_year_rating)\n",
    "df_raw['mean_previous_year_rating_per_region']   = df_raw['region'].map(d)\n",
    "d = map_(regs, avg_training_score)\n",
    "df_raw['mean_avg_training_score_per_region']   = df_raw['region'].map(d)\n",
    "d = map_(regs, length_of_service)\n",
    "df_raw['mean_length_of_service_per_region']   = df_raw['region'].map(d)\n",
    "\n",
    "xyz = df_test.groupby('region').mean().sort_values(by='region')[['age', 'joining_age', 'previous_year_rating', 'length_of_service', 'avg_training_score']]\n",
    "count = Counter(df_test['region'])\n",
    "\n",
    "regs                   = xyz.reset_index()['region'].values\n",
    "age                    = xyz.reset_index()['age'].values\n",
    "joining_age            = xyz.reset_index()['joining_age'].values\n",
    "previous_year_rating   = xyz.reset_index()['previous_year_rating'].values\n",
    "length_of_service      = xyz.reset_index()['length_of_service'].values \n",
    "avg_training_score     = xyz.reset_index()['avg_training_score'].values\n",
    "\n",
    "df_test['reg_count'] = df_test['region'].map(count)\n",
    "d = map_(regs, age)\n",
    "df_test['mean_age_per_region']   = df_test['region'].map(d)\n",
    "d = map_(regs, joining_age)\n",
    "df_test['mean_joining_age_per_region']   = df_test['region'].map(d)\n",
    "d = map_(regs, previous_year_rating)\n",
    "df_test['mean_previous_year_rating_per_region']   = df_test['region'].map(d)\n",
    "d = map_(regs, avg_training_score)\n",
    "df_test['mean_avg_training_score_per_region']   = df_test['region'].map(d)\n",
    "d = map_(regs, length_of_service)\n",
    "df_test['mean_length_of_service_per_region']   = df_test['region'].map(d)\n",
    "####################################################################################\n",
    "\n",
    "\n",
    "del d, count, regs, joining_age, previous_year_rating, length_of_service, avg_training_score\n",
    "gc.collect()"
   ]
  },
  {
   "cell_type": "code",
   "execution_count": 52,
   "metadata": {
    "ExecuteTime": {
     "end_time": "2018-09-15T05:38:39.148164Z",
     "start_time": "2018-09-15T05:38:38.933046Z"
    }
   },
   "outputs": [
    {
     "data": {
      "text/plain": [
       "((54808, 29), (23490, 28))"
      ]
     },
     "execution_count": 52,
     "metadata": {},
     "output_type": "execute_result"
    }
   ],
   "source": [
    "df_raw.shape, df_test.shape"
   ]
  },
  {
   "cell_type": "code",
   "execution_count": 54,
   "metadata": {
    "ExecuteTime": {
     "end_time": "2018-09-15T05:39:09.348601Z",
     "start_time": "2018-09-15T05:39:09.075872Z"
    }
   },
   "outputs": [],
   "source": [
    "train_cats(df_raw);\n",
    "apply_cats(df_test,df_raw)"
   ]
  },
  {
   "cell_type": "code",
   "execution_count": 55,
   "metadata": {
    "ExecuteTime": {
     "end_time": "2018-09-15T05:39:09.561998Z",
     "start_time": "2018-09-15T05:39:09.352604Z"
    }
   },
   "outputs": [],
   "source": [
    "target = df_raw.is_promoted\n",
    "df_raw.drop(['is_promoted', 'employee_id'], axis=1, inplace=True)\n",
    "df_test.drop(['employee_id'], axis=1, inplace=True)"
   ]
  },
  {
   "cell_type": "code",
   "execution_count": 56,
   "metadata": {
    "ExecuteTime": {
     "end_time": "2018-09-15T05:39:11.036137Z",
     "start_time": "2018-09-15T05:39:10.716590Z"
    }
   },
   "outputs": [
    {
     "name": "stdout",
     "output_type": "stream",
     "text": [
      "['department', 'region', 'gender', 'recruitment_channel', 'age_group', 'bin_age', 'bin_avg_training_score', 'promotion_chance']\n",
      "['education', 'no_of_trainings', 'age', 'previous_year_rating', 'length_of_service', 'KPIs_met_more_than_80_percent', 'awards_won_bool', 'avg_training_score', 'is_age_30', 'is_age_30_39', 'is_age_39_45', 'is_age_45', 'joining_age', 'reg_count', 'mean_age_per_region', 'mean_joining_age_per_region', 'mean_previous_year_rating_per_region', 'mean_avg_training_score_per_region', 'mean_length_of_service_per_region']\n"
     ]
    }
   ],
   "source": [
    "cat_cols = list(df_raw.select_dtypes(include=['category']).columns)\n",
    "num_cols = list(df_raw.select_dtypes(exclude=['category']).columns)\n",
    "print(cat_cols)\n",
    "print(num_cols)"
   ]
  },
  {
   "cell_type": "code",
   "execution_count": 57,
   "metadata": {
    "ExecuteTime": {
     "end_time": "2018-09-15T05:39:16.847918Z",
     "start_time": "2018-09-15T05:39:16.607636Z"
    }
   },
   "outputs": [],
   "source": [
    "dummy_train = pd.get_dummies(df_raw[cat_cols], drop_first=True)\n",
    "dummy_test = pd.get_dummies(df_test[cat_cols], drop_first=True)"
   ]
  },
  {
   "cell_type": "code",
   "execution_count": 58,
   "metadata": {
    "ExecuteTime": {
     "end_time": "2018-09-15T05:39:17.079053Z",
     "start_time": "2018-09-15T05:39:16.875055Z"
    }
   },
   "outputs": [],
   "source": [
    "from sklearn.preprocessing import Normalizer"
   ]
  },
  {
   "cell_type": "code",
   "execution_count": 59,
   "metadata": {
    "ExecuteTime": {
     "end_time": "2018-09-15T05:39:18.522773Z",
     "start_time": "2018-09-15T05:39:18.083270Z"
    }
   },
   "outputs": [
    {
     "data": {
      "text/html": [
       "<div>\n",
       "<style scoped>\n",
       "    .dataframe tbody tr th:only-of-type {\n",
       "        vertical-align: middle;\n",
       "    }\n",
       "\n",
       "    .dataframe tbody tr th {\n",
       "        vertical-align: top;\n",
       "    }\n",
       "\n",
       "    .dataframe thead th {\n",
       "        text-align: right;\n",
       "    }\n",
       "</style>\n",
       "<table border=\"1\" class=\"dataframe\">\n",
       "  <thead>\n",
       "    <tr style=\"text-align: right;\">\n",
       "      <th></th>\n",
       "      <th>education</th>\n",
       "      <th>no_of_trainings</th>\n",
       "      <th>age</th>\n",
       "      <th>previous_year_rating</th>\n",
       "      <th>length_of_service</th>\n",
       "      <th>KPIs_met_more_than_80_percent</th>\n",
       "      <th>awards_won_bool</th>\n",
       "      <th>avg_training_score</th>\n",
       "      <th>is_age_30</th>\n",
       "      <th>is_age_30_39</th>\n",
       "      <th>is_age_39_45</th>\n",
       "      <th>is_age_45</th>\n",
       "      <th>joining_age</th>\n",
       "      <th>reg_count</th>\n",
       "      <th>mean_age_per_region</th>\n",
       "      <th>mean_joining_age_per_region</th>\n",
       "      <th>mean_previous_year_rating_per_region</th>\n",
       "      <th>mean_avg_training_score_per_region</th>\n",
       "      <th>mean_length_of_service_per_region</th>\n",
       "    </tr>\n",
       "  </thead>\n",
       "  <tbody>\n",
       "    <tr>\n",
       "      <th>0</th>\n",
       "      <td>0.000619</td>\n",
       "      <td>0.000206</td>\n",
       "      <td>0.007225</td>\n",
       "      <td>0.001032</td>\n",
       "      <td>0.001651</td>\n",
       "      <td>0.000206</td>\n",
       "      <td>0.0</td>\n",
       "      <td>0.010115</td>\n",
       "      <td>0.000000</td>\n",
       "      <td>0.000206</td>\n",
       "      <td>0.000000</td>\n",
       "      <td>0.000000</td>\n",
       "      <td>0.005574</td>\n",
       "      <td>0.999771</td>\n",
       "      <td>0.007358</td>\n",
       "      <td>0.006073</td>\n",
       "      <td>0.000666</td>\n",
       "      <td>0.013200</td>\n",
       "      <td>0.001285</td>\n",
       "    </tr>\n",
       "    <tr>\n",
       "      <th>1</th>\n",
       "      <td>0.000311</td>\n",
       "      <td>0.000156</td>\n",
       "      <td>0.004666</td>\n",
       "      <td>0.000778</td>\n",
       "      <td>0.000622</td>\n",
       "      <td>0.000000</td>\n",
       "      <td>0.0</td>\n",
       "      <td>0.009333</td>\n",
       "      <td>0.000156</td>\n",
       "      <td>0.000156</td>\n",
       "      <td>0.000000</td>\n",
       "      <td>0.000000</td>\n",
       "      <td>0.004044</td>\n",
       "      <td>0.999862</td>\n",
       "      <td>0.005028</td>\n",
       "      <td>0.004269</td>\n",
       "      <td>0.000466</td>\n",
       "      <td>0.010219</td>\n",
       "      <td>0.000759</td>\n",
       "    </tr>\n",
       "    <tr>\n",
       "      <th>2</th>\n",
       "      <td>0.002273</td>\n",
       "      <td>0.001136</td>\n",
       "      <td>0.038638</td>\n",
       "      <td>0.003409</td>\n",
       "      <td>0.007955</td>\n",
       "      <td>0.000000</td>\n",
       "      <td>0.0</td>\n",
       "      <td>0.056821</td>\n",
       "      <td>0.000000</td>\n",
       "      <td>0.001136</td>\n",
       "      <td>0.000000</td>\n",
       "      <td>0.000000</td>\n",
       "      <td>0.030683</td>\n",
       "      <td>0.993236</td>\n",
       "      <td>0.041040</td>\n",
       "      <td>0.033709</td>\n",
       "      <td>0.003702</td>\n",
       "      <td>0.069629</td>\n",
       "      <td>0.007331</td>\n",
       "    </tr>\n",
       "    <tr>\n",
       "      <th>3</th>\n",
       "      <td>0.001695</td>\n",
       "      <td>0.001695</td>\n",
       "      <td>0.033058</td>\n",
       "      <td>0.000848</td>\n",
       "      <td>0.008476</td>\n",
       "      <td>0.000000</td>\n",
       "      <td>0.0</td>\n",
       "      <td>0.042382</td>\n",
       "      <td>0.000000</td>\n",
       "      <td>0.000848</td>\n",
       "      <td>0.000848</td>\n",
       "      <td>0.000000</td>\n",
       "      <td>0.024582</td>\n",
       "      <td>0.995979</td>\n",
       "      <td>0.029270</td>\n",
       "      <td>0.024289</td>\n",
       "      <td>0.002745</td>\n",
       "      <td>0.054529</td>\n",
       "      <td>0.004981</td>\n",
       "    </tr>\n",
       "    <tr>\n",
       "      <th>4</th>\n",
       "      <td>0.000884</td>\n",
       "      <td>0.000442</td>\n",
       "      <td>0.019882</td>\n",
       "      <td>0.001325</td>\n",
       "      <td>0.000884</td>\n",
       "      <td>0.000000</td>\n",
       "      <td>0.0</td>\n",
       "      <td>0.032252</td>\n",
       "      <td>0.000000</td>\n",
       "      <td>0.000000</td>\n",
       "      <td>0.000442</td>\n",
       "      <td>0.000442</td>\n",
       "      <td>0.018998</td>\n",
       "      <td>0.998495</td>\n",
       "      <td>0.014764</td>\n",
       "      <td>0.012452</td>\n",
       "      <td>0.001317</td>\n",
       "      <td>0.028755</td>\n",
       "      <td>0.002312</td>\n",
       "    </tr>\n",
       "  </tbody>\n",
       "</table>\n",
       "</div>"
      ],
      "text/plain": [
       "   education  no_of_trainings       age  previous_year_rating  \\\n",
       "0   0.000619         0.000206  0.007225              0.001032   \n",
       "1   0.000311         0.000156  0.004666              0.000778   \n",
       "2   0.002273         0.001136  0.038638              0.003409   \n",
       "3   0.001695         0.001695  0.033058              0.000848   \n",
       "4   0.000884         0.000442  0.019882              0.001325   \n",
       "\n",
       "   length_of_service  KPIs_met_more_than_80_percent  awards_won_bool  \\\n",
       "0           0.001651                       0.000206              0.0   \n",
       "1           0.000622                       0.000000              0.0   \n",
       "2           0.007955                       0.000000              0.0   \n",
       "3           0.008476                       0.000000              0.0   \n",
       "4           0.000884                       0.000000              0.0   \n",
       "\n",
       "   avg_training_score  is_age_30  is_age_30_39  is_age_39_45  is_age_45  \\\n",
       "0            0.010115   0.000000      0.000206      0.000000   0.000000   \n",
       "1            0.009333   0.000156      0.000156      0.000000   0.000000   \n",
       "2            0.056821   0.000000      0.001136      0.000000   0.000000   \n",
       "3            0.042382   0.000000      0.000848      0.000848   0.000000   \n",
       "4            0.032252   0.000000      0.000000      0.000442   0.000442   \n",
       "\n",
       "   joining_age  reg_count  mean_age_per_region  mean_joining_age_per_region  \\\n",
       "0     0.005574   0.999771             0.007358                     0.006073   \n",
       "1     0.004044   0.999862             0.005028                     0.004269   \n",
       "2     0.030683   0.993236             0.041040                     0.033709   \n",
       "3     0.024582   0.995979             0.029270                     0.024289   \n",
       "4     0.018998   0.998495             0.014764                     0.012452   \n",
       "\n",
       "   mean_previous_year_rating_per_region  mean_avg_training_score_per_region  \\\n",
       "0                              0.000666                            0.013200   \n",
       "1                              0.000466                            0.010219   \n",
       "2                              0.003702                            0.069629   \n",
       "3                              0.002745                            0.054529   \n",
       "4                              0.001317                            0.028755   \n",
       "\n",
       "   mean_length_of_service_per_region  \n",
       "0                           0.001285  \n",
       "1                           0.000759  \n",
       "2                           0.007331  \n",
       "3                           0.004981  \n",
       "4                           0.002312  "
      ]
     },
     "execution_count": 59,
     "metadata": {},
     "output_type": "execute_result"
    }
   ],
   "source": [
    "normalizer = Normalizer(copy=False)\n",
    "df_raw[num_cols] = normalizer.fit_transform(df_raw[num_cols])\n",
    "df_raw[num_cols].head()"
   ]
  },
  {
   "cell_type": "code",
   "execution_count": 60,
   "metadata": {
    "ExecuteTime": {
     "end_time": "2018-09-15T05:39:19.908584Z",
     "start_time": "2018-09-15T05:39:19.567794Z"
    }
   },
   "outputs": [
    {
     "data": {
      "text/html": [
       "<div>\n",
       "<style scoped>\n",
       "    .dataframe tbody tr th:only-of-type {\n",
       "        vertical-align: middle;\n",
       "    }\n",
       "\n",
       "    .dataframe tbody tr th {\n",
       "        vertical-align: top;\n",
       "    }\n",
       "\n",
       "    .dataframe thead th {\n",
       "        text-align: right;\n",
       "    }\n",
       "</style>\n",
       "<table border=\"1\" class=\"dataframe\">\n",
       "  <thead>\n",
       "    <tr style=\"text-align: right;\">\n",
       "      <th></th>\n",
       "      <th>department</th>\n",
       "      <th>region</th>\n",
       "      <th>education</th>\n",
       "      <th>gender</th>\n",
       "      <th>recruitment_channel</th>\n",
       "      <th>no_of_trainings</th>\n",
       "      <th>age</th>\n",
       "      <th>previous_year_rating</th>\n",
       "      <th>length_of_service</th>\n",
       "      <th>KPIs_met_more_than_80_percent</th>\n",
       "      <th>...</th>\n",
       "      <th>joining_age</th>\n",
       "      <th>bin_age</th>\n",
       "      <th>bin_avg_training_score</th>\n",
       "      <th>promotion_chance</th>\n",
       "      <th>reg_count</th>\n",
       "      <th>mean_age_per_region</th>\n",
       "      <th>mean_joining_age_per_region</th>\n",
       "      <th>mean_previous_year_rating_per_region</th>\n",
       "      <th>mean_avg_training_score_per_region</th>\n",
       "      <th>mean_length_of_service_per_region</th>\n",
       "    </tr>\n",
       "  </thead>\n",
       "  <tbody>\n",
       "    <tr>\n",
       "      <th>0</th>\n",
       "      <td>Technology</td>\n",
       "      <td>26</td>\n",
       "      <td>0.001966</td>\n",
       "      <td>m</td>\n",
       "      <td>sourcing</td>\n",
       "      <td>0.000983</td>\n",
       "      <td>0.023587</td>\n",
       "      <td>0.000000</td>\n",
       "      <td>0.000983</td>\n",
       "      <td>0.000983</td>\n",
       "      <td>...</td>\n",
       "      <td>0.022604</td>\n",
       "      <td>1</td>\n",
       "      <td>5</td>\n",
       "      <td>high</td>\n",
       "      <td>0.993591</td>\n",
       "      <td>0.033154</td>\n",
       "      <td>0.027869</td>\n",
       "      <td>0.002953</td>\n",
       "      <td>0.063747</td>\n",
       "      <td>0.005285</td>\n",
       "    </tr>\n",
       "    <tr>\n",
       "      <th>1</th>\n",
       "      <td>HR</td>\n",
       "      <td>4</td>\n",
       "      <td>0.002558</td>\n",
       "      <td>f</td>\n",
       "      <td>other</td>\n",
       "      <td>0.001279</td>\n",
       "      <td>0.039655</td>\n",
       "      <td>0.003838</td>\n",
       "      <td>0.006396</td>\n",
       "      <td>0.000000</td>\n",
       "      <td>...</td>\n",
       "      <td>0.033259</td>\n",
       "      <td>3</td>\n",
       "      <td>2</td>\n",
       "      <td>low</td>\n",
       "      <td>0.991375</td>\n",
       "      <td>0.046475</td>\n",
       "      <td>0.038277</td>\n",
       "      <td>0.004324</td>\n",
       "      <td>0.080408</td>\n",
       "      <td>0.008198</td>\n",
       "    </tr>\n",
       "    <tr>\n",
       "      <th>2</th>\n",
       "      <td>Sales &amp; Marketing</td>\n",
       "      <td>13</td>\n",
       "      <td>0.001708</td>\n",
       "      <td>m</td>\n",
       "      <td>other</td>\n",
       "      <td>0.000854</td>\n",
       "      <td>0.026467</td>\n",
       "      <td>0.000854</td>\n",
       "      <td>0.003415</td>\n",
       "      <td>0.000000</td>\n",
       "      <td>...</td>\n",
       "      <td>0.023052</td>\n",
       "      <td>3</td>\n",
       "      <td>2</td>\n",
       "      <td>low</td>\n",
       "      <td>0.996359</td>\n",
       "      <td>0.030435</td>\n",
       "      <td>0.025019</td>\n",
       "      <td>0.002710</td>\n",
       "      <td>0.053111</td>\n",
       "      <td>0.005416</td>\n",
       "    </tr>\n",
       "    <tr>\n",
       "      <th>3</th>\n",
       "      <td>Procurement</td>\n",
       "      <td>2</td>\n",
       "      <td>0.000377</td>\n",
       "      <td>f</td>\n",
       "      <td>other</td>\n",
       "      <td>0.000566</td>\n",
       "      <td>0.005849</td>\n",
       "      <td>0.000377</td>\n",
       "      <td>0.001698</td>\n",
       "      <td>0.000000</td>\n",
       "      <td>...</td>\n",
       "      <td>0.004151</td>\n",
       "      <td>3</td>\n",
       "      <td>3</td>\n",
       "      <td>medium</td>\n",
       "      <td>0.999781</td>\n",
       "      <td>0.007312</td>\n",
       "      <td>0.005969</td>\n",
       "      <td>0.000591</td>\n",
       "      <td>0.011929</td>\n",
       "      <td>0.001343</td>\n",
       "    </tr>\n",
       "    <tr>\n",
       "      <th>4</th>\n",
       "      <td>Finance</td>\n",
       "      <td>29</td>\n",
       "      <td>0.004678</td>\n",
       "      <td>m</td>\n",
       "      <td>sourcing</td>\n",
       "      <td>0.002339</td>\n",
       "      <td>0.070175</td>\n",
       "      <td>0.009357</td>\n",
       "      <td>0.016374</td>\n",
       "      <td>0.000000</td>\n",
       "      <td>...</td>\n",
       "      <td>0.053801</td>\n",
       "      <td>2</td>\n",
       "      <td>3</td>\n",
       "      <td>low_medium</td>\n",
       "      <td>0.968420</td>\n",
       "      <td>0.073955</td>\n",
       "      <td>0.062926</td>\n",
       "      <td>0.006701</td>\n",
       "      <td>0.154900</td>\n",
       "      <td>0.011029</td>\n",
       "    </tr>\n",
       "  </tbody>\n",
       "</table>\n",
       "<p>5 rows × 27 columns</p>\n",
       "</div>"
      ],
      "text/plain": [
       "          department region  education gender recruitment_channel  \\\n",
       "0         Technology     26   0.001966      m            sourcing   \n",
       "1                 HR      4   0.002558      f               other   \n",
       "2  Sales & Marketing     13   0.001708      m               other   \n",
       "3        Procurement      2   0.000377      f               other   \n",
       "4            Finance     29   0.004678      m            sourcing   \n",
       "\n",
       "   no_of_trainings       age  previous_year_rating  length_of_service  \\\n",
       "0         0.000983  0.023587              0.000000           0.000983   \n",
       "1         0.001279  0.039655              0.003838           0.006396   \n",
       "2         0.000854  0.026467              0.000854           0.003415   \n",
       "3         0.000566  0.005849              0.000377           0.001698   \n",
       "4         0.002339  0.070175              0.009357           0.016374   \n",
       "\n",
       "   KPIs_met_more_than_80_percent                ...                 \\\n",
       "0                       0.000983                ...                  \n",
       "1                       0.000000                ...                  \n",
       "2                       0.000000                ...                  \n",
       "3                       0.000000                ...                  \n",
       "4                       0.000000                ...                  \n",
       "\n",
       "   joining_age  bin_age  bin_avg_training_score  promotion_chance  reg_count  \\\n",
       "0     0.022604        1                       5              high   0.993591   \n",
       "1     0.033259        3                       2               low   0.991375   \n",
       "2     0.023052        3                       2               low   0.996359   \n",
       "3     0.004151        3                       3            medium   0.999781   \n",
       "4     0.053801        2                       3        low_medium   0.968420   \n",
       "\n",
       "   mean_age_per_region mean_joining_age_per_region  \\\n",
       "0             0.033154                    0.027869   \n",
       "1             0.046475                    0.038277   \n",
       "2             0.030435                    0.025019   \n",
       "3             0.007312                    0.005969   \n",
       "4             0.073955                    0.062926   \n",
       "\n",
       "   mean_previous_year_rating_per_region mean_avg_training_score_per_region  \\\n",
       "0                              0.002953                           0.063747   \n",
       "1                              0.004324                           0.080408   \n",
       "2                              0.002710                           0.053111   \n",
       "3                              0.000591                           0.011929   \n",
       "4                              0.006701                           0.154900   \n",
       "\n",
       "  mean_length_of_service_per_region  \n",
       "0                          0.005285  \n",
       "1                          0.008198  \n",
       "2                          0.005416  \n",
       "3                          0.001343  \n",
       "4                          0.011029  \n",
       "\n",
       "[5 rows x 27 columns]"
      ]
     },
     "execution_count": 60,
     "metadata": {},
     "output_type": "execute_result"
    }
   ],
   "source": [
    "df_test[num_cols] = normalizer.fit_transform(df_test[num_cols])\n",
    "df_test.head()"
   ]
  },
  {
   "cell_type": "code",
   "execution_count": 61,
   "metadata": {
    "ExecuteTime": {
     "end_time": "2018-09-15T05:40:16.563326Z",
     "start_time": "2018-09-15T05:40:11.820238Z"
    }
   },
   "outputs": [
    {
     "name": "stderr",
     "output_type": "stream",
     "text": [
      "C:\\ProgramData\\Anaconda3\\lib\\site-packages\\statsmodels\\stats\\outliers_influence.py:181: RuntimeWarning: divide by zero encountered in double_scalars\n",
      "  vif = 1. / (1. - r_squared_i)\n"
     ]
    },
    {
     "data": {
      "text/plain": [
       "const                                   4.353502e+04\n",
       "no_of_trainings                         4.104262e+00\n",
       "age                                              inf\n",
       "previous_year_rating                    3.494831e+00\n",
       "length_of_service                                inf\n",
       "KPIs_met_more_than_80_percent           1.355360e+00\n",
       "awards_won_bool                         1.028833e+00\n",
       "avg_training_score                      1.469532e+01\n",
       "is_age_30                               6.019026e+00\n",
       "is_age_30_39                            4.614607e+00\n",
       "is_age_39_45                            2.591466e+00\n",
       "is_age_45                               3.015141e+00\n",
       "joining_age                                      inf\n",
       "reg_count                               1.527225e+01\n",
       "mean_age_per_region                              inf\n",
       "mean_joining_age_per_region                      inf\n",
       "mean_previous_year_rating_per_region    2.418972e+02\n",
       "mean_avg_training_score_per_region      4.220415e+02\n",
       "mean_length_of_service_per_region                inf\n",
       "dtype: float64"
      ]
     },
     "execution_count": 61,
     "metadata": {},
     "output_type": "execute_result"
    }
   ],
   "source": [
    "#################### VIC for Continuous Features ##########################\n",
    "\n",
    "from statsmodels.stats.outliers_influence import variance_inflation_factor\n",
    "from statsmodels.tools.tools import add_constant\n",
    "\n",
    "X = add_constant(df_raw[num_cols].iloc[:,1:])\n",
    "pd.Series([variance_inflation_factor(X.values, i) for i in range(X.shape[1])], index=X.columns)"
   ]
  },
  {
   "cell_type": "code",
   "execution_count": 73,
   "metadata": {
    "ExecuteTime": {
     "end_time": "2018-09-15T05:44:58.537901Z",
     "start_time": "2018-09-15T05:44:58.308176Z"
    }
   },
   "outputs": [],
   "source": [
    "df_raw.drop(cat_cols, axis=1, inplace=True)\n",
    "df_test.drop(cat_cols, axis=1, inplace=True)\n",
    "\n",
    "train_all = pd.concat([df_raw, dummy_train], axis=1)\n",
    "test_all = pd.concat([df_test, dummy_test], axis=1)"
   ]
  },
  {
   "cell_type": "code",
   "execution_count": 74,
   "metadata": {
    "ExecuteTime": {
     "end_time": "2018-09-15T05:44:59.559015Z",
     "start_time": "2018-09-15T05:44:59.341705Z"
    }
   },
   "outputs": [
    {
     "data": {
      "text/plain": [
       "((54808, 84), (23490, 84))"
      ]
     },
     "execution_count": 74,
     "metadata": {},
     "output_type": "execute_result"
    }
   ],
   "source": [
    "train_all.shape, test_all.shape"
   ]
  },
  {
   "cell_type": "code",
   "execution_count": 77,
   "metadata": {
    "ExecuteTime": {
     "end_time": "2018-09-15T05:48:06.110871Z",
     "start_time": "2018-09-15T05:47:55.963606Z"
    }
   },
   "outputs": [
    {
     "name": "stdout",
     "output_type": "stream",
     "text": [
      "('education', 2.6807222629270711)\n",
      "('no_of_trainings', 2.7006303484429064)\n",
      "('age', 6.1499829807096491)\n",
      "('previous_year_rating', 5.394392762980468)\n",
      "('length_of_service', 6.1949218991485022)\n",
      "('KPIs_met_more_than_80_percent', 5.4396756516265707)\n",
      "('awards_won_bool', 2.8411076407330653)\n",
      "('avg_training_score', 7.9218787141748788)\n",
      "('is_age_30', 0.80314493211120952)\n",
      "('is_age_30_39', 1.3173850817446546)\n",
      "('is_age_39_45', 0.66173541609123954)\n",
      "('is_age_45', 0.32295421178422412)\n",
      "('joining_age', 6.8002603198141554)\n",
      "('reg_count', 8.1269111662097178)\n",
      "('mean_age_per_region', 2.6707107147632301)\n",
      "('mean_joining_age_per_region', 2.598398754985737)\n",
      "('mean_previous_year_rating_per_region', 1.4140894848999219)\n",
      "('mean_avg_training_score_per_region', 3.1315744163000452)\n",
      "('mean_length_of_service_per_region', 1.7221517175781667)\n",
      "('department_Finance', 0.76025016491243258)\n",
      "('department_HR', 0.39584257939066331)\n",
      "('department_Legal', 0.22140642064580474)\n",
      "('department_Operations', 2.7511116903300152)\n",
      "('department_Procurement', 1.9530847277556873)\n",
      "('department_R&D', 0.30695440032463034)\n",
      "('department_Sales & Marketing', 2.3914798098574774)\n",
      "('department_Technology', 1.044152574753386)\n",
      "('region_10', 0.029324450809734833)\n",
      "('region_11', 0.044024039995606105)\n",
      "('region_12', 0.01696362991149386)\n",
      "('region_13', 0.068189296806663607)\n",
      "('region_14', 0.042432619661090631)\n",
      "('region_15', 0.053585406378968449)\n",
      "('region_16', 0.043802177970569608)\n",
      "('region_17', 0.066667394040104022)\n",
      "('region_18', 0.00076170627263315522)\n",
      "('region_19', 0.03505304677552535)\n",
      "('region_2', 0.047925862120192488)\n",
      "('region_20', 0.034185694337270742)\n",
      "('region_21', 0.014669945309561349)\n",
      "('region_22', 0.083508509150106006)\n",
      "('region_23', 0.073323077647171067)\n",
      "('region_24', 0.017471862774138584)\n",
      "('region_25', 0.059940693759993655)\n",
      "('region_26', 0.06194857484573954)\n",
      "('region_27', 0.055039304733388715)\n",
      "('region_28', 0.066559842892834939)\n",
      "('region_29', 0.046475912566782192)\n",
      "('region_3', 0.029976330521906538)\n",
      "('region_30', 0.042276828765003278)\n",
      "('region_31', 0.061961380753369849)\n",
      "('region_32', 0.028286212775545688)\n",
      "('region_33', 0.0046851269709223091)\n",
      "('region_34', 0.0075285297280966845)\n",
      "('region_4', 0.12983056393887471)\n",
      "('region_5', 0.021782913540163276)\n",
      "('region_6', 0.024800040476965803)\n",
      "('region_7', 0.073426308612046187)\n",
      "('region_8', 0.030528594564657278)\n",
      "('region_9', 0.0065697528073624277)\n",
      "('gender_m', 1.7450552471818168)\n",
      "('recruitment_channel_referred', 0.45489337569108257)\n",
      "('recruitment_channel_sourcing', 1.8558354365828966)\n",
      "('age_group_senior_aged', 0.12628156917156128)\n",
      "('age_group_young', 0.35345242263292354)\n",
      "('bin_age_2', 0.51402230382992364)\n",
      "('bin_age_3', 0.60292666733464673)\n",
      "('bin_age_4', 0.5503923373906815)\n",
      "('bin_age_5', 0.30129929749629075)\n",
      "('bin_age_6', 0.18593332047730757)\n",
      "('bin_age_7', 0.12210517332372907)\n",
      "('bin_age_8', 0.099733343441113231)\n",
      "('bin_age_9', 0.0)\n",
      "('bin_avg_training_score_2', 0.80310061293270651)\n",
      "('bin_avg_training_score_3', 0.9323665406464885)\n",
      "('bin_avg_training_score_4', 0.72063018666259482)\n",
      "('bin_avg_training_score_5', 0.42545261431333703)\n",
      "('bin_avg_training_score_6', 0.57556359883763619)\n",
      "('bin_avg_training_score_7', 0.66317662874619066)\n",
      "('bin_avg_training_score_8', 2.3898678327158827)\n",
      "('promotion_chance_low', 0.64415463081940461)\n",
      "('promotion_chance_low_medium', 0.69939111583440994)\n",
      "('promotion_chance_medium', 0.66130865788351179)\n",
      "('promotion_chance_very_high', 4.432640608843867)\n"
     ]
    }
   ],
   "source": [
    "# Feature importance using Random Forest\n",
    "\n",
    "from sklearn.ensemble import RandomForestClassifier\n",
    "\n",
    "# Create a random forest classifier\n",
    "clf = RandomForestClassifier(n_estimators=100, random_state=0, n_jobs=-1)\n",
    "\n",
    "# Train the classifier\n",
    "clf.fit(train_all, target)\n",
    "\n",
    "# Print the name and gini importance of each feature\n",
    "for feature in zip(train_all.columns, clf.feature_importances_*100):\n",
    "    print(feature)"
   ]
  },
  {
   "cell_type": "code",
   "execution_count": 80,
   "metadata": {
    "ExecuteTime": {
     "end_time": "2018-09-15T05:54:12.381066Z",
     "start_time": "2018-09-15T05:54:12.132179Z"
    }
   },
   "outputs": [],
   "source": [
    "from sklearn.model_selection import train_test_split\n",
    "X_train, X_test, y_train, y_test = train_test_split(train_all, target, test_size=0.3, random_state=124)"
   ]
  },
  {
   "cell_type": "code",
   "execution_count": 81,
   "metadata": {
    "ExecuteTime": {
     "end_time": "2018-09-15T05:54:12.668149Z",
     "start_time": "2018-09-15T05:54:12.412312Z"
    }
   },
   "outputs": [],
   "source": [
    "# Computing class weights for binary classification\n",
    "#weights = dict(1 - train_all.is_promoted.value_counts()/len(train_all))\n",
    "weights = {0.0: 0.08, 1.0: 0.92}"
   ]
  },
  {
   "cell_type": "code",
   "execution_count": 104,
   "metadata": {
    "ExecuteTime": {
     "end_time": "2018-09-15T05:59:47.170753Z",
     "start_time": "2018-09-15T05:59:45.460983Z"
    }
   },
   "outputs": [
    {
     "name": "stdout",
     "output_type": "stream",
     "text": [
      "[LibLinear]0    12101\n",
      "1     4342\n",
      "dtype: int64\n",
      "             precision    recall  f1-score   support\n",
      "\n",
      "          0       0.96      0.77      0.85     15101\n",
      "          1       0.19      0.61      0.29      1342\n",
      "\n",
      "avg / total       0.89      0.75      0.80     16443\n",
      "\n",
      "[[11574  3527]\n",
      " [  527   815]]\n"
     ]
    }
   ],
   "source": [
    "from sklearn.linear_model import LogisticRegression\n",
    "\n",
    "logit_clf = LogisticRegression(penalty='l2', C=5, tol=1e-4, max_iter=500, verbose=1, n_jobs=-1, class_weight=weights)\n",
    "logit_clf.fit(X_train, y_train)\n",
    "logit_clf.score(X_test, y_test)\n",
    "\n",
    "from sklearn.metrics import classification_report, confusion_matrix\n",
    "y = logit_clf.predict(X_test)\n",
    "print(pd.Series(y).value_counts())\n",
    "print(classification_report(y_test, y)) # target_names=['not_promoted', 'promoted']\n",
    "print(confusion_matrix(y_test, y))"
   ]
  },
  {
   "cell_type": "code",
   "execution_count": 105,
   "metadata": {
    "ExecuteTime": {
     "end_time": "2018-09-15T05:59:50.085474Z",
     "start_time": "2018-09-15T05:59:47.202752Z"
    }
   },
   "outputs": [
    {
     "name": "stdout",
     "output_type": "stream",
     "text": [
      "[LibLinear][LibLinear][LibLinear]"
     ]
    },
    {
     "data": {
      "text/plain": [
       "array([ 0.74309,  0.74978,  0.74292])"
      ]
     },
     "execution_count": 105,
     "metadata": {},
     "output_type": "execute_result"
    }
   ],
   "source": [
    "from sklearn.model_selection import cross_val_score\n",
    "from sklearn.model_selection import ShuffleSplit\n",
    "\n",
    "cv = ShuffleSplit(n_splits=3, test_size=0.3, random_state=0)\n",
    "scores = cross_val_score(logit_clf, X_train, y_train, cv=cv)\n",
    "scores"
   ]
  },
  {
   "cell_type": "code",
   "execution_count": 106,
   "metadata": {
    "ExecuteTime": {
     "end_time": "2018-09-15T05:59:50.535732Z",
     "start_time": "2018-09-15T05:59:50.135357Z"
    }
   },
   "outputs": [
    {
     "data": {
      "text/plain": [
       "array([0, 0, 0, ..., 0, 0, 1], dtype=int64)"
      ]
     },
     "execution_count": 106,
     "metadata": {},
     "output_type": "execute_result"
    }
   ],
   "source": [
    "pred = logit_clf.predict(test_all)\n",
    "pred"
   ]
  },
  {
   "cell_type": "code",
   "execution_count": 107,
   "metadata": {
    "ExecuteTime": {
     "end_time": "2018-09-15T05:59:51.019010Z",
     "start_time": "2018-09-15T05:59:50.612271Z"
    }
   },
   "outputs": [
    {
     "data": {
      "text/plain": [
       "0    17092\n",
       "1     6398\n",
       "dtype: int64"
      ]
     },
     "execution_count": 107,
     "metadata": {},
     "output_type": "execute_result"
    }
   ],
   "source": [
    "pd.Series(pred).value_counts(dropna=False)"
   ]
  },
  {
   "cell_type": "code",
   "execution_count": 111,
   "metadata": {
    "ExecuteTime": {
     "end_time": "2018-09-15T06:02:35.028003Z",
     "start_time": "2018-09-15T06:02:34.781259Z"
    }
   },
   "outputs": [],
   "source": [
    "from lightgbm import LGBMClassifier\n",
    "clf = LGBMClassifier(boosting_type='gbdt', num_leaves=80, max_depth=-1, learning_rate=0.01, n_estimators=1000, subsample_for_bin=1000, objective=\"xentropy\", min_split_gain=0.0,\\\n",
    "                        min_child_weight=0.01, min_child_samples=10, subsample=0.9, subsample_freq=1, colsample_bytree=0.7, reg_alpha=0.1, reg_lambda=0.1, random_state=1, n_jobs=4)\n"
   ]
  },
  {
   "cell_type": "code",
   "execution_count": 120,
   "metadata": {
    "ExecuteTime": {
     "end_time": "2018-09-15T06:06:25.436267Z",
     "start_time": "2018-09-15T06:06:19.024635Z"
    }
   },
   "outputs": [
    {
     "data": {
      "text/plain": [
       "LGBMClassifier(boosting_type='gbdt', class_weight=None, colsample_bytree=0.7,\n",
       "        learning_rate=0.01, max_depth=-1, min_child_samples=10,\n",
       "        min_child_weight=0.01, min_split_gain=0.0, n_estimators=1000,\n",
       "        n_jobs=4, num_leaves=80, objective='xentropy', random_state=1,\n",
       "        reg_alpha=0.1, reg_lambda=0.1, silent=True, subsample=0.9,\n",
       "        subsample_for_bin=1000, subsample_freq=1)"
      ]
     },
     "execution_count": 120,
     "metadata": {},
     "output_type": "execute_result"
    }
   ],
   "source": [
    "clf.fit(X_train, y_train)"
   ]
  },
  {
   "cell_type": "code",
   "execution_count": 122,
   "metadata": {
    "ExecuteTime": {
     "end_time": "2018-09-15T06:07:41.912308Z",
     "start_time": "2018-09-15T06:07:39.641594Z"
    }
   },
   "outputs": [],
   "source": [
    "val_preds = clf.predict_proba(X_test)[:,1]\n",
    "p_test = clf.predict_proba(test_all)[:,1]"
   ]
  },
  {
   "cell_type": "code",
   "execution_count": 124,
   "metadata": {
    "ExecuteTime": {
     "end_time": "2018-09-15T06:11:49.023084Z",
     "start_time": "2018-09-15T06:08:08.314795Z"
    }
   },
   "outputs": [
    {
     "name": "stderr",
     "output_type": "stream",
     "text": [
      "C:\\ProgramData\\Anaconda3\\lib\\site-packages\\sklearn\\metrics\\classification.py:538: RuntimeWarning: invalid value encountered in double_scalars\n",
      "  mcc = cov_ytyp / np.sqrt(cov_ytyt * cov_ypyp)\n"
     ]
    },
    {
     "name": "stdout",
     "output_type": "stream",
     "text": [
      "Best score:  0.50976  @ threshold  0.511860397358\n"
     ]
    }
   ],
   "source": [
    "import numpy as np\n",
    "from sklearn.metrics import matthews_corrcoef\n",
    "\n",
    "def find_matthews_threshold(p_valid, y_valid, try_all=False, verbose=False):\n",
    "    p_valid, y_valid = np.array(p_valid), np.array(y_valid)\n",
    "\n",
    "    best = 0\n",
    "    best_score = -2\n",
    "    totry = np.arange(0,1,0.01) if try_all is False else np.unique(p_valid)\n",
    "    for t in totry:\n",
    "        score = matthews_corrcoef(y_valid, p_valid > t)\n",
    "        if score > best_score:\n",
    "            best_score = score\n",
    "            best = t\n",
    "    if verbose is True: \n",
    "        print('Best score: ', round(best_score, 5), ' @ threshold ', best)\n",
    "\n",
    "    return best\n",
    "\n",
    "def best_threshold_submission(p_valid, y_valid, p_test, try_all=False, verbose=False):\n",
    "    p_test = np.array(p_test)\n",
    "    thresh = find_matthews_threshold(p_valid, y_valid, try_all, verbose)\n",
    "    return p_test > thresh\n",
    "\n",
    "submission_values = best_threshold_submission(val_preds, y_test, p_test, True, True)"
   ]
  },
  {
   "cell_type": "code",
   "execution_count": 114,
   "metadata": {
    "ExecuteTime": {
     "end_time": "2018-09-15T06:03:34.864505Z",
     "start_time": "2018-09-15T06:03:33.380822Z"
    }
   },
   "outputs": [
    {
     "data": {
      "text/plain": [
       "0    22899\n",
       "1      591\n",
       "dtype: int64"
      ]
     },
     "execution_count": 114,
     "metadata": {},
     "output_type": "execute_result"
    }
   ],
   "source": [
    "pd.Series(clf.predict(test_all)).value_counts()"
   ]
  },
  {
   "cell_type": "code",
   "execution_count": 125,
   "metadata": {
    "ExecuteTime": {
     "end_time": "2018-09-15T06:12:07.094210Z",
     "start_time": "2018-09-15T06:12:05.289397Z"
    }
   },
   "outputs": [
    {
     "data": {
      "text/plain": [
       "0    22910\n",
       "1      580\n",
       "dtype: int64"
      ]
     },
     "execution_count": 125,
     "metadata": {},
     "output_type": "execute_result"
    }
   ],
   "source": [
    "pd.Series(np.where(clf.predict_proba(test_all)[:,1]>=0.51,1,0)).value_counts()"
   ]
  },
  {
   "cell_type": "code",
   "execution_count": 115,
   "metadata": {
    "ExecuteTime": {
     "end_time": "2018-09-15T06:03:51.886224Z",
     "start_time": "2018-09-15T06:03:51.465375Z"
    }
   },
   "outputs": [],
   "source": [
    "subs = pd.read_csv('sample_submission.csv')"
   ]
  },
  {
   "cell_type": "code",
   "execution_count": 128,
   "metadata": {
    "ExecuteTime": {
     "end_time": "2018-09-15T06:12:37.145301Z",
     "start_time": "2018-09-15T06:12:36.893366Z"
    }
   },
   "outputs": [],
   "source": [
    "subs['is_promoted'] = submission_values*1"
   ]
  },
  {
   "cell_type": "code",
   "execution_count": 129,
   "metadata": {
    "ExecuteTime": {
     "end_time": "2018-09-15T06:12:51.608237Z",
     "start_time": "2018-09-15T06:12:51.079512Z"
    }
   },
   "outputs": [],
   "source": [
    "subs.to_csv('lgb.csv', index=None)"
   ]
  }
 ],
 "metadata": {
  "kernelspec": {
   "display_name": "Python 3",
   "language": "python",
   "name": "python3"
  },
  "language_info": {
   "codemirror_mode": {
    "name": "ipython",
    "version": 3
   },
   "file_extension": ".py",
   "mimetype": "text/x-python",
   "name": "python",
   "nbconvert_exporter": "python",
   "pygments_lexer": "ipython3",
   "version": "3.6.3"
  },
  "nbTranslate": {
   "displayLangs": [
    "*"
   ],
   "hotkey": "alt-t",
   "langInMainMenu": true,
   "sourceLang": "en",
   "targetLang": "fr",
   "useGoogleTranslate": true
  },
  "toc": {
   "base_numbering": 1,
   "nav_menu": {},
   "number_sections": true,
   "sideBar": true,
   "skip_h1_title": false,
   "title_cell": "Table of Contents",
   "title_sidebar": "Contents",
   "toc_cell": false,
   "toc_position": {},
   "toc_section_display": true,
   "toc_window_display": false
  }
 },
 "nbformat": 4,
 "nbformat_minor": 2
}
