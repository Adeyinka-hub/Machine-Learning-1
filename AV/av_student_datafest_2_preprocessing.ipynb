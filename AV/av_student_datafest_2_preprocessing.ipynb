{
 "cells": [
  {
   "cell_type": "markdown",
   "metadata": {},
   "source": [
    "## imports"
   ]
  },
  {
   "cell_type": "code",
   "execution_count": 1,
   "metadata": {
    "ExecuteTime": {
     "end_time": "2018-07-12T12:01:53.180672Z",
     "start_time": "2018-07-12T12:01:43.774762Z"
    }
   },
   "outputs": [],
   "source": [
    "%load_ext autoreload\n",
    "%autoreload 2\n",
    "\n",
    "%matplotlib inline"
   ]
  },
  {
   "cell_type": "code",
   "execution_count": 2,
   "metadata": {
    "ExecuteTime": {
     "end_time": "2018-07-12T12:02:23.752551Z",
     "start_time": "2018-07-12T12:01:53.180672Z"
    }
   },
   "outputs": [],
   "source": [
    "import time\n",
    "import xgboost as xgb\n",
    "import lightgbm as lgb\n",
    "import category_encoders as cat_ed\n",
    "import gc, mlcrate, glob\n",
    "\n",
    "from fastai.imports import *\n",
    "from fastai.structured import *\n",
    "from pandas_summary import DataFrameSummary\n",
    "from sklearn.ensemble import RandomForestClassifier, ExtraTreesClassifier\n",
    "from IPython.display import display\n",
    "from catboost import CatBoostClassifier\n",
    "from scipy.cluster import hierarchy as hc\n",
    "from collections import Counter\n",
    "\n",
    "from sklearn import metrics\n",
    "from sklearn.linear_model import LogisticRegression\n",
    "from sklearn.model_selection import train_test_split\n",
    "from sklearn.metrics import mean_squared_error\n",
    "from sklearn.metrics import  roc_auc_score, log_loss\n",
    "from sklearn.model_selection import KFold, StratifiedKFold\n",
    "from sklearn.model_selection import GridSearchCV\n",
    "from sklearn.decomposition import PCA, TruncatedSVD, FastICA, FactorAnalysis\n",
    "from sklearn.random_projection import GaussianRandomProjection, SparseRandomProjection\n",
    "from sklearn.cluster import KMeans\n",
    "\n",
    "from sklearn.metrics import accuracy_score, log_loss\n",
    "from sklearn.neighbors import KNeighborsClassifier\n",
    "from sklearn.tree import DecisionTreeClassifier\n",
    "from sklearn.ensemble import AdaBoostClassifier, GradientBoostingClassifier\n",
    "from sklearn.naive_bayes import GaussianNB\n",
    "from sklearn.discriminant_analysis import QuadraticDiscriminantAnalysis\n",
    "from sklearn.neural_network import MLPClassifier\n",
    "from sklearn.gaussian_process import GaussianProcessClassifier\n",
    "from sklearn.gaussian_process.kernels import RBF\n",
    "\n",
    "# will ignore all warning from sklearn, seaborn etc..\n",
    "def ignore_warn(*args, **kwargs):\n",
    "    pass\n",
    "warnings.warn = ignore_warn\n",
    "\n",
    "pd.option_context(\"display.max_rows\", 20);\n",
    "pd.option_context(\"display.max_columns\", 100);"
   ]
  },
  {
   "cell_type": "code",
   "execution_count": 3,
   "metadata": {
    "ExecuteTime": {
     "end_time": "2018-07-12T12:02:23.934276Z",
     "start_time": "2018-07-12T12:02:23.752551Z"
    }
   },
   "outputs": [
    {
     "data": {
      "text/plain": [
       "'D:\\\\Github\\\\fastai\\\\courses\\\\ml1'"
      ]
     },
     "execution_count": 3,
     "metadata": {},
     "output_type": "execute_result"
    }
   ],
   "source": [
    "PATH = os.getcwd();\n",
    "PATH"
   ]
  },
  {
   "cell_type": "code",
   "execution_count": 167,
   "metadata": {
    "ExecuteTime": {
     "end_time": "2018-07-11T18:12:51.296934Z",
     "start_time": "2018-07-11T18:12:50.910015Z"
    }
   },
   "outputs": [],
   "source": [
    "# df_raw_1 = pd.read_csv(f'{PATH}\\\\AV_Stud_2\\\\train.csv', low_memory=False)\n",
    "# df_test_1 = pd.read_csv(f'{PATH}\\\\AV_Stud_2\\\\test.csv', low_memory=False)\n",
    "\n",
    "# df_raw['last_new_job'] = df_raw_1['last_new_job']\n",
    "# df_test['last_new_job'] = df_test_1['last_new_job']\n",
    "\n",
    "# del df_raw_1, df_test_1"
   ]
  },
  {
   "cell_type": "code",
   "execution_count": 27,
   "metadata": {
    "ExecuteTime": {
     "end_time": "2018-07-12T12:15:00.649586Z",
     "start_time": "2018-07-12T12:14:59.967081Z"
    }
   },
   "outputs": [],
   "source": [
    "# df_raw = pd.read_csv(f'{PATH}\\\\AV_Stud_2\\\\train.csv', low_memory=False)\n",
    "# df_test = pd.read_csv(f'{PATH}\\\\AV_Stud_2\\\\test.csv', low_memory=False)\n",
    "\n",
    "# stack_train = pd.read_csv(f'{PATH}\\\\AV_Stud_2\\\\stack_train.csv')\n",
    "# stack_test = pd.read_csv(f'{PATH}\\\\AV_Stud_2\\\\stack_test.csv')\n",
    "\n",
    "# stack_train_2 = pd.read_csv(f'{PATH}\\\\AV_Stud_2\\\\stack_train_2.csv')\n",
    "# stack_test_2 = pd.read_csv(f'{PATH}\\\\AV_Stud_2\\\\stack_test_2.csv')\n",
    "train_67 = np.load(f'{PATH}\\\\AV_Stud_2\\\\train_67.npy')\n",
    "test_67 = np.load(f'{PATH}\\\\AV_Stud_2\\\\test_67.npy')\n",
    "\n",
    "# drop enrollee id"
   ]
  },
  {
   "cell_type": "code",
   "execution_count": 10,
   "metadata": {
    "ExecuteTime": {
     "end_time": "2018-07-12T12:07:57.179923Z",
     "start_time": "2018-07-12T12:07:56.839639Z"
    }
   },
   "outputs": [],
   "source": [
    "target = stack_train.target\n",
    "stack_train.drop('target', axis=1, inplace=True)"
   ]
  },
  {
   "cell_type": "markdown",
   "metadata": {
    "heading_collapsed": true
   },
   "source": [
    "## cleaning a bit"
   ]
  },
  {
   "cell_type": "code",
   "execution_count": 5,
   "metadata": {
    "ExecuteTime": {
     "end_time": "2018-07-12T05:35:27.997963Z",
     "start_time": "2018-07-12T05:35:27.618656Z"
    },
    "hidden": true
   },
   "outputs": [],
   "source": [
    "target = df_raw.target.values\n",
    "drop_col = ['enrollee_id']\n",
    "df_raw.drop(drop_col, axis=1,inplace=True)\n",
    "df_test.drop(drop_col, axis=1, inplace=True)"
   ]
  },
  {
   "cell_type": "code",
   "execution_count": 6,
   "metadata": {
    "ExecuteTime": {
     "end_time": "2018-07-12T05:35:32.806427Z",
     "start_time": "2018-07-12T05:35:32.592696Z"
    },
    "hidden": true
   },
   "outputs": [],
   "source": [
    "cols = ['city', 'city_development_index', 'gender',\n",
    "       'relevent_experience', 'enrolled_university', 'enrolled_university_degree',\n",
    "       'major_discipline', 'experience', 'company_size', 'company_type',\n",
    "       'last_new_job', 'training_hours', 'target']\n",
    "df_raw.columns = cols\n",
    "df_test.columns = cols[:-1]"
   ]
  },
  {
   "cell_type": "code",
   "execution_count": 7,
   "metadata": {
    "ExecuteTime": {
     "end_time": "2018-07-12T05:35:34.243862Z",
     "start_time": "2018-07-12T05:35:33.784164Z"
    },
    "collapsed": true,
    "hidden": true
   },
   "outputs": [
    {
     "data": {
      "text/html": [
       "<div>\n",
       "<style>\n",
       "    .dataframe thead tr:only-child th {\n",
       "        text-align: right;\n",
       "    }\n",
       "\n",
       "    .dataframe thead th {\n",
       "        text-align: left;\n",
       "    }\n",
       "\n",
       "    .dataframe tbody tr th {\n",
       "        vertical-align: top;\n",
       "    }\n",
       "</style>\n",
       "<table border=\"1\" class=\"dataframe\">\n",
       "  <thead>\n",
       "    <tr style=\"text-align: right;\">\n",
       "      <th></th>\n",
       "      <th>city</th>\n",
       "      <th>city_development_index</th>\n",
       "      <th>gender</th>\n",
       "      <th>relevent_experience</th>\n",
       "      <th>enrolled_university</th>\n",
       "      <th>enrolled_university_degree</th>\n",
       "      <th>major_discipline</th>\n",
       "      <th>experience</th>\n",
       "      <th>company_size</th>\n",
       "      <th>company_type</th>\n",
       "      <th>last_new_job</th>\n",
       "      <th>training_hours</th>\n",
       "      <th>target</th>\n",
       "    </tr>\n",
       "  </thead>\n",
       "  <tbody>\n",
       "    <tr>\n",
       "      <th>0</th>\n",
       "      <td>city_149</td>\n",
       "      <td>0.689</td>\n",
       "      <td>Male</td>\n",
       "      <td>Has relevent experience</td>\n",
       "      <td>no_enrollment</td>\n",
       "      <td>Graduate</td>\n",
       "      <td>STEM</td>\n",
       "      <td>3</td>\n",
       "      <td>100-500</td>\n",
       "      <td>Pvt Ltd</td>\n",
       "      <td>1</td>\n",
       "      <td>106</td>\n",
       "      <td>0</td>\n",
       "    </tr>\n",
       "    <tr>\n",
       "      <th>1</th>\n",
       "      <td>city_83</td>\n",
       "      <td>0.923</td>\n",
       "      <td>Male</td>\n",
       "      <td>Has relevent experience</td>\n",
       "      <td>no_enrollment</td>\n",
       "      <td>Graduate</td>\n",
       "      <td>STEM</td>\n",
       "      <td>14</td>\n",
       "      <td>&lt;10</td>\n",
       "      <td>Funded Startup</td>\n",
       "      <td>1</td>\n",
       "      <td>69</td>\n",
       "      <td>0</td>\n",
       "    </tr>\n",
       "  </tbody>\n",
       "</table>\n",
       "</div>"
      ],
      "text/plain": [
       "       city  city_development_index gender      relevent_experience  \\\n",
       "0  city_149                   0.689   Male  Has relevent experience   \n",
       "1   city_83                   0.923   Male  Has relevent experience   \n",
       "\n",
       "  enrolled_university enrolled_university_degree major_discipline experience  \\\n",
       "0       no_enrollment                   Graduate             STEM          3   \n",
       "1       no_enrollment                   Graduate             STEM         14   \n",
       "\n",
       "  company_size    company_type last_new_job  training_hours  target  \n",
       "0      100-500         Pvt Ltd            1             106       0  \n",
       "1          <10  Funded Startup            1              69       0  "
      ]
     },
     "execution_count": 7,
     "metadata": {},
     "output_type": "execute_result"
    }
   ],
   "source": [
    "df_raw.head(2)"
   ]
  },
  {
   "cell_type": "code",
   "execution_count": 8,
   "metadata": {
    "ExecuteTime": {
     "end_time": "2018-07-12T05:35:47.478877Z",
     "start_time": "2018-07-12T05:35:46.913830Z"
    },
    "collapsed": true,
    "hidden": true
   },
   "outputs": [
    {
     "name": "stdout",
     "output_type": "stream",
     "text": [
      "city\n",
      "123\n",
      "------------------------------------------------------------------------------------------------------------------------\n",
      "city_development_index\n",
      "93\n",
      "------------------------------------------------------------------------------------------------------------------------\n",
      "gender\n",
      "3 [('Female', 1188), ('Male', 12884), ('Other', 189)]\n",
      "------------------------------------------------------------------------------------------------------------------------\n",
      "relevent_experience\n",
      "2 [('Has relevent experience', 13596), ('No relevent experience', 4763)]\n",
      "------------------------------------------------------------------------------------------------------------------------\n",
      "enrolled_university\n",
      "3 [('Full time course', 3187), ('Part time course', 1171), ('no_enrollment', 13659)]\n",
      "------------------------------------------------------------------------------------------------------------------------\n",
      "enrolled_university_degree\n",
      "5 [('Graduate', 10769), ('High School', 2032), ('Masters', 4319), ('Phd', 459), ('Primary School', 323)]\n",
      "------------------------------------------------------------------------------------------------------------------------\n",
      "major_discipline\n",
      "6 [('Arts', 239), ('Business Degree', 307), ('Humanities', 688), ('No Major', 206), ('Other', 343), ('STEM', 13738)]\n",
      "------------------------------------------------------------------------------------------------------------------------\n",
      "experience\n",
      "22\n",
      "------------------------------------------------------------------------------------------------------------------------\n",
      "company_size\n",
      "8 [('10/49', 1466), ('100-500', 2698), ('1000-4999', 1399), ('10000+', 2044), ('50-99', 3120), ('500-999', 902), ('5000-9999', 591), ('<10', 1360)]\n",
      "------------------------------------------------------------------------------------------------------------------------\n",
      "company_type\n",
      "6 [('Early Stage Startup', 582), ('Funded Startup', 1038), ('NGO', 534), ('Other', 119), ('Public Sector', 996), ('Pvt Ltd', 10051)]\n",
      "------------------------------------------------------------------------------------------------------------------------\n",
      "last_new_job\n",
      "6 [('1', 7567), ('2', 2835), ('3', 1027), ('4', 1038), ('>4', 3339), ('never', 2186)]\n",
      "------------------------------------------------------------------------------------------------------------------------\n",
      "training_hours\n",
      "241\n",
      "------------------------------------------------------------------------------------------------------------------------\n",
      "target\n",
      "2 [(0, 15934), (1, 2425)]\n",
      "------------------------------------------------------------------------------------------------------------------------\n"
     ]
    }
   ],
   "source": [
    "for c in df_raw.columns:\n",
    "    n = df_raw[c].nunique()\n",
    "    print(c)\n",
    "    if n <= 8:\n",
    "        print(n, sorted(df_raw[c].value_counts().to_dict().items()))\n",
    "    else:\n",
    "        print(n)\n",
    "    print(120 * '-')"
   ]
  },
  {
   "cell_type": "markdown",
   "metadata": {
    "heading_collapsed": true
   },
   "source": [
    "## city and city_dev col's"
   ]
  },
  {
   "cell_type": "code",
   "execution_count": 10,
   "metadata": {
    "ExecuteTime": {
     "end_time": "2018-07-12T05:37:01.933763Z",
     "start_time": "2018-07-12T05:37:01.683974Z"
    },
    "hidden": true
   },
   "outputs": [],
   "source": [
    "#clean city split\n",
    "df_raw['city'] = df_raw['city'].str.split('_',expand=True)[1]\n",
    "df_raw['city'] = df_raw['city'].astype('int32')\n",
    "\n",
    "df_test['city'] = df_test['city'].str.split('_',expand=True)[1]\n",
    "df_test['city'] = df_test['city'].astype('int32')"
   ]
  },
  {
   "cell_type": "code",
   "execution_count": 28,
   "metadata": {
    "ExecuteTime": {
     "end_time": "2018-07-12T05:48:12.137026Z",
     "start_time": "2018-07-12T05:48:11.878255Z"
    },
    "hidden": true
   },
   "outputs": [],
   "source": [
    "df_raw['is_city_in_103_21_116_114_160'] = np.full(df_raw.shape[0], 0)\n",
    "my_query = df_raw[(df_raw['city'] == 103)|(df_raw['city'] == 21) | (df_raw['city'] == 16) | (df_raw['city'] == 114) | (df_raw['city'] == 160)].index\n",
    "df_raw.iloc[my_query, -1] = 1"
   ]
  },
  {
   "cell_type": "code",
   "execution_count": 30,
   "metadata": {
    "ExecuteTime": {
     "end_time": "2018-07-12T05:48:43.086643Z",
     "start_time": "2018-07-12T05:48:42.887390Z"
    },
    "hidden": true
   },
   "outputs": [],
   "source": [
    "df_test['is_city_in_103_21_116_114_160'] = np.full(df_test.shape[0], 0)\n",
    "\n",
    "my_query = df_test[(df_test['city'] == 103)|(df_test['city'] == 21) | (df_test['city'] == 16) | (df_test['city'] == 114) | (df_test['city'] == 160)].index\n",
    "df_test.iloc[my_query, -1] = 1"
   ]
  },
  {
   "cell_type": "code",
   "execution_count": 32,
   "metadata": {
    "ExecuteTime": {
     "end_time": "2018-07-12T05:49:14.346863Z",
     "start_time": "2018-07-12T05:49:13.980706Z"
    },
    "hidden": true
   },
   "outputs": [
    {
     "data": {
      "image/png": "[encoded data removed]",
      "text/plain": [
       "<matplotlib.figure.Figure at 0x23d9d7920f0>"
      ]
     },
     "metadata": {},
     "output_type": "display_data"
    }
   ],
   "source": [
    "sns.countplot(df_raw[(df_raw['city'] == 103)|(df_raw['city'] == 21) | (df_raw['city'] == 16) |\\\n",
    "       (df_raw['city'] == 114) | (df_raw['city'] == 160)]['city'], data=df_raw, hue='target');"
   ]
  },
  {
   "cell_type": "code",
   "execution_count": 43,
   "metadata": {
    "ExecuteTime": {
     "end_time": "2018-07-12T06:04:20.111733Z",
     "start_time": "2018-07-12T06:04:19.889709Z"
    },
    "collapsed": true,
    "hidden": true
   },
   "outputs": [
    {
     "data": {
      "text/plain": [
       "0.920     5185\n",
       "0.624     6857\n",
       "0.910     8511\n",
       "0.926     9983\n",
       "0.698    10638\n",
       "0.897    11262\n",
       "0.939    11806\n",
       "0.855    12261\n",
       "0.924    12579\n",
       "0.804    12892\n",
       "0.884    13173\n",
       "0.887    13444\n",
       "0.754    13708\n",
       "0.913    13925\n",
       "0.899    14119\n",
       "0.802    14307\n",
       "0.925    14485\n",
       "0.893    14660\n",
       "0.878    14816\n",
       "0.743    14968\n",
       "Name: city_development_index, dtype: int64"
      ]
     },
     "execution_count": 43,
     "metadata": {},
     "output_type": "execute_result"
    }
   ],
   "source": [
    "df_raw['city_development_index'].value_counts(ascending=False).head(20).cumsum()"
   ]
  },
  {
   "cell_type": "code",
   "execution_count": 44,
   "metadata": {
    "ExecuteTime": {
     "end_time": "2018-07-12T06:11:05.264477Z",
     "start_time": "2018-07-12T06:11:04.649598Z"
    },
    "hidden": true
   },
   "outputs": [],
   "source": [
    "df_raw['is_dev_20'] = np.zeros(df_raw.shape[0])\n",
    "my_query = df_raw.query('city_development_index<=.2').index\n",
    "df_raw.iloc[my_query, -1] = 1\n",
    "\n",
    "df_raw['is_dev_21_30'] = np.zeros(df_raw.shape[0])\n",
    "my_query = df_raw.query('city_development_index>=.21 & city_development_index<=.3').index\n",
    "df_raw.iloc[my_query, -1] = 1\n",
    "\n",
    "df_raw['is_dev_31_40'] = np.zeros(df_raw.shape[0])\n",
    "my_query = df_raw.query('city_development_index>=.31 & city_development_index<=.4').index\n",
    "df_raw.iloc[my_query, -1] = 1\n",
    "\n",
    "df_raw['is_dev_41_50'] = np.zeros(df_raw.shape[0])\n",
    "my_query = df_raw.query('city_development_index>=.41 & city_development_index<=.5').index\n",
    "df_raw.iloc[my_query, -1] = 1\n",
    "\n",
    "df_raw['is_dev_51_60'] = np.zeros(df_raw.shape[0])\n",
    "my_query = df_raw.query('city_development_index>=.51 & city_development_index<=.6').index\n",
    "df_raw.iloc[my_query, -1] = 1\n",
    "\n",
    "df_raw['is_dev_61_70'] = np.zeros(df_raw.shape[0])\n",
    "my_query = df_raw.query('city_development_index>=.61 & city_development_index<=.7').index\n",
    "df_raw.iloc[my_query, -1] = 1\n",
    "\n",
    "df_raw['is_dev_71_80'] = np.zeros(df_raw.shape[0])\n",
    "my_query = df_raw.query('city_development_index>=.71 & city_development_index<=.8').index\n",
    "df_raw.iloc[my_query, -1] = 1\n",
    "\n",
    "df_raw['is_dev_81_90'] = np.zeros(df_raw.shape[0])\n",
    "my_query = df_raw.query('city_development_index>=.81 & city_development_index<=.9').index\n",
    "df_raw.iloc[my_query, -1] = 1\n",
    "\n",
    "df_raw['is_dev_91'] = np.zeros(df_raw.shape[0])\n",
    "my_query = df_raw.query('city_development_index>=.91').index\n",
    "df_raw.iloc[my_query, -1] = 1"
   ]
  },
  {
   "cell_type": "code",
   "execution_count": 45,
   "metadata": {
    "ExecuteTime": {
     "end_time": "2018-07-12T06:11:06.780492Z",
     "start_time": "2018-07-12T06:11:06.476314Z"
    },
    "hidden": true
   },
   "outputs": [],
   "source": [
    "df_test['is_dev_20'] = np.zeros(df_test.shape[0])\n",
    "my_query = df_test.query('city_development_index<=.2').index\n",
    "df_test.iloc[my_query, -1] = 1\n",
    "\n",
    "df_test['is_dev_21_30'] = np.zeros(df_test.shape[0])\n",
    "my_query = df_test.query('city_development_index>=.21 & city_development_index<=.3').index\n",
    "df_test.iloc[my_query, -1] = 1\n",
    "\n",
    "df_test['is_dev_31_40'] = np.zeros(df_test.shape[0])\n",
    "my_query = df_test.query('city_development_index>=.31 & city_development_index<=.4').index\n",
    "df_test.iloc[my_query, -1] = 1\n",
    "\n",
    "df_test['is_dev_41_50'] = np.zeros(df_test.shape[0])\n",
    "my_query = df_test.query('city_development_index>=.41 & city_development_index<=.5').index\n",
    "df_test.iloc[my_query, -1] = 1\n",
    "\n",
    "df_test['is_dev_51_60'] = np.zeros(df_test.shape[0])\n",
    "my_query = df_test.query('city_development_index>=.51 & city_development_index<=.6').index\n",
    "df_test.iloc[my_query, -1] = 1\n",
    "\n",
    "df_test['is_dev_61_70'] = np.zeros(df_test.shape[0])\n",
    "my_query = df_test.query('city_development_index>=.61 & city_development_index<=.7').index\n",
    "df_test.iloc[my_query, -1] = 1\n",
    "\n",
    "df_test['is_dev_71_80'] = np.zeros(df_test.shape[0])\n",
    "my_query = df_test.query('city_development_index>=.71 & city_development_index<=.8').index\n",
    "df_test.iloc[my_query, -1] = 1\n",
    "\n",
    "df_test['is_dev_81_90'] = np.zeros(df_test.shape[0])\n",
    "my_query = df_test.query('city_development_index>=.81 & city_development_index<=.9').index\n",
    "df_test.iloc[my_query, -1] = 1\n",
    "\n",
    "df_test['is_dev_91'] = np.zeros(df_test.shape[0])\n",
    "my_query = df_test.query('city_development_index>=.91').index\n",
    "df_test.iloc[my_query, -1] = 1"
   ]
  },
  {
   "cell_type": "code",
   "execution_count": 49,
   "metadata": {
    "ExecuteTime": {
     "end_time": "2018-07-12T06:12:11.515448Z",
     "start_time": "2018-07-12T06:12:11.225905Z"
    },
    "hidden": true
   },
   "outputs": [
    {
     "data": {
      "text/plain": [
       "((18359, 23), (15021, 22))"
      ]
     },
     "execution_count": 49,
     "metadata": {},
     "output_type": "execute_result"
    }
   ],
   "source": [
    "df_raw.shape, df_test.shape"
   ]
  },
  {
   "cell_type": "markdown",
   "metadata": {
    "heading_collapsed": true
   },
   "source": [
    "## company_size col"
   ]
  },
  {
   "cell_type": "code",
   "execution_count": 56,
   "metadata": {
    "ExecuteTime": {
     "end_time": "2018-07-12T06:15:01.749890Z",
     "start_time": "2018-07-12T06:15:01.288243Z"
    },
    "hidden": true
   },
   "outputs": [],
   "source": [
    "# merge both df's\n",
    "df_raw['min_company_size'] = np.full(df_raw.shape[0], -1)\n",
    "df_raw['max_company_size'] = np.full(df_raw.shape[0], -1)\n",
    "\n",
    "my_query = df_raw[df_raw['company_size'] =='<10'].index\n",
    "df_raw.iloc[my_query, -2] = 0\n",
    "df_raw.iloc[my_query, -1] = 9\n",
    "\n",
    "my_query = df_raw[df_raw['company_size'] =='10/49'].index\n",
    "df_raw.iloc[my_query, -2] = 10\n",
    "df_raw.iloc[my_query, -1] = 49\n",
    "\n",
    "my_query = df_raw[df_raw['company_size'] =='50-99'].index\n",
    "df_raw.iloc[my_query, -2] = 50\n",
    "df_raw.iloc[my_query, -1] = 99\n",
    "\n",
    "my_query = df_raw[df_raw['company_size'] =='100-500'].index\n",
    "df_raw.iloc[my_query, -2] = 100\n",
    "df_raw.iloc[my_query, -1] = 500\n",
    "\n",
    "my_query = df_raw[df_raw['company_size'] =='500-999'].index\n",
    "df_raw.iloc[my_query, -2] = 500\n",
    "df_raw.iloc[my_query, -1] = 999\n",
    "\n",
    "my_query = df_raw[df_raw['company_size'] =='1000-4999'].index\n",
    "df_raw.iloc[my_query, -2] = 1000\n",
    "df_raw.iloc[my_query, -1] = 4999\n",
    "\n",
    "my_query = df_raw[df_raw['company_size'] =='5000-9999'].index\n",
    "df_raw.iloc[my_query, -2] = 5000\n",
    "df_raw.iloc[my_query, -1] = 9999\n",
    "\n",
    "my_query = df_raw[df_raw['company_size'] =='10000+'].index\n",
    "df_raw.iloc[my_query, -2] = 10000\n",
    "df_raw.iloc[my_query, -1] = 15000\n",
    "\n",
    "########################################################################\n",
    "\n",
    "df_test['min_company_size'] = np.full(df_test.shape[0], -1)\n",
    "df_test['max_company_size'] = np.full(df_test.shape[0], -1)\n",
    "\n",
    "my_query = df_test[df_test['company_size'] =='<10'].index\n",
    "df_test.iloc[my_query, -2] = 0\n",
    "df_test.iloc[my_query, -1] = 9\n",
    "\n",
    "my_query = df_test[df_test['company_size'] =='10/49'].index\n",
    "df_test.iloc[my_query, -2] = 10\n",
    "df_test.iloc[my_query, -1] = 49\n",
    "\n",
    "my_query = df_test[df_test['company_size'] =='50-99'].index\n",
    "df_test.iloc[my_query, -2] = 50\n",
    "df_test.iloc[my_query, -1] = 99\n",
    "\n",
    "my_query = df_test[df_test['company_size'] =='100-500'].index\n",
    "df_test.iloc[my_query, -2] = 100\n",
    "df_test.iloc[my_query, -1] = 500\n",
    "\n",
    "my_query = df_test[df_test['company_size'] =='500-999'].index\n",
    "df_test.iloc[my_query, -2] = 500\n",
    "df_test.iloc[my_query, -1] = 999\n",
    "\n",
    "my_query = df_test[df_test['company_size'] =='1000-4999'].index\n",
    "df_test.iloc[my_query, -2] = 1000\n",
    "df_test.iloc[my_query, -1] = 4999\n",
    "\n",
    "my_query = df_test[df_test['company_size'] =='5000-9999'].index\n",
    "df_test.iloc[my_query, -2] = 5000\n",
    "df_test.iloc[my_query, -1] = 9999\n",
    "\n",
    "my_query = df_test[df_test['company_size'] =='10000+'].index\n",
    "df_test.iloc[my_query, -2] = 10000\n",
    "df_test.iloc[my_query, -1] = 15000\n",
    "\n",
    "# df_raw.drop('company_size', axis=1, inplace=True)\n",
    "# df_test.drop('company_size', axis=1, inplace=True)\n",
    "\n",
    "# fill na's now wrt to exp level (to do) ####################################################\n",
    "\n",
    "#df_raw['company_size'].fillna(df_raw.groupby('experience')['company_size'].tranform('median'))\n",
    "drop_col.append('company_size')"
   ]
  },
  {
   "cell_type": "code",
   "execution_count": 57,
   "metadata": {
    "ExecuteTime": {
     "end_time": "2018-07-12T06:15:02.053735Z",
     "start_time": "2018-07-12T06:15:01.749890Z"
    },
    "hidden": true
   },
   "outputs": [
    {
     "data": {
      "text/plain": [
       "<matplotlib.axes._subplots.AxesSubplot at 0x23d9e244b38>"
      ]
     },
     "execution_count": 57,
     "metadata": {},
     "output_type": "execute_result"
    },
    {
     "data": {
      "image/png": "[encoded data removed]",
      "text/plain": [
       "<matplotlib.figure.Figure at 0x23d9d756ba8>"
      ]
     },
     "metadata": {},
     "output_type": "display_data"
    }
   ],
   "source": [
    "sns.countplot(data=df_raw,hue='target', x = 'min_company_size')"
   ]
  },
  {
   "cell_type": "code",
   "execution_count": 58,
   "metadata": {
    "ExecuteTime": {
     "end_time": "2018-07-12T06:15:04.272868Z",
     "start_time": "2018-07-12T06:15:03.845958Z"
    },
    "hidden": true
   },
   "outputs": [
    {
     "data": {
      "text/plain": [
       "<matplotlib.axes._subplots.AxesSubplot at 0x23d9e26b7f0>"
      ]
     },
     "execution_count": 58,
     "metadata": {},
     "output_type": "execute_result"
    },
    {
     "data": {
      "image/png": "[encoded data removed]",
      "text/plain": [
       "<matplotlib.figure.Figure at 0x23d9e1e3240>"
      ]
     },
     "metadata": {},
     "output_type": "display_data"
    }
   ],
   "source": [
    "sns.countplot(data=df_raw,hue='target', x = 'max_company_size')"
   ]
  },
  {
   "cell_type": "code",
   "execution_count": null,
   "metadata": {
    "hidden": true
   },
   "outputs": [],
   "source": [
    "# df_raw['company_size'].str.split('-', expand=True)"
   ]
  },
  {
   "cell_type": "code",
   "execution_count": null,
   "metadata": {
    "ExecuteTime": {
     "end_time": "2018-07-11T17:17:54.836010Z",
     "start_time": "2018-07-11T17:17:54.427654Z"
    },
    "hidden": true
   },
   "outputs": [],
   "source": [
    "# df_raw[df_raw['company_size'] =='10/49']['company_size'].str.split('/', expand=True)[1]"
   ]
  },
  {
   "cell_type": "markdown",
   "metadata": {},
   "source": [
    "## last_new_job col"
   ]
  },
  {
   "cell_type": "code",
   "execution_count": 62,
   "metadata": {
    "ExecuteTime": {
     "end_time": "2018-07-12T06:16:46.267348Z",
     "start_time": "2018-07-12T06:16:46.024632Z"
    },
    "scrolled": true
   },
   "outputs": [],
   "source": [
    "df_raw['last_new_job'].replace('>4',5, inplace = True)\n",
    "df_raw['last_new_job'].replace('never',0, inplace = True)\n",
    "df_raw['last_new_job'] = df_raw['last_new_job'].astype('float32')\n",
    "\n",
    "df_test['last_new_job'].replace('>4',5, inplace = True)\n",
    "df_test['last_new_job'].replace('never',0, inplace = True)\n",
    "df_test['last_new_job'] = df_test['last_new_job'].astype('float32')"
   ]
  },
  {
   "cell_type": "code",
   "execution_count": 63,
   "metadata": {
    "ExecuteTime": {
     "end_time": "2018-07-12T06:16:47.386203Z",
     "start_time": "2018-07-12T06:16:46.904701Z"
    }
   },
   "outputs": [
    {
     "data": {
      "text/plain": [
       "<matplotlib.axes._subplots.AxesSubplot at 0x23d9e2fa470>"
      ]
     },
     "execution_count": 63,
     "metadata": {},
     "output_type": "execute_result"
    },
    {
     "data": {
      "image/png": "[encoded data removed]",
      "text/plain": [
       "<matplotlib.figure.Figure at 0x23d9e1c5400>"
      ]
     },
     "metadata": {},
     "output_type": "display_data"
    }
   ],
   "source": [
    "sns.countplot(df_raw['last_new_job'], hue='target', data=df_raw)"
   ]
  },
  {
   "cell_type": "code",
   "execution_count": 265,
   "metadata": {
    "ExecuteTime": {
     "end_time": "2018-07-12T09:30:12.657796Z",
     "start_time": "2018-07-12T09:30:12.363539Z"
    }
   },
   "outputs": [],
   "source": [
    "df_test['last_new_job'].fillna(method='ffill', inplace=True)"
   ]
  },
  {
   "cell_type": "code",
   "execution_count": 64,
   "metadata": {
    "ExecuteTime": {
     "end_time": "2018-07-12T06:17:05.602865Z",
     "start_time": "2018-07-12T06:17:05.301593Z"
    }
   },
   "outputs": [],
   "source": [
    "df_raw['last_new_job'].fillna(method='ffill', inplace=True)\n",
    "df_test['last_new_job'].fillna(method='ffill', inplace=True)"
   ]
  },
  {
   "cell_type": "code",
   "execution_count": 65,
   "metadata": {
    "ExecuteTime": {
     "end_time": "2018-07-12T06:17:05.945075Z",
     "start_time": "2018-07-12T06:17:05.602865Z"
    }
   },
   "outputs": [
    {
     "data": {
      "text/plain": [
       "<matplotlib.axes._subplots.AxesSubplot at 0x23d9e2fd710>"
      ]
     },
     "execution_count": 65,
     "metadata": {},
     "output_type": "execute_result"
    },
    {
     "data": {
      "image/png": "[encoded data removed]",
      "text/plain": [
       "<matplotlib.figure.Figure at 0x23d9e315ef0>"
      ]
     },
     "metadata": {},
     "output_type": "display_data"
    }
   ],
   "source": [
    "sns.countplot(df_raw['last_new_job'], hue='target', data=df_raw)"
   ]
  },
  {
   "cell_type": "markdown",
   "metadata": {},
   "source": [
    "## experience col"
   ]
  },
  {
   "cell_type": "code",
   "execution_count": 77,
   "metadata": {
    "ExecuteTime": {
     "end_time": "2018-07-12T06:19:42.092533Z",
     "start_time": "2018-07-12T06:19:41.362094Z"
    }
   },
   "outputs": [
    {
     "data": {
      "image/png": "[encoded data removed]",
      "text/plain": [
       "<matplotlib.figure.Figure at 0x23d9e412e80>"
      ]
     },
     "metadata": {},
     "output_type": "display_data"
    }
   ],
   "source": [
    "plt.xticks(rotation=90)\n",
    "sns.countplot('experience', data=df_raw, hue='target',);"
   ]
  },
  {
   "cell_type": "code",
   "execution_count": 73,
   "metadata": {
    "ExecuteTime": {
     "end_time": "2018-07-12T06:19:13.051090Z",
     "start_time": "2018-07-12T06:19:12.801139Z"
    }
   },
   "outputs": [],
   "source": [
    "df_raw['experience'].replace('>20',22, inplace = True)\n",
    "df_test['experience'].replace('>20',22, inplace = True)\n",
    "\n",
    "df_raw['experience'].replace('<1',.6, inplace = True)\n",
    "df_test['experience'].replace('<1',.6, inplace = True)\n",
    "\n",
    "df_raw['experience'] = df_raw['experience'].astype('float32')\n",
    "df_test['experience'] = df_test['experience'].astype('float32')"
   ]
  },
  {
   "cell_type": "code",
   "execution_count": 79,
   "metadata": {
    "ExecuteTime": {
     "end_time": "2018-07-12T06:20:35.817804Z",
     "start_time": "2018-07-12T06:20:35.611708Z"
    }
   },
   "outputs": [],
   "source": [
    "df_raw['experience'].fillna(method='ffill',inplace=True)\n",
    "df_test['experience'].fillna(method='ffill',inplace=True)"
   ]
  },
  {
   "cell_type": "markdown",
   "metadata": {},
   "source": [
    "## company_type col"
   ]
  },
  {
   "cell_type": "code",
   "execution_count": 118,
   "metadata": {
    "ExecuteTime": {
     "end_time": "2018-07-12T06:40:53.322235Z",
     "start_time": "2018-07-12T06:40:53.112572Z"
    }
   },
   "outputs": [],
   "source": [
    "df_raw['is_startup'] = np.full(df_raw.shape[0], 0)\n",
    "my_query = df_raw[(df_raw['company_type'] == 'Funded Startup' )|(df_raw['company_type'] == 'Early Stage Startup')].index\n",
    "df_raw.iloc[my_query, -1] = 1\n",
    "\n",
    "df_test['is_startup'] = np.full(df_test.shape[0], 0)\n",
    "my_query = df_test[(df_test['company_type'] == 'Funded Startup' )|(df_test['company_type'] == 'Early Stage Startup')].index\n",
    "df_test.iloc[my_query, -1] = 1"
   ]
  },
  {
   "cell_type": "code",
   "execution_count": 121,
   "metadata": {
    "ExecuteTime": {
     "end_time": "2018-07-12T06:44:19.350909Z",
     "start_time": "2018-07-12T06:44:19.084413Z"
    }
   },
   "outputs": [],
   "source": [
    "df_raw['is_ltd'] = np.full(df_raw.shape[0], 0)\n",
    "my_query = df_raw[(df_raw['company_type'] == 'Pvt Ltd' )|(df_raw['company_type'] == 'Public Sector')].index\n",
    "df_raw.iloc[my_query, -1] = 1\n",
    "\n",
    "df_test['is_ltd'] = np.full(df_test.shape[0], 0)\n",
    "my_query = df_test[(df_test['company_type'] == 'Pvt Ltd' )|(df_test['company_type'] == 'Public Sector')].index\n",
    "df_test.iloc[my_query, -1] = 1"
   ]
  },
  {
   "cell_type": "code",
   "execution_count": 151,
   "metadata": {
    "ExecuteTime": {
     "end_time": "2018-07-12T07:16:15.321023Z",
     "start_time": "2018-07-12T07:16:15.093071Z"
    }
   },
   "outputs": [
    {
     "data": {
      "text/plain": [
       "company_size                  0.260308\n",
       "gender                        0.223215\n",
       "major_discipline              0.154584\n",
       "enrolled_university_degree    0.024892\n",
       "enrolled_university           0.018628\n",
       "dtype: float64"
      ]
     },
     "execution_count": 151,
     "metadata": {},
     "output_type": "execute_result"
    }
   ],
   "source": [
    "df_raw.isnull().sum().sort_values(ascending=False).head()/len(df_raw)"
   ]
  },
  {
   "cell_type": "code",
   "execution_count": 149,
   "metadata": {
    "ExecuteTime": {
     "end_time": "2018-07-12T07:15:55.096202Z",
     "start_time": "2018-07-12T07:15:54.801174Z"
    }
   },
   "outputs": [],
   "source": [
    "df_raw['company_type'].fillna(value='Unknown', axis=0, inplace=True)\n",
    "df_test['company_type'].fillna(value='Unknown', axis=0, inplace=True)"
   ]
  },
  {
   "cell_type": "markdown",
   "metadata": {},
   "source": [
    "## gender"
   ]
  },
  {
   "cell_type": "code",
   "execution_count": 165,
   "metadata": {
    "ExecuteTime": {
     "end_time": "2018-07-12T07:49:08.018220Z",
     "start_time": "2018-07-12T07:49:07.777381Z"
    }
   },
   "outputs": [
    {
     "data": {
      "text/plain": [
       "company_size                  0.260308\n",
       "gender                        0.223215\n",
       "major_discipline              0.154584\n",
       "enrolled_university_degree    0.024892\n",
       "enrolled_university           0.018628\n",
       "dtype: float64"
      ]
     },
     "execution_count": 165,
     "metadata": {},
     "output_type": "execute_result"
    }
   ],
   "source": [
    "df_raw.isnull().sum().sort_values(ascending=False).head()/len(df_raw)"
   ]
  },
  {
   "cell_type": "code",
   "execution_count": 161,
   "metadata": {
    "ExecuteTime": {
     "end_time": "2018-07-12T07:38:39.880272Z",
     "start_time": "2018-07-12T07:38:39.504922Z"
    }
   },
   "outputs": [
    {
     "data": {
      "image/png": "[encoded data removed]",
      "text/plain": [
       "<matplotlib.figure.Figure at 0x23da46472e8>"
      ]
     },
     "metadata": {},
     "output_type": "display_data"
    }
   ],
   "source": [
    "sns.countplot(df_raw['gender'],data=df_raw, hue='target');"
   ]
  },
  {
   "cell_type": "code",
   "execution_count": 178,
   "metadata": {
    "ExecuteTime": {
     "end_time": "2018-07-12T08:04:43.508305Z",
     "start_time": "2018-07-12T08:04:43.202688Z"
    }
   },
   "outputs": [
    {
     "data": {
      "text/plain": [
       "Male       0.701781\n",
       "Unknown    0.223215\n",
       "Female     0.064709\n",
       "Other      0.010295\n",
       "Name: gender, dtype: float64"
      ]
     },
     "execution_count": 178,
     "metadata": {},
     "output_type": "execute_result"
    }
   ],
   "source": [
    "df_raw['gender'].value_counts(normalize=True)"
   ]
  },
  {
   "cell_type": "code",
   "execution_count": 175,
   "metadata": {
    "ExecuteTime": {
     "end_time": "2018-07-12T08:04:21.987608Z",
     "start_time": "2018-07-12T08:04:21.637216Z"
    }
   },
   "outputs": [],
   "source": [
    "df_raw1 = df_raw.copy()\n",
    "df_test1 = df_test.copy()"
   ]
  },
  {
   "cell_type": "code",
   "execution_count": 176,
   "metadata": {
    "ExecuteTime": {
     "end_time": "2018-07-12T08:04:24.141011Z",
     "start_time": "2018-07-12T08:04:23.829821Z"
    }
   },
   "outputs": [],
   "source": [
    "df_raw['gender'].fillna(value='Unknown', axis=0, inplace=True)\n",
    "df_test['gender'].fillna(value='Unknown', axis=0, inplace=True)"
   ]
  },
  {
   "cell_type": "code",
   "execution_count": 182,
   "metadata": {
    "ExecuteTime": {
     "end_time": "2018-07-12T08:24:58.750146Z",
     "start_time": "2018-07-12T08:24:58.446112Z"
    }
   },
   "outputs": [
    {
     "data": {
      "text/html": [
       "<div>\n",
       "<style>\n",
       "    .dataframe thead tr:only-child th {\n",
       "        text-align: right;\n",
       "    }\n",
       "\n",
       "    .dataframe thead th {\n",
       "        text-align: left;\n",
       "    }\n",
       "\n",
       "    .dataframe tbody tr th {\n",
       "        vertical-align: top;\n",
       "    }\n",
       "</style>\n",
       "<table border=\"1\" class=\"dataframe\">\n",
       "  <thead>\n",
       "    <tr style=\"text-align: right;\">\n",
       "      <th></th>\n",
       "      <th>city</th>\n",
       "      <th>city_development_index</th>\n",
       "      <th>gender</th>\n",
       "      <th>relevent_experience</th>\n",
       "      <th>enrolled_university</th>\n",
       "      <th>enrolled_university_degree</th>\n",
       "      <th>major_discipline</th>\n",
       "      <th>experience</th>\n",
       "      <th>company_size</th>\n",
       "      <th>company_type</th>\n",
       "      <th>...</th>\n",
       "      <th>is_dev_41_50</th>\n",
       "      <th>is_dev_51_60</th>\n",
       "      <th>is_dev_61_70</th>\n",
       "      <th>is_dev_71_80</th>\n",
       "      <th>is_dev_81_90</th>\n",
       "      <th>is_dev_91</th>\n",
       "      <th>min_company_size</th>\n",
       "      <th>max_company_size</th>\n",
       "      <th>is_startup</th>\n",
       "      <th>is_ltd</th>\n",
       "    </tr>\n",
       "  </thead>\n",
       "  <tbody>\n",
       "    <tr>\n",
       "      <th>0</th>\n",
       "      <td>149</td>\n",
       "      <td>0.689</td>\n",
       "      <td>Male</td>\n",
       "      <td>Has relevent experience</td>\n",
       "      <td>no_enrollment</td>\n",
       "      <td>Graduate</td>\n",
       "      <td>STEM</td>\n",
       "      <td>3.0</td>\n",
       "      <td>100-500</td>\n",
       "      <td>Pvt Ltd</td>\n",
       "      <td>...</td>\n",
       "      <td>0.0</td>\n",
       "      <td>0.0</td>\n",
       "      <td>1.0</td>\n",
       "      <td>0.0</td>\n",
       "      <td>0.0</td>\n",
       "      <td>0.0</td>\n",
       "      <td>100</td>\n",
       "      <td>500</td>\n",
       "      <td>0</td>\n",
       "      <td>1</td>\n",
       "    </tr>\n",
       "    <tr>\n",
       "      <th>1</th>\n",
       "      <td>83</td>\n",
       "      <td>0.923</td>\n",
       "      <td>Male</td>\n",
       "      <td>Has relevent experience</td>\n",
       "      <td>no_enrollment</td>\n",
       "      <td>Graduate</td>\n",
       "      <td>STEM</td>\n",
       "      <td>14.0</td>\n",
       "      <td>&lt;10</td>\n",
       "      <td>Funded Startup</td>\n",
       "      <td>...</td>\n",
       "      <td>0.0</td>\n",
       "      <td>0.0</td>\n",
       "      <td>0.0</td>\n",
       "      <td>0.0</td>\n",
       "      <td>0.0</td>\n",
       "      <td>1.0</td>\n",
       "      <td>0</td>\n",
       "      <td>9</td>\n",
       "      <td>1</td>\n",
       "      <td>0</td>\n",
       "    </tr>\n",
       "  </tbody>\n",
       "</table>\n",
       "<p>2 rows × 27 columns</p>\n",
       "</div>"
      ],
      "text/plain": [
       "   city  city_development_index gender      relevent_experience  \\\n",
       "0   149                   0.689   Male  Has relevent experience   \n",
       "1    83                   0.923   Male  Has relevent experience   \n",
       "\n",
       "  enrolled_university enrolled_university_degree major_discipline  experience  \\\n",
       "0       no_enrollment                   Graduate             STEM         3.0   \n",
       "1       no_enrollment                   Graduate             STEM        14.0   \n",
       "\n",
       "  company_size    company_type   ...    is_dev_41_50  is_dev_51_60  \\\n",
       "0      100-500         Pvt Ltd   ...             0.0           0.0   \n",
       "1          <10  Funded Startup   ...             0.0           0.0   \n",
       "\n",
       "   is_dev_61_70  is_dev_71_80  is_dev_81_90  is_dev_91  min_company_size  \\\n",
       "0           1.0           0.0           0.0        0.0               100   \n",
       "1           0.0           0.0           0.0        1.0                 0   \n",
       "\n",
       "   max_company_size  is_startup  is_ltd  \n",
       "0               500           0       1  \n",
       "1                 9           1       0  \n",
       "\n",
       "[2 rows x 27 columns]"
      ]
     },
     "execution_count": 182,
     "metadata": {},
     "output_type": "execute_result"
    }
   ],
   "source": [
    "df_raw.head(2)"
   ]
  },
  {
   "cell_type": "code",
   "execution_count": 197,
   "metadata": {
    "ExecuteTime": {
     "end_time": "2018-07-12T08:40:21.691122Z",
     "start_time": "2018-07-12T08:40:20.643484Z"
    }
   },
   "outputs": [
    {
     "data": {
      "image/png": "[encoded data removed]",
      "text/plain": [
       "<matplotlib.figure.Figure at 0x23da30f9518>"
      ]
     },
     "metadata": {},
     "output_type": "display_data"
    }
   ],
   "source": [
    "survived = 'work'\n",
    "not_survived = 'not work'\n",
    "fig, axes = plt.subplots(nrows=2, ncols=2,figsize=(10, 10))\n",
    "\n",
    "women = df_raw[df_raw['gender']=='Female']\n",
    "men = df_raw[df_raw['gender']=='Male']\n",
    "other = df_raw[df_raw['gender']== 'Other']\n",
    "unknown = df_raw[df_raw['gender']== 'Unknown']\n",
    "\n",
    "ax = sns.distplot(women[women['target']==1].city_development_index, bins=18, label = survived, ax = axes[0][0], kde =False)\n",
    "ax = sns.distplot(women[women['target']==0].city_development_index, bins=40, label = not_survived, ax = axes[0][0], kde =False)\n",
    "ax.legend()\n",
    "ax.set_title('Female')\n",
    "\n",
    "ax = sns.distplot(men[men['target']==1].city_development_index, bins=18, label = survived, ax = axes[0][1], kde = False)\n",
    "ax = sns.distplot(men[men['target']==0].city_development_index, bins=40, label = not_survived, ax = axes[0][1], kde = False)\n",
    "ax.legend()\n",
    "ax.set_title('Male')\n",
    "\n",
    "ax = sns.distplot(other[other['target']==1].city_development_index, bins=18, label = survived, ax = axes[1][0], kde =False)\n",
    "ax = sns.distplot(other[other['target']==0].city_development_index, bins=40, label = not_survived, ax = axes[1][0], kde =False)\n",
    "ax.legend()\n",
    "ax.set_title('Other')\n",
    "\n",
    "ax = sns.distplot(unknown[unknown['target']==1].city_development_index, bins=18, label = survived, ax = axes[1][1], kde =False)\n",
    "ax = sns.distplot(unknown[unknown['target']==0].city_development_index, bins=40, label = not_survived, ax = axes[1][1], kde =False)\n",
    "ax.legend()\n",
    "_ = ax.set_title('Unknown')"
   ]
  },
  {
   "cell_type": "markdown",
   "metadata": {},
   "source": [
    "## major discipline"
   ]
  },
  {
   "cell_type": "code",
   "execution_count": 177,
   "metadata": {
    "ExecuteTime": {
     "end_time": "2018-07-12T08:04:26.218059Z",
     "start_time": "2018-07-12T08:04:25.562461Z"
    },
    "collapsed": true
   },
   "outputs": [
    {
     "data": {
      "text/plain": [
       "<matplotlib.axes._subplots.AxesSubplot at 0x23da4eac278>"
      ]
     },
     "execution_count": 177,
     "metadata": {},
     "output_type": "execute_result"
    },
    {
     "data": {
      "image/png": "[encoded data removed]",
      "text/plain": [
       "<matplotlib.figure.Figure at 0x23da4e4dc88>"
      ]
     },
     "metadata": {},
     "output_type": "display_data"
    }
   ],
   "source": [
    "plt.xticks(rotation=90)\n",
    "sns.countplot('gender', data=df_raw, hue='company_type')"
   ]
  },
  {
   "cell_type": "code",
   "execution_count": 180,
   "metadata": {
    "ExecuteTime": {
     "end_time": "2018-07-12T08:06:00.289384Z",
     "start_time": "2018-07-12T08:05:59.754970Z"
    }
   },
   "outputs": [
    {
     "data": {
      "text/plain": [
       "<matplotlib.axes._subplots.AxesSubplot at 0x23da4e8c518>"
      ]
     },
     "execution_count": 180,
     "metadata": {},
     "output_type": "execute_result"
    },
    {
     "data": {
      "image/png": "[encoded data removed]",
      "text/plain": [
       "<matplotlib.figure.Figure at 0x23da4e94b70>"
      ]
     },
     "metadata": {},
     "output_type": "display_data"
    }
   ],
   "source": [
    "plt.xticks(rotation=90)\n",
    "sns.countplot('major_discipline', data=df_raw, hue='company_type')"
   ]
  },
  {
   "cell_type": "code",
   "execution_count": 261,
   "metadata": {
    "ExecuteTime": {
     "end_time": "2018-07-12T09:29:13.847590Z",
     "start_time": "2018-07-12T09:29:13.351534Z"
    }
   },
   "outputs": [],
   "source": [
    "df_raw['unaffliated_college'] = np.zeros(df_raw.shape[0])\n",
    "df_test['unaffliated_college'] = np.zeros(df_test.shape[0])\n",
    "\n",
    "for i in ['Phd', 'Graduate', 'Masters', 'High School', 'Primary School']:\n",
    "\n",
    "    my_query = df_raw[(df_raw['enrolled_university'] == 'no_enrollment') & (df_raw['enrolled_university_degree'] == i)].index\n",
    "    df_raw.iloc[my_query, -1] = 1\n",
    "    \n",
    "    my_query = df_test[(df_test['enrolled_university'] == 'no_enrollment') & (df_test['enrolled_university_degree'] == i)].index\n",
    "    df_test.iloc[my_query, -1] = 1\n",
    "\n",
    "df_raw['enroll_type__enroll_deg__major_in'] = df_raw.enrolled_university+'_'+df_raw.enrolled_university_degree\\\n",
    "                                                +'_'+df_raw.major_discipline\n",
    "df_test['enroll_type__enroll_deg__major_in'] = df_test.enrolled_university+'_'+df_test.enrolled_university_degree\\\n",
    "                                                +'_'+df_test.major_discipline\n",
    "    \n",
    "df_raw['gender__major_in'] = df_raw.gender+'_'+df_raw.major_discipline\n",
    "df_test['gender__major_in'] = df_test.gender+'_'+df_test.major_discipline\n",
    "\n",
    "df_raw['enroll_deg__major_in'] = df_raw.enrolled_university_degree+'_'+df_raw.major_discipline\n",
    "df_test['enroll_deg__major_in'] = df_test.enrolled_university_degree+'_'+df_test.major_discipline\n",
    "    \n",
    "df_raw['city_dev__max_comp_siz'] = df_raw.city.astype(str)+'_'+df_raw.max_company_size.astype(str)\n",
    "df_test['city_dev__max_comp_siz'] = df_test.city.astype(str)+'_'+df_test.max_company_size.astype(str)\n"
   ]
  },
  {
   "cell_type": "code",
   "execution_count": 224,
   "metadata": {
    "ExecuteTime": {
     "end_time": "2018-07-12T09:04:11.839228Z",
     "start_time": "2018-07-12T09:04:10.115635Z"
    },
    "collapsed": true
   },
   "outputs": [
    {
     "name": "stdout",
     "output_type": "stream",
     "text": [
      "Phd && Arts \n",
      "Train- 3 Test- 3\n",
      "Phd && Business Degree \n",
      "Train- 5 Test- 9\n",
      "Phd && Other \n",
      "Train- 5 Test- 6\n",
      "Phd && STEM \n",
      "Train- 378 Test- 276\n",
      "Phd && Humanities \n",
      "Train- 23 Test- 18\n",
      "Phd && No Major \n",
      "Train- 0 Test- 2\n",
      "Graduate && Arts \n",
      "Train- 179 Test- 88\n",
      "Graduate && Business Degree \n",
      "Train- 179 Test- 111\n",
      "Graduate && Other \n",
      "Train- 197 Test- 119\n",
      "Graduate && STEM \n",
      "Train- 6994 Test- 4924\n",
      "Graduate && Humanities \n",
      "Train- 391 Test- 252\n",
      "Graduate && No Major \n",
      "Train- 153 Test- 81\n",
      "Masters && Arts \n",
      "Train- 32 Test- 33\n",
      "Masters && Business Degree \n",
      "Train- 75 Test- 45\n",
      "Masters && Other \n",
      "Train- 76 Test- 64\n",
      "Masters && STEM \n",
      "Train- 3172 Test- 2152\n",
      "Masters && Humanities \n",
      "Train- 203 Test- 106\n",
      "Masters && No Major \n",
      "Train- 23 Test- 39\n",
      "High School && Arts \n",
      "Train- 0 Test- 12\n",
      "High School && Business Degree \n",
      "Train- 0 Test- 14\n",
      "High School && Other \n",
      "Train- 0 Test- 14\n",
      "High School && STEM \n",
      "Train- 0 Test- 628\n",
      "High School && Humanities \n",
      "Train- 0 Test- 39\n",
      "High School && No Major \n",
      "Train- 0 Test- 10\n",
      "Primary School && Arts \n",
      "Train- 0 Test- 0\n",
      "Primary School && Business Degree \n",
      "Train- 0 Test- 2\n",
      "Primary School && Other \n",
      "Train- 0 Test- 4\n",
      "Primary School && STEM \n",
      "Train- 0 Test- 189\n",
      "Primary School && Humanities \n",
      "Train- 0 Test- 15\n",
      "Primary School && No Major \n",
      "Train- 0 Test- 4\n"
     ]
    }
   ],
   "source": [
    "for i in ['Phd', 'Graduate', 'Masters', 'High School', 'Primary School'] : # enrolled_university_degree\n",
    "    for j in ['Arts', 'Business Degree', 'Other', 'STEM', 'Humanities', 'No Major']: #major discipline\n",
    "        print(i,'&&',j,'\\nTrain-', df_raw[(df_raw['major_discipline'] == j ) & (df_raw['enrolled_university'] == 'no_enrollment') & (df_raw['enrolled_university_degree'] == i)].shape[0], \\\n",
    "             'Test-',df_test[(df_raw['major_discipline'] == j ) & (df_test['enrolled_university'] == 'no_enrollment') & (df_test['enrolled_university_degree'] == i)].shape[0])"
   ]
  },
  {
   "cell_type": "code",
   "execution_count": 172,
   "metadata": {
    "ExecuteTime": {
     "end_time": "2018-07-12T08:00:47.981038Z",
     "start_time": "2018-07-12T08:00:47.448423Z"
    },
    "collapsed": true
   },
   "outputs": [
    {
     "data": {
      "text/plain": [
       "<matplotlib.axes._subplots.AxesSubplot at 0x23da4bc0da0>"
      ]
     },
     "execution_count": 172,
     "metadata": {},
     "output_type": "execute_result"
    },
    {
     "data": {
      "image/png": "[encoded data removed]",
      "text/plain": [
       "<matplotlib.figure.Figure at 0x23da4c6c5c0>"
      ]
     },
     "metadata": {},
     "output_type": "display_data"
    }
   ],
   "source": [
    "plt.xticks(rotation=90)\n",
    "sns.countplot('enrolled_university', data=df_raw, hue='company_type')"
   ]
  },
  {
   "cell_type": "code",
   "execution_count": 173,
   "metadata": {
    "ExecuteTime": {
     "end_time": "2018-07-12T08:00:48.361122Z",
     "start_time": "2018-07-12T08:00:47.984031Z"
    },
    "collapsed": true
   },
   "outputs": [
    {
     "data": {
      "text/plain": [
       "<matplotlib.axes._subplots.AxesSubplot at 0x23da4cb5b70>"
      ]
     },
     "execution_count": 173,
     "metadata": {},
     "output_type": "execute_result"
    },
    {
     "data": {
      "image/png": "[encoded data removed]",
      "text/plain": [
       "<matplotlib.figure.Figure at 0x23da4c954e0>"
      ]
     },
     "metadata": {},
     "output_type": "display_data"
    }
   ],
   "source": [
    "plt.xticks(rotation=90)\n",
    "sns.countplot('enrolled_university_degree', data=df_raw, hue='company_type')"
   ]
  },
  {
   "cell_type": "code",
   "execution_count": 258,
   "metadata": {
    "ExecuteTime": {
     "end_time": "2018-07-12T09:29:05.633961Z",
     "start_time": "2018-07-12T09:29:05.369947Z"
    }
   },
   "outputs": [],
   "source": [
    "df_raw['major_discipline'].fillna('Unknown', axis=0, inplace=True)\n",
    "df_test['major_discipline'].fillna('Unknown', axis=0, inplace=True)\n",
    "\n",
    "df_raw['enrolled_university'].fillna('no_enrollment', axis=0, inplace=True)\n",
    "df_test['enrolled_university'].fillna('no_enrollment', axis=0, inplace=True)\n",
    "\n",
    "df_raw['enrolled_university_degree'].fillna('Graduate', axis=0, inplace=True)\n",
    "df_test['enrolled_university_degree'].fillna('Graduate', axis=0, inplace=True)"
   ]
  },
  {
   "cell_type": "code",
   "execution_count": 268,
   "metadata": {
    "ExecuteTime": {
     "end_time": "2018-07-12T09:31:06.693460Z",
     "start_time": "2018-07-12T09:31:06.423431Z"
    }
   },
   "outputs": [],
   "source": [
    "df_test['last_new_job'].fillna(0,axis=0,inplace=True)"
   ]
  },
  {
   "cell_type": "code",
   "execution_count": 269,
   "metadata": {
    "ExecuteTime": {
     "end_time": "2018-07-12T09:31:09.161697Z",
     "start_time": "2018-07-12T09:31:08.867081Z"
    },
    "collapsed": true
   },
   "outputs": [
    {
     "data": {
      "text/plain": [
       "company_size                  0.269689\n",
       "enroll_deg__major_in          0.000000\n",
       "is_dev_21_30                  0.000000\n",
       "city_development_index        0.000000\n",
       "gender                        0.000000\n",
       "relevent_experience           0.000000\n",
       "enrolled_university           0.000000\n",
       "enrolled_university_degree    0.000000\n",
       "major_discipline              0.000000\n",
       "experience                    0.000000\n",
       "dtype: float64"
      ]
     },
     "execution_count": 269,
     "metadata": {},
     "output_type": "execute_result"
    }
   ],
   "source": [
    "df_test.isnull().sum().sort_values(ascending=False).head(10)/len(df_test)"
   ]
  },
  {
   "cell_type": "code",
   "execution_count": 263,
   "metadata": {
    "ExecuteTime": {
     "end_time": "2018-07-12T09:29:29.720351Z",
     "start_time": "2018-07-12T09:29:29.441320Z"
    },
    "collapsed": true
   },
   "outputs": [
    {
     "data": {
      "text/plain": [
       "company_size                  0.260308\n",
       "enroll_deg__major_in          0.000000\n",
       "gender__major_in              0.000000\n",
       "city_development_index        0.000000\n",
       "gender                        0.000000\n",
       "relevent_experience           0.000000\n",
       "enrolled_university           0.000000\n",
       "enrolled_university_degree    0.000000\n",
       "major_discipline              0.000000\n",
       "experience                    0.000000\n",
       "dtype: float64"
      ]
     },
     "execution_count": 263,
     "metadata": {},
     "output_type": "execute_result"
    }
   ],
   "source": [
    "df_raw.isnull().sum().sort_values(ascending=False).head(10)/len(df_raw)"
   ]
  },
  {
   "cell_type": "markdown",
   "metadata": {
    "heading_collapsed": true
   },
   "source": [
    "## start here"
   ]
  },
  {
   "cell_type": "code",
   "execution_count": 282,
   "metadata": {
    "ExecuteTime": {
     "end_time": "2018-07-12T09:47:26.560175Z",
     "start_time": "2018-07-12T09:47:26.301560Z"
    },
    "hidden": true
   },
   "outputs": [],
   "source": [
    "X_train = df_raw.drop(categorical_features,axis=1)  #numeric ones\n",
    "X_test  = df_test.drop(categorical_features,axis=1) #numeric ones"
   ]
  },
  {
   "cell_type": "code",
   "execution_count": 283,
   "metadata": {
    "ExecuteTime": {
     "end_time": "2018-07-12T09:47:29.622110Z",
     "start_time": "2018-07-12T09:47:28.403672Z"
    },
    "hidden": true
   },
   "outputs": [
    {
     "name": "stdout",
     "output_type": "stream",
     "text": [
      "\n",
      "Start decomposition process...\n",
      "PCA\n",
      "Wall time: 981 ms\n"
     ]
    }
   ],
   "source": [
    "%%time\n",
    "N_COMP = 10\n",
    "\n",
    "print(\"\\nStart decomposition process...\")\n",
    "print(\"PCA\")\n",
    "pca = PCA(n_components=N_COMP, random_state=17)\n",
    "pca_results_X_train = pca.fit_transform(X_train)\n",
    "pca_results_X_test = pca.transform(X_test)"
   ]
  },
  {
   "cell_type": "code",
   "execution_count": 284,
   "metadata": {
    "ExecuteTime": {
     "end_time": "2018-07-12T09:47:53.274495Z",
     "start_time": "2018-07-12T09:47:53.058495Z"
    },
    "hidden": true
   },
   "outputs": [
    {
     "name": "stdout",
     "output_type": "stream",
     "text": [
      "Append decomposition components to datasets...\n",
      "Wall time: 12 ms\n"
     ]
    }
   ],
   "source": [
    "%%time\n",
    "print(\"Append decomposition components to datasets...\")\n",
    "\n",
    "for i in range(1, N_COMP + 1):\n",
    "    X_train['pca_' + str(i)] = pca_results_X_train[:, i - 1]\n",
    "    X_test['pca_' + str(i)] = pca_results_X_test[:, i - 1]"
   ]
  },
  {
   "cell_type": "code",
   "execution_count": 288,
   "metadata": {
    "ExecuteTime": {
     "end_time": "2018-07-12T09:48:32.800031Z",
     "start_time": "2018-07-12T09:48:30.383343Z"
    },
    "hidden": true
   },
   "outputs": [],
   "source": [
    "def prepare(data_orig):\n",
    "    data = pd.DataFrame()\n",
    "    data['mean'] = data_orig.mean(axis=1)\n",
    "    data['std'] = data_orig.std(axis=1)\n",
    "    data['min'] = data_orig.min(axis=1)\n",
    "    data['max'] = data_orig.max(axis=1)\n",
    "    data['number_of_different'] = data_orig.nunique(axis=1)               # Number of diferent values in a row.\n",
    "    data['non_zero_count'] = data_orig.fillna(0).astype(bool).sum(axis=1) # Number of non zero values (e.g. transaction count)\n",
    "    return data\n",
    "\n",
    "# Replace 0 with NaN to ignore them.\n",
    "X_test_stats = prepare(X_test.replace(0,np.nan))\n",
    "X_train_stats = prepare(X_train.replace(0, np.nan))"
   ]
  },
  {
   "cell_type": "code",
   "execution_count": 289,
   "metadata": {
    "ExecuteTime": {
     "end_time": "2018-07-12T09:49:55.543736Z",
     "start_time": "2018-07-12T09:49:50.511061Z"
    },
    "hidden": true
   },
   "outputs": [
    {
     "name": "stdout",
     "output_type": "stream",
     "text": [
      "['kmeans_cluster_2', 'kmeans_cluster_3', 'kmeans_cluster_4', 'kmeans_cluster_5', 'kmeans_cluster_6', 'kmeans_cluster_7', 'kmeans_cluster_8', 'kmeans_cluster_9', 'kmeans_cluster_10']\n"
     ]
    }
   ],
   "source": [
    "from sklearn.cluster import KMeans\n",
    "\n",
    "flist = [x for x in X_train.columns]\n",
    "\n",
    "flist_kmeans = []\n",
    "for ncl in range(2,11):\n",
    "    cls = KMeans(n_clusters=ncl)\n",
    "    cls.fit_predict(X_train[flist].values)\n",
    "    X_train['kmeans_cluster_'+str(ncl)] = cls.predict(X_train[flist].values)\n",
    "    X_test['kmeans_cluster_'+str(ncl)] = cls.predict(X_test[flist].values)\n",
    "    flist_kmeans.append('kmeans_cluster_'+str(ncl))\n",
    "print(flist_kmeans)"
   ]
  },
  {
   "cell_type": "code",
   "execution_count": 290,
   "metadata": {
    "ExecuteTime": {
     "end_time": "2018-07-12T09:50:03.819760Z",
     "start_time": "2018-07-12T09:50:03.592327Z"
    },
    "hidden": true
   },
   "outputs": [],
   "source": [
    "X_train_stack, X_test_stack = np.hstack((X_train, X_train_stats)), np.hstack((X_test, X_test_stats))"
   ]
  },
  {
   "cell_type": "code",
   "execution_count": 33,
   "metadata": {
    "ExecuteTime": {
     "end_time": "2018-07-12T12:16:59.100825Z",
     "start_time": "2018-07-12T12:16:58.826127Z"
    },
    "hidden": true
   },
   "outputs": [],
   "source": [
    "X_train_stack, X_test_stack = np.hstack((stack_train, train_67)), np.hstack((stack_test, test_67))"
   ]
  },
  {
   "cell_type": "code",
   "execution_count": 34,
   "metadata": {
    "ExecuteTime": {
     "end_time": "2018-07-12T12:16:59.283116Z",
     "start_time": "2018-07-12T12:16:59.100825Z"
    },
    "hidden": true
   },
   "outputs": [],
   "source": [
    "params = {}\n",
    "params['booster'] = 'gbtree'\n",
    "params[\"objective\"] = \"binary:logistic\"\n",
    "# params['eval_metric'] = 'logloss'\n",
    "params['eval_metric'] = 'auc'\n",
    "params[\"eta\"] = 0.1 #0.03\n",
    "params[\"subsample\"] = .7 #.85 was tried before\n",
    "params[\"silent\"] = 0\n",
    "params['verbose'] = 1\n",
    "params[\"max_depth\"] = 8\n",
    "params[\"seed\"] = 1\n",
    "params[\"max_delta_step\"] = 4\n",
    "params['scale_pos_weight'] =  0.13208780434664197\n",
    "params[\"gamma\"] = .6 #.5 #.1 #.2\n",
    "params['colsample_bytree'] = 0.7\n",
    "params['nrounds'] = 1000 #3600 #2000 #4000 #using lower no for demo\n",
    "#params['max_leaves'] = 511\n",
    "#params['verbose_eval'] = 50"
   ]
  },
  {
   "cell_type": "code",
   "execution_count": 35,
   "metadata": {
    "ExecuteTime": {
     "end_time": "2018-07-12T12:17:44.772229Z",
     "start_time": "2018-07-12T12:16:59.283116Z"
    },
    "hidden": true,
    "scrolled": true
   },
   "outputs": [
    {
     "name": "stdout",
     "output_type": "stream",
     "text": [
      "[mlcrate] Training 7 stratified XGBoost models on training set (18359, 32) with test set (15021, 32)\n",
      "[mlcrate] Running fold 0, 15735 train samples, 2624 validation samples\n",
      "[0]\ttrain-auc:0.610262\tvalid-auc:0.603539\n",
      "Multiple eval metrics have been passed: 'valid-auc' will be used for early stopping.\n",
      "\n",
      "Will train until valid-auc hasn't improved in 50 rounds.\n",
      "[1]\ttrain-auc:0.611687\tvalid-auc:0.602776\n",
      "[2]\ttrain-auc:0.625767\tvalid-auc:0.627222\n",
      "[3]\ttrain-auc:0.634295\tvalid-auc:0.631425\n",
      "[4]\ttrain-auc:0.644069\tvalid-auc:0.647621\n",
      "[5]\ttrain-auc:0.644902\tvalid-auc:0.648802\n",
      "[6]\ttrain-auc:0.645907\tvalid-auc:0.650127\n",
      "[7]\ttrain-auc:0.646452\tvalid-auc:0.649835\n",
      "[8]\ttrain-auc:0.647274\tvalid-auc:0.6491\n",
      "[9]\ttrain-auc:0.659563\tvalid-auc:0.659745\n",
      "[10]\ttrain-auc:0.660092\tvalid-auc:0.657501\n",
      "[11]\ttrain-auc:0.661307\tvalid-auc:0.662217\n",
      "[12]\ttrain-auc:0.662083\tvalid-auc:0.662668\n",
      "[13]\ttrain-auc:0.661966\tvalid-auc:0.662526\n",
      "[14]\ttrain-auc:0.662003\tvalid-auc:0.662717\n",
      "[15]\ttrain-auc:0.672621\tvalid-auc:0.668754\n",
      "[16]\ttrain-auc:0.673641\tvalid-auc:0.668203\n",
      "[17]\ttrain-auc:0.674055\tvalid-auc:0.668495\n",
      "[18]\ttrain-auc:0.674714\tvalid-auc:0.67047\n",
      "[19]\ttrain-auc:0.676064\tvalid-auc:0.670505\n",
      "[20]\ttrain-auc:0.676487\tvalid-auc:0.670809\n",
      "[21]\ttrain-auc:0.677122\tvalid-auc:0.670152\n",
      "[22]\ttrain-auc:0.67958\tvalid-auc:0.669344\n",
      "[23]\ttrain-auc:0.683888\tvalid-auc:0.670509\n",
      "[24]\ttrain-auc:0.684824\tvalid-auc:0.670493\n",
      "[25]\ttrain-auc:0.686109\tvalid-auc:0.670122\n",
      "[26]\ttrain-auc:0.687529\tvalid-auc:0.670154\n",
      "[27]\ttrain-auc:0.691846\tvalid-auc:0.66895\n",
      "[28]\ttrain-auc:0.692028\tvalid-auc:0.669587\n",
      "[29]\ttrain-auc:0.692463\tvalid-auc:0.670025\n",
      "[30]\ttrain-auc:0.694789\tvalid-auc:0.669435\n",
      "[31]\ttrain-auc:0.696573\tvalid-auc:0.672287\n",
      "[32]\ttrain-auc:0.699923\tvalid-auc:0.673028\n",
      "[33]\ttrain-auc:0.701121\tvalid-auc:0.673162\n",
      "[34]\ttrain-auc:0.703413\tvalid-auc:0.671912\n",
      "[35]\ttrain-auc:0.706184\tvalid-auc:0.672706\n",
      "[36]\ttrain-auc:0.708399\tvalid-auc:0.671883\n",
      "[37]\ttrain-auc:0.710058\tvalid-auc:0.672823\n",
      "[38]\ttrain-auc:0.713615\tvalid-auc:0.672202\n",
      "[39]\ttrain-auc:0.72106\tvalid-auc:0.673613\n",
      "[40]\ttrain-auc:0.72759\tvalid-auc:0.674335\n",
      "[41]\ttrain-auc:0.728618\tvalid-auc:0.672885\n",
      "[42]\ttrain-auc:0.72901\tvalid-auc:0.673118\n",
      "[43]\ttrain-auc:0.734002\tvalid-auc:0.675069\n",
      "[44]\ttrain-auc:0.736544\tvalid-auc:0.672946\n",
      "[45]\ttrain-auc:0.738491\tvalid-auc:0.673459\n",
      "[46]\ttrain-auc:0.740045\tvalid-auc:0.673226\n",
      "[47]\ttrain-auc:0.744103\tvalid-auc:0.671725\n",
      "[48]\ttrain-auc:0.748051\tvalid-auc:0.671556\n",
      "[49]\ttrain-auc:0.74981\tvalid-auc:0.671744\n",
      "[50]\ttrain-auc:0.756195\tvalid-auc:0.671231\n",
      "[51]\ttrain-auc:0.759144\tvalid-auc:0.669733\n",
      "[52]\ttrain-auc:0.763107\tvalid-auc:0.668618\n",
      "[53]\ttrain-auc:0.766309\tvalid-auc:0.6698\n",
      "[54]\ttrain-auc:0.769572\tvalid-auc:0.667365\n",
      "[55]\ttrain-auc:0.771408\tvalid-auc:0.666162\n",
      "[56]\ttrain-auc:0.77439\tvalid-auc:0.665957\n",
      "[57]\ttrain-auc:0.777875\tvalid-auc:0.665916\n",
      "[58]\ttrain-auc:0.780846\tvalid-auc:0.666111\n",
      "[59]\ttrain-auc:0.78506\tvalid-auc:0.666284\n",
      "[60]\ttrain-auc:0.788171\tvalid-auc:0.664995\n",
      "[61]\ttrain-auc:0.790616\tvalid-auc:0.664987\n",
      "[62]\ttrain-auc:0.792801\tvalid-auc:0.662239\n",
      "[63]\ttrain-auc:0.794599\tvalid-auc:0.661393\n",
      "[64]\ttrain-auc:0.796456\tvalid-auc:0.660057\n",
      "[65]\ttrain-auc:0.799563\tvalid-auc:0.660112\n",
      "[66]\ttrain-auc:0.802881\tvalid-auc:0.659702\n",
      "[67]\ttrain-auc:0.804045\tvalid-auc:0.659149\n",
      "[68]\ttrain-auc:0.805473\tvalid-auc:0.658017\n",
      "[69]\ttrain-auc:0.807417\tvalid-auc:0.656801\n",
      "[70]\ttrain-auc:0.809042\tvalid-auc:0.656888\n",
      "[71]\ttrain-auc:0.811944\tvalid-auc:0.65717\n",
      "[72]\ttrain-auc:0.813658\tvalid-auc:0.656356\n",
      "[73]\ttrain-auc:0.814897\tvalid-auc:0.655961\n",
      "[74]\ttrain-auc:0.816873\tvalid-auc:0.654479\n",
      "[75]\ttrain-auc:0.819127\tvalid-auc:0.653675\n",
      "[76]\ttrain-auc:0.819911\tvalid-auc:0.65325\n",
      "[77]\ttrain-auc:0.822076\tvalid-auc:0.654498\n",
      "[78]\ttrain-auc:0.82333\tvalid-auc:0.655678\n",
      "[79]\ttrain-auc:0.825939\tvalid-auc:0.656533\n",
      "[80]\ttrain-auc:0.827056\tvalid-auc:0.657739\n",
      "[81]\ttrain-auc:0.828796\tvalid-auc:0.657226\n",
      "[82]\ttrain-auc:0.832602\tvalid-auc:0.656261\n",
      "[83]\ttrain-auc:0.833221\tvalid-auc:0.65658\n",
      "[84]\ttrain-auc:0.835059\tvalid-auc:0.655701\n",
      "[85]\ttrain-auc:0.836827\tvalid-auc:0.654556\n",
      "[86]\ttrain-auc:0.839599\tvalid-auc:0.652649\n",
      "[87]\ttrain-auc:0.842034\tvalid-auc:0.654136\n",
      "[88]\ttrain-auc:0.845271\tvalid-auc:0.653275\n",
      "[89]\ttrain-auc:0.848043\tvalid-auc:0.653628\n",
      "[90]\ttrain-auc:0.849345\tvalid-auc:0.653243\n",
      "[91]\ttrain-auc:0.851651\tvalid-auc:0.654417\n",
      "[92]\ttrain-auc:0.854667\tvalid-auc:0.656168\n",
      "[93]\ttrain-auc:0.855906\tvalid-auc:0.655952\n",
      "Stopping. Best iteration:\n",
      "[43]\ttrain-auc:0.734002\tvalid-auc:0.675069\n",
      "\n"
     ]
    },
    {
     "name": "stderr",
     "output_type": "stream",
     "text": [
      "C:\\ProgramData\\Anaconda3\\lib\\site-packages\\mlcrate\\backend.py:7: UserWarning: Timer.format_elapsed() has been deprecated in favour of Timer.fsince() and will be removed soon\n",
      "  warn(message)\n"
     ]
    },
    {
     "name": "stdout",
     "output_type": "stream",
     "text": [
      "[mlcrate] Finished training fold 0 - took 5s - running score 0.675069\n",
      "[mlcrate] Running fold 1, 15735 train samples, 2624 validation samples\n",
      "[0]\ttrain-auc:0.589674\tvalid-auc:0.609368\n",
      "Multiple eval metrics have been passed: 'valid-auc' will be used for early stopping.\n",
      "\n",
      "Will train until valid-auc hasn't improved in 50 rounds.\n",
      "[1]\ttrain-auc:0.62757\tvalid-auc:0.654881\n",
      "[2]\ttrain-auc:0.64091\tvalid-auc:0.674641\n",
      "[3]\ttrain-auc:0.642562\tvalid-auc:0.676968\n",
      "[4]\ttrain-auc:0.644801\tvalid-auc:0.68056\n",
      "[5]\ttrain-auc:0.645237\tvalid-auc:0.680553\n",
      "[6]\ttrain-auc:0.645439\tvalid-auc:0.680698\n",
      "[7]\ttrain-auc:0.654119\tvalid-auc:0.686902\n",
      "[8]\ttrain-auc:0.66123\tvalid-auc:0.686155\n",
      "[9]\ttrain-auc:0.661265\tvalid-auc:0.68564\n",
      "[10]\ttrain-auc:0.662614\tvalid-auc:0.685775\n",
      "[11]\ttrain-auc:0.663505\tvalid-auc:0.685954\n",
      "[12]\ttrain-auc:0.663372\tvalid-auc:0.686443\n",
      "[13]\ttrain-auc:0.663579\tvalid-auc:0.686352\n",
      "[14]\ttrain-auc:0.663454\tvalid-auc:0.686267\n",
      "[15]\ttrain-auc:0.663717\tvalid-auc:0.686787\n",
      "[16]\ttrain-auc:0.665199\tvalid-auc:0.685499\n",
      "[17]\ttrain-auc:0.665458\tvalid-auc:0.685978\n",
      "[18]\ttrain-auc:0.667331\tvalid-auc:0.686586\n",
      "[19]\ttrain-auc:0.668453\tvalid-auc:0.686847\n",
      "[20]\ttrain-auc:0.669465\tvalid-auc:0.686435\n",
      "[21]\ttrain-auc:0.673241\tvalid-auc:0.692203\n",
      "[22]\ttrain-auc:0.674556\tvalid-auc:0.693452\n",
      "[23]\ttrain-auc:0.682984\tvalid-auc:0.694133\n",
      "[24]\ttrain-auc:0.683829\tvalid-auc:0.695238\n",
      "[25]\ttrain-auc:0.685604\tvalid-auc:0.695135\n",
      "[26]\ttrain-auc:0.687536\tvalid-auc:0.694921\n",
      "[27]\ttrain-auc:0.68911\tvalid-auc:0.696034\n",
      "[28]\ttrain-auc:0.692613\tvalid-auc:0.696129\n",
      "[29]\ttrain-auc:0.696045\tvalid-auc:0.695081\n",
      "[30]\ttrain-auc:0.697011\tvalid-auc:0.695409\n",
      "[31]\ttrain-auc:0.700265\tvalid-auc:0.694261\n",
      "[32]\ttrain-auc:0.702377\tvalid-auc:0.694404\n",
      "[33]\ttrain-auc:0.705324\tvalid-auc:0.69296\n",
      "[34]\ttrain-auc:0.70714\tvalid-auc:0.692889\n",
      "[35]\ttrain-auc:0.711811\tvalid-auc:0.692624\n",
      "[36]\ttrain-auc:0.715904\tvalid-auc:0.692423\n",
      "[37]\ttrain-auc:0.719326\tvalid-auc:0.694171\n",
      "[38]\ttrain-auc:0.722499\tvalid-auc:0.695454\n",
      "[39]\ttrain-auc:0.727197\tvalid-auc:0.694023\n",
      "[40]\ttrain-auc:0.730219\tvalid-auc:0.693562\n",
      "[41]\ttrain-auc:0.73275\tvalid-auc:0.696346\n",
      "[42]\ttrain-auc:0.736305\tvalid-auc:0.696248\n",
      "[43]\ttrain-auc:0.741266\tvalid-auc:0.696474\n",
      "[44]\ttrain-auc:0.744444\tvalid-auc:0.695471\n",
      "[45]\ttrain-auc:0.7474\tvalid-auc:0.695569\n",
      "[46]\ttrain-auc:0.751926\tvalid-auc:0.694975\n",
      "[47]\ttrain-auc:0.754534\tvalid-auc:0.694195\n",
      "[48]\ttrain-auc:0.758734\tvalid-auc:0.695303\n",
      "[49]\ttrain-auc:0.759425\tvalid-auc:0.694733\n",
      "[50]\ttrain-auc:0.761662\tvalid-auc:0.696128\n",
      "[51]\ttrain-auc:0.764566\tvalid-auc:0.697004\n",
      "[52]\ttrain-auc:0.768359\tvalid-auc:0.695569\n",
      "[53]\ttrain-auc:0.772684\tvalid-auc:0.695562\n",
      "[54]\ttrain-auc:0.775847\tvalid-auc:0.694704\n",
      "[55]\ttrain-auc:0.77722\tvalid-auc:0.694037\n",
      "[56]\ttrain-auc:0.781119\tvalid-auc:0.694257\n",
      "[57]\ttrain-auc:0.785463\tvalid-auc:0.692138\n",
      "[58]\ttrain-auc:0.786868\tvalid-auc:0.691057\n",
      "[59]\ttrain-auc:0.789484\tvalid-auc:0.691835\n",
      "[60]\ttrain-auc:0.792407\tvalid-auc:0.692105\n",
      "[61]\ttrain-auc:0.794584\tvalid-auc:0.691106\n",
      "[62]\ttrain-auc:0.797718\tvalid-auc:0.690747\n",
      "[63]\ttrain-auc:0.800436\tvalid-auc:0.690958\n",
      "[64]\ttrain-auc:0.803522\tvalid-auc:0.69015\n",
      "[65]\ttrain-auc:0.805085\tvalid-auc:0.6899\n",
      "[66]\ttrain-auc:0.808\tvalid-auc:0.689172\n",
      "[67]\ttrain-auc:0.811644\tvalid-auc:0.68963\n",
      "[68]\ttrain-auc:0.812203\tvalid-auc:0.687189\n",
      "[69]\ttrain-auc:0.812819\tvalid-auc:0.686107\n",
      "[70]\ttrain-auc:0.815285\tvalid-auc:0.685365\n",
      "[71]\ttrain-auc:0.816642\tvalid-auc:0.685529\n",
      "[72]\ttrain-auc:0.818658\tvalid-auc:0.685007\n",
      "[73]\ttrain-auc:0.820138\tvalid-auc:0.684464\n",
      "[74]\ttrain-auc:0.821337\tvalid-auc:0.684225\n",
      "[75]\ttrain-auc:0.824232\tvalid-auc:0.683874\n",
      "[76]\ttrain-auc:0.824846\tvalid-auc:0.682828\n",
      "[77]\ttrain-auc:0.827185\tvalid-auc:0.681704\n",
      "[78]\ttrain-auc:0.82833\tvalid-auc:0.6825\n",
      "[79]\ttrain-auc:0.830038\tvalid-auc:0.681769\n",
      "[80]\ttrain-auc:0.832651\tvalid-auc:0.680497\n",
      "[81]\ttrain-auc:0.833655\tvalid-auc:0.680884\n",
      "[82]\ttrain-auc:0.834788\tvalid-auc:0.681032\n",
      "[83]\ttrain-auc:0.837121\tvalid-auc:0.680615\n",
      "[84]\ttrain-auc:0.839648\tvalid-auc:0.678955\n",
      "[85]\ttrain-auc:0.840847\tvalid-auc:0.679395\n",
      "[86]\ttrain-auc:0.84204\tvalid-auc:0.67888\n",
      "[87]\ttrain-auc:0.842822\tvalid-auc:0.680198\n",
      "[88]\ttrain-auc:0.844915\tvalid-auc:0.681095\n",
      "[89]\ttrain-auc:0.845701\tvalid-auc:0.681059\n",
      "[90]\ttrain-auc:0.846371\tvalid-auc:0.681471\n",
      "[91]\ttrain-auc:0.846931\tvalid-auc:0.681273\n",
      "[92]\ttrain-auc:0.848881\tvalid-auc:0.679763\n",
      "[93]\ttrain-auc:0.849658\tvalid-auc:0.680924\n",
      "[94]\ttrain-auc:0.851591\tvalid-auc:0.679633\n",
      "[95]\ttrain-auc:0.85511\tvalid-auc:0.679547\n",
      "[96]\ttrain-auc:0.856715\tvalid-auc:0.680099\n",
      "[97]\ttrain-auc:0.858518\tvalid-auc:0.680341\n",
      "[98]\ttrain-auc:0.858912\tvalid-auc:0.679703\n",
      "[99]\ttrain-auc:0.861437\tvalid-auc:0.679724\n",
      "[100]\ttrain-auc:0.863208\tvalid-auc:0.679434\n",
      "[101]\ttrain-auc:0.865485\tvalid-auc:0.67991\n",
      "Stopping. Best iteration:\n",
      "[51]\ttrain-auc:0.764566\tvalid-auc:0.697004\n",
      "\n",
      "[mlcrate] Finished training fold 1 - took 7s - running score 0.6860364999999999\n",
      "[mlcrate] Running fold 2, 15736 train samples, 2623 validation samples\n",
      "[0]\ttrain-auc:0.628293\tvalid-auc:0.6438\n",
      "Multiple eval metrics have been passed: 'valid-auc' will be used for early stopping.\n",
      "\n",
      "Will train until valid-auc hasn't improved in 50 rounds.\n",
      "[1]\ttrain-auc:0.637195\tvalid-auc:0.650914\n",
      "[2]\ttrain-auc:0.642778\tvalid-auc:0.660092\n",
      "[3]\ttrain-auc:0.642793\tvalid-auc:0.660163\n",
      "[4]\ttrain-auc:0.643191\tvalid-auc:0.661447\n",
      "[5]\ttrain-auc:0.645297\tvalid-auc:0.662411\n",
      "[6]\ttrain-auc:0.645337\tvalid-auc:0.662417\n",
      "[7]\ttrain-auc:0.648126\tvalid-auc:0.66334\n",
      "[8]\ttrain-auc:0.65966\tvalid-auc:0.67145\n",
      "[9]\ttrain-auc:0.660369\tvalid-auc:0.672066\n",
      "[10]\ttrain-auc:0.660143\tvalid-auc:0.672288\n",
      "[11]\ttrain-auc:0.660179\tvalid-auc:0.671873\n",
      "[12]\ttrain-auc:0.660171\tvalid-auc:0.671609\n",
      "[13]\ttrain-auc:0.660819\tvalid-auc:0.671329\n",
      "[14]\ttrain-auc:0.665374\tvalid-auc:0.678485\n",
      "[15]\ttrain-auc:0.665566\tvalid-auc:0.678558\n",
      "[16]\ttrain-auc:0.666295\tvalid-auc:0.679161\n",
      "[17]\ttrain-auc:0.667891\tvalid-auc:0.677827\n",
      "[18]\ttrain-auc:0.671237\tvalid-auc:0.679325\n",
      "[19]\ttrain-auc:0.672557\tvalid-auc:0.679012\n",
      "[20]\ttrain-auc:0.672791\tvalid-auc:0.679851\n",
      "[21]\ttrain-auc:0.674229\tvalid-auc:0.679563\n",
      "[22]\ttrain-auc:0.674426\tvalid-auc:0.67994\n",
      "[23]\ttrain-auc:0.67695\tvalid-auc:0.684998\n",
      "[24]\ttrain-auc:0.677485\tvalid-auc:0.685707\n",
      "[25]\ttrain-auc:0.680395\tvalid-auc:0.685042\n",
      "[26]\ttrain-auc:0.682009\tvalid-auc:0.684515\n",
      "[27]\ttrain-auc:0.68826\tvalid-auc:0.684741\n",
      "[28]\ttrain-auc:0.689619\tvalid-auc:0.683977\n",
      "[29]\ttrain-auc:0.692285\tvalid-auc:0.682107\n",
      "[30]\ttrain-auc:0.694959\tvalid-auc:0.683638\n",
      "[31]\ttrain-auc:0.698111\tvalid-auc:0.682753\n",
      "[32]\ttrain-auc:0.699537\tvalid-auc:0.688206\n",
      "[33]\ttrain-auc:0.701629\tvalid-auc:0.692058\n",
      "[34]\ttrain-auc:0.704696\tvalid-auc:0.691646\n",
      "[35]\ttrain-auc:0.713155\tvalid-auc:0.693493\n",
      "[36]\ttrain-auc:0.717796\tvalid-auc:0.690986\n",
      "[37]\ttrain-auc:0.719409\tvalid-auc:0.690813\n",
      "[38]\ttrain-auc:0.722136\tvalid-auc:0.690879\n",
      "[39]\ttrain-auc:0.726151\tvalid-auc:0.692104\n",
      "[40]\ttrain-auc:0.734538\tvalid-auc:0.692327\n",
      "[41]\ttrain-auc:0.738845\tvalid-auc:0.690406\n",
      "[42]\ttrain-auc:0.74272\tvalid-auc:0.691255\n",
      "[43]\ttrain-auc:0.746579\tvalid-auc:0.69482\n",
      "[44]\ttrain-auc:0.750615\tvalid-auc:0.693641\n",
      "[45]\ttrain-auc:0.752538\tvalid-auc:0.693909\n",
      "[46]\ttrain-auc:0.756781\tvalid-auc:0.694\n",
      "[47]\ttrain-auc:0.759304\tvalid-auc:0.69281\n",
      "[48]\ttrain-auc:0.761493\tvalid-auc:0.691647\n",
      "[49]\ttrain-auc:0.763162\tvalid-auc:0.691932\n",
      "[50]\ttrain-auc:0.766584\tvalid-auc:0.691201\n",
      "[51]\ttrain-auc:0.768461\tvalid-auc:0.689274\n",
      "[52]\ttrain-auc:0.771615\tvalid-auc:0.689332\n",
      "[53]\ttrain-auc:0.773597\tvalid-auc:0.689724\n",
      "[54]\ttrain-auc:0.776027\tvalid-auc:0.689398\n",
      "[55]\ttrain-auc:0.779273\tvalid-auc:0.689523\n",
      "[56]\ttrain-auc:0.78343\tvalid-auc:0.688836\n",
      "[57]\ttrain-auc:0.788529\tvalid-auc:0.68865\n",
      "[58]\ttrain-auc:0.788757\tvalid-auc:0.688175\n",
      "[59]\ttrain-auc:0.789656\tvalid-auc:0.687798\n",
      "[60]\ttrain-auc:0.792313\tvalid-auc:0.687383\n",
      "[61]\ttrain-auc:0.79354\tvalid-auc:0.687935\n",
      "[62]\ttrain-auc:0.796018\tvalid-auc:0.686298\n",
      "[63]\ttrain-auc:0.797406\tvalid-auc:0.686025\n",
      "[64]\ttrain-auc:0.800483\tvalid-auc:0.683773\n",
      "[65]\ttrain-auc:0.802396\tvalid-auc:0.683626\n",
      "[66]\ttrain-auc:0.804029\tvalid-auc:0.683669\n",
      "[67]\ttrain-auc:0.807078\tvalid-auc:0.682786\n",
      "[68]\ttrain-auc:0.809799\tvalid-auc:0.683096\n",
      "[69]\ttrain-auc:0.811915\tvalid-auc:0.683816\n",
      "[70]\ttrain-auc:0.813741\tvalid-auc:0.682789\n",
      "[71]\ttrain-auc:0.815366\tvalid-auc:0.6813\n",
      "[72]\ttrain-auc:0.816098\tvalid-auc:0.682748\n",
      "[73]\ttrain-auc:0.817444\tvalid-auc:0.683336\n",
      "[74]\ttrain-auc:0.819304\tvalid-auc:0.681716\n"
     ]
    },
    {
     "name": "stdout",
     "output_type": "stream",
     "text": [
      "[75]\ttrain-auc:0.820631\tvalid-auc:0.681445\n",
      "[76]\ttrain-auc:0.821451\tvalid-auc:0.679747\n",
      "[77]\ttrain-auc:0.82318\tvalid-auc:0.679664\n",
      "[78]\ttrain-auc:0.82393\tvalid-auc:0.680065\n",
      "[79]\ttrain-auc:0.827614\tvalid-auc:0.680367\n",
      "[80]\ttrain-auc:0.830513\tvalid-auc:0.678987\n",
      "[81]\ttrain-auc:0.832272\tvalid-auc:0.676959\n",
      "[82]\ttrain-auc:0.833147\tvalid-auc:0.67669\n",
      "[83]\ttrain-auc:0.836183\tvalid-auc:0.676657\n",
      "[84]\ttrain-auc:0.838192\tvalid-auc:0.674976\n",
      "[85]\ttrain-auc:0.839677\tvalid-auc:0.676337\n",
      "[86]\ttrain-auc:0.842163\tvalid-auc:0.675813\n",
      "[87]\ttrain-auc:0.842686\tvalid-auc:0.675834\n",
      "[88]\ttrain-auc:0.847023\tvalid-auc:0.674002\n",
      "[89]\ttrain-auc:0.84915\tvalid-auc:0.673607\n",
      "[90]\ttrain-auc:0.850807\tvalid-auc:0.673223\n",
      "[91]\ttrain-auc:0.852438\tvalid-auc:0.671735\n",
      "[92]\ttrain-auc:0.855603\tvalid-auc:0.669217\n",
      "[93]\ttrain-auc:0.856955\tvalid-auc:0.669928\n",
      "Stopping. Best iteration:\n",
      "[43]\ttrain-auc:0.746579\tvalid-auc:0.69482\n",
      "\n",
      "[mlcrate] Finished training fold 2 - took 5s - running score 0.6889643333333333\n",
      "[mlcrate] Running fold 3, 15737 train samples, 2622 validation samples\n",
      "[0]\ttrain-auc:0.619301\tvalid-auc:0.588993\n",
      "Multiple eval metrics have been passed: 'valid-auc' will be used for early stopping.\n",
      "\n",
      "Will train until valid-auc hasn't improved in 50 rounds.\n",
      "[1]\ttrain-auc:0.637228\tvalid-auc:0.601529\n",
      "[2]\ttrain-auc:0.650296\tvalid-auc:0.608337\n",
      "[3]\ttrain-auc:0.650186\tvalid-auc:0.608416\n",
      "[4]\ttrain-auc:0.652464\tvalid-auc:0.613802\n",
      "[5]\ttrain-auc:0.652481\tvalid-auc:0.613687\n",
      "[6]\ttrain-auc:0.656485\tvalid-auc:0.615928\n",
      "[7]\ttrain-auc:0.656491\tvalid-auc:0.615945\n",
      "[8]\ttrain-auc:0.658563\tvalid-auc:0.618833\n",
      "[9]\ttrain-auc:0.658966\tvalid-auc:0.618481\n",
      "[10]\ttrain-auc:0.658888\tvalid-auc:0.618547\n",
      "[11]\ttrain-auc:0.660949\tvalid-auc:0.622344\n",
      "[12]\ttrain-auc:0.661178\tvalid-auc:0.622315\n",
      "[13]\ttrain-auc:0.662469\tvalid-auc:0.623728\n",
      "[14]\ttrain-auc:0.664039\tvalid-auc:0.623203\n",
      "[15]\ttrain-auc:0.664963\tvalid-auc:0.62338\n",
      "[16]\ttrain-auc:0.667624\tvalid-auc:0.628014\n",
      "[17]\ttrain-auc:0.667774\tvalid-auc:0.627874\n",
      "[18]\ttrain-auc:0.675545\tvalid-auc:0.636944\n",
      "[19]\ttrain-auc:0.676151\tvalid-auc:0.638337\n",
      "[20]\ttrain-auc:0.679356\tvalid-auc:0.639531\n",
      "[21]\ttrain-auc:0.685783\tvalid-auc:0.645176\n",
      "[22]\ttrain-auc:0.686007\tvalid-auc:0.644302\n",
      "[23]\ttrain-auc:0.686255\tvalid-auc:0.64297\n",
      "[24]\ttrain-auc:0.68993\tvalid-auc:0.644556\n",
      "[25]\ttrain-auc:0.692744\tvalid-auc:0.645984\n",
      "[26]\ttrain-auc:0.693396\tvalid-auc:0.646333\n",
      "[27]\ttrain-auc:0.695278\tvalid-auc:0.645485\n",
      "[28]\ttrain-auc:0.69735\tvalid-auc:0.646193\n",
      "[29]\ttrain-auc:0.700742\tvalid-auc:0.644838\n",
      "[30]\ttrain-auc:0.703036\tvalid-auc:0.643881\n",
      "[31]\ttrain-auc:0.704878\tvalid-auc:0.645658\n",
      "[32]\ttrain-auc:0.710103\tvalid-auc:0.643456\n",
      "[33]\ttrain-auc:0.713753\tvalid-auc:0.638836\n",
      "[34]\ttrain-auc:0.720681\tvalid-auc:0.641766\n",
      "[35]\ttrain-auc:0.724518\tvalid-auc:0.645125\n",
      "[36]\ttrain-auc:0.726397\tvalid-auc:0.645351\n",
      "[37]\ttrain-auc:0.728658\tvalid-auc:0.644587\n",
      "[38]\ttrain-auc:0.730599\tvalid-auc:0.644292\n",
      "[39]\ttrain-auc:0.736942\tvalid-auc:0.643246\n",
      "[40]\ttrain-auc:0.739711\tvalid-auc:0.642785\n",
      "[41]\ttrain-auc:0.7441\tvalid-auc:0.640951\n",
      "[42]\ttrain-auc:0.746794\tvalid-auc:0.637959\n",
      "[43]\ttrain-auc:0.746392\tvalid-auc:0.639069\n",
      "[44]\ttrain-auc:0.748603\tvalid-auc:0.640957\n",
      "[45]\ttrain-auc:0.751976\tvalid-auc:0.64294\n",
      "[46]\ttrain-auc:0.754369\tvalid-auc:0.641558\n",
      "[47]\ttrain-auc:0.75737\tvalid-auc:0.643225\n",
      "[48]\ttrain-auc:0.759762\tvalid-auc:0.643878\n",
      "[49]\ttrain-auc:0.762698\tvalid-auc:0.644765\n",
      "[50]\ttrain-auc:0.76528\tvalid-auc:0.642723\n",
      "[51]\ttrain-auc:0.768525\tvalid-auc:0.641721\n",
      "[52]\ttrain-auc:0.771662\tvalid-auc:0.641785\n",
      "[53]\ttrain-auc:0.774785\tvalid-auc:0.641525\n",
      "[54]\ttrain-auc:0.777908\tvalid-auc:0.642359\n",
      "[55]\ttrain-auc:0.780472\tvalid-auc:0.643766\n",
      "[56]\ttrain-auc:0.782052\tvalid-auc:0.643843\n",
      "[57]\ttrain-auc:0.785452\tvalid-auc:0.643457\n",
      "[58]\ttrain-auc:0.787279\tvalid-auc:0.643512\n",
      "[59]\ttrain-auc:0.791613\tvalid-auc:0.641507\n",
      "[60]\ttrain-auc:0.792872\tvalid-auc:0.642965\n",
      "[61]\ttrain-auc:0.794534\tvalid-auc:0.644027\n",
      "[62]\ttrain-auc:0.795767\tvalid-auc:0.64458\n",
      "[63]\ttrain-auc:0.798099\tvalid-auc:0.645879\n",
      "[64]\ttrain-auc:0.80013\tvalid-auc:0.64508\n",
      "[65]\ttrain-auc:0.801646\tvalid-auc:0.645241\n",
      "[66]\ttrain-auc:0.804165\tvalid-auc:0.644162\n",
      "[67]\ttrain-auc:0.805208\tvalid-auc:0.645226\n",
      "[68]\ttrain-auc:0.807471\tvalid-auc:0.644985\n",
      "[69]\ttrain-auc:0.809635\tvalid-auc:0.644127\n",
      "[70]\ttrain-auc:0.810738\tvalid-auc:0.643885\n",
      "[71]\ttrain-auc:0.811994\tvalid-auc:0.643744\n",
      "[72]\ttrain-auc:0.814186\tvalid-auc:0.643271\n",
      "[73]\ttrain-auc:0.816091\tvalid-auc:0.641781\n",
      "[74]\ttrain-auc:0.819398\tvalid-auc:0.642025\n",
      "[75]\ttrain-auc:0.822542\tvalid-auc:0.642389\n",
      "[76]\ttrain-auc:0.82375\tvalid-auc:0.642384\n",
      "Stopping. Best iteration:\n",
      "[26]\ttrain-auc:0.693396\tvalid-auc:0.646333\n",
      "\n",
      "[mlcrate] Finished training fold 3 - took 6s - running score 0.6783064999999999\n",
      "[mlcrate] Running fold 4, 15737 train samples, 2622 validation samples\n",
      "[0]\ttrain-auc:0.618735\tvalid-auc:0.590751\n",
      "Multiple eval metrics have been passed: 'valid-auc' will be used for early stopping.\n",
      "\n",
      "Will train until valid-auc hasn't improved in 50 rounds.\n",
      "[1]\ttrain-auc:0.631431\tvalid-auc:0.617039\n",
      "[2]\ttrain-auc:0.631355\tvalid-auc:0.61779\n",
      "[3]\ttrain-auc:0.642544\tvalid-auc:0.626643\n",
      "[4]\ttrain-auc:0.64833\tvalid-auc:0.627766\n",
      "[5]\ttrain-auc:0.648834\tvalid-auc:0.625968\n",
      "[6]\ttrain-auc:0.648981\tvalid-auc:0.625939\n",
      "[7]\ttrain-auc:0.654237\tvalid-auc:0.628051\n",
      "[8]\ttrain-auc:0.654768\tvalid-auc:0.628542\n",
      "[9]\ttrain-auc:0.654755\tvalid-auc:0.628296\n",
      "[10]\ttrain-auc:0.654797\tvalid-auc:0.628301\n",
      "[11]\ttrain-auc:0.654667\tvalid-auc:0.628669\n",
      "[12]\ttrain-auc:0.660923\tvalid-auc:0.633651\n",
      "[13]\ttrain-auc:0.661408\tvalid-auc:0.636026\n",
      "[14]\ttrain-auc:0.663234\tvalid-auc:0.638201\n",
      "[15]\ttrain-auc:0.664044\tvalid-auc:0.637958\n",
      "[16]\ttrain-auc:0.674395\tvalid-auc:0.652198\n",
      "[17]\ttrain-auc:0.674243\tvalid-auc:0.653212\n",
      "[18]\ttrain-auc:0.680431\tvalid-auc:0.65096\n",
      "[19]\ttrain-auc:0.681193\tvalid-auc:0.652182\n",
      "[20]\ttrain-auc:0.682886\tvalid-auc:0.652472\n",
      "[21]\ttrain-auc:0.683511\tvalid-auc:0.653233\n",
      "[22]\ttrain-auc:0.686464\tvalid-auc:0.65285\n",
      "[23]\ttrain-auc:0.691094\tvalid-auc:0.647903\n",
      "[24]\ttrain-auc:0.692697\tvalid-auc:0.648095\n",
      "[25]\ttrain-auc:0.694354\tvalid-auc:0.652593\n",
      "[26]\ttrain-auc:0.698591\tvalid-auc:0.651678\n",
      "[27]\ttrain-auc:0.699511\tvalid-auc:0.651256\n",
      "[28]\ttrain-auc:0.70143\tvalid-auc:0.650999\n",
      "[29]\ttrain-auc:0.702853\tvalid-auc:0.654227\n",
      "[30]\ttrain-auc:0.706068\tvalid-auc:0.655199\n",
      "[31]\ttrain-auc:0.707145\tvalid-auc:0.653873\n",
      "[32]\ttrain-auc:0.710396\tvalid-auc:0.65257\n",
      "[33]\ttrain-auc:0.715355\tvalid-auc:0.648989\n",
      "[34]\ttrain-auc:0.716974\tvalid-auc:0.650046\n",
      "[35]\ttrain-auc:0.718825\tvalid-auc:0.65378\n",
      "[36]\ttrain-auc:0.720378\tvalid-auc:0.6533\n",
      "[37]\ttrain-auc:0.722213\tvalid-auc:0.652504\n",
      "[38]\ttrain-auc:0.725568\tvalid-auc:0.653131\n",
      "[39]\ttrain-auc:0.727591\tvalid-auc:0.653283\n",
      "[40]\ttrain-auc:0.729701\tvalid-auc:0.652662\n",
      "[41]\ttrain-auc:0.733648\tvalid-auc:0.650894\n",
      "[42]\ttrain-auc:0.736501\tvalid-auc:0.650606\n",
      "[43]\ttrain-auc:0.740604\tvalid-auc:0.646932\n",
      "[44]\ttrain-auc:0.743851\tvalid-auc:0.644705\n",
      "[45]\ttrain-auc:0.746711\tvalid-auc:0.647691\n",
      "[46]\ttrain-auc:0.749439\tvalid-auc:0.648242\n",
      "[47]\ttrain-auc:0.751201\tvalid-auc:0.647647\n",
      "[48]\ttrain-auc:0.754511\tvalid-auc:0.649198\n",
      "[49]\ttrain-auc:0.758101\tvalid-auc:0.651624\n",
      "[50]\ttrain-auc:0.759916\tvalid-auc:0.64842\n",
      "[51]\ttrain-auc:0.761563\tvalid-auc:0.649582\n",
      "[52]\ttrain-auc:0.764822\tvalid-auc:0.647745\n",
      "[53]\ttrain-auc:0.766811\tvalid-auc:0.647044\n",
      "[54]\ttrain-auc:0.769272\tvalid-auc:0.645013\n",
      "[55]\ttrain-auc:0.773006\tvalid-auc:0.642929\n",
      "[56]\ttrain-auc:0.775594\tvalid-auc:0.642002\n",
      "[57]\ttrain-auc:0.779562\tvalid-auc:0.644397\n",
      "[58]\ttrain-auc:0.780768\tvalid-auc:0.643649\n",
      "[59]\ttrain-auc:0.783239\tvalid-auc:0.641816\n",
      "[60]\ttrain-auc:0.784365\tvalid-auc:0.641842\n",
      "[61]\ttrain-auc:0.785627\tvalid-auc:0.641889\n",
      "[62]\ttrain-auc:0.789426\tvalid-auc:0.643334\n",
      "[63]\ttrain-auc:0.792721\tvalid-auc:0.640596\n",
      "[64]\ttrain-auc:0.79546\tvalid-auc:0.64185\n",
      "[65]\ttrain-auc:0.797475\tvalid-auc:0.641846\n",
      "[66]\ttrain-auc:0.800442\tvalid-auc:0.642303\n",
      "[67]\ttrain-auc:0.801676\tvalid-auc:0.641792\n",
      "[68]\ttrain-auc:0.803088\tvalid-auc:0.641251\n",
      "[69]\ttrain-auc:0.804916\tvalid-auc:0.640316\n",
      "[70]\ttrain-auc:0.807089\tvalid-auc:0.63918\n",
      "[71]\ttrain-auc:0.808353\tvalid-auc:0.639486\n",
      "[72]\ttrain-auc:0.809456\tvalid-auc:0.639484\n",
      "[73]\ttrain-auc:0.809994\tvalid-auc:0.638333\n",
      "[74]\ttrain-auc:0.811617\tvalid-auc:0.638785\n",
      "[75]\ttrain-auc:0.811669\tvalid-auc:0.638538\n",
      "[76]\ttrain-auc:0.814724\tvalid-auc:0.639566\n",
      "[77]\ttrain-auc:0.816462\tvalid-auc:0.639927\n",
      "[78]\ttrain-auc:0.817865\tvalid-auc:0.638568\n"
     ]
    },
    {
     "name": "stdout",
     "output_type": "stream",
     "text": [
      "[79]\ttrain-auc:0.82006\tvalid-auc:0.639505\n",
      "[80]\ttrain-auc:0.821217\tvalid-auc:0.640835\n",
      "Stopping. Best iteration:\n",
      "[30]\ttrain-auc:0.706068\tvalid-auc:0.655199\n",
      "\n",
      "[mlcrate] Finished training fold 4 - took 6s - running score 0.673685\n",
      "[mlcrate] Running fold 5, 15737 train samples, 2622 validation samples\n",
      "[0]\ttrain-auc:0.617167\tvalid-auc:0.601804\n",
      "Multiple eval metrics have been passed: 'valid-auc' will be used for early stopping.\n",
      "\n",
      "Will train until valid-auc hasn't improved in 50 rounds.\n",
      "[1]\ttrain-auc:0.642762\tvalid-auc:0.627823\n",
      "[2]\ttrain-auc:0.644401\tvalid-auc:0.631204\n",
      "[3]\ttrain-auc:0.648819\tvalid-auc:0.634766\n",
      "[4]\ttrain-auc:0.651324\tvalid-auc:0.638614\n",
      "[5]\ttrain-auc:0.651296\tvalid-auc:0.638046\n",
      "[6]\ttrain-auc:0.65218\tvalid-auc:0.637454\n",
      "[7]\ttrain-auc:0.656175\tvalid-auc:0.635014\n",
      "[8]\ttrain-auc:0.657227\tvalid-auc:0.636454\n",
      "[9]\ttrain-auc:0.657201\tvalid-auc:0.636709\n",
      "[10]\ttrain-auc:0.657615\tvalid-auc:0.636739\n",
      "[11]\ttrain-auc:0.659172\tvalid-auc:0.638671\n",
      "[12]\ttrain-auc:0.659135\tvalid-auc:0.638897\n",
      "[13]\ttrain-auc:0.659367\tvalid-auc:0.638767\n",
      "[14]\ttrain-auc:0.659459\tvalid-auc:0.638405\n",
      "[15]\ttrain-auc:0.659604\tvalid-auc:0.638344\n",
      "[16]\ttrain-auc:0.659857\tvalid-auc:0.639286\n",
      "[17]\ttrain-auc:0.662862\tvalid-auc:0.642837\n",
      "[18]\ttrain-auc:0.674023\tvalid-auc:0.663985\n",
      "[19]\ttrain-auc:0.674165\tvalid-auc:0.663535\n",
      "[20]\ttrain-auc:0.674627\tvalid-auc:0.663881\n",
      "[21]\ttrain-auc:0.678328\tvalid-auc:0.662812\n",
      "[22]\ttrain-auc:0.680307\tvalid-auc:0.662697\n",
      "[23]\ttrain-auc:0.681835\tvalid-auc:0.66309\n",
      "[24]\ttrain-auc:0.683941\tvalid-auc:0.663635\n",
      "[25]\ttrain-auc:0.687007\tvalid-auc:0.661775\n",
      "[26]\ttrain-auc:0.69108\tvalid-auc:0.662496\n",
      "[27]\ttrain-auc:0.69311\tvalid-auc:0.662499\n",
      "[28]\ttrain-auc:0.694363\tvalid-auc:0.661303\n",
      "[29]\ttrain-auc:0.694657\tvalid-auc:0.661025\n",
      "[30]\ttrain-auc:0.69617\tvalid-auc:0.660153\n",
      "[31]\ttrain-auc:0.699898\tvalid-auc:0.664443\n",
      "[32]\ttrain-auc:0.701515\tvalid-auc:0.664007\n",
      "[33]\ttrain-auc:0.702064\tvalid-auc:0.664068\n",
      "[34]\ttrain-auc:0.70749\tvalid-auc:0.665907\n",
      "[35]\ttrain-auc:0.711115\tvalid-auc:0.666763\n",
      "[36]\ttrain-auc:0.71248\tvalid-auc:0.665654\n",
      "[37]\ttrain-auc:0.715044\tvalid-auc:0.667327\n",
      "[38]\ttrain-auc:0.719675\tvalid-auc:0.668562\n",
      "[39]\ttrain-auc:0.72394\tvalid-auc:0.668549\n",
      "[40]\ttrain-auc:0.728855\tvalid-auc:0.670424\n",
      "[41]\ttrain-auc:0.733525\tvalid-auc:0.672317\n",
      "[42]\ttrain-auc:0.734952\tvalid-auc:0.671798\n",
      "[43]\ttrain-auc:0.73865\tvalid-auc:0.673171\n",
      "[44]\ttrain-auc:0.740993\tvalid-auc:0.671687\n",
      "[45]\ttrain-auc:0.743105\tvalid-auc:0.669833\n",
      "[46]\ttrain-auc:0.745393\tvalid-auc:0.668507\n",
      "[47]\ttrain-auc:0.748581\tvalid-auc:0.667825\n",
      "[48]\ttrain-auc:0.751692\tvalid-auc:0.66787\n",
      "[49]\ttrain-auc:0.754954\tvalid-auc:0.665018\n",
      "[50]\ttrain-auc:0.755853\tvalid-auc:0.664252\n",
      "[51]\ttrain-auc:0.756951\tvalid-auc:0.662541\n",
      "[52]\ttrain-auc:0.759497\tvalid-auc:0.662543\n",
      "[53]\ttrain-auc:0.762281\tvalid-auc:0.663859\n",
      "[54]\ttrain-auc:0.765757\tvalid-auc:0.664189\n",
      "[55]\ttrain-auc:0.766801\tvalid-auc:0.662997\n",
      "[56]\ttrain-auc:0.768996\tvalid-auc:0.663174\n",
      "[57]\ttrain-auc:0.770746\tvalid-auc:0.662685\n",
      "[58]\ttrain-auc:0.775539\tvalid-auc:0.662969\n",
      "[59]\ttrain-auc:0.777863\tvalid-auc:0.662697\n",
      "[60]\ttrain-auc:0.780215\tvalid-auc:0.661619\n",
      "[61]\ttrain-auc:0.780867\tvalid-auc:0.661324\n",
      "[62]\ttrain-auc:0.783594\tvalid-auc:0.659724\n",
      "[63]\ttrain-auc:0.786726\tvalid-auc:0.659884\n",
      "[64]\ttrain-auc:0.789418\tvalid-auc:0.660073\n",
      "[65]\ttrain-auc:0.791919\tvalid-auc:0.66003\n",
      "[66]\ttrain-auc:0.794216\tvalid-auc:0.658475\n",
      "[67]\ttrain-auc:0.797184\tvalid-auc:0.659285\n",
      "[68]\ttrain-auc:0.797923\tvalid-auc:0.659307\n",
      "[69]\ttrain-auc:0.800127\tvalid-auc:0.658218\n",
      "[70]\ttrain-auc:0.800897\tvalid-auc:0.658306\n",
      "[71]\ttrain-auc:0.801691\tvalid-auc:0.658713\n",
      "[72]\ttrain-auc:0.80284\tvalid-auc:0.659154\n",
      "[73]\ttrain-auc:0.804369\tvalid-auc:0.658694\n",
      "[74]\ttrain-auc:0.806602\tvalid-auc:0.656755\n",
      "[75]\ttrain-auc:0.809123\tvalid-auc:0.656977\n",
      "[76]\ttrain-auc:0.811567\tvalid-auc:0.656118\n",
      "[77]\ttrain-auc:0.813271\tvalid-auc:0.655926\n",
      "[78]\ttrain-auc:0.815016\tvalid-auc:0.656224\n",
      "[79]\ttrain-auc:0.81616\tvalid-auc:0.656275\n",
      "[80]\ttrain-auc:0.817643\tvalid-auc:0.656707\n",
      "[81]\ttrain-auc:0.818849\tvalid-auc:0.657706\n",
      "[82]\ttrain-auc:0.822441\tvalid-auc:0.657407\n",
      "[83]\ttrain-auc:0.823119\tvalid-auc:0.657549\n",
      "[84]\ttrain-auc:0.824995\tvalid-auc:0.657599\n",
      "[85]\ttrain-auc:0.827808\tvalid-auc:0.658314\n",
      "[86]\ttrain-auc:0.830129\tvalid-auc:0.657772\n",
      "[87]\ttrain-auc:0.832624\tvalid-auc:0.657146\n",
      "[88]\ttrain-auc:0.834077\tvalid-auc:0.656396\n",
      "[89]\ttrain-auc:0.835171\tvalid-auc:0.65681\n",
      "[90]\ttrain-auc:0.837287\tvalid-auc:0.656891\n",
      "[91]\ttrain-auc:0.838765\tvalid-auc:0.657812\n",
      "[92]\ttrain-auc:0.839765\tvalid-auc:0.658104\n",
      "[93]\ttrain-auc:0.841409\tvalid-auc:0.657547\n",
      "Stopping. Best iteration:\n",
      "[43]\ttrain-auc:0.73865\tvalid-auc:0.673171\n",
      "\n",
      "[mlcrate] Finished training fold 5 - took 5s - running score 0.6735993333333333\n",
      "[mlcrate] Running fold 6, 15737 train samples, 2622 validation samples\n",
      "[0]\ttrain-auc:0.614568\tvalid-auc:0.611226\n",
      "Multiple eval metrics have been passed: 'valid-auc' will be used for early stopping.\n",
      "\n",
      "Will train until valid-auc hasn't improved in 50 rounds.\n",
      "[1]\ttrain-auc:0.638058\tvalid-auc:0.643234\n",
      "[2]\ttrain-auc:0.645265\tvalid-auc:0.642438\n",
      "[3]\ttrain-auc:0.646165\tvalid-auc:0.64351\n",
      "[4]\ttrain-auc:0.655627\tvalid-auc:0.648533\n",
      "[5]\ttrain-auc:0.657473\tvalid-auc:0.646935\n",
      "[6]\ttrain-auc:0.659608\tvalid-auc:0.64917\n",
      "[7]\ttrain-auc:0.661322\tvalid-auc:0.650421\n",
      "[8]\ttrain-auc:0.663886\tvalid-auc:0.650533\n",
      "[9]\ttrain-auc:0.663881\tvalid-auc:0.650457\n",
      "[10]\ttrain-auc:0.663944\tvalid-auc:0.65046\n",
      "[11]\ttrain-auc:0.665206\tvalid-auc:0.652675\n",
      "[12]\ttrain-auc:0.665579\tvalid-auc:0.652947\n",
      "[13]\ttrain-auc:0.666093\tvalid-auc:0.652253\n",
      "[14]\ttrain-auc:0.666882\tvalid-auc:0.653652\n",
      "[15]\ttrain-auc:0.667535\tvalid-auc:0.653031\n",
      "[16]\ttrain-auc:0.667577\tvalid-auc:0.653133\n",
      "[17]\ttrain-auc:0.667751\tvalid-auc:0.653733\n",
      "[18]\ttrain-auc:0.669415\tvalid-auc:0.653561\n",
      "[19]\ttrain-auc:0.677088\tvalid-auc:0.657811\n",
      "[20]\ttrain-auc:0.678154\tvalid-auc:0.65747\n",
      "[21]\ttrain-auc:0.679737\tvalid-auc:0.657464\n",
      "[22]\ttrain-auc:0.683136\tvalid-auc:0.657395\n",
      "[23]\ttrain-auc:0.685249\tvalid-auc:0.655573\n",
      "[24]\ttrain-auc:0.686465\tvalid-auc:0.655759\n",
      "[25]\ttrain-auc:0.687434\tvalid-auc:0.656078\n",
      "[26]\ttrain-auc:0.688686\tvalid-auc:0.656368\n",
      "[27]\ttrain-auc:0.691715\tvalid-auc:0.6542\n",
      "[28]\ttrain-auc:0.694766\tvalid-auc:0.656012\n",
      "[29]\ttrain-auc:0.69655\tvalid-auc:0.655989\n",
      "[30]\ttrain-auc:0.702517\tvalid-auc:0.658963\n",
      "[31]\ttrain-auc:0.703235\tvalid-auc:0.659367\n",
      "[32]\ttrain-auc:0.703809\tvalid-auc:0.658496\n",
      "[33]\ttrain-auc:0.705692\tvalid-auc:0.659471\n",
      "[34]\ttrain-auc:0.706796\tvalid-auc:0.661676\n",
      "[35]\ttrain-auc:0.710808\tvalid-auc:0.657743\n",
      "[36]\ttrain-auc:0.714246\tvalid-auc:0.657883\n",
      "[37]\ttrain-auc:0.715664\tvalid-auc:0.658442\n",
      "[38]\ttrain-auc:0.7171\tvalid-auc:0.659525\n",
      "[39]\ttrain-auc:0.72382\tvalid-auc:0.667035\n",
      "[40]\ttrain-auc:0.726973\tvalid-auc:0.667036\n",
      "[41]\ttrain-auc:0.730504\tvalid-auc:0.667798\n",
      "[42]\ttrain-auc:0.733809\tvalid-auc:0.664366\n",
      "[43]\ttrain-auc:0.737181\tvalid-auc:0.665485\n",
      "[44]\ttrain-auc:0.74189\tvalid-auc:0.665378\n",
      "[45]\ttrain-auc:0.743097\tvalid-auc:0.665339\n",
      "[46]\ttrain-auc:0.745711\tvalid-auc:0.665721\n",
      "[47]\ttrain-auc:0.750234\tvalid-auc:0.666006\n",
      "[48]\ttrain-auc:0.754497\tvalid-auc:0.666261\n",
      "[49]\ttrain-auc:0.75712\tvalid-auc:0.667318\n",
      "[50]\ttrain-auc:0.76116\tvalid-auc:0.667696\n",
      "[51]\ttrain-auc:0.765612\tvalid-auc:0.664916\n",
      "[52]\ttrain-auc:0.76796\tvalid-auc:0.666024\n",
      "[53]\ttrain-auc:0.770412\tvalid-auc:0.664593\n",
      "[54]\ttrain-auc:0.77209\tvalid-auc:0.665844\n",
      "[55]\ttrain-auc:0.773675\tvalid-auc:0.665973\n",
      "[56]\ttrain-auc:0.774595\tvalid-auc:0.665499\n",
      "[57]\ttrain-auc:0.776013\tvalid-auc:0.669245\n",
      "[58]\ttrain-auc:0.779417\tvalid-auc:0.669799\n",
      "[59]\ttrain-auc:0.78121\tvalid-auc:0.670826\n",
      "[60]\ttrain-auc:0.783204\tvalid-auc:0.67062\n",
      "[61]\ttrain-auc:0.784371\tvalid-auc:0.670754\n",
      "[62]\ttrain-auc:0.785739\tvalid-auc:0.670501\n",
      "[63]\ttrain-auc:0.788704\tvalid-auc:0.669534\n",
      "[64]\ttrain-auc:0.790803\tvalid-auc:0.671029\n",
      "[65]\ttrain-auc:0.794323\tvalid-auc:0.672207\n",
      "[66]\ttrain-auc:0.797002\tvalid-auc:0.668739\n",
      "[67]\ttrain-auc:0.798941\tvalid-auc:0.667835\n",
      "[68]\ttrain-auc:0.800274\tvalid-auc:0.667309\n",
      "[69]\ttrain-auc:0.801656\tvalid-auc:0.666381\n",
      "[70]\ttrain-auc:0.803449\tvalid-auc:0.666972\n",
      "[71]\ttrain-auc:0.805201\tvalid-auc:0.666703\n",
      "[72]\ttrain-auc:0.808459\tvalid-auc:0.666504\n",
      "[73]\ttrain-auc:0.809873\tvalid-auc:0.666805\n",
      "[74]\ttrain-auc:0.811064\tvalid-auc:0.666201\n",
      "[75]\ttrain-auc:0.812569\tvalid-auc:0.66594\n",
      "[76]\ttrain-auc:0.814129\tvalid-auc:0.665224\n",
      "[77]\ttrain-auc:0.817674\tvalid-auc:0.665721\n",
      "[78]\ttrain-auc:0.820418\tvalid-auc:0.66505\n",
      "[79]\ttrain-auc:0.822119\tvalid-auc:0.664598\n"
     ]
    },
    {
     "name": "stdout",
     "output_type": "stream",
     "text": [
      "[80]\ttrain-auc:0.82485\tvalid-auc:0.663782\n",
      "[81]\ttrain-auc:0.827209\tvalid-auc:0.665227\n",
      "[82]\ttrain-auc:0.829144\tvalid-auc:0.664217\n",
      "[83]\ttrain-auc:0.831815\tvalid-auc:0.662836\n",
      "[84]\ttrain-auc:0.832206\tvalid-auc:0.662424\n",
      "[85]\ttrain-auc:0.834265\tvalid-auc:0.662916\n",
      "[86]\ttrain-auc:0.836778\tvalid-auc:0.662213\n",
      "[87]\ttrain-auc:0.838666\tvalid-auc:0.661718\n",
      "[88]\ttrain-auc:0.840203\tvalid-auc:0.661087\n",
      "[89]\ttrain-auc:0.841724\tvalid-auc:0.660848\n",
      "[90]\ttrain-auc:0.843744\tvalid-auc:0.660664\n",
      "[91]\ttrain-auc:0.847277\tvalid-auc:0.661182\n",
      "[92]\ttrain-auc:0.849616\tvalid-auc:0.662085\n",
      "[93]\ttrain-auc:0.851121\tvalid-auc:0.66248\n",
      "[94]\ttrain-auc:0.852751\tvalid-auc:0.662537\n",
      "[95]\ttrain-auc:0.854391\tvalid-auc:0.662752\n",
      "[96]\ttrain-auc:0.855938\tvalid-auc:0.663607\n",
      "[97]\ttrain-auc:0.857686\tvalid-auc:0.664285\n",
      "[98]\ttrain-auc:0.860355\tvalid-auc:0.662694\n",
      "[99]\ttrain-auc:0.862614\tvalid-auc:0.662459\n",
      "[100]\ttrain-auc:0.863344\tvalid-auc:0.662029\n",
      "[101]\ttrain-auc:0.865265\tvalid-auc:0.660631\n",
      "[102]\ttrain-auc:0.866996\tvalid-auc:0.661501\n",
      "[103]\ttrain-auc:0.86878\tvalid-auc:0.660817\n",
      "[104]\ttrain-auc:0.870956\tvalid-auc:0.661349\n",
      "[105]\ttrain-auc:0.87223\tvalid-auc:0.660619\n",
      "[106]\ttrain-auc:0.873951\tvalid-auc:0.661776\n",
      "[107]\ttrain-auc:0.875289\tvalid-auc:0.662393\n",
      "[108]\ttrain-auc:0.876732\tvalid-auc:0.661577\n",
      "[109]\ttrain-auc:0.87686\tvalid-auc:0.661645\n",
      "[110]\ttrain-auc:0.878495\tvalid-auc:0.66209\n",
      "[111]\ttrain-auc:0.880265\tvalid-auc:0.66352\n",
      "[112]\ttrain-auc:0.88195\tvalid-auc:0.664038\n",
      "[113]\ttrain-auc:0.884231\tvalid-auc:0.664354\n",
      "[114]\ttrain-auc:0.886128\tvalid-auc:0.662974\n",
      "[115]\ttrain-auc:0.887824\tvalid-auc:0.663911\n",
      "Stopping. Best iteration:\n",
      "[65]\ttrain-auc:0.794323\tvalid-auc:0.672207\n",
      "\n",
      "[mlcrate] Finished training fold 6 - took 7s - running score 0.6734004285714287\n",
      "[mlcrate] Finished training 7 XGBoost models, took 45s\n"
     ]
    }
   ],
   "source": [
    "model_xgb, p_train, p_test  = mlcrate.xgb.train_kfold(params, X_train_stack, target, X_test_stack\\\n",
    "                                                       , folds = 7,skip_checks = True, stratify=target, print_imp='final')"
   ]
  },
  {
   "cell_type": "code",
   "execution_count": 36,
   "metadata": {
    "ExecuteTime": {
     "end_time": "2018-07-12T12:17:45.044278Z",
     "start_time": "2018-07-12T12:17:44.772229Z"
    },
    "hidden": true
   },
   "outputs": [],
   "source": [
    "def make_submission(probs):\n",
    "    sample = pd.read_csv(f'{PATH}\\\\AV_Stud_2\\\\sample_submission.csv')\n",
    "    submit = sample.copy()\n",
    "    submit['target'] = probs\n",
    "    return submit"
   ]
  },
  {
   "cell_type": "code",
   "execution_count": 37,
   "metadata": {
    "ExecuteTime": {
     "end_time": "2018-07-12T12:17:45.436229Z",
     "start_time": "2018-07-12T12:17:45.044278Z"
    },
    "hidden": true
   },
   "outputs": [
    {
     "data": {
      "text/html": [
       "<div>\n",
       "<style>\n",
       "    .dataframe thead tr:only-child th {\n",
       "        text-align: right;\n",
       "    }\n",
       "\n",
       "    .dataframe thead th {\n",
       "        text-align: left;\n",
       "    }\n",
       "\n",
       "    .dataframe tbody tr th {\n",
       "        vertical-align: top;\n",
       "    }\n",
       "</style>\n",
       "<table border=\"1\" class=\"dataframe\">\n",
       "  <thead>\n",
       "    <tr style=\"text-align: right;\">\n",
       "      <th></th>\n",
       "      <th>enrollee_id</th>\n",
       "      <th>target</th>\n",
       "    </tr>\n",
       "  </thead>\n",
       "  <tbody>\n",
       "    <tr>\n",
       "      <th>0</th>\n",
       "      <td>16548</td>\n",
       "      <td>0.212668</td>\n",
       "    </tr>\n",
       "    <tr>\n",
       "      <th>1</th>\n",
       "      <td>12036</td>\n",
       "      <td>0.021563</td>\n",
       "    </tr>\n",
       "  </tbody>\n",
       "</table>\n",
       "</div>"
      ],
      "text/plain": [
       "   enrollee_id    target\n",
       "0        16548  0.212668\n",
       "1        12036  0.021563"
      ]
     },
     "execution_count": 37,
     "metadata": {},
     "output_type": "execute_result"
    }
   ],
   "source": [
    "submit = make_submission(p_test)\n",
    "submit.to_csv(f'{PATH}\\\\AV_Stud_2\\\\xgb_remake_2.csv', index=False)\n",
    "submit.head(2)\n",
    "\n",
    "# np.save(f'{PATH}\\\\AV_Stud_2\\\\xgb_oof_1207.npy', p_train)\n",
    "# np.save(f'{PATH}\\\\AV_Stud_2\\\\raw_train_dummy_impact_train67.npy', X_train_stack)\n",
    "# np.save(f'{PATH}\\\\AV_Stud_2\\\\raw_test_dummy_impact_test67.npy', X_test_stack)\n",
    "\n",
    "# np.save(f'{PATH}\\\\AV_Stud_2\\\\train_no_cat_with_std_pca.npy', df_raw)\n",
    "# np.save(f'{PATH}\\\\AV_Stud_2\\\\test_no_cat_with_std_pca.npy', df_test)"
   ]
  },
  {
   "cell_type": "code",
   "execution_count": 272,
   "metadata": {
    "ExecuteTime": {
     "end_time": "2018-07-12T09:32:47.952575Z",
     "start_time": "2018-07-12T09:32:46.825246Z"
    },
    "hidden": true
   },
   "outputs": [],
   "source": [
    "df_raw.to_csv(f'{PATH}\\\\AV_Stud_2\\\\clean_train_1207.csv', index=False)\n",
    "df_test.to_csv(f'{PATH}\\\\AV_Stud_2\\\\clean_test_1207.csv', index=False)"
   ]
  },
  {
   "cell_type": "code",
   "execution_count": 4,
   "metadata": {
    "ExecuteTime": {
     "end_time": "2018-07-12T02:47:05.473236Z",
     "start_time": "2018-07-12T02:47:04.834556Z"
    },
    "hidden": true
   },
   "outputs": [],
   "source": [
    "train = np.load(f'{PATH}\\\\AV_Stud_2\\\\train_dummy_impact_train67.npy')"
   ]
  },
  {
   "cell_type": "code",
   "execution_count": 5,
   "metadata": {
    "ExecuteTime": {
     "end_time": "2018-07-12T02:48:38.578798Z",
     "start_time": "2018-07-12T02:48:37.428446Z"
    },
    "hidden": true
   },
   "outputs": [],
   "source": [
    "np.savetxt(f'{PATH}\\\\AV_Stud_2\\\\train_dummy_impact_train67.csv',train, delimiter=',')"
   ]
  },
  {
   "cell_type": "code",
   "execution_count": 6,
   "metadata": {
    "ExecuteTime": {
     "end_time": "2018-07-12T02:50:34.082185Z",
     "start_time": "2018-07-12T02:50:31.606279Z"
    },
    "hidden": true
   },
   "outputs": [],
   "source": [
    "test = np.load(f'{PATH}\\\\AV_Stud_2\\\\test_dummy_impact_test67.npy')\n",
    "np.savetxt(f'{PATH}\\\\AV_Stud_2\\\\test_dummy_impact_train67.csv',test, delimiter=',')"
   ]
  },
  {
   "cell_type": "code",
   "execution_count": 15,
   "metadata": {
    "ExecuteTime": {
     "end_time": "2018-07-12T04:50:36.480797Z",
     "start_time": "2018-07-12T04:50:36.203092Z"
    },
    "hidden": true
   },
   "outputs": [],
   "source": [
    "clf_et = ExtraTreesClassifier(criterion='entropy',max_leaf_nodes=0,n_estimators=500,\\\n",
    "                             min_impurity_split=0.0001,n_jobs=4,max_features=0.7,max_depth=8,min_samples_leaf=1,\\\n",
    "                             class_weight='balanced')"
   ]
  },
  {
   "cell_type": "code",
   "execution_count": 40,
   "metadata": {
    "ExecuteTime": {
     "end_time": "2018-07-12T12:25:28.346982Z",
     "start_time": "2018-07-12T12:25:28.047355Z"
    },
    "hidden": true
   },
   "outputs": [
    {
     "data": {
      "text/plain": [
       "dict_keys(['boosting_type', 'class_weight', 'colsample_bytree', 'learning_rate', 'max_depth', 'min_child_samples', 'min_child_weight', 'min_split_gain', 'n_estimators', 'n_jobs', 'num_leaves', 'objective', 'random_state', 'reg_alpha', 'reg_lambda', 'silent', 'subsample', 'subsample_for_bin', 'subsample_freq', 'max_bin', 'scale_pos_weight'])"
      ]
     },
     "execution_count": 40,
     "metadata": {},
     "output_type": "execute_result"
    }
   ],
   "source": [
    "# Create parameters to search\n",
    "gridParams = {\n",
    "    'learning_rate': [0.05],\n",
    "    'n_estimators': [100, 150, 250, 500],\n",
    "    'num_leaves': [255,511],\n",
    "    'boosting_type' : ['gbdt'],\n",
    "    'objective' : ['binary'],\n",
    "    'random_state' : [501], # Updated from 'seed'\n",
    "    'colsample_bytree' : [.7, 0.74, 0.75, 0.76, .85],\n",
    "    'subsample' : [0.7,0.75, .8],\n",
    "    'reg_alpha' : [1,1.2],\n",
    "    'reg_lambda' : [1,1.2,1.4],\n",
    "    }\n",
    "\n",
    "# Create classifier to use. Note that parameters have to be input manually\n",
    "# not as a dict!\n",
    "mdl = lgb.LGBMClassifier(boosting_type= 'gbdt', \n",
    "          objective = 'binary', \n",
    "          n_jobs = -1, # Updated from 'nthread' \n",
    "          silent = False,\n",
    "          max_depth = 8,\n",
    "          max_bin = 128, \n",
    "          subsample_for_bin = 1,\n",
    "          subsample = .7, \n",
    "          subsample_freq = 1, \n",
    "          min_split_gain = .5,  \n",
    "          scale_pos_weight = 0.1346)\n",
    "\n",
    "# To view the default model params:\n",
    "mdl.get_params().keys()"
   ]
  },
  {
   "cell_type": "code",
   "execution_count": 41,
   "metadata": {
    "ExecuteTime": {
     "end_time": "2018-07-12T12:43:31.197694Z",
     "start_time": "2018-07-12T12:25:29.088981Z"
    },
    "hidden": true
   },
   "outputs": [
    {
     "name": "stdout",
     "output_type": "stream",
     "text": [
      "Fitting 5 folds for each of 720 candidates, totalling 3600 fits\n"
     ]
    },
    {
     "name": "stderr",
     "output_type": "stream",
     "text": [
      "[Parallel(n_jobs=-1)]: Done  42 tasks      | elapsed:   11.1s\n",
      "[Parallel(n_jobs=-1)]: Done 192 tasks      | elapsed:   33.7s\n",
      "[Parallel(n_jobs=-1)]: Done 442 tasks      | elapsed:  1.6min\n",
      "[Parallel(n_jobs=-1)]: Done 792 tasks      | elapsed:  4.1min\n",
      "[Parallel(n_jobs=-1)]: Done 1242 tasks      | elapsed:  5.7min\n",
      "[Parallel(n_jobs=-1)]: Done 1792 tasks      | elapsed:  8.5min\n",
      "[Parallel(n_jobs=-1)]: Done 2442 tasks      | elapsed: 11.8min\n",
      "[Parallel(n_jobs=-1)]: Done 3192 tasks      | elapsed: 15.4min\n",
      "[Parallel(n_jobs=-1)]: Done 3600 out of 3600 | elapsed: 18.0min finished\n"
     ]
    },
    {
     "name": "stdout",
     "output_type": "stream",
     "text": [
      "{'boosting_type': 'gbdt', 'colsample_bytree': 0.7, 'learning_rate': 0.05, 'n_estimators': 100, 'num_leaves': 255, 'objective': 'binary', 'random_state': 501, 'reg_alpha': 1, 'reg_lambda': 1, 'subsample': 0.7}\n",
      "0.867912195653\n"
     ]
    }
   ],
   "source": [
    "# Create the grid\n",
    "grid = GridSearchCV(mdl, gridParams, verbose=1, cv=5, n_jobs=-1)\n",
    "# Run the grid\n",
    "grid.fit(X_train_stack, target)\n",
    "\n",
    "# Print the best parameters found\n",
    "print(grid.best_params_)\n",
    "print(grid.best_score_)"
   ]
  },
  {
   "cell_type": "code",
   "execution_count": 45,
   "metadata": {
    "ExecuteTime": {
     "end_time": "2018-07-12T12:43:52.404197Z",
     "start_time": "2018-07-12T12:43:52.181062Z"
    },
    "hidden": true
   },
   "outputs": [],
   "source": [
    "params = {}"
   ]
  },
  {
   "cell_type": "code",
   "execution_count": 46,
   "metadata": {
    "ExecuteTime": {
     "end_time": "2018-07-12T12:44:15.886173Z",
     "start_time": "2018-07-12T12:43:52.791180Z"
    },
    "hidden": true
   },
   "outputs": [
    {
     "name": "stdout",
     "output_type": "stream",
     "text": [
      "Fitting with params: \n",
      "{'colsample_bytree': 0.7, 'learning_rate': 0.05, 'num_leaves': 255, 'reg_alpha': 1, 'reg_lambda': 1, 'subsample': 0.7}\n",
      "Fitting model 0\n"
     ]
    },
    {
     "data": {
      "image/png": "[encoded data removed]",
      "text/plain": [
       "<matplotlib.figure.Figure at 0x20ce1301cc0>"
      ]
     },
     "metadata": {},
     "output_type": "display_data"
    },
    {
     "name": "stdout",
     "output_type": "stream",
     "text": [
      "Fitting model 1\n"
     ]
    },
    {
     "data": {
      "image/png": "[encoded data removed]",
      "text/plain": [
       "<matplotlib.figure.Figure at 0x20ce1301dd8>"
      ]
     },
     "metadata": {},
     "output_type": "display_data"
    }
   ],
   "source": [
    "# Using parameters already set above, replace in the best from the grid search\n",
    "params['colsample_bytree'] = grid.best_params_['colsample_bytree']\n",
    "params['learning_rate'] = 0.05 \n",
    "# params['max_bin'] = grid.best_params_['max_bin']\n",
    "params['num_leaves'] = grid.best_params_['num_leaves']\n",
    "params['reg_alpha'] = grid.best_params_['reg_alpha']\n",
    "params['reg_lambda'] = grid.best_params_['reg_lambda']\n",
    "params['subsample'] = grid.best_params_['subsample']\n",
    "\n",
    "print('Fitting with params: ')\n",
    "print(params)\n",
    "\n",
    "# Kit k models with early-stopping on different training/validation splits\n",
    "k = 2;\n",
    "predsValid = 0 \n",
    "predsTrain = 0\n",
    "predsTest = 0\n",
    "l = ['split','gain']\n",
    "for i in range(0, k): \n",
    "    print('Fitting model', i)\n",
    "    \n",
    "    # Prepare the data set for fold\n",
    "    X_train, X_test, y_train, y_test = train_test_split(X_train_stack, target, test_size=0.2, random_state=7, shuffle=True)\n",
    "    \n",
    "    d_train = lgb.Dataset(X_train, label=y_train)\n",
    "    d_test = lgb.Dataset(X_test, label=y_test)\n",
    "    \n",
    "    # Train     \n",
    "    gbm = lgb.train(params,\n",
    "                    d_train, \n",
    "                    1000, \n",
    "                    verbose_eval=1)\n",
    "\n",
    "    # Plot importance\n",
    "    lgb.plot_importance(gbm,max_num_features=10, importance_type=l[i])\n",
    "    plt.show()"
   ]
  }
 ],
 "metadata": {
  "kernelspec": {
   "display_name": "Python 3",
   "language": "python",
   "name": "python3"
  },
  "language_info": {
   "codemirror_mode": {
    "name": "ipython",
    "version": 3
   },
   "file_extension": ".py",
   "mimetype": "text/x-python",
   "name": "python",
   "nbconvert_exporter": "python",
   "pygments_lexer": "ipython3",
   "version": "3.6.3"
  },
  "nbTranslate": {
   "displayLangs": [
    "*"
   ],
   "hotkey": "alt-t",
   "langInMainMenu": true,
   "sourceLang": "en",
   "targetLang": "fr",
   "useGoogleTranslate": true
  }
 },
 "nbformat": 4,
 "nbformat_minor": 2
}
