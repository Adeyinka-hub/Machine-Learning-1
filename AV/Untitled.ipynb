{
 "cells": [
  {
   "cell_type": "code",
   "execution_count": 1,
   "metadata": {
    "ExecuteTime": {
     "end_time": "2018-09-01T21:16:28.430999Z",
     "start_time": "2018-09-01T21:16:26.143962Z"
    }
   },
   "outputs": [],
   "source": [
    "import time\n",
    "import xgboost as xgb\n",
    "import lightgbm as lgb\n",
    "# import category_encoders as cat_ed\n",
    "import gc, mlcrate, glob\n",
    "\n",
    "# from gplearn.genetic import SymbolicTransformer, SymbolicRegressor\n",
    "from fastai.imports import *\n",
    "from fastai.structured import *\n",
    "from pandas_summary import DataFrameSummary\n",
    "from sklearn.ensemble import RandomForestRegressor, ExtraTreesRegressor\n",
    "from IPython.display import display\n",
    "\n",
    "from catboost import CatBoostRegressor\n",
    "from scipy.cluster import hierarchy as hc\n",
    "from collections import Counter\n",
    "\n",
    "from sklearn import metrics\n",
    "from sklearn.linear_model import LogisticRegression\n",
    "from sklearn.model_selection import train_test_split\n",
    "from sklearn.metrics import mean_squared_error\n",
    "from sklearn.metrics import  roc_auc_score, log_loss\n",
    "from sklearn.model_selection import KFold, StratifiedKFold\n",
    "from sklearn.model_selection import GridSearchCV\n",
    "from sklearn.decomposition import PCA, TruncatedSVD, FastICA, FactorAnalysis\n",
    "from sklearn.random_projection import GaussianRandomProjection, SparseRandomProjection\n",
    "from sklearn.cluster import KMeans\n",
    "\n",
    "from sklearn.metrics import accuracy_score, log_loss\n",
    "from sklearn.neighbors import KNeighborsRegressor\n",
    "from sklearn.tree import DecisionTreeRegressor\n",
    "from sklearn.ensemble import AdaBoostRegressor, GradientBoostingRegressor\n",
    "from sklearn.naive_bayes import GaussianNB\n",
    "from sklearn.discriminant_analysis import QuadraticDiscriminantAnalysis\n",
    "from sklearn.neural_network import MLPRegressor\n",
    "from sklearn.gaussian_process import GaussianProcessRegressor\n",
    "from sklearn.gaussian_process.kernels import RBF\n",
    "\n",
    "# will ignore all warning from sklearn, seaborn etc..\n",
    "def ignore_warn(*args, **kwargs):\n",
    "    pass\n",
    "warnings.warn = ignore_warn\n",
    "\n",
    "pd.option_context(\"display.max_rows\", 1000);\n",
    "pd.option_context(\"display.max_columns\", 1000);\n",
    "\n",
    "PATH = os.getcwd()\n",
    "\n",
    "df_raw = pd.read_csv(f'{PATH}\\\\train.csv', low_memory=False)\n",
    "df_test = pd.read_csv(f'{PATH}\\\\test.csv', low_memory=False)\n",
    "\n",
    "def display_all(df):\n",
    "    with pd.option_context(\"display.max_rows\", 100): \n",
    "        with pd.option_context(\"display.max_columns\", 100): \n",
    "            display(df)\n",
    "            \n",
    "def make_submission(probs):\n",
    "    sample = pd.read_csv(f'{PATH}\\\\sample_submission.csv')\n",
    "    submit = sample.copy()\n",
    "    submit['Upvotes'] = probs\n",
    "    return submit"
   ]
  },
  {
   "cell_type": "code",
   "execution_count": 2,
   "metadata": {
    "ExecuteTime": {
     "end_time": "2018-09-01T21:16:28.452646Z",
     "start_time": "2018-09-01T21:16:28.432665Z"
    }
   },
   "outputs": [
    {
     "data": {
      "text/html": [
       "<div>\n",
       "<style scoped>\n",
       "    .dataframe tbody tr th:only-of-type {\n",
       "        vertical-align: middle;\n",
       "    }\n",
       "\n",
       "    .dataframe tbody tr th {\n",
       "        vertical-align: top;\n",
       "    }\n",
       "\n",
       "    .dataframe thead th {\n",
       "        text-align: right;\n",
       "    }\n",
       "</style>\n",
       "<table border=\"1\" class=\"dataframe\">\n",
       "  <thead>\n",
       "    <tr style=\"text-align: right;\">\n",
       "      <th></th>\n",
       "      <th>ID</th>\n",
       "      <th>Tag</th>\n",
       "      <th>Reputation</th>\n",
       "      <th>Answers</th>\n",
       "      <th>Username</th>\n",
       "      <th>Views</th>\n",
       "      <th>Upvotes</th>\n",
       "    </tr>\n",
       "  </thead>\n",
       "  <tbody>\n",
       "    <tr>\n",
       "      <th>0</th>\n",
       "      <td>52664</td>\n",
       "      <td>a</td>\n",
       "      <td>3942.0</td>\n",
       "      <td>2.0</td>\n",
       "      <td>155623</td>\n",
       "      <td>7855.0</td>\n",
       "      <td>42.0</td>\n",
       "    </tr>\n",
       "    <tr>\n",
       "      <th>1</th>\n",
       "      <td>327662</td>\n",
       "      <td>a</td>\n",
       "      <td>26046.0</td>\n",
       "      <td>12.0</td>\n",
       "      <td>21781</td>\n",
       "      <td>55801.0</td>\n",
       "      <td>1175.0</td>\n",
       "    </tr>\n",
       "    <tr>\n",
       "      <th>2</th>\n",
       "      <td>468453</td>\n",
       "      <td>c</td>\n",
       "      <td>1358.0</td>\n",
       "      <td>4.0</td>\n",
       "      <td>56177</td>\n",
       "      <td>8067.0</td>\n",
       "      <td>60.0</td>\n",
       "    </tr>\n",
       "    <tr>\n",
       "      <th>3</th>\n",
       "      <td>96996</td>\n",
       "      <td>a</td>\n",
       "      <td>264.0</td>\n",
       "      <td>3.0</td>\n",
       "      <td>168793</td>\n",
       "      <td>27064.0</td>\n",
       "      <td>9.0</td>\n",
       "    </tr>\n",
       "    <tr>\n",
       "      <th>4</th>\n",
       "      <td>131465</td>\n",
       "      <td>c</td>\n",
       "      <td>4271.0</td>\n",
       "      <td>4.0</td>\n",
       "      <td>112223</td>\n",
       "      <td>13986.0</td>\n",
       "      <td>83.0</td>\n",
       "    </tr>\n",
       "  </tbody>\n",
       "</table>\n",
       "</div>"
      ],
      "text/plain": [
       "       ID Tag  Reputation  Answers  Username    Views  Upvotes\n",
       "0   52664   a      3942.0      2.0    155623   7855.0     42.0\n",
       "1  327662   a     26046.0     12.0     21781  55801.0   1175.0\n",
       "2  468453   c      1358.0      4.0     56177   8067.0     60.0\n",
       "3   96996   a       264.0      3.0    168793  27064.0      9.0\n",
       "4  131465   c      4271.0      4.0    112223  13986.0     83.0"
      ]
     },
     "execution_count": 2,
     "metadata": {},
     "output_type": "execute_result"
    }
   ],
   "source": [
    "df_raw.head()"
   ]
  },
  {
   "cell_type": "markdown",
   "metadata": {},
   "source": [
    "## Outliers + EDA"
   ]
  },
  {
   "cell_type": "code",
   "execution_count": 3,
   "metadata": {
    "ExecuteTime": {
     "end_time": "2018-09-01T21:16:31.197790Z",
     "start_time": "2018-09-01T21:16:31.146959Z"
    }
   },
   "outputs": [
    {
     "name": "stdout",
     "output_type": "stream",
     "text": [
      "Train: 141802\n",
      "Test: 79351\n"
     ]
    }
   ],
   "source": [
    "man_train_list = df_raw.Username.unique()\n",
    "man_test_list = df_test.Username.unique()\n",
    "print(\"Train: {0}\".format(len(man_train_list)))\n",
    "print(\"Test: {0}\".format(len(man_test_list)))"
   ]
  },
  {
   "cell_type": "code",
   "execution_count": 4,
   "metadata": {
    "ExecuteTime": {
     "end_time": "2018-09-01T21:16:32.712574Z",
     "start_time": "2018-09-01T21:16:32.553980Z"
    }
   },
   "outputs": [
    {
     "name": "stdout",
     "output_type": "stream",
     "text": [
      "96388 man are featured in train but not in test\n",
      "33937 man are featured in test but not in train\n"
     ]
    }
   ],
   "source": [
    "man_not_in_test = set(man_train_list) - set(man_test_list)\n",
    "man_not_in_train = set(man_test_list) - set(man_train_list)\n",
    "\n",
    "print(\"{} man are featured in train but not in test\".format(len(man_not_in_test)))\n",
    "print(\"{} man are featured in test but not in train\".format(len(man_not_in_train)))"
   ]
  },
  {
   "cell_type": "code",
   "execution_count": 5,
   "metadata": {
    "ExecuteTime": {
     "end_time": "2018-09-01T21:16:37.937455Z",
     "start_time": "2018-09-01T21:16:37.850462Z"
    }
   },
   "outputs": [],
   "source": [
    "#df_raw.drop(index = df_raw.loc[list(man_not_in_test)].index, inplace=True)\n",
    "df_raw.drop(index = df_raw[(df_raw['Reputation'] == 0) & (df_raw['Upvotes'] != 0)].index, inplace=True)\n",
    "df_raw.drop(index = df_raw[(df_raw['Upvotes'] == 0) & (df_raw['Views']>1000)].index, inplace=True)"
   ]
  },
  {
   "cell_type": "code",
   "execution_count": 6,
   "metadata": {
    "ExecuteTime": {
     "end_time": "2018-09-01T21:16:39.210827Z",
     "start_time": "2018-09-01T21:16:38.941551Z"
    }
   },
   "outputs": [],
   "source": [
    "df_raw.sort_values(by=['Username', 'Reputation', 'Views'], inplace=True)"
   ]
  },
  {
   "cell_type": "code",
   "execution_count": 7,
   "metadata": {
    "ExecuteTime": {
     "end_time": "2018-09-01T21:16:40.228215Z",
     "start_time": "2018-09-01T21:16:40.011792Z"
    },
    "scrolled": true
   },
   "outputs": [],
   "source": [
    "temp1 = df_raw.groupby('Username').count().iloc[:,-1]\n",
    "temp2 = df_test.groupby('Username').count().iloc[:,-1]\n",
    "df_man = pd.concat([temp1,temp2], axis = 1, join = 'outer')\n",
    "df_man.columns = ['train_count','test_count']"
   ]
  },
  {
   "cell_type": "code",
   "execution_count": 8,
   "metadata": {
    "ExecuteTime": {
     "end_time": "2018-09-01T21:16:40.408354Z",
     "start_time": "2018-09-01T21:16:40.246478Z"
    }
   },
   "outputs": [
    {
     "data": {
      "text/plain": [
       "<matplotlib.axes._subplots.AxesSubplot at 0x2824da390b8>"
      ]
     },
     "execution_count": 8,
     "metadata": {},
     "output_type": "execute_result"
    }
   ],
   "source": [
    "df_man.sort_values(by = 'train_count', ascending = False).plot.scatter(x = 'train_count', y = 'test_count')"
   ]
  },
  {
   "cell_type": "code",
   "execution_count": 9,
   "metadata": {
    "ExecuteTime": {
     "end_time": "2018-09-01T21:16:42.720976Z",
     "start_time": "2018-09-01T21:16:41.582064Z"
    }
   },
   "outputs": [],
   "source": [
    "xyz = pd.concat([df_raw.groupby('Username').mean(),df_raw.groupby('Username').count()], axis = 1).iloc[:,:-5]\n",
    "xyz.columns = ['ID', 'Reputation', 'Answers', 'Views', 'Upvotes', 'count']\n",
    "############################################################################################# Mean Aggs\n",
    "\n",
    "unames   = xyz.sort_values(by = 'count', ascending = False).reset_index()['Username'].values\n",
    "count    = xyz.sort_values(by = 'count', ascending = False).reset_index()['count'].values\n",
    "answers  = xyz.sort_values(by = 'count', ascending = False).reset_index()['Answers'].values\n",
    "views    = xyz.sort_values(by = 'count', ascending = False).reset_index()['Views'].values\n",
    "repo     = xyz.sort_values(by = 'count', ascending = False).reset_index()['Reputation'].values \n",
    "\n",
    "d = {}\n",
    "for idx,k in enumerate(unames):\n",
    "    d[k] = count[idx]\n",
    "df_raw['agg_count'] = df_raw['Username'].map(d)\n",
    "\n",
    "d = {}\n",
    "for idx,k in enumerate(unames):\n",
    "    d[k] = repo[idx]\n",
    "df_raw['agg_repo'] = df_raw['Username'].map(d)"
   ]
  },
  {
   "cell_type": "code",
   "execution_count": 10,
   "metadata": {
    "ExecuteTime": {
     "end_time": "2018-09-01T21:16:43.366293Z",
     "start_time": "2018-09-01T21:16:42.722970Z"
    }
   },
   "outputs": [],
   "source": [
    "xyz = pd.concat([df_test.groupby('Username').mean(),df_test.groupby('Username').count()], axis = 1).iloc[:,:-4]\n",
    "xyz.columns = ['ID', 'Reputation', 'Answers', 'Views', 'count']\n",
    "############################################################################################# Mean Aggs\n",
    "\n",
    "unames   = xyz.sort_values(by = 'count', ascending = False).reset_index()['Username'].values\n",
    "count    = xyz.sort_values(by = 'count', ascending = False).reset_index()['count'].values\n",
    "answers  = xyz.sort_values(by = 'count', ascending = False).reset_index()['Answers'].values\n",
    "views    = xyz.sort_values(by = 'count', ascending = False).reset_index()['Views'].values\n",
    "repo     = xyz.sort_values(by = 'count', ascending = False).reset_index()['Reputation'].values \n",
    "\n",
    "d = {}\n",
    "for idx,k in enumerate(unames):\n",
    "    d[k] = count[idx]\n",
    "df_test['agg_count'] = df_test['Username'].map(d)\n",
    "\n",
    "d = {}\n",
    "for idx,k in enumerate(unames):\n",
    "    d[k] = repo[idx]\n",
    "df_test['agg_repo'] = df_test['Username'].map(d)"
   ]
  },
  {
   "cell_type": "code",
   "execution_count": 11,
   "metadata": {
    "ExecuteTime": {
     "end_time": "2018-09-01T21:16:43.887800Z",
     "start_time": "2018-09-01T21:16:43.867846Z"
    },
    "scrolled": true
   },
   "outputs": [
    {
     "data": {
      "text/plain": [
       "((320674, 9), (141448, 8))"
      ]
     },
     "execution_count": 11,
     "metadata": {},
     "output_type": "execute_result"
    }
   ],
   "source": [
    "df_raw.shape, df_test.shape"
   ]
  },
  {
   "cell_type": "code",
   "execution_count": 12,
   "metadata": {
    "ExecuteTime": {
     "end_time": "2018-09-01T21:16:45.521515Z",
     "start_time": "2018-09-01T21:16:45.380892Z"
    },
    "scrolled": true
   },
   "outputs": [
    {
     "data": {
      "text/html": [
       "<div>\n",
       "<style scoped>\n",
       "    .dataframe tbody tr th:only-of-type {\n",
       "        vertical-align: middle;\n",
       "    }\n",
       "\n",
       "    .dataframe tbody tr th {\n",
       "        vertical-align: top;\n",
       "    }\n",
       "\n",
       "    .dataframe thead th {\n",
       "        text-align: right;\n",
       "    }\n",
       "</style>\n",
       "<table border=\"1\" class=\"dataframe\">\n",
       "  <thead>\n",
       "    <tr style=\"text-align: right;\">\n",
       "      <th></th>\n",
       "      <th>ID</th>\n",
       "      <th>Tag</th>\n",
       "      <th>Reputation</th>\n",
       "      <th>Answers</th>\n",
       "      <th>Username</th>\n",
       "      <th>Views</th>\n",
       "      <th>Upvotes</th>\n",
       "      <th>agg_count</th>\n",
       "      <th>agg_repo</th>\n",
       "    </tr>\n",
       "  </thead>\n",
       "  <tbody>\n",
       "    <tr>\n",
       "      <th>14992</th>\n",
       "      <td>24315</td>\n",
       "      <td>c</td>\n",
       "      <td>19251.0</td>\n",
       "      <td>4.0</td>\n",
       "      <td>98</td>\n",
       "      <td>2704.0</td>\n",
       "      <td>74.0</td>\n",
       "      <td>36</td>\n",
       "      <td>19251.0</td>\n",
       "    </tr>\n",
       "    <tr>\n",
       "      <th>259228</th>\n",
       "      <td>295193</td>\n",
       "      <td>x</td>\n",
       "      <td>19251.0</td>\n",
       "      <td>3.0</td>\n",
       "      <td>98</td>\n",
       "      <td>2795.0</td>\n",
       "      <td>45.0</td>\n",
       "      <td>36</td>\n",
       "      <td>19251.0</td>\n",
       "    </tr>\n",
       "    <tr>\n",
       "      <th>143092</th>\n",
       "      <td>219180</td>\n",
       "      <td>c</td>\n",
       "      <td>19251.0</td>\n",
       "      <td>2.0</td>\n",
       "      <td>98</td>\n",
       "      <td>4395.0</td>\n",
       "      <td>179.0</td>\n",
       "      <td>36</td>\n",
       "      <td>19251.0</td>\n",
       "    </tr>\n",
       "    <tr>\n",
       "      <th>263281</th>\n",
       "      <td>119851</td>\n",
       "      <td>c</td>\n",
       "      <td>19251.0</td>\n",
       "      <td>5.0</td>\n",
       "      <td>98</td>\n",
       "      <td>4428.0</td>\n",
       "      <td>98.0</td>\n",
       "      <td>36</td>\n",
       "      <td>19251.0</td>\n",
       "    </tr>\n",
       "    <tr>\n",
       "      <th>185191</th>\n",
       "      <td>221751</td>\n",
       "      <td>c</td>\n",
       "      <td>19251.0</td>\n",
       "      <td>2.0</td>\n",
       "      <td>98</td>\n",
       "      <td>5214.0</td>\n",
       "      <td>131.0</td>\n",
       "      <td>36</td>\n",
       "      <td>19251.0</td>\n",
       "    </tr>\n",
       "    <tr>\n",
       "      <th>223160</th>\n",
       "      <td>423665</td>\n",
       "      <td>i</td>\n",
       "      <td>19251.0</td>\n",
       "      <td>4.0</td>\n",
       "      <td>98</td>\n",
       "      <td>5777.0</td>\n",
       "      <td>112.0</td>\n",
       "      <td>36</td>\n",
       "      <td>19251.0</td>\n",
       "    </tr>\n",
       "    <tr>\n",
       "      <th>278323</th>\n",
       "      <td>254827</td>\n",
       "      <td>i</td>\n",
       "      <td>19251.0</td>\n",
       "      <td>3.0</td>\n",
       "      <td>98</td>\n",
       "      <td>6032.0</td>\n",
       "      <td>151.0</td>\n",
       "      <td>36</td>\n",
       "      <td>19251.0</td>\n",
       "    </tr>\n",
       "    <tr>\n",
       "      <th>36241</th>\n",
       "      <td>215050</td>\n",
       "      <td>i</td>\n",
       "      <td>19251.0</td>\n",
       "      <td>1.0</td>\n",
       "      <td>98</td>\n",
       "      <td>8579.0</td>\n",
       "      <td>156.0</td>\n",
       "      <td>36</td>\n",
       "      <td>19251.0</td>\n",
       "    </tr>\n",
       "    <tr>\n",
       "      <th>236475</th>\n",
       "      <td>138498</td>\n",
       "      <td>j</td>\n",
       "      <td>19251.0</td>\n",
       "      <td>2.0</td>\n",
       "      <td>98</td>\n",
       "      <td>9932.0</td>\n",
       "      <td>293.0</td>\n",
       "      <td>36</td>\n",
       "      <td>19251.0</td>\n",
       "    </tr>\n",
       "    <tr>\n",
       "      <th>253990</th>\n",
       "      <td>437801</td>\n",
       "      <td>c</td>\n",
       "      <td>19251.0</td>\n",
       "      <td>1.0</td>\n",
       "      <td>98</td>\n",
       "      <td>12914.0</td>\n",
       "      <td>294.0</td>\n",
       "      <td>36</td>\n",
       "      <td>19251.0</td>\n",
       "    </tr>\n",
       "  </tbody>\n",
       "</table>\n",
       "</div>"
      ],
      "text/plain": [
       "            ID Tag  Reputation  Answers  Username    Views  Upvotes  \\\n",
       "14992    24315   c     19251.0      4.0        98   2704.0     74.0   \n",
       "259228  295193   x     19251.0      3.0        98   2795.0     45.0   \n",
       "143092  219180   c     19251.0      2.0        98   4395.0    179.0   \n",
       "263281  119851   c     19251.0      5.0        98   4428.0     98.0   \n",
       "185191  221751   c     19251.0      2.0        98   5214.0    131.0   \n",
       "223160  423665   i     19251.0      4.0        98   5777.0    112.0   \n",
       "278323  254827   i     19251.0      3.0        98   6032.0    151.0   \n",
       "36241   215050   i     19251.0      1.0        98   8579.0    156.0   \n",
       "236475  138498   j     19251.0      2.0        98   9932.0    293.0   \n",
       "253990  437801   c     19251.0      1.0        98  12914.0    294.0   \n",
       "\n",
       "        agg_count  agg_repo  \n",
       "14992          36   19251.0  \n",
       "259228         36   19251.0  \n",
       "143092         36   19251.0  \n",
       "263281         36   19251.0  \n",
       "185191         36   19251.0  \n",
       "223160         36   19251.0  \n",
       "278323         36   19251.0  \n",
       "36241          36   19251.0  \n",
       "236475         36   19251.0  \n",
       "253990         36   19251.0  "
      ]
     },
     "execution_count": 12,
     "metadata": {},
     "output_type": "execute_result"
    }
   ],
   "source": [
    "df_raw[df_raw['Username'] == 98].head(10) #intresting Stuff All have same Reputaion ?? Why"
   ]
  },
  {
   "cell_type": "code",
   "execution_count": 13,
   "metadata": {
    "ExecuteTime": {
     "end_time": "2018-09-01T21:16:47.737785Z",
     "start_time": "2018-09-01T21:16:47.434892Z"
    }
   },
   "outputs": [],
   "source": [
    "unames_trn  = df_raw[['Username','Reputation']].groupby('Username')['Reputation'].nunique().reset_index()['Username'].values\n",
    "unames_test = df_test[['Username','Reputation']].groupby('Username')['Reputation'].nunique().reset_index()['Username'].values\n",
    "\n",
    "repo_trn     = df_raw[['Username','Reputation']].groupby('Username')['Reputation'].nunique().reset_index()['Reputation'].values\n",
    "repo_test    = df_test[['Username','Reputation']].groupby('Username')['Reputation'].nunique().reset_index()['Reputation'].values"
   ]
  },
  {
   "cell_type": "code",
   "execution_count": 14,
   "metadata": {
    "ExecuteTime": {
     "end_time": "2018-09-01T21:16:49.827820Z",
     "start_time": "2018-09-01T21:16:48.836263Z"
    }
   },
   "outputs": [],
   "source": [
    "d = {}\n",
    "for idx,k in enumerate(unames_trn):\n",
    "    d[k] = repo_trn[idx]\n",
    "df_raw['unique_repo'] = df_raw['Username'].map(d)\n",
    "\n",
    "d = {}\n",
    "for idx,k in enumerate(unames_test):\n",
    "    d[k] = repo_test[idx]\n",
    "df_test['unique_repo'] = df_test['Username'].map(d)"
   ]
  },
  {
   "cell_type": "code",
   "execution_count": 15,
   "metadata": {
    "ExecuteTime": {
     "end_time": "2018-09-01T21:16:51.503110Z",
     "start_time": "2018-09-01T21:16:51.149696Z"
    }
   },
   "outputs": [],
   "source": [
    "df_raw['one_time_user'] = False \n",
    "df_test['one_time_user'] = False \n",
    "\n",
    "unames_trn  = df_raw[(df_raw['unique_repo']  == 1) & (df_raw['agg_count'] == 1)]['Username'].values\n",
    "unames_test = df_test[(df_test['unique_repo']  == 1) & (df_test['agg_count'] == 1)]['Username'].values\n",
    "\n",
    "d = {}\n",
    "for idx,k in enumerate(unames_trn):\n",
    "    d[k] = True\n",
    "df_raw['one_time_user'] = df_raw['Username'].map(d)\n",
    "\n",
    "d = {}\n",
    "for idx,k in enumerate(unames_test):\n",
    "    d[k] = True\n",
    "df_test['one_time_user'] = df_test['Username'].map(d)\n",
    "\n",
    "df_raw.fillna(False,inplace=True)\n",
    "df_test.fillna(False,inplace=True)"
   ]
  },
  {
   "cell_type": "code",
   "execution_count": 16,
   "metadata": {
    "ExecuteTime": {
     "end_time": "2018-09-01T21:16:54.488856Z",
     "start_time": "2018-09-01T21:16:54.477839Z"
    },
    "scrolled": true
   },
   "outputs": [],
   "source": [
    "df_raw[(df_raw['Views']>10000) & (df_raw['Answers'] == 1)] ;#remeber binning views"
   ]
  },
  {
   "cell_type": "code",
   "execution_count": 17,
   "metadata": {
    "ExecuteTime": {
     "end_time": "2018-09-01T21:16:55.630346Z",
     "start_time": "2018-09-01T21:16:55.620371Z"
    },
    "scrolled": true
   },
   "outputs": [],
   "source": [
    "df_raw[(df_raw['Views']>75000) & (df_raw['Answers'] == 1) &(df_raw['one_time_user']==True)];"
   ]
  },
  {
   "cell_type": "code",
   "execution_count": 18,
   "metadata": {
    "ExecuteTime": {
     "end_time": "2018-09-01T21:16:56.945376Z",
     "start_time": "2018-09-01T21:16:56.830687Z"
    }
   },
   "outputs": [
    {
     "data": {
      "text/plain": [
       "(9.0, 5231058.0, 9.0, 5004669.0)"
      ]
     },
     "execution_count": 18,
     "metadata": {},
     "output_type": "execute_result"
    }
   ],
   "source": [
    "min(df_raw['Views']), max(df_raw['Views']), min(df_test['Views']), max(df_test['Views'])"
   ]
  },
  {
   "cell_type": "code",
   "execution_count": 19,
   "metadata": {
    "ExecuteTime": {
     "end_time": "2018-09-01T21:16:58.755480Z",
     "start_time": "2018-09-01T21:16:58.737494Z"
    }
   },
   "outputs": [],
   "source": [
    "df_raw['avg_repo'] = df_raw['Reputation']/ df_raw['unique_repo']\n",
    "df_test['avg_repo'] = df_test['Reputation']/ df_test['unique_repo']"
   ]
  },
  {
   "cell_type": "code",
   "execution_count": 20,
   "metadata": {
    "ExecuteTime": {
     "end_time": "2018-09-01T21:17:00.222698Z",
     "start_time": "2018-09-01T21:17:00.059691Z"
    }
   },
   "outputs": [
    {
     "data": {
      "text/plain": [
       "((320674, 22), (141448, 21))"
      ]
     },
     "execution_count": 20,
     "metadata": {},
     "output_type": "execute_result"
    }
   ],
   "source": [
    "add_trans = ['Reputation', 'Answers', 'Views']\n",
    "\n",
    "for col in add_trans:\n",
    "    \n",
    "    df_raw[f'log_trans_{col}'.format(col)]  = np.log(df_raw[col] + 1) #avoid log 0's if any\n",
    "    df_test[f'log_trans_{col}'.format(col)] = np.log(df_test[col] + 1) #avoid log 0's if any\n",
    "    df_raw[f'sqrt_trans_{col}'.format(col)]  = np.sqrt(df_raw[col])\n",
    "    df_test[f'sqrt_trans_{col}'.format(col)] = np.sqrt(df_test[col])\n",
    "    \n",
    "df_raw['repo_per_Answers'] = df_raw['Reputation'] / (df_raw['Answers']+1)\n",
    "df_raw['repo_per_Views']   = df_raw['Reputation'] / df_raw['Views']\n",
    "df_raw['log_trans_repo_per_Answers'] = np.log(df_raw['repo_per_Answers'] + 1)\n",
    "df_raw['log_trans_repo_per_Views']   = np.log(df_raw['repo_per_Views'] + 1)\n",
    "\n",
    "df_test['repo_per_Answers'] = df_test['Reputation'] / (df_test['Answers'] +1)\n",
    "df_test['repo_per_Views']   = df_test['Reputation'] / df_test['Views']\n",
    "df_test['log_trans_repo_per_Answers'] = np.log(df_test['repo_per_Answers'] + 1)\n",
    "df_test['log_trans_repo_per_Views']   = np.log(df_test['repo_per_Views'] + 1)\n",
    "\n",
    "df_raw.shape, df_test.shape"
   ]
  },
  {
   "cell_type": "code",
   "execution_count": 21,
   "metadata": {
    "ExecuteTime": {
     "end_time": "2018-09-01T21:17:04.078688Z",
     "start_time": "2018-09-01T21:17:02.307021Z"
    }
   },
   "outputs": [],
   "source": [
    "unames_trn  = df_raw[['Username','Tag']].groupby('Username')['Tag'].nunique().reset_index()['Username'].values\n",
    "unames_test = df_test[['Username','Tag']].groupby('Username')['Tag'].nunique().reset_index()['Username'].values\n",
    "\n",
    "tag_trn     = df_raw[['Username','Tag']].groupby('Username')['Tag'].nunique().reset_index()['Tag'].values\n",
    "tag_test    = df_test[['Username','Tag']].groupby('Username')['Tag'].nunique().reset_index()['Tag'].values\n",
    "\n",
    "d = {}\n",
    "for idx,k in enumerate(unames_trn):\n",
    "    d[k] = tag_trn[idx]\n",
    "df_raw['unique_tag'] = df_raw['Username'].map(d)\n",
    "\n",
    "d = {}\n",
    "for idx,k in enumerate(unames_test):\n",
    "    d[k] = tag_test[idx]\n",
    "df_test['unique_tag'] = df_test['Username'].map(d)"
   ]
  },
  {
   "cell_type": "code",
   "execution_count": 22,
   "metadata": {
    "ExecuteTime": {
     "end_time": "2018-09-01T21:17:05.171319Z",
     "start_time": "2018-09-01T21:17:04.764888Z"
    }
   },
   "outputs": [],
   "source": [
    "def get_score(l = []):\n",
    "    score = 10\n",
    "    for i in l:\n",
    "        if i == 'c': score += 100\n",
    "        if i == 'j': score += 90\n",
    "        if i == 'p': score += 80\n",
    "        if i == 'i': score += 70\n",
    "        if i == 'a': score += 60\n",
    "        if i == 's': score += 50\n",
    "        if i == 'h': score += 40\n",
    "        if i == 'o': score += 30\n",
    "        if i == 'r': score += 20\n",
    "    return(score)\n",
    "\n",
    "unames_trn  = df_raw[['Username','Tag']].groupby('Username')['Tag'].nunique().reset_index()['Username'].values\n",
    "unames_test = df_test[['Username','Tag']].groupby('Username')['Tag'].nunique().reset_index()['Username'].values"
   ]
  },
  {
   "cell_type": "code",
   "execution_count": 23,
   "metadata": {
    "ExecuteTime": {
     "end_time": "2018-09-01T21:19:15.990330Z",
     "start_time": "2018-09-01T21:17:06.356325Z"
    }
   },
   "outputs": [
    {
     "name": "stdout",
     "output_type": "stream",
     "text": [
      "Wall time: 2min 9s\n"
     ]
    }
   ],
   "source": [
    "%%time\n",
    "import gc\n",
    "\n",
    "d = {}\n",
    "\n",
    "for i in unames_trn[::-1]:\n",
    "    d[i] = set(df_raw[df_raw['Username'] == i]['Tag'].values)\n",
    "\n",
    "for k,v in d.items():\n",
    "    l = []\n",
    "    for i in v:\n",
    "        l.append(i)\n",
    "    d[k] = get_score(l)\n",
    "    \n",
    "df_raw['skill_score'] = df_raw['Username'].map(d)\n",
    "del d\n",
    "gc.collect()"
   ]
  },
  {
   "cell_type": "code",
   "execution_count": 24,
   "metadata": {
    "ExecuteTime": {
     "end_time": "2018-09-01T21:20:18.076185Z",
     "start_time": "2018-09-01T21:19:15.993321Z"
    }
   },
   "outputs": [
    {
     "name": "stdout",
     "output_type": "stream",
     "text": [
      "Wall time: 1min 2s\n"
     ]
    }
   ],
   "source": [
    "%%time\n",
    "\n",
    "d = {}\n",
    "\n",
    "for i in unames_test[::-1]:\n",
    "    d[i] = set(df_test[df_test['Username'] == i]['Tag'].values)\n",
    "\n",
    "for k,v in d.items():\n",
    "    l = []\n",
    "    for i in v:\n",
    "        l.append(i)\n",
    "    d[k] = get_score(l)\n",
    "    \n",
    "df_test['skill_score'] = df_test['Username'].map(d)\n",
    "del d\n",
    "gc.collect()"
   ]
  },
  {
   "cell_type": "code",
   "execution_count": 25,
   "metadata": {
    "ExecuteTime": {
     "end_time": "2018-09-01T21:20:18.115075Z",
     "start_time": "2018-09-01T21:20:18.079173Z"
    }
   },
   "outputs": [],
   "source": [
    "df_raw['rep_per_skill'] = df_raw['Reputation']/ df_raw['skill_score']\n",
    "df_raw['skill_per_tag'] = df_raw['skill_score']/ df_raw['unique_tag']\n",
    "df_raw['views_per_ans'] = df_raw['Views'] / (df_raw['Answers']+ 1)\n",
    "\n",
    "df_test['rep_per_skill'] = df_test['Reputation']/ df_test['skill_score']\n",
    "df_test['skill_per_tag'] = df_test['skill_score']/ df_test['unique_tag']\n",
    "df_test['views_per_ans'] = df_test['Views'] / (df_test['Answers']+ 1)"
   ]
  },
  {
   "cell_type": "code",
   "execution_count": 26,
   "metadata": {
    "ExecuteTime": {
     "end_time": "2018-09-01T21:20:19.016718Z",
     "start_time": "2018-09-01T21:20:18.117071Z"
    }
   },
   "outputs": [
    {
     "data": {
      "text/plain": [
       "<matplotlib.collections.PathCollection at 0x2825171e8d0>"
      ]
     },
     "execution_count": 26,
     "metadata": {},
     "output_type": "execute_result"
    }
   ],
   "source": [
    "plt.scatter(range(df_raw.shape[0]), np.sort(np.log(df_raw.Upvotes+2)))"
   ]
  },
  {
   "cell_type": "code",
   "execution_count": 223,
   "metadata": {
    "ExecuteTime": {
     "end_time": "2018-09-01T21:11:27.117999Z",
     "start_time": "2018-09-01T21:11:10.571087Z"
    }
   },
   "outputs": [],
   "source": [
    "df_raw.to_csv(f'{PATH}\\\\new__train.csv', index=None)\n",
    "df_test.to_csv(f'{PATH}\\\\new__test.csv', index=None)"
   ]
  },
  {
   "cell_type": "code",
   "execution_count": 27,
   "metadata": {
    "ExecuteTime": {
     "end_time": "2018-09-01T21:20:19.096506Z",
     "start_time": "2018-09-01T21:20:19.018711Z"
    },
    "scrolled": true
   },
   "outputs": [
    {
     "data": {
      "text/plain": [
       "(0.0, 1042428.0)"
      ]
     },
     "execution_count": 27,
     "metadata": {},
     "output_type": "execute_result"
    }
   ],
   "source": [
    "min(set(df_raw['Reputation'])), max(set(df_raw['Reputation']))"
   ]
  },
  {
   "cell_type": "code",
   "execution_count": 28,
   "metadata": {
    "ExecuteTime": {
     "end_time": "2018-09-01T21:20:19.179633Z",
     "start_time": "2018-09-01T21:20:19.099496Z"
    }
   },
   "outputs": [
    {
     "data": {
      "text/plain": [
       "73.0"
      ]
     },
     "execution_count": 28,
     "metadata": {},
     "output_type": "execute_result"
    }
   ],
   "source": [
    "max(df_test['Answers'])"
   ]
  },
  {
   "cell_type": "code",
   "execution_count": 29,
   "metadata": {
    "ExecuteTime": {
     "end_time": "2018-09-01T21:20:19.275957Z",
     "start_time": "2018-09-01T21:20:19.183613Z"
    }
   },
   "outputs": [
    {
     "data": {
      "text/plain": [
       "0.0"
      ]
     },
     "execution_count": 29,
     "metadata": {},
     "output_type": "execute_result"
    }
   ],
   "source": [
    "min(df_raw['Answers'])"
   ]
  },
  {
   "cell_type": "code",
   "execution_count": 30,
   "metadata": {
    "ExecuteTime": {
     "end_time": "2018-09-01T21:20:32.985678Z",
     "start_time": "2018-09-01T21:20:32.877719Z"
    }
   },
   "outputs": [],
   "source": [
    "bins = [-1., 5., 10., 15., 20., 25., 30., 35., 40., 45., 50., 55., 60., 70., 80.]\n",
    "labels = [i+1 for i in range(len(bins) - 1)]\n",
    "bin_cols = ['Answers']\n",
    "\n",
    "for col in bin_cols:\n",
    "    \n",
    "    df_raw[f'bin_{col}'.format(col)]  = pd.cut(df_raw[col] ,bins,labels = labels)\n",
    "    df_test[f'bin_{col}'.format(col)] = pd.cut(df_test[col],bins,labels = labels)\n",
    "\n",
    "bins = [0, 5000, 10000, 25000, 50000, 75000, 100000, 150000, 200000, 250000, 300000, 350000, 400000, 10000**2]\n",
    "labels = [i+1 for i in range(len(bins) - 1)]\n",
    "bin_cols = ['Views']\n",
    "\n",
    "for col in bin_cols:\n",
    "    \n",
    "    df_raw[f'bin_{col}'.format(col)]  = pd.cut(df_raw[col] ,bins,labels = labels)\n",
    "    df_test[f'bin_{col}'.format(col)] = pd.cut(df_test[col],bins,labels = labels)\n",
    "    \n",
    "bins = [-1, 5000, 10000, 25000, 50000, 75000, 100000, 150000, 200000, 250000, 500000, 750000, 1000000, 2000000, 10000**2]\n",
    "labels = [i+1 for i in range(len(bins) - 1)]\n",
    "bin_cols = ['Reputation']\n",
    "\n",
    "for col in bin_cols:\n",
    "    \n",
    "    df_raw[f'bin_{col}'.format(col)]  = pd.cut(df_raw[col] ,bins,labels = labels)\n",
    "    df_test[f'bin_{col}'.format(col)] = pd.cut(df_test[col],bins,labels = labels)"
   ]
  },
  {
   "cell_type": "code",
   "execution_count": 32,
   "metadata": {
    "ExecuteTime": {
     "end_time": "2018-09-01T21:20:40.245145Z",
     "start_time": "2018-09-01T21:20:40.209204Z"
    }
   },
   "outputs": [],
   "source": [
    "df_raw['Tag'] = df_raw['Tag'].astype('category')\n",
    "df_test['Tag'] = df_test['Tag'].astype('category')"
   ]
  },
  {
   "cell_type": "code",
   "execution_count": 33,
   "metadata": {
    "ExecuteTime": {
     "end_time": "2018-09-01T21:20:40.400638Z",
     "start_time": "2018-09-01T21:20:40.395648Z"
    }
   },
   "outputs": [],
   "source": [
    "target = df_raw.Upvotes.values"
   ]
  },
  {
   "cell_type": "markdown",
   "metadata": {},
   "source": [
    "## modelling"
   ]
  },
  {
   "cell_type": "code",
   "execution_count": 34,
   "metadata": {
    "ExecuteTime": {
     "end_time": "2018-09-01T21:20:55.524318Z",
     "start_time": "2018-09-01T21:20:55.518336Z"
    }
   },
   "outputs": [],
   "source": [
    "model=CatBoostRegressor(iterations=300, learning_rate= 0.06, depth = 8, loss_function='RMSE')"
   ]
  },
  {
   "cell_type": "code",
   "execution_count": 35,
   "metadata": {
    "ExecuteTime": {
     "end_time": "2018-09-01T21:20:57.705872Z",
     "start_time": "2018-09-01T21:20:57.622098Z"
    }
   },
   "outputs": [],
   "source": [
    "df_raw.drop(['ID','Upvotes'], axis=1,inplace=True)\n",
    "df_test.drop(['ID'], axis=1,inplace=True)"
   ]
  },
  {
   "cell_type": "code",
   "execution_count": 38,
   "metadata": {
    "ExecuteTime": {
     "end_time": "2018-09-01T21:21:26.710082Z",
     "start_time": "2018-09-01T21:21:26.584661Z"
    }
   },
   "outputs": [],
   "source": [
    "from sklearn.model_selection import train_test_split\n",
    "X_train, X_valid, y_train, y_valid = train_test_split(df_raw, target, test_size=0.2, random_state=42)"
   ]
  },
  {
   "cell_type": "code",
   "execution_count": 39,
   "metadata": {
    "ExecuteTime": {
     "end_time": "2018-09-01T21:21:28.174790Z",
     "start_time": "2018-09-01T21:21:28.167808Z"
    }
   },
   "outputs": [
    {
     "data": {
      "text/plain": [
       "28"
      ]
     },
     "execution_count": 39,
     "metadata": {},
     "output_type": "execute_result"
    }
   ],
   "source": [
    "len(df_raw.columns)"
   ]
  },
  {
   "cell_type": "code",
   "execution_count": null,
   "metadata": {
    "ExecuteTime": {
     "start_time": "2018-09-01T21:23:04.053Z"
    },
    "scrolled": true
   },
   "outputs": [
    {
     "name": "stdout",
     "output_type": "stream",
     "text": [
      "0:\tlearn: 3480.2215870\ttest: 3721.5029306\tbest: 3721.5029306 (0)\ttotal: 688ms\tremaining: 3m 25s\n",
      "1:\tlearn: 3353.6080345\ttest: 3609.7501958\tbest: 3609.7501958 (1)\ttotal: 1.38s\tremaining: 3m 25s\n",
      "2:\tlearn: 3241.6972829\ttest: 3494.8633977\tbest: 3494.8633977 (2)\ttotal: 2.06s\tremaining: 3m 24s\n",
      "3:\tlearn: 3131.2979994\ttest: 3394.7836881\tbest: 3394.7836881 (3)\ttotal: 2.74s\tremaining: 3m 22s\n",
      "4:\tlearn: 3028.4479345\ttest: 3303.1560145\tbest: 3303.1560145 (4)\ttotal: 3.42s\tremaining: 3m 21s\n",
      "5:\tlearn: 2934.5727361\ttest: 3208.3988519\tbest: 3208.3988519 (5)\ttotal: 4.13s\tremaining: 3m 22s\n",
      "6:\tlearn: 2846.1398521\ttest: 3122.1772968\tbest: 3122.1772968 (6)\ttotal: 4.8s\tremaining: 3m 20s\n",
      "7:\tlearn: 2756.0567359\ttest: 3044.6018842\tbest: 3044.6018842 (7)\ttotal: 5.46s\tremaining: 3m 19s\n",
      "8:\tlearn: 2683.6685343\ttest: 2965.9958596\tbest: 2965.9958596 (8)\ttotal: 6.13s\tremaining: 3m 18s\n",
      "9:\tlearn: 2611.2043969\ttest: 2903.9877032\tbest: 2903.9877032 (9)\ttotal: 6.79s\tremaining: 3m 17s\n",
      "10:\tlearn: 2545.6412362\ttest: 2858.4710832\tbest: 2858.4710832 (10)\ttotal: 7.47s\tremaining: 3m 16s\n",
      "11:\tlearn: 2482.0143020\ttest: 2814.8957588\tbest: 2814.8957588 (11)\ttotal: 8.16s\tremaining: 3m 15s\n",
      "12:\tlearn: 2426.4192087\ttest: 2761.1098019\tbest: 2761.1098019 (12)\ttotal: 8.82s\tremaining: 3m 14s\n",
      "13:\tlearn: 2378.5238717\ttest: 2738.1131273\tbest: 2738.1131273 (13)\ttotal: 9.55s\tremaining: 3m 15s\n",
      "14:\tlearn: 2322.0540583\ttest: 2686.4454293\tbest: 2686.4454293 (14)\ttotal: 10.2s\tremaining: 3m 14s\n",
      "15:\tlearn: 2265.5818590\ttest: 2633.1884592\tbest: 2633.1884592 (15)\ttotal: 10.9s\tremaining: 3m 13s\n",
      "16:\tlearn: 2210.0916753\ttest: 2581.6570058\tbest: 2581.6570058 (16)\ttotal: 11.6s\tremaining: 3m 12s\n",
      "17:\tlearn: 2162.0655206\ttest: 2528.5116838\tbest: 2528.5116838 (17)\ttotal: 12.2s\tremaining: 3m 11s\n",
      "18:\tlearn: 2115.8193475\ttest: 2490.7988594\tbest: 2490.7988594 (18)\ttotal: 13.1s\tremaining: 3m 13s\n",
      "19:\tlearn: 2082.2577188\ttest: 2473.1140864\tbest: 2473.1140864 (19)\ttotal: 14s\tremaining: 3m 15s\n",
      "20:\tlearn: 2039.3443291\ttest: 2426.9653893\tbest: 2426.9653893 (20)\ttotal: 14.8s\tremaining: 3m 16s\n",
      "21:\tlearn: 2005.7404325\ttest: 2393.6773859\tbest: 2393.6773859 (21)\ttotal: 15.6s\tremaining: 3m 16s\n",
      "22:\tlearn: 1965.5091333\ttest: 2350.9941370\tbest: 2350.9941370 (22)\ttotal: 16.3s\tremaining: 3m 16s\n",
      "23:\tlearn: 1931.9659991\ttest: 2340.8768107\tbest: 2340.8768107 (23)\ttotal: 17s\tremaining: 3m 15s\n",
      "24:\tlearn: 1894.3835872\ttest: 2300.6608045\tbest: 2300.6608045 (24)\ttotal: 17.6s\tremaining: 3m 13s\n",
      "25:\tlearn: 1859.5079386\ttest: 2267.3805661\tbest: 2267.3805661 (25)\ttotal: 18.3s\tremaining: 3m 12s\n",
      "26:\tlearn: 1832.4888016\ttest: 2231.9554821\tbest: 2231.9554821 (26)\ttotal: 18.9s\tremaining: 3m 11s\n",
      "27:\tlearn: 1807.1750426\ttest: 2195.1855563\tbest: 2195.1855563 (27)\ttotal: 19.7s\tremaining: 3m 11s\n",
      "28:\tlearn: 1774.8028212\ttest: 2164.9244619\tbest: 2164.9244619 (28)\ttotal: 20.6s\tremaining: 3m 12s\n",
      "29:\tlearn: 1748.9919658\ttest: 2144.4678935\tbest: 2144.4678935 (29)\ttotal: 21.4s\tremaining: 3m 12s\n",
      "30:\tlearn: 1727.0426056\ttest: 2122.1008306\tbest: 2122.1008306 (30)\ttotal: 22.3s\tremaining: 3m 13s\n",
      "31:\tlearn: 1704.0914674\ttest: 2104.1401945\tbest: 2104.1401945 (31)\ttotal: 23.1s\tremaining: 3m 13s\n",
      "32:\tlearn: 1679.8964290\ttest: 2085.1748145\tbest: 2085.1748145 (32)\ttotal: 23.9s\tremaining: 3m 13s\n",
      "33:\tlearn: 1655.8021081\ttest: 2054.4395902\tbest: 2054.4395902 (33)\ttotal: 24.6s\tremaining: 3m 12s\n",
      "34:\tlearn: 1633.4259327\ttest: 2038.3928307\tbest: 2038.3928307 (34)\ttotal: 25.3s\tremaining: 3m 11s\n",
      "35:\tlearn: 1616.6576846\ttest: 2014.9585338\tbest: 2014.9585338 (35)\ttotal: 25.9s\tremaining: 3m 9s\n",
      "36:\tlearn: 1600.4325673\ttest: 2003.9920130\tbest: 2003.9920130 (36)\ttotal: 26.7s\tremaining: 3m 9s\n",
      "37:\tlearn: 1582.4828962\ttest: 1988.9255042\tbest: 1988.9255042 (37)\ttotal: 27.5s\tremaining: 3m 9s\n",
      "38:\tlearn: 1563.6280487\ttest: 1979.0149455\tbest: 1979.0149455 (38)\ttotal: 28.3s\tremaining: 3m 9s\n",
      "39:\tlearn: 1545.9256195\ttest: 1958.7580149\tbest: 1958.7580149 (39)\ttotal: 29.1s\tremaining: 3m 8s\n",
      "40:\tlearn: 1531.9519141\ttest: 1948.3236290\tbest: 1948.3236290 (40)\ttotal: 29.8s\tremaining: 3m 8s\n",
      "41:\tlearn: 1511.4289392\ttest: 1925.6188937\tbest: 1925.6188937 (41)\ttotal: 30.5s\tremaining: 3m 7s\n",
      "42:\tlearn: 1495.5429031\ttest: 1916.8349613\tbest: 1916.8349613 (42)\ttotal: 31.3s\tremaining: 3m 7s\n",
      "43:\tlearn: 1474.3903920\ttest: 1900.1224902\tbest: 1900.1224902 (43)\ttotal: 32.1s\tremaining: 3m 6s\n",
      "44:\tlearn: 1459.0600552\ttest: 1891.9360113\tbest: 1891.9360113 (44)\ttotal: 33s\tremaining: 3m 6s\n",
      "45:\tlearn: 1445.0135323\ttest: 1882.8408867\tbest: 1882.8408867 (45)\ttotal: 33.9s\tremaining: 3m 7s\n",
      "46:\tlearn: 1433.8894442\ttest: 1879.9894459\tbest: 1879.9894459 (46)\ttotal: 34.8s\tremaining: 3m 7s\n",
      "47:\tlearn: 1421.8919356\ttest: 1868.3993708\tbest: 1868.3993708 (47)\ttotal: 35.6s\tremaining: 3m 6s\n",
      "48:\tlearn: 1413.6310105\ttest: 1863.0672542\tbest: 1863.0672542 (48)\ttotal: 36.4s\tremaining: 3m 6s\n",
      "49:\tlearn: 1403.5882680\ttest: 1846.7313326\tbest: 1846.7313326 (49)\ttotal: 37.3s\tremaining: 3m 6s\n",
      "50:\tlearn: 1389.0570462\ttest: 1843.4505770\tbest: 1843.4505770 (50)\ttotal: 38.2s\tremaining: 3m 6s\n",
      "51:\tlearn: 1377.3768079\ttest: 1839.2588176\tbest: 1839.2588176 (51)\ttotal: 39.1s\tremaining: 3m 6s\n",
      "52:\tlearn: 1365.3561848\ttest: 1836.3826764\tbest: 1836.3826764 (52)\ttotal: 40s\tremaining: 3m 6s\n",
      "53:\tlearn: 1352.8978826\ttest: 1814.2377727\tbest: 1814.2377727 (53)\ttotal: 40.8s\tremaining: 3m 5s\n",
      "54:\tlearn: 1344.7133693\ttest: 1803.4183094\tbest: 1803.4183094 (54)\ttotal: 41.5s\tremaining: 3m 5s\n",
      "55:\tlearn: 1339.1353150\ttest: 1800.4854358\tbest: 1800.4854358 (55)\ttotal: 42.6s\tremaining: 3m 5s\n",
      "56:\tlearn: 1329.9225293\ttest: 1790.3422023\tbest: 1790.3422023 (56)\ttotal: 43.4s\tremaining: 3m 4s\n",
      "57:\tlearn: 1320.3936219\ttest: 1774.8752915\tbest: 1774.8752915 (57)\ttotal: 44.2s\tremaining: 3m 4s\n",
      "58:\tlearn: 1307.1675366\ttest: 1753.9934027\tbest: 1753.9934027 (58)\ttotal: 45s\tremaining: 3m 3s\n",
      "59:\tlearn: 1298.1520145\ttest: 1743.9436536\tbest: 1743.9436536 (59)\ttotal: 45.8s\tremaining: 3m 3s\n",
      "60:\tlearn: 1285.8622177\ttest: 1728.3562787\tbest: 1728.3562787 (60)\ttotal: 46.6s\tremaining: 3m 2s\n",
      "61:\tlearn: 1280.6978144\ttest: 1725.3119242\tbest: 1725.3119242 (61)\ttotal: 47.6s\tremaining: 3m 2s\n",
      "62:\tlearn: 1274.6994767\ttest: 1720.9498330\tbest: 1720.9498330 (62)\ttotal: 48.7s\tremaining: 3m 3s\n",
      "63:\tlearn: 1266.3453066\ttest: 1715.6695479\tbest: 1715.6695479 (63)\ttotal: 49.5s\tremaining: 3m 2s\n",
      "64:\tlearn: 1258.2467983\ttest: 1709.5978691\tbest: 1709.5978691 (64)\ttotal: 50.3s\tremaining: 3m 1s\n",
      "65:\tlearn: 1252.6074544\ttest: 1702.3739649\tbest: 1702.3739649 (65)\ttotal: 51.3s\tremaining: 3m 1s\n",
      "66:\tlearn: 1244.7142707\ttest: 1695.1677795\tbest: 1695.1677795 (66)\ttotal: 52.1s\tremaining: 3m 1s\n",
      "67:\tlearn: 1237.3636795\ttest: 1688.7909639\tbest: 1688.7909639 (67)\ttotal: 53.1s\tremaining: 3m 1s\n",
      "68:\tlearn: 1229.7169758\ttest: 1674.5766443\tbest: 1674.5766443 (68)\ttotal: 54s\tremaining: 3m\n",
      "69:\tlearn: 1224.3881217\ttest: 1669.9298396\tbest: 1669.9298396 (69)\ttotal: 54.9s\tremaining: 3m\n",
      "70:\tlearn: 1217.9638416\ttest: 1667.5196908\tbest: 1667.5196908 (70)\ttotal: 55.8s\tremaining: 2m 59s\n",
      "71:\tlearn: 1211.3707447\ttest: 1660.6217925\tbest: 1660.6217925 (71)\ttotal: 56.7s\tremaining: 2m 59s\n",
      "72:\tlearn: 1205.3589066\ttest: 1645.6586347\tbest: 1645.6586347 (72)\ttotal: 57.5s\tremaining: 2m 58s\n",
      "73:\tlearn: 1199.9958036\ttest: 1635.3978435\tbest: 1635.3978435 (73)\ttotal: 58.4s\tremaining: 2m 58s\n",
      "74:\tlearn: 1191.9019757\ttest: 1637.9921161\tbest: 1635.3978435 (73)\ttotal: 59.2s\tremaining: 2m 57s\n",
      "75:\tlearn: 1186.1855405\ttest: 1631.0776830\tbest: 1631.0776830 (75)\ttotal: 1m\tremaining: 2m 56s\n",
      "76:\tlearn: 1180.6304836\ttest: 1625.9376823\tbest: 1625.9376823 (76)\ttotal: 1m\tremaining: 2m 56s\n",
      "77:\tlearn: 1173.4009896\ttest: 1624.4630988\tbest: 1624.4630988 (77)\ttotal: 1m 1s\tremaining: 2m 55s\n",
      "78:\tlearn: 1165.7697199\ttest: 1613.2998501\tbest: 1613.2998501 (78)\ttotal: 1m 2s\tremaining: 2m 55s\n",
      "79:\tlearn: 1160.0709515\ttest: 1602.0039268\tbest: 1602.0039268 (79)\ttotal: 1m 3s\tremaining: 2m 54s\n",
      "80:\tlearn: 1156.3185339\ttest: 1599.3731463\tbest: 1599.3731463 (80)\ttotal: 1m 4s\tremaining: 2m 53s\n",
      "81:\tlearn: 1152.2688497\ttest: 1595.2538049\tbest: 1595.2538049 (81)\ttotal: 1m 5s\tremaining: 2m 53s\n",
      "82:\tlearn: 1147.9564669\ttest: 1592.6205674\tbest: 1592.6205674 (82)\ttotal: 1m 6s\tremaining: 2m 53s\n",
      "83:\tlearn: 1142.7776168\ttest: 1590.6533670\tbest: 1590.6533670 (83)\ttotal: 1m 7s\tremaining: 2m 53s\n",
      "84:\tlearn: 1135.2483866\ttest: 1584.8827463\tbest: 1584.8827463 (84)\ttotal: 1m 8s\tremaining: 2m 52s\n"
     ]
    },
    {
     "name": "stdout",
     "output_type": "stream",
     "text": [
      "85:\tlearn: 1129.4640908\ttest: 1580.4907774\tbest: 1580.4907774 (85)\ttotal: 1m 9s\tremaining: 2m 52s\n",
      "86:\tlearn: 1126.1463169\ttest: 1579.9993342\tbest: 1579.9993342 (86)\ttotal: 1m 10s\tremaining: 2m 52s\n",
      "87:\tlearn: 1121.0825992\ttest: 1573.0396506\tbest: 1573.0396506 (87)\ttotal: 1m 11s\tremaining: 2m 51s\n",
      "88:\tlearn: 1118.2453317\ttest: 1571.5924736\tbest: 1571.5924736 (88)\ttotal: 1m 12s\tremaining: 2m 50s\n",
      "89:\tlearn: 1113.0185145\ttest: 1567.1330258\tbest: 1567.1330258 (89)\ttotal: 1m 13s\tremaining: 2m 50s\n",
      "90:\tlearn: 1108.7448678\ttest: 1564.3379527\tbest: 1564.3379527 (90)\ttotal: 1m 13s\tremaining: 2m 49s\n",
      "91:\tlearn: 1104.5529566\ttest: 1560.4088129\tbest: 1560.4088129 (91)\ttotal: 1m 14s\tremaining: 2m 48s\n",
      "92:\tlearn: 1099.6940213\ttest: 1554.9988971\tbest: 1554.9988971 (92)\ttotal: 1m 15s\tremaining: 2m 48s\n",
      "93:\tlearn: 1095.6979654\ttest: 1550.9745362\tbest: 1550.9745362 (93)\ttotal: 1m 16s\tremaining: 2m 47s\n",
      "94:\tlearn: 1092.4779363\ttest: 1552.6322967\tbest: 1550.9745362 (93)\ttotal: 1m 17s\tremaining: 2m 47s\n",
      "95:\tlearn: 1088.1677754\ttest: 1549.7330307\tbest: 1549.7330307 (95)\ttotal: 1m 18s\tremaining: 2m 46s\n",
      "96:\tlearn: 1082.7725841\ttest: 1548.0445788\tbest: 1548.0445788 (96)\ttotal: 1m 19s\tremaining: 2m 45s\n",
      "97:\tlearn: 1080.1662451\ttest: 1547.4694896\tbest: 1547.4694896 (97)\ttotal: 1m 20s\tremaining: 2m 45s\n",
      "98:\tlearn: 1077.3001149\ttest: 1547.6296077\tbest: 1547.4694896 (97)\ttotal: 1m 21s\tremaining: 2m 44s\n",
      "99:\tlearn: 1075.5576719\ttest: 1546.3158626\tbest: 1546.3158626 (99)\ttotal: 1m 21s\tremaining: 2m 43s\n",
      "100:\tlearn: 1071.7214064\ttest: 1542.0816811\tbest: 1542.0816811 (100)\ttotal: 1m 22s\tremaining: 2m 43s\n",
      "101:\tlearn: 1066.9155756\ttest: 1541.5463140\tbest: 1541.5463140 (101)\ttotal: 1m 23s\tremaining: 2m 42s\n",
      "102:\tlearn: 1064.1250749\ttest: 1538.2822969\tbest: 1538.2822969 (102)\ttotal: 1m 24s\tremaining: 2m 41s\n",
      "103:\tlearn: 1059.0617539\ttest: 1536.2138012\tbest: 1536.2138012 (103)\ttotal: 1m 25s\tremaining: 2m 40s\n",
      "104:\tlearn: 1055.8926201\ttest: 1536.3339357\tbest: 1536.2138012 (103)\ttotal: 1m 26s\tremaining: 2m 39s\n",
      "105:\tlearn: 1053.2185554\ttest: 1536.0016688\tbest: 1536.0016688 (105)\ttotal: 1m 27s\tremaining: 2m 39s\n",
      "106:\tlearn: 1049.4654847\ttest: 1533.6898934\tbest: 1533.6898934 (106)\ttotal: 1m 28s\tremaining: 2m 38s\n",
      "107:\tlearn: 1048.2732022\ttest: 1533.2524732\tbest: 1533.2524732 (107)\ttotal: 1m 28s\tremaining: 2m 37s\n",
      "108:\tlearn: 1045.1873694\ttest: 1532.7654670\tbest: 1532.7654670 (108)\ttotal: 1m 29s\tremaining: 2m 36s\n",
      "109:\tlearn: 1039.9018569\ttest: 1531.9191326\tbest: 1531.9191326 (109)\ttotal: 1m 30s\tremaining: 2m 36s\n",
      "110:\tlearn: 1037.8299244\ttest: 1531.2267304\tbest: 1531.2267304 (110)\ttotal: 1m 31s\tremaining: 2m 35s\n",
      "111:\tlearn: 1032.1917700\ttest: 1528.1029976\tbest: 1528.1029976 (111)\ttotal: 1m 31s\tremaining: 2m 34s\n",
      "112:\tlearn: 1028.7277434\ttest: 1526.8702478\tbest: 1526.8702478 (112)\ttotal: 1m 32s\tremaining: 2m 33s\n",
      "113:\tlearn: 1026.2289289\ttest: 1526.4859257\tbest: 1526.4859257 (113)\ttotal: 1m 33s\tremaining: 2m 32s\n",
      "114:\tlearn: 1021.9004601\ttest: 1519.0666892\tbest: 1519.0666892 (114)\ttotal: 1m 34s\tremaining: 2m 31s\n",
      "115:\tlearn: 1019.1529467\ttest: 1513.3087547\tbest: 1513.3087547 (115)\ttotal: 1m 35s\tremaining: 2m 31s\n",
      "116:\tlearn: 1016.1224266\ttest: 1510.2883848\tbest: 1510.2883848 (116)\ttotal: 1m 36s\tremaining: 2m 30s\n",
      "117:\tlearn: 1013.7225139\ttest: 1509.6385471\tbest: 1509.6385471 (117)\ttotal: 1m 36s\tremaining: 2m 29s\n",
      "118:\tlearn: 1010.1973949\ttest: 1510.4103985\tbest: 1509.6385471 (117)\ttotal: 1m 37s\tremaining: 2m 28s\n",
      "119:\tlearn: 1006.3338930\ttest: 1506.5733487\tbest: 1506.5733487 (119)\ttotal: 1m 38s\tremaining: 2m 27s\n",
      "120:\tlearn: 1004.8180261\ttest: 1505.8027149\tbest: 1505.8027149 (120)\ttotal: 1m 39s\tremaining: 2m 26s\n",
      "121:\tlearn: 1002.3917894\ttest: 1504.2342175\tbest: 1504.2342175 (121)\ttotal: 1m 40s\tremaining: 2m 26s\n",
      "122:\tlearn: 999.9914091\ttest: 1502.1815724\tbest: 1502.1815724 (122)\ttotal: 1m 40s\tremaining: 2m 25s\n",
      "123:\tlearn: 996.6456752\ttest: 1501.6255777\tbest: 1501.6255777 (123)\ttotal: 1m 41s\tremaining: 2m 24s\n",
      "124:\tlearn: 993.3385567\ttest: 1493.5113652\tbest: 1493.5113652 (124)\ttotal: 1m 42s\tremaining: 2m 23s\n",
      "125:\tlearn: 989.5153730\ttest: 1493.5011776\tbest: 1493.5011776 (125)\ttotal: 1m 43s\tremaining: 2m 22s\n",
      "126:\tlearn: 987.1263184\ttest: 1491.8646924\tbest: 1491.8646924 (126)\ttotal: 1m 44s\tremaining: 2m 22s\n",
      "127:\tlearn: 983.4306393\ttest: 1491.7078301\tbest: 1491.7078301 (127)\ttotal: 1m 45s\tremaining: 2m 21s\n",
      "128:\tlearn: 981.7488041\ttest: 1490.0363398\tbest: 1490.0363398 (128)\ttotal: 1m 46s\tremaining: 2m 20s\n",
      "129:\tlearn: 980.8589836\ttest: 1489.9564392\tbest: 1489.9564392 (129)\ttotal: 1m 47s\tremaining: 2m 20s\n",
      "130:\tlearn: 979.9730713\ttest: 1489.3634966\tbest: 1489.3634966 (130)\ttotal: 1m 47s\tremaining: 2m 19s\n",
      "131:\tlearn: 979.6838654\ttest: 1489.1054794\tbest: 1489.1054794 (131)\ttotal: 1m 48s\tremaining: 2m 18s\n",
      "132:\tlearn: 977.9443396\ttest: 1487.7260153\tbest: 1487.7260153 (132)\ttotal: 1m 49s\tremaining: 2m 17s\n",
      "133:\tlearn: 973.4632608\ttest: 1487.1231551\tbest: 1487.1231551 (133)\ttotal: 1m 50s\tremaining: 2m 17s\n",
      "134:\tlearn: 971.1119944\ttest: 1486.6936420\tbest: 1486.6936420 (134)\ttotal: 1m 51s\tremaining: 2m 16s\n",
      "135:\tlearn: 967.1067868\ttest: 1486.1319794\tbest: 1486.1319794 (135)\ttotal: 1m 52s\tremaining: 2m 15s\n",
      "136:\tlearn: 963.3969755\ttest: 1483.9088903\tbest: 1483.9088903 (136)\ttotal: 1m 53s\tremaining: 2m 14s\n",
      "137:\tlearn: 959.1674763\ttest: 1481.3775915\tbest: 1481.3775915 (137)\ttotal: 1m 54s\tremaining: 2m 14s\n",
      "138:\tlearn: 956.5371968\ttest: 1478.7077947\tbest: 1478.7077947 (138)\ttotal: 1m 55s\tremaining: 2m 13s\n",
      "139:\tlearn: 953.9314975\ttest: 1477.1553203\tbest: 1477.1553203 (139)\ttotal: 1m 55s\tremaining: 2m 12s\n",
      "140:\tlearn: 950.7962380\ttest: 1477.8748444\tbest: 1477.1553203 (139)\ttotal: 1m 57s\tremaining: 2m 11s\n",
      "141:\tlearn: 948.3308937\ttest: 1476.5868305\tbest: 1476.5868305 (141)\ttotal: 1m 57s\tremaining: 2m 11s\n",
      "142:\tlearn: 944.9339234\ttest: 1478.2161363\tbest: 1476.5868305 (141)\ttotal: 1m 58s\tremaining: 2m 10s\n",
      "143:\tlearn: 942.9728700\ttest: 1477.5075599\tbest: 1476.5868305 (141)\ttotal: 1m 59s\tremaining: 2m 9s\n",
      "144:\tlearn: 941.6537793\ttest: 1474.9664634\tbest: 1474.9664634 (144)\ttotal: 2m\tremaining: 2m 8s\n",
      "145:\tlearn: 939.8888797\ttest: 1474.9330452\tbest: 1474.9330452 (145)\ttotal: 2m 1s\tremaining: 2m 8s\n",
      "146:\tlearn: 936.9420200\ttest: 1472.8297035\tbest: 1472.8297035 (146)\ttotal: 2m 2s\tremaining: 2m 7s\n",
      "147:\tlearn: 933.8644822\ttest: 1472.9541456\tbest: 1472.8297035 (146)\ttotal: 2m 3s\tremaining: 2m 6s\n",
      "148:\tlearn: 931.7450650\ttest: 1473.6149007\tbest: 1472.8297035 (146)\ttotal: 2m 4s\tremaining: 2m 5s\n",
      "149:\tlearn: 930.5945617\ttest: 1473.3100730\tbest: 1472.8297035 (146)\ttotal: 2m 5s\tremaining: 2m 5s\n",
      "150:\tlearn: 927.4433131\ttest: 1468.6734439\tbest: 1468.6734439 (150)\ttotal: 2m 5s\tremaining: 2m 4s\n",
      "151:\tlearn: 925.7742071\ttest: 1466.7266368\tbest: 1466.7266368 (151)\ttotal: 2m 6s\tremaining: 2m 3s\n",
      "152:\tlearn: 923.2658224\ttest: 1467.4827366\tbest: 1466.7266368 (151)\ttotal: 2m 7s\tremaining: 2m 2s\n",
      "153:\tlearn: 920.9501895\ttest: 1467.4359936\tbest: 1466.7266368 (151)\ttotal: 2m 8s\tremaining: 2m 1s\n",
      "154:\tlearn: 919.4732269\ttest: 1467.2714081\tbest: 1466.7266368 (151)\ttotal: 2m 9s\tremaining: 2m 1s\n",
      "155:\tlearn: 917.2820162\ttest: 1467.1478033\tbest: 1466.7266368 (151)\ttotal: 2m 10s\tremaining: 2m\n",
      "156:\tlearn: 917.0716340\ttest: 1467.3317876\tbest: 1466.7266368 (151)\ttotal: 2m 11s\tremaining: 1m 59s\n",
      "157:\tlearn: 915.5496283\ttest: 1466.9191653\tbest: 1466.7266368 (151)\ttotal: 2m 12s\tremaining: 1m 58s\n",
      "158:\tlearn: 913.6155609\ttest: 1466.1477288\tbest: 1466.1477288 (158)\ttotal: 2m 13s\tremaining: 1m 58s\n",
      "159:\tlearn: 912.2990356\ttest: 1466.3290431\tbest: 1466.1477288 (158)\ttotal: 2m 14s\tremaining: 1m 57s\n",
      "160:\tlearn: 911.1705419\ttest: 1466.3025928\tbest: 1466.1477288 (158)\ttotal: 2m 15s\tremaining: 1m 56s\n",
      "161:\tlearn: 910.0483815\ttest: 1464.4343401\tbest: 1464.4343401 (161)\ttotal: 2m 16s\tremaining: 1m 55s\n",
      "162:\tlearn: 906.2258844\ttest: 1465.4711147\tbest: 1464.4343401 (161)\ttotal: 2m 16s\tremaining: 1m 54s\n",
      "163:\tlearn: 904.2462092\ttest: 1465.0113791\tbest: 1464.4343401 (161)\ttotal: 2m 17s\tremaining: 1m 54s\n",
      "164:\tlearn: 902.3064315\ttest: 1464.9060087\tbest: 1464.4343401 (161)\ttotal: 2m 18s\tremaining: 1m 53s\n",
      "165:\tlearn: 900.6436991\ttest: 1463.5233102\tbest: 1463.5233102 (165)\ttotal: 2m 19s\tremaining: 1m 52s\n",
      "166:\tlearn: 898.7976668\ttest: 1464.2582024\tbest: 1463.5233102 (165)\ttotal: 2m 20s\tremaining: 1m 51s\n",
      "167:\tlearn: 898.1285379\ttest: 1463.6111624\tbest: 1463.5233102 (165)\ttotal: 2m 21s\tremaining: 1m 50s\n"
     ]
    },
    {
     "name": "stdout",
     "output_type": "stream",
     "text": [
      "168:\tlearn: 896.7755024\ttest: 1462.5367090\tbest: 1462.5367090 (168)\ttotal: 2m 21s\tremaining: 1m 50s\n",
      "169:\tlearn: 896.3572940\ttest: 1461.4298818\tbest: 1461.4298818 (169)\ttotal: 2m 22s\tremaining: 1m 49s\n",
      "170:\tlearn: 895.1355086\ttest: 1458.9847174\tbest: 1458.9847174 (170)\ttotal: 2m 23s\tremaining: 1m 48s\n",
      "171:\tlearn: 893.4143854\ttest: 1458.3349940\tbest: 1458.3349940 (171)\ttotal: 2m 24s\tremaining: 1m 47s\n",
      "172:\tlearn: 893.3707015\ttest: 1458.3426034\tbest: 1458.3349940 (171)\ttotal: 2m 24s\tremaining: 1m 46s\n",
      "173:\tlearn: 893.0505415\ttest: 1456.5648026\tbest: 1456.5648026 (173)\ttotal: 2m 25s\tremaining: 1m 45s\n",
      "174:\tlearn: 890.2350204\ttest: 1457.1857405\tbest: 1456.5648026 (173)\ttotal: 2m 26s\tremaining: 1m 44s\n",
      "175:\tlearn: 888.6384720\ttest: 1456.6758596\tbest: 1456.5648026 (173)\ttotal: 2m 27s\tremaining: 1m 43s\n",
      "176:\tlearn: 887.7705468\ttest: 1455.9867810\tbest: 1455.9867810 (176)\ttotal: 2m 28s\tremaining: 1m 42s\n",
      "177:\tlearn: 887.7510193\ttest: 1455.9668023\tbest: 1455.9668023 (177)\ttotal: 2m 28s\tremaining: 1m 41s\n",
      "178:\tlearn: 886.2953545\ttest: 1456.4840678\tbest: 1455.9668023 (177)\ttotal: 2m 29s\tremaining: 1m 40s\n",
      "179:\tlearn: 885.5675126\ttest: 1454.6908420\tbest: 1454.6908420 (179)\ttotal: 2m 29s\tremaining: 1m 39s\n",
      "180:\tlearn: 884.3988219\ttest: 1453.8559028\tbest: 1453.8559028 (180)\ttotal: 2m 30s\tremaining: 1m 39s\n",
      "181:\tlearn: 882.7806631\ttest: 1454.3673493\tbest: 1453.8559028 (180)\ttotal: 2m 31s\tremaining: 1m 38s\n",
      "182:\tlearn: 881.9345486\ttest: 1454.4480518\tbest: 1453.8559028 (180)\ttotal: 2m 32s\tremaining: 1m 37s\n",
      "183:\tlearn: 881.8892828\ttest: 1454.3182815\tbest: 1453.8559028 (180)\ttotal: 2m 32s\tremaining: 1m 36s\n",
      "184:\tlearn: 879.9211874\ttest: 1452.8561204\tbest: 1452.8561204 (184)\ttotal: 2m 33s\tremaining: 1m 35s\n",
      "185:\tlearn: 878.9585961\ttest: 1452.5371735\tbest: 1452.5371735 (185)\ttotal: 2m 34s\tremaining: 1m 34s\n",
      "186:\tlearn: 875.9529696\ttest: 1453.2337634\tbest: 1452.5371735 (185)\ttotal: 2m 35s\tremaining: 1m 33s\n",
      "187:\tlearn: 874.8335382\ttest: 1452.5556477\tbest: 1452.5371735 (185)\ttotal: 2m 36s\tremaining: 1m 33s\n",
      "188:\tlearn: 873.8812669\ttest: 1451.5619070\tbest: 1451.5619070 (188)\ttotal: 2m 37s\tremaining: 1m 32s\n",
      "189:\tlearn: 873.1587295\ttest: 1450.5972423\tbest: 1450.5972423 (189)\ttotal: 2m 37s\tremaining: 1m 31s\n",
      "190:\tlearn: 871.9363630\ttest: 1450.7834261\tbest: 1450.5972423 (189)\ttotal: 2m 38s\tremaining: 1m 30s\n",
      "191:\tlearn: 870.6845900\ttest: 1449.9318947\tbest: 1449.9318947 (191)\ttotal: 2m 39s\tremaining: 1m 29s\n",
      "192:\tlearn: 870.6788709\ttest: 1449.9276638\tbest: 1449.9276638 (192)\ttotal: 2m 40s\tremaining: 1m 28s\n",
      "193:\tlearn: 869.8502102\ttest: 1449.7636346\tbest: 1449.7636346 (193)\ttotal: 2m 41s\tremaining: 1m 27s\n",
      "194:\tlearn: 869.2883762\ttest: 1450.2339848\tbest: 1449.7636346 (193)\ttotal: 2m 41s\tremaining: 1m 27s\n",
      "195:\tlearn: 868.4394309\ttest: 1449.9266269\tbest: 1449.7636346 (193)\ttotal: 2m 42s\tremaining: 1m 26s\n",
      "196:\tlearn: 867.4973914\ttest: 1449.2446514\tbest: 1449.2446514 (196)\ttotal: 2m 43s\tremaining: 1m 25s\n",
      "197:\tlearn: 866.3529817\ttest: 1449.3095283\tbest: 1449.2446514 (196)\ttotal: 2m 44s\tremaining: 1m 24s\n",
      "198:\tlearn: 864.0924387\ttest: 1450.1628482\tbest: 1449.2446514 (196)\ttotal: 2m 45s\tremaining: 1m 23s\n",
      "199:\tlearn: 862.8340006\ttest: 1448.8775572\tbest: 1448.8775572 (199)\ttotal: 2m 46s\tremaining: 1m 23s\n",
      "200:\tlearn: 860.2607465\ttest: 1449.2134974\tbest: 1448.8775572 (199)\ttotal: 2m 47s\tremaining: 1m 22s\n",
      "201:\tlearn: 859.5378362\ttest: 1449.0407092\tbest: 1448.8775572 (199)\ttotal: 2m 47s\tremaining: 1m 21s\n",
      "202:\tlearn: 857.3318354\ttest: 1447.7035701\tbest: 1447.7035701 (202)\ttotal: 2m 48s\tremaining: 1m 20s\n",
      "203:\tlearn: 856.3667787\ttest: 1445.6587121\tbest: 1445.6587121 (203)\ttotal: 2m 49s\tremaining: 1m 19s\n",
      "204:\tlearn: 855.1874998\ttest: 1445.7987675\tbest: 1445.6587121 (203)\ttotal: 2m 50s\tremaining: 1m 19s\n",
      "205:\tlearn: 854.7504706\ttest: 1444.2924187\tbest: 1444.2924187 (205)\ttotal: 2m 51s\tremaining: 1m 18s\n",
      "206:\tlearn: 853.7686121\ttest: 1443.8151367\tbest: 1443.8151367 (206)\ttotal: 2m 52s\tremaining: 1m 17s\n",
      "207:\tlearn: 852.5174138\ttest: 1442.8863084\tbest: 1442.8863084 (207)\ttotal: 2m 53s\tremaining: 1m 16s\n",
      "208:\tlearn: 852.0508083\ttest: 1440.8692516\tbest: 1440.8692516 (208)\ttotal: 2m 54s\tremaining: 1m 15s\n",
      "209:\tlearn: 850.8650794\ttest: 1439.3015975\tbest: 1439.3015975 (209)\ttotal: 2m 55s\tremaining: 1m 15s\n",
      "210:\tlearn: 850.7654814\ttest: 1439.2872486\tbest: 1439.2872486 (210)\ttotal: 2m 56s\tremaining: 1m 14s\n",
      "211:\tlearn: 849.5053986\ttest: 1438.8377332\tbest: 1438.8377332 (211)\ttotal: 2m 56s\tremaining: 1m 13s\n",
      "212:\tlearn: 848.9578451\ttest: 1439.1364362\tbest: 1438.8377332 (211)\ttotal: 2m 57s\tremaining: 1m 12s\n",
      "213:\tlearn: 847.6414032\ttest: 1438.2524195\tbest: 1438.2524195 (213)\ttotal: 2m 58s\tremaining: 1m 11s\n",
      "214:\tlearn: 845.6525437\ttest: 1435.5751244\tbest: 1435.5751244 (214)\ttotal: 2m 59s\tremaining: 1m 11s\n",
      "215:\tlearn: 844.3987213\ttest: 1434.2368498\tbest: 1434.2368498 (215)\ttotal: 3m\tremaining: 1m 10s\n",
      "216:\tlearn: 844.3654387\ttest: 1434.2649029\tbest: 1434.2368498 (215)\ttotal: 3m 1s\tremaining: 1m 9s\n",
      "217:\tlearn: 844.2607547\ttest: 1434.1979109\tbest: 1434.1979109 (217)\ttotal: 3m 2s\tremaining: 1m 8s\n",
      "218:\tlearn: 843.6556602\ttest: 1434.6150632\tbest: 1434.1979109 (217)\ttotal: 3m 3s\tremaining: 1m 7s\n",
      "219:\tlearn: 843.0648999\ttest: 1434.5698751\tbest: 1434.1979109 (217)\ttotal: 3m 4s\tremaining: 1m 7s\n",
      "220:\tlearn: 842.3057508\ttest: 1434.3020948\tbest: 1434.1979109 (217)\ttotal: 3m 5s\tremaining: 1m 6s\n",
      "221:\tlearn: 841.9775296\ttest: 1433.9864986\tbest: 1433.9864986 (221)\ttotal: 3m 6s\tremaining: 1m 5s\n",
      "222:\tlearn: 840.4184321\ttest: 1433.9827275\tbest: 1433.9827275 (222)\ttotal: 3m 7s\tremaining: 1m 4s\n",
      "223:\tlearn: 839.9011345\ttest: 1434.4909447\tbest: 1433.9827275 (222)\ttotal: 3m 8s\tremaining: 1m 3s\n",
      "224:\tlearn: 839.1075208\ttest: 1435.0929995\tbest: 1433.9827275 (222)\ttotal: 3m 9s\tremaining: 1m 3s\n",
      "225:\tlearn: 839.0454279\ttest: 1434.9887887\tbest: 1433.9827275 (222)\ttotal: 3m 10s\tremaining: 1m 2s\n",
      "226:\tlearn: 838.1341767\ttest: 1434.7884819\tbest: 1433.9827275 (222)\ttotal: 3m 11s\tremaining: 1m 1s\n",
      "227:\tlearn: 837.1452123\ttest: 1433.2032184\tbest: 1433.2032184 (227)\ttotal: 3m 11s\tremaining: 1m\n",
      "228:\tlearn: 837.1277124\ttest: 1433.1961530\tbest: 1433.1961530 (228)\ttotal: 3m 12s\tremaining: 59.8s\n",
      "229:\tlearn: 836.1114248\ttest: 1433.1245749\tbest: 1433.1245749 (229)\ttotal: 3m 13s\tremaining: 58.9s\n",
      "230:\tlearn: 834.7405661\ttest: 1434.6735213\tbest: 1433.1245749 (229)\ttotal: 3m 14s\tremaining: 58.1s\n",
      "231:\tlearn: 834.4436785\ttest: 1434.6681527\tbest: 1433.1245749 (229)\ttotal: 3m 15s\tremaining: 57.3s\n",
      "232:\tlearn: 833.8953792\ttest: 1433.9929067\tbest: 1433.1245749 (229)\ttotal: 3m 16s\tremaining: 56.5s\n",
      "233:\tlearn: 833.0593522\ttest: 1433.6365995\tbest: 1433.1245749 (229)\ttotal: 3m 17s\tremaining: 55.7s\n",
      "234:\tlearn: 832.7015272\ttest: 1433.4161327\tbest: 1433.1245749 (229)\ttotal: 3m 17s\tremaining: 54.8s\n",
      "235:\tlearn: 832.1902988\ttest: 1433.3119960\tbest: 1433.1245749 (229)\ttotal: 3m 18s\tremaining: 53.9s\n",
      "236:\tlearn: 831.2734695\ttest: 1433.3662925\tbest: 1433.1245749 (229)\ttotal: 3m 19s\tremaining: 53.1s\n",
      "237:\tlearn: 830.1996370\ttest: 1433.7541888\tbest: 1433.1245749 (229)\ttotal: 3m 20s\tremaining: 52.2s\n",
      "238:\tlearn: 829.7389066\ttest: 1433.1413462\tbest: 1433.1245749 (229)\ttotal: 3m 21s\tremaining: 51.4s\n",
      "239:\tlearn: 828.1569663\ttest: 1433.3084203\tbest: 1433.1245749 (229)\ttotal: 3m 22s\tremaining: 50.5s\n",
      "240:\tlearn: 827.3793888\ttest: 1431.9250903\tbest: 1431.9250903 (240)\ttotal: 3m 22s\tremaining: 49.7s\n",
      "241:\tlearn: 826.5160353\ttest: 1431.0884774\tbest: 1431.0884774 (241)\ttotal: 3m 23s\tremaining: 48.8s\n",
      "242:\tlearn: 825.9939865\ttest: 1431.1620042\tbest: 1431.0884774 (241)\ttotal: 3m 24s\tremaining: 48s\n",
      "243:\tlearn: 824.8837176\ttest: 1432.1703464\tbest: 1431.0884774 (241)\ttotal: 3m 25s\tremaining: 47.2s\n",
      "244:\tlearn: 824.2335379\ttest: 1431.8934236\tbest: 1431.0884774 (241)\ttotal: 3m 26s\tremaining: 46.4s\n",
      "245:\tlearn: 824.2253533\ttest: 1431.9073648\tbest: 1431.0884774 (241)\ttotal: 3m 26s\tremaining: 45.4s\n"
     ]
    }
   ],
   "source": [
    "model.fit(X_train, y_train,cat_features=[0,8,20,25,26,27], eval_set=(X_valid,y_valid))"
   ]
  },
  {
   "cell_type": "code",
   "execution_count": null,
   "metadata": {
    "ExecuteTime": {
     "start_time": "2018-09-01T21:23:11.066Z"
    }
   },
   "outputs": [],
   "source": [
    "model.save_model(f'{PATH}\\\\catboost_new_feats_model_depth_8', export_parameters=dict())"
   ]
  },
  {
   "cell_type": "code",
   "execution_count": null,
   "metadata": {
    "ExecuteTime": {
     "start_time": "2018-09-01T21:23:11.469Z"
    }
   },
   "outputs": [],
   "source": [
    "preds = model.predict(df_test);\n",
    "preds[:10]"
   ]
  },
  {
   "cell_type": "code",
   "execution_count": null,
   "metadata": {
    "ExecuteTime": {
     "start_time": "2018-09-01T21:23:11.855Z"
    }
   },
   "outputs": [],
   "source": [
    "submit = make_submission(preds)"
   ]
  },
  {
   "cell_type": "code",
   "execution_count": null,
   "metadata": {
    "ExecuteTime": {
     "start_time": "2018-09-01T21:24:03.138Z"
    }
   },
   "outputs": [],
   "source": [
    "submit.to_csv(f'{PATH}\\\\Adi_catboost_with_new_feats_10092018_depth_8.csv', index=None)"
   ]
  },
  {
   "cell_type": "markdown",
   "metadata": {},
   "source": [
    "## xgb"
   ]
  },
  {
   "cell_type": "code",
   "execution_count": null,
   "metadata": {
    "ExecuteTime": {
     "start_time": "2018-09-01T21:24:04.594Z"
    }
   },
   "outputs": [],
   "source": [
    "from sklearn.metrics import mean_squared_error as mse\n",
    "def runXGB(train_X, train_y, test_X, test_y=None):\n",
    "    \n",
    "        params = {}\n",
    "        params['booster'] = 'gbtree'\n",
    "        params[\"objective\"] = \"gpu:reg:linear\"\n",
    "        params[\"eta\"] = 0.02\n",
    "        params[\"min_child_weight\"] = 2\n",
    "        params[\"subsample\"] = 0.9\n",
    "        params[\"colsample_bytree\"] = 0.8\n",
    "        params[\"silent\"] = 0\n",
    "        params[\"max_depth\"] = 8\n",
    "        params[\"seed\"] = 1\n",
    "        params['alpha'] = .05\n",
    "        params['tree_method'] = 'gpu_hist'\n",
    "        params['gamma'] = 3\n",
    "        \n",
    "        plst = list(params.items())\n",
    "        num_rounds = 900\n",
    "\n",
    "        xgtrain = xgb.DMatrix(train_X, label=train_y)\n",
    "        xgtest = xgb.DMatrix(test_X)\n",
    "        model = xgb.train(plst, xgtrain, num_rounds)\n",
    "        pred_test_y = model.predict(xgtest)\n",
    "        return model, pred_test_y\n",
    "\n",
    "def rmse(act_y, pred_y):\n",
    "    return np.sqrt(mse(act_y, pred_y))"
   ]
  },
  {
   "cell_type": "code",
   "execution_count": null,
   "metadata": {},
   "outputs": [],
   "source": [
    "model_xgb, preds = runXGB(pd.get_dummies(df_raw,prefix='dummy'), target, pd.get_dummies(df_test,prefix='dummy'))"
   ]
  }
 ],
 "metadata": {
  "kernelspec": {
   "display_name": "Python 3",
   "language": "python",
   "name": "python3"
  },
  "language_info": {
   "codemirror_mode": {
    "name": "ipython",
    "version": 3
   },
   "file_extension": ".py",
   "mimetype": "text/x-python",
   "name": "python",
   "nbconvert_exporter": "python",
   "pygments_lexer": "ipython3",
   "version": "3.6.3"
  },
  "nbTranslate": {
   "displayLangs": [
    "*"
   ],
   "hotkey": "alt-t",
   "langInMainMenu": true,
   "sourceLang": "en",
   "targetLang": "fr",
   "useGoogleTranslate": true
  },
  "toc": {
   "base_numbering": 1,
   "nav_menu": {},
   "number_sections": true,
   "sideBar": true,
   "skip_h1_title": false,
   "title_cell": "Table of Contents",
   "title_sidebar": "Contents",
   "toc_cell": false,
   "toc_position": {},
   "toc_section_display": true,
   "toc_window_display": false
  }
 },
 "nbformat": 4,
 "nbformat_minor": 2
}
