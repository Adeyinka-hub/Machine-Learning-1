{
 "cells": [
  {
   "cell_type": "code",
   "execution_count": 9,
   "metadata": {
    "ExecuteTime": {
     "end_time": "2018-05-22T04:57:36.547819Z",
     "start_time": "2018-05-22T04:57:36.486971Z"
    }
   },
   "outputs": [],
   "source": [
    "import pandas as pd\n",
    "import os\n",
    "PATH = os.getcwd()\n",
    "%matplotlib inline"
   ]
  },
  {
   "cell_type": "code",
   "execution_count": 10,
   "metadata": {
    "ExecuteTime": {
     "end_time": "2018-05-22T04:57:38.365292Z",
     "start_time": "2018-05-22T04:57:38.199227Z"
    }
   },
   "outputs": [],
   "source": [
    "df1 = pd.read_csv(f'{PATH}\\\\AV_Stud\\\\xgb_0.7.csv')\n",
    "df2 = pd.read_csv(f'{PATH}\\\\AV_Stud\\\\xgb_0.4&xgb_0.3.csv')"
   ]
  },
  {
   "cell_type": "code",
   "execution_count": 11,
   "metadata": {
    "ExecuteTime": {
     "end_time": "2018-05-22T04:57:38.402742Z",
     "start_time": "2018-05-22T04:57:38.385786Z"
    }
   },
   "outputs": [
    {
     "data": {
      "text/html": [
       "<div>\n",
       "<style>\n",
       "    .dataframe thead tr:only-child th {\n",
       "        text-align: right;\n",
       "    }\n",
       "\n",
       "    .dataframe thead th {\n",
       "        text-align: left;\n",
       "    }\n",
       "\n",
       "    .dataframe tbody tr th {\n",
       "        vertical-align: top;\n",
       "    }\n",
       "</style>\n",
       "<table border=\"1\" class=\"dataframe\">\n",
       "  <thead>\n",
       "    <tr style=\"text-align: right;\">\n",
       "      <th></th>\n",
       "      <th>id</th>\n",
       "      <th>is_pass</th>\n",
       "    </tr>\n",
       "  </thead>\n",
       "  <tbody>\n",
       "    <tr>\n",
       "      <th>0</th>\n",
       "      <td>1626_45</td>\n",
       "      <td>0.507105</td>\n",
       "    </tr>\n",
       "    <tr>\n",
       "      <th>1</th>\n",
       "      <td>11020_130</td>\n",
       "      <td>0.995746</td>\n",
       "    </tr>\n",
       "    <tr>\n",
       "      <th>2</th>\n",
       "      <td>12652_146</td>\n",
       "      <td>0.540914</td>\n",
       "    </tr>\n",
       "    <tr>\n",
       "      <th>3</th>\n",
       "      <td>7038_72</td>\n",
       "      <td>0.006350</td>\n",
       "    </tr>\n",
       "    <tr>\n",
       "      <th>4</th>\n",
       "      <td>888_71</td>\n",
       "      <td>0.212951</td>\n",
       "    </tr>\n",
       "  </tbody>\n",
       "</table>\n",
       "</div>"
      ],
      "text/plain": [
       "          id   is_pass\n",
       "0    1626_45  0.507105\n",
       "1  11020_130  0.995746\n",
       "2  12652_146  0.540914\n",
       "3    7038_72  0.006350\n",
       "4     888_71  0.212951"
      ]
     },
     "execution_count": 11,
     "metadata": {},
     "output_type": "execute_result"
    }
   ],
   "source": [
    "df1.head()"
   ]
  },
  {
   "cell_type": "code",
   "execution_count": 12,
   "metadata": {
    "ExecuteTime": {
     "end_time": "2018-05-22T04:57:38.647004Z",
     "start_time": "2018-05-22T04:57:38.594143Z"
    }
   },
   "outputs": [
    {
     "data": {
      "text/html": [
       "<div>\n",
       "<style>\n",
       "    .dataframe thead tr:only-child th {\n",
       "        text-align: right;\n",
       "    }\n",
       "\n",
       "    .dataframe thead th {\n",
       "        text-align: left;\n",
       "    }\n",
       "\n",
       "    .dataframe tbody tr th {\n",
       "        vertical-align: top;\n",
       "    }\n",
       "</style>\n",
       "<table border=\"1\" class=\"dataframe\">\n",
       "  <thead>\n",
       "    <tr style=\"text-align: right;\">\n",
       "      <th></th>\n",
       "      <th>id</th>\n",
       "      <th>is_pass</th>\n",
       "    </tr>\n",
       "  </thead>\n",
       "  <tbody>\n",
       "    <tr>\n",
       "      <th>0</th>\n",
       "      <td>1626_45</td>\n",
       "      <td>0.488407</td>\n",
       "    </tr>\n",
       "    <tr>\n",
       "      <th>1</th>\n",
       "      <td>11020_130</td>\n",
       "      <td>0.994501</td>\n",
       "    </tr>\n",
       "    <tr>\n",
       "      <th>2</th>\n",
       "      <td>12652_146</td>\n",
       "      <td>0.595252</td>\n",
       "    </tr>\n",
       "    <tr>\n",
       "      <th>3</th>\n",
       "      <td>7038_72</td>\n",
       "      <td>0.010464</td>\n",
       "    </tr>\n",
       "    <tr>\n",
       "      <th>4</th>\n",
       "      <td>888_71</td>\n",
       "      <td>0.346809</td>\n",
       "    </tr>\n",
       "  </tbody>\n",
       "</table>\n",
       "</div>"
      ],
      "text/plain": [
       "          id   is_pass\n",
       "0    1626_45  0.488407\n",
       "1  11020_130  0.994501\n",
       "2  12652_146  0.595252\n",
       "3    7038_72  0.010464\n",
       "4     888_71  0.346809"
      ]
     },
     "execution_count": 12,
     "metadata": {},
     "output_type": "execute_result"
    }
   ],
   "source": [
    "df2.head()"
   ]
  },
  {
   "cell_type": "code",
   "execution_count": 17,
   "metadata": {
    "ExecuteTime": {
     "end_time": "2018-05-22T04:58:42.525723Z",
     "start_time": "2018-05-22T04:58:42.385098Z"
    }
   },
   "outputs": [],
   "source": [
    "df2['is_pass'] = df1['is_pass'] * .85 + df2['is_pass'] * .15"
   ]
  },
  {
   "cell_type": "code",
   "execution_count": 18,
   "metadata": {
    "ExecuteTime": {
     "end_time": "2018-05-22T04:59:22.038386Z",
     "start_time": "2018-05-22T04:59:21.794561Z"
    }
   },
   "outputs": [],
   "source": [
    "df2.to_csv(f'{PATH}\\\\AV_Stud\\\\xgb_0.4&xgb_0.3&xgb_0.7.csv', index = False)"
   ]
  },
  {
   "cell_type": "code",
   "execution_count": null,
   "metadata": {},
   "outputs": [],
   "source": [
    "xgb_0.4&xgb_0.3&xgb_0.7.csv'"
   ]
  },
  {
   "cell_type": "code",
   "execution_count": null,
   "metadata": {},
   "outputs": [],
   "source": []
  },
  {
   "cell_type": "code",
   "execution_count": 26,
   "metadata": {
    "ExecuteTime": {
     "end_time": "2018-05-22T05:03:50.921141Z",
     "start_time": "2018-05-22T05:03:50.775219Z"
    }
   },
   "outputs": [],
   "source": [
    "df1 = pd.read_csv(f'{PATH}\\\\AV_Stud\\\\xgb_0.4&xgb_0.3&xgb_0.7.csv')\n",
    "df2 = pd.read_csv(f'{PATH}\\\\AV_Stud\\\\xgb_0.4&xgb_0.3&xgb_0.7(&xgb_0.4&xgb_0.3).csv')"
   ]
  },
  {
   "cell_type": "code",
   "execution_count": 24,
   "metadata": {
    "ExecuteTime": {
     "end_time": "2018-05-22T05:02:53.190164Z",
     "start_time": "2018-05-22T05:02:53.156250Z"
    }
   },
   "outputs": [],
   "source": [
    "df2['is_pass'] = df2['is_pass'] * .85 + .15 * df1['is_pass']"
   ]
  },
  {
   "cell_type": "code",
   "execution_count": 25,
   "metadata": {
    "ExecuteTime": {
     "end_time": "2018-05-22T05:03:12.062844Z",
     "start_time": "2018-05-22T05:03:11.796367Z"
    }
   },
   "outputs": [],
   "source": [
    "df2.to_csv(f'{PATH}\\\\AV_Stud\\\\xgb_0.4&xgb_0.3&xgb_0.7(&xgb_0.4&xgb_0.3)_v1.csv', index = False)"
   ]
  },
  {
   "cell_type": "code",
   "execution_count": 29,
   "metadata": {
    "ExecuteTime": {
     "end_time": "2018-05-22T05:04:56.530962Z",
     "start_time": "2018-05-22T05:04:56.377373Z"
    }
   },
   "outputs": [
    {
     "data": {
      "text/plain": [
       "0.1    0.177586\n",
       "0.2    0.342803\n",
       "0.3    0.494333\n",
       "0.4    0.633314\n",
       "0.5    0.747091\n",
       "0.6    0.834378\n",
       "0.7    0.898935\n",
       "0.8    0.945139\n",
       "0.9    0.977810\n",
       "Name: is_pass, dtype: float64"
      ]
     },
     "execution_count": 29,
     "metadata": {},
     "output_type": "execute_result"
    }
   ],
   "source": [
    "df2['is_pass'].quantile(q=[.1,.2,.3,.4,.5,.6,.7,.8,.9])"
   ]
  },
  {
   "cell_type": "code",
   "execution_count": 30,
   "metadata": {
    "ExecuteTime": {
     "end_time": "2018-05-22T05:05:09.654153Z",
     "start_time": "2018-05-22T05:05:09.615244Z"
    }
   },
   "outputs": [
    {
     "data": {
      "text/plain": [
       "0.99963813462108364"
      ]
     },
     "execution_count": 30,
     "metadata": {},
     "output_type": "execute_result"
    }
   ],
   "source": [
    "max(df2['is_pass'])"
   ]
  },
  {
   "cell_type": "code",
   "execution_count": 31,
   "metadata": {
    "ExecuteTime": {
     "end_time": "2018-05-22T05:05:26.901124Z",
     "start_time": "2018-05-22T05:05:26.888156Z"
    }
   },
   "outputs": [],
   "source": [
    "import numpy as np"
   ]
  },
  {
   "cell_type": "code",
   "execution_count": 34,
   "metadata": {
    "ExecuteTime": {
     "end_time": "2018-05-22T05:06:36.460910Z",
     "start_time": "2018-05-22T05:06:36.454925Z"
    }
   },
   "outputs": [],
   "source": [
    "preds = np.where(df2['is_pass']>=.977, .999, df2['is_pass'])"
   ]
  },
  {
   "cell_type": "code",
   "execution_count": 35,
   "metadata": {
    "ExecuteTime": {
     "end_time": "2018-05-22T05:06:46.541440Z",
     "start_time": "2018-05-22T05:06:46.529467Z"
    }
   },
   "outputs": [],
   "source": [
    "df2['is_pass'] = preds"
   ]
  },
  {
   "cell_type": "code",
   "execution_count": 36,
   "metadata": {
    "ExecuteTime": {
     "end_time": "2018-05-22T05:07:40.204019Z",
     "start_time": "2018-05-22T05:07:39.894961Z"
    }
   },
   "outputs": [],
   "source": [
    "df2.to_csv(f'{PATH}\\\\AV_Stud\\\\mixed_.977_to_.999.csv',index=False)"
   ]
  },
  {
   "cell_type": "code",
   "execution_count": null,
   "metadata": {},
   "outputs": [],
   "source": []
  }
 ],
 "metadata": {
  "kernelspec": {
   "display_name": "Python 3",
   "language": "python",
   "name": "python3"
  },
  "language_info": {
   "codemirror_mode": {
    "name": "ipython",
    "version": 3
   },
   "file_extension": ".py",
   "mimetype": "text/x-python",
   "name": "python",
   "nbconvert_exporter": "python",
   "pygments_lexer": "ipython3",
   "version": "3.6.3"
  },
  "nbTranslate": {
   "displayLangs": [
    "*"
   ],
   "hotkey": "alt-t",
   "langInMainMenu": true,
   "sourceLang": "en",
   "targetLang": "fr",
   "useGoogleTranslate": true
  }
 },
 "nbformat": 4,
 "nbformat_minor": 2
}
