{
 "cells": [
  {
   "cell_type": "markdown",
   "metadata": {
    "heading_collapsed": true
   },
   "source": [
    "## pystack"
   ]
  },
  {
   "cell_type": "code",
   "execution_count": 1,
   "metadata": {
    "ExecuteTime": {
     "end_time": "2018-09-14T18:51:21.814783Z",
     "start_time": "2018-09-14T18:51:20.112843Z"
    },
    "hidden": true
   },
   "outputs": [],
   "source": [
    "from pystacknet.pystacknet import StackNetClassifier\n",
    "from sklearn.ensemble import RandomForestClassifier, RandomForestRegressor, ExtraTreesClassifier, ExtraTreesRegressor, GradientBoostingClassifier,GradientBoostingRegressor\n",
    "from sklearn.linear_model import LogisticRegression, Ridge\n",
    "from sklearn.decomposition import PCA\n",
    "from lightgbm import LGBMClassifier\n",
    "from xgboost import XGBClassifier"
   ]
  },
  {
   "cell_type": "code",
   "execution_count": 2,
   "metadata": {
    "ExecuteTime": {
     "end_time": "2018-09-14T18:51:21.899255Z",
     "start_time": "2018-09-14T18:51:21.814783Z"
    },
    "hidden": true
   },
   "outputs": [],
   "source": [
    "models=[\n",
    "        [\n",
    "         LGBMClassifier(boosting_type='gbdt', num_leaves=80, max_depth=-1, learning_rate=0.01, n_estimators=1000, subsample_for_bin=1000, objective=\"xentropy\", min_split_gain=0.0,\\\n",
    "                        min_child_weight=0.01, min_child_samples=10, subsample=0.9, subsample_freq=1, colsample_bytree=0.7, reg_alpha=0.1, reg_lambda=0.1, random_state=1, n_jobs=3),\n",
    "         LogisticRegression(C=1,  random_state=1),\n",
    "         RandomForestClassifier(n_estimators=300, criterion=\"entropy\", max_depth=7, max_features=0.7, random_state=1),\n",
    "         RandomForestClassifier(n_estimators=200, criterion=\"entropy\", max_depth=8, max_features=0.7, random_state=1),\n",
    "         \n",
    "         LGBMClassifier(boosting_type='gbdt', num_leaves=40, max_depth=10, learning_rate=0.1, n_estimators=1000, subsample_for_bin=1000, objective=\"xentropy\", min_split_gain=0.0,\\\n",
    "                        min_child_weight=0.01, min_child_samples=10, subsample=0.9, subsample_freq=1, colsample_bytree=0.9, reg_alpha=0.2, reg_lambda=0.2, random_state=1, n_jobs=3),\n",
    "         LogisticRegression(penalty=\"l1\", C=1, random_state=1),\n",
    "            \n",
    "         XGBClassifier(max_depth=8,learning_rate=0.1, n_estimators=300, objective=\"binary:logistic\", n_jobs=3, booster=\"gbtree\", random_state=1, colsample_bytree=0.5),\n",
    "         XGBClassifier(max_depth=10,learning_rate=0.1, n_estimators=300, objective=\"rank:pairwise\", n_jobs=3, booster=\"gbtree\", random_state=1, colsample_bytree=0.7),\n",
    "         \n",
    "         LGBMClassifier(boosting_type='gbdt', num_leaves=40, max_depth=-1, learning_rate=0.01, n_estimators=1000, subsample_for_bin=1000, objective=\"xentropy\", min_split_gain=0.0,\\\n",
    "                        min_child_weight=0.01, min_child_samples=10, subsample=0.9, subsample_freq=1, colsample_bytree=0.5, reg_alpha=0.0, reg_lambda=0.0, random_state=1, n_jobs=3)             \n",
    "         ],\n",
    "    \n",
    "        [\n",
    "        XGBClassifier(max_depth=10,learning_rate=0.1, n_estimators=300, objective=\"rank:pairwise\", n_jobs=3, booster=\"gbtree\", random_state=1, colsample_bytree=0.7),\n",
    "        LGBMClassifier(boosting_type='gbdt', num_leaves=40, max_depth=-1, learning_rate=0.01, n_estimators=1000, subsample_for_bin=1000, objective=\"xentropy\", min_split_gain=0.0,\\\n",
    "                        min_child_weight=0.01, min_child_samples=10, subsample=0.9, subsample_freq=1, colsample_bytree=0.5, reg_alpha=0.0, reg_lambda=0.0, random_state=1, n_jobs=3),\n",
    "        RandomForestClassifier(n_estimators=300, criterion=\"entropy\", max_depth=8, max_features=0.7, random_state=1)\n",
    "        ]\n",
    "        ]"
   ]
  },
  {
   "cell_type": "code",
   "execution_count": 3,
   "metadata": {
    "ExecuteTime": {
     "end_time": "2018-09-14T18:51:32.718511Z",
     "start_time": "2018-09-14T18:51:32.711530Z"
    },
    "hidden": true
   },
   "outputs": [],
   "source": [
    "model=StackNetClassifier(models, metric=\"f1\", folds=3, restacking=True,\n",
    "                         use_retraining=True, use_proba=False, random_state=12345,\n",
    "                         n_jobs=4, verbose=2)"
   ]
  },
  {
   "cell_type": "code",
   "execution_count": 9,
   "metadata": {
    "ExecuteTime": {
     "end_time": "2018-09-14T19:22:55.300992Z",
     "start_time": "2018-09-14T18:52:08.357741Z"
    },
    "hidden": true,
    "scrolled": false
   },
   "outputs": [
    {
     "name": "stdout",
     "output_type": "stream",
     "text": [
      "====================== Start of Level 0 ======================\n",
      "Input dinesionality: 102 at Level 0 \n",
      "9 models included in Level 0 \n",
      "Level 0, fold 1/3 , model 0 , f1===0.493827 \n",
      "Level 0, fold 1/3 , model 1 , f1===0.376984 \n",
      "Level 0, fold 1/3 , model 2 , f1===0.373967 \n",
      "Level 0, fold 1/3 , model 3 , f1===0.412091 \n",
      "Level 0, fold 1/3 , model 4 , f1===0.492551 \n",
      "Level 0, fold 1/3 , model 5 , f1===0.420200 \n",
      "Level 0, fold 1/3 , model 6 , f1===0.487144 \n",
      "Level 0, fold 1/3 , model 7 , f1===0.487788 \n",
      "Level 0, fold 1/3 , model 8 , f1===0.490961 \n",
      "=========== end of fold  1n level 0 ===========\n",
      "Level 0, fold 2/3 , model 0 , f1===0.508708 \n",
      "Level 0, fold 2/3 , model 1 , f1===0.411153 \n",
      "Level 0, fold 2/3 , model 2 , f1===0.407719 \n",
      "Level 0, fold 2/3 , model 3 , f1===0.422081 \n",
      "Level 0, fold 2/3 , model 4 , f1===0.505396 \n",
      "Level 0, fold 2/3 , model 5 , f1===0.443431 \n",
      "Level 0, fold 2/3 , model 6 , f1===0.506145 \n",
      "Level 0, fold 2/3 , model 7 , f1===0.495443 \n",
      "Level 0, fold 2/3 , model 8 , f1===0.511244 \n",
      "=========== end of fold  2n level 0 ===========\n",
      "Level 0, fold 3/3 , model 0 , f1===0.507260 \n",
      "Level 0, fold 3/3 , model 1 , f1===0.335744 \n",
      "Level 0, fold 3/3 , model 2 , f1===0.364026 \n",
      "Level 0, fold 3/3 , model 3 , f1===0.403133 \n",
      "Level 0, fold 3/3 , model 4 , f1===0.506977 \n",
      "Level 0, fold 3/3 , model 5 , f1===0.445606 \n",
      "Level 0, fold 3/3 , model 6 , f1===0.504265 \n",
      "Level 0, fold 3/3 , model 7 , f1===0.486945 \n",
      "Level 0, fold 3/3 , model 8 , f1===0.506770 \n",
      "=========== end of fold  3n level 0 ===========\n",
      "Level 0, model 0 , f1===0.503265 \n",
      "Level 0, model 1 , f1===0.374627 \n",
      "Level 0, model 2 , f1===0.381904 \n",
      "Level 0, model 3 , f1===0.412435 \n",
      "Level 0, model 4 , f1===0.501641 \n",
      "Level 0, model 5 , f1===0.436412 \n",
      "Level 0, model 6 , f1===0.499185 \n",
      "Level 0, model 7 , f1===0.490059 \n",
      "Level 0, model 8 , f1===0.502992 \n",
      "Output dimensionality of level 0 is 9 \n",
      "====================== End of Level 0 ======================\n",
      " level 0 lasted 957.418949 seconds \n",
      "====================== Start of Level 1 ======================\n",
      "Input dinesionality: 111 at Level 1 \n",
      "3 models included in Level 1 \n",
      "Level 1, fold 1/3 , model 0 , f1===0.496434 \n",
      "Level 1, fold 1/3 , model 1 , f1===0.497164 \n",
      "Level 1, fold 1/3 , model 2 , f1===0.495012 \n",
      "=========== end of fold  1n level 1 ===========\n",
      "Level 1, fold 2/3 , model 0 , f1===0.497034 \n",
      "Level 1, fold 2/3 , model 1 , f1===0.508924 \n",
      "Level 1, fold 2/3 , model 2 , f1===0.508990 \n",
      "=========== end of fold  2n level 1 ===========\n",
      "Level 1, fold 3/3 , model 0 , f1===0.491158 \n",
      "Level 1, fold 3/3 , model 1 , f1===0.510272 \n",
      "Level 1, fold 3/3 , model 2 , f1===0.507737 \n",
      "=========== end of fold  3n level 1 ===========\n",
      "Level 1, model 0 , f1===0.494875 \n",
      "Level 1, model 1 , f1===0.505454 \n",
      "Level 1, model 2 , f1===0.503913 \n",
      "Output dimensionality of level 1 is 3 \n",
      "====================== End of Level 1 ======================\n",
      " level 1 lasted 889.157820 seconds \n",
      "====================== End of fit ======================\n",
      " fit() lasted 1846.609222 seconds \n"
     ]
    }
   ],
   "source": [
    "model.fit(train_all, target)"
   ]
  },
  {
   "cell_type": "code",
   "execution_count": 10,
   "metadata": {
    "ExecuteTime": {
     "end_time": "2018-09-14T19:22:55.475631Z",
     "start_time": "2018-09-14T19:22:55.304981Z"
    },
    "hidden": true
   },
   "outputs": [
    {
     "data": {
      "text/plain": [
       "StackNetClassifier(folds=3, metric=<function f1 at 0x00000243EC089B70>,\n",
       "          models=[[LGBMClassifier(boosting_type='gbdt', class_weight=None, colsample_bytree=0.7,\n",
       "        learning_rate=0.01, max_depth=-1, min_child_samples=10,\n",
       "        min_child_weight=0.01, min_split_gain=0.0, n_estimators=1000,\n",
       "        n_jobs=3, num_leaves=80, objective='xentropy', random_state=1,\n",
       "        ...stimators=300, n_jobs=1,\n",
       "            oob_score=False, random_state=1, verbose=0, warm_start=False)]],\n",
       "          n_jobs=4, random_state=12345, restacking=True, use_proba=False,\n",
       "          use_retraining=True, verbose=2)"
      ]
     },
     "execution_count": 10,
     "metadata": {},
     "output_type": "execute_result"
    }
   ],
   "source": [
    "model"
   ]
  },
  {
   "cell_type": "code",
   "execution_count": 12,
   "metadata": {
    "ExecuteTime": {
     "end_time": "2018-09-14T19:23:31.938968Z",
     "start_time": "2018-09-14T19:23:20.054131Z"
    },
    "hidden": true
   },
   "outputs": [
    {
     "name": "stdout",
     "output_type": "stream",
     "text": [
      "====================== Start of Level 0 ======================\n",
      "1 estimators included in Level 0 \n",
      "====================== Start of Level 1 ======================\n",
      "1 estimators included in Level 1 \n"
     ]
    }
   ],
   "source": [
    "preds=model.predict_proba(test_all)"
   ]
  },
  {
   "cell_type": "code",
   "execution_count": 18,
   "metadata": {
    "ExecuteTime": {
     "end_time": "2018-09-14T19:25:45.946853Z",
     "start_time": "2018-09-14T19:25:43.975181Z"
    },
    "hidden": true
   },
   "outputs": [],
   "source": [
    "sub = np.where(preds[:,2]>=0.61,1,0)\n",
    "make_submission(sub).to_csv('py_stacknet.csv', index=False)"
   ]
  },
  {
   "cell_type": "code",
   "execution_count": 15,
   "metadata": {
    "ExecuteTime": {
     "end_time": "2018-09-14T19:24:27.059915Z",
     "start_time": "2018-09-14T19:24:26.803676Z"
    },
    "hidden": true
   },
   "outputs": [],
   "source": [
    "np.save('preds_pystacknet.py', preds)"
   ]
  },
  {
   "cell_type": "markdown",
   "metadata": {
    "heading_collapsed": true
   },
   "source": [
    "## The Boring Stuff"
   ]
  },
  {
   "cell_type": "code",
   "execution_count": 1,
   "metadata": {
    "ExecuteTime": {
     "end_time": "2018-09-15T08:21:16.927982Z",
     "start_time": "2018-09-15T08:21:10.162009Z"
    },
    "hidden": true
   },
   "outputs": [],
   "source": [
    "%load_ext autoreload\n",
    "%autoreload 2\n",
    "\n",
    "%matplotlib inline"
   ]
  },
  {
   "cell_type": "code",
   "execution_count": 2,
   "metadata": {
    "ExecuteTime": {
     "end_time": "2018-09-15T08:22:10.884694Z",
     "start_time": "2018-09-15T08:21:44.149777Z"
    },
    "hidden": true
   },
   "outputs": [],
   "source": [
    "import time\n",
    "import xgboost as xgb\n",
    "import lightgbm as lgb\n",
    "# import category_encoders as cat_ed\n",
    "import gc, mlcrate, glob\n",
    "\n",
    "# from gplearn.genetic import SymbolicTransformer, SymbolicClassifier\n",
    "from fastai.imports import *\n",
    "from fastai.structured import *\n",
    "from pandas_summary import DataFrameSummary\n",
    "from sklearn.ensemble import RandomForestClassifier, ExtraTreesClassifier, ExtraTreesRegressor\n",
    "from IPython.display import display\n",
    "\n",
    "from catboost import CatBoostClassifier\n",
    "from scipy.cluster import hierarchy as hc\n",
    "from collections import Counter\n",
    "\n",
    "from sklearn import metrics\n",
    "from sklearn.linear_model import LogisticRegression, Ridge\n",
    "from sklearn.model_selection import train_test_split\n",
    "from sklearn.metrics import mean_squared_error\n",
    "from sklearn.metrics import  roc_auc_score, log_loss\n",
    "from sklearn.model_selection import KFold, StratifiedKFold\n",
    "from sklearn.model_selection import GridSearchCV\n",
    "from sklearn.decomposition import PCA, TruncatedSVD, FastICA, FactorAnalysis\n",
    "from sklearn.random_projection import GaussianRandomProjection, SparseRandomProjection\n",
    "from sklearn.cluster import KMeans\n",
    "\n",
    "from sklearn.metrics import accuracy_score, log_loss\n",
    "from sklearn.neighbors import KNeighborsClassifier\n",
    "from sklearn.tree import DecisionTreeClassifier\n",
    "from sklearn.ensemble import AdaBoostClassifier, GradientBoostingClassifier\n",
    "from sklearn.naive_bayes import GaussianNB\n",
    "from sklearn.discriminant_analysis import QuadraticDiscriminantAnalysis\n",
    "from sklearn.neural_network import MLPClassifier\n",
    "from sklearn.gaussian_process import GaussianProcessClassifier\n",
    "from sklearn.gaussian_process.kernels import RBF\n",
    "\n",
    "# will ignore all warning from sklearn, seaborn etc..\n",
    "def ignore_warn(*args, **kwargs):\n",
    "    pass\n",
    "warnings.warn = ignore_warn\n",
    "\n",
    "pd.option_context(\"display.max_rows\", 1000);\n",
    "pd.option_context(\"display.max_columns\", 1000);"
   ]
  },
  {
   "cell_type": "code",
   "execution_count": 3,
   "metadata": {
    "ExecuteTime": {
     "end_time": "2018-09-15T08:22:11.054641Z",
     "start_time": "2018-09-15T08:22:10.884694Z"
    },
    "hidden": true
   },
   "outputs": [
    {
     "data": {
      "text/plain": [
       "'D:\\\\Github\\\\fastai\\\\courses\\\\ml1\\\\AV_WNS'"
      ]
     },
     "execution_count": 3,
     "metadata": {},
     "output_type": "execute_result"
    }
   ],
   "source": [
    "PATH = os.getcwd()\n",
    "PATH"
   ]
  },
  {
   "cell_type": "code",
   "execution_count": 4,
   "metadata": {
    "ExecuteTime": {
     "end_time": "2018-09-15T08:22:15.035725Z",
     "start_time": "2018-09-15T08:22:12.977920Z"
    },
    "hidden": true
   },
   "outputs": [],
   "source": [
    "df_raw = pd.read_csv(f'{PATH}\\\\train.csv', low_memory=False)\n",
    "df_test = pd.read_csv(f'{PATH}\\\\test.csv', low_memory=False)"
   ]
  },
  {
   "cell_type": "code",
   "execution_count": 5,
   "metadata": {
    "ExecuteTime": {
     "end_time": "2018-09-15T08:22:58.595247Z",
     "start_time": "2018-09-15T08:22:58.415645Z"
    },
    "hidden": true
   },
   "outputs": [
    {
     "data": {
      "text/plain": [
       "((54808, 14), (23490, 13))"
      ]
     },
     "execution_count": 5,
     "metadata": {},
     "output_type": "execute_result"
    }
   ],
   "source": [
    "df_raw.shape, df_test.shape"
   ]
  },
  {
   "cell_type": "code",
   "execution_count": 6,
   "metadata": {
    "ExecuteTime": {
     "end_time": "2018-09-15T08:23:02.294083Z",
     "start_time": "2018-09-15T08:23:01.866100Z"
    },
    "hidden": true
   },
   "outputs": [],
   "source": [
    "new_cols = ['employee_id', 'department', 'region', 'education', 'gender',\n",
    "       'recruitment_channel', 'no_of_trainings', 'age', 'previous_year_rating',\n",
    "       'length_of_service', 'KPIs_met_more_than_80_percent', 'awards_won_bool',\n",
    "       'avg_training_score', 'is_promoted']\n",
    "#re-naming them\n",
    "df_raw.columns = new_cols\n",
    "df_test.columns = new_cols[:-1]\n",
    "\n",
    "cat_cols = list(df_raw.select_dtypes(include=['object']).columns)\n",
    "num_cols = list(df_raw.select_dtypes(exclude=['object']).columns)"
   ]
  },
  {
   "cell_type": "code",
   "execution_count": 7,
   "metadata": {
    "ExecuteTime": {
     "end_time": "2018-09-15T08:23:04.306436Z",
     "start_time": "2018-09-15T08:23:04.054020Z"
    },
    "hidden": true
   },
   "outputs": [],
   "source": [
    "## Since we can't use id cols, it better dropping them straight front!\n",
    "drop_col = ['employee_id']\n",
    "df_raw.drop(drop_col, axis=1, inplace=True)\n",
    "df_test.drop(drop_col, axis=1, inplace=True)"
   ]
  },
  {
   "cell_type": "markdown",
   "metadata": {
    "heading_collapsed": true
   },
   "source": [
    "## 2."
   ]
  },
  {
   "cell_type": "code",
   "execution_count": 8,
   "metadata": {
    "ExecuteTime": {
     "end_time": "2018-09-14T14:10:35.717003Z",
     "start_time": "2018-09-14T14:10:35.553240Z"
    },
    "hidden": true,
    "scrolled": true
   },
   "outputs": [],
   "source": [
    "# %%time\n",
    "#creating interactions all Run At Last and add tf-idf, count vec\n",
    "# for f in range (0,len(cat_cols)):\n",
    "#     for s in range (f+1,len(cat_cols)):\n",
    "#     # Basically this is creating interactions..( 2 - way) \n",
    "#         df_raw[cat_cols[f] + \"_\" + cat_cols[s]] = df_raw[cat_cols[f]] + \"_\" + df_raw[cat_cols[s]]\n",
    "#         df_test[cat_cols[f] + \"_\" + cat_cols[s]] = df_test[cat_cols[f]] + \"_\" + df_test[cat_cols[s]]            \n",
    "#         cat_cols.append(cat_cols[f] + \"_\" + cat_cols[s])\n",
    "#     print(len(cat_cols), end=' ')"
   ]
  },
  {
   "cell_type": "code",
   "execution_count": 9,
   "metadata": {
    "ExecuteTime": {
     "end_time": "2018-09-14T14:10:36.502242Z",
     "start_time": "2018-09-14T14:10:36.106878Z"
    },
    "hidden": true
   },
   "outputs": [],
   "source": [
    "###########################kind of binning age at trivial level #####################################\n",
    "\n",
    "df_raw['is_age_39'] = np.zeros(df_raw.shape[0])\n",
    "my_query = df_raw.query('age<=39.').index\n",
    "df_raw.iloc[my_query, -1] = 1\n",
    "df_raw['is_age_39_45'] = np.zeros(df_raw.shape[0])\n",
    "my_query = df_raw.query('age>=39. & age<=45.').index\n",
    "df_raw.iloc[my_query, -1] = 1\n",
    "df_raw['is_age_45'] = np.zeros(df_raw.shape[0])\n",
    "my_query = df_raw.query('age>=45.').index\n",
    "df_raw.iloc[my_query, -1] = 1\n",
    "\n",
    "#######################################################################################################\n",
    "###################young age (13–30), middle age (31–50) and senior age (51–70)########################\n",
    "#######################################################################################################\n",
    "\n",
    "df_raw['age_group'] = np.zeros(df_raw.shape[0])\n",
    "my_query = df_raw.query('age>=20. & age<=30.').index\n",
    "df_raw.iloc[my_query, -1] = 'young'\n",
    "my_query = df_raw.query('age>=31. & age<=50.').index\n",
    "df_raw.iloc[my_query, -1] = 'middle_aged'\n",
    "my_query = df_raw.query('age>=51. & age<=60.').index\n",
    "df_raw.iloc[my_query, -1] = 'senior_aged'\n",
    "###################################################################################################################\n",
    "###################################################################################################################\n",
    "###################################################################################################################\n",
    "\n",
    "###########################kind of binning age at trivial level #####################################\n",
    "\n",
    "df_test['is_age_39'] = np.zeros(df_test.shape[0])\n",
    "my_query = df_test.query('age<=39.').index\n",
    "df_test.iloc[my_query, -1] = 1\n",
    "df_test['is_age_39_45'] = np.zeros(df_test.shape[0])\n",
    "my_query = df_test.query('age>=39. & age<=45.').index\n",
    "df_test.iloc[my_query, -1] = 1\n",
    "df_test['is_age_45'] = np.zeros(df_test.shape[0])\n",
    "my_query = df_test.query('age>=45.').index\n",
    "df_test.iloc[my_query, -1] = 1\n",
    "\n",
    "#######################################################################################################\n",
    "###################young age (13–30), middle age (31–50) and senior age (51–70)########################\n",
    "#######################################################################################################\n",
    "\n",
    "df_test['age_group'] = np.zeros(df_test.shape[0])\n",
    "my_query = df_test.query('age>=20. & age<=30.').index\n",
    "df_test.iloc[my_query, -1] = 'young'\n",
    "my_query = df_test.query('age>=31. & age<=50.').index\n",
    "df_test.iloc[my_query, -1] = 'middle_aged'\n",
    "my_query = df_test.query('age>=51. & age<=60.').index\n",
    "df_test.iloc[my_query, -1] = 'senior_aged';\n",
    "###############################################################################"
   ]
  },
  {
   "cell_type": "code",
   "execution_count": 10,
   "metadata": {
    "ExecuteTime": {
     "end_time": "2018-09-14T13:31:15.631911Z",
     "start_time": "2018-09-14T13:31:15.389133Z"
    },
    "hidden": true
   },
   "outputs": [],
   "source": [
    "df_raw['promotion_chance'] = 'low'\n",
    "my_query = df_raw.query('avg_training_score>=90').index\n",
    "df_raw.iloc[my_query, -1] = 'very_high'\n",
    "my_query = df_raw.query('avg_training_score>=75 and avg_training_score<90').index\n",
    "df_raw.iloc[my_query, -1] = 'high'\n",
    "my_query = df_raw.query('avg_training_score>=65 and avg_training_score<75').index\n",
    "df_raw.iloc[my_query, -1] = 'medium'\n",
    "my_query = df_raw.query('avg_training_score>=53 and avg_training_score<65').index\n",
    "df_raw.iloc[my_query, -1] = 'low_medium'\n",
    "\n",
    "df_test['promotion_chance'] = 'low'\n",
    "my_query = df_test.query('avg_training_score>=90').index\n",
    "df_test.iloc[my_query, -1] = 'very_high'\n",
    "my_query = df_test.query('avg_training_score>=75 and avg_training_score<90').index\n",
    "df_test.iloc[my_query, -1] = 'high'\n",
    "my_query = df_test.query('avg_training_score>=65 and avg_training_score<75').index\n",
    "df_test.iloc[my_query, -1] = 'medium'\n",
    "my_query = df_test.query('avg_training_score>=53 and avg_training_score<65').index\n",
    "df_test.iloc[my_query, -1] = 'low_medium'"
   ]
  },
  {
   "cell_type": "code",
   "execution_count": 10,
   "metadata": {
    "ExecuteTime": {
     "end_time": "2018-09-14T14:10:39.138524Z",
     "start_time": "2018-09-14T14:10:38.296585Z"
    },
    "hidden": true
   },
   "outputs": [
    {
     "data": {
      "text/plain": [
       "504"
      ]
     },
     "execution_count": 10,
     "metadata": {},
     "output_type": "execute_result"
    }
   ],
   "source": [
    "feats_added = []\n",
    "\n",
    "df_raw['joining_age'] = df_raw['age'] - df_raw['length_of_service']\n",
    "df_test['joining_age'] = df_test['age'] - df_test['length_of_service']\n",
    "feats_added.append('joining_age')\n",
    "\n",
    "df_raw['region'].replace('region_', '', True, None, True)\n",
    "df_test['region'].replace('region_', '', True, None, True)\n",
    "################################################################################3\n",
    "bins = [20., 25., 30., 35., 40., 45., 50., 55., 60., 70]\n",
    "labels = [i+1 for i in range(len(bins) - 1)]\n",
    "bin_cols = ['age']\n",
    "for col in bin_cols:    \n",
    "    df_raw[f'bin_{col}'.format(col)]  = pd.cut(df_raw[col] ,bins,labels = labels)\n",
    "    df_test[f'bin_{col}'.format(col)] = pd.cut(df_test[col],bins,labels = labels)\n",
    "feats_added.append('bin_age')\n",
    "\n",
    "bins = [39., 44., 54., 66., 75., 80., 85., 90., 95.]\n",
    "labels = [i+1 for i in range(len(bins) - 1)]\n",
    "bin_cols = ['avg_training_score']\n",
    "for col in bin_cols:    \n",
    "    df_raw[f'bin_{col}'.format(col)]  = pd.cut(df_raw[col] ,bins,labels = labels)\n",
    "    df_test[f'bin_{col}'.format(col)] = pd.cut(df_test[col],bins,labels = labels)\n",
    "\n",
    "feats_added.append('bin_avg_training_score')\n",
    "feats_added.append(['age_group', 'is_age_39', 'is_age_39_45', 'is_age_45', 'promotion_chance',\\\n",
    "                   'reg_count','mean_age_per_region','mean_joining_age_per_region','mean_previous_year_rating_per_region',\\\n",
    "                    'mean_avg_training_score_per_region','mean_length_of_service_per_region'])\n",
    "################################################################################################\n",
    "df_raw['promotion_chance'] = 'low'\n",
    "my_query = df_raw.query('avg_training_score>=90').index\n",
    "df_raw.iloc[my_query, -1] = 'very_high'\n",
    "my_query = df_raw.query('avg_training_score>=75 and avg_training_score<90').index\n",
    "df_raw.iloc[my_query, -1] = 'high'\n",
    "my_query = df_raw.query('avg_training_score>=65 and avg_training_score<75').index\n",
    "df_raw.iloc[my_query, -1] = 'medium'\n",
    "my_query = df_raw.query('avg_training_score>=53 and avg_training_score<65').index\n",
    "df_raw.iloc[my_query, -1] = 'low_medium'\n",
    "\n",
    "df_test['promotion_chance'] = 'low'\n",
    "my_query = df_test.query('avg_training_score>=90').index\n",
    "df_test.iloc[my_query, -1] = 'very_high'\n",
    "my_query = df_test.query('avg_training_score>=75 and avg_training_score<90').index\n",
    "df_test.iloc[my_query, -1] = 'high'\n",
    "my_query = df_test.query('avg_training_score>=65 and avg_training_score<75').index\n",
    "df_test.iloc[my_query, -1] = 'medium'\n",
    "my_query = df_test.query('avg_training_score>=53 and avg_training_score<65').index\n",
    "df_test.iloc[my_query, -1] = 'low_medium'\n",
    "###############################################################################################\n",
    "def map_(regs, age):\n",
    "    d = {}\n",
    "    for i,j in zip(regs, age):\n",
    "        d[i] = j\n",
    "    return d\n",
    "\n",
    "xyz = df_raw.groupby('region').mean().sort_values(by='region')[['age', 'joining_age', 'previous_year_rating', 'length_of_service', 'avg_training_score']]\n",
    "count = Counter(df_raw['region'])\n",
    "\n",
    "regs                   = xyz.reset_index()['region'].values\n",
    "age                    = xyz.reset_index()['age'].values\n",
    "joining_age            = xyz.reset_index()['joining_age'].values\n",
    "previous_year_rating   = xyz.reset_index()['previous_year_rating'].values\n",
    "length_of_service      = xyz.reset_index()['length_of_service'].values \n",
    "avg_training_score     = xyz.reset_index()['avg_training_score'].values\n",
    "\n",
    "df_raw['reg_count'] = df_raw['region'].map(count)\n",
    "d = map_(regs, age)\n",
    "df_raw['mean_age_per_region']   = df_raw['region'].map(d)\n",
    "d = map_(regs, joining_age)\n",
    "df_raw['mean_joining_age_per_region']   = df_raw['region'].map(d)\n",
    "d = map_(regs, previous_year_rating)\n",
    "df_raw['mean_previous_year_rating_per_region']   = df_raw['region'].map(d)\n",
    "d = map_(regs, avg_training_score)\n",
    "df_raw['mean_avg_training_score_per_region']   = df_raw['region'].map(d)\n",
    "d = map_(regs, length_of_service)\n",
    "df_raw['mean_length_of_service_per_region']   = df_raw['region'].map(d)\n",
    "\n",
    "xyz = df_test.groupby('region').mean().sort_values(by='region')[['age', 'joining_age', 'previous_year_rating', 'length_of_service', 'avg_training_score']]\n",
    "count = Counter(df_test['region'])\n",
    "\n",
    "regs                   = xyz.reset_index()['region'].values\n",
    "age                    = xyz.reset_index()['age'].values\n",
    "joining_age            = xyz.reset_index()['joining_age'].values\n",
    "previous_year_rating   = xyz.reset_index()['previous_year_rating'].values\n",
    "length_of_service      = xyz.reset_index()['length_of_service'].values \n",
    "avg_training_score     = xyz.reset_index()['avg_training_score'].values\n",
    "\n",
    "df_test['reg_count'] = df_test['region'].map(count)\n",
    "d = map_(regs, age)\n",
    "df_test['mean_age_per_region']   = df_test['region'].map(d)\n",
    "d = map_(regs, joining_age)\n",
    "df_test['mean_joining_age_per_region']   = df_test['region'].map(d)\n",
    "d = map_(regs, previous_year_rating)\n",
    "df_test['mean_previous_year_rating_per_region']   = df_test['region'].map(d)\n",
    "d = map_(regs, avg_training_score)\n",
    "df_test['mean_avg_training_score_per_region']   = df_test['region'].map(d)\n",
    "d = map_(regs, length_of_service)\n",
    "df_test['mean_length_of_service_per_region']   = df_test['region'].map(d)\n",
    "####################################################################################\n",
    "\n",
    "\n",
    "del d, count, regs, joining_age, previous_year_rating, length_of_service, avg_training_score\n",
    "gc.collect()"
   ]
  },
  {
   "cell_type": "code",
   "execution_count": 11,
   "metadata": {
    "ExecuteTime": {
     "end_time": "2018-09-14T14:10:39.305680Z",
     "start_time": "2018-09-14T14:10:39.138524Z"
    },
    "hidden": true,
    "scrolled": true
   },
   "outputs": [
    {
     "data": {
      "text/plain": [
       "0           low\n",
       "1    low_medium\n",
       "2           low\n",
       "3           low\n",
       "4        medium\n",
       "Name: promotion_chance, dtype: object"
      ]
     },
     "execution_count": 11,
     "metadata": {},
     "output_type": "execute_result"
    }
   ],
   "source": [
    "df_raw['promotion_chance'].head()"
   ]
  },
  {
   "cell_type": "code",
   "execution_count": 12,
   "metadata": {
    "ExecuteTime": {
     "end_time": "2018-09-14T14:10:40.058927Z",
     "start_time": "2018-09-14T14:10:39.792927Z"
    },
    "hidden": true
   },
   "outputs": [],
   "source": [
    "#https://www.kaggle.com/ogrellier/python-target-encoding-for-categorical-features\n",
    "def add_noise(series, noise_level):\n",
    "    return series * (1 + noise_level * np.random.randn(len(series)))\n",
    "\n",
    "def target_encode(trn_series=None, \n",
    "                  tst_series=None, \n",
    "                  target=None, \n",
    "                  min_samples_leaf=1, \n",
    "                  smoothing=1,\n",
    "                  noise_level=0):\n",
    "    \"\"\"\n",
    "    Smoothing is computed like in the following paper by Daniele Micci-Barreca\n",
    "    https://kaggle2.blob.core.windows.net/forum-message-attachments/225952/7441/high%20cardinality%20categoricals.pdf\n",
    "    trn_series : training categorical feature as a pd.Series\n",
    "    tst_series : test categorical feature as a pd.Series\n",
    "    target : target data as a pd.Series\n",
    "    min_samples_leaf (int) : minimum samples to take category average into account\n",
    "    smoothing (int) : smoothing effect to balance categorical average vs prior  \n",
    "    \"\"\" \n",
    "    assert len(trn_series) == len(target)\n",
    "    assert trn_series.name == tst_series.name\n",
    "    temp = pd.concat([trn_series, target], axis=1)\n",
    "    # Compute target mean \n",
    "    averages = temp.groupby(by=trn_series.name)[target.name].agg([\"mean\", \"count\"])\n",
    "    # Compute smoothing\n",
    "    smoothing = 1 / (1 + np.exp(-(averages[\"count\"] - min_samples_leaf) / smoothing))\n",
    "    # Apply average function to all target data\n",
    "    prior = target.mean()\n",
    "    # The bigger the count the less full_avg is taken into account\n",
    "    averages[target.name] = prior * (1 - smoothing) + averages[\"mean\"] * smoothing\n",
    "    averages.drop([\"mean\", \"count\"], axis=1, inplace=True)\n",
    "    # Apply averages to trn and tst series\n",
    "    ft_trn_series = pd.merge(\n",
    "        trn_series.to_frame(trn_series.name),\n",
    "        averages.reset_index().rename(columns={'index': target.name, target.name: 'average'}),\n",
    "        on=trn_series.name,\n",
    "        how='left')['average'].rename(trn_series.name + '_mean').fillna(prior)\n",
    "    # pd.merge does not keep the index so restore it\n",
    "    ft_trn_series.index = trn_series.index \n",
    "    ft_tst_series = pd.merge(\n",
    "        tst_series.to_frame(tst_series.name),\n",
    "        averages.reset_index().rename(columns={'index': target.name, target.name: 'average'}),\n",
    "        on=tst_series.name,\n",
    "        how='left')['average'].rename(trn_series.name + '_mean').fillna(prior)\n",
    "    # pd.merge does not keep the index so restore it\n",
    "    ft_tst_series.index = tst_series.index\n",
    "    return add_noise(ft_trn_series, noise_level), add_noise(ft_tst_series, noise_level)"
   ]
  },
  {
   "cell_type": "code",
   "execution_count": 13,
   "metadata": {
    "ExecuteTime": {
     "end_time": "2018-09-14T14:10:42.138483Z",
     "start_time": "2018-09-14T14:10:41.881736Z"
    },
    "hidden": true
   },
   "outputs": [],
   "source": [
    "train_cats(df_raw);\n",
    "apply_cats(df_test,df_raw)"
   ]
  },
  {
   "cell_type": "code",
   "execution_count": 14,
   "metadata": {
    "ExecuteTime": {
     "end_time": "2018-09-14T14:10:43.447932Z",
     "start_time": "2018-09-14T14:10:43.201155Z"
    },
    "hidden": true
   },
   "outputs": [],
   "source": [
    "cat_cols = list(df_raw.select_dtypes(include=['object','category']).columns)"
   ]
  },
  {
   "cell_type": "code",
   "execution_count": 15,
   "metadata": {
    "ExecuteTime": {
     "end_time": "2018-09-14T14:10:44.897968Z",
     "start_time": "2018-09-14T14:10:44.394376Z"
    },
    "hidden": true
   },
   "outputs": [
    {
     "name": "stdout",
     "output_type": "stream",
     "text": [
      "0,1,2,3,4,5,6,7,8,"
     ]
    }
   ],
   "source": [
    "train_encoded, test_encoded = [], []\n",
    "for i in range(len(cat_cols)):\n",
    "    trn, sub = target_encode(df_raw[cat_cols[i]], \n",
    "                             df_test[cat_cols[i]], \n",
    "                             target=df_raw.is_promoted, \n",
    "                             min_samples_leaf=100,\n",
    "                             smoothing=10,\n",
    "                             noise_level=0.01)\n",
    "    train_encoded.append(trn)\n",
    "    test_encoded.append(sub)\n",
    "    print(i, end=',')"
   ]
  },
  {
   "cell_type": "code",
   "execution_count": 16,
   "metadata": {
    "ExecuteTime": {
     "end_time": "2018-09-14T14:10:46.679059Z",
     "start_time": "2018-09-14T14:10:46.441510Z"
    },
    "hidden": true
   },
   "outputs": [
    {
     "data": {
      "text/plain": [
       "((54808, 18), (23490, 17))"
      ]
     },
     "execution_count": 16,
     "metadata": {},
     "output_type": "execute_result"
    }
   ],
   "source": [
    "df_raw_cat = df_raw[cat_cols]\n",
    "df_test_cat = df_test[cat_cols]\n",
    "df_raw.drop(cat_cols, axis=1, inplace=True)\n",
    "df_test.drop(cat_cols, axis=1, inplace=True)\n",
    "df_raw.shape, df_test.shape"
   ]
  },
  {
   "cell_type": "code",
   "execution_count": 17,
   "metadata": {
    "ExecuteTime": {
     "end_time": "2018-09-14T14:10:48.536111Z",
     "start_time": "2018-09-14T14:10:48.241013Z"
    },
    "hidden": true
   },
   "outputs": [
    {
     "data": {
      "text/plain": [
       "category:dense    9\n",
       "dtype: int64"
      ]
     },
     "execution_count": 17,
     "metadata": {},
     "output_type": "execute_result"
    }
   ],
   "source": [
    "df_raw_cat.get_ftype_counts()"
   ]
  },
  {
   "cell_type": "code",
   "execution_count": 18,
   "metadata": {
    "ExecuteTime": {
     "end_time": "2018-09-14T14:10:50.440743Z",
     "start_time": "2018-09-14T14:10:50.245718Z"
    },
    "hidden": true
   },
   "outputs": [
    {
     "data": {
      "text/html": [
       "<div>\n",
       "<style scoped>\n",
       "    .dataframe tbody tr th:only-of-type {\n",
       "        vertical-align: middle;\n",
       "    }\n",
       "\n",
       "    .dataframe tbody tr th {\n",
       "        vertical-align: top;\n",
       "    }\n",
       "\n",
       "    .dataframe thead th {\n",
       "        text-align: right;\n",
       "    }\n",
       "</style>\n",
       "<table border=\"1\" class=\"dataframe\">\n",
       "  <thead>\n",
       "    <tr style=\"text-align: right;\">\n",
       "      <th></th>\n",
       "      <th>no_of_trainings</th>\n",
       "      <th>age</th>\n",
       "      <th>previous_year_rating</th>\n",
       "      <th>length_of_service</th>\n",
       "      <th>KPIs_met_more_than_80_percent</th>\n",
       "      <th>awards_won_bool</th>\n",
       "      <th>avg_training_score</th>\n",
       "      <th>is_promoted</th>\n",
       "      <th>is_age_39</th>\n",
       "      <th>is_age_39_45</th>\n",
       "      <th>is_age_45</th>\n",
       "      <th>joining_age</th>\n",
       "      <th>reg_count</th>\n",
       "      <th>mean_age_per_region</th>\n",
       "      <th>mean_joining_age_per_region</th>\n",
       "      <th>mean_previous_year_rating_per_region</th>\n",
       "      <th>mean_avg_training_score_per_region</th>\n",
       "      <th>mean_length_of_service_per_region</th>\n",
       "    </tr>\n",
       "  </thead>\n",
       "  <tbody>\n",
       "    <tr>\n",
       "      <th>0</th>\n",
       "      <td>1</td>\n",
       "      <td>35</td>\n",
       "      <td>5.0</td>\n",
       "      <td>8</td>\n",
       "      <td>1</td>\n",
       "      <td>0</td>\n",
       "      <td>49</td>\n",
       "      <td>0</td>\n",
       "      <td>1.0</td>\n",
       "      <td>0.0</td>\n",
       "      <td>0.0</td>\n",
       "      <td>27</td>\n",
       "      <td>4843</td>\n",
       "      <td>35.644229</td>\n",
       "      <td>29.417716</td>\n",
       "      <td>3.405671</td>\n",
       "      <td>63.940946</td>\n",
       "      <td>6.226512</td>\n",
       "    </tr>\n",
       "    <tr>\n",
       "      <th>1</th>\n",
       "      <td>1</td>\n",
       "      <td>30</td>\n",
       "      <td>5.0</td>\n",
       "      <td>4</td>\n",
       "      <td>0</td>\n",
       "      <td>0</td>\n",
       "      <td>60</td>\n",
       "      <td>0</td>\n",
       "      <td>1.0</td>\n",
       "      <td>0.0</td>\n",
       "      <td>0.0</td>\n",
       "      <td>26</td>\n",
       "      <td>6428</td>\n",
       "      <td>32.321251</td>\n",
       "      <td>27.444462</td>\n",
       "      <td>3.387227</td>\n",
       "      <td>65.699440</td>\n",
       "      <td>4.876789</td>\n",
       "    </tr>\n",
       "    <tr>\n",
       "      <th>2</th>\n",
       "      <td>1</td>\n",
       "      <td>34</td>\n",
       "      <td>3.0</td>\n",
       "      <td>7</td>\n",
       "      <td>0</td>\n",
       "      <td>0</td>\n",
       "      <td>50</td>\n",
       "      <td>0</td>\n",
       "      <td>1.0</td>\n",
       "      <td>0.0</td>\n",
       "      <td>0.0</td>\n",
       "      <td>27</td>\n",
       "      <td>874</td>\n",
       "      <td>36.113272</td>\n",
       "      <td>29.662471</td>\n",
       "      <td>3.357311</td>\n",
       "      <td>61.270023</td>\n",
       "      <td>6.450801</td>\n",
       "    </tr>\n",
       "    <tr>\n",
       "      <th>3</th>\n",
       "      <td>2</td>\n",
       "      <td>39</td>\n",
       "      <td>1.0</td>\n",
       "      <td>10</td>\n",
       "      <td>0</td>\n",
       "      <td>0</td>\n",
       "      <td>50</td>\n",
       "      <td>0</td>\n",
       "      <td>1.0</td>\n",
       "      <td>1.0</td>\n",
       "      <td>0.0</td>\n",
       "      <td>29</td>\n",
       "      <td>1175</td>\n",
       "      <td>34.531064</td>\n",
       "      <td>28.654468</td>\n",
       "      <td>3.367257</td>\n",
       "      <td>64.330213</td>\n",
       "      <td>5.876596</td>\n",
       "    </tr>\n",
       "    <tr>\n",
       "      <th>4</th>\n",
       "      <td>1</td>\n",
       "      <td>45</td>\n",
       "      <td>3.0</td>\n",
       "      <td>2</td>\n",
       "      <td>0</td>\n",
       "      <td>0</td>\n",
       "      <td>73</td>\n",
       "      <td>0</td>\n",
       "      <td>0.0</td>\n",
       "      <td>1.0</td>\n",
       "      <td>1.0</td>\n",
       "      <td>43</td>\n",
       "      <td>2260</td>\n",
       "      <td>33.417257</td>\n",
       "      <td>28.184513</td>\n",
       "      <td>3.292135</td>\n",
       "      <td>65.084071</td>\n",
       "      <td>5.232743</td>\n",
       "    </tr>\n",
       "  </tbody>\n",
       "</table>\n",
       "</div>"
      ],
      "text/plain": [
       "   no_of_trainings  age  previous_year_rating  length_of_service  \\\n",
       "0                1   35                   5.0                  8   \n",
       "1                1   30                   5.0                  4   \n",
       "2                1   34                   3.0                  7   \n",
       "3                2   39                   1.0                 10   \n",
       "4                1   45                   3.0                  2   \n",
       "\n",
       "   KPIs_met_more_than_80_percent  awards_won_bool  avg_training_score  \\\n",
       "0                              1                0                  49   \n",
       "1                              0                0                  60   \n",
       "2                              0                0                  50   \n",
       "3                              0                0                  50   \n",
       "4                              0                0                  73   \n",
       "\n",
       "   is_promoted  is_age_39  is_age_39_45  is_age_45  joining_age  reg_count  \\\n",
       "0            0        1.0           0.0        0.0           27       4843   \n",
       "1            0        1.0           0.0        0.0           26       6428   \n",
       "2            0        1.0           0.0        0.0           27        874   \n",
       "3            0        1.0           1.0        0.0           29       1175   \n",
       "4            0        0.0           1.0        1.0           43       2260   \n",
       "\n",
       "   mean_age_per_region  mean_joining_age_per_region  \\\n",
       "0            35.644229                    29.417716   \n",
       "1            32.321251                    27.444462   \n",
       "2            36.113272                    29.662471   \n",
       "3            34.531064                    28.654468   \n",
       "4            33.417257                    28.184513   \n",
       "\n",
       "   mean_previous_year_rating_per_region  mean_avg_training_score_per_region  \\\n",
       "0                              3.405671                           63.940946   \n",
       "1                              3.387227                           65.699440   \n",
       "2                              3.357311                           61.270023   \n",
       "3                              3.367257                           64.330213   \n",
       "4                              3.292135                           65.084071   \n",
       "\n",
       "   mean_length_of_service_per_region  \n",
       "0                           6.226512  \n",
       "1                           4.876789  \n",
       "2                           6.450801  \n",
       "3                           5.876596  \n",
       "4                           5.232743  "
      ]
     },
     "execution_count": 18,
     "metadata": {},
     "output_type": "execute_result"
    }
   ],
   "source": [
    "df_raw.head()"
   ]
  },
  {
   "cell_type": "code",
   "execution_count": 16,
   "metadata": {
    "ExecuteTime": {
     "end_time": "2018-09-14T14:07:39.412289Z",
     "start_time": "2018-09-14T14:07:39.226228Z"
    },
    "hidden": true
   },
   "outputs": [],
   "source": [
    "target = df_raw.is_promoted\n",
    "df_raw.drop('is_promoted', axis=1, inplace=True)"
   ]
  },
  {
   "cell_type": "markdown",
   "metadata": {
    "heading_collapsed": true,
    "hidden": true
   },
   "source": [
    "### Catboost"
   ]
  },
  {
   "cell_type": "code",
   "execution_count": 23,
   "metadata": {
    "ExecuteTime": {
     "end_time": "2018-09-14T13:34:28.651859Z",
     "start_time": "2018-09-14T13:34:28.472532Z"
    },
    "hidden": true,
    "scrolled": true
   },
   "outputs": [
    {
     "data": {
      "text/plain": [
       "array([ 0,  1,  2,  3,  4, 15, 16, 18, 19], dtype=int64)"
      ]
     },
     "execution_count": 23,
     "metadata": {},
     "output_type": "execute_result"
    }
   ],
   "source": [
    "categorical_features_indices1 = np.where(df_raw.dtypes == 'category')[0];\n",
    "categorical_features_indices1"
   ]
  },
  {
   "cell_type": "code",
   "execution_count": 32,
   "metadata": {
    "ExecuteTime": {
     "end_time": "2018-09-14T13:38:14.962606Z",
     "start_time": "2018-09-14T13:38:14.717031Z"
    },
    "hidden": true
   },
   "outputs": [],
   "source": [
    "df_raw['previous_year_rating'].fillna(0,inplace=True)\n",
    "df_test['previous_year_rating'].fillna(0,inplace=True)"
   ]
  },
  {
   "cell_type": "code",
   "execution_count": 36,
   "metadata": {
    "ExecuteTime": {
     "end_time": "2018-09-14T13:39:00.914353Z",
     "start_time": "2018-09-14T13:39:00.610753Z"
    },
    "hidden": true
   },
   "outputs": [],
   "source": [
    "df_raw.fillna(method='bfill',inplace=True)\n",
    "df_test.fillna(method='bfill',inplace=True)"
   ]
  },
  {
   "cell_type": "code",
   "execution_count": 37,
   "metadata": {
    "ExecuteTime": {
     "end_time": "2018-09-14T13:39:02.177360Z",
     "start_time": "2018-09-14T13:39:01.948087Z"
    },
    "hidden": true
   },
   "outputs": [],
   "source": [
    "X_train, X_validation, y_train, y_validation = train_test_split(df_raw, target, test_size=0.8, random_state=1234, stratify=target)"
   ]
  },
  {
   "cell_type": "code",
   "execution_count": 47,
   "metadata": {
    "ExecuteTime": {
     "end_time": "2018-09-14T13:53:42.175036Z",
     "start_time": "2018-09-14T13:52:09.244592Z"
    },
    "hidden": true,
    "scrolled": true
   },
   "outputs": [
    {
     "name": "stdout",
     "output_type": "stream",
     "text": [
      "0:\tlearn: 0.6782690\ttest: 0.6782943\tbest: 0.6782943 (0)\ttotal: 130ms\tremaining: 1m 4s\n",
      "1:\tlearn: 0.6644973\ttest: 0.6645033\tbest: 0.6645033 (1)\ttotal: 330ms\tremaining: 1m 22s\n",
      "2:\tlearn: 0.6504474\ttest: 0.6502320\tbest: 0.6502320 (2)\ttotal: 589ms\tremaining: 1m 37s\n",
      "3:\tlearn: 0.6375652\ttest: 0.6372470\tbest: 0.6372470 (3)\ttotal: 661ms\tremaining: 1m 21s\n",
      "4:\tlearn: 0.6271148\ttest: 0.6268062\tbest: 0.6268062 (4)\ttotal: 761ms\tremaining: 1m 15s\n",
      "5:\tlearn: 0.6162614\ttest: 0.6159389\tbest: 0.6159389 (5)\ttotal: 981ms\tremaining: 1m 20s\n",
      "6:\tlearn: 0.6055217\ttest: 0.6053170\tbest: 0.6053170 (6)\ttotal: 1.03s\tremaining: 1m 12s\n",
      "7:\tlearn: 0.5957500\ttest: 0.5956208\tbest: 0.5956208 (7)\ttotal: 1.23s\tremaining: 1m 15s\n",
      "8:\tlearn: 0.5871382\ttest: 0.5869913\tbest: 0.5869913 (8)\ttotal: 1.33s\tremaining: 1m 12s\n",
      "9:\tlearn: 0.5820280\ttest: 0.5819327\tbest: 0.5819327 (9)\ttotal: 1.36s\tremaining: 1m 6s\n",
      "10:\tlearn: 0.5712530\ttest: 0.5711174\tbest: 0.5711174 (10)\ttotal: 1.45s\tremaining: 1m 4s\n",
      "11:\tlearn: 0.5632898\ttest: 0.5631117\tbest: 0.5631117 (11)\ttotal: 1.55s\tremaining: 1m 2s\n",
      "12:\tlearn: 0.5555005\ttest: 0.5553312\tbest: 0.5553312 (12)\ttotal: 1.75s\tremaining: 1m 5s\n",
      "13:\tlearn: 0.5456879\ttest: 0.5454575\tbest: 0.5454575 (13)\ttotal: 1.93s\tremaining: 1m 6s\n",
      "14:\tlearn: 0.5378372\ttest: 0.5375579\tbest: 0.5375579 (14)\ttotal: 2s\tremaining: 1m 4s\n",
      "15:\tlearn: 0.5297641\ttest: 0.5295544\tbest: 0.5295544 (15)\ttotal: 2.19s\tremaining: 1m 6s\n",
      "16:\tlearn: 0.5209316\ttest: 0.5205180\tbest: 0.5205180 (16)\ttotal: 2.41s\tremaining: 1m 8s\n",
      "17:\tlearn: 0.5146582\ttest: 0.5142492\tbest: 0.5142492 (17)\ttotal: 2.46s\tremaining: 1m 5s\n",
      "18:\tlearn: 0.5066985\ttest: 0.5063053\tbest: 0.5063053 (18)\ttotal: 2.53s\tremaining: 1m 4s\n",
      "19:\tlearn: 0.5007567\ttest: 0.5003766\tbest: 0.5003766 (19)\ttotal: 2.67s\tremaining: 1m 4s\n",
      "20:\tlearn: 0.4938478\ttest: 0.4935883\tbest: 0.4935883 (20)\ttotal: 2.89s\tremaining: 1m 6s\n",
      "21:\tlearn: 0.4865334\ttest: 0.4862325\tbest: 0.4862325 (21)\ttotal: 3.1s\tremaining: 1m 7s\n",
      "22:\tlearn: 0.4811869\ttest: 0.4808985\tbest: 0.4808985 (22)\ttotal: 3.17s\tremaining: 1m 5s\n",
      "23:\tlearn: 0.4781434\ttest: 0.4779419\tbest: 0.4779419 (23)\ttotal: 3.21s\tremaining: 1m 3s\n",
      "24:\tlearn: 0.4751817\ttest: 0.4750406\tbest: 0.4750406 (24)\ttotal: 3.23s\tremaining: 1m 1s\n",
      "25:\tlearn: 0.4701026\ttest: 0.4699910\tbest: 0.4699910 (25)\ttotal: 3.48s\tremaining: 1m 3s\n",
      "26:\tlearn: 0.4635657\ttest: 0.4634825\tbest: 0.4634825 (26)\ttotal: 3.66s\tremaining: 1m 4s\n",
      "27:\tlearn: 0.4584423\ttest: 0.4584070\tbest: 0.4584070 (27)\ttotal: 3.87s\tremaining: 1m 5s\n",
      "28:\tlearn: 0.4526817\ttest: 0.4526467\tbest: 0.4526467 (28)\ttotal: 4.09s\tremaining: 1m 6s\n",
      "29:\tlearn: 0.4506919\ttest: 0.4507018\tbest: 0.4507018 (29)\ttotal: 4.11s\tremaining: 1m 4s\n",
      "30:\tlearn: 0.4472045\ttest: 0.4472905\tbest: 0.4472905 (30)\ttotal: 4.19s\tremaining: 1m 3s\n",
      "31:\tlearn: 0.4447484\ttest: 0.4448938\tbest: 0.4448938 (31)\ttotal: 4.24s\tremaining: 1m 1s\n",
      "32:\tlearn: 0.4396574\ttest: 0.4398074\tbest: 0.4398074 (32)\ttotal: 4.43s\tremaining: 1m 2s\n",
      "33:\tlearn: 0.4354128\ttest: 0.4354885\tbest: 0.4354885 (33)\ttotal: 4.55s\tremaining: 1m 2s\n",
      "34:\tlearn: 0.4316283\ttest: 0.4317254\tbest: 0.4317254 (34)\ttotal: 4.63s\tremaining: 1m 1s\n",
      "35:\tlearn: 0.4290241\ttest: 0.4291715\tbest: 0.4291715 (35)\ttotal: 4.7s\tremaining: 1m\n",
      "36:\tlearn: 0.4252273\ttest: 0.4254401\tbest: 0.4254401 (36)\ttotal: 4.91s\tremaining: 1m 1s\n",
      "37:\tlearn: 0.4202775\ttest: 0.4205925\tbest: 0.4205925 (37)\ttotal: 5.04s\tremaining: 1m 1s\n",
      "38:\tlearn: 0.4157073\ttest: 0.4161265\tbest: 0.4161265 (38)\ttotal: 5.25s\tremaining: 1m 2s\n",
      "39:\tlearn: 0.4112213\ttest: 0.4117847\tbest: 0.4117847 (39)\ttotal: 5.48s\tremaining: 1m 2s\n",
      "40:\tlearn: 0.4086102\ttest: 0.4092448\tbest: 0.4092448 (40)\ttotal: 5.71s\tremaining: 1m 3s\n",
      "41:\tlearn: 0.4065959\ttest: 0.4072955\tbest: 0.4072955 (41)\ttotal: 5.96s\tremaining: 1m 4s\n",
      "42:\tlearn: 0.4024479\ttest: 0.4031710\tbest: 0.4031710 (42)\ttotal: 6.05s\tremaining: 1m 4s\n",
      "43:\tlearn: 0.4003905\ttest: 0.4011062\tbest: 0.4011062 (43)\ttotal: 6.32s\tremaining: 1m 5s\n",
      "44:\tlearn: 0.3981762\ttest: 0.3989659\tbest: 0.3989659 (44)\ttotal: 6.59s\tremaining: 1m 6s\n",
      "45:\tlearn: 0.3961466\ttest: 0.3969705\tbest: 0.3969705 (45)\ttotal: 6.71s\tremaining: 1m 6s\n",
      "46:\tlearn: 0.3923411\ttest: 0.3932320\tbest: 0.3932320 (46)\ttotal: 6.99s\tremaining: 1m 7s\n",
      "47:\tlearn: 0.3904394\ttest: 0.3913751\tbest: 0.3913751 (47)\ttotal: 7.25s\tremaining: 1m 8s\n",
      "48:\tlearn: 0.3869279\ttest: 0.3878123\tbest: 0.3878123 (48)\ttotal: 7.4s\tremaining: 1m 8s\n",
      "49:\tlearn: 0.3833209\ttest: 0.3842119\tbest: 0.3842119 (49)\ttotal: 7.66s\tremaining: 1m 8s\n",
      "50:\tlearn: 0.3822835\ttest: 0.3832121\tbest: 0.3832121 (50)\ttotal: 7.7s\tremaining: 1m 7s\n",
      "51:\tlearn: 0.3806727\ttest: 0.3816494\tbest: 0.3816494 (51)\ttotal: 8s\tremaining: 1m 8s\n",
      "52:\tlearn: 0.3780353\ttest: 0.3790914\tbest: 0.3790914 (52)\ttotal: 8.32s\tremaining: 1m 10s\n",
      "53:\tlearn: 0.3764432\ttest: 0.3775464\tbest: 0.3775464 (53)\ttotal: 8.4s\tremaining: 1m 9s\n",
      "54:\tlearn: 0.3750015\ttest: 0.3761369\tbest: 0.3761369 (54)\ttotal: 8.45s\tremaining: 1m 8s\n",
      "55:\tlearn: 0.3718494\ttest: 0.3729884\tbest: 0.3729884 (55)\ttotal: 8.7s\tremaining: 1m 8s\n",
      "56:\tlearn: 0.3688136\ttest: 0.3700673\tbest: 0.3700673 (56)\ttotal: 8.9s\tremaining: 1m 9s\n",
      "57:\tlearn: 0.3673955\ttest: 0.3687077\tbest: 0.3687077 (57)\ttotal: 9.13s\tremaining: 1m 9s\n",
      "58:\tlearn: 0.3647198\ttest: 0.3660383\tbest: 0.3660383 (58)\ttotal: 9.38s\tremaining: 1m 10s\n",
      "59:\tlearn: 0.3624543\ttest: 0.3638429\tbest: 0.3638429 (59)\ttotal: 9.62s\tremaining: 1m 10s\n",
      "60:\tlearn: 0.3595921\ttest: 0.3610658\tbest: 0.3610658 (60)\ttotal: 9.73s\tremaining: 1m 10s\n",
      "61:\tlearn: 0.3583736\ttest: 0.3598589\tbest: 0.3598589 (61)\ttotal: 9.92s\tremaining: 1m 10s\n",
      "62:\tlearn: 0.3573617\ttest: 0.3588360\tbest: 0.3588360 (62)\ttotal: 9.96s\tremaining: 1m 9s\n",
      "63:\tlearn: 0.3560820\ttest: 0.3575673\tbest: 0.3575673 (63)\ttotal: 10.2s\tremaining: 1m 9s\n",
      "64:\tlearn: 0.3552563\ttest: 0.3567703\tbest: 0.3567703 (64)\ttotal: 10.3s\tremaining: 1m 8s\n",
      "65:\tlearn: 0.3540008\ttest: 0.3555671\tbest: 0.3555671 (65)\ttotal: 10.5s\tremaining: 1m 8s\n",
      "66:\tlearn: 0.3520967\ttest: 0.3537258\tbest: 0.3537258 (66)\ttotal: 10.8s\tremaining: 1m 9s\n",
      "67:\tlearn: 0.3497403\ttest: 0.3514061\tbest: 0.3514061 (67)\ttotal: 10.8s\tremaining: 1m 8s\n",
      "68:\tlearn: 0.3473160\ttest: 0.3490652\tbest: 0.3490652 (68)\ttotal: 11.1s\tremaining: 1m 9s\n",
      "69:\tlearn: 0.3448106\ttest: 0.3465548\tbest: 0.3465548 (69)\ttotal: 11.3s\tremaining: 1m 9s\n",
      "70:\tlearn: 0.3439656\ttest: 0.3457563\tbest: 0.3457563 (70)\ttotal: 11.3s\tremaining: 1m 8s\n",
      "71:\tlearn: 0.3429540\ttest: 0.3448396\tbest: 0.3448396 (71)\ttotal: 11.6s\tremaining: 1m 8s\n",
      "72:\tlearn: 0.3423621\ttest: 0.3442849\tbest: 0.3442849 (72)\ttotal: 11.6s\tremaining: 1m 7s\n",
      "73:\tlearn: 0.3413956\ttest: 0.3433845\tbest: 0.3433845 (73)\ttotal: 11.8s\tremaining: 1m 7s\n",
      "74:\tlearn: 0.3391985\ttest: 0.3412604\tbest: 0.3412604 (74)\ttotal: 12s\tremaining: 1m 8s\n",
      "75:\tlearn: 0.3373724\ttest: 0.3394769\tbest: 0.3394769 (75)\ttotal: 12.3s\tremaining: 1m 8s\n",
      "76:\tlearn: 0.3366117\ttest: 0.3387030\tbest: 0.3387030 (76)\ttotal: 12.4s\tremaining: 1m 8s\n",
      "77:\tlearn: 0.3348050\ttest: 0.3367925\tbest: 0.3367925 (77)\ttotal: 12.7s\tremaining: 1m 8s\n",
      "78:\tlearn: 0.3340067\ttest: 0.3360200\tbest: 0.3360200 (78)\ttotal: 12.8s\tremaining: 1m 8s\n",
      "79:\tlearn: 0.3324117\ttest: 0.3346240\tbest: 0.3346240 (79)\ttotal: 13s\tremaining: 1m 8s\n",
      "80:\tlearn: 0.3318770\ttest: 0.3341243\tbest: 0.3341243 (80)\ttotal: 13s\tremaining: 1m 7s\n",
      "81:\tlearn: 0.3299482\ttest: 0.3323004\tbest: 0.3323004 (81)\ttotal: 13.3s\tremaining: 1m 7s\n",
      "82:\tlearn: 0.3280995\ttest: 0.3305127\tbest: 0.3305127 (82)\ttotal: 13.5s\tremaining: 1m 8s\n",
      "83:\tlearn: 0.3275309\ttest: 0.3299455\tbest: 0.3299455 (83)\ttotal: 13.6s\tremaining: 1m 7s\n",
      "84:\tlearn: 0.3268128\ttest: 0.3292123\tbest: 0.3292123 (84)\ttotal: 13.7s\tremaining: 1m 6s\n",
      "85:\tlearn: 0.3260303\ttest: 0.3284730\tbest: 0.3284730 (85)\ttotal: 13.8s\tremaining: 1m 6s\n",
      "86:\tlearn: 0.3249120\ttest: 0.3274614\tbest: 0.3274614 (86)\ttotal: 13.9s\tremaining: 1m 5s\n",
      "87:\tlearn: 0.3238399\ttest: 0.3264150\tbest: 0.3264150 (87)\ttotal: 14s\tremaining: 1m 5s\n",
      "88:\tlearn: 0.3229691\ttest: 0.3256074\tbest: 0.3256074 (88)\ttotal: 14.2s\tremaining: 1m 5s\n",
      "89:\tlearn: 0.3217568\ttest: 0.3245293\tbest: 0.3245293 (89)\ttotal: 14.5s\tremaining: 1m 5s\n",
      "90:\tlearn: 0.3213546\ttest: 0.3241506\tbest: 0.3241506 (90)\ttotal: 14.5s\tremaining: 1m 5s\n",
      "91:\tlearn: 0.3197487\ttest: 0.3226441\tbest: 0.3226441 (91)\ttotal: 14.8s\tremaining: 1m 5s\n",
      "92:\tlearn: 0.3191463\ttest: 0.3220848\tbest: 0.3220848 (92)\ttotal: 14.9s\tremaining: 1m 5s\n",
      "93:\tlearn: 0.3183792\ttest: 0.3213480\tbest: 0.3213480 (93)\ttotal: 15s\tremaining: 1m 4s\n"
     ]
    },
    {
     "name": "stdout",
     "output_type": "stream",
     "text": [
      "94:\tlearn: 0.3170406\ttest: 0.3200545\tbest: 0.3200545 (94)\ttotal: 15.2s\tremaining: 1m 4s\n",
      "95:\tlearn: 0.3161440\ttest: 0.3192445\tbest: 0.3192445 (95)\ttotal: 15.5s\tremaining: 1m 5s\n",
      "96:\tlearn: 0.3156738\ttest: 0.3187952\tbest: 0.3187952 (96)\ttotal: 15.6s\tremaining: 1m 4s\n",
      "97:\tlearn: 0.3150372\ttest: 0.3181797\tbest: 0.3181797 (97)\ttotal: 15.7s\tremaining: 1m 4s\n",
      "98:\tlearn: 0.3137451\ttest: 0.3169695\tbest: 0.3169695 (98)\ttotal: 16s\tremaining: 1m 4s\n",
      "99:\tlearn: 0.3127035\ttest: 0.3160290\tbest: 0.3160290 (99)\ttotal: 16.1s\tremaining: 1m 4s\n",
      "100:\tlearn: 0.3121719\ttest: 0.3155270\tbest: 0.3155270 (100)\ttotal: 16.4s\tremaining: 1m 4s\n",
      "101:\tlearn: 0.3116192\ttest: 0.3149907\tbest: 0.3149907 (101)\ttotal: 16.5s\tremaining: 1m 4s\n",
      "102:\tlearn: 0.3103718\ttest: 0.3137401\tbest: 0.3137401 (102)\ttotal: 16.7s\tremaining: 1m 4s\n",
      "103:\tlearn: 0.3089855\ttest: 0.3123467\tbest: 0.3123467 (103)\ttotal: 17s\tremaining: 1m 4s\n",
      "104:\tlearn: 0.3084007\ttest: 0.3118331\tbest: 0.3118331 (104)\ttotal: 17.2s\tremaining: 1m 4s\n",
      "105:\tlearn: 0.3073362\ttest: 0.3108699\tbest: 0.3108699 (105)\ttotal: 17.4s\tremaining: 1m 4s\n",
      "106:\tlearn: 0.3061050\ttest: 0.3097382\tbest: 0.3097382 (106)\ttotal: 17.7s\tremaining: 1m 4s\n",
      "107:\tlearn: 0.3057971\ttest: 0.3094593\tbest: 0.3094593 (107)\ttotal: 17.7s\tremaining: 1m 4s\n",
      "108:\tlearn: 0.3049754\ttest: 0.3086612\tbest: 0.3086612 (108)\ttotal: 18s\tremaining: 1m 4s\n",
      "109:\tlearn: 0.3044728\ttest: 0.3081898\tbest: 0.3081898 (109)\ttotal: 18.2s\tremaining: 1m 4s\n",
      "110:\tlearn: 0.3035208\ttest: 0.3072797\tbest: 0.3072797 (110)\ttotal: 18.5s\tremaining: 1m 4s\n",
      "111:\tlearn: 0.3024174\ttest: 0.3062549\tbest: 0.3062549 (111)\ttotal: 18.7s\tremaining: 1m 4s\n",
      "112:\tlearn: 0.3014549\ttest: 0.3053967\tbest: 0.3053967 (112)\ttotal: 18.9s\tremaining: 1m 4s\n",
      "113:\tlearn: 0.3009856\ttest: 0.3049859\tbest: 0.3049859 (113)\ttotal: 19.2s\tremaining: 1m 4s\n",
      "114:\tlearn: 0.3006466\ttest: 0.3047149\tbest: 0.3047149 (114)\ttotal: 19.3s\tremaining: 1m 4s\n",
      "115:\tlearn: 0.3003765\ttest: 0.3044637\tbest: 0.3044637 (115)\ttotal: 19.4s\tremaining: 1m 4s\n",
      "116:\tlearn: 0.2999084\ttest: 0.3040319\tbest: 0.3040319 (116)\ttotal: 19.5s\tremaining: 1m 3s\n",
      "117:\tlearn: 0.2995311\ttest: 0.3036845\tbest: 0.3036845 (117)\ttotal: 19.8s\tremaining: 1m 4s\n",
      "118:\tlearn: 0.2992722\ttest: 0.3034263\tbest: 0.3034263 (118)\ttotal: 19.9s\tremaining: 1m 3s\n",
      "119:\tlearn: 0.2981791\ttest: 0.3024214\tbest: 0.3024214 (119)\ttotal: 20.2s\tremaining: 1m 3s\n",
      "120:\tlearn: 0.2975075\ttest: 0.3019061\tbest: 0.3019061 (120)\ttotal: 20.4s\tremaining: 1m 3s\n",
      "121:\tlearn: 0.2966856\ttest: 0.3011307\tbest: 0.3011307 (121)\ttotal: 20.6s\tremaining: 1m 3s\n",
      "122:\tlearn: 0.2958488\ttest: 0.3003683\tbest: 0.3003683 (122)\ttotal: 20.9s\tremaining: 1m 3s\n",
      "123:\tlearn: 0.2954856\ttest: 0.3001167\tbest: 0.3001167 (123)\ttotal: 21.1s\tremaining: 1m 3s\n",
      "124:\tlearn: 0.2950475\ttest: 0.2998025\tbest: 0.2998025 (124)\ttotal: 21.3s\tremaining: 1m 4s\n",
      "125:\tlearn: 0.2942658\ttest: 0.2990337\tbest: 0.2990337 (125)\ttotal: 21.6s\tremaining: 1m 4s\n",
      "126:\tlearn: 0.2939930\ttest: 0.2988234\tbest: 0.2988234 (126)\ttotal: 21.7s\tremaining: 1m 3s\n",
      "127:\tlearn: 0.2935036\ttest: 0.2984365\tbest: 0.2984365 (127)\ttotal: 21.9s\tremaining: 1m 3s\n",
      "128:\tlearn: 0.2930226\ttest: 0.2980475\tbest: 0.2980475 (128)\ttotal: 22.2s\tremaining: 1m 3s\n",
      "129:\tlearn: 0.2922581\ttest: 0.2974082\tbest: 0.2974082 (129)\ttotal: 22.4s\tremaining: 1m 3s\n",
      "130:\tlearn: 0.2915306\ttest: 0.2969728\tbest: 0.2969728 (130)\ttotal: 22.7s\tremaining: 1m 3s\n",
      "131:\tlearn: 0.2913365\ttest: 0.2967842\tbest: 0.2967842 (131)\ttotal: 22.7s\tremaining: 1m 3s\n",
      "132:\tlearn: 0.2909376\ttest: 0.2964248\tbest: 0.2964248 (132)\ttotal: 22.8s\tremaining: 1m 2s\n",
      "133:\tlearn: 0.2902212\ttest: 0.2959070\tbest: 0.2959070 (133)\ttotal: 23.1s\tremaining: 1m 2s\n",
      "134:\tlearn: 0.2896093\ttest: 0.2954219\tbest: 0.2954219 (134)\ttotal: 23.3s\tremaining: 1m 3s\n",
      "135:\tlearn: 0.2890654\ttest: 0.2949973\tbest: 0.2949973 (135)\ttotal: 23.6s\tremaining: 1m 3s\n",
      "136:\tlearn: 0.2883360\ttest: 0.2943362\tbest: 0.2943362 (136)\ttotal: 23.8s\tremaining: 1m 3s\n",
      "137:\tlearn: 0.2876834\ttest: 0.2937296\tbest: 0.2937296 (137)\ttotal: 24.1s\tremaining: 1m 3s\n",
      "138:\tlearn: 0.2873753\ttest: 0.2934409\tbest: 0.2934409 (138)\ttotal: 24.1s\tremaining: 1m 2s\n",
      "139:\tlearn: 0.2870670\ttest: 0.2931903\tbest: 0.2931903 (139)\ttotal: 24.4s\tremaining: 1m 2s\n",
      "140:\tlearn: 0.2867735\ttest: 0.2929515\tbest: 0.2929515 (140)\ttotal: 24.7s\tremaining: 1m 2s\n",
      "141:\tlearn: 0.2864145\ttest: 0.2926289\tbest: 0.2926289 (141)\ttotal: 24.8s\tremaining: 1m 2s\n",
      "142:\tlearn: 0.2860321\ttest: 0.2923601\tbest: 0.2923601 (142)\ttotal: 25s\tremaining: 1m 2s\n",
      "143:\tlearn: 0.2855776\ttest: 0.2919532\tbest: 0.2919532 (143)\ttotal: 25.3s\tremaining: 1m 2s\n",
      "144:\tlearn: 0.2850772\ttest: 0.2917086\tbest: 0.2917086 (144)\ttotal: 25.6s\tremaining: 1m 2s\n",
      "145:\tlearn: 0.2847815\ttest: 0.2915100\tbest: 0.2915100 (145)\ttotal: 25.8s\tremaining: 1m 2s\n",
      "146:\tlearn: 0.2840684\ttest: 0.2908387\tbest: 0.2908387 (146)\ttotal: 26.1s\tremaining: 1m 2s\n",
      "147:\tlearn: 0.2835912\ttest: 0.2904646\tbest: 0.2904646 (147)\ttotal: 26.4s\tremaining: 1m 2s\n",
      "148:\tlearn: 0.2833580\ttest: 0.2902518\tbest: 0.2902518 (148)\ttotal: 26.4s\tremaining: 1m 2s\n",
      "149:\tlearn: 0.2828894\ttest: 0.2898904\tbest: 0.2898904 (149)\ttotal: 26.7s\tremaining: 1m 2s\n",
      "150:\tlearn: 0.2826412\ttest: 0.2896687\tbest: 0.2896687 (150)\ttotal: 26.8s\tremaining: 1m 2s\n",
      "151:\tlearn: 0.2822633\ttest: 0.2894227\tbest: 0.2894227 (151)\ttotal: 27.1s\tremaining: 1m 1s\n",
      "152:\tlearn: 0.2818751\ttest: 0.2892169\tbest: 0.2892169 (152)\ttotal: 27.3s\tremaining: 1m 1s\n",
      "153:\tlearn: 0.2814719\ttest: 0.2888768\tbest: 0.2888768 (153)\ttotal: 27.5s\tremaining: 1m 1s\n",
      "154:\tlearn: 0.2809321\ttest: 0.2884754\tbest: 0.2884754 (154)\ttotal: 27.7s\tremaining: 1m 1s\n",
      "155:\tlearn: 0.2804631\ttest: 0.2881106\tbest: 0.2881106 (155)\ttotal: 27.9s\tremaining: 1m 1s\n",
      "156:\tlearn: 0.2798228\ttest: 0.2875379\tbest: 0.2875379 (156)\ttotal: 28.2s\tremaining: 1m 1s\n",
      "157:\tlearn: 0.2796151\ttest: 0.2873621\tbest: 0.2873621 (157)\ttotal: 28.4s\tremaining: 1m 1s\n",
      "158:\tlearn: 0.2793640\ttest: 0.2871283\tbest: 0.2871283 (158)\ttotal: 28.5s\tremaining: 1m 1s\n",
      "159:\tlearn: 0.2790942\ttest: 0.2869239\tbest: 0.2869239 (159)\ttotal: 28.7s\tremaining: 1m 1s\n",
      "160:\tlearn: 0.2786412\ttest: 0.2865703\tbest: 0.2865703 (160)\ttotal: 29s\tremaining: 1m 1s\n",
      "161:\tlearn: 0.2781209\ttest: 0.2861092\tbest: 0.2861092 (161)\ttotal: 29.3s\tremaining: 1m 1s\n",
      "162:\tlearn: 0.2779718\ttest: 0.2860047\tbest: 0.2860047 (162)\ttotal: 29.5s\tremaining: 1m 1s\n",
      "163:\tlearn: 0.2776299\ttest: 0.2857070\tbest: 0.2857070 (163)\ttotal: 29.6s\tremaining: 1m\n",
      "164:\tlearn: 0.2773579\ttest: 0.2855956\tbest: 0.2855956 (164)\ttotal: 29.9s\tremaining: 1m\n",
      "165:\tlearn: 0.2770519\ttest: 0.2853765\tbest: 0.2853765 (165)\ttotal: 30.2s\tremaining: 1m\n",
      "166:\tlearn: 0.2768036\ttest: 0.2852101\tbest: 0.2852101 (166)\ttotal: 30.5s\tremaining: 1m\n",
      "167:\tlearn: 0.2766168\ttest: 0.2851094\tbest: 0.2851094 (167)\ttotal: 30.8s\tremaining: 1m\n",
      "168:\tlearn: 0.2762739\ttest: 0.2849041\tbest: 0.2849041 (168)\ttotal: 31s\tremaining: 1m\n",
      "169:\tlearn: 0.2759567\ttest: 0.2846953\tbest: 0.2846953 (169)\ttotal: 31.3s\tremaining: 1m\n",
      "170:\tlearn: 0.2758515\ttest: 0.2846001\tbest: 0.2846001 (170)\ttotal: 31.3s\tremaining: 1m\n",
      "171:\tlearn: 0.2753825\ttest: 0.2842253\tbest: 0.2842253 (171)\ttotal: 31.6s\tremaining: 1m\n",
      "172:\tlearn: 0.2751976\ttest: 0.2841190\tbest: 0.2841190 (172)\ttotal: 31.8s\tremaining: 1m\n",
      "173:\tlearn: 0.2749701\ttest: 0.2839406\tbest: 0.2839406 (173)\ttotal: 32.1s\tremaining: 1m\n",
      "174:\tlearn: 0.2746731\ttest: 0.2837126\tbest: 0.2837126 (174)\ttotal: 32.4s\tremaining: 1m\n",
      "175:\tlearn: 0.2743865\ttest: 0.2835342\tbest: 0.2835342 (175)\ttotal: 32.6s\tremaining: 1m\n",
      "176:\tlearn: 0.2739118\ttest: 0.2832004\tbest: 0.2832004 (176)\ttotal: 32.9s\tremaining: 1m\n",
      "177:\tlearn: 0.2735483\ttest: 0.2830160\tbest: 0.2830160 (177)\ttotal: 33.2s\tremaining: 60s\n",
      "178:\tlearn: 0.2731294\ttest: 0.2826306\tbest: 0.2826306 (178)\ttotal: 33.4s\tremaining: 60s\n",
      "179:\tlearn: 0.2729406\ttest: 0.2825338\tbest: 0.2825338 (179)\ttotal: 33.7s\tremaining: 59.9s\n",
      "180:\tlearn: 0.2725748\ttest: 0.2822846\tbest: 0.2822846 (180)\ttotal: 33.9s\tremaining: 59.8s\n",
      "181:\tlearn: 0.2723596\ttest: 0.2821037\tbest: 0.2821037 (181)\ttotal: 34s\tremaining: 59.5s\n",
      "182:\tlearn: 0.2721358\ttest: 0.2819539\tbest: 0.2819539 (182)\ttotal: 34.3s\tremaining: 59.4s\n",
      "183:\tlearn: 0.2717545\ttest: 0.2816666\tbest: 0.2816666 (183)\ttotal: 34.4s\tremaining: 59.1s\n",
      "184:\tlearn: 0.2716326\ttest: 0.2815385\tbest: 0.2815385 (184)\ttotal: 34.4s\tremaining: 58.6s\n",
      "185:\tlearn: 0.2714154\ttest: 0.2814068\tbest: 0.2814068 (185)\ttotal: 34.7s\tremaining: 58.5s\n"
     ]
    },
    {
     "name": "stdout",
     "output_type": "stream",
     "text": [
      "186:\tlearn: 0.2711732\ttest: 0.2812271\tbest: 0.2812271 (186)\ttotal: 34.8s\tremaining: 58.2s\n",
      "187:\tlearn: 0.2708098\ttest: 0.2809988\tbest: 0.2809988 (187)\ttotal: 35s\tremaining: 58s\n",
      "188:\tlearn: 0.2703706\ttest: 0.2806192\tbest: 0.2806192 (188)\ttotal: 35.2s\tremaining: 57.9s\n",
      "189:\tlearn: 0.2703106\ttest: 0.2805603\tbest: 0.2805603 (189)\ttotal: 35.3s\tremaining: 57.5s\n",
      "190:\tlearn: 0.2701618\ttest: 0.2804451\tbest: 0.2804451 (190)\ttotal: 35.3s\tremaining: 57.1s\n",
      "191:\tlearn: 0.2698119\ttest: 0.2801589\tbest: 0.2801589 (191)\ttotal: 35.5s\tremaining: 57s\n",
      "192:\tlearn: 0.2695941\ttest: 0.2800623\tbest: 0.2800623 (192)\ttotal: 35.8s\tremaining: 56.9s\n",
      "193:\tlearn: 0.2695261\ttest: 0.2800076\tbest: 0.2800076 (193)\ttotal: 35.8s\tremaining: 56.5s\n",
      "194:\tlearn: 0.2693427\ttest: 0.2798824\tbest: 0.2798824 (194)\ttotal: 35.9s\tremaining: 56.2s\n",
      "195:\tlearn: 0.2691514\ttest: 0.2797682\tbest: 0.2797682 (195)\ttotal: 36.1s\tremaining: 55.9s\n",
      "196:\tlearn: 0.2688871\ttest: 0.2795863\tbest: 0.2795863 (196)\ttotal: 36.3s\tremaining: 55.8s\n",
      "197:\tlearn: 0.2687149\ttest: 0.2794886\tbest: 0.2794886 (197)\ttotal: 36.5s\tremaining: 55.7s\n",
      "198:\tlearn: 0.2683892\ttest: 0.2792350\tbest: 0.2792350 (198)\ttotal: 36.7s\tremaining: 55.6s\n",
      "199:\tlearn: 0.2679915\ttest: 0.2788696\tbest: 0.2788696 (199)\ttotal: 36.9s\tremaining: 55.3s\n",
      "200:\tlearn: 0.2678128\ttest: 0.2787880\tbest: 0.2787880 (200)\ttotal: 37.1s\tremaining: 55.2s\n",
      "201:\tlearn: 0.2676705\ttest: 0.2787139\tbest: 0.2787139 (201)\ttotal: 37.2s\tremaining: 54.9s\n",
      "202:\tlearn: 0.2673844\ttest: 0.2784969\tbest: 0.2784969 (202)\ttotal: 37.5s\tremaining: 54.8s\n",
      "203:\tlearn: 0.2671347\ttest: 0.2783451\tbest: 0.2783451 (203)\ttotal: 37.7s\tremaining: 54.7s\n",
      "204:\tlearn: 0.2669106\ttest: 0.2782217\tbest: 0.2782217 (204)\ttotal: 38s\tremaining: 54.7s\n",
      "205:\tlearn: 0.2666143\ttest: 0.2779924\tbest: 0.2779924 (205)\ttotal: 38.2s\tremaining: 54.6s\n",
      "206:\tlearn: 0.2663591\ttest: 0.2778844\tbest: 0.2778844 (206)\ttotal: 38.5s\tremaining: 54.4s\n",
      "207:\tlearn: 0.2662829\ttest: 0.2778308\tbest: 0.2778308 (207)\ttotal: 38.5s\tremaining: 54.1s\n",
      "208:\tlearn: 0.2660593\ttest: 0.2776688\tbest: 0.2776688 (208)\ttotal: 38.8s\tremaining: 54s\n",
      "209:\tlearn: 0.2659014\ttest: 0.2775645\tbest: 0.2775645 (209)\ttotal: 38.9s\tremaining: 53.8s\n",
      "210:\tlearn: 0.2656960\ttest: 0.2774549\tbest: 0.2774549 (210)\ttotal: 39.2s\tremaining: 53.7s\n",
      "211:\tlearn: 0.2655184\ttest: 0.2773607\tbest: 0.2773607 (211)\ttotal: 39.5s\tremaining: 53.6s\n",
      "212:\tlearn: 0.2652921\ttest: 0.2772309\tbest: 0.2772309 (212)\ttotal: 39.7s\tremaining: 53.5s\n",
      "213:\tlearn: 0.2650660\ttest: 0.2770898\tbest: 0.2770898 (213)\ttotal: 40s\tremaining: 53.4s\n",
      "214:\tlearn: 0.2649240\ttest: 0.2769778\tbest: 0.2769778 (214)\ttotal: 40.3s\tremaining: 53.4s\n",
      "215:\tlearn: 0.2647669\ttest: 0.2768956\tbest: 0.2768956 (215)\ttotal: 40.5s\tremaining: 53.3s\n",
      "216:\tlearn: 0.2644993\ttest: 0.2766696\tbest: 0.2766696 (216)\ttotal: 40.7s\tremaining: 53.1s\n",
      "217:\tlearn: 0.2643713\ttest: 0.2766219\tbest: 0.2766219 (217)\ttotal: 40.8s\tremaining: 52.8s\n",
      "218:\tlearn: 0.2641893\ttest: 0.2765210\tbest: 0.2765210 (218)\ttotal: 41.1s\tremaining: 52.7s\n",
      "219:\tlearn: 0.2640796\ttest: 0.2764232\tbest: 0.2764232 (219)\ttotal: 41.1s\tremaining: 52.4s\n",
      "220:\tlearn: 0.2637977\ttest: 0.2762704\tbest: 0.2762704 (220)\ttotal: 41.4s\tremaining: 52.3s\n",
      "221:\tlearn: 0.2636729\ttest: 0.2761730\tbest: 0.2761730 (221)\ttotal: 41.5s\tremaining: 51.9s\n",
      "222:\tlearn: 0.2634984\ttest: 0.2760467\tbest: 0.2760467 (222)\ttotal: 41.7s\tremaining: 51.8s\n",
      "223:\tlearn: 0.2634744\ttest: 0.2760364\tbest: 0.2760364 (223)\ttotal: 41.8s\tremaining: 51.5s\n",
      "224:\tlearn: 0.2633352\ttest: 0.2759403\tbest: 0.2759403 (224)\ttotal: 42.1s\tremaining: 51.4s\n",
      "225:\tlearn: 0.2631122\ttest: 0.2757529\tbest: 0.2757529 (225)\ttotal: 42.3s\tremaining: 51.3s\n",
      "226:\tlearn: 0.2628669\ttest: 0.2756053\tbest: 0.2756053 (226)\ttotal: 42.6s\tremaining: 51.2s\n",
      "227:\tlearn: 0.2627452\ttest: 0.2755281\tbest: 0.2755281 (227)\ttotal: 42.8s\tremaining: 51.1s\n",
      "228:\tlearn: 0.2624766\ttest: 0.2753156\tbest: 0.2753156 (228)\ttotal: 43.1s\tremaining: 51s\n",
      "229:\tlearn: 0.2623731\ttest: 0.2752708\tbest: 0.2752708 (229)\ttotal: 43.3s\tremaining: 50.8s\n",
      "230:\tlearn: 0.2622359\ttest: 0.2752226\tbest: 0.2752226 (230)\ttotal: 43.5s\tremaining: 50.7s\n",
      "231:\tlearn: 0.2620457\ttest: 0.2751081\tbest: 0.2751081 (231)\ttotal: 43.8s\tremaining: 50.5s\n",
      "232:\tlearn: 0.2617995\ttest: 0.2749046\tbest: 0.2749046 (232)\ttotal: 43.9s\tremaining: 50.3s\n",
      "233:\tlearn: 0.2614932\ttest: 0.2746838\tbest: 0.2746838 (233)\ttotal: 44s\tremaining: 50s\n",
      "234:\tlearn: 0.2614216\ttest: 0.2746388\tbest: 0.2746388 (234)\ttotal: 44.3s\tremaining: 50s\n",
      "235:\tlearn: 0.2611291\ttest: 0.2743755\tbest: 0.2743755 (235)\ttotal: 44.6s\tremaining: 49.8s\n",
      "236:\tlearn: 0.2610116\ttest: 0.2743155\tbest: 0.2743155 (236)\ttotal: 44.8s\tremaining: 49.7s\n",
      "237:\tlearn: 0.2608787\ttest: 0.2742808\tbest: 0.2742808 (237)\ttotal: 45.1s\tremaining: 49.6s\n",
      "238:\tlearn: 0.2607071\ttest: 0.2742059\tbest: 0.2742059 (238)\ttotal: 45.4s\tremaining: 49.5s\n",
      "239:\tlearn: 0.2605236\ttest: 0.2741272\tbest: 0.2741272 (239)\ttotal: 45.6s\tremaining: 49.4s\n",
      "240:\tlearn: 0.2602706\ttest: 0.2739185\tbest: 0.2739185 (240)\ttotal: 45.8s\tremaining: 49.3s\n",
      "241:\tlearn: 0.2602349\ttest: 0.2738913\tbest: 0.2738913 (241)\ttotal: 45.9s\tremaining: 49s\n",
      "242:\tlearn: 0.2601436\ttest: 0.2738275\tbest: 0.2738275 (242)\ttotal: 46.2s\tremaining: 48.9s\n",
      "243:\tlearn: 0.2599723\ttest: 0.2737149\tbest: 0.2737149 (243)\ttotal: 46.4s\tremaining: 48.7s\n",
      "244:\tlearn: 0.2598175\ttest: 0.2736880\tbest: 0.2736880 (244)\ttotal: 46.7s\tremaining: 48.6s\n",
      "245:\tlearn: 0.2597669\ttest: 0.2736530\tbest: 0.2736530 (245)\ttotal: 46.8s\tremaining: 48.3s\n",
      "246:\tlearn: 0.2596640\ttest: 0.2735918\tbest: 0.2735918 (246)\ttotal: 46.9s\tremaining: 48s\n",
      "247:\tlearn: 0.2595437\ttest: 0.2735548\tbest: 0.2735548 (247)\ttotal: 47.1s\tremaining: 47.9s\n",
      "248:\tlearn: 0.2594856\ttest: 0.2735244\tbest: 0.2735244 (248)\ttotal: 47.2s\tremaining: 47.6s\n",
      "249:\tlearn: 0.2593804\ttest: 0.2735069\tbest: 0.2735069 (249)\ttotal: 47.5s\tremaining: 47.5s\n",
      "250:\tlearn: 0.2592281\ttest: 0.2734633\tbest: 0.2734633 (250)\ttotal: 47.7s\tremaining: 47.4s\n",
      "251:\tlearn: 0.2590305\ttest: 0.2733131\tbest: 0.2733131 (251)\ttotal: 48s\tremaining: 47.2s\n",
      "252:\tlearn: 0.2588429\ttest: 0.2731905\tbest: 0.2731905 (252)\ttotal: 48.3s\tremaining: 47.2s\n",
      "253:\tlearn: 0.2586883\ttest: 0.2731442\tbest: 0.2731442 (253)\ttotal: 48.6s\tremaining: 47s\n",
      "254:\tlearn: 0.2585693\ttest: 0.2730705\tbest: 0.2730705 (254)\ttotal: 48.7s\tremaining: 46.8s\n",
      "255:\tlearn: 0.2584463\ttest: 0.2729904\tbest: 0.2729904 (255)\ttotal: 49s\tremaining: 46.7s\n",
      "256:\tlearn: 0.2583196\ttest: 0.2729326\tbest: 0.2729326 (256)\ttotal: 49.3s\tremaining: 46.6s\n",
      "257:\tlearn: 0.2582639\ttest: 0.2728972\tbest: 0.2728972 (257)\ttotal: 49.4s\tremaining: 46.4s\n",
      "258:\tlearn: 0.2581005\ttest: 0.2727688\tbest: 0.2727688 (258)\ttotal: 49.6s\tremaining: 46.1s\n",
      "259:\tlearn: 0.2580115\ttest: 0.2727193\tbest: 0.2727193 (259)\ttotal: 49.7s\tremaining: 45.9s\n",
      "260:\tlearn: 0.2578855\ttest: 0.2726699\tbest: 0.2726699 (260)\ttotal: 49.9s\tremaining: 45.7s\n",
      "261:\tlearn: 0.2577297\ttest: 0.2725904\tbest: 0.2725904 (261)\ttotal: 50.2s\tremaining: 45.6s\n",
      "262:\tlearn: 0.2576396\ttest: 0.2725360\tbest: 0.2725360 (262)\ttotal: 50.5s\tremaining: 45.5s\n",
      "263:\tlearn: 0.2574989\ttest: 0.2725090\tbest: 0.2725090 (263)\ttotal: 50.8s\tremaining: 45.4s\n",
      "264:\tlearn: 0.2574503\ttest: 0.2724711\tbest: 0.2724711 (264)\ttotal: 50.9s\tremaining: 45.2s\n",
      "265:\tlearn: 0.2573532\ttest: 0.2724104\tbest: 0.2724104 (265)\ttotal: 51.2s\tremaining: 45.1s\n",
      "266:\tlearn: 0.2572256\ttest: 0.2723495\tbest: 0.2723495 (266)\ttotal: 51.5s\tremaining: 45s\n",
      "267:\tlearn: 0.2571457\ttest: 0.2723096\tbest: 0.2723096 (267)\ttotal: 51.8s\tremaining: 44.8s\n",
      "268:\tlearn: 0.2570659\ttest: 0.2722625\tbest: 0.2722625 (268)\ttotal: 52s\tremaining: 44.7s\n",
      "269:\tlearn: 0.2569564\ttest: 0.2722391\tbest: 0.2722391 (269)\ttotal: 52.3s\tremaining: 44.5s\n",
      "270:\tlearn: 0.2569121\ttest: 0.2722214\tbest: 0.2722214 (270)\ttotal: 52.4s\tremaining: 44.3s\n",
      "271:\tlearn: 0.2567455\ttest: 0.2721463\tbest: 0.2721463 (271)\ttotal: 52.7s\tremaining: 44.2s\n",
      "272:\tlearn: 0.2566977\ttest: 0.2721213\tbest: 0.2721213 (272)\ttotal: 52.8s\tremaining: 43.9s\n",
      "273:\tlearn: 0.2564954\ttest: 0.2720494\tbest: 0.2720494 (273)\ttotal: 53s\tremaining: 43.7s\n",
      "274:\tlearn: 0.2563976\ttest: 0.2720002\tbest: 0.2720002 (274)\ttotal: 53.2s\tremaining: 43.5s\n",
      "275:\tlearn: 0.2562842\ttest: 0.2719510\tbest: 0.2719510 (275)\ttotal: 53.5s\tremaining: 43.4s\n",
      "276:\tlearn: 0.2562080\ttest: 0.2719215\tbest: 0.2719215 (276)\ttotal: 53.8s\tremaining: 43.3s\n",
      "277:\tlearn: 0.2561633\ttest: 0.2719021\tbest: 0.2719021 (277)\ttotal: 53.9s\tremaining: 43s\n"
     ]
    },
    {
     "name": "stdout",
     "output_type": "stream",
     "text": [
      "278:\tlearn: 0.2561130\ttest: 0.2718698\tbest: 0.2718698 (278)\ttotal: 54.1s\tremaining: 42.8s\n",
      "279:\tlearn: 0.2559764\ttest: 0.2718405\tbest: 0.2718405 (279)\ttotal: 54.3s\tremaining: 42.7s\n",
      "280:\tlearn: 0.2558884\ttest: 0.2717923\tbest: 0.2717923 (280)\ttotal: 54.6s\tremaining: 42.5s\n",
      "281:\tlearn: 0.2557700\ttest: 0.2716865\tbest: 0.2716865 (281)\ttotal: 54.7s\tremaining: 42.3s\n",
      "282:\tlearn: 0.2556615\ttest: 0.2715942\tbest: 0.2715942 (282)\ttotal: 54.8s\tremaining: 42s\n",
      "283:\tlearn: 0.2556263\ttest: 0.2715792\tbest: 0.2715792 (283)\ttotal: 54.9s\tremaining: 41.7s\n",
      "284:\tlearn: 0.2555089\ttest: 0.2715271\tbest: 0.2715271 (284)\ttotal: 55.2s\tremaining: 41.6s\n",
      "285:\tlearn: 0.2554592\ttest: 0.2715123\tbest: 0.2715123 (285)\ttotal: 55.3s\tremaining: 41.3s\n",
      "286:\tlearn: 0.2553529\ttest: 0.2714606\tbest: 0.2714606 (286)\ttotal: 55.5s\tremaining: 41.2s\n",
      "287:\tlearn: 0.2552948\ttest: 0.2714409\tbest: 0.2714409 (287)\ttotal: 55.6s\tremaining: 40.9s\n",
      "288:\tlearn: 0.2551043\ttest: 0.2713170\tbest: 0.2713170 (288)\ttotal: 55.9s\tremaining: 40.8s\n",
      "289:\tlearn: 0.2549711\ttest: 0.2712842\tbest: 0.2712842 (289)\ttotal: 56.2s\tremaining: 40.7s\n",
      "290:\tlearn: 0.2548032\ttest: 0.2711477\tbest: 0.2711477 (290)\ttotal: 56.3s\tremaining: 40.4s\n",
      "291:\tlearn: 0.2547668\ttest: 0.2711385\tbest: 0.2711385 (291)\ttotal: 56.5s\tremaining: 40.2s\n",
      "292:\tlearn: 0.2547147\ttest: 0.2711187\tbest: 0.2711187 (292)\ttotal: 56.6s\tremaining: 40s\n",
      "293:\tlearn: 0.2546518\ttest: 0.2710947\tbest: 0.2710947 (293)\ttotal: 56.7s\tremaining: 39.7s\n",
      "294:\tlearn: 0.2545556\ttest: 0.2710715\tbest: 0.2710715 (294)\ttotal: 57s\tremaining: 39.6s\n",
      "295:\tlearn: 0.2544811\ttest: 0.2710407\tbest: 0.2710407 (295)\ttotal: 57.1s\tremaining: 39.3s\n",
      "296:\tlearn: 0.2544398\ttest: 0.2710179\tbest: 0.2710179 (296)\ttotal: 57.1s\tremaining: 39.1s\n",
      "297:\tlearn: 0.2541810\ttest: 0.2708644\tbest: 0.2708644 (297)\ttotal: 57.4s\tremaining: 38.9s\n",
      "298:\tlearn: 0.2541051\ttest: 0.2708244\tbest: 0.2708244 (298)\ttotal: 57.5s\tremaining: 38.7s\n",
      "299:\tlearn: 0.2540272\ttest: 0.2708083\tbest: 0.2708083 (299)\ttotal: 57.6s\tremaining: 38.4s\n",
      "300:\tlearn: 0.2538328\ttest: 0.2707201\tbest: 0.2707201 (300)\ttotal: 57.9s\tremaining: 38.3s\n",
      "301:\tlearn: 0.2537203\ttest: 0.2707046\tbest: 0.2707046 (301)\ttotal: 58.1s\tremaining: 38.1s\n",
      "302:\tlearn: 0.2536495\ttest: 0.2706658\tbest: 0.2706658 (302)\ttotal: 58.4s\tremaining: 38s\n",
      "303:\tlearn: 0.2535586\ttest: 0.2706376\tbest: 0.2706376 (303)\ttotal: 58.7s\tremaining: 37.8s\n",
      "304:\tlearn: 0.2534915\ttest: 0.2706229\tbest: 0.2706229 (304)\ttotal: 58.9s\tremaining: 37.7s\n",
      "305:\tlearn: 0.2534010\ttest: 0.2706041\tbest: 0.2706041 (305)\ttotal: 59.1s\tremaining: 37.4s\n",
      "306:\tlearn: 0.2533210\ttest: 0.2705813\tbest: 0.2705813 (306)\ttotal: 59.2s\tremaining: 37.2s\n",
      "307:\tlearn: 0.2532712\ttest: 0.2705612\tbest: 0.2705612 (307)\ttotal: 59.3s\tremaining: 37s\n",
      "308:\tlearn: 0.2531826\ttest: 0.2705411\tbest: 0.2705411 (308)\ttotal: 59.6s\tremaining: 36.8s\n",
      "309:\tlearn: 0.2531406\ttest: 0.2705308\tbest: 0.2705308 (309)\ttotal: 59.7s\tremaining: 36.6s\n",
      "310:\tlearn: 0.2530511\ttest: 0.2705255\tbest: 0.2705255 (310)\ttotal: 60s\tremaining: 36.4s\n",
      "311:\tlearn: 0.2529049\ttest: 0.2704534\tbest: 0.2704534 (311)\ttotal: 1m\tremaining: 36.3s\n",
      "312:\tlearn: 0.2527882\ttest: 0.2704296\tbest: 0.2704296 (312)\ttotal: 1m\tremaining: 36.2s\n",
      "313:\tlearn: 0.2526867\ttest: 0.2703858\tbest: 0.2703858 (313)\ttotal: 1m\tremaining: 36s\n",
      "314:\tlearn: 0.2526244\ttest: 0.2703794\tbest: 0.2703794 (314)\ttotal: 1m\tremaining: 35.7s\n",
      "315:\tlearn: 0.2525121\ttest: 0.2703323\tbest: 0.2703323 (315)\ttotal: 1m 1s\tremaining: 35.6s\n",
      "316:\tlearn: 0.2524920\ttest: 0.2703182\tbest: 0.2703182 (316)\ttotal: 1m 1s\tremaining: 35.3s\n",
      "317:\tlearn: 0.2524378\ttest: 0.2702894\tbest: 0.2702894 (317)\ttotal: 1m 1s\tremaining: 35.2s\n",
      "318:\tlearn: 0.2523190\ttest: 0.2702396\tbest: 0.2702396 (318)\ttotal: 1m 1s\tremaining: 35s\n",
      "319:\tlearn: 0.2522709\ttest: 0.2702313\tbest: 0.2702313 (319)\ttotal: 1m 1s\tremaining: 34.8s\n",
      "320:\tlearn: 0.2521872\ttest: 0.2702089\tbest: 0.2702089 (320)\ttotal: 1m 2s\tremaining: 34.6s\n",
      "321:\tlearn: 0.2520313\ttest: 0.2700791\tbest: 0.2700791 (321)\ttotal: 1m 2s\tremaining: 34.4s\n",
      "322:\tlearn: 0.2519295\ttest: 0.2700596\tbest: 0.2700596 (322)\ttotal: 1m 2s\tremaining: 34.3s\n",
      "323:\tlearn: 0.2518725\ttest: 0.2700452\tbest: 0.2700452 (323)\ttotal: 1m 2s\tremaining: 34.1s\n",
      "324:\tlearn: 0.2517783\ttest: 0.2700131\tbest: 0.2700131 (324)\ttotal: 1m 2s\tremaining: 33.9s\n",
      "325:\tlearn: 0.2515790\ttest: 0.2699072\tbest: 0.2699072 (325)\ttotal: 1m 3s\tremaining: 33.7s\n",
      "326:\tlearn: 0.2515132\ttest: 0.2698638\tbest: 0.2698638 (326)\ttotal: 1m 3s\tremaining: 33.5s\n",
      "327:\tlearn: 0.2514737\ttest: 0.2698584\tbest: 0.2698584 (327)\ttotal: 1m 3s\tremaining: 33.2s\n",
      "328:\tlearn: 0.2514304\ttest: 0.2698387\tbest: 0.2698387 (328)\ttotal: 1m 3s\tremaining: 33.1s\n",
      "329:\tlearn: 0.2514110\ttest: 0.2698279\tbest: 0.2698279 (329)\ttotal: 1m 3s\tremaining: 32.8s\n",
      "330:\tlearn: 0.2513692\ttest: 0.2698050\tbest: 0.2698050 (330)\ttotal: 1m 3s\tremaining: 32.6s\n",
      "331:\tlearn: 0.2512639\ttest: 0.2697536\tbest: 0.2697536 (331)\ttotal: 1m 4s\tremaining: 32.4s\n",
      "332:\tlearn: 0.2512229\ttest: 0.2697415\tbest: 0.2697415 (332)\ttotal: 1m 4s\tremaining: 32.2s\n",
      "333:\tlearn: 0.2511909\ttest: 0.2697195\tbest: 0.2697195 (333)\ttotal: 1m 4s\tremaining: 31.9s\n",
      "334:\tlearn: 0.2510345\ttest: 0.2696256\tbest: 0.2696256 (334)\ttotal: 1m 4s\tremaining: 31.7s\n",
      "335:\tlearn: 0.2509829\ttest: 0.2696100\tbest: 0.2696100 (335)\ttotal: 1m 4s\tremaining: 31.5s\n",
      "336:\tlearn: 0.2509752\ttest: 0.2696098\tbest: 0.2696098 (336)\ttotal: 1m 4s\tremaining: 31.2s\n",
      "337:\tlearn: 0.2509237\ttest: 0.2696006\tbest: 0.2696006 (337)\ttotal: 1m 4s\tremaining: 31s\n",
      "338:\tlearn: 0.2508163\ttest: 0.2695425\tbest: 0.2695425 (338)\ttotal: 1m 5s\tremaining: 30.9s\n",
      "339:\tlearn: 0.2507285\ttest: 0.2694808\tbest: 0.2694808 (339)\ttotal: 1m 5s\tremaining: 30.6s\n",
      "340:\tlearn: 0.2507018\ttest: 0.2694693\tbest: 0.2694693 (340)\ttotal: 1m 5s\tremaining: 30.4s\n",
      "341:\tlearn: 0.2506504\ttest: 0.2694391\tbest: 0.2694391 (341)\ttotal: 1m 5s\tremaining: 30.2s\n",
      "342:\tlearn: 0.2506145\ttest: 0.2694385\tbest: 0.2694385 (342)\ttotal: 1m 5s\tremaining: 30s\n",
      "343:\tlearn: 0.2505489\ttest: 0.2694382\tbest: 0.2694382 (343)\ttotal: 1m 5s\tremaining: 29.9s\n",
      "344:\tlearn: 0.2505189\ttest: 0.2694199\tbest: 0.2694199 (344)\ttotal: 1m 5s\tremaining: 29.6s\n",
      "345:\tlearn: 0.2504750\ttest: 0.2694148\tbest: 0.2694148 (345)\ttotal: 1m 6s\tremaining: 29.4s\n",
      "346:\tlearn: 0.2504069\ttest: 0.2693643\tbest: 0.2693643 (346)\ttotal: 1m 6s\tremaining: 29.2s\n",
      "347:\tlearn: 0.2501878\ttest: 0.2692013\tbest: 0.2692013 (347)\ttotal: 1m 6s\tremaining: 29.1s\n",
      "348:\tlearn: 0.2501802\ttest: 0.2691991\tbest: 0.2691991 (348)\ttotal: 1m 6s\tremaining: 28.8s\n",
      "349:\tlearn: 0.2501496\ttest: 0.2691993\tbest: 0.2691991 (348)\ttotal: 1m 6s\tremaining: 28.7s\n",
      "350:\tlearn: 0.2500712\ttest: 0.2691735\tbest: 0.2691735 (350)\ttotal: 1m 7s\tremaining: 28.5s\n",
      "351:\tlearn: 0.2500113\ttest: 0.2691726\tbest: 0.2691726 (351)\ttotal: 1m 7s\tremaining: 28.4s\n",
      "352:\tlearn: 0.2499601\ttest: 0.2691673\tbest: 0.2691673 (352)\ttotal: 1m 7s\tremaining: 28.1s\n",
      "353:\tlearn: 0.2499383\ttest: 0.2691538\tbest: 0.2691538 (353)\ttotal: 1m 7s\tremaining: 27.9s\n",
      "354:\tlearn: 0.2498996\ttest: 0.2691380\tbest: 0.2691380 (354)\ttotal: 1m 7s\tremaining: 27.7s\n",
      "355:\tlearn: 0.2498102\ttest: 0.2691190\tbest: 0.2691190 (355)\ttotal: 1m 7s\tremaining: 27.5s\n",
      "356:\tlearn: 0.2497396\ttest: 0.2690913\tbest: 0.2690913 (356)\ttotal: 1m 8s\tremaining: 27.4s\n",
      "357:\tlearn: 0.2496778\ttest: 0.2690807\tbest: 0.2690807 (357)\ttotal: 1m 8s\tremaining: 27.2s\n",
      "358:\tlearn: 0.2495708\ttest: 0.2690527\tbest: 0.2690527 (358)\ttotal: 1m 8s\tremaining: 27s\n",
      "359:\tlearn: 0.2494921\ttest: 0.2690382\tbest: 0.2690382 (359)\ttotal: 1m 9s\tremaining: 26.9s\n",
      "360:\tlearn: 0.2494542\ttest: 0.2690234\tbest: 0.2690234 (360)\ttotal: 1m 9s\tremaining: 26.7s\n",
      "361:\tlearn: 0.2494192\ttest: 0.2690102\tbest: 0.2690102 (361)\ttotal: 1m 9s\tremaining: 26.5s\n",
      "362:\tlearn: 0.2493477\ttest: 0.2689754\tbest: 0.2689754 (362)\ttotal: 1m 9s\tremaining: 26.3s\n",
      "363:\tlearn: 0.2493219\ttest: 0.2689629\tbest: 0.2689629 (363)\ttotal: 1m 9s\tremaining: 26.1s\n",
      "364:\tlearn: 0.2492999\ttest: 0.2689533\tbest: 0.2689533 (364)\ttotal: 1m 9s\tremaining: 25.9s\n",
      "365:\tlearn: 0.2492384\ttest: 0.2689409\tbest: 0.2689409 (365)\ttotal: 1m 10s\tremaining: 25.7s\n",
      "366:\tlearn: 0.2492136\ttest: 0.2689497\tbest: 0.2689409 (365)\ttotal: 1m 10s\tremaining: 25.5s\n",
      "367:\tlearn: 0.2491826\ttest: 0.2689416\tbest: 0.2689409 (365)\ttotal: 1m 10s\tremaining: 25.2s\n",
      "368:\tlearn: 0.2491210\ttest: 0.2688803\tbest: 0.2688803 (368)\ttotal: 1m 10s\tremaining: 25s\n",
      "369:\tlearn: 0.2490576\ttest: 0.2688720\tbest: 0.2688720 (369)\ttotal: 1m 10s\tremaining: 24.9s\n"
     ]
    },
    {
     "name": "stdout",
     "output_type": "stream",
     "text": [
      "370:\tlearn: 0.2489973\ttest: 0.2688570\tbest: 0.2688570 (370)\ttotal: 1m 11s\tremaining: 24.7s\n",
      "371:\tlearn: 0.2488961\ttest: 0.2688056\tbest: 0.2688056 (371)\ttotal: 1m 11s\tremaining: 24.6s\n",
      "372:\tlearn: 0.2488551\ttest: 0.2687829\tbest: 0.2687829 (372)\ttotal: 1m 11s\tremaining: 24.3s\n",
      "373:\tlearn: 0.2487541\ttest: 0.2687196\tbest: 0.2687196 (373)\ttotal: 1m 11s\tremaining: 24.2s\n",
      "374:\tlearn: 0.2487386\ttest: 0.2687159\tbest: 0.2687159 (374)\ttotal: 1m 11s\tremaining: 23.9s\n",
      "375:\tlearn: 0.2486257\ttest: 0.2686818\tbest: 0.2686818 (375)\ttotal: 1m 12s\tremaining: 23.8s\n",
      "376:\tlearn: 0.2484617\ttest: 0.2686481\tbest: 0.2686481 (376)\ttotal: 1m 12s\tremaining: 23.6s\n",
      "377:\tlearn: 0.2484026\ttest: 0.2686078\tbest: 0.2686078 (377)\ttotal: 1m 12s\tremaining: 23.4s\n",
      "378:\tlearn: 0.2483480\ttest: 0.2685902\tbest: 0.2685902 (378)\ttotal: 1m 12s\tremaining: 23.2s\n",
      "379:\tlearn: 0.2483092\ttest: 0.2685708\tbest: 0.2685708 (379)\ttotal: 1m 12s\tremaining: 23s\n",
      "380:\tlearn: 0.2482213\ttest: 0.2685176\tbest: 0.2685176 (380)\ttotal: 1m 13s\tremaining: 22.8s\n",
      "381:\tlearn: 0.2481990\ttest: 0.2685029\tbest: 0.2685029 (381)\ttotal: 1m 13s\tremaining: 22.6s\n",
      "382:\tlearn: 0.2481595\ttest: 0.2684846\tbest: 0.2684846 (382)\ttotal: 1m 13s\tremaining: 22.4s\n",
      "383:\tlearn: 0.2480560\ttest: 0.2684552\tbest: 0.2684552 (383)\ttotal: 1m 13s\tremaining: 22.3s\n",
      "384:\tlearn: 0.2480336\ttest: 0.2684467\tbest: 0.2684467 (384)\ttotal: 1m 13s\tremaining: 22.1s\n",
      "385:\tlearn: 0.2480216\ttest: 0.2684372\tbest: 0.2684372 (385)\ttotal: 1m 13s\tremaining: 21.8s\n",
      "386:\tlearn: 0.2480010\ttest: 0.2684324\tbest: 0.2684324 (386)\ttotal: 1m 14s\tremaining: 21.6s\n",
      "387:\tlearn: 0.2479769\ttest: 0.2684248\tbest: 0.2684248 (387)\ttotal: 1m 14s\tremaining: 21.4s\n",
      "388:\tlearn: 0.2479661\ttest: 0.2684245\tbest: 0.2684245 (388)\ttotal: 1m 14s\tremaining: 21.2s\n",
      "389:\tlearn: 0.2479427\ttest: 0.2684161\tbest: 0.2684161 (389)\ttotal: 1m 14s\tremaining: 21s\n",
      "390:\tlearn: 0.2479307\ttest: 0.2684134\tbest: 0.2684134 (390)\ttotal: 1m 14s\tremaining: 20.8s\n",
      "391:\tlearn: 0.2477774\ttest: 0.2683422\tbest: 0.2683422 (391)\ttotal: 1m 14s\tremaining: 20.6s\n",
      "392:\tlearn: 0.2477174\ttest: 0.2683187\tbest: 0.2683187 (392)\ttotal: 1m 15s\tremaining: 20.4s\n",
      "393:\tlearn: 0.2476524\ttest: 0.2682954\tbest: 0.2682954 (393)\ttotal: 1m 15s\tremaining: 20.2s\n",
      "394:\tlearn: 0.2476085\ttest: 0.2682754\tbest: 0.2682754 (394)\ttotal: 1m 15s\tremaining: 20s\n",
      "395:\tlearn: 0.2475135\ttest: 0.2682562\tbest: 0.2682562 (395)\ttotal: 1m 15s\tremaining: 19.9s\n",
      "396:\tlearn: 0.2475020\ttest: 0.2682473\tbest: 0.2682473 (396)\ttotal: 1m 15s\tremaining: 19.6s\n",
      "397:\tlearn: 0.2474498\ttest: 0.2682401\tbest: 0.2682401 (397)\ttotal: 1m 15s\tremaining: 19.5s\n",
      "398:\tlearn: 0.2474039\ttest: 0.2682267\tbest: 0.2682267 (398)\ttotal: 1m 16s\tremaining: 19.3s\n",
      "399:\tlearn: 0.2473059\ttest: 0.2681728\tbest: 0.2681728 (399)\ttotal: 1m 16s\tremaining: 19.1s\n",
      "400:\tlearn: 0.2472677\ttest: 0.2681598\tbest: 0.2681598 (400)\ttotal: 1m 16s\tremaining: 18.9s\n",
      "401:\tlearn: 0.2472382\ttest: 0.2681500\tbest: 0.2681500 (401)\ttotal: 1m 16s\tremaining: 18.7s\n",
      "402:\tlearn: 0.2472171\ttest: 0.2681466\tbest: 0.2681466 (402)\ttotal: 1m 16s\tremaining: 18.5s\n",
      "403:\tlearn: 0.2472017\ttest: 0.2681263\tbest: 0.2681263 (403)\ttotal: 1m 17s\tremaining: 18.3s\n",
      "404:\tlearn: 0.2471895\ttest: 0.2681224\tbest: 0.2681224 (404)\ttotal: 1m 17s\tremaining: 18.1s\n",
      "405:\tlearn: 0.2471656\ttest: 0.2681141\tbest: 0.2681141 (405)\ttotal: 1m 17s\tremaining: 17.9s\n",
      "406:\tlearn: 0.2470517\ttest: 0.2680836\tbest: 0.2680836 (406)\ttotal: 1m 17s\tremaining: 17.7s\n",
      "407:\tlearn: 0.2470464\ttest: 0.2680835\tbest: 0.2680835 (407)\ttotal: 1m 17s\tremaining: 17.5s\n",
      "408:\tlearn: 0.2470407\ttest: 0.2680834\tbest: 0.2680834 (408)\ttotal: 1m 17s\tremaining: 17.3s\n",
      "409:\tlearn: 0.2470149\ttest: 0.2680765\tbest: 0.2680765 (409)\ttotal: 1m 17s\tremaining: 17.1s\n",
      "410:\tlearn: 0.2469951\ttest: 0.2680669\tbest: 0.2680669 (410)\ttotal: 1m 17s\tremaining: 16.9s\n",
      "411:\tlearn: 0.2469817\ttest: 0.2680595\tbest: 0.2680595 (411)\ttotal: 1m 18s\tremaining: 16.7s\n",
      "412:\tlearn: 0.2468831\ttest: 0.2680010\tbest: 0.2680010 (412)\ttotal: 1m 18s\tremaining: 16.5s\n",
      "413:\tlearn: 0.2468296\ttest: 0.2679662\tbest: 0.2679662 (413)\ttotal: 1m 18s\tremaining: 16.3s\n",
      "414:\tlearn: 0.2468143\ttest: 0.2679522\tbest: 0.2679522 (414)\ttotal: 1m 18s\tremaining: 16.1s\n",
      "415:\tlearn: 0.2468087\ttest: 0.2679474\tbest: 0.2679474 (415)\ttotal: 1m 18s\tremaining: 15.9s\n",
      "416:\tlearn: 0.2467781\ttest: 0.2679371\tbest: 0.2679371 (416)\ttotal: 1m 18s\tremaining: 15.7s\n",
      "417:\tlearn: 0.2466914\ttest: 0.2679182\tbest: 0.2679182 (417)\ttotal: 1m 19s\tremaining: 15.5s\n",
      "418:\tlearn: 0.2466766\ttest: 0.2679172\tbest: 0.2679172 (418)\ttotal: 1m 19s\tremaining: 15.3s\n",
      "419:\tlearn: 0.2465860\ttest: 0.2678728\tbest: 0.2678728 (419)\ttotal: 1m 19s\tremaining: 15.1s\n",
      "420:\tlearn: 0.2465633\ttest: 0.2678659\tbest: 0.2678659 (420)\ttotal: 1m 19s\tremaining: 14.9s\n",
      "421:\tlearn: 0.2465232\ttest: 0.2678519\tbest: 0.2678519 (421)\ttotal: 1m 19s\tremaining: 14.8s\n",
      "422:\tlearn: 0.2465031\ttest: 0.2678360\tbest: 0.2678360 (422)\ttotal: 1m 19s\tremaining: 14.5s\n",
      "423:\tlearn: 0.2464921\ttest: 0.2678361\tbest: 0.2678360 (422)\ttotal: 1m 20s\tremaining: 14.3s\n",
      "424:\tlearn: 0.2464859\ttest: 0.2678360\tbest: 0.2678360 (422)\ttotal: 1m 20s\tremaining: 14.1s\n",
      "425:\tlearn: 0.2464665\ttest: 0.2678206\tbest: 0.2678206 (425)\ttotal: 1m 20s\tremaining: 13.9s\n",
      "426:\tlearn: 0.2464077\ttest: 0.2677917\tbest: 0.2677917 (426)\ttotal: 1m 20s\tremaining: 13.8s\n",
      "427:\tlearn: 0.2463790\ttest: 0.2677775\tbest: 0.2677775 (427)\ttotal: 1m 20s\tremaining: 13.6s\n",
      "428:\tlearn: 0.2463736\ttest: 0.2677770\tbest: 0.2677770 (428)\ttotal: 1m 20s\tremaining: 13.4s\n",
      "429:\tlearn: 0.2463468\ttest: 0.2677604\tbest: 0.2677604 (429)\ttotal: 1m 20s\tremaining: 13.2s\n",
      "430:\tlearn: 0.2463425\ttest: 0.2677607\tbest: 0.2677604 (429)\ttotal: 1m 20s\tremaining: 12.9s\n",
      "431:\tlearn: 0.2463057\ttest: 0.2677445\tbest: 0.2677445 (431)\ttotal: 1m 20s\tremaining: 12.7s\n",
      "432:\tlearn: 0.2462856\ttest: 0.2677480\tbest: 0.2677445 (431)\ttotal: 1m 21s\tremaining: 12.6s\n",
      "433:\tlearn: 0.2462685\ttest: 0.2677376\tbest: 0.2677376 (433)\ttotal: 1m 21s\tremaining: 12.4s\n",
      "434:\tlearn: 0.2462544\ttest: 0.2677361\tbest: 0.2677361 (434)\ttotal: 1m 21s\tremaining: 12.2s\n",
      "435:\tlearn: 0.2462421\ttest: 0.2677270\tbest: 0.2677270 (435)\ttotal: 1m 21s\tremaining: 12s\n",
      "436:\tlearn: 0.2461251\ttest: 0.2677011\tbest: 0.2677011 (436)\ttotal: 1m 21s\tremaining: 11.8s\n",
      "437:\tlearn: 0.2460628\ttest: 0.2676833\tbest: 0.2676833 (437)\ttotal: 1m 21s\tremaining: 11.6s\n",
      "438:\tlearn: 0.2460088\ttest: 0.2676806\tbest: 0.2676806 (438)\ttotal: 1m 22s\tremaining: 11.4s\n",
      "439:\tlearn: 0.2459916\ttest: 0.2676714\tbest: 0.2676714 (439)\ttotal: 1m 22s\tremaining: 11.2s\n",
      "440:\tlearn: 0.2459905\ttest: 0.2676713\tbest: 0.2676713 (440)\ttotal: 1m 22s\tremaining: 11s\n",
      "441:\tlearn: 0.2459098\ttest: 0.2676608\tbest: 0.2676608 (441)\ttotal: 1m 22s\tremaining: 10.9s\n",
      "442:\tlearn: 0.2458848\ttest: 0.2676491\tbest: 0.2676491 (442)\ttotal: 1m 22s\tremaining: 10.7s\n",
      "443:\tlearn: 0.2458754\ttest: 0.2676501\tbest: 0.2676491 (442)\ttotal: 1m 22s\tremaining: 10.5s\n",
      "444:\tlearn: 0.2458651\ttest: 0.2676517\tbest: 0.2676491 (442)\ttotal: 1m 23s\tremaining: 10.3s\n",
      "445:\tlearn: 0.2458101\ttest: 0.2676334\tbest: 0.2676334 (445)\ttotal: 1m 23s\tremaining: 10.1s\n",
      "446:\tlearn: 0.2457981\ttest: 0.2676275\tbest: 0.2676275 (446)\ttotal: 1m 23s\tremaining: 9.88s\n",
      "447:\tlearn: 0.2457901\ttest: 0.2676256\tbest: 0.2676256 (447)\ttotal: 1m 23s\tremaining: 9.68s\n",
      "448:\tlearn: 0.2457785\ttest: 0.2676253\tbest: 0.2676253 (448)\ttotal: 1m 23s\tremaining: 9.48s\n",
      "449:\tlearn: 0.2457759\ttest: 0.2676257\tbest: 0.2676253 (448)\ttotal: 1m 23s\tremaining: 9.29s\n",
      "450:\tlearn: 0.2457529\ttest: 0.2676242\tbest: 0.2676242 (450)\ttotal: 1m 23s\tremaining: 9.09s\n",
      "451:\tlearn: 0.2456787\ttest: 0.2675587\tbest: 0.2675587 (451)\ttotal: 1m 23s\tremaining: 8.89s\n",
      "452:\tlearn: 0.2456311\ttest: 0.2675490\tbest: 0.2675490 (452)\ttotal: 1m 23s\tremaining: 8.7s\n",
      "453:\tlearn: 0.2455747\ttest: 0.2675402\tbest: 0.2675402 (453)\ttotal: 1m 24s\tremaining: 8.52s\n",
      "454:\tlearn: 0.2455567\ttest: 0.2675330\tbest: 0.2675330 (454)\ttotal: 1m 24s\tremaining: 8.35s\n",
      "455:\tlearn: 0.2455330\ttest: 0.2675257\tbest: 0.2675257 (455)\ttotal: 1m 24s\tremaining: 8.15s\n",
      "456:\tlearn: 0.2454600\ttest: 0.2675194\tbest: 0.2675194 (456)\ttotal: 1m 24s\tremaining: 7.97s\n",
      "457:\tlearn: 0.2454495\ttest: 0.2675197\tbest: 0.2675194 (456)\ttotal: 1m 24s\tremaining: 7.78s\n",
      "458:\tlearn: 0.2454314\ttest: 0.2675153\tbest: 0.2675153 (458)\ttotal: 1m 25s\tremaining: 7.61s\n",
      "459:\tlearn: 0.2454189\ttest: 0.2675088\tbest: 0.2675088 (459)\ttotal: 1m 25s\tremaining: 7.41s\n",
      "460:\tlearn: 0.2452996\ttest: 0.2674788\tbest: 0.2674788 (460)\ttotal: 1m 25s\tremaining: 7.23s\n"
     ]
    },
    {
     "name": "stdout",
     "output_type": "stream",
     "text": [
      "461:\tlearn: 0.2452950\ttest: 0.2674787\tbest: 0.2674787 (461)\ttotal: 1m 25s\tremaining: 7.04s\n",
      "462:\tlearn: 0.2451842\ttest: 0.2674353\tbest: 0.2674353 (462)\ttotal: 1m 25s\tremaining: 6.86s\n",
      "463:\tlearn: 0.2451807\ttest: 0.2674356\tbest: 0.2674353 (462)\ttotal: 1m 25s\tremaining: 6.66s\n",
      "464:\tlearn: 0.2451332\ttest: 0.2674233\tbest: 0.2674233 (464)\ttotal: 1m 26s\tremaining: 6.48s\n",
      "465:\tlearn: 0.2450552\ttest: 0.2674102\tbest: 0.2674102 (465)\ttotal: 1m 26s\tremaining: 6.3s\n",
      "466:\tlearn: 0.2450256\ttest: 0.2673914\tbest: 0.2673914 (466)\ttotal: 1m 26s\tremaining: 6.13s\n",
      "467:\tlearn: 0.2449863\ttest: 0.2673778\tbest: 0.2673778 (467)\ttotal: 1m 26s\tremaining: 5.95s\n",
      "468:\tlearn: 0.2449661\ttest: 0.2673743\tbest: 0.2673743 (468)\ttotal: 1m 27s\tremaining: 5.75s\n",
      "469:\tlearn: 0.2449481\ttest: 0.2673684\tbest: 0.2673684 (469)\ttotal: 1m 27s\tremaining: 5.56s\n",
      "470:\tlearn: 0.2449228\ttest: 0.2673611\tbest: 0.2673611 (470)\ttotal: 1m 27s\tremaining: 5.37s\n",
      "471:\tlearn: 0.2449151\ttest: 0.2673579\tbest: 0.2673579 (471)\ttotal: 1m 27s\tremaining: 5.18s\n",
      "472:\tlearn: 0.2448990\ttest: 0.2673582\tbest: 0.2673579 (471)\ttotal: 1m 27s\tremaining: 4.99s\n",
      "473:\tlearn: 0.2448649\ttest: 0.2673505\tbest: 0.2673505 (473)\ttotal: 1m 27s\tremaining: 4.81s\n",
      "474:\tlearn: 0.2448609\ttest: 0.2673505\tbest: 0.2673505 (474)\ttotal: 1m 27s\tremaining: 4.62s\n",
      "475:\tlearn: 0.2447716\ttest: 0.2673361\tbest: 0.2673361 (475)\ttotal: 1m 28s\tremaining: 4.44s\n",
      "476:\tlearn: 0.2447148\ttest: 0.2673191\tbest: 0.2673191 (476)\ttotal: 1m 28s\tremaining: 4.26s\n",
      "477:\tlearn: 0.2446619\ttest: 0.2672854\tbest: 0.2672854 (477)\ttotal: 1m 28s\tremaining: 4.07s\n",
      "478:\tlearn: 0.2446587\ttest: 0.2672856\tbest: 0.2672854 (477)\ttotal: 1m 28s\tremaining: 3.88s\n",
      "479:\tlearn: 0.2446430\ttest: 0.2672808\tbest: 0.2672808 (479)\ttotal: 1m 28s\tremaining: 3.7s\n",
      "480:\tlearn: 0.2446310\ttest: 0.2672751\tbest: 0.2672751 (480)\ttotal: 1m 28s\tremaining: 3.51s\n",
      "481:\tlearn: 0.2446272\ttest: 0.2672753\tbest: 0.2672751 (480)\ttotal: 1m 28s\tremaining: 3.32s\n",
      "482:\tlearn: 0.2446027\ttest: 0.2672710\tbest: 0.2672710 (482)\ttotal: 1m 28s\tremaining: 3.13s\n",
      "483:\tlearn: 0.2445991\ttest: 0.2672709\tbest: 0.2672709 (483)\ttotal: 1m 28s\tremaining: 2.94s\n",
      "484:\tlearn: 0.2445835\ttest: 0.2672713\tbest: 0.2672709 (483)\ttotal: 1m 29s\tremaining: 2.75s\n",
      "485:\tlearn: 0.2445483\ttest: 0.2672619\tbest: 0.2672619 (485)\ttotal: 1m 29s\tremaining: 2.57s\n",
      "486:\tlearn: 0.2445151\ttest: 0.2672496\tbest: 0.2672496 (486)\ttotal: 1m 29s\tremaining: 2.38s\n",
      "487:\tlearn: 0.2444971\ttest: 0.2672375\tbest: 0.2672375 (487)\ttotal: 1m 29s\tremaining: 2.2s\n",
      "488:\tlearn: 0.2444790\ttest: 0.2672264\tbest: 0.2672264 (488)\ttotal: 1m 29s\tremaining: 2.01s\n",
      "489:\tlearn: 0.2444730\ttest: 0.2672266\tbest: 0.2672264 (488)\ttotal: 1m 29s\tremaining: 1.83s\n",
      "490:\tlearn: 0.2443985\ttest: 0.2672092\tbest: 0.2672092 (490)\ttotal: 1m 29s\tremaining: 1.65s\n",
      "491:\tlearn: 0.2443926\ttest: 0.2672092\tbest: 0.2672092 (491)\ttotal: 1m 29s\tremaining: 1.46s\n",
      "492:\tlearn: 0.2443282\ttest: 0.2672029\tbest: 0.2672029 (492)\ttotal: 1m 30s\tremaining: 1.28s\n",
      "493:\tlearn: 0.2442625\ttest: 0.2671660\tbest: 0.2671660 (493)\ttotal: 1m 30s\tremaining: 1.1s\n",
      "494:\tlearn: 0.2442569\ttest: 0.2671652\tbest: 0.2671652 (494)\ttotal: 1m 30s\tremaining: 913ms\n",
      "495:\tlearn: 0.2442137\ttest: 0.2671451\tbest: 0.2671451 (495)\ttotal: 1m 30s\tremaining: 729ms\n",
      "496:\tlearn: 0.2442029\ttest: 0.2671429\tbest: 0.2671429 (496)\ttotal: 1m 30s\tremaining: 546ms\n",
      "497:\tlearn: 0.2441346\ttest: 0.2671031\tbest: 0.2671031 (497)\ttotal: 1m 30s\tremaining: 365ms\n",
      "498:\tlearn: 0.2441208\ttest: 0.2670957\tbest: 0.2670957 (498)\ttotal: 1m 30s\tremaining: 182ms\n",
      "499:\tlearn: 0.2441134\ttest: 0.2670958\tbest: 0.2670957 (498)\ttotal: 1m 30s\tremaining: 0us\n",
      "\n",
      "bestTest = 0.2670956881\n",
      "bestIteration = 498\n",
      "\n"
     ]
    },
    {
     "data": {
      "text/plain": [
       "<catboost.core.CatBoostClassifier at 0x1addceff240>"
      ]
     },
     "execution_count": 47,
     "metadata": {},
     "output_type": "execute_result"
    }
   ],
   "source": [
    "#importing library and building model\n",
    "from catboost import CatBoostClassifier\n",
    "model=CatBoostClassifier(logging_level='Verbose',class_weights=[0.3,0.7],iterations=500, depth=10, learning_rate=0.01, loss_function='Logloss',\\\n",
    "                         )\n",
    "model.fit(X_train, y_train,cat_features=categorical_features_indices1,eval_set=(X_validation, y_validation))"
   ]
  },
  {
   "cell_type": "code",
   "execution_count": 50,
   "metadata": {
    "ExecuteTime": {
     "end_time": "2018-09-14T13:54:15.848381Z",
     "start_time": "2018-09-14T13:54:14.944935Z"
    },
    "hidden": true
   },
   "outputs": [
    {
     "data": {
      "text/plain": [
       "array([[ 0.78023,  0.21977],\n",
       "       [ 0.99108,  0.00892],\n",
       "       [ 0.99825,  0.00175],\n",
       "       ..., \n",
       "       [ 0.99566,  0.00434],\n",
       "       [ 0.98803,  0.01197],\n",
       "       [ 0.24806,  0.75194]])"
      ]
     },
     "execution_count": 50,
     "metadata": {},
     "output_type": "execute_result"
    }
   ],
   "source": [
    "model.predict_proba(df_test)"
   ]
  },
  {
   "cell_type": "code",
   "execution_count": 60,
   "metadata": {
    "ExecuteTime": {
     "end_time": "2018-09-14T13:59:19.652616Z",
     "start_time": "2018-09-14T13:59:19.477808Z"
    },
    "hidden": true
   },
   "outputs": [],
   "source": [
    "temp = pd.DataFrame()\n",
    "l =[]\n",
    "for i,j in zip(model.feature_importances_, df_raw.columns):\n",
    "    l.append([j,i])"
   ]
  },
  {
   "cell_type": "code",
   "execution_count": 73,
   "metadata": {
    "ExecuteTime": {
     "end_time": "2018-09-14T14:03:00.518144Z",
     "start_time": "2018-09-14T14:03:00.053300Z"
    },
    "hidden": true
   },
   "outputs": [
    {
     "data": {
      "text/plain": [
       "<matplotlib.axes._subplots.AxesSubplot at 0x1ad809d3c18>"
      ]
     },
     "execution_count": 73,
     "metadata": {},
     "output_type": "execute_result"
    },
    {
     "data": {
      "text/plain": [
       "<Figure size 720x720 with 0 Axes>"
      ]
     },
     "metadata": {},
     "output_type": "display_data"
    },
    {
     "data": {
      "image/png": "[encoded data removed]",
      "text/plain": [
       "<Figure size 432x288 with 1 Axes>"
      ]
     },
     "metadata": {},
     "output_type": "display_data"
    }
   ],
   "source": [
    "temp = pd.DataFrame(l,columns=['col', 'imp'])\n",
    "plt.figure(figsize=(10,10))\n",
    "temp.plot('col','imp',kind='barh')"
   ]
  },
  {
   "cell_type": "markdown",
   "metadata": {},
   "source": [
    "## xgb"
   ]
  },
  {
   "cell_type": "code",
   "execution_count": 19,
   "metadata": {
    "ExecuteTime": {
     "end_time": "2018-09-14T14:10:55.618135Z",
     "start_time": "2018-09-14T14:10:55.439316Z"
    }
   },
   "outputs": [],
   "source": [
    "target = df_raw.is_promoted\n",
    "df_raw.drop('is_promoted', axis=1, inplace=True)\n",
    "df_raw['previous_year_rating'].fillna(0,inplace=True)\n",
    "df_test['previous_year_rating'].fillna(0,inplace=True)"
   ]
  },
  {
   "cell_type": "code",
   "execution_count": 20,
   "metadata": {
    "ExecuteTime": {
     "end_time": "2018-09-14T09:42:24.666435Z",
     "start_time": "2018-09-14T09:42:24.396171Z"
    },
    "scrolled": true
   },
   "outputs": [],
   "source": [
    "#df_raw[pd.isnull(df_raw['previous_year_rating'])]"
   ]
  },
  {
   "cell_type": "code",
   "execution_count": 20,
   "metadata": {
    "ExecuteTime": {
     "end_time": "2018-09-14T14:10:58.096393Z",
     "start_time": "2018-09-14T14:10:57.835455Z"
    }
   },
   "outputs": [],
   "source": [
    "train_encoded_T, test_encoded_T = np.asarray(train_encoded).T, np.asarray(test_encoded).T"
   ]
  },
  {
   "cell_type": "code",
   "execution_count": 21,
   "metadata": {
    "ExecuteTime": {
     "end_time": "2018-09-14T14:09:36.429608Z",
     "start_time": "2018-09-14T14:09:36.187741Z"
    }
   },
   "outputs": [],
   "source": [
    "# ###need to check on this\n",
    "# df_raw_cat['promotion_chance'] = df_raw['promotion_chance']\n",
    "# df_test_cat['promotion_chance'] = df_test['promotion_chance']\n",
    "# df_raw.drop('promotion_chance', axis=1,inplace=True)\n",
    "# df_test.drop('promotion_chance', axis=1,inplace=True)"
   ]
  },
  {
   "cell_type": "code",
   "execution_count": 21,
   "metadata": {
    "ExecuteTime": {
     "end_time": "2018-09-14T14:11:01.361825Z",
     "start_time": "2018-09-14T14:11:01.145899Z"
    }
   },
   "outputs": [
    {
     "data": {
      "text/plain": [
       "Index(['department', 'region', 'education', 'gender', 'recruitment_channel',\n",
       "       'age_group', 'bin_age', 'bin_avg_training_score', 'promotion_chance'],\n",
       "      dtype='object')"
      ]
     },
     "execution_count": 21,
     "metadata": {},
     "output_type": "execute_result"
    }
   ],
   "source": [
    "df_raw_cat.columns"
   ]
  },
  {
   "cell_type": "code",
   "execution_count": 22,
   "metadata": {
    "ExecuteTime": {
     "end_time": "2018-09-14T14:11:04.690669Z",
     "start_time": "2018-09-14T14:11:04.385563Z"
    }
   },
   "outputs": [],
   "source": [
    "train_all, test_all = np.hstack((df_raw, train_encoded_T, pd.get_dummies(df_raw_cat))), np.hstack((df_test, test_encoded_T, pd.get_dummies(df_test_cat)))"
   ]
  },
  {
   "cell_type": "code",
   "execution_count": 23,
   "metadata": {
    "ExecuteTime": {
     "end_time": "2018-09-14T14:11:04.850245Z",
     "start_time": "2018-09-14T14:11:04.690669Z"
    }
   },
   "outputs": [
    {
     "data": {
      "text/plain": [
       "((54808, 102), (23490, 102))"
      ]
     },
     "execution_count": 23,
     "metadata": {},
     "output_type": "execute_result"
    }
   ],
   "source": [
    "train_all.shape, test_all.shape"
   ]
  },
  {
   "cell_type": "markdown",
   "metadata": {},
   "source": [
    "## Model"
   ]
  },
  {
   "cell_type": "code",
   "execution_count": 7,
   "metadata": {
    "ExecuteTime": {
     "end_time": "2018-09-14T18:51:54.238621Z",
     "start_time": "2018-09-14T18:51:53.973463Z"
    }
   },
   "outputs": [],
   "source": [
    "def make_submission(probs):\n",
    "    sample = pd.read_csv(f'{PATH}\\\\sample_submission.csv')\n",
    "    submit = sample.copy()\n",
    "    submit['is_promoted'] = probs\n",
    "    return submit"
   ]
  },
  {
   "cell_type": "code",
   "execution_count": 25,
   "metadata": {
    "ExecuteTime": {
     "end_time": "2018-09-14T14:11:08.622504Z",
     "start_time": "2018-09-14T14:11:08.449920Z"
    }
   },
   "outputs": [
    {
     "data": {
      "text/plain": [
       "(4668, 50140)"
      ]
     },
     "execution_count": 25,
     "metadata": {},
     "output_type": "execute_result"
    }
   ],
   "source": [
    "np.count_nonzero(target), target.shape[0]- 4668"
   ]
  },
  {
   "cell_type": "code",
   "execution_count": 8,
   "metadata": {
    "ExecuteTime": {
     "end_time": "2018-09-14T18:51:56.302753Z",
     "start_time": "2018-09-14T18:51:55.999946Z"
    }
   },
   "outputs": [],
   "source": [
    "train_all, test_all, target = np.load('train_all.npy'), np.load('test_all.npy'), np.load('target.npy')"
   ]
  },
  {
   "cell_type": "code",
   "execution_count": 26,
   "metadata": {
    "ExecuteTime": {
     "end_time": "2018-09-14T14:11:19.774715Z",
     "start_time": "2018-09-14T14:11:19.413884Z"
    }
   },
   "outputs": [],
   "source": [
    "X_train, X_valid, y_train, y_valid = train_test_split(train_all, target, test_size = .2, stratify = target)"
   ]
  },
  {
   "cell_type": "code",
   "execution_count": 27,
   "metadata": {
    "ExecuteTime": {
     "end_time": "2018-09-14T14:12:09.383395Z",
     "start_time": "2018-09-14T14:12:09.120985Z"
    }
   },
   "outputs": [],
   "source": [
    "def runXGB(train_X, train_y, test_X, test_y=None):\n",
    "        params = {}\n",
    "        params['booster'] = 'gbtree'\n",
    "        params['tree_method'] = 'gpu_hist'\n",
    "        params[\"objective\"] = \"binary:logistic\"\n",
    "        params['eval_metric'] = 'auc'\n",
    "        params[\"eta\"] = 0.05 #0.03\n",
    "        params[\"subsample\"] = .8\n",
    "        params[\"silent\"] = 0\n",
    "        params['verbose'] = 1\n",
    "        params[\"max_depth\"] = 10\n",
    "        params[\"seed\"] = 1\n",
    "        params[\"max_delta_step\"] = 4\n",
    "        params['scale_pos_weight'] =  50140/4668\n",
    "        params[\"gamma\"] = 0.6 #.5 #.1 #.2\n",
    "        params['colsample_bytree'] = 0.75\n",
    "        params['nrounds'] = 1000 #3600 #2000 #4000\n",
    "        plst = list(params.items())\n",
    "\n",
    "        xgtrain = xgb.DMatrix(train_X, label=train_y)\n",
    "        xgtest = xgb.DMatrix(test_X)\n",
    "        model = xgb.train(plst, xgtrain)\n",
    "        pred_test_y = model.predict(xgtest)\n",
    "        return pred_test_y"
   ]
  },
  {
   "cell_type": "code",
   "execution_count": 29,
   "metadata": {
    "ExecuteTime": {
     "end_time": "2018-09-14T14:12:19.899552Z",
     "start_time": "2018-09-14T14:12:15.711681Z"
    }
   },
   "outputs": [],
   "source": [
    "val_preds = runXGB(X_train, y_train, X_valid,)"
   ]
  },
  {
   "cell_type": "code",
   "execution_count": 30,
   "metadata": {
    "ExecuteTime": {
     "end_time": "2018-09-14T14:12:44.509483Z",
     "start_time": "2018-09-14T14:12:44.283424Z"
    }
   },
   "outputs": [
    {
     "data": {
      "text/plain": [
       "(array([ 0.34756,  0.35743,  0.49354, ...,  0.36264,  0.58743,  0.46702], dtype=float32),\n",
       " 0.70014787)"
      ]
     },
     "execution_count": 30,
     "metadata": {},
     "output_type": "execute_result"
    }
   ],
   "source": [
    "val_preds, max(val_preds)"
   ]
  },
  {
   "cell_type": "code",
   "execution_count": 10,
   "metadata": {
    "ExecuteTime": {
     "end_time": "2018-09-14T10:22:23.961560Z",
     "start_time": "2018-09-14T10:22:23.801380Z"
    }
   },
   "outputs": [],
   "source": [
    "# test_preds = model_srk.predict(test_all)"
   ]
  },
  {
   "cell_type": "markdown",
   "metadata": {
    "heading_collapsed": true
   },
   "source": [
    "## hit try error optimisation"
   ]
  },
  {
   "cell_type": "code",
   "execution_count": 31,
   "metadata": {
    "ExecuteTime": {
     "end_time": "2018-09-14T14:13:07.095508Z",
     "start_time": "2018-09-14T14:13:06.904971Z"
    },
    "hidden": true
   },
   "outputs": [],
   "source": [
    "params = {}\n",
    "params['booster'] = 'gbtree'\n",
    "params['tree_method'] = 'gpu_hist'\n",
    "params[\"objective\"] = \"binary:logistic\"\n",
    "params['eval_metric'] = 'auc'\n",
    "params[\"eta\"] = 0.05 #0.03\n",
    "params[\"subsample\"] = .85\n",
    "params[\"silent\"] = 0\n",
    "params['verbose'] = 1\n",
    "params[\"max_depth\"] = 10\n",
    "params[\"seed\"] = 1\n",
    "params[\"max_delta_step\"] = 4\n",
    "params['scale_pos_weight'] =  50140/4668\n",
    "params[\"gamma\"] = 0.6 #.5 #.1 #.2\n",
    "params['colsample_bytree'] = 0.75\n",
    "params['nrounds'] = 500 #3600 #2000 #4000"
   ]
  },
  {
   "cell_type": "code",
   "execution_count": 23,
   "metadata": {
    "ExecuteTime": {
     "end_time": "2018-09-14T10:06:30.566121Z",
     "start_time": "2018-09-14T10:06:30.213501Z"
    },
    "hidden": true
   },
   "outputs": [],
   "source": [
    "# X_train, X_valid, y_train, y_valid = train_test_split(train_all, target, test_size = .2, stratify = target)"
   ]
  },
  {
   "cell_type": "code",
   "execution_count": 33,
   "metadata": {
    "ExecuteTime": {
     "end_time": "2018-09-14T14:16:02.020172Z",
     "start_time": "2018-09-14T14:13:40.519702Z"
    },
    "hidden": true,
    "scrolled": true
   },
   "outputs": [
    {
     "name": "stdout",
     "output_type": "stream",
     "text": [
      "[mlcrate] Training 7 stratified XGBoost models on training set (54808, 102) with test set (23490, 102)\n",
      "[mlcrate] Running fold 0, 46978 train samples, 7830 validation samples\n",
      "[0]\ttrain-auc:0.895494\tvalid-auc:0.864586\n",
      "Multiple eval metrics have been passed: 'valid-auc' will be used for early stopping.\n",
      "\n",
      "Will train until valid-auc hasn't improved in 50 rounds.\n",
      "[1]\ttrain-auc:0.919072\tvalid-auc:0.885218\n",
      "[2]\ttrain-auc:0.92753\tvalid-auc:0.891484\n",
      "[3]\ttrain-auc:0.933167\tvalid-auc:0.893178\n",
      "[4]\ttrain-auc:0.939409\tvalid-auc:0.896358\n",
      "[5]\ttrain-auc:0.943433\tvalid-auc:0.896474\n",
      "[6]\ttrain-auc:0.945777\tvalid-auc:0.898182\n",
      "[7]\ttrain-auc:0.948576\tvalid-auc:0.89888\n",
      "[8]\ttrain-auc:0.949797\tvalid-auc:0.89965\n",
      "[9]\ttrain-auc:0.95137\tvalid-auc:0.899572\n",
      "[10]\ttrain-auc:0.95256\tvalid-auc:0.899886\n",
      "[11]\ttrain-auc:0.953416\tvalid-auc:0.899446\n",
      "[12]\ttrain-auc:0.954083\tvalid-auc:0.9001\n",
      "[13]\ttrain-auc:0.955036\tvalid-auc:0.900557\n",
      "[14]\ttrain-auc:0.955806\tvalid-auc:0.901206\n",
      "[15]\ttrain-auc:0.957452\tvalid-auc:0.900595\n",
      "[16]\ttrain-auc:0.958177\tvalid-auc:0.900851\n",
      "[17]\ttrain-auc:0.959132\tvalid-auc:0.900813\n",
      "[18]\ttrain-auc:0.960678\tvalid-auc:0.901782\n",
      "[19]\ttrain-auc:0.96055\tvalid-auc:0.901825\n",
      "[20]\ttrain-auc:0.961481\tvalid-auc:0.901748\n",
      "[21]\ttrain-auc:0.962668\tvalid-auc:0.901529\n",
      "[22]\ttrain-auc:0.963877\tvalid-auc:0.901601\n",
      "[23]\ttrain-auc:0.96496\tvalid-auc:0.902375\n",
      "[24]\ttrain-auc:0.965723\tvalid-auc:0.902037\n",
      "[25]\ttrain-auc:0.966174\tvalid-auc:0.902013\n",
      "[26]\ttrain-auc:0.966815\tvalid-auc:0.902898\n",
      "[27]\ttrain-auc:0.967191\tvalid-auc:0.903203\n",
      "[28]\ttrain-auc:0.967894\tvalid-auc:0.903662\n",
      "[29]\ttrain-auc:0.968163\tvalid-auc:0.903555\n",
      "[30]\ttrain-auc:0.968646\tvalid-auc:0.903428\n",
      "[31]\ttrain-auc:0.969027\tvalid-auc:0.903383\n",
      "[32]\ttrain-auc:0.969721\tvalid-auc:0.903491\n",
      "[33]\ttrain-auc:0.96994\tvalid-auc:0.903919\n",
      "[34]\ttrain-auc:0.970896\tvalid-auc:0.90389\n",
      "[35]\ttrain-auc:0.971663\tvalid-auc:0.904062\n",
      "[36]\ttrain-auc:0.971984\tvalid-auc:0.90436\n",
      "[37]\ttrain-auc:0.972158\tvalid-auc:0.904448\n",
      "[38]\ttrain-auc:0.972753\tvalid-auc:0.904765\n",
      "[39]\ttrain-auc:0.973414\tvalid-auc:0.904981\n",
      "[40]\ttrain-auc:0.973999\tvalid-auc:0.904941\n",
      "[41]\ttrain-auc:0.974391\tvalid-auc:0.90512\n",
      "[42]\ttrain-auc:0.974805\tvalid-auc:0.905099\n",
      "[43]\ttrain-auc:0.975228\tvalid-auc:0.905219\n",
      "[44]\ttrain-auc:0.975732\tvalid-auc:0.905509\n",
      "[45]\ttrain-auc:0.976144\tvalid-auc:0.905276\n",
      "[46]\ttrain-auc:0.976401\tvalid-auc:0.905467\n",
      "[47]\ttrain-auc:0.976758\tvalid-auc:0.905594\n",
      "[48]\ttrain-auc:0.977495\tvalid-auc:0.905444\n",
      "[49]\ttrain-auc:0.978083\tvalid-auc:0.905368\n",
      "[50]\ttrain-auc:0.978619\tvalid-auc:0.905476\n",
      "[51]\ttrain-auc:0.978774\tvalid-auc:0.905383\n",
      "[52]\ttrain-auc:0.979013\tvalid-auc:0.905446\n",
      "[53]\ttrain-auc:0.979478\tvalid-auc:0.90549\n",
      "[54]\ttrain-auc:0.979743\tvalid-auc:0.905518\n",
      "[55]\ttrain-auc:0.980107\tvalid-auc:0.905632\n",
      "[56]\ttrain-auc:0.980209\tvalid-auc:0.905722\n",
      "[57]\ttrain-auc:0.98072\tvalid-auc:0.90555\n",
      "[58]\ttrain-auc:0.98121\tvalid-auc:0.905571\n",
      "[59]\ttrain-auc:0.981565\tvalid-auc:0.90538\n",
      "[60]\ttrain-auc:0.981885\tvalid-auc:0.905428\n",
      "[61]\ttrain-auc:0.982155\tvalid-auc:0.90542\n",
      "[62]\ttrain-auc:0.982523\tvalid-auc:0.905483\n",
      "[63]\ttrain-auc:0.982689\tvalid-auc:0.905332\n",
      "[64]\ttrain-auc:0.982963\tvalid-auc:0.905407\n",
      "[65]\ttrain-auc:0.983388\tvalid-auc:0.905239\n",
      "[66]\ttrain-auc:0.983626\tvalid-auc:0.904891\n",
      "[67]\ttrain-auc:0.983916\tvalid-auc:0.904881\n",
      "[68]\ttrain-auc:0.984141\tvalid-auc:0.904819\n",
      "[69]\ttrain-auc:0.984267\tvalid-auc:0.904952\n",
      "[70]\ttrain-auc:0.984534\tvalid-auc:0.904956\n",
      "[71]\ttrain-auc:0.98474\tvalid-auc:0.904861\n",
      "[72]\ttrain-auc:0.984863\tvalid-auc:0.904917\n",
      "[73]\ttrain-auc:0.985285\tvalid-auc:0.904946\n",
      "[74]\ttrain-auc:0.985529\tvalid-auc:0.904838\n",
      "[75]\ttrain-auc:0.985664\tvalid-auc:0.904855\n",
      "[76]\ttrain-auc:0.985988\tvalid-auc:0.904874\n",
      "[77]\ttrain-auc:0.986234\tvalid-auc:0.904788\n",
      "[78]\ttrain-auc:0.98648\tvalid-auc:0.90489\n",
      "[79]\ttrain-auc:0.98672\tvalid-auc:0.904957\n",
      "[80]\ttrain-auc:0.986882\tvalid-auc:0.904992\n",
      "[81]\ttrain-auc:0.987166\tvalid-auc:0.905134\n",
      "[82]\ttrain-auc:0.987354\tvalid-auc:0.905264\n",
      "[83]\ttrain-auc:0.987606\tvalid-auc:0.905209\n",
      "[84]\ttrain-auc:0.987841\tvalid-auc:0.904981\n",
      "[85]\ttrain-auc:0.988066\tvalid-auc:0.904893\n",
      "[86]\ttrain-auc:0.988325\tvalid-auc:0.904935\n",
      "[87]\ttrain-auc:0.988548\tvalid-auc:0.904978\n",
      "[88]\ttrain-auc:0.988687\tvalid-auc:0.905011\n",
      "[89]\ttrain-auc:0.988958\tvalid-auc:0.904879\n",
      "[90]\ttrain-auc:0.989188\tvalid-auc:0.904713\n",
      "[91]\ttrain-auc:0.989489\tvalid-auc:0.904796\n",
      "[92]\ttrain-auc:0.989705\tvalid-auc:0.904843\n",
      "[93]\ttrain-auc:0.989925\tvalid-auc:0.904969\n",
      "[94]\ttrain-auc:0.990183\tvalid-auc:0.905056\n",
      "[95]\ttrain-auc:0.990448\tvalid-auc:0.904671\n",
      "[96]\ttrain-auc:0.990585\tvalid-auc:0.90467\n",
      "[97]\ttrain-auc:0.990815\tvalid-auc:0.904746\n",
      "[98]\ttrain-auc:0.991045\tvalid-auc:0.904731\n",
      "[99]\ttrain-auc:0.991174\tvalid-auc:0.904726\n",
      "[100]\ttrain-auc:0.991301\tvalid-auc:0.904776\n",
      "[101]\ttrain-auc:0.991535\tvalid-auc:0.904926\n",
      "[102]\ttrain-auc:0.991626\tvalid-auc:0.904956\n",
      "[103]\ttrain-auc:0.991878\tvalid-auc:0.905033\n",
      "[104]\ttrain-auc:0.992045\tvalid-auc:0.904852\n",
      "[105]\ttrain-auc:0.992151\tvalid-auc:0.904795\n",
      "[106]\ttrain-auc:0.992275\tvalid-auc:0.904601\n",
      "Stopping. Best iteration:\n",
      "[56]\ttrain-auc:0.980209\tvalid-auc:0.905722\n",
      "\n"
     ]
    },
    {
     "name": "stderr",
     "output_type": "stream",
     "text": [
      "C:\\ProgramData\\Anaconda3\\lib\\site-packages\\mlcrate\\backend.py:7: UserWarning: Timer.format_elapsed() has been deprecated in favour of Timer.fsince() and will be removed soon\n",
      "  warn(message)\n"
     ]
    },
    {
     "name": "stdout",
     "output_type": "stream",
     "text": [
      "[mlcrate] Finished training fold 0 - took 19s - running score 0.905722\n",
      "[mlcrate] Running fold 1, 46978 train samples, 7830 validation samples\n",
      "[0]\ttrain-auc:0.901836\tvalid-auc:0.856622\n",
      "Multiple eval metrics have been passed: 'valid-auc' will be used for early stopping.\n",
      "\n",
      "Will train until valid-auc hasn't improved in 50 rounds.\n",
      "[1]\ttrain-auc:0.92376\tvalid-auc:0.879527\n",
      "[2]\ttrain-auc:0.932131\tvalid-auc:0.887195\n",
      "[3]\ttrain-auc:0.936522\tvalid-auc:0.888585\n",
      "[4]\ttrain-auc:0.943282\tvalid-auc:0.888041\n",
      "[5]\ttrain-auc:0.947342\tvalid-auc:0.888624\n",
      "[6]\ttrain-auc:0.948614\tvalid-auc:0.891658\n",
      "[7]\ttrain-auc:0.951232\tvalid-auc:0.89332\n",
      "[8]\ttrain-auc:0.952888\tvalid-auc:0.892759\n",
      "[9]\ttrain-auc:0.954148\tvalid-auc:0.893651\n",
      "[10]\ttrain-auc:0.955218\tvalid-auc:0.893219\n",
      "[11]\ttrain-auc:0.956239\tvalid-auc:0.894971\n",
      "[12]\ttrain-auc:0.957062\tvalid-auc:0.895332\n",
      "[13]\ttrain-auc:0.957206\tvalid-auc:0.895961\n",
      "[14]\ttrain-auc:0.958271\tvalid-auc:0.896596\n",
      "[15]\ttrain-auc:0.959368\tvalid-auc:0.896157\n",
      "[16]\ttrain-auc:0.960386\tvalid-auc:0.896635\n",
      "[17]\ttrain-auc:0.961421\tvalid-auc:0.895675\n",
      "[18]\ttrain-auc:0.961841\tvalid-auc:0.895686\n",
      "[19]\ttrain-auc:0.962417\tvalid-auc:0.894442\n",
      "[20]\ttrain-auc:0.96316\tvalid-auc:0.895154\n",
      "[21]\ttrain-auc:0.96442\tvalid-auc:0.89516\n",
      "[22]\ttrain-auc:0.964939\tvalid-auc:0.895977\n",
      "[23]\ttrain-auc:0.965594\tvalid-auc:0.896294\n",
      "[24]\ttrain-auc:0.966129\tvalid-auc:0.896126\n",
      "[25]\ttrain-auc:0.966368\tvalid-auc:0.89606\n",
      "[26]\ttrain-auc:0.967213\tvalid-auc:0.896464\n",
      "[27]\ttrain-auc:0.96783\tvalid-auc:0.897043\n",
      "[28]\ttrain-auc:0.968447\tvalid-auc:0.89775\n",
      "[29]\ttrain-auc:0.968867\tvalid-auc:0.898283\n",
      "[30]\ttrain-auc:0.969487\tvalid-auc:0.898397\n",
      "[31]\ttrain-auc:0.969894\tvalid-auc:0.898745\n",
      "[32]\ttrain-auc:0.970175\tvalid-auc:0.898766\n",
      "[33]\ttrain-auc:0.970404\tvalid-auc:0.898822\n",
      "[34]\ttrain-auc:0.970831\tvalid-auc:0.899181\n",
      "[35]\ttrain-auc:0.971168\tvalid-auc:0.899387\n",
      "[36]\ttrain-auc:0.971703\tvalid-auc:0.899394\n",
      "[37]\ttrain-auc:0.971985\tvalid-auc:0.89937\n",
      "[38]\ttrain-auc:0.972778\tvalid-auc:0.899586\n",
      "[39]\ttrain-auc:0.97306\tvalid-auc:0.899748\n",
      "[40]\ttrain-auc:0.973371\tvalid-auc:0.899926\n",
      "[41]\ttrain-auc:0.974034\tvalid-auc:0.900005\n",
      "[42]\ttrain-auc:0.974441\tvalid-auc:0.90013\n",
      "[43]\ttrain-auc:0.975114\tvalid-auc:0.899937\n",
      "[44]\ttrain-auc:0.97582\tvalid-auc:0.900492\n",
      "[45]\ttrain-auc:0.976192\tvalid-auc:0.900094\n",
      "[46]\ttrain-auc:0.976469\tvalid-auc:0.90011\n",
      "[47]\ttrain-auc:0.976875\tvalid-auc:0.900142\n",
      "[48]\ttrain-auc:0.976897\tvalid-auc:0.900125\n",
      "[49]\ttrain-auc:0.977472\tvalid-auc:0.900142\n",
      "[50]\ttrain-auc:0.977889\tvalid-auc:0.899962\n",
      "[51]\ttrain-auc:0.978286\tvalid-auc:0.900008\n",
      "[52]\ttrain-auc:0.978476\tvalid-auc:0.900391\n",
      "[53]\ttrain-auc:0.978982\tvalid-auc:0.900163\n",
      "[54]\ttrain-auc:0.979483\tvalid-auc:0.900312\n",
      "[55]\ttrain-auc:0.979822\tvalid-auc:0.900266\n",
      "[56]\ttrain-auc:0.980383\tvalid-auc:0.900314\n",
      "[57]\ttrain-auc:0.980761\tvalid-auc:0.900507\n",
      "[58]\ttrain-auc:0.981376\tvalid-auc:0.900214\n",
      "[59]\ttrain-auc:0.981646\tvalid-auc:0.900485\n",
      "[60]\ttrain-auc:0.982242\tvalid-auc:0.900037\n",
      "[61]\ttrain-auc:0.982566\tvalid-auc:0.900135\n",
      "[62]\ttrain-auc:0.982889\tvalid-auc:0.900078\n",
      "[63]\ttrain-auc:0.983234\tvalid-auc:0.900304\n",
      "[64]\ttrain-auc:0.983604\tvalid-auc:0.900227\n",
      "[65]\ttrain-auc:0.984145\tvalid-auc:0.900261\n",
      "[66]\ttrain-auc:0.984451\tvalid-auc:0.900391\n",
      "[67]\ttrain-auc:0.984682\tvalid-auc:0.900339\n",
      "[68]\ttrain-auc:0.984898\tvalid-auc:0.900411\n",
      "[69]\ttrain-auc:0.985255\tvalid-auc:0.900406\n",
      "[70]\ttrain-auc:0.985591\tvalid-auc:0.900297\n",
      "[71]\ttrain-auc:0.985883\tvalid-auc:0.900246\n",
      "[72]\ttrain-auc:0.986169\tvalid-auc:0.900384\n",
      "[73]\ttrain-auc:0.986465\tvalid-auc:0.900593\n",
      "[74]\ttrain-auc:0.986699\tvalid-auc:0.900559\n",
      "[75]\ttrain-auc:0.986772\tvalid-auc:0.900519\n",
      "[76]\ttrain-auc:0.98698\tvalid-auc:0.900521\n",
      "[77]\ttrain-auc:0.987296\tvalid-auc:0.900244\n",
      "[78]\ttrain-auc:0.987567\tvalid-auc:0.900513\n",
      "[79]\ttrain-auc:0.987748\tvalid-auc:0.900617\n",
      "[80]\ttrain-auc:0.988158\tvalid-auc:0.90081\n",
      "[81]\ttrain-auc:0.988372\tvalid-auc:0.900954\n",
      "[82]\ttrain-auc:0.988575\tvalid-auc:0.900905\n",
      "[83]\ttrain-auc:0.988774\tvalid-auc:0.901155\n",
      "[84]\ttrain-auc:0.988945\tvalid-auc:0.900937\n",
      "[85]\ttrain-auc:0.989165\tvalid-auc:0.900987\n",
      "[86]\ttrain-auc:0.989453\tvalid-auc:0.9011\n",
      "[87]\ttrain-auc:0.989784\tvalid-auc:0.901312\n",
      "[88]\ttrain-auc:0.989995\tvalid-auc:0.901464\n",
      "[89]\ttrain-auc:0.990171\tvalid-auc:0.901054\n",
      "[90]\ttrain-auc:0.990452\tvalid-auc:0.901056\n",
      "[91]\ttrain-auc:0.990582\tvalid-auc:0.901136\n",
      "[92]\ttrain-auc:0.990769\tvalid-auc:0.901053\n",
      "[93]\ttrain-auc:0.990987\tvalid-auc:0.901019\n",
      "[94]\ttrain-auc:0.991178\tvalid-auc:0.90084\n",
      "[95]\ttrain-auc:0.991381\tvalid-auc:0.900635\n",
      "[96]\ttrain-auc:0.991517\tvalid-auc:0.900599\n",
      "[97]\ttrain-auc:0.991723\tvalid-auc:0.900436\n",
      "[98]\ttrain-auc:0.991835\tvalid-auc:0.900379\n",
      "[99]\ttrain-auc:0.992021\tvalid-auc:0.900553\n",
      "[100]\ttrain-auc:0.99214\tvalid-auc:0.900454\n",
      "[101]\ttrain-auc:0.99242\tvalid-auc:0.900525\n",
      "[102]\ttrain-auc:0.992646\tvalid-auc:0.900471\n",
      "[103]\ttrain-auc:0.992883\tvalid-auc:0.90059\n",
      "[104]\ttrain-auc:0.992952\tvalid-auc:0.900479\n",
      "[105]\ttrain-auc:0.993053\tvalid-auc:0.900506\n",
      "[106]\ttrain-auc:0.993173\tvalid-auc:0.900421\n",
      "[107]\ttrain-auc:0.993396\tvalid-auc:0.900404\n",
      "[108]\ttrain-auc:0.993482\tvalid-auc:0.900227\n",
      "[109]\ttrain-auc:0.993681\tvalid-auc:0.899878\n",
      "[110]\ttrain-auc:0.993841\tvalid-auc:0.899778\n",
      "[111]\ttrain-auc:0.994007\tvalid-auc:0.899968\n",
      "[112]\ttrain-auc:0.994109\tvalid-auc:0.899951\n",
      "[113]\ttrain-auc:0.994294\tvalid-auc:0.900198\n",
      "[114]\ttrain-auc:0.994407\tvalid-auc:0.900163\n",
      "[115]\ttrain-auc:0.994592\tvalid-auc:0.900216\n",
      "[116]\ttrain-auc:0.9947\tvalid-auc:0.900238\n",
      "[117]\ttrain-auc:0.994824\tvalid-auc:0.900309\n",
      "[118]\ttrain-auc:0.995017\tvalid-auc:0.900176\n",
      "[119]\ttrain-auc:0.99519\tvalid-auc:0.899929\n",
      "[120]\ttrain-auc:0.995397\tvalid-auc:0.899973\n",
      "[121]\ttrain-auc:0.995487\tvalid-auc:0.899933\n",
      "[122]\ttrain-auc:0.995565\tvalid-auc:0.899847\n",
      "[123]\ttrain-auc:0.995658\tvalid-auc:0.899813\n",
      "[124]\ttrain-auc:0.99577\tvalid-auc:0.899907\n",
      "[125]\ttrain-auc:0.995898\tvalid-auc:0.899983\n",
      "[126]\ttrain-auc:0.996033\tvalid-auc:0.900056\n",
      "[127]\ttrain-auc:0.996135\tvalid-auc:0.8999\n",
      "[128]\ttrain-auc:0.996272\tvalid-auc:0.899827\n",
      "[129]\ttrain-auc:0.996324\tvalid-auc:0.89973\n",
      "[130]\ttrain-auc:0.99643\tvalid-auc:0.899729\n",
      "[131]\ttrain-auc:0.996576\tvalid-auc:0.899918\n",
      "[132]\ttrain-auc:0.996605\tvalid-auc:0.899904\n",
      "[133]\ttrain-auc:0.996627\tvalid-auc:0.899846\n",
      "[134]\ttrain-auc:0.996724\tvalid-auc:0.899754\n",
      "[135]\ttrain-auc:0.996826\tvalid-auc:0.899675\n",
      "[136]\ttrain-auc:0.996876\tvalid-auc:0.899778\n",
      "[137]\ttrain-auc:0.99692\tvalid-auc:0.899874\n",
      "[138]\ttrain-auc:0.996969\tvalid-auc:0.899913\n",
      "Stopping. Best iteration:\n",
      "[88]\ttrain-auc:0.989995\tvalid-auc:0.901464\n",
      "\n"
     ]
    },
    {
     "name": "stderr",
     "output_type": "stream",
     "text": [
      "C:\\ProgramData\\Anaconda3\\lib\\site-packages\\mlcrate\\backend.py:7: UserWarning: Timer.format_elapsed() has been deprecated in favour of Timer.fsince() and will be removed soon\n",
      "  warn(message)\n"
     ]
    },
    {
     "name": "stdout",
     "output_type": "stream",
     "text": [
      "[mlcrate] Finished training fold 1 - took 25s - running score 0.9035930000000001\n",
      "[mlcrate] Running fold 2, 46978 train samples, 7830 validation samples\n",
      "[0]\ttrain-auc:0.895298\tvalid-auc:0.851797\n",
      "Multiple eval metrics have been passed: 'valid-auc' will be used for early stopping.\n",
      "\n",
      "Will train until valid-auc hasn't improved in 50 rounds.\n",
      "[1]\ttrain-auc:0.918093\tvalid-auc:0.879972\n",
      "[2]\ttrain-auc:0.926517\tvalid-auc:0.884985\n",
      "[3]\ttrain-auc:0.932614\tvalid-auc:0.891628\n",
      "[4]\ttrain-auc:0.940131\tvalid-auc:0.892256\n",
      "[5]\ttrain-auc:0.946429\tvalid-auc:0.894899\n",
      "[6]\ttrain-auc:0.947828\tvalid-auc:0.895586\n",
      "[7]\ttrain-auc:0.950501\tvalid-auc:0.898394\n",
      "[8]\ttrain-auc:0.952153\tvalid-auc:0.898026\n",
      "[9]\ttrain-auc:0.953489\tvalid-auc:0.89777\n",
      "[10]\ttrain-auc:0.954296\tvalid-auc:0.897396\n",
      "[11]\ttrain-auc:0.954983\tvalid-auc:0.898383\n",
      "[12]\ttrain-auc:0.95605\tvalid-auc:0.898259\n",
      "[13]\ttrain-auc:0.956382\tvalid-auc:0.898237\n",
      "[14]\ttrain-auc:0.957058\tvalid-auc:0.898339\n",
      "[15]\ttrain-auc:0.958126\tvalid-auc:0.898006\n",
      "[16]\ttrain-auc:0.959032\tvalid-auc:0.89883\n",
      "[17]\ttrain-auc:0.959909\tvalid-auc:0.898148\n",
      "[18]\ttrain-auc:0.960828\tvalid-auc:0.898758\n",
      "[19]\ttrain-auc:0.961114\tvalid-auc:0.898923\n",
      "[20]\ttrain-auc:0.961614\tvalid-auc:0.899355\n",
      "[21]\ttrain-auc:0.962989\tvalid-auc:0.899118\n",
      "[22]\ttrain-auc:0.963657\tvalid-auc:0.89941\n",
      "[23]\ttrain-auc:0.964133\tvalid-auc:0.899677\n",
      "[24]\ttrain-auc:0.964919\tvalid-auc:0.899564\n",
      "[25]\ttrain-auc:0.965482\tvalid-auc:0.900242\n",
      "[26]\ttrain-auc:0.966383\tvalid-auc:0.899924\n",
      "[27]\ttrain-auc:0.967102\tvalid-auc:0.900477\n",
      "[28]\ttrain-auc:0.967434\tvalid-auc:0.900434\n",
      "[29]\ttrain-auc:0.968266\tvalid-auc:0.900221\n",
      "[30]\ttrain-auc:0.968987\tvalid-auc:0.899821\n",
      "[31]\ttrain-auc:0.969281\tvalid-auc:0.899899\n",
      "[32]\ttrain-auc:0.969611\tvalid-auc:0.899668\n",
      "[33]\ttrain-auc:0.96993\tvalid-auc:0.899534\n",
      "[34]\ttrain-auc:0.970429\tvalid-auc:0.899266\n",
      "[35]\ttrain-auc:0.971059\tvalid-auc:0.899577\n",
      "[36]\ttrain-auc:0.971376\tvalid-auc:0.899321\n",
      "[37]\ttrain-auc:0.971816\tvalid-auc:0.899411\n",
      "[38]\ttrain-auc:0.972471\tvalid-auc:0.899406\n",
      "[39]\ttrain-auc:0.973194\tvalid-auc:0.89964\n",
      "[40]\ttrain-auc:0.973577\tvalid-auc:0.899719\n",
      "[41]\ttrain-auc:0.974043\tvalid-auc:0.899553\n",
      "[42]\ttrain-auc:0.974432\tvalid-auc:0.899557\n",
      "[43]\ttrain-auc:0.974973\tvalid-auc:0.899426\n",
      "[44]\ttrain-auc:0.975714\tvalid-auc:0.899355\n",
      "[45]\ttrain-auc:0.976184\tvalid-auc:0.899258\n",
      "[46]\ttrain-auc:0.97665\tvalid-auc:0.899158\n",
      "[47]\ttrain-auc:0.97688\tvalid-auc:0.8994\n",
      "[48]\ttrain-auc:0.977296\tvalid-auc:0.899628\n",
      "[49]\ttrain-auc:0.977847\tvalid-auc:0.899576\n",
      "[50]\ttrain-auc:0.978109\tvalid-auc:0.89937\n",
      "[51]\ttrain-auc:0.978358\tvalid-auc:0.899542\n",
      "[52]\ttrain-auc:0.978574\tvalid-auc:0.899797\n",
      "[53]\ttrain-auc:0.978892\tvalid-auc:0.899675\n",
      "[54]\ttrain-auc:0.979227\tvalid-auc:0.899694\n",
      "[55]\ttrain-auc:0.979389\tvalid-auc:0.899663\n",
      "[56]\ttrain-auc:0.979533\tvalid-auc:0.899631\n",
      "[57]\ttrain-auc:0.980081\tvalid-auc:0.90004\n",
      "[58]\ttrain-auc:0.980539\tvalid-auc:0.89989\n",
      "[59]\ttrain-auc:0.980929\tvalid-auc:0.899929\n",
      "[60]\ttrain-auc:0.981562\tvalid-auc:0.899741\n",
      "[61]\ttrain-auc:0.981865\tvalid-auc:0.899551\n",
      "[62]\ttrain-auc:0.982298\tvalid-auc:0.899439\n",
      "[63]\ttrain-auc:0.982508\tvalid-auc:0.899304\n",
      "[64]\ttrain-auc:0.982759\tvalid-auc:0.899239\n",
      "[65]\ttrain-auc:0.983117\tvalid-auc:0.898933\n",
      "[66]\ttrain-auc:0.983325\tvalid-auc:0.899157\n",
      "[67]\ttrain-auc:0.983578\tvalid-auc:0.899106\n",
      "[68]\ttrain-auc:0.98378\tvalid-auc:0.899078\n",
      "[69]\ttrain-auc:0.984215\tvalid-auc:0.899193\n",
      "[70]\ttrain-auc:0.984375\tvalid-auc:0.898916\n",
      "[71]\ttrain-auc:0.984712\tvalid-auc:0.898902\n",
      "[72]\ttrain-auc:0.98488\tvalid-auc:0.898807\n",
      "[73]\ttrain-auc:0.985165\tvalid-auc:0.899172\n",
      "[74]\ttrain-auc:0.985429\tvalid-auc:0.89916\n",
      "[75]\ttrain-auc:0.985666\tvalid-auc:0.898929\n",
      "[76]\ttrain-auc:0.985898\tvalid-auc:0.898804\n",
      "[77]\ttrain-auc:0.986176\tvalid-auc:0.89863\n",
      "Stopping. Best iteration:\n",
      "[27]\ttrain-auc:0.967102\tvalid-auc:0.900477\n",
      "\n"
     ]
    },
    {
     "name": "stderr",
     "output_type": "stream",
     "text": [
      "C:\\ProgramData\\Anaconda3\\lib\\site-packages\\mlcrate\\backend.py:7: UserWarning: Timer.format_elapsed() has been deprecated in favour of Timer.fsince() and will be removed soon\n",
      "  warn(message)\n"
     ]
    },
    {
     "name": "stdout",
     "output_type": "stream",
     "text": [
      "[mlcrate] Finished training fold 2 - took 15s - running score 0.9025543333333333\n",
      "[mlcrate] Running fold 3, 46978 train samples, 7830 validation samples\n",
      "[0]\ttrain-auc:0.897559\tvalid-auc:0.86076\n",
      "Multiple eval metrics have been passed: 'valid-auc' will be used for early stopping.\n",
      "\n",
      "Will train until valid-auc hasn't improved in 50 rounds.\n",
      "[1]\ttrain-auc:0.919177\tvalid-auc:0.876111\n",
      "[2]\ttrain-auc:0.930044\tvalid-auc:0.887389\n",
      "[3]\ttrain-auc:0.935121\tvalid-auc:0.889749\n",
      "[4]\ttrain-auc:0.94166\tvalid-auc:0.893218\n",
      "[5]\ttrain-auc:0.94529\tvalid-auc:0.894372\n",
      "[6]\ttrain-auc:0.947583\tvalid-auc:0.896269\n",
      "[7]\ttrain-auc:0.949606\tvalid-auc:0.897998\n",
      "[8]\ttrain-auc:0.950981\tvalid-auc:0.898652\n",
      "[9]\ttrain-auc:0.952004\tvalid-auc:0.898125\n",
      "[10]\ttrain-auc:0.952285\tvalid-auc:0.898944\n",
      "[11]\ttrain-auc:0.95327\tvalid-auc:0.899776\n",
      "[12]\ttrain-auc:0.954695\tvalid-auc:0.900314\n",
      "[13]\ttrain-auc:0.955556\tvalid-auc:0.901095\n",
      "[14]\ttrain-auc:0.956761\tvalid-auc:0.901453\n",
      "[15]\ttrain-auc:0.958039\tvalid-auc:0.901464\n",
      "[16]\ttrain-auc:0.959196\tvalid-auc:0.902363\n",
      "[17]\ttrain-auc:0.960033\tvalid-auc:0.902517\n",
      "[18]\ttrain-auc:0.961172\tvalid-auc:0.903644\n",
      "[19]\ttrain-auc:0.961874\tvalid-auc:0.903715\n",
      "[20]\ttrain-auc:0.962306\tvalid-auc:0.904481\n",
      "[21]\ttrain-auc:0.964099\tvalid-auc:0.904442\n",
      "[22]\ttrain-auc:0.964631\tvalid-auc:0.904586\n",
      "[23]\ttrain-auc:0.965334\tvalid-auc:0.90516\n",
      "[24]\ttrain-auc:0.966265\tvalid-auc:0.905354\n",
      "[25]\ttrain-auc:0.967037\tvalid-auc:0.906238\n",
      "[26]\ttrain-auc:0.96753\tvalid-auc:0.906542\n",
      "[27]\ttrain-auc:0.968048\tvalid-auc:0.907204\n",
      "[28]\ttrain-auc:0.968302\tvalid-auc:0.907633\n",
      "[29]\ttrain-auc:0.968765\tvalid-auc:0.907816\n",
      "[30]\ttrain-auc:0.969035\tvalid-auc:0.908002\n",
      "[31]\ttrain-auc:0.969445\tvalid-auc:0.908151\n",
      "[32]\ttrain-auc:0.969999\tvalid-auc:0.907926\n",
      "[33]\ttrain-auc:0.970605\tvalid-auc:0.907742\n",
      "[34]\ttrain-auc:0.970973\tvalid-auc:0.908022\n",
      "[35]\ttrain-auc:0.971456\tvalid-auc:0.907867\n",
      "[36]\ttrain-auc:0.97198\tvalid-auc:0.907926\n",
      "[37]\ttrain-auc:0.97224\tvalid-auc:0.908064\n",
      "[38]\ttrain-auc:0.972603\tvalid-auc:0.908128\n",
      "[39]\ttrain-auc:0.973345\tvalid-auc:0.908283\n",
      "[40]\ttrain-auc:0.973559\tvalid-auc:0.908104\n",
      "[41]\ttrain-auc:0.974192\tvalid-auc:0.90839\n",
      "[42]\ttrain-auc:0.974672\tvalid-auc:0.908159\n",
      "[43]\ttrain-auc:0.975073\tvalid-auc:0.908188\n",
      "[44]\ttrain-auc:0.976106\tvalid-auc:0.908348\n",
      "[45]\ttrain-auc:0.97638\tvalid-auc:0.908535\n",
      "[46]\ttrain-auc:0.976697\tvalid-auc:0.908302\n",
      "[47]\ttrain-auc:0.977121\tvalid-auc:0.9084\n",
      "[48]\ttrain-auc:0.977426\tvalid-auc:0.908645\n",
      "[49]\ttrain-auc:0.978035\tvalid-auc:0.908607\n",
      "[50]\ttrain-auc:0.97829\tvalid-auc:0.908575\n",
      "[51]\ttrain-auc:0.978406\tvalid-auc:0.908536\n",
      "[52]\ttrain-auc:0.978608\tvalid-auc:0.908615\n",
      "[53]\ttrain-auc:0.978877\tvalid-auc:0.90867\n",
      "[54]\ttrain-auc:0.979135\tvalid-auc:0.908749\n",
      "[55]\ttrain-auc:0.979435\tvalid-auc:0.908881\n",
      "[56]\ttrain-auc:0.979745\tvalid-auc:0.908879\n",
      "[57]\ttrain-auc:0.979956\tvalid-auc:0.908718\n",
      "[58]\ttrain-auc:0.980429\tvalid-auc:0.908805\n",
      "[59]\ttrain-auc:0.980964\tvalid-auc:0.908603\n",
      "[60]\ttrain-auc:0.981312\tvalid-auc:0.908264\n",
      "[61]\ttrain-auc:0.981675\tvalid-auc:0.908628\n",
      "[62]\ttrain-auc:0.982159\tvalid-auc:0.908458\n",
      "[63]\ttrain-auc:0.982445\tvalid-auc:0.908528\n",
      "[64]\ttrain-auc:0.982903\tvalid-auc:0.908575\n",
      "[65]\ttrain-auc:0.98314\tvalid-auc:0.908508\n",
      "[66]\ttrain-auc:0.983247\tvalid-auc:0.908458\n",
      "[67]\ttrain-auc:0.983638\tvalid-auc:0.908429\n",
      "[68]\ttrain-auc:0.983827\tvalid-auc:0.908482\n",
      "[69]\ttrain-auc:0.984032\tvalid-auc:0.908522\n",
      "[70]\ttrain-auc:0.984316\tvalid-auc:0.908454\n",
      "[71]\ttrain-auc:0.984643\tvalid-auc:0.908722\n",
      "[72]\ttrain-auc:0.985053\tvalid-auc:0.908638\n",
      "[73]\ttrain-auc:0.985172\tvalid-auc:0.908717\n",
      "[74]\ttrain-auc:0.985412\tvalid-auc:0.908928\n",
      "[75]\ttrain-auc:0.985683\tvalid-auc:0.908873\n",
      "[76]\ttrain-auc:0.986022\tvalid-auc:0.908719\n",
      "[77]\ttrain-auc:0.986185\tvalid-auc:0.908704\n",
      "[78]\ttrain-auc:0.986491\tvalid-auc:0.90863\n",
      "[79]\ttrain-auc:0.986724\tvalid-auc:0.908649\n",
      "[80]\ttrain-auc:0.987108\tvalid-auc:0.908412\n",
      "[81]\ttrain-auc:0.987524\tvalid-auc:0.908333\n",
      "[82]\ttrain-auc:0.987738\tvalid-auc:0.908434\n",
      "[83]\ttrain-auc:0.987876\tvalid-auc:0.908344\n",
      "[84]\ttrain-auc:0.988042\tvalid-auc:0.90845\n",
      "[85]\ttrain-auc:0.988205\tvalid-auc:0.9085\n",
      "[86]\ttrain-auc:0.98842\tvalid-auc:0.908541\n",
      "[87]\ttrain-auc:0.988638\tvalid-auc:0.908327\n",
      "[88]\ttrain-auc:0.988782\tvalid-auc:0.908228\n",
      "[89]\ttrain-auc:0.989084\tvalid-auc:0.908474\n",
      "[90]\ttrain-auc:0.989284\tvalid-auc:0.908529\n",
      "[91]\ttrain-auc:0.989479\tvalid-auc:0.908488\n",
      "[92]\ttrain-auc:0.989612\tvalid-auc:0.908376\n",
      "[93]\ttrain-auc:0.989879\tvalid-auc:0.90836\n",
      "[94]\ttrain-auc:0.990176\tvalid-auc:0.908257\n",
      "[95]\ttrain-auc:0.99038\tvalid-auc:0.908172\n",
      "[96]\ttrain-auc:0.99068\tvalid-auc:0.908178\n",
      "[97]\ttrain-auc:0.990761\tvalid-auc:0.90813\n",
      "[98]\ttrain-auc:0.990862\tvalid-auc:0.908184\n",
      "[99]\ttrain-auc:0.991048\tvalid-auc:0.908307\n",
      "[100]\ttrain-auc:0.99119\tvalid-auc:0.908244\n",
      "[101]\ttrain-auc:0.991369\tvalid-auc:0.908161\n",
      "[102]\ttrain-auc:0.99161\tvalid-auc:0.908124\n",
      "[103]\ttrain-auc:0.991792\tvalid-auc:0.908218\n",
      "[104]\ttrain-auc:0.992108\tvalid-auc:0.908102\n",
      "[105]\ttrain-auc:0.992325\tvalid-auc:0.908222\n",
      "[106]\ttrain-auc:0.992503\tvalid-auc:0.908225\n",
      "[107]\ttrain-auc:0.992666\tvalid-auc:0.908256\n",
      "[108]\ttrain-auc:0.992809\tvalid-auc:0.908214\n",
      "[109]\ttrain-auc:0.992871\tvalid-auc:0.908302\n",
      "[110]\ttrain-auc:0.993116\tvalid-auc:0.908249\n",
      "[111]\ttrain-auc:0.993172\tvalid-auc:0.908149\n",
      "[112]\ttrain-auc:0.993233\tvalid-auc:0.908019\n",
      "[113]\ttrain-auc:0.993512\tvalid-auc:0.908027\n",
      "[114]\ttrain-auc:0.993606\tvalid-auc:0.908243\n",
      "[115]\ttrain-auc:0.99376\tvalid-auc:0.908194\n",
      "[116]\ttrain-auc:0.993934\tvalid-auc:0.908158\n",
      "[117]\ttrain-auc:0.993996\tvalid-auc:0.908071\n",
      "[118]\ttrain-auc:0.994198\tvalid-auc:0.908037\n",
      "[119]\ttrain-auc:0.994349\tvalid-auc:0.908089\n",
      "[120]\ttrain-auc:0.994436\tvalid-auc:0.908207\n",
      "[121]\ttrain-auc:0.9946\tvalid-auc:0.907967\n",
      "[122]\ttrain-auc:0.994683\tvalid-auc:0.907955\n",
      "[123]\ttrain-auc:0.994793\tvalid-auc:0.907944\n",
      "[124]\ttrain-auc:0.994905\tvalid-auc:0.908079\n",
      "Stopping. Best iteration:\n",
      "[74]\ttrain-auc:0.985412\tvalid-auc:0.908928\n",
      "\n"
     ]
    },
    {
     "name": "stderr",
     "output_type": "stream",
     "text": [
      "C:\\ProgramData\\Anaconda3\\lib\\site-packages\\mlcrate\\backend.py:7: UserWarning: Timer.format_elapsed() has been deprecated in favour of Timer.fsince() and will be removed soon\n",
      "  warn(message)\n"
     ]
    },
    {
     "name": "stdout",
     "output_type": "stream",
     "text": [
      "[mlcrate] Finished training fold 3 - took 23s - running score 0.90414775\n",
      "[mlcrate] Running fold 4, 46978 train samples, 7830 validation samples\n",
      "[0]\ttrain-auc:0.901459\tvalid-auc:0.864566\n",
      "Multiple eval metrics have been passed: 'valid-auc' will be used for early stopping.\n",
      "\n",
      "Will train until valid-auc hasn't improved in 50 rounds.\n",
      "[1]\ttrain-auc:0.921762\tvalid-auc:0.888534\n",
      "[2]\ttrain-auc:0.931054\tvalid-auc:0.896112\n",
      "[3]\ttrain-auc:0.935614\tvalid-auc:0.900308\n",
      "[4]\ttrain-auc:0.941545\tvalid-auc:0.901916\n",
      "[5]\ttrain-auc:0.945525\tvalid-auc:0.900486\n",
      "[6]\ttrain-auc:0.947456\tvalid-auc:0.903586\n",
      "[7]\ttrain-auc:0.94926\tvalid-auc:0.90422\n",
      "[8]\ttrain-auc:0.950707\tvalid-auc:0.904181\n",
      "[9]\ttrain-auc:0.952439\tvalid-auc:0.904309\n",
      "[10]\ttrain-auc:0.953597\tvalid-auc:0.904615\n",
      "[11]\ttrain-auc:0.954862\tvalid-auc:0.904052\n",
      "[12]\ttrain-auc:0.955793\tvalid-auc:0.903614\n",
      "[13]\ttrain-auc:0.957049\tvalid-auc:0.903466\n",
      "[14]\ttrain-auc:0.95733\tvalid-auc:0.903685\n",
      "[15]\ttrain-auc:0.958691\tvalid-auc:0.903685\n",
      "[16]\ttrain-auc:0.959286\tvalid-auc:0.904354\n",
      "[17]\ttrain-auc:0.960352\tvalid-auc:0.904562\n",
      "[18]\ttrain-auc:0.961069\tvalid-auc:0.905131\n",
      "[19]\ttrain-auc:0.961189\tvalid-auc:0.904742\n",
      "[20]\ttrain-auc:0.962349\tvalid-auc:0.905299\n",
      "[21]\ttrain-auc:0.963504\tvalid-auc:0.905778\n",
      "[22]\ttrain-auc:0.963965\tvalid-auc:0.906539\n",
      "[23]\ttrain-auc:0.96469\tvalid-auc:0.906787\n",
      "[24]\ttrain-auc:0.965571\tvalid-auc:0.90738\n",
      "[25]\ttrain-auc:0.966257\tvalid-auc:0.907461\n",
      "[26]\ttrain-auc:0.966755\tvalid-auc:0.907484\n",
      "[27]\ttrain-auc:0.967096\tvalid-auc:0.907378\n",
      "[28]\ttrain-auc:0.967534\tvalid-auc:0.907898\n",
      "[29]\ttrain-auc:0.968154\tvalid-auc:0.908022\n",
      "[30]\ttrain-auc:0.968816\tvalid-auc:0.908167\n",
      "[31]\ttrain-auc:0.969039\tvalid-auc:0.908182\n",
      "[32]\ttrain-auc:0.969668\tvalid-auc:0.908553\n",
      "[33]\ttrain-auc:0.97033\tvalid-auc:0.908396\n",
      "[34]\ttrain-auc:0.971021\tvalid-auc:0.907997\n",
      "[35]\ttrain-auc:0.971605\tvalid-auc:0.908208\n",
      "[36]\ttrain-auc:0.971979\tvalid-auc:0.908295\n",
      "[37]\ttrain-auc:0.972272\tvalid-auc:0.908536\n",
      "[38]\ttrain-auc:0.972938\tvalid-auc:0.9085\n",
      "[39]\ttrain-auc:0.973463\tvalid-auc:0.908616\n",
      "[40]\ttrain-auc:0.973675\tvalid-auc:0.908629\n",
      "[41]\ttrain-auc:0.97436\tvalid-auc:0.908615\n",
      "[42]\ttrain-auc:0.974943\tvalid-auc:0.908485\n",
      "[43]\ttrain-auc:0.975499\tvalid-auc:0.908198\n",
      "[44]\ttrain-auc:0.976173\tvalid-auc:0.908287\n",
      "[45]\ttrain-auc:0.976596\tvalid-auc:0.907995\n",
      "[46]\ttrain-auc:0.976593\tvalid-auc:0.907862\n",
      "[47]\ttrain-auc:0.976853\tvalid-auc:0.908011\n",
      "[48]\ttrain-auc:0.977336\tvalid-auc:0.908221\n",
      "[49]\ttrain-auc:0.977757\tvalid-auc:0.907998\n",
      "[50]\ttrain-auc:0.978016\tvalid-auc:0.908218\n",
      "[51]\ttrain-auc:0.978408\tvalid-auc:0.908281\n",
      "[52]\ttrain-auc:0.978386\tvalid-auc:0.908365\n",
      "[53]\ttrain-auc:0.978905\tvalid-auc:0.908582\n",
      "[54]\ttrain-auc:0.979558\tvalid-auc:0.908661\n",
      "[55]\ttrain-auc:0.979952\tvalid-auc:0.908678\n",
      "[56]\ttrain-auc:0.980188\tvalid-auc:0.908484\n",
      "[57]\ttrain-auc:0.98055\tvalid-auc:0.908493\n",
      "[58]\ttrain-auc:0.981053\tvalid-auc:0.90856\n",
      "[59]\ttrain-auc:0.981351\tvalid-auc:0.908662\n",
      "[60]\ttrain-auc:0.981644\tvalid-auc:0.908506\n",
      "[61]\ttrain-auc:0.982008\tvalid-auc:0.908459\n",
      "[62]\ttrain-auc:0.982227\tvalid-auc:0.908452\n",
      "[63]\ttrain-auc:0.982579\tvalid-auc:0.90825\n",
      "[64]\ttrain-auc:0.98303\tvalid-auc:0.908084\n",
      "[65]\ttrain-auc:0.983294\tvalid-auc:0.908104\n",
      "[66]\ttrain-auc:0.983732\tvalid-auc:0.907935\n",
      "[67]\ttrain-auc:0.983856\tvalid-auc:0.907977\n",
      "[68]\ttrain-auc:0.984085\tvalid-auc:0.908053\n",
      "[69]\ttrain-auc:0.984243\tvalid-auc:0.90801\n",
      "[70]\ttrain-auc:0.984563\tvalid-auc:0.907857\n",
      "[71]\ttrain-auc:0.984804\tvalid-auc:0.907679\n",
      "[72]\ttrain-auc:0.985121\tvalid-auc:0.907624\n",
      "[73]\ttrain-auc:0.985252\tvalid-auc:0.907513\n",
      "[74]\ttrain-auc:0.985684\tvalid-auc:0.907437\n",
      "[75]\ttrain-auc:0.985753\tvalid-auc:0.907583\n",
      "[76]\ttrain-auc:0.986046\tvalid-auc:0.907513\n",
      "[77]\ttrain-auc:0.986176\tvalid-auc:0.907546\n",
      "[78]\ttrain-auc:0.986436\tvalid-auc:0.907686\n",
      "[79]\ttrain-auc:0.98695\tvalid-auc:0.907401\n",
      "[80]\ttrain-auc:0.98717\tvalid-auc:0.90745\n",
      "[81]\ttrain-auc:0.987445\tvalid-auc:0.907359\n",
      "[82]\ttrain-auc:0.987675\tvalid-auc:0.907387\n",
      "[83]\ttrain-auc:0.987965\tvalid-auc:0.907435\n",
      "[84]\ttrain-auc:0.988237\tvalid-auc:0.907596\n",
      "[85]\ttrain-auc:0.988601\tvalid-auc:0.907462\n",
      "[86]\ttrain-auc:0.988988\tvalid-auc:0.907629\n",
      "[87]\ttrain-auc:0.989216\tvalid-auc:0.907597\n",
      "[88]\ttrain-auc:0.989433\tvalid-auc:0.907544\n",
      "[89]\ttrain-auc:0.989698\tvalid-auc:0.907642\n",
      "[90]\ttrain-auc:0.990051\tvalid-auc:0.907514\n",
      "[91]\ttrain-auc:0.990191\tvalid-auc:0.90748\n",
      "[92]\ttrain-auc:0.990236\tvalid-auc:0.907579\n",
      "[93]\ttrain-auc:0.990449\tvalid-auc:0.907667\n",
      "[94]\ttrain-auc:0.990656\tvalid-auc:0.907657\n",
      "[95]\ttrain-auc:0.990831\tvalid-auc:0.907509\n",
      "[96]\ttrain-auc:0.991014\tvalid-auc:0.907412\n",
      "[97]\ttrain-auc:0.991158\tvalid-auc:0.907286\n",
      "[98]\ttrain-auc:0.991332\tvalid-auc:0.907334\n",
      "[99]\ttrain-auc:0.991553\tvalid-auc:0.907457\n",
      "[100]\ttrain-auc:0.991631\tvalid-auc:0.907459\n",
      "[101]\ttrain-auc:0.991838\tvalid-auc:0.907415\n",
      "[102]\ttrain-auc:0.992017\tvalid-auc:0.907528\n",
      "[103]\ttrain-auc:0.992197\tvalid-auc:0.907414\n",
      "[104]\ttrain-auc:0.992291\tvalid-auc:0.907371\n",
      "[105]\ttrain-auc:0.992402\tvalid-auc:0.907301\n",
      "Stopping. Best iteration:\n",
      "[55]\ttrain-auc:0.979952\tvalid-auc:0.908678\n",
      "\n"
     ]
    },
    {
     "name": "stderr",
     "output_type": "stream",
     "text": [
      "C:\\ProgramData\\Anaconda3\\lib\\site-packages\\mlcrate\\backend.py:7: UserWarning: Timer.format_elapsed() has been deprecated in favour of Timer.fsince() and will be removed soon\n",
      "  warn(message)\n"
     ]
    },
    {
     "name": "stdout",
     "output_type": "stream",
     "text": [
      "[mlcrate] Finished training fold 4 - took 20s - running score 0.9050537999999999\n",
      "[mlcrate] Running fold 5, 46978 train samples, 7830 validation samples\n",
      "[0]\ttrain-auc:0.902815\tvalid-auc:0.869003\n",
      "Multiple eval metrics have been passed: 'valid-auc' will be used for early stopping.\n",
      "\n",
      "Will train until valid-auc hasn't improved in 50 rounds.\n",
      "[1]\ttrain-auc:0.922754\tvalid-auc:0.880714\n",
      "[2]\ttrain-auc:0.930071\tvalid-auc:0.886999\n",
      "[3]\ttrain-auc:0.935068\tvalid-auc:0.890989\n",
      "[4]\ttrain-auc:0.94083\tvalid-auc:0.89515\n",
      "[5]\ttrain-auc:0.945894\tvalid-auc:0.896986\n",
      "[6]\ttrain-auc:0.947604\tvalid-auc:0.897201\n",
      "[7]\ttrain-auc:0.94918\tvalid-auc:0.897859\n",
      "[8]\ttrain-auc:0.95101\tvalid-auc:0.897821\n",
      "[9]\ttrain-auc:0.952351\tvalid-auc:0.897315\n",
      "[10]\ttrain-auc:0.953212\tvalid-auc:0.897397\n",
      "[11]\ttrain-auc:0.954371\tvalid-auc:0.89793\n",
      "[12]\ttrain-auc:0.955215\tvalid-auc:0.899486\n",
      "[13]\ttrain-auc:0.955992\tvalid-auc:0.899453\n",
      "[14]\ttrain-auc:0.956698\tvalid-auc:0.89951\n",
      "[15]\ttrain-auc:0.958036\tvalid-auc:0.899714\n",
      "[16]\ttrain-auc:0.958649\tvalid-auc:0.900071\n",
      "[17]\ttrain-auc:0.959238\tvalid-auc:0.899443\n",
      "[18]\ttrain-auc:0.960117\tvalid-auc:0.899199\n",
      "[19]\ttrain-auc:0.960802\tvalid-auc:0.899458\n",
      "[20]\ttrain-auc:0.961409\tvalid-auc:0.899685\n",
      "[21]\ttrain-auc:0.962747\tvalid-auc:0.89949\n",
      "[22]\ttrain-auc:0.963732\tvalid-auc:0.89995\n",
      "[23]\ttrain-auc:0.964039\tvalid-auc:0.900158\n",
      "[24]\ttrain-auc:0.964474\tvalid-auc:0.900191\n",
      "[25]\ttrain-auc:0.965307\tvalid-auc:0.900285\n",
      "[26]\ttrain-auc:0.965873\tvalid-auc:0.899975\n",
      "[27]\ttrain-auc:0.96655\tvalid-auc:0.899608\n",
      "[28]\ttrain-auc:0.966754\tvalid-auc:0.899964\n",
      "[29]\ttrain-auc:0.967387\tvalid-auc:0.900061\n",
      "[30]\ttrain-auc:0.967748\tvalid-auc:0.900213\n",
      "[31]\ttrain-auc:0.968119\tvalid-auc:0.900011\n",
      "[32]\ttrain-auc:0.968894\tvalid-auc:0.900375\n",
      "[33]\ttrain-auc:0.969409\tvalid-auc:0.900643\n",
      "[34]\ttrain-auc:0.970098\tvalid-auc:0.900771\n",
      "[35]\ttrain-auc:0.970713\tvalid-auc:0.900831\n",
      "[36]\ttrain-auc:0.971313\tvalid-auc:0.901006\n",
      "[37]\ttrain-auc:0.971655\tvalid-auc:0.901349\n",
      "[38]\ttrain-auc:0.972148\tvalid-auc:0.901386\n",
      "[39]\ttrain-auc:0.972605\tvalid-auc:0.90127\n",
      "[40]\ttrain-auc:0.972967\tvalid-auc:0.901232\n",
      "[41]\ttrain-auc:0.973372\tvalid-auc:0.901183\n",
      "[42]\ttrain-auc:0.973678\tvalid-auc:0.901056\n",
      "[43]\ttrain-auc:0.974291\tvalid-auc:0.900918\n",
      "[44]\ttrain-auc:0.97506\tvalid-auc:0.900674\n",
      "[45]\ttrain-auc:0.975448\tvalid-auc:0.900707\n",
      "[46]\ttrain-auc:0.975543\tvalid-auc:0.900861\n",
      "[47]\ttrain-auc:0.975737\tvalid-auc:0.900761\n",
      "[48]\ttrain-auc:0.976061\tvalid-auc:0.900341\n",
      "[49]\ttrain-auc:0.976574\tvalid-auc:0.899856\n",
      "[50]\ttrain-auc:0.976704\tvalid-auc:0.899907\n",
      "[51]\ttrain-auc:0.977115\tvalid-auc:0.900034\n",
      "[52]\ttrain-auc:0.977328\tvalid-auc:0.899998\n",
      "[53]\ttrain-auc:0.97768\tvalid-auc:0.900165\n",
      "[54]\ttrain-auc:0.978056\tvalid-auc:0.90016\n",
      "[55]\ttrain-auc:0.978415\tvalid-auc:0.900264\n",
      "[56]\ttrain-auc:0.978961\tvalid-auc:0.900194\n",
      "[57]\ttrain-auc:0.979293\tvalid-auc:0.900065\n",
      "[58]\ttrain-auc:0.979831\tvalid-auc:0.900047\n",
      "[59]\ttrain-auc:0.9801\tvalid-auc:0.90005\n",
      "[60]\ttrain-auc:0.980518\tvalid-auc:0.900127\n",
      "[61]\ttrain-auc:0.980783\tvalid-auc:0.899963\n",
      "[62]\ttrain-auc:0.981055\tvalid-auc:0.900013\n",
      "[63]\ttrain-auc:0.9812\tvalid-auc:0.899898\n",
      "[64]\ttrain-auc:0.981633\tvalid-auc:0.899804\n",
      "[65]\ttrain-auc:0.981859\tvalid-auc:0.899759\n",
      "[66]\ttrain-auc:0.982291\tvalid-auc:0.899575\n",
      "[67]\ttrain-auc:0.982715\tvalid-auc:0.899601\n",
      "[68]\ttrain-auc:0.983047\tvalid-auc:0.899605\n",
      "[69]\ttrain-auc:0.983263\tvalid-auc:0.899571\n",
      "[70]\ttrain-auc:0.983793\tvalid-auc:0.899608\n",
      "[71]\ttrain-auc:0.984031\tvalid-auc:0.899518\n",
      "[72]\ttrain-auc:0.984286\tvalid-auc:0.899399\n",
      "[73]\ttrain-auc:0.984541\tvalid-auc:0.899536\n",
      "[74]\ttrain-auc:0.984714\tvalid-auc:0.899594\n",
      "[75]\ttrain-auc:0.985017\tvalid-auc:0.899348\n",
      "[76]\ttrain-auc:0.985272\tvalid-auc:0.899187\n",
      "[77]\ttrain-auc:0.985599\tvalid-auc:0.899097\n",
      "[78]\ttrain-auc:0.985913\tvalid-auc:0.89921\n",
      "[79]\ttrain-auc:0.986162\tvalid-auc:0.899237\n",
      "[80]\ttrain-auc:0.986438\tvalid-auc:0.899172\n",
      "[81]\ttrain-auc:0.986833\tvalid-auc:0.899147\n",
      "[82]\ttrain-auc:0.986997\tvalid-auc:0.899308\n",
      "[83]\ttrain-auc:0.987217\tvalid-auc:0.899442\n",
      "[84]\ttrain-auc:0.987534\tvalid-auc:0.899598\n",
      "[85]\ttrain-auc:0.987709\tvalid-auc:0.899649\n",
      "[86]\ttrain-auc:0.987905\tvalid-auc:0.899643\n",
      "[87]\ttrain-auc:0.988244\tvalid-auc:0.899762\n",
      "[88]\ttrain-auc:0.98855\tvalid-auc:0.899776\n",
      "Stopping. Best iteration:\n",
      "[38]\ttrain-auc:0.972148\tvalid-auc:0.901386\n",
      "\n"
     ]
    },
    {
     "name": "stderr",
     "output_type": "stream",
     "text": [
      "C:\\ProgramData\\Anaconda3\\lib\\site-packages\\mlcrate\\backend.py:7: UserWarning: Timer.format_elapsed() has been deprecated in favour of Timer.fsince() and will be removed soon\n",
      "  warn(message)\n"
     ]
    },
    {
     "name": "stdout",
     "output_type": "stream",
     "text": [
      "[mlcrate] Finished training fold 5 - took 17s - running score 0.9044425\n",
      "[mlcrate] Running fold 6, 46980 train samples, 7828 validation samples\n",
      "[0]\ttrain-auc:0.895268\tvalid-auc:0.871597\n",
      "Multiple eval metrics have been passed: 'valid-auc' will be used for early stopping.\n",
      "\n",
      "Will train until valid-auc hasn't improved in 50 rounds.\n",
      "[1]\ttrain-auc:0.919045\tvalid-auc:0.884449\n",
      "[2]\ttrain-auc:0.927116\tvalid-auc:0.891478\n",
      "[3]\ttrain-auc:0.930787\tvalid-auc:0.892921\n",
      "[4]\ttrain-auc:0.938608\tvalid-auc:0.89702\n",
      "[5]\ttrain-auc:0.94363\tvalid-auc:0.899123\n",
      "[6]\ttrain-auc:0.946251\tvalid-auc:0.899803\n",
      "[7]\ttrain-auc:0.948188\tvalid-auc:0.900711\n",
      "[8]\ttrain-auc:0.949663\tvalid-auc:0.901896\n",
      "[9]\ttrain-auc:0.950772\tvalid-auc:0.902318\n",
      "[10]\ttrain-auc:0.952315\tvalid-auc:0.902608\n",
      "[11]\ttrain-auc:0.953338\tvalid-auc:0.903006\n",
      "[12]\ttrain-auc:0.953595\tvalid-auc:0.904083\n",
      "[13]\ttrain-auc:0.954849\tvalid-auc:0.90444\n",
      "[14]\ttrain-auc:0.955655\tvalid-auc:0.904791\n",
      "[15]\ttrain-auc:0.956714\tvalid-auc:0.90501\n",
      "[16]\ttrain-auc:0.957824\tvalid-auc:0.905546\n",
      "[17]\ttrain-auc:0.959311\tvalid-auc:0.9057\n",
      "[18]\ttrain-auc:0.960434\tvalid-auc:0.905674\n",
      "[19]\ttrain-auc:0.960502\tvalid-auc:0.905962\n",
      "[20]\ttrain-auc:0.961088\tvalid-auc:0.906461\n",
      "[21]\ttrain-auc:0.962205\tvalid-auc:0.906595\n",
      "[22]\ttrain-auc:0.963045\tvalid-auc:0.907103\n",
      "[23]\ttrain-auc:0.963811\tvalid-auc:0.90727\n",
      "[24]\ttrain-auc:0.964482\tvalid-auc:0.907004\n",
      "[25]\ttrain-auc:0.965094\tvalid-auc:0.907554\n",
      "[26]\ttrain-auc:0.965833\tvalid-auc:0.907626\n",
      "[27]\ttrain-auc:0.966209\tvalid-auc:0.90801\n",
      "[28]\ttrain-auc:0.96659\tvalid-auc:0.907568\n",
      "[29]\ttrain-auc:0.967111\tvalid-auc:0.907396\n",
      "[30]\ttrain-auc:0.967425\tvalid-auc:0.907542\n",
      "[31]\ttrain-auc:0.968087\tvalid-auc:0.90715\n",
      "[32]\ttrain-auc:0.968734\tvalid-auc:0.907327\n",
      "[33]\ttrain-auc:0.969258\tvalid-auc:0.907302\n",
      "[34]\ttrain-auc:0.969645\tvalid-auc:0.907351\n",
      "[35]\ttrain-auc:0.970403\tvalid-auc:0.907603\n",
      "[36]\ttrain-auc:0.970672\tvalid-auc:0.907438\n",
      "[37]\ttrain-auc:0.97086\tvalid-auc:0.907625\n",
      "[38]\ttrain-auc:0.971258\tvalid-auc:0.907696\n",
      "[39]\ttrain-auc:0.971889\tvalid-auc:0.907306\n",
      "[40]\ttrain-auc:0.972372\tvalid-auc:0.907192\n",
      "[41]\ttrain-auc:0.972899\tvalid-auc:0.907139\n",
      "[42]\ttrain-auc:0.973361\tvalid-auc:0.90639\n",
      "[43]\ttrain-auc:0.974107\tvalid-auc:0.906606\n",
      "[44]\ttrain-auc:0.974945\tvalid-auc:0.90665\n",
      "[45]\ttrain-auc:0.975523\tvalid-auc:0.906812\n",
      "[46]\ttrain-auc:0.975792\tvalid-auc:0.906771\n",
      "[47]\ttrain-auc:0.976222\tvalid-auc:0.907005\n",
      "[48]\ttrain-auc:0.976621\tvalid-auc:0.907062\n",
      "[49]\ttrain-auc:0.977217\tvalid-auc:0.907024\n",
      "[50]\ttrain-auc:0.977716\tvalid-auc:0.90703\n",
      "[51]\ttrain-auc:0.977856\tvalid-auc:0.90691\n",
      "[52]\ttrain-auc:0.978046\tvalid-auc:0.906989\n",
      "[53]\ttrain-auc:0.978405\tvalid-auc:0.906823\n",
      "[54]\ttrain-auc:0.978695\tvalid-auc:0.906696\n",
      "[55]\ttrain-auc:0.979204\tvalid-auc:0.906637\n",
      "[56]\ttrain-auc:0.979608\tvalid-auc:0.906856\n",
      "[57]\ttrain-auc:0.979989\tvalid-auc:0.90688\n",
      "[58]\ttrain-auc:0.980536\tvalid-auc:0.906838\n",
      "[59]\ttrain-auc:0.980927\tvalid-auc:0.906665\n",
      "[60]\ttrain-auc:0.981252\tvalid-auc:0.906761\n",
      "[61]\ttrain-auc:0.981676\tvalid-auc:0.906882\n",
      "[62]\ttrain-auc:0.981863\tvalid-auc:0.906897\n",
      "[63]\ttrain-auc:0.982059\tvalid-auc:0.907105\n",
      "[64]\ttrain-auc:0.982322\tvalid-auc:0.907308\n",
      "[65]\ttrain-auc:0.982701\tvalid-auc:0.907286\n",
      "[66]\ttrain-auc:0.983035\tvalid-auc:0.907082\n",
      "[67]\ttrain-auc:0.983259\tvalid-auc:0.90723\n",
      "[68]\ttrain-auc:0.983616\tvalid-auc:0.907152\n",
      "[69]\ttrain-auc:0.983926\tvalid-auc:0.907155\n",
      "[70]\ttrain-auc:0.984353\tvalid-auc:0.907332\n",
      "[71]\ttrain-auc:0.984581\tvalid-auc:0.907329\n",
      "[72]\ttrain-auc:0.98484\tvalid-auc:0.907434\n",
      "[73]\ttrain-auc:0.985125\tvalid-auc:0.907511\n",
      "[74]\ttrain-auc:0.985368\tvalid-auc:0.9074\n",
      "[75]\ttrain-auc:0.985533\tvalid-auc:0.90758\n",
      "[76]\ttrain-auc:0.985712\tvalid-auc:0.907485\n",
      "[77]\ttrain-auc:0.986053\tvalid-auc:0.907671\n",
      "Stopping. Best iteration:\n",
      "[27]\ttrain-auc:0.966209\tvalid-auc:0.90801\n",
      "\n"
     ]
    },
    {
     "name": "stderr",
     "output_type": "stream",
     "text": [
      "C:\\ProgramData\\Anaconda3\\lib\\site-packages\\mlcrate\\backend.py:7: UserWarning: Timer.format_elapsed() has been deprecated in favour of Timer.fsince() and will be removed soon\n",
      "  warn(message)\n"
     ]
    },
    {
     "name": "stdout",
     "output_type": "stream",
     "text": [
      "[mlcrate] Finished training fold 6 - took 15s - running score 0.9049521428571429\n"
     ]
    },
    {
     "name": "stderr",
     "output_type": "stream",
     "text": [
      "C:\\ProgramData\\Anaconda3\\lib\\site-packages\\mlcrate\\backend.py:7: UserWarning: Timer.format_elapsed() has been deprecated in favour of Timer.fsince() and will be removed soon\n",
      "  warn(message)\n"
     ]
    },
    {
     "name": "stdout",
     "output_type": "stream",
     "text": [
      "[mlcrate] Finished training 7 XGBoost models, took 2m21s\n"
     ]
    }
   ],
   "source": [
    "model, p_train, p_test = mlcrate.xgb.train_kfold(params, train_all, target, test_all, folds = 7, stratify=target)"
   ]
  },
  {
   "cell_type": "code",
   "execution_count": 34,
   "metadata": {
    "ExecuteTime": {
     "end_time": "2018-09-14T14:17:09.690791Z",
     "start_time": "2018-09-14T14:16:02.020172Z"
    },
    "hidden": true
   },
   "outputs": [
    {
     "name": "stderr",
     "output_type": "stream",
     "text": [
      "C:\\ProgramData\\Anaconda3\\lib\\site-packages\\sklearn\\metrics\\classification.py:538: RuntimeWarning: invalid value encountered in double_scalars\n",
      "  mcc = cov_ytyp / np.sqrt(cov_ytyt * cov_ypyp)\n"
     ]
    },
    {
     "name": "stdout",
     "output_type": "stream",
     "text": [
      "Best score:  0.50661  @ threshold  0.617861\n"
     ]
    }
   ],
   "source": [
    "import numpy as np\n",
    "from sklearn.metrics import matthews_corrcoef\n",
    "\n",
    "def find_matthews_threshold(p_valid, y_valid, try_all=False, verbose=False):\n",
    "    p_valid, y_valid = np.array(p_valid), np.array(y_valid)\n",
    "\n",
    "    best = 0\n",
    "    best_score = -2\n",
    "    totry = np.arange(0,1,0.01) if try_all is False else np.unique(p_valid)\n",
    "    for t in totry:\n",
    "        score = matthews_corrcoef(y_valid, p_valid > t)\n",
    "        if score > best_score:\n",
    "            best_score = score\n",
    "            best = t\n",
    "    if verbose is True: \n",
    "        print('Best score: ', round(best_score, 5), ' @ threshold ', best)\n",
    "\n",
    "    return best\n",
    "\n",
    "def best_threshold_submission(p_valid, y_valid, p_test, try_all=False, verbose=False):\n",
    "    p_test = np.array(p_test)\n",
    "    thresh = find_matthews_threshold(p_valid, y_valid, try_all, verbose)\n",
    "    return p_test > thresh\n",
    "\n",
    "submission_values = best_threshold_submission(val_preds, y_valid, p_test, True, True)"
   ]
  },
  {
   "cell_type": "code",
   "execution_count": 35,
   "metadata": {
    "ExecuteTime": {
     "end_time": "2018-09-14T14:17:09.939185Z",
     "start_time": "2018-09-14T14:17:09.698789Z"
    },
    "hidden": true
   },
   "outputs": [
    {
     "data": {
      "text/plain": [
       "array([0, 0, 0, ..., 0, 0, 1])"
      ]
     },
     "execution_count": 35,
     "metadata": {},
     "output_type": "execute_result"
    }
   ],
   "source": [
    "submission_values*1"
   ]
  },
  {
   "cell_type": "code",
   "execution_count": 36,
   "metadata": {
    "ExecuteTime": {
     "end_time": "2018-09-14T14:17:10.171016Z",
     "start_time": "2018-09-14T14:17:09.939185Z"
    },
    "hidden": true
   },
   "outputs": [],
   "source": [
    "sample = pd.read_csv('sample_submission.csv')"
   ]
  },
  {
   "cell_type": "code",
   "execution_count": 48,
   "metadata": {
    "ExecuteTime": {
     "end_time": "2018-09-14T14:22:04.550148Z",
     "start_time": "2018-09-14T14:22:04.190152Z"
    },
    "hidden": true
   },
   "outputs": [],
   "source": [
    "def get_xgb_imp(xgb, feat_names):\n",
    "    imp_vals = xgb.get_fscore()\n",
    "    feats_imp = pd.DataFrame(imp_vals,index=np.arange(2)).T\n",
    "    feats_imp.iloc[:,0]= feats_imp.index    \n",
    "    feats_imp.columns=['feature','importance']\n",
    "    feats_imp.sort_values('importance',inplace=True,ascending=False)\n",
    "    feats_imp.reset_index(drop=True,inplace=True)\n",
    "    return feats_imp\n",
    "\n",
    "feature_importance_df = get_xgb_imp(model[3], feat_names=[])"
   ]
  },
  {
   "cell_type": "code",
   "execution_count": null,
   "metadata": {
    "hidden": true
   },
   "outputs": [],
   "source": [
    "# model, p_train, p_test = mlcrate.xgb.train_kfold(params, train_all, target, test_all, folds = 7, stratify=target)"
   ]
  },
  {
   "cell_type": "code",
   "execution_count": 51,
   "metadata": {
    "ExecuteTime": {
     "end_time": "2018-09-14T14:23:04.825976Z",
     "start_time": "2018-09-14T14:23:04.565426Z"
    },
    "hidden": true
   },
   "outputs": [],
   "source": [
    "predictions_test = submission_values#np.where(p_test>=0.75, 1,0)\n",
    "sample['is_promoted'] = predictions_test\n",
    "sample.to_csv('preds_2_xgb_with_dummies_optimised_version.csv', index=False)"
   ]
  },
  {
   "cell_type": "code",
   "execution_count": 52,
   "metadata": {
    "ExecuteTime": {
     "end_time": "2018-09-14T14:24:10.193356Z",
     "start_time": "2018-09-14T14:24:09.640296Z"
    },
    "hidden": true
   },
   "outputs": [
    {
     "data": {
      "text/plain": [
       "['xgb_model_1']"
      ]
     },
     "execution_count": 52,
     "metadata": {},
     "output_type": "execute_result"
    }
   ],
   "source": [
    "import joblib\n",
    "#save model\n",
    "joblib.dump(model[0], 'xgb_model_1')"
   ]
  },
  {
   "cell_type": "code",
   "execution_count": 250,
   "metadata": {
    "ExecuteTime": {
     "end_time": "2018-09-14T09:01:41.925699Z",
     "start_time": "2018-09-14T09:01:41.130162Z"
    },
    "hidden": true
   },
   "outputs": [],
   "source": [
    "train_all, target, test_all = np.save('train_all.npy',np.hstack((train_all, pd.get_dummies(df_raw_cat)))), np.save('target.npy',target), np.save('test_all.npy',np.hstack((test_all,pd.get_dummies(df_test_cat))))"
   ]
  }
 ],
 "metadata": {
  "kernelspec": {
   "display_name": "Python 3",
   "language": "python",
   "name": "python3"
  },
  "language_info": {
   "codemirror_mode": {
    "name": "ipython",
    "version": 3
   },
   "file_extension": ".py",
   "mimetype": "text/x-python",
   "name": "python",
   "nbconvert_exporter": "python",
   "pygments_lexer": "ipython3",
   "version": "3.6.3"
  },
  "nbTranslate": {
   "displayLangs": [
    "*"
   ],
   "hotkey": "alt-t",
   "langInMainMenu": true,
   "sourceLang": "en",
   "targetLang": "fr",
   "useGoogleTranslate": true
  },
  "toc": {
   "base_numbering": 1,
   "nav_menu": {},
   "number_sections": true,
   "sideBar": true,
   "skip_h1_title": false,
   "title_cell": "Table of Contents",
   "title_sidebar": "Contents",
   "toc_cell": false,
   "toc_position": {},
   "toc_section_display": true,
   "toc_window_display": false
  }
 },
 "nbformat": 4,
 "nbformat_minor": 2
}
