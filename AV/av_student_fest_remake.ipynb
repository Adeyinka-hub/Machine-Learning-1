{
 "cells": [
  {
   "cell_type": "markdown",
   "metadata": {
    "heading_collapsed": true
   },
   "source": [
    "## imports"
   ]
  },
  {
   "cell_type": "code",
   "execution_count": 1,
   "metadata": {
    "ExecuteTime": {
     "end_time": "2018-05-26T06:51:15.044216Z",
     "start_time": "2018-05-26T06:51:05.960401Z"
    },
    "hidden": true
   },
   "outputs": [],
   "source": [
    "%load_ext autoreload\n",
    "%autoreload 2\n",
    "%matplotlib inline"
   ]
  },
  {
   "cell_type": "code",
   "execution_count": 3,
   "metadata": {
    "ExecuteTime": {
     "end_time": "2018-05-26T06:52:24.511630Z",
     "start_time": "2018-05-26T06:52:24.202625Z"
    },
    "hidden": true
   },
   "outputs": [],
   "source": [
    "from fastai.imports import *\n",
    "from fastai.structured import *\n",
    "\n",
    "import time\n",
    "from gplearn.genetic import SymbolicTransformer\n",
    "from pandas_summary import DataFrameSummary\n",
    "from sklearn.ensemble import RandomForestRegressor, RandomForestClassifier\n",
    "from IPython.display import display\n",
    "import xgboost as xgb\n",
    "import lightgbm as lgb\n",
    "from catboost import CatBoostClassifier\n",
    "import gc\n",
    "from scipy.cluster import hierarchy as hc\n",
    "from sklearn import metrics\n",
    "from sklearn.preprocessing import StandardScaler\n",
    "from sklearn.model_selection import train_test_split\n",
    "from sklearn.metrics import mean_squared_error\n",
    "from sklearn.metrics import  roc_auc_score, log_loss\n",
    "from sklearn.model_selection import StratifiedKFold\n",
    "\n",
    "def ignore_warn(*args, **kwargs):\n",
    "    pass\n",
    "warnings.warn = ignore_warn\n",
    "\n",
    "#will ignore all warning from sklearn, seaborn etc.."
   ]
  },
  {
   "cell_type": "code",
   "execution_count": 4,
   "metadata": {
    "ExecuteTime": {
     "end_time": "2018-05-26T06:52:25.448127Z",
     "start_time": "2018-05-26T06:52:25.170481Z"
    },
    "hidden": true
   },
   "outputs": [
    {
     "data": {
      "text/plain": [
       "'D:\\\\Github\\\\fastai\\\\courses\\\\ml1'"
      ]
     },
     "execution_count": 4,
     "metadata": {},
     "output_type": "execute_result"
    }
   ],
   "source": [
    "PATH = os.getcwd();\n",
    "PATH"
   ]
  },
  {
   "cell_type": "code",
   "execution_count": 32,
   "metadata": {
    "ExecuteTime": {
     "end_time": "2018-05-26T06:57:32.361781Z",
     "start_time": "2018-05-26T06:57:29.842863Z"
    },
    "hidden": true
   },
   "outputs": [],
   "source": [
    "df_raw  = pd.read_csv(f'{PATH}\\\\AV_Stud\\\\train_HK6lq50_encoded_v3_250518.csv', low_memory= False)\n",
    "df_test = pd.read_csv(f'{PATH}\\\\AV_Stud\\\\test_2nAIblo_encoded_v3_250518.csv',  low_memory=False)"
   ]
  },
  {
   "cell_type": "markdown",
   "metadata": {
    "heading_collapsed": true
   },
   "source": [
    "## init fe"
   ]
  },
  {
   "cell_type": "code",
   "execution_count": 5,
   "metadata": {
    "ExecuteTime": {
     "end_time": "2018-05-25T13:42:24.542252Z",
     "start_time": "2018-05-25T13:42:24.232486Z"
    },
    "hidden": true
   },
   "outputs": [
    {
     "data": {
      "text/html": [
       "<div>\n",
       "<style>\n",
       "    .dataframe thead tr:only-child th {\n",
       "        text-align: right;\n",
       "    }\n",
       "\n",
       "    .dataframe thead th {\n",
       "        text-align: left;\n",
       "    }\n",
       "\n",
       "    .dataframe tbody tr th {\n",
       "        vertical-align: top;\n",
       "    }\n",
       "</style>\n",
       "<table border=\"1\" class=\"dataframe\">\n",
       "  <thead>\n",
       "    <tr style=\"text-align: right;\">\n",
       "      <th></th>\n",
       "      <th>id</th>\n",
       "      <th>program_id</th>\n",
       "      <th>program_type</th>\n",
       "      <th>program_duration</th>\n",
       "      <th>test_id</th>\n",
       "      <th>test_type</th>\n",
       "      <th>difficulty_level</th>\n",
       "      <th>trainee_id</th>\n",
       "      <th>gender</th>\n",
       "      <th>education</th>\n",
       "      <th>city_tier</th>\n",
       "      <th>age</th>\n",
       "      <th>total_programs_enrolled</th>\n",
       "      <th>is_handicapped</th>\n",
       "      <th>trainee_engagement_rating</th>\n",
       "      <th>is_pass</th>\n",
       "    </tr>\n",
       "  </thead>\n",
       "  <tbody>\n",
       "    <tr>\n",
       "      <th>0</th>\n",
       "      <td>9389_150</td>\n",
       "      <td>Y_1</td>\n",
       "      <td>Y</td>\n",
       "      <td>136</td>\n",
       "      <td>150</td>\n",
       "      <td>offline</td>\n",
       "      <td>intermediate</td>\n",
       "      <td>9389</td>\n",
       "      <td>M</td>\n",
       "      <td>Matriculation</td>\n",
       "      <td>3</td>\n",
       "      <td>24.0</td>\n",
       "      <td>5</td>\n",
       "      <td>N</td>\n",
       "      <td>1.0</td>\n",
       "      <td>0</td>\n",
       "    </tr>\n",
       "    <tr>\n",
       "      <th>1</th>\n",
       "      <td>16523_44</td>\n",
       "      <td>T_1</td>\n",
       "      <td>T</td>\n",
       "      <td>131</td>\n",
       "      <td>44</td>\n",
       "      <td>offline</td>\n",
       "      <td>easy</td>\n",
       "      <td>16523</td>\n",
       "      <td>F</td>\n",
       "      <td>High School Diploma</td>\n",
       "      <td>4</td>\n",
       "      <td>26.0</td>\n",
       "      <td>2</td>\n",
       "      <td>N</td>\n",
       "      <td>3.0</td>\n",
       "      <td>1</td>\n",
       "    </tr>\n",
       "  </tbody>\n",
       "</table>\n",
       "</div>"
      ],
      "text/plain": [
       "         id program_id program_type  program_duration  test_id test_type  \\\n",
       "0  9389_150        Y_1            Y               136      150   offline   \n",
       "1  16523_44        T_1            T               131       44   offline   \n",
       "\n",
       "  difficulty_level  trainee_id gender            education  city_tier   age  \\\n",
       "0     intermediate        9389      M        Matriculation          3  24.0   \n",
       "1             easy       16523      F  High School Diploma          4  26.0   \n",
       "\n",
       "   total_programs_enrolled is_handicapped  trainee_engagement_rating  is_pass  \n",
       "0                        5              N                        1.0        0  \n",
       "1                        2              N                        3.0        1  "
      ]
     },
     "execution_count": 5,
     "metadata": {},
     "output_type": "execute_result"
    }
   ],
   "source": [
    "df_raw.head(2)"
   ]
  },
  {
   "cell_type": "code",
   "execution_count": 6,
   "metadata": {
    "ExecuteTime": {
     "end_time": "2018-05-25T13:43:17.610487Z",
     "start_time": "2018-05-25T13:43:17.314291Z"
    },
    "hidden": true
   },
   "outputs": [],
   "source": [
    "#dropping id columns\n",
    "df_raw.drop(['id','trainee_id'], inplace = True, axis =1)\n",
    "df_test.drop(['id', 'trainee_id'], inplace = True, axis =1);\n",
    "\n",
    "target = df_raw.is_pass;\n",
    "df_raw.drop('is_pass', axis =1, inplace= True)\n",
    "\n",
    "df_raw['age'].fillna(value = 45., inplace=True)\n",
    "df_raw['trainee_engagement_rating'].fillna(value = 1., inplace=True)"
   ]
  },
  {
   "cell_type": "code",
   "execution_count": 34,
   "metadata": {
    "ExecuteTime": {
     "end_time": "2018-05-25T13:53:10.514833Z",
     "start_time": "2018-05-25T13:53:10.256327Z"
    },
    "hidden": true
   },
   "outputs": [
    {
     "data": {
      "text/html": [
       "<div>\n",
       "<style>\n",
       "    .dataframe thead tr:only-child th {\n",
       "        text-align: right;\n",
       "    }\n",
       "\n",
       "    .dataframe thead th {\n",
       "        text-align: left;\n",
       "    }\n",
       "\n",
       "    .dataframe tbody tr th {\n",
       "        vertical-align: top;\n",
       "    }\n",
       "</style>\n",
       "<table border=\"1\" class=\"dataframe\">\n",
       "  <thead>\n",
       "    <tr style=\"text-align: right;\">\n",
       "      <th></th>\n",
       "      <th>program_id</th>\n",
       "      <th>program_type</th>\n",
       "      <th>program_duration</th>\n",
       "      <th>test_id</th>\n",
       "      <th>test_type</th>\n",
       "      <th>difficulty_level</th>\n",
       "      <th>gender</th>\n",
       "      <th>education</th>\n",
       "      <th>city_tier</th>\n",
       "      <th>age</th>\n",
       "      <th>total_programs_enrolled</th>\n",
       "      <th>is_handicapped</th>\n",
       "      <th>trainee_engagement_rating</th>\n",
       "    </tr>\n",
       "  </thead>\n",
       "  <tbody>\n",
       "    <tr>\n",
       "      <th>0</th>\n",
       "      <td>Y_1</td>\n",
       "      <td>Y</td>\n",
       "      <td>136</td>\n",
       "      <td>150</td>\n",
       "      <td>offline</td>\n",
       "      <td>intermediate</td>\n",
       "      <td>M</td>\n",
       "      <td>Matriculation</td>\n",
       "      <td>3</td>\n",
       "      <td>24.0</td>\n",
       "      <td>5</td>\n",
       "      <td>N</td>\n",
       "      <td>1</td>\n",
       "    </tr>\n",
       "    <tr>\n",
       "      <th>1</th>\n",
       "      <td>T_1</td>\n",
       "      <td>T</td>\n",
       "      <td>131</td>\n",
       "      <td>44</td>\n",
       "      <td>offline</td>\n",
       "      <td>easy</td>\n",
       "      <td>F</td>\n",
       "      <td>High School Diploma</td>\n",
       "      <td>4</td>\n",
       "      <td>26.0</td>\n",
       "      <td>2</td>\n",
       "      <td>N</td>\n",
       "      <td>3</td>\n",
       "    </tr>\n",
       "    <tr>\n",
       "      <th>2</th>\n",
       "      <td>Z_2</td>\n",
       "      <td>Z</td>\n",
       "      <td>120</td>\n",
       "      <td>178</td>\n",
       "      <td>online</td>\n",
       "      <td>easy</td>\n",
       "      <td>M</td>\n",
       "      <td>Matriculation</td>\n",
       "      <td>1</td>\n",
       "      <td>40.0</td>\n",
       "      <td>1</td>\n",
       "      <td>N</td>\n",
       "      <td>2</td>\n",
       "    </tr>\n",
       "  </tbody>\n",
       "</table>\n",
       "</div>"
      ],
      "text/plain": [
       "  program_id program_type  program_duration  test_id test_type  \\\n",
       "0        Y_1            Y               136      150   offline   \n",
       "1        T_1            T               131       44   offline   \n",
       "2        Z_2            Z               120      178    online   \n",
       "\n",
       "  difficulty_level gender            education  city_tier   age  \\\n",
       "0     intermediate      M        Matriculation          3  24.0   \n",
       "1             easy      F  High School Diploma          4  26.0   \n",
       "2             easy      M        Matriculation          1  40.0   \n",
       "\n",
       "   total_programs_enrolled is_handicapped trainee_engagement_rating  \n",
       "0                        5              N                         1  \n",
       "1                        2              N                         3  \n",
       "2                        1              N                         2  "
      ]
     },
     "execution_count": 34,
     "metadata": {},
     "output_type": "execute_result"
    }
   ],
   "source": [
    "df_raw.head(3)"
   ]
  },
  {
   "cell_type": "code",
   "execution_count": 38,
   "metadata": {
    "ExecuteTime": {
     "end_time": "2018-05-25T14:02:41.578973Z",
     "start_time": "2018-05-25T14:02:39.783640Z"
    },
    "hidden": true
   },
   "outputs": [],
   "source": [
    "#############################################################################################################\n",
    "##########################################TRAIN SET FE'S######################################################\n",
    "#############################################################################################################\n",
    "\n",
    "df_raw['program_type__program_duration'] = df_raw.program_type.str.cat(df_raw.program_duration.astype(str),sep='_')\n",
    "df_raw['program_type__city_tier'] = df_raw.program_type.str.cat(df_raw.city_tier.astype(str),sep='_')\n",
    "df_raw['program_type__test_type'] = df_raw.program_type.str.cat(df_raw.test_type.astype(str),sep='_')\n",
    "df_raw['program_type__difficulty_level'] = df_raw.program_type.str.cat(df_raw.difficulty_level.astype(str),sep='_')\n",
    "\n",
    "df_raw['test_id__program_duration'] = df_raw.test_id.astype(str).str.cat(df_raw.program_duration.astype(str),sep='_')\n",
    "df_raw['test_id__test_type'] = df_raw.test_id.astype(str).str.cat(df_raw.test_type.astype(str),sep='_')\n",
    "df_raw['test_id_test_type__difficulty_level'] = df_raw.test_id__test_type.str.cat(df_raw.difficulty_level.astype(str),sep='_')\n",
    "df_raw['test_type__difficulty_level'] = df_raw.test_type.str.cat(df_raw.difficulty_level.astype(str),sep='_')\n",
    "\n",
    "df_raw['education__gender'] = df_raw.education.str.cat(df_raw.gender.astype(str),sep='_')\n",
    "df_raw['education__total_programs_enrolled'] = df_raw.education.str.cat(df_raw.total_programs_enrolled.astype(str),sep='_')\n",
    "df_raw['gender__city_tier'] = df_raw.gender.str.cat(df_raw.city_tier.astype(str),sep='_')\n",
    "df_raw['gender__is_handicapped'] = df_raw.gender.str.cat(df_raw.is_handicapped.astype(str),sep='_')\n",
    "df_raw['education__city_tier'] = df_raw.education.str.cat(df_raw.city_tier.astype(str),sep='_')\n",
    "\n",
    "df_raw['program_duration_months'] = df_raw['program_duration'] / (7.)\n",
    "df_raw['program_duration_years'] = df_raw['program_duration'] / (365.)\n",
    "df_raw['program_duration_avg'] = df_raw['program_duration']/df_raw['total_programs_enrolled']\n",
    "\n",
    "df_raw['is_age_39'] = np.zeros(df_raw.shape[0])\n",
    "my_query = df_raw.query('age<=39.').index\n",
    "df_raw.iloc[my_query, -1] = 1\n",
    "\n",
    "df_raw['is_age_39_45'] = np.zeros(df_raw.shape[0])\n",
    "my_query = df_raw.query('age>=39. & age<=45.').index\n",
    "df_raw.iloc[my_query, -1] = 1\n",
    "\n",
    "df_raw['is_age_45'] = np.zeros(df_raw.shape[0])\n",
    "my_query = df_raw.query('age>=45.').index\n",
    "df_raw.iloc[my_query, -1] = 1\n",
    "\n",
    "###################young age (13–30), middle age (31–50) and senior age (51–70)########################\n",
    "\n",
    "df_raw['age_group'] = np.zeros(df_raw.shape[0])\n",
    "\n",
    "my_query = df_raw.query('age>=13. & age<=30.').index\n",
    "df_raw.iloc[my_query, -1] = 'young'\n",
    "\n",
    "my_query = df_raw.query('age>=31. & age<=50.').index\n",
    "df_raw.iloc[my_query, -1] = 'middle_aged'\n",
    "\n",
    "my_query = df_raw.query('age>=51. & age<=70.').index\n",
    "df_raw.iloc[my_query, -1] = 'senior_aged'\n",
    "\n",
    "df_raw['program_level'] = df_raw['program_id'].str.split(pat='_', expand=True).get(1).astype(object)\n",
    "\n",
    "#df_raw['is_pass'] = target\n",
    "#df_raw.drop('is_pass', axis = 1, inplace = True);\n",
    "\n",
    "#############################################################################################################\n",
    "##########################################TEST SET FE'S######################################################\n",
    "#############################################################################################################\n",
    "\n",
    "df_test['program_type__program_duration'] = df_test.program_type.str.cat(df_test.program_duration.astype(str),sep='_')\n",
    "df_test['program_type__city_tier'] = df_test.program_type.str.cat(df_test.city_tier.astype(str),sep='_')\n",
    "df_test['program_type__test_type'] = df_test.program_type.str.cat(df_test.test_type.astype(str),sep='_')\n",
    "df_test['program_type__difficulty_level'] = df_test.program_type.str.cat(df_test.difficulty_level.astype(str),sep='_')\n",
    "\n",
    "df_test['test_id__program_duration'] = df_test.test_id.astype(str).str.cat(df_test.program_duration.astype(str),sep='_')\n",
    "df_test['test_id__test_type'] = df_test.test_id.astype(str).str.cat(df_test.test_type.astype(str),sep='_')\n",
    "df_test['test_id_test_type__difficulty_level'] = df_test.test_id__test_type.str.cat(df_test.difficulty_level.astype(str),sep='_')\n",
    "df_test['test_type__difficulty_level'] = df_test.test_type.str.cat(df_test.difficulty_level.astype(str),sep='_')\n",
    "\n",
    "df_test['education__gender'] = df_test.education.str.cat(df_test.gender.astype(str),sep='_')\n",
    "df_test['education__total_programs_enrolled'] = df_test.education.str.cat(df_test.total_programs_enrolled.astype(str),sep='_')\n",
    "df_test['gender__city_tier'] = df_test.gender.str.cat(df_test.city_tier.astype(str),sep='_')\n",
    "df_test['gender__is_handicapped'] = df_test.gender.str.cat(df_test.is_handicapped.astype(str),sep='_')\n",
    "df_test['education__city_tier'] = df_test.education.str.cat(df_test.city_tier.astype(str),sep='_')\n",
    "\n",
    "df_test['program_duration_months'] = df_test['program_duration'] / (7.)\n",
    "df_test['program_duration_years'] = df_test['program_duration'] / (365.)\n",
    "df_test['program_duration_avg'] = df_test['program_duration']/df_test['total_programs_enrolled']\n",
    "\n",
    "df_test['is_age_39'] = np.zeros(df_test.shape[0])\n",
    "my_query = df_test.query('age<=39.').index\n",
    "df_test.iloc[my_query, -1] = 1\n",
    "\n",
    "df_test['is_age_39_45'] = np.zeros(df_test.shape[0])\n",
    "my_query = df_test.query('age>=39. & age<=45.').index\n",
    "df_test.iloc[my_query, -1] = 1\n",
    "\n",
    "df_test['is_age_45'] = np.zeros(df_test.shape[0])\n",
    "my_query = df_test.query('age>=45.').index\n",
    "df_test.iloc[my_query, -1] = 1\n",
    "\n",
    "###################young age (13–30), middle age (31–50) and senior age (51–70)########################\n",
    "\n",
    "df_test['age_group'] = np.zeros(df_test.shape[0])\n",
    "\n",
    "my_query = df_test.query('age>=13. & age<=30.').index\n",
    "df_test.iloc[my_query, -1] = 'young'\n",
    "\n",
    "my_query = df_test.query('age>=31. & age<=50.').index\n",
    "df_test.iloc[my_query, -1] = 'middle_aged'\n",
    "\n",
    "my_query = df_test.query('age>=51. & age<=70.').index\n",
    "df_test.iloc[my_query, -1] = 'senior_aged'\n",
    "\n",
    "df_test['program_level'] = df_test['program_id'].str.split(pat='_', expand=True).get(1).astype(object)\n",
    "\n",
    "########################################### Dropping few cols ##############################################3\n",
    "df_raw.drop('program_id', inplace=True, axis =1)\n",
    "df_test.drop('program_id', inplace=True, axis =1)"
   ]
  },
  {
   "cell_type": "code",
   "execution_count": 83,
   "metadata": {
    "ExecuteTime": {
     "end_time": "2018-05-25T14:29:52.254170Z",
     "start_time": "2018-05-25T14:29:51.961740Z"
    },
    "hidden": true
   },
   "outputs": [
    {
     "data": {
      "text/plain": [
       "set()"
      ]
     },
     "execution_count": 83,
     "metadata": {},
     "output_type": "execute_result"
    }
   ],
   "source": [
    "##################### sanity check  should be empty #####################\n",
    "set(df_raw.columns) - set(df_test.columns)"
   ]
  },
  {
   "cell_type": "code",
   "execution_count": 84,
   "metadata": {
    "ExecuteTime": {
     "end_time": "2018-05-25T14:29:54.362839Z",
     "start_time": "2018-05-25T14:29:54.013764Z"
    },
    "hidden": true
   },
   "outputs": [],
   "source": [
    "# This way we have randomness and are able to reproduce the behaviour within this cell.\n",
    "np.random.seed(13)\n",
    "from sklearn.model_selection import KFold\n",
    "\n",
    "def impact_coding(data, feature, target='y'):\n",
    "    '''\n",
    "    In this implementation we get the values and the dictionary as two different steps.\n",
    "    This is just because initially we were ignoring the dictionary as a result variable.\n",
    "    \n",
    "    In this implementation the KFolds use shuffling. If you want reproducibility the cv \n",
    "    could be moved to a parameter.\n",
    "    '''\n",
    "    n_folds = 10\n",
    "    n_inner_folds = 7\n",
    "    impact_coded = pd.Series()\n",
    "    \n",
    "    oof_default_mean = data[target].mean() # Gobal mean to use by default (you could further tune this)\n",
    "    kf = KFold(n_splits=n_folds, shuffle=True)\n",
    "    oof_mean_cv = pd.DataFrame()\n",
    "    split = 0\n",
    "    for infold, oof in kf.split(data[feature]):\n",
    "            impact_coded_cv = pd.Series()\n",
    "            kf_inner = KFold(n_splits=n_inner_folds, shuffle=True)\n",
    "            inner_split = 0\n",
    "            inner_oof_mean_cv = pd.DataFrame()\n",
    "            oof_default_inner_mean = data.iloc[infold][target].mean()\n",
    "            for infold_inner, oof_inner in kf_inner.split(data.iloc[infold]):\n",
    "                # The mean to apply to the inner oof split (a 1/n_folds % based on the rest)\n",
    "                oof_mean = data.iloc[infold_inner].groupby(by=feature)[target].mean()\n",
    "                impact_coded_cv = impact_coded_cv.append(data.iloc[infold].apply(\n",
    "                            lambda x: oof_mean[x[feature]]\n",
    "                                      if x[feature] in oof_mean.index\n",
    "                                      else oof_default_inner_mean\n",
    "                            , axis=1))\n",
    "\n",
    "                # Also populate mapping (this has all group -> mean for all inner CV folds)\n",
    "                inner_oof_mean_cv = inner_oof_mean_cv.join(pd.DataFrame(oof_mean), rsuffix=inner_split, how='outer')\n",
    "                inner_oof_mean_cv.fillna(value=oof_default_inner_mean, inplace=True)\n",
    "                inner_split += 1\n",
    "\n",
    "            # Also populate mapping\n",
    "            oof_mean_cv = oof_mean_cv.join(pd.DataFrame(inner_oof_mean_cv), rsuffix=split, how='outer')\n",
    "            oof_mean_cv.fillna(value=oof_default_mean, inplace=True)\n",
    "            split += 1\n",
    "            \n",
    "            impact_coded = impact_coded.append(data.iloc[oof].apply(\n",
    "                            lambda x: inner_oof_mean_cv.loc[x[feature]].mean()\n",
    "                                      if x[feature] in inner_oof_mean_cv.index\n",
    "                                      else oof_default_mean\n",
    "                            , axis=1))\n",
    "\n",
    "    return impact_coded, oof_mean_cv.mean(axis=1), oof_default_mean"
   ]
  },
  {
   "cell_type": "code",
   "execution_count": 85,
   "metadata": {
    "ExecuteTime": {
     "end_time": "2018-05-25T14:29:55.052558Z",
     "start_time": "2018-05-25T14:29:54.739853Z"
    },
    "hidden": true
   },
   "outputs": [
    {
     "data": {
      "text/plain": [
       "['program_type',\n",
       " 'test_type',\n",
       " 'difficulty_level',\n",
       " 'gender',\n",
       " 'education',\n",
       " 'is_handicapped',\n",
       " 'trainee_engagement_rating',\n",
       " 'program_type__program_duration',\n",
       " 'program_type__city_tier',\n",
       " 'program_type__test_type',\n",
       " 'program_type__difficulty_level',\n",
       " 'test_id__program_duration',\n",
       " 'test_id__test_type',\n",
       " 'test_id_test_type__difficulty_level',\n",
       " 'test_type__difficulty_level',\n",
       " 'education__gender',\n",
       " 'education__total_programs_enrolled',\n",
       " 'gender__city_tier',\n",
       " 'gender__is_handicapped',\n",
       " 'education__city_tier',\n",
       " 'age_group',\n",
       " 'program_level']"
      ]
     },
     "execution_count": 85,
     "metadata": {},
     "output_type": "execute_result"
    }
   ],
   "source": [
    "features = df_raw.columns\n",
    "numeric_features = []\n",
    "categorical_features = []\n",
    "\n",
    "for dtype, feature in zip(df_raw.dtypes, df_raw.columns):\n",
    "    if dtype == object:\n",
    "        categorical_features.append(feature)\n",
    "    else:\n",
    "        numeric_features.append(feature)\n",
    "categorical_features"
   ]
  },
  {
   "cell_type": "code",
   "execution_count": 86,
   "metadata": {
    "ExecuteTime": {
     "end_time": "2018-05-25T15:24:50.385791Z",
     "start_time": "2018-05-25T14:30:46.721155Z"
    },
    "hidden": true
   },
   "outputs": [
    {
     "name": "stdout",
     "output_type": "stream",
     "text": [
      "Impact coding for program_type\n",
      "Impact coding for test_type\n",
      "Impact coding for difficulty_level\n",
      "Impact coding for gender\n",
      "Impact coding for education\n",
      "Impact coding for is_handicapped\n",
      "Impact coding for trainee_engagement_rating\n",
      "Impact coding for program_type__program_duration\n",
      "Impact coding for program_type__city_tier\n",
      "Impact coding for program_type__test_type\n",
      "Impact coding for program_type__difficulty_level\n",
      "Impact coding for test_id__program_duration\n",
      "Impact coding for test_id__test_type\n",
      "Impact coding for test_id_test_type__difficulty_level\n",
      "Impact coding for test_type__difficulty_level\n",
      "Impact coding for education__gender\n",
      "Impact coding for education__total_programs_enrolled\n",
      "Impact coding for gender__city_tier\n",
      "Impact coding for gender__is_handicapped\n",
      "Impact coding for education__city_tier\n",
      "Impact coding for age_group\n",
      "Impact coding for program_level\n",
      "Wall time: 54min 3s\n"
     ]
    }
   ],
   "source": [
    "%%time\n",
    "# Apply the encoding to training and test data, and preserve the mapping\n",
    "df_raw['is_pass'] = target\n",
    "impact_coding_map = {}\n",
    "for f in categorical_features:\n",
    "    print(\"Impact coding for {}\".format(f))\n",
    "    df_raw[\"impact_encoded_{}\".format(f)], impact_coding_mapping, default_coding = impact_coding(df_raw, f,'is_pass')\n",
    "    impact_coding_map[f] = (impact_coding_mapping, default_coding)\n",
    "    mapping, default_mean = impact_coding_map[f]\n",
    "    df_test[\"impact_encoded_{}\".format(f)] = df_test.apply(lambda x: mapping[x[f]]\n",
    "                                                                         if x[f] in mapping\n",
    "                                                                         else default_mean\n",
    "                                                               , axis=1)\n",
    "df_raw.drop('is_pass', inplace=True, axis=1)"
   ]
  },
  {
   "cell_type": "code",
   "execution_count": 89,
   "metadata": {
    "ExecuteTime": {
     "end_time": "2018-05-25T15:24:57.600392Z",
     "start_time": "2018-05-25T15:24:57.424429Z"
    },
    "hidden": true
   },
   "outputs": [],
   "source": [
    "df_raw['is_pass'] = target"
   ]
  },
  {
   "cell_type": "code",
   "execution_count": 90,
   "metadata": {
    "ExecuteTime": {
     "end_time": "2018-05-25T15:25:34.089314Z",
     "start_time": "2018-05-25T15:25:25.573555Z"
    },
    "hidden": true
   },
   "outputs": [],
   "source": [
    "df_raw.to_csv(f'{PATH}\\\\AV_Stud\\\\train_HK6lq50_encoded_v3_250518.csv',index=False)\n",
    "df_test.to_csv(f'{PATH}\\\\AV_Stud\\\\test_2nAIblo_encoded_v3_250518.csv',index=False)"
   ]
  },
  {
   "cell_type": "markdown",
   "metadata": {
    "heading_collapsed": true
   },
   "source": [
    "## modelling part"
   ]
  },
  {
   "cell_type": "code",
   "execution_count": 92,
   "metadata": {
    "ExecuteTime": {
     "end_time": "2018-05-25T15:25:57.474194Z",
     "start_time": "2018-05-25T15:25:57.152503Z"
    },
    "hidden": true
   },
   "outputs": [
    {
     "data": {
      "text/plain": [
       "array([ 0,  3,  4,  5,  6, 10, 11, 12, 13, 14, 15, 16, 17, 18, 19, 20, 21, 22, 23, 24, 31, 32], dtype=int64)"
      ]
     },
     "execution_count": 92,
     "metadata": {},
     "output_type": "execute_result"
    }
   ],
   "source": [
    "categorical_features_indices = np.where(df_raw.dtypes == 'object')[0];\n",
    "df_raw.drop('is_pass',axis=1,inplace=True);\n",
    "categorical_features_indices"
   ]
  },
  {
   "cell_type": "code",
   "execution_count": 94,
   "metadata": {
    "ExecuteTime": {
     "end_time": "2018-05-25T15:35:53.393922Z",
     "start_time": "2018-05-25T15:33:13.090852Z"
    },
    "hidden": true,
    "scrolled": true
   },
   "outputs": [
    {
     "name": "stdout",
     "output_type": "stream",
     "text": [
      "0:\tlearn: 0.6867808\ttest: 0.6867312\tbest: 0.6867312 (0)\ttotal: 1.87s\tremaining: 31m 7s\n",
      "1:\tlearn: 0.6807377\ttest: 0.6808033\tbest: 0.6808033 (1)\ttotal: 2.11s\tremaining: 17m 32s\n",
      "2:\tlearn: 0.6746046\ttest: 0.6746514\tbest: 0.6746514 (2)\ttotal: 2.85s\tremaining: 15m 45s\n",
      "3:\tlearn: 0.6688808\ttest: 0.6689656\tbest: 0.6689656 (3)\ttotal: 3.01s\tremaining: 12m 30s\n",
      "4:\tlearn: 0.6638230\ttest: 0.6639022\tbest: 0.6639022 (4)\ttotal: 3.13s\tremaining: 10m 22s\n",
      "5:\tlearn: 0.6579859\ttest: 0.6579568\tbest: 0.6579568 (5)\ttotal: 3.62s\tremaining: 10m\n",
      "6:\tlearn: 0.6523715\ttest: 0.6523962\tbest: 0.6523962 (6)\ttotal: 4.06s\tremaining: 9m 36s\n",
      "7:\tlearn: 0.6467625\ttest: 0.6468480\tbest: 0.6468480 (7)\ttotal: 4.73s\tremaining: 9m 46s\n",
      "8:\tlearn: 0.6413260\ttest: 0.6414122\tbest: 0.6414122 (8)\ttotal: 5.24s\tremaining: 9m 37s\n",
      "9:\tlearn: 0.6365543\ttest: 0.6366293\tbest: 0.6366293 (9)\ttotal: 5.4s\tremaining: 8m 54s\n",
      "10:\tlearn: 0.6317368\ttest: 0.6318091\tbest: 0.6318091 (10)\ttotal: 5.64s\tremaining: 8m 27s\n",
      "11:\tlearn: 0.6271710\ttest: 0.6272396\tbest: 0.6272396 (11)\ttotal: 9.19s\tremaining: 12m 36s\n",
      "12:\tlearn: 0.6228055\ttest: 0.6228884\tbest: 0.6228884 (12)\ttotal: 9.29s\tremaining: 11m 45s\n",
      "13:\tlearn: 0.6182540\ttest: 0.6183236\tbest: 0.6183236 (13)\ttotal: 9.62s\tremaining: 11m 17s\n",
      "14:\tlearn: 0.6136670\ttest: 0.6136431\tbest: 0.6136431 (14)\ttotal: 13.2s\tremaining: 14m 27s\n",
      "15:\tlearn: 0.6092693\ttest: 0.6091489\tbest: 0.6091489 (15)\ttotal: 17s\tremaining: 17m 24s\n",
      "16:\tlearn: 0.6044510\ttest: 0.6041909\tbest: 0.6041909 (16)\ttotal: 20.1s\tremaining: 19m 23s\n",
      "17:\tlearn: 0.6002023\ttest: 0.5999313\tbest: 0.5999313 (17)\ttotal: 20.3s\tremaining: 18m 27s\n",
      "18:\tlearn: 0.5965762\ttest: 0.5963032\tbest: 0.5963032 (18)\ttotal: 20.4s\tremaining: 17m 30s\n",
      "19:\tlearn: 0.5924522\ttest: 0.5921870\tbest: 0.5921870 (19)\ttotal: 24s\tremaining: 19m 38s\n",
      "20:\tlearn: 0.5889749\ttest: 0.5886969\tbest: 0.5886969 (20)\ttotal: 24.4s\tremaining: 18m 57s\n",
      "21:\tlearn: 0.5855916\ttest: 0.5853117\tbest: 0.5853117 (21)\ttotal: 24.5s\tremaining: 18m 7s\n",
      "22:\tlearn: 0.5822471\ttest: 0.5819611\tbest: 0.5819611 (22)\ttotal: 24.6s\tremaining: 17m 26s\n",
      "23:\tlearn: 0.5785293\ttest: 0.5782030\tbest: 0.5782030 (23)\ttotal: 24.8s\tremaining: 16m 49s\n",
      "24:\tlearn: 0.5753467\ttest: 0.5750209\tbest: 0.5750209 (24)\ttotal: 24.9s\tremaining: 16m 12s\n",
      "25:\tlearn: 0.5718261\ttest: 0.5714764\tbest: 0.5714764 (25)\ttotal: 25.5s\tremaining: 15m 54s\n",
      "26:\tlearn: 0.5681958\ttest: 0.5678676\tbest: 0.5678676 (26)\ttotal: 26.2s\tremaining: 15m 44s\n",
      "27:\tlearn: 0.5652552\ttest: 0.5649254\tbest: 0.5649254 (27)\ttotal: 26.3s\tremaining: 15m 13s\n",
      "28:\tlearn: 0.5623807\ttest: 0.5620493\tbest: 0.5620493 (28)\ttotal: 26.4s\tremaining: 14m 43s\n",
      "29:\tlearn: 0.5595618\ttest: 0.5592251\tbest: 0.5592251 (29)\ttotal: 26.5s\tremaining: 14m 16s\n",
      "30:\tlearn: 0.5566964\ttest: 0.5563284\tbest: 0.5563284 (30)\ttotal: 26.6s\tremaining: 13m 52s\n",
      "31:\tlearn: 0.5535383\ttest: 0.5530372\tbest: 0.5530372 (31)\ttotal: 27.1s\tremaining: 13m 39s\n",
      "32:\tlearn: 0.5505994\ttest: 0.5501016\tbest: 0.5501016 (32)\ttotal: 27.3s\tremaining: 13m 20s\n",
      "33:\tlearn: 0.5472088\ttest: 0.5467029\tbest: 0.5467029 (33)\ttotal: 29.4s\tremaining: 13m 55s\n",
      "34:\tlearn: 0.5444385\ttest: 0.5439059\tbest: 0.5439059 (34)\ttotal: 30s\tremaining: 13m 46s\n",
      "35:\tlearn: 0.5414712\ttest: 0.5408160\tbest: 0.5408160 (35)\ttotal: 32.2s\tremaining: 14m 23s\n",
      "36:\tlearn: 0.5390035\ttest: 0.5383845\tbest: 0.5383845 (36)\ttotal: 33.4s\tremaining: 14m 30s\n",
      "37:\tlearn: 0.5366776\ttest: 0.5360603\tbest: 0.5360603 (37)\ttotal: 33.5s\tremaining: 14m 7s\n",
      "38:\tlearn: 0.5339829\ttest: 0.5333504\tbest: 0.5333504 (38)\ttotal: 34.7s\tremaining: 14m 16s\n",
      "39:\tlearn: 0.5317633\ttest: 0.5311326\tbest: 0.5311326 (39)\ttotal: 34.8s\tremaining: 13m 55s\n",
      "40:\tlearn: 0.5289697\ttest: 0.5282332\tbest: 0.5282332 (40)\ttotal: 35.2s\tremaining: 13m 44s\n",
      "41:\tlearn: 0.5263870\ttest: 0.5256845\tbest: 0.5256845 (41)\ttotal: 35.9s\tremaining: 13m 38s\n",
      "42:\tlearn: 0.5238148\ttest: 0.5232145\tbest: 0.5232145 (42)\ttotal: 36.4s\tremaining: 13m 30s\n",
      "43:\tlearn: 0.5215241\ttest: 0.5209263\tbest: 0.5209263 (43)\ttotal: 39.1s\tremaining: 14m 8s\n",
      "44:\tlearn: 0.5191903\ttest: 0.5187052\tbest: 0.5187052 (44)\ttotal: 39.2s\tremaining: 13m 51s\n",
      "45:\tlearn: 0.5172688\ttest: 0.5167835\tbest: 0.5167835 (45)\ttotal: 39.2s\tremaining: 13m 33s\n",
      "46:\tlearn: 0.5149718\ttest: 0.5143778\tbest: 0.5143778 (46)\ttotal: 39.6s\tremaining: 13m 23s\n",
      "47:\tlearn: 0.5129069\ttest: 0.5122485\tbest: 0.5122485 (47)\ttotal: 40s\tremaining: 13m 12s\n",
      "48:\tlearn: 0.5109348\ttest: 0.5102457\tbest: 0.5102457 (48)\ttotal: 40.2s\tremaining: 13m\n",
      "49:\tlearn: 0.5085494\ttest: 0.5078272\tbest: 0.5078272 (49)\ttotal: 40.9s\tremaining: 12m 57s\n",
      "50:\tlearn: 0.5068424\ttest: 0.5061225\tbest: 0.5061225 (50)\ttotal: 41s\tremaining: 12m 42s\n",
      "51:\tlearn: 0.5050366\ttest: 0.5042269\tbest: 0.5042269 (51)\ttotal: 43s\tremaining: 13m 4s\n",
      "52:\tlearn: 0.5031770\ttest: 0.5023890\tbest: 0.5023890 (52)\ttotal: 43.5s\tremaining: 12m 56s\n",
      "53:\tlearn: 0.5015815\ttest: 0.5007959\tbest: 0.5007959 (53)\ttotal: 43.6s\tremaining: 12m 43s\n",
      "54:\tlearn: 0.5000232\ttest: 0.4992409\tbest: 0.4992409 (54)\ttotal: 43.6s\tremaining: 12m 29s\n",
      "55:\tlearn: 0.4980238\ttest: 0.4971694\tbest: 0.4971694 (55)\ttotal: 44.2s\tremaining: 12m 24s\n",
      "56:\tlearn: 0.4965368\ttest: 0.4956860\tbest: 0.4956860 (56)\ttotal: 44.2s\tremaining: 12m 11s\n",
      "57:\tlearn: 0.4950828\ttest: 0.4942354\tbest: 0.4942354 (57)\ttotal: 44.3s\tremaining: 11m 59s\n",
      "58:\tlearn: 0.4936610\ttest: 0.4928170\tbest: 0.4928170 (58)\ttotal: 44.4s\tremaining: 11m 47s\n",
      "59:\tlearn: 0.4919753\ttest: 0.4911113\tbest: 0.4911113 (59)\ttotal: 45.1s\tremaining: 11m 47s\n",
      "60:\tlearn: 0.4906040\ttest: 0.4897410\tbest: 0.4897410 (60)\ttotal: 45.5s\tremaining: 11m 39s\n",
      "61:\tlearn: 0.4892708\ttest: 0.4884088\tbest: 0.4884088 (61)\ttotal: 45.8s\tremaining: 11m 32s\n",
      "62:\tlearn: 0.4879711\ttest: 0.4871137\tbest: 0.4871137 (62)\ttotal: 45.9s\tremaining: 11m 22s\n",
      "63:\tlearn: 0.4866928\ttest: 0.4858309\tbest: 0.4858309 (63)\ttotal: 46.1s\tremaining: 11m 14s\n",
      "64:\tlearn: 0.4854499\ttest: 0.4845917\tbest: 0.4845917 (64)\ttotal: 46.2s\tremaining: 11m 4s\n",
      "65:\tlearn: 0.4842313\ttest: 0.4833762\tbest: 0.4833762 (65)\ttotal: 46.3s\tremaining: 10m 55s\n",
      "66:\tlearn: 0.4826916\ttest: 0.4818342\tbest: 0.4818342 (66)\ttotal: 46.9s\tremaining: 10m 53s\n",
      "67:\tlearn: 0.4815284\ttest: 0.4806732\tbest: 0.4806732 (67)\ttotal: 47.1s\tremaining: 10m 46s\n",
      "68:\tlearn: 0.4803945\ttest: 0.4795429\tbest: 0.4795429 (68)\ttotal: 47.2s\tremaining: 10m 36s\n",
      "69:\tlearn: 0.4792845\ttest: 0.4784368\tbest: 0.4784368 (69)\ttotal: 47.5s\tremaining: 10m 31s\n",
      "70:\tlearn: 0.4781999\ttest: 0.4773557\tbest: 0.4773557 (70)\ttotal: 47.6s\tremaining: 10m 22s\n",
      "71:\tlearn: 0.4770281\ttest: 0.4761906\tbest: 0.4761906 (71)\ttotal: 47.9s\tremaining: 10m 17s\n",
      "72:\tlearn: 0.4759895\ttest: 0.4751556\tbest: 0.4751556 (72)\ttotal: 48.2s\tremaining: 10m 11s\n",
      "73:\tlearn: 0.4749752\ttest: 0.4741447\tbest: 0.4741447 (73)\ttotal: 48.3s\tremaining: 10m 4s\n",
      "74:\tlearn: 0.4736873\ttest: 0.4727794\tbest: 0.4727794 (74)\ttotal: 52.8s\tremaining: 10m 51s\n",
      "75:\tlearn: 0.4726047\ttest: 0.4717104\tbest: 0.4717104 (75)\ttotal: 53.5s\tremaining: 10m 49s\n",
      "76:\tlearn: 0.4716580\ttest: 0.4707682\tbest: 0.4707682 (76)\ttotal: 53.5s\tremaining: 10m 41s\n",
      "77:\tlearn: 0.4706688\ttest: 0.4697945\tbest: 0.4697945 (77)\ttotal: 57.9s\tremaining: 11m 24s\n",
      "78:\tlearn: 0.4696689\ttest: 0.4688084\tbest: 0.4688084 (78)\ttotal: 58.5s\tremaining: 11m 21s\n",
      "79:\tlearn: 0.4686828\ttest: 0.4678193\tbest: 0.4678193 (79)\ttotal: 59.4s\tremaining: 11m 22s\n",
      "80:\tlearn: 0.4676845\ttest: 0.4668078\tbest: 0.4668078 (80)\ttotal: 59.6s\tremaining: 11m 16s\n",
      "81:\tlearn: 0.4665752\ttest: 0.4656615\tbest: 0.4656615 (81)\ttotal: 1m 3s\tremaining: 11m 56s\n",
      "82:\tlearn: 0.4657491\ttest: 0.4648406\tbest: 0.4648406 (82)\ttotal: 1m 4s\tremaining: 11m 48s\n",
      "83:\tlearn: 0.4649330\ttest: 0.4640278\tbest: 0.4640278 (83)\ttotal: 1m 4s\tremaining: 11m 42s\n",
      "84:\tlearn: 0.4640029\ttest: 0.4630766\tbest: 0.4630766 (84)\ttotal: 1m 4s\tremaining: 11m 37s\n",
      "85:\tlearn: 0.4629629\ttest: 0.4621805\tbest: 0.4621805 (85)\ttotal: 1m 8s\tremaining: 12m 11s\n",
      "86:\tlearn: 0.4622084\ttest: 0.4614303\tbest: 0.4614303 (86)\ttotal: 1m 8s\tremaining: 12m 3s\n",
      "87:\tlearn: 0.4614620\ttest: 0.4606878\tbest: 0.4606878 (87)\ttotal: 1m 9s\tremaining: 11m 59s\n",
      "88:\tlearn: 0.4607401\ttest: 0.4599700\tbest: 0.4599700 (88)\ttotal: 1m 9s\tremaining: 11m 51s\n",
      "89:\tlearn: 0.4600172\ttest: 0.4592477\tbest: 0.4592477 (89)\ttotal: 1m 9s\tremaining: 11m 45s\n",
      "90:\tlearn: 0.4592956\ttest: 0.4585330\tbest: 0.4585330 (90)\ttotal: 1m 9s\tremaining: 11m 39s\n",
      "91:\tlearn: 0.4586173\ttest: 0.4578586\tbest: 0.4578586 (91)\ttotal: 1m 10s\tremaining: 11m 32s\n"
     ]
    },
    {
     "name": "stdout",
     "output_type": "stream",
     "text": [
      "92:\tlearn: 0.4579479\ttest: 0.4571913\tbest: 0.4571913 (92)\ttotal: 1m 10s\tremaining: 11m 26s\n",
      "93:\tlearn: 0.4572930\ttest: 0.4565368\tbest: 0.4565368 (93)\ttotal: 1m 10s\tremaining: 11m 23s\n",
      "94:\tlearn: 0.4566578\ttest: 0.4559054\tbest: 0.4559054 (94)\ttotal: 1m 11s\tremaining: 11m 16s\n",
      "95:\tlearn: 0.4560140\ttest: 0.4552682\tbest: 0.4552682 (95)\ttotal: 1m 11s\tremaining: 11m 11s\n",
      "96:\tlearn: 0.4554011\ttest: 0.4546595\tbest: 0.4546595 (96)\ttotal: 1m 11s\tremaining: 11m 4s\n",
      "97:\tlearn: 0.4547904\ttest: 0.4540550\tbest: 0.4540550 (97)\ttotal: 1m 11s\tremaining: 10m 59s\n",
      "98:\tlearn: 0.4542052\ttest: 0.4534753\tbest: 0.4534753 (98)\ttotal: 1m 11s\tremaining: 10m 53s\n",
      "99:\tlearn: 0.4536269\ttest: 0.4529036\tbest: 0.4529036 (99)\ttotal: 1m 11s\tremaining: 10m 47s\n",
      "100:\tlearn: 0.4530708\ttest: 0.4523511\tbest: 0.4523511 (100)\ttotal: 1m 12s\tremaining: 10m 41s\n",
      "101:\tlearn: 0.4525133\ttest: 0.4517994\tbest: 0.4517994 (101)\ttotal: 1m 12s\tremaining: 10m 36s\n",
      "102:\tlearn: 0.4519800\ttest: 0.4512694\tbest: 0.4512694 (102)\ttotal: 1m 12s\tremaining: 10m 33s\n",
      "103:\tlearn: 0.4514534\ttest: 0.4507438\tbest: 0.4507438 (103)\ttotal: 1m 12s\tremaining: 10m 27s\n",
      "104:\tlearn: 0.4509089\ttest: 0.4502000\tbest: 0.4502000 (104)\ttotal: 1m 13s\tremaining: 10m 23s\n",
      "105:\tlearn: 0.4504103\ttest: 0.4497035\tbest: 0.4497035 (105)\ttotal: 1m 13s\tremaining: 10m 17s\n",
      "106:\tlearn: 0.4499236\ttest: 0.4492202\tbest: 0.4492202 (106)\ttotal: 1m 13s\tremaining: 10m 11s\n",
      "107:\tlearn: 0.4494407\ttest: 0.4487380\tbest: 0.4487380 (107)\ttotal: 1m 13s\tremaining: 10m 5s\n",
      "108:\tlearn: 0.4489734\ttest: 0.4482732\tbest: 0.4482732 (108)\ttotal: 1m 13s\tremaining: 10m\n",
      "109:\tlearn: 0.4485163\ttest: 0.4478185\tbest: 0.4478185 (109)\ttotal: 1m 13s\tremaining: 9m 55s\n",
      "110:\tlearn: 0.4480696\ttest: 0.4473756\tbest: 0.4473756 (110)\ttotal: 1m 13s\tremaining: 9m 50s\n",
      "111:\tlearn: 0.4475606\ttest: 0.4468461\tbest: 0.4468461 (111)\ttotal: 1m 13s\tremaining: 9m 46s\n",
      "112:\tlearn: 0.4471328\ttest: 0.4464219\tbest: 0.4464219 (112)\ttotal: 1m 14s\tremaining: 9m 41s\n",
      "113:\tlearn: 0.4467150\ttest: 0.4460074\tbest: 0.4460074 (113)\ttotal: 1m 14s\tremaining: 9m 36s\n",
      "114:\tlearn: 0.4463060\ttest: 0.4456017\tbest: 0.4456017 (114)\ttotal: 1m 14s\tremaining: 9m 31s\n",
      "115:\tlearn: 0.4459038\ttest: 0.4452028\tbest: 0.4452028 (115)\ttotal: 1m 14s\tremaining: 9m 28s\n",
      "116:\tlearn: 0.4453540\ttest: 0.4445888\tbest: 0.4445888 (116)\ttotal: 1m 15s\tremaining: 9m 29s\n",
      "117:\tlearn: 0.4449712\ttest: 0.4442099\tbest: 0.4442099 (117)\ttotal: 1m 15s\tremaining: 9m 24s\n",
      "118:\tlearn: 0.4445825\ttest: 0.4438219\tbest: 0.4438219 (118)\ttotal: 1m 16s\tremaining: 9m 25s\n",
      "119:\tlearn: 0.4442159\ttest: 0.4434589\tbest: 0.4434589 (119)\ttotal: 1m 16s\tremaining: 9m 20s\n",
      "120:\tlearn: 0.4438572\ttest: 0.4431038\tbest: 0.4431038 (120)\ttotal: 1m 16s\tremaining: 9m 16s\n",
      "121:\tlearn: 0.4435001\ttest: 0.4427517\tbest: 0.4427517 (121)\ttotal: 1m 16s\tremaining: 9m 12s\n",
      "122:\tlearn: 0.4431565\ttest: 0.4424116\tbest: 0.4424116 (122)\ttotal: 1m 16s\tremaining: 9m 8s\n",
      "123:\tlearn: 0.4428202\ttest: 0.4420787\tbest: 0.4420787 (123)\ttotal: 1m 16s\tremaining: 9m 3s\n",
      "124:\tlearn: 0.4424475\ttest: 0.4416968\tbest: 0.4416968 (124)\ttotal: 1m 17s\tremaining: 9m 3s\n",
      "125:\tlearn: 0.4421246\ttest: 0.4413768\tbest: 0.4413768 (125)\ttotal: 1m 17s\tremaining: 8m 59s\n",
      "126:\tlearn: 0.4418095\ttest: 0.4410651\tbest: 0.4410651 (126)\ttotal: 1m 17s\tremaining: 8m 55s\n",
      "127:\tlearn: 0.4414727\ttest: 0.4407351\tbest: 0.4407351 (127)\ttotal: 1m 17s\tremaining: 8m 51s\n",
      "128:\tlearn: 0.4411653\ttest: 0.4404323\tbest: 0.4404323 (128)\ttotal: 1m 18s\tremaining: 8m 47s\n",
      "129:\tlearn: 0.4408699\ttest: 0.4401402\tbest: 0.4401402 (129)\ttotal: 1m 18s\tremaining: 8m 43s\n",
      "130:\tlearn: 0.4405796\ttest: 0.4398535\tbest: 0.4398535 (130)\ttotal: 1m 18s\tremaining: 8m 39s\n",
      "131:\tlearn: 0.4402965\ttest: 0.4395738\tbest: 0.4395738 (131)\ttotal: 1m 18s\tremaining: 8m 35s\n",
      "132:\tlearn: 0.4400127\ttest: 0.4392930\tbest: 0.4392930 (132)\ttotal: 1m 19s\tremaining: 8m 37s\n",
      "133:\tlearn: 0.4397415\ttest: 0.4390250\tbest: 0.4390250 (133)\ttotal: 1m 19s\tremaining: 8m 33s\n",
      "134:\tlearn: 0.4394729\ttest: 0.4387581\tbest: 0.4387581 (134)\ttotal: 1m 19s\tremaining: 8m 30s\n",
      "135:\tlearn: 0.4392131\ttest: 0.4385015\tbest: 0.4385015 (135)\ttotal: 1m 19s\tremaining: 8m 26s\n",
      "136:\tlearn: 0.4389577\ttest: 0.4382502\tbest: 0.4382502 (136)\ttotal: 1m 19s\tremaining: 8m 23s\n",
      "137:\tlearn: 0.4387087\ttest: 0.4380042\tbest: 0.4380042 (137)\ttotal: 1m 20s\tremaining: 8m 19s\n",
      "138:\tlearn: 0.4384645\ttest: 0.4377631\tbest: 0.4377631 (138)\ttotal: 1m 20s\tremaining: 8m 16s\n",
      "139:\tlearn: 0.4382191\ttest: 0.4375230\tbest: 0.4375230 (139)\ttotal: 1m 20s\tremaining: 8m 14s\n",
      "140:\tlearn: 0.4379744\ttest: 0.4372833\tbest: 0.4372833 (140)\ttotal: 1m 20s\tremaining: 8m 12s\n",
      "141:\tlearn: 0.4377459\ttest: 0.4370577\tbest: 0.4370577 (141)\ttotal: 1m 20s\tremaining: 8m 8s\n",
      "142:\tlearn: 0.4375213\ttest: 0.4368369\tbest: 0.4368369 (142)\ttotal: 1m 21s\tremaining: 8m 5s\n",
      "143:\tlearn: 0.4373022\ttest: 0.4366207\tbest: 0.4366207 (143)\ttotal: 1m 21s\tremaining: 8m 2s\n",
      "144:\tlearn: 0.4370770\ttest: 0.4363999\tbest: 0.4363999 (144)\ttotal: 1m 21s\tremaining: 7m 59s\n",
      "145:\tlearn: 0.4368671\ttest: 0.4361928\tbest: 0.4361928 (145)\ttotal: 1m 21s\tremaining: 7m 55s\n",
      "146:\tlearn: 0.4366439\ttest: 0.4359774\tbest: 0.4359774 (146)\ttotal: 1m 21s\tremaining: 7m 53s\n",
      "147:\tlearn: 0.4364428\ttest: 0.4357790\tbest: 0.4357790 (147)\ttotal: 1m 21s\tremaining: 7m 50s\n",
      "148:\tlearn: 0.4362415\ttest: 0.4355804\tbest: 0.4355804 (148)\ttotal: 1m 21s\tremaining: 7m 48s\n",
      "149:\tlearn: 0.4360458\ttest: 0.4353880\tbest: 0.4353880 (149)\ttotal: 1m 22s\tremaining: 7m 46s\n",
      "150:\tlearn: 0.4358526\ttest: 0.4352018\tbest: 0.4352018 (150)\ttotal: 1m 22s\tremaining: 7m 46s\n",
      "151:\tlearn: 0.4356679\ttest: 0.4350197\tbest: 0.4350197 (151)\ttotal: 1m 23s\tremaining: 7m 43s\n",
      "152:\tlearn: 0.4354213\ttest: 0.4347799\tbest: 0.4347799 (152)\ttotal: 1m 26s\tremaining: 8m 1s\n",
      "153:\tlearn: 0.4352444\ttest: 0.4346057\tbest: 0.4346057 (153)\ttotal: 1m 27s\tremaining: 7m 58s\n",
      "154:\tlearn: 0.4350709\ttest: 0.4344352\tbest: 0.4344352 (154)\ttotal: 1m 27s\tremaining: 7m 55s\n",
      "155:\tlearn: 0.4349013\ttest: 0.4342681\tbest: 0.4342681 (155)\ttotal: 1m 27s\tremaining: 7m 52s\n",
      "156:\tlearn: 0.4347230\ttest: 0.4340947\tbest: 0.4340947 (156)\ttotal: 1m 27s\tremaining: 7m 49s\n",
      "157:\tlearn: 0.4345370\ttest: 0.4339071\tbest: 0.4339071 (157)\ttotal: 1m 27s\tremaining: 7m 47s\n",
      "158:\tlearn: 0.4343779\ttest: 0.4337507\tbest: 0.4337507 (158)\ttotal: 1m 27s\tremaining: 7m 44s\n",
      "159:\tlearn: 0.4342217\ttest: 0.4335976\tbest: 0.4335976 (159)\ttotal: 1m 28s\tremaining: 7m 43s\n",
      "160:\tlearn: 0.4340552\ttest: 0.4334366\tbest: 0.4334366 (160)\ttotal: 1m 28s\tremaining: 7m 41s\n",
      "161:\tlearn: 0.4339022\ttest: 0.4332874\tbest: 0.4332874 (161)\ttotal: 1m 28s\tremaining: 7m 40s\n",
      "162:\tlearn: 0.4337560\ttest: 0.4331438\tbest: 0.4331438 (162)\ttotal: 1m 29s\tremaining: 7m 37s\n",
      "163:\tlearn: 0.4336129\ttest: 0.4330032\tbest: 0.4330032 (163)\ttotal: 1m 29s\tremaining: 7m 34s\n",
      "164:\tlearn: 0.4334727\ttest: 0.4328656\tbest: 0.4328656 (164)\ttotal: 1m 29s\tremaining: 7m 31s\n",
      "165:\tlearn: 0.4333343\ttest: 0.4327285\tbest: 0.4327285 (165)\ttotal: 1m 29s\tremaining: 7m 29s\n",
      "166:\tlearn: 0.4331997\ttest: 0.4325965\tbest: 0.4325965 (166)\ttotal: 1m 29s\tremaining: 7m 27s\n",
      "167:\tlearn: 0.4330680\ttest: 0.4324674\tbest: 0.4324674 (167)\ttotal: 1m 29s\tremaining: 7m 24s\n",
      "168:\tlearn: 0.4329392\ttest: 0.4323410\tbest: 0.4323410 (168)\ttotal: 1m 29s\tremaining: 7m 21s\n",
      "169:\tlearn: 0.4328130\ttest: 0.4322172\tbest: 0.4322172 (169)\ttotal: 1m 29s\tremaining: 7m 19s\n",
      "170:\tlearn: 0.4326895\ttest: 0.4320961\tbest: 0.4320961 (170)\ttotal: 1m 29s\tremaining: 7m 16s\n",
      "171:\tlearn: 0.4325686\ttest: 0.4319774\tbest: 0.4319774 (171)\ttotal: 1m 30s\tremaining: 7m 13s\n",
      "172:\tlearn: 0.4324501\ttest: 0.4318613\tbest: 0.4318613 (172)\ttotal: 1m 30s\tremaining: 7m 11s\n",
      "173:\tlearn: 0.4323317\ttest: 0.4317452\tbest: 0.4317452 (173)\ttotal: 1m 30s\tremaining: 7m 9s\n",
      "174:\tlearn: 0.4322181\ttest: 0.4316339\tbest: 0.4316339 (174)\ttotal: 1m 30s\tremaining: 7m 6s\n",
      "175:\tlearn: 0.4321069\ttest: 0.4315249\tbest: 0.4315249 (175)\ttotal: 1m 30s\tremaining: 7m 3s\n",
      "176:\tlearn: 0.4319979\ttest: 0.4314178\tbest: 0.4314178 (176)\ttotal: 1m 30s\tremaining: 7m 1s\n",
      "177:\tlearn: 0.4318913\ttest: 0.4313133\tbest: 0.4313133 (177)\ttotal: 1m 30s\tremaining: 6m 58s\n",
      "178:\tlearn: 0.4317869\ttest: 0.4312110\tbest: 0.4312110 (178)\ttotal: 1m 30s\tremaining: 6m 56s\n",
      "179:\tlearn: 0.4316845\ttest: 0.4311109\tbest: 0.4311109 (179)\ttotal: 1m 31s\tremaining: 6m 54s\n",
      "180:\tlearn: 0.4315831\ttest: 0.4310120\tbest: 0.4310120 (180)\ttotal: 1m 31s\tremaining: 6m 52s\n",
      "181:\tlearn: 0.4314851\ttest: 0.4309160\tbest: 0.4309160 (181)\ttotal: 1m 31s\tremaining: 6m 50s\n"
     ]
    },
    {
     "name": "stdout",
     "output_type": "stream",
     "text": [
      "182:\tlearn: 0.4313868\ttest: 0.4308210\tbest: 0.4308210 (182)\ttotal: 1m 31s\tremaining: 6m 49s\n",
      "183:\tlearn: 0.4312910\ttest: 0.4307265\tbest: 0.4307265 (183)\ttotal: 1m 31s\tremaining: 6m 46s\n",
      "184:\tlearn: 0.4311989\ttest: 0.4306364\tbest: 0.4306364 (184)\ttotal: 1m 31s\tremaining: 6m 44s\n",
      "185:\tlearn: 0.4311084\ttest: 0.4305479\tbest: 0.4305479 (185)\ttotal: 1m 32s\tremaining: 6m 42s\n",
      "186:\tlearn: 0.4310182\ttest: 0.4304588\tbest: 0.4304588 (186)\ttotal: 1m 32s\tremaining: 6m 40s\n",
      "187:\tlearn: 0.4309306\ttest: 0.4303733\tbest: 0.4303733 (187)\ttotal: 1m 32s\tremaining: 6m 39s\n",
      "188:\tlearn: 0.4308455\ttest: 0.4302903\tbest: 0.4302903 (188)\ttotal: 1m 32s\tremaining: 6m 36s\n",
      "189:\tlearn: 0.4307593\ttest: 0.4302082\tbest: 0.4302082 (189)\ttotal: 1m 32s\tremaining: 6m 36s\n",
      "190:\tlearn: 0.4306771\ttest: 0.4301294\tbest: 0.4301294 (190)\ttotal: 1m 33s\tremaining: 6m 34s\n",
      "191:\tlearn: 0.4305951\ttest: 0.4300498\tbest: 0.4300498 (191)\ttotal: 1m 33s\tremaining: 6m 33s\n",
      "192:\tlearn: 0.4305164\ttest: 0.4299737\tbest: 0.4299737 (192)\ttotal: 1m 33s\tremaining: 6m 31s\n",
      "193:\tlearn: 0.4304173\ttest: 0.4298846\tbest: 0.4298846 (193)\ttotal: 1m 33s\tremaining: 6m 30s\n",
      "194:\tlearn: 0.4303425\ttest: 0.4298115\tbest: 0.4298115 (194)\ttotal: 1m 34s\tremaining: 6m 28s\n",
      "195:\tlearn: 0.4302693\ttest: 0.4297401\tbest: 0.4297401 (195)\ttotal: 1m 34s\tremaining: 6m 26s\n",
      "196:\tlearn: 0.4301977\ttest: 0.4296702\tbest: 0.4296702 (196)\ttotal: 1m 34s\tremaining: 6m 24s\n",
      "197:\tlearn: 0.4301263\ttest: 0.4296011\tbest: 0.4296011 (197)\ttotal: 1m 34s\tremaining: 6m 23s\n",
      "198:\tlearn: 0.4300576\ttest: 0.4295340\tbest: 0.4295340 (198)\ttotal: 1m 34s\tremaining: 6m 21s\n",
      "199:\tlearn: 0.4299903\ttest: 0.4294684\tbest: 0.4294684 (199)\ttotal: 1m 34s\tremaining: 6m 19s\n",
      "200:\tlearn: 0.4299244\ttest: 0.4294041\tbest: 0.4294041 (200)\ttotal: 1m 34s\tremaining: 6m 17s\n",
      "201:\tlearn: 0.4298595\ttest: 0.4293413\tbest: 0.4293413 (201)\ttotal: 1m 35s\tremaining: 6m 16s\n",
      "202:\tlearn: 0.4297962\ttest: 0.4292797\tbest: 0.4292797 (202)\ttotal: 1m 35s\tremaining: 6m 14s\n",
      "203:\tlearn: 0.4297343\ttest: 0.4292193\tbest: 0.4292193 (203)\ttotal: 1m 35s\tremaining: 6m 12s\n",
      "204:\tlearn: 0.4296736\ttest: 0.4291602\tbest: 0.4291602 (204)\ttotal: 1m 35s\tremaining: 6m 10s\n",
      "205:\tlearn: 0.4296129\ttest: 0.4291019\tbest: 0.4291019 (205)\ttotal: 1m 35s\tremaining: 6m 8s\n",
      "206:\tlearn: 0.4295547\ttest: 0.4290453\tbest: 0.4290453 (206)\ttotal: 1m 35s\tremaining: 6m 6s\n",
      "207:\tlearn: 0.4294977\ttest: 0.4289898\tbest: 0.4289898 (207)\ttotal: 1m 35s\tremaining: 6m 4s\n",
      "208:\tlearn: 0.4294419\ttest: 0.4289355\tbest: 0.4289355 (208)\ttotal: 1m 35s\tremaining: 6m 2s\n",
      "209:\tlearn: 0.4293858\ttest: 0.4288819\tbest: 0.4288819 (209)\ttotal: 1m 35s\tremaining: 6m\n",
      "210:\tlearn: 0.4293322\ttest: 0.4288298\tbest: 0.4288298 (210)\ttotal: 1m 36s\tremaining: 5m 59s\n",
      "211:\tlearn: 0.4292687\ttest: 0.4287700\tbest: 0.4287700 (211)\ttotal: 1m 36s\tremaining: 5m 58s\n",
      "212:\tlearn: 0.4292172\ttest: 0.4287200\tbest: 0.4287200 (212)\ttotal: 1m 36s\tremaining: 5m 56s\n",
      "213:\tlearn: 0.4291665\ttest: 0.4286709\tbest: 0.4286709 (213)\ttotal: 1m 36s\tremaining: 5m 55s\n",
      "214:\tlearn: 0.4291172\ttest: 0.4286230\tbest: 0.4286230 (214)\ttotal: 1m 36s\tremaining: 5m 53s\n",
      "215:\tlearn: 0.4290688\ttest: 0.4285761\tbest: 0.4285761 (215)\ttotal: 1m 37s\tremaining: 5m 52s\n",
      "216:\tlearn: 0.4290215\ttest: 0.4285302\tbest: 0.4285302 (216)\ttotal: 1m 37s\tremaining: 5m 51s\n",
      "217:\tlearn: 0.4289751\ttest: 0.4284850\tbest: 0.4284850 (217)\ttotal: 1m 37s\tremaining: 5m 49s\n",
      "218:\tlearn: 0.4289294\ttest: 0.4284410\tbest: 0.4284410 (218)\ttotal: 1m 37s\tremaining: 5m 47s\n",
      "219:\tlearn: 0.4288850\ttest: 0.4283979\tbest: 0.4283979 (219)\ttotal: 1m 37s\tremaining: 5m 46s\n",
      "220:\tlearn: 0.4288414\ttest: 0.4283557\tbest: 0.4283557 (220)\ttotal: 1m 37s\tremaining: 5m 44s\n",
      "221:\tlearn: 0.4287988\ttest: 0.4283144\tbest: 0.4283144 (221)\ttotal: 1m 37s\tremaining: 5m 42s\n",
      "222:\tlearn: 0.4287555\ttest: 0.4282733\tbest: 0.4282733 (222)\ttotal: 1m 37s\tremaining: 5m 41s\n",
      "223:\tlearn: 0.4287145\ttest: 0.4282337\tbest: 0.4282337 (223)\ttotal: 1m 38s\tremaining: 5m 39s\n",
      "224:\tlearn: 0.4286742\ttest: 0.4281948\tbest: 0.4281948 (224)\ttotal: 1m 38s\tremaining: 5m 38s\n",
      "225:\tlearn: 0.4286349\ttest: 0.4281568\tbest: 0.4281568 (225)\ttotal: 1m 38s\tremaining: 5m 36s\n",
      "226:\tlearn: 0.4285964\ttest: 0.4281195\tbest: 0.4281195 (226)\ttotal: 1m 38s\tremaining: 5m 35s\n",
      "227:\tlearn: 0.4285588\ttest: 0.4280831\tbest: 0.4280831 (227)\ttotal: 1m 38s\tremaining: 5m 33s\n",
      "228:\tlearn: 0.4285218\ttest: 0.4280474\tbest: 0.4280474 (228)\ttotal: 1m 38s\tremaining: 5m 31s\n",
      "229:\tlearn: 0.4284842\ttest: 0.4280128\tbest: 0.4280128 (229)\ttotal: 1m 38s\tremaining: 5m 30s\n",
      "230:\tlearn: 0.4284487\ttest: 0.4279785\tbest: 0.4279785 (230)\ttotal: 1m 38s\tremaining: 5m 29s\n",
      "231:\tlearn: 0.4284141\ttest: 0.4279450\tbest: 0.4279450 (231)\ttotal: 1m 38s\tremaining: 5m 27s\n",
      "232:\tlearn: 0.4283788\ttest: 0.4279114\tbest: 0.4279114 (232)\ttotal: 1m 39s\tremaining: 5m 26s\n",
      "233:\tlearn: 0.4283453\ttest: 0.4278792\tbest: 0.4278792 (233)\ttotal: 1m 39s\tremaining: 5m 24s\n",
      "234:\tlearn: 0.4283127\ttest: 0.4278477\tbest: 0.4278477 (234)\ttotal: 1m 39s\tremaining: 5m 23s\n",
      "235:\tlearn: 0.4282807\ttest: 0.4278169\tbest: 0.4278169 (235)\ttotal: 1m 39s\tremaining: 5m 21s\n",
      "236:\tlearn: 0.4282494\ttest: 0.4277867\tbest: 0.4277867 (236)\ttotal: 1m 39s\tremaining: 5m 20s\n",
      "237:\tlearn: 0.4282179\ttest: 0.4277570\tbest: 0.4277570 (237)\ttotal: 1m 39s\tremaining: 5m 19s\n",
      "238:\tlearn: 0.4281878\ttest: 0.4277280\tbest: 0.4277280 (238)\ttotal: 1m 39s\tremaining: 5m 17s\n",
      "239:\tlearn: 0.4281584\ttest: 0.4276997\tbest: 0.4276997 (239)\ttotal: 1m 39s\tremaining: 5m 15s\n",
      "240:\tlearn: 0.4281296\ttest: 0.4276719\tbest: 0.4276719 (240)\ttotal: 1m 39s\tremaining: 5m 14s\n",
      "241:\tlearn: 0.4281012\ttest: 0.4276447\tbest: 0.4276447 (241)\ttotal: 1m 40s\tremaining: 5m 13s\n",
      "242:\tlearn: 0.4280736\ttest: 0.4276181\tbest: 0.4276181 (242)\ttotal: 1m 40s\tremaining: 5m 12s\n",
      "243:\tlearn: 0.4280465\ttest: 0.4275920\tbest: 0.4275920 (243)\ttotal: 1m 40s\tremaining: 5m 10s\n",
      "244:\tlearn: 0.4280199\ttest: 0.4275665\tbest: 0.4275665 (244)\ttotal: 1m 40s\tremaining: 5m 9s\n",
      "245:\tlearn: 0.4279938\ttest: 0.4275414\tbest: 0.4275414 (245)\ttotal: 1m 40s\tremaining: 5m 7s\n",
      "246:\tlearn: 0.4279683\ttest: 0.4275169\tbest: 0.4275169 (246)\ttotal: 1m 40s\tremaining: 5m 6s\n",
      "247:\tlearn: 0.4279433\ttest: 0.4274929\tbest: 0.4274929 (247)\ttotal: 1m 40s\tremaining: 5m 4s\n",
      "248:\tlearn: 0.4279189\ttest: 0.4274695\tbest: 0.4274695 (248)\ttotal: 1m 40s\tremaining: 5m 3s\n",
      "249:\tlearn: 0.4278939\ttest: 0.4274441\tbest: 0.4274441 (249)\ttotal: 1m 41s\tremaining: 5m 3s\n",
      "250:\tlearn: 0.4278695\ttest: 0.4274215\tbest: 0.4274215 (250)\ttotal: 1m 41s\tremaining: 5m 2s\n",
      "251:\tlearn: 0.4278465\ttest: 0.4273994\tbest: 0.4273994 (251)\ttotal: 1m 41s\tremaining: 5m\n",
      "252:\tlearn: 0.4278240\ttest: 0.4273778\tbest: 0.4273778 (252)\ttotal: 1m 41s\tremaining: 4m 59s\n",
      "253:\tlearn: 0.4278019\ttest: 0.4273566\tbest: 0.4273566 (253)\ttotal: 1m 41s\tremaining: 4m 58s\n",
      "254:\tlearn: 0.4277803\ttest: 0.4273359\tbest: 0.4273359 (254)\ttotal: 1m 41s\tremaining: 4m 56s\n",
      "255:\tlearn: 0.4277591\ttest: 0.4273156\tbest: 0.4273156 (255)\ttotal: 1m 41s\tremaining: 4m 55s\n",
      "256:\tlearn: 0.4277383\ttest: 0.4272958\tbest: 0.4272958 (256)\ttotal: 1m 41s\tremaining: 4m 54s\n",
      "257:\tlearn: 0.4277180\ttest: 0.4272763\tbest: 0.4272763 (257)\ttotal: 1m 41s\tremaining: 4m 53s\n",
      "258:\tlearn: 0.4276981\ttest: 0.4272573\tbest: 0.4272573 (258)\ttotal: 1m 41s\tremaining: 4m 51s\n",
      "259:\tlearn: 0.4276786\ttest: 0.4272386\tbest: 0.4272386 (259)\ttotal: 1m 42s\tremaining: 4m 50s\n",
      "260:\tlearn: 0.4276594\ttest: 0.4272203\tbest: 0.4272203 (260)\ttotal: 1m 42s\tremaining: 4m 49s\n",
      "261:\tlearn: 0.4276407\ttest: 0.4272024\tbest: 0.4272024 (261)\ttotal: 1m 42s\tremaining: 4m 48s\n",
      "262:\tlearn: 0.4276223\ttest: 0.4271849\tbest: 0.4271849 (262)\ttotal: 1m 42s\tremaining: 4m 47s\n",
      "263:\tlearn: 0.4276043\ttest: 0.4271677\tbest: 0.4271677 (263)\ttotal: 1m 42s\tremaining: 4m 45s\n",
      "264:\tlearn: 0.4275867\ttest: 0.4271509\tbest: 0.4271509 (264)\ttotal: 1m 42s\tremaining: 4m 44s\n",
      "265:\tlearn: 0.4275693\ttest: 0.4271344\tbest: 0.4271344 (265)\ttotal: 1m 42s\tremaining: 4m 43s\n",
      "266:\tlearn: 0.4275524\ttest: 0.4271183\tbest: 0.4271183 (266)\ttotal: 1m 42s\tremaining: 4m 42s\n",
      "267:\tlearn: 0.4275358\ttest: 0.4271025\tbest: 0.4271025 (267)\ttotal: 1m 42s\tremaining: 4m 41s\n",
      "268:\tlearn: 0.4275196\ttest: 0.4270870\tbest: 0.4270870 (268)\ttotal: 1m 43s\tremaining: 4m 40s\n",
      "269:\tlearn: 0.4275037\ttest: 0.4270719\tbest: 0.4270719 (269)\ttotal: 1m 43s\tremaining: 4m 38s\n",
      "270:\tlearn: 0.4274881\ttest: 0.4270571\tbest: 0.4270571 (270)\ttotal: 1m 43s\tremaining: 4m 37s\n",
      "271:\tlearn: 0.4274729\ttest: 0.4270425\tbest: 0.4270425 (271)\ttotal: 1m 43s\tremaining: 4m 36s\n"
     ]
    },
    {
     "name": "stdout",
     "output_type": "stream",
     "text": [
      "272:\tlearn: 0.4274579\ttest: 0.4270283\tbest: 0.4270283 (272)\ttotal: 1m 43s\tremaining: 4m 35s\n",
      "273:\tlearn: 0.4273999\ttest: 0.4269743\tbest: 0.4269743 (273)\ttotal: 1m 43s\tremaining: 4m 34s\n",
      "274:\tlearn: 0.4273853\ttest: 0.4269607\tbest: 0.4269607 (274)\ttotal: 1m 44s\tremaining: 4m 34s\n",
      "275:\tlearn: 0.4273711\ttest: 0.4269473\tbest: 0.4269473 (275)\ttotal: 1m 44s\tremaining: 4m 33s\n",
      "276:\tlearn: 0.4273574\ttest: 0.4269343\tbest: 0.4269343 (276)\ttotal: 1m 44s\tremaining: 4m 32s\n",
      "277:\tlearn: 0.4273439\ttest: 0.4269215\tbest: 0.4269215 (277)\ttotal: 1m 44s\tremaining: 4m 31s\n",
      "278:\tlearn: 0.4273306\ttest: 0.4269090\tbest: 0.4269090 (278)\ttotal: 1m 44s\tremaining: 4m 30s\n",
      "279:\tlearn: 0.4273176\ttest: 0.4268967\tbest: 0.4268967 (279)\ttotal: 1m 44s\tremaining: 4m 29s\n",
      "280:\tlearn: 0.4273050\ttest: 0.4268848\tbest: 0.4268848 (280)\ttotal: 1m 44s\tremaining: 4m 27s\n",
      "281:\tlearn: 0.4272925\ttest: 0.4268730\tbest: 0.4268730 (281)\ttotal: 1m 44s\tremaining: 4m 26s\n",
      "282:\tlearn: 0.4272804\ttest: 0.4268615\tbest: 0.4268615 (282)\ttotal: 1m 44s\tremaining: 4m 25s\n",
      "283:\tlearn: 0.4272685\ttest: 0.4268502\tbest: 0.4268502 (283)\ttotal: 1m 44s\tremaining: 4m 24s\n",
      "284:\tlearn: 0.4272568\ttest: 0.4268392\tbest: 0.4268392 (284)\ttotal: 1m 44s\tremaining: 4m 23s\n",
      "285:\tlearn: 0.4272390\ttest: 0.4268238\tbest: 0.4268238 (285)\ttotal: 1m 45s\tremaining: 4m 22s\n",
      "286:\tlearn: 0.4272278\ttest: 0.4268133\tbest: 0.4268133 (286)\ttotal: 1m 45s\tremaining: 4m 21s\n",
      "287:\tlearn: 0.4272168\ttest: 0.4268029\tbest: 0.4268029 (287)\ttotal: 1m 45s\tremaining: 4m 20s\n",
      "288:\tlearn: 0.4272049\ttest: 0.4267927\tbest: 0.4267927 (288)\ttotal: 1m 45s\tremaining: 4m 19s\n",
      "289:\tlearn: 0.4271941\ttest: 0.4267828\tbest: 0.4267828 (289)\ttotal: 1m 45s\tremaining: 4m 18s\n",
      "290:\tlearn: 0.4271837\ttest: 0.4267731\tbest: 0.4267731 (290)\ttotal: 1m 45s\tremaining: 4m 17s\n",
      "291:\tlearn: 0.4271735\ttest: 0.4267636\tbest: 0.4267636 (291)\ttotal: 1m 45s\tremaining: 4m 16s\n",
      "292:\tlearn: 0.4271636\ttest: 0.4267542\tbest: 0.4267542 (292)\ttotal: 1m 45s\tremaining: 4m 15s\n",
      "293:\tlearn: 0.4271539\ttest: 0.4267450\tbest: 0.4267450 (293)\ttotal: 1m 45s\tremaining: 4m 14s\n",
      "294:\tlearn: 0.4271443\ttest: 0.4267361\tbest: 0.4267361 (294)\ttotal: 1m 45s\tremaining: 4m 13s\n",
      "295:\tlearn: 0.4271350\ttest: 0.4267274\tbest: 0.4267274 (295)\ttotal: 1m 46s\tremaining: 4m 12s\n",
      "296:\tlearn: 0.4271257\ttest: 0.4267188\tbest: 0.4267188 (296)\ttotal: 1m 46s\tremaining: 4m 11s\n",
      "297:\tlearn: 0.4271159\ttest: 0.4267105\tbest: 0.4267105 (297)\ttotal: 1m 46s\tremaining: 4m 10s\n",
      "298:\tlearn: 0.4271071\ttest: 0.4267023\tbest: 0.4267023 (298)\ttotal: 1m 46s\tremaining: 4m 9s\n",
      "299:\tlearn: 0.4270985\ttest: 0.4266942\tbest: 0.4266942 (299)\ttotal: 1m 46s\tremaining: 4m 8s\n",
      "300:\tlearn: 0.4270901\ttest: 0.4266863\tbest: 0.4266863 (300)\ttotal: 1m 46s\tremaining: 4m 7s\n",
      "301:\tlearn: 0.4270818\ttest: 0.4266786\tbest: 0.4266786 (301)\ttotal: 1m 46s\tremaining: 4m 6s\n",
      "302:\tlearn: 0.4270729\ttest: 0.4266710\tbest: 0.4266710 (302)\ttotal: 1m 46s\tremaining: 4m 6s\n",
      "303:\tlearn: 0.4270649\ttest: 0.4266636\tbest: 0.4266636 (303)\ttotal: 1m 47s\tremaining: 4m 4s\n",
      "304:\tlearn: 0.4270568\ttest: 0.4266564\tbest: 0.4266564 (304)\ttotal: 1m 47s\tremaining: 4m 4s\n",
      "305:\tlearn: 0.4270492\ttest: 0.4266493\tbest: 0.4266493 (305)\ttotal: 1m 47s\tremaining: 4m 3s\n",
      "306:\tlearn: 0.4270418\ttest: 0.4266424\tbest: 0.4266424 (306)\ttotal: 1m 47s\tremaining: 4m 2s\n",
      "307:\tlearn: 0.4270344\ttest: 0.4266356\tbest: 0.4266356 (307)\ttotal: 1m 47s\tremaining: 4m 1s\n",
      "308:\tlearn: 0.4270262\ttest: 0.4266291\tbest: 0.4266291 (308)\ttotal: 1m 47s\tremaining: 4m 1s\n",
      "309:\tlearn: 0.4270186\ttest: 0.4266226\tbest: 0.4266226 (309)\ttotal: 1m 48s\tremaining: 4m\n",
      "310:\tlearn: 0.4270114\ttest: 0.4266162\tbest: 0.4266162 (310)\ttotal: 1m 48s\tremaining: 4m\n",
      "311:\tlearn: 0.4270047\ttest: 0.4266100\tbest: 0.4266100 (311)\ttotal: 1m 48s\tremaining: 3m 59s\n",
      "312:\tlearn: 0.4269981\ttest: 0.4266039\tbest: 0.4266039 (312)\ttotal: 1m 48s\tremaining: 3m 58s\n",
      "313:\tlearn: 0.4269916\ttest: 0.4265979\tbest: 0.4265979 (313)\ttotal: 1m 48s\tremaining: 3m 57s\n",
      "314:\tlearn: 0.4269853\ttest: 0.4265920\tbest: 0.4265920 (314)\ttotal: 1m 48s\tremaining: 3m 56s\n",
      "315:\tlearn: 0.4269791\ttest: 0.4265863\tbest: 0.4265863 (315)\ttotal: 1m 48s\tremaining: 3m 55s\n",
      "316:\tlearn: 0.4269730\ttest: 0.4265807\tbest: 0.4265807 (316)\ttotal: 1m 48s\tremaining: 3m 54s\n",
      "317:\tlearn: 0.4269670\ttest: 0.4265752\tbest: 0.4265752 (317)\ttotal: 1m 48s\tremaining: 3m 53s\n",
      "318:\tlearn: 0.4269612\ttest: 0.4265698\tbest: 0.4265698 (318)\ttotal: 1m 49s\tremaining: 3m 52s\n",
      "319:\tlearn: 0.4269555\ttest: 0.4265645\tbest: 0.4265645 (319)\ttotal: 1m 49s\tremaining: 3m 51s\n",
      "320:\tlearn: 0.4269499\ttest: 0.4265593\tbest: 0.4265593 (320)\ttotal: 1m 49s\tremaining: 3m 50s\n",
      "321:\tlearn: 0.4269436\ttest: 0.4265542\tbest: 0.4265542 (321)\ttotal: 1m 49s\tremaining: 3m 50s\n",
      "322:\tlearn: 0.4269382\ttest: 0.4265493\tbest: 0.4265493 (322)\ttotal: 1m 49s\tremaining: 3m 49s\n",
      "323:\tlearn: 0.4269329\ttest: 0.4265444\tbest: 0.4265444 (323)\ttotal: 1m 49s\tremaining: 3m 48s\n",
      "324:\tlearn: 0.4269277\ttest: 0.4265397\tbest: 0.4265397 (324)\ttotal: 1m 49s\tremaining: 3m 47s\n",
      "325:\tlearn: 0.4269226\ttest: 0.4265350\tbest: 0.4265350 (325)\ttotal: 1m 49s\tremaining: 3m 47s\n",
      "326:\tlearn: 0.4269177\ttest: 0.4265305\tbest: 0.4265305 (326)\ttotal: 1m 49s\tremaining: 3m 46s\n",
      "327:\tlearn: 0.4269128\ttest: 0.4265260\tbest: 0.4265260 (327)\ttotal: 1m 50s\tremaining: 3m 45s\n",
      "328:\tlearn: 0.4269080\ttest: 0.4265217\tbest: 0.4265217 (328)\ttotal: 1m 50s\tremaining: 3m 44s\n",
      "329:\tlearn: 0.4269034\ttest: 0.4265174\tbest: 0.4265174 (329)\ttotal: 1m 50s\tremaining: 3m 43s\n",
      "330:\tlearn: 0.4268980\ttest: 0.4265133\tbest: 0.4265133 (330)\ttotal: 1m 50s\tremaining: 3m 43s\n",
      "331:\tlearn: 0.4268935\ttest: 0.4265092\tbest: 0.4265092 (331)\ttotal: 1m 50s\tremaining: 3m 42s\n",
      "332:\tlearn: 0.4268891\ttest: 0.4265052\tbest: 0.4265052 (332)\ttotal: 1m 50s\tremaining: 3m 41s\n",
      "333:\tlearn: 0.4268848\ttest: 0.4265012\tbest: 0.4265012 (333)\ttotal: 1m 50s\tremaining: 3m 41s\n",
      "334:\tlearn: 0.4268806\ttest: 0.4264974\tbest: 0.4264974 (334)\ttotal: 1m 50s\tremaining: 3m 40s\n",
      "335:\tlearn: 0.4268764\ttest: 0.4264937\tbest: 0.4264937 (335)\ttotal: 1m 51s\tremaining: 3m 39s\n",
      "336:\tlearn: 0.4268724\ttest: 0.4264900\tbest: 0.4264900 (336)\ttotal: 1m 51s\tremaining: 3m 38s\n",
      "337:\tlearn: 0.4268684\ttest: 0.4264864\tbest: 0.4264864 (337)\ttotal: 1m 51s\tremaining: 3m 37s\n",
      "338:\tlearn: 0.4268644\ttest: 0.4264828\tbest: 0.4264828 (338)\ttotal: 1m 51s\tremaining: 3m 36s\n",
      "339:\tlearn: 0.4268605\ttest: 0.4264794\tbest: 0.4264794 (339)\ttotal: 1m 51s\tremaining: 3m 36s\n",
      "340:\tlearn: 0.4268568\ttest: 0.4264760\tbest: 0.4264760 (340)\ttotal: 1m 51s\tremaining: 3m 35s\n",
      "341:\tlearn: 0.4268531\ttest: 0.4264727\tbest: 0.4264727 (341)\ttotal: 1m 51s\tremaining: 3m 34s\n",
      "342:\tlearn: 0.4268496\ttest: 0.4264695\tbest: 0.4264695 (342)\ttotal: 1m 51s\tremaining: 3m 33s\n",
      "343:\tlearn: 0.4268460\ttest: 0.4264663\tbest: 0.4264663 (343)\ttotal: 1m 51s\tremaining: 3m 32s\n",
      "344:\tlearn: 0.4268426\ttest: 0.4264632\tbest: 0.4264632 (344)\ttotal: 1m 51s\tremaining: 3m 31s\n",
      "345:\tlearn: 0.4268392\ttest: 0.4264602\tbest: 0.4264602 (345)\ttotal: 1m 51s\tremaining: 3m 31s\n",
      "346:\tlearn: 0.4268351\ttest: 0.4264572\tbest: 0.4264572 (346)\ttotal: 1m 51s\tremaining: 3m 30s\n",
      "347:\tlearn: 0.4268317\ttest: 0.4264543\tbest: 0.4264543 (347)\ttotal: 1m 51s\tremaining: 3m 29s\n",
      "348:\tlearn: 0.4268286\ttest: 0.4264515\tbest: 0.4264515 (348)\ttotal: 1m 51s\tremaining: 3m 28s\n",
      "349:\tlearn: 0.4268254\ttest: 0.4264487\tbest: 0.4264487 (349)\ttotal: 1m 52s\tremaining: 3m 28s\n",
      "350:\tlearn: 0.4268223\ttest: 0.4264460\tbest: 0.4264460 (350)\ttotal: 1m 52s\tremaining: 3m 27s\n",
      "351:\tlearn: 0.4268193\ttest: 0.4264433\tbest: 0.4264433 (351)\ttotal: 1m 52s\tremaining: 3m 26s\n",
      "352:\tlearn: 0.4268163\ttest: 0.4264407\tbest: 0.4264407 (352)\ttotal: 1m 52s\tremaining: 3m 25s\n",
      "353:\tlearn: 0.4268134\ttest: 0.4264381\tbest: 0.4264381 (353)\ttotal: 1m 52s\tremaining: 3m 25s\n",
      "354:\tlearn: 0.4268099\ttest: 0.4264354\tbest: 0.4264354 (354)\ttotal: 1m 52s\tremaining: 3m 24s\n",
      "355:\tlearn: 0.4268071\ttest: 0.4264330\tbest: 0.4264330 (355)\ttotal: 1m 52s\tremaining: 3m 23s\n",
      "356:\tlearn: 0.4268044\ttest: 0.4264306\tbest: 0.4264306 (356)\ttotal: 1m 52s\tremaining: 3m 22s\n",
      "357:\tlearn: 0.4268017\ttest: 0.4264282\tbest: 0.4264282 (357)\ttotal: 1m 52s\tremaining: 3m 22s\n",
      "358:\tlearn: 0.4267991\ttest: 0.4264259\tbest: 0.4264259 (358)\ttotal: 1m 52s\tremaining: 3m 21s\n",
      "359:\tlearn: 0.4267964\ttest: 0.4264237\tbest: 0.4264237 (359)\ttotal: 1m 52s\tremaining: 3m 20s\n",
      "360:\tlearn: 0.4267938\ttest: 0.4264215\tbest: 0.4264215 (360)\ttotal: 1m 53s\tremaining: 3m 20s\n",
      "361:\tlearn: 0.4267914\ttest: 0.4264193\tbest: 0.4264193 (361)\ttotal: 1m 53s\tremaining: 3m 19s\n"
     ]
    },
    {
     "name": "stdout",
     "output_type": "stream",
     "text": [
      "362:\tlearn: 0.4267890\ttest: 0.4264172\tbest: 0.4264172 (362)\ttotal: 1m 53s\tremaining: 3m 18s\n",
      "363:\tlearn: 0.4267867\ttest: 0.4264152\tbest: 0.4264152 (363)\ttotal: 1m 53s\tremaining: 3m 17s\n",
      "364:\tlearn: 0.4267844\ttest: 0.4264131\tbest: 0.4264131 (364)\ttotal: 1m 53s\tremaining: 3m 17s\n",
      "365:\tlearn: 0.4267821\ttest: 0.4264112\tbest: 0.4264112 (365)\ttotal: 1m 53s\tremaining: 3m 16s\n",
      "366:\tlearn: 0.4267799\ttest: 0.4264092\tbest: 0.4264092 (366)\ttotal: 1m 53s\tremaining: 3m 15s\n",
      "367:\tlearn: 0.4267777\ttest: 0.4264073\tbest: 0.4264073 (367)\ttotal: 1m 53s\tremaining: 3m 14s\n",
      "368:\tlearn: 0.4267756\ttest: 0.4264055\tbest: 0.4264055 (368)\ttotal: 1m 53s\tremaining: 3m 14s\n",
      "369:\tlearn: 0.4267735\ttest: 0.4264037\tbest: 0.4264037 (369)\ttotal: 1m 53s\tremaining: 3m 13s\n",
      "370:\tlearn: 0.4267715\ttest: 0.4264019\tbest: 0.4264019 (370)\ttotal: 1m 53s\tremaining: 3m 12s\n",
      "371:\tlearn: 0.4267687\ttest: 0.4264001\tbest: 0.4264001 (371)\ttotal: 1m 53s\tremaining: 3m 12s\n",
      "372:\tlearn: 0.4267667\ttest: 0.4263984\tbest: 0.4263984 (372)\ttotal: 1m 53s\tremaining: 3m 11s\n",
      "373:\tlearn: 0.4267648\ttest: 0.4263968\tbest: 0.4263968 (373)\ttotal: 1m 53s\tremaining: 3m 10s\n",
      "374:\tlearn: 0.4267630\ttest: 0.4263952\tbest: 0.4263952 (374)\ttotal: 1m 53s\tremaining: 3m 9s\n",
      "375:\tlearn: 0.4267611\ttest: 0.4263936\tbest: 0.4263936 (375)\ttotal: 1m 54s\tremaining: 3m 9s\n",
      "376:\tlearn: 0.4267592\ttest: 0.4263920\tbest: 0.4263920 (376)\ttotal: 1m 54s\tremaining: 3m 8s\n",
      "377:\tlearn: 0.4267574\ttest: 0.4263905\tbest: 0.4263905 (377)\ttotal: 1m 54s\tremaining: 3m 8s\n",
      "378:\tlearn: 0.4267557\ttest: 0.4263890\tbest: 0.4263890 (378)\ttotal: 1m 54s\tremaining: 3m 7s\n",
      "379:\tlearn: 0.4267540\ttest: 0.4263876\tbest: 0.4263876 (379)\ttotal: 1m 54s\tremaining: 3m 6s\n",
      "380:\tlearn: 0.4267496\ttest: 0.4263861\tbest: 0.4263861 (380)\ttotal: 1m 54s\tremaining: 3m 6s\n",
      "381:\tlearn: 0.4267480\ttest: 0.4263847\tbest: 0.4263847 (381)\ttotal: 1m 54s\tremaining: 3m 5s\n",
      "382:\tlearn: 0.4267464\ttest: 0.4263833\tbest: 0.4263833 (382)\ttotal: 1m 54s\tremaining: 3m 5s\n",
      "383:\tlearn: 0.4267448\ttest: 0.4263820\tbest: 0.4263820 (383)\ttotal: 1m 54s\tremaining: 3m 4s\n",
      "384:\tlearn: 0.4267433\ttest: 0.4263807\tbest: 0.4263807 (384)\ttotal: 1m 55s\tremaining: 3m 3s\n",
      "385:\tlearn: 0.4267418\ttest: 0.4263794\tbest: 0.4263794 (385)\ttotal: 1m 55s\tremaining: 3m 3s\n",
      "386:\tlearn: 0.4267403\ttest: 0.4263781\tbest: 0.4263781 (386)\ttotal: 1m 55s\tremaining: 3m 2s\n",
      "387:\tlearn: 0.4267388\ttest: 0.4263769\tbest: 0.4263769 (387)\ttotal: 1m 55s\tremaining: 3m 1s\n",
      "388:\tlearn: 0.4267374\ttest: 0.4263757\tbest: 0.4263757 (388)\ttotal: 1m 55s\tremaining: 3m 1s\n",
      "389:\tlearn: 0.4267361\ttest: 0.4263746\tbest: 0.4263746 (389)\ttotal: 1m 55s\tremaining: 3m\n",
      "390:\tlearn: 0.4267347\ttest: 0.4263734\tbest: 0.4263734 (390)\ttotal: 1m 55s\tremaining: 2m 59s\n",
      "391:\tlearn: 0.4267334\ttest: 0.4263723\tbest: 0.4263723 (391)\ttotal: 1m 55s\tremaining: 2m 59s\n",
      "392:\tlearn: 0.4267320\ttest: 0.4263712\tbest: 0.4263712 (392)\ttotal: 1m 55s\tremaining: 2m 58s\n",
      "393:\tlearn: 0.4267308\ttest: 0.4263701\tbest: 0.4263701 (393)\ttotal: 1m 55s\tremaining: 2m 57s\n",
      "394:\tlearn: 0.4267295\ttest: 0.4263691\tbest: 0.4263691 (394)\ttotal: 1m 55s\tremaining: 2m 57s\n",
      "395:\tlearn: 0.4267282\ttest: 0.4263681\tbest: 0.4263681 (395)\ttotal: 1m 55s\tremaining: 2m 56s\n",
      "396:\tlearn: 0.4267270\ttest: 0.4263671\tbest: 0.4263671 (396)\ttotal: 1m 56s\tremaining: 2m 56s\n",
      "397:\tlearn: 0.4267258\ttest: 0.4263661\tbest: 0.4263661 (397)\ttotal: 1m 56s\tremaining: 2m 55s\n",
      "398:\tlearn: 0.4267246\ttest: 0.4263651\tbest: 0.4263651 (398)\ttotal: 1m 56s\tremaining: 2m 55s\n",
      "399:\tlearn: 0.4267233\ttest: 0.4263642\tbest: 0.4263642 (399)\ttotal: 1m 56s\tremaining: 2m 54s\n",
      "400:\tlearn: 0.4267222\ttest: 0.4263633\tbest: 0.4263633 (400)\ttotal: 1m 56s\tremaining: 2m 53s\n",
      "401:\tlearn: 0.4267211\ttest: 0.4263624\tbest: 0.4263624 (401)\ttotal: 1m 56s\tremaining: 2m 53s\n",
      "402:\tlearn: 0.4267193\ttest: 0.4263615\tbest: 0.4263615 (402)\ttotal: 1m 56s\tremaining: 2m 52s\n",
      "403:\tlearn: 0.4267183\ttest: 0.4263606\tbest: 0.4263606 (403)\ttotal: 1m 56s\tremaining: 2m 52s\n",
      "404:\tlearn: 0.4267172\ttest: 0.4263598\tbest: 0.4263598 (404)\ttotal: 1m 56s\tremaining: 2m 51s\n",
      "405:\tlearn: 0.4267162\ttest: 0.4263590\tbest: 0.4263590 (405)\ttotal: 1m 56s\tremaining: 2m 51s\n",
      "406:\tlearn: 0.4267153\ttest: 0.4263582\tbest: 0.4263582 (406)\ttotal: 1m 57s\tremaining: 2m 50s\n",
      "407:\tlearn: 0.4267138\ttest: 0.4263570\tbest: 0.4263570 (407)\ttotal: 1m 57s\tremaining: 2m 50s\n",
      "408:\tlearn: 0.4267129\ttest: 0.4263562\tbest: 0.4263562 (408)\ttotal: 1m 57s\tremaining: 2m 49s\n",
      "409:\tlearn: 0.4267119\ttest: 0.4263554\tbest: 0.4263554 (409)\ttotal: 1m 57s\tremaining: 2m 49s\n",
      "410:\tlearn: 0.4267110\ttest: 0.4263547\tbest: 0.4263547 (410)\ttotal: 1m 57s\tremaining: 2m 48s\n",
      "411:\tlearn: 0.4267101\ttest: 0.4263540\tbest: 0.4263540 (411)\ttotal: 1m 57s\tremaining: 2m 48s\n",
      "412:\tlearn: 0.4267093\ttest: 0.4263533\tbest: 0.4263533 (412)\ttotal: 1m 57s\tremaining: 2m 47s\n",
      "413:\tlearn: 0.4267084\ttest: 0.4263526\tbest: 0.4263526 (413)\ttotal: 1m 57s\tremaining: 2m 46s\n",
      "414:\tlearn: 0.4267076\ttest: 0.4263519\tbest: 0.4263519 (414)\ttotal: 1m 57s\tremaining: 2m 46s\n",
      "415:\tlearn: 0.4267067\ttest: 0.4263513\tbest: 0.4263513 (415)\ttotal: 1m 58s\tremaining: 2m 45s\n",
      "416:\tlearn: 0.4267059\ttest: 0.4263506\tbest: 0.4263506 (416)\ttotal: 1m 58s\tremaining: 2m 45s\n",
      "417:\tlearn: 0.4267052\ttest: 0.4263500\tbest: 0.4263500 (417)\ttotal: 1m 58s\tremaining: 2m 44s\n",
      "418:\tlearn: 0.4267043\ttest: 0.4263494\tbest: 0.4263494 (418)\ttotal: 1m 58s\tremaining: 2m 44s\n",
      "419:\tlearn: 0.4267036\ttest: 0.4263488\tbest: 0.4263488 (419)\ttotal: 1m 58s\tremaining: 2m 43s\n",
      "420:\tlearn: 0.4267028\ttest: 0.4263482\tbest: 0.4263482 (420)\ttotal: 1m 58s\tremaining: 2m 42s\n",
      "421:\tlearn: 0.4267021\ttest: 0.4263477\tbest: 0.4263477 (421)\ttotal: 1m 58s\tremaining: 2m 42s\n",
      "422:\tlearn: 0.4267014\ttest: 0.4263471\tbest: 0.4263471 (422)\ttotal: 1m 58s\tremaining: 2m 41s\n",
      "423:\tlearn: 0.4267007\ttest: 0.4263465\tbest: 0.4263465 (423)\ttotal: 1m 58s\tremaining: 2m 41s\n",
      "424:\tlearn: 0.4267000\ttest: 0.4263460\tbest: 0.4263460 (424)\ttotal: 1m 58s\tremaining: 2m 40s\n",
      "425:\tlearn: 0.4266994\ttest: 0.4263455\tbest: 0.4263455 (425)\ttotal: 1m 58s\tremaining: 2m 39s\n",
      "426:\tlearn: 0.4266987\ttest: 0.4263450\tbest: 0.4263450 (426)\ttotal: 1m 58s\tremaining: 2m 39s\n",
      "427:\tlearn: 0.4266981\ttest: 0.4263445\tbest: 0.4263445 (427)\ttotal: 1m 58s\tremaining: 2m 38s\n",
      "428:\tlearn: 0.4266974\ttest: 0.4263440\tbest: 0.4263440 (428)\ttotal: 1m 58s\tremaining: 2m 38s\n",
      "429:\tlearn: 0.4266968\ttest: 0.4263435\tbest: 0.4263435 (429)\ttotal: 1m 58s\tremaining: 2m 37s\n",
      "430:\tlearn: 0.4266962\ttest: 0.4263431\tbest: 0.4263431 (430)\ttotal: 1m 59s\tremaining: 2m 37s\n",
      "431:\tlearn: 0.4266956\ttest: 0.4263426\tbest: 0.4263426 (431)\ttotal: 1m 59s\tremaining: 2m 36s\n",
      "432:\tlearn: 0.4266950\ttest: 0.4263422\tbest: 0.4263422 (432)\ttotal: 1m 59s\tremaining: 2m 36s\n",
      "433:\tlearn: 0.4266945\ttest: 0.4263417\tbest: 0.4263417 (433)\ttotal: 1m 59s\tremaining: 2m 35s\n",
      "434:\tlearn: 0.4266939\ttest: 0.4263413\tbest: 0.4263413 (434)\ttotal: 1m 59s\tremaining: 2m 34s\n",
      "435:\tlearn: 0.4266933\ttest: 0.4263409\tbest: 0.4263409 (435)\ttotal: 1m 59s\tremaining: 2m 34s\n",
      "436:\tlearn: 0.4266928\ttest: 0.4263405\tbest: 0.4263405 (436)\ttotal: 1m 59s\tremaining: 2m 33s\n",
      "437:\tlearn: 0.4266918\ttest: 0.4263401\tbest: 0.4263401 (437)\ttotal: 1m 59s\tremaining: 2m 33s\n",
      "438:\tlearn: 0.4266912\ttest: 0.4263397\tbest: 0.4263397 (438)\ttotal: 1m 59s\tremaining: 2m 32s\n",
      "439:\tlearn: 0.4266907\ttest: 0.4263393\tbest: 0.4263393 (439)\ttotal: 1m 59s\tremaining: 2m 32s\n",
      "440:\tlearn: 0.4266902\ttest: 0.4263390\tbest: 0.4263390 (440)\ttotal: 1m 59s\tremaining: 2m 31s\n",
      "441:\tlearn: 0.4266898\ttest: 0.4263386\tbest: 0.4263386 (441)\ttotal: 1m 59s\tremaining: 2m 31s\n",
      "442:\tlearn: 0.4266893\ttest: 0.4263383\tbest: 0.4263383 (442)\ttotal: 1m 59s\tremaining: 2m 30s\n",
      "443:\tlearn: 0.4266888\ttest: 0.4263379\tbest: 0.4263379 (443)\ttotal: 1m 59s\tremaining: 2m 30s\n",
      "444:\tlearn: 0.4266884\ttest: 0.4263376\tbest: 0.4263376 (444)\ttotal: 1m 59s\tremaining: 2m 29s\n",
      "445:\tlearn: 0.4266879\ttest: 0.4263373\tbest: 0.4263373 (445)\ttotal: 2m\tremaining: 2m 29s\n",
      "446:\tlearn: 0.4266875\ttest: 0.4263369\tbest: 0.4263369 (446)\ttotal: 2m\tremaining: 2m 28s\n",
      "447:\tlearn: 0.4266870\ttest: 0.4263366\tbest: 0.4263366 (447)\ttotal: 2m\tremaining: 2m 28s\n",
      "448:\tlearn: 0.4266866\ttest: 0.4263363\tbest: 0.4263363 (448)\ttotal: 2m\tremaining: 2m 27s\n",
      "449:\tlearn: 0.4266862\ttest: 0.4263360\tbest: 0.4263360 (449)\ttotal: 2m\tremaining: 2m 27s\n",
      "450:\tlearn: 0.4266858\ttest: 0.4263357\tbest: 0.4263357 (450)\ttotal: 2m\tremaining: 2m 26s\n",
      "451:\tlearn: 0.4266854\ttest: 0.4263355\tbest: 0.4263355 (451)\ttotal: 2m\tremaining: 2m 26s\n"
     ]
    },
    {
     "name": "stdout",
     "output_type": "stream",
     "text": [
      "452:\tlearn: 0.4266850\ttest: 0.4263352\tbest: 0.4263352 (452)\ttotal: 2m\tremaining: 2m 25s\n",
      "453:\tlearn: 0.4266846\ttest: 0.4263349\tbest: 0.4263349 (453)\ttotal: 2m\tremaining: 2m 24s\n",
      "454:\tlearn: 0.4266843\ttest: 0.4263347\tbest: 0.4263347 (454)\ttotal: 2m\tremaining: 2m 24s\n",
      "455:\tlearn: 0.4266839\ttest: 0.4263344\tbest: 0.4263344 (455)\ttotal: 2m\tremaining: 2m 23s\n",
      "456:\tlearn: 0.4266835\ttest: 0.4263342\tbest: 0.4263342 (456)\ttotal: 2m\tremaining: 2m 23s\n",
      "457:\tlearn: 0.4266832\ttest: 0.4263339\tbest: 0.4263339 (457)\ttotal: 2m\tremaining: 2m 22s\n",
      "458:\tlearn: 0.4266829\ttest: 0.4263337\tbest: 0.4263337 (458)\ttotal: 2m\tremaining: 2m 22s\n",
      "459:\tlearn: 0.4266825\ttest: 0.4263334\tbest: 0.4263334 (459)\ttotal: 2m\tremaining: 2m 21s\n",
      "460:\tlearn: 0.4266822\ttest: 0.4263332\tbest: 0.4263332 (460)\ttotal: 2m 1s\tremaining: 2m 21s\n",
      "461:\tlearn: 0.4266819\ttest: 0.4263330\tbest: 0.4263330 (461)\ttotal: 2m 1s\tremaining: 2m 21s\n",
      "462:\tlearn: 0.4266815\ttest: 0.4263328\tbest: 0.4263328 (462)\ttotal: 2m 1s\tremaining: 2m 20s\n",
      "463:\tlearn: 0.4266812\ttest: 0.4263326\tbest: 0.4263326 (463)\ttotal: 2m 1s\tremaining: 2m 20s\n",
      "464:\tlearn: 0.4266807\ttest: 0.4263324\tbest: 0.4263324 (464)\ttotal: 2m 1s\tremaining: 2m 19s\n",
      "465:\tlearn: 0.4266804\ttest: 0.4263322\tbest: 0.4263322 (465)\ttotal: 2m 1s\tremaining: 2m 19s\n",
      "466:\tlearn: 0.4266801\ttest: 0.4263320\tbest: 0.4263320 (466)\ttotal: 2m 1s\tremaining: 2m 18s\n",
      "467:\tlearn: 0.4266798\ttest: 0.4263318\tbest: 0.4263318 (467)\ttotal: 2m 1s\tremaining: 2m 18s\n",
      "468:\tlearn: 0.4266795\ttest: 0.4263316\tbest: 0.4263316 (468)\ttotal: 2m 1s\tremaining: 2m 17s\n",
      "469:\tlearn: 0.4266793\ttest: 0.4263314\tbest: 0.4263314 (469)\ttotal: 2m 1s\tremaining: 2m 17s\n",
      "470:\tlearn: 0.4266790\ttest: 0.4263312\tbest: 0.4263312 (470)\ttotal: 2m 1s\tremaining: 2m 16s\n",
      "471:\tlearn: 0.4266787\ttest: 0.4263311\tbest: 0.4263311 (471)\ttotal: 2m 1s\tremaining: 2m 16s\n",
      "472:\tlearn: 0.4266785\ttest: 0.4263309\tbest: 0.4263309 (472)\ttotal: 2m 1s\tremaining: 2m 15s\n",
      "473:\tlearn: 0.4266782\ttest: 0.4263307\tbest: 0.4263307 (473)\ttotal: 2m 2s\tremaining: 2m 15s\n",
      "474:\tlearn: 0.4266780\ttest: 0.4263306\tbest: 0.4263306 (474)\ttotal: 2m 2s\tremaining: 2m 14s\n",
      "475:\tlearn: 0.4266777\ttest: 0.4263304\tbest: 0.4263304 (475)\ttotal: 2m 2s\tremaining: 2m 14s\n",
      "476:\tlearn: 0.4266775\ttest: 0.4263303\tbest: 0.4263303 (476)\ttotal: 2m 2s\tremaining: 2m 14s\n",
      "477:\tlearn: 0.4266772\ttest: 0.4263301\tbest: 0.4263301 (477)\ttotal: 2m 2s\tremaining: 2m 13s\n",
      "478:\tlearn: 0.4266770\ttest: 0.4263300\tbest: 0.4263300 (478)\ttotal: 2m 2s\tremaining: 2m 13s\n",
      "479:\tlearn: 0.4266768\ttest: 0.4263298\tbest: 0.4263298 (479)\ttotal: 2m 2s\tremaining: 2m 12s\n",
      "480:\tlearn: 0.4266766\ttest: 0.4263297\tbest: 0.4263297 (480)\ttotal: 2m 2s\tremaining: 2m 12s\n",
      "481:\tlearn: 0.4266763\ttest: 0.4263296\tbest: 0.4263296 (481)\ttotal: 2m 2s\tremaining: 2m 11s\n",
      "482:\tlearn: 0.4266761\ttest: 0.4263294\tbest: 0.4263294 (482)\ttotal: 2m 2s\tremaining: 2m 11s\n",
      "483:\tlearn: 0.4266755\ttest: 0.4263293\tbest: 0.4263293 (483)\ttotal: 2m 2s\tremaining: 2m 10s\n",
      "484:\tlearn: 0.4266753\ttest: 0.4263292\tbest: 0.4263292 (484)\ttotal: 2m 2s\tremaining: 2m 10s\n",
      "485:\tlearn: 0.4266751\ttest: 0.4263291\tbest: 0.4263291 (485)\ttotal: 2m 2s\tremaining: 2m 9s\n",
      "486:\tlearn: 0.4266749\ttest: 0.4263289\tbest: 0.4263289 (486)\ttotal: 2m 2s\tremaining: 2m 9s\n",
      "487:\tlearn: 0.4266747\ttest: 0.4263288\tbest: 0.4263288 (487)\ttotal: 2m 3s\tremaining: 2m 9s\n",
      "488:\tlearn: 0.4266745\ttest: 0.4263287\tbest: 0.4263287 (488)\ttotal: 2m 3s\tremaining: 2m 8s\n",
      "489:\tlearn: 0.4266743\ttest: 0.4263286\tbest: 0.4263286 (489)\ttotal: 2m 3s\tremaining: 2m 8s\n",
      "490:\tlearn: 0.4266741\ttest: 0.4263285\tbest: 0.4263285 (490)\ttotal: 2m 3s\tremaining: 2m 7s\n",
      "491:\tlearn: 0.4266740\ttest: 0.4263284\tbest: 0.4263284 (491)\ttotal: 2m 3s\tremaining: 2m 7s\n",
      "492:\tlearn: 0.4266738\ttest: 0.4263283\tbest: 0.4263283 (492)\ttotal: 2m 3s\tremaining: 2m 6s\n",
      "493:\tlearn: 0.4266736\ttest: 0.4263282\tbest: 0.4263282 (493)\ttotal: 2m 3s\tremaining: 2m 6s\n",
      "494:\tlearn: 0.4266735\ttest: 0.4263281\tbest: 0.4263281 (494)\ttotal: 2m 3s\tremaining: 2m 6s\n",
      "495:\tlearn: 0.4266733\ttest: 0.4263280\tbest: 0.4263280 (495)\ttotal: 2m 3s\tremaining: 2m 5s\n",
      "496:\tlearn: 0.4266731\ttest: 0.4263279\tbest: 0.4263279 (496)\ttotal: 2m 3s\tremaining: 2m 5s\n",
      "497:\tlearn: 0.4266730\ttest: 0.4263279\tbest: 0.4263279 (497)\ttotal: 2m 3s\tremaining: 2m 4s\n",
      "498:\tlearn: 0.4266728\ttest: 0.4263278\tbest: 0.4263278 (498)\ttotal: 2m 3s\tremaining: 2m 4s\n",
      "499:\tlearn: 0.4266727\ttest: 0.4263277\tbest: 0.4263277 (499)\ttotal: 2m 3s\tremaining: 2m 3s\n",
      "500:\tlearn: 0.4266725\ttest: 0.4263276\tbest: 0.4263276 (500)\ttotal: 2m 3s\tremaining: 2m 3s\n",
      "501:\tlearn: 0.4266724\ttest: 0.4263275\tbest: 0.4263275 (501)\ttotal: 2m 3s\tremaining: 2m 3s\n",
      "502:\tlearn: 0.4266722\ttest: 0.4263275\tbest: 0.4263275 (502)\ttotal: 2m 4s\tremaining: 2m 2s\n",
      "503:\tlearn: 0.4266720\ttest: 0.4263274\tbest: 0.4263274 (503)\ttotal: 2m 4s\tremaining: 2m 2s\n",
      "504:\tlearn: 0.4266719\ttest: 0.4263273\tbest: 0.4263273 (504)\ttotal: 2m 4s\tremaining: 2m 1s\n",
      "505:\tlearn: 0.4266717\ttest: 0.4263273\tbest: 0.4263273 (505)\ttotal: 2m 4s\tremaining: 2m 1s\n",
      "506:\tlearn: 0.4266716\ttest: 0.4263272\tbest: 0.4263272 (506)\ttotal: 2m 4s\tremaining: 2m\n",
      "507:\tlearn: 0.4266714\ttest: 0.4263271\tbest: 0.4263271 (507)\ttotal: 2m 4s\tremaining: 2m\n",
      "508:\tlearn: 0.4266713\ttest: 0.4263271\tbest: 0.4263271 (508)\ttotal: 2m 4s\tremaining: 2m\n",
      "509:\tlearn: 0.4266712\ttest: 0.4263270\tbest: 0.4263270 (509)\ttotal: 2m 4s\tremaining: 1m 59s\n",
      "510:\tlearn: 0.4266710\ttest: 0.4263269\tbest: 0.4263269 (510)\ttotal: 2m 4s\tremaining: 1m 59s\n",
      "511:\tlearn: 0.4266709\ttest: 0.4263269\tbest: 0.4263269 (511)\ttotal: 2m 4s\tremaining: 1m 59s\n",
      "512:\tlearn: 0.4266708\ttest: 0.4263268\tbest: 0.4263268 (512)\ttotal: 2m 4s\tremaining: 1m 58s\n",
      "513:\tlearn: 0.4266707\ttest: 0.4263268\tbest: 0.4263268 (513)\ttotal: 2m 4s\tremaining: 1m 58s\n",
      "514:\tlearn: 0.4266706\ttest: 0.4263267\tbest: 0.4263267 (514)\ttotal: 2m 5s\tremaining: 1m 57s\n",
      "515:\tlearn: 0.4266705\ttest: 0.4263267\tbest: 0.4263267 (515)\ttotal: 2m 5s\tremaining: 1m 57s\n",
      "516:\tlearn: 0.4266704\ttest: 0.4263266\tbest: 0.4263266 (516)\ttotal: 2m 5s\tremaining: 1m 56s\n",
      "517:\tlearn: 0.4266702\ttest: 0.4263266\tbest: 0.4263266 (517)\ttotal: 2m 5s\tremaining: 1m 56s\n",
      "518:\tlearn: 0.4266701\ttest: 0.4263265\tbest: 0.4263265 (518)\ttotal: 2m 5s\tremaining: 1m 56s\n",
      "519:\tlearn: 0.4266700\ttest: 0.4263265\tbest: 0.4263265 (519)\ttotal: 2m 5s\tremaining: 1m 55s\n",
      "520:\tlearn: 0.4266699\ttest: 0.4263265\tbest: 0.4263265 (520)\ttotal: 2m 5s\tremaining: 1m 55s\n",
      "521:\tlearn: 0.4266698\ttest: 0.4263264\tbest: 0.4263264 (521)\ttotal: 2m 5s\tremaining: 1m 54s\n",
      "522:\tlearn: 0.4266697\ttest: 0.4263264\tbest: 0.4263264 (522)\ttotal: 2m 5s\tremaining: 1m 54s\n",
      "523:\tlearn: 0.4266696\ttest: 0.4263263\tbest: 0.4263263 (523)\ttotal: 2m 5s\tremaining: 1m 54s\n",
      "524:\tlearn: 0.4266695\ttest: 0.4263263\tbest: 0.4263263 (524)\ttotal: 2m 5s\tremaining: 1m 53s\n",
      "525:\tlearn: 0.4266694\ttest: 0.4263263\tbest: 0.4263263 (525)\ttotal: 2m 5s\tremaining: 1m 53s\n",
      "526:\tlearn: 0.4266693\ttest: 0.4263262\tbest: 0.4263262 (526)\ttotal: 2m 5s\tremaining: 1m 52s\n",
      "527:\tlearn: 0.4266693\ttest: 0.4263262\tbest: 0.4263262 (527)\ttotal: 2m 5s\tremaining: 1m 52s\n",
      "528:\tlearn: 0.4266692\ttest: 0.4263262\tbest: 0.4263262 (528)\ttotal: 2m 5s\tremaining: 1m 52s\n",
      "529:\tlearn: 0.4266691\ttest: 0.4263261\tbest: 0.4263261 (529)\ttotal: 2m 6s\tremaining: 1m 51s\n",
      "530:\tlearn: 0.4266690\ttest: 0.4263261\tbest: 0.4263261 (530)\ttotal: 2m 6s\tremaining: 1m 51s\n",
      "531:\tlearn: 0.4266689\ttest: 0.4263261\tbest: 0.4263261 (531)\ttotal: 2m 6s\tremaining: 1m 51s\n",
      "532:\tlearn: 0.4266688\ttest: 0.4263261\tbest: 0.4263261 (532)\ttotal: 2m 6s\tremaining: 1m 50s\n",
      "533:\tlearn: 0.4266688\ttest: 0.4263260\tbest: 0.4263260 (533)\ttotal: 2m 6s\tremaining: 1m 50s\n",
      "534:\tlearn: 0.4266687\ttest: 0.4263260\tbest: 0.4263260 (534)\ttotal: 2m 6s\tremaining: 1m 49s\n",
      "535:\tlearn: 0.4266686\ttest: 0.4263260\tbest: 0.4263260 (535)\ttotal: 2m 6s\tremaining: 1m 49s\n",
      "536:\tlearn: 0.4266686\ttest: 0.4263260\tbest: 0.4263260 (536)\ttotal: 2m 6s\tremaining: 1m 49s\n",
      "537:\tlearn: 0.4266685\ttest: 0.4263259\tbest: 0.4263259 (537)\ttotal: 2m 6s\tremaining: 1m 48s\n",
      "538:\tlearn: 0.4266684\ttest: 0.4263259\tbest: 0.4263259 (538)\ttotal: 2m 6s\tremaining: 1m 48s\n",
      "539:\tlearn: 0.4266683\ttest: 0.4263259\tbest: 0.4263259 (539)\ttotal: 2m 6s\tremaining: 1m 48s\n",
      "540:\tlearn: 0.4266683\ttest: 0.4263259\tbest: 0.4263259 (540)\ttotal: 2m 6s\tremaining: 1m 47s\n",
      "541:\tlearn: 0.4266682\ttest: 0.4263259\tbest: 0.4263259 (541)\ttotal: 2m 6s\tremaining: 1m 47s\n",
      "542:\tlearn: 0.4266682\ttest: 0.4263258\tbest: 0.4263258 (542)\ttotal: 2m 7s\tremaining: 1m 46s\n"
     ]
    },
    {
     "name": "stdout",
     "output_type": "stream",
     "text": [
      "543:\tlearn: 0.4266681\ttest: 0.4263258\tbest: 0.4263258 (543)\ttotal: 2m 7s\tremaining: 1m 46s\n",
      "544:\tlearn: 0.4266680\ttest: 0.4263258\tbest: 0.4263258 (544)\ttotal: 2m 7s\tremaining: 1m 46s\n",
      "545:\tlearn: 0.4266680\ttest: 0.4263258\tbest: 0.4263258 (545)\ttotal: 2m 7s\tremaining: 1m 45s\n",
      "546:\tlearn: 0.4266679\ttest: 0.4263258\tbest: 0.4263258 (546)\ttotal: 2m 7s\tremaining: 1m 45s\n",
      "547:\tlearn: 0.4266679\ttest: 0.4263258\tbest: 0.4263258 (547)\ttotal: 2m 7s\tremaining: 1m 45s\n",
      "548:\tlearn: 0.4266678\ttest: 0.4263257\tbest: 0.4263257 (548)\ttotal: 2m 7s\tremaining: 1m 44s\n",
      "549:\tlearn: 0.4266677\ttest: 0.4263257\tbest: 0.4263257 (549)\ttotal: 2m 7s\tremaining: 1m 44s\n",
      "550:\tlearn: 0.4266677\ttest: 0.4263257\tbest: 0.4263257 (550)\ttotal: 2m 7s\tremaining: 1m 44s\n",
      "551:\tlearn: 0.4266676\ttest: 0.4263257\tbest: 0.4263257 (551)\ttotal: 2m 7s\tremaining: 1m 43s\n",
      "552:\tlearn: 0.4266676\ttest: 0.4263257\tbest: 0.4263257 (552)\ttotal: 2m 7s\tremaining: 1m 43s\n",
      "553:\tlearn: 0.4266675\ttest: 0.4263257\tbest: 0.4263257 (553)\ttotal: 2m 7s\tremaining: 1m 42s\n",
      "554:\tlearn: 0.4266675\ttest: 0.4263257\tbest: 0.4263257 (554)\ttotal: 2m 7s\tremaining: 1m 42s\n",
      "555:\tlearn: 0.4266674\ttest: 0.4263257\tbest: 0.4263257 (555)\ttotal: 2m 7s\tremaining: 1m 42s\n",
      "556:\tlearn: 0.4266674\ttest: 0.4263257\tbest: 0.4263257 (556)\ttotal: 2m 8s\tremaining: 1m 41s\n",
      "557:\tlearn: 0.4266673\ttest: 0.4263256\tbest: 0.4263256 (557)\ttotal: 2m 8s\tremaining: 1m 41s\n",
      "558:\tlearn: 0.4266673\ttest: 0.4263256\tbest: 0.4263256 (558)\ttotal: 2m 8s\tremaining: 1m 41s\n",
      "559:\tlearn: 0.4266672\ttest: 0.4263256\tbest: 0.4263256 (559)\ttotal: 2m 8s\tremaining: 1m 40s\n",
      "560:\tlearn: 0.4266672\ttest: 0.4263256\tbest: 0.4263256 (560)\ttotal: 2m 8s\tremaining: 1m 40s\n",
      "561:\tlearn: 0.4266672\ttest: 0.4263256\tbest: 0.4263256 (561)\ttotal: 2m 8s\tremaining: 1m 40s\n",
      "562:\tlearn: 0.4266671\ttest: 0.4263256\tbest: 0.4263256 (562)\ttotal: 2m 8s\tremaining: 1m 39s\n",
      "563:\tlearn: 0.4266671\ttest: 0.4263256\tbest: 0.4263256 (563)\ttotal: 2m 8s\tremaining: 1m 39s\n",
      "564:\tlearn: 0.4266670\ttest: 0.4263256\tbest: 0.4263256 (564)\ttotal: 2m 8s\tremaining: 1m 39s\n",
      "565:\tlearn: 0.4266670\ttest: 0.4263256\tbest: 0.4263256 (565)\ttotal: 2m 8s\tremaining: 1m 38s\n",
      "566:\tlearn: 0.4266669\ttest: 0.4263256\tbest: 0.4263256 (566)\ttotal: 2m 8s\tremaining: 1m 38s\n",
      "567:\tlearn: 0.4266669\ttest: 0.4263256\tbest: 0.4263256 (567)\ttotal: 2m 8s\tremaining: 1m 38s\n",
      "568:\tlearn: 0.4266669\ttest: 0.4263256\tbest: 0.4263256 (568)\ttotal: 2m 8s\tremaining: 1m 37s\n",
      "569:\tlearn: 0.4266668\ttest: 0.4263256\tbest: 0.4263256 (569)\ttotal: 2m 8s\tremaining: 1m 37s\n",
      "570:\tlearn: 0.4266668\ttest: 0.4263256\tbest: 0.4263256 (570)\ttotal: 2m 9s\tremaining: 1m 36s\n",
      "571:\tlearn: 0.4266668\ttest: 0.4263256\tbest: 0.4263256 (571)\ttotal: 2m 9s\tremaining: 1m 36s\n",
      "572:\tlearn: 0.4266667\ttest: 0.4263256\tbest: 0.4263256 (572)\ttotal: 2m 9s\tremaining: 1m 36s\n",
      "573:\tlearn: 0.4266667\ttest: 0.4263256\tbest: 0.4263256 (573)\ttotal: 2m 9s\tremaining: 1m 35s\n",
      "574:\tlearn: 0.4266667\ttest: 0.4263256\tbest: 0.4263256 (574)\ttotal: 2m 9s\tremaining: 1m 35s\n",
      "575:\tlearn: 0.4266666\ttest: 0.4263256\tbest: 0.4263256 (575)\ttotal: 2m 9s\tremaining: 1m 35s\n",
      "576:\tlearn: 0.4266666\ttest: 0.4263256\tbest: 0.4263256 (575)\ttotal: 2m 9s\tremaining: 1m 34s\n",
      "577:\tlearn: 0.4266666\ttest: 0.4263256\tbest: 0.4263256 (575)\ttotal: 2m 9s\tremaining: 1m 34s\n",
      "578:\tlearn: 0.4266665\ttest: 0.4263256\tbest: 0.4263256 (575)\ttotal: 2m 9s\tremaining: 1m 34s\n",
      "579:\tlearn: 0.4266665\ttest: 0.4263256\tbest: 0.4263256 (575)\ttotal: 2m 9s\tremaining: 1m 33s\n",
      "580:\tlearn: 0.4266665\ttest: 0.4263256\tbest: 0.4263256 (575)\ttotal: 2m 9s\tremaining: 1m 33s\n",
      "581:\tlearn: 0.4266664\ttest: 0.4263256\tbest: 0.4263256 (575)\ttotal: 2m 9s\tremaining: 1m 33s\n",
      "582:\tlearn: 0.4266664\ttest: 0.4263256\tbest: 0.4263256 (575)\ttotal: 2m 9s\tremaining: 1m 32s\n",
      "583:\tlearn: 0.4266664\ttest: 0.4263256\tbest: 0.4263256 (575)\ttotal: 2m 9s\tremaining: 1m 32s\n",
      "584:\tlearn: 0.4266663\ttest: 0.4263256\tbest: 0.4263256 (575)\ttotal: 2m 9s\tremaining: 1m 32s\n",
      "585:\tlearn: 0.4266663\ttest: 0.4263256\tbest: 0.4263256 (575)\ttotal: 2m 9s\tremaining: 1m 31s\n",
      "586:\tlearn: 0.4266663\ttest: 0.4263256\tbest: 0.4263256 (575)\ttotal: 2m 9s\tremaining: 1m 31s\n",
      "587:\tlearn: 0.4266663\ttest: 0.4263256\tbest: 0.4263256 (575)\ttotal: 2m 10s\tremaining: 1m 31s\n",
      "588:\tlearn: 0.4266662\ttest: 0.4263256\tbest: 0.4263256 (575)\ttotal: 2m 10s\tremaining: 1m 30s\n",
      "589:\tlearn: 0.4266662\ttest: 0.4263256\tbest: 0.4263256 (575)\ttotal: 2m 10s\tremaining: 1m 30s\n",
      "590:\tlearn: 0.4266662\ttest: 0.4263256\tbest: 0.4263256 (575)\ttotal: 2m 10s\tremaining: 1m 30s\n",
      "591:\tlearn: 0.4266662\ttest: 0.4263256\tbest: 0.4263256 (575)\ttotal: 2m 10s\tremaining: 1m 29s\n",
      "592:\tlearn: 0.4266661\ttest: 0.4263256\tbest: 0.4263256 (575)\ttotal: 2m 10s\tremaining: 1m 29s\n",
      "593:\tlearn: 0.4266661\ttest: 0.4263256\tbest: 0.4263256 (575)\ttotal: 2m 10s\tremaining: 1m 29s\n",
      "594:\tlearn: 0.4266661\ttest: 0.4263256\tbest: 0.4263256 (575)\ttotal: 2m 10s\tremaining: 1m 28s\n",
      "595:\tlearn: 0.4266661\ttest: 0.4263256\tbest: 0.4263256 (575)\ttotal: 2m 10s\tremaining: 1m 28s\n",
      "596:\tlearn: 0.4266661\ttest: 0.4263256\tbest: 0.4263256 (575)\ttotal: 2m 10s\tremaining: 1m 28s\n",
      "597:\tlearn: 0.4266660\ttest: 0.4263256\tbest: 0.4263256 (575)\ttotal: 2m 10s\tremaining: 1m 27s\n",
      "598:\tlearn: 0.4266660\ttest: 0.4263257\tbest: 0.4263256 (575)\ttotal: 2m 10s\tremaining: 1m 27s\n",
      "599:\tlearn: 0.4266660\ttest: 0.4263257\tbest: 0.4263256 (575)\ttotal: 2m 10s\tremaining: 1m 27s\n",
      "600:\tlearn: 0.4266660\ttest: 0.4263257\tbest: 0.4263256 (575)\ttotal: 2m 10s\tremaining: 1m 26s\n",
      "601:\tlearn: 0.4266659\ttest: 0.4263257\tbest: 0.4263256 (575)\ttotal: 2m 10s\tremaining: 1m 26s\n",
      "602:\tlearn: 0.4266659\ttest: 0.4263257\tbest: 0.4263256 (575)\ttotal: 2m 10s\tremaining: 1m 26s\n",
      "603:\tlearn: 0.4266659\ttest: 0.4263257\tbest: 0.4263256 (575)\ttotal: 2m 10s\tremaining: 1m 25s\n",
      "604:\tlearn: 0.4266659\ttest: 0.4263257\tbest: 0.4263256 (575)\ttotal: 2m 11s\tremaining: 1m 25s\n",
      "605:\tlearn: 0.4266659\ttest: 0.4263257\tbest: 0.4263256 (575)\ttotal: 2m 11s\tremaining: 1m 25s\n",
      "606:\tlearn: 0.4266659\ttest: 0.4263257\tbest: 0.4263256 (575)\ttotal: 2m 11s\tremaining: 1m 24s\n",
      "607:\tlearn: 0.4266658\ttest: 0.4263257\tbest: 0.4263256 (575)\ttotal: 2m 11s\tremaining: 1m 24s\n",
      "608:\tlearn: 0.4266658\ttest: 0.4263257\tbest: 0.4263256 (575)\ttotal: 2m 11s\tremaining: 1m 24s\n",
      "609:\tlearn: 0.4266658\ttest: 0.4263257\tbest: 0.4263256 (575)\ttotal: 2m 11s\tremaining: 1m 23s\n",
      "610:\tlearn: 0.4266658\ttest: 0.4263257\tbest: 0.4263256 (575)\ttotal: 2m 11s\tremaining: 1m 23s\n",
      "611:\tlearn: 0.4266658\ttest: 0.4263257\tbest: 0.4263256 (575)\ttotal: 2m 11s\tremaining: 1m 23s\n",
      "612:\tlearn: 0.4266658\ttest: 0.4263257\tbest: 0.4263256 (575)\ttotal: 2m 11s\tremaining: 1m 23s\n",
      "613:\tlearn: 0.4266657\ttest: 0.4263257\tbest: 0.4263256 (575)\ttotal: 2m 11s\tremaining: 1m 22s\n",
      "614:\tlearn: 0.4266657\ttest: 0.4263258\tbest: 0.4263256 (575)\ttotal: 2m 11s\tremaining: 1m 22s\n",
      "615:\tlearn: 0.4266657\ttest: 0.4263258\tbest: 0.4263256 (575)\ttotal: 2m 11s\tremaining: 1m 22s\n",
      "616:\tlearn: 0.4266657\ttest: 0.4263258\tbest: 0.4263256 (575)\ttotal: 2m 11s\tremaining: 1m 21s\n",
      "617:\tlearn: 0.4266657\ttest: 0.4263258\tbest: 0.4263256 (575)\ttotal: 2m 11s\tremaining: 1m 21s\n",
      "618:\tlearn: 0.4266657\ttest: 0.4263258\tbest: 0.4263256 (575)\ttotal: 2m 11s\tremaining: 1m 21s\n",
      "619:\tlearn: 0.4266656\ttest: 0.4263258\tbest: 0.4263256 (575)\ttotal: 2m 12s\tremaining: 1m 20s\n",
      "620:\tlearn: 0.4266656\ttest: 0.4263258\tbest: 0.4263256 (575)\ttotal: 2m 12s\tremaining: 1m 20s\n",
      "621:\tlearn: 0.4266656\ttest: 0.4263258\tbest: 0.4263256 (575)\ttotal: 2m 12s\tremaining: 1m 20s\n",
      "622:\tlearn: 0.4266656\ttest: 0.4263258\tbest: 0.4263256 (575)\ttotal: 2m 12s\tremaining: 1m 20s\n",
      "623:\tlearn: 0.4266656\ttest: 0.4263258\tbest: 0.4263256 (575)\ttotal: 2m 12s\tremaining: 1m 19s\n",
      "624:\tlearn: 0.4266656\ttest: 0.4263258\tbest: 0.4263256 (575)\ttotal: 2m 12s\tremaining: 1m 19s\n",
      "625:\tlearn: 0.4266656\ttest: 0.4263258\tbest: 0.4263256 (575)\ttotal: 2m 12s\tremaining: 1m 19s\n",
      "626:\tlearn: 0.4266656\ttest: 0.4263258\tbest: 0.4263256 (575)\ttotal: 2m 12s\tremaining: 1m 18s\n",
      "627:\tlearn: 0.4266655\ttest: 0.4263258\tbest: 0.4263256 (575)\ttotal: 2m 12s\tremaining: 1m 18s\n",
      "628:\tlearn: 0.4266655\ttest: 0.4263259\tbest: 0.4263256 (575)\ttotal: 2m 12s\tremaining: 1m 18s\n",
      "629:\tlearn: 0.4266655\ttest: 0.4263259\tbest: 0.4263256 (575)\ttotal: 2m 12s\tremaining: 1m 17s\n",
      "630:\tlearn: 0.4266655\ttest: 0.4263259\tbest: 0.4263256 (575)\ttotal: 2m 12s\tremaining: 1m 17s\n",
      "631:\tlearn: 0.4266655\ttest: 0.4263259\tbest: 0.4263256 (575)\ttotal: 2m 12s\tremaining: 1m 17s\n",
      "632:\tlearn: 0.4266655\ttest: 0.4263259\tbest: 0.4263256 (575)\ttotal: 2m 12s\tremaining: 1m 17s\n"
     ]
    },
    {
     "name": "stdout",
     "output_type": "stream",
     "text": [
      "633:\tlearn: 0.4266655\ttest: 0.4263259\tbest: 0.4263256 (575)\ttotal: 2m 12s\tremaining: 1m 16s\n",
      "634:\tlearn: 0.4266655\ttest: 0.4263259\tbest: 0.4263256 (575)\ttotal: 2m 13s\tremaining: 1m 16s\n",
      "635:\tlearn: 0.4266655\ttest: 0.4263259\tbest: 0.4263256 (575)\ttotal: 2m 13s\tremaining: 1m 16s\n",
      "636:\tlearn: 0.4266655\ttest: 0.4263259\tbest: 0.4263256 (575)\ttotal: 2m 13s\tremaining: 1m 15s\n",
      "637:\tlearn: 0.4266654\ttest: 0.4263259\tbest: 0.4263256 (575)\ttotal: 2m 13s\tremaining: 1m 15s\n",
      "638:\tlearn: 0.4266654\ttest: 0.4263259\tbest: 0.4263256 (575)\ttotal: 2m 13s\tremaining: 1m 15s\n",
      "639:\tlearn: 0.4266654\ttest: 0.4263259\tbest: 0.4263256 (575)\ttotal: 2m 13s\tremaining: 1m 15s\n",
      "640:\tlearn: 0.4266654\ttest: 0.4263260\tbest: 0.4263256 (575)\ttotal: 2m 13s\tremaining: 1m 14s\n",
      "641:\tlearn: 0.4266654\ttest: 0.4263260\tbest: 0.4263256 (575)\ttotal: 2m 13s\tremaining: 1m 14s\n",
      "642:\tlearn: 0.4266654\ttest: 0.4263260\tbest: 0.4263256 (575)\ttotal: 2m 13s\tremaining: 1m 14s\n",
      "643:\tlearn: 0.4266654\ttest: 0.4263260\tbest: 0.4263256 (575)\ttotal: 2m 13s\tremaining: 1m 13s\n",
      "644:\tlearn: 0.4266654\ttest: 0.4263260\tbest: 0.4263256 (575)\ttotal: 2m 13s\tremaining: 1m 13s\n",
      "645:\tlearn: 0.4266654\ttest: 0.4263260\tbest: 0.4263256 (575)\ttotal: 2m 13s\tremaining: 1m 13s\n",
      "646:\tlearn: 0.4266654\ttest: 0.4263260\tbest: 0.4263256 (575)\ttotal: 2m 13s\tremaining: 1m 13s\n",
      "647:\tlearn: 0.4266654\ttest: 0.4263260\tbest: 0.4263256 (575)\ttotal: 2m 13s\tremaining: 1m 12s\n",
      "648:\tlearn: 0.4266653\ttest: 0.4263260\tbest: 0.4263256 (575)\ttotal: 2m 14s\tremaining: 1m 12s\n",
      "649:\tlearn: 0.4266653\ttest: 0.4263260\tbest: 0.4263256 (575)\ttotal: 2m 14s\tremaining: 1m 12s\n",
      "650:\tlearn: 0.4266653\ttest: 0.4263260\tbest: 0.4263256 (575)\ttotal: 2m 14s\tremaining: 1m 11s\n",
      "651:\tlearn: 0.4266653\ttest: 0.4263260\tbest: 0.4263256 (575)\ttotal: 2m 14s\tremaining: 1m 11s\n",
      "652:\tlearn: 0.4266653\ttest: 0.4263260\tbest: 0.4263256 (575)\ttotal: 2m 14s\tremaining: 1m 11s\n",
      "653:\tlearn: 0.4266653\ttest: 0.4263261\tbest: 0.4263256 (575)\ttotal: 2m 14s\tremaining: 1m 11s\n",
      "654:\tlearn: 0.4266653\ttest: 0.4263261\tbest: 0.4263256 (575)\ttotal: 2m 14s\tremaining: 1m 10s\n",
      "655:\tlearn: 0.4266653\ttest: 0.4263261\tbest: 0.4263256 (575)\ttotal: 2m 14s\tremaining: 1m 10s\n",
      "656:\tlearn: 0.4266653\ttest: 0.4263261\tbest: 0.4263256 (575)\ttotal: 2m 14s\tremaining: 1m 10s\n",
      "657:\tlearn: 0.4266653\ttest: 0.4263261\tbest: 0.4263256 (575)\ttotal: 2m 14s\tremaining: 1m 9s\n",
      "658:\tlearn: 0.4266653\ttest: 0.4263261\tbest: 0.4263256 (575)\ttotal: 2m 14s\tremaining: 1m 9s\n",
      "659:\tlearn: 0.4266653\ttest: 0.4263261\tbest: 0.4263256 (575)\ttotal: 2m 14s\tremaining: 1m 9s\n",
      "660:\tlearn: 0.4266653\ttest: 0.4263261\tbest: 0.4263256 (575)\ttotal: 2m 14s\tremaining: 1m 9s\n",
      "661:\tlearn: 0.4266653\ttest: 0.4263261\tbest: 0.4263256 (575)\ttotal: 2m 14s\tremaining: 1m 8s\n",
      "662:\tlearn: 0.4266653\ttest: 0.4263261\tbest: 0.4263256 (575)\ttotal: 2m 14s\tremaining: 1m 8s\n",
      "663:\tlearn: 0.4266652\ttest: 0.4263261\tbest: 0.4263256 (575)\ttotal: 2m 14s\tremaining: 1m 8s\n",
      "664:\tlearn: 0.4266652\ttest: 0.4263261\tbest: 0.4263256 (575)\ttotal: 2m 15s\tremaining: 1m 8s\n",
      "665:\tlearn: 0.4266652\ttest: 0.4263262\tbest: 0.4263256 (575)\ttotal: 2m 15s\tremaining: 1m 7s\n",
      "666:\tlearn: 0.4266652\ttest: 0.4263262\tbest: 0.4263256 (575)\ttotal: 2m 15s\tremaining: 1m 7s\n",
      "667:\tlearn: 0.4266652\ttest: 0.4263262\tbest: 0.4263256 (575)\ttotal: 2m 15s\tremaining: 1m 7s\n",
      "668:\tlearn: 0.4266652\ttest: 0.4263262\tbest: 0.4263256 (575)\ttotal: 2m 15s\tremaining: 1m 6s\n",
      "669:\tlearn: 0.4266652\ttest: 0.4263262\tbest: 0.4263256 (575)\ttotal: 2m 15s\tremaining: 1m 6s\n",
      "670:\tlearn: 0.4266652\ttest: 0.4263262\tbest: 0.4263256 (575)\ttotal: 2m 15s\tremaining: 1m 6s\n",
      "671:\tlearn: 0.4266652\ttest: 0.4263262\tbest: 0.4263256 (575)\ttotal: 2m 15s\tremaining: 1m 6s\n",
      "672:\tlearn: 0.4266652\ttest: 0.4263262\tbest: 0.4263256 (575)\ttotal: 2m 15s\tremaining: 1m 5s\n",
      "673:\tlearn: 0.4266652\ttest: 0.4263262\tbest: 0.4263256 (575)\ttotal: 2m 15s\tremaining: 1m 5s\n",
      "674:\tlearn: 0.4266652\ttest: 0.4263262\tbest: 0.4263256 (575)\ttotal: 2m 15s\tremaining: 1m 5s\n",
      "675:\tlearn: 0.4266652\ttest: 0.4263262\tbest: 0.4263256 (575)\ttotal: 2m 15s\tremaining: 1m 5s\n",
      "676:\tlearn: 0.4266652\ttest: 0.4263262\tbest: 0.4263256 (575)\ttotal: 2m 15s\tremaining: 1m 4s\n",
      "677:\tlearn: 0.4266652\ttest: 0.4263262\tbest: 0.4263256 (575)\ttotal: 2m 15s\tremaining: 1m 4s\n",
      "678:\tlearn: 0.4266652\ttest: 0.4263262\tbest: 0.4263256 (575)\ttotal: 2m 15s\tremaining: 1m 4s\n",
      "679:\tlearn: 0.4266652\ttest: 0.4263263\tbest: 0.4263256 (575)\ttotal: 2m 15s\tremaining: 1m 3s\n",
      "680:\tlearn: 0.4266652\ttest: 0.4263263\tbest: 0.4263256 (575)\ttotal: 2m 16s\tremaining: 1m 3s\n",
      "681:\tlearn: 0.4266652\ttest: 0.4263263\tbest: 0.4263256 (575)\ttotal: 2m 16s\tremaining: 1m 3s\n",
      "682:\tlearn: 0.4266652\ttest: 0.4263263\tbest: 0.4263256 (575)\ttotal: 2m 16s\tremaining: 1m 3s\n",
      "683:\tlearn: 0.4266652\ttest: 0.4263263\tbest: 0.4263256 (575)\ttotal: 2m 16s\tremaining: 1m 2s\n",
      "684:\tlearn: 0.4266652\ttest: 0.4263263\tbest: 0.4263256 (575)\ttotal: 2m 16s\tremaining: 1m 2s\n",
      "685:\tlearn: 0.4266652\ttest: 0.4263263\tbest: 0.4263256 (575)\ttotal: 2m 16s\tremaining: 1m 2s\n",
      "686:\tlearn: 0.4266651\ttest: 0.4263263\tbest: 0.4263256 (575)\ttotal: 2m 16s\tremaining: 1m 2s\n",
      "687:\tlearn: 0.4266651\ttest: 0.4263263\tbest: 0.4263256 (575)\ttotal: 2m 16s\tremaining: 1m 1s\n",
      "688:\tlearn: 0.4266651\ttest: 0.4263263\tbest: 0.4263256 (575)\ttotal: 2m 16s\tremaining: 1m 1s\n",
      "689:\tlearn: 0.4266651\ttest: 0.4263263\tbest: 0.4263256 (575)\ttotal: 2m 16s\tremaining: 1m 1s\n",
      "690:\tlearn: 0.4266651\ttest: 0.4263263\tbest: 0.4263256 (575)\ttotal: 2m 16s\tremaining: 1m 1s\n",
      "691:\tlearn: 0.4266651\ttest: 0.4263263\tbest: 0.4263256 (575)\ttotal: 2m 16s\tremaining: 1m\n",
      "692:\tlearn: 0.4266651\ttest: 0.4263263\tbest: 0.4263256 (575)\ttotal: 2m 16s\tremaining: 1m\n",
      "693:\tlearn: 0.4266651\ttest: 0.4263264\tbest: 0.4263256 (575)\ttotal: 2m 16s\tremaining: 1m\n",
      "694:\tlearn: 0.4266651\ttest: 0.4263264\tbest: 0.4263256 (575)\ttotal: 2m 16s\tremaining: 1m\n",
      "695:\tlearn: 0.4266651\ttest: 0.4263264\tbest: 0.4263256 (575)\ttotal: 2m 16s\tremaining: 59.8s\n",
      "696:\tlearn: 0.4266651\ttest: 0.4263264\tbest: 0.4263256 (575)\ttotal: 2m 16s\tremaining: 59.6s\n",
      "697:\tlearn: 0.4266651\ttest: 0.4263264\tbest: 0.4263256 (575)\ttotal: 2m 17s\tremaining: 59.3s\n",
      "698:\tlearn: 0.4266651\ttest: 0.4263264\tbest: 0.4263256 (575)\ttotal: 2m 17s\tremaining: 59s\n",
      "699:\tlearn: 0.4266651\ttest: 0.4263264\tbest: 0.4263256 (575)\ttotal: 2m 17s\tremaining: 58.8s\n",
      "700:\tlearn: 0.4266651\ttest: 0.4263264\tbest: 0.4263256 (575)\ttotal: 2m 17s\tremaining: 58.5s\n",
      "701:\tlearn: 0.4266651\ttest: 0.4263264\tbest: 0.4263256 (575)\ttotal: 2m 17s\tremaining: 58.3s\n",
      "702:\tlearn: 0.4266651\ttest: 0.4263264\tbest: 0.4263256 (575)\ttotal: 2m 17s\tremaining: 58s\n",
      "703:\tlearn: 0.4266651\ttest: 0.4263264\tbest: 0.4263256 (575)\ttotal: 2m 17s\tremaining: 57.8s\n",
      "704:\tlearn: 0.4266651\ttest: 0.4263264\tbest: 0.4263256 (575)\ttotal: 2m 17s\tremaining: 57.5s\n",
      "705:\tlearn: 0.4266651\ttest: 0.4263264\tbest: 0.4263256 (575)\ttotal: 2m 17s\tremaining: 57.3s\n",
      "706:\tlearn: 0.4266651\ttest: 0.4263264\tbest: 0.4263256 (575)\ttotal: 2m 17s\tremaining: 57s\n",
      "707:\tlearn: 0.4266651\ttest: 0.4263264\tbest: 0.4263256 (575)\ttotal: 2m 17s\tremaining: 56.8s\n",
      "708:\tlearn: 0.4266651\ttest: 0.4263265\tbest: 0.4263256 (575)\ttotal: 2m 17s\tremaining: 56.5s\n",
      "709:\tlearn: 0.4266651\ttest: 0.4263265\tbest: 0.4263256 (575)\ttotal: 2m 17s\tremaining: 56.3s\n",
      "710:\tlearn: 0.4266651\ttest: 0.4263265\tbest: 0.4263256 (575)\ttotal: 2m 17s\tremaining: 56s\n",
      "711:\tlearn: 0.4266651\ttest: 0.4263265\tbest: 0.4263256 (575)\ttotal: 2m 17s\tremaining: 55.7s\n",
      "712:\tlearn: 0.4266651\ttest: 0.4263265\tbest: 0.4263256 (575)\ttotal: 2m 17s\tremaining: 55.5s\n",
      "713:\tlearn: 0.4266651\ttest: 0.4263265\tbest: 0.4263256 (575)\ttotal: 2m 17s\tremaining: 55.2s\n",
      "714:\tlearn: 0.4266651\ttest: 0.4263265\tbest: 0.4263256 (575)\ttotal: 2m 17s\tremaining: 55s\n",
      "715:\tlearn: 0.4266651\ttest: 0.4263265\tbest: 0.4263256 (575)\ttotal: 2m 18s\tremaining: 54.8s\n",
      "716:\tlearn: 0.4266651\ttest: 0.4263265\tbest: 0.4263256 (575)\ttotal: 2m 18s\tremaining: 54.5s\n",
      "717:\tlearn: 0.4266651\ttest: 0.4263265\tbest: 0.4263256 (575)\ttotal: 2m 18s\tremaining: 54.3s\n",
      "718:\tlearn: 0.4266651\ttest: 0.4263265\tbest: 0.4263256 (575)\ttotal: 2m 18s\tremaining: 54s\n",
      "719:\tlearn: 0.4266651\ttest: 0.4263265\tbest: 0.4263256 (575)\ttotal: 2m 18s\tremaining: 53.8s\n",
      "720:\tlearn: 0.4266651\ttest: 0.4263265\tbest: 0.4263256 (575)\ttotal: 2m 18s\tremaining: 53.5s\n",
      "721:\tlearn: 0.4266651\ttest: 0.4263265\tbest: 0.4263256 (575)\ttotal: 2m 18s\tremaining: 53.3s\n",
      "722:\tlearn: 0.4266651\ttest: 0.4263265\tbest: 0.4263256 (575)\ttotal: 2m 18s\tremaining: 53.1s\n",
      "723:\tlearn: 0.4266651\ttest: 0.4263265\tbest: 0.4263256 (575)\ttotal: 2m 18s\tremaining: 52.8s\n"
     ]
    },
    {
     "name": "stdout",
     "output_type": "stream",
     "text": [
      "724:\tlearn: 0.4266651\ttest: 0.4263265\tbest: 0.4263256 (575)\ttotal: 2m 18s\tremaining: 52.6s\n",
      "725:\tlearn: 0.4266651\ttest: 0.4263266\tbest: 0.4263256 (575)\ttotal: 2m 18s\tremaining: 52.3s\n",
      "726:\tlearn: 0.4266651\ttest: 0.4263266\tbest: 0.4263256 (575)\ttotal: 2m 18s\tremaining: 52.1s\n",
      "727:\tlearn: 0.4266651\ttest: 0.4263266\tbest: 0.4263256 (575)\ttotal: 2m 18s\tremaining: 51.9s\n",
      "728:\tlearn: 0.4266650\ttest: 0.4263266\tbest: 0.4263256 (575)\ttotal: 2m 18s\tremaining: 51.6s\n",
      "729:\tlearn: 0.4266650\ttest: 0.4263266\tbest: 0.4263256 (575)\ttotal: 2m 18s\tremaining: 51.4s\n",
      "730:\tlearn: 0.4266650\ttest: 0.4263266\tbest: 0.4263256 (575)\ttotal: 2m 18s\tremaining: 51.1s\n",
      "731:\tlearn: 0.4266650\ttest: 0.4263266\tbest: 0.4263256 (575)\ttotal: 2m 19s\tremaining: 50.9s\n",
      "732:\tlearn: 0.4266650\ttest: 0.4263266\tbest: 0.4263256 (575)\ttotal: 2m 19s\tremaining: 50.7s\n",
      "733:\tlearn: 0.4266650\ttest: 0.4263266\tbest: 0.4263256 (575)\ttotal: 2m 19s\tremaining: 50.4s\n",
      "734:\tlearn: 0.4266650\ttest: 0.4263266\tbest: 0.4263256 (575)\ttotal: 2m 19s\tremaining: 50.2s\n",
      "735:\tlearn: 0.4266650\ttest: 0.4263266\tbest: 0.4263256 (575)\ttotal: 2m 19s\tremaining: 50s\n",
      "736:\tlearn: 0.4266650\ttest: 0.4263266\tbest: 0.4263256 (575)\ttotal: 2m 19s\tremaining: 49.7s\n",
      "737:\tlearn: 0.4266650\ttest: 0.4263266\tbest: 0.4263256 (575)\ttotal: 2m 19s\tremaining: 49.5s\n",
      "738:\tlearn: 0.4266650\ttest: 0.4263266\tbest: 0.4263256 (575)\ttotal: 2m 19s\tremaining: 49.3s\n",
      "739:\tlearn: 0.4266650\ttest: 0.4263266\tbest: 0.4263256 (575)\ttotal: 2m 19s\tremaining: 49s\n",
      "740:\tlearn: 0.4266650\ttest: 0.4263266\tbest: 0.4263256 (575)\ttotal: 2m 19s\tremaining: 48.8s\n",
      "741:\tlearn: 0.4266650\ttest: 0.4263266\tbest: 0.4263256 (575)\ttotal: 2m 19s\tremaining: 48.6s\n",
      "742:\tlearn: 0.4266650\ttest: 0.4263266\tbest: 0.4263256 (575)\ttotal: 2m 19s\tremaining: 48.4s\n",
      "743:\tlearn: 0.4266650\ttest: 0.4263266\tbest: 0.4263256 (575)\ttotal: 2m 19s\tremaining: 48.1s\n",
      "744:\tlearn: 0.4266650\ttest: 0.4263267\tbest: 0.4263256 (575)\ttotal: 2m 19s\tremaining: 47.9s\n",
      "745:\tlearn: 0.4266650\ttest: 0.4263267\tbest: 0.4263256 (575)\ttotal: 2m 19s\tremaining: 47.7s\n",
      "746:\tlearn: 0.4266650\ttest: 0.4263267\tbest: 0.4263256 (575)\ttotal: 2m 20s\tremaining: 47.4s\n",
      "747:\tlearn: 0.4266650\ttest: 0.4263267\tbest: 0.4263256 (575)\ttotal: 2m 20s\tremaining: 47.2s\n",
      "748:\tlearn: 0.4266650\ttest: 0.4263267\tbest: 0.4263256 (575)\ttotal: 2m 20s\tremaining: 47s\n",
      "749:\tlearn: 0.4266650\ttest: 0.4263267\tbest: 0.4263256 (575)\ttotal: 2m 20s\tremaining: 46.8s\n",
      "750:\tlearn: 0.4266650\ttest: 0.4263267\tbest: 0.4263256 (575)\ttotal: 2m 20s\tremaining: 46.5s\n",
      "751:\tlearn: 0.4266650\ttest: 0.4263267\tbest: 0.4263256 (575)\ttotal: 2m 20s\tremaining: 46.3s\n",
      "752:\tlearn: 0.4266650\ttest: 0.4263267\tbest: 0.4263256 (575)\ttotal: 2m 20s\tremaining: 46.1s\n",
      "753:\tlearn: 0.4266650\ttest: 0.4263267\tbest: 0.4263256 (575)\ttotal: 2m 20s\tremaining: 45.9s\n",
      "754:\tlearn: 0.4266650\ttest: 0.4263267\tbest: 0.4263256 (575)\ttotal: 2m 20s\tremaining: 45.6s\n",
      "755:\tlearn: 0.4266650\ttest: 0.4263267\tbest: 0.4263256 (575)\ttotal: 2m 20s\tremaining: 45.4s\n",
      "756:\tlearn: 0.4266650\ttest: 0.4263267\tbest: 0.4263256 (575)\ttotal: 2m 20s\tremaining: 45.2s\n",
      "757:\tlearn: 0.4266650\ttest: 0.4263267\tbest: 0.4263256 (575)\ttotal: 2m 20s\tremaining: 45s\n",
      "758:\tlearn: 0.4266650\ttest: 0.4263267\tbest: 0.4263256 (575)\ttotal: 2m 20s\tremaining: 44.7s\n",
      "759:\tlearn: 0.4266650\ttest: 0.4263267\tbest: 0.4263256 (575)\ttotal: 2m 20s\tremaining: 44.5s\n",
      "760:\tlearn: 0.4266650\ttest: 0.4263267\tbest: 0.4263256 (575)\ttotal: 2m 21s\tremaining: 44.3s\n",
      "761:\tlearn: 0.4266650\ttest: 0.4263267\tbest: 0.4263256 (575)\ttotal: 2m 21s\tremaining: 44.1s\n",
      "762:\tlearn: 0.4266650\ttest: 0.4263267\tbest: 0.4263256 (575)\ttotal: 2m 21s\tremaining: 43.8s\n",
      "763:\tlearn: 0.4266650\ttest: 0.4263267\tbest: 0.4263256 (575)\ttotal: 2m 21s\tremaining: 43.6s\n",
      "764:\tlearn: 0.4266650\ttest: 0.4263267\tbest: 0.4263256 (575)\ttotal: 2m 21s\tremaining: 43.4s\n",
      "765:\tlearn: 0.4266650\ttest: 0.4263267\tbest: 0.4263256 (575)\ttotal: 2m 21s\tremaining: 43.2s\n",
      "766:\tlearn: 0.4266650\ttest: 0.4263267\tbest: 0.4263256 (575)\ttotal: 2m 21s\tremaining: 43s\n",
      "767:\tlearn: 0.4266650\ttest: 0.4263268\tbest: 0.4263256 (575)\ttotal: 2m 21s\tremaining: 42.7s\n",
      "768:\tlearn: 0.4266650\ttest: 0.4263268\tbest: 0.4263256 (575)\ttotal: 2m 21s\tremaining: 42.5s\n",
      "769:\tlearn: 0.4266650\ttest: 0.4263268\tbest: 0.4263256 (575)\ttotal: 2m 21s\tremaining: 42.3s\n",
      "770:\tlearn: 0.4266650\ttest: 0.4263268\tbest: 0.4263256 (575)\ttotal: 2m 21s\tremaining: 42.1s\n",
      "771:\tlearn: 0.4266650\ttest: 0.4263268\tbest: 0.4263256 (575)\ttotal: 2m 21s\tremaining: 41.9s\n",
      "772:\tlearn: 0.4266650\ttest: 0.4263268\tbest: 0.4263256 (575)\ttotal: 2m 21s\tremaining: 41.6s\n",
      "773:\tlearn: 0.4266650\ttest: 0.4263268\tbest: 0.4263256 (575)\ttotal: 2m 21s\tremaining: 41.4s\n",
      "774:\tlearn: 0.4266650\ttest: 0.4263268\tbest: 0.4263256 (575)\ttotal: 2m 21s\tremaining: 41.2s\n",
      "775:\tlearn: 0.4266650\ttest: 0.4263268\tbest: 0.4263256 (575)\ttotal: 2m 21s\tremaining: 41s\n",
      "776:\tlearn: 0.4266650\ttest: 0.4263268\tbest: 0.4263256 (575)\ttotal: 2m 21s\tremaining: 40.7s\n",
      "777:\tlearn: 0.4266650\ttest: 0.4263268\tbest: 0.4263256 (575)\ttotal: 2m 22s\tremaining: 40.5s\n",
      "778:\tlearn: 0.4266650\ttest: 0.4263268\tbest: 0.4263256 (575)\ttotal: 2m 22s\tremaining: 40.3s\n",
      "779:\tlearn: 0.4266650\ttest: 0.4263268\tbest: 0.4263256 (575)\ttotal: 2m 22s\tremaining: 40.1s\n",
      "780:\tlearn: 0.4266650\ttest: 0.4263268\tbest: 0.4263256 (575)\ttotal: 2m 22s\tremaining: 39.9s\n",
      "781:\tlearn: 0.4266650\ttest: 0.4263268\tbest: 0.4263256 (575)\ttotal: 2m 22s\tremaining: 39.7s\n",
      "782:\tlearn: 0.4266650\ttest: 0.4263268\tbest: 0.4263256 (575)\ttotal: 2m 22s\tremaining: 39.4s\n",
      "783:\tlearn: 0.4266650\ttest: 0.4263268\tbest: 0.4263256 (575)\ttotal: 2m 22s\tremaining: 39.2s\n",
      "784:\tlearn: 0.4266650\ttest: 0.4263268\tbest: 0.4263256 (575)\ttotal: 2m 22s\tremaining: 39s\n",
      "785:\tlearn: 0.4266650\ttest: 0.4263268\tbest: 0.4263256 (575)\ttotal: 2m 22s\tremaining: 38.8s\n",
      "786:\tlearn: 0.4266650\ttest: 0.4263268\tbest: 0.4263256 (575)\ttotal: 2m 22s\tremaining: 38.6s\n",
      "787:\tlearn: 0.4266650\ttest: 0.4263268\tbest: 0.4263256 (575)\ttotal: 2m 22s\tremaining: 38.4s\n",
      "788:\tlearn: 0.4266650\ttest: 0.4263268\tbest: 0.4263256 (575)\ttotal: 2m 22s\tremaining: 38.1s\n",
      "789:\tlearn: 0.4266650\ttest: 0.4263268\tbest: 0.4263256 (575)\ttotal: 2m 22s\tremaining: 37.9s\n",
      "790:\tlearn: 0.4266650\ttest: 0.4263268\tbest: 0.4263256 (575)\ttotal: 2m 22s\tremaining: 37.7s\n",
      "791:\tlearn: 0.4266650\ttest: 0.4263268\tbest: 0.4263256 (575)\ttotal: 2m 22s\tremaining: 37.5s\n",
      "792:\tlearn: 0.4266650\ttest: 0.4263268\tbest: 0.4263256 (575)\ttotal: 2m 22s\tremaining: 37.3s\n",
      "793:\tlearn: 0.4266650\ttest: 0.4263268\tbest: 0.4263256 (575)\ttotal: 2m 22s\tremaining: 37.1s\n",
      "794:\tlearn: 0.4266650\ttest: 0.4263268\tbest: 0.4263256 (575)\ttotal: 2m 22s\tremaining: 36.9s\n",
      "795:\tlearn: 0.4266650\ttest: 0.4263269\tbest: 0.4263256 (575)\ttotal: 2m 23s\tremaining: 36.7s\n",
      "796:\tlearn: 0.4266650\ttest: 0.4263269\tbest: 0.4263256 (575)\ttotal: 2m 23s\tremaining: 36.4s\n",
      "797:\tlearn: 0.4266650\ttest: 0.4263269\tbest: 0.4263256 (575)\ttotal: 2m 23s\tremaining: 36.2s\n",
      "798:\tlearn: 0.4266650\ttest: 0.4263269\tbest: 0.4263256 (575)\ttotal: 2m 23s\tremaining: 36s\n",
      "799:\tlearn: 0.4266650\ttest: 0.4263269\tbest: 0.4263256 (575)\ttotal: 2m 23s\tremaining: 35.8s\n",
      "800:\tlearn: 0.4266650\ttest: 0.4263269\tbest: 0.4263256 (575)\ttotal: 2m 23s\tremaining: 35.6s\n",
      "801:\tlearn: 0.4266650\ttest: 0.4263269\tbest: 0.4263256 (575)\ttotal: 2m 23s\tremaining: 35.4s\n",
      "802:\tlearn: 0.4266650\ttest: 0.4263269\tbest: 0.4263256 (575)\ttotal: 2m 23s\tremaining: 35.2s\n",
      "803:\tlearn: 0.4266650\ttest: 0.4263269\tbest: 0.4263256 (575)\ttotal: 2m 23s\tremaining: 35s\n",
      "804:\tlearn: 0.4266650\ttest: 0.4263269\tbest: 0.4263256 (575)\ttotal: 2m 23s\tremaining: 34.8s\n",
      "805:\tlearn: 0.4266650\ttest: 0.4263269\tbest: 0.4263256 (575)\ttotal: 2m 23s\tremaining: 34.6s\n",
      "806:\tlearn: 0.4266650\ttest: 0.4263269\tbest: 0.4263256 (575)\ttotal: 2m 23s\tremaining: 34.4s\n",
      "807:\tlearn: 0.4266650\ttest: 0.4263269\tbest: 0.4263256 (575)\ttotal: 2m 23s\tremaining: 34.1s\n",
      "808:\tlearn: 0.4266650\ttest: 0.4263269\tbest: 0.4263256 (575)\ttotal: 2m 23s\tremaining: 33.9s\n",
      "809:\tlearn: 0.4266650\ttest: 0.4263269\tbest: 0.4263256 (575)\ttotal: 2m 23s\tremaining: 33.7s\n",
      "810:\tlearn: 0.4266650\ttest: 0.4263269\tbest: 0.4263256 (575)\ttotal: 2m 23s\tremaining: 33.5s\n",
      "811:\tlearn: 0.4266650\ttest: 0.4263269\tbest: 0.4263256 (575)\ttotal: 2m 23s\tremaining: 33.3s\n",
      "812:\tlearn: 0.4266650\ttest: 0.4263269\tbest: 0.4263256 (575)\ttotal: 2m 23s\tremaining: 33.1s\n",
      "813:\tlearn: 0.4266650\ttest: 0.4263269\tbest: 0.4263256 (575)\ttotal: 2m 24s\tremaining: 32.9s\n",
      "814:\tlearn: 0.4266650\ttest: 0.4263269\tbest: 0.4263256 (575)\ttotal: 2m 24s\tremaining: 32.7s\n"
     ]
    },
    {
     "name": "stdout",
     "output_type": "stream",
     "text": [
      "815:\tlearn: 0.4266650\ttest: 0.4263269\tbest: 0.4263256 (575)\ttotal: 2m 24s\tremaining: 32.5s\n",
      "816:\tlearn: 0.4266650\ttest: 0.4263269\tbest: 0.4263256 (575)\ttotal: 2m 24s\tremaining: 32.3s\n",
      "817:\tlearn: 0.4266650\ttest: 0.4263269\tbest: 0.4263256 (575)\ttotal: 2m 24s\tremaining: 32.1s\n",
      "818:\tlearn: 0.4266650\ttest: 0.4263269\tbest: 0.4263256 (575)\ttotal: 2m 24s\tremaining: 31.9s\n",
      "819:\tlearn: 0.4266650\ttest: 0.4263269\tbest: 0.4263256 (575)\ttotal: 2m 24s\tremaining: 31.7s\n",
      "820:\tlearn: 0.4266650\ttest: 0.4263269\tbest: 0.4263256 (575)\ttotal: 2m 24s\tremaining: 31.5s\n",
      "821:\tlearn: 0.4266650\ttest: 0.4263269\tbest: 0.4263256 (575)\ttotal: 2m 24s\tremaining: 31.3s\n",
      "822:\tlearn: 0.4266650\ttest: 0.4263269\tbest: 0.4263256 (575)\ttotal: 2m 24s\tremaining: 31.1s\n",
      "823:\tlearn: 0.4266650\ttest: 0.4263269\tbest: 0.4263256 (575)\ttotal: 2m 24s\tremaining: 30.9s\n",
      "824:\tlearn: 0.4266650\ttest: 0.4263269\tbest: 0.4263256 (575)\ttotal: 2m 24s\tremaining: 30.7s\n",
      "825:\tlearn: 0.4266650\ttest: 0.4263269\tbest: 0.4263256 (575)\ttotal: 2m 24s\tremaining: 30.5s\n",
      "826:\tlearn: 0.4266650\ttest: 0.4263269\tbest: 0.4263256 (575)\ttotal: 2m 24s\tremaining: 30.3s\n",
      "827:\tlearn: 0.4266650\ttest: 0.4263269\tbest: 0.4263256 (575)\ttotal: 2m 24s\tremaining: 30.1s\n",
      "828:\tlearn: 0.4266650\ttest: 0.4263269\tbest: 0.4263256 (575)\ttotal: 2m 25s\tremaining: 29.9s\n",
      "829:\tlearn: 0.4266650\ttest: 0.4263269\tbest: 0.4263256 (575)\ttotal: 2m 25s\tremaining: 29.7s\n",
      "830:\tlearn: 0.4266650\ttest: 0.4263269\tbest: 0.4263256 (575)\ttotal: 2m 25s\tremaining: 29.5s\n",
      "831:\tlearn: 0.4266650\ttest: 0.4263269\tbest: 0.4263256 (575)\ttotal: 2m 25s\tremaining: 29.3s\n",
      "832:\tlearn: 0.4266650\ttest: 0.4263270\tbest: 0.4263256 (575)\ttotal: 2m 25s\tremaining: 29.1s\n",
      "833:\tlearn: 0.4266650\ttest: 0.4263270\tbest: 0.4263256 (575)\ttotal: 2m 25s\tremaining: 28.9s\n",
      "834:\tlearn: 0.4266650\ttest: 0.4263270\tbest: 0.4263256 (575)\ttotal: 2m 25s\tremaining: 28.7s\n",
      "835:\tlearn: 0.4266650\ttest: 0.4263270\tbest: 0.4263256 (575)\ttotal: 2m 25s\tremaining: 28.5s\n",
      "836:\tlearn: 0.4266650\ttest: 0.4263270\tbest: 0.4263256 (575)\ttotal: 2m 25s\tremaining: 28.3s\n",
      "837:\tlearn: 0.4266650\ttest: 0.4263270\tbest: 0.4263256 (575)\ttotal: 2m 25s\tremaining: 28.2s\n",
      "838:\tlearn: 0.4266650\ttest: 0.4263270\tbest: 0.4263256 (575)\ttotal: 2m 25s\tremaining: 28s\n",
      "839:\tlearn: 0.4266650\ttest: 0.4263270\tbest: 0.4263256 (575)\ttotal: 2m 25s\tremaining: 27.8s\n",
      "840:\tlearn: 0.4266650\ttest: 0.4263270\tbest: 0.4263256 (575)\ttotal: 2m 25s\tremaining: 27.6s\n",
      "841:\tlearn: 0.4266650\ttest: 0.4263270\tbest: 0.4263256 (575)\ttotal: 2m 25s\tremaining: 27.4s\n",
      "842:\tlearn: 0.4266650\ttest: 0.4263270\tbest: 0.4263256 (575)\ttotal: 2m 25s\tremaining: 27.2s\n",
      "843:\tlearn: 0.4266650\ttest: 0.4263270\tbest: 0.4263256 (575)\ttotal: 2m 26s\tremaining: 27s\n",
      "844:\tlearn: 0.4266650\ttest: 0.4263270\tbest: 0.4263256 (575)\ttotal: 2m 26s\tremaining: 26.8s\n",
      "845:\tlearn: 0.4266650\ttest: 0.4263270\tbest: 0.4263256 (575)\ttotal: 2m 26s\tremaining: 26.6s\n",
      "846:\tlearn: 0.4266650\ttest: 0.4263270\tbest: 0.4263256 (575)\ttotal: 2m 26s\tremaining: 26.4s\n",
      "847:\tlearn: 0.4266650\ttest: 0.4263270\tbest: 0.4263256 (575)\ttotal: 2m 26s\tremaining: 26.2s\n",
      "848:\tlearn: 0.4266650\ttest: 0.4263270\tbest: 0.4263256 (575)\ttotal: 2m 26s\tremaining: 26s\n",
      "849:\tlearn: 0.4266650\ttest: 0.4263270\tbest: 0.4263256 (575)\ttotal: 2m 26s\tremaining: 25.8s\n",
      "850:\tlearn: 0.4266650\ttest: 0.4263270\tbest: 0.4263256 (575)\ttotal: 2m 26s\tremaining: 25.6s\n",
      "851:\tlearn: 0.4266650\ttest: 0.4263270\tbest: 0.4263256 (575)\ttotal: 2m 26s\tremaining: 25.5s\n",
      "852:\tlearn: 0.4266650\ttest: 0.4263270\tbest: 0.4263256 (575)\ttotal: 2m 26s\tremaining: 25.3s\n",
      "853:\tlearn: 0.4266650\ttest: 0.4263270\tbest: 0.4263256 (575)\ttotal: 2m 26s\tremaining: 25.1s\n",
      "854:\tlearn: 0.4266650\ttest: 0.4263270\tbest: 0.4263256 (575)\ttotal: 2m 26s\tremaining: 24.9s\n",
      "855:\tlearn: 0.4266650\ttest: 0.4263270\tbest: 0.4263256 (575)\ttotal: 2m 26s\tremaining: 24.7s\n",
      "856:\tlearn: 0.4266650\ttest: 0.4263270\tbest: 0.4263256 (575)\ttotal: 2m 26s\tremaining: 24.5s\n",
      "857:\tlearn: 0.4266650\ttest: 0.4263270\tbest: 0.4263256 (575)\ttotal: 2m 26s\tremaining: 24.3s\n",
      "858:\tlearn: 0.4266650\ttest: 0.4263270\tbest: 0.4263256 (575)\ttotal: 2m 27s\tremaining: 24.1s\n",
      "859:\tlearn: 0.4266650\ttest: 0.4263270\tbest: 0.4263256 (575)\ttotal: 2m 27s\tremaining: 23.9s\n",
      "860:\tlearn: 0.4266650\ttest: 0.4263270\tbest: 0.4263256 (575)\ttotal: 2m 27s\tremaining: 23.8s\n",
      "861:\tlearn: 0.4266650\ttest: 0.4263270\tbest: 0.4263256 (575)\ttotal: 2m 27s\tremaining: 23.6s\n",
      "862:\tlearn: 0.4266650\ttest: 0.4263270\tbest: 0.4263256 (575)\ttotal: 2m 27s\tremaining: 23.4s\n",
      "863:\tlearn: 0.4266650\ttest: 0.4263270\tbest: 0.4263256 (575)\ttotal: 2m 27s\tremaining: 23.2s\n",
      "864:\tlearn: 0.4266650\ttest: 0.4263270\tbest: 0.4263256 (575)\ttotal: 2m 27s\tremaining: 23s\n",
      "865:\tlearn: 0.4266650\ttest: 0.4263270\tbest: 0.4263256 (575)\ttotal: 2m 27s\tremaining: 22.8s\n",
      "866:\tlearn: 0.4266650\ttest: 0.4263270\tbest: 0.4263256 (575)\ttotal: 2m 27s\tremaining: 22.6s\n",
      "867:\tlearn: 0.4266650\ttest: 0.4263270\tbest: 0.4263256 (575)\ttotal: 2m 27s\tremaining: 22.4s\n",
      "868:\tlearn: 0.4266650\ttest: 0.4263270\tbest: 0.4263256 (575)\ttotal: 2m 27s\tremaining: 22.3s\n",
      "869:\tlearn: 0.4266650\ttest: 0.4263270\tbest: 0.4263256 (575)\ttotal: 2m 27s\tremaining: 22.1s\n",
      "870:\tlearn: 0.4266650\ttest: 0.4263270\tbest: 0.4263256 (575)\ttotal: 2m 27s\tremaining: 21.9s\n",
      "871:\tlearn: 0.4266650\ttest: 0.4263270\tbest: 0.4263256 (575)\ttotal: 2m 27s\tremaining: 21.7s\n",
      "872:\tlearn: 0.4266650\ttest: 0.4263270\tbest: 0.4263256 (575)\ttotal: 2m 27s\tremaining: 21.5s\n",
      "873:\tlearn: 0.4266650\ttest: 0.4263270\tbest: 0.4263256 (575)\ttotal: 2m 27s\tremaining: 21.3s\n",
      "874:\tlearn: 0.4266650\ttest: 0.4263270\tbest: 0.4263256 (575)\ttotal: 2m 27s\tremaining: 21.1s\n",
      "875:\tlearn: 0.4266650\ttest: 0.4263270\tbest: 0.4263256 (575)\ttotal: 2m 28s\tremaining: 21s\n",
      "876:\tlearn: 0.4266650\ttest: 0.4263270\tbest: 0.4263256 (575)\ttotal: 2m 28s\tremaining: 20.8s\n",
      "877:\tlearn: 0.4266650\ttest: 0.4263270\tbest: 0.4263256 (575)\ttotal: 2m 28s\tremaining: 20.6s\n",
      "878:\tlearn: 0.4266650\ttest: 0.4263270\tbest: 0.4263256 (575)\ttotal: 2m 28s\tremaining: 20.4s\n",
      "879:\tlearn: 0.4266650\ttest: 0.4263270\tbest: 0.4263256 (575)\ttotal: 2m 28s\tremaining: 20.2s\n",
      "880:\tlearn: 0.4266650\ttest: 0.4263270\tbest: 0.4263256 (575)\ttotal: 2m 28s\tremaining: 20s\n",
      "881:\tlearn: 0.4266650\ttest: 0.4263270\tbest: 0.4263256 (575)\ttotal: 2m 28s\tremaining: 19.8s\n",
      "882:\tlearn: 0.4266650\ttest: 0.4263270\tbest: 0.4263256 (575)\ttotal: 2m 28s\tremaining: 19.7s\n",
      "883:\tlearn: 0.4266650\ttest: 0.4263270\tbest: 0.4263256 (575)\ttotal: 2m 28s\tremaining: 19.5s\n",
      "884:\tlearn: 0.4266650\ttest: 0.4263270\tbest: 0.4263256 (575)\ttotal: 2m 28s\tremaining: 19.3s\n",
      "885:\tlearn: 0.4266650\ttest: 0.4263270\tbest: 0.4263256 (575)\ttotal: 2m 28s\tremaining: 19.1s\n",
      "886:\tlearn: 0.4266650\ttest: 0.4263270\tbest: 0.4263256 (575)\ttotal: 2m 28s\tremaining: 18.9s\n",
      "887:\tlearn: 0.4266650\ttest: 0.4263270\tbest: 0.4263256 (575)\ttotal: 2m 28s\tremaining: 18.8s\n",
      "888:\tlearn: 0.4266650\ttest: 0.4263270\tbest: 0.4263256 (575)\ttotal: 2m 28s\tremaining: 18.6s\n",
      "889:\tlearn: 0.4266650\ttest: 0.4263271\tbest: 0.4263256 (575)\ttotal: 2m 28s\tremaining: 18.4s\n",
      "890:\tlearn: 0.4266650\ttest: 0.4263271\tbest: 0.4263256 (575)\ttotal: 2m 28s\tremaining: 18.2s\n",
      "891:\tlearn: 0.4266650\ttest: 0.4263271\tbest: 0.4263256 (575)\ttotal: 2m 28s\tremaining: 18s\n",
      "892:\tlearn: 0.4266650\ttest: 0.4263271\tbest: 0.4263256 (575)\ttotal: 2m 28s\tremaining: 17.8s\n",
      "893:\tlearn: 0.4266650\ttest: 0.4263271\tbest: 0.4263256 (575)\ttotal: 2m 28s\tremaining: 17.7s\n",
      "894:\tlearn: 0.4266650\ttest: 0.4263271\tbest: 0.4263256 (575)\ttotal: 2m 29s\tremaining: 17.5s\n",
      "895:\tlearn: 0.4266650\ttest: 0.4263271\tbest: 0.4263256 (575)\ttotal: 2m 29s\tremaining: 17.3s\n",
      "896:\tlearn: 0.4266650\ttest: 0.4263271\tbest: 0.4263256 (575)\ttotal: 2m 29s\tremaining: 17.1s\n",
      "897:\tlearn: 0.4266650\ttest: 0.4263271\tbest: 0.4263256 (575)\ttotal: 2m 29s\tremaining: 16.9s\n",
      "898:\tlearn: 0.4266650\ttest: 0.4263271\tbest: 0.4263256 (575)\ttotal: 2m 29s\tremaining: 16.8s\n",
      "899:\tlearn: 0.4266650\ttest: 0.4263271\tbest: 0.4263256 (575)\ttotal: 2m 29s\tremaining: 16.6s\n",
      "900:\tlearn: 0.4266650\ttest: 0.4263271\tbest: 0.4263256 (575)\ttotal: 2m 29s\tremaining: 16.4s\n",
      "901:\tlearn: 0.4266650\ttest: 0.4263271\tbest: 0.4263256 (575)\ttotal: 2m 29s\tremaining: 16.2s\n",
      "902:\tlearn: 0.4266650\ttest: 0.4263271\tbest: 0.4263256 (575)\ttotal: 2m 29s\tremaining: 16.1s\n",
      "903:\tlearn: 0.4266650\ttest: 0.4263271\tbest: 0.4263256 (575)\ttotal: 2m 29s\tremaining: 15.9s\n",
      "904:\tlearn: 0.4266650\ttest: 0.4263271\tbest: 0.4263256 (575)\ttotal: 2m 29s\tremaining: 15.7s\n",
      "905:\tlearn: 0.4266650\ttest: 0.4263271\tbest: 0.4263256 (575)\ttotal: 2m 29s\tremaining: 15.5s\n"
     ]
    },
    {
     "name": "stdout",
     "output_type": "stream",
     "text": [
      "906:\tlearn: 0.4266650\ttest: 0.4263271\tbest: 0.4263256 (575)\ttotal: 2m 29s\tremaining: 15.4s\n",
      "907:\tlearn: 0.4266650\ttest: 0.4263271\tbest: 0.4263256 (575)\ttotal: 2m 29s\tremaining: 15.2s\n",
      "908:\tlearn: 0.4266650\ttest: 0.4263271\tbest: 0.4263256 (575)\ttotal: 2m 29s\tremaining: 15s\n",
      "909:\tlearn: 0.4266650\ttest: 0.4263271\tbest: 0.4263256 (575)\ttotal: 2m 29s\tremaining: 14.8s\n",
      "910:\tlearn: 0.4266650\ttest: 0.4263271\tbest: 0.4263256 (575)\ttotal: 2m 30s\tremaining: 14.7s\n",
      "911:\tlearn: 0.4266650\ttest: 0.4263271\tbest: 0.4263256 (575)\ttotal: 2m 30s\tremaining: 14.5s\n",
      "912:\tlearn: 0.4266650\ttest: 0.4263271\tbest: 0.4263256 (575)\ttotal: 2m 30s\tremaining: 14.3s\n",
      "913:\tlearn: 0.4266650\ttest: 0.4263271\tbest: 0.4263256 (575)\ttotal: 2m 30s\tremaining: 14.1s\n",
      "914:\tlearn: 0.4266650\ttest: 0.4263271\tbest: 0.4263256 (575)\ttotal: 2m 30s\tremaining: 14s\n",
      "915:\tlearn: 0.4266650\ttest: 0.4263271\tbest: 0.4263256 (575)\ttotal: 2m 30s\tremaining: 13.8s\n",
      "916:\tlearn: 0.4266650\ttest: 0.4263271\tbest: 0.4263256 (575)\ttotal: 2m 30s\tremaining: 13.6s\n",
      "917:\tlearn: 0.4266650\ttest: 0.4263271\tbest: 0.4263256 (575)\ttotal: 2m 30s\tremaining: 13.4s\n",
      "918:\tlearn: 0.4266650\ttest: 0.4263271\tbest: 0.4263256 (575)\ttotal: 2m 30s\tremaining: 13.3s\n",
      "919:\tlearn: 0.4266650\ttest: 0.4263271\tbest: 0.4263256 (575)\ttotal: 2m 30s\tremaining: 13.1s\n",
      "920:\tlearn: 0.4266650\ttest: 0.4263271\tbest: 0.4263256 (575)\ttotal: 2m 30s\tremaining: 12.9s\n",
      "921:\tlearn: 0.4266650\ttest: 0.4263271\tbest: 0.4263256 (575)\ttotal: 2m 30s\tremaining: 12.8s\n",
      "922:\tlearn: 0.4266650\ttest: 0.4263271\tbest: 0.4263256 (575)\ttotal: 2m 30s\tremaining: 12.6s\n",
      "923:\tlearn: 0.4266650\ttest: 0.4263271\tbest: 0.4263256 (575)\ttotal: 2m 30s\tremaining: 12.4s\n",
      "924:\tlearn: 0.4266650\ttest: 0.4263271\tbest: 0.4263256 (575)\ttotal: 2m 30s\tremaining: 12.2s\n",
      "925:\tlearn: 0.4266650\ttest: 0.4263271\tbest: 0.4263256 (575)\ttotal: 2m 31s\tremaining: 12.1s\n",
      "926:\tlearn: 0.4266650\ttest: 0.4263271\tbest: 0.4263256 (575)\ttotal: 2m 31s\tremaining: 11.9s\n",
      "927:\tlearn: 0.4266650\ttest: 0.4263271\tbest: 0.4263256 (575)\ttotal: 2m 31s\tremaining: 11.7s\n",
      "928:\tlearn: 0.4266650\ttest: 0.4263271\tbest: 0.4263256 (575)\ttotal: 2m 31s\tremaining: 11.6s\n",
      "929:\tlearn: 0.4266650\ttest: 0.4263271\tbest: 0.4263256 (575)\ttotal: 2m 31s\tremaining: 11.4s\n",
      "930:\tlearn: 0.4266650\ttest: 0.4263271\tbest: 0.4263256 (575)\ttotal: 2m 31s\tremaining: 11.2s\n",
      "931:\tlearn: 0.4266650\ttest: 0.4263271\tbest: 0.4263256 (575)\ttotal: 2m 31s\tremaining: 11s\n",
      "932:\tlearn: 0.4266650\ttest: 0.4263271\tbest: 0.4263256 (575)\ttotal: 2m 31s\tremaining: 10.9s\n",
      "933:\tlearn: 0.4266650\ttest: 0.4263271\tbest: 0.4263256 (575)\ttotal: 2m 31s\tremaining: 10.7s\n",
      "934:\tlearn: 0.4266650\ttest: 0.4263271\tbest: 0.4263256 (575)\ttotal: 2m 31s\tremaining: 10.5s\n",
      "935:\tlearn: 0.4266650\ttest: 0.4263271\tbest: 0.4263256 (575)\ttotal: 2m 31s\tremaining: 10.4s\n",
      "936:\tlearn: 0.4266650\ttest: 0.4263271\tbest: 0.4263256 (575)\ttotal: 2m 31s\tremaining: 10.2s\n",
      "937:\tlearn: 0.4266650\ttest: 0.4263271\tbest: 0.4263256 (575)\ttotal: 2m 31s\tremaining: 10s\n",
      "938:\tlearn: 0.4266650\ttest: 0.4263271\tbest: 0.4263256 (575)\ttotal: 2m 31s\tremaining: 9.87s\n",
      "939:\tlearn: 0.4266650\ttest: 0.4263271\tbest: 0.4263256 (575)\ttotal: 2m 31s\tremaining: 9.7s\n",
      "940:\tlearn: 0.4266650\ttest: 0.4263271\tbest: 0.4263256 (575)\ttotal: 2m 32s\tremaining: 9.53s\n",
      "941:\tlearn: 0.4266650\ttest: 0.4263271\tbest: 0.4263256 (575)\ttotal: 2m 32s\tremaining: 9.36s\n",
      "942:\tlearn: 0.4266650\ttest: 0.4263271\tbest: 0.4263256 (575)\ttotal: 2m 32s\tremaining: 9.2s\n",
      "943:\tlearn: 0.4266650\ttest: 0.4263271\tbest: 0.4263256 (575)\ttotal: 2m 32s\tremaining: 9.03s\n",
      "944:\tlearn: 0.4266650\ttest: 0.4263271\tbest: 0.4263256 (575)\ttotal: 2m 32s\tremaining: 8.86s\n",
      "945:\tlearn: 0.4266650\ttest: 0.4263271\tbest: 0.4263256 (575)\ttotal: 2m 32s\tremaining: 8.7s\n",
      "946:\tlearn: 0.4266650\ttest: 0.4263271\tbest: 0.4263256 (575)\ttotal: 2m 32s\tremaining: 8.53s\n",
      "947:\tlearn: 0.4266650\ttest: 0.4263271\tbest: 0.4263256 (575)\ttotal: 2m 32s\tremaining: 8.36s\n",
      "948:\tlearn: 0.4266650\ttest: 0.4263271\tbest: 0.4263256 (575)\ttotal: 2m 32s\tremaining: 8.2s\n",
      "949:\tlearn: 0.4266650\ttest: 0.4263271\tbest: 0.4263256 (575)\ttotal: 2m 32s\tremaining: 8.03s\n",
      "950:\tlearn: 0.4266650\ttest: 0.4263271\tbest: 0.4263256 (575)\ttotal: 2m 32s\tremaining: 7.87s\n",
      "951:\tlearn: 0.4266650\ttest: 0.4263271\tbest: 0.4263256 (575)\ttotal: 2m 32s\tremaining: 7.7s\n",
      "952:\tlearn: 0.4266650\ttest: 0.4263271\tbest: 0.4263256 (575)\ttotal: 2m 32s\tremaining: 7.54s\n",
      "953:\tlearn: 0.4266650\ttest: 0.4263271\tbest: 0.4263256 (575)\ttotal: 2m 32s\tremaining: 7.37s\n",
      "954:\tlearn: 0.4266650\ttest: 0.4263271\tbest: 0.4263256 (575)\ttotal: 2m 32s\tremaining: 7.21s\n",
      "955:\tlearn: 0.4266650\ttest: 0.4263271\tbest: 0.4263256 (575)\ttotal: 2m 33s\tremaining: 7.04s\n",
      "956:\tlearn: 0.4266650\ttest: 0.4263271\tbest: 0.4263256 (575)\ttotal: 2m 33s\tremaining: 6.88s\n",
      "957:\tlearn: 0.4266650\ttest: 0.4263271\tbest: 0.4263256 (575)\ttotal: 2m 33s\tremaining: 6.71s\n",
      "958:\tlearn: 0.4266650\ttest: 0.4263271\tbest: 0.4263256 (575)\ttotal: 2m 33s\tremaining: 6.55s\n",
      "959:\tlearn: 0.4266650\ttest: 0.4263271\tbest: 0.4263256 (575)\ttotal: 2m 33s\tremaining: 6.38s\n",
      "960:\tlearn: 0.4266650\ttest: 0.4263271\tbest: 0.4263256 (575)\ttotal: 2m 33s\tremaining: 6.22s\n",
      "961:\tlearn: 0.4266650\ttest: 0.4263271\tbest: 0.4263256 (575)\ttotal: 2m 33s\tremaining: 6.06s\n",
      "962:\tlearn: 0.4266650\ttest: 0.4263271\tbest: 0.4263256 (575)\ttotal: 2m 33s\tremaining: 5.89s\n",
      "963:\tlearn: 0.4266650\ttest: 0.4263271\tbest: 0.4263256 (575)\ttotal: 2m 33s\tremaining: 5.73s\n",
      "964:\tlearn: 0.4266650\ttest: 0.4263271\tbest: 0.4263256 (575)\ttotal: 2m 33s\tremaining: 5.57s\n",
      "965:\tlearn: 0.4266650\ttest: 0.4263271\tbest: 0.4263256 (575)\ttotal: 2m 33s\tremaining: 5.41s\n",
      "966:\tlearn: 0.4266650\ttest: 0.4263271\tbest: 0.4263256 (575)\ttotal: 2m 33s\tremaining: 5.24s\n",
      "967:\tlearn: 0.4266650\ttest: 0.4263271\tbest: 0.4263256 (575)\ttotal: 2m 33s\tremaining: 5.08s\n",
      "968:\tlearn: 0.4266650\ttest: 0.4263271\tbest: 0.4263256 (575)\ttotal: 2m 33s\tremaining: 4.92s\n",
      "969:\tlearn: 0.4266650\ttest: 0.4263271\tbest: 0.4263256 (575)\ttotal: 2m 33s\tremaining: 4.76s\n",
      "970:\tlearn: 0.4266650\ttest: 0.4263271\tbest: 0.4263256 (575)\ttotal: 2m 33s\tremaining: 4.59s\n",
      "971:\tlearn: 0.4266650\ttest: 0.4263271\tbest: 0.4263256 (575)\ttotal: 2m 33s\tremaining: 4.43s\n",
      "972:\tlearn: 0.4266650\ttest: 0.4263271\tbest: 0.4263256 (575)\ttotal: 2m 33s\tremaining: 4.27s\n",
      "973:\tlearn: 0.4266650\ttest: 0.4263271\tbest: 0.4263256 (575)\ttotal: 2m 34s\tremaining: 4.11s\n",
      "974:\tlearn: 0.4266650\ttest: 0.4263271\tbest: 0.4263256 (575)\ttotal: 2m 34s\tremaining: 3.95s\n",
      "975:\tlearn: 0.4266650\ttest: 0.4263271\tbest: 0.4263256 (575)\ttotal: 2m 34s\tremaining: 3.79s\n",
      "976:\tlearn: 0.4266650\ttest: 0.4263271\tbest: 0.4263256 (575)\ttotal: 2m 34s\tremaining: 3.63s\n",
      "977:\tlearn: 0.4266650\ttest: 0.4263271\tbest: 0.4263256 (575)\ttotal: 2m 34s\tremaining: 3.47s\n",
      "978:\tlearn: 0.4266650\ttest: 0.4263271\tbest: 0.4263256 (575)\ttotal: 2m 34s\tremaining: 3.31s\n",
      "979:\tlearn: 0.4266650\ttest: 0.4263271\tbest: 0.4263256 (575)\ttotal: 2m 34s\tremaining: 3.15s\n",
      "980:\tlearn: 0.4266650\ttest: 0.4263271\tbest: 0.4263256 (575)\ttotal: 2m 34s\tremaining: 2.99s\n",
      "981:\tlearn: 0.4266650\ttest: 0.4263271\tbest: 0.4263256 (575)\ttotal: 2m 34s\tremaining: 2.83s\n",
      "982:\tlearn: 0.4266650\ttest: 0.4263271\tbest: 0.4263256 (575)\ttotal: 2m 34s\tremaining: 2.67s\n",
      "983:\tlearn: 0.4266650\ttest: 0.4263271\tbest: 0.4263256 (575)\ttotal: 2m 34s\tremaining: 2.51s\n",
      "984:\tlearn: 0.4266650\ttest: 0.4263271\tbest: 0.4263256 (575)\ttotal: 2m 34s\tremaining: 2.35s\n",
      "985:\tlearn: 0.4266650\ttest: 0.4263271\tbest: 0.4263256 (575)\ttotal: 2m 34s\tremaining: 2.2s\n",
      "986:\tlearn: 0.4266650\ttest: 0.4263271\tbest: 0.4263256 (575)\ttotal: 2m 34s\tremaining: 2.04s\n",
      "987:\tlearn: 0.4266650\ttest: 0.4263271\tbest: 0.4263256 (575)\ttotal: 2m 34s\tremaining: 1.88s\n",
      "988:\tlearn: 0.4266650\ttest: 0.4263271\tbest: 0.4263256 (575)\ttotal: 2m 34s\tremaining: 1.72s\n",
      "989:\tlearn: 0.4266650\ttest: 0.4263271\tbest: 0.4263256 (575)\ttotal: 2m 34s\tremaining: 1.56s\n",
      "990:\tlearn: 0.4266650\ttest: 0.4263271\tbest: 0.4263256 (575)\ttotal: 2m 34s\tremaining: 1.41s\n",
      "991:\tlearn: 0.4266650\ttest: 0.4263271\tbest: 0.4263256 (575)\ttotal: 2m 35s\tremaining: 1.25s\n",
      "992:\tlearn: 0.4266650\ttest: 0.4263271\tbest: 0.4263256 (575)\ttotal: 2m 35s\tremaining: 1.09s\n",
      "993:\tlearn: 0.4266650\ttest: 0.4263271\tbest: 0.4263256 (575)\ttotal: 2m 35s\tremaining: 937ms\n",
      "994:\tlearn: 0.4266650\ttest: 0.4263271\tbest: 0.4263256 (575)\ttotal: 2m 35s\tremaining: 780ms\n",
      "995:\tlearn: 0.4266650\ttest: 0.4263271\tbest: 0.4263256 (575)\ttotal: 2m 35s\tremaining: 624ms\n",
      "996:\tlearn: 0.4266650\ttest: 0.4263271\tbest: 0.4263256 (575)\ttotal: 2m 35s\tremaining: 467ms\n"
     ]
    },
    {
     "name": "stdout",
     "output_type": "stream",
     "text": [
      "997:\tlearn: 0.4266650\ttest: 0.4263271\tbest: 0.4263256 (575)\ttotal: 2m 35s\tremaining: 311ms\n",
      "998:\tlearn: 0.4266650\ttest: 0.4263271\tbest: 0.4263256 (575)\ttotal: 2m 35s\tremaining: 156ms\n",
      "999:\tlearn: 0.4266650\ttest: 0.4263271\tbest: 0.4263256 (575)\ttotal: 2m 35s\tremaining: 0us\n",
      "\n",
      "bestTest = 0.4263255838\n",
      "bestIteration = 575\n",
      "\n",
      "Shrink model to first 576 iterations.\n"
     ]
    }
   ],
   "source": [
    "X_train, X_validation, y_train, y_validation = train_test_split(df_raw, target, train_size=0.8, random_state=1234, shuffle=True)\n",
    "\n",
    "model=CatBoostClassifier(iterations=1000, depth=12, learning_rate=0.01, loss_function='Logloss',use_best_model=True,\\\n",
    "                class_weights = [0.3045921227117995, 0.6954078772882005 ])\n",
    "\n",
    "model.fit(X_train, y_train,cat_features=categorical_features_indices,eval_set=(X_validation, y_validation));"
   ]
  },
  {
   "cell_type": "code",
   "execution_count": 106,
   "metadata": {
    "ExecuteTime": {
     "end_time": "2018-05-25T15:43:39.521529Z",
     "start_time": "2018-05-25T15:43:38.612490Z"
    },
    "hidden": true
   },
   "outputs": [],
   "source": [
    "prediction_proba = model.predict_proba(df_test)"
   ]
  },
  {
   "cell_type": "code",
   "execution_count": 22,
   "metadata": {
    "ExecuteTime": {
     "end_time": "2018-05-26T05:00:14.322899Z",
     "start_time": "2018-05-26T05:00:14.051641Z"
    },
    "hidden": true
   },
   "outputs": [
    {
     "data": {
      "text/plain": [
       "4388"
      ]
     },
     "execution_count": 22,
     "metadata": {},
     "output_type": "execute_result"
    }
   ],
   "source": [
    "gc.collect()"
   ]
  },
  {
   "cell_type": "code",
   "execution_count": 7,
   "metadata": {
    "ExecuteTime": {
     "end_time": "2018-05-26T06:53:08.234540Z",
     "start_time": "2018-05-26T06:53:07.966521Z"
    },
    "hidden": true
   },
   "outputs": [],
   "source": [
    "def make_submission(probs):\n",
    "    sample = pd.read_csv(f'{PATH}\\\\AV_Stud\\\\sample_submission_vaSxamm.csv')\n",
    "    submit = sample.copy()\n",
    "    submit['is_pass'] = probs\n",
    "    return submit"
   ]
  },
  {
   "cell_type": "code",
   "execution_count": 74,
   "metadata": {
    "ExecuteTime": {
     "end_time": "2018-05-26T07:37:12.115088Z",
     "start_time": "2018-05-26T07:37:11.846503Z"
    },
    "hidden": true
   },
   "outputs": [],
   "source": [
    "#submit = make_submission(prediction_proba[:,1]);\n",
    "#submit = make_submission(preds_xgb)\n",
    "submit = make_submission(new_preds)"
   ]
  },
  {
   "cell_type": "code",
   "execution_count": 75,
   "metadata": {
    "ExecuteTime": {
     "end_time": "2018-05-26T07:37:12.366545Z",
     "start_time": "2018-05-26T07:37:12.115088Z"
    },
    "hidden": true
   },
   "outputs": [
    {
     "data": {
      "text/html": [
       "<div>\n",
       "<style>\n",
       "    .dataframe thead tr:only-child th {\n",
       "        text-align: right;\n",
       "    }\n",
       "\n",
       "    .dataframe thead th {\n",
       "        text-align: left;\n",
       "    }\n",
       "\n",
       "    .dataframe tbody tr th {\n",
       "        vertical-align: top;\n",
       "    }\n",
       "</style>\n",
       "<table border=\"1\" class=\"dataframe\">\n",
       "  <thead>\n",
       "    <tr style=\"text-align: right;\">\n",
       "      <th></th>\n",
       "      <th>id</th>\n",
       "      <th>is_pass</th>\n",
       "    </tr>\n",
       "  </thead>\n",
       "  <tbody>\n",
       "    <tr>\n",
       "      <th>0</th>\n",
       "      <td>1626_45</td>\n",
       "      <td>0.491504</td>\n",
       "    </tr>\n",
       "    <tr>\n",
       "      <th>1</th>\n",
       "      <td>11020_130</td>\n",
       "      <td>0.830501</td>\n",
       "    </tr>\n",
       "  </tbody>\n",
       "</table>\n",
       "</div>"
      ],
      "text/plain": [
       "          id   is_pass\n",
       "0    1626_45  0.491504\n",
       "1  11020_130  0.830501"
      ]
     },
     "execution_count": 75,
     "metadata": {},
     "output_type": "execute_result"
    }
   ],
   "source": [
    "submit.head(2)"
   ]
  },
  {
   "cell_type": "code",
   "execution_count": 76,
   "metadata": {
    "ExecuteTime": {
     "end_time": "2018-05-26T07:37:12.719004Z",
     "start_time": "2018-05-26T07:37:12.366545Z"
    },
    "hidden": true
   },
   "outputs": [],
   "source": [
    "submit.to_csv(f'{PATH}\\\\AV_Stud\\\\nn2.csv', index=False)"
   ]
  },
  {
   "cell_type": "markdown",
   "metadata": {
    "heading_collapsed": true
   },
   "source": [
    "## xgb"
   ]
  },
  {
   "cell_type": "code",
   "execution_count": 33,
   "metadata": {
    "ExecuteTime": {
     "end_time": "2018-05-26T06:57:36.010620Z",
     "start_time": "2018-05-26T06:57:35.644523Z"
    },
    "hidden": true
   },
   "outputs": [
    {
     "data": {
      "text/plain": [
       "set()"
      ]
     },
     "execution_count": 33,
     "metadata": {},
     "output_type": "execute_result"
    }
   ],
   "source": [
    "target = df_raw['is_pass'];\n",
    "df_raw.drop(['is_pass'], axis =1, inplace =True)\n",
    "\n",
    "'''df_raw.drop(['is_pass','program_id', 'program_type', 'test_type', 'difficulty_level', 'gender',\n",
    "       'education', 'is_handicapped'], inplace =True, axis =1)\n",
    "\n",
    "df_test.drop(['program_id', 'program_type', 'test_type', 'difficulty_level', 'gender',\n",
    "       'education', 'is_handicapped'], inplace =True, axis =1)\n",
    "'''\n",
    "\n",
    "cv = StratifiedKFold(n_splits=7, shuffle=True, random_state=1337)\n",
    "folds = list(cv.split(df_raw, target))\n",
    "x_trn, x_val, y_trn, y_val = train_test_split(df_raw, target, test_size=0.2, random_state=42, shuffle= True)\n",
    "#sanity check\n",
    "set(df_raw.columns) - set(df_test.columns)"
   ]
  },
  {
   "cell_type": "code",
   "execution_count": 7,
   "metadata": {
    "ExecuteTime": {
     "end_time": "2018-05-26T04:45:50.092141Z",
     "start_time": "2018-05-26T04:45:48.605803Z"
    },
    "hidden": true
   },
   "outputs": [],
   "source": [
    "def cross_val_xgb(params, X, y, folds):\n",
    "    n = 1\n",
    "    num_rounds = 3000\n",
    "    \n",
    "    list_rounds = []\n",
    "    list_scores = []\n",
    "    \n",
    "    for train_idx, valid_idx in folds:\n",
    "        print('#################################')\n",
    "        print('#########  Validating for fold:', n)\n",
    "\n",
    "        xgtrain = xgb.DMatrix(X[train_idx], label=y[train_idx])\n",
    "        xgtest = xgb.DMatrix(X[valid_idx], label=y[valid_idx])\n",
    "\n",
    "        watchlist = [ (xgtest, 'test') ]\n",
    "        model = xgb.train(params, xgtrain, num_rounds, watchlist, early_stopping_rounds=50, verbose_eval=True)\n",
    "        \n",
    "        rounds = model.best_ntree_limit\n",
    "        score = model.best_score\n",
    "        \n",
    "        print('\\nFold', n,'- best round:', rounds)\n",
    "        print('Fold', n,'- best score:', score)\n",
    "        \n",
    "        list_rounds.append(rounds)\n",
    "        list_scores.append(score)\n",
    "        n +=1\n",
    "    \n",
    "    mean_score = np.mean(list_scores)\n",
    "    std_score = np.std(list_scores)\n",
    "    mean_round = np.mean(list_rounds)\n",
    "    std_round = np.std(list_rounds)\n",
    "    \n",
    "    print('End cross validating',n-1,'folds') #otherwise it displays 6 folds\n",
    "    print(\"Cross Validation Scores are: \", np.round(list_scores,3))\n",
    "    print(\"Mean CrossVal score is: \", round(mean_score,3))\n",
    "    print(\"Std Dev CrossVal score is: \", round(std_score,3))\n",
    "    print(\"Cross Validation early stopping rounds are: \", np.round(list_rounds,3))\n",
    "    print(\"Mean early stopping round is: \", round(mean_round,3))\n",
    "    print(\"Std Dev early stopping round is: \", round(std_round,3))\n",
    "    \n",
    "    return mean_round, model_cv"
   ]
  },
  {
   "cell_type": "code",
   "execution_count": 8,
   "metadata": {
    "ExecuteTime": {
     "end_time": "2018-05-26T04:45:50.500851Z",
     "start_time": "2018-05-26T04:45:50.103105Z"
    },
    "hidden": true
   },
   "outputs": [],
   "source": [
    "def runXGB(train_X, train_y, test_X, test_y=None, seed_val=1, depth = 10):\n",
    "    \n",
    "        params = {}\n",
    "        params['booster'] = 'gbtree'\n",
    "        #params['updater'] = 'coord_descent'\n",
    "        params[\"objective\"] = \"binary:logistic\"\n",
    "        params['eval_metric'] = 'auc'\n",
    "        params[\"eta\"] = 0.05 #0.00334\n",
    "        params[\"subsample\"] = .9\n",
    "        params[\"silent\"] = 0\n",
    "        params['verbose'] = 2\n",
    "        params[\"max_depth\"] = depth\n",
    "        params[\"seed\"] = seed_val\n",
    "        params[\"max_delta_step\"] = 4\n",
    "        params['scale_pos_weight'] =  0.4380049934141978\n",
    "        #params['alpha'] = 0.05\n",
    "        params[\"gamma\"] = 0.3\n",
    "        params['colsample_bytree'] = 0.9\n",
    "        num_rounds = 2000 #3600\n",
    "\n",
    "        plst = list(params.items())\n",
    "        xgtrain = xgb.DMatrix(train_X, label=train_y)\n",
    "        \n",
    "        if test_y is not None:\n",
    "                print('1st block\\n')\n",
    "                xgtest = xgb.DMatrix(test_X, label=test_y)\n",
    "                watchlist = [ (xgtrain,'train'), (xgtest, 'test') ]\n",
    "                model = xgb.train(plst, xgtrain, num_rounds, watchlist, early_stopping_rounds= 50,verbose_eval=True)\n",
    "        else:\n",
    "                print('2nd block\\n')\n",
    "                xgtest = xgb.DMatrix(test_X)\n",
    "                #watchlist = [ (xgtrain,'train')]\n",
    "                #cv_results = xgb.cv(plst, xgtrain, num_rounds, nfold=5, stratified=True, show_stdv=False,\\\n",
    "                #               verbose_eval=True, folds=7, metrics=['auc', 'logloss'], early_stopping_rounds=50)\n",
    "                #print('########################### model ######################\\n', model)\n",
    "                model = xgb.train(plst, xgtrain, num_rounds)\n",
    "\n",
    "        pred_test_y = model.predict(xgtest,ntree_limit=model.best_ntree_limit)\n",
    "        \n",
    "        return pred_test_y, model, plst, model.best_ntree_limit"
   ]
  },
  {
   "cell_type": "code",
   "execution_count": 34,
   "metadata": {
    "ExecuteTime": {
     "end_time": "2018-05-26T06:57:38.590866Z",
     "start_time": "2018-05-26T06:57:38.237861Z"
    },
    "hidden": true
   },
   "outputs": [],
   "source": [
    "cols_not_to_be_encoded = ['program_type__program_duration','program_duration','test_id',\n",
    " 'program_type__city_tier',\n",
    " 'program_type__test_type',\n",
    " 'program_type__difficulty_level',\n",
    " 'test_id__program_duration',\n",
    " 'test_id__test_type',\n",
    " 'test_id_test_type__difficulty_level',\n",
    " 'test_type__difficulty_level',\n",
    " 'education__gender',\n",
    " 'education__total_programs_enrolled',\n",
    " 'gender__city_tier',\n",
    " 'gender__is_handicapped',\n",
    " 'education__city_tier',\n",
    " 'program_level']"
   ]
  },
  {
   "cell_type": "code",
   "execution_count": 35,
   "metadata": {
    "ExecuteTime": {
     "end_time": "2018-05-26T06:57:38.947120Z",
     "start_time": "2018-05-26T06:57:38.590866Z"
    },
    "hidden": true
   },
   "outputs": [],
   "source": [
    "encoded_cols = ['program_type', 'test_type',\n",
    "       'difficulty_level', 'gender', 'education',\n",
    "       'total_programs_enrolled', 'is_handicapped',\n",
    "       'trainee_engagement_rating','age_group']\n",
    "df_raw = pd.get_dummies(df_raw, drop_first=True, prefix = 'one_hot', columns=encoded_cols);\n",
    "df_test = pd.get_dummies(df_test, drop_first=True, prefix = 'one_hot',  columns=encoded_cols);"
   ]
  },
  {
   "cell_type": "code",
   "execution_count": 36,
   "metadata": {
    "ExecuteTime": {
     "end_time": "2018-05-26T06:57:40.294302Z",
     "start_time": "2018-05-26T06:57:39.925495Z"
    },
    "hidden": true
   },
   "outputs": [],
   "source": [
    "df_raw.drop(cols_not_to_be_encoded, inplace=True, axis=1);\n",
    "df_test.drop(cols_not_to_be_encoded, inplace=True, axis=1);\n",
    "df_test.drop('one_hot_middle_aged', axis =1, inplace=True);"
   ]
  },
  {
   "cell_type": "code",
   "execution_count": 20,
   "metadata": {
    "ExecuteTime": {
     "end_time": "2018-05-26T04:55:17.967459Z",
     "start_time": "2018-05-26T04:46:49.556796Z"
    },
    "hidden": true
   },
   "outputs": [
    {
     "name": "stdout",
     "output_type": "stream",
     "text": [
      "2nd block\n",
      "\n",
      "Wall time: 8min 28s\n"
     ]
    }
   ],
   "source": [
    "%%time\n",
    "preds_xgb, model, params, num_rounds = runXGB(df_raw, target, df_test)"
   ]
  },
  {
   "cell_type": "code",
   "execution_count": 21,
   "metadata": {
    "ExecuteTime": {
     "end_time": "2018-05-26T04:59:46.748879Z",
     "start_time": "2018-05-26T04:59:43.170031Z"
    },
    "hidden": true
   },
   "outputs": [
    {
     "data": {
      "image/png": "[encoded data removed]",
      "text/plain": [
       "<matplotlib.figure.Figure at 0x2af3c7015f8>"
      ]
     },
     "metadata": {},
     "output_type": "display_data"
    }
   ],
   "source": [
    "xgb.plot_importance(model, max_num_features=15, importance_type='weight');"
   ]
  },
  {
   "cell_type": "code",
   "execution_count": 37,
   "metadata": {
    "ExecuteTime": {
     "end_time": "2018-05-26T06:57:43.050401Z",
     "start_time": "2018-05-26T06:57:42.744024Z"
    },
    "hidden": true
   },
   "outputs": [
    {
     "data": {
      "text/plain": [
       "(64, 63)"
      ]
     },
     "execution_count": 37,
     "metadata": {},
     "output_type": "execute_result"
    }
   ],
   "source": [
    "len(df_test.columns), len(np.unique(df_test.columns))"
   ]
  },
  {
   "cell_type": "code",
   "execution_count": 38,
   "metadata": {
    "ExecuteTime": {
     "end_time": "2018-05-26T06:57:43.299808Z",
     "start_time": "2018-05-26T06:57:43.052398Z"
    },
    "hidden": true
   },
   "outputs": [
    {
     "data": {
      "text/plain": [
       "one_hot_Y      2\n",
       "one_hot_2.0    1\n",
       "dtype: int64"
      ]
     },
     "execution_count": 38,
     "metadata": {},
     "output_type": "execute_result"
    }
   ],
   "source": [
    "df_test.columns.value_counts().sort_values(ascending=False)[:2]"
   ]
  },
  {
   "cell_type": "code",
   "execution_count": 39,
   "metadata": {
    "ExecuteTime": {
     "end_time": "2018-05-26T06:57:43.698442Z",
     "start_time": "2018-05-26T06:57:43.423180Z"
    },
    "hidden": true
   },
   "outputs": [
    {
     "data": {
      "text/plain": [
       "(64, 63)"
      ]
     },
     "execution_count": 39,
     "metadata": {},
     "output_type": "execute_result"
    }
   ],
   "source": [
    "len(df_raw.columns), len(np.unique(df_raw.columns))"
   ]
  },
  {
   "cell_type": "code",
   "execution_count": 40,
   "metadata": {
    "ExecuteTime": {
     "end_time": "2018-05-26T06:57:43.999714Z",
     "start_time": "2018-05-26T06:57:43.732429Z"
    },
    "hidden": true
   },
   "outputs": [
    {
     "data": {
      "text/plain": [
       "set()"
      ]
     },
     "execution_count": 40,
     "metadata": {},
     "output_type": "execute_result"
    }
   ],
   "source": [
    "set(df_raw.columns) - set(df_test.columns)"
   ]
  },
  {
   "cell_type": "code",
   "execution_count": 41,
   "metadata": {
    "ExecuteTime": {
     "end_time": "2018-05-26T06:57:45.226810Z",
     "start_time": "2018-05-26T06:57:44.873243Z"
    },
    "hidden": true
   },
   "outputs": [
    {
     "data": {
      "text/plain": [
       "set()"
      ]
     },
     "execution_count": 41,
     "metadata": {},
     "output_type": "execute_result"
    }
   ],
   "source": [
    "set(df_test.columns) - set(df_raw.columns)"
   ]
  },
  {
   "cell_type": "code",
   "execution_count": 42,
   "metadata": {
    "ExecuteTime": {
     "end_time": "2018-05-26T06:57:45.494814Z",
     "start_time": "2018-05-26T06:57:45.228541Z"
    },
    "hidden": true
   },
   "outputs": [],
   "source": [
    "df_test.drop(['one_hot_Y'], axis =1, inplace=True)"
   ]
  },
  {
   "cell_type": "code",
   "execution_count": 43,
   "metadata": {
    "ExecuteTime": {
     "end_time": "2018-05-26T06:57:45.784679Z",
     "start_time": "2018-05-26T06:57:45.494814Z"
    },
    "hidden": true
   },
   "outputs": [],
   "source": [
    "df_raw.drop(['one_hot_Y','one_hot_60.0'], axis =1, inplace=True)"
   ]
  },
  {
   "cell_type": "markdown",
   "metadata": {},
   "source": [
    "## nn"
   ]
  },
  {
   "cell_type": "code",
   "execution_count": 8,
   "metadata": {
    "ExecuteTime": {
     "end_time": "2018-05-26T06:53:56.286785Z",
     "start_time": "2018-05-26T06:53:13.793713Z"
    }
   },
   "outputs": [
    {
     "name": "stderr",
     "output_type": "stream",
     "text": [
      "Using TensorFlow backend.\n"
     ]
    }
   ],
   "source": [
    "from keras.models import Sequential\n",
    "from keras.layers import Dense, BatchNormalization, Flatten, LeakyReLU, Dropout\n",
    "from keras.activations import relu, softmax\n",
    "from keras import metrics"
   ]
  },
  {
   "cell_type": "code",
   "execution_count": 9,
   "metadata": {
    "ExecuteTime": {
     "end_time": "2018-05-26T06:53:56.543301Z",
     "start_time": "2018-05-26T06:53:56.286785Z"
    }
   },
   "outputs": [],
   "source": [
    "model = Sequential()"
   ]
  },
  {
   "cell_type": "code",
   "execution_count": 10,
   "metadata": {
    "ExecuteTime": {
     "end_time": "2018-05-26T06:53:56.795667Z",
     "start_time": "2018-05-26T06:53:56.543301Z"
    }
   },
   "outputs": [
    {
     "data": {
      "text/plain": [
       "(73147, 56)"
      ]
     },
     "execution_count": 10,
     "metadata": {},
     "output_type": "execute_result"
    }
   ],
   "source": [
    "df_raw.shape"
   ]
  },
  {
   "cell_type": "code",
   "execution_count": 64,
   "metadata": {
    "ExecuteTime": {
     "end_time": "2018-05-26T07:09:05.651267Z",
     "start_time": "2018-05-26T07:09:05.323575Z"
    }
   },
   "outputs": [],
   "source": [
    "def build_model():\n",
    "    model = Sequential()\n",
    "    model.add(Dense(256, input_dim = df_raw.shape[1], activation = 'relu', kernel_initializer='normal'))\n",
    "    model.add(Dense(128, activation = 'relu',kernel_initializer='normal'))\n",
    "    model.add(BatchNormalization())\n",
    "    model.add(Dense(64, activation = 'relu',kernel_initializer='normal'))\n",
    "    model.add(Dropout(0.13))\n",
    "    model.add(Dense(32,activation = 'relu',kernel_initializer='normal'))\n",
    "    model.add(Dropout(0.1))\n",
    "    model.add(Dense(16,activation = 'relu',kernel_initializer='normal'))\n",
    "    model.add(Dropout(0.1))\n",
    "    model.add(Dense(1,kernel_initializer='normal',activation = 'sigmoid'))\n",
    "    model.compile(loss='binary_crossentropy',optimizer='rmsprop',metrics=['accuracy'],)\n",
    "    return model"
   ]
  },
  {
   "cell_type": "code",
   "execution_count": 65,
   "metadata": {
    "ExecuteTime": {
     "end_time": "2018-05-26T07:09:06.532504Z",
     "start_time": "2018-05-26T07:09:05.926951Z"
    }
   },
   "outputs": [],
   "source": [
    "model = build_model()"
   ]
  },
  {
   "cell_type": "code",
   "execution_count": 66,
   "metadata": {
    "ExecuteTime": {
     "end_time": "2018-05-26T07:09:07.035080Z",
     "start_time": "2018-05-26T07:09:06.640134Z"
    }
   },
   "outputs": [
    {
     "name": "stdout",
     "output_type": "stream",
     "text": [
      "_________________________________________________________________\n",
      "Layer (type)                 Output Shape              Param #   \n",
      "=================================================================\n",
      "dense_13 (Dense)             (None, 256)               16128     \n",
      "_________________________________________________________________\n",
      "dense_14 (Dense)             (None, 128)               32896     \n",
      "_________________________________________________________________\n",
      "batch_normalization_1 (Batch (None, 128)               512       \n",
      "_________________________________________________________________\n",
      "dense_15 (Dense)             (None, 64)                8256      \n",
      "_________________________________________________________________\n",
      "dropout_9 (Dropout)          (None, 64)                0         \n",
      "_________________________________________________________________\n",
      "dense_16 (Dense)             (None, 32)                2080      \n",
      "_________________________________________________________________\n",
      "dropout_10 (Dropout)         (None, 32)                0         \n",
      "_________________________________________________________________\n",
      "dense_17 (Dense)             (None, 16)                528       \n",
      "_________________________________________________________________\n",
      "dropout_11 (Dropout)         (None, 16)                0         \n",
      "_________________________________________________________________\n",
      "dense_18 (Dense)             (None, 1)                 17        \n",
      "=================================================================\n",
      "Total params: 60,417\n",
      "Trainable params: 60,161\n",
      "Non-trainable params: 256\n",
      "_________________________________________________________________\n"
     ]
    }
   ],
   "source": [
    "model.summary()"
   ]
  },
  {
   "cell_type": "code",
   "execution_count": 53,
   "metadata": {
    "ExecuteTime": {
     "end_time": "2018-05-26T07:00:03.963236Z",
     "start_time": "2018-05-26T07:00:03.605803Z"
    }
   },
   "outputs": [],
   "source": [
    "df_test.fillna(36.,inplace=True, axis =1)"
   ]
  },
  {
   "cell_type": "code",
   "execution_count": 55,
   "metadata": {
    "ExecuteTime": {
     "end_time": "2018-05-26T07:00:27.103291Z",
     "start_time": "2018-05-26T07:00:26.611851Z"
    }
   },
   "outputs": [],
   "source": [
    "scaler = StandardScaler()\n",
    "X_train = scaler.fit_transform(df_raw)\n",
    "X_test = scaler.transform(df_test)"
   ]
  },
  {
   "cell_type": "code",
   "execution_count": 68,
   "metadata": {
    "ExecuteTime": {
     "end_time": "2018-05-26T07:37:07.532021Z",
     "start_time": "2018-05-26T07:28:43.017419Z"
    },
    "scrolled": true
   },
   "outputs": [
    {
     "name": "stdout",
     "output_type": "stream",
     "text": [
      "Train on 58517 samples, validate on 14630 samples\n",
      "Epoch 1/25\n",
      "18s - loss: 0.4988 - acc: 0.7604 - val_loss: 0.5807 - val_acc: 0.7286\n",
      "Epoch 2/25\n",
      "19s - loss: 0.4991 - acc: 0.7606 - val_loss: 0.5582 - val_acc: 0.7284\n",
      "Epoch 3/25\n",
      "20s - loss: 0.4982 - acc: 0.7599 - val_loss: 0.5757 - val_acc: 0.7273\n",
      "Epoch 4/25\n",
      "19s - loss: 0.4987 - acc: 0.7621 - val_loss: 0.5838 - val_acc: 0.7242\n",
      "Epoch 5/25\n",
      "18s - loss: 0.4977 - acc: 0.7615 - val_loss: 0.5657 - val_acc: 0.7295\n",
      "Epoch 6/25\n",
      "17s - loss: 0.4982 - acc: 0.7606 - val_loss: 0.6031 - val_acc: 0.7240\n",
      "Epoch 7/25\n",
      "17s - loss: 0.4963 - acc: 0.7625 - val_loss: 0.5677 - val_acc: 0.7267\n",
      "Epoch 8/25\n",
      "22s - loss: 0.4948 - acc: 0.7633 - val_loss: 0.5718 - val_acc: 0.7245\n",
      "Epoch 9/25\n",
      "17s - loss: 0.4953 - acc: 0.7640 - val_loss: 0.5769 - val_acc: 0.7282\n",
      "Epoch 10/25\n",
      "18s - loss: 0.4948 - acc: 0.7629 - val_loss: 0.5622 - val_acc: 0.7298\n",
      "Epoch 11/25\n",
      "17s - loss: 0.4929 - acc: 0.7660 - val_loss: 0.6058 - val_acc: 0.7267\n",
      "Epoch 12/25\n",
      "17s - loss: 0.4935 - acc: 0.7634 - val_loss: 0.5789 - val_acc: 0.7279\n",
      "Epoch 13/25\n",
      "26s - loss: 0.4912 - acc: 0.7660 - val_loss: 0.6050 - val_acc: 0.7308\n",
      "Epoch 14/25\n",
      "17s - loss: 0.4894 - acc: 0.7673 - val_loss: 0.6184 - val_acc: 0.7167\n",
      "Epoch 15/25\n",
      "18s - loss: 0.4917 - acc: 0.7669 - val_loss: 0.5823 - val_acc: 0.7257\n",
      "Epoch 16/25\n",
      "28s - loss: 0.4896 - acc: 0.7668 - val_loss: 0.5870 - val_acc: 0.7214\n",
      "Epoch 17/25\n",
      "18s - loss: 0.4914 - acc: 0.7642 - val_loss: 0.5996 - val_acc: 0.7274\n",
      "Epoch 18/25\n",
      "17s - loss: 0.4901 - acc: 0.7663 - val_loss: 0.6038 - val_acc: 0.7290\n",
      "Epoch 19/25\n",
      "22s - loss: 0.4882 - acc: 0.7665 - val_loss: 0.6187 - val_acc: 0.7264\n",
      "Epoch 20/25\n",
      "17s - loss: 0.4883 - acc: 0.7685 - val_loss: 0.5952 - val_acc: 0.7306\n",
      "Epoch 21/25\n",
      "17s - loss: 0.4882 - acc: 0.7676 - val_loss: 0.6034 - val_acc: 0.7271\n",
      "Epoch 22/25\n",
      "30s - loss: 0.4903 - acc: 0.7668 - val_loss: 0.6088 - val_acc: 0.7261\n",
      "Epoch 23/25\n",
      "24s - loss: 0.4912 - acc: 0.7661 - val_loss: 0.6092 - val_acc: 0.7137\n",
      "Epoch 24/25\n",
      "17s - loss: 0.4906 - acc: 0.7683 - val_loss: 0.5907 - val_acc: 0.7267\n",
      "Epoch 25/25\n",
      "21s - loss: 0.4901 - acc: 0.7678 - val_loss: 0.5906 - val_acc: 0.7255\n"
     ]
    }
   ],
   "source": [
    "hist = model.fit(X_train,target,epochs = 25,batch_size = 32,verbose=2,validation_split=.2)"
   ]
  },
  {
   "cell_type": "code",
   "execution_count": 69,
   "metadata": {
    "ExecuteTime": {
     "end_time": "2018-05-26T07:37:10.459044Z",
     "start_time": "2018-05-26T07:37:07.537943Z"
    }
   },
   "outputs": [
    {
     "name": "stdout",
     "output_type": "stream",
     "text": [
      "31349/31349 [==============================] - ETA: 61 - ETA: 6 - ETA:  - ETA:  - ETA:  - ETA:  - ETA:  - ETA:  - ETA:  - ETA:  - ETA:  - ETA:  - ETA:  - ETA:  - ETA:  - ETA:  - ETA:  - ETA:  - ETA:  - ETA:  - ETA:  - ETA:  - ETA:  - ETA:  - ETA:  - ETA:  - ETA:  - ETA:  - ETA:  - ETA:  - ETA:  - ETA:  - ETA:  - ETA:  - ETA:  - ETA:  - ETA:  - ETA:  - ETA:  - ETA:  - ETA:  - ETA:  - ETA:  - ETA:  - 2s     \n"
     ]
    }
   ],
   "source": [
    "preds = model.predict_proba(X_test)"
   ]
  },
  {
   "cell_type": "code",
   "execution_count": 70,
   "metadata": {
    "ExecuteTime": {
     "end_time": "2018-05-26T07:37:11.062505Z",
     "start_time": "2018-05-26T07:37:10.459044Z"
    }
   },
   "outputs": [
    {
     "name": "stdout",
     "output_type": "stream",
     "text": [
      "Saved model to disk\n"
     ]
    }
   ],
   "source": [
    "# serialize model to JSON\n",
    "model_json = model.to_json()\n",
    "with open(f'{PATH}\\\\AV_Stud\\\\model.json', \"w\") as json_file:\n",
    "    json_file.write(model_json)\n",
    "# serialize weights to HDF5\n",
    "model.save_weights(f\"{PATH}\\\\AV_Stud\\\\model.h5\")\n",
    "print(\"Saved model to disk\")"
   ]
  },
  {
   "cell_type": "markdown",
   "metadata": {},
   "source": [
    "load json and create model\n",
    "json_file = open('model.json', 'r')\n",
    "\n",
    "loaded_model_json = json_file.read()\n",
    "\n",
    "json_file.close()\n",
    "\n",
    "loaded_model = model_from_json(loaded_model_json)\n",
    "\n",
    "load weights into new model\n",
    "\n",
    "loaded_model.load_weights(\"model.h5\")\n",
    "\n",
    "print(\"Loaded model from disk\")\n",
    " \n",
    "evaluate loaded model on test data\n",
    "\n",
    "loaded_model.compile(loss='binary_crossentropy', optimizer='rmsprop', metrics=['accuracy'])\n",
    "\n",
    "score = loaded_model.evaluate(X, Y, verbose=0)\n",
    "\n",
    "print(\"%s: %.2f%%\" % (loaded_model.metrics_names[1], score[1]*100))"
   ]
  },
  {
   "cell_type": "code",
   "execution_count": 71,
   "metadata": {
    "ExecuteTime": {
     "end_time": "2018-05-26T07:37:11.330504Z",
     "start_time": "2018-05-26T07:37:11.062505Z"
    }
   },
   "outputs": [
    {
     "data": {
      "text/plain": [
       "array([ 0.87713], dtype=float32)"
      ]
     },
     "execution_count": 71,
     "metadata": {},
     "output_type": "execute_result"
    }
   ],
   "source": [
    "preds[12]"
   ]
  },
  {
   "cell_type": "code",
   "execution_count": 72,
   "metadata": {
    "ExecuteTime": {
     "end_time": "2018-05-26T07:37:11.590505Z",
     "start_time": "2018-05-26T07:37:11.334504Z"
    }
   },
   "outputs": [],
   "source": [
    "new_preds = []"
   ]
  },
  {
   "cell_type": "code",
   "execution_count": 73,
   "metadata": {
    "ExecuteTime": {
     "end_time": "2018-05-26T07:37:11.846503Z",
     "start_time": "2018-05-26T07:37:11.590505Z"
    }
   },
   "outputs": [],
   "source": [
    "for i in range(df_test.shape[0]):\n",
    "    new_preds.append(preds[i][0])"
   ]
  },
  {
   "cell_type": "code",
   "execution_count": null,
   "metadata": {},
   "outputs": [],
   "source": []
  }
 ],
 "metadata": {
  "kernelspec": {
   "display_name": "Python 3",
   "language": "python",
   "name": "python3"
  },
  "language_info": {
   "codemirror_mode": {
    "name": "ipython",
    "version": 3
   },
   "file_extension": ".py",
   "mimetype": "text/x-python",
   "name": "python",
   "nbconvert_exporter": "python",
   "pygments_lexer": "ipython3",
   "version": "3.6.3"
  },
  "nbTranslate": {
   "displayLangs": [
    "*"
   ],
   "hotkey": "alt-t",
   "langInMainMenu": true,
   "sourceLang": "en",
   "targetLang": "fr",
   "useGoogleTranslate": true
  }
 },
 "nbformat": 4,
 "nbformat_minor": 2
}
