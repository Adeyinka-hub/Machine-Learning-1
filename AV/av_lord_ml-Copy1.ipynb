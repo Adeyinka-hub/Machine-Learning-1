{
 "cells": [
  {
   "cell_type": "code",
   "execution_count": 1,
   "metadata": {
    "ExecuteTime": {
     "end_time": "2018-03-25T16:44:21.819480Z",
     "start_time": "2018-03-25T16:44:20.611020Z"
    }
   },
   "outputs": [
    {
     "name": "stderr",
     "output_type": "stream",
     "text": [
      "C:\\ProgramData\\Anaconda3\\lib\\site-packages\\sklearn\\cross_validation.py:41: DeprecationWarning: This module was deprecated in version 0.18 in favor of the model_selection module into which all the refactored classes and functions are moved. Also note that the interface of the new CV iterators are different from that of this module. This module will be removed in 0.20.\n",
      "  \"This module will be removed in 0.20.\", DeprecationWarning)\n",
      "C:\\ProgramData\\Anaconda3\\lib\\site-packages\\sklearn\\learning_curve.py:22: DeprecationWarning: This module was deprecated in version 0.18 in favor of the model_selection module into which all the functions are moved. This module will be removed in 0.20\n",
      "  DeprecationWarning)\n"
     ]
    }
   ],
   "source": [
    "%load_ext autoreload\n",
    "%autoreload 2\n",
    "%matplotlib inline\n",
    "import  pandas  as  pd \n",
    "import  numpy  as  np \n",
    "import  matplotlib.pyplot  as  plt \n",
    "import  seaborn  as  sns\n",
    "from  sklearn.model_selection  import  train_test_split\n",
    "from  sklearn.metrics  import  mean_squared_error\n",
    "from  sklearn.preprocessing  import  StandardScaler \n",
    "from  sklearn.model_selection  import  GridSearchCV\n",
    "from  sklearn.linear_model  import LinearRegression\n",
    "from  sklearn.neighbors  import KNeighborsRegressor \n",
    "from  sklearn.ensemble  import RandomForestRegressor \n",
    "from  sklearn.ensemble  import GradientBoostingRegressor \n",
    "from  sklearn.ensemble  import AdaBoostRegressor \n",
    "from  sklearn.svm  import LinearSVR\n",
    "from  sklearn.learning_curve  import  learning_curve\n",
    "from  scipy  import  stats\n",
    "from nltk.corpus import stopwords"
   ]
  },
  {
   "cell_type": "code",
   "execution_count": 2,
   "metadata": {
    "ExecuteTime": {
     "end_time": "2018-03-25T16:44:22.171110Z",
     "start_time": "2018-03-25T16:44:21.819480Z"
    }
   },
   "outputs": [],
   "source": [
    "from fastai.imports import *\n",
    "from fastai.structured import *\n",
    "\n",
    "from pandas_summary import DataFrameSummary\n",
    "from sklearn.ensemble import RandomForestRegressor, RandomForestClassifier\n",
    "from IPython.display import display\n",
    "\n",
    "from sklearn import metrics"
   ]
  },
  {
   "cell_type": "code",
   "execution_count": 3,
   "metadata": {
    "ExecuteTime": {
     "end_time": "2018-03-25T16:44:22.319675Z",
     "start_time": "2018-03-25T16:44:22.171110Z"
    }
   },
   "outputs": [],
   "source": [
    "PATH = os.getcwd();\n",
    "PATH = PATH+\"\\\\AV_Lord\\\\\""
   ]
  },
  {
   "cell_type": "code",
   "execution_count": 4,
   "metadata": {
    "ExecuteTime": {
     "end_time": "2018-03-25T16:44:22.797893Z",
     "start_time": "2018-03-25T16:44:22.509804Z"
    },
    "collapsed": true
   },
   "outputs": [
    {
     "name": "stdout",
     "output_type": "stream",
     "text": [
      " Volume in drive D is Local Disk\n",
      " Volume Serial Number is B408-A348\n",
      "\n",
      " Directory of D:\\Github\\fastai\\courses\\ml1\\AV_Lord\n",
      "\n",
      "25-Mar-18  12:42 AM    <DIR>          .\n",
      "25-Mar-18  12:42 AM    <DIR>          ..\n",
      "24-Mar-18  04:08 PM    <DIR>          .ipynb_checkpoints\n",
      "24-Mar-18  06:53 PM        11,247,959 av_cat_2.csv\n",
      "23-Mar-18  04:40 PM            58,415 campaign_data.csv\n",
      "24-Mar-18  04:35 PM     1,382,961,456 combined.raw\n",
      "25-Mar-18  09:23 AM        24,181,026 logistic_reg_sub2.csv\n",
      "25-Mar-18  12:42 AM         3,748,609 logistic_reg_sub2.zip\n",
      "24-Mar-18  12:07 AM         9,700,243 sample_submission.csv\n",
      "23-Mar-18  04:42 PM        28,686,790 test_BDIfz5B.csv\n",
      "23-Mar-18  07:55 PM        42,036,287 train.csv\n",
      "               8 File(s)  1,502,620,785 bytes\n",
      "               3 Dir(s)  168,866,631,680 bytes free\n"
     ]
    }
   ],
   "source": [
    "!dir {PATH}"
   ]
  },
  {
   "cell_type": "code",
   "execution_count": 5,
   "metadata": {
    "ExecuteTime": {
     "end_time": "2018-03-25T16:44:32.270179Z",
     "start_time": "2018-03-25T16:44:27.015123Z"
    }
   },
   "outputs": [],
   "source": [
    "df_raw = pd.read_csv(f'{PATH}train.csv',low_memory=False)"
   ]
  },
  {
   "cell_type": "code",
   "execution_count": 24,
   "metadata": {
    "ExecuteTime": {
     "end_time": "2018-03-25T17:07:08.151699Z",
     "start_time": "2018-03-25T17:07:07.939414Z"
    }
   },
   "outputs": [],
   "source": [
    "camp = pd.read_csv(f'{PATH}campaign_data.csv',low_memory=False)"
   ]
  },
  {
   "cell_type": "code",
   "execution_count": 25,
   "metadata": {
    "ExecuteTime": {
     "end_time": "2018-03-25T17:07:08.437987Z",
     "start_time": "2018-03-25T17:07:08.225725Z"
    }
   },
   "outputs": [
    {
     "data": {
      "text/plain": [
       "((1023191, 6), (52, 9))"
      ]
     },
     "execution_count": 25,
     "metadata": {},
     "output_type": "execute_result"
    }
   ],
   "source": [
    "df_raw.shape, camp.shape"
   ]
  },
  {
   "cell_type": "code",
   "execution_count": 26,
   "metadata": {
    "ExecuteTime": {
     "end_time": "2018-03-25T17:07:09.841294Z",
     "start_time": "2018-03-25T17:07:09.561106Z"
    }
   },
   "outputs": [
    {
     "data": {
      "text/plain": [
       "(int64:dense     4\n",
       " object:dense    2\n",
       " dtype: int64, int64:dense     5\n",
       " object:dense    4\n",
       " dtype: int64)"
      ]
     },
     "execution_count": 26,
     "metadata": {},
     "output_type": "execute_result"
    }
   ],
   "source": [
    "df_raw.get_ftype_counts(),\\\n",
    "camp.get_ftype_counts()"
   ]
  },
  {
   "cell_type": "code",
   "execution_count": 27,
   "metadata": {
    "ExecuteTime": {
     "end_time": "2018-03-25T17:07:12.343423Z",
     "start_time": "2018-03-25T17:07:12.164069Z"
    }
   },
   "outputs": [],
   "source": [
    "def display_all(df):\n",
    "    with pd.option_context(\"display.max_rows\", 1000): \n",
    "        with pd.option_context(\"display.max_columns\", 1000): \n",
    "            display(df)"
   ]
  },
  {
   "cell_type": "code",
   "execution_count": 28,
   "metadata": {
    "ExecuteTime": {
     "end_time": "2018-03-25T17:07:12.599033Z",
     "start_time": "2018-03-25T17:07:12.406993Z"
    }
   },
   "outputs": [
    {
     "data": {
      "text/html": [
       "<div>\n",
       "<style>\n",
       "    .dataframe thead tr:only-child th {\n",
       "        text-align: right;\n",
       "    }\n",
       "\n",
       "    .dataframe thead th {\n",
       "        text-align: left;\n",
       "    }\n",
       "\n",
       "    .dataframe tbody tr th {\n",
       "        vertical-align: top;\n",
       "    }\n",
       "</style>\n",
       "<table border=\"1\" class=\"dataframe\">\n",
       "  <thead>\n",
       "    <tr style=\"text-align: right;\">\n",
       "      <th></th>\n",
       "      <th>campaign_id</th>\n",
       "      <th>communication_type</th>\n",
       "      <th>total_links</th>\n",
       "      <th>no_of_internal_links</th>\n",
       "      <th>no_of_images</th>\n",
       "      <th>no_of_sections</th>\n",
       "      <th>email_body</th>\n",
       "      <th>subject</th>\n",
       "      <th>email_url</th>\n",
       "    </tr>\n",
       "  </thead>\n",
       "  <tbody>\n",
       "    <tr>\n",
       "      <th>0</th>\n",
       "      <td>29</td>\n",
       "      <td>Newsletter</td>\n",
       "      <td>67</td>\n",
       "      <td>61</td>\n",
       "      <td>12</td>\n",
       "      <td>3</td>\n",
       "      <td>Dear AVians,\\r\\n \\r\\nWe are shaping up a super...</td>\n",
       "      <td>Sneak Peek: A look at the emerging data scienc...</td>\n",
       "      <td>http://r.newsletters.analyticsvidhya.com/7um44...</td>\n",
       "    </tr>\n",
       "    <tr>\n",
       "      <th>1</th>\n",
       "      <td>30</td>\n",
       "      <td>Upcoming Events</td>\n",
       "      <td>18</td>\n",
       "      <td>14</td>\n",
       "      <td>7</td>\n",
       "      <td>1</td>\n",
       "      <td>Dear AVians,\\r\\n \\r\\nAre your eager to know wh...</td>\n",
       "      <td>[July] Data Science Expert Meetups &amp; Competiti...</td>\n",
       "      <td>http://r.newsletters.analyticsvidhya.com/7up0e...</td>\n",
       "    </tr>\n",
       "  </tbody>\n",
       "</table>\n",
       "</div>"
      ],
      "text/plain": [
       "   campaign_id communication_type  total_links  no_of_internal_links  \\\n",
       "0           29         Newsletter           67                    61   \n",
       "1           30    Upcoming Events           18                    14   \n",
       "\n",
       "   no_of_images  no_of_sections  \\\n",
       "0            12               3   \n",
       "1             7               1   \n",
       "\n",
       "                                          email_body  \\\n",
       "0  Dear AVians,\\r\\n \\r\\nWe are shaping up a super...   \n",
       "1  Dear AVians,\\r\\n \\r\\nAre your eager to know wh...   \n",
       "\n",
       "                                             subject  \\\n",
       "0  Sneak Peek: A look at the emerging data scienc...   \n",
       "1  [July] Data Science Expert Meetups & Competiti...   \n",
       "\n",
       "                                           email_url  \n",
       "0  http://r.newsletters.analyticsvidhya.com/7um44...  \n",
       "1  http://r.newsletters.analyticsvidhya.com/7up0e...  "
      ]
     },
     "execution_count": 28,
     "metadata": {},
     "output_type": "execute_result"
    }
   ],
   "source": [
    "camp.head(2)"
   ]
  },
  {
   "cell_type": "code",
   "execution_count": null,
   "metadata": {},
   "outputs": [],
   "source": [
    "df[col].apply(lambda x: len(str(x).split(\" \"))#word count\n",
    "              \n",
    "df[col].str.len()#char count\n",
    "              \n",
    "def avg_word(sentence):\n",
    "  words = sentence.split()\n",
    "  return (sum(len(word) for word in words)/len(words))\n",
    "df['avg_word'] = df[col].apply(lambda x: avg_word(x))\n",
    "              \n",
    "stop = stopwords.words('english')\n",
    "df['stopwords'] = df['tweet'].apply(lambda x: len([x for x in x.split() if x in stop]))\n",
    "\n",
    "df['upper'] = df['tweet'].apply(lambda x: len([x for x in x.split() if x.isupper()]))\n",
    "df[col] = df[col].apply(lamda x: \" \".join(x.lower() for x in split()))\n",
    "df['removal_of_stopwords'] = df['tweet'].apply(lambda x: \" \".join(x for x in x.split() if x not in stop))\n"
   ]
  },
  {
   "cell_type": "code",
   "execution_count": 21,
   "metadata": {
    "ExecuteTime": {
     "end_time": "2018-03-25T17:02:56.990192Z",
     "start_time": "2018-03-25T17:02:56.763729Z"
    }
   },
   "outputs": [
    {
     "data": {
      "text/plain": [
       "0    Dear AVians, We are shaping up superb science ...\n",
       "1    Dear AVians, Are your eager know what are upco...\n",
       "2    Early Bird Pricing Till August 07  Save upto ...\n",
       "3    Hi ? Before I dive into why should attend this...\n",
       "4    Fireside Chat with DJ Patil - master is here! ...\n",
       "Name: email_body, dtype: object"
      ]
     },
     "execution_count": 21,
     "metadata": {},
     "output_type": "execute_result"
    }
   ],
   "source": [
    "freq = pd.Series(' '.join(camp['email_body']).split()).value_counts()[:10]\n",
    "freq = list(freq.index)\n",
    "camp['email_body'] = camp['email_body'].apply(lambda x: \" \".join(x for x in x.split() if x not in freq))\n",
    "camp['email_body'].head()\n",
    "\n",
    "freq = pd.Series(' '.join(camp['email_body']).split()).value_counts()[-10:]\n",
    "freq = list(freq.index)\n",
    "camp['email_body'] = camp['email_body'].apply(lambda x: \" \".join(x for x in x.split() if x not in freq))\n",
    "camp['email_body'].head()"
   ]
  },
  {
   "cell_type": "code",
   "execution_count": null,
   "metadata": {},
   "outputs": [],
   "source": []
  },
  {
   "cell_type": "code",
   "execution_count": null,
   "metadata": {},
   "outputs": [],
   "source": []
  },
  {
   "cell_type": "code",
   "execution_count": null,
   "metadata": {},
   "outputs": [],
   "source": []
  },
  {
   "cell_type": "code",
   "execution_count": 11,
   "metadata": {
    "ExecuteTime": {
     "end_time": "2018-03-25T16:45:50.266076Z",
     "start_time": "2018-03-25T16:45:48.667937Z"
    }
   },
   "outputs": [
    {
     "data": {
      "image/png": "[encoded data removed]",
      "text/plain": [
       "<matplotlib.figure.Figure at 0x2651e34aa90>"
      ]
     },
     "metadata": {},
     "output_type": "display_data"
    }
   ],
   "source": [
    "camp['communication_type'].value_counts().plot(kind='barh');"
   ]
  },
  {
   "cell_type": "code",
   "execution_count": 28,
   "metadata": {
    "ExecuteTime": {
     "end_time": "2018-03-25T02:22:42.116217Z",
     "start_time": "2018-03-25T02:22:41.510822Z"
    },
    "collapsed": true
   },
   "outputs": [
    {
     "name": "stdout",
     "output_type": "stream",
     "text": [
      "0    920401\n",
      "1    102790\n",
      "Name: is_open, dtype: int64\n"
     ]
    },
    {
     "data": {
      "text/plain": [
       "<matplotlib.axes._subplots.AxesSubplot at 0x19fa3c8c9b0>"
      ]
     },
     "execution_count": 28,
     "metadata": {},
     "output_type": "execute_result"
    },
    {
     "data": {
      "image/png": "[encoded data removed]",
      "text/plain": [
       "<matplotlib.figure.Figure at 0x19fa3c7ae48>"
      ]
     },
     "metadata": {},
     "output_type": "display_data"
    }
   ],
   "source": [
    "print(df_raw.is_open.value_counts())\n",
    "df_raw['is_open'].value_counts().plot(kind='bar')"
   ]
  },
  {
   "cell_type": "code",
   "execution_count": 37,
   "metadata": {
    "ExecuteTime": {
     "end_time": "2018-03-25T02:29:00.120695Z",
     "start_time": "2018-03-25T02:26:12.976515Z"
    }
   },
   "outputs": [
    {
     "data": {
      "text/html": [
       "<div>\n",
       "<style>\n",
       "    .dataframe thead tr:only-child th {\n",
       "        text-align: right;\n",
       "    }\n",
       "\n",
       "    .dataframe thead th {\n",
       "        text-align: left;\n",
       "    }\n",
       "\n",
       "    .dataframe tbody tr th {\n",
       "        vertical-align: top;\n",
       "    }\n",
       "</style>\n",
       "<table border=\"1\" class=\"dataframe\">\n",
       "  <thead>\n",
       "    <tr style=\"text-align: right;\">\n",
       "      <th></th>\n",
       "      <th>id</th>\n",
       "      <th>user_id</th>\n",
       "      <th>campaign_id</th>\n",
       "      <th>is_open</th>\n",
       "      <th>is_click</th>\n",
       "      <th>send_Year</th>\n",
       "      <th>send_Month</th>\n",
       "      <th>send_Week</th>\n",
       "      <th>send_Day</th>\n",
       "      <th>send_Dayofweek</th>\n",
       "      <th>send_Dayofyear</th>\n",
       "      <th>send_Is_month_end</th>\n",
       "      <th>send_Is_month_start</th>\n",
       "      <th>send_Is_quarter_end</th>\n",
       "      <th>send_Is_quarter_start</th>\n",
       "      <th>send_Is_year_end</th>\n",
       "      <th>send_Is_year_start</th>\n",
       "    </tr>\n",
       "  </thead>\n",
       "  <tbody>\n",
       "    <tr>\n",
       "      <th>0</th>\n",
       "      <td>42_14051</td>\n",
       "      <td>14051</td>\n",
       "      <td>42</td>\n",
       "      <td>0</td>\n",
       "      <td>0</td>\n",
       "      <td>2017</td>\n",
       "      <td>1</td>\n",
       "      <td>2</td>\n",
       "      <td>9</td>\n",
       "      <td>0</td>\n",
       "      <td>9</td>\n",
       "      <td>False</td>\n",
       "      <td>False</td>\n",
       "      <td>False</td>\n",
       "      <td>False</td>\n",
       "      <td>False</td>\n",
       "      <td>False</td>\n",
       "    </tr>\n",
       "  </tbody>\n",
       "</table>\n",
       "</div>"
      ],
      "text/plain": [
       "         id  user_id  campaign_id  is_open  is_click  send_Year  send_Month  \\\n",
       "0  42_14051    14051           42        0         0       2017           1   \n",
       "\n",
       "   send_Week  send_Day  send_Dayofweek  send_Dayofyear  send_Is_month_end  \\\n",
       "0          2         9               0               9              False   \n",
       "\n",
       "   send_Is_month_start  send_Is_quarter_end  send_Is_quarter_start  \\\n",
       "0                False                False                  False   \n",
       "\n",
       "   send_Is_year_end  send_Is_year_start  \n",
       "0             False               False  "
      ]
     },
     "execution_count": 37,
     "metadata": {},
     "output_type": "execute_result"
    }
   ],
   "source": [
    "add_datepart(df_raw,'send_date')\n",
    "df_raw.drop('send_Elapsed', axis=1, inplace=True)\n",
    "df_raw.head(1)"
   ]
  },
  {
   "cell_type": "code",
   "execution_count": 38,
   "metadata": {
    "ExecuteTime": {
     "end_time": "2018-03-25T02:29:03.278001Z",
     "start_time": "2018-03-25T02:29:00.122746Z"
    }
   },
   "outputs": [],
   "source": [
    "train_cats(df_raw)"
   ]
  },
  {
   "cell_type": "code",
   "execution_count": 39,
   "metadata": {
    "ExecuteTime": {
     "end_time": "2018-03-25T02:29:03.506772Z",
     "start_time": "2018-03-25T02:29:03.278001Z"
    },
    "collapsed": true
   },
   "outputs": [
    {
     "data": {
      "text/plain": [
       "183177    20\n",
       "145022    20\n",
       "4118      19\n",
       "216700    19\n",
       "114180    19\n",
       "197188    19\n",
       "47152     19\n",
       "163618    18\n",
       "69970     18\n",
       "196296    18\n",
       "122065    18\n",
       "218458    18\n",
       "114075    18\n",
       "38127     18\n",
       "162109    18\n",
       "67867     18\n",
       "163399    18\n",
       "156029    18\n",
       "157374    18\n",
       "36788     18\n",
       "92799     18\n",
       "49136     18\n",
       "28463     18\n",
       "160443    18\n",
       "117705    18\n",
       "86941     18\n",
       "152991    18\n",
       "143179    18\n",
       "185773    18\n",
       "111959    18\n",
       "          ..\n",
       "9258       1\n",
       "1070       1\n",
       "146480     1\n",
       "60010      1\n",
       "39524      1\n",
       "48059      1\n",
       "43618      1\n",
       "156523     1\n",
       "23463      1\n",
       "21414      1\n",
       "37685      1\n",
       "230364     1\n",
       "17199      1\n",
       "134125     1\n",
       "170356     1\n",
       "182903     1\n",
       "190842     1\n",
       "178809     1\n",
       "124304     1\n",
       "85381      1\n",
       "97281      1\n",
       "171007     1\n",
       "78593      1\n",
       "228376     1\n",
       "173048     1\n",
       "185334     1\n",
       "181236     1\n",
       "2854       1\n",
       "138223     1\n",
       "188649     1\n",
       "Name: user_id, Length: 168236, dtype: int64"
      ]
     },
     "execution_count": 39,
     "metadata": {},
     "output_type": "execute_result"
    }
   ],
   "source": [
    "df_raw['user_id'].value_counts()"
   ]
  },
  {
   "cell_type": "code",
   "execution_count": 40,
   "metadata": {
    "ExecuteTime": {
     "end_time": "2018-03-25T02:29:03.827059Z",
     "start_time": "2018-03-25T02:29:03.508779Z"
    },
    "collapsed": true
   },
   "outputs": [
    {
     "data": {
      "image/png": "[encoded data removed]",
      "text/plain": [
       "<matplotlib.figure.Figure at 0x19fa3d33fd0>"
      ]
     },
     "metadata": {},
     "output_type": "display_data"
    }
   ],
   "source": [
    "df_raw['campaign_id'].value_counts().plot(kind='barh');"
   ]
  },
  {
   "cell_type": "code",
   "execution_count": 42,
   "metadata": {
    "ExecuteTime": {
     "end_time": "2018-03-25T02:29:21.557382Z",
     "start_time": "2018-03-25T02:29:21.333568Z"
    }
   },
   "outputs": [
    {
     "data": {
      "text/plain": [
       "bool:dense         6\n",
       "category:dense     1\n",
       "int64:dense       10\n",
       "dtype: int64"
      ]
     },
     "execution_count": 42,
     "metadata": {},
     "output_type": "execute_result"
    }
   ],
   "source": [
    "df_raw.get_ftype_counts()"
   ]
  },
  {
   "cell_type": "code",
   "execution_count": null,
   "metadata": {
    "ExecuteTime": {
     "end_time": "2018-03-25T02:29:04.249964Z",
     "start_time": "2018-03-25T02:26:27.499Z"
    }
   },
   "outputs": [],
   "source": [
    "df_raw['send_Month'].value_counts().plot(kind='bar')"
   ]
  },
  {
   "cell_type": "code",
   "execution_count": 43,
   "metadata": {
    "ExecuteTime": {
     "end_time": "2018-03-24T17:31:20.315912Z",
     "start_time": "2018-03-24T17:31:19.749767Z"
    },
    "collapsed": true
   },
   "outputs": [
    {
     "data": {
      "text/html": [
       "<div>\n",
       "<style>\n",
       "    .dataframe thead tr:only-child th {\n",
       "        text-align: right;\n",
       "    }\n",
       "\n",
       "    .dataframe thead th {\n",
       "        text-align: left;\n",
       "    }\n",
       "\n",
       "    .dataframe tbody tr th {\n",
       "        vertical-align: top;\n",
       "    }\n",
       "</style>\n",
       "<table border=\"1\" class=\"dataframe\">\n",
       "  <thead>\n",
       "    <tr style=\"text-align: right;\">\n",
       "      <th></th>\n",
       "      <th>count</th>\n",
       "      <th>mean</th>\n",
       "      <th>std</th>\n",
       "      <th>min</th>\n",
       "      <th>25%</th>\n",
       "      <th>50%</th>\n",
       "      <th>75%</th>\n",
       "      <th>max</th>\n",
       "    </tr>\n",
       "    <tr>\n",
       "      <th>campaign_id</th>\n",
       "      <th></th>\n",
       "      <th></th>\n",
       "      <th></th>\n",
       "      <th></th>\n",
       "      <th></th>\n",
       "      <th></th>\n",
       "      <th></th>\n",
       "      <th></th>\n",
       "    </tr>\n",
       "  </thead>\n",
       "  <tbody>\n",
       "    <tr>\n",
       "      <th>29</th>\n",
       "      <td>69129.0</td>\n",
       "      <td>0.016549</td>\n",
       "      <td>0.127574</td>\n",
       "      <td>0.0</td>\n",
       "      <td>0.0</td>\n",
       "      <td>0.0</td>\n",
       "      <td>0.0</td>\n",
       "      <td>1.0</td>\n",
       "    </tr>\n",
       "    <tr>\n",
       "      <th>30</th>\n",
       "      <td>69756.0</td>\n",
       "      <td>0.012615</td>\n",
       "      <td>0.111608</td>\n",
       "      <td>0.0</td>\n",
       "      <td>0.0</td>\n",
       "      <td>0.0</td>\n",
       "      <td>0.0</td>\n",
       "      <td>1.0</td>\n",
       "    </tr>\n",
       "    <tr>\n",
       "      <th>31</th>\n",
       "      <td>3192.0</td>\n",
       "      <td>0.024436</td>\n",
       "      <td>0.154423</td>\n",
       "      <td>0.0</td>\n",
       "      <td>0.0</td>\n",
       "      <td>0.0</td>\n",
       "      <td>0.0</td>\n",
       "      <td>1.0</td>\n",
       "    </tr>\n",
       "    <tr>\n",
       "      <th>32</th>\n",
       "      <td>69624.0</td>\n",
       "      <td>0.010600</td>\n",
       "      <td>0.102409</td>\n",
       "      <td>0.0</td>\n",
       "      <td>0.0</td>\n",
       "      <td>0.0</td>\n",
       "      <td>0.0</td>\n",
       "      <td>1.0</td>\n",
       "    </tr>\n",
       "    <tr>\n",
       "      <th>33</th>\n",
       "      <td>46815.0</td>\n",
       "      <td>0.011449</td>\n",
       "      <td>0.106388</td>\n",
       "      <td>0.0</td>\n",
       "      <td>0.0</td>\n",
       "      <td>0.0</td>\n",
       "      <td>0.0</td>\n",
       "      <td>1.0</td>\n",
       "    </tr>\n",
       "    <tr>\n",
       "      <th>34</th>\n",
       "      <td>73112.0</td>\n",
       "      <td>0.009807</td>\n",
       "      <td>0.098544</td>\n",
       "      <td>0.0</td>\n",
       "      <td>0.0</td>\n",
       "      <td>0.0</td>\n",
       "      <td>0.0</td>\n",
       "      <td>1.0</td>\n",
       "    </tr>\n",
       "    <tr>\n",
       "      <th>35</th>\n",
       "      <td>4121.0</td>\n",
       "      <td>0.043921</td>\n",
       "      <td>0.204945</td>\n",
       "      <td>0.0</td>\n",
       "      <td>0.0</td>\n",
       "      <td>0.0</td>\n",
       "      <td>0.0</td>\n",
       "      <td>1.0</td>\n",
       "    </tr>\n",
       "    <tr>\n",
       "      <th>36</th>\n",
       "      <td>73415.0</td>\n",
       "      <td>0.004767</td>\n",
       "      <td>0.068882</td>\n",
       "      <td>0.0</td>\n",
       "      <td>0.0</td>\n",
       "      <td>0.0</td>\n",
       "      <td>0.0</td>\n",
       "      <td>1.0</td>\n",
       "    </tr>\n",
       "    <tr>\n",
       "      <th>37</th>\n",
       "      <td>7559.0</td>\n",
       "      <td>0.006482</td>\n",
       "      <td>0.080257</td>\n",
       "      <td>0.0</td>\n",
       "      <td>0.0</td>\n",
       "      <td>0.0</td>\n",
       "      <td>0.0</td>\n",
       "      <td>1.0</td>\n",
       "    </tr>\n",
       "    <tr>\n",
       "      <th>38</th>\n",
       "      <td>7232.0</td>\n",
       "      <td>0.007605</td>\n",
       "      <td>0.086881</td>\n",
       "      <td>0.0</td>\n",
       "      <td>0.0</td>\n",
       "      <td>0.0</td>\n",
       "      <td>0.0</td>\n",
       "      <td>1.0</td>\n",
       "    </tr>\n",
       "    <tr>\n",
       "      <th>39</th>\n",
       "      <td>3487.0</td>\n",
       "      <td>0.046171</td>\n",
       "      <td>0.209886</td>\n",
       "      <td>0.0</td>\n",
       "      <td>0.0</td>\n",
       "      <td>0.0</td>\n",
       "      <td>0.0</td>\n",
       "      <td>1.0</td>\n",
       "    </tr>\n",
       "    <tr>\n",
       "      <th>40</th>\n",
       "      <td>4822.0</td>\n",
       "      <td>0.012028</td>\n",
       "      <td>0.109023</td>\n",
       "      <td>0.0</td>\n",
       "      <td>0.0</td>\n",
       "      <td>0.0</td>\n",
       "      <td>0.0</td>\n",
       "      <td>1.0</td>\n",
       "    </tr>\n",
       "    <tr>\n",
       "      <th>41</th>\n",
       "      <td>2786.0</td>\n",
       "      <td>0.014716</td>\n",
       "      <td>0.120437</td>\n",
       "      <td>0.0</td>\n",
       "      <td>0.0</td>\n",
       "      <td>0.0</td>\n",
       "      <td>0.0</td>\n",
       "      <td>1.0</td>\n",
       "    </tr>\n",
       "    <tr>\n",
       "      <th>42</th>\n",
       "      <td>81253.0</td>\n",
       "      <td>0.012824</td>\n",
       "      <td>0.112516</td>\n",
       "      <td>0.0</td>\n",
       "      <td>0.0</td>\n",
       "      <td>0.0</td>\n",
       "      <td>0.0</td>\n",
       "      <td>1.0</td>\n",
       "    </tr>\n",
       "    <tr>\n",
       "      <th>43</th>\n",
       "      <td>67.0</td>\n",
       "      <td>0.029851</td>\n",
       "      <td>0.171460</td>\n",
       "      <td>0.0</td>\n",
       "      <td>0.0</td>\n",
       "      <td>0.0</td>\n",
       "      <td>0.0</td>\n",
       "      <td>1.0</td>\n",
       "    </tr>\n",
       "    <tr>\n",
       "      <th>44</th>\n",
       "      <td>39498.0</td>\n",
       "      <td>0.011697</td>\n",
       "      <td>0.107519</td>\n",
       "      <td>0.0</td>\n",
       "      <td>0.0</td>\n",
       "      <td>0.0</td>\n",
       "      <td>0.0</td>\n",
       "      <td>1.0</td>\n",
       "    </tr>\n",
       "    <tr>\n",
       "      <th>45</th>\n",
       "      <td>5322.0</td>\n",
       "      <td>0.071402</td>\n",
       "      <td>0.257519</td>\n",
       "      <td>0.0</td>\n",
       "      <td>0.0</td>\n",
       "      <td>0.0</td>\n",
       "      <td>0.0</td>\n",
       "      <td>1.0</td>\n",
       "    </tr>\n",
       "    <tr>\n",
       "      <th>46</th>\n",
       "      <td>9831.0</td>\n",
       "      <td>0.027566</td>\n",
       "      <td>0.163734</td>\n",
       "      <td>0.0</td>\n",
       "      <td>0.0</td>\n",
       "      <td>0.0</td>\n",
       "      <td>0.0</td>\n",
       "      <td>1.0</td>\n",
       "    </tr>\n",
       "    <tr>\n",
       "      <th>47</th>\n",
       "      <td>14230.0</td>\n",
       "      <td>0.016725</td>\n",
       "      <td>0.128244</td>\n",
       "      <td>0.0</td>\n",
       "      <td>0.0</td>\n",
       "      <td>0.0</td>\n",
       "      <td>0.0</td>\n",
       "      <td>1.0</td>\n",
       "    </tr>\n",
       "    <tr>\n",
       "      <th>48</th>\n",
       "      <td>51456.0</td>\n",
       "      <td>0.012166</td>\n",
       "      <td>0.109626</td>\n",
       "      <td>0.0</td>\n",
       "      <td>0.0</td>\n",
       "      <td>0.0</td>\n",
       "      <td>0.0</td>\n",
       "      <td>1.0</td>\n",
       "    </tr>\n",
       "    <tr>\n",
       "      <th>49</th>\n",
       "      <td>81358.0</td>\n",
       "      <td>0.012758</td>\n",
       "      <td>0.112231</td>\n",
       "      <td>0.0</td>\n",
       "      <td>0.0</td>\n",
       "      <td>0.0</td>\n",
       "      <td>0.0</td>\n",
       "      <td>1.0</td>\n",
       "    </tr>\n",
       "    <tr>\n",
       "      <th>50</th>\n",
       "      <td>39710.0</td>\n",
       "      <td>0.014455</td>\n",
       "      <td>0.119358</td>\n",
       "      <td>0.0</td>\n",
       "      <td>0.0</td>\n",
       "      <td>0.0</td>\n",
       "      <td>0.0</td>\n",
       "      <td>1.0</td>\n",
       "    </tr>\n",
       "    <tr>\n",
       "      <th>51</th>\n",
       "      <td>3882.0</td>\n",
       "      <td>0.043792</td>\n",
       "      <td>0.204658</td>\n",
       "      <td>0.0</td>\n",
       "      <td>0.0</td>\n",
       "      <td>0.0</td>\n",
       "      <td>0.0</td>\n",
       "      <td>1.0</td>\n",
       "    </tr>\n",
       "    <tr>\n",
       "      <th>52</th>\n",
       "      <td>82160.0</td>\n",
       "      <td>0.014192</td>\n",
       "      <td>0.118282</td>\n",
       "      <td>0.0</td>\n",
       "      <td>0.0</td>\n",
       "      <td>0.0</td>\n",
       "      <td>0.0</td>\n",
       "      <td>1.0</td>\n",
       "    </tr>\n",
       "    <tr>\n",
       "      <th>53</th>\n",
       "      <td>85431.0</td>\n",
       "      <td>0.010090</td>\n",
       "      <td>0.099942</td>\n",
       "      <td>0.0</td>\n",
       "      <td>0.0</td>\n",
       "      <td>0.0</td>\n",
       "      <td>0.0</td>\n",
       "      <td>1.0</td>\n",
       "    </tr>\n",
       "    <tr>\n",
       "      <th>54</th>\n",
       "      <td>93943.0</td>\n",
       "      <td>0.010251</td>\n",
       "      <td>0.100727</td>\n",
       "      <td>0.0</td>\n",
       "      <td>0.0</td>\n",
       "      <td>0.0</td>\n",
       "      <td>0.0</td>\n",
       "      <td>1.0</td>\n",
       "    </tr>\n",
       "  </tbody>\n",
       "</table>\n",
       "</div>"
      ],
      "text/plain": [
       "               count      mean       std  min  25%  50%  75%  max\n",
       "campaign_id                                                      \n",
       "29           69129.0  0.016549  0.127574  0.0  0.0  0.0  0.0  1.0\n",
       "30           69756.0  0.012615  0.111608  0.0  0.0  0.0  0.0  1.0\n",
       "31            3192.0  0.024436  0.154423  0.0  0.0  0.0  0.0  1.0\n",
       "32           69624.0  0.010600  0.102409  0.0  0.0  0.0  0.0  1.0\n",
       "33           46815.0  0.011449  0.106388  0.0  0.0  0.0  0.0  1.0\n",
       "34           73112.0  0.009807  0.098544  0.0  0.0  0.0  0.0  1.0\n",
       "35            4121.0  0.043921  0.204945  0.0  0.0  0.0  0.0  1.0\n",
       "36           73415.0  0.004767  0.068882  0.0  0.0  0.0  0.0  1.0\n",
       "37            7559.0  0.006482  0.080257  0.0  0.0  0.0  0.0  1.0\n",
       "38            7232.0  0.007605  0.086881  0.0  0.0  0.0  0.0  1.0\n",
       "39            3487.0  0.046171  0.209886  0.0  0.0  0.0  0.0  1.0\n",
       "40            4822.0  0.012028  0.109023  0.0  0.0  0.0  0.0  1.0\n",
       "41            2786.0  0.014716  0.120437  0.0  0.0  0.0  0.0  1.0\n",
       "42           81253.0  0.012824  0.112516  0.0  0.0  0.0  0.0  1.0\n",
       "43              67.0  0.029851  0.171460  0.0  0.0  0.0  0.0  1.0\n",
       "44           39498.0  0.011697  0.107519  0.0  0.0  0.0  0.0  1.0\n",
       "45            5322.0  0.071402  0.257519  0.0  0.0  0.0  0.0  1.0\n",
       "46            9831.0  0.027566  0.163734  0.0  0.0  0.0  0.0  1.0\n",
       "47           14230.0  0.016725  0.128244  0.0  0.0  0.0  0.0  1.0\n",
       "48           51456.0  0.012166  0.109626  0.0  0.0  0.0  0.0  1.0\n",
       "49           81358.0  0.012758  0.112231  0.0  0.0  0.0  0.0  1.0\n",
       "50           39710.0  0.014455  0.119358  0.0  0.0  0.0  0.0  1.0\n",
       "51            3882.0  0.043792  0.204658  0.0  0.0  0.0  0.0  1.0\n",
       "52           82160.0  0.014192  0.118282  0.0  0.0  0.0  0.0  1.0\n",
       "53           85431.0  0.010090  0.099942  0.0  0.0  0.0  0.0  1.0\n",
       "54           93943.0  0.010251  0.100727  0.0  0.0  0.0  0.0  1.0"
      ]
     },
     "execution_count": 43,
     "metadata": {},
     "output_type": "execute_result"
    }
   ],
   "source": [
    "df_raw.groupby('campaign_id')['is_click'].describe()"
   ]
  },
  {
   "cell_type": "code",
   "execution_count": 95,
   "metadata": {
    "ExecuteTime": {
     "end_time": "2018-03-24T17:59:22.660707Z",
     "start_time": "2018-03-24T17:59:22.309862Z"
    },
    "collapsed": true
   },
   "outputs": [
    {
     "data": {
      "text/plain": [
       "<matplotlib.axes._subplots.AxesSubplot at 0x1eb80fbca58>"
      ]
     },
     "execution_count": 95,
     "metadata": {},
     "output_type": "execute_result"
    },
    {
     "data": {
      "image/png": "[encoded data removed]",
      "text/plain": [
       "<matplotlib.figure.Figure at 0x1eb8b7a9048>"
      ]
     },
     "metadata": {},
     "output_type": "display_data"
    }
   ],
   "source": [
    "df_raw['send_Day'].value_counts().plot(kind='bar')"
   ]
  },
  {
   "cell_type": "code",
   "execution_count": 134,
   "metadata": {
    "ExecuteTime": {
     "end_time": "2018-03-25T02:57:06.003796Z",
     "start_time": "2018-03-25T02:57:05.818318Z"
    }
   },
   "outputs": [],
   "source": [
    "def code(url): return re.split('/', url)[3][:11]\n",
    "def lexical_diversity(my_text_data):\n",
    "    word_count = len(my_text_data)\n",
    "    vocab_size = len(set(my_text_data))\n",
    "    diversity_score = vocab_size / word_count\n",
    "    return diversity_score"
   ]
  },
  {
   "cell_type": "code",
   "execution_count": 137,
   "metadata": {
    "ExecuteTime": {
     "end_time": "2018-03-25T02:59:00.151109Z",
     "start_time": "2018-03-25T02:58:59.885430Z"
    }
   },
   "outputs": [],
   "source": [
    "## Add features on camp df\n",
    "camp['len_email_body'] = len(camp['email_body'])\n",
    "camp['diversity_email_body'] = camp['email_body'].apply(lexical_diversity)\n",
    "camp['diversity_subject'] = camp['subject'].apply(lexical_diversity)\n",
    "camp['diversity_email_url'] = camp['email_url'].apply(lexical_diversity)\n",
    "camp['body_per_sec'] = camp['len_email_body']/camp['no_of_sections']\n",
    "camp['links_per_sec'] = camp['total_links']/camp['no_of_sections']\n",
    "camp['img_per_sec'] = camp['no_of_images']/ camp['no_of_sections']\n",
    "camp['code_email_url'] = camp['email_url'].apply(code)\n",
    "camp['other_links'] = camp['total_links'] - camp['no_of_internal_links']\n",
    "camp['av_links_percent'] = camp['no_of_internal_links'] / camp['total_links']"
   ]
  },
  {
   "cell_type": "code",
   "execution_count": 142,
   "metadata": {
    "ExecuteTime": {
     "end_time": "2018-03-25T03:01:31.599977Z",
     "start_time": "2018-03-25T03:01:31.376406Z"
    }
   },
   "outputs": [],
   "source": [
    "camp.drop(['email_body','email_url','subject'], axis=1,inplace=True)"
   ]
  },
  {
   "cell_type": "code",
   "execution_count": null,
   "metadata": {},
   "outputs": [],
   "source": [
    "camp = pd.get_dummies(camp);camp.head(2)"
   ]
  },
  {
   "cell_type": "code",
   "execution_count": 154,
   "metadata": {
    "ExecuteTime": {
     "end_time": "2018-03-25T03:04:35.432861Z",
     "start_time": "2018-03-25T03:04:34.375413Z"
    }
   },
   "outputs": [
    {
     "data": {
      "text/html": [
       "<div>\n",
       "<style>\n",
       "    .dataframe thead tr:only-child th {\n",
       "        text-align: right;\n",
       "    }\n",
       "\n",
       "    .dataframe thead th {\n",
       "        text-align: left;\n",
       "    }\n",
       "\n",
       "    .dataframe tbody tr th {\n",
       "        vertical-align: top;\n",
       "    }\n",
       "</style>\n",
       "<table border=\"1\" class=\"dataframe\">\n",
       "  <thead>\n",
       "    <tr style=\"text-align: right;\">\n",
       "      <th></th>\n",
       "      <th>id</th>\n",
       "      <th>user_id</th>\n",
       "      <th>campaign_id</th>\n",
       "      <th>is_open</th>\n",
       "      <th>is_click</th>\n",
       "      <th>send_Year</th>\n",
       "      <th>send_Month</th>\n",
       "      <th>send_Week</th>\n",
       "      <th>send_Day</th>\n",
       "      <th>send_Dayofweek</th>\n",
       "      <th>...</th>\n",
       "      <th>code_email_url_7wra6vb5p4c</th>\n",
       "      <th>code_email_url_7wrjo7b5p4c</th>\n",
       "      <th>code_email_url_7ww0uvb5p4c</th>\n",
       "      <th>code_email_url_7wx2s7b5p4c</th>\n",
       "      <th>code_email_url_7wxlqvb5p4c</th>\n",
       "      <th>code_email_url_7wxv87b5p4c</th>\n",
       "      <th>code_email_url_7wz6mvb5p4c</th>\n",
       "      <th>code_email_url_7wzpljb5p4c</th>\n",
       "      <th>code_email_url_7x08k7b5p4c</th>\n",
       "      <th>code_email_url_o7ohwml8lxh</th>\n",
       "    </tr>\n",
       "  </thead>\n",
       "  <tbody>\n",
       "    <tr>\n",
       "      <th>0</th>\n",
       "      <td>42_14051</td>\n",
       "      <td>14051</td>\n",
       "      <td>42</td>\n",
       "      <td>0</td>\n",
       "      <td>0</td>\n",
       "      <td>2017</td>\n",
       "      <td>1</td>\n",
       "      <td>2</td>\n",
       "      <td>9</td>\n",
       "      <td>0</td>\n",
       "      <td>...</td>\n",
       "      <td>0</td>\n",
       "      <td>0</td>\n",
       "      <td>0</td>\n",
       "      <td>0</td>\n",
       "      <td>0</td>\n",
       "      <td>0</td>\n",
       "      <td>0</td>\n",
       "      <td>0</td>\n",
       "      <td>0</td>\n",
       "      <td>0</td>\n",
       "    </tr>\n",
       "  </tbody>\n",
       "</table>\n",
       "<p>1 rows × 89 columns</p>\n",
       "</div>"
      ],
      "text/plain": [
       "         id  user_id  campaign_id  is_open  is_click  send_Year  send_Month  \\\n",
       "0  42_14051    14051           42        0         0       2017           1   \n",
       "\n",
       "   send_Week  send_Day  send_Dayofweek             ...              \\\n",
       "0          2         9               0             ...               \n",
       "\n",
       "   code_email_url_7wra6vb5p4c  code_email_url_7wrjo7b5p4c  \\\n",
       "0                           0                           0   \n",
       "\n",
       "   code_email_url_7ww0uvb5p4c  code_email_url_7wx2s7b5p4c  \\\n",
       "0                           0                           0   \n",
       "\n",
       "   code_email_url_7wxlqvb5p4c  code_email_url_7wxv87b5p4c  \\\n",
       "0                           0                           0   \n",
       "\n",
       "   code_email_url_7wz6mvb5p4c  code_email_url_7wzpljb5p4c  \\\n",
       "0                           0                           0   \n",
       "\n",
       "   code_email_url_7x08k7b5p4c  code_email_url_o7ohwml8lxh  \n",
       "0                           0                           0  \n",
       "\n",
       "[1 rows x 89 columns]"
      ]
     },
     "execution_count": 154,
     "metadata": {},
     "output_type": "execute_result"
    }
   ],
   "source": [
    "df_raw = df_raw.merge(camp,on='campaign_id');\n",
    "df_raw.head(1)"
   ]
  },
  {
   "cell_type": "code",
   "execution_count": 159,
   "metadata": {
    "ExecuteTime": {
     "end_time": "2018-03-25T03:06:14.503248Z",
     "start_time": "2018-03-25T03:06:14.141265Z"
    }
   },
   "outputs": [
    {
     "data": {
      "text/plain": [
       "168236"
      ]
     },
     "execution_count": 159,
     "metadata": {},
     "output_type": "execute_result"
    }
   ],
   "source": [
    "len(np.unique(df_raw['user_id']))"
   ]
  },
  {
   "cell_type": "code",
   "execution_count": 164,
   "metadata": {
    "ExecuteTime": {
     "end_time": "2018-03-25T03:09:50.869539Z",
     "start_time": "2018-03-25T03:09:50.631217Z"
    }
   },
   "outputs": [
    {
     "data": {
      "text/html": [
       "<div>\n",
       "<style>\n",
       "    .dataframe thead tr:only-child th {\n",
       "        text-align: right;\n",
       "    }\n",
       "\n",
       "    .dataframe thead th {\n",
       "        text-align: left;\n",
       "    }\n",
       "\n",
       "    .dataframe tbody tr th {\n",
       "        vertical-align: top;\n",
       "    }\n",
       "</style>\n",
       "<table border=\"1\" class=\"dataframe\">\n",
       "  <thead>\n",
       "    <tr style=\"text-align: right;\">\n",
       "      <th></th>\n",
       "      <th>id</th>\n",
       "      <th>campaign_id</th>\n",
       "      <th>user_id</th>\n",
       "      <th>send_Year</th>\n",
       "      <th>send_Month</th>\n",
       "      <th>send_Week</th>\n",
       "      <th>send_Day</th>\n",
       "      <th>send_Dayofweek</th>\n",
       "      <th>send_Dayofyear</th>\n",
       "      <th>send_Is_month_end</th>\n",
       "      <th>send_Is_month_start</th>\n",
       "      <th>send_Is_quarter_end</th>\n",
       "      <th>send_Is_quarter_start</th>\n",
       "      <th>send_Is_year_end</th>\n",
       "      <th>send_Is_year_start</th>\n",
       "    </tr>\n",
       "  </thead>\n",
       "  <tbody>\n",
       "    <tr>\n",
       "      <th>0</th>\n",
       "      <td>63_122715</td>\n",
       "      <td>63</td>\n",
       "      <td>122715</td>\n",
       "      <td>2018</td>\n",
       "      <td>1</td>\n",
       "      <td>1</td>\n",
       "      <td>2</td>\n",
       "      <td>1</td>\n",
       "      <td>2</td>\n",
       "      <td>False</td>\n",
       "      <td>False</td>\n",
       "      <td>False</td>\n",
       "      <td>False</td>\n",
       "      <td>False</td>\n",
       "      <td>False</td>\n",
       "    </tr>\n",
       "  </tbody>\n",
       "</table>\n",
       "</div>"
      ],
      "text/plain": [
       "          id  campaign_id  user_id  send_Year  send_Month  send_Week  \\\n",
       "0  63_122715           63   122715       2018           1          1   \n",
       "\n",
       "   send_Day  send_Dayofweek  send_Dayofyear  send_Is_month_end  \\\n",
       "0         2               1               2              False   \n",
       "\n",
       "   send_Is_month_start  send_Is_quarter_end  send_Is_quarter_start  \\\n",
       "0                False                False                  False   \n",
       "\n",
       "   send_Is_year_end  send_Is_year_start  \n",
       "0             False               False  "
      ]
     },
     "execution_count": 164,
     "metadata": {},
     "output_type": "execute_result"
    }
   ],
   "source": [
    "test.head(1)"
   ]
  },
  {
   "cell_type": "code",
   "execution_count": 67,
   "metadata": {
    "ExecuteTime": {
     "end_time": "2018-03-24T17:42:54.664770Z",
     "start_time": "2018-03-24T17:42:54.330779Z"
    }
   },
   "outputs": [
    {
     "data": {
      "text/plain": [
       "int32:dense      6\n",
       "int64:dense     12\n",
       "object:dense     2\n",
       "dtype: int64"
      ]
     },
     "execution_count": 67,
     "metadata": {},
     "output_type": "execute_result"
    }
   ],
   "source": [
    "df_raw.drop(['user_id', 'campaign_id'], axis=1, inplace=True);\n",
    "df_raw.get_ftype_counts()"
   ]
  },
  {
   "cell_type": "code",
   "execution_count": 88,
   "metadata": {
    "ExecuteTime": {
     "end_time": "2018-03-24T17:55:28.423880Z",
     "start_time": "2018-03-24T17:55:27.617369Z"
    }
   },
   "outputs": [
    {
     "name": "stdout",
     "output_type": "stream",
     "text": [
      "Conference -> 8\n",
      "Corporate -> 7\n",
      "Hackathon -> 4\n",
      "Newsletter -> 1\n",
      "Others -> 5\n",
      "Upcoming Events -> 0\n",
      "Webinar -> 6\n"
     ]
    }
   ],
   "source": [
    "for s in np.unique(df_raw['communication_type']): \n",
    "    print ( s ,  '->' ,  hash ( s ) % 9)"
   ]
  },
  {
   "cell_type": "code",
   "execution_count": 94,
   "metadata": {
    "ExecuteTime": {
     "end_time": "2018-03-24T17:57:53.797796Z",
     "start_time": "2018-03-24T17:57:52.076566Z"
    },
    "collapsed": true
   },
   "outputs": [
    {
     "data": {
      "text/plain": [
       "<matplotlib.axes._subplots.AxesSubplot at 0x1eb8b966fd0>"
      ]
     },
     "execution_count": 94,
     "metadata": {},
     "output_type": "execute_result"
    },
    {
     "data": {
      "image/png": "[encoded data removed]",
      "text/plain": [
       "<matplotlib.figure.Figure at 0x1eb8b7a26a0>"
      ]
     },
     "metadata": {},
     "output_type": "display_data"
    }
   ],
   "source": [
    "sns.set()\n",
    "corr_matrix = df_raw.corr () \n",
    "plt.figure(figsize=(10,10))\n",
    "sns.heatmap(corr_matrix , annot = True , fmt  =  \".2f\" , cbar  =  True , cmap = 'PuOr');"
   ]
  },
  {
   "cell_type": "markdown",
   "metadata": {},
   "source": [
    "df_raw['start_month'] = df_raw['send_Year']*100 + df_raw['send_Month']\n",
    "df_raw['noon'] = np.where(np.logical_and(df_raw['start_hour']>11 , df_raw['start_hour']<=19),1,0)\n",
    "df_raw['night'] = np.where(np.logical_and(df_raw['start_hour']>19, df_raw['start_hour']<24),1,0)\n",
    "\n",
    "span_time = pd.concat([time_df['seconds'], time_df_test['seconds']])\n",
    "df_raw['session_span'] = span_time\n",
    "\n",
    "df_raw['session_span_per_n_uniques_sites'] = df_raw['session_span']/df_raw['n_unique_sites']\n",
    "\n",
    "df_raw['hour_sin_x'] = df_raw['start_hour'].apply(lambda ts: np.sin(2*pi*ts/24.))\n",
    "df_raw['hour_cos_x'] = df_raw['start_hour'].apply(lambda ts: np.cos(2*pi*ts/24.))\"\""
   ]
  },
  {
   "cell_type": "code",
   "execution_count": 175,
   "metadata": {
    "ExecuteTime": {
     "end_time": "2018-03-25T03:14:58.836960Z",
     "start_time": "2018-03-25T03:14:58.609809Z"
    },
    "collapsed": true
   },
   "outputs": [
    {
     "data": {
      "text/html": [
       "<div>\n",
       "<style>\n",
       "    .dataframe thead tr:only-child th {\n",
       "        text-align: right;\n",
       "    }\n",
       "\n",
       "    .dataframe thead th {\n",
       "        text-align: left;\n",
       "    }\n",
       "\n",
       "    .dataframe tbody tr th {\n",
       "        vertical-align: top;\n",
       "    }\n",
       "</style>\n",
       "<table border=\"1\" class=\"dataframe\">\n",
       "  <thead>\n",
       "    <tr style=\"text-align: right;\">\n",
       "      <th></th>\n",
       "      <th>0</th>\n",
       "    </tr>\n",
       "  </thead>\n",
       "  <tbody>\n",
       "    <tr>\n",
       "      <th>id</th>\n",
       "      <td>42_14051</td>\n",
       "    </tr>\n",
       "    <tr>\n",
       "      <th>user_id</th>\n",
       "      <td>14051</td>\n",
       "    </tr>\n",
       "    <tr>\n",
       "      <th>campaign_id</th>\n",
       "      <td>42</td>\n",
       "    </tr>\n",
       "    <tr>\n",
       "      <th>is_open</th>\n",
       "      <td>0</td>\n",
       "    </tr>\n",
       "    <tr>\n",
       "      <th>is_click</th>\n",
       "      <td>0</td>\n",
       "    </tr>\n",
       "    <tr>\n",
       "      <th>send_Year</th>\n",
       "      <td>2017</td>\n",
       "    </tr>\n",
       "    <tr>\n",
       "      <th>send_Month</th>\n",
       "      <td>1</td>\n",
       "    </tr>\n",
       "    <tr>\n",
       "      <th>send_Week</th>\n",
       "      <td>2</td>\n",
       "    </tr>\n",
       "    <tr>\n",
       "      <th>send_Day</th>\n",
       "      <td>9</td>\n",
       "    </tr>\n",
       "    <tr>\n",
       "      <th>send_Dayofweek</th>\n",
       "      <td>0</td>\n",
       "    </tr>\n",
       "    <tr>\n",
       "      <th>send_Dayofyear</th>\n",
       "      <td>9</td>\n",
       "    </tr>\n",
       "    <tr>\n",
       "      <th>send_Is_month_end</th>\n",
       "      <td>False</td>\n",
       "    </tr>\n",
       "    <tr>\n",
       "      <th>send_Is_month_start</th>\n",
       "      <td>False</td>\n",
       "    </tr>\n",
       "    <tr>\n",
       "      <th>send_Is_quarter_end</th>\n",
       "      <td>False</td>\n",
       "    </tr>\n",
       "    <tr>\n",
       "      <th>send_Is_quarter_start</th>\n",
       "      <td>False</td>\n",
       "    </tr>\n",
       "    <tr>\n",
       "      <th>send_Is_year_end</th>\n",
       "      <td>False</td>\n",
       "    </tr>\n",
       "    <tr>\n",
       "      <th>send_Is_year_start</th>\n",
       "      <td>False</td>\n",
       "    </tr>\n",
       "    <tr>\n",
       "      <th>total_links</th>\n",
       "      <td>88</td>\n",
       "    </tr>\n",
       "    <tr>\n",
       "      <th>no_of_internal_links</th>\n",
       "      <td>79</td>\n",
       "    </tr>\n",
       "    <tr>\n",
       "      <th>no_of_images</th>\n",
       "      <td>13</td>\n",
       "    </tr>\n",
       "    <tr>\n",
       "      <th>no_of_sections</th>\n",
       "      <td>4</td>\n",
       "    </tr>\n",
       "    <tr>\n",
       "      <th>len_email_body</th>\n",
       "      <td>52</td>\n",
       "    </tr>\n",
       "    <tr>\n",
       "      <th>diversity_email_body</th>\n",
       "      <td>0.0419682</td>\n",
       "    </tr>\n",
       "    <tr>\n",
       "      <th>diversity_subject</th>\n",
       "      <td>0.386364</td>\n",
       "    </tr>\n",
       "    <tr>\n",
       "      <th>body_per_sec</th>\n",
       "      <td>13</td>\n",
       "    </tr>\n",
       "    <tr>\n",
       "      <th>diversity_email_url</th>\n",
       "      <td>0.457143</td>\n",
       "    </tr>\n",
       "    <tr>\n",
       "      <th>img_per_sec</th>\n",
       "      <td>3.25</td>\n",
       "    </tr>\n",
       "    <tr>\n",
       "      <th>other_links</th>\n",
       "      <td>9</td>\n",
       "    </tr>\n",
       "    <tr>\n",
       "      <th>av_links_percent</th>\n",
       "      <td>0.897727</td>\n",
       "    </tr>\n",
       "    <tr>\n",
       "      <th>links_per_sec</th>\n",
       "      <td>22</td>\n",
       "    </tr>\n",
       "    <tr>\n",
       "      <th>...</th>\n",
       "      <td>...</td>\n",
       "    </tr>\n",
       "    <tr>\n",
       "      <th>code_email_url_7vtb2vb5p4c</th>\n",
       "      <td>0</td>\n",
       "    </tr>\n",
       "    <tr>\n",
       "      <th>code_email_url_7vv5g7b5p4c</th>\n",
       "      <td>0</td>\n",
       "    </tr>\n",
       "    <tr>\n",
       "      <th>code_email_url_7vzmmvb5p4c</th>\n",
       "      <td>0</td>\n",
       "    </tr>\n",
       "    <tr>\n",
       "      <th>code_email_url_7w2sevb5p4c</th>\n",
       "      <td>0</td>\n",
       "    </tr>\n",
       "    <tr>\n",
       "      <th>code_email_url_7w3uc7b5p4c</th>\n",
       "      <td>0</td>\n",
       "    </tr>\n",
       "    <tr>\n",
       "      <th>code_email_url_7w43tjb5p4c</th>\n",
       "      <td>0</td>\n",
       "    </tr>\n",
       "    <tr>\n",
       "      <th>code_email_url_7w5y6vb5p4c</th>\n",
       "      <td>0</td>\n",
       "    </tr>\n",
       "    <tr>\n",
       "      <th>code_email_url_7w6qmvb5p4c</th>\n",
       "      <td>0</td>\n",
       "    </tr>\n",
       "    <tr>\n",
       "      <th>code_email_url_7w7047b5p4c</th>\n",
       "      <td>0</td>\n",
       "    </tr>\n",
       "    <tr>\n",
       "      <th>code_email_url_7wghg7b5p4c</th>\n",
       "      <td>0</td>\n",
       "    </tr>\n",
       "    <tr>\n",
       "      <th>code_email_url_7wh9w7b5p4c</th>\n",
       "      <td>0</td>\n",
       "    </tr>\n",
       "    <tr>\n",
       "      <th>code_email_url_7whsuvb5p4c</th>\n",
       "      <td>0</td>\n",
       "    </tr>\n",
       "    <tr>\n",
       "      <th>code_email_url_7wjn87b5p4c</th>\n",
       "      <td>0</td>\n",
       "    </tr>\n",
       "    <tr>\n",
       "      <th>code_email_url_7wjwpjb5p4c</th>\n",
       "      <td>0</td>\n",
       "    </tr>\n",
       "    <tr>\n",
       "      <th>code_email_url_7wkfo7b5p4c</th>\n",
       "      <td>0</td>\n",
       "    </tr>\n",
       "    <tr>\n",
       "      <th>code_email_url_7wnbyvb5p4c</th>\n",
       "      <td>0</td>\n",
       "    </tr>\n",
       "    <tr>\n",
       "      <th>code_email_url_7wo4evb5p4c</th>\n",
       "      <td>0</td>\n",
       "    </tr>\n",
       "    <tr>\n",
       "      <th>code_email_url_7wowuvb5p4c</th>\n",
       "      <td>0</td>\n",
       "    </tr>\n",
       "    <tr>\n",
       "      <th>code_email_url_7wppavb5p4c</th>\n",
       "      <td>0</td>\n",
       "    </tr>\n",
       "    <tr>\n",
       "      <th>code_email_url_7wqhqvb5p4c</th>\n",
       "      <td>0</td>\n",
       "    </tr>\n",
       "    <tr>\n",
       "      <th>code_email_url_7wra6vb5p4c</th>\n",
       "      <td>0</td>\n",
       "    </tr>\n",
       "    <tr>\n",
       "      <th>code_email_url_7wrjo7b5p4c</th>\n",
       "      <td>0</td>\n",
       "    </tr>\n",
       "    <tr>\n",
       "      <th>code_email_url_7ww0uvb5p4c</th>\n",
       "      <td>0</td>\n",
       "    </tr>\n",
       "    <tr>\n",
       "      <th>code_email_url_7wx2s7b5p4c</th>\n",
       "      <td>0</td>\n",
       "    </tr>\n",
       "    <tr>\n",
       "      <th>code_email_url_7wxlqvb5p4c</th>\n",
       "      <td>0</td>\n",
       "    </tr>\n",
       "    <tr>\n",
       "      <th>code_email_url_7wxv87b5p4c</th>\n",
       "      <td>0</td>\n",
       "    </tr>\n",
       "    <tr>\n",
       "      <th>code_email_url_7wz6mvb5p4c</th>\n",
       "      <td>0</td>\n",
       "    </tr>\n",
       "    <tr>\n",
       "      <th>code_email_url_7wzpljb5p4c</th>\n",
       "      <td>0</td>\n",
       "    </tr>\n",
       "    <tr>\n",
       "      <th>code_email_url_7x08k7b5p4c</th>\n",
       "      <td>0</td>\n",
       "    </tr>\n",
       "    <tr>\n",
       "      <th>code_email_url_o7ohwml8lxh</th>\n",
       "      <td>0</td>\n",
       "    </tr>\n",
       "  </tbody>\n",
       "</table>\n",
       "<p>89 rows × 1 columns</p>\n",
       "</div>"
      ],
      "text/plain": [
       "                                    0\n",
       "id                           42_14051\n",
       "user_id                         14051\n",
       "campaign_id                        42\n",
       "is_open                             0\n",
       "is_click                            0\n",
       "send_Year                        2017\n",
       "send_Month                          1\n",
       "send_Week                           2\n",
       "send_Day                            9\n",
       "send_Dayofweek                      0\n",
       "send_Dayofyear                      9\n",
       "send_Is_month_end               False\n",
       "send_Is_month_start             False\n",
       "send_Is_quarter_end             False\n",
       "send_Is_quarter_start           False\n",
       "send_Is_year_end                False\n",
       "send_Is_year_start              False\n",
       "total_links                        88\n",
       "no_of_internal_links               79\n",
       "no_of_images                       13\n",
       "no_of_sections                      4\n",
       "len_email_body                     52\n",
       "diversity_email_body        0.0419682\n",
       "diversity_subject            0.386364\n",
       "body_per_sec                       13\n",
       "diversity_email_url          0.457143\n",
       "img_per_sec                      3.25\n",
       "other_links                         9\n",
       "av_links_percent             0.897727\n",
       "links_per_sec                      22\n",
       "...                               ...\n",
       "code_email_url_7vtb2vb5p4c          0\n",
       "code_email_url_7vv5g7b5p4c          0\n",
       "code_email_url_7vzmmvb5p4c          0\n",
       "code_email_url_7w2sevb5p4c          0\n",
       "code_email_url_7w3uc7b5p4c          0\n",
       "code_email_url_7w43tjb5p4c          0\n",
       "code_email_url_7w5y6vb5p4c          0\n",
       "code_email_url_7w6qmvb5p4c          0\n",
       "code_email_url_7w7047b5p4c          0\n",
       "code_email_url_7wghg7b5p4c          0\n",
       "code_email_url_7wh9w7b5p4c          0\n",
       "code_email_url_7whsuvb5p4c          0\n",
       "code_email_url_7wjn87b5p4c          0\n",
       "code_email_url_7wjwpjb5p4c          0\n",
       "code_email_url_7wkfo7b5p4c          0\n",
       "code_email_url_7wnbyvb5p4c          0\n",
       "code_email_url_7wo4evb5p4c          0\n",
       "code_email_url_7wowuvb5p4c          0\n",
       "code_email_url_7wppavb5p4c          0\n",
       "code_email_url_7wqhqvb5p4c          0\n",
       "code_email_url_7wra6vb5p4c          0\n",
       "code_email_url_7wrjo7b5p4c          0\n",
       "code_email_url_7ww0uvb5p4c          0\n",
       "code_email_url_7wx2s7b5p4c          0\n",
       "code_email_url_7wxlqvb5p4c          0\n",
       "code_email_url_7wxv87b5p4c          0\n",
       "code_email_url_7wz6mvb5p4c          0\n",
       "code_email_url_7wzpljb5p4c          0\n",
       "code_email_url_7x08k7b5p4c          0\n",
       "code_email_url_o7ohwml8lxh          0\n",
       "\n",
       "[89 rows x 1 columns]"
      ]
     },
     "execution_count": 175,
     "metadata": {},
     "output_type": "execute_result"
    }
   ],
   "source": [
    "y_target = df_raw['is_click'];\n",
    "df_raw.head(1).T"
   ]
  },
  {
   "cell_type": "code",
   "execution_count": 176,
   "metadata": {
    "ExecuteTime": {
     "end_time": "2018-03-25T03:15:42.392311Z",
     "start_time": "2018-03-25T03:15:40.959520Z"
    }
   },
   "outputs": [],
   "source": [
    "os.makedirs('tmp', exist_ok=True)\n",
    "df_raw.to_feather('tmp/av_lord-raw')"
   ]
  },
  {
   "cell_type": "code",
   "execution_count": 29,
   "metadata": {
    "ExecuteTime": {
     "end_time": "2018-03-25T17:08:10.304266Z",
     "start_time": "2018-03-25T17:08:09.393391Z"
    }
   },
   "outputs": [],
   "source": [
    "df_raw = pd.read_feather('tmp/av_lord-raw')"
   ]
  },
  {
   "cell_type": "code",
   "execution_count": 134,
   "metadata": {
    "ExecuteTime": {
     "end_time": "2018-03-24T12:46:26.345411Z",
     "start_time": "2018-03-24T12:46:12.128547Z"
    }
   },
   "outputs": [],
   "source": [
    "df, y, nas, mapper = proc_df(df_raw, 'is_click', do_scale=True,max_n_cat=30)"
   ]
  },
  {
   "cell_type": "code",
   "execution_count": 135,
   "metadata": {
    "ExecuteTime": {
     "end_time": "2018-03-24T12:46:26.882209Z",
     "start_time": "2018-03-24T12:46:26.345411Z"
    },
    "collapsed": true
   },
   "outputs": [
    {
     "data": {
      "text/plain": [
       "<matplotlib.axes._subplots.AxesSubplot at 0x27193e5ff28>"
      ]
     },
     "execution_count": 135,
     "metadata": {},
     "output_type": "execute_result"
    },
    {
     "data": {
      "image/png": "[encoded data removed]",
      "text/plain": [
       "<matplotlib.figure.Figure at 0x273202db0f0>"
      ]
     },
     "metadata": {},
     "output_type": "display_data"
    }
   ],
   "source": [
    "sns.countplot(y)"
   ]
  },
  {
   "cell_type": "code",
   "execution_count": 139,
   "metadata": {
    "ExecuteTime": {
     "end_time": "2018-03-24T12:47:02.220328Z",
     "start_time": "2018-03-24T12:47:01.989308Z"
    }
   },
   "outputs": [],
   "source": [
    "y[-26:] = 0"
   ]
  },
  {
   "cell_type": "code",
   "execution_count": 229,
   "metadata": {
    "ExecuteTime": {
     "end_time": "2018-03-24T13:16:17.632965Z",
     "start_time": "2018-03-24T13:15:24.792011Z"
    }
   },
   "outputs": [
    {
     "data": {
      "text/plain": [
       "0.7547053047196518"
      ]
     },
     "execution_count": 229,
     "metadata": {},
     "output_type": "execute_result"
    }
   ],
   "source": [
    "#df.drop('is_open', axis=1, inplace=True)\n",
    "m = RandomForestRegressor(n_jobs=-1)\n",
    "m.fit(df, y)\n",
    "m.score(df,y)"
   ]
  },
  {
   "cell_type": "code",
   "execution_count": 141,
   "metadata": {
    "ExecuteTime": {
     "end_time": "2018-03-24T12:47:10.207028Z",
     "start_time": "2018-03-24T12:47:10.042307Z"
    }
   },
   "outputs": [],
   "source": [
    "def print_score(m):\n",
    "    res = [rmse(m.predict(X_train), y_train), rmse(m.predict(X_valid), y_valid),\n",
    "                m.score(X_train, y_train), m.score(X_valid, y_valid)]\n",
    "    if hasattr(m, 'oob_score_'): res.append(m.oob_score_)\n",
    "    print(res)"
   ]
  },
  {
   "cell_type": "code",
   "execution_count": null,
   "metadata": {},
   "outputs": [],
   "source": [
    "m = RandomForestRegressor(n_jobs=-1)\n",
    "%%time m.fit(X_train, y_train)\n",
    "print_score(m)"
   ]
  },
  {
   "cell_type": "code",
   "execution_count": 42,
   "metadata": {
    "ExecuteTime": {
     "end_time": "2018-03-24T17:28:43.776234Z",
     "start_time": "2018-03-24T17:28:43.263343Z"
    },
    "collapsed": true
   },
   "outputs": [
    {
     "data": {
      "text/plain": [
       "campaign_id              0.0\n",
       "id                       0.0\n",
       "is_click                 0.0\n",
       "is_open                  0.0\n",
       "send_Day                 0.0\n",
       "send_Dayofweek           0.0\n",
       "send_Dayofyear           0.0\n",
       "send_Is_month_end        0.0\n",
       "send_Is_month_start      0.0\n",
       "send_Is_quarter_end      0.0\n",
       "send_Is_quarter_start    0.0\n",
       "send_Is_year_end         0.0\n",
       "send_Is_year_start       0.0\n",
       "send_Month               0.0\n",
       "send_Week                0.0\n",
       "send_Year                0.0\n",
       "user_id                  0.0\n",
       "dtype: float64"
      ]
     },
     "metadata": {},
     "output_type": "display_data"
    }
   ],
   "source": [
    "display_all(df_raw.isnull().sum().sort_index()/len(df_raw))"
   ]
  },
  {
   "cell_type": "code",
   "execution_count": 178,
   "metadata": {
    "ExecuteTime": {
     "end_time": "2018-03-24T12:59:37.310001Z",
     "start_time": "2018-03-24T12:59:37.044879Z"
    },
    "collapsed": true
   },
   "outputs": [
    {
     "data": {
      "text/plain": [
       "Index(['id', 'user_id', 'campaign_id', 'send_Year', 'send_Month', 'send_Week',\n",
       "       'send_Day', 'send_Dayofweek', 'send_Dayofyear', 'total_links',\n",
       "       'no_of_internal_links', 'no_of_images', 'no_of_sections', 'email_body',\n",
       "       'subject', 'email_url', 'link_diff', 'img_per_sec', 'link_diff_%',\n",
       "       'img_per_section', 'user_id_na', 'is_open_na', 'send_Year_na',\n",
       "       'send_Month_na', 'send_Week_na', 'send_Day_na', 'send_Dayofweek_na',\n",
       "       'send_Dayofyear_na', 'send_Is_month_end_0.0', 'send_Is_month_end_nan',\n",
       "       'send_Is_month_start_0.0', 'send_Is_month_start_nan',\n",
       "       'send_Is_quarter_end_0.0', 'send_Is_quarter_end_nan',\n",
       "       'send_Is_quarter_start_0.0', 'send_Is_quarter_start_nan',\n",
       "       'send_Is_year_end_0.0', 'send_Is_year_end_nan',\n",
       "       'send_Is_year_start_0.0', 'send_Is_year_start_nan',\n",
       "       'communication_type_Conference', 'communication_type_Corporate',\n",
       "       'communication_type_Hackathon', 'communication_type_Newsletter',\n",
       "       'communication_type_Others', 'communication_type_Upcoming Events',\n",
       "       'communication_type_Webinar', 'communication_type_nan', 'av_links'],\n",
       "      dtype='object')"
      ]
     },
     "metadata": {},
     "output_type": "display_data"
    }
   ],
   "source": [
    "display_all(df.columns)"
   ]
  },
  {
   "cell_type": "code",
   "execution_count": null,
   "metadata": {},
   "outputs": [],
   "source": []
  },
  {
   "cell_type": "markdown",
   "metadata": {},
   "source": [
    "## testset transforms"
   ]
  },
  {
   "cell_type": "code",
   "execution_count": 33,
   "metadata": {
    "ExecuteTime": {
     "end_time": "2018-03-25T17:09:54.942440Z",
     "start_time": "2018-03-25T17:09:51.480523Z"
    }
   },
   "outputs": [],
   "source": [
    "test = pd.read_csv(f'{PATH}\\\\test_BDIfz5B.csv')"
   ]
  },
  {
   "cell_type": "code",
   "execution_count": 34,
   "metadata": {
    "ExecuteTime": {
     "end_time": "2018-03-25T17:09:55.106404Z",
     "start_time": "2018-03-25T17:09:54.942440Z"
    }
   },
   "outputs": [
    {
     "data": {
      "text/plain": [
       "(773858, 4)"
      ]
     },
     "execution_count": 34,
     "metadata": {},
     "output_type": "execute_result"
    }
   ],
   "source": [
    "test.shape"
   ]
  },
  {
   "cell_type": "code",
   "execution_count": 35,
   "metadata": {
    "ExecuteTime": {
     "end_time": "2018-03-25T17:09:55.350408Z",
     "start_time": "2018-03-25T17:09:55.106404Z"
    }
   },
   "outputs": [
    {
     "data": {
      "text/html": [
       "<div>\n",
       "<style>\n",
       "    .dataframe thead tr:only-child th {\n",
       "        text-align: right;\n",
       "    }\n",
       "\n",
       "    .dataframe thead th {\n",
       "        text-align: left;\n",
       "    }\n",
       "\n",
       "    .dataframe tbody tr th {\n",
       "        vertical-align: top;\n",
       "    }\n",
       "</style>\n",
       "<table border=\"1\" class=\"dataframe\">\n",
       "  <thead>\n",
       "    <tr style=\"text-align: right;\">\n",
       "      <th></th>\n",
       "      <th>id</th>\n",
       "      <th>campaign_id</th>\n",
       "      <th>user_id</th>\n",
       "      <th>send_date</th>\n",
       "    </tr>\n",
       "  </thead>\n",
       "  <tbody>\n",
       "    <tr>\n",
       "      <th>0</th>\n",
       "      <td>63_122715</td>\n",
       "      <td>63</td>\n",
       "      <td>122715</td>\n",
       "      <td>01-02-2018 22:35</td>\n",
       "    </tr>\n",
       "    <tr>\n",
       "      <th>1</th>\n",
       "      <td>56_76206</td>\n",
       "      <td>56</td>\n",
       "      <td>76206</td>\n",
       "      <td>02-01-2018 08:15</td>\n",
       "    </tr>\n",
       "  </tbody>\n",
       "</table>\n",
       "</div>"
      ],
      "text/plain": [
       "          id  campaign_id  user_id         send_date\n",
       "0  63_122715           63   122715  01-02-2018 22:35\n",
       "1   56_76206           56    76206  02-01-2018 08:15"
      ]
     },
     "execution_count": 35,
     "metadata": {},
     "output_type": "execute_result"
    }
   ],
   "source": [
    "test.head(2)"
   ]
  },
  {
   "cell_type": "code",
   "execution_count": 45,
   "metadata": {
    "ExecuteTime": {
     "end_time": "2018-03-25T17:22:58.225876Z",
     "start_time": "2018-03-25T17:20:49.800633Z"
    }
   },
   "outputs": [],
   "source": [
    "add_datepart(test,'send_date');\n",
    "test.drop('send_Elapsed',axis= 1, inplace=True)"
   ]
  },
  {
   "cell_type": "code",
   "execution_count": 46,
   "metadata": {
    "ExecuteTime": {
     "end_time": "2018-03-25T17:23:00.434487Z",
     "start_time": "2018-03-25T17:22:58.225876Z"
    }
   },
   "outputs": [],
   "source": [
    "test = test * 1\n",
    "train_cats(test)"
   ]
  },
  {
   "cell_type": "code",
   "execution_count": 47,
   "metadata": {
    "ExecuteTime": {
     "end_time": "2018-03-25T17:23:01.002775Z",
     "start_time": "2018-03-25T17:23:00.434487Z"
    }
   },
   "outputs": [],
   "source": [
    "test = test.merge(camp,on='campaign_id');"
   ]
  },
  {
   "cell_type": "code",
   "execution_count": 134,
   "metadata": {
    "ExecuteTime": {
     "end_time": "2018-03-24T18:29:14.614777Z",
     "start_time": "2018-03-24T18:29:14.256166Z"
    }
   },
   "outputs": [
    {
     "data": {
      "text/plain": [
       "bool:dense         6\n",
       "category:dense     1\n",
       "int64:dense       10\n",
       "object:dense       1\n",
       "dtype: int64"
      ]
     },
     "execution_count": 134,
     "metadata": {},
     "output_type": "execute_result"
    }
   ],
   "source": [
    "test.drop(['user_id', 'campaign_id'], axis=1, inplace=True);\n",
    "test['communication_type'] = mapped;\n",
    "test.get_ftype_counts()"
   ]
  },
  {
   "cell_type": "code",
   "execution_count": 137,
   "metadata": {
    "ExecuteTime": {
     "end_time": "2018-03-24T18:30:22.446302Z",
     "start_time": "2018-03-24T18:30:22.206308Z"
    }
   },
   "outputs": [
    {
     "data": {
      "text/html": [
       "<div>\n",
       "<style>\n",
       "    .dataframe thead tr:only-child th {\n",
       "        text-align: right;\n",
       "    }\n",
       "\n",
       "    .dataframe thead th {\n",
       "        text-align: left;\n",
       "    }\n",
       "\n",
       "    .dataframe tbody tr th {\n",
       "        vertical-align: top;\n",
       "    }\n",
       "</style>\n",
       "<table border=\"1\" class=\"dataframe\">\n",
       "  <thead>\n",
       "    <tr style=\"text-align: right;\">\n",
       "      <th></th>\n",
       "      <th>id</th>\n",
       "      <th>send_Year</th>\n",
       "      <th>send_Month</th>\n",
       "      <th>send_Week</th>\n",
       "      <th>send_Day</th>\n",
       "      <th>send_Dayofweek</th>\n",
       "      <th>send_Dayofyear</th>\n",
       "      <th>send_Is_month_end</th>\n",
       "      <th>send_Is_month_start</th>\n",
       "      <th>send_Is_quarter_end</th>\n",
       "      <th>...</th>\n",
       "      <th>send_Is_year_start</th>\n",
       "      <th>communication_type</th>\n",
       "      <th>total_links</th>\n",
       "      <th>no_of_internal_links</th>\n",
       "      <th>no_of_images</th>\n",
       "      <th>no_of_sections</th>\n",
       "      <th>link_diff</th>\n",
       "      <th>av_links</th>\n",
       "      <th>img_per_section</th>\n",
       "      <th>link_diff_%</th>\n",
       "    </tr>\n",
       "  </thead>\n",
       "  <tbody>\n",
       "    <tr>\n",
       "      <th>0</th>\n",
       "      <td>63_122715</td>\n",
       "      <td>2018</td>\n",
       "      <td>1</td>\n",
       "      <td>1</td>\n",
       "      <td>2</td>\n",
       "      <td>1</td>\n",
       "      <td>2</td>\n",
       "      <td>False</td>\n",
       "      <td>False</td>\n",
       "      <td>False</td>\n",
       "      <td>...</td>\n",
       "      <td>False</td>\n",
       "      <td>3</td>\n",
       "      <td>68</td>\n",
       "      <td>64</td>\n",
       "      <td>15</td>\n",
       "      <td>5</td>\n",
       "      <td>4</td>\n",
       "      <td>0.941176</td>\n",
       "      <td>3.0</td>\n",
       "      <td>0.058824</td>\n",
       "    </tr>\n",
       "  </tbody>\n",
       "</table>\n",
       "<p>1 rows × 22 columns</p>\n",
       "</div>"
      ],
      "text/plain": [
       "          id  send_Year  send_Month  send_Week  send_Day  send_Dayofweek  \\\n",
       "0  63_122715       2018           1          1         2               1   \n",
       "\n",
       "   send_Dayofyear  send_Is_month_end  send_Is_month_start  \\\n",
       "0               2              False                False   \n",
       "\n",
       "   send_Is_quarter_end     ...       send_Is_year_start  communication_type  \\\n",
       "0                False     ...                    False                   3   \n",
       "\n",
       "   total_links  no_of_internal_links  no_of_images  no_of_sections  link_diff  \\\n",
       "0           68                    64            15               5          4   \n",
       "\n",
       "   av_links  img_per_section  link_diff_%  \n",
       "0  0.941176              3.0     0.058824  \n",
       "\n",
       "[1 rows x 22 columns]"
      ]
     },
     "execution_count": 137,
     "metadata": {},
     "output_type": "execute_result"
    }
   ],
   "source": [
    "test['link_diff'] = test['total_links'] - test['no_of_internal_links']\n",
    "test['av_links'] = (test['no_of_internal_links']/ test['total_links'])\n",
    "test['img_per_section'] = test['no_of_images']/ test['no_of_sections']\n",
    "test['link_diff_%'] = (test['total_links'] - test['no_of_internal_links'])/test['total_links']\n",
    "test.head(1)"
   ]
  },
  {
   "cell_type": "code",
   "execution_count": 138,
   "metadata": {
    "ExecuteTime": {
     "end_time": "2018-03-24T18:30:59.274476Z",
     "start_time": "2018-03-24T18:30:58.898068Z"
    }
   },
   "outputs": [
    {
     "data": {
      "text/html": [
       "<div>\n",
       "<style>\n",
       "    .dataframe thead tr:only-child th {\n",
       "        text-align: right;\n",
       "    }\n",
       "\n",
       "    .dataframe thead th {\n",
       "        text-align: left;\n",
       "    }\n",
       "\n",
       "    .dataframe tbody tr th {\n",
       "        vertical-align: top;\n",
       "    }\n",
       "</style>\n",
       "<table border=\"1\" class=\"dataframe\">\n",
       "  <thead>\n",
       "    <tr style=\"text-align: right;\">\n",
       "      <th></th>\n",
       "      <th>id</th>\n",
       "      <th>is_open</th>\n",
       "      <th>is_click</th>\n",
       "      <th>send_Year</th>\n",
       "      <th>send_Month</th>\n",
       "      <th>send_Week</th>\n",
       "      <th>send_Day</th>\n",
       "      <th>send_Dayofweek</th>\n",
       "      <th>send_Dayofyear</th>\n",
       "      <th>send_Is_month_end</th>\n",
       "      <th>...</th>\n",
       "      <th>send_Is_year_start</th>\n",
       "      <th>communication_type</th>\n",
       "      <th>total_links</th>\n",
       "      <th>no_of_internal_links</th>\n",
       "      <th>no_of_images</th>\n",
       "      <th>no_of_sections</th>\n",
       "      <th>link_diff</th>\n",
       "      <th>av_links</th>\n",
       "      <th>img_per_section</th>\n",
       "      <th>link_diff_%</th>\n",
       "    </tr>\n",
       "  </thead>\n",
       "  <tbody>\n",
       "    <tr>\n",
       "      <th>0</th>\n",
       "      <td>42_14051</td>\n",
       "      <td>0</td>\n",
       "      <td>0</td>\n",
       "      <td>2017</td>\n",
       "      <td>1</td>\n",
       "      <td>2</td>\n",
       "      <td>9</td>\n",
       "      <td>0</td>\n",
       "      <td>9</td>\n",
       "      <td>0</td>\n",
       "      <td>...</td>\n",
       "      <td>0</td>\n",
       "      <td>3</td>\n",
       "      <td>88</td>\n",
       "      <td>79</td>\n",
       "      <td>13</td>\n",
       "      <td>4</td>\n",
       "      <td>9</td>\n",
       "      <td>0.897727</td>\n",
       "      <td>3.25</td>\n",
       "      <td>0.102273</td>\n",
       "    </tr>\n",
       "  </tbody>\n",
       "</table>\n",
       "<p>1 rows × 24 columns</p>\n",
       "</div>"
      ],
      "text/plain": [
       "         id  is_open  is_click  send_Year  send_Month  send_Week  send_Day  \\\n",
       "0  42_14051        0         0       2017           1          2         9   \n",
       "\n",
       "   send_Dayofweek  send_Dayofyear  send_Is_month_end     ...       \\\n",
       "0               0               9                  0     ...        \n",
       "\n",
       "   send_Is_year_start  communication_type  total_links  no_of_internal_links  \\\n",
       "0                   0                   3           88                    79   \n",
       "\n",
       "   no_of_images  no_of_sections  link_diff  av_links  img_per_section  \\\n",
       "0            13               4          9  0.897727             3.25   \n",
       "\n",
       "   link_diff_%  \n",
       "0     0.102273  \n",
       "\n",
       "[1 rows x 24 columns]"
      ]
     },
     "execution_count": 138,
     "metadata": {},
     "output_type": "execute_result"
    }
   ],
   "source": [
    "df_raw['link_diff'] = df_raw['total_links'] - df_raw['no_of_internal_links']\n",
    "df_raw['av_links'] = (df_raw['no_of_internal_links']/ df_raw['total_links'])\n",
    "df_raw['img_per_section'] = df_raw['no_of_images']/ df_raw['no_of_sections']\n",
    "df_raw['link_diff_%'] = (df_raw['total_links'] - df_raw['no_of_internal_links'])/df_raw['total_links']\n",
    "df_raw.head(1)"
   ]
  },
  {
   "cell_type": "code",
   "execution_count": 139,
   "metadata": {
    "ExecuteTime": {
     "end_time": "2018-03-24T18:31:26.842000Z",
     "start_time": "2018-03-24T18:31:25.956124Z"
    }
   },
   "outputs": [],
   "source": [
    "test.to_feather('tmp/av_lord_test')"
   ]
  },
  {
   "cell_type": "code",
   "execution_count": 30,
   "metadata": {
    "ExecuteTime": {
     "end_time": "2018-03-25T17:08:40.134732Z",
     "start_time": "2018-03-25T17:08:37.203104Z"
    }
   },
   "outputs": [],
   "source": [
    "test = pd.read_feather('tmp/av_lord_test')"
   ]
  },
  {
   "cell_type": "code",
   "execution_count": 31,
   "metadata": {
    "ExecuteTime": {
     "end_time": "2018-03-25T17:08:40.823535Z",
     "start_time": "2018-03-25T17:08:40.610452Z"
    }
   },
   "outputs": [
    {
     "data": {
      "text/html": [
       "<div>\n",
       "<style>\n",
       "    .dataframe thead tr:only-child th {\n",
       "        text-align: right;\n",
       "    }\n",
       "\n",
       "    .dataframe thead th {\n",
       "        text-align: left;\n",
       "    }\n",
       "\n",
       "    .dataframe tbody tr th {\n",
       "        vertical-align: top;\n",
       "    }\n",
       "</style>\n",
       "<table border=\"1\" class=\"dataframe\">\n",
       "  <thead>\n",
       "    <tr style=\"text-align: right;\">\n",
       "      <th></th>\n",
       "      <th>id</th>\n",
       "      <th>user_id</th>\n",
       "      <th>campaign_id</th>\n",
       "      <th>is_open</th>\n",
       "      <th>is_click</th>\n",
       "      <th>send_Year</th>\n",
       "      <th>send_Month</th>\n",
       "      <th>send_Week</th>\n",
       "      <th>send_Day</th>\n",
       "      <th>send_Dayofweek</th>\n",
       "      <th>...</th>\n",
       "      <th>code_email_url_7wra6vb5p4c</th>\n",
       "      <th>code_email_url_7wrjo7b5p4c</th>\n",
       "      <th>code_email_url_7ww0uvb5p4c</th>\n",
       "      <th>code_email_url_7wx2s7b5p4c</th>\n",
       "      <th>code_email_url_7wxlqvb5p4c</th>\n",
       "      <th>code_email_url_7wxv87b5p4c</th>\n",
       "      <th>code_email_url_7wz6mvb5p4c</th>\n",
       "      <th>code_email_url_7wzpljb5p4c</th>\n",
       "      <th>code_email_url_7x08k7b5p4c</th>\n",
       "      <th>code_email_url_o7ohwml8lxh</th>\n",
       "    </tr>\n",
       "  </thead>\n",
       "  <tbody>\n",
       "    <tr>\n",
       "      <th>0</th>\n",
       "      <td>42_14051</td>\n",
       "      <td>14051</td>\n",
       "      <td>42</td>\n",
       "      <td>0</td>\n",
       "      <td>0</td>\n",
       "      <td>2017</td>\n",
       "      <td>1</td>\n",
       "      <td>2</td>\n",
       "      <td>9</td>\n",
       "      <td>0</td>\n",
       "      <td>...</td>\n",
       "      <td>0</td>\n",
       "      <td>0</td>\n",
       "      <td>0</td>\n",
       "      <td>0</td>\n",
       "      <td>0</td>\n",
       "      <td>0</td>\n",
       "      <td>0</td>\n",
       "      <td>0</td>\n",
       "      <td>0</td>\n",
       "      <td>0</td>\n",
       "    </tr>\n",
       "  </tbody>\n",
       "</table>\n",
       "<p>1 rows × 89 columns</p>\n",
       "</div>"
      ],
      "text/plain": [
       "         id  user_id  campaign_id  is_open  is_click  send_Year  send_Month  \\\n",
       "0  42_14051    14051           42        0         0       2017           1   \n",
       "\n",
       "   send_Week  send_Day  send_Dayofweek             ...              \\\n",
       "0          2         9               0             ...               \n",
       "\n",
       "   code_email_url_7wra6vb5p4c  code_email_url_7wrjo7b5p4c  \\\n",
       "0                           0                           0   \n",
       "\n",
       "   code_email_url_7ww0uvb5p4c  code_email_url_7wx2s7b5p4c  \\\n",
       "0                           0                           0   \n",
       "\n",
       "   code_email_url_7wxlqvb5p4c  code_email_url_7wxv87b5p4c  \\\n",
       "0                           0                           0   \n",
       "\n",
       "   code_email_url_7wz6mvb5p4c  code_email_url_7wzpljb5p4c  \\\n",
       "0                           0                           0   \n",
       "\n",
       "   code_email_url_7x08k7b5p4c  code_email_url_o7ohwml8lxh  \n",
       "0                           0                           0  \n",
       "\n",
       "[1 rows x 89 columns]"
      ]
     },
     "execution_count": 31,
     "metadata": {},
     "output_type": "execute_result"
    }
   ],
   "source": [
    "df_raw.head(1)"
   ]
  },
  {
   "cell_type": "code",
   "execution_count": 32,
   "metadata": {
    "ExecuteTime": {
     "end_time": "2018-03-25T17:08:43.130534Z",
     "start_time": "2018-03-25T17:08:42.752633Z"
    }
   },
   "outputs": [
    {
     "data": {
      "text/html": [
       "<div>\n",
       "<style>\n",
       "    .dataframe thead tr:only-child th {\n",
       "        text-align: right;\n",
       "    }\n",
       "\n",
       "    .dataframe thead th {\n",
       "        text-align: left;\n",
       "    }\n",
       "\n",
       "    .dataframe tbody tr th {\n",
       "        vertical-align: top;\n",
       "    }\n",
       "</style>\n",
       "<table border=\"1\" class=\"dataframe\">\n",
       "  <thead>\n",
       "    <tr style=\"text-align: right;\">\n",
       "      <th></th>\n",
       "      <th>id</th>\n",
       "      <th>send_Year</th>\n",
       "      <th>send_Month</th>\n",
       "      <th>send_Week</th>\n",
       "      <th>send_Day</th>\n",
       "      <th>send_Dayofweek</th>\n",
       "      <th>send_Dayofyear</th>\n",
       "      <th>send_Is_month_end</th>\n",
       "      <th>send_Is_month_start</th>\n",
       "      <th>send_Is_quarter_end</th>\n",
       "      <th>...</th>\n",
       "      <th>send_Is_year_start</th>\n",
       "      <th>communication_type</th>\n",
       "      <th>total_links</th>\n",
       "      <th>no_of_internal_links</th>\n",
       "      <th>no_of_images</th>\n",
       "      <th>no_of_sections</th>\n",
       "      <th>link_diff</th>\n",
       "      <th>av_links</th>\n",
       "      <th>img_per_section</th>\n",
       "      <th>link_diff_%</th>\n",
       "    </tr>\n",
       "  </thead>\n",
       "  <tbody>\n",
       "    <tr>\n",
       "      <th>0</th>\n",
       "      <td>63_122715</td>\n",
       "      <td>2018</td>\n",
       "      <td>1</td>\n",
       "      <td>1</td>\n",
       "      <td>2</td>\n",
       "      <td>1</td>\n",
       "      <td>2</td>\n",
       "      <td>False</td>\n",
       "      <td>False</td>\n",
       "      <td>False</td>\n",
       "      <td>...</td>\n",
       "      <td>False</td>\n",
       "      <td>3</td>\n",
       "      <td>68</td>\n",
       "      <td>64</td>\n",
       "      <td>15</td>\n",
       "      <td>5</td>\n",
       "      <td>4</td>\n",
       "      <td>0.941176</td>\n",
       "      <td>3.0</td>\n",
       "      <td>0.058824</td>\n",
       "    </tr>\n",
       "  </tbody>\n",
       "</table>\n",
       "<p>1 rows × 22 columns</p>\n",
       "</div>"
      ],
      "text/plain": [
       "          id  send_Year  send_Month  send_Week  send_Day  send_Dayofweek  \\\n",
       "0  63_122715       2018           1          1         2               1   \n",
       "\n",
       "   send_Dayofyear  send_Is_month_end  send_Is_month_start  \\\n",
       "0               2              False                False   \n",
       "\n",
       "   send_Is_quarter_end     ...       send_Is_year_start  communication_type  \\\n",
       "0                False     ...                    False                   3   \n",
       "\n",
       "   total_links  no_of_internal_links  no_of_images  no_of_sections  link_diff  \\\n",
       "0           68                    64            15               5          4   \n",
       "\n",
       "   av_links  img_per_section  link_diff_%  \n",
       "0  0.941176              3.0     0.058824  \n",
       "\n",
       "[1 rows x 22 columns]"
      ]
     },
     "execution_count": 32,
     "metadata": {},
     "output_type": "execute_result"
    }
   ],
   "source": [
    "test.head(1)"
   ]
  },
  {
   "cell_type": "markdown",
   "metadata": {
    "heading_collapsed": true
   },
   "source": [
    "## Rough"
   ]
  },
  {
   "cell_type": "code",
   "execution_count": 218,
   "metadata": {
    "ExecuteTime": {
     "end_time": "2018-03-24T13:13:18.771803Z",
     "start_time": "2018-03-24T13:13:16.381861Z"
    },
    "hidden": true
   },
   "outputs": [],
   "source": [
    "test, _, _ = proc_df(test,max_n_cat=30,mapper=mapper,na_dict=nas)"
   ]
  },
  {
   "cell_type": "code",
   "execution_count": 219,
   "metadata": {
    "ExecuteTime": {
     "end_time": "2018-03-24T13:13:23.551221Z",
     "start_time": "2018-03-24T13:13:23.359524Z"
    },
    "hidden": true
   },
   "outputs": [
    {
     "data": {
      "text/plain": [
       "Index(['id', 'campaign_id', 'user_id', 'y', 'send_Year', 'send_Month',\n",
       "       'send_Week', 'send_Day', 'send_Dayofweek', 'send_Dayofyear',\n",
       "       ...\n",
       "       'email_url_http://r.newsletters.analyticsvidhya.com/7wra6vb5p4c.html?t=1520942329',\n",
       "       'email_url_http://r.newsletters.analyticsvidhya.com/7wrjo7b5p4c.html?t=1520942329',\n",
       "       'email_url_http://r.newsletters.analyticsvidhya.com/7ww0uvb5p4c.html?t=1520940826',\n",
       "       'email_url_http://r.newsletters.analyticsvidhya.com/7wx2s7b5p4c.html?t=1520940826',\n",
       "       'email_url_http://r.newsletters.analyticsvidhya.com/7wxlqvb5p4c.html?t=1520940826',\n",
       "       'email_url_http://r.newsletters.analyticsvidhya.com/7wxv87b5p4c.html?t=1520940826',\n",
       "       'email_url_http://r.newsletters.analyticsvidhya.com/7wz6mvb5p4c.html?t=1520940826',\n",
       "       'email_url_http://r.newsletters.analyticsvidhya.com/7wzpljb5p4c.html?t=1520935115',\n",
       "       'email_url_http://r.newsletters.analyticsvidhya.com/7x08k7b5p4c.html?t=1520935115',\n",
       "       'email_url_nan'],\n",
       "      dtype='object', length=113)"
      ]
     },
     "execution_count": 219,
     "metadata": {},
     "output_type": "execute_result"
    }
   ],
   "source": [
    "test.columns"
   ]
  },
  {
   "cell_type": "code",
   "execution_count": 224,
   "metadata": {
    "ExecuteTime": {
     "end_time": "2018-03-24T13:14:43.842439Z",
     "start_time": "2018-03-24T13:14:43.091715Z"
    },
    "hidden": true
   },
   "outputs": [],
   "source": [
    "df.drop(list(set(df.columns) - set(test.columns)), axis=1,inplace=True)"
   ]
  },
  {
   "cell_type": "code",
   "execution_count": 228,
   "metadata": {
    "ExecuteTime": {
     "end_time": "2018-03-24T13:15:05.407094Z",
     "start_time": "2018-03-24T13:15:05.150980Z"
    },
    "hidden": true
   },
   "outputs": [
    {
     "data": {
      "text/plain": [
       "29"
      ]
     },
     "execution_count": 228,
     "metadata": {},
     "output_type": "execute_result"
    }
   ],
   "source": [
    "len(test.columns)"
   ]
  },
  {
   "cell_type": "code",
   "execution_count": 227,
   "metadata": {
    "ExecuteTime": {
     "end_time": "2018-03-24T13:14:58.055100Z",
     "start_time": "2018-03-24T13:14:57.693688Z"
    },
    "hidden": true
   },
   "outputs": [
    {
     "data": {
      "text/plain": [
       "29"
      ]
     },
     "execution_count": 227,
     "metadata": {},
     "output_type": "execute_result"
    }
   ],
   "source": [
    "len(df.columns)"
   ]
  },
  {
   "cell_type": "code",
   "execution_count": 51,
   "metadata": {
    "ExecuteTime": {
     "end_time": "2018-03-24T11:01:02.178536Z",
     "start_time": "2018-03-24T11:01:01.743872Z"
    },
    "hidden": true
   },
   "outputs": [
    {
     "name": "stdout",
     "output_type": "stream",
     "text": [
      "2.000000     211722\n",
      "7.000000     139380\n",
      "3.000000     132195\n",
      "13.000000     85433\n",
      "2.500000      82163\n",
      "16.000000     81358\n",
      "3.250000      81253\n",
      "4.000000      76361\n",
      "1.000000      50942\n",
      "2.833333      39710\n",
      "3.166667      39498\n",
      "5.000000       3198\n",
      "3.750000          2\n",
      "3.500000          1\n",
      "9.000000          1\n",
      "Name: img_per_sec, dtype: int64\n"
     ]
    },
    {
     "data": {
      "image/png": "[encoded data removed]",
      "text/plain": [
       "<matplotlib.figure.Figure at 0x1f119bf52b0>"
      ]
     },
     "metadata": {},
     "output_type": "display_data"
    }
   ],
   "source": [
    "print(df['img_per_sec'].value_counts())\n",
    "sns.countplot(df['img_per_sec'],orient='h');"
   ]
  },
  {
   "cell_type": "code",
   "execution_count": 43,
   "metadata": {
    "ExecuteTime": {
     "end_time": "2018-03-24T10:56:17.854621Z",
     "start_time": "2018-03-24T10:56:17.334345Z"
    },
    "hidden": true
   },
   "outputs": [
    {
     "name": "stdout",
     "output_type": "stream",
     "text": [
      "0.0    920401\n",
      "1.0    102790\n",
      "Name: is_open, dtype: int64\n"
     ]
    },
    {
     "data": {
      "image/png": "[encoded data removed]",
      "text/plain": [
       "<matplotlib.figure.Figure at 0x1f115f967b8>"
      ]
     },
     "metadata": {},
     "output_type": "display_data"
    }
   ],
   "source": [
    "print(df['is_open'].value_counts())\n",
    "sns.countplot(df['is_open']);"
   ]
  },
  {
   "cell_type": "code",
   "execution_count": 38,
   "metadata": {
    "ExecuteTime": {
     "end_time": "2018-03-24T10:53:37.639691Z",
     "start_time": "2018-03-24T10:53:37.025215Z"
    },
    "hidden": true
   },
   "outputs": [
    {
     "data": {
      "image/png": "[encoded data removed]",
      "text/plain": [
       "<matplotlib.figure.Figure at 0x1f117820a90>"
      ]
     },
     "metadata": {},
     "output_type": "display_data"
    }
   ],
   "source": [
    "sns.countplot(df['no_of_images']);"
   ]
  },
  {
   "cell_type": "code",
   "execution_count": 39,
   "metadata": {
    "ExecuteTime": {
     "end_time": "2018-03-24T10:53:47.436197Z",
     "start_time": "2018-03-24T10:53:47.080403Z"
    },
    "hidden": true
   },
   "outputs": [
    {
     "data": {
      "image/png": "[encoded data removed]",
      "text/plain": [
       "<matplotlib.figure.Figure at 0x1f117139048>"
      ]
     },
     "metadata": {},
     "output_type": "display_data"
    }
   ],
   "source": [
    "sns.countplot(df['no_of_sections']);"
   ]
  },
  {
   "cell_type": "code",
   "execution_count": 37,
   "metadata": {
    "ExecuteTime": {
     "end_time": "2018-03-24T10:52:24.736863Z",
     "start_time": "2018-03-24T10:52:22.607123Z"
    },
    "hidden": true
   },
   "outputs": [
    {
     "data": {
      "text/plain": [
       "<matplotlib.axes._subplots.AxesSubplot at 0x1f117841a20>"
      ]
     },
     "execution_count": 37,
     "metadata": {},
     "output_type": "execute_result"
    },
    {
     "data": {
      "image/png": "[encoded data removed]",
      "text/plain": [
       "<matplotlib.figure.Figure at 0x1f118bac080>"
      ]
     },
     "metadata": {},
     "output_type": "display_data"
    }
   ],
   "source": [
    "sns.countplot(df['link_diff']);"
   ]
  },
  {
   "cell_type": "code",
   "execution_count": 81,
   "metadata": {
    "ExecuteTime": {
     "end_time": "2018-03-24T11:12:20.826456Z",
     "start_time": "2018-03-24T11:12:13.121131Z"
    },
    "hidden": true
   },
   "outputs": [],
   "source": [
    "train_cats(df)"
   ]
  },
  {
   "cell_type": "code",
   "execution_count": 82,
   "metadata": {
    "ExecuteTime": {
     "end_time": "2018-03-24T11:12:50.515434Z",
     "start_time": "2018-03-24T11:12:47.211951Z"
    },
    "hidden": true
   },
   "outputs": [],
   "source": [
    "apply_cats(test, df)"
   ]
  },
  {
   "cell_type": "code",
   "execution_count": 87,
   "metadata": {
    "ExecuteTime": {
     "end_time": "2018-03-24T11:14:56.885709Z",
     "start_time": "2018-03-24T11:14:56.539922Z"
    },
    "hidden": true
   },
   "outputs": [],
   "source": [
    "df.drop(['id', 'user_id'], axis=1, inplace=True);\n",
    "test.drop(['id', 'user_id'], axis=1, inplace=True);"
   ]
  },
  {
   "cell_type": "code",
   "execution_count": 88,
   "metadata": {
    "ExecuteTime": {
     "end_time": "2018-03-24T11:15:08.692374Z",
     "start_time": "2018-03-24T11:15:08.472357Z"
    },
    "hidden": true
   },
   "outputs": [
    {
     "data": {
      "text/html": [
       "<div>\n",
       "<style>\n",
       "    .dataframe thead tr:only-child th {\n",
       "        text-align: right;\n",
       "    }\n",
       "\n",
       "    .dataframe thead th {\n",
       "        text-align: left;\n",
       "    }\n",
       "\n",
       "    .dataframe tbody tr th {\n",
       "        vertical-align: top;\n",
       "    }\n",
       "</style>\n",
       "<table border=\"1\" class=\"dataframe\">\n",
       "  <thead>\n",
       "    <tr style=\"text-align: right;\">\n",
       "      <th></th>\n",
       "      <th>campaign_id</th>\n",
       "      <th>send_Year</th>\n",
       "      <th>send_Month</th>\n",
       "      <th>send_Week</th>\n",
       "      <th>send_Day</th>\n",
       "      <th>send_Dayofweek</th>\n",
       "      <th>send_Dayofyear</th>\n",
       "      <th>send_Is_month_end</th>\n",
       "      <th>send_Is_month_start</th>\n",
       "      <th>send_Is_quarter_end</th>\n",
       "      <th>...</th>\n",
       "      <th>no_of_internal_links</th>\n",
       "      <th>no_of_images</th>\n",
       "      <th>no_of_sections</th>\n",
       "      <th>email_body</th>\n",
       "      <th>subject</th>\n",
       "      <th>email_url</th>\n",
       "      <th>link_diff</th>\n",
       "      <th>link_diff_%</th>\n",
       "      <th>img_per_section</th>\n",
       "      <th>av_links</th>\n",
       "    </tr>\n",
       "  </thead>\n",
       "  <tbody>\n",
       "    <tr>\n",
       "      <th>0</th>\n",
       "      <td>42</td>\n",
       "      <td>2017.0</td>\n",
       "      <td>1.0</td>\n",
       "      <td>2.0</td>\n",
       "      <td>9.0</td>\n",
       "      <td>0.0</td>\n",
       "      <td>9.0</td>\n",
       "      <td>False</td>\n",
       "      <td>False</td>\n",
       "      <td>False</td>\n",
       "      <td>...</td>\n",
       "      <td>79</td>\n",
       "      <td>13</td>\n",
       "      <td>4</td>\n",
       "      <td>September Newsletter\\r\\n \\r\\nDear AVians,\\r\\n ...</td>\n",
       "      <td>[September] Exciting days ahead with DataHack ...</td>\n",
       "      <td>http://r.newsletters.analyticsvidhya.com/7v3rd...</td>\n",
       "      <td>9</td>\n",
       "      <td>10.227273</td>\n",
       "      <td>3.25</td>\n",
       "      <td>89.772727</td>\n",
       "    </tr>\n",
       "  </tbody>\n",
       "</table>\n",
       "<p>1 rows × 25 columns</p>\n",
       "</div>"
      ],
      "text/plain": [
       "   campaign_id  send_Year  send_Month  send_Week  send_Day  send_Dayofweek  \\\n",
       "0           42     2017.0         1.0        2.0       9.0             0.0   \n",
       "\n",
       "   send_Dayofyear send_Is_month_end send_Is_month_start send_Is_quarter_end  \\\n",
       "0             9.0             False               False               False   \n",
       "\n",
       "     ...     no_of_internal_links no_of_images no_of_sections  \\\n",
       "0    ...                       79           13              4   \n",
       "\n",
       "                                          email_body  \\\n",
       "0  September Newsletter\\r\\n \\r\\nDear AVians,\\r\\n ...   \n",
       "\n",
       "                                             subject  \\\n",
       "0  [September] Exciting days ahead with DataHack ...   \n",
       "\n",
       "                                           email_url  link_diff  link_diff_%  \\\n",
       "0  http://r.newsletters.analyticsvidhya.com/7v3rd...          9    10.227273   \n",
       "\n",
       "  img_per_section   av_links  \n",
       "0            3.25  89.772727  \n",
       "\n",
       "[1 rows x 25 columns]"
      ]
     },
     "execution_count": 88,
     "metadata": {},
     "output_type": "execute_result"
    }
   ],
   "source": [
    "df.head(1)"
   ]
  },
  {
   "cell_type": "code",
   "execution_count": 89,
   "metadata": {
    "ExecuteTime": {
     "end_time": "2018-03-24T11:15:14.330456Z",
     "start_time": "2018-03-24T11:15:13.995867Z"
    },
    "hidden": true
   },
   "outputs": [
    {
     "data": {
      "text/html": [
       "<div>\n",
       "<style>\n",
       "    .dataframe thead tr:only-child th {\n",
       "        text-align: right;\n",
       "    }\n",
       "\n",
       "    .dataframe thead th {\n",
       "        text-align: left;\n",
       "    }\n",
       "\n",
       "    .dataframe tbody tr th {\n",
       "        vertical-align: top;\n",
       "    }\n",
       "</style>\n",
       "<table border=\"1\" class=\"dataframe\">\n",
       "  <thead>\n",
       "    <tr style=\"text-align: right;\">\n",
       "      <th></th>\n",
       "      <th>campaign_id</th>\n",
       "      <th>send_Year</th>\n",
       "      <th>send_Month</th>\n",
       "      <th>send_Week</th>\n",
       "      <th>send_Day</th>\n",
       "      <th>send_Dayofweek</th>\n",
       "      <th>send_Dayofyear</th>\n",
       "      <th>send_Is_month_end</th>\n",
       "      <th>send_Is_month_start</th>\n",
       "      <th>send_Is_quarter_end</th>\n",
       "      <th>...</th>\n",
       "      <th>no_of_internal_links</th>\n",
       "      <th>no_of_images</th>\n",
       "      <th>no_of_sections</th>\n",
       "      <th>email_body</th>\n",
       "      <th>subject</th>\n",
       "      <th>email_url</th>\n",
       "      <th>link_diff</th>\n",
       "      <th>av_links</th>\n",
       "      <th>img_per_section</th>\n",
       "      <th>link_diff_%</th>\n",
       "    </tr>\n",
       "  </thead>\n",
       "  <tbody>\n",
       "    <tr>\n",
       "      <th>0</th>\n",
       "      <td>63</td>\n",
       "      <td>2018</td>\n",
       "      <td>1</td>\n",
       "      <td>1</td>\n",
       "      <td>2</td>\n",
       "      <td>1</td>\n",
       "      <td>2</td>\n",
       "      <td>False</td>\n",
       "      <td>False</td>\n",
       "      <td>False</td>\n",
       "      <td>...</td>\n",
       "      <td>64</td>\n",
       "      <td>15</td>\n",
       "      <td>5</td>\n",
       "      <td>\\r\\nFebruary 2018 Newsletter\\r\\n \\r\\nDear AVia...</td>\n",
       "      <td>AVbytes, Ultimate 2018 learning path and aweso...</td>\n",
       "      <td>http://r.newsletters.analyticsvidhya.com/7whsu...</td>\n",
       "      <td>4</td>\n",
       "      <td>94.117647</td>\n",
       "      <td>3.0</td>\n",
       "      <td>5.882353</td>\n",
       "    </tr>\n",
       "  </tbody>\n",
       "</table>\n",
       "<p>1 rows × 25 columns</p>\n",
       "</div>"
      ],
      "text/plain": [
       "   campaign_id  send_Year  send_Month  send_Week  send_Day  send_Dayofweek  \\\n",
       "0           63       2018           1          1         2               1   \n",
       "\n",
       "   send_Dayofyear send_Is_month_end send_Is_month_start send_Is_quarter_end  \\\n",
       "0               2             False               False               False   \n",
       "\n",
       "      ...     no_of_internal_links no_of_images no_of_sections  \\\n",
       "0     ...                       64           15              5   \n",
       "\n",
       "                                          email_body  \\\n",
       "0  \\r\\nFebruary 2018 Newsletter\\r\\n \\r\\nDear AVia...   \n",
       "\n",
       "                                             subject  \\\n",
       "0  AVbytes, Ultimate 2018 learning path and aweso...   \n",
       "\n",
       "                                           email_url  link_diff   av_links  \\\n",
       "0  http://r.newsletters.analyticsvidhya.com/7whsu...          4  94.117647   \n",
       "\n",
       "  img_per_section link_diff_%  \n",
       "0             3.0    5.882353  \n",
       "\n",
       "[1 rows x 25 columns]"
      ]
     },
     "execution_count": 89,
     "metadata": {},
     "output_type": "execute_result"
    }
   ],
   "source": [
    "test.head(1)"
   ]
  },
  {
   "cell_type": "code",
   "execution_count": 90,
   "metadata": {
    "ExecuteTime": {
     "end_time": "2018-03-24T11:16:22.255834Z",
     "start_time": "2018-03-24T11:16:21.131240Z"
    },
    "collapsed": true,
    "hidden": true
   },
   "outputs": [
    {
     "name": "stdout",
     "output_type": "stream",
     "text": [
      "<class 'pandas.core.frame.DataFrame'>\n",
      "RangeIndex: 1023217 entries, 0 to 1023216\n",
      "Data columns (total 25 columns):\n",
      "campaign_id              1023217 non-null int64\n",
      "send_Year                1023191 non-null float64\n",
      "send_Month               1023191 non-null float64\n",
      "send_Week                1023191 non-null float64\n",
      "send_Day                 1023191 non-null float64\n",
      "send_Dayofweek           1023191 non-null float64\n",
      "send_Dayofyear           1023191 non-null float64\n",
      "send_Is_month_end        1023191 non-null category\n",
      "send_Is_month_start      1023191 non-null category\n",
      "send_Is_quarter_end      1023191 non-null category\n",
      "send_Is_quarter_start    1023191 non-null category\n",
      "send_Is_year_end         1023191 non-null category\n",
      "send_Is_year_start       1023191 non-null category\n",
      "communication_type       1023217 non-null category\n",
      "total_links              1023217 non-null int64\n",
      "no_of_internal_links     1023217 non-null int64\n",
      "no_of_images             1023217 non-null int64\n",
      "no_of_sections           1023217 non-null int64\n",
      "email_body               1023217 non-null category\n",
      "subject                  1023217 non-null category\n",
      "email_url                1023217 non-null category\n",
      "link_diff                1023217 non-null int64\n",
      "link_diff_%              1023217 non-null float64\n",
      "img_per_section          1023217 non-null float64\n",
      "av_links                 1023217 non-null float64\n",
      "dtypes: category(10), float64(9), int64(6)\n",
      "memory usage: 126.9 MB\n"
     ]
    }
   ],
   "source": [
    "df.info()"
   ]
  },
  {
   "cell_type": "markdown",
   "metadata": {
    "heading_collapsed": true
   },
   "source": [
    "## model"
   ]
  },
  {
   "cell_type": "code",
   "execution_count": 177,
   "metadata": {
    "ExecuteTime": {
     "end_time": "2018-03-25T03:16:15.939530Z",
     "start_time": "2018-03-25T03:16:15.731513Z"
    },
    "hidden": true
   },
   "outputs": [
    {
     "data": {
      "text/plain": [
       "bool:dense         6\n",
       "category:dense     1\n",
       "float64:dense      7\n",
       "int64:dense       16\n",
       "uint8:dense       59\n",
       "dtype: int64"
      ]
     },
     "execution_count": 177,
     "metadata": {},
     "output_type": "execute_result"
    }
   ],
   "source": [
    "df_raw.get_ftype_counts()"
   ]
  },
  {
   "cell_type": "code",
   "execution_count": 180,
   "metadata": {
    "ExecuteTime": {
     "end_time": "2018-03-25T03:18:33.445785Z",
     "start_time": "2018-03-25T03:18:33.195507Z"
    },
    "hidden": true
   },
   "outputs": [],
   "source": [
    "df_raw['comb_id'] = df_raw['user_id']*100+ df_raw['campaign_id'];\n",
    "test['comb_id'] = test['user_id']*100+ test['campaign_id'];"
   ]
  },
  {
   "cell_type": "code",
   "execution_count": 181,
   "metadata": {
    "ExecuteTime": {
     "end_time": "2018-03-25T03:18:37.653629Z",
     "start_time": "2018-03-25T03:18:36.844137Z"
    },
    "hidden": true
   },
   "outputs": [],
   "source": [
    "df_raw.drop(['id','user_id','campaign_id'], axis=1,inplace=True);\n",
    "test.drop(['id','user_id','campaign_id'], axis=1,inplace=True);"
   ]
  },
  {
   "cell_type": "code",
   "execution_count": 186,
   "metadata": {
    "ExecuteTime": {
     "end_time": "2018-03-25T03:19:44.018549Z",
     "start_time": "2018-03-25T03:19:43.825576Z"
    },
    "hidden": true
   },
   "outputs": [
    {
     "data": {
      "text/html": [
       "<div>\n",
       "<style>\n",
       "    .dataframe thead tr:only-child th {\n",
       "        text-align: right;\n",
       "    }\n",
       "\n",
       "    .dataframe thead th {\n",
       "        text-align: left;\n",
       "    }\n",
       "\n",
       "    .dataframe tbody tr th {\n",
       "        vertical-align: top;\n",
       "    }\n",
       "</style>\n",
       "<table border=\"1\" class=\"dataframe\">\n",
       "  <thead>\n",
       "    <tr style=\"text-align: right;\">\n",
       "      <th></th>\n",
       "      <th>send_Year</th>\n",
       "      <th>send_Month</th>\n",
       "      <th>send_Week</th>\n",
       "      <th>send_Day</th>\n",
       "      <th>send_Dayofweek</th>\n",
       "      <th>send_Dayofyear</th>\n",
       "      <th>send_Is_month_end</th>\n",
       "      <th>send_Is_month_start</th>\n",
       "      <th>send_Is_quarter_end</th>\n",
       "      <th>send_Is_quarter_start</th>\n",
       "      <th>...</th>\n",
       "      <th>code_email_url_7wrjo7b5p4c</th>\n",
       "      <th>code_email_url_7ww0uvb5p4c</th>\n",
       "      <th>code_email_url_7wx2s7b5p4c</th>\n",
       "      <th>code_email_url_7wxlqvb5p4c</th>\n",
       "      <th>code_email_url_7wxv87b5p4c</th>\n",
       "      <th>code_email_url_7wz6mvb5p4c</th>\n",
       "      <th>code_email_url_7wzpljb5p4c</th>\n",
       "      <th>code_email_url_7x08k7b5p4c</th>\n",
       "      <th>code_email_url_o7ohwml8lxh</th>\n",
       "      <th>comb_id</th>\n",
       "    </tr>\n",
       "  </thead>\n",
       "  <tbody>\n",
       "    <tr>\n",
       "      <th>0</th>\n",
       "      <td>2018</td>\n",
       "      <td>1</td>\n",
       "      <td>1</td>\n",
       "      <td>2</td>\n",
       "      <td>1</td>\n",
       "      <td>2</td>\n",
       "      <td>False</td>\n",
       "      <td>False</td>\n",
       "      <td>False</td>\n",
       "      <td>False</td>\n",
       "      <td>...</td>\n",
       "      <td>0</td>\n",
       "      <td>0</td>\n",
       "      <td>0</td>\n",
       "      <td>0</td>\n",
       "      <td>0</td>\n",
       "      <td>0</td>\n",
       "      <td>0</td>\n",
       "      <td>0</td>\n",
       "      <td>0</td>\n",
       "      <td>12271563</td>\n",
       "    </tr>\n",
       "  </tbody>\n",
       "</table>\n",
       "<p>1 rows × 85 columns</p>\n",
       "</div>"
      ],
      "text/plain": [
       "   send_Year  send_Month  send_Week  send_Day  send_Dayofweek  send_Dayofyear  \\\n",
       "0       2018           1          1         2               1               2   \n",
       "\n",
       "   send_Is_month_end  send_Is_month_start  send_Is_quarter_end  \\\n",
       "0              False                False                False   \n",
       "\n",
       "   send_Is_quarter_start    ...     code_email_url_7wrjo7b5p4c  \\\n",
       "0                  False    ...                              0   \n",
       "\n",
       "   code_email_url_7ww0uvb5p4c  code_email_url_7wx2s7b5p4c  \\\n",
       "0                           0                           0   \n",
       "\n",
       "   code_email_url_7wxlqvb5p4c  code_email_url_7wxv87b5p4c  \\\n",
       "0                           0                           0   \n",
       "\n",
       "   code_email_url_7wz6mvb5p4c  code_email_url_7wzpljb5p4c  \\\n",
       "0                           0                           0   \n",
       "\n",
       "   code_email_url_7x08k7b5p4c  code_email_url_o7ohwml8lxh   comb_id  \n",
       "0                           0                           0  12271563  \n",
       "\n",
       "[1 rows x 85 columns]"
      ]
     },
     "execution_count": 186,
     "metadata": {},
     "output_type": "execute_result"
    }
   ],
   "source": [
    "test.head(1)"
   ]
  },
  {
   "cell_type": "code",
   "execution_count": 188,
   "metadata": {
    "ExecuteTime": {
     "end_time": "2018-03-25T03:21:49.349738Z",
     "start_time": "2018-03-25T03:21:48.915088Z"
    },
    "hidden": true
   },
   "outputs": [],
   "source": [
    "df_raw.drop(['is_click'],axis=1,inplace=True)\n",
    "df_raw.drop('is_open',axis=1,inplace=True)"
   ]
  },
  {
   "cell_type": "code",
   "execution_count": 144,
   "metadata": {
    "ExecuteTime": {
     "end_time": "2018-03-24T18:34:02.550861Z",
     "start_time": "2018-03-24T18:34:02.354460Z"
    },
    "hidden": true
   },
   "outputs": [],
   "source": [
    "categorical_features_indices = np.where(df_raw.dtypes == 'category')[0]"
   ]
  },
  {
   "cell_type": "code",
   "execution_count": 145,
   "metadata": {
    "ExecuteTime": {
     "end_time": "2018-03-24T18:34:02.920472Z",
     "start_time": "2018-03-24T18:34:02.712438Z"
    },
    "hidden": true
   },
   "outputs": [
    {
     "data": {
      "text/plain": [
       "array([], dtype=int64)"
      ]
     },
     "execution_count": 145,
     "metadata": {},
     "output_type": "execute_result"
    }
   ],
   "source": [
    "categorical_features_indices"
   ]
  },
  {
   "cell_type": "code",
   "execution_count": 195,
   "metadata": {
    "ExecuteTime": {
     "end_time": "2018-03-25T03:24:00.279375Z",
     "start_time": "2018-03-25T03:24:00.019226Z"
    },
    "hidden": true
   },
   "outputs": [],
   "source": [
    "def rmse(x,y): return math.sqrt(((x-y)**2).mean())\n",
    "\n",
    "def print_score(m):\n",
    "    res = [rmse(m.predict(X_train), y_train), rmse(m.predict(X_valid), y_valid),\n",
    "                m.score(X_train, y_train), m.score(X_valid, y_valid)]\n",
    "    if hasattr(m, 'oob_score_'): res.append(m.oob_score_)\n",
    "    print(res)"
   ]
  },
  {
   "cell_type": "code",
   "execution_count": 196,
   "metadata": {
    "ExecuteTime": {
     "end_time": "2018-03-25T03:24:11.551951Z",
     "start_time": "2018-03-25T03:24:11.311558Z"
    },
    "hidden": true
   },
   "outputs": [],
   "source": [
    "from sklearn.model_selection import train_test_split"
   ]
  },
  {
   "cell_type": "code",
   "execution_count": 197,
   "metadata": {
    "ExecuteTime": {
     "end_time": "2018-03-25T03:24:48.415827Z",
     "start_time": "2018-03-25T03:24:30.953621Z"
    },
    "hidden": true
   },
   "outputs": [],
   "source": [
    "from sklearn.preprocessing import StandardScaler\n",
    "df_raw_scaled = StandardScaler().fit_transform(df_raw[:])\n",
    "test_scaled = StandardScaler().fit_transform(test[:])"
   ]
  },
  {
   "cell_type": "code",
   "execution_count": 202,
   "metadata": {
    "ExecuteTime": {
     "end_time": "2018-03-25T03:26:17.802174Z",
     "start_time": "2018-03-25T03:25:57.393541Z"
    },
    "hidden": true
   },
   "outputs": [
    {
     "name": "stderr",
     "output_type": "stream",
     "text": [
      "C:\\ProgramData\\Anaconda3\\lib\\site-packages\\sklearn\\model_selection\\_split.py:2026: FutureWarning: From version 0.21, test_size will always complement train_size unless both are specified.\n",
      "  FutureWarning)\n"
     ]
    }
   ],
   "source": [
    "X_train, X_validation, y_train, y_validation = train_test_split(df_raw, y_target, train_size=0.8, random_state=17)\n",
    "lr = LogisticRegression(C=1, random_state=17, solver='lbfgs',class_weight='balanced',n_jobs=-1,max_iter=2000).fit(X_train,y_train)"
   ]
  },
  {
   "cell_type": "code",
   "execution_count": 203,
   "metadata": {
    "ExecuteTime": {
     "end_time": "2018-03-25T03:26:32.226032Z",
     "start_time": "2018-03-25T03:26:31.802646Z"
    },
    "hidden": true
   },
   "outputs": [],
   "source": [
    "preds = lr.predict_proba(test_scaled)"
   ]
  },
  {
   "cell_type": "code",
   "execution_count": 212,
   "metadata": {
    "ExecuteTime": {
     "end_time": "2018-03-25T03:50:41.755455Z",
     "start_time": "2018-03-25T03:28:42.314516Z"
    },
    "hidden": true,
    "scrolled": true
   },
   "outputs": [
    {
     "name": "stdout",
     "output_type": "stream",
     "text": [
      "0:\tlearn: 0.6718602\ttest: 0.6718565\tbest: 0.6718565 (0)\ttotal: 1.35s\tremaining: 22m 31s\n",
      "1:\tlearn: 0.6513260\ttest: 0.6513192\tbest: 0.6513192 (1)\ttotal: 2.24s\tremaining: 18m 38s\n",
      "2:\tlearn: 0.6314951\ttest: 0.6314901\tbest: 0.6314901 (2)\ttotal: 3.39s\tremaining: 18m 48s\n",
      "3:\tlearn: 0.6124003\ttest: 0.6123970\tbest: 0.6123970 (3)\ttotal: 4.46s\tremaining: 18m 30s\n",
      "4:\tlearn: 0.5937470\ttest: 0.5937406\tbest: 0.5937406 (4)\ttotal: 5.64s\tremaining: 18m 41s\n",
      "5:\tlearn: 0.5757953\ttest: 0.5757863\tbest: 0.5757863 (5)\ttotal: 7.12s\tremaining: 19m 39s\n",
      "6:\tlearn: 0.5584940\ttest: 0.5584821\tbest: 0.5584821 (6)\ttotal: 7.94s\tremaining: 18m 46s\n",
      "7:\tlearn: 0.5416949\ttest: 0.5416788\tbest: 0.5416788 (7)\ttotal: 9.58s\tremaining: 19m 47s\n",
      "8:\tlearn: 0.5255072\ttest: 0.5254872\tbest: 0.5254872 (8)\ttotal: 10.8s\tremaining: 19m 47s\n",
      "9:\tlearn: 0.5099054\ttest: 0.5098842\tbest: 0.5098842 (9)\ttotal: 11.7s\tremaining: 19m 21s\n",
      "10:\tlearn: 0.4948499\ttest: 0.4948265\tbest: 0.4948265 (10)\ttotal: 12.7s\tremaining: 19m\n",
      "11:\tlearn: 0.4802808\ttest: 0.4802561\tbest: 0.4802561 (11)\ttotal: 14.3s\tremaining: 19m 41s\n",
      "12:\tlearn: 0.4662152\ttest: 0.4661884\tbest: 0.4661884 (12)\ttotal: 15.9s\tremaining: 20m 3s\n",
      "13:\tlearn: 0.4525927\ttest: 0.4525606\tbest: 0.4525606 (13)\ttotal: 17.7s\tremaining: 20m 49s\n",
      "14:\tlearn: 0.4394821\ttest: 0.4394510\tbest: 0.4394510 (14)\ttotal: 19.2s\tremaining: 21m 1s\n",
      "15:\tlearn: 0.4269029\ttest: 0.4268716\tbest: 0.4268716 (15)\ttotal: 20.7s\tremaining: 21m 15s\n",
      "16:\tlearn: 0.4147286\ttest: 0.4146962\tbest: 0.4146962 (16)\ttotal: 21.7s\tremaining: 20m 55s\n",
      "17:\tlearn: 0.4029900\ttest: 0.4029582\tbest: 0.4029582 (17)\ttotal: 23s\tremaining: 20m 52s\n",
      "18:\tlearn: 0.3916296\ttest: 0.3916006\tbest: 0.3916006 (18)\ttotal: 24.7s\tremaining: 21m 15s\n",
      "19:\tlearn: 0.3806632\ttest: 0.3806350\tbest: 0.3806350 (19)\ttotal: 26.1s\tremaining: 21m 16s\n",
      "20:\tlearn: 0.3701222\ttest: 0.3700933\tbest: 0.3700933 (20)\ttotal: 26.8s\tremaining: 20m 51s\n",
      "21:\tlearn: 0.3600028\ttest: 0.3599749\tbest: 0.3599749 (21)\ttotal: 28.2s\tremaining: 20m 52s\n",
      "22:\tlearn: 0.3501039\ttest: 0.3500733\tbest: 0.3500733 (22)\ttotal: 29.8s\tremaining: 21m 3s\n",
      "23:\tlearn: 0.3406593\ttest: 0.3406280\tbest: 0.3406280 (23)\ttotal: 30.6s\tremaining: 20m 43s\n",
      "24:\tlearn: 0.3315767\ttest: 0.3315459\tbest: 0.3315459 (24)\ttotal: 31.7s\tremaining: 20m 36s\n",
      "25:\tlearn: 0.3228220\ttest: 0.3227931\tbest: 0.3227931 (25)\ttotal: 32.4s\tremaining: 20m 14s\n",
      "26:\tlearn: 0.3143739\ttest: 0.3143459\tbest: 0.3143459 (26)\ttotal: 33.2s\tremaining: 19m 56s\n",
      "27:\tlearn: 0.3061425\ttest: 0.3061112\tbest: 0.3061112 (27)\ttotal: 35s\tremaining: 20m 14s\n",
      "28:\tlearn: 0.2981844\ttest: 0.2981527\tbest: 0.2981527 (28)\ttotal: 36.7s\tremaining: 20m 30s\n",
      "29:\tlearn: 0.2905096\ttest: 0.2904769\tbest: 0.2904769 (29)\ttotal: 38.3s\tremaining: 20m 37s\n",
      "30:\tlearn: 0.2831044\ttest: 0.2830699\tbest: 0.2830699 (30)\ttotal: 39.9s\tremaining: 20m 47s\n",
      "31:\tlearn: 0.2759891\ttest: 0.2759550\tbest: 0.2759550 (31)\ttotal: 41.7s\tremaining: 21m 1s\n",
      "32:\tlearn: 0.2691229\ttest: 0.2690896\tbest: 0.2690896 (32)\ttotal: 43.5s\tremaining: 21m 15s\n",
      "33:\tlearn: 0.2625235\ttest: 0.2624918\tbest: 0.2624918 (33)\ttotal: 45.1s\tremaining: 21m 22s\n",
      "34:\tlearn: 0.2562166\ttest: 0.2561863\tbest: 0.2561863 (34)\ttotal: 45.7s\tremaining: 20m 59s\n",
      "35:\tlearn: 0.2500796\ttest: 0.2500493\tbest: 0.2500493 (35)\ttotal: 47.5s\tremaining: 21m 12s\n",
      "36:\tlearn: 0.2441620\ttest: 0.2441315\tbest: 0.2441315 (36)\ttotal: 48.4s\tremaining: 20m 58s\n",
      "37:\tlearn: 0.2384901\ttest: 0.2384609\tbest: 0.2384609 (37)\ttotal: 49.5s\tremaining: 20m 52s\n",
      "38:\tlearn: 0.2329866\ttest: 0.2329589\tbest: 0.2329589 (38)\ttotal: 50.3s\tremaining: 20m 39s\n",
      "39:\tlearn: 0.2276662\ttest: 0.2276380\tbest: 0.2276380 (39)\ttotal: 51.6s\tremaining: 20m 37s\n",
      "40:\tlearn: 0.2224945\ttest: 0.2224652\tbest: 0.2224652 (40)\ttotal: 53s\tremaining: 20m 39s\n",
      "41:\tlearn: 0.2175542\ttest: 0.2175248\tbest: 0.2175248 (41)\ttotal: 54.4s\tremaining: 20m 41s\n",
      "42:\tlearn: 0.2127379\ttest: 0.2127084\tbest: 0.2127084 (42)\ttotal: 55.9s\tremaining: 20m 43s\n",
      "43:\tlearn: 0.2081174\ttest: 0.2080876\tbest: 0.2080876 (43)\ttotal: 57.6s\tremaining: 20m 52s\n",
      "44:\tlearn: 0.2036353\ttest: 0.2036048\tbest: 0.2036048 (44)\ttotal: 59.3s\tremaining: 20m 57s\n",
      "45:\tlearn: 0.1993351\ttest: 0.1993039\tbest: 0.1993039 (45)\ttotal: 1m 1s\tremaining: 21m 8s\n",
      "46:\tlearn: 0.1951671\ttest: 0.1951347\tbest: 0.1951347 (46)\ttotal: 1m 2s\tremaining: 21m 17s\n",
      "47:\tlearn: 0.1911797\ttest: 0.1911474\tbest: 0.1911474 (47)\ttotal: 1m 4s\tremaining: 21m 27s\n",
      "48:\tlearn: 0.1872959\ttest: 0.1872632\tbest: 0.1872632 (48)\ttotal: 1m 6s\tremaining: 21m 31s\n",
      "49:\tlearn: 0.1835836\ttest: 0.1835513\tbest: 0.1835513 (49)\ttotal: 1m 7s\tremaining: 21m 22s\n",
      "50:\tlearn: 0.1799605\ttest: 0.1799275\tbest: 0.1799275 (50)\ttotal: 1m 8s\tremaining: 21m 21s\n",
      "51:\tlearn: 0.1764808\ttest: 0.1764476\tbest: 0.1764476 (51)\ttotal: 1m 10s\tremaining: 21m 29s\n",
      "52:\tlearn: 0.1731126\ttest: 0.1730794\tbest: 0.1730794 (52)\ttotal: 1m 12s\tremaining: 21m 31s\n",
      "53:\tlearn: 0.1698672\ttest: 0.1698343\tbest: 0.1698343 (53)\ttotal: 1m 13s\tremaining: 21m 30s\n",
      "54:\tlearn: 0.1667516\ttest: 0.1667198\tbest: 0.1667198 (54)\ttotal: 1m 15s\tremaining: 21m 36s\n",
      "55:\tlearn: 0.1637087\ttest: 0.1636781\tbest: 0.1636781 (55)\ttotal: 1m 17s\tremaining: 21m 41s\n",
      "56:\tlearn: 0.1607666\ttest: 0.1607359\tbest: 0.1607359 (56)\ttotal: 1m 18s\tremaining: 21m 33s\n",
      "57:\tlearn: 0.1579417\ttest: 0.1579112\tbest: 0.1579112 (57)\ttotal: 1m 18s\tremaining: 21m 23s\n",
      "58:\tlearn: 0.1551949\ttest: 0.1551642\tbest: 0.1551642 (58)\ttotal: 1m 20s\tremaining: 21m 27s\n",
      "59:\tlearn: 0.1525670\ttest: 0.1525368\tbest: 0.1525368 (59)\ttotal: 1m 21s\tremaining: 21m 19s\n",
      "60:\tlearn: 0.1500323\ttest: 0.1500033\tbest: 0.1500033 (60)\ttotal: 1m 22s\tremaining: 21m 9s\n",
      "61:\tlearn: 0.1475446\ttest: 0.1475154\tbest: 0.1475154 (61)\ttotal: 1m 24s\tremaining: 21m 11s\n",
      "62:\tlearn: 0.1451684\ttest: 0.1451403\tbest: 0.1451403 (62)\ttotal: 1m 24s\tremaining: 21m 3s\n",
      "63:\tlearn: 0.1428494\ttest: 0.1428224\tbest: 0.1428224 (63)\ttotal: 1m 26s\tremaining: 20m 59s\n",
      "64:\tlearn: 0.1406027\ttest: 0.1405752\tbest: 0.1405752 (64)\ttotal: 1m 27s\tremaining: 21m 4s\n",
      "65:\tlearn: 0.1384244\ttest: 0.1383969\tbest: 0.1383969 (65)\ttotal: 1m 29s\tremaining: 21m 8s\n",
      "66:\tlearn: 0.1363468\ttest: 0.1363202\tbest: 0.1363202 (66)\ttotal: 1m 30s\tremaining: 21m\n",
      "67:\tlearn: 0.1343335\ttest: 0.1343072\tbest: 0.1343072 (67)\ttotal: 1m 31s\tremaining: 20m 58s\n",
      "68:\tlearn: 0.1323514\ttest: 0.1323247\tbest: 0.1323247 (68)\ttotal: 1m 33s\tremaining: 21m 2s\n",
      "69:\tlearn: 0.1304514\ttest: 0.1304244\tbest: 0.1304244 (69)\ttotal: 1m 34s\tremaining: 20m 55s\n",
      "70:\tlearn: 0.1286077\ttest: 0.1285804\tbest: 0.1285804 (70)\ttotal: 1m 36s\tremaining: 20m 56s\n",
      "71:\tlearn: 0.1268402\ttest: 0.1268139\tbest: 0.1268139 (71)\ttotal: 1m 36s\tremaining: 20m 46s\n",
      "72:\tlearn: 0.1250999\ttest: 0.1250736\tbest: 0.1250736 (72)\ttotal: 1m 37s\tremaining: 20m 43s\n",
      "73:\tlearn: 0.1234293\ttest: 0.1234028\tbest: 0.1234028 (73)\ttotal: 1m 38s\tremaining: 20m 36s\n",
      "74:\tlearn: 0.1217972\ttest: 0.1217704\tbest: 0.1217704 (74)\ttotal: 1m 39s\tremaining: 20m 29s\n",
      "75:\tlearn: 0.1202408\ttest: 0.1202144\tbest: 0.1202144 (75)\ttotal: 1m 41s\tremaining: 20m 31s\n",
      "76:\tlearn: 0.1187333\ttest: 0.1187071\tbest: 0.1187071 (76)\ttotal: 1m 42s\tremaining: 20m 27s\n",
      "77:\tlearn: 0.1172492\ttest: 0.1172226\tbest: 0.1172226 (77)\ttotal: 1m 44s\tremaining: 20m 30s\n",
      "78:\tlearn: 0.1158249\ttest: 0.1157983\tbest: 0.1157983 (78)\ttotal: 1m 45s\tremaining: 20m 31s\n",
      "79:\tlearn: 0.1144365\ttest: 0.1144091\tbest: 0.1144091 (79)\ttotal: 1m 47s\tremaining: 20m 34s\n",
      "80:\tlearn: 0.1130976\ttest: 0.1130702\tbest: 0.1130702 (80)\ttotal: 1m 49s\tremaining: 20m 38s\n",
      "81:\tlearn: 0.1117937\ttest: 0.1117659\tbest: 0.1117659 (81)\ttotal: 1m 50s\tremaining: 20m 41s\n",
      "82:\tlearn: 0.1105420\ttest: 0.1105147\tbest: 0.1105147 (82)\ttotal: 1m 52s\tremaining: 20m 42s\n",
      "83:\tlearn: 0.1093280\ttest: 0.1093005\tbest: 0.1093005 (83)\ttotal: 1m 53s\tremaining: 20m 36s\n",
      "84:\tlearn: 0.1081385\ttest: 0.1081106\tbest: 0.1081106 (84)\ttotal: 1m 55s\tremaining: 20m 38s\n",
      "85:\tlearn: 0.1069966\ttest: 0.1069694\tbest: 0.1069694 (85)\ttotal: 1m 56s\tremaining: 20m 38s\n",
      "86:\tlearn: 0.1058809\ttest: 0.1058537\tbest: 0.1058537 (86)\ttotal: 1m 58s\tremaining: 20m 39s\n",
      "87:\tlearn: 0.1048051\ttest: 0.1047776\tbest: 0.1047776 (87)\ttotal: 1m 59s\tremaining: 20m 33s\n",
      "88:\tlearn: 0.1037717\ttest: 0.1037453\tbest: 0.1037453 (88)\ttotal: 2m\tremaining: 20m 36s\n",
      "89:\tlearn: 0.1027654\ttest: 0.1027387\tbest: 0.1027387 (89)\ttotal: 2m 1s\tremaining: 20m 31s\n",
      "90:\tlearn: 0.1017753\ttest: 0.1017486\tbest: 0.1017486 (90)\ttotal: 2m 2s\tremaining: 20m 25s\n",
      "91:\tlearn: 0.1008260\ttest: 0.1008002\tbest: 0.1008002 (91)\ttotal: 2m 3s\tremaining: 20m 16s\n"
     ]
    },
    {
     "name": "stdout",
     "output_type": "stream",
     "text": [
      "92:\tlearn: 0.0999056\ttest: 0.0998799\tbest: 0.0998799 (92)\ttotal: 2m 4s\tremaining: 20m 12s\n",
      "93:\tlearn: 0.0989993\ttest: 0.0989737\tbest: 0.0989737 (93)\ttotal: 2m 6s\tremaining: 20m 14s\n",
      "94:\tlearn: 0.0981298\ttest: 0.0981042\tbest: 0.0981042 (94)\ttotal: 2m 7s\tremaining: 20m 15s\n",
      "95:\tlearn: 0.0972874\ttest: 0.0972621\tbest: 0.0972621 (95)\ttotal: 2m 8s\tremaining: 20m 13s\n",
      "96:\tlearn: 0.0964785\ttest: 0.0964540\tbest: 0.0964540 (96)\ttotal: 2m 9s\tremaining: 20m 5s\n",
      "97:\tlearn: 0.0956826\ttest: 0.0956591\tbest: 0.0956591 (97)\ttotal: 2m 10s\tremaining: 20m 5s\n",
      "98:\tlearn: 0.0949175\ttest: 0.0948944\tbest: 0.0948944 (98)\ttotal: 2m 11s\tremaining: 20m\n",
      "99:\tlearn: 0.0941611\ttest: 0.0941379\tbest: 0.0941379 (99)\ttotal: 2m 13s\tremaining: 19m 59s\n",
      "100:\tlearn: 0.0934393\ttest: 0.0934166\tbest: 0.0934166 (100)\ttotal: 2m 15s\tremaining: 20m 1s\n",
      "101:\tlearn: 0.0927336\ttest: 0.0927111\tbest: 0.0927111 (101)\ttotal: 2m 16s\tremaining: 20m\n",
      "102:\tlearn: 0.0920425\ttest: 0.0920198\tbest: 0.0920198 (102)\ttotal: 2m 17s\tremaining: 19m 54s\n",
      "103:\tlearn: 0.0913679\ttest: 0.0913456\tbest: 0.0913456 (103)\ttotal: 2m 18s\tremaining: 19m 56s\n",
      "104:\tlearn: 0.0907138\ttest: 0.0906915\tbest: 0.0906915 (104)\ttotal: 2m 20s\tremaining: 19m 55s\n",
      "105:\tlearn: 0.0900819\ttest: 0.0900596\tbest: 0.0900596 (105)\ttotal: 2m 22s\tremaining: 19m 58s\n",
      "106:\tlearn: 0.0894749\ttest: 0.0894530\tbest: 0.0894530 (106)\ttotal: 2m 22s\tremaining: 19m 51s\n",
      "107:\tlearn: 0.0888750\ttest: 0.0888529\tbest: 0.0888529 (107)\ttotal: 2m 24s\tremaining: 19m 52s\n",
      "108:\tlearn: 0.0882891\ttest: 0.0882668\tbest: 0.0882668 (108)\ttotal: 2m 25s\tremaining: 19m 50s\n",
      "109:\tlearn: 0.0877237\ttest: 0.0877011\tbest: 0.0877011 (109)\ttotal: 2m 27s\tremaining: 19m 52s\n",
      "110:\tlearn: 0.0871728\ttest: 0.0871501\tbest: 0.0871501 (110)\ttotal: 2m 29s\tremaining: 19m 54s\n",
      "111:\tlearn: 0.0866499\ttest: 0.0866279\tbest: 0.0866279 (111)\ttotal: 2m 29s\tremaining: 19m 46s\n",
      "112:\tlearn: 0.0861287\ttest: 0.0861067\tbest: 0.0861067 (112)\ttotal: 2m 30s\tremaining: 19m 44s\n",
      "113:\tlearn: 0.0856202\ttest: 0.0855980\tbest: 0.0855980 (113)\ttotal: 2m 32s\tremaining: 19m 44s\n",
      "114:\tlearn: 0.0851350\ttest: 0.0851130\tbest: 0.0851130 (114)\ttotal: 2m 33s\tremaining: 19m 43s\n",
      "115:\tlearn: 0.0846583\ttest: 0.0846368\tbest: 0.0846368 (115)\ttotal: 2m 34s\tremaining: 19m 39s\n",
      "116:\tlearn: 0.0842022\ttest: 0.0841814\tbest: 0.0841814 (116)\ttotal: 2m 35s\tremaining: 19m 36s\n",
      "117:\tlearn: 0.0837500\ttest: 0.0837290\tbest: 0.0837290 (117)\ttotal: 2m 36s\tremaining: 19m 31s\n",
      "118:\tlearn: 0.0833083\ttest: 0.0832872\tbest: 0.0832872 (118)\ttotal: 2m 38s\tremaining: 19m 31s\n",
      "119:\tlearn: 0.0828790\ttest: 0.0828578\tbest: 0.0828578 (119)\ttotal: 2m 40s\tremaining: 19m 33s\n",
      "120:\tlearn: 0.0824656\ttest: 0.0824449\tbest: 0.0824449 (120)\ttotal: 2m 41s\tremaining: 19m 35s\n",
      "121:\tlearn: 0.0820651\ttest: 0.0820439\tbest: 0.0820439 (121)\ttotal: 2m 42s\tremaining: 19m 32s\n",
      "122:\tlearn: 0.0816724\ttest: 0.0816511\tbest: 0.0816511 (122)\ttotal: 2m 43s\tremaining: 19m 28s\n",
      "123:\tlearn: 0.0812887\ttest: 0.0812671\tbest: 0.0812671 (123)\ttotal: 2m 45s\tremaining: 19m 26s\n",
      "124:\tlearn: 0.0809137\ttest: 0.0808921\tbest: 0.0808921 (124)\ttotal: 2m 46s\tremaining: 19m 27s\n",
      "125:\tlearn: 0.0805549\ttest: 0.0805333\tbest: 0.0805333 (125)\ttotal: 2m 48s\tremaining: 19m 29s\n",
      "126:\tlearn: 0.0802095\ttest: 0.0801883\tbest: 0.0801883 (126)\ttotal: 2m 49s\tremaining: 19m 23s\n",
      "127:\tlearn: 0.0798627\ttest: 0.0798416\tbest: 0.0798416 (127)\ttotal: 2m 50s\tremaining: 19m 23s\n",
      "128:\tlearn: 0.0795302\ttest: 0.0795097\tbest: 0.0795097 (128)\ttotal: 2m 52s\tremaining: 19m 23s\n",
      "129:\tlearn: 0.0792064\ttest: 0.0791860\tbest: 0.0791860 (129)\ttotal: 2m 54s\tremaining: 19m 25s\n",
      "130:\tlearn: 0.0788895\ttest: 0.0788695\tbest: 0.0788695 (130)\ttotal: 2m 55s\tremaining: 19m 22s\n",
      "131:\tlearn: 0.0785829\ttest: 0.0785626\tbest: 0.0785626 (131)\ttotal: 2m 57s\tremaining: 19m 23s\n",
      "132:\tlearn: 0.0782839\ttest: 0.0782639\tbest: 0.0782639 (132)\ttotal: 2m 58s\tremaining: 19m 23s\n",
      "133:\tlearn: 0.0779921\ttest: 0.0779722\tbest: 0.0779722 (133)\ttotal: 3m\tremaining: 19m 24s\n",
      "134:\tlearn: 0.0777085\ttest: 0.0776886\tbest: 0.0776886 (134)\ttotal: 3m 1s\tremaining: 19m 22s\n",
      "135:\tlearn: 0.0774350\ttest: 0.0774157\tbest: 0.0774157 (135)\ttotal: 3m 2s\tremaining: 19m 17s\n",
      "136:\tlearn: 0.0771658\ttest: 0.0771465\tbest: 0.0771465 (136)\ttotal: 3m 3s\tremaining: 19m 15s\n",
      "137:\tlearn: 0.0769056\ttest: 0.0768864\tbest: 0.0768864 (137)\ttotal: 3m 4s\tremaining: 19m 13s\n",
      "138:\tlearn: 0.0766533\ttest: 0.0766345\tbest: 0.0766345 (138)\ttotal: 3m 6s\tremaining: 19m 14s\n",
      "139:\tlearn: 0.0764022\ttest: 0.0763833\tbest: 0.0763833 (139)\ttotal: 3m 7s\tremaining: 19m 13s\n",
      "140:\tlearn: 0.0761647\ttest: 0.0761463\tbest: 0.0761463 (140)\ttotal: 3m 8s\tremaining: 19m 7s\n",
      "141:\tlearn: 0.0759265\ttest: 0.0759081\tbest: 0.0759081 (141)\ttotal: 3m 10s\tremaining: 19m 8s\n",
      "142:\tlearn: 0.0756938\ttest: 0.0756754\tbest: 0.0756754 (142)\ttotal: 3m 11s\tremaining: 19m 10s\n",
      "143:\tlearn: 0.0754681\ttest: 0.0754494\tbest: 0.0754494 (143)\ttotal: 3m 13s\tremaining: 19m 8s\n",
      "144:\tlearn: 0.0752491\ttest: 0.0752301\tbest: 0.0752301 (144)\ttotal: 3m 14s\tremaining: 19m 4s\n",
      "145:\tlearn: 0.0750331\ttest: 0.0750142\tbest: 0.0750142 (145)\ttotal: 3m 15s\tremaining: 19m 3s\n",
      "146:\tlearn: 0.0748290\ttest: 0.0748107\tbest: 0.0748107 (146)\ttotal: 3m 16s\tremaining: 19m\n",
      "147:\tlearn: 0.0746257\ttest: 0.0746077\tbest: 0.0746077 (147)\ttotal: 3m 17s\tremaining: 18m 58s\n",
      "148:\tlearn: 0.0744274\ttest: 0.0744092\tbest: 0.0744092 (148)\ttotal: 3m 19s\tremaining: 18m 57s\n",
      "149:\tlearn: 0.0742339\ttest: 0.0742159\tbest: 0.0742159 (149)\ttotal: 3m 20s\tremaining: 18m 55s\n",
      "150:\tlearn: 0.0740447\ttest: 0.0740265\tbest: 0.0740265 (150)\ttotal: 3m 21s\tremaining: 18m 52s\n",
      "151:\tlearn: 0.0738640\ttest: 0.0738465\tbest: 0.0738465 (151)\ttotal: 3m 22s\tremaining: 18m 49s\n",
      "152:\tlearn: 0.0736891\ttest: 0.0736719\tbest: 0.0736719 (152)\ttotal: 3m 23s\tremaining: 18m 46s\n",
      "153:\tlearn: 0.0735178\ttest: 0.0735007\tbest: 0.0735007 (153)\ttotal: 3m 25s\tremaining: 18m 46s\n",
      "154:\tlearn: 0.0733430\ttest: 0.0733258\tbest: 0.0733258 (154)\ttotal: 3m 26s\tremaining: 18m 47s\n",
      "155:\tlearn: 0.0731767\ttest: 0.0731595\tbest: 0.0731595 (155)\ttotal: 3m 28s\tremaining: 18m 46s\n",
      "156:\tlearn: 0.0730140\ttest: 0.0729968\tbest: 0.0729968 (156)\ttotal: 3m 29s\tremaining: 18m 44s\n",
      "157:\tlearn: 0.0728533\ttest: 0.0728361\tbest: 0.0728361 (157)\ttotal: 3m 30s\tremaining: 18m 43s\n",
      "158:\tlearn: 0.0726981\ttest: 0.0726808\tbest: 0.0726808 (158)\ttotal: 3m 32s\tremaining: 18m 44s\n",
      "159:\tlearn: 0.0725507\ttest: 0.0725337\tbest: 0.0725337 (159)\ttotal: 3m 33s\tremaining: 18m 42s\n",
      "160:\tlearn: 0.0724032\ttest: 0.0723861\tbest: 0.0723861 (160)\ttotal: 3m 34s\tremaining: 18m 40s\n",
      "161:\tlearn: 0.0722607\ttest: 0.0722435\tbest: 0.0722435 (161)\ttotal: 3m 35s\tremaining: 18m 35s\n",
      "162:\tlearn: 0.0721235\ttest: 0.0721067\tbest: 0.0721067 (162)\ttotal: 3m 36s\tremaining: 18m 32s\n",
      "163:\tlearn: 0.0719889\ttest: 0.0719727\tbest: 0.0719727 (163)\ttotal: 3m 37s\tremaining: 18m 28s\n",
      "164:\tlearn: 0.0718566\ttest: 0.0718401\tbest: 0.0718401 (164)\ttotal: 3m 39s\tremaining: 18m 28s\n",
      "165:\tlearn: 0.0717262\ttest: 0.0717095\tbest: 0.0717095 (165)\ttotal: 3m 40s\tremaining: 18m 29s\n",
      "166:\tlearn: 0.0716035\ttest: 0.0715873\tbest: 0.0715873 (166)\ttotal: 3m 41s\tremaining: 18m 25s\n",
      "167:\tlearn: 0.0714788\ttest: 0.0714621\tbest: 0.0714621 (167)\ttotal: 3m 43s\tremaining: 18m 26s\n",
      "168:\tlearn: 0.0713578\ttest: 0.0713410\tbest: 0.0713410 (168)\ttotal: 3m 44s\tremaining: 18m 24s\n",
      "169:\tlearn: 0.0712420\ttest: 0.0712255\tbest: 0.0712255 (169)\ttotal: 3m 45s\tremaining: 18m 21s\n",
      "170:\tlearn: 0.0711262\ttest: 0.0711098\tbest: 0.0711098 (170)\ttotal: 3m 47s\tremaining: 18m 20s\n",
      "171:\tlearn: 0.0710148\ttest: 0.0709984\tbest: 0.0709984 (171)\ttotal: 3m 48s\tremaining: 18m 21s\n",
      "172:\tlearn: 0.0709048\ttest: 0.0708879\tbest: 0.0708879 (172)\ttotal: 3m 50s\tremaining: 18m 21s\n",
      "173:\tlearn: 0.0707979\ttest: 0.0707806\tbest: 0.0707806 (173)\ttotal: 3m 51s\tremaining: 18m 17s\n",
      "174:\tlearn: 0.0706949\ttest: 0.0706775\tbest: 0.0706775 (174)\ttotal: 3m 51s\tremaining: 18m 13s\n",
      "175:\tlearn: 0.0705918\ttest: 0.0705744\tbest: 0.0705744 (175)\ttotal: 3m 53s\tremaining: 18m 12s\n",
      "176:\tlearn: 0.0704899\ttest: 0.0704724\tbest: 0.0704724 (176)\ttotal: 3m 55s\tremaining: 18m 12s\n",
      "177:\tlearn: 0.0703934\ttest: 0.0703761\tbest: 0.0703761 (177)\ttotal: 3m 56s\tremaining: 18m 11s\n",
      "178:\tlearn: 0.0703012\ttest: 0.0702844\tbest: 0.0702844 (178)\ttotal: 3m 57s\tremaining: 18m 9s\n",
      "179:\tlearn: 0.0702066\ttest: 0.0701895\tbest: 0.0701895 (179)\ttotal: 3m 59s\tremaining: 18m 9s\n",
      "180:\tlearn: 0.0701186\ttest: 0.0701019\tbest: 0.0701019 (180)\ttotal: 3m 59s\tremaining: 18m 5s\n"
     ]
    },
    {
     "name": "stdout",
     "output_type": "stream",
     "text": [
      "181:\tlearn: 0.0700315\ttest: 0.0700148\tbest: 0.0700148 (181)\ttotal: 4m\tremaining: 18m 2s\n",
      "182:\tlearn: 0.0699475\ttest: 0.0699308\tbest: 0.0699308 (182)\ttotal: 4m 1s\tremaining: 18m\n",
      "183:\tlearn: 0.0698633\ttest: 0.0698467\tbest: 0.0698467 (183)\ttotal: 4m 3s\tremaining: 18m\n",
      "184:\tlearn: 0.0697837\ttest: 0.0697675\tbest: 0.0697675 (184)\ttotal: 4m 4s\tremaining: 17m 57s\n",
      "185:\tlearn: 0.0697038\ttest: 0.0696878\tbest: 0.0696878 (185)\ttotal: 4m 5s\tremaining: 17m 55s\n",
      "186:\tlearn: 0.0696222\ttest: 0.0696060\tbest: 0.0696060 (186)\ttotal: 4m 7s\tremaining: 17m 55s\n",
      "187:\tlearn: 0.0695445\ttest: 0.0695285\tbest: 0.0695285 (187)\ttotal: 4m 8s\tremaining: 17m 53s\n",
      "188:\tlearn: 0.0694721\ttest: 0.0694560\tbest: 0.0694560 (188)\ttotal: 4m 9s\tremaining: 17m 51s\n",
      "189:\tlearn: 0.0694006\ttest: 0.0693847\tbest: 0.0693847 (189)\ttotal: 4m 10s\tremaining: 17m 49s\n",
      "190:\tlearn: 0.0693305\ttest: 0.0693145\tbest: 0.0693145 (190)\ttotal: 4m 11s\tremaining: 17m 46s\n",
      "191:\tlearn: 0.0692609\ttest: 0.0692446\tbest: 0.0692446 (191)\ttotal: 4m 12s\tremaining: 17m 42s\n",
      "192:\tlearn: 0.0691924\ttest: 0.0691761\tbest: 0.0691761 (192)\ttotal: 4m 14s\tremaining: 17m 42s\n",
      "193:\tlearn: 0.0691262\ttest: 0.0691102\tbest: 0.0691102 (193)\ttotal: 4m 15s\tremaining: 17m 40s\n",
      "194:\tlearn: 0.0690628\ttest: 0.0690469\tbest: 0.0690469 (194)\ttotal: 4m 16s\tremaining: 17m 40s\n",
      "195:\tlearn: 0.0690014\ttest: 0.0689855\tbest: 0.0689855 (195)\ttotal: 4m 18s\tremaining: 17m 38s\n",
      "196:\tlearn: 0.0689396\ttest: 0.0689239\tbest: 0.0689239 (196)\ttotal: 4m 19s\tremaining: 17m 37s\n",
      "197:\tlearn: 0.0688781\ttest: 0.0688622\tbest: 0.0688622 (197)\ttotal: 4m 20s\tremaining: 17m 36s\n",
      "198:\tlearn: 0.0688207\ttest: 0.0688049\tbest: 0.0688049 (198)\ttotal: 4m 21s\tremaining: 17m 33s\n",
      "199:\tlearn: 0.0687631\ttest: 0.0687474\tbest: 0.0687474 (199)\ttotal: 4m 23s\tremaining: 17m 32s\n",
      "200:\tlearn: 0.0687062\ttest: 0.0686907\tbest: 0.0686907 (200)\ttotal: 4m 24s\tremaining: 17m 31s\n",
      "201:\tlearn: 0.0686496\ttest: 0.0686342\tbest: 0.0686342 (201)\ttotal: 4m 26s\tremaining: 17m 31s\n",
      "202:\tlearn: 0.0685958\ttest: 0.0685807\tbest: 0.0685807 (202)\ttotal: 4m 28s\tremaining: 17m 32s\n",
      "203:\tlearn: 0.0685450\ttest: 0.0685303\tbest: 0.0685303 (203)\ttotal: 4m 29s\tremaining: 17m 30s\n",
      "204:\tlearn: 0.0684938\ttest: 0.0684787\tbest: 0.0684787 (204)\ttotal: 4m 30s\tremaining: 17m 27s\n",
      "205:\tlearn: 0.0684437\ttest: 0.0684287\tbest: 0.0684287 (205)\ttotal: 4m 30s\tremaining: 17m 23s\n",
      "206:\tlearn: 0.0683926\ttest: 0.0683776\tbest: 0.0683776 (206)\ttotal: 4m 32s\tremaining: 17m 22s\n",
      "207:\tlearn: 0.0683446\ttest: 0.0683296\tbest: 0.0683296 (207)\ttotal: 4m 33s\tremaining: 17m 21s\n",
      "208:\tlearn: 0.0682965\ttest: 0.0682813\tbest: 0.0682813 (208)\ttotal: 4m 34s\tremaining: 17m 19s\n",
      "209:\tlearn: 0.0682499\ttest: 0.0682342\tbest: 0.0682342 (209)\ttotal: 4m 36s\tremaining: 17m 19s\n",
      "210:\tlearn: 0.0682043\ttest: 0.0681887\tbest: 0.0681887 (210)\ttotal: 4m 37s\tremaining: 17m 19s\n",
      "211:\tlearn: 0.0681600\ttest: 0.0681445\tbest: 0.0681445 (211)\ttotal: 4m 39s\tremaining: 17m 18s\n",
      "212:\tlearn: 0.0681169\ttest: 0.0681010\tbest: 0.0681010 (212)\ttotal: 4m 40s\tremaining: 17m 15s\n",
      "213:\tlearn: 0.0680748\ttest: 0.0680587\tbest: 0.0680587 (213)\ttotal: 4m 41s\tremaining: 17m 13s\n",
      "214:\tlearn: 0.0680340\ttest: 0.0680177\tbest: 0.0680177 (214)\ttotal: 4m 43s\tremaining: 17m 13s\n",
      "215:\tlearn: 0.0679949\ttest: 0.0679792\tbest: 0.0679792 (215)\ttotal: 4m 44s\tremaining: 17m 13s\n",
      "216:\tlearn: 0.0679547\ttest: 0.0679390\tbest: 0.0679390 (216)\ttotal: 4m 46s\tremaining: 17m 12s\n",
      "217:\tlearn: 0.0679171\ttest: 0.0679016\tbest: 0.0679016 (217)\ttotal: 4m 47s\tremaining: 17m 9s\n",
      "218:\tlearn: 0.0678794\ttest: 0.0678639\tbest: 0.0678639 (218)\ttotal: 4m 48s\tremaining: 17m 10s\n",
      "219:\tlearn: 0.0678402\ttest: 0.0678247\tbest: 0.0678247 (219)\ttotal: 4m 50s\tremaining: 17m 10s\n",
      "220:\tlearn: 0.0678036\ttest: 0.0677882\tbest: 0.0677882 (220)\ttotal: 4m 52s\tremaining: 17m 9s\n",
      "221:\tlearn: 0.0677698\ttest: 0.0677545\tbest: 0.0677545 (221)\ttotal: 4m 53s\tremaining: 17m 7s\n",
      "222:\tlearn: 0.0677341\ttest: 0.0677185\tbest: 0.0677185 (222)\ttotal: 4m 54s\tremaining: 17m 7s\n",
      "223:\tlearn: 0.0677006\ttest: 0.0676853\tbest: 0.0676853 (223)\ttotal: 4m 56s\tremaining: 17m 5s\n",
      "224:\tlearn: 0.0676674\ttest: 0.0676523\tbest: 0.0676523 (224)\ttotal: 4m 57s\tremaining: 17m 5s\n",
      "225:\tlearn: 0.0676351\ttest: 0.0676196\tbest: 0.0676196 (225)\ttotal: 4m 59s\tremaining: 17m 4s\n",
      "226:\tlearn: 0.0676036\ttest: 0.0675880\tbest: 0.0675880 (226)\ttotal: 5m\tremaining: 17m 3s\n",
      "227:\tlearn: 0.0675723\ttest: 0.0675565\tbest: 0.0675565 (227)\ttotal: 5m 1s\tremaining: 17m 2s\n",
      "228:\tlearn: 0.0675435\ttest: 0.0675281\tbest: 0.0675281 (228)\ttotal: 5m 3s\tremaining: 17m\n",
      "229:\tlearn: 0.0675136\ttest: 0.0674980\tbest: 0.0674980 (229)\ttotal: 5m 4s\tremaining: 16m 59s\n",
      "230:\tlearn: 0.0674839\ttest: 0.0674682\tbest: 0.0674682 (230)\ttotal: 5m 6s\tremaining: 16m 59s\n",
      "231:\tlearn: 0.0674559\ttest: 0.0674403\tbest: 0.0674403 (231)\ttotal: 5m 7s\tremaining: 16m 58s\n",
      "232:\tlearn: 0.0674274\ttest: 0.0674115\tbest: 0.0674115 (232)\ttotal: 5m 9s\tremaining: 16m 58s\n",
      "233:\tlearn: 0.0674001\ttest: 0.0673844\tbest: 0.0673844 (233)\ttotal: 5m 11s\tremaining: 16m 58s\n",
      "234:\tlearn: 0.0673745\ttest: 0.0673589\tbest: 0.0673589 (234)\ttotal: 5m 12s\tremaining: 16m 56s\n",
      "235:\tlearn: 0.0673499\ttest: 0.0673345\tbest: 0.0673345 (235)\ttotal: 5m 12s\tremaining: 16m 52s\n",
      "236:\tlearn: 0.0673243\ttest: 0.0673090\tbest: 0.0673090 (236)\ttotal: 5m 14s\tremaining: 16m 53s\n",
      "237:\tlearn: 0.0672998\ttest: 0.0672845\tbest: 0.0672845 (237)\ttotal: 5m 15s\tremaining: 16m 50s\n",
      "238:\tlearn: 0.0672740\ttest: 0.0672589\tbest: 0.0672589 (238)\ttotal: 5m 17s\tremaining: 16m 50s\n",
      "239:\tlearn: 0.0672492\ttest: 0.0672339\tbest: 0.0672339 (239)\ttotal: 5m 19s\tremaining: 16m 50s\n",
      "240:\tlearn: 0.0672252\ttest: 0.0672099\tbest: 0.0672099 (240)\ttotal: 5m 20s\tremaining: 16m 49s\n",
      "241:\tlearn: 0.0672011\ttest: 0.0671855\tbest: 0.0671855 (241)\ttotal: 5m 22s\tremaining: 16m 48s\n",
      "242:\tlearn: 0.0671777\ttest: 0.0671625\tbest: 0.0671625 (242)\ttotal: 5m 23s\tremaining: 16m 48s\n",
      "243:\tlearn: 0.0671567\ttest: 0.0671415\tbest: 0.0671415 (243)\ttotal: 5m 24s\tremaining: 16m 46s\n",
      "244:\tlearn: 0.0671352\ttest: 0.0671200\tbest: 0.0671200 (244)\ttotal: 5m 26s\tremaining: 16m 45s\n",
      "245:\tlearn: 0.0671137\ttest: 0.0670981\tbest: 0.0670981 (245)\ttotal: 5m 27s\tremaining: 16m 45s\n",
      "246:\tlearn: 0.0670934\ttest: 0.0670779\tbest: 0.0670779 (246)\ttotal: 5m 28s\tremaining: 16m 42s\n",
      "247:\tlearn: 0.0670727\ttest: 0.0670569\tbest: 0.0670569 (247)\ttotal: 5m 30s\tremaining: 16m 40s\n",
      "248:\tlearn: 0.0670519\ttest: 0.0670360\tbest: 0.0670360 (248)\ttotal: 5m 31s\tremaining: 16m 40s\n",
      "249:\tlearn: 0.0670327\ttest: 0.0670166\tbest: 0.0670166 (249)\ttotal: 5m 32s\tremaining: 16m 38s\n",
      "250:\tlearn: 0.0670142\ttest: 0.0669980\tbest: 0.0669980 (250)\ttotal: 5m 34s\tremaining: 16m 37s\n",
      "251:\tlearn: 0.0669952\ttest: 0.0669793\tbest: 0.0669793 (251)\ttotal: 5m 35s\tremaining: 16m 35s\n",
      "252:\tlearn: 0.0669771\ttest: 0.0669611\tbest: 0.0669611 (252)\ttotal: 5m 36s\tremaining: 16m 33s\n",
      "253:\tlearn: 0.0669593\ttest: 0.0669430\tbest: 0.0669430 (253)\ttotal: 5m 38s\tremaining: 16m 33s\n",
      "254:\tlearn: 0.0669420\ttest: 0.0669256\tbest: 0.0669256 (254)\ttotal: 5m 39s\tremaining: 16m 30s\n",
      "255:\tlearn: 0.0669255\ttest: 0.0669092\tbest: 0.0669092 (255)\ttotal: 5m 39s\tremaining: 16m 28s\n",
      "256:\tlearn: 0.0669097\ttest: 0.0668933\tbest: 0.0668933 (256)\ttotal: 5m 40s\tremaining: 16m 24s\n",
      "257:\tlearn: 0.0668928\ttest: 0.0668764\tbest: 0.0668764 (257)\ttotal: 5m 42s\tremaining: 16m 24s\n",
      "258:\tlearn: 0.0668782\ttest: 0.0668619\tbest: 0.0668619 (258)\ttotal: 5m 43s\tremaining: 16m 21s\n",
      "259:\tlearn: 0.0668623\ttest: 0.0668461\tbest: 0.0668461 (259)\ttotal: 5m 44s\tremaining: 16m 21s\n",
      "260:\tlearn: 0.0668470\ttest: 0.0668308\tbest: 0.0668308 (260)\ttotal: 5m 46s\tremaining: 16m 20s\n",
      "261:\tlearn: 0.0668332\ttest: 0.0668171\tbest: 0.0668171 (261)\ttotal: 5m 47s\tremaining: 16m 18s\n",
      "262:\tlearn: 0.0668177\ttest: 0.0668014\tbest: 0.0668014 (262)\ttotal: 5m 49s\tremaining: 16m 18s\n",
      "263:\tlearn: 0.0668039\ttest: 0.0667876\tbest: 0.0667876 (263)\ttotal: 5m 50s\tremaining: 16m 16s\n",
      "264:\tlearn: 0.0667888\ttest: 0.0667724\tbest: 0.0667724 (264)\ttotal: 5m 51s\tremaining: 16m 16s\n",
      "265:\tlearn: 0.0667752\ttest: 0.0667589\tbest: 0.0667589 (265)\ttotal: 5m 52s\tremaining: 16m 13s\n",
      "266:\tlearn: 0.0667614\ttest: 0.0667451\tbest: 0.0667451 (266)\ttotal: 5m 54s\tremaining: 16m 12s\n",
      "267:\tlearn: 0.0667481\ttest: 0.0667319\tbest: 0.0667319 (267)\ttotal: 5m 55s\tremaining: 16m 12s\n",
      "268:\tlearn: 0.0667349\ttest: 0.0667186\tbest: 0.0667186 (268)\ttotal: 5m 57s\tremaining: 16m 10s\n",
      "269:\tlearn: 0.0667224\ttest: 0.0667061\tbest: 0.0667061 (269)\ttotal: 5m 58s\tremaining: 16m 10s\n"
     ]
    },
    {
     "name": "stdout",
     "output_type": "stream",
     "text": [
      "270:\tlearn: 0.0667102\ttest: 0.0666937\tbest: 0.0666937 (270)\ttotal: 5m 59s\tremaining: 16m 7s\n",
      "271:\tlearn: 0.0666982\ttest: 0.0666820\tbest: 0.0666820 (271)\ttotal: 6m 1s\tremaining: 16m 6s\n",
      "272:\tlearn: 0.0666859\ttest: 0.0666700\tbest: 0.0666700 (272)\ttotal: 6m 2s\tremaining: 16m 6s\n",
      "273:\tlearn: 0.0666755\ttest: 0.0666596\tbest: 0.0666596 (273)\ttotal: 6m 3s\tremaining: 16m 2s\n",
      "274:\tlearn: 0.0666637\ttest: 0.0666478\tbest: 0.0666478 (274)\ttotal: 6m 5s\tremaining: 16m 2s\n",
      "275:\tlearn: 0.0666518\ttest: 0.0666361\tbest: 0.0666361 (275)\ttotal: 6m 6s\tremaining: 16m 1s\n",
      "276:\tlearn: 0.0666417\ttest: 0.0666261\tbest: 0.0666261 (276)\ttotal: 6m 7s\tremaining: 16m\n",
      "277:\tlearn: 0.0666312\ttest: 0.0666155\tbest: 0.0666155 (277)\ttotal: 6m 8s\tremaining: 15m 57s\n",
      "278:\tlearn: 0.0666204\ttest: 0.0666049\tbest: 0.0666049 (278)\ttotal: 6m 10s\tremaining: 15m 57s\n",
      "279:\tlearn: 0.0666101\ttest: 0.0665946\tbest: 0.0665946 (279)\ttotal: 6m 12s\tremaining: 15m 57s\n",
      "280:\tlearn: 0.0665998\ttest: 0.0665840\tbest: 0.0665840 (280)\ttotal: 6m 13s\tremaining: 15m 56s\n",
      "281:\tlearn: 0.0665903\ttest: 0.0665746\tbest: 0.0665746 (281)\ttotal: 6m 14s\tremaining: 15m 53s\n",
      "282:\tlearn: 0.0665806\ttest: 0.0665649\tbest: 0.0665649 (282)\ttotal: 6m 15s\tremaining: 15m 52s\n",
      "283:\tlearn: 0.0665716\ttest: 0.0665559\tbest: 0.0665559 (283)\ttotal: 6m 16s\tremaining: 15m 49s\n",
      "284:\tlearn: 0.0665627\ttest: 0.0665470\tbest: 0.0665470 (284)\ttotal: 6m 17s\tremaining: 15m 48s\n",
      "285:\tlearn: 0.0665540\ttest: 0.0665386\tbest: 0.0665386 (285)\ttotal: 6m 18s\tremaining: 15m 46s\n",
      "286:\tlearn: 0.0665450\ttest: 0.0665294\tbest: 0.0665294 (286)\ttotal: 6m 20s\tremaining: 15m 45s\n",
      "287:\tlearn: 0.0665357\ttest: 0.0665203\tbest: 0.0665203 (287)\ttotal: 6m 22s\tremaining: 15m 44s\n",
      "288:\tlearn: 0.0665270\ttest: 0.0665119\tbest: 0.0665119 (288)\ttotal: 6m 23s\tremaining: 15m 44s\n",
      "289:\tlearn: 0.0665183\ttest: 0.0665032\tbest: 0.0665032 (289)\ttotal: 6m 25s\tremaining: 15m 43s\n",
      "290:\tlearn: 0.0665106\ttest: 0.0664955\tbest: 0.0664955 (290)\ttotal: 6m 26s\tremaining: 15m 41s\n",
      "291:\tlearn: 0.0665024\ttest: 0.0664873\tbest: 0.0664873 (291)\ttotal: 6m 27s\tremaining: 15m 40s\n",
      "292:\tlearn: 0.0664938\ttest: 0.0664788\tbest: 0.0664788 (292)\ttotal: 6m 29s\tremaining: 15m 39s\n",
      "293:\tlearn: 0.0664861\ttest: 0.0664713\tbest: 0.0664713 (293)\ttotal: 6m 30s\tremaining: 15m 38s\n",
      "294:\tlearn: 0.0664791\ttest: 0.0664646\tbest: 0.0664646 (294)\ttotal: 6m 31s\tremaining: 15m 35s\n",
      "295:\tlearn: 0.0664720\ttest: 0.0664575\tbest: 0.0664575 (295)\ttotal: 6m 32s\tremaining: 15m 34s\n",
      "296:\tlearn: 0.0664649\ttest: 0.0664507\tbest: 0.0664507 (296)\ttotal: 6m 33s\tremaining: 15m 32s\n",
      "297:\tlearn: 0.0664580\ttest: 0.0664438\tbest: 0.0664438 (297)\ttotal: 6m 34s\tremaining: 15m 30s\n",
      "298:\tlearn: 0.0664514\ttest: 0.0664370\tbest: 0.0664370 (298)\ttotal: 6m 35s\tremaining: 15m 27s\n",
      "299:\tlearn: 0.0664448\ttest: 0.0664306\tbest: 0.0664306 (299)\ttotal: 6m 37s\tremaining: 15m 26s\n",
      "300:\tlearn: 0.0664380\ttest: 0.0664239\tbest: 0.0664239 (300)\ttotal: 6m 38s\tremaining: 15m 25s\n",
      "301:\tlearn: 0.0664322\ttest: 0.0664183\tbest: 0.0664183 (301)\ttotal: 6m 38s\tremaining: 15m 21s\n",
      "302:\tlearn: 0.0664252\ttest: 0.0664112\tbest: 0.0664112 (302)\ttotal: 6m 40s\tremaining: 15m 20s\n",
      "303:\tlearn: 0.0664185\ttest: 0.0664046\tbest: 0.0664046 (303)\ttotal: 6m 41s\tremaining: 15m 19s\n",
      "304:\tlearn: 0.0664115\ttest: 0.0663976\tbest: 0.0663976 (304)\ttotal: 6m 43s\tremaining: 15m 19s\n",
      "305:\tlearn: 0.0664050\ttest: 0.0663911\tbest: 0.0663911 (305)\ttotal: 6m 44s\tremaining: 15m 18s\n",
      "306:\tlearn: 0.0663992\ttest: 0.0663850\tbest: 0.0663850 (306)\ttotal: 6m 45s\tremaining: 15m 15s\n",
      "307:\tlearn: 0.0663930\ttest: 0.0663787\tbest: 0.0663787 (307)\ttotal: 6m 46s\tremaining: 15m 13s\n",
      "308:\tlearn: 0.0663877\ttest: 0.0663735\tbest: 0.0663735 (308)\ttotal: 6m 47s\tremaining: 15m 11s\n",
      "309:\tlearn: 0.0663823\ttest: 0.0663680\tbest: 0.0663680 (309)\ttotal: 6m 49s\tremaining: 15m 10s\n",
      "310:\tlearn: 0.0663767\ttest: 0.0663621\tbest: 0.0663621 (310)\ttotal: 6m 50s\tremaining: 15m 10s\n",
      "311:\tlearn: 0.0663715\ttest: 0.0663568\tbest: 0.0663568 (311)\ttotal: 6m 52s\tremaining: 15m 8s\n",
      "312:\tlearn: 0.0663658\ttest: 0.0663509\tbest: 0.0663509 (312)\ttotal: 6m 53s\tremaining: 15m 7s\n",
      "313:\tlearn: 0.0663608\ttest: 0.0663459\tbest: 0.0663459 (313)\ttotal: 6m 54s\tremaining: 15m 4s\n",
      "314:\tlearn: 0.0663562\ttest: 0.0663413\tbest: 0.0663413 (314)\ttotal: 6m 54s\tremaining: 15m 1s\n",
      "315:\tlearn: 0.0663500\ttest: 0.0663352\tbest: 0.0663352 (315)\ttotal: 6m 56s\tremaining: 15m 1s\n",
      "316:\tlearn: 0.0663452\ttest: 0.0663305\tbest: 0.0663305 (316)\ttotal: 6m 57s\tremaining: 14m 59s\n",
      "317:\tlearn: 0.0663398\ttest: 0.0663251\tbest: 0.0663251 (317)\ttotal: 6m 59s\tremaining: 14m 58s\n",
      "318:\tlearn: 0.0663342\ttest: 0.0663196\tbest: 0.0663196 (318)\ttotal: 7m\tremaining: 14m 57s\n",
      "319:\tlearn: 0.0663292\ttest: 0.0663147\tbest: 0.0663147 (319)\ttotal: 7m 2s\tremaining: 14m 56s\n",
      "320:\tlearn: 0.0663245\ttest: 0.0663101\tbest: 0.0663101 (320)\ttotal: 7m 3s\tremaining: 14m 55s\n",
      "321:\tlearn: 0.0663201\ttest: 0.0663057\tbest: 0.0663057 (321)\ttotal: 7m 5s\tremaining: 14m 54s\n",
      "322:\tlearn: 0.0663163\ttest: 0.0663020\tbest: 0.0663020 (322)\ttotal: 7m 5s\tremaining: 14m 52s\n",
      "323:\tlearn: 0.0663127\ttest: 0.0662984\tbest: 0.0662984 (323)\ttotal: 7m 6s\tremaining: 14m 50s\n",
      "324:\tlearn: 0.0663087\ttest: 0.0662944\tbest: 0.0662944 (324)\ttotal: 7m 8s\tremaining: 14m 49s\n",
      "325:\tlearn: 0.0663045\ttest: 0.0662903\tbest: 0.0662903 (325)\ttotal: 7m 9s\tremaining: 14m 48s\n",
      "326:\tlearn: 0.0663008\ttest: 0.0662866\tbest: 0.0662866 (326)\ttotal: 7m 11s\tremaining: 14m 47s\n",
      "327:\tlearn: 0.0662965\ttest: 0.0662822\tbest: 0.0662822 (327)\ttotal: 7m 12s\tremaining: 14m 45s\n",
      "328:\tlearn: 0.0662926\ttest: 0.0662785\tbest: 0.0662785 (328)\ttotal: 7m 13s\tremaining: 14m 45s\n",
      "329:\tlearn: 0.0662890\ttest: 0.0662750\tbest: 0.0662750 (329)\ttotal: 7m 15s\tremaining: 14m 43s\n",
      "330:\tlearn: 0.0662852\ttest: 0.0662715\tbest: 0.0662715 (330)\ttotal: 7m 16s\tremaining: 14m 42s\n",
      "331:\tlearn: 0.0662807\ttest: 0.0662671\tbest: 0.0662671 (331)\ttotal: 7m 18s\tremaining: 14m 42s\n",
      "332:\tlearn: 0.0662770\ttest: 0.0662634\tbest: 0.0662634 (332)\ttotal: 7m 19s\tremaining: 14m 40s\n",
      "333:\tlearn: 0.0662734\ttest: 0.0662598\tbest: 0.0662598 (333)\ttotal: 7m 20s\tremaining: 14m 39s\n",
      "334:\tlearn: 0.0662697\ttest: 0.0662563\tbest: 0.0662563 (334)\ttotal: 7m 22s\tremaining: 14m 38s\n",
      "335:\tlearn: 0.0662659\ttest: 0.0662526\tbest: 0.0662526 (335)\ttotal: 7m 23s\tremaining: 14m 36s\n",
      "336:\tlearn: 0.0662621\ttest: 0.0662487\tbest: 0.0662487 (336)\ttotal: 7m 25s\tremaining: 14m 36s\n",
      "337:\tlearn: 0.0662588\ttest: 0.0662453\tbest: 0.0662453 (337)\ttotal: 7m 26s\tremaining: 14m 34s\n",
      "338:\tlearn: 0.0662556\ttest: 0.0662424\tbest: 0.0662424 (338)\ttotal: 7m 27s\tremaining: 14m 33s\n",
      "339:\tlearn: 0.0662521\ttest: 0.0662390\tbest: 0.0662390 (339)\ttotal: 7m 29s\tremaining: 14m 32s\n",
      "340:\tlearn: 0.0662491\ttest: 0.0662361\tbest: 0.0662361 (340)\ttotal: 7m 30s\tremaining: 14m 30s\n",
      "341:\tlearn: 0.0662460\ttest: 0.0662330\tbest: 0.0662330 (341)\ttotal: 7m 31s\tremaining: 14m 28s\n",
      "342:\tlearn: 0.0662426\ttest: 0.0662296\tbest: 0.0662296 (342)\ttotal: 7m 32s\tremaining: 14m 27s\n",
      "343:\tlearn: 0.0662399\ttest: 0.0662268\tbest: 0.0662268 (343)\ttotal: 7m 34s\tremaining: 14m 26s\n",
      "344:\tlearn: 0.0662368\ttest: 0.0662236\tbest: 0.0662236 (344)\ttotal: 7m 35s\tremaining: 14m 25s\n",
      "345:\tlearn: 0.0662335\ttest: 0.0662204\tbest: 0.0662204 (345)\ttotal: 7m 37s\tremaining: 14m 25s\n",
      "346:\tlearn: 0.0662309\ttest: 0.0662177\tbest: 0.0662177 (346)\ttotal: 7m 38s\tremaining: 14m 23s\n",
      "347:\tlearn: 0.0662282\ttest: 0.0662150\tbest: 0.0662150 (347)\ttotal: 7m 40s\tremaining: 14m 22s\n",
      "348:\tlearn: 0.0662254\ttest: 0.0662122\tbest: 0.0662122 (348)\ttotal: 7m 41s\tremaining: 14m 20s\n",
      "349:\tlearn: 0.0662223\ttest: 0.0662092\tbest: 0.0662092 (349)\ttotal: 7m 43s\tremaining: 14m 20s\n",
      "350:\tlearn: 0.0662196\ttest: 0.0662063\tbest: 0.0662063 (350)\ttotal: 7m 44s\tremaining: 14m 18s\n",
      "351:\tlearn: 0.0662167\ttest: 0.0662034\tbest: 0.0662034 (351)\ttotal: 7m 45s\tremaining: 14m 17s\n",
      "352:\tlearn: 0.0662142\ttest: 0.0662007\tbest: 0.0662007 (352)\ttotal: 7m 46s\tremaining: 14m 15s\n",
      "353:\tlearn: 0.0662118\ttest: 0.0661983\tbest: 0.0661983 (353)\ttotal: 7m 47s\tremaining: 14m 13s\n",
      "354:\tlearn: 0.0662092\ttest: 0.0661958\tbest: 0.0661958 (354)\ttotal: 7m 49s\tremaining: 14m 12s\n",
      "355:\tlearn: 0.0662069\ttest: 0.0661937\tbest: 0.0661937 (355)\ttotal: 7m 50s\tremaining: 14m 11s\n",
      "356:\tlearn: 0.0662049\ttest: 0.0661919\tbest: 0.0661919 (356)\ttotal: 7m 51s\tremaining: 14m 9s\n",
      "357:\tlearn: 0.0662022\ttest: 0.0661893\tbest: 0.0661893 (357)\ttotal: 7m 53s\tremaining: 14m 9s\n",
      "358:\tlearn: 0.0662002\ttest: 0.0661872\tbest: 0.0661872 (358)\ttotal: 7m 54s\tremaining: 14m 7s\n"
     ]
    },
    {
     "name": "stdout",
     "output_type": "stream",
     "text": [
      "359:\tlearn: 0.0661978\ttest: 0.0661850\tbest: 0.0661850 (359)\ttotal: 7m 56s\tremaining: 14m 6s\n",
      "360:\tlearn: 0.0661950\ttest: 0.0661823\tbest: 0.0661823 (360)\ttotal: 7m 57s\tremaining: 14m 5s\n",
      "361:\tlearn: 0.0661934\ttest: 0.0661808\tbest: 0.0661808 (361)\ttotal: 7m 58s\tremaining: 14m 2s\n",
      "362:\tlearn: 0.0661916\ttest: 0.0661791\tbest: 0.0661791 (362)\ttotal: 7m 59s\tremaining: 14m 1s\n",
      "363:\tlearn: 0.0661894\ttest: 0.0661769\tbest: 0.0661769 (363)\ttotal: 8m\tremaining: 14m\n",
      "364:\tlearn: 0.0661875\ttest: 0.0661749\tbest: 0.0661749 (364)\ttotal: 8m 1s\tremaining: 13m 57s\n",
      "365:\tlearn: 0.0661851\ttest: 0.0661724\tbest: 0.0661724 (365)\ttotal: 8m 2s\tremaining: 13m 56s\n",
      "366:\tlearn: 0.0661829\ttest: 0.0661704\tbest: 0.0661704 (366)\ttotal: 8m 4s\tremaining: 13m 55s\n",
      "367:\tlearn: 0.0661810\ttest: 0.0661684\tbest: 0.0661684 (367)\ttotal: 8m 5s\tremaining: 13m 54s\n",
      "368:\tlearn: 0.0661791\ttest: 0.0661666\tbest: 0.0661666 (368)\ttotal: 8m 7s\tremaining: 13m 52s\n",
      "369:\tlearn: 0.0661775\ttest: 0.0661650\tbest: 0.0661650 (369)\ttotal: 8m 7s\tremaining: 13m 50s\n",
      "370:\tlearn: 0.0661754\ttest: 0.0661629\tbest: 0.0661629 (370)\ttotal: 8m 9s\tremaining: 13m 50s\n",
      "371:\tlearn: 0.0661735\ttest: 0.0661610\tbest: 0.0661610 (371)\ttotal: 8m 11s\tremaining: 13m 49s\n",
      "372:\tlearn: 0.0661721\ttest: 0.0661597\tbest: 0.0661597 (372)\ttotal: 8m 11s\tremaining: 13m 46s\n",
      "373:\tlearn: 0.0661703\ttest: 0.0661579\tbest: 0.0661579 (373)\ttotal: 8m 13s\tremaining: 13m 45s\n",
      "374:\tlearn: 0.0661686\ttest: 0.0661561\tbest: 0.0661561 (374)\ttotal: 8m 14s\tremaining: 13m 43s\n",
      "375:\tlearn: 0.0661669\ttest: 0.0661544\tbest: 0.0661544 (375)\ttotal: 8m 15s\tremaining: 13m 42s\n",
      "376:\tlearn: 0.0661652\ttest: 0.0661527\tbest: 0.0661527 (376)\ttotal: 8m 17s\tremaining: 13m 41s\n",
      "377:\tlearn: 0.0661636\ttest: 0.0661511\tbest: 0.0661511 (377)\ttotal: 8m 18s\tremaining: 13m 39s\n",
      "378:\tlearn: 0.0661619\ttest: 0.0661494\tbest: 0.0661494 (378)\ttotal: 8m 19s\tremaining: 13m 38s\n",
      "379:\tlearn: 0.0661601\ttest: 0.0661475\tbest: 0.0661475 (379)\ttotal: 8m 20s\tremaining: 13m 37s\n",
      "380:\tlearn: 0.0661582\ttest: 0.0661458\tbest: 0.0661458 (380)\ttotal: 8m 22s\tremaining: 13m 36s\n",
      "381:\tlearn: 0.0661562\ttest: 0.0661438\tbest: 0.0661438 (381)\ttotal: 8m 24s\tremaining: 13m 35s\n",
      "382:\tlearn: 0.0661549\ttest: 0.0661426\tbest: 0.0661426 (382)\ttotal: 8m 25s\tremaining: 13m 34s\n",
      "383:\tlearn: 0.0661535\ttest: 0.0661412\tbest: 0.0661412 (383)\ttotal: 8m 26s\tremaining: 13m 33s\n",
      "384:\tlearn: 0.0661523\ttest: 0.0661399\tbest: 0.0661399 (384)\ttotal: 8m 27s\tremaining: 13m 31s\n",
      "385:\tlearn: 0.0661508\ttest: 0.0661383\tbest: 0.0661383 (385)\ttotal: 8m 29s\tremaining: 13m 29s\n",
      "386:\tlearn: 0.0661494\ttest: 0.0661370\tbest: 0.0661370 (386)\ttotal: 8m 30s\tremaining: 13m 28s\n",
      "387:\tlearn: 0.0661480\ttest: 0.0661357\tbest: 0.0661357 (387)\ttotal: 8m 31s\tremaining: 13m 26s\n",
      "388:\tlearn: 0.0661465\ttest: 0.0661341\tbest: 0.0661341 (388)\ttotal: 8m 32s\tremaining: 13m 25s\n",
      "389:\tlearn: 0.0661454\ttest: 0.0661329\tbest: 0.0661329 (389)\ttotal: 8m 33s\tremaining: 13m 23s\n",
      "390:\tlearn: 0.0661442\ttest: 0.0661319\tbest: 0.0661319 (390)\ttotal: 8m 35s\tremaining: 13m 22s\n",
      "391:\tlearn: 0.0661425\ttest: 0.0661309\tbest: 0.0661309 (391)\ttotal: 8m 36s\tremaining: 13m 21s\n",
      "392:\tlearn: 0.0661413\ttest: 0.0661297\tbest: 0.0661297 (392)\ttotal: 8m 38s\tremaining: 13m 20s\n",
      "393:\tlearn: 0.0661398\ttest: 0.0661280\tbest: 0.0661280 (393)\ttotal: 8m 40s\tremaining: 13m 19s\n",
      "394:\tlearn: 0.0661386\ttest: 0.0661269\tbest: 0.0661269 (394)\ttotal: 8m 41s\tremaining: 13m 18s\n",
      "395:\tlearn: 0.0661374\ttest: 0.0661256\tbest: 0.0661256 (395)\ttotal: 8m 42s\tremaining: 13m 16s\n",
      "396:\tlearn: 0.0661363\ttest: 0.0661246\tbest: 0.0661246 (396)\ttotal: 8m 43s\tremaining: 13m 14s\n",
      "397:\tlearn: 0.0661351\ttest: 0.0661235\tbest: 0.0661235 (397)\ttotal: 8m 45s\tremaining: 13m 14s\n",
      "398:\tlearn: 0.0661339\ttest: 0.0661222\tbest: 0.0661222 (398)\ttotal: 8m 46s\tremaining: 13m 12s\n",
      "399:\tlearn: 0.0661326\ttest: 0.0661210\tbest: 0.0661210 (399)\ttotal: 8m 48s\tremaining: 13m 12s\n",
      "400:\tlearn: 0.0661316\ttest: 0.0661201\tbest: 0.0661201 (400)\ttotal: 8m 49s\tremaining: 13m 10s\n",
      "401:\tlearn: 0.0661305\ttest: 0.0661189\tbest: 0.0661189 (401)\ttotal: 8m 50s\tremaining: 13m 8s\n",
      "402:\tlearn: 0.0661294\ttest: 0.0661179\tbest: 0.0661179 (402)\ttotal: 8m 51s\tremaining: 13m 7s\n",
      "403:\tlearn: 0.0661282\ttest: 0.0661167\tbest: 0.0661167 (403)\ttotal: 8m 53s\tremaining: 13m 6s\n",
      "404:\tlearn: 0.0661273\ttest: 0.0661159\tbest: 0.0661159 (404)\ttotal: 8m 54s\tremaining: 13m 4s\n",
      "405:\tlearn: 0.0661265\ttest: 0.0661152\tbest: 0.0661152 (405)\ttotal: 8m 55s\tremaining: 13m 3s\n",
      "406:\tlearn: 0.0661253\ttest: 0.0661143\tbest: 0.0661143 (406)\ttotal: 8m 56s\tremaining: 13m 2s\n",
      "407:\tlearn: 0.0661244\ttest: 0.0661133\tbest: 0.0661133 (407)\ttotal: 8m 58s\tremaining: 13m\n",
      "408:\tlearn: 0.0661235\ttest: 0.0661126\tbest: 0.0661126 (408)\ttotal: 8m 59s\tremaining: 12m 59s\n",
      "409:\tlearn: 0.0661225\ttest: 0.0661117\tbest: 0.0661117 (409)\ttotal: 9m 1s\tremaining: 12m 59s\n",
      "410:\tlearn: 0.0661215\ttest: 0.0661107\tbest: 0.0661107 (410)\ttotal: 9m 2s\tremaining: 12m 57s\n",
      "411:\tlearn: 0.0661205\ttest: 0.0661096\tbest: 0.0661096 (411)\ttotal: 9m 3s\tremaining: 12m 55s\n",
      "412:\tlearn: 0.0661196\ttest: 0.0661088\tbest: 0.0661088 (412)\ttotal: 9m 4s\tremaining: 12m 54s\n",
      "413:\tlearn: 0.0661187\ttest: 0.0661079\tbest: 0.0661079 (413)\ttotal: 9m 6s\tremaining: 12m 53s\n",
      "414:\tlearn: 0.0661180\ttest: 0.0661072\tbest: 0.0661072 (414)\ttotal: 9m 7s\tremaining: 12m 51s\n",
      "415:\tlearn: 0.0661171\ttest: 0.0661063\tbest: 0.0661063 (415)\ttotal: 9m 8s\tremaining: 12m 50s\n",
      "416:\tlearn: 0.0661164\ttest: 0.0661056\tbest: 0.0661056 (416)\ttotal: 9m 10s\tremaining: 12m 49s\n",
      "417:\tlearn: 0.0661157\ttest: 0.0661048\tbest: 0.0661048 (417)\ttotal: 9m 10s\tremaining: 12m 47s\n",
      "418:\tlearn: 0.0661151\ttest: 0.0661042\tbest: 0.0661042 (418)\ttotal: 9m 11s\tremaining: 12m 44s\n",
      "419:\tlearn: 0.0661142\ttest: 0.0661033\tbest: 0.0661033 (419)\ttotal: 9m 12s\tremaining: 12m 43s\n",
      "420:\tlearn: 0.0661137\ttest: 0.0661028\tbest: 0.0661028 (420)\ttotal: 9m 13s\tremaining: 12m 40s\n",
      "421:\tlearn: 0.0661127\ttest: 0.0661017\tbest: 0.0661017 (421)\ttotal: 9m 14s\tremaining: 12m 40s\n",
      "422:\tlearn: 0.0661118\ttest: 0.0661009\tbest: 0.0661009 (422)\ttotal: 9m 16s\tremaining: 12m 39s\n",
      "423:\tlearn: 0.0661109\ttest: 0.0660999\tbest: 0.0660999 (423)\ttotal: 9m 18s\tremaining: 12m 38s\n",
      "424:\tlearn: 0.0661099\ttest: 0.0660991\tbest: 0.0660991 (424)\ttotal: 9m 20s\tremaining: 12m 37s\n",
      "425:\tlearn: 0.0661094\ttest: 0.0660986\tbest: 0.0660986 (425)\ttotal: 9m 20s\tremaining: 12m 35s\n",
      "426:\tlearn: 0.0661087\ttest: 0.0660977\tbest: 0.0660977 (426)\ttotal: 9m 21s\tremaining: 12m 34s\n",
      "427:\tlearn: 0.0661079\ttest: 0.0660970\tbest: 0.0660970 (427)\ttotal: 9m 23s\tremaining: 12m 32s\n",
      "428:\tlearn: 0.0661068\ttest: 0.0660960\tbest: 0.0660960 (428)\ttotal: 9m 25s\tremaining: 12m 32s\n",
      "429:\tlearn: 0.0661059\ttest: 0.0660953\tbest: 0.0660953 (429)\ttotal: 9m 26s\tremaining: 12m 31s\n",
      "430:\tlearn: 0.0661049\ttest: 0.0660945\tbest: 0.0660945 (430)\ttotal: 9m 28s\tremaining: 12m 30s\n",
      "431:\tlearn: 0.0661042\ttest: 0.0660938\tbest: 0.0660938 (431)\ttotal: 9m 29s\tremaining: 12m 28s\n",
      "432:\tlearn: 0.0661038\ttest: 0.0660934\tbest: 0.0660934 (432)\ttotal: 9m 30s\tremaining: 12m 26s\n",
      "433:\tlearn: 0.0661029\ttest: 0.0660925\tbest: 0.0660925 (433)\ttotal: 9m 31s\tremaining: 12m 25s\n",
      "434:\tlearn: 0.0661022\ttest: 0.0660918\tbest: 0.0660918 (434)\ttotal: 9m 33s\tremaining: 12m 24s\n",
      "435:\tlearn: 0.0661017\ttest: 0.0660914\tbest: 0.0660914 (435)\ttotal: 9m 33s\tremaining: 12m 22s\n",
      "436:\tlearn: 0.0661010\ttest: 0.0660906\tbest: 0.0660906 (436)\ttotal: 9m 35s\tremaining: 12m 20s\n",
      "437:\tlearn: 0.0661004\ttest: 0.0660901\tbest: 0.0660901 (437)\ttotal: 9m 36s\tremaining: 12m 19s\n",
      "438:\tlearn: 0.0660995\ttest: 0.0660892\tbest: 0.0660892 (438)\ttotal: 9m 37s\tremaining: 12m 18s\n",
      "439:\tlearn: 0.0660989\ttest: 0.0660887\tbest: 0.0660887 (439)\ttotal: 9m 39s\tremaining: 12m 17s\n",
      "440:\tlearn: 0.0660983\ttest: 0.0660880\tbest: 0.0660880 (440)\ttotal: 9m 41s\tremaining: 12m 16s\n",
      "441:\tlearn: 0.0660977\ttest: 0.0660874\tbest: 0.0660874 (441)\ttotal: 9m 42s\tremaining: 12m 15s\n",
      "442:\tlearn: 0.0660972\ttest: 0.0660869\tbest: 0.0660869 (442)\ttotal: 9m 43s\tremaining: 12m 13s\n",
      "443:\tlearn: 0.0660966\ttest: 0.0660864\tbest: 0.0660864 (443)\ttotal: 9m 44s\tremaining: 12m 12s\n",
      "444:\tlearn: 0.0660961\ttest: 0.0660859\tbest: 0.0660859 (444)\ttotal: 9m 45s\tremaining: 12m 10s\n",
      "445:\tlearn: 0.0660957\ttest: 0.0660854\tbest: 0.0660854 (445)\ttotal: 9m 47s\tremaining: 12m 9s\n",
      "446:\tlearn: 0.0660952\ttest: 0.0660850\tbest: 0.0660850 (446)\ttotal: 9m 48s\tremaining: 12m 7s\n",
      "447:\tlearn: 0.0660947\ttest: 0.0660845\tbest: 0.0660845 (447)\ttotal: 9m 48s\tremaining: 12m 5s\n"
     ]
    },
    {
     "name": "stdout",
     "output_type": "stream",
     "text": [
      "448:\tlearn: 0.0660943\ttest: 0.0660840\tbest: 0.0660840 (448)\ttotal: 9m 50s\tremaining: 12m 4s\n",
      "449:\tlearn: 0.0660936\ttest: 0.0660833\tbest: 0.0660833 (449)\ttotal: 9m 51s\tremaining: 12m 3s\n",
      "450:\tlearn: 0.0660933\ttest: 0.0660831\tbest: 0.0660831 (450)\ttotal: 9m 52s\tremaining: 12m 1s\n",
      "451:\tlearn: 0.0660922\ttest: 0.0660826\tbest: 0.0660826 (451)\ttotal: 9m 54s\tremaining: 12m\n",
      "452:\tlearn: 0.0660917\ttest: 0.0660822\tbest: 0.0660822 (452)\ttotal: 9m 54s\tremaining: 11m 58s\n",
      "453:\tlearn: 0.0660913\ttest: 0.0660817\tbest: 0.0660817 (453)\ttotal: 9m 55s\tremaining: 11m 56s\n",
      "454:\tlearn: 0.0660908\ttest: 0.0660812\tbest: 0.0660812 (454)\ttotal: 9m 56s\tremaining: 11m 54s\n",
      "455:\tlearn: 0.0660903\ttest: 0.0660806\tbest: 0.0660806 (455)\ttotal: 9m 58s\tremaining: 11m 53s\n",
      "456:\tlearn: 0.0660896\ttest: 0.0660803\tbest: 0.0660803 (456)\ttotal: 9m 59s\tremaining: 11m 52s\n",
      "457:\tlearn: 0.0660892\ttest: 0.0660799\tbest: 0.0660799 (457)\ttotal: 10m\tremaining: 11m 51s\n",
      "458:\tlearn: 0.0660889\ttest: 0.0660797\tbest: 0.0660797 (458)\ttotal: 10m 2s\tremaining: 11m 49s\n",
      "459:\tlearn: 0.0660881\ttest: 0.0660791\tbest: 0.0660791 (459)\ttotal: 10m 3s\tremaining: 11m 48s\n",
      "460:\tlearn: 0.0660873\ttest: 0.0660785\tbest: 0.0660785 (460)\ttotal: 10m 5s\tremaining: 11m 47s\n",
      "461:\tlearn: 0.0660865\ttest: 0.0660777\tbest: 0.0660777 (461)\ttotal: 10m 6s\tremaining: 11m 46s\n",
      "462:\tlearn: 0.0660859\ttest: 0.0660771\tbest: 0.0660771 (462)\ttotal: 10m 8s\tremaining: 11m 45s\n",
      "463:\tlearn: 0.0660853\ttest: 0.0660767\tbest: 0.0660767 (463)\ttotal: 10m 9s\tremaining: 11m 44s\n",
      "464:\tlearn: 0.0660847\ttest: 0.0660761\tbest: 0.0660761 (464)\ttotal: 10m 11s\tremaining: 11m 43s\n",
      "465:\tlearn: 0.0660838\ttest: 0.0660755\tbest: 0.0660755 (465)\ttotal: 10m 13s\tremaining: 11m 42s\n",
      "466:\tlearn: 0.0660834\ttest: 0.0660751\tbest: 0.0660751 (466)\ttotal: 10m 14s\tremaining: 11m 41s\n",
      "467:\tlearn: 0.0660830\ttest: 0.0660749\tbest: 0.0660749 (467)\ttotal: 10m 15s\tremaining: 11m 40s\n",
      "468:\tlearn: 0.0660827\ttest: 0.0660747\tbest: 0.0660747 (468)\ttotal: 10m 16s\tremaining: 11m 38s\n",
      "469:\tlearn: 0.0660821\ttest: 0.0660742\tbest: 0.0660742 (469)\ttotal: 10m 18s\tremaining: 11m 37s\n",
      "470:\tlearn: 0.0660818\ttest: 0.0660740\tbest: 0.0660740 (470)\ttotal: 10m 18s\tremaining: 11m 35s\n",
      "471:\tlearn: 0.0660815\ttest: 0.0660736\tbest: 0.0660736 (471)\ttotal: 10m 19s\tremaining: 11m 33s\n",
      "472:\tlearn: 0.0660808\ttest: 0.0660732\tbest: 0.0660732 (472)\ttotal: 10m 21s\tremaining: 11m 32s\n",
      "473:\tlearn: 0.0660805\ttest: 0.0660729\tbest: 0.0660729 (473)\ttotal: 10m 22s\tremaining: 11m 30s\n",
      "474:\tlearn: 0.0660793\ttest: 0.0660723\tbest: 0.0660723 (474)\ttotal: 10m 24s\tremaining: 11m 29s\n",
      "475:\tlearn: 0.0660788\ttest: 0.0660717\tbest: 0.0660717 (475)\ttotal: 10m 25s\tremaining: 11m 28s\n",
      "476:\tlearn: 0.0660783\ttest: 0.0660714\tbest: 0.0660714 (476)\ttotal: 10m 26s\tremaining: 11m 27s\n",
      "477:\tlearn: 0.0660778\ttest: 0.0660709\tbest: 0.0660709 (477)\ttotal: 10m 28s\tremaining: 11m 26s\n",
      "478:\tlearn: 0.0660776\ttest: 0.0660708\tbest: 0.0660708 (478)\ttotal: 10m 29s\tremaining: 11m 25s\n",
      "479:\tlearn: 0.0660767\ttest: 0.0660702\tbest: 0.0660702 (479)\ttotal: 10m 31s\tremaining: 11m 23s\n",
      "480:\tlearn: 0.0660764\ttest: 0.0660698\tbest: 0.0660698 (480)\ttotal: 10m 32s\tremaining: 11m 22s\n",
      "481:\tlearn: 0.0660757\ttest: 0.0660698\tbest: 0.0660698 (481)\ttotal: 10m 34s\tremaining: 11m 21s\n",
      "482:\tlearn: 0.0660754\ttest: 0.0660696\tbest: 0.0660696 (482)\ttotal: 10m 35s\tremaining: 11m 19s\n",
      "483:\tlearn: 0.0660751\ttest: 0.0660693\tbest: 0.0660693 (483)\ttotal: 10m 36s\tremaining: 11m 18s\n",
      "484:\tlearn: 0.0660747\ttest: 0.0660689\tbest: 0.0660689 (484)\ttotal: 10m 37s\tremaining: 11m 16s\n",
      "485:\tlearn: 0.0660745\ttest: 0.0660687\tbest: 0.0660687 (485)\ttotal: 10m 38s\tremaining: 11m 15s\n",
      "486:\tlearn: 0.0660744\ttest: 0.0660686\tbest: 0.0660686 (486)\ttotal: 10m 39s\tremaining: 11m 13s\n",
      "487:\tlearn: 0.0660742\ttest: 0.0660684\tbest: 0.0660684 (487)\ttotal: 10m 40s\tremaining: 11m 11s\n",
      "488:\tlearn: 0.0660739\ttest: 0.0660681\tbest: 0.0660681 (488)\ttotal: 10m 41s\tremaining: 11m 10s\n",
      "489:\tlearn: 0.0660734\ttest: 0.0660676\tbest: 0.0660676 (489)\ttotal: 10m 42s\tremaining: 11m 8s\n",
      "490:\tlearn: 0.0660731\ttest: 0.0660673\tbest: 0.0660673 (490)\ttotal: 10m 44s\tremaining: 11m 7s\n",
      "491:\tlearn: 0.0660726\ttest: 0.0660669\tbest: 0.0660669 (491)\ttotal: 10m 45s\tremaining: 11m 6s\n",
      "492:\tlearn: 0.0660724\ttest: 0.0660667\tbest: 0.0660667 (492)\ttotal: 10m 46s\tremaining: 11m 5s\n",
      "493:\tlearn: 0.0660721\ttest: 0.0660665\tbest: 0.0660665 (493)\ttotal: 10m 47s\tremaining: 11m 3s\n",
      "494:\tlearn: 0.0660718\ttest: 0.0660662\tbest: 0.0660662 (494)\ttotal: 10m 48s\tremaining: 11m 2s\n",
      "495:\tlearn: 0.0660713\ttest: 0.0660658\tbest: 0.0660658 (495)\ttotal: 10m 50s\tremaining: 11m 1s\n",
      "496:\tlearn: 0.0660709\ttest: 0.0660655\tbest: 0.0660655 (496)\ttotal: 10m 52s\tremaining: 11m\n",
      "497:\tlearn: 0.0660707\ttest: 0.0660653\tbest: 0.0660653 (497)\ttotal: 10m 53s\tremaining: 10m 58s\n",
      "498:\tlearn: 0.0660706\ttest: 0.0660652\tbest: 0.0660652 (498)\ttotal: 10m 53s\tremaining: 10m 56s\n",
      "499:\tlearn: 0.0660705\ttest: 0.0660651\tbest: 0.0660651 (499)\ttotal: 10m 54s\tremaining: 10m 54s\n",
      "500:\tlearn: 0.0660698\ttest: 0.0660646\tbest: 0.0660646 (500)\ttotal: 10m 55s\tremaining: 10m 53s\n",
      "501:\tlearn: 0.0660695\ttest: 0.0660644\tbest: 0.0660644 (501)\ttotal: 10m 57s\tremaining: 10m 52s\n",
      "502:\tlearn: 0.0660694\ttest: 0.0660644\tbest: 0.0660644 (502)\ttotal: 10m 58s\tremaining: 10m 50s\n",
      "503:\tlearn: 0.0660691\ttest: 0.0660641\tbest: 0.0660641 (503)\ttotal: 10m 59s\tremaining: 10m 49s\n",
      "504:\tlearn: 0.0660689\ttest: 0.0660638\tbest: 0.0660638 (504)\ttotal: 11m\tremaining: 10m 47s\n",
      "505:\tlearn: 0.0660687\ttest: 0.0660636\tbest: 0.0660636 (505)\ttotal: 11m 1s\tremaining: 10m 46s\n",
      "506:\tlearn: 0.0660683\ttest: 0.0660635\tbest: 0.0660635 (506)\ttotal: 11m 3s\tremaining: 10m 44s\n",
      "507:\tlearn: 0.0660680\ttest: 0.0660632\tbest: 0.0660632 (507)\ttotal: 11m 4s\tremaining: 10m 43s\n",
      "508:\tlearn: 0.0660676\ttest: 0.0660630\tbest: 0.0660630 (508)\ttotal: 11m 6s\tremaining: 10m 42s\n",
      "509:\tlearn: 0.0660674\ttest: 0.0660627\tbest: 0.0660627 (509)\ttotal: 11m 7s\tremaining: 10m 41s\n",
      "510:\tlearn: 0.0660672\ttest: 0.0660625\tbest: 0.0660625 (510)\ttotal: 11m 8s\tremaining: 10m 39s\n",
      "511:\tlearn: 0.0660669\ttest: 0.0660623\tbest: 0.0660623 (511)\ttotal: 11m 9s\tremaining: 10m 38s\n",
      "512:\tlearn: 0.0660668\ttest: 0.0660621\tbest: 0.0660621 (512)\ttotal: 11m 10s\tremaining: 10m 36s\n",
      "513:\tlearn: 0.0660667\ttest: 0.0660621\tbest: 0.0660621 (513)\ttotal: 11m 11s\tremaining: 10m 34s\n",
      "514:\tlearn: 0.0660664\ttest: 0.0660617\tbest: 0.0660617 (514)\ttotal: 11m 12s\tremaining: 10m 33s\n",
      "515:\tlearn: 0.0660663\ttest: 0.0660617\tbest: 0.0660617 (515)\ttotal: 11m 13s\tremaining: 10m 31s\n",
      "516:\tlearn: 0.0660661\ttest: 0.0660614\tbest: 0.0660614 (516)\ttotal: 11m 14s\tremaining: 10m 30s\n",
      "517:\tlearn: 0.0660653\ttest: 0.0660612\tbest: 0.0660612 (517)\ttotal: 11m 16s\tremaining: 10m 29s\n",
      "518:\tlearn: 0.0660652\ttest: 0.0660610\tbest: 0.0660610 (518)\ttotal: 11m 17s\tremaining: 10m 27s\n",
      "519:\tlearn: 0.0660646\ttest: 0.0660608\tbest: 0.0660608 (519)\ttotal: 11m 18s\tremaining: 10m 26s\n",
      "520:\tlearn: 0.0660645\ttest: 0.0660607\tbest: 0.0660607 (520)\ttotal: 11m 19s\tremaining: 10m 24s\n",
      "521:\tlearn: 0.0660643\ttest: 0.0660604\tbest: 0.0660604 (521)\ttotal: 11m 20s\tremaining: 10m 23s\n",
      "522:\tlearn: 0.0660640\ttest: 0.0660602\tbest: 0.0660602 (522)\ttotal: 11m 22s\tremaining: 10m 22s\n",
      "523:\tlearn: 0.0660635\ttest: 0.0660602\tbest: 0.0660602 (522)\ttotal: 11m 24s\tremaining: 10m 21s\n",
      "524:\tlearn: 0.0660633\ttest: 0.0660601\tbest: 0.0660601 (524)\ttotal: 11m 25s\tremaining: 10m 20s\n",
      "525:\tlearn: 0.0660630\ttest: 0.0660597\tbest: 0.0660597 (525)\ttotal: 11m 26s\tremaining: 10m 18s\n",
      "526:\tlearn: 0.0660629\ttest: 0.0660597\tbest: 0.0660597 (526)\ttotal: 11m 27s\tremaining: 10m 17s\n",
      "527:\tlearn: 0.0660627\ttest: 0.0660594\tbest: 0.0660594 (527)\ttotal: 11m 28s\tremaining: 10m 15s\n",
      "528:\tlearn: 0.0660621\ttest: 0.0660592\tbest: 0.0660592 (528)\ttotal: 11m 30s\tremaining: 10m 14s\n",
      "529:\tlearn: 0.0660618\ttest: 0.0660588\tbest: 0.0660588 (529)\ttotal: 11m 31s\tremaining: 10m 13s\n",
      "530:\tlearn: 0.0660613\ttest: 0.0660586\tbest: 0.0660586 (530)\ttotal: 11m 33s\tremaining: 10m 12s\n",
      "531:\tlearn: 0.0660607\ttest: 0.0660581\tbest: 0.0660581 (531)\ttotal: 11m 34s\tremaining: 10m 11s\n",
      "532:\tlearn: 0.0660604\ttest: 0.0660579\tbest: 0.0660579 (532)\ttotal: 11m 36s\tremaining: 10m 10s\n",
      "533:\tlearn: 0.0660603\ttest: 0.0660579\tbest: 0.0660579 (533)\ttotal: 11m 37s\tremaining: 10m 8s\n",
      "534:\tlearn: 0.0660602\ttest: 0.0660578\tbest: 0.0660578 (534)\ttotal: 11m 38s\tremaining: 10m 7s\n",
      "535:\tlearn: 0.0660601\ttest: 0.0660577\tbest: 0.0660577 (535)\ttotal: 11m 39s\tremaining: 10m 5s\n"
     ]
    },
    {
     "name": "stdout",
     "output_type": "stream",
     "text": [
      "536:\tlearn: 0.0660599\ttest: 0.0660577\tbest: 0.0660577 (536)\ttotal: 11m 40s\tremaining: 10m 4s\n",
      "537:\tlearn: 0.0660598\ttest: 0.0660576\tbest: 0.0660576 (537)\ttotal: 11m 41s\tremaining: 10m 2s\n",
      "538:\tlearn: 0.0660597\ttest: 0.0660575\tbest: 0.0660575 (538)\ttotal: 11m 42s\tremaining: 10m\n",
      "539:\tlearn: 0.0660597\ttest: 0.0660575\tbest: 0.0660575 (539)\ttotal: 11m 43s\tremaining: 9m 58s\n",
      "540:\tlearn: 0.0660590\ttest: 0.0660576\tbest: 0.0660575 (539)\ttotal: 11m 44s\tremaining: 9m 58s\n",
      "541:\tlearn: 0.0660589\ttest: 0.0660576\tbest: 0.0660575 (539)\ttotal: 11m 45s\tremaining: 9m 56s\n",
      "542:\tlearn: 0.0660589\ttest: 0.0660576\tbest: 0.0660575 (539)\ttotal: 11m 46s\tremaining: 9m 54s\n",
      "543:\tlearn: 0.0660586\ttest: 0.0660575\tbest: 0.0660575 (543)\ttotal: 11m 47s\tremaining: 9m 53s\n",
      "544:\tlearn: 0.0660586\ttest: 0.0660575\tbest: 0.0660575 (543)\ttotal: 11m 48s\tremaining: 9m 51s\n",
      "545:\tlearn: 0.0660581\ttest: 0.0660573\tbest: 0.0660573 (545)\ttotal: 11m 49s\tremaining: 9m 49s\n",
      "546:\tlearn: 0.0660580\ttest: 0.0660571\tbest: 0.0660571 (546)\ttotal: 11m 51s\tremaining: 9m 48s\n",
      "547:\tlearn: 0.0660578\ttest: 0.0660570\tbest: 0.0660570 (547)\ttotal: 11m 52s\tremaining: 9m 47s\n",
      "548:\tlearn: 0.0660576\ttest: 0.0660569\tbest: 0.0660569 (548)\ttotal: 11m 53s\tremaining: 9m 46s\n",
      "549:\tlearn: 0.0660572\ttest: 0.0660567\tbest: 0.0660567 (549)\ttotal: 11m 54s\tremaining: 9m 44s\n",
      "550:\tlearn: 0.0660571\ttest: 0.0660565\tbest: 0.0660565 (550)\ttotal: 11m 55s\tremaining: 9m 43s\n",
      "551:\tlearn: 0.0660570\ttest: 0.0660563\tbest: 0.0660563 (551)\ttotal: 11m 56s\tremaining: 9m 41s\n",
      "552:\tlearn: 0.0660568\ttest: 0.0660562\tbest: 0.0660562 (552)\ttotal: 11m 58s\tremaining: 9m 40s\n",
      "553:\tlearn: 0.0660562\ttest: 0.0660561\tbest: 0.0660561 (553)\ttotal: 11m 59s\tremaining: 9m 39s\n",
      "554:\tlearn: 0.0660561\ttest: 0.0660560\tbest: 0.0660560 (554)\ttotal: 12m\tremaining: 9m 37s\n",
      "555:\tlearn: 0.0660560\ttest: 0.0660559\tbest: 0.0660559 (555)\ttotal: 12m 1s\tremaining: 9m 36s\n",
      "556:\tlearn: 0.0660556\ttest: 0.0660559\tbest: 0.0660559 (556)\ttotal: 12m 3s\tremaining: 9m 35s\n",
      "557:\tlearn: 0.0660554\ttest: 0.0660558\tbest: 0.0660558 (557)\ttotal: 12m 4s\tremaining: 9m 33s\n",
      "558:\tlearn: 0.0660553\ttest: 0.0660557\tbest: 0.0660557 (558)\ttotal: 12m 5s\tremaining: 9m 32s\n",
      "559:\tlearn: 0.0660551\ttest: 0.0660555\tbest: 0.0660555 (559)\ttotal: 12m 7s\tremaining: 9m 31s\n",
      "560:\tlearn: 0.0660548\ttest: 0.0660555\tbest: 0.0660555 (559)\ttotal: 12m 8s\tremaining: 9m 30s\n",
      "561:\tlearn: 0.0660548\ttest: 0.0660555\tbest: 0.0660555 (561)\ttotal: 12m 9s\tremaining: 9m 28s\n",
      "562:\tlearn: 0.0660546\ttest: 0.0660553\tbest: 0.0660553 (562)\ttotal: 12m 11s\tremaining: 9m 27s\n",
      "563:\tlearn: 0.0660545\ttest: 0.0660552\tbest: 0.0660552 (563)\ttotal: 12m 12s\tremaining: 9m 25s\n",
      "564:\tlearn: 0.0660544\ttest: 0.0660550\tbest: 0.0660550 (564)\ttotal: 12m 13s\tremaining: 9m 24s\n",
      "565:\tlearn: 0.0660540\ttest: 0.0660550\tbest: 0.0660550 (564)\ttotal: 12m 14s\tremaining: 9m 23s\n",
      "566:\tlearn: 0.0660538\ttest: 0.0660548\tbest: 0.0660548 (566)\ttotal: 12m 16s\tremaining: 9m 22s\n",
      "567:\tlearn: 0.0660536\ttest: 0.0660547\tbest: 0.0660547 (567)\ttotal: 12m 17s\tremaining: 9m 20s\n",
      "568:\tlearn: 0.0660535\ttest: 0.0660546\tbest: 0.0660546 (568)\ttotal: 12m 18s\tremaining: 9m 19s\n",
      "569:\tlearn: 0.0660532\ttest: 0.0660544\tbest: 0.0660544 (569)\ttotal: 12m 20s\tremaining: 9m 18s\n",
      "570:\tlearn: 0.0660531\ttest: 0.0660543\tbest: 0.0660543 (570)\ttotal: 12m 20s\tremaining: 9m 16s\n",
      "571:\tlearn: 0.0660530\ttest: 0.0660541\tbest: 0.0660541 (571)\ttotal: 12m 21s\tremaining: 9m 14s\n",
      "572:\tlearn: 0.0660529\ttest: 0.0660540\tbest: 0.0660540 (572)\ttotal: 12m 22s\tremaining: 9m 13s\n",
      "573:\tlearn: 0.0660525\ttest: 0.0660538\tbest: 0.0660538 (573)\ttotal: 12m 23s\tremaining: 9m 12s\n",
      "574:\tlearn: 0.0660523\ttest: 0.0660537\tbest: 0.0660537 (574)\ttotal: 12m 25s\tremaining: 9m 10s\n",
      "575:\tlearn: 0.0660521\ttest: 0.0660535\tbest: 0.0660535 (575)\ttotal: 12m 26s\tremaining: 9m 9s\n",
      "576:\tlearn: 0.0660516\ttest: 0.0660534\tbest: 0.0660534 (576)\ttotal: 12m 28s\tremaining: 9m 8s\n",
      "577:\tlearn: 0.0660515\ttest: 0.0660533\tbest: 0.0660533 (577)\ttotal: 12m 29s\tremaining: 9m 7s\n",
      "578:\tlearn: 0.0660515\ttest: 0.0660532\tbest: 0.0660532 (578)\ttotal: 12m 30s\tremaining: 9m 5s\n",
      "579:\tlearn: 0.0660514\ttest: 0.0660531\tbest: 0.0660531 (579)\ttotal: 12m 31s\tremaining: 9m 4s\n",
      "580:\tlearn: 0.0660509\ttest: 0.0660534\tbest: 0.0660531 (579)\ttotal: 12m 33s\tremaining: 9m 3s\n",
      "581:\tlearn: 0.0660509\ttest: 0.0660534\tbest: 0.0660531 (579)\ttotal: 12m 34s\tremaining: 9m 1s\n",
      "582:\tlearn: 0.0660506\ttest: 0.0660533\tbest: 0.0660531 (579)\ttotal: 12m 35s\tremaining: 9m\n",
      "583:\tlearn: 0.0660506\ttest: 0.0660534\tbest: 0.0660531 (579)\ttotal: 12m 36s\tremaining: 8m 59s\n",
      "584:\tlearn: 0.0660503\ttest: 0.0660533\tbest: 0.0660531 (579)\ttotal: 12m 38s\tremaining: 8m 57s\n",
      "585:\tlearn: 0.0660502\ttest: 0.0660532\tbest: 0.0660531 (579)\ttotal: 12m 39s\tremaining: 8m 56s\n",
      "586:\tlearn: 0.0660501\ttest: 0.0660532\tbest: 0.0660531 (579)\ttotal: 12m 40s\tremaining: 8m 54s\n",
      "587:\tlearn: 0.0660500\ttest: 0.0660531\tbest: 0.0660531 (587)\ttotal: 12m 41s\tremaining: 8m 53s\n",
      "588:\tlearn: 0.0660498\ttest: 0.0660531\tbest: 0.0660531 (587)\ttotal: 12m 42s\tremaining: 8m 52s\n",
      "589:\tlearn: 0.0660495\ttest: 0.0660531\tbest: 0.0660531 (587)\ttotal: 12m 44s\tremaining: 8m 51s\n",
      "590:\tlearn: 0.0660491\ttest: 0.0660530\tbest: 0.0660530 (590)\ttotal: 12m 46s\tremaining: 8m 50s\n",
      "591:\tlearn: 0.0660490\ttest: 0.0660529\tbest: 0.0660529 (591)\ttotal: 12m 47s\tremaining: 8m 48s\n",
      "592:\tlearn: 0.0660487\ttest: 0.0660528\tbest: 0.0660528 (592)\ttotal: 12m 49s\tremaining: 8m 47s\n",
      "593:\tlearn: 0.0660484\ttest: 0.0660527\tbest: 0.0660527 (593)\ttotal: 12m 50s\tremaining: 8m 46s\n",
      "594:\tlearn: 0.0660481\ttest: 0.0660526\tbest: 0.0660526 (594)\ttotal: 12m 51s\tremaining: 8m 45s\n",
      "595:\tlearn: 0.0660481\ttest: 0.0660526\tbest: 0.0660526 (595)\ttotal: 12m 53s\tremaining: 8m 44s\n",
      "596:\tlearn: 0.0660479\ttest: 0.0660525\tbest: 0.0660525 (596)\ttotal: 12m 54s\tremaining: 8m 42s\n",
      "597:\tlearn: 0.0660477\ttest: 0.0660525\tbest: 0.0660525 (596)\ttotal: 12m 56s\tremaining: 8m 41s\n",
      "598:\tlearn: 0.0660471\ttest: 0.0660525\tbest: 0.0660525 (598)\ttotal: 12m 57s\tremaining: 8m 40s\n",
      "599:\tlearn: 0.0660467\ttest: 0.0660524\tbest: 0.0660524 (599)\ttotal: 12m 59s\tremaining: 8m 39s\n",
      "600:\tlearn: 0.0660466\ttest: 0.0660523\tbest: 0.0660523 (600)\ttotal: 13m\tremaining: 8m 38s\n",
      "601:\tlearn: 0.0660464\ttest: 0.0660522\tbest: 0.0660522 (601)\ttotal: 13m 2s\tremaining: 8m 37s\n",
      "602:\tlearn: 0.0660463\ttest: 0.0660520\tbest: 0.0660520 (602)\ttotal: 13m 3s\tremaining: 8m 36s\n",
      "603:\tlearn: 0.0660461\ttest: 0.0660519\tbest: 0.0660519 (603)\ttotal: 13m 4s\tremaining: 8m 34s\n",
      "604:\tlearn: 0.0660459\ttest: 0.0660520\tbest: 0.0660519 (603)\ttotal: 13m 6s\tremaining: 8m 33s\n",
      "605:\tlearn: 0.0660458\ttest: 0.0660520\tbest: 0.0660519 (603)\ttotal: 13m 7s\tremaining: 8m 31s\n",
      "606:\tlearn: 0.0660457\ttest: 0.0660519\tbest: 0.0660519 (603)\ttotal: 13m 9s\tremaining: 8m 30s\n",
      "607:\tlearn: 0.0660455\ttest: 0.0660518\tbest: 0.0660518 (607)\ttotal: 13m 10s\tremaining: 8m 29s\n",
      "608:\tlearn: 0.0660453\ttest: 0.0660517\tbest: 0.0660517 (608)\ttotal: 13m 12s\tremaining: 8m 28s\n",
      "609:\tlearn: 0.0660450\ttest: 0.0660516\tbest: 0.0660516 (609)\ttotal: 13m 13s\tremaining: 8m 27s\n",
      "610:\tlearn: 0.0660448\ttest: 0.0660515\tbest: 0.0660515 (610)\ttotal: 13m 15s\tremaining: 8m 26s\n",
      "611:\tlearn: 0.0660448\ttest: 0.0660515\tbest: 0.0660515 (611)\ttotal: 13m 16s\tremaining: 8m 24s\n",
      "612:\tlearn: 0.0660448\ttest: 0.0660514\tbest: 0.0660514 (612)\ttotal: 13m 16s\tremaining: 8m 23s\n",
      "613:\tlearn: 0.0660444\ttest: 0.0660518\tbest: 0.0660514 (612)\ttotal: 13m 18s\tremaining: 8m 21s\n",
      "614:\tlearn: 0.0660441\ttest: 0.0660517\tbest: 0.0660514 (612)\ttotal: 13m 19s\tremaining: 8m 20s\n",
      "615:\tlearn: 0.0660439\ttest: 0.0660515\tbest: 0.0660514 (612)\ttotal: 13m 21s\tremaining: 8m 19s\n",
      "616:\tlearn: 0.0660438\ttest: 0.0660516\tbest: 0.0660514 (612)\ttotal: 13m 22s\tremaining: 8m 18s\n",
      "617:\tlearn: 0.0660436\ttest: 0.0660515\tbest: 0.0660514 (612)\ttotal: 13m 23s\tremaining: 8m 16s\n",
      "618:\tlearn: 0.0660433\ttest: 0.0660515\tbest: 0.0660514 (612)\ttotal: 13m 25s\tremaining: 8m 15s\n",
      "619:\tlearn: 0.0660433\ttest: 0.0660515\tbest: 0.0660514 (612)\ttotal: 13m 26s\tremaining: 8m 14s\n",
      "620:\tlearn: 0.0660432\ttest: 0.0660515\tbest: 0.0660514 (612)\ttotal: 13m 27s\tremaining: 8m 12s\n",
      "621:\tlearn: 0.0660427\ttest: 0.0660518\tbest: 0.0660514 (612)\ttotal: 13m 29s\tremaining: 8m 11s\n",
      "622:\tlearn: 0.0660426\ttest: 0.0660518\tbest: 0.0660514 (612)\ttotal: 13m 30s\tremaining: 8m 10s\n",
      "623:\tlearn: 0.0660424\ttest: 0.0660516\tbest: 0.0660514 (612)\ttotal: 13m 32s\tremaining: 8m 9s\n",
      "624:\tlearn: 0.0660423\ttest: 0.0660515\tbest: 0.0660514 (612)\ttotal: 13m 33s\tremaining: 8m 8s\n"
     ]
    },
    {
     "name": "stdout",
     "output_type": "stream",
     "text": [
      "625:\tlearn: 0.0660422\ttest: 0.0660515\tbest: 0.0660514 (612)\ttotal: 13m 34s\tremaining: 8m 6s\n",
      "626:\tlearn: 0.0660418\ttest: 0.0660515\tbest: 0.0660514 (612)\ttotal: 13m 35s\tremaining: 8m 5s\n",
      "627:\tlearn: 0.0660417\ttest: 0.0660513\tbest: 0.0660513 (627)\ttotal: 13m 37s\tremaining: 8m 4s\n",
      "628:\tlearn: 0.0660413\ttest: 0.0660515\tbest: 0.0660513 (627)\ttotal: 13m 38s\tremaining: 8m 3s\n",
      "629:\tlearn: 0.0660411\ttest: 0.0660516\tbest: 0.0660513 (627)\ttotal: 13m 40s\tremaining: 8m 2s\n",
      "630:\tlearn: 0.0660408\ttest: 0.0660514\tbest: 0.0660513 (627)\ttotal: 13m 42s\tremaining: 8m\n",
      "631:\tlearn: 0.0660408\ttest: 0.0660514\tbest: 0.0660513 (627)\ttotal: 13m 42s\tremaining: 7m 59s\n",
      "632:\tlearn: 0.0660407\ttest: 0.0660514\tbest: 0.0660513 (627)\ttotal: 13m 43s\tremaining: 7m 57s\n",
      "633:\tlearn: 0.0660407\ttest: 0.0660515\tbest: 0.0660513 (627)\ttotal: 13m 44s\tremaining: 7m 55s\n",
      "634:\tlearn: 0.0660406\ttest: 0.0660514\tbest: 0.0660513 (627)\ttotal: 13m 46s\tremaining: 7m 54s\n",
      "635:\tlearn: 0.0660399\ttest: 0.0660514\tbest: 0.0660513 (627)\ttotal: 13m 47s\tremaining: 7m 53s\n",
      "636:\tlearn: 0.0660398\ttest: 0.0660514\tbest: 0.0660513 (627)\ttotal: 13m 49s\tremaining: 7m 52s\n",
      "637:\tlearn: 0.0660394\ttest: 0.0660514\tbest: 0.0660513 (627)\ttotal: 13m 51s\tremaining: 7m 51s\n",
      "638:\tlearn: 0.0660391\ttest: 0.0660512\tbest: 0.0660512 (638)\ttotal: 13m 52s\tremaining: 7m 50s\n",
      "639:\tlearn: 0.0660388\ttest: 0.0660511\tbest: 0.0660511 (639)\ttotal: 13m 54s\tremaining: 7m 49s\n",
      "640:\tlearn: 0.0660387\ttest: 0.0660511\tbest: 0.0660511 (640)\ttotal: 13m 55s\tremaining: 7m 48s\n",
      "641:\tlearn: 0.0660386\ttest: 0.0660510\tbest: 0.0660510 (641)\ttotal: 13m 56s\tremaining: 7m 46s\n",
      "642:\tlearn: 0.0660386\ttest: 0.0660509\tbest: 0.0660509 (642)\ttotal: 13m 57s\tremaining: 7m 45s\n",
      "643:\tlearn: 0.0660384\ttest: 0.0660508\tbest: 0.0660508 (643)\ttotal: 13m 58s\tremaining: 7m 43s\n",
      "644:\tlearn: 0.0660382\ttest: 0.0660507\tbest: 0.0660507 (644)\ttotal: 14m\tremaining: 7m 42s\n",
      "645:\tlearn: 0.0660382\ttest: 0.0660507\tbest: 0.0660507 (644)\ttotal: 14m 1s\tremaining: 7m 41s\n",
      "646:\tlearn: 0.0660381\ttest: 0.0660507\tbest: 0.0660507 (646)\ttotal: 14m 2s\tremaining: 7m 39s\n",
      "647:\tlearn: 0.0660381\ttest: 0.0660506\tbest: 0.0660506 (647)\ttotal: 14m 3s\tremaining: 7m 38s\n",
      "648:\tlearn: 0.0660380\ttest: 0.0660505\tbest: 0.0660505 (648)\ttotal: 14m 5s\tremaining: 7m 37s\n",
      "649:\tlearn: 0.0660379\ttest: 0.0660506\tbest: 0.0660505 (648)\ttotal: 14m 6s\tremaining: 7m 35s\n",
      "650:\tlearn: 0.0660379\ttest: 0.0660506\tbest: 0.0660505 (648)\ttotal: 14m 7s\tremaining: 7m 34s\n",
      "651:\tlearn: 0.0660378\ttest: 0.0660505\tbest: 0.0660505 (651)\ttotal: 14m 8s\tremaining: 7m 32s\n",
      "652:\tlearn: 0.0660377\ttest: 0.0660505\tbest: 0.0660505 (652)\ttotal: 14m 9s\tremaining: 7m 31s\n",
      "653:\tlearn: 0.0660375\ttest: 0.0660504\tbest: 0.0660504 (653)\ttotal: 14m 11s\tremaining: 7m 30s\n",
      "654:\tlearn: 0.0660370\ttest: 0.0660504\tbest: 0.0660504 (653)\ttotal: 14m 13s\tremaining: 7m 29s\n",
      "655:\tlearn: 0.0660369\ttest: 0.0660504\tbest: 0.0660504 (655)\ttotal: 14m 13s\tremaining: 7m 27s\n",
      "656:\tlearn: 0.0660367\ttest: 0.0660504\tbest: 0.0660504 (655)\ttotal: 14m 15s\tremaining: 7m 26s\n",
      "657:\tlearn: 0.0660366\ttest: 0.0660504\tbest: 0.0660504 (657)\ttotal: 14m 16s\tremaining: 7m 25s\n",
      "658:\tlearn: 0.0660365\ttest: 0.0660503\tbest: 0.0660503 (658)\ttotal: 14m 17s\tremaining: 7m 23s\n",
      "659:\tlearn: 0.0660365\ttest: 0.0660503\tbest: 0.0660503 (659)\ttotal: 14m 18s\tremaining: 7m 22s\n",
      "660:\tlearn: 0.0660364\ttest: 0.0660503\tbest: 0.0660503 (660)\ttotal: 14m 19s\tremaining: 7m 20s\n",
      "661:\tlearn: 0.0660361\ttest: 0.0660500\tbest: 0.0660500 (661)\ttotal: 14m 21s\tremaining: 7m 19s\n",
      "662:\tlearn: 0.0660361\ttest: 0.0660501\tbest: 0.0660500 (661)\ttotal: 14m 22s\tremaining: 7m 18s\n",
      "663:\tlearn: 0.0660361\ttest: 0.0660501\tbest: 0.0660500 (661)\ttotal: 14m 22s\tremaining: 7m 16s\n",
      "664:\tlearn: 0.0660361\ttest: 0.0660500\tbest: 0.0660500 (664)\ttotal: 14m 23s\tremaining: 7m 14s\n",
      "665:\tlearn: 0.0660360\ttest: 0.0660500\tbest: 0.0660500 (665)\ttotal: 14m 24s\tremaining: 7m 13s\n",
      "666:\tlearn: 0.0660359\ttest: 0.0660500\tbest: 0.0660500 (665)\ttotal: 14m 25s\tremaining: 7m 12s\n",
      "667:\tlearn: 0.0660354\ttest: 0.0660501\tbest: 0.0660500 (665)\ttotal: 14m 27s\tremaining: 7m 11s\n",
      "668:\tlearn: 0.0660354\ttest: 0.0660500\tbest: 0.0660500 (665)\ttotal: 14m 28s\tremaining: 7m 9s\n",
      "669:\tlearn: 0.0660349\ttest: 0.0660503\tbest: 0.0660500 (665)\ttotal: 14m 30s\tremaining: 7m 8s\n",
      "670:\tlearn: 0.0660344\ttest: 0.0660502\tbest: 0.0660500 (665)\ttotal: 14m 32s\tremaining: 7m 7s\n",
      "671:\tlearn: 0.0660343\ttest: 0.0660501\tbest: 0.0660500 (665)\ttotal: 14m 33s\tremaining: 7m 6s\n",
      "672:\tlearn: 0.0660343\ttest: 0.0660501\tbest: 0.0660500 (665)\ttotal: 14m 33s\tremaining: 7m 4s\n",
      "673:\tlearn: 0.0660342\ttest: 0.0660501\tbest: 0.0660500 (665)\ttotal: 14m 35s\tremaining: 7m 3s\n",
      "674:\tlearn: 0.0660339\ttest: 0.0660499\tbest: 0.0660499 (674)\ttotal: 14m 36s\tremaining: 7m 2s\n",
      "675:\tlearn: 0.0660337\ttest: 0.0660499\tbest: 0.0660499 (675)\ttotal: 14m 38s\tremaining: 7m\n",
      "676:\tlearn: 0.0660333\ttest: 0.0660499\tbest: 0.0660499 (676)\ttotal: 14m 39s\tremaining: 6m 59s\n",
      "677:\tlearn: 0.0660333\ttest: 0.0660499\tbest: 0.0660499 (677)\ttotal: 14m 40s\tremaining: 6m 58s\n",
      "678:\tlearn: 0.0660332\ttest: 0.0660498\tbest: 0.0660498 (678)\ttotal: 14m 42s\tremaining: 6m 57s\n",
      "679:\tlearn: 0.0660332\ttest: 0.0660497\tbest: 0.0660497 (679)\ttotal: 14m 43s\tremaining: 6m 55s\n",
      "680:\tlearn: 0.0660328\ttest: 0.0660498\tbest: 0.0660497 (679)\ttotal: 14m 45s\tremaining: 6m 54s\n",
      "681:\tlearn: 0.0660326\ttest: 0.0660497\tbest: 0.0660497 (681)\ttotal: 14m 46s\tremaining: 6m 53s\n",
      "682:\tlearn: 0.0660321\ttest: 0.0660495\tbest: 0.0660495 (682)\ttotal: 14m 48s\tremaining: 6m 52s\n",
      "683:\tlearn: 0.0660321\ttest: 0.0660495\tbest: 0.0660495 (683)\ttotal: 14m 48s\tremaining: 6m 50s\n",
      "684:\tlearn: 0.0660321\ttest: 0.0660495\tbest: 0.0660495 (684)\ttotal: 14m 49s\tremaining: 6m 49s\n",
      "685:\tlearn: 0.0660319\ttest: 0.0660496\tbest: 0.0660495 (684)\ttotal: 14m 51s\tremaining: 6m 47s\n",
      "686:\tlearn: 0.0660319\ttest: 0.0660496\tbest: 0.0660495 (684)\ttotal: 14m 52s\tremaining: 6m 46s\n",
      "687:\tlearn: 0.0660317\ttest: 0.0660495\tbest: 0.0660495 (687)\ttotal: 14m 54s\tremaining: 6m 45s\n",
      "688:\tlearn: 0.0660316\ttest: 0.0660494\tbest: 0.0660494 (688)\ttotal: 14m 55s\tremaining: 6m 44s\n",
      "689:\tlearn: 0.0660316\ttest: 0.0660493\tbest: 0.0660493 (689)\ttotal: 14m 55s\tremaining: 6m 42s\n",
      "690:\tlearn: 0.0660315\ttest: 0.0660493\tbest: 0.0660493 (690)\ttotal: 14m 56s\tremaining: 6m 40s\n",
      "691:\tlearn: 0.0660313\ttest: 0.0660490\tbest: 0.0660490 (691)\ttotal: 14m 58s\tremaining: 6m 39s\n",
      "692:\tlearn: 0.0660312\ttest: 0.0660490\tbest: 0.0660490 (691)\ttotal: 14m 59s\tremaining: 6m 38s\n",
      "693:\tlearn: 0.0660309\ttest: 0.0660489\tbest: 0.0660489 (693)\ttotal: 15m 1s\tremaining: 6m 37s\n",
      "694:\tlearn: 0.0660307\ttest: 0.0660489\tbest: 0.0660489 (693)\ttotal: 15m 2s\tremaining: 6m 36s\n",
      "695:\tlearn: 0.0660304\ttest: 0.0660488\tbest: 0.0660488 (695)\ttotal: 15m 4s\tremaining: 6m 34s\n",
      "696:\tlearn: 0.0660300\ttest: 0.0660490\tbest: 0.0660488 (695)\ttotal: 15m 5s\tremaining: 6m 33s\n",
      "697:\tlearn: 0.0660296\ttest: 0.0660490\tbest: 0.0660488 (695)\ttotal: 15m 7s\tremaining: 6m 32s\n",
      "698:\tlearn: 0.0660295\ttest: 0.0660489\tbest: 0.0660488 (695)\ttotal: 15m 9s\tremaining: 6m 31s\n",
      "699:\tlearn: 0.0660291\ttest: 0.0660489\tbest: 0.0660488 (695)\ttotal: 15m 11s\tremaining: 6m 30s\n",
      "700:\tlearn: 0.0660290\ttest: 0.0660489\tbest: 0.0660488 (695)\ttotal: 15m 12s\tremaining: 6m 29s\n",
      "701:\tlearn: 0.0660290\ttest: 0.0660489\tbest: 0.0660488 (695)\ttotal: 15m 13s\tremaining: 6m 27s\n",
      "702:\tlearn: 0.0660290\ttest: 0.0660489\tbest: 0.0660488 (695)\ttotal: 15m 14s\tremaining: 6m 26s\n",
      "703:\tlearn: 0.0660289\ttest: 0.0660489\tbest: 0.0660488 (695)\ttotal: 15m 15s\tremaining: 6m 24s\n",
      "704:\tlearn: 0.0660289\ttest: 0.0660488\tbest: 0.0660488 (695)\ttotal: 15m 16s\tremaining: 6m 23s\n",
      "705:\tlearn: 0.0660285\ttest: 0.0660490\tbest: 0.0660488 (695)\ttotal: 15m 18s\tremaining: 6m 22s\n",
      "706:\tlearn: 0.0660280\ttest: 0.0660490\tbest: 0.0660488 (695)\ttotal: 15m 19s\tremaining: 6m 21s\n",
      "707:\tlearn: 0.0660277\ttest: 0.0660490\tbest: 0.0660488 (695)\ttotal: 15m 21s\tremaining: 6m 20s\n",
      "708:\tlearn: 0.0660277\ttest: 0.0660490\tbest: 0.0660488 (695)\ttotal: 15m 22s\tremaining: 6m 18s\n",
      "709:\tlearn: 0.0660271\ttest: 0.0660491\tbest: 0.0660488 (695)\ttotal: 15m 24s\tremaining: 6m 17s\n",
      "710:\tlearn: 0.0660268\ttest: 0.0660492\tbest: 0.0660488 (695)\ttotal: 15m 25s\tremaining: 6m 16s\n",
      "711:\tlearn: 0.0660267\ttest: 0.0660492\tbest: 0.0660488 (695)\ttotal: 15m 26s\tremaining: 6m 14s\n",
      "712:\tlearn: 0.0660266\ttest: 0.0660492\tbest: 0.0660488 (695)\ttotal: 15m 27s\tremaining: 6m 13s\n",
      "713:\tlearn: 0.0660266\ttest: 0.0660491\tbest: 0.0660488 (695)\ttotal: 15m 29s\tremaining: 6m 12s\n"
     ]
    },
    {
     "name": "stdout",
     "output_type": "stream",
     "text": [
      "714:\tlearn: 0.0660264\ttest: 0.0660490\tbest: 0.0660488 (695)\ttotal: 15m 31s\tremaining: 6m 11s\n",
      "715:\tlearn: 0.0660262\ttest: 0.0660489\tbest: 0.0660488 (695)\ttotal: 15m 32s\tremaining: 6m 9s\n",
      "716:\tlearn: 0.0660261\ttest: 0.0660488\tbest: 0.0660488 (695)\ttotal: 15m 33s\tremaining: 6m 8s\n",
      "717:\tlearn: 0.0660261\ttest: 0.0660488\tbest: 0.0660488 (695)\ttotal: 15m 35s\tremaining: 6m 7s\n",
      "718:\tlearn: 0.0660260\ttest: 0.0660488\tbest: 0.0660488 (695)\ttotal: 15m 36s\tremaining: 6m 6s\n",
      "719:\tlearn: 0.0660257\ttest: 0.0660489\tbest: 0.0660488 (695)\ttotal: 15m 38s\tremaining: 6m 5s\n",
      "720:\tlearn: 0.0660254\ttest: 0.0660489\tbest: 0.0660488 (695)\ttotal: 15m 40s\tremaining: 6m 3s\n",
      "721:\tlearn: 0.0660253\ttest: 0.0660490\tbest: 0.0660488 (695)\ttotal: 15m 41s\tremaining: 6m 2s\n",
      "722:\tlearn: 0.0660253\ttest: 0.0660490\tbest: 0.0660488 (695)\ttotal: 15m 41s\tremaining: 6m\n",
      "723:\tlearn: 0.0660251\ttest: 0.0660490\tbest: 0.0660488 (695)\ttotal: 15m 43s\tremaining: 5m 59s\n",
      "724:\tlearn: 0.0660249\ttest: 0.0660489\tbest: 0.0660488 (695)\ttotal: 15m 44s\tremaining: 5m 58s\n",
      "725:\tlearn: 0.0660247\ttest: 0.0660488\tbest: 0.0660488 (725)\ttotal: 15m 46s\tremaining: 5m 57s\n",
      "726:\tlearn: 0.0660247\ttest: 0.0660487\tbest: 0.0660487 (726)\ttotal: 15m 47s\tremaining: 5m 55s\n",
      "727:\tlearn: 0.0660245\ttest: 0.0660487\tbest: 0.0660487 (727)\ttotal: 15m 49s\tremaining: 5m 54s\n",
      "728:\tlearn: 0.0660242\ttest: 0.0660487\tbest: 0.0660487 (728)\ttotal: 15m 51s\tremaining: 5m 53s\n",
      "729:\tlearn: 0.0660238\ttest: 0.0660485\tbest: 0.0660485 (729)\ttotal: 15m 53s\tremaining: 5m 52s\n",
      "730:\tlearn: 0.0660237\ttest: 0.0660485\tbest: 0.0660485 (730)\ttotal: 15m 54s\tremaining: 5m 51s\n",
      "731:\tlearn: 0.0660232\ttest: 0.0660483\tbest: 0.0660483 (731)\ttotal: 15m 56s\tremaining: 5m 50s\n",
      "732:\tlearn: 0.0660231\ttest: 0.0660482\tbest: 0.0660482 (732)\ttotal: 15m 56s\tremaining: 5m 48s\n",
      "733:\tlearn: 0.0660230\ttest: 0.0660481\tbest: 0.0660481 (733)\ttotal: 15m 58s\tremaining: 5m 47s\n",
      "734:\tlearn: 0.0660229\ttest: 0.0660480\tbest: 0.0660480 (734)\ttotal: 15m 59s\tremaining: 5m 45s\n",
      "735:\tlearn: 0.0660228\ttest: 0.0660481\tbest: 0.0660480 (734)\ttotal: 16m 1s\tremaining: 5m 44s\n",
      "736:\tlearn: 0.0660226\ttest: 0.0660481\tbest: 0.0660480 (734)\ttotal: 16m 2s\tremaining: 5m 43s\n",
      "737:\tlearn: 0.0660221\ttest: 0.0660480\tbest: 0.0660480 (737)\ttotal: 16m 4s\tremaining: 5m 42s\n",
      "738:\tlearn: 0.0660221\ttest: 0.0660480\tbest: 0.0660480 (738)\ttotal: 16m 5s\tremaining: 5m 40s\n",
      "739:\tlearn: 0.0660219\ttest: 0.0660479\tbest: 0.0660479 (739)\ttotal: 16m 6s\tremaining: 5m 39s\n",
      "740:\tlearn: 0.0660219\ttest: 0.0660480\tbest: 0.0660479 (739)\ttotal: 16m 7s\tremaining: 5m 38s\n",
      "741:\tlearn: 0.0660219\ttest: 0.0660479\tbest: 0.0660479 (741)\ttotal: 16m 9s\tremaining: 5m 37s\n",
      "742:\tlearn: 0.0660216\ttest: 0.0660478\tbest: 0.0660478 (742)\ttotal: 16m 11s\tremaining: 5m 35s\n",
      "743:\tlearn: 0.0660216\ttest: 0.0660478\tbest: 0.0660478 (742)\ttotal: 16m 11s\tremaining: 5m 34s\n",
      "744:\tlearn: 0.0660215\ttest: 0.0660477\tbest: 0.0660477 (744)\ttotal: 16m 12s\tremaining: 5m 33s\n",
      "745:\tlearn: 0.0660215\ttest: 0.0660477\tbest: 0.0660477 (745)\ttotal: 16m 13s\tremaining: 5m 31s\n",
      "746:\tlearn: 0.0660215\ttest: 0.0660477\tbest: 0.0660477 (746)\ttotal: 16m 14s\tremaining: 5m 30s\n",
      "747:\tlearn: 0.0660215\ttest: 0.0660477\tbest: 0.0660477 (747)\ttotal: 16m 15s\tremaining: 5m 28s\n",
      "748:\tlearn: 0.0660214\ttest: 0.0660476\tbest: 0.0660476 (748)\ttotal: 16m 16s\tremaining: 5m 27s\n",
      "749:\tlearn: 0.0660213\ttest: 0.0660476\tbest: 0.0660476 (749)\ttotal: 16m 17s\tremaining: 5m 25s\n",
      "750:\tlearn: 0.0660213\ttest: 0.0660475\tbest: 0.0660475 (750)\ttotal: 16m 18s\tremaining: 5m 24s\n",
      "751:\tlearn: 0.0660211\ttest: 0.0660475\tbest: 0.0660475 (751)\ttotal: 16m 20s\tremaining: 5m 23s\n",
      "752:\tlearn: 0.0660210\ttest: 0.0660474\tbest: 0.0660474 (752)\ttotal: 16m 21s\tremaining: 5m 22s\n",
      "753:\tlearn: 0.0660210\ttest: 0.0660473\tbest: 0.0660473 (753)\ttotal: 16m 23s\tremaining: 5m 20s\n",
      "754:\tlearn: 0.0660208\ttest: 0.0660475\tbest: 0.0660473 (753)\ttotal: 16m 24s\tremaining: 5m 19s\n",
      "755:\tlearn: 0.0660206\ttest: 0.0660475\tbest: 0.0660473 (753)\ttotal: 16m 25s\tremaining: 5m 18s\n",
      "756:\tlearn: 0.0660204\ttest: 0.0660473\tbest: 0.0660473 (756)\ttotal: 16m 27s\tremaining: 5m 17s\n",
      "757:\tlearn: 0.0660201\ttest: 0.0660474\tbest: 0.0660473 (756)\ttotal: 16m 29s\tremaining: 5m 15s\n",
      "758:\tlearn: 0.0660201\ttest: 0.0660474\tbest: 0.0660473 (756)\ttotal: 16m 29s\tremaining: 5m 14s\n",
      "759:\tlearn: 0.0660197\ttest: 0.0660472\tbest: 0.0660472 (759)\ttotal: 16m 31s\tremaining: 5m 13s\n",
      "760:\tlearn: 0.0660197\ttest: 0.0660471\tbest: 0.0660471 (760)\ttotal: 16m 32s\tremaining: 5m 11s\n",
      "761:\tlearn: 0.0660195\ttest: 0.0660470\tbest: 0.0660470 (761)\ttotal: 16m 34s\tremaining: 5m 10s\n",
      "762:\tlearn: 0.0660190\ttest: 0.0660470\tbest: 0.0660470 (762)\ttotal: 16m 35s\tremaining: 5m 9s\n",
      "763:\tlearn: 0.0660188\ttest: 0.0660469\tbest: 0.0660469 (763)\ttotal: 16m 37s\tremaining: 5m 8s\n",
      "764:\tlearn: 0.0660187\ttest: 0.0660469\tbest: 0.0660469 (764)\ttotal: 16m 38s\tremaining: 5m 6s\n",
      "765:\tlearn: 0.0660185\ttest: 0.0660469\tbest: 0.0660469 (764)\ttotal: 16m 40s\tremaining: 5m 5s\n",
      "766:\tlearn: 0.0660185\ttest: 0.0660470\tbest: 0.0660469 (764)\ttotal: 16m 42s\tremaining: 5m 4s\n",
      "767:\tlearn: 0.0660180\ttest: 0.0660470\tbest: 0.0660469 (764)\ttotal: 16m 43s\tremaining: 5m 3s\n",
      "768:\tlearn: 0.0660180\ttest: 0.0660470\tbest: 0.0660469 (764)\ttotal: 16m 45s\tremaining: 5m 2s\n",
      "769:\tlearn: 0.0660180\ttest: 0.0660470\tbest: 0.0660469 (764)\ttotal: 16m 46s\tremaining: 5m\n",
      "770:\tlearn: 0.0660180\ttest: 0.0660470\tbest: 0.0660469 (764)\ttotal: 16m 47s\tremaining: 4m 59s\n",
      "771:\tlearn: 0.0660178\ttest: 0.0660468\tbest: 0.0660468 (771)\ttotal: 16m 48s\tremaining: 4m 57s\n",
      "772:\tlearn: 0.0660178\ttest: 0.0660468\tbest: 0.0660468 (772)\ttotal: 16m 49s\tremaining: 4m 56s\n",
      "773:\tlearn: 0.0660177\ttest: 0.0660468\tbest: 0.0660468 (773)\ttotal: 16m 51s\tremaining: 4m 55s\n",
      "774:\tlearn: 0.0660175\ttest: 0.0660469\tbest: 0.0660468 (773)\ttotal: 16m 52s\tremaining: 4m 53s\n",
      "775:\tlearn: 0.0660175\ttest: 0.0660468\tbest: 0.0660468 (773)\ttotal: 16m 52s\tremaining: 4m 52s\n",
      "776:\tlearn: 0.0660175\ttest: 0.0660468\tbest: 0.0660468 (773)\ttotal: 16m 53s\tremaining: 4m 50s\n",
      "777:\tlearn: 0.0660173\ttest: 0.0660469\tbest: 0.0660468 (773)\ttotal: 16m 54s\tremaining: 4m 49s\n",
      "778:\tlearn: 0.0660172\ttest: 0.0660468\tbest: 0.0660468 (773)\ttotal: 16m 55s\tremaining: 4m 48s\n",
      "779:\tlearn: 0.0660172\ttest: 0.0660469\tbest: 0.0660468 (773)\ttotal: 16m 56s\tremaining: 4m 46s\n",
      "780:\tlearn: 0.0660172\ttest: 0.0660468\tbest: 0.0660468 (773)\ttotal: 16m 57s\tremaining: 4m 45s\n",
      "781:\tlearn: 0.0660171\ttest: 0.0660469\tbest: 0.0660468 (773)\ttotal: 16m 58s\tremaining: 4m 44s\n",
      "782:\tlearn: 0.0660170\ttest: 0.0660470\tbest: 0.0660468 (773)\ttotal: 17m\tremaining: 4m 42s\n",
      "783:\tlearn: 0.0660169\ttest: 0.0660469\tbest: 0.0660468 (773)\ttotal: 17m 1s\tremaining: 4m 41s\n",
      "784:\tlearn: 0.0660169\ttest: 0.0660469\tbest: 0.0660468 (773)\ttotal: 17m 2s\tremaining: 4m 40s\n",
      "785:\tlearn: 0.0660166\ttest: 0.0660468\tbest: 0.0660468 (785)\ttotal: 17m 4s\tremaining: 4m 38s\n",
      "786:\tlearn: 0.0660166\ttest: 0.0660468\tbest: 0.0660468 (785)\ttotal: 17m 5s\tremaining: 4m 37s\n",
      "787:\tlearn: 0.0660165\ttest: 0.0660468\tbest: 0.0660468 (787)\ttotal: 17m 7s\tremaining: 4m 36s\n",
      "788:\tlearn: 0.0660165\ttest: 0.0660467\tbest: 0.0660467 (788)\ttotal: 17m 7s\tremaining: 4m 34s\n",
      "789:\tlearn: 0.0660165\ttest: 0.0660468\tbest: 0.0660467 (788)\ttotal: 17m 9s\tremaining: 4m 33s\n",
      "790:\tlearn: 0.0660163\ttest: 0.0660470\tbest: 0.0660467 (788)\ttotal: 17m 11s\tremaining: 4m 32s\n",
      "791:\tlearn: 0.0660162\ttest: 0.0660469\tbest: 0.0660467 (788)\ttotal: 17m 12s\tremaining: 4m 31s\n",
      "792:\tlearn: 0.0660162\ttest: 0.0660469\tbest: 0.0660467 (788)\ttotal: 17m 13s\tremaining: 4m 29s\n",
      "793:\tlearn: 0.0660162\ttest: 0.0660469\tbest: 0.0660467 (788)\ttotal: 17m 14s\tremaining: 4m 28s\n",
      "794:\tlearn: 0.0660160\ttest: 0.0660470\tbest: 0.0660467 (788)\ttotal: 17m 16s\tremaining: 4m 27s\n",
      "795:\tlearn: 0.0660160\ttest: 0.0660470\tbest: 0.0660467 (788)\ttotal: 17m 16s\tremaining: 4m 25s\n",
      "796:\tlearn: 0.0660160\ttest: 0.0660470\tbest: 0.0660467 (788)\ttotal: 17m 17s\tremaining: 4m 24s\n",
      "797:\tlearn: 0.0660160\ttest: 0.0660470\tbest: 0.0660467 (788)\ttotal: 17m 18s\tremaining: 4m 22s\n",
      "798:\tlearn: 0.0660156\ttest: 0.0660473\tbest: 0.0660467 (788)\ttotal: 17m 20s\tremaining: 4m 21s\n",
      "799:\tlearn: 0.0660154\ttest: 0.0660474\tbest: 0.0660467 (788)\ttotal: 17m 21s\tremaining: 4m 20s\n",
      "800:\tlearn: 0.0660153\ttest: 0.0660474\tbest: 0.0660467 (788)\ttotal: 17m 22s\tremaining: 4m 19s\n",
      "801:\tlearn: 0.0660153\ttest: 0.0660474\tbest: 0.0660467 (788)\ttotal: 17m 23s\tremaining: 4m 17s\n",
      "802:\tlearn: 0.0660153\ttest: 0.0660474\tbest: 0.0660467 (788)\ttotal: 17m 24s\tremaining: 4m 16s\n"
     ]
    },
    {
     "name": "stdout",
     "output_type": "stream",
     "text": [
      "803:\tlearn: 0.0660152\ttest: 0.0660473\tbest: 0.0660467 (788)\ttotal: 17m 26s\tremaining: 4m 15s\n",
      "804:\tlearn: 0.0660149\ttest: 0.0660474\tbest: 0.0660467 (788)\ttotal: 17m 27s\tremaining: 4m 13s\n",
      "805:\tlearn: 0.0660146\ttest: 0.0660474\tbest: 0.0660467 (788)\ttotal: 17m 29s\tremaining: 4m 12s\n",
      "806:\tlearn: 0.0660145\ttest: 0.0660474\tbest: 0.0660467 (788)\ttotal: 17m 29s\tremaining: 4m 11s\n",
      "807:\tlearn: 0.0660141\ttest: 0.0660474\tbest: 0.0660467 (788)\ttotal: 17m 31s\tremaining: 4m 9s\n",
      "808:\tlearn: 0.0660140\ttest: 0.0660473\tbest: 0.0660467 (788)\ttotal: 17m 32s\tremaining: 4m 8s\n",
      "809:\tlearn: 0.0660140\ttest: 0.0660473\tbest: 0.0660467 (788)\ttotal: 17m 34s\tremaining: 4m 7s\n",
      "810:\tlearn: 0.0660137\ttest: 0.0660471\tbest: 0.0660467 (788)\ttotal: 17m 35s\tremaining: 4m 6s\n",
      "811:\tlearn: 0.0660136\ttest: 0.0660471\tbest: 0.0660467 (788)\ttotal: 17m 37s\tremaining: 4m 4s\n",
      "812:\tlearn: 0.0660136\ttest: 0.0660471\tbest: 0.0660467 (788)\ttotal: 17m 38s\tremaining: 4m 3s\n",
      "813:\tlearn: 0.0660134\ttest: 0.0660471\tbest: 0.0660467 (788)\ttotal: 17m 39s\tremaining: 4m 2s\n",
      "814:\tlearn: 0.0660128\ttest: 0.0660473\tbest: 0.0660467 (788)\ttotal: 17m 41s\tremaining: 4m\n",
      "815:\tlearn: 0.0660127\ttest: 0.0660472\tbest: 0.0660467 (788)\ttotal: 17m 42s\tremaining: 3m 59s\n",
      "816:\tlearn: 0.0660126\ttest: 0.0660472\tbest: 0.0660467 (788)\ttotal: 17m 44s\tremaining: 3m 58s\n",
      "817:\tlearn: 0.0660125\ttest: 0.0660471\tbest: 0.0660467 (788)\ttotal: 17m 45s\tremaining: 3m 56s\n",
      "818:\tlearn: 0.0660124\ttest: 0.0660471\tbest: 0.0660467 (788)\ttotal: 17m 45s\tremaining: 3m 55s\n",
      "819:\tlearn: 0.0660124\ttest: 0.0660471\tbest: 0.0660467 (788)\ttotal: 17m 46s\tremaining: 3m 54s\n",
      "820:\tlearn: 0.0660121\ttest: 0.0660470\tbest: 0.0660467 (788)\ttotal: 17m 48s\tremaining: 3m 52s\n",
      "821:\tlearn: 0.0660121\ttest: 0.0660470\tbest: 0.0660467 (788)\ttotal: 17m 49s\tremaining: 3m 51s\n",
      "822:\tlearn: 0.0660120\ttest: 0.0660470\tbest: 0.0660467 (788)\ttotal: 17m 50s\tremaining: 3m 50s\n",
      "823:\tlearn: 0.0660120\ttest: 0.0660471\tbest: 0.0660467 (788)\ttotal: 17m 51s\tremaining: 3m 48s\n",
      "824:\tlearn: 0.0660119\ttest: 0.0660471\tbest: 0.0660467 (788)\ttotal: 17m 52s\tremaining: 3m 47s\n",
      "825:\tlearn: 0.0660119\ttest: 0.0660471\tbest: 0.0660467 (788)\ttotal: 17m 53s\tremaining: 3m 46s\n",
      "826:\tlearn: 0.0660119\ttest: 0.0660471\tbest: 0.0660467 (788)\ttotal: 17m 54s\tremaining: 3m 44s\n",
      "827:\tlearn: 0.0660119\ttest: 0.0660471\tbest: 0.0660467 (788)\ttotal: 17m 55s\tremaining: 3m 43s\n",
      "828:\tlearn: 0.0660119\ttest: 0.0660471\tbest: 0.0660467 (788)\ttotal: 17m 56s\tremaining: 3m 42s\n",
      "829:\tlearn: 0.0660119\ttest: 0.0660472\tbest: 0.0660467 (788)\ttotal: 17m 57s\tremaining: 3m 40s\n",
      "830:\tlearn: 0.0660118\ttest: 0.0660472\tbest: 0.0660467 (788)\ttotal: 17m 58s\tremaining: 3m 39s\n",
      "831:\tlearn: 0.0660118\ttest: 0.0660471\tbest: 0.0660467 (788)\ttotal: 17m 59s\tremaining: 3m 37s\n",
      "832:\tlearn: 0.0660118\ttest: 0.0660471\tbest: 0.0660467 (788)\ttotal: 18m\tremaining: 3m 36s\n",
      "833:\tlearn: 0.0660116\ttest: 0.0660472\tbest: 0.0660467 (788)\ttotal: 18m 1s\tremaining: 3m 35s\n",
      "834:\tlearn: 0.0660115\ttest: 0.0660472\tbest: 0.0660467 (788)\ttotal: 18m 3s\tremaining: 3m 34s\n",
      "835:\tlearn: 0.0660115\ttest: 0.0660471\tbest: 0.0660467 (788)\ttotal: 18m 3s\tremaining: 3m 32s\n",
      "836:\tlearn: 0.0660113\ttest: 0.0660472\tbest: 0.0660467 (788)\ttotal: 18m 5s\tremaining: 3m 31s\n",
      "837:\tlearn: 0.0660109\ttest: 0.0660471\tbest: 0.0660467 (788)\ttotal: 18m 7s\tremaining: 3m 30s\n",
      "838:\tlearn: 0.0660106\ttest: 0.0660471\tbest: 0.0660467 (788)\ttotal: 18m 9s\tremaining: 3m 28s\n",
      "839:\tlearn: 0.0660106\ttest: 0.0660471\tbest: 0.0660467 (788)\ttotal: 18m 10s\tremaining: 3m 27s\n",
      "840:\tlearn: 0.0660105\ttest: 0.0660472\tbest: 0.0660467 (788)\ttotal: 18m 11s\tremaining: 3m 26s\n",
      "841:\tlearn: 0.0660105\ttest: 0.0660472\tbest: 0.0660467 (788)\ttotal: 18m 12s\tremaining: 3m 25s\n",
      "842:\tlearn: 0.0660105\ttest: 0.0660472\tbest: 0.0660467 (788)\ttotal: 18m 13s\tremaining: 3m 23s\n",
      "843:\tlearn: 0.0660105\ttest: 0.0660471\tbest: 0.0660467 (788)\ttotal: 18m 14s\tremaining: 3m 22s\n",
      "844:\tlearn: 0.0660105\ttest: 0.0660471\tbest: 0.0660467 (788)\ttotal: 18m 14s\tremaining: 3m 20s\n",
      "845:\tlearn: 0.0660104\ttest: 0.0660471\tbest: 0.0660467 (788)\ttotal: 18m 15s\tremaining: 3m 19s\n",
      "846:\tlearn: 0.0660104\ttest: 0.0660471\tbest: 0.0660467 (788)\ttotal: 18m 16s\tremaining: 3m 18s\n",
      "847:\tlearn: 0.0660101\ttest: 0.0660472\tbest: 0.0660467 (788)\ttotal: 18m 18s\tremaining: 3m 16s\n",
      "848:\tlearn: 0.0660098\ttest: 0.0660471\tbest: 0.0660467 (788)\ttotal: 18m 20s\tremaining: 3m 15s\n",
      "849:\tlearn: 0.0660095\ttest: 0.0660469\tbest: 0.0660467 (788)\ttotal: 18m 22s\tremaining: 3m 14s\n",
      "850:\tlearn: 0.0660094\ttest: 0.0660469\tbest: 0.0660467 (788)\ttotal: 18m 23s\tremaining: 3m 13s\n",
      "851:\tlearn: 0.0660091\ttest: 0.0660472\tbest: 0.0660467 (788)\ttotal: 18m 25s\tremaining: 3m 11s\n",
      "852:\tlearn: 0.0660088\ttest: 0.0660472\tbest: 0.0660467 (788)\ttotal: 18m 26s\tremaining: 3m 10s\n",
      "853:\tlearn: 0.0660088\ttest: 0.0660472\tbest: 0.0660467 (788)\ttotal: 18m 27s\tremaining: 3m 9s\n",
      "854:\tlearn: 0.0660088\ttest: 0.0660472\tbest: 0.0660467 (788)\ttotal: 18m 28s\tremaining: 3m 8s\n",
      "855:\tlearn: 0.0660088\ttest: 0.0660472\tbest: 0.0660467 (788)\ttotal: 18m 29s\tremaining: 3m 6s\n",
      "856:\tlearn: 0.0660088\ttest: 0.0660472\tbest: 0.0660467 (788)\ttotal: 18m 30s\tremaining: 3m 5s\n",
      "857:\tlearn: 0.0660088\ttest: 0.0660472\tbest: 0.0660467 (788)\ttotal: 18m 31s\tremaining: 3m 3s\n",
      "858:\tlearn: 0.0660088\ttest: 0.0660472\tbest: 0.0660467 (788)\ttotal: 18m 32s\tremaining: 3m 2s\n",
      "859:\tlearn: 0.0660087\ttest: 0.0660472\tbest: 0.0660467 (788)\ttotal: 18m 33s\tremaining: 3m 1s\n",
      "860:\tlearn: 0.0660086\ttest: 0.0660473\tbest: 0.0660467 (788)\ttotal: 18m 34s\tremaining: 2m 59s\n",
      "861:\tlearn: 0.0660081\ttest: 0.0660472\tbest: 0.0660467 (788)\ttotal: 18m 36s\tremaining: 2m 58s\n",
      "862:\tlearn: 0.0660080\ttest: 0.0660472\tbest: 0.0660467 (788)\ttotal: 18m 38s\tremaining: 2m 57s\n",
      "863:\tlearn: 0.0660079\ttest: 0.0660472\tbest: 0.0660467 (788)\ttotal: 18m 40s\tremaining: 2m 56s\n",
      "864:\tlearn: 0.0660079\ttest: 0.0660472\tbest: 0.0660467 (788)\ttotal: 18m 41s\tremaining: 2m 54s\n",
      "865:\tlearn: 0.0660079\ttest: 0.0660472\tbest: 0.0660467 (788)\ttotal: 18m 41s\tremaining: 2m 53s\n",
      "866:\tlearn: 0.0660077\ttest: 0.0660473\tbest: 0.0660467 (788)\ttotal: 18m 42s\tremaining: 2m 52s\n",
      "867:\tlearn: 0.0660077\ttest: 0.0660473\tbest: 0.0660467 (788)\ttotal: 18m 43s\tremaining: 2m 50s\n",
      "868:\tlearn: 0.0660073\ttest: 0.0660472\tbest: 0.0660467 (788)\ttotal: 18m 45s\tremaining: 2m 49s\n",
      "869:\tlearn: 0.0660070\ttest: 0.0660471\tbest: 0.0660467 (788)\ttotal: 18m 47s\tremaining: 2m 48s\n",
      "870:\tlearn: 0.0660070\ttest: 0.0660471\tbest: 0.0660467 (788)\ttotal: 18m 48s\tremaining: 2m 47s\n",
      "871:\tlearn: 0.0660069\ttest: 0.0660472\tbest: 0.0660467 (788)\ttotal: 18m 50s\tremaining: 2m 45s\n",
      "872:\tlearn: 0.0660067\ttest: 0.0660473\tbest: 0.0660467 (788)\ttotal: 18m 51s\tremaining: 2m 44s\n",
      "873:\tlearn: 0.0660064\ttest: 0.0660474\tbest: 0.0660467 (788)\ttotal: 18m 53s\tremaining: 2m 43s\n",
      "874:\tlearn: 0.0660064\ttest: 0.0660474\tbest: 0.0660467 (788)\ttotal: 18m 54s\tremaining: 2m 42s\n",
      "875:\tlearn: 0.0660063\ttest: 0.0660474\tbest: 0.0660467 (788)\ttotal: 18m 55s\tremaining: 2m 40s\n",
      "876:\tlearn: 0.0660063\ttest: 0.0660474\tbest: 0.0660467 (788)\ttotal: 18m 56s\tremaining: 2m 39s\n",
      "877:\tlearn: 0.0660058\ttest: 0.0660476\tbest: 0.0660467 (788)\ttotal: 18m 58s\tremaining: 2m 38s\n",
      "878:\tlearn: 0.0660058\ttest: 0.0660475\tbest: 0.0660467 (788)\ttotal: 18m 59s\tremaining: 2m 36s\n",
      "879:\tlearn: 0.0660058\ttest: 0.0660475\tbest: 0.0660467 (788)\ttotal: 19m\tremaining: 2m 35s\n",
      "880:\tlearn: 0.0660056\ttest: 0.0660476\tbest: 0.0660467 (788)\ttotal: 19m 1s\tremaining: 2m 34s\n",
      "881:\tlearn: 0.0660056\ttest: 0.0660476\tbest: 0.0660467 (788)\ttotal: 19m 2s\tremaining: 2m 32s\n",
      "882:\tlearn: 0.0660052\ttest: 0.0660476\tbest: 0.0660467 (788)\ttotal: 19m 4s\tremaining: 2m 31s\n",
      "883:\tlearn: 0.0660052\ttest: 0.0660476\tbest: 0.0660467 (788)\ttotal: 19m 5s\tremaining: 2m 30s\n",
      "884:\tlearn: 0.0660049\ttest: 0.0660476\tbest: 0.0660467 (788)\ttotal: 19m 7s\tremaining: 2m 29s\n",
      "885:\tlearn: 0.0660045\ttest: 0.0660478\tbest: 0.0660467 (788)\ttotal: 19m 9s\tremaining: 2m 27s\n",
      "886:\tlearn: 0.0660045\ttest: 0.0660478\tbest: 0.0660467 (788)\ttotal: 19m 9s\tremaining: 2m 26s\n",
      "887:\tlearn: 0.0660043\ttest: 0.0660480\tbest: 0.0660467 (788)\ttotal: 19m 11s\tremaining: 2m 25s\n",
      "888:\tlearn: 0.0660042\ttest: 0.0660480\tbest: 0.0660467 (788)\ttotal: 19m 11s\tremaining: 2m 23s\n",
      "889:\tlearn: 0.0660041\ttest: 0.0660480\tbest: 0.0660467 (788)\ttotal: 19m 13s\tremaining: 2m 22s\n",
      "890:\tlearn: 0.0660041\ttest: 0.0660480\tbest: 0.0660467 (788)\ttotal: 19m 14s\tremaining: 2m 21s\n",
      "891:\tlearn: 0.0660039\ttest: 0.0660480\tbest: 0.0660467 (788)\ttotal: 19m 16s\tremaining: 2m 20s\n"
     ]
    },
    {
     "name": "stdout",
     "output_type": "stream",
     "text": [
      "892:\tlearn: 0.0660039\ttest: 0.0660479\tbest: 0.0660467 (788)\ttotal: 19m 17s\tremaining: 2m 18s\n",
      "893:\tlearn: 0.0660036\ttest: 0.0660477\tbest: 0.0660467 (788)\ttotal: 19m 19s\tremaining: 2m 17s\n",
      "894:\tlearn: 0.0660035\ttest: 0.0660479\tbest: 0.0660467 (788)\ttotal: 19m 20s\tremaining: 2m 16s\n",
      "895:\tlearn: 0.0660033\ttest: 0.0660479\tbest: 0.0660467 (788)\ttotal: 19m 21s\tremaining: 2m 14s\n",
      "896:\tlearn: 0.0660032\ttest: 0.0660478\tbest: 0.0660467 (788)\ttotal: 19m 23s\tremaining: 2m 13s\n",
      "897:\tlearn: 0.0660030\ttest: 0.0660478\tbest: 0.0660467 (788)\ttotal: 19m 25s\tremaining: 2m 12s\n",
      "898:\tlearn: 0.0660030\ttest: 0.0660478\tbest: 0.0660467 (788)\ttotal: 19m 26s\tremaining: 2m 11s\n",
      "899:\tlearn: 0.0660030\ttest: 0.0660478\tbest: 0.0660467 (788)\ttotal: 19m 26s\tremaining: 2m 9s\n",
      "900:\tlearn: 0.0660030\ttest: 0.0660478\tbest: 0.0660467 (788)\ttotal: 19m 28s\tremaining: 2m 8s\n",
      "901:\tlearn: 0.0660030\ttest: 0.0660478\tbest: 0.0660467 (788)\ttotal: 19m 29s\tremaining: 2m 7s\n",
      "902:\tlearn: 0.0660030\ttest: 0.0660478\tbest: 0.0660467 (788)\ttotal: 19m 30s\tremaining: 2m 5s\n",
      "903:\tlearn: 0.0660028\ttest: 0.0660478\tbest: 0.0660467 (788)\ttotal: 19m 32s\tremaining: 2m 4s\n",
      "904:\tlearn: 0.0660024\ttest: 0.0660482\tbest: 0.0660467 (788)\ttotal: 19m 33s\tremaining: 2m 3s\n",
      "905:\tlearn: 0.0660024\ttest: 0.0660481\tbest: 0.0660467 (788)\ttotal: 19m 34s\tremaining: 2m 1s\n",
      "906:\tlearn: 0.0660023\ttest: 0.0660481\tbest: 0.0660467 (788)\ttotal: 19m 36s\tremaining: 2m\n",
      "907:\tlearn: 0.0660018\ttest: 0.0660480\tbest: 0.0660467 (788)\ttotal: 19m 37s\tremaining: 1m 59s\n",
      "908:\tlearn: 0.0660017\ttest: 0.0660480\tbest: 0.0660467 (788)\ttotal: 19m 39s\tremaining: 1m 58s\n",
      "909:\tlearn: 0.0660017\ttest: 0.0660480\tbest: 0.0660467 (788)\ttotal: 19m 40s\tremaining: 1m 56s\n",
      "910:\tlearn: 0.0660017\ttest: 0.0660480\tbest: 0.0660467 (788)\ttotal: 19m 41s\tremaining: 1m 55s\n",
      "911:\tlearn: 0.0660015\ttest: 0.0660481\tbest: 0.0660467 (788)\ttotal: 19m 43s\tremaining: 1m 54s\n",
      "912:\tlearn: 0.0660015\ttest: 0.0660481\tbest: 0.0660467 (788)\ttotal: 19m 43s\tremaining: 1m 52s\n",
      "913:\tlearn: 0.0660014\ttest: 0.0660481\tbest: 0.0660467 (788)\ttotal: 19m 44s\tremaining: 1m 51s\n",
      "914:\tlearn: 0.0660011\ttest: 0.0660481\tbest: 0.0660467 (788)\ttotal: 19m 46s\tremaining: 1m 50s\n",
      "915:\tlearn: 0.0660011\ttest: 0.0660481\tbest: 0.0660467 (788)\ttotal: 19m 46s\tremaining: 1m 48s\n",
      "916:\tlearn: 0.0660011\ttest: 0.0660481\tbest: 0.0660467 (788)\ttotal: 19m 47s\tremaining: 1m 47s\n",
      "917:\tlearn: 0.0660009\ttest: 0.0660481\tbest: 0.0660467 (788)\ttotal: 19m 49s\tremaining: 1m 46s\n",
      "918:\tlearn: 0.0660008\ttest: 0.0660481\tbest: 0.0660467 (788)\ttotal: 19m 50s\tremaining: 1m 44s\n",
      "919:\tlearn: 0.0660008\ttest: 0.0660481\tbest: 0.0660467 (788)\ttotal: 19m 50s\tremaining: 1m 43s\n",
      "920:\tlearn: 0.0660008\ttest: 0.0660481\tbest: 0.0660467 (788)\ttotal: 19m 52s\tremaining: 1m 42s\n",
      "921:\tlearn: 0.0660008\ttest: 0.0660480\tbest: 0.0660467 (788)\ttotal: 19m 52s\tremaining: 1m 40s\n",
      "922:\tlearn: 0.0660008\ttest: 0.0660481\tbest: 0.0660467 (788)\ttotal: 19m 54s\tremaining: 1m 39s\n",
      "923:\tlearn: 0.0660008\ttest: 0.0660481\tbest: 0.0660467 (788)\ttotal: 19m 54s\tremaining: 1m 38s\n",
      "924:\tlearn: 0.0660008\ttest: 0.0660480\tbest: 0.0660467 (788)\ttotal: 19m 55s\tremaining: 1m 36s\n",
      "925:\tlearn: 0.0660007\ttest: 0.0660481\tbest: 0.0660467 (788)\ttotal: 19m 57s\tremaining: 1m 35s\n",
      "926:\tlearn: 0.0660007\ttest: 0.0660480\tbest: 0.0660467 (788)\ttotal: 19m 58s\tremaining: 1m 34s\n",
      "927:\tlearn: 0.0660006\ttest: 0.0660480\tbest: 0.0660467 (788)\ttotal: 19m 59s\tremaining: 1m 33s\n",
      "928:\tlearn: 0.0660006\ttest: 0.0660480\tbest: 0.0660467 (788)\ttotal: 20m 1s\tremaining: 1m 31s\n",
      "929:\tlearn: 0.0660005\ttest: 0.0660481\tbest: 0.0660467 (788)\ttotal: 20m 2s\tremaining: 1m 30s\n",
      "930:\tlearn: 0.0660005\ttest: 0.0660481\tbest: 0.0660467 (788)\ttotal: 20m 3s\tremaining: 1m 29s\n",
      "931:\tlearn: 0.0660002\ttest: 0.0660479\tbest: 0.0660467 (788)\ttotal: 20m 5s\tremaining: 1m 27s\n",
      "932:\tlearn: 0.0660000\ttest: 0.0660480\tbest: 0.0660467 (788)\ttotal: 20m 7s\tremaining: 1m 26s\n",
      "933:\tlearn: 0.0660000\ttest: 0.0660479\tbest: 0.0660467 (788)\ttotal: 20m 8s\tremaining: 1m 25s\n",
      "934:\tlearn: 0.0660000\ttest: 0.0660479\tbest: 0.0660467 (788)\ttotal: 20m 10s\tremaining: 1m 24s\n",
      "935:\tlearn: 0.0659999\ttest: 0.0660479\tbest: 0.0660467 (788)\ttotal: 20m 11s\tremaining: 1m 22s\n",
      "936:\tlearn: 0.0659999\ttest: 0.0660479\tbest: 0.0660467 (788)\ttotal: 20m 12s\tremaining: 1m 21s\n",
      "937:\tlearn: 0.0659995\ttest: 0.0660478\tbest: 0.0660467 (788)\ttotal: 20m 14s\tremaining: 1m 20s\n",
      "938:\tlearn: 0.0659992\ttest: 0.0660477\tbest: 0.0660467 (788)\ttotal: 20m 15s\tremaining: 1m 18s\n",
      "939:\tlearn: 0.0659991\ttest: 0.0660476\tbest: 0.0660467 (788)\ttotal: 20m 16s\tremaining: 1m 17s\n",
      "940:\tlearn: 0.0659985\ttest: 0.0660480\tbest: 0.0660467 (788)\ttotal: 20m 18s\tremaining: 1m 16s\n",
      "941:\tlearn: 0.0659985\ttest: 0.0660480\tbest: 0.0660467 (788)\ttotal: 20m 19s\tremaining: 1m 15s\n",
      "942:\tlearn: 0.0659984\ttest: 0.0660480\tbest: 0.0660467 (788)\ttotal: 20m 20s\tremaining: 1m 13s\n",
      "943:\tlearn: 0.0659983\ttest: 0.0660479\tbest: 0.0660467 (788)\ttotal: 20m 21s\tremaining: 1m 12s\n",
      "944:\tlearn: 0.0659980\ttest: 0.0660481\tbest: 0.0660467 (788)\ttotal: 20m 22s\tremaining: 1m 11s\n",
      "945:\tlearn: 0.0659980\ttest: 0.0660481\tbest: 0.0660467 (788)\ttotal: 20m 23s\tremaining: 1m 9s\n",
      "946:\tlearn: 0.0659979\ttest: 0.0660480\tbest: 0.0660467 (788)\ttotal: 20m 25s\tremaining: 1m 8s\n",
      "947:\tlearn: 0.0659979\ttest: 0.0660480\tbest: 0.0660467 (788)\ttotal: 20m 25s\tremaining: 1m 7s\n",
      "948:\tlearn: 0.0659977\ttest: 0.0660480\tbest: 0.0660467 (788)\ttotal: 20m 27s\tremaining: 1m 5s\n",
      "949:\tlearn: 0.0659974\ttest: 0.0660481\tbest: 0.0660467 (788)\ttotal: 20m 28s\tremaining: 1m 4s\n",
      "950:\tlearn: 0.0659974\ttest: 0.0660481\tbest: 0.0660467 (788)\ttotal: 20m 29s\tremaining: 1m 3s\n",
      "951:\tlearn: 0.0659974\ttest: 0.0660481\tbest: 0.0660467 (788)\ttotal: 20m 31s\tremaining: 1m 2s\n",
      "952:\tlearn: 0.0659974\ttest: 0.0660481\tbest: 0.0660467 (788)\ttotal: 20m 31s\tremaining: 1m\n",
      "953:\tlearn: 0.0659973\ttest: 0.0660481\tbest: 0.0660467 (788)\ttotal: 20m 33s\tremaining: 59.5s\n",
      "954:\tlearn: 0.0659971\ttest: 0.0660480\tbest: 0.0660467 (788)\ttotal: 20m 34s\tremaining: 58.2s\n",
      "955:\tlearn: 0.0659969\ttest: 0.0660480\tbest: 0.0660467 (788)\ttotal: 20m 36s\tremaining: 56.9s\n",
      "956:\tlearn: 0.0659969\ttest: 0.0660480\tbest: 0.0660467 (788)\ttotal: 20m 37s\tremaining: 55.6s\n",
      "957:\tlearn: 0.0659967\ttest: 0.0660479\tbest: 0.0660467 (788)\ttotal: 20m 39s\tremaining: 54.3s\n",
      "958:\tlearn: 0.0659967\ttest: 0.0660479\tbest: 0.0660467 (788)\ttotal: 20m 39s\tremaining: 53s\n",
      "959:\tlearn: 0.0659967\ttest: 0.0660479\tbest: 0.0660467 (788)\ttotal: 20m 40s\tremaining: 51.7s\n",
      "960:\tlearn: 0.0659967\ttest: 0.0660479\tbest: 0.0660467 (788)\ttotal: 20m 41s\tremaining: 50.4s\n",
      "961:\tlearn: 0.0659967\ttest: 0.0660479\tbest: 0.0660467 (788)\ttotal: 20m 41s\tremaining: 49.1s\n",
      "962:\tlearn: 0.0659967\ttest: 0.0660479\tbest: 0.0660467 (788)\ttotal: 20m 43s\tremaining: 47.8s\n",
      "963:\tlearn: 0.0659967\ttest: 0.0660479\tbest: 0.0660467 (788)\ttotal: 20m 44s\tremaining: 46.5s\n",
      "964:\tlearn: 0.0659967\ttest: 0.0660479\tbest: 0.0660467 (788)\ttotal: 20m 44s\tremaining: 45.1s\n",
      "965:\tlearn: 0.0659962\ttest: 0.0660481\tbest: 0.0660467 (788)\ttotal: 20m 46s\tremaining: 43.9s\n",
      "966:\tlearn: 0.0659962\ttest: 0.0660481\tbest: 0.0660467 (788)\ttotal: 20m 48s\tremaining: 42.6s\n",
      "967:\tlearn: 0.0659959\ttest: 0.0660482\tbest: 0.0660467 (788)\ttotal: 20m 49s\tremaining: 41.3s\n",
      "968:\tlearn: 0.0659959\ttest: 0.0660482\tbest: 0.0660467 (788)\ttotal: 20m 51s\tremaining: 40s\n",
      "969:\tlearn: 0.0659954\ttest: 0.0660484\tbest: 0.0660467 (788)\ttotal: 20m 52s\tremaining: 38.8s\n",
      "970:\tlearn: 0.0659954\ttest: 0.0660484\tbest: 0.0660467 (788)\ttotal: 20m 53s\tremaining: 37.4s\n",
      "971:\tlearn: 0.0659954\ttest: 0.0660483\tbest: 0.0660467 (788)\ttotal: 20m 54s\tremaining: 36.1s\n",
      "972:\tlearn: 0.0659954\ttest: 0.0660483\tbest: 0.0660467 (788)\ttotal: 20m 55s\tremaining: 34.8s\n",
      "973:\tlearn: 0.0659952\ttest: 0.0660483\tbest: 0.0660467 (788)\ttotal: 20m 57s\tremaining: 33.6s\n",
      "974:\tlearn: 0.0659952\ttest: 0.0660483\tbest: 0.0660467 (788)\ttotal: 20m 57s\tremaining: 32.3s\n",
      "975:\tlearn: 0.0659950\ttest: 0.0660484\tbest: 0.0660467 (788)\ttotal: 20m 59s\tremaining: 31s\n",
      "976:\tlearn: 0.0659948\ttest: 0.0660484\tbest: 0.0660467 (788)\ttotal: 21m 1s\tremaining: 29.7s\n",
      "977:\tlearn: 0.0659944\ttest: 0.0660486\tbest: 0.0660467 (788)\ttotal: 21m 2s\tremaining: 28.4s\n",
      "978:\tlearn: 0.0659943\ttest: 0.0660486\tbest: 0.0660467 (788)\ttotal: 21m 4s\tremaining: 27.1s\n",
      "979:\tlearn: 0.0659943\ttest: 0.0660486\tbest: 0.0660467 (788)\ttotal: 21m 5s\tremaining: 25.8s\n",
      "980:\tlearn: 0.0659941\ttest: 0.0660486\tbest: 0.0660467 (788)\ttotal: 21m 7s\tremaining: 24.6s\n"
     ]
    },
    {
     "name": "stdout",
     "output_type": "stream",
     "text": [
      "981:\tlearn: 0.0659941\ttest: 0.0660486\tbest: 0.0660467 (788)\ttotal: 21m 8s\tremaining: 23.3s\n",
      "982:\tlearn: 0.0659941\ttest: 0.0660486\tbest: 0.0660467 (788)\ttotal: 21m 9s\tremaining: 21.9s\n",
      "983:\tlearn: 0.0659940\ttest: 0.0660486\tbest: 0.0660467 (788)\ttotal: 21m 10s\tremaining: 20.7s\n",
      "984:\tlearn: 0.0659940\ttest: 0.0660487\tbest: 0.0660467 (788)\ttotal: 21m 12s\tremaining: 19.4s\n",
      "985:\tlearn: 0.0659937\ttest: 0.0660489\tbest: 0.0660467 (788)\ttotal: 21m 13s\tremaining: 18.1s\n",
      "986:\tlearn: 0.0659936\ttest: 0.0660489\tbest: 0.0660467 (788)\ttotal: 21m 15s\tremaining: 16.8s\n",
      "987:\tlearn: 0.0659932\ttest: 0.0660491\tbest: 0.0660467 (788)\ttotal: 21m 17s\tremaining: 15.5s\n",
      "988:\tlearn: 0.0659932\ttest: 0.0660491\tbest: 0.0660467 (788)\ttotal: 21m 17s\tremaining: 14.2s\n",
      "989:\tlearn: 0.0659928\ttest: 0.0660491\tbest: 0.0660467 (788)\ttotal: 21m 19s\tremaining: 12.9s\n",
      "990:\tlearn: 0.0659927\ttest: 0.0660490\tbest: 0.0660467 (788)\ttotal: 21m 20s\tremaining: 11.6s\n",
      "991:\tlearn: 0.0659924\ttest: 0.0660491\tbest: 0.0660467 (788)\ttotal: 21m 21s\tremaining: 10.3s\n",
      "992:\tlearn: 0.0659924\ttest: 0.0660491\tbest: 0.0660467 (788)\ttotal: 21m 23s\tremaining: 9.04s\n",
      "993:\tlearn: 0.0659923\ttest: 0.0660491\tbest: 0.0660467 (788)\ttotal: 21m 24s\tremaining: 7.75s\n",
      "994:\tlearn: 0.0659921\ttest: 0.0660490\tbest: 0.0660467 (788)\ttotal: 21m 25s\tremaining: 6.46s\n",
      "995:\tlearn: 0.0659918\ttest: 0.0660491\tbest: 0.0660467 (788)\ttotal: 21m 27s\tremaining: 5.17s\n",
      "996:\tlearn: 0.0659916\ttest: 0.0660488\tbest: 0.0660467 (788)\ttotal: 21m 29s\tremaining: 3.88s\n",
      "997:\tlearn: 0.0659915\ttest: 0.0660488\tbest: 0.0660467 (788)\ttotal: 21m 30s\tremaining: 2.59s\n",
      "998:\tlearn: 0.0659915\ttest: 0.0660488\tbest: 0.0660467 (788)\ttotal: 21m 31s\tremaining: 1.29s\n",
      "999:\tlearn: 0.0659914\ttest: 0.0660488\tbest: 0.0660467 (788)\ttotal: 21m 33s\tremaining: 0us\n",
      "\n",
      "bestTest = 0.06604674677\n",
      "bestIteration = 788\n",
      "\n"
     ]
    },
    {
     "data": {
      "text/plain": [
       "<catboost.core.CatBoostClassifier at 0x19f8a857cc0>"
      ]
     },
     "execution_count": 212,
     "metadata": {},
     "output_type": "execute_result"
    }
   ],
   "source": [
    "#importing library and building model\n",
    "from catboost import CatBoostClassifier\n",
    "model=CatBoostClassifier(iterations=1000, depth=10,learning_rate=0.01, loss_function='CrossEntropy')\n",
    "model.fit(X_train, y_train,eval_set=(X_validation, y_validation))"
   ]
  },
  {
   "cell_type": "code",
   "execution_count": 217,
   "metadata": {
    "ExecuteTime": {
     "end_time": "2018-03-25T03:51:54.179581Z",
     "start_time": "2018-03-25T03:51:43.268016Z"
    },
    "hidden": true
   },
   "outputs": [],
   "source": [
    "prediction_proba = model.predict_proba(test)"
   ]
  },
  {
   "cell_type": "code",
   "execution_count": 219,
   "metadata": {
    "ExecuteTime": {
     "end_time": "2018-03-25T03:52:44.391221Z",
     "start_time": "2018-03-25T03:52:44.167238Z"
    },
    "hidden": true
   },
   "outputs": [
    {
     "data": {
      "text/plain": [
       "array([ 0.01567,  0.01569,  0.0155 , ...,  0.02772,  0.02941,  0.02941])"
      ]
     },
     "execution_count": 219,
     "metadata": {},
     "output_type": "execute_result"
    }
   ],
   "source": [
    "prediction_proba[:,1]"
   ]
  },
  {
   "cell_type": "code",
   "execution_count": 204,
   "metadata": {
    "ExecuteTime": {
     "end_time": "2018-03-25T03:26:40.293377Z",
     "start_time": "2018-03-25T03:26:40.025704Z"
    },
    "hidden": true
   },
   "outputs": [],
   "source": [
    "def make_submission(probs):\n",
    "    sample = pd.read_csv(f'{PATH}//sample_submission.csv')\n",
    "    submit = sample.copy()\n",
    "    submit['is_click'] = probs\n",
    "    return submit"
   ]
  },
  {
   "cell_type": "code",
   "execution_count": 221,
   "metadata": {
    "ExecuteTime": {
     "end_time": "2018-03-25T03:53:08.634210Z",
     "start_time": "2018-03-25T03:53:08.010792Z"
    },
    "hidden": true
   },
   "outputs": [],
   "source": [
    "submit = make_submission(prediction_proba[:,1])"
   ]
  },
  {
   "cell_type": "code",
   "execution_count": 222,
   "metadata": {
    "ExecuteTime": {
     "end_time": "2018-03-25T03:53:09.238791Z",
     "start_time": "2018-03-25T03:53:09.041722Z"
    },
    "hidden": true
   },
   "outputs": [
    {
     "data": {
      "text/html": [
       "<div>\n",
       "<style>\n",
       "    .dataframe thead tr:only-child th {\n",
       "        text-align: right;\n",
       "    }\n",
       "\n",
       "    .dataframe thead th {\n",
       "        text-align: left;\n",
       "    }\n",
       "\n",
       "    .dataframe tbody tr th {\n",
       "        vertical-align: top;\n",
       "    }\n",
       "</style>\n",
       "<table border=\"1\" class=\"dataframe\">\n",
       "  <thead>\n",
       "    <tr style=\"text-align: right;\">\n",
       "      <th></th>\n",
       "      <th>id</th>\n",
       "      <th>is_click</th>\n",
       "    </tr>\n",
       "  </thead>\n",
       "  <tbody>\n",
       "    <tr>\n",
       "      <th>0</th>\n",
       "      <td>63_122715</td>\n",
       "      <td>0.015673</td>\n",
       "    </tr>\n",
       "    <tr>\n",
       "      <th>1</th>\n",
       "      <td>56_76206</td>\n",
       "      <td>0.015691</td>\n",
       "    </tr>\n",
       "  </tbody>\n",
       "</table>\n",
       "</div>"
      ],
      "text/plain": [
       "          id  is_click\n",
       "0  63_122715  0.015673\n",
       "1   56_76206  0.015691"
      ]
     },
     "execution_count": 222,
     "metadata": {},
     "output_type": "execute_result"
    }
   ],
   "source": [
    "submit.head(2)"
   ]
  },
  {
   "cell_type": "code",
   "execution_count": 223,
   "metadata": {
    "ExecuteTime": {
     "end_time": "2018-03-25T03:53:16.640216Z",
     "start_time": "2018-03-25T03:53:13.355556Z"
    },
    "hidden": true
   },
   "outputs": [],
   "source": [
    "submit.to_csv(PATH + '//logistic_reg_sub2.csv', index=False)"
   ]
  },
  {
   "cell_type": "code",
   "execution_count": 201,
   "metadata": {
    "ExecuteTime": {
     "end_time": "2018-03-25T03:25:52.187878Z",
     "start_time": "2018-03-25T03:25:51.910452Z"
    },
    "hidden": true
   },
   "outputs": [],
   "source": [
    "from  sklearn.metrics  import  mean_squared_error\n",
    "\n",
    "from  sklearn.preprocessing  import  StandardScaler \n",
    "from  sklearn.model_selection  import  GridSearchCV\n",
    "from  sklearn.linear_model  import   LogisticRegression \n",
    "from  sklearn.linear_model  import   LinearRegression \n",
    "from  sklearn.neighbors  import   KNeighborsRegressor \n",
    "from  sklearn.ensemble  import   RandomForestRegressor \n",
    "from  sklearn.ensemble  import   GradientBoostingRegressor \n",
    "from  sklearn.ensemble  import   AdaBoostRegressor \n",
    "from  sklearn.svm  import  LinearSVR\n",
    "\n",
    "from  sklearn.learning_curve  import  learning_curve\n",
    "\n",
    "from  scipy  import  stats"
   ]
  },
  {
   "cell_type": "code",
   "execution_count": 203,
   "metadata": {
    "ExecuteTime": {
     "end_time": "2018-03-24T19:17:45.060871Z",
     "start_time": "2018-03-24T19:17:44.443420Z"
    },
    "hidden": true
   },
   "outputs": [
    {
     "name": "stderr",
     "output_type": "stream",
     "text": [
      "C:\\ProgramData\\Anaconda3\\lib\\site-packages\\sklearn\\model_selection\\_split.py:2026: FutureWarning: From version 0.21, test_size will always complement train_size unless both are specified.\n",
      "  FutureWarning)\n"
     ]
    }
   ],
   "source": [
    "X_train, X_validation, y_train, y_validation = train_test_split(df_raw, y_target, train_size=0.8, random_state=17)"
   ]
  },
  {
   "cell_type": "code",
   "execution_count": null,
   "metadata": {
    "ExecuteTime": {
     "start_time": "2018-03-24T19:23:57.448Z"
    },
    "hidden": true
   },
   "outputs": [],
   "source": [
    "# We teach the basic random forest for the selection of characteristics \n",
    "rfc_base = RandomForestRegressor ( n_estimators = 500 , random_state = 42,n_jobs=-1 ) \n",
    "rfc_base . fit ( X_train , y_train )"
   ]
  },
  {
   "cell_type": "code",
   "execution_count": null,
   "metadata": {
    "ExecuteTime": {
     "start_time": "2018-03-24T19:24:25.029Z"
    },
    "hidden": true
   },
   "outputs": [],
   "source": [
    "# Display the significance of features \n",
    "features  =  pd . DataFrame ( rfc_base.feature_importances_ ,  index = X_train . columns , \n",
    "                        columns = [ 'Importance' ]) . sort_values ([ 'Importance' ],  ascending = False ) \n",
    "features"
   ]
  },
  {
   "cell_type": "code",
   "execution_count": null,
   "metadata": {
    "ExecuteTime": {
     "end_time": "2018-03-24T19:23:50.204412Z",
     "start_time": "2018-03-24T19:19:11.838Z"
    },
    "hidden": true
   },
   "outputs": [],
   "source": [
    "# Let's \n",
    "start choosing a model # List of regressors regressors \n",
    "= [ LinearRegression (), GradientBoostingRegressor ( random_state = 17 ), RandomForestRegressor ( random_state = 17 ), LinearSVR ( random_state = 17 )]\n",
    "\n",
    "regressor_name = [ 'LinearRegression' , 'GradientBoostingRegressor' , 'RandomForestRegressor' , 'LinearSVR' ]  "
   ]
  },
  {
   "cell_type": "code",
   "execution_count": null,
   "metadata": {
    "hidden": true
   },
   "outputs": [],
   "source": [
    "# Parameters to the regressors \n",
    "scores  =  [] \n",
    "fits  =  [] \n",
    "linear_params  =  { 'normalize' :  ( True ,  False )} \n",
    "gbr_params  =  { 'n_estimators' :  [ 100 ,  300 ,  500 ], \n",
    "              'learning_rate' :( 0.1 ,  0.5 ,  1 ), \n",
    "              'max_depth' :  list ( range ( 3 ,  10 ,  2 )),  \n",
    "              'min_samples_leaf':  list ( range ( 10 ,  31 ,  10 ))} \n",
    "forest_params  =  { 'n_estimators' :  [ 100 ,  300 ,  500 ],  \n",
    "                 'max_depth' :  list ( range ( 3 ,  10 ,  2 )),  \n",
    "                 'min_samples_leaf' :  list ( range ( 10 ,  31 ,  10 ))}\n",
    "\n",
    "svm_params  =  { 'loss'  :  ( 'epsilon_insensitive' ,  'squared_epsilon_insensitive' ),  'C' :  ( . 5 ,  1 ,  2 )} \n",
    "params  =  [ linear_params ,  gbr_params ,  forest_params ,  svm_params ]"
   ]
  },
  {
   "cell_type": "code",
   "execution_count": null,
   "metadata": {
    "hidden": true
   },
   "outputs": [],
   "source": [
    "# We search the regressors parameters in search of the best (on 5 folds) \n",
    "np . random . seed ( 42 ) \n",
    "for  i ,  each_regressor  in  enumerate ( regressors ): \n",
    "    reg  =  each_regressor \n",
    "    reg_params  =  params [ i ] \n",
    "    grid  =  GridSearchCV ( reg ,  reg_params ,  \n",
    "                        cv = 5 , \n",
    "                        scoring = 'neg_mean_squared_error' , \n",
    "                        n_jobs = -1 )\n",
    "    grid . fit ( X_train ,  y_train ) \n",
    "    fits . append ( grid . best_params_ ) \n",
    "    reg_best_score  =  grid . best_score_ \n",
    "    scores . append ( reg_best_score ) \n",
    "    print ( regressor_name [ i ],  - reg_best_score ,  \" \\ n \" ,  grid . best_params_ ,  \" \\ n \" )"
   ]
  },
  {
   "cell_type": "code",
   "execution_count": null,
   "metadata": {
    "hidden": true
   },
   "outputs": [],
   "source": [
    "# In-depth selection of hyperparameters for a random forest \n",
    "np . random . seed ( 42 ) \n",
    "forest_params_deep  =  { 'n_estimators' :  [ 100 , 150 , 200 , 300 , 500 ],  #n_estimators - number of trees in the random forest \n",
    "                 'max_depth' :  list ( range ( 3 ,  13 ,  2 )),  #max_depth - maximum depth of the tree \n",
    "                 'min_samples_leaf' :  list ( range( 5 ,  30 ,  5 ))} #min_samples_leaf - the minimum number of objects in the tree sheet. \n",
    "rfr = RandomForestRegressor ( random_state = 42 ) \n",
    "grid_rfr  =  GridSearchCV ( rfr ,  forest_params_deep ,  \n",
    "                        cv = 5 , \n",
    "                        scoring = 'neg_mean_squared_error' , \n",
    "                        n_jobs = -1 )"
   ]
  },
  {
   "cell_type": "code",
   "execution_count": null,
   "metadata": {
    "hidden": true
   },
   "outputs": [],
   "source": [
    "grid_rfr . fit ( X_train ,  y_train )"
   ]
  },
  {
   "cell_type": "code",
   "execution_count": null,
   "metadata": {
    "hidden": true
   },
   "outputs": [],
   "source": [
    "# The result is even better! \n",
    "print ( - grid_rfr . best_score_ , ' \\ n ' , grid_rfr . best_params_ )"
   ]
  },
  {
   "cell_type": "markdown",
   "metadata": {},
   "source": [
    "## 25/03/18"
   ]
  },
  {
   "cell_type": "code",
   "execution_count": 6,
   "metadata": {
    "ExecuteTime": {
     "end_time": "2018-03-25T16:43:16.874267Z",
     "start_time": "2018-03-25T16:43:16.512968Z"
    }
   },
   "outputs": [
    {
     "data": {
      "text/html": [
       "<div>\n",
       "<style>\n",
       "    .dataframe thead tr:only-child th {\n",
       "        text-align: right;\n",
       "    }\n",
       "\n",
       "    .dataframe thead th {\n",
       "        text-align: left;\n",
       "    }\n",
       "\n",
       "    .dataframe tbody tr th {\n",
       "        vertical-align: top;\n",
       "    }\n",
       "</style>\n",
       "<table border=\"1\" class=\"dataframe\">\n",
       "  <thead>\n",
       "    <tr style=\"text-align: right;\">\n",
       "      <th></th>\n",
       "      <th>0</th>\n",
       "    </tr>\n",
       "  </thead>\n",
       "  <tbody>\n",
       "    <tr>\n",
       "      <th>id</th>\n",
       "      <td>42_14051</td>\n",
       "    </tr>\n",
       "    <tr>\n",
       "      <th>user_id</th>\n",
       "      <td>14051</td>\n",
       "    </tr>\n",
       "    <tr>\n",
       "      <th>campaign_id</th>\n",
       "      <td>42</td>\n",
       "    </tr>\n",
       "    <tr>\n",
       "      <th>is_open</th>\n",
       "      <td>0</td>\n",
       "    </tr>\n",
       "    <tr>\n",
       "      <th>is_click</th>\n",
       "      <td>0</td>\n",
       "    </tr>\n",
       "    <tr>\n",
       "      <th>send_Year</th>\n",
       "      <td>2017</td>\n",
       "    </tr>\n",
       "    <tr>\n",
       "      <th>send_Month</th>\n",
       "      <td>1</td>\n",
       "    </tr>\n",
       "    <tr>\n",
       "      <th>send_Week</th>\n",
       "      <td>2</td>\n",
       "    </tr>\n",
       "    <tr>\n",
       "      <th>send_Day</th>\n",
       "      <td>9</td>\n",
       "    </tr>\n",
       "    <tr>\n",
       "      <th>send_Dayofweek</th>\n",
       "      <td>0</td>\n",
       "    </tr>\n",
       "    <tr>\n",
       "      <th>send_Dayofyear</th>\n",
       "      <td>9</td>\n",
       "    </tr>\n",
       "    <tr>\n",
       "      <th>send_Is_month_end</th>\n",
       "      <td>False</td>\n",
       "    </tr>\n",
       "    <tr>\n",
       "      <th>send_Is_month_start</th>\n",
       "      <td>False</td>\n",
       "    </tr>\n",
       "    <tr>\n",
       "      <th>send_Is_quarter_end</th>\n",
       "      <td>False</td>\n",
       "    </tr>\n",
       "    <tr>\n",
       "      <th>send_Is_quarter_start</th>\n",
       "      <td>False</td>\n",
       "    </tr>\n",
       "    <tr>\n",
       "      <th>send_Is_year_end</th>\n",
       "      <td>False</td>\n",
       "    </tr>\n",
       "    <tr>\n",
       "      <th>send_Is_year_start</th>\n",
       "      <td>False</td>\n",
       "    </tr>\n",
       "    <tr>\n",
       "      <th>total_links</th>\n",
       "      <td>88</td>\n",
       "    </tr>\n",
       "    <tr>\n",
       "      <th>no_of_internal_links</th>\n",
       "      <td>79</td>\n",
       "    </tr>\n",
       "    <tr>\n",
       "      <th>no_of_images</th>\n",
       "      <td>13</td>\n",
       "    </tr>\n",
       "    <tr>\n",
       "      <th>no_of_sections</th>\n",
       "      <td>4</td>\n",
       "    </tr>\n",
       "    <tr>\n",
       "      <th>len_email_body</th>\n",
       "      <td>52</td>\n",
       "    </tr>\n",
       "    <tr>\n",
       "      <th>diversity_email_body</th>\n",
       "      <td>0.0419682</td>\n",
       "    </tr>\n",
       "    <tr>\n",
       "      <th>diversity_subject</th>\n",
       "      <td>0.386364</td>\n",
       "    </tr>\n",
       "    <tr>\n",
       "      <th>body_per_sec</th>\n",
       "      <td>13</td>\n",
       "    </tr>\n",
       "    <tr>\n",
       "      <th>diversity_email_url</th>\n",
       "      <td>0.457143</td>\n",
       "    </tr>\n",
       "    <tr>\n",
       "      <th>img_per_sec</th>\n",
       "      <td>3.25</td>\n",
       "    </tr>\n",
       "    <tr>\n",
       "      <th>other_links</th>\n",
       "      <td>9</td>\n",
       "    </tr>\n",
       "    <tr>\n",
       "      <th>av_links_percent</th>\n",
       "      <td>0.897727</td>\n",
       "    </tr>\n",
       "    <tr>\n",
       "      <th>links_per_sec</th>\n",
       "      <td>22</td>\n",
       "    </tr>\n",
       "    <tr>\n",
       "      <th>...</th>\n",
       "      <td>...</td>\n",
       "    </tr>\n",
       "    <tr>\n",
       "      <th>code_email_url_7vtb2vb5p4c</th>\n",
       "      <td>0</td>\n",
       "    </tr>\n",
       "    <tr>\n",
       "      <th>code_email_url_7vv5g7b5p4c</th>\n",
       "      <td>0</td>\n",
       "    </tr>\n",
       "    <tr>\n",
       "      <th>code_email_url_7vzmmvb5p4c</th>\n",
       "      <td>0</td>\n",
       "    </tr>\n",
       "    <tr>\n",
       "      <th>code_email_url_7w2sevb5p4c</th>\n",
       "      <td>0</td>\n",
       "    </tr>\n",
       "    <tr>\n",
       "      <th>code_email_url_7w3uc7b5p4c</th>\n",
       "      <td>0</td>\n",
       "    </tr>\n",
       "    <tr>\n",
       "      <th>code_email_url_7w43tjb5p4c</th>\n",
       "      <td>0</td>\n",
       "    </tr>\n",
       "    <tr>\n",
       "      <th>code_email_url_7w5y6vb5p4c</th>\n",
       "      <td>0</td>\n",
       "    </tr>\n",
       "    <tr>\n",
       "      <th>code_email_url_7w6qmvb5p4c</th>\n",
       "      <td>0</td>\n",
       "    </tr>\n",
       "    <tr>\n",
       "      <th>code_email_url_7w7047b5p4c</th>\n",
       "      <td>0</td>\n",
       "    </tr>\n",
       "    <tr>\n",
       "      <th>code_email_url_7wghg7b5p4c</th>\n",
       "      <td>0</td>\n",
       "    </tr>\n",
       "    <tr>\n",
       "      <th>code_email_url_7wh9w7b5p4c</th>\n",
       "      <td>0</td>\n",
       "    </tr>\n",
       "    <tr>\n",
       "      <th>code_email_url_7whsuvb5p4c</th>\n",
       "      <td>0</td>\n",
       "    </tr>\n",
       "    <tr>\n",
       "      <th>code_email_url_7wjn87b5p4c</th>\n",
       "      <td>0</td>\n",
       "    </tr>\n",
       "    <tr>\n",
       "      <th>code_email_url_7wjwpjb5p4c</th>\n",
       "      <td>0</td>\n",
       "    </tr>\n",
       "    <tr>\n",
       "      <th>code_email_url_7wkfo7b5p4c</th>\n",
       "      <td>0</td>\n",
       "    </tr>\n",
       "    <tr>\n",
       "      <th>code_email_url_7wnbyvb5p4c</th>\n",
       "      <td>0</td>\n",
       "    </tr>\n",
       "    <tr>\n",
       "      <th>code_email_url_7wo4evb5p4c</th>\n",
       "      <td>0</td>\n",
       "    </tr>\n",
       "    <tr>\n",
       "      <th>code_email_url_7wowuvb5p4c</th>\n",
       "      <td>0</td>\n",
       "    </tr>\n",
       "    <tr>\n",
       "      <th>code_email_url_7wppavb5p4c</th>\n",
       "      <td>0</td>\n",
       "    </tr>\n",
       "    <tr>\n",
       "      <th>code_email_url_7wqhqvb5p4c</th>\n",
       "      <td>0</td>\n",
       "    </tr>\n",
       "    <tr>\n",
       "      <th>code_email_url_7wra6vb5p4c</th>\n",
       "      <td>0</td>\n",
       "    </tr>\n",
       "    <tr>\n",
       "      <th>code_email_url_7wrjo7b5p4c</th>\n",
       "      <td>0</td>\n",
       "    </tr>\n",
       "    <tr>\n",
       "      <th>code_email_url_7ww0uvb5p4c</th>\n",
       "      <td>0</td>\n",
       "    </tr>\n",
       "    <tr>\n",
       "      <th>code_email_url_7wx2s7b5p4c</th>\n",
       "      <td>0</td>\n",
       "    </tr>\n",
       "    <tr>\n",
       "      <th>code_email_url_7wxlqvb5p4c</th>\n",
       "      <td>0</td>\n",
       "    </tr>\n",
       "    <tr>\n",
       "      <th>code_email_url_7wxv87b5p4c</th>\n",
       "      <td>0</td>\n",
       "    </tr>\n",
       "    <tr>\n",
       "      <th>code_email_url_7wz6mvb5p4c</th>\n",
       "      <td>0</td>\n",
       "    </tr>\n",
       "    <tr>\n",
       "      <th>code_email_url_7wzpljb5p4c</th>\n",
       "      <td>0</td>\n",
       "    </tr>\n",
       "    <tr>\n",
       "      <th>code_email_url_7x08k7b5p4c</th>\n",
       "      <td>0</td>\n",
       "    </tr>\n",
       "    <tr>\n",
       "      <th>code_email_url_o7ohwml8lxh</th>\n",
       "      <td>0</td>\n",
       "    </tr>\n",
       "  </tbody>\n",
       "</table>\n",
       "<p>89 rows × 1 columns</p>\n",
       "</div>"
      ],
      "text/plain": [
       "                                    0\n",
       "id                           42_14051\n",
       "user_id                         14051\n",
       "campaign_id                        42\n",
       "is_open                             0\n",
       "is_click                            0\n",
       "send_Year                        2017\n",
       "send_Month                          1\n",
       "send_Week                           2\n",
       "send_Day                            9\n",
       "send_Dayofweek                      0\n",
       "send_Dayofyear                      9\n",
       "send_Is_month_end               False\n",
       "send_Is_month_start             False\n",
       "send_Is_quarter_end             False\n",
       "send_Is_quarter_start           False\n",
       "send_Is_year_end                False\n",
       "send_Is_year_start              False\n",
       "total_links                        88\n",
       "no_of_internal_links               79\n",
       "no_of_images                       13\n",
       "no_of_sections                      4\n",
       "len_email_body                     52\n",
       "diversity_email_body        0.0419682\n",
       "diversity_subject            0.386364\n",
       "body_per_sec                       13\n",
       "diversity_email_url          0.457143\n",
       "img_per_sec                      3.25\n",
       "other_links                         9\n",
       "av_links_percent             0.897727\n",
       "links_per_sec                      22\n",
       "...                               ...\n",
       "code_email_url_7vtb2vb5p4c          0\n",
       "code_email_url_7vv5g7b5p4c          0\n",
       "code_email_url_7vzmmvb5p4c          0\n",
       "code_email_url_7w2sevb5p4c          0\n",
       "code_email_url_7w3uc7b5p4c          0\n",
       "code_email_url_7w43tjb5p4c          0\n",
       "code_email_url_7w5y6vb5p4c          0\n",
       "code_email_url_7w6qmvb5p4c          0\n",
       "code_email_url_7w7047b5p4c          0\n",
       "code_email_url_7wghg7b5p4c          0\n",
       "code_email_url_7wh9w7b5p4c          0\n",
       "code_email_url_7whsuvb5p4c          0\n",
       "code_email_url_7wjn87b5p4c          0\n",
       "code_email_url_7wjwpjb5p4c          0\n",
       "code_email_url_7wkfo7b5p4c          0\n",
       "code_email_url_7wnbyvb5p4c          0\n",
       "code_email_url_7wo4evb5p4c          0\n",
       "code_email_url_7wowuvb5p4c          0\n",
       "code_email_url_7wppavb5p4c          0\n",
       "code_email_url_7wqhqvb5p4c          0\n",
       "code_email_url_7wra6vb5p4c          0\n",
       "code_email_url_7wrjo7b5p4c          0\n",
       "code_email_url_7ww0uvb5p4c          0\n",
       "code_email_url_7wx2s7b5p4c          0\n",
       "code_email_url_7wxlqvb5p4c          0\n",
       "code_email_url_7wxv87b5p4c          0\n",
       "code_email_url_7wz6mvb5p4c          0\n",
       "code_email_url_7wzpljb5p4c          0\n",
       "code_email_url_7x08k7b5p4c          0\n",
       "code_email_url_o7ohwml8lxh          0\n",
       "\n",
       "[89 rows x 1 columns]"
      ]
     },
     "execution_count": 6,
     "metadata": {},
     "output_type": "execute_result"
    }
   ],
   "source": []
  },
  {
   "cell_type": "code",
   "execution_count": null,
   "metadata": {},
   "outputs": [],
   "source": []
  }
 ],
 "metadata": {
  "kernelspec": {
   "display_name": "Python 3",
   "language": "python",
   "name": "python3"
  },
  "language_info": {
   "codemirror_mode": {
    "name": "ipython",
    "version": 3
   },
   "file_extension": ".py",
   "mimetype": "text/x-python",
   "name": "python",
   "nbconvert_exporter": "python",
   "pygments_lexer": "ipython3",
   "version": "3.6.3"
  },
  "nbTranslate": {
   "displayLangs": [
    "*"
   ],
   "hotkey": "alt-t",
   "langInMainMenu": true,
   "sourceLang": "en",
   "targetLang": "fr",
   "useGoogleTranslate": true
  }
 },
 "nbformat": 4,
 "nbformat_minor": 2
}
