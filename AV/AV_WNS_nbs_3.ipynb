{
 "cells": [
  {
   "cell_type": "code",
   "execution_count": 1,
   "metadata": {
    "ExecuteTime": {
     "end_time": "2018-09-16T16:43:36.403506Z",
     "start_time": "2018-09-16T16:43:27.281194Z"
    }
   },
   "outputs": [],
   "source": [
    "%load_ext autoreload\n",
    "%autoreload 2\n",
    "\n",
    "%matplotlib inline"
   ]
  },
  {
   "cell_type": "code",
   "execution_count": 2,
   "metadata": {
    "ExecuteTime": {
     "end_time": "2018-09-16T16:44:04.790095Z",
     "start_time": "2018-09-16T16:43:36.403506Z"
    }
   },
   "outputs": [],
   "source": [
    "import time\n",
    "import xgboost as xgb\n",
    "import lightgbm as lgb\n",
    "# import category_encoders as cat_ed\n",
    "import gc, mlcrate, glob\n",
    "\n",
    "# from gplearn.genetic import SymbolicTransformer, SymbolicClassifier\n",
    "from fastai.imports import *\n",
    "from fastai.structured import *\n",
    "from pandas_summary import DataFrameSummary\n",
    "from sklearn.ensemble import RandomForestClassifier, ExtraTreesClassifier, ExtraTreesRegressor\n",
    "from IPython.display import display\n",
    "\n",
    "from catboost import CatBoostClassifier\n",
    "from scipy.cluster import hierarchy as hc\n",
    "from collections import Counter\n",
    "\n",
    "from sklearn import metrics\n",
    "from sklearn.linear_model import LogisticRegression, Ridge\n",
    "from sklearn.model_selection import train_test_split\n",
    "from sklearn.metrics import mean_squared_error\n",
    "from sklearn.metrics import  roc_auc_score, log_loss\n",
    "from sklearn.model_selection import KFold, StratifiedKFold\n",
    "from sklearn.model_selection import GridSearchCV\n",
    "from sklearn.decomposition import PCA, TruncatedSVD, FastICA, FactorAnalysis\n",
    "from sklearn.random_projection import GaussianRandomProjection, SparseRandomProjection\n",
    "from sklearn.cluster import KMeans\n",
    "\n",
    "from sklearn.metrics import accuracy_score, log_loss\n",
    "from sklearn.neighbors import KNeighborsClassifier\n",
    "from sklearn.tree import DecisionTreeClassifier\n",
    "from sklearn.ensemble import AdaBoostClassifier, GradientBoostingClassifier\n",
    "from sklearn.naive_bayes import GaussianNB\n",
    "from sklearn.discriminant_analysis import QuadraticDiscriminantAnalysis\n",
    "from sklearn.neural_network import MLPClassifier\n",
    "from sklearn.gaussian_process import GaussianProcessClassifier\n",
    "from sklearn.gaussian_process.kernels import RBF\n",
    "\n",
    "# will ignore all warning from sklearn, seaborn etc..\n",
    "def ignore_warn(*args, **kwargs):\n",
    "    pass\n",
    "warnings.warn = ignore_warn\n",
    "\n",
    "pd.option_context(\"display.max_rows\", 1000);\n",
    "pd.option_context(\"display.max_columns\", 1000);"
   ]
  },
  {
   "cell_type": "code",
   "execution_count": 3,
   "metadata": {
    "ExecuteTime": {
     "end_time": "2018-09-16T16:44:04.972331Z",
     "start_time": "2018-09-16T16:44:04.790095Z"
    }
   },
   "outputs": [
    {
     "data": {
      "text/plain": [
       "'D:\\\\Github\\\\fastai\\\\courses\\\\ml1\\\\AV_WNS'"
      ]
     },
     "execution_count": 3,
     "metadata": {},
     "output_type": "execute_result"
    }
   ],
   "source": [
    "PATH = os.getcwd()\n",
    "PATH"
   ]
  },
  {
   "cell_type": "code",
   "execution_count": 4,
   "metadata": {
    "ExecuteTime": {
     "end_time": "2018-09-15T17:15:37.926248Z",
     "start_time": "2018-09-15T17:15:37.502147Z"
    }
   },
   "outputs": [],
   "source": [
    "df_raw = pd.read_csv(f'{PATH}\\\\train.csv', low_memory=False)\n",
    "df_test = pd.read_csv(f'{PATH}\\\\test.csv', low_memory=False)\n",
    "\n",
    "df_raw['previous_year_rating'].fillna(0, inplace=True)\n",
    "df_test['previous_year_rating'].fillna(0, inplace=True)\n",
    "\n",
    "df_raw['education'].replace('\\'s', '', regex=True, inplace=True)\n",
    "df_test['education'].replace('\\'s', '', regex=True, inplace=True)\n",
    "\n",
    "df_raw.drop('employee_id', axis=1, inplace=True)\n",
    "df_test.drop('employee_id', axis=1, inplace=True)"
   ]
  },
  {
   "cell_type": "code",
   "execution_count": 5,
   "metadata": {
    "ExecuteTime": {
     "end_time": "2018-09-15T17:15:38.757687Z",
     "start_time": "2018-09-15T17:15:38.392419Z"
    },
    "scrolled": true
   },
   "outputs": [
    {
     "name": "stdout",
     "output_type": "stream",
     "text": [
      "department\n",
      "9\n",
      "------------------------------------------------------------------------------------------------------------------------\n",
      "region\n",
      "34\n",
      "------------------------------------------------------------------------------------------------------------------------\n",
      "education\n",
      "3 [('Bachelor', 36669), ('Below Secondary', 805), ('Master & above', 14925)]\n",
      "------------------------------------------------------------------------------------------------------------------------\n",
      "gender\n",
      "2 [('f', 16312), ('m', 38496)]\n",
      "------------------------------------------------------------------------------------------------------------------------\n",
      "recruitment_channel\n",
      "3 [('other', 30446), ('referred', 1142), ('sourcing', 23220)]\n",
      "------------------------------------------------------------------------------------------------------------------------\n",
      "no_of_trainings\n",
      "10\n",
      "------------------------------------------------------------------------------------------------------------------------\n",
      "age\n",
      "41\n",
      "------------------------------------------------------------------------------------------------------------------------\n",
      "previous_year_rating\n",
      "6 [(0.0, 4124), (1.0, 6223), (2.0, 4225), (3.0, 18618), (4.0, 9877), (5.0, 11741)]\n",
      "------------------------------------------------------------------------------------------------------------------------\n",
      "length_of_service\n",
      "35\n",
      "------------------------------------------------------------------------------------------------------------------------\n",
      "KPIs_met >80%\n",
      "2 [(0, 35517), (1, 19291)]\n",
      "------------------------------------------------------------------------------------------------------------------------\n",
      "awards_won?\n",
      "2 [(0, 53538), (1, 1270)]\n",
      "------------------------------------------------------------------------------------------------------------------------\n",
      "avg_training_score\n",
      "61\n",
      "------------------------------------------------------------------------------------------------------------------------\n",
      "is_promoted\n",
      "2 [(0, 50140), (1, 4668)]\n",
      "------------------------------------------------------------------------------------------------------------------------\n"
     ]
    }
   ],
   "source": [
    "for c in df_raw.columns:\n",
    "    n = df_raw[c].nunique()\n",
    "    print(c)\n",
    "    if n <= 8:\n",
    "        print(n, sorted(df_raw[c].value_counts().to_dict().items()))\n",
    "    else:\n",
    "        print(n)\n",
    "    print(120 * '-')"
   ]
  },
  {
   "cell_type": "code",
   "execution_count": 6,
   "metadata": {
    "ExecuteTime": {
     "end_time": "2018-09-15T17:15:39.658848Z",
     "start_time": "2018-09-15T17:15:39.377844Z"
    }
   },
   "outputs": [
    {
     "data": {
      "text/plain": [
       "((54808, 13), (23490, 12))"
      ]
     },
     "execution_count": 6,
     "metadata": {},
     "output_type": "execute_result"
    }
   ],
   "source": [
    "df_raw.shape, df_test.shape"
   ]
  },
  {
   "cell_type": "code",
   "execution_count": 7,
   "metadata": {
    "ExecuteTime": {
     "end_time": "2018-09-15T17:15:41.184818Z",
     "start_time": "2018-09-15T17:15:40.918779Z"
    }
   },
   "outputs": [],
   "source": [
    "new_cols = ['department', 'region', 'education', 'gender',\n",
    "       'recruitment_channel', 'no_of_trainings', 'age', 'previous_year_rating',\n",
    "       'length_of_service', 'KPIs_met_more_than_80_percent', 'awards_won_bool',\n",
    "       'avg_training_score', 'is_promoted']\n",
    "#re-naming them\n",
    "df_raw.columns = new_cols\n",
    "df_test.columns = new_cols[:-1]\n",
    "\n",
    "cat_cols = list(df_raw.select_dtypes(include=['object']).columns)\n",
    "num_cols = list(df_raw.select_dtypes(exclude=['object']).columns)"
   ]
  },
  {
   "cell_type": "code",
   "execution_count": 8,
   "metadata": {
    "ExecuteTime": {
     "end_time": "2018-09-15T17:15:42.534436Z",
     "start_time": "2018-09-15T17:15:42.256799Z"
    }
   },
   "outputs": [],
   "source": [
    "df_raw_cat, df_test_cat = df_raw[cat_cols], df_test[cat_cols]"
   ]
  },
  {
   "cell_type": "code",
   "execution_count": 9,
   "metadata": {
    "ExecuteTime": {
     "end_time": "2018-09-15T17:15:43.223482Z",
     "start_time": "2018-09-15T17:15:42.964963Z"
    }
   },
   "outputs": [
    {
     "data": {
      "text/plain": [
       "object:dense     5\n",
       "int64:dense      7\n",
       "float64:dense    1\n",
       "dtype: int64"
      ]
     },
     "execution_count": 9,
     "metadata": {},
     "output_type": "execute_result"
    }
   ],
   "source": [
    "df_raw.get_ftype_counts()"
   ]
  },
  {
   "cell_type": "code",
   "execution_count": 10,
   "metadata": {
    "ExecuteTime": {
     "end_time": "2018-09-15T17:15:47.413805Z",
     "start_time": "2018-09-15T17:15:46.151966Z"
    }
   },
   "outputs": [
    {
     "data": {
      "text/plain": [
       "244"
      ]
     },
     "execution_count": 10,
     "metadata": {},
     "output_type": "execute_result"
    }
   ],
   "source": [
    "bins = [0., 5., 10., 15., 20., 25., 30., 35., 40]\n",
    "labels = [i+1 for i in range(len(bins) - 1)]\n",
    "bin_cols = ['length_of_service']\n",
    "for col in bin_cols:    \n",
    "    df_raw[f'bin_{col}'.format(col)]  = pd.cut(df_raw[col] , bins, labels = labels)\n",
    "    df_test[f'bin_{col}'.format(col)] = pd.cut(df_test[col], bins, labels = labels)\n",
    "\n",
    "bins = [10, 20., 25., 30., 35., 40., 45., 50., 55., 60., 70]\n",
    "labels = [i+1 for i in range(len(bins) - 1)]\n",
    "bin_cols = ['age']\n",
    "for col in bin_cols:    \n",
    "    df_raw[f'bin_{col}'.format(col)]  = pd.cut(df_raw[col] ,bins,labels = labels)\n",
    "    df_test[f'bin_{col}'.format(col)] = pd.cut(df_test[col],bins,labels = labels)\n",
    "\n",
    "bins = [30, 39., 44., 54., 66., 75., 80., 85., 90., 100]\n",
    "labels = [i+1 for i in range(len(bins) - 1)]\n",
    "bin_cols = ['avg_training_score']\n",
    "for col in bin_cols:    \n",
    "    df_raw[f'bin_{col}'.format(col)]  = pd.cut(df_raw[col] ,bins,labels = labels)\n",
    "    df_test[f'bin_{col}'.format(col)] = pd.cut(df_test[col],bins,labels = labels)\n",
    "\n",
    "df_raw['promotion_chance'] = 'low'\n",
    "my_query = df_raw.query('avg_training_score>=90').index\n",
    "df_raw.iloc[my_query, -1] = 'very_high'\n",
    "my_query = df_raw.query('avg_training_score>=75 and avg_training_score<90').index\n",
    "df_raw.iloc[my_query, -1] = 'high'\n",
    "my_query = df_raw.query('avg_training_score>=65 and avg_training_score<75').index\n",
    "df_raw.iloc[my_query, -1] = 'medium'\n",
    "my_query = df_raw.query('avg_training_score>=53 and avg_training_score<65').index\n",
    "df_raw.iloc[my_query, -1] = 'low_medium'\n",
    "\n",
    "df_test['promotion_chance'] = 'low'\n",
    "my_query = df_test.query('avg_training_score>=90').index\n",
    "df_test.iloc[my_query, -1] = 'very_high'\n",
    "my_query = df_test.query('avg_training_score>=75 and avg_training_score<90').index\n",
    "df_test.iloc[my_query, -1] = 'high'\n",
    "my_query = df_test.query('avg_training_score>=65 and avg_training_score<75').index\n",
    "df_test.iloc[my_query, -1] = 'medium'\n",
    "my_query = df_test.query('avg_training_score>=53 and avg_training_score<65').index\n",
    "df_test.iloc[my_query, -1] = 'low_medium'\n",
    "\n",
    "#######################################################################################\n",
    "\n",
    "df_raw['new_employee'] = np.zeros(df_raw.shape[0])\n",
    "my_query = df_raw.query('previous_year_rating == 0').index\n",
    "df_raw.iloc[my_query, -1] = 1\n",
    "\n",
    "df_test['new_employee'] = np.zeros(df_test.shape[0])\n",
    "my_query = df_test.query('previous_year_rating == 0').index\n",
    "df_test.iloc[my_query, -1] = 1\n",
    "\n",
    "df_raw['joining_age'] = df_raw['age'] - df_raw['length_of_service']\n",
    "df_test['joining_age'] = df_test['age'] - df_test['length_of_service']\n",
    "\n",
    "df_raw['main_training_received_for_promo'] = np.zeros(df_raw.shape[0])\n",
    "my_query = df_raw.query('no_of_trainings <=2').index\n",
    "df_raw.iloc[my_query, -1] = 1\n",
    "\n",
    "df_test['main_training_received_for_promo'] = np.zeros(df_test.shape[0])\n",
    "my_query = df_test.query('no_of_trainings <=2').index\n",
    "df_test.iloc[my_query, -1] = 1\n",
    "\n",
    "df_raw['region'].replace('region_', '', True, None, True)\n",
    "df_test['region'].replace('region_', '', True, None, True)\n",
    "\n",
    "df_raw['major_promo_region'] = np.zeros(df_raw.shape[0])\n",
    "my_query = df_raw.query('region == \\'2\\' or region == \\'22\\' or region ==\\'7\\' or region == \\'4\\' or region == \\'13\\' or region ==\\'15\\'').index\n",
    "df_raw.iloc[my_query, -1] = 1\n",
    "\n",
    "df_test['major_promo_region'] = np.zeros(df_test.shape[0])\n",
    "my_query = df_test.query('region == \\'2\\' or region == \\'22\\' or region ==\\'7\\' or region == \\'4\\' or region == \\'13\\' or region ==\\'15\\'').index\n",
    "df_test.iloc[my_query, -1] = 1\n",
    "\n",
    "df_raw['trainings_less_2'] = np.zeros(df_raw.shape[0])\n",
    "my_query = df_raw.query('no_of_trainings <=2').index\n",
    "df_raw.iloc[my_query, -1] = 1\n",
    "\n",
    "df_test['trainings_less_2'] = np.zeros(df_test.shape[0])\n",
    "my_query = df_test.query('no_of_trainings <=2').index\n",
    "df_test.iloc[my_query, -1] = 1\n",
    "\n",
    "def map_(regs, age):\n",
    "    d = {}\n",
    "    for i,j in zip(regs, age):\n",
    "        d[i] = j\n",
    "    return d\n",
    "\n",
    "xyz = df_raw.groupby('region').mean().sort_values(by='region')[['age', 'joining_age', 'previous_year_rating', 'length_of_service', 'avg_training_score']]\n",
    "count = Counter(df_raw['region'])\n",
    "\n",
    "regs                   = xyz.reset_index()['region'].values\n",
    "age                    = xyz.reset_index()['age'].values\n",
    "joining_age            = xyz.reset_index()['joining_age'].values\n",
    "previous_year_rating   = xyz.reset_index()['previous_year_rating'].values\n",
    "length_of_service      = xyz.reset_index()['length_of_service'].values \n",
    "avg_training_score     = xyz.reset_index()['avg_training_score'].values\n",
    "\n",
    "df_raw['reg_count'] = df_raw['region'].map(count)\n",
    "d = map_(regs, age)\n",
    "df_raw['mean_age_per_region']   = df_raw['region'].map(d)\n",
    "d = map_(regs, joining_age)\n",
    "df_raw['mean_joining_age_per_region']   = df_raw['region'].map(d)\n",
    "d = map_(regs, previous_year_rating)\n",
    "df_raw['mean_previous_year_rating_per_region']   = df_raw['region'].map(d)\n",
    "d = map_(regs, avg_training_score)\n",
    "df_raw['mean_avg_training_score_per_region']   = df_raw['region'].map(d)\n",
    "d = map_(regs, length_of_service)\n",
    "df_raw['mean_length_of_service_per_region']   = df_raw['region'].map(d)\n",
    "\n",
    "xyz = df_test.groupby('region').mean().sort_values(by='region')[['age', 'joining_age', 'previous_year_rating', 'length_of_service', 'avg_training_score']]\n",
    "count = Counter(df_test['region'])\n",
    "\n",
    "regs                   = xyz.reset_index()['region'].values\n",
    "age                    = xyz.reset_index()['age'].values\n",
    "joining_age            = xyz.reset_index()['joining_age'].values\n",
    "previous_year_rating   = xyz.reset_index()['previous_year_rating'].values\n",
    "length_of_service      = xyz.reset_index()['length_of_service'].values \n",
    "avg_training_score     = xyz.reset_index()['avg_training_score'].values\n",
    "\n",
    "df_test['reg_count'] = df_test['region'].map(count)\n",
    "d = map_(regs, age)\n",
    "df_test['mean_age_per_region']   = df_test['region'].map(d)\n",
    "d = map_(regs, joining_age)\n",
    "df_test['mean_joining_age_per_region']   = df_test['region'].map(d)\n",
    "d = map_(regs, previous_year_rating)\n",
    "df_test['mean_previous_year_rating_per_region']   = df_test['region'].map(d)\n",
    "d = map_(regs, avg_training_score)\n",
    "df_test['mean_avg_training_score_per_region']   = df_test['region'].map(d)\n",
    "d = map_(regs, length_of_service)\n",
    "df_test['mean_length_of_service_per_region']   = df_test['region'].map(d)\n",
    "####################################################################################\n",
    "\n",
    "del d, count, regs, joining_age, previous_year_rating, length_of_service, avg_training_score\n",
    "gc.collect()"
   ]
  },
  {
   "cell_type": "code",
   "execution_count": 11,
   "metadata": {
    "ExecuteTime": {
     "end_time": "2018-09-15T17:15:47.805031Z",
     "start_time": "2018-09-15T17:15:47.581034Z"
    }
   },
   "outputs": [
    {
     "data": {
      "text/plain": [
       "((54808, 28), (23490, 27))"
      ]
     },
     "execution_count": 11,
     "metadata": {},
     "output_type": "execute_result"
    }
   ],
   "source": [
    "df_raw.shape, df_test.shape"
   ]
  },
  {
   "cell_type": "code",
   "execution_count": 12,
   "metadata": {
    "ExecuteTime": {
     "end_time": "2018-09-15T17:15:49.754679Z",
     "start_time": "2018-09-15T17:15:49.564244Z"
    }
   },
   "outputs": [],
   "source": [
    "df_raw.drop(cat_cols, axis=1, inplace=True)\n",
    "df_test.drop(cat_cols, axis=1, inplace=True)"
   ]
  },
  {
   "cell_type": "code",
   "execution_count": 13,
   "metadata": {
    "ExecuteTime": {
     "end_time": "2018-09-15T17:15:55.856765Z",
     "start_time": "2018-09-15T17:15:55.473317Z"
    }
   },
   "outputs": [],
   "source": [
    "df_raw_cat['dept_rec'] = 'in ' + df_raw_cat['department'] + ' via ' + df_raw_cat['recruitment_channel']\n",
    "df_test_cat['dept_rec'] = 'in ' + df_test_cat['department'] + ' via ' + df_test_cat['recruitment_channel']\n",
    "\n",
    "df_raw_cat['gen_edu'] =  df_raw_cat['gender'] + ' has ' + df_raw_cat['education']\n",
    "df_test_cat['gen_edu'] = df_test_cat['gender'] + ' has ' + df_test_cat['education']"
   ]
  },
  {
   "cell_type": "code",
   "execution_count": 14,
   "metadata": {
    "ExecuteTime": {
     "end_time": "2018-09-15T17:15:56.026346Z",
     "start_time": "2018-09-15T17:15:55.856765Z"
    }
   },
   "outputs": [
    {
     "data": {
      "text/html": [
       "<div>\n",
       "<style scoped>\n",
       "    .dataframe tbody tr th:only-of-type {\n",
       "        vertical-align: middle;\n",
       "    }\n",
       "\n",
       "    .dataframe tbody tr th {\n",
       "        vertical-align: top;\n",
       "    }\n",
       "\n",
       "    .dataframe thead th {\n",
       "        text-align: right;\n",
       "    }\n",
       "</style>\n",
       "<table border=\"1\" class=\"dataframe\">\n",
       "  <thead>\n",
       "    <tr style=\"text-align: right;\">\n",
       "      <th></th>\n",
       "      <th>department</th>\n",
       "      <th>region</th>\n",
       "      <th>education</th>\n",
       "      <th>gender</th>\n",
       "      <th>recruitment_channel</th>\n",
       "      <th>dept_rec</th>\n",
       "      <th>gen_edu</th>\n",
       "    </tr>\n",
       "  </thead>\n",
       "  <tbody>\n",
       "    <tr>\n",
       "      <th>0</th>\n",
       "      <td>Sales &amp; Marketing</td>\n",
       "      <td>region_7</td>\n",
       "      <td>Master &amp; above</td>\n",
       "      <td>f</td>\n",
       "      <td>sourcing</td>\n",
       "      <td>in Sales &amp; Marketing via sourcing</td>\n",
       "      <td>f has Master &amp; above</td>\n",
       "    </tr>\n",
       "  </tbody>\n",
       "</table>\n",
       "</div>"
      ],
      "text/plain": [
       "          department    region       education gender recruitment_channel  \\\n",
       "0  Sales & Marketing  region_7  Master & above      f            sourcing   \n",
       "\n",
       "                            dept_rec               gen_edu  \n",
       "0  in Sales & Marketing via sourcing  f has Master & above  "
      ]
     },
     "execution_count": 14,
     "metadata": {},
     "output_type": "execute_result"
    }
   ],
   "source": [
    "idx_split = df_raw_cat.shape[0]\n",
    "df_raw_cat.head(1)"
   ]
  },
  {
   "cell_type": "code",
   "execution_count": 15,
   "metadata": {
    "ExecuteTime": {
     "end_time": "2018-09-15T17:15:56.921427Z",
     "start_time": "2018-09-15T17:15:56.608143Z"
    }
   },
   "outputs": [],
   "source": [
    "target = df_raw.is_promoted"
   ]
  },
  {
   "cell_type": "code",
   "execution_count": 16,
   "metadata": {
    "ExecuteTime": {
     "end_time": "2018-09-15T17:16:07.648428Z",
     "start_time": "2018-09-15T17:16:07.393642Z"
    }
   },
   "outputs": [],
   "source": [
    "full_df = pd.concat((df_raw_cat, df_test_cat), axis = 0, ignore_index=True)"
   ]
  },
  {
   "cell_type": "code",
   "execution_count": 17,
   "metadata": {
    "ExecuteTime": {
     "end_time": "2018-09-15T17:16:27.597296Z",
     "start_time": "2018-09-15T17:16:20.350588Z"
    }
   },
   "outputs": [
    {
     "data": {
      "text/plain": [
       "((54808, 194), (23490, 194))"
      ]
     },
     "execution_count": 17,
     "metadata": {},
     "output_type": "execute_result"
    }
   ],
   "source": [
    "from sklearn.feature_extraction.text import TfidfVectorizer, TfidfTransformer\n",
    "full_sites = full_df[:].astype('str')\n",
    "lst = full_sites.as_matrix().tolist()\n",
    "flat_list = [' '.join(sublist) for sublist in lst]\n",
    "vect = TfidfVectorizer(ngram_range=(1,2), max_features=500,analyzer='char_wb')\n",
    "tfidf_matrix = vect.fit_transform(flat_list)\n",
    "\n",
    "X_train_tf = tfidf_matrix[:idx_split]\n",
    "X_test_tf  = tfidf_matrix[idx_split:]\n",
    "\n",
    "X_train_tf.shape, X_test_tf.shape"
   ]
  },
  {
   "cell_type": "code",
   "execution_count": 18,
   "metadata": {
    "ExecuteTime": {
     "end_time": "2018-09-15T17:16:40.139822Z",
     "start_time": "2018-09-15T17:16:34.364612Z"
    }
   },
   "outputs": [
    {
     "name": "stdout",
     "output_type": "stream",
     "text": [
      "Wall time: 5.59 s\n"
     ]
    }
   ],
   "source": [
    "%%time\n",
    "# Apply SVD, I chose 120 components. 120-200 components are good enough for SVM model.\n",
    "from sklearn.decomposition import TruncatedSVD\n",
    "svd = TruncatedSVD(n_components=120)\n",
    "svd.fit(X_train_tf)\n",
    "X_train_svd = svd.transform(X_train_tf)\n",
    "X_test_svd = svd.transform(X_test_tf)\n",
    "# Scale the data obtained from SVD. Renaming variable to reuse without scaling.\n",
    "scl = preprocessing.StandardScaler()\n",
    "scl.fit(X_train_svd)\n",
    "X_train_svd_scl = scl.transform(X_train_svd)\n",
    "X_test_svd_scl = scl.transform(X_test_svd)"
   ]
  },
  {
   "cell_type": "code",
   "execution_count": 36,
   "metadata": {
    "ExecuteTime": {
     "end_time": "2018-09-15T12:00:59.865537Z",
     "start_time": "2018-09-15T12:00:59.618721Z"
    }
   },
   "outputs": [],
   "source": [
    "train_cats(df_raw);\n",
    "apply_cats(df_test, df_raw);"
   ]
  },
  {
   "cell_type": "code",
   "execution_count": 23,
   "metadata": {
    "ExecuteTime": {
     "end_time": "2018-09-15T17:18:14.887556Z",
     "start_time": "2018-09-15T17:18:14.700679Z"
    }
   },
   "outputs": [],
   "source": [
    "cat_cols = list(df_raw.select_dtypes(include=['category', 'object']).columns)\n",
    "num_cols = list(df_raw.select_dtypes(exclude=['object', 'category']).columns)"
   ]
  },
  {
   "cell_type": "code",
   "execution_count": 28,
   "metadata": {
    "ExecuteTime": {
     "end_time": "2018-09-15T17:20:02.010441Z",
     "start_time": "2018-09-15T17:20:01.636734Z"
    }
   },
   "outputs": [
    {
     "data": {
      "text/plain": [
       "((54808, 23), (23490, 22), (54808, 105), (23490, 105))"
      ]
     },
     "execution_count": 28,
     "metadata": {},
     "output_type": "execute_result"
    }
   ],
   "source": [
    "train_dummies = pd.get_dummies(pd.concat((df_raw_cat,df_raw[cat_cols]),axis=1), drop_first=True)\n",
    "test_dummies = pd.get_dummies(pd.concat((df_test_cat,df_test[cat_cols]),axis=1), drop_first=True)\n",
    "#df_raw.drop(cat_cols, axis=1, inplace=True)\n",
    "#df_test.drop(cat_cols), axis=1, inplace=True)\n",
    "df_raw.shape, df_test.shape, train_dummies.shape, test_dummies.shape"
   ]
  },
  {
   "cell_type": "code",
   "execution_count": 29,
   "metadata": {
    "ExecuteTime": {
     "end_time": "2018-09-15T17:20:25.801665Z",
     "start_time": "2018-09-15T17:20:25.614229Z"
    }
   },
   "outputs": [],
   "source": [
    "# df_raw.drop(cat_cols, axis=1, inplace=True)\n",
    "# df_test.drop(cat_cols, axis=1, inplace=True)"
   ]
  },
  {
   "cell_type": "code",
   "execution_count": 36,
   "metadata": {
    "ExecuteTime": {
     "end_time": "2018-09-15T17:23:36.387497Z",
     "start_time": "2018-09-15T17:23:36.176557Z"
    }
   },
   "outputs": [
    {
     "data": {
      "text/plain": [
       "((54808, 194), (54808, 18), (54808, 105))"
      ]
     },
     "execution_count": 36,
     "metadata": {},
     "output_type": "execute_result"
    }
   ],
   "source": [
    "X_train_tf.shape, df_raw.shape, train_dummies.shape"
   ]
  },
  {
   "cell_type": "code",
   "execution_count": 40,
   "metadata": {
    "ExecuteTime": {
     "end_time": "2018-09-15T17:25:21.313766Z",
     "start_time": "2018-09-15T17:25:21.085057Z"
    }
   },
   "outputs": [
    {
     "data": {
      "text/plain": [
       "((23490, 194), (23490, 18), (23490, 105))"
      ]
     },
     "execution_count": 40,
     "metadata": {},
     "output_type": "execute_result"
    }
   ],
   "source": [
    "X_test_tf.shape, df_test.shape, test_dummies.shape"
   ]
  },
  {
   "cell_type": "code",
   "execution_count": 53,
   "metadata": {
    "ExecuteTime": {
     "end_time": "2018-09-15T17:28:41.718039Z",
     "start_time": "2018-09-15T17:28:41.258659Z"
    }
   },
   "outputs": [
    {
     "data": {
      "text/plain": [
       "((54808, 317), (23490, 317))"
      ]
     },
     "execution_count": 53,
     "metadata": {},
     "output_type": "execute_result"
    }
   ],
   "source": [
    "train_all, test_all = np.hstack([df_raw.values, train_dummies.values, X_train_tf.todense()]),np.hstack([df_test.values, test_dummies.values, X_test_tf.todense()])\n",
    "train_all.shape, test_all.shape"
   ]
  },
  {
   "cell_type": "code",
   "execution_count": 65,
   "metadata": {
    "ExecuteTime": {
     "end_time": "2018-09-15T12:52:07.276178Z",
     "start_time": "2018-09-15T12:52:07.070326Z"
    }
   },
   "outputs": [],
   "source": [
    "train_all, test_all = pd.concat([df_raw, train_dummies], axis=1), pd.concat([df_test, test_dummies], axis=1)"
   ]
  },
  {
   "cell_type": "code",
   "execution_count": 102,
   "metadata": {
    "ExecuteTime": {
     "end_time": "2018-09-15T18:20:59.254981Z",
     "start_time": "2018-09-15T18:20:56.164360Z"
    }
   },
   "outputs": [],
   "source": [
    "train_all, target, test_all = np.save('train_all_better.npy', train_all), np.save('target.npy',target), np.save('test_all_better.npy',test_all)"
   ]
  },
  {
   "cell_type": "code",
   "execution_count": 4,
   "metadata": {
    "ExecuteTime": {
     "end_time": "2018-09-16T16:44:22.453893Z",
     "start_time": "2018-09-16T16:44:04.972331Z"
    }
   },
   "outputs": [],
   "source": [
    "train_all, target, test_all = np.load('train_all_better.npy'), np.load('target.npy'), np.load('test_all_better.npy')"
   ]
  },
  {
   "cell_type": "code",
   "execution_count": 5,
   "metadata": {
    "ExecuteTime": {
     "end_time": "2018-09-16T16:44:22.620656Z",
     "start_time": "2018-09-16T16:44:22.453893Z"
    }
   },
   "outputs": [],
   "source": [
    "def make_submission(probs):\n",
    "    sample = pd.read_csv(f'{PATH}\\\\sample_submission.csv')\n",
    "    submit = sample.copy()\n",
    "    submit['is_promoted'] = probs\n",
    "    return submit"
   ]
  },
  {
   "cell_type": "code",
   "execution_count": 6,
   "metadata": {
    "ExecuteTime": {
     "end_time": "2018-09-16T16:44:22.788109Z",
     "start_time": "2018-09-16T16:44:22.620656Z"
    }
   },
   "outputs": [
    {
     "data": {
      "text/plain": [
       "(4668, 50140)"
      ]
     },
     "execution_count": 6,
     "metadata": {},
     "output_type": "execute_result"
    }
   ],
   "source": [
    "np.count_nonzero(target), target.shape[0]- 4668"
   ]
  },
  {
   "cell_type": "code",
   "execution_count": 7,
   "metadata": {
    "ExecuteTime": {
     "end_time": "2018-09-16T16:44:23.244318Z",
     "start_time": "2018-09-16T16:44:22.788109Z"
    }
   },
   "outputs": [],
   "source": [
    "X_train, X_valid, y_train, y_valid = train_test_split(train_all, target, test_size = .2, stratify = target)"
   ]
  },
  {
   "cell_type": "code",
   "execution_count": 8,
   "metadata": {
    "ExecuteTime": {
     "end_time": "2018-09-16T16:44:27.705184Z",
     "start_time": "2018-09-16T16:44:23.244318Z"
    }
   },
   "outputs": [
    {
     "name": "stdout",
     "output_type": "stream",
     "text": [
      "Train test split LogisticRegression score:0.8535 ROC AUC\n",
      "F1 Score 0.294964028777\n",
      "F1 Score 0.267281105991\n",
      "Wall time: 4.3 s\n"
     ]
    }
   ],
   "source": [
    "%%time\n",
    "from sklearn.metrics import accuracy_score, roc_curve, confusion_matrix, auc, f1_score\n",
    "clf_lr = LogisticRegression (random_state = 42,n_jobs=-1,max_iter=1000)\n",
    "clf_lr.fit (X_train, y_train)\n",
    "preds_lr = clf_lr.predict_proba (X_valid) [:, 1]\n",
    "print ('Train test split LogisticRegression score:% s ROC AUC'% round (roc_auc_score (y_valid, preds_lr), 4))\n",
    "print('F1 Score', f1_score(y_valid, (preds_lr>.61)*1))\n",
    "print('F1 Score', f1_score(y_valid, (preds_lr>.7)*1))"
   ]
  },
  {
   "cell_type": "code",
   "execution_count": 22,
   "metadata": {
    "ExecuteTime": {
     "end_time": "2018-09-16T16:48:35.867673Z",
     "start_time": "2018-09-16T16:48:35.687737Z"
    }
   },
   "outputs": [],
   "source": [
    "def show_confusion_matrix ( y_true ,  y_pred ,  title  =  'Confusion matrix' ): \n",
    "    table = confusion_matrix ( y_true ,  y_pred )#.values maybe\n",
    "    fig , ax  =  plt . subplots ( frameon = False ) \n",
    "    fig.set_size_inches ( 4 ,  3 ) \n",
    "    fig.suptitle (title ,  fontsize  =  20 ) \n",
    "    ax.axis( 'off' ) \n",
    "    ax.xaxis.set_visible ( False )  \n",
    "    ax.yaxis.set_visible ( False )\n",
    "    the_table  =  ax . table ( cellText = table , \n",
    "        colWidths = [ 0.5 ] * len ([ 0 ,  1 ]), \n",
    "        rowLabels = ['True 0','True 1'],colLabels = [ 'Predicted 0' ,  'Predicted 1' ], \n",
    "        cellLoc='center',rowLoc='center',loc=\"center\")\n",
    "    the_table.set_fontsize(34) \n",
    "    the_table.scale(1,4) "
   ]
  },
  {
   "cell_type": "code",
   "execution_count": 23,
   "metadata": {
    "ExecuteTime": {
     "end_time": "2018-09-16T16:48:37.153954Z",
     "start_time": "2018-09-16T16:48:35.867673Z"
    }
   },
   "outputs": [
    {
     "data": {
      "image/png": "[encoded data removed]",
      "text/plain": [
       "<Figure size 288x216 with 1 Axes>"
      ]
     },
     "metadata": {},
     "output_type": "display_data"
    }
   ],
   "source": [
    "show_confusion_matrix(y_valid, clf_lr.predict( X_valid ))"
   ]
  },
  {
   "cell_type": "code",
   "execution_count": 27,
   "metadata": {
    "ExecuteTime": {
     "end_time": "2018-09-16T16:49:53.159333Z",
     "start_time": "2018-09-16T16:49:52.872260Z"
    }
   },
   "outputs": [],
   "source": [
    "def get_auc_lr_valid(X, y, C=1.0, seed=17, ratio = 0.8):\n",
    "    # Split the data into the training and validation sets\n",
    "    idx = int(round(X.shape[0] * ratio))\n",
    "    # Classifier training\n",
    "    lr = LogisticRegression(C=C, random_state=seed,max_iter=8000,n_jobs=-1, class_weight='balanced').fit(X[:idx, :], y[:idx])\n",
    "    # Prediction for validation set\n",
    "    y_pred = lr.predict(X[idx:, :])\n",
    "    # Calculate the quality\n",
    "    score = f1_score(y[idx:], y_pred)\n",
    "    return score"
   ]
  },
  {
   "cell_type": "code",
   "execution_count": 28,
   "metadata": {
    "ExecuteTime": {
     "end_time": "2018-09-16T16:52:37.292302Z",
     "start_time": "2018-09-16T16:49:54.309894Z"
    }
   },
   "outputs": [
    {
     "data": {
      "application/vnd.jupyter.widget-view+json": {
       "model_id": "642bc36c1fe941c2998ea096cba58edc",
       "version_major": 2,
       "version_minor": 0
      },
      "text/plain": [
       "A Jupyter Widget"
      ]
     },
     "metadata": {},
     "output_type": "display_data"
    },
    {
     "name": "stdout",
     "output_type": "stream",
     "text": [
      "\n",
      "Wall time: 2min 42s\n"
     ]
    }
   ],
   "source": [
    "%%time\n",
    "from tqdm import tqdm_notebook\n",
    "# List of possible C-values\n",
    "Cs = np.logspace(-1, 3, 20)\n",
    "\n",
    "scores = []\n",
    "\n",
    "for C in tqdm_notebook(Cs):\n",
    "     scores.append(get_auc_lr_valid(X_train, y_train, C=C))"
   ]
  },
  {
   "cell_type": "code",
   "execution_count": 29,
   "metadata": {
    "ExecuteTime": {
     "end_time": "2018-09-16T16:52:37.512301Z",
     "start_time": "2018-09-16T16:52:37.292302Z"
    }
   },
   "outputs": [
    {
     "data": {
      "text/plain": [
       "(0.37186839722306064, 12.742749857031335)"
      ]
     },
     "execution_count": 29,
     "metadata": {},
     "output_type": "execute_result"
    }
   ],
   "source": [
    "max(scores), Cs[np.argmax(scores)]"
   ]
  },
  {
   "cell_type": "code",
   "execution_count": 30,
   "metadata": {
    "ExecuteTime": {
     "end_time": "2018-09-16T16:52:42.132150Z",
     "start_time": "2018-09-16T16:52:37.512301Z"
    }
   },
   "outputs": [
    {
     "name": "stdout",
     "output_type": "stream",
     "text": [
      "F1 on the test sample: 0.409 \n"
     ]
    },
    {
     "data": {
      "image/png": "[encoded data removed]",
      "text/plain": [
       "<Figure size 288x216 with 1 Axes>"
      ]
     },
     "metadata": {},
     "output_type": "display_data"
    }
   ],
   "source": [
    "final_model = LogisticRegression(random_state = 17,max_iter=8000, C = Cs[np.argmax(scores)],n_jobs=-1) \n",
    "final_model.fit(X_train,y_train) \n",
    "print('F1 on the test sample: {} '.format(round(f1_score(y_valid,final_model.predict(X_valid)),4))) \n",
    "show_confusion_matrix(y_valid, final_model.predict(X_valid))"
   ]
  },
  {
   "cell_type": "code",
   "execution_count": 8,
   "metadata": {
    "ExecuteTime": {
     "end_time": "2018-09-16T16:40:47.991283Z",
     "start_time": "2018-09-16T16:40:47.738525Z"
    }
   },
   "outputs": [],
   "source": [
    "def runXGB(train_X, train_y, test_X, test_y=None):\n",
    "        params = {}\n",
    "        params['booster'] = 'gbtree'\n",
    "        params['tree_method'] = 'gpu_hist'\n",
    "        params[\"objective\"] = \"binary:logistic\"\n",
    "        params['eval_metric'] = 'aucpr'\n",
    "        params[\"eta\"] = 0.05 #0.03\n",
    "        params[\"subsample\"] = .8\n",
    "        params[\"silent\"] = 0\n",
    "        params['verbose'] = 2\n",
    "        params[\"max_depth\"] = 9\n",
    "        params[\"seed\"] = 1\n",
    "        params[\"max_delta_step\"] = 4\n",
    "        params['scale_pos_weight'] =  50140/4668\n",
    "        params[\"gamma\"] = 0.6 #.5 #.1 #.2\n",
    "        params['colsample_bytree'] = 0.75\n",
    "        nrounds = 700 #3600 #2000 #4000\n",
    "        plst = list(params.items())\n",
    "\n",
    "        xgtrain = xgb.DMatrix(train_X, label=train_y)\n",
    "        xgtest = xgb.DMatrix(test_X)\n",
    "        model = xgb.train(plst, xgtrain, nrounds)\n",
    "        pred_test_y = model.predict(xgtest)\n",
    "        return pred_test_y"
   ]
  },
  {
   "cell_type": "code",
   "execution_count": 81,
   "metadata": {
    "ExecuteTime": {
     "end_time": "2018-09-15T17:47:28.800150Z",
     "start_time": "2018-09-15T17:42:15.901169Z"
    }
   },
   "outputs": [],
   "source": [
    "val_preds = runXGB(X_train, y_train, X_valid,)"
   ]
  },
  {
   "cell_type": "code",
   "execution_count": 82,
   "metadata": {
    "ExecuteTime": {
     "end_time": "2018-09-15T17:47:29.024181Z",
     "start_time": "2018-09-15T17:47:28.800150Z"
    }
   },
   "outputs": [
    {
     "data": {
      "text/plain": [
       "(array([ 0.18268,  0.00008,  0.54749, ...,  0.00009,  0.07348,  0.00283], dtype=float32),\n",
       " 0.99999917)"
      ]
     },
     "execution_count": 82,
     "metadata": {},
     "output_type": "execute_result"
    }
   ],
   "source": [
    "val_preds, max(val_preds)"
   ]
  },
  {
   "cell_type": "code",
   "execution_count": 36,
   "metadata": {
    "ExecuteTime": {
     "end_time": "2018-09-16T16:58:51.839414Z",
     "start_time": "2018-09-16T16:58:51.563739Z"
    }
   },
   "outputs": [],
   "source": [
    "params = {}\n",
    "params['booster'] = 'gbtree'\n",
    "#params['tree_method'] = 'gpu_hist'\n",
    "params[\"objective\"] = \"binary:logistic\"\n",
    "params['eval_metric'] = 'auc'\n",
    "params[\"eta\"] = 0.05\n",
    "params[\"subsample\"] = .7\n",
    "params[\"silent\"] = 0\n",
    "params['verbose'] = 1\n",
    "params[\"max_depth\"] = 9\n",
    "params[\"seed\"] = 1\n",
    "params[\"max_delta_step\"] = 4\n",
    "params['scale_pos_weight'] =  50140/4668\n",
    "params[\"gamma\"] = 1. #.5 #.1 #.2\n",
    "params['colsample_bytree'] = 0.7\n",
    "params['nrounds'] = 500 #3600 #2000 #4000"
   ]
  },
  {
   "cell_type": "code",
   "execution_count": 37,
   "metadata": {
    "ExecuteTime": {
     "end_time": "2018-09-16T17:10:46.655869Z",
     "start_time": "2018-09-16T16:58:51.839414Z"
    },
    "scrolled": true
   },
   "outputs": [
    {
     "name": "stdout",
     "output_type": "stream",
     "text": [
      "[mlcrate] Training 5 stratified XGBoost models on training set (54808, 317) with test set (23490, 317)\n",
      "[mlcrate] Running fold 0, 43846 train samples, 10962 validation samples\n",
      "[0]\ttrain-auc:0.885006\tvalid-auc:0.855153\n",
      "Multiple eval metrics have been passed: 'valid-auc' will be used for early stopping.\n",
      "\n",
      "Will train until valid-auc hasn't improved in 50 rounds.\n",
      "[1]\ttrain-auc:0.902799\tvalid-auc:0.860806\n",
      "[2]\ttrain-auc:0.911549\tvalid-auc:0.880358\n",
      "[3]\ttrain-auc:0.920037\tvalid-auc:0.889555\n",
      "[4]\ttrain-auc:0.919806\tvalid-auc:0.888714\n",
      "[5]\ttrain-auc:0.923599\tvalid-auc:0.889547\n",
      "[6]\ttrain-auc:0.927261\tvalid-auc:0.891791\n",
      "[7]\ttrain-auc:0.929901\tvalid-auc:0.893423\n",
      "[8]\ttrain-auc:0.932335\tvalid-auc:0.894141\n",
      "[9]\ttrain-auc:0.9314\tvalid-auc:0.893521\n",
      "[10]\ttrain-auc:0.932615\tvalid-auc:0.894238\n",
      "[11]\ttrain-auc:0.934677\tvalid-auc:0.894965\n",
      "[12]\ttrain-auc:0.935865\tvalid-auc:0.895533\n",
      "[13]\ttrain-auc:0.937747\tvalid-auc:0.896421\n",
      "[14]\ttrain-auc:0.937826\tvalid-auc:0.896624\n",
      "[15]\ttrain-auc:0.938114\tvalid-auc:0.897115\n",
      "[16]\ttrain-auc:0.938481\tvalid-auc:0.897217\n",
      "[17]\ttrain-auc:0.939632\tvalid-auc:0.897744\n",
      "[18]\ttrain-auc:0.93999\tvalid-auc:0.897236\n",
      "[19]\ttrain-auc:0.939972\tvalid-auc:0.897355\n",
      "[20]\ttrain-auc:0.940405\tvalid-auc:0.898018\n",
      "[21]\ttrain-auc:0.941062\tvalid-auc:0.898256\n",
      "[22]\ttrain-auc:0.941018\tvalid-auc:0.898035\n",
      "[23]\ttrain-auc:0.941712\tvalid-auc:0.898261\n",
      "[24]\ttrain-auc:0.941989\tvalid-auc:0.898449\n",
      "[25]\ttrain-auc:0.942952\tvalid-auc:0.89876\n",
      "[26]\ttrain-auc:0.943364\tvalid-auc:0.898721\n",
      "[27]\ttrain-auc:0.943756\tvalid-auc:0.898497\n",
      "[28]\ttrain-auc:0.944174\tvalid-auc:0.89893\n",
      "[29]\ttrain-auc:0.944641\tvalid-auc:0.899131\n",
      "[30]\ttrain-auc:0.945114\tvalid-auc:0.898869\n",
      "[31]\ttrain-auc:0.945346\tvalid-auc:0.898896\n",
      "[32]\ttrain-auc:0.945414\tvalid-auc:0.898826\n",
      "[33]\ttrain-auc:0.945832\tvalid-auc:0.898934\n",
      "[34]\ttrain-auc:0.946043\tvalid-auc:0.899\n",
      "[35]\ttrain-auc:0.946782\tvalid-auc:0.899312\n",
      "[36]\ttrain-auc:0.947274\tvalid-auc:0.899546\n",
      "[37]\ttrain-auc:0.947777\tvalid-auc:0.899667\n",
      "[38]\ttrain-auc:0.947889\tvalid-auc:0.89975\n",
      "[39]\ttrain-auc:0.947997\tvalid-auc:0.899686\n",
      "[40]\ttrain-auc:0.948082\tvalid-auc:0.899762\n",
      "[41]\ttrain-auc:0.94864\tvalid-auc:0.900186\n",
      "[42]\ttrain-auc:0.949062\tvalid-auc:0.900266\n",
      "[43]\ttrain-auc:0.949193\tvalid-auc:0.900295\n",
      "[44]\ttrain-auc:0.949251\tvalid-auc:0.900233\n",
      "[45]\ttrain-auc:0.949847\tvalid-auc:0.900808\n",
      "[46]\ttrain-auc:0.950263\tvalid-auc:0.901142\n",
      "[47]\ttrain-auc:0.950369\tvalid-auc:0.901064\n",
      "[48]\ttrain-auc:0.950431\tvalid-auc:0.901192\n",
      "[49]\ttrain-auc:0.950787\tvalid-auc:0.90106\n",
      "[50]\ttrain-auc:0.950923\tvalid-auc:0.900885\n",
      "[51]\ttrain-auc:0.95112\tvalid-auc:0.900861\n",
      "[52]\ttrain-auc:0.951535\tvalid-auc:0.900856\n",
      "[53]\ttrain-auc:0.951723\tvalid-auc:0.900923\n",
      "[54]\ttrain-auc:0.952005\tvalid-auc:0.901156\n",
      "[55]\ttrain-auc:0.952314\tvalid-auc:0.900721\n",
      "[56]\ttrain-auc:0.952769\tvalid-auc:0.90064\n",
      "[57]\ttrain-auc:0.952799\tvalid-auc:0.900951\n",
      "[58]\ttrain-auc:0.953139\tvalid-auc:0.900915\n",
      "[59]\ttrain-auc:0.953342\tvalid-auc:0.900848\n",
      "[60]\ttrain-auc:0.954028\tvalid-auc:0.900876\n",
      "[61]\ttrain-auc:0.954043\tvalid-auc:0.900966\n",
      "[62]\ttrain-auc:0.954311\tvalid-auc:0.900886\n",
      "[63]\ttrain-auc:0.954945\tvalid-auc:0.900862\n",
      "[64]\ttrain-auc:0.955207\tvalid-auc:0.900963\n",
      "[65]\ttrain-auc:0.955599\tvalid-auc:0.901108\n",
      "[66]\ttrain-auc:0.956001\tvalid-auc:0.901105\n",
      "[67]\ttrain-auc:0.956048\tvalid-auc:0.901072\n",
      "[68]\ttrain-auc:0.956198\tvalid-auc:0.901089\n",
      "[69]\ttrain-auc:0.95643\tvalid-auc:0.901111\n",
      "[70]\ttrain-auc:0.95668\tvalid-auc:0.901112\n",
      "[71]\ttrain-auc:0.956894\tvalid-auc:0.901221\n",
      "[72]\ttrain-auc:0.957145\tvalid-auc:0.901122\n",
      "[73]\ttrain-auc:0.957239\tvalid-auc:0.900962\n",
      "[74]\ttrain-auc:0.957385\tvalid-auc:0.901055\n",
      "[75]\ttrain-auc:0.957482\tvalid-auc:0.901038\n",
      "[76]\ttrain-auc:0.957902\tvalid-auc:0.901138\n",
      "[77]\ttrain-auc:0.958255\tvalid-auc:0.901314\n",
      "[78]\ttrain-auc:0.958472\tvalid-auc:0.901229\n",
      "[79]\ttrain-auc:0.958647\tvalid-auc:0.901268\n",
      "[80]\ttrain-auc:0.958699\tvalid-auc:0.901316\n",
      "[81]\ttrain-auc:0.959214\tvalid-auc:0.901315\n",
      "[82]\ttrain-auc:0.959332\tvalid-auc:0.901129\n",
      "[83]\ttrain-auc:0.959648\tvalid-auc:0.90107\n",
      "[84]\ttrain-auc:0.95995\tvalid-auc:0.901294\n",
      "[85]\ttrain-auc:0.960196\tvalid-auc:0.901292\n",
      "[86]\ttrain-auc:0.960435\tvalid-auc:0.90123\n",
      "[87]\ttrain-auc:0.960852\tvalid-auc:0.901202\n",
      "[88]\ttrain-auc:0.961286\tvalid-auc:0.901269\n",
      "[89]\ttrain-auc:0.961482\tvalid-auc:0.901262\n",
      "[90]\ttrain-auc:0.961541\tvalid-auc:0.901225\n",
      "[91]\ttrain-auc:0.961762\tvalid-auc:0.901367\n",
      "[92]\ttrain-auc:0.962077\tvalid-auc:0.901489\n",
      "[93]\ttrain-auc:0.962108\tvalid-auc:0.901388\n",
      "[94]\ttrain-auc:0.962267\tvalid-auc:0.901501\n",
      "[95]\ttrain-auc:0.962457\tvalid-auc:0.9017\n",
      "[96]\ttrain-auc:0.962898\tvalid-auc:0.901587\n",
      "[97]\ttrain-auc:0.963156\tvalid-auc:0.901479\n",
      "[98]\ttrain-auc:0.963344\tvalid-auc:0.901446\n",
      "[99]\ttrain-auc:0.963633\tvalid-auc:0.901329\n",
      "[100]\ttrain-auc:0.9637\tvalid-auc:0.901315\n",
      "[101]\ttrain-auc:0.963932\tvalid-auc:0.901418\n",
      "[102]\ttrain-auc:0.96406\tvalid-auc:0.901419\n",
      "[103]\ttrain-auc:0.964293\tvalid-auc:0.9014\n",
      "[104]\ttrain-auc:0.96452\tvalid-auc:0.901495\n",
      "[105]\ttrain-auc:0.964848\tvalid-auc:0.901367\n",
      "[106]\ttrain-auc:0.964985\tvalid-auc:0.901336\n",
      "[107]\ttrain-auc:0.965355\tvalid-auc:0.901136\n",
      "[108]\ttrain-auc:0.965544\tvalid-auc:0.901116\n",
      "[109]\ttrain-auc:0.965765\tvalid-auc:0.901079\n",
      "[110]\ttrain-auc:0.966029\tvalid-auc:0.901078\n",
      "[111]\ttrain-auc:0.966241\tvalid-auc:0.90099\n",
      "[112]\ttrain-auc:0.966571\tvalid-auc:0.900996\n",
      "[113]\ttrain-auc:0.966633\tvalid-auc:0.900974\n",
      "[114]\ttrain-auc:0.966701\tvalid-auc:0.900942\n",
      "[115]\ttrain-auc:0.966778\tvalid-auc:0.900743\n",
      "[116]\ttrain-auc:0.967106\tvalid-auc:0.900643\n",
      "[117]\ttrain-auc:0.967326\tvalid-auc:0.900667\n",
      "[118]\ttrain-auc:0.967354\tvalid-auc:0.900671\n",
      "[119]\ttrain-auc:0.96745\tvalid-auc:0.900622\n",
      "[120]\ttrain-auc:0.967676\tvalid-auc:0.900604\n",
      "[121]\ttrain-auc:0.967767\tvalid-auc:0.90065\n",
      "[122]\ttrain-auc:0.967993\tvalid-auc:0.900724\n",
      "[123]\ttrain-auc:0.968267\tvalid-auc:0.900766\n",
      "[124]\ttrain-auc:0.968458\tvalid-auc:0.900637\n",
      "[125]\ttrain-auc:0.96864\tvalid-auc:0.900547\n",
      "[126]\ttrain-auc:0.968776\tvalid-auc:0.900651\n",
      "[127]\ttrain-auc:0.969217\tvalid-auc:0.900609\n",
      "[128]\ttrain-auc:0.969553\tvalid-auc:0.900455\n",
      "[129]\ttrain-auc:0.969755\tvalid-auc:0.900574\n",
      "[130]\ttrain-auc:0.97003\tvalid-auc:0.900507\n",
      "[131]\ttrain-auc:0.970209\tvalid-auc:0.900564\n",
      "[132]\ttrain-auc:0.970321\tvalid-auc:0.900545\n",
      "[133]\ttrain-auc:0.970447\tvalid-auc:0.900494\n",
      "[134]\ttrain-auc:0.970446\tvalid-auc:0.900523\n",
      "[135]\ttrain-auc:0.970717\tvalid-auc:0.90058\n",
      "[136]\ttrain-auc:0.970933\tvalid-auc:0.900531\n",
      "[137]\ttrain-auc:0.971058\tvalid-auc:0.900555\n",
      "[138]\ttrain-auc:0.971124\tvalid-auc:0.900444\n",
      "[139]\ttrain-auc:0.971219\tvalid-auc:0.900433\n",
      "[140]\ttrain-auc:0.971338\tvalid-auc:0.900288\n",
      "[141]\ttrain-auc:0.971533\tvalid-auc:0.9004\n",
      "[142]\ttrain-auc:0.971909\tvalid-auc:0.900396\n",
      "[143]\ttrain-auc:0.972078\tvalid-auc:0.900412\n",
      "[144]\ttrain-auc:0.972214\tvalid-auc:0.900474\n",
      "[145]\ttrain-auc:0.972453\tvalid-auc:0.900451\n",
      "Stopping. Best iteration:\n",
      "[95]\ttrain-auc:0.962457\tvalid-auc:0.9017\n",
      "\n"
     ]
    },
    {
     "name": "stderr",
     "output_type": "stream",
     "text": [
      "C:\\ProgramData\\Anaconda3\\lib\\site-packages\\mlcrate\\backend.py:7: UserWarning: Timer.format_elapsed() has been deprecated in favour of Timer.fsince() and will be removed soon\n",
      "  warn(message)\n"
     ]
    },
    {
     "name": "stdout",
     "output_type": "stream",
     "text": [
      "[mlcrate] Finished training fold 0 - took 2m56s - running score 0.9017\n",
      "[mlcrate] Running fold 1, 43846 train samples, 10962 validation samples\n",
      "[0]\ttrain-auc:0.884704\tvalid-auc:0.860456\n",
      "Multiple eval metrics have been passed: 'valid-auc' will be used for early stopping.\n",
      "\n",
      "Will train until valid-auc hasn't improved in 50 rounds.\n",
      "[1]\ttrain-auc:0.910908\tvalid-auc:0.857344\n",
      "[2]\ttrain-auc:0.915397\tvalid-auc:0.868895\n",
      "[3]\ttrain-auc:0.923977\tvalid-auc:0.879333\n",
      "[4]\ttrain-auc:0.923746\tvalid-auc:0.880443\n",
      "[5]\ttrain-auc:0.926892\tvalid-auc:0.885048\n",
      "[6]\ttrain-auc:0.929348\tvalid-auc:0.884205\n",
      "[7]\ttrain-auc:0.931457\tvalid-auc:0.887898\n",
      "[8]\ttrain-auc:0.933381\tvalid-auc:0.890711\n",
      "[9]\ttrain-auc:0.933289\tvalid-auc:0.890405\n",
      "[10]\ttrain-auc:0.93435\tvalid-auc:0.892082\n",
      "[11]\ttrain-auc:0.935419\tvalid-auc:0.892201\n",
      "[12]\ttrain-auc:0.936506\tvalid-auc:0.893213\n",
      "[13]\ttrain-auc:0.938204\tvalid-auc:0.894204\n",
      "[14]\ttrain-auc:0.93915\tvalid-auc:0.895271\n",
      "[15]\ttrain-auc:0.939859\tvalid-auc:0.896045\n",
      "[16]\ttrain-auc:0.940077\tvalid-auc:0.896377\n",
      "[17]\ttrain-auc:0.941003\tvalid-auc:0.897013\n",
      "[18]\ttrain-auc:0.941587\tvalid-auc:0.897377\n",
      "[19]\ttrain-auc:0.941735\tvalid-auc:0.897814\n",
      "[20]\ttrain-auc:0.942073\tvalid-auc:0.897734\n",
      "[21]\ttrain-auc:0.942304\tvalid-auc:0.898446\n",
      "[22]\ttrain-auc:0.942356\tvalid-auc:0.89845\n",
      "[23]\ttrain-auc:0.942906\tvalid-auc:0.898398\n",
      "[24]\ttrain-auc:0.943544\tvalid-auc:0.899064\n",
      "[25]\ttrain-auc:0.943848\tvalid-auc:0.898815\n",
      "[26]\ttrain-auc:0.944663\tvalid-auc:0.899085\n",
      "[27]\ttrain-auc:0.945549\tvalid-auc:0.899418\n",
      "[28]\ttrain-auc:0.946121\tvalid-auc:0.899521\n",
      "[29]\ttrain-auc:0.946328\tvalid-auc:0.899609\n",
      "[30]\ttrain-auc:0.946774\tvalid-auc:0.899915\n",
      "[31]\ttrain-auc:0.946914\tvalid-auc:0.900311\n",
      "[32]\ttrain-auc:0.94742\tvalid-auc:0.900683\n",
      "[33]\ttrain-auc:0.947745\tvalid-auc:0.900292\n",
      "[34]\ttrain-auc:0.948012\tvalid-auc:0.900601\n",
      "[35]\ttrain-auc:0.948221\tvalid-auc:0.900853\n",
      "[36]\ttrain-auc:0.948437\tvalid-auc:0.900901\n",
      "[37]\ttrain-auc:0.94883\tvalid-auc:0.900761\n",
      "[38]\ttrain-auc:0.949224\tvalid-auc:0.901051\n",
      "[39]\ttrain-auc:0.94938\tvalid-auc:0.90127\n",
      "[40]\ttrain-auc:0.94965\tvalid-auc:0.901271\n",
      "[41]\ttrain-auc:0.949806\tvalid-auc:0.901202\n",
      "[42]\ttrain-auc:0.950118\tvalid-auc:0.901055\n",
      "[43]\ttrain-auc:0.950384\tvalid-auc:0.900932\n",
      "[44]\ttrain-auc:0.95058\tvalid-auc:0.90095\n",
      "[45]\ttrain-auc:0.950791\tvalid-auc:0.900826\n",
      "[46]\ttrain-auc:0.951077\tvalid-auc:0.900851\n",
      "[47]\ttrain-auc:0.951307\tvalid-auc:0.90086\n",
      "[48]\ttrain-auc:0.951752\tvalid-auc:0.900621\n",
      "[49]\ttrain-auc:0.951989\tvalid-auc:0.900612\n",
      "[50]\ttrain-auc:0.952162\tvalid-auc:0.900798\n",
      "[51]\ttrain-auc:0.952329\tvalid-auc:0.900757\n",
      "[52]\ttrain-auc:0.95254\tvalid-auc:0.900888\n",
      "[53]\ttrain-auc:0.952772\tvalid-auc:0.900983\n",
      "[54]\ttrain-auc:0.953182\tvalid-auc:0.900927\n",
      "[55]\ttrain-auc:0.953559\tvalid-auc:0.901014\n",
      "[56]\ttrain-auc:0.953615\tvalid-auc:0.900768\n",
      "[57]\ttrain-auc:0.953925\tvalid-auc:0.900815\n",
      "[58]\ttrain-auc:0.954322\tvalid-auc:0.900982\n",
      "[59]\ttrain-auc:0.954394\tvalid-auc:0.900895\n",
      "[60]\ttrain-auc:0.954663\tvalid-auc:0.900875\n",
      "[61]\ttrain-auc:0.955016\tvalid-auc:0.900889\n",
      "[62]\ttrain-auc:0.955219\tvalid-auc:0.900799\n",
      "[63]\ttrain-auc:0.955473\tvalid-auc:0.900908\n",
      "[64]\ttrain-auc:0.955704\tvalid-auc:0.900753\n",
      "[65]\ttrain-auc:0.955929\tvalid-auc:0.900697\n",
      "[66]\ttrain-auc:0.956167\tvalid-auc:0.900786\n",
      "[67]\ttrain-auc:0.956258\tvalid-auc:0.900849\n",
      "[68]\ttrain-auc:0.956471\tvalid-auc:0.900878\n",
      "[69]\ttrain-auc:0.956591\tvalid-auc:0.900933\n",
      "[70]\ttrain-auc:0.956669\tvalid-auc:0.900919\n",
      "[71]\ttrain-auc:0.956936\tvalid-auc:0.900824\n",
      "[72]\ttrain-auc:0.957105\tvalid-auc:0.900757\n",
      "[73]\ttrain-auc:0.957357\tvalid-auc:0.900498\n",
      "[74]\ttrain-auc:0.957503\tvalid-auc:0.900549\n",
      "[75]\ttrain-auc:0.957753\tvalid-auc:0.900649\n",
      "[76]\ttrain-auc:0.95792\tvalid-auc:0.900639\n",
      "[77]\ttrain-auc:0.958315\tvalid-auc:0.900492\n",
      "[78]\ttrain-auc:0.958587\tvalid-auc:0.900482\n",
      "[79]\ttrain-auc:0.958857\tvalid-auc:0.900435\n",
      "[80]\ttrain-auc:0.958951\tvalid-auc:0.900575\n",
      "[81]\ttrain-auc:0.959329\tvalid-auc:0.900375\n",
      "[82]\ttrain-auc:0.959554\tvalid-auc:0.900432\n",
      "[83]\ttrain-auc:0.959972\tvalid-auc:0.900415\n",
      "[84]\ttrain-auc:0.960206\tvalid-auc:0.900629\n",
      "[85]\ttrain-auc:0.960543\tvalid-auc:0.900575\n",
      "[86]\ttrain-auc:0.960609\tvalid-auc:0.900751\n",
      "[87]\ttrain-auc:0.960646\tvalid-auc:0.900729\n",
      "[88]\ttrain-auc:0.960807\tvalid-auc:0.900714\n",
      "[89]\ttrain-auc:0.960994\tvalid-auc:0.900716\n",
      "[90]\ttrain-auc:0.961113\tvalid-auc:0.900694\n",
      "Stopping. Best iteration:\n",
      "[40]\ttrain-auc:0.94965\tvalid-auc:0.901271\n",
      "\n"
     ]
    },
    {
     "name": "stderr",
     "output_type": "stream",
     "text": [
      "C:\\ProgramData\\Anaconda3\\lib\\site-packages\\mlcrate\\backend.py:7: UserWarning: Timer.format_elapsed() has been deprecated in favour of Timer.fsince() and will be removed soon\n",
      "  warn(message)\n"
     ]
    },
    {
     "name": "stdout",
     "output_type": "stream",
     "text": [
      "[mlcrate] Finished training fold 1 - took 1m51s - running score 0.9014854999999999\n",
      "[mlcrate] Running fold 2, 43846 train samples, 10962 validation samples\n",
      "[0]\ttrain-auc:0.884611\tvalid-auc:0.848949\n",
      "Multiple eval metrics have been passed: 'valid-auc' will be used for early stopping.\n",
      "\n",
      "Will train until valid-auc hasn't improved in 50 rounds.\n",
      "[1]\ttrain-auc:0.90505\tvalid-auc:0.854606\n",
      "[2]\ttrain-auc:0.911651\tvalid-auc:0.869286\n",
      "[3]\ttrain-auc:0.919515\tvalid-auc:0.876459\n",
      "[4]\ttrain-auc:0.919105\tvalid-auc:0.878314\n",
      "[5]\ttrain-auc:0.923362\tvalid-auc:0.882181\n",
      "[6]\ttrain-auc:0.925136\tvalid-auc:0.883227\n",
      "[7]\ttrain-auc:0.927626\tvalid-auc:0.886899\n",
      "[8]\ttrain-auc:0.929015\tvalid-auc:0.888622\n",
      "[9]\ttrain-auc:0.928772\tvalid-auc:0.888498\n",
      "[10]\ttrain-auc:0.929788\tvalid-auc:0.890126\n",
      "[11]\ttrain-auc:0.932214\tvalid-auc:0.892244\n",
      "[12]\ttrain-auc:0.933662\tvalid-auc:0.89358\n",
      "[13]\ttrain-auc:0.935625\tvalid-auc:0.894808\n",
      "[14]\ttrain-auc:0.936021\tvalid-auc:0.895372\n",
      "[15]\ttrain-auc:0.936897\tvalid-auc:0.896093\n",
      "[16]\ttrain-auc:0.937415\tvalid-auc:0.896065\n",
      "[17]\ttrain-auc:0.938579\tvalid-auc:0.896748\n",
      "[18]\ttrain-auc:0.939062\tvalid-auc:0.897132\n",
      "[19]\ttrain-auc:0.939577\tvalid-auc:0.897557\n",
      "[20]\ttrain-auc:0.940157\tvalid-auc:0.898276\n",
      "[21]\ttrain-auc:0.940405\tvalid-auc:0.898594\n",
      "[22]\ttrain-auc:0.940666\tvalid-auc:0.898271\n",
      "[23]\ttrain-auc:0.941387\tvalid-auc:0.897945\n",
      "[24]\ttrain-auc:0.94157\tvalid-auc:0.898579\n",
      "[25]\ttrain-auc:0.94225\tvalid-auc:0.898982\n",
      "[26]\ttrain-auc:0.942786\tvalid-auc:0.899403\n",
      "[27]\ttrain-auc:0.943667\tvalid-auc:0.899136\n",
      "[28]\ttrain-auc:0.944392\tvalid-auc:0.899436\n",
      "[29]\ttrain-auc:0.944903\tvalid-auc:0.899614\n",
      "[30]\ttrain-auc:0.945213\tvalid-auc:0.899534\n",
      "[31]\ttrain-auc:0.945506\tvalid-auc:0.899894\n",
      "[32]\ttrain-auc:0.945797\tvalid-auc:0.900237\n",
      "[33]\ttrain-auc:0.946206\tvalid-auc:0.900148\n",
      "[34]\ttrain-auc:0.946475\tvalid-auc:0.900088\n",
      "[35]\ttrain-auc:0.947179\tvalid-auc:0.899818\n",
      "[36]\ttrain-auc:0.947471\tvalid-auc:0.900106\n",
      "[37]\ttrain-auc:0.947807\tvalid-auc:0.900259\n",
      "[38]\ttrain-auc:0.947873\tvalid-auc:0.900242\n",
      "[39]\ttrain-auc:0.948403\tvalid-auc:0.900424\n",
      "[40]\ttrain-auc:0.948475\tvalid-auc:0.900527\n",
      "[41]\ttrain-auc:0.948785\tvalid-auc:0.900469\n",
      "[42]\ttrain-auc:0.949209\tvalid-auc:0.900502\n",
      "[43]\ttrain-auc:0.949961\tvalid-auc:0.901051\n",
      "[44]\ttrain-auc:0.950097\tvalid-auc:0.900992\n",
      "[45]\ttrain-auc:0.950299\tvalid-auc:0.901022\n",
      "[46]\ttrain-auc:0.950659\tvalid-auc:0.901218\n",
      "[47]\ttrain-auc:0.950843\tvalid-auc:0.90122\n",
      "[48]\ttrain-auc:0.950991\tvalid-auc:0.901088\n",
      "[49]\ttrain-auc:0.951341\tvalid-auc:0.901019\n",
      "[50]\ttrain-auc:0.951331\tvalid-auc:0.900994\n",
      "[51]\ttrain-auc:0.951427\tvalid-auc:0.90098\n",
      "[52]\ttrain-auc:0.951983\tvalid-auc:0.901192\n",
      "[53]\ttrain-auc:0.952117\tvalid-auc:0.901384\n",
      "[54]\ttrain-auc:0.952457\tvalid-auc:0.90141\n",
      "[55]\ttrain-auc:0.95284\tvalid-auc:0.901502\n",
      "[56]\ttrain-auc:0.953235\tvalid-auc:0.901444\n",
      "[57]\ttrain-auc:0.953406\tvalid-auc:0.901545\n",
      "[58]\ttrain-auc:0.953671\tvalid-auc:0.901564\n",
      "[59]\ttrain-auc:0.953852\tvalid-auc:0.90165\n",
      "[60]\ttrain-auc:0.953923\tvalid-auc:0.901576\n",
      "[61]\ttrain-auc:0.954145\tvalid-auc:0.90153\n",
      "[62]\ttrain-auc:0.954385\tvalid-auc:0.901575\n",
      "[63]\ttrain-auc:0.954479\tvalid-auc:0.901688\n",
      "[64]\ttrain-auc:0.954737\tvalid-auc:0.901533\n",
      "[65]\ttrain-auc:0.955059\tvalid-auc:0.901299\n",
      "[66]\ttrain-auc:0.955356\tvalid-auc:0.90133\n",
      "[67]\ttrain-auc:0.955551\tvalid-auc:0.901242\n",
      "[68]\ttrain-auc:0.955919\tvalid-auc:0.901335\n",
      "[69]\ttrain-auc:0.95634\tvalid-auc:0.901098\n",
      "[70]\ttrain-auc:0.956775\tvalid-auc:0.901056\n",
      "[71]\ttrain-auc:0.957074\tvalid-auc:0.901081\n",
      "[72]\ttrain-auc:0.957393\tvalid-auc:0.901252\n",
      "[73]\ttrain-auc:0.957516\tvalid-auc:0.901051\n",
      "[74]\ttrain-auc:0.957576\tvalid-auc:0.901023\n",
      "[75]\ttrain-auc:0.957879\tvalid-auc:0.901038\n",
      "[76]\ttrain-auc:0.958125\tvalid-auc:0.901007\n",
      "[77]\ttrain-auc:0.958284\tvalid-auc:0.900993\n",
      "[78]\ttrain-auc:0.958588\tvalid-auc:0.90099\n",
      "[79]\ttrain-auc:0.958949\tvalid-auc:0.90091\n",
      "[80]\ttrain-auc:0.959243\tvalid-auc:0.900879\n",
      "[81]\ttrain-auc:0.959784\tvalid-auc:0.900548\n",
      "[82]\ttrain-auc:0.960159\tvalid-auc:0.900749\n",
      "[83]\ttrain-auc:0.96017\tvalid-auc:0.90078\n",
      "[84]\ttrain-auc:0.960294\tvalid-auc:0.900792\n",
      "[85]\ttrain-auc:0.960435\tvalid-auc:0.90072\n",
      "[86]\ttrain-auc:0.960558\tvalid-auc:0.900681\n",
      "[87]\ttrain-auc:0.960952\tvalid-auc:0.900679\n",
      "[88]\ttrain-auc:0.961135\tvalid-auc:0.900512\n",
      "[89]\ttrain-auc:0.9613\tvalid-auc:0.900621\n",
      "[90]\ttrain-auc:0.961384\tvalid-auc:0.900693\n",
      "[91]\ttrain-auc:0.961543\tvalid-auc:0.900574\n",
      "[92]\ttrain-auc:0.961727\tvalid-auc:0.900462\n",
      "[93]\ttrain-auc:0.961751\tvalid-auc:0.900471\n",
      "[94]\ttrain-auc:0.961835\tvalid-auc:0.900559\n",
      "[95]\ttrain-auc:0.962128\tvalid-auc:0.900566\n",
      "[96]\ttrain-auc:0.962216\tvalid-auc:0.900635\n",
      "[97]\ttrain-auc:0.962538\tvalid-auc:0.900652\n",
      "[98]\ttrain-auc:0.962826\tvalid-auc:0.900657\n",
      "[99]\ttrain-auc:0.963028\tvalid-auc:0.900866\n",
      "[100]\ttrain-auc:0.963333\tvalid-auc:0.900892\n",
      "[101]\ttrain-auc:0.963632\tvalid-auc:0.900987\n",
      "[102]\ttrain-auc:0.963701\tvalid-auc:0.900994\n",
      "[103]\ttrain-auc:0.964009\tvalid-auc:0.900862\n",
      "[104]\ttrain-auc:0.9642\tvalid-auc:0.900828\n",
      "[105]\ttrain-auc:0.964535\tvalid-auc:0.900937\n",
      "[106]\ttrain-auc:0.964634\tvalid-auc:0.900829\n",
      "[107]\ttrain-auc:0.964717\tvalid-auc:0.90075\n",
      "[108]\ttrain-auc:0.965028\tvalid-auc:0.900626\n",
      "[109]\ttrain-auc:0.965178\tvalid-auc:0.900467\n",
      "[110]\ttrain-auc:0.965223\tvalid-auc:0.900461\n",
      "[111]\ttrain-auc:0.965346\tvalid-auc:0.900362\n",
      "[112]\ttrain-auc:0.965578\tvalid-auc:0.90026\n",
      "[113]\ttrain-auc:0.965896\tvalid-auc:0.90025\n",
      "Stopping. Best iteration:\n",
      "[63]\ttrain-auc:0.954479\tvalid-auc:0.901688\n",
      "\n"
     ]
    },
    {
     "name": "stderr",
     "output_type": "stream",
     "text": [
      "C:\\ProgramData\\Anaconda3\\lib\\site-packages\\mlcrate\\backend.py:7: UserWarning: Timer.format_elapsed() has been deprecated in favour of Timer.fsince() and will be removed soon\n",
      "  warn(message)\n"
     ]
    },
    {
     "name": "stdout",
     "output_type": "stream",
     "text": [
      "[mlcrate] Finished training fold 2 - took 2m17s - running score 0.9015529999999999\n",
      "[mlcrate] Running fold 3, 43847 train samples, 10961 validation samples\n",
      "[0]\ttrain-auc:0.896536\tvalid-auc:0.882976\n",
      "Multiple eval metrics have been passed: 'valid-auc' will be used for early stopping.\n",
      "\n",
      "Will train until valid-auc hasn't improved in 50 rounds.\n",
      "[1]\ttrain-auc:0.911349\tvalid-auc:0.883518\n",
      "[2]\ttrain-auc:0.911323\tvalid-auc:0.87922\n",
      "[3]\ttrain-auc:0.919847\tvalid-auc:0.893189\n",
      "[4]\ttrain-auc:0.9246\tvalid-auc:0.900108\n",
      "[5]\ttrain-auc:0.924649\tvalid-auc:0.899557\n",
      "[6]\ttrain-auc:0.927869\tvalid-auc:0.902185\n",
      "[7]\ttrain-auc:0.929327\tvalid-auc:0.903277\n",
      "[8]\ttrain-auc:0.930638\tvalid-auc:0.903309\n",
      "[9]\ttrain-auc:0.93115\tvalid-auc:0.904018\n",
      "[10]\ttrain-auc:0.931879\tvalid-auc:0.904097\n",
      "[11]\ttrain-auc:0.933364\tvalid-auc:0.904743\n",
      "[12]\ttrain-auc:0.9349\tvalid-auc:0.906244\n",
      "[13]\ttrain-auc:0.9355\tvalid-auc:0.906024\n",
      "[14]\ttrain-auc:0.935555\tvalid-auc:0.906281\n",
      "[15]\ttrain-auc:0.936751\tvalid-auc:0.906844\n",
      "[16]\ttrain-auc:0.936884\tvalid-auc:0.906823\n",
      "[17]\ttrain-auc:0.938309\tvalid-auc:0.90668\n",
      "[18]\ttrain-auc:0.938843\tvalid-auc:0.906034\n",
      "[19]\ttrain-auc:0.939798\tvalid-auc:0.906677\n",
      "[20]\ttrain-auc:0.94015\tvalid-auc:0.907161\n",
      "[21]\ttrain-auc:0.94131\tvalid-auc:0.907234\n",
      "[22]\ttrain-auc:0.941856\tvalid-auc:0.907259\n",
      "[23]\ttrain-auc:0.941839\tvalid-auc:0.907255\n",
      "[24]\ttrain-auc:0.941975\tvalid-auc:0.906706\n",
      "[25]\ttrain-auc:0.942296\tvalid-auc:0.906869\n",
      "[26]\ttrain-auc:0.942331\tvalid-auc:0.906651\n",
      "[27]\ttrain-auc:0.942843\tvalid-auc:0.907122\n",
      "[28]\ttrain-auc:0.943504\tvalid-auc:0.907525\n",
      "[29]\ttrain-auc:0.944357\tvalid-auc:0.907689\n",
      "[30]\ttrain-auc:0.945005\tvalid-auc:0.907882\n",
      "[31]\ttrain-auc:0.945187\tvalid-auc:0.907876\n",
      "[32]\ttrain-auc:0.945328\tvalid-auc:0.907823\n",
      "[33]\ttrain-auc:0.945996\tvalid-auc:0.907694\n",
      "[34]\ttrain-auc:0.946438\tvalid-auc:0.907896\n",
      "[35]\ttrain-auc:0.946998\tvalid-auc:0.908235\n",
      "[36]\ttrain-auc:0.947719\tvalid-auc:0.908579\n",
      "[37]\ttrain-auc:0.948545\tvalid-auc:0.908839\n",
      "[38]\ttrain-auc:0.948585\tvalid-auc:0.908729\n",
      "[39]\ttrain-auc:0.948784\tvalid-auc:0.908956\n",
      "[40]\ttrain-auc:0.948966\tvalid-auc:0.908956\n",
      "[41]\ttrain-auc:0.949149\tvalid-auc:0.909036\n",
      "[42]\ttrain-auc:0.949606\tvalid-auc:0.909152\n",
      "[43]\ttrain-auc:0.950134\tvalid-auc:0.909311\n",
      "[44]\ttrain-auc:0.950242\tvalid-auc:0.909099\n",
      "[45]\ttrain-auc:0.950724\tvalid-auc:0.909398\n",
      "[46]\ttrain-auc:0.950882\tvalid-auc:0.909405\n",
      "[47]\ttrain-auc:0.951163\tvalid-auc:0.909509\n",
      "[48]\ttrain-auc:0.951523\tvalid-auc:0.909595\n",
      "[49]\ttrain-auc:0.951699\tvalid-auc:0.909667\n",
      "[50]\ttrain-auc:0.952245\tvalid-auc:0.909677\n",
      "[51]\ttrain-auc:0.95287\tvalid-auc:0.909801\n",
      "[52]\ttrain-auc:0.95304\tvalid-auc:0.910078\n",
      "[53]\ttrain-auc:0.953244\tvalid-auc:0.910137\n",
      "[54]\ttrain-auc:0.953524\tvalid-auc:0.910085\n",
      "[55]\ttrain-auc:0.953794\tvalid-auc:0.909879\n",
      "[56]\ttrain-auc:0.954031\tvalid-auc:0.909875\n",
      "[57]\ttrain-auc:0.954159\tvalid-auc:0.909733\n",
      "[58]\ttrain-auc:0.95459\tvalid-auc:0.909535\n",
      "[59]\ttrain-auc:0.954887\tvalid-auc:0.909524\n",
      "[60]\ttrain-auc:0.95502\tvalid-auc:0.909401\n",
      "[61]\ttrain-auc:0.955456\tvalid-auc:0.909312\n",
      "[62]\ttrain-auc:0.955445\tvalid-auc:0.909295\n",
      "[63]\ttrain-auc:0.95566\tvalid-auc:0.9093\n",
      "[64]\ttrain-auc:0.956031\tvalid-auc:0.909392\n",
      "[65]\ttrain-auc:0.956178\tvalid-auc:0.90958\n",
      "[66]\ttrain-auc:0.956326\tvalid-auc:0.909578\n",
      "[67]\ttrain-auc:0.956579\tvalid-auc:0.909706\n",
      "[68]\ttrain-auc:0.957068\tvalid-auc:0.909819\n",
      "[69]\ttrain-auc:0.9572\tvalid-auc:0.909787\n",
      "[70]\ttrain-auc:0.95736\tvalid-auc:0.909781\n",
      "[71]\ttrain-auc:0.957589\tvalid-auc:0.909715\n",
      "[72]\ttrain-auc:0.95766\tvalid-auc:0.909731\n",
      "[73]\ttrain-auc:0.958066\tvalid-auc:0.90972\n",
      "[74]\ttrain-auc:0.958159\tvalid-auc:0.909814\n",
      "[75]\ttrain-auc:0.958525\tvalid-auc:0.909915\n",
      "[76]\ttrain-auc:0.958562\tvalid-auc:0.9098\n",
      "[77]\ttrain-auc:0.959034\tvalid-auc:0.909642\n",
      "[78]\ttrain-auc:0.959187\tvalid-auc:0.909672\n",
      "[79]\ttrain-auc:0.959314\tvalid-auc:0.909657\n",
      "[80]\ttrain-auc:0.959467\tvalid-auc:0.909637\n",
      "[81]\ttrain-auc:0.959829\tvalid-auc:0.909781\n",
      "[82]\ttrain-auc:0.960057\tvalid-auc:0.909813\n",
      "[83]\ttrain-auc:0.960409\tvalid-auc:0.909914\n",
      "[84]\ttrain-auc:0.960698\tvalid-auc:0.909871\n",
      "[85]\ttrain-auc:0.960792\tvalid-auc:0.909873\n",
      "[86]\ttrain-auc:0.960904\tvalid-auc:0.909867\n",
      "[87]\ttrain-auc:0.961043\tvalid-auc:0.90981\n",
      "[88]\ttrain-auc:0.961131\tvalid-auc:0.909773\n",
      "[89]\ttrain-auc:0.961263\tvalid-auc:0.909646\n",
      "[90]\ttrain-auc:0.961448\tvalid-auc:0.909709\n",
      "[91]\ttrain-auc:0.961796\tvalid-auc:0.909588\n",
      "[92]\ttrain-auc:0.962048\tvalid-auc:0.909614\n",
      "[93]\ttrain-auc:0.962196\tvalid-auc:0.909636\n",
      "[94]\ttrain-auc:0.96232\tvalid-auc:0.909529\n",
      "[95]\ttrain-auc:0.962681\tvalid-auc:0.909313\n",
      "[96]\ttrain-auc:0.962856\tvalid-auc:0.909304\n",
      "[97]\ttrain-auc:0.963469\tvalid-auc:0.909376\n",
      "[98]\ttrain-auc:0.963669\tvalid-auc:0.90924\n",
      "[99]\ttrain-auc:0.964127\tvalid-auc:0.909224\n",
      "[100]\ttrain-auc:0.964249\tvalid-auc:0.909167\n",
      "[101]\ttrain-auc:0.964479\tvalid-auc:0.909121\n",
      "[102]\ttrain-auc:0.964647\tvalid-auc:0.909134\n",
      "[103]\ttrain-auc:0.964881\tvalid-auc:0.908993\n",
      "Stopping. Best iteration:\n",
      "[53]\ttrain-auc:0.953244\tvalid-auc:0.910137\n",
      "\n"
     ]
    },
    {
     "name": "stderr",
     "output_type": "stream",
     "text": [
      "C:\\ProgramData\\Anaconda3\\lib\\site-packages\\mlcrate\\backend.py:7: UserWarning: Timer.format_elapsed() has been deprecated in favour of Timer.fsince() and will be removed soon\n",
      "  warn(message)\n"
     ]
    },
    {
     "name": "stdout",
     "output_type": "stream",
     "text": [
      "[mlcrate] Finished training fold 3 - took 2m03s - running score 0.903699\n",
      "[mlcrate] Running fold 4, 43847 train samples, 10961 validation samples\n",
      "[0]\ttrain-auc:0.896671\tvalid-auc:0.877186\n",
      "Multiple eval metrics have been passed: 'valid-auc' will be used for early stopping.\n",
      "\n",
      "Will train until valid-auc hasn't improved in 50 rounds.\n",
      "[1]\ttrain-auc:0.911342\tvalid-auc:0.882195\n",
      "[2]\ttrain-auc:0.912539\tvalid-auc:0.876501\n",
      "[3]\ttrain-auc:0.921549\tvalid-auc:0.890471\n",
      "[4]\ttrain-auc:0.927369\tvalid-auc:0.894789\n",
      "[5]\ttrain-auc:0.927013\tvalid-auc:0.896552\n",
      "[6]\ttrain-auc:0.928939\tvalid-auc:0.897634\n",
      "[7]\ttrain-auc:0.930304\tvalid-auc:0.897109\n",
      "[8]\ttrain-auc:0.931109\tvalid-auc:0.898099\n",
      "[9]\ttrain-auc:0.93178\tvalid-auc:0.898536\n",
      "[10]\ttrain-auc:0.932369\tvalid-auc:0.898804\n",
      "[11]\ttrain-auc:0.933644\tvalid-auc:0.898658\n",
      "[12]\ttrain-auc:0.936057\tvalid-auc:0.900698\n",
      "[13]\ttrain-auc:0.937297\tvalid-auc:0.900654\n",
      "[14]\ttrain-auc:0.937033\tvalid-auc:0.90019\n",
      "[15]\ttrain-auc:0.937577\tvalid-auc:0.901024\n",
      "[16]\ttrain-auc:0.937377\tvalid-auc:0.900779\n",
      "[17]\ttrain-auc:0.938622\tvalid-auc:0.901267\n",
      "[18]\ttrain-auc:0.938739\tvalid-auc:0.900852\n",
      "[19]\ttrain-auc:0.940229\tvalid-auc:0.90208\n",
      "[20]\ttrain-auc:0.941199\tvalid-auc:0.902462\n",
      "[21]\ttrain-auc:0.94228\tvalid-auc:0.903006\n",
      "[22]\ttrain-auc:0.94258\tvalid-auc:0.903466\n",
      "[23]\ttrain-auc:0.94278\tvalid-auc:0.902905\n",
      "[24]\ttrain-auc:0.942897\tvalid-auc:0.90312\n",
      "[25]\ttrain-auc:0.94358\tvalid-auc:0.903533\n",
      "[26]\ttrain-auc:0.943547\tvalid-auc:0.903253\n",
      "[27]\ttrain-auc:0.943939\tvalid-auc:0.903638\n",
      "[28]\ttrain-auc:0.94462\tvalid-auc:0.904049\n",
      "[29]\ttrain-auc:0.946057\tvalid-auc:0.904249\n",
      "[30]\ttrain-auc:0.946594\tvalid-auc:0.90419\n",
      "[31]\ttrain-auc:0.946608\tvalid-auc:0.903973\n",
      "[32]\ttrain-auc:0.947228\tvalid-auc:0.904135\n",
      "[33]\ttrain-auc:0.947341\tvalid-auc:0.904189\n",
      "[34]\ttrain-auc:0.948074\tvalid-auc:0.904377\n",
      "[35]\ttrain-auc:0.948266\tvalid-auc:0.904561\n",
      "[36]\ttrain-auc:0.948725\tvalid-auc:0.904392\n",
      "[37]\ttrain-auc:0.94931\tvalid-auc:0.904256\n",
      "[38]\ttrain-auc:0.949322\tvalid-auc:0.904292\n",
      "[39]\ttrain-auc:0.949931\tvalid-auc:0.904532\n",
      "[40]\ttrain-auc:0.950255\tvalid-auc:0.904689\n",
      "[41]\ttrain-auc:0.950585\tvalid-auc:0.905005\n",
      "[42]\ttrain-auc:0.950909\tvalid-auc:0.904679\n",
      "[43]\ttrain-auc:0.95115\tvalid-auc:0.904856\n",
      "[44]\ttrain-auc:0.95154\tvalid-auc:0.904975\n",
      "[45]\ttrain-auc:0.951928\tvalid-auc:0.904816\n",
      "[46]\ttrain-auc:0.952523\tvalid-auc:0.905111\n",
      "[47]\ttrain-auc:0.952711\tvalid-auc:0.905173\n",
      "[48]\ttrain-auc:0.95303\tvalid-auc:0.905168\n",
      "[49]\ttrain-auc:0.953251\tvalid-auc:0.905058\n",
      "[50]\ttrain-auc:0.953555\tvalid-auc:0.904776\n",
      "[51]\ttrain-auc:0.953842\tvalid-auc:0.904704\n",
      "[52]\ttrain-auc:0.953901\tvalid-auc:0.905026\n",
      "[53]\ttrain-auc:0.954212\tvalid-auc:0.904969\n",
      "[54]\ttrain-auc:0.954549\tvalid-auc:0.905001\n",
      "[55]\ttrain-auc:0.954863\tvalid-auc:0.905119\n",
      "[56]\ttrain-auc:0.955239\tvalid-auc:0.905307\n",
      "[57]\ttrain-auc:0.955443\tvalid-auc:0.905312\n",
      "[58]\ttrain-auc:0.955677\tvalid-auc:0.905619\n",
      "[59]\ttrain-auc:0.955706\tvalid-auc:0.905822\n",
      "[60]\ttrain-auc:0.956009\tvalid-auc:0.905806\n",
      "[61]\ttrain-auc:0.956144\tvalid-auc:0.905751\n",
      "[62]\ttrain-auc:0.956346\tvalid-auc:0.905823\n",
      "[63]\ttrain-auc:0.956541\tvalid-auc:0.905946\n",
      "[64]\ttrain-auc:0.956791\tvalid-auc:0.905893\n",
      "[65]\ttrain-auc:0.95723\tvalid-auc:0.905957\n",
      "[66]\ttrain-auc:0.957383\tvalid-auc:0.905891\n",
      "[67]\ttrain-auc:0.957434\tvalid-auc:0.905904\n",
      "[68]\ttrain-auc:0.95794\tvalid-auc:0.905744\n",
      "[69]\ttrain-auc:0.958035\tvalid-auc:0.905799\n",
      "[70]\ttrain-auc:0.958226\tvalid-auc:0.9059\n",
      "[71]\ttrain-auc:0.958661\tvalid-auc:0.905741\n",
      "[72]\ttrain-auc:0.958855\tvalid-auc:0.905726\n",
      "[73]\ttrain-auc:0.959415\tvalid-auc:0.905662\n",
      "[74]\ttrain-auc:0.959886\tvalid-auc:0.905704\n",
      "[75]\ttrain-auc:0.960295\tvalid-auc:0.905669\n",
      "[76]\ttrain-auc:0.960324\tvalid-auc:0.905733\n",
      "[77]\ttrain-auc:0.960544\tvalid-auc:0.905579\n",
      "[78]\ttrain-auc:0.960653\tvalid-auc:0.90553\n",
      "[79]\ttrain-auc:0.960927\tvalid-auc:0.905644\n",
      "[80]\ttrain-auc:0.961166\tvalid-auc:0.905834\n",
      "[81]\ttrain-auc:0.961448\tvalid-auc:0.905827\n",
      "[82]\ttrain-auc:0.961646\tvalid-auc:0.906061\n",
      "[83]\ttrain-auc:0.962034\tvalid-auc:0.905726\n",
      "[84]\ttrain-auc:0.962189\tvalid-auc:0.905656\n",
      "[85]\ttrain-auc:0.962307\tvalid-auc:0.90562\n",
      "[86]\ttrain-auc:0.962536\tvalid-auc:0.9056\n",
      "[87]\ttrain-auc:0.962553\tvalid-auc:0.905602\n",
      "[88]\ttrain-auc:0.962911\tvalid-auc:0.905502\n",
      "[89]\ttrain-auc:0.962998\tvalid-auc:0.905582\n",
      "[90]\ttrain-auc:0.963046\tvalid-auc:0.905631\n",
      "[91]\ttrain-auc:0.963269\tvalid-auc:0.905578\n",
      "[92]\ttrain-auc:0.963362\tvalid-auc:0.905535\n",
      "[93]\ttrain-auc:0.963605\tvalid-auc:0.905502\n",
      "[94]\ttrain-auc:0.963681\tvalid-auc:0.90554\n",
      "[95]\ttrain-auc:0.963861\tvalid-auc:0.905551\n",
      "[96]\ttrain-auc:0.964018\tvalid-auc:0.905554\n",
      "[97]\ttrain-auc:0.964191\tvalid-auc:0.905406\n",
      "[98]\ttrain-auc:0.964462\tvalid-auc:0.905509\n",
      "[99]\ttrain-auc:0.96487\tvalid-auc:0.905471\n",
      "[100]\ttrain-auc:0.964923\tvalid-auc:0.905476\n",
      "[101]\ttrain-auc:0.965086\tvalid-auc:0.905315\n",
      "[102]\ttrain-auc:0.965312\tvalid-auc:0.905305\n",
      "[103]\ttrain-auc:0.965586\tvalid-auc:0.905372\n",
      "[104]\ttrain-auc:0.965749\tvalid-auc:0.90523\n",
      "[105]\ttrain-auc:0.96592\tvalid-auc:0.905241\n",
      "[106]\ttrain-auc:0.966097\tvalid-auc:0.905238\n",
      "[107]\ttrain-auc:0.966536\tvalid-auc:0.905213\n",
      "[108]\ttrain-auc:0.966813\tvalid-auc:0.905076\n",
      "[109]\ttrain-auc:0.967163\tvalid-auc:0.904947\n",
      "[110]\ttrain-auc:0.967204\tvalid-auc:0.904909\n",
      "[111]\ttrain-auc:0.967396\tvalid-auc:0.90497\n",
      "[112]\ttrain-auc:0.967482\tvalid-auc:0.905\n",
      "[113]\ttrain-auc:0.967688\tvalid-auc:0.904884\n",
      "[114]\ttrain-auc:0.967756\tvalid-auc:0.904738\n",
      "[115]\ttrain-auc:0.967891\tvalid-auc:0.904713\n",
      "[116]\ttrain-auc:0.968043\tvalid-auc:0.904615\n",
      "[117]\ttrain-auc:0.968389\tvalid-auc:0.904449\n",
      "[118]\ttrain-auc:0.968547\tvalid-auc:0.904503\n",
      "[119]\ttrain-auc:0.968698\tvalid-auc:0.904402\n",
      "[120]\ttrain-auc:0.968979\tvalid-auc:0.904395\n",
      "[121]\ttrain-auc:0.968994\tvalid-auc:0.90444\n",
      "[122]\ttrain-auc:0.969157\tvalid-auc:0.904377\n",
      "[123]\ttrain-auc:0.969357\tvalid-auc:0.904331\n",
      "[124]\ttrain-auc:0.969442\tvalid-auc:0.904419\n",
      "[125]\ttrain-auc:0.969626\tvalid-auc:0.904412\n",
      "[126]\ttrain-auc:0.969682\tvalid-auc:0.904391\n",
      "[127]\ttrain-auc:0.969846\tvalid-auc:0.904307\n",
      "[128]\ttrain-auc:0.970097\tvalid-auc:0.904234\n",
      "[129]\ttrain-auc:0.970285\tvalid-auc:0.904297\n",
      "[130]\ttrain-auc:0.970423\tvalid-auc:0.904254\n",
      "[131]\ttrain-auc:0.970602\tvalid-auc:0.904263\n",
      "[132]\ttrain-auc:0.970688\tvalid-auc:0.90431\n",
      "Stopping. Best iteration:\n",
      "[82]\ttrain-auc:0.961646\tvalid-auc:0.906061\n",
      "\n"
     ]
    },
    {
     "name": "stderr",
     "output_type": "stream",
     "text": [
      "C:\\ProgramData\\Anaconda3\\lib\\site-packages\\mlcrate\\backend.py:7: UserWarning: Timer.format_elapsed() has been deprecated in favour of Timer.fsince() and will be removed soon\n",
      "  warn(message)\n"
     ]
    },
    {
     "name": "stdout",
     "output_type": "stream",
     "text": [
      "[mlcrate] Finished training fold 4 - took 2m42s - running score 0.9041714000000001\n"
     ]
    },
    {
     "name": "stderr",
     "output_type": "stream",
     "text": [
      "C:\\ProgramData\\Anaconda3\\lib\\site-packages\\mlcrate\\backend.py:7: UserWarning: Timer.format_elapsed() has been deprecated in favour of Timer.fsince() and will be removed soon\n",
      "  warn(message)\n"
     ]
    },
    {
     "name": "stdout",
     "output_type": "stream",
     "text": [
      "[mlcrate] Finished training 5 XGBoost models, took 11m54s\n"
     ]
    }
   ],
   "source": [
    "model, p_train, p_test = mlcrate.xgb.train_kfold(params, train_all, target, test_all, folds = 5, stratify=target)"
   ]
  },
  {
   "cell_type": "code",
   "execution_count": 38,
   "metadata": {
    "ExecuteTime": {
     "end_time": "2018-09-16T17:10:46.887913Z",
     "start_time": "2018-09-16T17:10:46.655869Z"
    }
   },
   "outputs": [
    {
     "data": {
      "text/plain": [
       "(array([ 0.63538,  0.05006,  0.03389, ...,  0.04417,  0.06983,  0.92965], dtype=float32),\n",
       " 0.97443736)"
      ]
     },
     "execution_count": 38,
     "metadata": {},
     "output_type": "execute_result"
    }
   ],
   "source": [
    "p_test, max(p_test)"
   ]
  },
  {
   "cell_type": "code",
   "execution_count": 52,
   "metadata": {
    "ExecuteTime": {
     "end_time": "2018-09-16T17:14:15.466479Z",
     "start_time": "2018-09-16T17:14:15.207474Z"
    }
   },
   "outputs": [
    {
     "data": {
      "text/plain": [
       "0    50140\n",
       "1     4668\n",
       "dtype: int64"
      ]
     },
     "execution_count": 52,
     "metadata": {},
     "output_type": "execute_result"
    }
   ],
   "source": [
    "pd.Series(target).value_counts()"
   ]
  },
  {
   "cell_type": "code",
   "execution_count": 57,
   "metadata": {
    "ExecuteTime": {
     "end_time": "2018-09-16T17:15:19.480359Z",
     "start_time": "2018-09-16T17:15:19.207896Z"
    }
   },
   "outputs": [
    {
     "data": {
      "text/plain": [
       "8.517004816815064"
      ]
     },
     "execution_count": 57,
     "metadata": {},
     "output_type": "execute_result"
    }
   ],
   "source": [
    "4668/54808*100"
   ]
  },
  {
   "cell_type": "code",
   "execution_count": 53,
   "metadata": {
    "ExecuteTime": {
     "end_time": "2018-09-16T17:14:50.014125Z",
     "start_time": "2018-09-16T17:14:49.750458Z"
    }
   },
   "outputs": [
    {
     "data": {
      "text/plain": [
       "(23490,)"
      ]
     },
     "execution_count": 53,
     "metadata": {},
     "output_type": "execute_result"
    }
   ],
   "source": [
    "p_test.shape"
   ]
  },
  {
   "cell_type": "code",
   "execution_count": 60,
   "metadata": {
    "ExecuteTime": {
     "end_time": "2018-09-16T17:15:52.178157Z",
     "start_time": "2018-09-16T17:15:51.905607Z"
    }
   },
   "outputs": [
    {
     "data": {
      "text/plain": [
       "2000.6444314698583"
      ]
     },
     "execution_count": 60,
     "metadata": {},
     "output_type": "execute_result"
    }
   ],
   "source": [
    "4668/54808*23490"
   ]
  },
  {
   "cell_type": "code",
   "execution_count": 66,
   "metadata": {
    "ExecuteTime": {
     "end_time": "2018-09-16T17:19:10.407792Z",
     "start_time": "2018-09-16T17:19:10.108838Z"
    }
   },
   "outputs": [
    {
     "data": {
      "text/plain": [
       "0    22095\n",
       "1     1395\n",
       "dtype: int64"
      ]
     },
     "execution_count": 66,
     "metadata": {},
     "output_type": "execute_result"
    }
   ],
   "source": [
    "pd.Series((p_test>.7)*1).value_counts()"
   ]
  },
  {
   "cell_type": "code",
   "execution_count": 46,
   "metadata": {
    "ExecuteTime": {
     "end_time": "2018-09-16T17:12:22.397192Z",
     "start_time": "2018-09-16T17:12:22.162425Z"
    }
   },
   "outputs": [
    {
     "data": {
      "text/plain": [
       "0    22660\n",
       "1      830\n",
       "dtype: int64"
      ]
     },
     "execution_count": 46,
     "metadata": {},
     "output_type": "execute_result"
    }
   ],
   "source": [
    "pd.Series((p_test>.75)*1).value_counts()"
   ]
  },
  {
   "cell_type": "code",
   "execution_count": 50,
   "metadata": {
    "ExecuteTime": {
     "end_time": "2018-09-16T17:13:45.907960Z",
     "start_time": "2018-09-16T17:13:45.683954Z"
    }
   },
   "outputs": [
    {
     "data": {
      "text/plain": [
       "0    22847\n",
       "1      643\n",
       "dtype: int64"
      ]
     },
     "execution_count": 50,
     "metadata": {},
     "output_type": "execute_result"
    }
   ],
   "source": [
    "pd.Series((p_test>.8)*1).value_counts()"
   ]
  },
  {
   "cell_type": "code",
   "execution_count": 51,
   "metadata": {
    "ExecuteTime": {
     "end_time": "2018-09-16T17:13:51.920324Z",
     "start_time": "2018-09-16T17:13:51.640441Z"
    }
   },
   "outputs": [
    {
     "data": {
      "text/plain": [
       "0    22906\n",
       "1      584\n",
       "dtype: int64"
      ]
     },
     "execution_count": 51,
     "metadata": {},
     "output_type": "execute_result"
    }
   ],
   "source": [
    "pd.Series((p_test>.85)*1).value_counts()"
   ]
  },
  {
   "cell_type": "code",
   "execution_count": 63,
   "metadata": {
    "ExecuteTime": {
     "end_time": "2018-09-16T17:18:43.061860Z",
     "start_time": "2018-09-16T17:18:42.786954Z"
    }
   },
   "outputs": [],
   "source": [
    "preds = pd.Series((p_test>.61)*1)"
   ]
  },
  {
   "cell_type": "code",
   "execution_count": 64,
   "metadata": {
    "ExecuteTime": {
     "end_time": "2018-09-16T17:18:46.508248Z",
     "start_time": "2018-09-16T17:18:46.235467Z"
    }
   },
   "outputs": [],
   "source": [
    "make_submission(preds).to_csv('clipped_at_.8.csv', index=False)"
   ]
  },
  {
   "cell_type": "code",
   "execution_count": null,
   "metadata": {},
   "outputs": [],
   "source": []
  },
  {
   "cell_type": "code",
   "execution_count": null,
   "metadata": {},
   "outputs": [],
   "source": []
  },
  {
   "cell_type": "code",
   "execution_count": 107,
   "metadata": {
    "ExecuteTime": {
     "end_time": "2018-09-15T18:23:40.350773Z",
     "start_time": "2018-09-15T18:23:40.006242Z"
    }
   },
   "outputs": [
    {
     "data": {
      "text/plain": [
       "['xgb_best']"
      ]
     },
     "execution_count": 107,
     "metadata": {},
     "output_type": "execute_result"
    }
   ],
   "source": [
    "import joblib\n",
    "joblib.dump(model[0],'xgb_best_0th')\n",
    "joblib.dump(model,'xgb_best')"
   ]
  },
  {
   "cell_type": "code",
   "execution_count": 88,
   "metadata": {
    "ExecuteTime": {
     "end_time": "2018-09-15T18:07:22.572323Z",
     "start_time": "2018-09-15T18:05:40.022464Z"
    }
   },
   "outputs": [
    {
     "name": "stderr",
     "output_type": "stream",
     "text": [
      "C:\\ProgramData\\Anaconda3\\lib\\site-packages\\sklearn\\metrics\\classification.py:538: RuntimeWarning: invalid value encountered in double_scalars\n",
      "  mcc = cov_ytyp / np.sqrt(cov_ytyt * cov_ypyp)\n"
     ]
    },
    {
     "name": "stdout",
     "output_type": "stream",
     "text": [
      "Best score:  0.50454  @ threshold  0.937723\n"
     ]
    }
   ],
   "source": [
    "import numpy as np\n",
    "from sklearn.metrics import matthews_corrcoef\n",
    "\n",
    "def find_matthews_threshold(p_valid, y_valid, try_all=False, verbose=False):\n",
    "    p_valid, y_valid = np.array(p_valid), np.array(y_valid)\n",
    "\n",
    "    best = 0\n",
    "    best_score = -2\n",
    "    totry = np.arange(0.3,1,0.01) if try_all is False else np.unique(p_valid)\n",
    "    for t in totry:\n",
    "        score = matthews_corrcoef(y_valid, p_valid > t)\n",
    "        if score > best_score:\n",
    "            best_score = score\n",
    "            best = t\n",
    "    if verbose is True: \n",
    "        print('Best score: ', round(best_score, 5), ' @ threshold ', best)\n",
    "\n",
    "    return best\n",
    "\n",
    "def best_threshold_submission(p_valid, y_valid, p_test, try_all=False, verbose=False):\n",
    "    p_test = np.array(p_test)\n",
    "    thresh = find_matthews_threshold(p_valid, y_valid, try_all, verbose)\n",
    "    return (p_test > thresh)*1\n",
    "\n",
    "submission_values = best_threshold_submission(val_preds, y_valid, p_test, True, True)"
   ]
  },
  {
   "cell_type": "code",
   "execution_count": 89,
   "metadata": {
    "ExecuteTime": {
     "end_time": "2018-09-15T18:07:22.784321Z",
     "start_time": "2018-09-15T18:07:22.572323Z"
    }
   },
   "outputs": [
    {
     "data": {
      "text/plain": [
       "array([0, 0, 0, ..., 0, 0, 1])"
      ]
     },
     "execution_count": 89,
     "metadata": {},
     "output_type": "execute_result"
    }
   ],
   "source": [
    "submission_values"
   ]
  },
  {
   "cell_type": "code",
   "execution_count": 90,
   "metadata": {
    "ExecuteTime": {
     "end_time": "2018-09-15T18:07:23.000286Z",
     "start_time": "2018-09-15T18:07:22.784321Z"
    }
   },
   "outputs": [
    {
     "data": {
      "text/plain": [
       "0    23023\n",
       "1      467\n",
       "dtype: int64"
      ]
     },
     "execution_count": 90,
     "metadata": {},
     "output_type": "execute_result"
    }
   ],
   "source": [
    "pd.Series(submission_values).value_counts()"
   ]
  },
  {
   "cell_type": "code",
   "execution_count": 96,
   "metadata": {
    "ExecuteTime": {
     "end_time": "2018-09-15T18:10:11.101531Z",
     "start_time": "2018-09-15T18:10:10.921994Z"
    }
   },
   "outputs": [
    {
     "data": {
      "text/plain": [
       "array([0, 0, 0, ..., 0, 0, 1])"
      ]
     },
     "execution_count": 96,
     "metadata": {},
     "output_type": "execute_result"
    }
   ],
   "source": [
    "(p_test>.9) *1"
   ]
  },
  {
   "cell_type": "code",
   "execution_count": 101,
   "metadata": {
    "ExecuteTime": {
     "end_time": "2018-09-15T18:12:26.092297Z",
     "start_time": "2018-09-15T18:12:25.858285Z"
    },
    "scrolled": true
   },
   "outputs": [],
   "source": [
    "make_submission((p_test>.75) *1).to_csv('day_2.csv', index=None)"
   ]
  },
  {
   "cell_type": "code",
   "execution_count": 113,
   "metadata": {
    "ExecuteTime": {
     "end_time": "2018-09-15T13:27:13.819313Z",
     "start_time": "2018-09-15T13:27:12.839581Z"
    }
   },
   "outputs": [],
   "source": [
    "def get_xgb_imp(xgb, feat_names):\n",
    "    imp_vals = xgb.get_fscore()\n",
    "    feats_imp = pd.DataFrame(imp_vals,index=np.arange(2)).T\n",
    "    feats_imp.iloc[:,0]= feats_imp.index    \n",
    "    feats_imp.columns=['feature','importance']\n",
    "    feats_imp.sort_values('importance',inplace=True,ascending=False)\n",
    "    feats_imp.reset_index(drop=True,inplace=True)\n",
    "    return feats_imp\n",
    "\n",
    "feature_importance_df = get_xgb_imp(model[3], feat_names= train_all.columns)"
   ]
  },
  {
   "cell_type": "code",
   "execution_count": 114,
   "metadata": {
    "ExecuteTime": {
     "end_time": "2018-09-15T13:27:18.576066Z",
     "start_time": "2018-09-15T13:27:18.348660Z"
    },
    "collapsed": true
   },
   "outputs": [
    {
     "data": {
      "text/html": [
       "<div>\n",
       "<style scoped>\n",
       "    .dataframe tbody tr th:only-of-type {\n",
       "        vertical-align: middle;\n",
       "    }\n",
       "\n",
       "    .dataframe tbody tr th {\n",
       "        vertical-align: top;\n",
       "    }\n",
       "\n",
       "    .dataframe thead th {\n",
       "        text-align: right;\n",
       "    }\n",
       "</style>\n",
       "<table border=\"1\" class=\"dataframe\">\n",
       "  <thead>\n",
       "    <tr style=\"text-align: right;\">\n",
       "      <th></th>\n",
       "      <th>feature</th>\n",
       "      <th>importance</th>\n",
       "    </tr>\n",
       "  </thead>\n",
       "  <tbody>\n",
       "    <tr>\n",
       "      <th>0</th>\n",
       "      <td>f18</td>\n",
       "      <td>10876</td>\n",
       "    </tr>\n",
       "    <tr>\n",
       "      <th>1</th>\n",
       "      <td>f19</td>\n",
       "      <td>10526</td>\n",
       "    </tr>\n",
       "    <tr>\n",
       "      <th>2</th>\n",
       "      <td>f6</td>\n",
       "      <td>10002</td>\n",
       "    </tr>\n",
       "    <tr>\n",
       "      <th>3</th>\n",
       "      <td>f22</td>\n",
       "      <td>9186</td>\n",
       "    </tr>\n",
       "    <tr>\n",
       "      <th>4</th>\n",
       "      <td>f23</td>\n",
       "      <td>8264</td>\n",
       "    </tr>\n",
       "    <tr>\n",
       "      <th>5</th>\n",
       "      <td>f21</td>\n",
       "      <td>8259</td>\n",
       "    </tr>\n",
       "    <tr>\n",
       "      <th>6</th>\n",
       "      <td>f20</td>\n",
       "      <td>8240</td>\n",
       "    </tr>\n",
       "    <tr>\n",
       "      <th>7</th>\n",
       "      <td>f1</td>\n",
       "      <td>8132</td>\n",
       "    </tr>\n",
       "    <tr>\n",
       "      <th>8</th>\n",
       "      <td>f8</td>\n",
       "      <td>8079</td>\n",
       "    </tr>\n",
       "    <tr>\n",
       "      <th>9</th>\n",
       "      <td>f3</td>\n",
       "      <td>6557</td>\n",
       "    </tr>\n",
       "    <tr>\n",
       "      <th>10</th>\n",
       "      <td>f2</td>\n",
       "      <td>4699</td>\n",
       "    </tr>\n",
       "    <tr>\n",
       "      <th>11</th>\n",
       "      <td>f12</td>\n",
       "      <td>3007</td>\n",
       "    </tr>\n",
       "    <tr>\n",
       "      <th>12</th>\n",
       "      <td>f16</td>\n",
       "      <td>2915</td>\n",
       "    </tr>\n",
       "    <tr>\n",
       "      <th>13</th>\n",
       "      <td>f15</td>\n",
       "      <td>2700</td>\n",
       "    </tr>\n",
       "    <tr>\n",
       "      <th>14</th>\n",
       "      <td>f13</td>\n",
       "      <td>2095</td>\n",
       "    </tr>\n",
       "    <tr>\n",
       "      <th>15</th>\n",
       "      <td>f0</td>\n",
       "      <td>1815</td>\n",
       "    </tr>\n",
       "    <tr>\n",
       "      <th>16</th>\n",
       "      <td>f4</td>\n",
       "      <td>1521</td>\n",
       "    </tr>\n",
       "    <tr>\n",
       "      <th>17</th>\n",
       "      <td>f14</td>\n",
       "      <td>1346</td>\n",
       "    </tr>\n",
       "    <tr>\n",
       "      <th>18</th>\n",
       "      <td>f17</td>\n",
       "      <td>1307</td>\n",
       "    </tr>\n",
       "    <tr>\n",
       "      <th>19</th>\n",
       "      <td>f69</td>\n",
       "      <td>1004</td>\n",
       "    </tr>\n",
       "    <tr>\n",
       "      <th>20</th>\n",
       "      <td>f79</td>\n",
       "      <td>958</td>\n",
       "    </tr>\n",
       "    <tr>\n",
       "      <th>21</th>\n",
       "      <td>f70</td>\n",
       "      <td>887</td>\n",
       "    </tr>\n",
       "    <tr>\n",
       "      <th>22</th>\n",
       "      <td>f27</td>\n",
       "      <td>723</td>\n",
       "    </tr>\n",
       "    <tr>\n",
       "      <th>23</th>\n",
       "      <td>f67</td>\n",
       "      <td>694</td>\n",
       "    </tr>\n",
       "    <tr>\n",
       "      <th>24</th>\n",
       "      <td>f80</td>\n",
       "      <td>679</td>\n",
       "    </tr>\n",
       "    <tr>\n",
       "      <th>25</th>\n",
       "      <td>f91</td>\n",
       "      <td>673</td>\n",
       "    </tr>\n",
       "    <tr>\n",
       "      <th>26</th>\n",
       "      <td>f88</td>\n",
       "      <td>632</td>\n",
       "    </tr>\n",
       "    <tr>\n",
       "      <th>27</th>\n",
       "      <td>f28</td>\n",
       "      <td>623</td>\n",
       "    </tr>\n",
       "    <tr>\n",
       "      <th>28</th>\n",
       "      <td>f78</td>\n",
       "      <td>610</td>\n",
       "    </tr>\n",
       "    <tr>\n",
       "      <th>29</th>\n",
       "      <td>f89</td>\n",
       "      <td>590</td>\n",
       "    </tr>\n",
       "    <tr>\n",
       "      <th>...</th>\n",
       "      <td>...</td>\n",
       "      <td>...</td>\n",
       "    </tr>\n",
       "    <tr>\n",
       "      <th>60</th>\n",
       "      <td>f68</td>\n",
       "      <td>121</td>\n",
       "    </tr>\n",
       "    <tr>\n",
       "      <th>61</th>\n",
       "      <td>f65</td>\n",
       "      <td>118</td>\n",
       "    </tr>\n",
       "    <tr>\n",
       "      <th>62</th>\n",
       "      <td>f72</td>\n",
       "      <td>113</td>\n",
       "    </tr>\n",
       "    <tr>\n",
       "      <th>63</th>\n",
       "      <td>f42</td>\n",
       "      <td>111</td>\n",
       "    </tr>\n",
       "    <tr>\n",
       "      <th>64</th>\n",
       "      <td>f52</td>\n",
       "      <td>97</td>\n",
       "    </tr>\n",
       "    <tr>\n",
       "      <th>65</th>\n",
       "      <td>f36</td>\n",
       "      <td>95</td>\n",
       "    </tr>\n",
       "    <tr>\n",
       "      <th>66</th>\n",
       "      <td>f63</td>\n",
       "      <td>94</td>\n",
       "    </tr>\n",
       "    <tr>\n",
       "      <th>67</th>\n",
       "      <td>f54</td>\n",
       "      <td>86</td>\n",
       "    </tr>\n",
       "    <tr>\n",
       "      <th>68</th>\n",
       "      <td>f32</td>\n",
       "      <td>81</td>\n",
       "    </tr>\n",
       "    <tr>\n",
       "      <th>69</th>\n",
       "      <td>f48</td>\n",
       "      <td>78</td>\n",
       "    </tr>\n",
       "    <tr>\n",
       "      <th>70</th>\n",
       "      <td>f39</td>\n",
       "      <td>67</td>\n",
       "    </tr>\n",
       "    <tr>\n",
       "      <th>71</th>\n",
       "      <td>f26</td>\n",
       "      <td>62</td>\n",
       "    </tr>\n",
       "    <tr>\n",
       "      <th>72</th>\n",
       "      <td>f11</td>\n",
       "      <td>61</td>\n",
       "    </tr>\n",
       "    <tr>\n",
       "      <th>73</th>\n",
       "      <td>f56</td>\n",
       "      <td>58</td>\n",
       "    </tr>\n",
       "    <tr>\n",
       "      <th>74</th>\n",
       "      <td>f59</td>\n",
       "      <td>56</td>\n",
       "    </tr>\n",
       "    <tr>\n",
       "      <th>75</th>\n",
       "      <td>f41</td>\n",
       "      <td>41</td>\n",
       "    </tr>\n",
       "    <tr>\n",
       "      <th>76</th>\n",
       "      <td>f93</td>\n",
       "      <td>40</td>\n",
       "    </tr>\n",
       "    <tr>\n",
       "      <th>77</th>\n",
       "      <td>f34</td>\n",
       "      <td>38</td>\n",
       "    </tr>\n",
       "    <tr>\n",
       "      <th>78</th>\n",
       "      <td>f44</td>\n",
       "      <td>34</td>\n",
       "    </tr>\n",
       "    <tr>\n",
       "      <th>79</th>\n",
       "      <td>f86</td>\n",
       "      <td>32</td>\n",
       "    </tr>\n",
       "    <tr>\n",
       "      <th>80</th>\n",
       "      <td>f61</td>\n",
       "      <td>31</td>\n",
       "    </tr>\n",
       "    <tr>\n",
       "      <th>81</th>\n",
       "      <td>f47</td>\n",
       "      <td>30</td>\n",
       "    </tr>\n",
       "    <tr>\n",
       "      <th>82</th>\n",
       "      <td>f73</td>\n",
       "      <td>29</td>\n",
       "    </tr>\n",
       "    <tr>\n",
       "      <th>83</th>\n",
       "      <td>f84</td>\n",
       "      <td>29</td>\n",
       "    </tr>\n",
       "    <tr>\n",
       "      <th>84</th>\n",
       "      <td>f60</td>\n",
       "      <td>26</td>\n",
       "    </tr>\n",
       "    <tr>\n",
       "      <th>85</th>\n",
       "      <td>f53</td>\n",
       "      <td>10</td>\n",
       "    </tr>\n",
       "    <tr>\n",
       "      <th>86</th>\n",
       "      <td>f74</td>\n",
       "      <td>9</td>\n",
       "    </tr>\n",
       "    <tr>\n",
       "      <th>87</th>\n",
       "      <td>f58</td>\n",
       "      <td>5</td>\n",
       "    </tr>\n",
       "    <tr>\n",
       "      <th>88</th>\n",
       "      <td>f57</td>\n",
       "      <td>3</td>\n",
       "    </tr>\n",
       "    <tr>\n",
       "      <th>89</th>\n",
       "      <td>f75</td>\n",
       "      <td>2</td>\n",
       "    </tr>\n",
       "  </tbody>\n",
       "</table>\n",
       "<p>90 rows × 2 columns</p>\n",
       "</div>"
      ],
      "text/plain": [
       "   feature  importance\n",
       "0      f18       10876\n",
       "1      f19       10526\n",
       "2       f6       10002\n",
       "3      f22        9186\n",
       "4      f23        8264\n",
       "5      f21        8259\n",
       "6      f20        8240\n",
       "7       f1        8132\n",
       "8       f8        8079\n",
       "9       f3        6557\n",
       "10      f2        4699\n",
       "11     f12        3007\n",
       "12     f16        2915\n",
       "13     f15        2700\n",
       "14     f13        2095\n",
       "15      f0        1815\n",
       "16      f4        1521\n",
       "17     f14        1346\n",
       "18     f17        1307\n",
       "19     f69        1004\n",
       "20     f79         958\n",
       "21     f70         887\n",
       "22     f27         723\n",
       "23     f67         694\n",
       "24     f80         679\n",
       "25     f91         673\n",
       "26     f88         632\n",
       "27     f28         623\n",
       "28     f78         610\n",
       "29     f89         590\n",
       "..     ...         ...\n",
       "60     f68         121\n",
       "61     f65         118\n",
       "62     f72         113\n",
       "63     f42         111\n",
       "64     f52          97\n",
       "65     f36          95\n",
       "66     f63          94\n",
       "67     f54          86\n",
       "68     f32          81\n",
       "69     f48          78\n",
       "70     f39          67\n",
       "71     f26          62\n",
       "72     f11          61\n",
       "73     f56          58\n",
       "74     f59          56\n",
       "75     f41          41\n",
       "76     f93          40\n",
       "77     f34          38\n",
       "78     f44          34\n",
       "79     f86          32\n",
       "80     f61          31\n",
       "81     f47          30\n",
       "82     f73          29\n",
       "83     f84          29\n",
       "84     f60          26\n",
       "85     f53          10\n",
       "86     f74           9\n",
       "87     f58           5\n",
       "88     f57           3\n",
       "89     f75           2\n",
       "\n",
       "[90 rows x 2 columns]"
      ]
     },
     "execution_count": 114,
     "metadata": {},
     "output_type": "execute_result"
    }
   ],
   "source": [
    "feature_importance_df"
   ]
  },
  {
   "cell_type": "code",
   "execution_count": 121,
   "metadata": {
    "ExecuteTime": {
     "end_time": "2018-09-15T13:31:29.148878Z",
     "start_time": "2018-09-15T13:31:28.311670Z"
    },
    "collapsed": true
   },
   "outputs": [
    {
     "name": "stdout",
     "output_type": "stream",
     "text": [
      "f0 no_of_trainings\n",
      "f1 age\n",
      "f2 previous_year_rating\n",
      "f3 length_of_service\n",
      "f4 KPIs_met_more_than_80_percent\n",
      "f5 awards_won_bool\n",
      "f6 avg_training_score\n",
      "f7 new_employee\n",
      "f8 joining_age\n",
      "f9 main_training_received_for_promo\n",
      "f10 major_promo_region\n",
      "f11 trainings_less_2\n",
      "f12 reg_count\n",
      "f13 mean_age_per_region\n",
      "f14 mean_joining_age_per_region\n",
      "f15 mean_previous_year_rating_per_region\n",
      "f16 mean_avg_training_score_per_region\n",
      "f17 mean_length_of_service_per_region\n",
      "f18 impact_encoded_department\n",
      "f19 impact_encoded_region\n",
      "f20 impact_encoded_education\n",
      "f21 impact_encoded_gender\n",
      "f22 impact_encoded_recruitment_channel\n",
      "f23 impact_encoded_promotion_chance\n",
      "f24 department_Finance\n",
      "f25 department_HR\n",
      "f26 department_Legal\n",
      "f27 department_Operations\n",
      "f28 department_Procurement\n",
      "f29 department_R&D\n",
      "f30 department_Sales & Marketing\n",
      "f31 department_Technology\n",
      "f32 region_region_10\n",
      "f33 region_region_11\n",
      "f34 region_region_12\n",
      "f35 region_region_13\n",
      "f36 region_region_14\n",
      "f37 region_region_15\n",
      "f38 region_region_16\n",
      "f39 region_region_17\n",
      "f40 region_region_18\n",
      "f41 region_region_19\n",
      "f42 region_region_2\n",
      "f43 region_region_20\n",
      "f44 region_region_21\n",
      "f45 region_region_22\n",
      "f46 region_region_23\n",
      "f47 region_region_24\n",
      "f48 region_region_25\n",
      "f49 region_region_26\n",
      "f50 region_region_27\n",
      "f51 region_region_28\n",
      "f52 region_region_29\n",
      "f53 region_region_3\n",
      "f54 region_region_30\n",
      "f55 region_region_31\n",
      "f56 region_region_32\n",
      "f57 region_region_33\n",
      "f58 region_region_34\n",
      "f59 region_region_4\n",
      "f60 region_region_5\n",
      "f61 region_region_6\n",
      "f62 region_region_7\n",
      "f63 region_region_8\n",
      "f64 region_region_9\n",
      "f65 education_Below Secondary\n",
      "f66 education_Master's & above\n",
      "f67 gender_m\n",
      "f68 recruitment_channel_referred\n",
      "f69 recruitment_channel_sourcing\n",
      "f70 bin_length_of_service_2\n",
      "f71 bin_length_of_service_3\n",
      "f72 bin_length_of_service_4\n",
      "f73 bin_length_of_service_5\n",
      "f74 bin_length_of_service_6\n",
      "f75 bin_length_of_service_7\n",
      "f76 bin_length_of_service_8\n",
      "f77 bin_age_2\n",
      "f78 bin_age_3\n",
      "f79 bin_age_4\n",
      "f80 bin_age_5\n",
      "f81 bin_age_6\n",
      "f82 bin_age_7\n",
      "f83 bin_age_8\n",
      "f84 bin_age_9\n",
      "f85 bin_age_10\n",
      "f86 bin_avg_training_score_2\n",
      "f87 bin_avg_training_score_3\n",
      "f88 bin_avg_training_score_4\n",
      "f89 bin_avg_training_score_5\n",
      "f90 bin_avg_training_score_6\n",
      "f91 bin_avg_training_score_7\n",
      "f92 bin_avg_training_score_8\n",
      "f93 bin_avg_training_score_9\n"
     ]
    }
   ],
   "source": [
    "for i,j in enumerate(train_all.columns):\n",
    "    print('f{}'.format(i), j)"
   ]
  },
  {
   "cell_type": "code",
   "execution_count": null,
   "metadata": {},
   "outputs": [],
   "source": []
  }
 ],
 "metadata": {
  "kernelspec": {
   "display_name": "Python 3",
   "language": "python",
   "name": "python3"
  },
  "language_info": {
   "codemirror_mode": {
    "name": "ipython",
    "version": 3
   },
   "file_extension": ".py",
   "mimetype": "text/x-python",
   "name": "python",
   "nbconvert_exporter": "python",
   "pygments_lexer": "ipython3",
   "version": "3.6.3"
  },
  "nbTranslate": {
   "displayLangs": [
    "*"
   ],
   "hotkey": "alt-t",
   "langInMainMenu": true,
   "sourceLang": "en",
   "targetLang": "fr",
   "useGoogleTranslate": true
  },
  "toc": {
   "base_numbering": 1,
   "nav_menu": {},
   "number_sections": true,
   "sideBar": true,
   "skip_h1_title": false,
   "title_cell": "Table of Contents",
   "title_sidebar": "Contents",
   "toc_cell": false,
   "toc_position": {},
   "toc_section_display": true,
   "toc_window_display": false
  }
 },
 "nbformat": 4,
 "nbformat_minor": 2
}
