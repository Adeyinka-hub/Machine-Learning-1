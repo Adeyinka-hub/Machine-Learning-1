{
 "cells": [
  {
   "cell_type": "code",
   "execution_count": 1,
   "metadata": {
    "ExecuteTime": {
     "end_time": "2018-03-24T12:14:22.232823Z",
     "start_time": "2018-03-24T12:14:16.238792Z"
    }
   },
   "outputs": [],
   "source": [
    "%load_ext autoreload\n",
    "%autoreload 2\n",
    "%matplotlib inline"
   ]
  },
  {
   "cell_type": "code",
   "execution_count": 2,
   "metadata": {
    "ExecuteTime": {
     "end_time": "2018-03-24T12:14:40.373616Z",
     "start_time": "2018-03-24T12:14:22.239709Z"
    }
   },
   "outputs": [],
   "source": [
    "from fastai.imports import *\n",
    "from fastai.structured import *\n",
    "\n",
    "from pandas_summary import DataFrameSummary\n",
    "from sklearn.ensemble import RandomForestRegressor, RandomForestClassifier\n",
    "from IPython.display import display\n",
    "\n",
    "from sklearn import metrics"
   ]
  },
  {
   "cell_type": "code",
   "execution_count": 12,
   "metadata": {
    "ExecuteTime": {
     "end_time": "2018-03-24T12:15:14.203504Z",
     "start_time": "2018-03-24T12:15:14.055637Z"
    }
   },
   "outputs": [],
   "source": [
    "PATH = os.getcwd();\n",
    "PATH = PATH+\"\\\\AV_Lord\""
   ]
  },
  {
   "cell_type": "code",
   "execution_count": 123,
   "metadata": {
    "ExecuteTime": {
     "end_time": "2018-03-24T12:45:25.781325Z",
     "start_time": "2018-03-24T12:44:53.363335Z"
    }
   },
   "outputs": [],
   "source": [
    "df_raw = pd.read_feather(f'{PATH}\\combined.raw')"
   ]
  },
  {
   "cell_type": "code",
   "execution_count": 124,
   "metadata": {
    "ExecuteTime": {
     "end_time": "2018-03-24T12:45:30.148009Z",
     "start_time": "2018-03-24T12:45:25.781325Z"
    }
   },
   "outputs": [
    {
     "data": {
      "text/plain": [
       "(1023217, 29)"
      ]
     },
     "execution_count": 124,
     "metadata": {},
     "output_type": "execute_result"
    }
   ],
   "source": [
    "df_raw.shape"
   ]
  },
  {
   "cell_type": "code",
   "execution_count": 125,
   "metadata": {
    "ExecuteTime": {
     "end_time": "2018-03-24T12:45:30.361108Z",
     "start_time": "2018-03-24T12:45:30.156031Z"
    }
   },
   "outputs": [
    {
     "data": {
      "text/html": [
       "<div>\n",
       "<style>\n",
       "    .dataframe thead tr:only-child th {\n",
       "        text-align: right;\n",
       "    }\n",
       "\n",
       "    .dataframe thead th {\n",
       "        text-align: left;\n",
       "    }\n",
       "\n",
       "    .dataframe tbody tr th {\n",
       "        vertical-align: top;\n",
       "    }\n",
       "</style>\n",
       "<table border=\"1\" class=\"dataframe\">\n",
       "  <thead>\n",
       "    <tr style=\"text-align: right;\">\n",
       "      <th></th>\n",
       "      <th>id</th>\n",
       "      <th>user_id</th>\n",
       "      <th>campaign_id</th>\n",
       "      <th>is_open</th>\n",
       "      <th>is_click</th>\n",
       "      <th>send_Year</th>\n",
       "      <th>send_Month</th>\n",
       "      <th>send_Week</th>\n",
       "      <th>send_Day</th>\n",
       "      <th>send_Dayofweek</th>\n",
       "      <th>...</th>\n",
       "      <th>no_of_internal_links</th>\n",
       "      <th>no_of_images</th>\n",
       "      <th>no_of_sections</th>\n",
       "      <th>email_body</th>\n",
       "      <th>subject</th>\n",
       "      <th>email_url</th>\n",
       "      <th>link_diff</th>\n",
       "      <th>img_per_sec</th>\n",
       "      <th>link_diff_%</th>\n",
       "      <th>img_per_section</th>\n",
       "    </tr>\n",
       "  </thead>\n",
       "  <tbody>\n",
       "    <tr>\n",
       "      <th>0</th>\n",
       "      <td>42_14051</td>\n",
       "      <td>14051.0</td>\n",
       "      <td>42</td>\n",
       "      <td>0.0</td>\n",
       "      <td>0.0</td>\n",
       "      <td>2017.0</td>\n",
       "      <td>1.0</td>\n",
       "      <td>2.0</td>\n",
       "      <td>9.0</td>\n",
       "      <td>0.0</td>\n",
       "      <td>...</td>\n",
       "      <td>79</td>\n",
       "      <td>13</td>\n",
       "      <td>4</td>\n",
       "      <td>September Newsletter\\r\\n \\r\\nDear AVians,\\r\\n ...</td>\n",
       "      <td>[September] Exciting days ahead with DataHack ...</td>\n",
       "      <td>http://r.newsletters.analyticsvidhya.com/7v3rd...</td>\n",
       "      <td>9</td>\n",
       "      <td>3.25</td>\n",
       "      <td>0.102273</td>\n",
       "      <td>3.25</td>\n",
       "    </tr>\n",
       "  </tbody>\n",
       "</table>\n",
       "<p>1 rows × 29 columns</p>\n",
       "</div>"
      ],
      "text/plain": [
       "         id  user_id  campaign_id  is_open  is_click  send_Year  send_Month  \\\n",
       "0  42_14051  14051.0           42      0.0       0.0     2017.0         1.0   \n",
       "\n",
       "   send_Week  send_Day  send_Dayofweek       ...         no_of_internal_links  \\\n",
       "0        2.0       9.0             0.0       ...                           79   \n",
       "\n",
       "  no_of_images no_of_sections  \\\n",
       "0           13              4   \n",
       "\n",
       "                                          email_body  \\\n",
       "0  September Newsletter\\r\\n \\r\\nDear AVians,\\r\\n ...   \n",
       "\n",
       "                                             subject  \\\n",
       "0  [September] Exciting days ahead with DataHack ...   \n",
       "\n",
       "                                           email_url link_diff img_per_sec  \\\n",
       "0  http://r.newsletters.analyticsvidhya.com/7v3rd...         9        3.25   \n",
       "\n",
       "   link_diff_%  img_per_section  \n",
       "0     0.102273             3.25  \n",
       "\n",
       "[1 rows x 29 columns]"
      ]
     },
     "execution_count": 125,
     "metadata": {},
     "output_type": "execute_result"
    }
   ],
   "source": [
    "df_raw.head(1)"
   ]
  },
  {
   "cell_type": "code",
   "execution_count": 126,
   "metadata": {
    "ExecuteTime": {
     "end_time": "2018-03-24T12:45:30.529555Z",
     "start_time": "2018-03-24T12:45:30.364120Z"
    }
   },
   "outputs": [],
   "source": [
    "def display_all(df):\n",
    "    with pd.option_context(\"display.max_rows\", 1000): \n",
    "        with pd.option_context(\"display.max_columns\", 1000): \n",
    "            display(df)"
   ]
  },
  {
   "cell_type": "code",
   "execution_count": 127,
   "metadata": {
    "ExecuteTime": {
     "end_time": "2018-03-24T12:45:54.172885Z",
     "start_time": "2018-03-24T12:45:30.531561Z"
    }
   },
   "outputs": [
    {
     "data": {
      "image/png": "[encoded data removed]",
      "text/plain": [
       "<matplotlib.figure.Figure at 0x272d50bbdd8>"
      ]
     },
     "metadata": {},
     "output_type": "display_data"
    }
   ],
   "source": [
    "def disply_dtype_plot(df = None):\n",
    "    if df is None:\n",
    "        return\n",
    "    l = []\n",
    "    cols = df.columns\n",
    "    for i in cols:\n",
    "        if df[i].dtype == 'int64':\n",
    "            l.append('integer dtype')\n",
    "        elif df[i].dtype == 'object':\n",
    "            l.append('object dtype')\n",
    "        elif df[i].dtype == 'float64':\n",
    "            l.append('float dtype')\n",
    "        else:\n",
    "            pass\n",
    "    sns.countplot(l)\n",
    "    del l\n",
    "disply_dtype_plot(df_raw)"
   ]
  },
  {
   "cell_type": "code",
   "execution_count": 128,
   "metadata": {
    "ExecuteTime": {
     "end_time": "2018-03-24T12:45:54.430722Z",
     "start_time": "2018-03-24T12:45:54.194060Z"
    }
   },
   "outputs": [
    {
     "data": {
      "text/html": [
       "<div>\n",
       "<style>\n",
       "    .dataframe thead tr:only-child th {\n",
       "        text-align: right;\n",
       "    }\n",
       "\n",
       "    .dataframe thead th {\n",
       "        text-align: left;\n",
       "    }\n",
       "\n",
       "    .dataframe tbody tr th {\n",
       "        vertical-align: top;\n",
       "    }\n",
       "</style>\n",
       "<table border=\"1\" class=\"dataframe\">\n",
       "  <thead>\n",
       "    <tr style=\"text-align: right;\">\n",
       "      <th></th>\n",
       "      <th>id</th>\n",
       "      <th>user_id</th>\n",
       "      <th>campaign_id</th>\n",
       "      <th>is_open</th>\n",
       "      <th>is_click</th>\n",
       "      <th>send_Year</th>\n",
       "      <th>send_Month</th>\n",
       "      <th>send_Week</th>\n",
       "      <th>send_Day</th>\n",
       "      <th>send_Dayofweek</th>\n",
       "      <th>...</th>\n",
       "      <th>no_of_internal_links</th>\n",
       "      <th>no_of_images</th>\n",
       "      <th>no_of_sections</th>\n",
       "      <th>email_body</th>\n",
       "      <th>subject</th>\n",
       "      <th>email_url</th>\n",
       "      <th>link_diff</th>\n",
       "      <th>img_per_sec</th>\n",
       "      <th>link_diff_%</th>\n",
       "      <th>img_per_section</th>\n",
       "    </tr>\n",
       "  </thead>\n",
       "  <tbody>\n",
       "  </tbody>\n",
       "</table>\n",
       "<p>0 rows × 29 columns</p>\n",
       "</div>"
      ],
      "text/plain": [
       "Empty DataFrame\n",
       "Columns: [id, user_id, campaign_id, is_open, is_click, send_Year, send_Month, send_Week, send_Day, send_Dayofweek, send_Dayofyear, send_Is_month_end, send_Is_month_start, send_Is_quarter_end, send_Is_quarter_start, send_Is_year_end, send_Is_year_start, communication_type, total_links, no_of_internal_links, no_of_images, no_of_sections, email_body, subject, email_url, link_diff, img_per_sec, link_diff_%, img_per_section]\n",
       "Index: []\n",
       "\n",
       "[0 rows x 29 columns]"
      ]
     },
     "execution_count": 128,
     "metadata": {},
     "output_type": "execute_result"
    }
   ],
   "source": [
    "df_raw.head(0)"
   ]
  },
  {
   "cell_type": "code",
   "execution_count": 129,
   "metadata": {
    "ExecuteTime": {
     "end_time": "2018-03-24T12:45:56.119806Z",
     "start_time": "2018-03-24T12:45:54.432698Z"
    }
   },
   "outputs": [
    {
     "name": "stdout",
     "output_type": "stream",
     "text": [
      "<class 'pandas.core.frame.DataFrame'>\n",
      "RangeIndex: 1023217 entries, 0 to 1023216\n",
      "Data columns (total 29 columns):\n",
      "id                       1023191 non-null object\n",
      "user_id                  1023191 non-null float64\n",
      "campaign_id              1023217 non-null int64\n",
      "is_open                  1023191 non-null float64\n",
      "is_click                 1023191 non-null float64\n",
      "send_Year                1023191 non-null float64\n",
      "send_Month               1023191 non-null float64\n",
      "send_Week                1023191 non-null float64\n",
      "send_Day                 1023191 non-null float64\n",
      "send_Dayofweek           1023191 non-null float64\n",
      "send_Dayofyear           1023191 non-null float64\n",
      "send_Is_month_end        1023191 non-null object\n",
      "send_Is_month_start      1023191 non-null object\n",
      "send_Is_quarter_end      1023191 non-null object\n",
      "send_Is_quarter_start    1023191 non-null object\n",
      "send_Is_year_end         1023191 non-null object\n",
      "send_Is_year_start       1023191 non-null object\n",
      "communication_type       1023217 non-null object\n",
      "total_links              1023217 non-null int64\n",
      "no_of_internal_links     1023217 non-null int64\n",
      "no_of_images             1023217 non-null int64\n",
      "no_of_sections           1023217 non-null int64\n",
      "email_body               1023217 non-null object\n",
      "subject                  1023217 non-null object\n",
      "email_url                1023217 non-null object\n",
      "link_diff                1023217 non-null int64\n",
      "img_per_sec              1023217 non-null float64\n",
      "link_diff_%              1023217 non-null float64\n",
      "img_per_section          1023217 non-null float64\n",
      "dtypes: float64(12), int64(6), object(11)\n",
      "memory usage: 226.4+ MB\n"
     ]
    }
   ],
   "source": [
    "df_raw.info()"
   ]
  },
  {
   "cell_type": "code",
   "execution_count": 130,
   "metadata": {
    "ExecuteTime": {
     "end_time": "2018-03-24T12:45:58.069610Z",
     "start_time": "2018-03-24T12:45:56.122812Z"
    }
   },
   "outputs": [],
   "source": [
    "df_raw = df_raw * 1"
   ]
  },
  {
   "cell_type": "code",
   "execution_count": 131,
   "metadata": {
    "ExecuteTime": {
     "end_time": "2018-03-24T12:46:05.980459Z",
     "start_time": "2018-03-24T12:45:58.069610Z"
    }
   },
   "outputs": [],
   "source": [
    "train_cats(df_raw)"
   ]
  },
  {
   "cell_type": "code",
   "execution_count": 132,
   "metadata": {
    "ExecuteTime": {
     "end_time": "2018-03-24T12:46:10.433702Z",
     "start_time": "2018-03-24T12:46:05.980459Z"
    }
   },
   "outputs": [],
   "source": [
    "os.makedirs('tmp', exist_ok=True)\n",
    "df_raw.to_feather('tmp/av_lord-raw')"
   ]
  },
  {
   "cell_type": "code",
   "execution_count": 133,
   "metadata": {
    "ExecuteTime": {
     "end_time": "2018-03-24T12:46:12.128547Z",
     "start_time": "2018-03-24T12:46:10.438567Z"
    }
   },
   "outputs": [],
   "source": [
    "df_raw = pd.read_feather('tmp/av_lord-raw')"
   ]
  },
  {
   "cell_type": "code",
   "execution_count": 134,
   "metadata": {
    "ExecuteTime": {
     "end_time": "2018-03-24T12:46:26.345411Z",
     "start_time": "2018-03-24T12:46:12.128547Z"
    }
   },
   "outputs": [],
   "source": [
    "df, y, nas, mapper = proc_df(df_raw, 'is_click', do_scale=True,max_n_cat=30)"
   ]
  },
  {
   "cell_type": "code",
   "execution_count": 135,
   "metadata": {
    "ExecuteTime": {
     "end_time": "2018-03-24T12:46:26.882209Z",
     "start_time": "2018-03-24T12:46:26.345411Z"
    }
   },
   "outputs": [
    {
     "data": {
      "text/plain": [
       "<matplotlib.axes._subplots.AxesSubplot at 0x27193e5ff28>"
      ]
     },
     "execution_count": 135,
     "metadata": {},
     "output_type": "execute_result"
    },
    {
     "data": {
      "image/png": "[encoded data removed]",
      "text/plain": [
       "<matplotlib.figure.Figure at 0x273202db0f0>"
      ]
     },
     "metadata": {},
     "output_type": "display_data"
    }
   ],
   "source": [
    "sns.countplot(y)"
   ]
  },
  {
   "cell_type": "code",
   "execution_count": 139,
   "metadata": {
    "ExecuteTime": {
     "end_time": "2018-03-24T12:47:02.220328Z",
     "start_time": "2018-03-24T12:47:01.989308Z"
    }
   },
   "outputs": [],
   "source": [
    "y[-26:] = 0"
   ]
  },
  {
   "cell_type": "code",
   "execution_count": 229,
   "metadata": {
    "ExecuteTime": {
     "end_time": "2018-03-24T13:16:17.632965Z",
     "start_time": "2018-03-24T13:15:24.792011Z"
    }
   },
   "outputs": [
    {
     "data": {
      "text/plain": [
       "0.7547053047196518"
      ]
     },
     "execution_count": 229,
     "metadata": {},
     "output_type": "execute_result"
    }
   ],
   "source": [
    "#df.drop('is_open', axis=1, inplace=True)\n",
    "m = RandomForestRegressor(n_jobs=-1)\n",
    "m.fit(df, y)\n",
    "m.score(df,y)"
   ]
  },
  {
   "cell_type": "code",
   "execution_count": 141,
   "metadata": {
    "ExecuteTime": {
     "end_time": "2018-03-24T12:47:10.207028Z",
     "start_time": "2018-03-24T12:47:10.042307Z"
    }
   },
   "outputs": [],
   "source": [
    "def print_score(m):\n",
    "    res = [rmse(m.predict(X_train), y_train), rmse(m.predict(X_valid), y_valid),\n",
    "                m.score(X_train, y_train), m.score(X_valid, y_valid)]\n",
    "    if hasattr(m, 'oob_score_'): res.append(m.oob_score_)\n",
    "    print(res)"
   ]
  },
  {
   "cell_type": "code",
   "execution_count": null,
   "metadata": {},
   "outputs": [],
   "source": [
    "m = RandomForestRegressor(n_jobs=-1)\n",
    "%%time m.fit(X_train, y_train)\n",
    "print_score(m)"
   ]
  },
  {
   "cell_type": "code",
   "execution_count": 173,
   "metadata": {
    "ExecuteTime": {
     "end_time": "2018-03-24T12:58:59.337090Z",
     "start_time": "2018-03-24T12:58:58.980154Z"
    }
   },
   "outputs": [
    {
     "data": {
      "text/plain": [
       "campaign_id    0.0\n",
       "id             0.0\n",
       "send_date      0.0\n",
       "user_id        0.0\n",
       "dtype: float64"
      ]
     },
     "metadata": {},
     "output_type": "display_data"
    }
   ],
   "source": [
    "display_all(test.isnull().sum().sort_index()/len(df_raw))"
   ]
  },
  {
   "cell_type": "code",
   "execution_count": 178,
   "metadata": {
    "ExecuteTime": {
     "end_time": "2018-03-24T12:59:37.310001Z",
     "start_time": "2018-03-24T12:59:37.044879Z"
    },
    "collapsed": true
   },
   "outputs": [
    {
     "data": {
      "text/plain": [
       "Index(['id', 'user_id', 'campaign_id', 'send_Year', 'send_Month', 'send_Week',\n",
       "       'send_Day', 'send_Dayofweek', 'send_Dayofyear', 'total_links',\n",
       "       'no_of_internal_links', 'no_of_images', 'no_of_sections', 'email_body',\n",
       "       'subject', 'email_url', 'link_diff', 'img_per_sec', 'link_diff_%',\n",
       "       'img_per_section', 'user_id_na', 'is_open_na', 'send_Year_na',\n",
       "       'send_Month_na', 'send_Week_na', 'send_Day_na', 'send_Dayofweek_na',\n",
       "       'send_Dayofyear_na', 'send_Is_month_end_0.0', 'send_Is_month_end_nan',\n",
       "       'send_Is_month_start_0.0', 'send_Is_month_start_nan',\n",
       "       'send_Is_quarter_end_0.0', 'send_Is_quarter_end_nan',\n",
       "       'send_Is_quarter_start_0.0', 'send_Is_quarter_start_nan',\n",
       "       'send_Is_year_end_0.0', 'send_Is_year_end_nan',\n",
       "       'send_Is_year_start_0.0', 'send_Is_year_start_nan',\n",
       "       'communication_type_Conference', 'communication_type_Corporate',\n",
       "       'communication_type_Hackathon', 'communication_type_Newsletter',\n",
       "       'communication_type_Others', 'communication_type_Upcoming Events',\n",
       "       'communication_type_Webinar', 'communication_type_nan', 'av_links'],\n",
       "      dtype='object')"
      ]
     },
     "metadata": {},
     "output_type": "display_data"
    }
   ],
   "source": [
    "display_all(df.columns)"
   ]
  },
  {
   "cell_type": "code",
   "execution_count": null,
   "metadata": {},
   "outputs": [],
   "source": []
  },
  {
   "cell_type": "markdown",
   "metadata": {},
   "source": [
    "## testset transforms"
   ]
  },
  {
   "cell_type": "code",
   "execution_count": 194,
   "metadata": {
    "ExecuteTime": {
     "end_time": "2018-03-24T13:04:33.092212Z",
     "start_time": "2018-03-24T13:04:32.278920Z"
    }
   },
   "outputs": [],
   "source": [
    "test = pd.read_csv(f'{PATH}\\\\test_BDIfz5B.csv')"
   ]
  },
  {
   "cell_type": "code",
   "execution_count": 195,
   "metadata": {
    "ExecuteTime": {
     "end_time": "2018-03-24T13:04:33.225904Z",
     "start_time": "2018-03-24T13:04:33.093180Z"
    }
   },
   "outputs": [],
   "source": [
    "test['y'] = y[:773858]"
   ]
  },
  {
   "cell_type": "code",
   "execution_count": 196,
   "metadata": {
    "ExecuteTime": {
     "end_time": "2018-03-24T13:04:33.395522Z",
     "start_time": "2018-03-24T13:04:33.227647Z"
    }
   },
   "outputs": [
    {
     "data": {
      "text/html": [
       "<div>\n",
       "<style>\n",
       "    .dataframe thead tr:only-child th {\n",
       "        text-align: right;\n",
       "    }\n",
       "\n",
       "    .dataframe thead th {\n",
       "        text-align: left;\n",
       "    }\n",
       "\n",
       "    .dataframe tbody tr th {\n",
       "        vertical-align: top;\n",
       "    }\n",
       "</style>\n",
       "<table border=\"1\" class=\"dataframe\">\n",
       "  <thead>\n",
       "    <tr style=\"text-align: right;\">\n",
       "      <th></th>\n",
       "      <th>id</th>\n",
       "      <th>campaign_id</th>\n",
       "      <th>user_id</th>\n",
       "      <th>send_date</th>\n",
       "      <th>y</th>\n",
       "    </tr>\n",
       "  </thead>\n",
       "  <tbody>\n",
       "    <tr>\n",
       "      <th>0</th>\n",
       "      <td>63_122715</td>\n",
       "      <td>63</td>\n",
       "      <td>122715</td>\n",
       "      <td>01-02-2018 22:35</td>\n",
       "      <td>0.0</td>\n",
       "    </tr>\n",
       "    <tr>\n",
       "      <th>1</th>\n",
       "      <td>56_76206</td>\n",
       "      <td>56</td>\n",
       "      <td>76206</td>\n",
       "      <td>02-01-2018 08:15</td>\n",
       "      <td>0.0</td>\n",
       "    </tr>\n",
       "  </tbody>\n",
       "</table>\n",
       "</div>"
      ],
      "text/plain": [
       "          id  campaign_id  user_id         send_date    y\n",
       "0  63_122715           63   122715  01-02-2018 22:35  0.0\n",
       "1   56_76206           56    76206  02-01-2018 08:15  0.0"
      ]
     },
     "execution_count": 196,
     "metadata": {},
     "output_type": "execute_result"
    }
   ],
   "source": [
    "test.head(2)"
   ]
  },
  {
   "cell_type": "code",
   "execution_count": 197,
   "metadata": {
    "ExecuteTime": {
     "end_time": "2018-03-24T13:06:42.345733Z",
     "start_time": "2018-03-24T13:04:33.436630Z"
    }
   },
   "outputs": [],
   "source": [
    "add_datepart(test,'send_date')"
   ]
  },
  {
   "cell_type": "code",
   "execution_count": 198,
   "metadata": {
    "ExecuteTime": {
     "end_time": "2018-03-24T13:06:42.582691Z",
     "start_time": "2018-03-24T13:06:42.345733Z"
    }
   },
   "outputs": [
    {
     "data": {
      "text/html": [
       "<div>\n",
       "<style>\n",
       "    .dataframe thead tr:only-child th {\n",
       "        text-align: right;\n",
       "    }\n",
       "\n",
       "    .dataframe thead th {\n",
       "        text-align: left;\n",
       "    }\n",
       "\n",
       "    .dataframe tbody tr th {\n",
       "        vertical-align: top;\n",
       "    }\n",
       "</style>\n",
       "<table border=\"1\" class=\"dataframe\">\n",
       "  <thead>\n",
       "    <tr style=\"text-align: right;\">\n",
       "      <th></th>\n",
       "      <th>id</th>\n",
       "      <th>campaign_id</th>\n",
       "      <th>user_id</th>\n",
       "      <th>y</th>\n",
       "      <th>send_Year</th>\n",
       "      <th>send_Month</th>\n",
       "      <th>send_Week</th>\n",
       "      <th>send_Day</th>\n",
       "      <th>send_Dayofweek</th>\n",
       "      <th>send_Dayofyear</th>\n",
       "      <th>send_Is_month_end</th>\n",
       "      <th>send_Is_month_start</th>\n",
       "      <th>send_Is_quarter_end</th>\n",
       "      <th>send_Is_quarter_start</th>\n",
       "      <th>send_Is_year_end</th>\n",
       "      <th>send_Is_year_start</th>\n",
       "    </tr>\n",
       "  </thead>\n",
       "  <tbody>\n",
       "    <tr>\n",
       "      <th>0</th>\n",
       "      <td>63_122715</td>\n",
       "      <td>63</td>\n",
       "      <td>122715</td>\n",
       "      <td>0.0</td>\n",
       "      <td>2018</td>\n",
       "      <td>1</td>\n",
       "      <td>1</td>\n",
       "      <td>2</td>\n",
       "      <td>1</td>\n",
       "      <td>2</td>\n",
       "      <td>False</td>\n",
       "      <td>False</td>\n",
       "      <td>False</td>\n",
       "      <td>False</td>\n",
       "      <td>False</td>\n",
       "      <td>False</td>\n",
       "    </tr>\n",
       "    <tr>\n",
       "      <th>1</th>\n",
       "      <td>56_76206</td>\n",
       "      <td>56</td>\n",
       "      <td>76206</td>\n",
       "      <td>0.0</td>\n",
       "      <td>2018</td>\n",
       "      <td>2</td>\n",
       "      <td>5</td>\n",
       "      <td>1</td>\n",
       "      <td>3</td>\n",
       "      <td>32</td>\n",
       "      <td>False</td>\n",
       "      <td>True</td>\n",
       "      <td>False</td>\n",
       "      <td>False</td>\n",
       "      <td>False</td>\n",
       "      <td>False</td>\n",
       "    </tr>\n",
       "  </tbody>\n",
       "</table>\n",
       "</div>"
      ],
      "text/plain": [
       "          id  campaign_id  user_id    y  send_Year  send_Month  send_Week  \\\n",
       "0  63_122715           63   122715  0.0       2018           1          1   \n",
       "1   56_76206           56    76206  0.0       2018           2          5   \n",
       "\n",
       "   send_Day  send_Dayofweek  send_Dayofyear  send_Is_month_end  \\\n",
       "0         2               1               2              False   \n",
       "1         1               3              32              False   \n",
       "\n",
       "   send_Is_month_start  send_Is_quarter_end  send_Is_quarter_start  \\\n",
       "0                False                False                  False   \n",
       "1                 True                False                  False   \n",
       "\n",
       "   send_Is_year_end  send_Is_year_start  \n",
       "0             False               False  \n",
       "1             False               False  "
      ]
     },
     "execution_count": 198,
     "metadata": {},
     "output_type": "execute_result"
    }
   ],
   "source": [
    "test.drop('send_Elapsed',axis=1,inplace=True)\n",
    "test.head(2)"
   ]
  },
  {
   "cell_type": "code",
   "execution_count": 199,
   "metadata": {
    "ExecuteTime": {
     "end_time": "2018-03-24T13:06:42.769646Z",
     "start_time": "2018-03-24T13:06:42.585698Z"
    }
   },
   "outputs": [
    {
     "data": {
      "text/plain": [
       "array([29, 30, 31, 32, 33, 34, 35, 36, 37, 38, 39, 40, 41, 42, 43, 44, 45, 46, 47, 48, 49, 50, 51, 52, 53, 54,\n",
       "       55, 56, 57, 58, 59, 60, 61, 62, 63, 64, 65, 66, 67, 68, 69, 70, 71, 72, 73, 74, 75, 76, 77, 78, 79, 80], dtype=int64)"
      ]
     },
     "execution_count": 199,
     "metadata": {},
     "output_type": "execute_result"
    }
   ],
   "source": [
    "np.unique(camp['campaign_id'])"
   ]
  },
  {
   "cell_type": "code",
   "execution_count": 200,
   "metadata": {
    "ExecuteTime": {
     "end_time": "2018-03-24T13:06:43.413480Z",
     "start_time": "2018-03-24T13:06:42.772654Z"
    },
    "collapsed": true
   },
   "outputs": [
    {
     "data": {
      "text/html": [
       "<div>\n",
       "<style>\n",
       "    .dataframe thead tr:only-child th {\n",
       "        text-align: right;\n",
       "    }\n",
       "\n",
       "    .dataframe thead th {\n",
       "        text-align: left;\n",
       "    }\n",
       "\n",
       "    .dataframe tbody tr th {\n",
       "        vertical-align: top;\n",
       "    }\n",
       "</style>\n",
       "<table border=\"1\" class=\"dataframe\">\n",
       "  <thead>\n",
       "    <tr style=\"text-align: right;\">\n",
       "      <th></th>\n",
       "      <th>id</th>\n",
       "      <th>campaign_id</th>\n",
       "      <th>user_id</th>\n",
       "      <th>y</th>\n",
       "      <th>send_Year</th>\n",
       "      <th>send_Month</th>\n",
       "      <th>send_Week</th>\n",
       "      <th>send_Day</th>\n",
       "      <th>send_Dayofweek</th>\n",
       "      <th>send_Dayofyear</th>\n",
       "      <th>send_Is_month_end</th>\n",
       "      <th>send_Is_month_start</th>\n",
       "      <th>send_Is_quarter_end</th>\n",
       "      <th>send_Is_quarter_start</th>\n",
       "      <th>send_Is_year_end</th>\n",
       "      <th>send_Is_year_start</th>\n",
       "      <th>communication_type</th>\n",
       "      <th>total_links</th>\n",
       "      <th>no_of_internal_links</th>\n",
       "      <th>no_of_images</th>\n",
       "      <th>no_of_sections</th>\n",
       "      <th>email_body</th>\n",
       "      <th>subject</th>\n",
       "      <th>email_url</th>\n",
       "    </tr>\n",
       "  </thead>\n",
       "  <tbody>\n",
       "    <tr>\n",
       "      <th>0</th>\n",
       "      <td>63_122715</td>\n",
       "      <td>63</td>\n",
       "      <td>122715</td>\n",
       "      <td>0.0</td>\n",
       "      <td>2018</td>\n",
       "      <td>1</td>\n",
       "      <td>1</td>\n",
       "      <td>2</td>\n",
       "      <td>1</td>\n",
       "      <td>2</td>\n",
       "      <td>False</td>\n",
       "      <td>False</td>\n",
       "      <td>False</td>\n",
       "      <td>False</td>\n",
       "      <td>False</td>\n",
       "      <td>False</td>\n",
       "      <td>Newsletter</td>\n",
       "      <td>68</td>\n",
       "      <td>64</td>\n",
       "      <td>15</td>\n",
       "      <td>5</td>\n",
       "      <td>\\r\\nFebruary 2018 Newsletter\\r\\n \\r\\nDear AVia...</td>\n",
       "      <td>AVbytes, Ultimate 2018 learning path and aweso...</td>\n",
       "      <td>http://r.newsletters.analyticsvidhya.com/7whsu...</td>\n",
       "    </tr>\n",
       "    <tr>\n",
       "      <th>1</th>\n",
       "      <td>63_124394</td>\n",
       "      <td>63</td>\n",
       "      <td>124394</td>\n",
       "      <td>0.0</td>\n",
       "      <td>2018</td>\n",
       "      <td>1</td>\n",
       "      <td>1</td>\n",
       "      <td>2</td>\n",
       "      <td>1</td>\n",
       "      <td>2</td>\n",
       "      <td>False</td>\n",
       "      <td>False</td>\n",
       "      <td>False</td>\n",
       "      <td>False</td>\n",
       "      <td>False</td>\n",
       "      <td>False</td>\n",
       "      <td>Newsletter</td>\n",
       "      <td>68</td>\n",
       "      <td>64</td>\n",
       "      <td>15</td>\n",
       "      <td>5</td>\n",
       "      <td>\\r\\nFebruary 2018 Newsletter\\r\\n \\r\\nDear AVia...</td>\n",
       "      <td>AVbytes, Ultimate 2018 learning path and aweso...</td>\n",
       "      <td>http://r.newsletters.analyticsvidhya.com/7whsu...</td>\n",
       "    </tr>\n",
       "    <tr>\n",
       "      <th>2</th>\n",
       "      <td>63_95168</td>\n",
       "      <td>63</td>\n",
       "      <td>95168</td>\n",
       "      <td>0.0</td>\n",
       "      <td>2018</td>\n",
       "      <td>1</td>\n",
       "      <td>1</td>\n",
       "      <td>2</td>\n",
       "      <td>1</td>\n",
       "      <td>2</td>\n",
       "      <td>False</td>\n",
       "      <td>False</td>\n",
       "      <td>False</td>\n",
       "      <td>False</td>\n",
       "      <td>False</td>\n",
       "      <td>False</td>\n",
       "      <td>Newsletter</td>\n",
       "      <td>68</td>\n",
       "      <td>64</td>\n",
       "      <td>15</td>\n",
       "      <td>5</td>\n",
       "      <td>\\r\\nFebruary 2018 Newsletter\\r\\n \\r\\nDear AVia...</td>\n",
       "      <td>AVbytes, Ultimate 2018 learning path and aweso...</td>\n",
       "      <td>http://r.newsletters.analyticsvidhya.com/7whsu...</td>\n",
       "    </tr>\n",
       "    <tr>\n",
       "      <th>3</th>\n",
       "      <td>63_31556</td>\n",
       "      <td>63</td>\n",
       "      <td>31556</td>\n",
       "      <td>0.0</td>\n",
       "      <td>2018</td>\n",
       "      <td>1</td>\n",
       "      <td>1</td>\n",
       "      <td>2</td>\n",
       "      <td>1</td>\n",
       "      <td>2</td>\n",
       "      <td>False</td>\n",
       "      <td>False</td>\n",
       "      <td>False</td>\n",
       "      <td>False</td>\n",
       "      <td>False</td>\n",
       "      <td>False</td>\n",
       "      <td>Newsletter</td>\n",
       "      <td>68</td>\n",
       "      <td>64</td>\n",
       "      <td>15</td>\n",
       "      <td>5</td>\n",
       "      <td>\\r\\nFebruary 2018 Newsletter\\r\\n \\r\\nDear AVia...</td>\n",
       "      <td>AVbytes, Ultimate 2018 learning path and aweso...</td>\n",
       "      <td>http://r.newsletters.analyticsvidhya.com/7whsu...</td>\n",
       "    </tr>\n",
       "    <tr>\n",
       "      <th>4</th>\n",
       "      <td>63_138377</td>\n",
       "      <td>63</td>\n",
       "      <td>138377</td>\n",
       "      <td>0.0</td>\n",
       "      <td>2018</td>\n",
       "      <td>1</td>\n",
       "      <td>1</td>\n",
       "      <td>2</td>\n",
       "      <td>1</td>\n",
       "      <td>2</td>\n",
       "      <td>False</td>\n",
       "      <td>False</td>\n",
       "      <td>False</td>\n",
       "      <td>False</td>\n",
       "      <td>False</td>\n",
       "      <td>False</td>\n",
       "      <td>Newsletter</td>\n",
       "      <td>68</td>\n",
       "      <td>64</td>\n",
       "      <td>15</td>\n",
       "      <td>5</td>\n",
       "      <td>\\r\\nFebruary 2018 Newsletter\\r\\n \\r\\nDear AVia...</td>\n",
       "      <td>AVbytes, Ultimate 2018 learning path and aweso...</td>\n",
       "      <td>http://r.newsletters.analyticsvidhya.com/7whsu...</td>\n",
       "    </tr>\n",
       "    <tr>\n",
       "      <th>5</th>\n",
       "      <td>63_88136</td>\n",
       "      <td>63</td>\n",
       "      <td>88136</td>\n",
       "      <td>0.0</td>\n",
       "      <td>2018</td>\n",
       "      <td>1</td>\n",
       "      <td>1</td>\n",
       "      <td>2</td>\n",
       "      <td>1</td>\n",
       "      <td>2</td>\n",
       "      <td>False</td>\n",
       "      <td>False</td>\n",
       "      <td>False</td>\n",
       "      <td>False</td>\n",
       "      <td>False</td>\n",
       "      <td>False</td>\n",
       "      <td>Newsletter</td>\n",
       "      <td>68</td>\n",
       "      <td>64</td>\n",
       "      <td>15</td>\n",
       "      <td>5</td>\n",
       "      <td>\\r\\nFebruary 2018 Newsletter\\r\\n \\r\\nDear AVia...</td>\n",
       "      <td>AVbytes, Ultimate 2018 learning path and aweso...</td>\n",
       "      <td>http://r.newsletters.analyticsvidhya.com/7whsu...</td>\n",
       "    </tr>\n",
       "    <tr>\n",
       "      <th>6</th>\n",
       "      <td>63_18079</td>\n",
       "      <td>63</td>\n",
       "      <td>18079</td>\n",
       "      <td>0.0</td>\n",
       "      <td>2018</td>\n",
       "      <td>1</td>\n",
       "      <td>1</td>\n",
       "      <td>2</td>\n",
       "      <td>1</td>\n",
       "      <td>2</td>\n",
       "      <td>False</td>\n",
       "      <td>False</td>\n",
       "      <td>False</td>\n",
       "      <td>False</td>\n",
       "      <td>False</td>\n",
       "      <td>False</td>\n",
       "      <td>Newsletter</td>\n",
       "      <td>68</td>\n",
       "      <td>64</td>\n",
       "      <td>15</td>\n",
       "      <td>5</td>\n",
       "      <td>\\r\\nFebruary 2018 Newsletter\\r\\n \\r\\nDear AVia...</td>\n",
       "      <td>AVbytes, Ultimate 2018 learning path and aweso...</td>\n",
       "      <td>http://r.newsletters.analyticsvidhya.com/7whsu...</td>\n",
       "    </tr>\n",
       "    <tr>\n",
       "      <th>7</th>\n",
       "      <td>63_84118</td>\n",
       "      <td>63</td>\n",
       "      <td>84118</td>\n",
       "      <td>0.0</td>\n",
       "      <td>2018</td>\n",
       "      <td>1</td>\n",
       "      <td>1</td>\n",
       "      <td>2</td>\n",
       "      <td>1</td>\n",
       "      <td>2</td>\n",
       "      <td>False</td>\n",
       "      <td>False</td>\n",
       "      <td>False</td>\n",
       "      <td>False</td>\n",
       "      <td>False</td>\n",
       "      <td>False</td>\n",
       "      <td>Newsletter</td>\n",
       "      <td>68</td>\n",
       "      <td>64</td>\n",
       "      <td>15</td>\n",
       "      <td>5</td>\n",
       "      <td>\\r\\nFebruary 2018 Newsletter\\r\\n \\r\\nDear AVia...</td>\n",
       "      <td>AVbytes, Ultimate 2018 learning path and aweso...</td>\n",
       "      <td>http://r.newsletters.analyticsvidhya.com/7whsu...</td>\n",
       "    </tr>\n",
       "    <tr>\n",
       "      <th>8</th>\n",
       "      <td>63_45321</td>\n",
       "      <td>63</td>\n",
       "      <td>45321</td>\n",
       "      <td>0.0</td>\n",
       "      <td>2018</td>\n",
       "      <td>1</td>\n",
       "      <td>1</td>\n",
       "      <td>2</td>\n",
       "      <td>1</td>\n",
       "      <td>2</td>\n",
       "      <td>False</td>\n",
       "      <td>False</td>\n",
       "      <td>False</td>\n",
       "      <td>False</td>\n",
       "      <td>False</td>\n",
       "      <td>False</td>\n",
       "      <td>Newsletter</td>\n",
       "      <td>68</td>\n",
       "      <td>64</td>\n",
       "      <td>15</td>\n",
       "      <td>5</td>\n",
       "      <td>\\r\\nFebruary 2018 Newsletter\\r\\n \\r\\nDear AVia...</td>\n",
       "      <td>AVbytes, Ultimate 2018 learning path and aweso...</td>\n",
       "      <td>http://r.newsletters.analyticsvidhya.com/7whsu...</td>\n",
       "    </tr>\n",
       "    <tr>\n",
       "      <th>9</th>\n",
       "      <td>63_7092</td>\n",
       "      <td>63</td>\n",
       "      <td>7092</td>\n",
       "      <td>0.0</td>\n",
       "      <td>2018</td>\n",
       "      <td>1</td>\n",
       "      <td>1</td>\n",
       "      <td>2</td>\n",
       "      <td>1</td>\n",
       "      <td>2</td>\n",
       "      <td>False</td>\n",
       "      <td>False</td>\n",
       "      <td>False</td>\n",
       "      <td>False</td>\n",
       "      <td>False</td>\n",
       "      <td>False</td>\n",
       "      <td>Newsletter</td>\n",
       "      <td>68</td>\n",
       "      <td>64</td>\n",
       "      <td>15</td>\n",
       "      <td>5</td>\n",
       "      <td>\\r\\nFebruary 2018 Newsletter\\r\\n \\r\\nDear AVia...</td>\n",
       "      <td>AVbytes, Ultimate 2018 learning path and aweso...</td>\n",
       "      <td>http://r.newsletters.analyticsvidhya.com/7whsu...</td>\n",
       "    </tr>\n",
       "  </tbody>\n",
       "</table>\n",
       "</div>"
      ],
      "text/plain": [
       "          id  campaign_id  user_id    y  send_Year  send_Month  send_Week  \\\n",
       "0  63_122715           63   122715  0.0       2018           1          1   \n",
       "1  63_124394           63   124394  0.0       2018           1          1   \n",
       "2   63_95168           63    95168  0.0       2018           1          1   \n",
       "3   63_31556           63    31556  0.0       2018           1          1   \n",
       "4  63_138377           63   138377  0.0       2018           1          1   \n",
       "5   63_88136           63    88136  0.0       2018           1          1   \n",
       "6   63_18079           63    18079  0.0       2018           1          1   \n",
       "7   63_84118           63    84118  0.0       2018           1          1   \n",
       "8   63_45321           63    45321  0.0       2018           1          1   \n",
       "9    63_7092           63     7092  0.0       2018           1          1   \n",
       "\n",
       "   send_Day  send_Dayofweek  send_Dayofyear  send_Is_month_end  \\\n",
       "0         2               1               2              False   \n",
       "1         2               1               2              False   \n",
       "2         2               1               2              False   \n",
       "3         2               1               2              False   \n",
       "4         2               1               2              False   \n",
       "5         2               1               2              False   \n",
       "6         2               1               2              False   \n",
       "7         2               1               2              False   \n",
       "8         2               1               2              False   \n",
       "9         2               1               2              False   \n",
       "\n",
       "   send_Is_month_start  send_Is_quarter_end  send_Is_quarter_start  \\\n",
       "0                False                False                  False   \n",
       "1                False                False                  False   \n",
       "2                False                False                  False   \n",
       "3                False                False                  False   \n",
       "4                False                False                  False   \n",
       "5                False                False                  False   \n",
       "6                False                False                  False   \n",
       "7                False                False                  False   \n",
       "8                False                False                  False   \n",
       "9                False                False                  False   \n",
       "\n",
       "   send_Is_year_end  send_Is_year_start communication_type  total_links  \\\n",
       "0             False               False         Newsletter           68   \n",
       "1             False               False         Newsletter           68   \n",
       "2             False               False         Newsletter           68   \n",
       "3             False               False         Newsletter           68   \n",
       "4             False               False         Newsletter           68   \n",
       "5             False               False         Newsletter           68   \n",
       "6             False               False         Newsletter           68   \n",
       "7             False               False         Newsletter           68   \n",
       "8             False               False         Newsletter           68   \n",
       "9             False               False         Newsletter           68   \n",
       "\n",
       "   no_of_internal_links  no_of_images  no_of_sections  \\\n",
       "0                    64            15               5   \n",
       "1                    64            15               5   \n",
       "2                    64            15               5   \n",
       "3                    64            15               5   \n",
       "4                    64            15               5   \n",
       "5                    64            15               5   \n",
       "6                    64            15               5   \n",
       "7                    64            15               5   \n",
       "8                    64            15               5   \n",
       "9                    64            15               5   \n",
       "\n",
       "                                          email_body  \\\n",
       "0  \\r\\nFebruary 2018 Newsletter\\r\\n \\r\\nDear AVia...   \n",
       "1  \\r\\nFebruary 2018 Newsletter\\r\\n \\r\\nDear AVia...   \n",
       "2  \\r\\nFebruary 2018 Newsletter\\r\\n \\r\\nDear AVia...   \n",
       "3  \\r\\nFebruary 2018 Newsletter\\r\\n \\r\\nDear AVia...   \n",
       "4  \\r\\nFebruary 2018 Newsletter\\r\\n \\r\\nDear AVia...   \n",
       "5  \\r\\nFebruary 2018 Newsletter\\r\\n \\r\\nDear AVia...   \n",
       "6  \\r\\nFebruary 2018 Newsletter\\r\\n \\r\\nDear AVia...   \n",
       "7  \\r\\nFebruary 2018 Newsletter\\r\\n \\r\\nDear AVia...   \n",
       "8  \\r\\nFebruary 2018 Newsletter\\r\\n \\r\\nDear AVia...   \n",
       "9  \\r\\nFebruary 2018 Newsletter\\r\\n \\r\\nDear AVia...   \n",
       "\n",
       "                                             subject  \\\n",
       "0  AVbytes, Ultimate 2018 learning path and aweso...   \n",
       "1  AVbytes, Ultimate 2018 learning path and aweso...   \n",
       "2  AVbytes, Ultimate 2018 learning path and aweso...   \n",
       "3  AVbytes, Ultimate 2018 learning path and aweso...   \n",
       "4  AVbytes, Ultimate 2018 learning path and aweso...   \n",
       "5  AVbytes, Ultimate 2018 learning path and aweso...   \n",
       "6  AVbytes, Ultimate 2018 learning path and aweso...   \n",
       "7  AVbytes, Ultimate 2018 learning path and aweso...   \n",
       "8  AVbytes, Ultimate 2018 learning path and aweso...   \n",
       "9  AVbytes, Ultimate 2018 learning path and aweso...   \n",
       "\n",
       "                                           email_url  \n",
       "0  http://r.newsletters.analyticsvidhya.com/7whsu...  \n",
       "1  http://r.newsletters.analyticsvidhya.com/7whsu...  \n",
       "2  http://r.newsletters.analyticsvidhya.com/7whsu...  \n",
       "3  http://r.newsletters.analyticsvidhya.com/7whsu...  \n",
       "4  http://r.newsletters.analyticsvidhya.com/7whsu...  \n",
       "5  http://r.newsletters.analyticsvidhya.com/7whsu...  \n",
       "6  http://r.newsletters.analyticsvidhya.com/7whsu...  \n",
       "7  http://r.newsletters.analyticsvidhya.com/7whsu...  \n",
       "8  http://r.newsletters.analyticsvidhya.com/7whsu...  \n",
       "9  http://r.newsletters.analyticsvidhya.com/7whsu...  "
      ]
     },
     "metadata": {},
     "output_type": "display_data"
    }
   ],
   "source": [
    "test = test.merge(camp,on='campaign_id');"
   ]
  },
  {
   "cell_type": "code",
   "execution_count": 202,
   "metadata": {
    "ExecuteTime": {
     "end_time": "2018-03-24T13:07:16.166644Z",
     "start_time": "2018-03-24T13:07:15.767947Z"
    }
   },
   "outputs": [
    {
     "data": {
      "text/html": [
       "<div>\n",
       "<style>\n",
       "    .dataframe thead tr:only-child th {\n",
       "        text-align: right;\n",
       "    }\n",
       "\n",
       "    .dataframe thead th {\n",
       "        text-align: left;\n",
       "    }\n",
       "\n",
       "    .dataframe tbody tr th {\n",
       "        vertical-align: top;\n",
       "    }\n",
       "</style>\n",
       "<table border=\"1\" class=\"dataframe\">\n",
       "  <thead>\n",
       "    <tr style=\"text-align: right;\">\n",
       "      <th></th>\n",
       "      <th>id</th>\n",
       "      <th>campaign_id</th>\n",
       "      <th>user_id</th>\n",
       "      <th>y</th>\n",
       "      <th>send_Year</th>\n",
       "      <th>send_Month</th>\n",
       "      <th>send_Week</th>\n",
       "      <th>send_Day</th>\n",
       "      <th>send_Dayofweek</th>\n",
       "      <th>send_Dayofyear</th>\n",
       "      <th>...</th>\n",
       "      <th>no_of_internal_links</th>\n",
       "      <th>no_of_images</th>\n",
       "      <th>no_of_sections</th>\n",
       "      <th>email_body</th>\n",
       "      <th>subject</th>\n",
       "      <th>email_url</th>\n",
       "      <th>link_diff</th>\n",
       "      <th>av_links</th>\n",
       "      <th>img_per_section</th>\n",
       "      <th>link_diff_%</th>\n",
       "    </tr>\n",
       "  </thead>\n",
       "  <tbody>\n",
       "    <tr>\n",
       "      <th>0</th>\n",
       "      <td>63_122715</td>\n",
       "      <td>63</td>\n",
       "      <td>122715</td>\n",
       "      <td>0.0</td>\n",
       "      <td>2018</td>\n",
       "      <td>1</td>\n",
       "      <td>1</td>\n",
       "      <td>2</td>\n",
       "      <td>1</td>\n",
       "      <td>2</td>\n",
       "      <td>...</td>\n",
       "      <td>64</td>\n",
       "      <td>15</td>\n",
       "      <td>5</td>\n",
       "      <td>\\r\\nFebruary 2018 Newsletter\\r\\n \\r\\nDear AVia...</td>\n",
       "      <td>AVbytes, Ultimate 2018 learning path and aweso...</td>\n",
       "      <td>http://r.newsletters.analyticsvidhya.com/7whsu...</td>\n",
       "      <td>4</td>\n",
       "      <td>94.117647</td>\n",
       "      <td>3.0</td>\n",
       "      <td>5.882353</td>\n",
       "    </tr>\n",
       "  </tbody>\n",
       "</table>\n",
       "<p>1 rows × 28 columns</p>\n",
       "</div>"
      ],
      "text/plain": [
       "          id  campaign_id  user_id    y  send_Year  send_Month  send_Week  \\\n",
       "0  63_122715           63   122715  0.0       2018           1          1   \n",
       "\n",
       "   send_Day  send_Dayofweek  send_Dayofyear     ...       \\\n",
       "0         2               1               2     ...        \n",
       "\n",
       "   no_of_internal_links  no_of_images  no_of_sections  \\\n",
       "0                    64            15               5   \n",
       "\n",
       "                                          email_body  \\\n",
       "0  \\r\\nFebruary 2018 Newsletter\\r\\n \\r\\nDear AVia...   \n",
       "\n",
       "                                             subject  \\\n",
       "0  AVbytes, Ultimate 2018 learning path and aweso...   \n",
       "\n",
       "                                           email_url link_diff   av_links  \\\n",
       "0  http://r.newsletters.analyticsvidhya.com/7whsu...         4  94.117647   \n",
       "\n",
       "   img_per_section  link_diff_%  \n",
       "0              3.0     5.882353  \n",
       "\n",
       "[1 rows x 28 columns]"
      ]
     },
     "execution_count": 202,
     "metadata": {},
     "output_type": "execute_result"
    }
   ],
   "source": [
    "test['link_diff'] = test['total_links'] - test['no_of_internal_links']\n",
    "test['av_links'] = (test['no_of_internal_links']/ test['total_links']) * 100\n",
    "test['img_per_section'] = test['no_of_images']/ test['no_of_sections']\n",
    "\n",
    "test['link_diff_%'] = (test['total_links'] - test['no_of_internal_links'])/test['total_links'] * 100\n",
    "test.head(1)"
   ]
  },
  {
   "cell_type": "code",
   "execution_count": 205,
   "metadata": {
    "ExecuteTime": {
     "end_time": "2018-03-24T13:09:59.278970Z",
     "start_time": "2018-03-24T13:09:21.412747Z"
    }
   },
   "outputs": [],
   "source": [
    "test.to_feather('tmp/av_lord_test')"
   ]
  },
  {
   "cell_type": "code",
   "execution_count": 208,
   "metadata": {
    "ExecuteTime": {
     "end_time": "2018-03-24T13:10:36.246274Z",
     "start_time": "2018-03-24T13:10:31.694272Z"
    }
   },
   "outputs": [],
   "source": [
    "train_cats(test)"
   ]
  },
  {
   "cell_type": "code",
   "execution_count": 212,
   "metadata": {
    "ExecuteTime": {
     "end_time": "2018-03-24T13:11:56.215245Z",
     "start_time": "2018-03-24T13:11:55.994341Z"
    }
   },
   "outputs": [
    {
     "data": {
      "text/plain": [
       "{'is_open': 0.0,\n",
       " 'send_Day': 10.0,\n",
       " 'send_Dayofweek': 3.0,\n",
       " 'send_Dayofyear': 67.0,\n",
       " 'send_Month': 3.0,\n",
       " 'send_Week': 10.0,\n",
       " 'send_Year': 2017.0,\n",
       " 'user_id': 120476.0}"
      ]
     },
     "execution_count": 212,
     "metadata": {},
     "output_type": "execute_result"
    }
   ],
   "source": [
    "nas"
   ]
  },
  {
   "cell_type": "code",
   "execution_count": 214,
   "metadata": {
    "ExecuteTime": {
     "end_time": "2018-03-24T13:12:20.513264Z",
     "start_time": "2018-03-24T13:12:20.166564Z"
    }
   },
   "outputs": [
    {
     "data": {
      "text/plain": [
       "Index(['id', 'campaign_id', 'user_id', 'y', 'send_Year', 'send_Month',\n",
       "       'send_Week', 'send_Day', 'send_Dayofweek', 'send_Dayofyear',\n",
       "       'send_Is_month_end', 'send_Is_month_start', 'send_Is_quarter_end',\n",
       "       'send_Is_quarter_start', 'send_Is_year_end', 'send_Is_year_start',\n",
       "       'communication_type', 'total_links', 'no_of_internal_links',\n",
       "       'no_of_images', 'no_of_sections', 'email_body', 'subject', 'email_url',\n",
       "       'link_diff', 'av_links', 'img_per_section', 'link_diff_%'],\n",
       "      dtype='object')"
      ]
     },
     "execution_count": 214,
     "metadata": {},
     "output_type": "execute_result"
    }
   ],
   "source": [
    "test.columns"
   ]
  },
  {
   "cell_type": "code",
   "execution_count": 215,
   "metadata": {
    "ExecuteTime": {
     "end_time": "2018-03-24T13:12:36.204986Z",
     "start_time": "2018-03-24T13:12:35.833823Z"
    }
   },
   "outputs": [
    {
     "data": {
      "text/plain": [
       "DataFrameMapper(default=False, df_out=False,\n",
       "        features=[(['user_id'], StandardScaler(copy=True, with_mean=True, with_std=True)), (['campaign_id'], StandardScaler(copy=True, with_mean=True, with_std=True)), (['is_open'], StandardScaler(copy=True, with_mean=True, with_std=True)), (['send_Year'], StandardScaler(copy=True, with_mean=True, with_std=... with_std=True)), (['send_Dayofyear_na'], StandardScaler(copy=True, with_mean=True, with_std=True))],\n",
       "        input_df=False, sparse=False)"
      ]
     },
     "execution_count": 215,
     "metadata": {},
     "output_type": "execute_result"
    }
   ],
   "source": [
    "mapper"
   ]
  },
  {
   "cell_type": "code",
   "execution_count": 217,
   "metadata": {
    "ExecuteTime": {
     "end_time": "2018-03-24T13:12:51.232741Z",
     "start_time": "2018-03-24T13:12:50.998188Z"
    }
   },
   "outputs": [
    {
     "data": {
      "text/plain": [
       "Index(['id', 'campaign_id', 'user_id', 'y', 'send_Year', 'send_Month',\n",
       "       'send_Week', 'send_Day', 'send_Dayofweek', 'send_Dayofyear',\n",
       "       'send_Is_month_end', 'send_Is_month_start', 'send_Is_quarter_end',\n",
       "       'send_Is_quarter_start', 'send_Is_year_end', 'send_Is_year_start',\n",
       "       'communication_type', 'total_links', 'no_of_internal_links',\n",
       "       'no_of_images', 'no_of_sections', 'email_body', 'subject', 'email_url',\n",
       "       'link_diff', 'av_links', 'img_per_section', 'link_diff_%'],\n",
       "      dtype='object')"
      ]
     },
     "execution_count": 217,
     "metadata": {},
     "output_type": "execute_result"
    }
   ],
   "source": [
    "test.columns"
   ]
  },
  {
   "cell_type": "code",
   "execution_count": 218,
   "metadata": {
    "ExecuteTime": {
     "end_time": "2018-03-24T13:13:18.771803Z",
     "start_time": "2018-03-24T13:13:16.381861Z"
    }
   },
   "outputs": [],
   "source": [
    "test, _, _ = proc_df(test,max_n_cat=30,mapper=mapper,na_dict=nas)"
   ]
  },
  {
   "cell_type": "code",
   "execution_count": 219,
   "metadata": {
    "ExecuteTime": {
     "end_time": "2018-03-24T13:13:23.551221Z",
     "start_time": "2018-03-24T13:13:23.359524Z"
    }
   },
   "outputs": [
    {
     "data": {
      "text/plain": [
       "Index(['id', 'campaign_id', 'user_id', 'y', 'send_Year', 'send_Month',\n",
       "       'send_Week', 'send_Day', 'send_Dayofweek', 'send_Dayofyear',\n",
       "       ...\n",
       "       'email_url_http://r.newsletters.analyticsvidhya.com/7wra6vb5p4c.html?t=1520942329',\n",
       "       'email_url_http://r.newsletters.analyticsvidhya.com/7wrjo7b5p4c.html?t=1520942329',\n",
       "       'email_url_http://r.newsletters.analyticsvidhya.com/7ww0uvb5p4c.html?t=1520940826',\n",
       "       'email_url_http://r.newsletters.analyticsvidhya.com/7wx2s7b5p4c.html?t=1520940826',\n",
       "       'email_url_http://r.newsletters.analyticsvidhya.com/7wxlqvb5p4c.html?t=1520940826',\n",
       "       'email_url_http://r.newsletters.analyticsvidhya.com/7wxv87b5p4c.html?t=1520940826',\n",
       "       'email_url_http://r.newsletters.analyticsvidhya.com/7wz6mvb5p4c.html?t=1520940826',\n",
       "       'email_url_http://r.newsletters.analyticsvidhya.com/7wzpljb5p4c.html?t=1520935115',\n",
       "       'email_url_http://r.newsletters.analyticsvidhya.com/7x08k7b5p4c.html?t=1520935115',\n",
       "       'email_url_nan'],\n",
       "      dtype='object', length=113)"
      ]
     },
     "execution_count": 219,
     "metadata": {},
     "output_type": "execute_result"
    }
   ],
   "source": [
    "test.columns"
   ]
  },
  {
   "cell_type": "code",
   "execution_count": 224,
   "metadata": {
    "ExecuteTime": {
     "end_time": "2018-03-24T13:14:43.842439Z",
     "start_time": "2018-03-24T13:14:43.091715Z"
    }
   },
   "outputs": [],
   "source": [
    "df.drop(list(set(df.columns) - set(test.columns)), axis=1,inplace=True)"
   ]
  },
  {
   "cell_type": "code",
   "execution_count": 228,
   "metadata": {
    "ExecuteTime": {
     "end_time": "2018-03-24T13:15:05.407094Z",
     "start_time": "2018-03-24T13:15:05.150980Z"
    }
   },
   "outputs": [
    {
     "data": {
      "text/plain": [
       "29"
      ]
     },
     "execution_count": 228,
     "metadata": {},
     "output_type": "execute_result"
    }
   ],
   "source": [
    "len(test.columns)"
   ]
  },
  {
   "cell_type": "code",
   "execution_count": 227,
   "metadata": {
    "ExecuteTime": {
     "end_time": "2018-03-24T13:14:58.055100Z",
     "start_time": "2018-03-24T13:14:57.693688Z"
    }
   },
   "outputs": [
    {
     "data": {
      "text/plain": [
       "29"
      ]
     },
     "execution_count": 227,
     "metadata": {},
     "output_type": "execute_result"
    }
   ],
   "source": [
    "len(df.columns)"
   ]
  },
  {
   "cell_type": "code",
   "execution_count": 51,
   "metadata": {
    "ExecuteTime": {
     "end_time": "2018-03-24T11:01:02.178536Z",
     "start_time": "2018-03-24T11:01:01.743872Z"
    }
   },
   "outputs": [
    {
     "name": "stdout",
     "output_type": "stream",
     "text": [
      "2.000000     211722\n",
      "7.000000     139380\n",
      "3.000000     132195\n",
      "13.000000     85433\n",
      "2.500000      82163\n",
      "16.000000     81358\n",
      "3.250000      81253\n",
      "4.000000      76361\n",
      "1.000000      50942\n",
      "2.833333      39710\n",
      "3.166667      39498\n",
      "5.000000       3198\n",
      "3.750000          2\n",
      "3.500000          1\n",
      "9.000000          1\n",
      "Name: img_per_sec, dtype: int64\n"
     ]
    },
    {
     "data": {
      "image/png": "[encoded data removed]",
      "text/plain": [
       "<matplotlib.figure.Figure at 0x1f119bf52b0>"
      ]
     },
     "metadata": {},
     "output_type": "display_data"
    }
   ],
   "source": [
    "print(df['img_per_sec'].value_counts())\n",
    "sns.countplot(df['img_per_sec'],orient='h');"
   ]
  },
  {
   "cell_type": "code",
   "execution_count": 43,
   "metadata": {
    "ExecuteTime": {
     "end_time": "2018-03-24T10:56:17.854621Z",
     "start_time": "2018-03-24T10:56:17.334345Z"
    }
   },
   "outputs": [
    {
     "name": "stdout",
     "output_type": "stream",
     "text": [
      "0.0    920401\n",
      "1.0    102790\n",
      "Name: is_open, dtype: int64\n"
     ]
    },
    {
     "data": {
      "image/png": "[encoded data removed]",
      "text/plain": [
       "<matplotlib.figure.Figure at 0x1f115f967b8>"
      ]
     },
     "metadata": {},
     "output_type": "display_data"
    }
   ],
   "source": [
    "print(df['is_open'].value_counts())\n",
    "sns.countplot(df['is_open']);"
   ]
  },
  {
   "cell_type": "code",
   "execution_count": 38,
   "metadata": {
    "ExecuteTime": {
     "end_time": "2018-03-24T10:53:37.639691Z",
     "start_time": "2018-03-24T10:53:37.025215Z"
    }
   },
   "outputs": [
    {
     "data": {
      "image/png": "[encoded data removed]",
      "text/plain": [
       "<matplotlib.figure.Figure at 0x1f117820a90>"
      ]
     },
     "metadata": {},
     "output_type": "display_data"
    }
   ],
   "source": [
    "sns.countplot(df['no_of_images']);"
   ]
  },
  {
   "cell_type": "code",
   "execution_count": 39,
   "metadata": {
    "ExecuteTime": {
     "end_time": "2018-03-24T10:53:47.436197Z",
     "start_time": "2018-03-24T10:53:47.080403Z"
    }
   },
   "outputs": [
    {
     "data": {
      "image/png": "[encoded data removed]",
      "text/plain": [
       "<matplotlib.figure.Figure at 0x1f117139048>"
      ]
     },
     "metadata": {},
     "output_type": "display_data"
    }
   ],
   "source": [
    "sns.countplot(df['no_of_sections']);"
   ]
  },
  {
   "cell_type": "code",
   "execution_count": 37,
   "metadata": {
    "ExecuteTime": {
     "end_time": "2018-03-24T10:52:24.736863Z",
     "start_time": "2018-03-24T10:52:22.607123Z"
    }
   },
   "outputs": [
    {
     "data": {
      "text/plain": [
       "<matplotlib.axes._subplots.AxesSubplot at 0x1f117841a20>"
      ]
     },
     "execution_count": 37,
     "metadata": {},
     "output_type": "execute_result"
    },
    {
     "data": {
      "image/png": "[encoded data removed]",
      "text/plain": [
       "<matplotlib.figure.Figure at 0x1f118bac080>"
      ]
     },
     "metadata": {},
     "output_type": "display_data"
    }
   ],
   "source": [
    "sns.countplot(df['link_diff']);"
   ]
  },
  {
   "cell_type": "code",
   "execution_count": 81,
   "metadata": {
    "ExecuteTime": {
     "end_time": "2018-03-24T11:12:20.826456Z",
     "start_time": "2018-03-24T11:12:13.121131Z"
    }
   },
   "outputs": [],
   "source": [
    "train_cats(df)"
   ]
  },
  {
   "cell_type": "code",
   "execution_count": 82,
   "metadata": {
    "ExecuteTime": {
     "end_time": "2018-03-24T11:12:50.515434Z",
     "start_time": "2018-03-24T11:12:47.211951Z"
    }
   },
   "outputs": [],
   "source": [
    "apply_cats(test, df)"
   ]
  },
  {
   "cell_type": "code",
   "execution_count": 87,
   "metadata": {
    "ExecuteTime": {
     "end_time": "2018-03-24T11:14:56.885709Z",
     "start_time": "2018-03-24T11:14:56.539922Z"
    }
   },
   "outputs": [],
   "source": [
    "df.drop(['id', 'user_id'], axis=1, inplace=True);\n",
    "test.drop(['id', 'user_id'], axis=1, inplace=True);"
   ]
  },
  {
   "cell_type": "code",
   "execution_count": 88,
   "metadata": {
    "ExecuteTime": {
     "end_time": "2018-03-24T11:15:08.692374Z",
     "start_time": "2018-03-24T11:15:08.472357Z"
    }
   },
   "outputs": [
    {
     "data": {
      "text/html": [
       "<div>\n",
       "<style>\n",
       "    .dataframe thead tr:only-child th {\n",
       "        text-align: right;\n",
       "    }\n",
       "\n",
       "    .dataframe thead th {\n",
       "        text-align: left;\n",
       "    }\n",
       "\n",
       "    .dataframe tbody tr th {\n",
       "        vertical-align: top;\n",
       "    }\n",
       "</style>\n",
       "<table border=\"1\" class=\"dataframe\">\n",
       "  <thead>\n",
       "    <tr style=\"text-align: right;\">\n",
       "      <th></th>\n",
       "      <th>campaign_id</th>\n",
       "      <th>send_Year</th>\n",
       "      <th>send_Month</th>\n",
       "      <th>send_Week</th>\n",
       "      <th>send_Day</th>\n",
       "      <th>send_Dayofweek</th>\n",
       "      <th>send_Dayofyear</th>\n",
       "      <th>send_Is_month_end</th>\n",
       "      <th>send_Is_month_start</th>\n",
       "      <th>send_Is_quarter_end</th>\n",
       "      <th>...</th>\n",
       "      <th>no_of_internal_links</th>\n",
       "      <th>no_of_images</th>\n",
       "      <th>no_of_sections</th>\n",
       "      <th>email_body</th>\n",
       "      <th>subject</th>\n",
       "      <th>email_url</th>\n",
       "      <th>link_diff</th>\n",
       "      <th>link_diff_%</th>\n",
       "      <th>img_per_section</th>\n",
       "      <th>av_links</th>\n",
       "    </tr>\n",
       "  </thead>\n",
       "  <tbody>\n",
       "    <tr>\n",
       "      <th>0</th>\n",
       "      <td>42</td>\n",
       "      <td>2017.0</td>\n",
       "      <td>1.0</td>\n",
       "      <td>2.0</td>\n",
       "      <td>9.0</td>\n",
       "      <td>0.0</td>\n",
       "      <td>9.0</td>\n",
       "      <td>False</td>\n",
       "      <td>False</td>\n",
       "      <td>False</td>\n",
       "      <td>...</td>\n",
       "      <td>79</td>\n",
       "      <td>13</td>\n",
       "      <td>4</td>\n",
       "      <td>September Newsletter\\r\\n \\r\\nDear AVians,\\r\\n ...</td>\n",
       "      <td>[September] Exciting days ahead with DataHack ...</td>\n",
       "      <td>http://r.newsletters.analyticsvidhya.com/7v3rd...</td>\n",
       "      <td>9</td>\n",
       "      <td>10.227273</td>\n",
       "      <td>3.25</td>\n",
       "      <td>89.772727</td>\n",
       "    </tr>\n",
       "  </tbody>\n",
       "</table>\n",
       "<p>1 rows × 25 columns</p>\n",
       "</div>"
      ],
      "text/plain": [
       "   campaign_id  send_Year  send_Month  send_Week  send_Day  send_Dayofweek  \\\n",
       "0           42     2017.0         1.0        2.0       9.0             0.0   \n",
       "\n",
       "   send_Dayofyear send_Is_month_end send_Is_month_start send_Is_quarter_end  \\\n",
       "0             9.0             False               False               False   \n",
       "\n",
       "     ...     no_of_internal_links no_of_images no_of_sections  \\\n",
       "0    ...                       79           13              4   \n",
       "\n",
       "                                          email_body  \\\n",
       "0  September Newsletter\\r\\n \\r\\nDear AVians,\\r\\n ...   \n",
       "\n",
       "                                             subject  \\\n",
       "0  [September] Exciting days ahead with DataHack ...   \n",
       "\n",
       "                                           email_url  link_diff  link_diff_%  \\\n",
       "0  http://r.newsletters.analyticsvidhya.com/7v3rd...          9    10.227273   \n",
       "\n",
       "  img_per_section   av_links  \n",
       "0            3.25  89.772727  \n",
       "\n",
       "[1 rows x 25 columns]"
      ]
     },
     "execution_count": 88,
     "metadata": {},
     "output_type": "execute_result"
    }
   ],
   "source": [
    "df.head(1)"
   ]
  },
  {
   "cell_type": "code",
   "execution_count": 89,
   "metadata": {
    "ExecuteTime": {
     "end_time": "2018-03-24T11:15:14.330456Z",
     "start_time": "2018-03-24T11:15:13.995867Z"
    }
   },
   "outputs": [
    {
     "data": {
      "text/html": [
       "<div>\n",
       "<style>\n",
       "    .dataframe thead tr:only-child th {\n",
       "        text-align: right;\n",
       "    }\n",
       "\n",
       "    .dataframe thead th {\n",
       "        text-align: left;\n",
       "    }\n",
       "\n",
       "    .dataframe tbody tr th {\n",
       "        vertical-align: top;\n",
       "    }\n",
       "</style>\n",
       "<table border=\"1\" class=\"dataframe\">\n",
       "  <thead>\n",
       "    <tr style=\"text-align: right;\">\n",
       "      <th></th>\n",
       "      <th>campaign_id</th>\n",
       "      <th>send_Year</th>\n",
       "      <th>send_Month</th>\n",
       "      <th>send_Week</th>\n",
       "      <th>send_Day</th>\n",
       "      <th>send_Dayofweek</th>\n",
       "      <th>send_Dayofyear</th>\n",
       "      <th>send_Is_month_end</th>\n",
       "      <th>send_Is_month_start</th>\n",
       "      <th>send_Is_quarter_end</th>\n",
       "      <th>...</th>\n",
       "      <th>no_of_internal_links</th>\n",
       "      <th>no_of_images</th>\n",
       "      <th>no_of_sections</th>\n",
       "      <th>email_body</th>\n",
       "      <th>subject</th>\n",
       "      <th>email_url</th>\n",
       "      <th>link_diff</th>\n",
       "      <th>av_links</th>\n",
       "      <th>img_per_section</th>\n",
       "      <th>link_diff_%</th>\n",
       "    </tr>\n",
       "  </thead>\n",
       "  <tbody>\n",
       "    <tr>\n",
       "      <th>0</th>\n",
       "      <td>63</td>\n",
       "      <td>2018</td>\n",
       "      <td>1</td>\n",
       "      <td>1</td>\n",
       "      <td>2</td>\n",
       "      <td>1</td>\n",
       "      <td>2</td>\n",
       "      <td>False</td>\n",
       "      <td>False</td>\n",
       "      <td>False</td>\n",
       "      <td>...</td>\n",
       "      <td>64</td>\n",
       "      <td>15</td>\n",
       "      <td>5</td>\n",
       "      <td>\\r\\nFebruary 2018 Newsletter\\r\\n \\r\\nDear AVia...</td>\n",
       "      <td>AVbytes, Ultimate 2018 learning path and aweso...</td>\n",
       "      <td>http://r.newsletters.analyticsvidhya.com/7whsu...</td>\n",
       "      <td>4</td>\n",
       "      <td>94.117647</td>\n",
       "      <td>3.0</td>\n",
       "      <td>5.882353</td>\n",
       "    </tr>\n",
       "  </tbody>\n",
       "</table>\n",
       "<p>1 rows × 25 columns</p>\n",
       "</div>"
      ],
      "text/plain": [
       "   campaign_id  send_Year  send_Month  send_Week  send_Day  send_Dayofweek  \\\n",
       "0           63       2018           1          1         2               1   \n",
       "\n",
       "   send_Dayofyear send_Is_month_end send_Is_month_start send_Is_quarter_end  \\\n",
       "0               2             False               False               False   \n",
       "\n",
       "      ...     no_of_internal_links no_of_images no_of_sections  \\\n",
       "0     ...                       64           15              5   \n",
       "\n",
       "                                          email_body  \\\n",
       "0  \\r\\nFebruary 2018 Newsletter\\r\\n \\r\\nDear AVia...   \n",
       "\n",
       "                                             subject  \\\n",
       "0  AVbytes, Ultimate 2018 learning path and aweso...   \n",
       "\n",
       "                                           email_url  link_diff   av_links  \\\n",
       "0  http://r.newsletters.analyticsvidhya.com/7whsu...          4  94.117647   \n",
       "\n",
       "  img_per_section link_diff_%  \n",
       "0             3.0    5.882353  \n",
       "\n",
       "[1 rows x 25 columns]"
      ]
     },
     "execution_count": 89,
     "metadata": {},
     "output_type": "execute_result"
    }
   ],
   "source": [
    "test.head(1)"
   ]
  },
  {
   "cell_type": "code",
   "execution_count": 90,
   "metadata": {
    "ExecuteTime": {
     "end_time": "2018-03-24T11:16:22.255834Z",
     "start_time": "2018-03-24T11:16:21.131240Z"
    },
    "collapsed": true
   },
   "outputs": [
    {
     "name": "stdout",
     "output_type": "stream",
     "text": [
      "<class 'pandas.core.frame.DataFrame'>\n",
      "RangeIndex: 1023217 entries, 0 to 1023216\n",
      "Data columns (total 25 columns):\n",
      "campaign_id              1023217 non-null int64\n",
      "send_Year                1023191 non-null float64\n",
      "send_Month               1023191 non-null float64\n",
      "send_Week                1023191 non-null float64\n",
      "send_Day                 1023191 non-null float64\n",
      "send_Dayofweek           1023191 non-null float64\n",
      "send_Dayofyear           1023191 non-null float64\n",
      "send_Is_month_end        1023191 non-null category\n",
      "send_Is_month_start      1023191 non-null category\n",
      "send_Is_quarter_end      1023191 non-null category\n",
      "send_Is_quarter_start    1023191 non-null category\n",
      "send_Is_year_end         1023191 non-null category\n",
      "send_Is_year_start       1023191 non-null category\n",
      "communication_type       1023217 non-null category\n",
      "total_links              1023217 non-null int64\n",
      "no_of_internal_links     1023217 non-null int64\n",
      "no_of_images             1023217 non-null int64\n",
      "no_of_sections           1023217 non-null int64\n",
      "email_body               1023217 non-null category\n",
      "subject                  1023217 non-null category\n",
      "email_url                1023217 non-null category\n",
      "link_diff                1023217 non-null int64\n",
      "link_diff_%              1023217 non-null float64\n",
      "img_per_section          1023217 non-null float64\n",
      "av_links                 1023217 non-null float64\n",
      "dtypes: category(10), float64(9), int64(6)\n",
      "memory usage: 126.9 MB\n"
     ]
    }
   ],
   "source": [
    "df.info()"
   ]
  },
  {
   "cell_type": "code",
   "execution_count": 99,
   "metadata": {
    "ExecuteTime": {
     "end_time": "2018-03-24T11:19:02.810731Z",
     "start_time": "2018-03-24T11:19:02.610928Z"
    }
   },
   "outputs": [],
   "source": [
    "categorical_features_indices = np.where(df.dtypes == 'category')[0]"
   ]
  },
  {
   "cell_type": "code",
   "execution_count": 100,
   "metadata": {
    "ExecuteTime": {
     "end_time": "2018-03-24T11:19:03.074376Z",
     "start_time": "2018-03-24T11:19:02.886392Z"
    }
   },
   "outputs": [
    {
     "data": {
      "text/plain": [
       "array([ 7,  8,  9, 10, 11, 12, 13, 18, 19, 20], dtype=int64)"
      ]
     },
     "execution_count": 100,
     "metadata": {},
     "output_type": "execute_result"
    }
   ],
   "source": [
    "categorical_features_indices"
   ]
  },
  {
   "cell_type": "code",
   "execution_count": 103,
   "metadata": {
    "ExecuteTime": {
     "end_time": "2018-03-24T11:20:17.999849Z",
     "start_time": "2018-03-24T11:20:14.365910Z"
    }
   },
   "outputs": [],
   "source": [
    "df[:].fillna(method='ffill', inplace=True)"
   ]
  },
  {
   "cell_type": "code",
   "execution_count": 106,
   "metadata": {
    "ExecuteTime": {
     "end_time": "2018-03-24T11:21:32.481770Z",
     "start_time": "2018-03-24T11:21:32.226032Z"
    }
   },
   "outputs": [],
   "source": [
    "def rmse(x,y): return math.sqrt(((x-y)**2).mean())\n",
    "\n",
    "def print_score(m):\n",
    "    res = [rmse(m.predict(X_train), y_train), rmse(m.predict(X_valid), y_valid),\n",
    "                m.score(X_train, y_train), m.score(X_valid, y_valid)]\n",
    "    if hasattr(m, 'oob_score_'): res.append(m.oob_score_)\n",
    "    print(res)"
   ]
  },
  {
   "cell_type": "code",
   "execution_count": 109,
   "metadata": {
    "ExecuteTime": {
     "end_time": "2018-03-24T11:24:49.208641Z",
     "start_time": "2018-03-24T11:24:48.944914Z"
    }
   },
   "outputs": [],
   "source": [
    "from sklearn.linear_model import LogisticRegression\n",
    "lr = LogisticRegression(C=1, random_state=17, solver='lbfgs',class_weight='balanced',n_jobs=-1,max_iter=1000)"
   ]
  },
  {
   "cell_type": "code",
   "execution_count": 112,
   "metadata": {
    "ExecuteTime": {
     "end_time": "2018-03-24T11:26:32.663221Z",
     "start_time": "2018-03-24T11:26:32.406866Z"
    }
   },
   "outputs": [],
   "source": [
    "df.drop(['email_body','subject','email_url'], axis =1, inplace=True)\n",
    "test.drop(['email_body','subject','email_url'], axis =1, inplace=True)"
   ]
  },
  {
   "cell_type": "code",
   "execution_count": 116,
   "metadata": {
    "ExecuteTime": {
     "end_time": "2018-03-24T11:27:21.248304Z",
     "start_time": "2018-03-24T11:27:20.944986Z"
    }
   },
   "outputs": [],
   "source": [
    "train_cats(df)"
   ]
  },
  {
   "cell_type": "code",
   "execution_count": 117,
   "metadata": {
    "ExecuteTime": {
     "end_time": "2018-03-24T11:27:54.782442Z",
     "start_time": "2018-03-24T11:27:54.242534Z"
    }
   },
   "outputs": [],
   "source": [
    "apply_cats(test,df)"
   ]
  },
  {
   "cell_type": "code",
   "execution_count": 121,
   "metadata": {
    "ExecuteTime": {
     "end_time": "2018-03-24T11:29:01.507186Z",
     "start_time": "2018-03-24T11:29:01.295043Z"
    }
   },
   "outputs": [],
   "source": [
    "categorical_features_indices = np.where(df.dtypes == 'category')[0]"
   ]
  },
  {
   "cell_type": "code",
   "execution_count": 122,
   "metadata": {
    "ExecuteTime": {
     "end_time": "2018-03-24T11:29:05.199594Z",
     "start_time": "2018-03-24T11:29:04.887616Z"
    }
   },
   "outputs": [
    {
     "data": {
      "text/plain": [
       "array([ 7,  8,  9, 10, 11, 12, 13], dtype=int64)"
      ]
     },
     "execution_count": 122,
     "metadata": {},
     "output_type": "execute_result"
    }
   ],
   "source": [
    "categorical_features_indices"
   ]
  },
  {
   "cell_type": "code",
   "execution_count": 133,
   "metadata": {
    "ExecuteTime": {
     "end_time": "2018-03-24T11:33:24.043905Z",
     "start_time": "2018-03-24T11:33:23.844033Z"
    }
   },
   "outputs": [],
   "source": [
    "#importing library and building model\n",
    "from catboost import CatBoostRegressor\n",
    "#model=CatBoostClassifier(iterations=1000, depth=10,learning_rate=0.01, loss_function='CrossEntropy',\\\n",
    "                         #)\n",
    "#model.fit(X_train, y_train,cat_features=categorical_features_indices,eval_set=(X_validation, y_validation))"
   ]
  },
  {
   "cell_type": "code",
   "execution_count": 128,
   "metadata": {
    "ExecuteTime": {
     "end_time": "2018-03-24T11:31:51.537014Z",
     "start_time": "2018-03-24T11:31:44.380351Z"
    }
   },
   "outputs": [],
   "source": [
    "df, _, nan, mapper = proc_df(df,do_scale=True,max_n_cat=30)"
   ]
  },
  {
   "cell_type": "code",
   "execution_count": 129,
   "metadata": {
    "ExecuteTime": {
     "end_time": "2018-03-24T11:32:11.252487Z",
     "start_time": "2018-03-24T11:32:10.550216Z"
    }
   },
   "outputs": [
    {
     "name": "stderr",
     "output_type": "stream",
     "text": [
      "C:\\ProgramData\\Anaconda3\\lib\\site-packages\\sklearn\\model_selection\\_split.py:2026: FutureWarning: From version 0.21, test_size will always complement train_size unless both are specified.\n",
      "  FutureWarning)\n"
     ]
    }
   ],
   "source": [
    "from sklearn.model_selection import train_test_split\n",
    "X_train, X_validation, y_train, y_validation = train_test_split(df, y_target, train_size=0.8, random_state=1234)"
   ]
  },
  {
   "cell_type": "code",
   "execution_count": 136,
   "metadata": {
    "ExecuteTime": {
     "end_time": "2018-03-24T11:35:25.838613Z",
     "start_time": "2018-03-24T11:35:25.312883Z"
    }
   },
   "outputs": [
    {
     "ename": "ValueError",
     "evalue": "Input contains NaN, infinity or a value too large for dtype('float64').",
     "output_type": "error",
     "traceback": [
      "\u001b[1;31m---------------------------------------------------------------------------\u001b[0m",
      "\u001b[1;31mValueError\u001b[0m                                Traceback (most recent call last)",
      "\u001b[1;32m<ipython-input-136-0903aefc4a63>\u001b[0m in \u001b[0;36m<module>\u001b[1;34m()\u001b[0m\n\u001b[1;32m----> 1\u001b[1;33m \u001b[0mlr\u001b[0m\u001b[1;33m.\u001b[0m\u001b[0mfit\u001b[0m\u001b[1;33m(\u001b[0m\u001b[0mX_train\u001b[0m\u001b[1;33m,\u001b[0m\u001b[0my_train\u001b[0m\u001b[1;33m)\u001b[0m\u001b[1;33m\u001b[0m\u001b[0m\n\u001b[0m",
      "\u001b[1;32mC:\\ProgramData\\Anaconda3\\lib\\site-packages\\sklearn\\linear_model\\logistic.py\u001b[0m in \u001b[0;36mfit\u001b[1;34m(self, X, y, sample_weight)\u001b[0m\n\u001b[0;32m   1214\u001b[0m \u001b[1;33m\u001b[0m\u001b[0m\n\u001b[0;32m   1215\u001b[0m         X, y = check_X_y(X, y, accept_sparse='csr', dtype=_dtype,\n\u001b[1;32m-> 1216\u001b[1;33m                          order=\"C\")\n\u001b[0m\u001b[0;32m   1217\u001b[0m         \u001b[0mcheck_classification_targets\u001b[0m\u001b[1;33m(\u001b[0m\u001b[0my\u001b[0m\u001b[1;33m)\u001b[0m\u001b[1;33m\u001b[0m\u001b[0m\n\u001b[0;32m   1218\u001b[0m         \u001b[0mself\u001b[0m\u001b[1;33m.\u001b[0m\u001b[0mclasses_\u001b[0m \u001b[1;33m=\u001b[0m \u001b[0mnp\u001b[0m\u001b[1;33m.\u001b[0m\u001b[0munique\u001b[0m\u001b[1;33m(\u001b[0m\u001b[0my\u001b[0m\u001b[1;33m)\u001b[0m\u001b[1;33m\u001b[0m\u001b[0m\n",
      "\u001b[1;32mC:\\ProgramData\\Anaconda3\\lib\\site-packages\\sklearn\\utils\\validation.py\u001b[0m in \u001b[0;36mcheck_X_y\u001b[1;34m(X, y, accept_sparse, dtype, order, copy, force_all_finite, ensure_2d, allow_nd, multi_output, ensure_min_samples, ensure_min_features, y_numeric, warn_on_dtype, estimator)\u001b[0m\n\u001b[0;32m    577\u001b[0m     \u001b[1;32melse\u001b[0m\u001b[1;33m:\u001b[0m\u001b[1;33m\u001b[0m\u001b[0m\n\u001b[0;32m    578\u001b[0m         \u001b[0my\u001b[0m \u001b[1;33m=\u001b[0m \u001b[0mcolumn_or_1d\u001b[0m\u001b[1;33m(\u001b[0m\u001b[0my\u001b[0m\u001b[1;33m,\u001b[0m \u001b[0mwarn\u001b[0m\u001b[1;33m=\u001b[0m\u001b[1;32mTrue\u001b[0m\u001b[1;33m)\u001b[0m\u001b[1;33m\u001b[0m\u001b[0m\n\u001b[1;32m--> 579\u001b[1;33m         \u001b[0m_assert_all_finite\u001b[0m\u001b[1;33m(\u001b[0m\u001b[0my\u001b[0m\u001b[1;33m)\u001b[0m\u001b[1;33m\u001b[0m\u001b[0m\n\u001b[0m\u001b[0;32m    580\u001b[0m     \u001b[1;32mif\u001b[0m \u001b[0my_numeric\u001b[0m \u001b[1;32mand\u001b[0m \u001b[0my\u001b[0m\u001b[1;33m.\u001b[0m\u001b[0mdtype\u001b[0m\u001b[1;33m.\u001b[0m\u001b[0mkind\u001b[0m \u001b[1;33m==\u001b[0m \u001b[1;34m'O'\u001b[0m\u001b[1;33m:\u001b[0m\u001b[1;33m\u001b[0m\u001b[0m\n\u001b[0;32m    581\u001b[0m         \u001b[0my\u001b[0m \u001b[1;33m=\u001b[0m \u001b[0my\u001b[0m\u001b[1;33m.\u001b[0m\u001b[0mastype\u001b[0m\u001b[1;33m(\u001b[0m\u001b[0mnp\u001b[0m\u001b[1;33m.\u001b[0m\u001b[0mfloat64\u001b[0m\u001b[1;33m)\u001b[0m\u001b[1;33m\u001b[0m\u001b[0m\n",
      "\u001b[1;32mC:\\ProgramData\\Anaconda3\\lib\\site-packages\\sklearn\\utils\\validation.py\u001b[0m in \u001b[0;36m_assert_all_finite\u001b[1;34m(X)\u001b[0m\n\u001b[0;32m     42\u001b[0m             and not np.isfinite(X).all()):\n\u001b[0;32m     43\u001b[0m         raise ValueError(\"Input contains NaN, infinity\"\n\u001b[1;32m---> 44\u001b[1;33m                          \" or a value too large for %r.\" % X.dtype)\n\u001b[0m\u001b[0;32m     45\u001b[0m \u001b[1;33m\u001b[0m\u001b[0m\n\u001b[0;32m     46\u001b[0m \u001b[1;33m\u001b[0m\u001b[0m\n",
      "\u001b[1;31mValueError\u001b[0m: Input contains NaN, infinity or a value too large for dtype('float64')."
     ]
    }
   ],
   "source": [
    "lr.fit(X_train,y_train)"
   ]
  },
  {
   "cell_type": "code",
   "execution_count": 139,
   "metadata": {
    "ExecuteTime": {
     "end_time": "2018-03-24T11:36:20.746366Z",
     "start_time": "2018-03-24T11:36:20.380315Z"
    }
   },
   "outputs": [
    {
     "data": {
      "text/html": [
       "<div>\n",
       "<style>\n",
       "    .dataframe thead tr:only-child th {\n",
       "        text-align: right;\n",
       "    }\n",
       "\n",
       "    .dataframe thead th {\n",
       "        text-align: left;\n",
       "    }\n",
       "\n",
       "    .dataframe tbody tr th {\n",
       "        vertical-align: top;\n",
       "    }\n",
       "</style>\n",
       "<table border=\"1\" class=\"dataframe\">\n",
       "  <thead>\n",
       "    <tr style=\"text-align: right;\">\n",
       "      <th></th>\n",
       "      <th>campaign_id</th>\n",
       "      <th>send_Year</th>\n",
       "      <th>send_Month</th>\n",
       "      <th>send_Week</th>\n",
       "      <th>send_Day</th>\n",
       "      <th>send_Dayofweek</th>\n",
       "      <th>send_Dayofyear</th>\n",
       "      <th>total_links</th>\n",
       "      <th>no_of_internal_links</th>\n",
       "      <th>no_of_images</th>\n",
       "      <th>...</th>\n",
       "      <th>send_Is_year_start_False</th>\n",
       "      <th>send_Is_year_start_nan</th>\n",
       "      <th>communication_type_Conference</th>\n",
       "      <th>communication_type_Corporate</th>\n",
       "      <th>communication_type_Hackathon</th>\n",
       "      <th>communication_type_Newsletter</th>\n",
       "      <th>communication_type_Others</th>\n",
       "      <th>communication_type_Upcoming Events</th>\n",
       "      <th>communication_type_Webinar</th>\n",
       "      <th>communication_type_nan</th>\n",
       "    </tr>\n",
       "  </thead>\n",
       "  <tbody>\n",
       "    <tr>\n",
       "      <th>0</th>\n",
       "      <td>False</td>\n",
       "      <td>False</td>\n",
       "      <td>False</td>\n",
       "      <td>False</td>\n",
       "      <td>False</td>\n",
       "      <td>False</td>\n",
       "      <td>False</td>\n",
       "      <td>False</td>\n",
       "      <td>False</td>\n",
       "      <td>False</td>\n",
       "      <td>...</td>\n",
       "      <td>False</td>\n",
       "      <td>False</td>\n",
       "      <td>False</td>\n",
       "      <td>False</td>\n",
       "      <td>False</td>\n",
       "      <td>False</td>\n",
       "      <td>False</td>\n",
       "      <td>False</td>\n",
       "      <td>False</td>\n",
       "      <td>False</td>\n",
       "    </tr>\n",
       "    <tr>\n",
       "      <th>1</th>\n",
       "      <td>False</td>\n",
       "      <td>False</td>\n",
       "      <td>False</td>\n",
       "      <td>False</td>\n",
       "      <td>False</td>\n",
       "      <td>False</td>\n",
       "      <td>False</td>\n",
       "      <td>False</td>\n",
       "      <td>False</td>\n",
       "      <td>False</td>\n",
       "      <td>...</td>\n",
       "      <td>False</td>\n",
       "      <td>False</td>\n",
       "      <td>False</td>\n",
       "      <td>False</td>\n",
       "      <td>False</td>\n",
       "      <td>False</td>\n",
       "      <td>False</td>\n",
       "      <td>False</td>\n",
       "      <td>False</td>\n",
       "      <td>False</td>\n",
       "    </tr>\n",
       "    <tr>\n",
       "      <th>2</th>\n",
       "      <td>False</td>\n",
       "      <td>False</td>\n",
       "      <td>False</td>\n",
       "      <td>False</td>\n",
       "      <td>False</td>\n",
       "      <td>False</td>\n",
       "      <td>False</td>\n",
       "      <td>False</td>\n",
       "      <td>False</td>\n",
       "      <td>False</td>\n",
       "      <td>...</td>\n",
       "      <td>False</td>\n",
       "      <td>False</td>\n",
       "      <td>False</td>\n",
       "      <td>False</td>\n",
       "      <td>False</td>\n",
       "      <td>False</td>\n",
       "      <td>False</td>\n",
       "      <td>False</td>\n",
       "      <td>False</td>\n",
       "      <td>False</td>\n",
       "    </tr>\n",
       "    <tr>\n",
       "      <th>3</th>\n",
       "      <td>False</td>\n",
       "      <td>False</td>\n",
       "      <td>False</td>\n",
       "      <td>False</td>\n",
       "      <td>False</td>\n",
       "      <td>False</td>\n",
       "      <td>False</td>\n",
       "      <td>False</td>\n",
       "      <td>False</td>\n",
       "      <td>False</td>\n",
       "      <td>...</td>\n",
       "      <td>False</td>\n",
       "      <td>False</td>\n",
       "      <td>False</td>\n",
       "      <td>False</td>\n",
       "      <td>False</td>\n",
       "      <td>False</td>\n",
       "      <td>False</td>\n",
       "      <td>False</td>\n",
       "      <td>False</td>\n",
       "      <td>False</td>\n",
       "    </tr>\n",
       "    <tr>\n",
       "      <th>4</th>\n",
       "      <td>False</td>\n",
       "      <td>False</td>\n",
       "      <td>False</td>\n",
       "      <td>False</td>\n",
       "      <td>False</td>\n",
       "      <td>False</td>\n",
       "      <td>False</td>\n",
       "      <td>False</td>\n",
       "      <td>False</td>\n",
       "      <td>False</td>\n",
       "      <td>...</td>\n",
       "      <td>False</td>\n",
       "      <td>False</td>\n",
       "      <td>False</td>\n",
       "      <td>False</td>\n",
       "      <td>False</td>\n",
       "      <td>False</td>\n",
       "      <td>False</td>\n",
       "      <td>False</td>\n",
       "      <td>False</td>\n",
       "      <td>False</td>\n",
       "    </tr>\n",
       "  </tbody>\n",
       "</table>\n",
       "<p>5 rows × 35 columns</p>\n",
       "</div>"
      ],
      "text/plain": [
       "   campaign_id  send_Year  send_Month  send_Week  send_Day  send_Dayofweek  \\\n",
       "0        False      False       False      False     False           False   \n",
       "1        False      False       False      False     False           False   \n",
       "2        False      False       False      False     False           False   \n",
       "3        False      False       False      False     False           False   \n",
       "4        False      False       False      False     False           False   \n",
       "\n",
       "   send_Dayofyear  total_links  no_of_internal_links  no_of_images  \\\n",
       "0           False        False                 False         False   \n",
       "1           False        False                 False         False   \n",
       "2           False        False                 False         False   \n",
       "3           False        False                 False         False   \n",
       "4           False        False                 False         False   \n",
       "\n",
       "            ...            send_Is_year_start_False  send_Is_year_start_nan  \\\n",
       "0           ...                               False                   False   \n",
       "1           ...                               False                   False   \n",
       "2           ...                               False                   False   \n",
       "3           ...                               False                   False   \n",
       "4           ...                               False                   False   \n",
       "\n",
       "   communication_type_Conference  communication_type_Corporate  \\\n",
       "0                          False                         False   \n",
       "1                          False                         False   \n",
       "2                          False                         False   \n",
       "3                          False                         False   \n",
       "4                          False                         False   \n",
       "\n",
       "   communication_type_Hackathon  communication_type_Newsletter  \\\n",
       "0                         False                          False   \n",
       "1                         False                          False   \n",
       "2                         False                          False   \n",
       "3                         False                          False   \n",
       "4                         False                          False   \n",
       "\n",
       "   communication_type_Others  communication_type_Upcoming Events  \\\n",
       "0                      False                               False   \n",
       "1                      False                               False   \n",
       "2                      False                               False   \n",
       "3                      False                               False   \n",
       "4                      False                               False   \n",
       "\n",
       "   communication_type_Webinar  communication_type_nan  \n",
       "0                       False                   False  \n",
       "1                       False                   False  \n",
       "2                       False                   False  \n",
       "3                       False                   False  \n",
       "4                       False                   False  \n",
       "\n",
       "[5 rows x 35 columns]"
      ]
     },
     "execution_count": 139,
     "metadata": {},
     "output_type": "execute_result"
    }
   ],
   "source": [
    "df.isnull().head()"
   ]
  },
  {
   "cell_type": "code",
   "execution_count": 230,
   "metadata": {
    "ExecuteTime": {
     "end_time": "2018-03-24T13:16:17.785852Z",
     "start_time": "2018-03-24T13:16:17.635969Z"
    }
   },
   "outputs": [
    {
     "data": {
      "text/plain": [
       "RandomForestRegressor(bootstrap=True, criterion='mse', max_depth=None,\n",
       "           max_features='auto', max_leaf_nodes=None,\n",
       "           min_impurity_decrease=0.0, min_impurity_split=None,\n",
       "           min_samples_leaf=1, min_samples_split=2,\n",
       "           min_weight_fraction_leaf=0.0, n_estimators=10, n_jobs=-1,\n",
       "           oob_score=False, random_state=None, verbose=0, warm_start=False)"
      ]
     },
     "execution_count": 230,
     "metadata": {},
     "output_type": "execute_result"
    }
   ],
   "source": [
    "m"
   ]
  },
  {
   "cell_type": "code",
   "execution_count": 232,
   "metadata": {
    "ExecuteTime": {
     "end_time": "2018-03-24T13:16:59.838460Z",
     "start_time": "2018-03-24T13:16:57.981036Z"
    }
   },
   "outputs": [],
   "source": [
    "preds = m.predict(test)"
   ]
  },
  {
   "cell_type": "code",
   "execution_count": 239,
   "metadata": {
    "ExecuteTime": {
     "end_time": "2018-03-24T13:22:19.348728Z",
     "start_time": "2018-03-24T13:22:18.884277Z"
    }
   },
   "outputs": [
    {
     "data": {
      "text/plain": [
       "array([ 0.5,  0.5,  0.6, ...,  0.6,  0.6,  0.6])"
      ]
     },
     "execution_count": 239,
     "metadata": {},
     "output_type": "execute_result"
    }
   ],
   "source": [
    "preds"
   ]
  },
  {
   "cell_type": "code",
   "execution_count": 233,
   "metadata": {
    "ExecuteTime": {
     "end_time": "2018-03-24T13:17:42.131150Z",
     "start_time": "2018-03-24T13:17:41.926305Z"
    }
   },
   "outputs": [],
   "source": [
    "sample_sub['is_click'] = preds"
   ]
  },
  {
   "cell_type": "code",
   "execution_count": 234,
   "metadata": {
    "ExecuteTime": {
     "end_time": "2018-03-24T13:17:46.835247Z",
     "start_time": "2018-03-24T13:17:46.490761Z"
    },
    "scrolled": true
   },
   "outputs": [
    {
     "data": {
      "text/html": [
       "<div>\n",
       "<style>\n",
       "    .dataframe thead tr:only-child th {\n",
       "        text-align: right;\n",
       "    }\n",
       "\n",
       "    .dataframe thead th {\n",
       "        text-align: left;\n",
       "    }\n",
       "\n",
       "    .dataframe tbody tr th {\n",
       "        vertical-align: top;\n",
       "    }\n",
       "</style>\n",
       "<table border=\"1\" class=\"dataframe\">\n",
       "  <thead>\n",
       "    <tr style=\"text-align: right;\">\n",
       "      <th></th>\n",
       "      <th>id</th>\n",
       "      <th>is_click</th>\n",
       "    </tr>\n",
       "  </thead>\n",
       "  <tbody>\n",
       "    <tr>\n",
       "      <th>0</th>\n",
       "      <td>63_122715</td>\n",
       "      <td>0.5</td>\n",
       "    </tr>\n",
       "    <tr>\n",
       "      <th>1</th>\n",
       "      <td>56_76206</td>\n",
       "      <td>0.5</td>\n",
       "    </tr>\n",
       "    <tr>\n",
       "      <th>2</th>\n",
       "      <td>57_96189</td>\n",
       "      <td>0.6</td>\n",
       "    </tr>\n",
       "    <tr>\n",
       "      <th>3</th>\n",
       "      <td>56_166917</td>\n",
       "      <td>0.5</td>\n",
       "    </tr>\n",
       "    <tr>\n",
       "      <th>4</th>\n",
       "      <td>56_172838</td>\n",
       "      <td>0.5</td>\n",
       "    </tr>\n",
       "    <tr>\n",
       "      <th>5</th>\n",
       "      <td>71_50253</td>\n",
       "      <td>0.6</td>\n",
       "    </tr>\n",
       "    <tr>\n",
       "      <th>6</th>\n",
       "      <td>76_128244</td>\n",
       "      <td>0.5</td>\n",
       "    </tr>\n",
       "    <tr>\n",
       "      <th>7</th>\n",
       "      <td>74_195513</td>\n",
       "      <td>0.5</td>\n",
       "    </tr>\n",
       "    <tr>\n",
       "      <th>8</th>\n",
       "      <td>67_74617</td>\n",
       "      <td>0.5</td>\n",
       "    </tr>\n",
       "    <tr>\n",
       "      <th>9</th>\n",
       "      <td>75_140599</td>\n",
       "      <td>0.5</td>\n",
       "    </tr>\n",
       "    <tr>\n",
       "      <th>10</th>\n",
       "      <td>63_124394</td>\n",
       "      <td>0.5</td>\n",
       "    </tr>\n",
       "    <tr>\n",
       "      <th>11</th>\n",
       "      <td>63_95168</td>\n",
       "      <td>0.5</td>\n",
       "    </tr>\n",
       "    <tr>\n",
       "      <th>12</th>\n",
       "      <td>74_90706</td>\n",
       "      <td>0.6</td>\n",
       "    </tr>\n",
       "    <tr>\n",
       "      <th>13</th>\n",
       "      <td>63_31556</td>\n",
       "      <td>0.5</td>\n",
       "    </tr>\n",
       "    <tr>\n",
       "      <th>14</th>\n",
       "      <td>57_166505</td>\n",
       "      <td>0.5</td>\n",
       "    </tr>\n",
       "    <tr>\n",
       "      <th>15</th>\n",
       "      <td>64_2089</td>\n",
       "      <td>0.5</td>\n",
       "    </tr>\n",
       "    <tr>\n",
       "      <th>16</th>\n",
       "      <td>74_133849</td>\n",
       "      <td>0.5</td>\n",
       "    </tr>\n",
       "    <tr>\n",
       "      <th>17</th>\n",
       "      <td>74_7486</td>\n",
       "      <td>0.5</td>\n",
       "    </tr>\n",
       "    <tr>\n",
       "      <th>18</th>\n",
       "      <td>57_159015</td>\n",
       "      <td>0.5</td>\n",
       "    </tr>\n",
       "    <tr>\n",
       "      <th>19</th>\n",
       "      <td>64_111872</td>\n",
       "      <td>0.5</td>\n",
       "    </tr>\n",
       "    <tr>\n",
       "      <th>20</th>\n",
       "      <td>56_176763</td>\n",
       "      <td>0.5</td>\n",
       "    </tr>\n",
       "    <tr>\n",
       "      <th>21</th>\n",
       "      <td>71_8316</td>\n",
       "      <td>0.5</td>\n",
       "    </tr>\n",
       "    <tr>\n",
       "      <th>22</th>\n",
       "      <td>69_133308</td>\n",
       "      <td>0.5</td>\n",
       "    </tr>\n",
       "    <tr>\n",
       "      <th>23</th>\n",
       "      <td>74_50984</td>\n",
       "      <td>0.5</td>\n",
       "    </tr>\n",
       "    <tr>\n",
       "      <th>24</th>\n",
       "      <td>76_64692</td>\n",
       "      <td>0.5</td>\n",
       "    </tr>\n",
       "    <tr>\n",
       "      <th>25</th>\n",
       "      <td>64_184811</td>\n",
       "      <td>0.5</td>\n",
       "    </tr>\n",
       "    <tr>\n",
       "      <th>26</th>\n",
       "      <td>57_81487</td>\n",
       "      <td>0.5</td>\n",
       "    </tr>\n",
       "    <tr>\n",
       "      <th>27</th>\n",
       "      <td>57_41624</td>\n",
       "      <td>0.5</td>\n",
       "    </tr>\n",
       "    <tr>\n",
       "      <th>28</th>\n",
       "      <td>71_95059</td>\n",
       "      <td>0.5</td>\n",
       "    </tr>\n",
       "    <tr>\n",
       "      <th>29</th>\n",
       "      <td>71_25044</td>\n",
       "      <td>0.5</td>\n",
       "    </tr>\n",
       "    <tr>\n",
       "      <th>...</th>\n",
       "      <td>...</td>\n",
       "      <td>...</td>\n",
       "    </tr>\n",
       "    <tr>\n",
       "      <th>773828</th>\n",
       "      <td>56_47638</td>\n",
       "      <td>0.6</td>\n",
       "    </tr>\n",
       "    <tr>\n",
       "      <th>773829</th>\n",
       "      <td>57_199696</td>\n",
       "      <td>0.6</td>\n",
       "    </tr>\n",
       "    <tr>\n",
       "      <th>773830</th>\n",
       "      <td>56_162289</td>\n",
       "      <td>0.6</td>\n",
       "    </tr>\n",
       "    <tr>\n",
       "      <th>773831</th>\n",
       "      <td>69_145085</td>\n",
       "      <td>0.6</td>\n",
       "    </tr>\n",
       "    <tr>\n",
       "      <th>773832</th>\n",
       "      <td>74_233054</td>\n",
       "      <td>0.6</td>\n",
       "    </tr>\n",
       "    <tr>\n",
       "      <th>773833</th>\n",
       "      <td>63_42227</td>\n",
       "      <td>0.6</td>\n",
       "    </tr>\n",
       "    <tr>\n",
       "      <th>773834</th>\n",
       "      <td>74_238916</td>\n",
       "      <td>0.6</td>\n",
       "    </tr>\n",
       "    <tr>\n",
       "      <th>773835</th>\n",
       "      <td>64_67184</td>\n",
       "      <td>0.6</td>\n",
       "    </tr>\n",
       "    <tr>\n",
       "      <th>773836</th>\n",
       "      <td>63_64538</td>\n",
       "      <td>0.6</td>\n",
       "    </tr>\n",
       "    <tr>\n",
       "      <th>773837</th>\n",
       "      <td>71_83603</td>\n",
       "      <td>0.6</td>\n",
       "    </tr>\n",
       "    <tr>\n",
       "      <th>773838</th>\n",
       "      <td>57_13091</td>\n",
       "      <td>0.6</td>\n",
       "    </tr>\n",
       "    <tr>\n",
       "      <th>773839</th>\n",
       "      <td>63_216162</td>\n",
       "      <td>0.6</td>\n",
       "    </tr>\n",
       "    <tr>\n",
       "      <th>773840</th>\n",
       "      <td>63_111877</td>\n",
       "      <td>0.6</td>\n",
       "    </tr>\n",
       "    <tr>\n",
       "      <th>773841</th>\n",
       "      <td>63_163766</td>\n",
       "      <td>0.6</td>\n",
       "    </tr>\n",
       "    <tr>\n",
       "      <th>773842</th>\n",
       "      <td>74_40948</td>\n",
       "      <td>0.6</td>\n",
       "    </tr>\n",
       "    <tr>\n",
       "      <th>773843</th>\n",
       "      <td>74_59284</td>\n",
       "      <td>0.6</td>\n",
       "    </tr>\n",
       "    <tr>\n",
       "      <th>773844</th>\n",
       "      <td>64_232176</td>\n",
       "      <td>0.6</td>\n",
       "    </tr>\n",
       "    <tr>\n",
       "      <th>773845</th>\n",
       "      <td>69_65847</td>\n",
       "      <td>0.6</td>\n",
       "    </tr>\n",
       "    <tr>\n",
       "      <th>773846</th>\n",
       "      <td>76_200174</td>\n",
       "      <td>0.6</td>\n",
       "    </tr>\n",
       "    <tr>\n",
       "      <th>773847</th>\n",
       "      <td>57_191488</td>\n",
       "      <td>0.6</td>\n",
       "    </tr>\n",
       "    <tr>\n",
       "      <th>773848</th>\n",
       "      <td>69_42153</td>\n",
       "      <td>0.6</td>\n",
       "    </tr>\n",
       "    <tr>\n",
       "      <th>773849</th>\n",
       "      <td>57_127883</td>\n",
       "      <td>0.6</td>\n",
       "    </tr>\n",
       "    <tr>\n",
       "      <th>773850</th>\n",
       "      <td>55_153170</td>\n",
       "      <td>0.6</td>\n",
       "    </tr>\n",
       "    <tr>\n",
       "      <th>773851</th>\n",
       "      <td>57_4034</td>\n",
       "      <td>0.6</td>\n",
       "    </tr>\n",
       "    <tr>\n",
       "      <th>773852</th>\n",
       "      <td>74_80370</td>\n",
       "      <td>0.6</td>\n",
       "    </tr>\n",
       "    <tr>\n",
       "      <th>773853</th>\n",
       "      <td>74_202929</td>\n",
       "      <td>0.6</td>\n",
       "    </tr>\n",
       "    <tr>\n",
       "      <th>773854</th>\n",
       "      <td>56_95437</td>\n",
       "      <td>0.6</td>\n",
       "    </tr>\n",
       "    <tr>\n",
       "      <th>773855</th>\n",
       "      <td>63_11063</td>\n",
       "      <td>0.6</td>\n",
       "    </tr>\n",
       "    <tr>\n",
       "      <th>773856</th>\n",
       "      <td>72_144182</td>\n",
       "      <td>0.6</td>\n",
       "    </tr>\n",
       "    <tr>\n",
       "      <th>773857</th>\n",
       "      <td>57_226299</td>\n",
       "      <td>0.6</td>\n",
       "    </tr>\n",
       "  </tbody>\n",
       "</table>\n",
       "<p>773858 rows × 2 columns</p>\n",
       "</div>"
      ],
      "text/plain": [
       "               id  is_click\n",
       "0       63_122715       0.5\n",
       "1        56_76206       0.5\n",
       "2        57_96189       0.6\n",
       "3       56_166917       0.5\n",
       "4       56_172838       0.5\n",
       "5        71_50253       0.6\n",
       "6       76_128244       0.5\n",
       "7       74_195513       0.5\n",
       "8        67_74617       0.5\n",
       "9       75_140599       0.5\n",
       "10      63_124394       0.5\n",
       "11       63_95168       0.5\n",
       "12       74_90706       0.6\n",
       "13       63_31556       0.5\n",
       "14      57_166505       0.5\n",
       "15        64_2089       0.5\n",
       "16      74_133849       0.5\n",
       "17        74_7486       0.5\n",
       "18      57_159015       0.5\n",
       "19      64_111872       0.5\n",
       "20      56_176763       0.5\n",
       "21        71_8316       0.5\n",
       "22      69_133308       0.5\n",
       "23       74_50984       0.5\n",
       "24       76_64692       0.5\n",
       "25      64_184811       0.5\n",
       "26       57_81487       0.5\n",
       "27       57_41624       0.5\n",
       "28       71_95059       0.5\n",
       "29       71_25044       0.5\n",
       "...           ...       ...\n",
       "773828   56_47638       0.6\n",
       "773829  57_199696       0.6\n",
       "773830  56_162289       0.6\n",
       "773831  69_145085       0.6\n",
       "773832  74_233054       0.6\n",
       "773833   63_42227       0.6\n",
       "773834  74_238916       0.6\n",
       "773835   64_67184       0.6\n",
       "773836   63_64538       0.6\n",
       "773837   71_83603       0.6\n",
       "773838   57_13091       0.6\n",
       "773839  63_216162       0.6\n",
       "773840  63_111877       0.6\n",
       "773841  63_163766       0.6\n",
       "773842   74_40948       0.6\n",
       "773843   74_59284       0.6\n",
       "773844  64_232176       0.6\n",
       "773845   69_65847       0.6\n",
       "773846  76_200174       0.6\n",
       "773847  57_191488       0.6\n",
       "773848   69_42153       0.6\n",
       "773849  57_127883       0.6\n",
       "773850  55_153170       0.6\n",
       "773851    57_4034       0.6\n",
       "773852   74_80370       0.6\n",
       "773853  74_202929       0.6\n",
       "773854   56_95437       0.6\n",
       "773855   63_11063       0.6\n",
       "773856  72_144182       0.6\n",
       "773857  57_226299       0.6\n",
       "\n",
       "[773858 rows x 2 columns]"
      ]
     },
     "execution_count": 234,
     "metadata": {},
     "output_type": "execute_result"
    }
   ],
   "source": [
    "sample_sub"
   ]
  },
  {
   "cell_type": "code",
   "execution_count": 241,
   "metadata": {
    "ExecuteTime": {
     "end_time": "2018-03-24T13:22:33.498533Z",
     "start_time": "2018-03-24T13:22:33.109453Z"
    }
   },
   "outputs": [],
   "source": [
    "def make_submission(probs):\n",
    "    sample = pd.read_csv(f'{PATH}//sample_submission.csv')\n",
    "    submit = sample.copy()\n",
    "    submit['is_click'] = probs\n",
    "    return submit"
   ]
  },
  {
   "cell_type": "code",
   "execution_count": 242,
   "metadata": {
    "ExecuteTime": {
     "end_time": "2018-03-24T13:22:34.550656Z",
     "start_time": "2018-03-24T13:22:33.498533Z"
    }
   },
   "outputs": [],
   "source": [
    "submit = make_submission(preds)"
   ]
  },
  {
   "cell_type": "code",
   "execution_count": 243,
   "metadata": {
    "ExecuteTime": {
     "end_time": "2018-03-24T13:22:39.088857Z",
     "start_time": "2018-03-24T13:22:38.909449Z"
    }
   },
   "outputs": [
    {
     "data": {
      "text/html": [
       "<div>\n",
       "<style>\n",
       "    .dataframe thead tr:only-child th {\n",
       "        text-align: right;\n",
       "    }\n",
       "\n",
       "    .dataframe thead th {\n",
       "        text-align: left;\n",
       "    }\n",
       "\n",
       "    .dataframe tbody tr th {\n",
       "        vertical-align: top;\n",
       "    }\n",
       "</style>\n",
       "<table border=\"1\" class=\"dataframe\">\n",
       "  <thead>\n",
       "    <tr style=\"text-align: right;\">\n",
       "      <th></th>\n",
       "      <th>id</th>\n",
       "      <th>is_click</th>\n",
       "    </tr>\n",
       "  </thead>\n",
       "  <tbody>\n",
       "    <tr>\n",
       "      <th>0</th>\n",
       "      <td>63_122715</td>\n",
       "      <td>0.5</td>\n",
       "    </tr>\n",
       "    <tr>\n",
       "      <th>1</th>\n",
       "      <td>56_76206</td>\n",
       "      <td>0.5</td>\n",
       "    </tr>\n",
       "  </tbody>\n",
       "</table>\n",
       "</div>"
      ],
      "text/plain": [
       "          id  is_click\n",
       "0  63_122715       0.5\n",
       "1   56_76206       0.5"
      ]
     },
     "execution_count": 243,
     "metadata": {},
     "output_type": "execute_result"
    }
   ],
   "source": [
    "submit.head(2)"
   ]
  },
  {
   "cell_type": "code",
   "execution_count": 244,
   "metadata": {
    "ExecuteTime": {
     "end_time": "2018-03-24T13:23:12.233329Z",
     "start_time": "2018-03-24T13:23:09.634932Z"
    }
   },
   "outputs": [],
   "source": [
    "submit.to_csv(PATH + '//av_cat_2.csv', index=False)"
   ]
  },
  {
   "cell_type": "code",
   "execution_count": null,
   "metadata": {},
   "outputs": [],
   "source": []
  }
 ],
 "metadata": {
  "kernelspec": {
   "display_name": "Python 3",
   "language": "python",
   "name": "python3"
  },
  "language_info": {
   "codemirror_mode": {
    "name": "ipython",
    "version": 3
   },
   "file_extension": ".py",
   "mimetype": "text/x-python",
   "name": "python",
   "nbconvert_exporter": "python",
   "pygments_lexer": "ipython3",
   "version": "3.6.3"
  },
  "nbTranslate": {
   "displayLangs": [
    "*"
   ],
   "hotkey": "alt-t",
   "langInMainMenu": true,
   "sourceLang": "en",
   "targetLang": "fr",
   "useGoogleTranslate": true
  }
 },
 "nbformat": 4,
 "nbformat_minor": 2
}
